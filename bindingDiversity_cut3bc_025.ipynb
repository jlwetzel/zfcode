{
 "metadata": {
  "name": "bindingDiversity_cut3bc_025"
 },
 "nbformat": 3,
 "nbformat_minor": 0,
 "worksheets": [
  {
   "cells": [
    {
     "cell_type": "code",
     "collapsed": false,
     "input": [
      "from gatherBindStats import *\n",
      "from itertools import product\n",
      "maxSize6 = 20**6\n",
      "maxSize4 = 20**4"
     ],
     "language": "python",
     "metadata": {},
     "outputs": [],
     "prompt_number": 1
    },
    {
     "cell_type": "code",
     "collapsed": false,
     "input": [
      "# Get the protein sets from the binding data.\n",
      "\n",
      "nucs = ['A', 'C', 'G', 'T']\n",
      "aminos = ['A', 'C', 'D', 'E', 'F', 'G', 'I', 'H', 'K', 'L', \n",
      "\t      'M', 'N', 'P', 'Q', 'R', 'S', 'T', 'V', 'W', 'Y']\n",
      "\n",
      "# Get the set of all possible canonical proteins\n",
      "allProts4 = []\n",
      "for i in product(aminos, aminos, aminos, aminos):\n",
      "    allProts4.append(''.join(i))\n",
      "allProts4 = set(allProts4)\n",
      "\n",
      "# Get the dictionary of binding sets indexed by finger and stringency\n",
      "pathPref = '../data/b1hdata/newDatabase/6varpos'\n",
      "proteinDir = 'protein_seq_cut3bc_025'\n",
      "fings = ['F1', 'F2', 'F3']\n",
      "strins = ['high', 'low']\n",
      "bindingSets6 = {}\n",
      "bindingSets4 = {}\n",
      "for f in fings:\n",
      "    for s in strins:\n",
      "        bindingSets6[f,s] = getProtSet('/'.join([pathPref,f,s,proteinDir,'all.txt']), \n",
      "                                       range(6))\n",
      "        bindingSets4[f,s] = getProtSet('/'.join([pathPref,f,s,proteinDir,'all.txt']),\n",
      "                                       [0,2,3,5])"
     ],
     "language": "python",
     "metadata": {},
     "outputs": [],
     "prompt_number": 2
    },
    {
     "cell_type": "heading",
     "level": 2,
     "metadata": {},
     "source": [
      "6 Var Positions"
     ]
    },
    {
     "cell_type": "code",
     "collapsed": false,
     "input": [
      "printBindingSetStats(fings, strins, bindingSets6, maxSize6)"
     ],
     "language": "python",
     "metadata": {},
     "outputs": [
      {
       "output_type": "stream",
       "stream": "stdout",
       "text": [
        "Max Size for 6 positions: 64000000\n",
        "################################################################\n",
        "Size of F1 high: 7941\n",
        "Size of F1 low: 22914\n",
        "Size of F2 high: 16951\n",
        "Size of F2 low: 59692\n",
        "Size of F3 high: 13326\n",
        "Size of F3 low: 53469\n",
        "\n",
        "Is high a subset of low? (|High - Low|/|High|)\n",
        "################################################################\n",
        "F1: 0.228\n",
        "F2: 0.094\n",
        "F3: 0.224\n",
        "\n",
        "Combining Fingers\n",
        "################################################################\n",
        "F1 F2 Intersection (high): 912\n",
        "F1 F2 Union (high)       : 23980\n",
        "F1 F2 Jaccard (high)     : 0.038\n",
        "\n",
        "F1 F2 Intersection (low): 3647"
       ]
      },
      {
       "output_type": "stream",
       "stream": "stdout",
       "text": [
        "\n",
        "F1 F2 Union (low)       : 78959\n",
        "F1 F2 Jaccard (low)     : 0.046\n",
        "\n",
        "F1 F3 Intersection (high): 120\n",
        "F1 F3 Union (high)       : 21147\n",
        "F1 F3 Jaccard (high)     : 0.006\n",
        "\n",
        "F1 F3 Intersection (low): 1161"
       ]
      },
      {
       "output_type": "stream",
       "stream": "stdout",
       "text": [
        "\n",
        "F1 F3 Union (low)       : 75222\n",
        "F1 F3 Jaccard (low)     : 0.015\n",
        "\n",
        "F2 F3 Intersection (high): 1956\n",
        "F2 F3 Union (high)       : 28321\n",
        "F2 F3 Jaccard (high)     : 0.069\n",
        "\n",
        "F2 F3 Intersection (low): 9426"
       ]
      },
      {
       "output_type": "stream",
       "stream": "stdout",
       "text": [
        "\n",
        "F2 F3 Union (low)       : 103735\n",
        "F2 F3 Jaccard (low)     : 0.091\n",
        "\n",
        "All Intersection (high): 45"
       ]
      },
      {
       "output_type": "stream",
       "stream": "stdout",
       "text": [
        "\n",
        "All Union (high): 35275\n",
        "All Intersection (low): 571"
       ]
      },
      {
       "output_type": "stream",
       "stream": "stdout",
       "text": [
        "\n",
        "All Union (low): 122412\n",
        "\n",
        "Combining Stringencies\n",
        "################################################################\n",
        "All of F1 Intersection: 6130\n",
        "All of F1 Union       : 24725\n",
        "All of F2 Intersection: 15363\n",
        "All of F2 Union       : 61280\n",
        "All of F3 Intersection: 10345"
       ]
      },
      {
       "output_type": "stream",
       "stream": "stdout",
       "text": [
        "\n",
        "All of F3 Union       : 56450\n",
        "\n",
        "Unioning the intersections\n",
        "All of F1 and F2: 20708\n",
        "All of F1 and F3: 16385\n",
        "All of F2 and F3: 24051\n",
        "All of F1 F2 F3 : 29338\n",
        "\n",
        "Intersecting the unions\n",
        "All of F1 and F2: 3936\n",
        "All of F1 and F3: 1274\n",
        "All of F2 and F3: 10236"
       ]
      },
      {
       "output_type": "stream",
       "stream": "stdout",
       "text": [
        "\n",
        "All of F1 F2 F3 : 649\n",
        "\n",
        "Unioning the unions\n",
        "All of F1 and F2: 82069\n",
        "All of F1 and F3: 79901\n",
        "All of F2 and F3: 107494"
       ]
      },
      {
       "output_type": "stream",
       "stream": "stdout",
       "text": [
        "\n",
        "All of F1 F2 F3 : 127658"
       ]
      },
      {
       "output_type": "stream",
       "stream": "stdout",
       "text": [
        "\n"
       ]
      }
     ],
     "prompt_number": 3
    },
    {
     "cell_type": "heading",
     "level": 2,
     "metadata": {},
     "source": [
      "4 Var Pos (-1, 2, 3, 6) -- Canonical"
     ]
    },
    {
     "cell_type": "code",
     "collapsed": false,
     "input": [
      "bothStrinsUnion = printBindingSetStats(fings, strins, bindingSets4, maxSize4, allProts4)"
     ],
     "language": "python",
     "metadata": {},
     "outputs": [
      {
       "output_type": "stream",
       "stream": "stdout",
       "text": [
        "Max Size for 4 positions: 160000\n",
        "################################################################\n",
        "Size of F1 high: 1507\n",
        "Size of F1 low: 3895\n",
        "Size of F2 high: 1582\n",
        "Size of F2 low: 3789\n",
        "Size of F3 high: 1537\n",
        "Size of F3 low: 4178\n",
        "\n",
        "Is high a subset of low? (|High - Low|/|High|)\n",
        "################################################################\n",
        "F1: 0.212\n",
        "F2: 0.157\n",
        "F3: 0.150\n",
        "\n",
        "Combining Fingers\n",
        "################################################################\n",
        "F1 F2 Intersection (high): 310\n",
        "F1 F2 Union (high)       : 2779\n",
        "F1 F2 Jaccard (high)     : 0.112\n",
        "\n",
        "F1 F2 Intersection (low): 973\n",
        "F1 F2 Union (low)       : 6711\n",
        "F1 F2 Jaccard (low)     : 0.145\n",
        "\n",
        "F1 F3 Intersection (high): 170\n",
        "F1 F3 Union (high)       : 2874\n",
        "F1 F3 Jaccard (high)     : 0.059\n",
        "\n",
        "F1 F3 Intersection (low): 658\n",
        "F1 F3 Union (low)       : 7415\n",
        "F1 F3 Jaccard (low)     : 0.089\n",
        "\n",
        "F2 F3 Intersection (high): 350\n",
        "F2 F3 Union (high)       : 2769\n",
        "F2 F3 Jaccard (high)     : 0.126\n",
        "\n",
        "F2 F3 Intersection (low): 1297\n",
        "F2 F3 Union (low)       : 6670\n",
        "F2 F3 Jaccard (low)     : 0.194\n",
        "\n",
        "All Intersection (high): 102\n",
        "All Union (high): 3898\n",
        "All Intersection (low): 452\n",
        "All Union (low): 9386\n",
        "\n",
        "Combining Stringencies\n",
        "################################################################\n",
        "All of F1 Intersection: 1188\n",
        "All of F1 Union       : 4214\n",
        "All of F2 Intersection: 1334\n",
        "All of F2 Union       : 4037\n",
        "All of F3 Intersection: 1307\n",
        "All of F3 Union       : 4408\n",
        "\n",
        "Unioning the intersections\n",
        "All of F1 and F2: 2233\n",
        "All of F1 and F3: 2337\n",
        "All of F2 and F3: 2309\n",
        "All of F1 F2 F3 : 3146\n",
        "\n",
        "Intersecting the unions\n",
        "All of F1 and F2: 1020\n",
        "All of F1 and F3: 687\n",
        "All of F2 and F3: 1327\n",
        "All of F1 F2 F3 : 469\n",
        "\n",
        "Unioning the unions\n",
        "All of F1 and F2: 7231\n",
        "All of F1 and F3: 7935\n",
        "All of F2 and F3: 7118\n",
        "All of F1 F2 F3 : 10094\n",
        "\n",
        "How helpful are nearest neighbors for coverage? (-1, 3, 6)\n",
        "################################################################\n",
        "Missing from F1 (high)  : 158493"
       ]
      },
      {
       "output_type": "stream",
       "stream": "stdout",
       "text": [
        "\n",
        "Have neighbors F1 (high): 38204\n",
        "Total coverage F1 high (including neighbors): 39711\n",
        "Missing from F1 (low)  : 156105"
       ]
      },
      {
       "output_type": "stream",
       "stream": "stdout",
       "text": [
        "\n",
        "Have neighbors F1 (low): 62989\n",
        "Total coverage F1 low (including neighbors): 66884\n",
        "Missing from F2 (high)  : 158418"
       ]
      },
      {
       "output_type": "stream",
       "stream": "stdout",
       "text": [
        "\n",
        "Have neighbors F2 (high): 34852\n",
        "Total coverage F2 high (including neighbors): 36434\n",
        "Missing from F2 (low)  : 156211"
       ]
      },
      {
       "output_type": "stream",
       "stream": "stdout",
       "text": [
        "\n",
        "Have neighbors F2 (low): 59212\n",
        "Total coverage F2 low (including neighbors): 63001\n",
        "Missing from F3 (high)  : 158463"
       ]
      },
      {
       "output_type": "stream",
       "stream": "stdout",
       "text": [
        "\n",
        "Have neighbors F3 (high): 36308\n",
        "Total coverage F3 high (including neighbors): 37845\n",
        "Missing from F3 (low)  : 155822"
       ]
      },
      {
       "output_type": "stream",
       "stream": "stdout",
       "text": [
        "\n",
        "Have neighbors F3 (low): 63611\n",
        "Total coverage F3 low (including neighbors): 67789\n",
        "\n",
        "UNIONING HIGH AND LOW STRINGENCIES\n",
        "Missing from F1: 155786"
       ]
      },
      {
       "output_type": "stream",
       "stream": "stdout",
       "text": [
        "\n",
        "Have neighbors F1: 68949\n",
        "Total coverage F1 (including neighbors): 73163\n",
        "Missing from F2: 155963"
       ]
      },
      {
       "output_type": "stream",
       "stream": "stdout",
       "text": [
        "\n",
        "Have neighbors F2: 62823\n",
        "Total coverage F2 (including neighbors): 66860\n",
        "Missing from F3: 155592"
       ]
      },
      {
       "output_type": "stream",
       "stream": "stdout",
       "text": [
        "\n",
        "Have neighbors F3: 68491\n",
        "Total coverage F3 (including neighbors): 72899\n"
       ]
      }
     ],
     "prompt_number": 4
    },
    {
     "cell_type": "heading",
     "level": 2,
     "metadata": {},
     "source": [
      "Overlap with Human and Fly ZFs (ala HMMer + REGEX) -- Canonical Positions"
     ]
    },
    {
     "cell_type": "code",
     "collapsed": false,
     "input": [
      "dmelSet = getUniqueShilpaZFs('../data/shilpa/Drosophila_melanogaster_ZF.fulldom', [0, 2, 3, 6])\n",
      "hsapSet = getUniqueShilpaZFs('../data/shilpa/Homo_sapiens_ZF.fulldom', [0, 2, 3, 6])\n",
      "\n",
      "compareToNatural(bindingSets4, hsapSet, 'Human', fings, strins, bothStrinsUnion)\n",
      "compareToNatural(bindingSets4, dmelSet, 'Fly', fings, strins, bothStrinsUnion)"
     ],
     "language": "python",
     "metadata": {},
     "outputs": [
      {
       "output_type": "stream",
       "stream": "stdout",
       "text": [
        "\n",
        "Fraction of Human ZFs (-1,2,3,6) Captured: (3640 possible)\n",
        "################################################################\n",
        "F1 high: 0.061\n",
        "F1 low: 0.124\n",
        "F2 high: 0.067\n",
        "F2 low: 0.140\n",
        "F3 high: 0.060\n",
        "F3 low: 0.135\n",
        "\n",
        "F1 F2 Intersection (high): 0.026\n",
        "F1 F2 Union (high)       : 0.102\n",
        "F1 F2 Intersection (low): 0.062\n",
        "F1 F2 Union (low)       : 0.202\n",
        "F1 F3 Intersection (high): 0.015\n",
        "F1 F3 Union (high)       : 0.105\n",
        "F1 F3 Intersection (low): 0.047\n",
        "F1 F3 Union (low)       : 0.212\n",
        "F2 F3 Intersection (high): 0.027\n",
        "F2 F3 Union (high)       : 0.100\n",
        "F2 F3 Intersection (low): 0.075\n",
        "F2 F3 Union (low)       : 0.200\n",
        "\n",
        "All Intersection (high): 0.011\n",
        "All Union (high): 0.131\n",
        "All Intersection (low): 0.038\n",
        "All Union (low): 0.253\n",
        "\n",
        "UNIONING HIGH AND LOW STRINGENCIES:\n",
        "All of F1: 0.129\n",
        "All of F2: 0.144\n",
        "All of F3: 0.137\n",
        "All of F1 and F2: 0.209\n",
        "All of F1 and F3: 0.218\n",
        "All of F2 and F3: 0.205\n",
        "All of F1, F2, and F3: 0.260\n",
        "\n",
        "Fraction of Fly ZFs (-1,2,3,6) Captured: (1595 possible)\n",
        "################################################################\n",
        "F1 high: 0.054\n",
        "F1 low: 0.102\n",
        "F2 high: 0.067\n",
        "F2 low: 0.118\n",
        "F3 high: 0.057\n",
        "F3 low: 0.125\n",
        "\n",
        "F1 F2 Intersection (high): 0.029\n",
        "F1 F2 Union (high)       : 0.092\n",
        "F1 F2 Intersection (low): 0.056\n",
        "F1 F2 Union (low)       : 0.164\n",
        "F1 F3 Intersection (high): 0.016\n",
        "F1 F3 Union (high)       : 0.095\n",
        "F1 F3 Intersection (low): 0.048\n",
        "F1 F3 Union (low)       : 0.179\n",
        "F2 F3 Intersection (high): 0.026\n",
        "F2 F3 Union (high)       : 0.098\n",
        "F2 F3 Intersection (low): 0.066\n",
        "F2 F3 Union (low)       : 0.177\n",
        "\n",
        "All Intersection (high): 0.011\n",
        "All Union (high): 0.117\n",
        "All Intersection (low): 0.037\n",
        "All Union (low): 0.212\n",
        "\n",
        "UNIONING HIGH AND LOW STRINGENCIES:\n",
        "All of F1: 0.104\n",
        "All of F2: 0.123\n",
        "All of F3: 0.126\n",
        "All of F1 and F2: 0.169\n",
        "All of F1 and F3: 0.181\n",
        "All of F2 and F3: 0.182\n",
        "All of F1, F2, and F3: 0.218\n"
       ]
      }
     ],
     "prompt_number": 5
    },
    {
     "cell_type": "code",
     "collapsed": false,
     "input": [
      "\n"
     ],
     "language": "python",
     "metadata": {},
     "outputs": [],
     "prompt_number": 5
    }
   ],
   "metadata": {}
  }
 ]
}