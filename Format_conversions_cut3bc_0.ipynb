{
 "metadata": {
  "name": "Format_conversions_cut3bc_0"
 },
 "nbformat": 3,
 "nbformat_minor": 0,
 "worksheets": [
  {
   "cells": [
    {
     "cell_type": "code",
     "collapsed": false,
     "input": [
      "from changeFormats import targetFiles2singleCSV, csv2txtFile\n",
      "\n"
     ],
     "language": "python",
     "metadata": {},
     "outputs": [],
     "prompt_number": 1
    },
    {
     "cell_type": "code",
     "collapsed": false,
     "input": [
      "prefix = '../data/b1hData/newDatabase/6varpos/'\n",
      "numVarPos = 6\n",
      "fings = ['F1', 'F2', 'F3']\n",
      "strins = ['high', 'low']\n",
      "for fing in fings:\n",
      "    for strin in strins:\n",
      "        path = prefix + fing + '/' + strin + '/' + 'protein_seq_cut3bc_0/'\n",
      "        targetFiles2singleCSV(path, numVarPos, '.txt')\n",
      "        csv2txtFile(path, numVarPos)\n",
      "        print"
     ],
     "language": "python",
     "metadata": {},
     "outputs": [
      {
       "output_type": "stream",
       "stream": "stdout",
       "text": [
        "Num proteins in ../data/b1hData/newDatabase/6varpos/F1/high/protein_seq_cut3bc_0/AAA.txt:  887\n",
        "Num proteins in ../data/b1hData/newDatabase/6varpos/F1/high/protein_seq_cut3bc_0/AAC.txt:  787\n",
        "Num proteins in ../data/b1hData/newDatabase/6varpos/F1/high/protein_seq_cut3bc_0/AAG.txt:  857\n",
        "Num proteins in ../data/b1hData/newDatabase/6varpos/F1/high/protein_seq_cut3bc_0/AAT.txt:  664\n",
        "Num proteins in ../data/b1hData/newDatabase/6varpos/F1/high/protein_seq_cut3bc_0/ACA.txt:  1080"
       ]
      },
      {
       "output_type": "stream",
       "stream": "stdout",
       "text": [
        "\n",
        "Num proteins in ../data/b1hData/newDatabase/6varpos/F1/high/protein_seq_cut3bc_0/ACC.txt:  1262\n",
        "Num proteins in ../data/b1hData/newDatabase/6varpos/F1/high/protein_seq_cut3bc_0/ACG.txt:  1431\n",
        "Num proteins in ../data/b1hData/newDatabase/6varpos/F1/high/protein_seq_cut3bc_0/ACT.txt:  1247"
       ]
      },
      {
       "output_type": "stream",
       "stream": "stdout",
       "text": [
        "\n",
        "Num proteins in ../data/b1hData/newDatabase/6varpos/F1/high/protein_seq_cut3bc_0/AGA.txt:  849\n",
        "Num proteins in ../data/b1hData/newDatabase/6varpos/F1/high/protein_seq_cut3bc_0/AGC.txt:  707\n",
        "Num proteins in ../data/b1hData/newDatabase/6varpos/F1/high/protein_seq_cut3bc_0/AGG.txt:  2474"
       ]
      },
      {
       "output_type": "stream",
       "stream": "stdout",
       "text": [
        "\n",
        "Num proteins in ../data/b1hData/newDatabase/6varpos/F1/high/protein_seq_cut3bc_0/AGT.txt:  4245\n",
        "Num proteins in ../data/b1hData/newDatabase/6varpos/F1/high/protein_seq_cut3bc_0/ATA.txt:  1672"
       ]
      },
      {
       "output_type": "stream",
       "stream": "stdout",
       "text": [
        "\n",
        "Num proteins in ../data/b1hData/newDatabase/6varpos/F1/high/protein_seq_cut3bc_0/ATC.txt:  1841\n",
        "Num proteins in ../data/b1hData/newDatabase/6varpos/F1/high/protein_seq_cut3bc_0/ATG.txt:  1990"
       ]
      },
      {
       "output_type": "stream",
       "stream": "stdout",
       "text": [
        "\n",
        "Num proteins in ../data/b1hData/newDatabase/6varpos/F1/high/protein_seq_cut3bc_0/ATT.txt:  1140\n",
        "Num proteins in ../data/b1hData/newDatabase/6varpos/F1/high/protein_seq_cut3bc_0/CAA.txt:  950\n",
        "Num proteins in ../data/b1hData/newDatabase/6varpos/F1/high/protein_seq_cut3bc_0/CAC.txt:  964"
       ]
      },
      {
       "output_type": "stream",
       "stream": "stdout",
       "text": [
        "\n",
        "Num proteins in ../data/b1hData/newDatabase/6varpos/F1/high/protein_seq_cut3bc_0/CAG.txt:  1836\n",
        "Num proteins in ../data/b1hData/newDatabase/6varpos/F1/high/protein_seq_cut3bc_0/CAT.txt:  2303"
       ]
      },
      {
       "output_type": "stream",
       "stream": "stdout",
       "text": [
        "\n",
        "Num proteins in ../data/b1hData/newDatabase/6varpos/F1/high/protein_seq_cut3bc_0/CCA.txt:  3369"
       ]
      },
      {
       "output_type": "stream",
       "stream": "stdout",
       "text": [
        "\n",
        "Num proteins in ../data/b1hData/newDatabase/6varpos/F1/high/protein_seq_cut3bc_0/CCC.txt:  1804\n",
        "Num proteins in ../data/b1hData/newDatabase/6varpos/F1/high/protein_seq_cut3bc_0/CCG.txt:  1796"
       ]
      },
      {
       "output_type": "stream",
       "stream": "stdout",
       "text": [
        "\n",
        "Num proteins in ../data/b1hData/newDatabase/6varpos/F1/high/protein_seq_cut3bc_0/CCT.txt:  2014\n",
        "Num proteins in ../data/b1hData/newDatabase/6varpos/F1/high/protein_seq_cut3bc_0/CGA.txt:  1948\n",
        "Num proteins in ../data/b1hData/newDatabase/6varpos/F1/high/protein_seq_cut3bc_0/CGC.txt:  1644"
       ]
      },
      {
       "output_type": "stream",
       "stream": "stdout",
       "text": [
        "\n",
        "Num proteins in ../data/b1hData/newDatabase/6varpos/F1/high/protein_seq_cut3bc_0/CGG.txt:  2768"
       ]
      },
      {
       "output_type": "stream",
       "stream": "stdout",
       "text": [
        "\n",
        "Num proteins in ../data/b1hData/newDatabase/6varpos/F1/high/protein_seq_cut3bc_0/CGT.txt:  19899"
       ]
      },
      {
       "output_type": "stream",
       "stream": "stdout",
       "text": [
        "\n",
        "Num proteins in ../data/b1hData/newDatabase/6varpos/F1/high/protein_seq_cut3bc_0/CTA.txt:  21179"
       ]
      },
      {
       "output_type": "stream",
       "stream": "stdout",
       "text": [
        "\n",
        "Num proteins in ../data/b1hData/newDatabase/6varpos/F1/high/protein_seq_cut3bc_0/CTC.txt:  1663\n",
        "Num proteins in ../data/b1hData/newDatabase/6varpos/F1/high/protein_seq_cut3bc_0/CTG.txt:  1079\n",
        "Num proteins in ../data/b1hData/newDatabase/6varpos/F1/high/protein_seq_cut3bc_0/CTT.txt:  2377"
       ]
      },
      {
       "output_type": "stream",
       "stream": "stdout",
       "text": [
        "\n",
        "Num proteins in ../data/b1hData/newDatabase/6varpos/F1/high/protein_seq_cut3bc_0/GAA.txt:  1977\n",
        "Num proteins in ../data/b1hData/newDatabase/6varpos/F1/high/protein_seq_cut3bc_0/GAC.txt:  21090"
       ]
      },
      {
       "output_type": "stream",
       "stream": "stdout",
       "text": [
        "\n",
        "Num proteins in ../data/b1hData/newDatabase/6varpos/F1/high/protein_seq_cut3bc_0/GAG.txt:  1615\n",
        "Num proteins in ../data/b1hData/newDatabase/6varpos/F1/high/protein_seq_cut3bc_0/GAT.txt:  18224"
       ]
      },
      {
       "output_type": "stream",
       "stream": "stdout",
       "text": [
        "\n",
        "Num proteins in ../data/b1hData/newDatabase/6varpos/F1/high/protein_seq_cut3bc_0/GCA.txt:  1667\n",
        "Num proteins in ../data/b1hData/newDatabase/6varpos/F1/high/protein_seq_cut3bc_0/GCC.txt:  770\n",
        "Num proteins in ../data/b1hData/newDatabase/6varpos/F1/high/protein_seq_cut3bc_0/GCG.txt:  800"
       ]
      },
      {
       "output_type": "stream",
       "stream": "stdout",
       "text": [
        "\n",
        "Num proteins in ../data/b1hData/newDatabase/6varpos/F1/high/protein_seq_cut3bc_0/GCT.txt:  2399\n",
        "Num proteins in ../data/b1hData/newDatabase/6varpos/F1/high/protein_seq_cut3bc_0/GGA.txt:  1125\n",
        "Num proteins in ../data/b1hData/newDatabase/6varpos/F1/high/protein_seq_cut3bc_0/GGC.txt:  1994"
       ]
      },
      {
       "output_type": "stream",
       "stream": "stdout",
       "text": [
        "\n",
        "Num proteins in ../data/b1hData/newDatabase/6varpos/F1/high/protein_seq_cut3bc_0/GGG.txt:  1944\n",
        "Num proteins in ../data/b1hData/newDatabase/6varpos/F1/high/protein_seq_cut3bc_0/GGT.txt:  1970"
       ]
      },
      {
       "output_type": "stream",
       "stream": "stdout",
       "text": [
        "\n",
        "Num proteins in ../data/b1hData/newDatabase/6varpos/F1/high/protein_seq_cut3bc_0/GTA.txt:  1607\n",
        "Num proteins in ../data/b1hData/newDatabase/6varpos/F1/high/protein_seq_cut3bc_0/GTC.txt:  743\n",
        "Num proteins in ../data/b1hData/newDatabase/6varpos/F1/high/protein_seq_cut3bc_0/GTG.txt:  2274\n",
        "Num proteins in ../data/b1hData/newDatabase/6varpos/F1/high/protein_seq_cut3bc_0/GTT.txt:  766"
       ]
      },
      {
       "output_type": "stream",
       "stream": "stdout",
       "text": [
        "\n",
        "Num proteins in ../data/b1hData/newDatabase/6varpos/F1/high/protein_seq_cut3bc_0/TAA.txt:  1163\n",
        "Num proteins in ../data/b1hData/newDatabase/6varpos/F1/high/protein_seq_cut3bc_0/TAC.txt:  18423"
       ]
      },
      {
       "output_type": "stream",
       "stream": "stdout",
       "text": [
        "\n",
        "Num proteins in ../data/b1hData/newDatabase/6varpos/F1/high/protein_seq_cut3bc_0/TAG.txt:  408\n",
        "Num proteins in ../data/b1hData/newDatabase/6varpos/F1/high/protein_seq_cut3bc_0/TAT.txt:  8453"
       ]
      },
      {
       "output_type": "stream",
       "stream": "stdout",
       "text": [
        "\n",
        "Num proteins in ../data/b1hData/newDatabase/6varpos/F1/high/protein_seq_cut3bc_0/TCA.txt:  2162"
       ]
      },
      {
       "output_type": "stream",
       "stream": "stdout",
       "text": [
        "\n",
        "Num proteins in ../data/b1hData/newDatabase/6varpos/F1/high/protein_seq_cut3bc_0/TCC.txt:  718\n",
        "Num proteins in ../data/b1hData/newDatabase/6varpos/F1/high/protein_seq_cut3bc_0/TCG.txt:  1003\n",
        "Num proteins in ../data/b1hData/newDatabase/6varpos/F1/high/protein_seq_cut3bc_0/TCT.txt:  1541\n",
        "Num proteins in ../data/b1hData/newDatabase/6varpos/F1/high/protein_seq_cut3bc_0/TGA.txt:  1688"
       ]
      },
      {
       "output_type": "stream",
       "stream": "stdout",
       "text": [
        "\n",
        "Num proteins in ../data/b1hData/newDatabase/6varpos/F1/high/protein_seq_cut3bc_0/TGC.txt:  1598\n",
        "Num proteins in ../data/b1hData/newDatabase/6varpos/F1/high/protein_seq_cut3bc_0/TGG.txt:  1204\n",
        "Num proteins in ../data/b1hData/newDatabase/6varpos/F1/high/protein_seq_cut3bc_0/TGT.txt:  2132"
       ]
      },
      {
       "output_type": "stream",
       "stream": "stdout",
       "text": [
        "\n",
        "Num proteins in ../data/b1hData/newDatabase/6varpos/F1/high/protein_seq_cut3bc_0/TTA.txt:  2149\n",
        "Num proteins in ../data/b1hData/newDatabase/6varpos/F1/high/protein_seq_cut3bc_0/TTC.txt:  2019"
       ]
      },
      {
       "output_type": "stream",
       "stream": "stdout",
       "text": [
        "\n",
        "Num proteins in ../data/b1hData/newDatabase/6varpos/F1/high/protein_seq_cut3bc_0/TTG.txt:  1861\n",
        "Num proteins in ../data/b1hData/newDatabase/6varpos/F1/high/protein_seq_cut3bc_0/TTT.txt:  1630"
       ]
      },
      {
       "output_type": "stream",
       "stream": "stdout",
       "text": [
        "\n",
        "Total num protein/dna observations in all files:  199843\n",
        "Total num unique proteins in all files:  178707\n",
        "\n",
        "Num obs processed in csv to txt conversion:  199843"
       ]
      },
      {
       "output_type": "stream",
       "stream": "stdout",
       "text": [
        "\n",
        "\n",
        "Num proteins in ../data/b1hData/newDatabase/6varpos/F1/low/protein_seq_cut3bc_0/AAA.txt:  524\n",
        "Num proteins in ../data/b1hData/newDatabase/6varpos/F1/low/protein_seq_cut3bc_0/AAC.txt:  577\n",
        "Num proteins in ../data/b1hData/newDatabase/6varpos/F1/low/protein_seq_cut3bc_0/AAG.txt:  3763"
       ]
      },
      {
       "output_type": "stream",
       "stream": "stdout",
       "text": [
        "\n",
        "Num proteins in ../data/b1hData/newDatabase/6varpos/F1/low/protein_seq_cut3bc_0/AAT.txt:  645\n",
        "Num proteins in ../data/b1hData/newDatabase/6varpos/F1/low/protein_seq_cut3bc_0/ACA.txt:  2669"
       ]
      },
      {
       "output_type": "stream",
       "stream": "stdout",
       "text": [
        "\n",
        "Num proteins in ../data/b1hData/newDatabase/6varpos/F1/low/protein_seq_cut3bc_0/ACC.txt:  1405\n",
        "Num proteins in ../data/b1hData/newDatabase/6varpos/F1/low/protein_seq_cut3bc_0/ACG.txt:  4776"
       ]
      },
      {
       "output_type": "stream",
       "stream": "stdout",
       "text": [
        "\n",
        "Num proteins in ../data/b1hData/newDatabase/6varpos/F1/low/protein_seq_cut3bc_0/ACT.txt:  837\n",
        "Num proteins in ../data/b1hData/newDatabase/6varpos/F1/low/protein_seq_cut3bc_0/AGA.txt:  1939\n",
        "Num proteins in ../data/b1hData/newDatabase/6varpos/F1/low/protein_seq_cut3bc_0/AGC.txt:  1856"
       ]
      },
      {
       "output_type": "stream",
       "stream": "stdout",
       "text": [
        "\n",
        "Num proteins in ../data/b1hData/newDatabase/6varpos/F1/low/protein_seq_cut3bc_0/AGG.txt:  3741"
       ]
      },
      {
       "output_type": "stream",
       "stream": "stdout",
       "text": [
        "\n",
        "Num proteins in ../data/b1hData/newDatabase/6varpos/F1/low/protein_seq_cut3bc_0/AGT.txt:  15751"
       ]
      },
      {
       "output_type": "stream",
       "stream": "stdout",
       "text": [
        "\n",
        "Num proteins in ../data/b1hData/newDatabase/6varpos/F1/low/protein_seq_cut3bc_0/ATA.txt:  2614\n",
        "Num proteins in ../data/b1hData/newDatabase/6varpos/F1/low/protein_seq_cut3bc_0/ATC.txt:  3191"
       ]
      },
      {
       "output_type": "stream",
       "stream": "stdout",
       "text": [
        "\n",
        "Num proteins in ../data/b1hData/newDatabase/6varpos/F1/low/protein_seq_cut3bc_0/ATG.txt:  3568"
       ]
      },
      {
       "output_type": "stream",
       "stream": "stdout",
       "text": [
        "\n",
        "Num proteins in ../data/b1hData/newDatabase/6varpos/F1/low/protein_seq_cut3bc_0/ATT.txt:  1518\n",
        "Num proteins in ../data/b1hData/newDatabase/6varpos/F1/low/protein_seq_cut3bc_0/CAA.txt:  2441"
       ]
      },
      {
       "output_type": "stream",
       "stream": "stdout",
       "text": [
        "\n",
        "Num proteins in ../data/b1hData/newDatabase/6varpos/F1/low/protein_seq_cut3bc_0/CAC.txt:  1011\n",
        "Num proteins in ../data/b1hData/newDatabase/6varpos/F1/low/protein_seq_cut3bc_0/CAG.txt:  1658\n",
        "Num proteins in ../data/b1hData/newDatabase/6varpos/F1/low/protein_seq_cut3bc_0/CAT.txt:  4487"
       ]
      },
      {
       "output_type": "stream",
       "stream": "stdout",
       "text": [
        "\n",
        "Num proteins in ../data/b1hData/newDatabase/6varpos/F1/low/protein_seq_cut3bc_0/CCA.txt:  2415\n",
        "Num proteins in ../data/b1hData/newDatabase/6varpos/F1/low/protein_seq_cut3bc_0/CCC.txt:  4748"
       ]
      },
      {
       "output_type": "stream",
       "stream": "stdout",
       "text": [
        "\n",
        "Num proteins in ../data/b1hData/newDatabase/6varpos/F1/low/protein_seq_cut3bc_0/CCG.txt:  4415\n",
        "Num proteins in ../data/b1hData/newDatabase/6varpos/F1/low/protein_seq_cut3bc_0/CCT.txt:  3077"
       ]
      },
      {
       "output_type": "stream",
       "stream": "stdout",
       "text": [
        "\n",
        "Num proteins in ../data/b1hData/newDatabase/6varpos/F1/low/protein_seq_cut3bc_0/CGA.txt:  10271"
       ]
      },
      {
       "output_type": "stream",
       "stream": "stdout",
       "text": [
        "\n",
        "Num proteins in ../data/b1hData/newDatabase/6varpos/F1/low/protein_seq_cut3bc_0/CGC.txt:  2326\n",
        "Num proteins in ../data/b1hData/newDatabase/6varpos/F1/low/protein_seq_cut3bc_0/CGG.txt:  3639"
       ]
      },
      {
       "output_type": "stream",
       "stream": "stdout",
       "text": [
        "\n",
        "Num proteins in ../data/b1hData/newDatabase/6varpos/F1/low/protein_seq_cut3bc_0/CGT.txt:  19750"
       ]
      },
      {
       "output_type": "stream",
       "stream": "stdout",
       "text": [
        "\n",
        "Num proteins in ../data/b1hData/newDatabase/6varpos/F1/low/protein_seq_cut3bc_0/CTA.txt:  20341"
       ]
      },
      {
       "output_type": "stream",
       "stream": "stdout",
       "text": [
        "\n",
        "Num proteins in ../data/b1hData/newDatabase/6varpos/F1/low/protein_seq_cut3bc_0/CTC.txt:  7701"
       ]
      },
      {
       "output_type": "stream",
       "stream": "stdout",
       "text": [
        "\n",
        "Num proteins in ../data/b1hData/newDatabase/6varpos/F1/low/protein_seq_cut3bc_0/CTG.txt:  2295"
       ]
      },
      {
       "output_type": "stream",
       "stream": "stdout",
       "text": [
        "\n",
        "Num proteins in ../data/b1hData/newDatabase/6varpos/F1/low/protein_seq_cut3bc_0/CTT.txt:  3358"
       ]
      },
      {
       "output_type": "stream",
       "stream": "stdout",
       "text": [
        "\n",
        "Num proteins in ../data/b1hData/newDatabase/6varpos/F1/low/protein_seq_cut3bc_0/GAA.txt:  2828\n",
        "Num proteins in ../data/b1hData/newDatabase/6varpos/F1/low/protein_seq_cut3bc_0/GAC.txt:  27819"
       ]
      },
      {
       "output_type": "stream",
       "stream": "stdout",
       "text": [
        "\n",
        "Num proteins in ../data/b1hData/newDatabase/6varpos/F1/low/protein_seq_cut3bc_0/GAG.txt:  2645\n",
        "Num proteins in ../data/b1hData/newDatabase/6varpos/F1/low/protein_seq_cut3bc_0/GAT.txt:  21790"
       ]
      },
      {
       "output_type": "stream",
       "stream": "stdout",
       "text": [
        "\n",
        "Num proteins in ../data/b1hData/newDatabase/6varpos/F1/low/protein_seq_cut3bc_0/GCA.txt:  2829\n",
        "Num proteins in ../data/b1hData/newDatabase/6varpos/F1/low/protein_seq_cut3bc_0/GCC.txt:  948\n",
        "Num proteins in ../data/b1hData/newDatabase/6varpos/F1/low/protein_seq_cut3bc_0/GCG.txt:  2579"
       ]
      },
      {
       "output_type": "stream",
       "stream": "stdout",
       "text": [
        "\n",
        "Num proteins in ../data/b1hData/newDatabase/6varpos/F1/low/protein_seq_cut3bc_0/GCT.txt:  3257\n",
        "Num proteins in ../data/b1hData/newDatabase/6varpos/F1/low/protein_seq_cut3bc_0/GGA.txt:  1713\n",
        "Num proteins in ../data/b1hData/newDatabase/6varpos/F1/low/protein_seq_cut3bc_0/GGC.txt:  7248"
       ]
      },
      {
       "output_type": "stream",
       "stream": "stdout",
       "text": [
        "\n",
        "Num proteins in ../data/b1hData/newDatabase/6varpos/F1/low/protein_seq_cut3bc_0/GGG.txt:  3954\n",
        "Num proteins in ../data/b1hData/newDatabase/6varpos/F1/low/protein_seq_cut3bc_0/GGT.txt:  15039"
       ]
      },
      {
       "output_type": "stream",
       "stream": "stdout",
       "text": [
        "\n",
        "Num proteins in ../data/b1hData/newDatabase/6varpos/F1/low/protein_seq_cut3bc_0/GTA.txt:  3353\n",
        "Num proteins in ../data/b1hData/newDatabase/6varpos/F1/low/protein_seq_cut3bc_0/GTC.txt:  2987"
       ]
      },
      {
       "output_type": "stream",
       "stream": "stdout",
       "text": [
        "\n",
        "Num proteins in ../data/b1hData/newDatabase/6varpos/F1/low/protein_seq_cut3bc_0/GTG.txt:  2046\n",
        "Num proteins in ../data/b1hData/newDatabase/6varpos/F1/low/protein_seq_cut3bc_0/GTT.txt:  1578\n",
        "Num proteins in ../data/b1hData/newDatabase/6varpos/F1/low/protein_seq_cut3bc_0/TAA.txt:  7210"
       ]
      },
      {
       "output_type": "stream",
       "stream": "stdout",
       "text": [
        "\n",
        "Num proteins in ../data/b1hData/newDatabase/6varpos/F1/low/protein_seq_cut3bc_0/TAC.txt:  13246"
       ]
      },
      {
       "output_type": "stream",
       "stream": "stdout",
       "text": [
        "\n",
        "Num proteins in ../data/b1hData/newDatabase/6varpos/F1/low/protein_seq_cut3bc_0/TAG.txt:  3714\n",
        "Num proteins in ../data/b1hData/newDatabase/6varpos/F1/low/protein_seq_cut3bc_0/TAT.txt:  976\n",
        "Num proteins in ../data/b1hData/newDatabase/6varpos/F1/low/protein_seq_cut3bc_0/TCA.txt:  2984"
       ]
      },
      {
       "output_type": "stream",
       "stream": "stdout",
       "text": [
        "\n",
        "Num proteins in ../data/b1hData/newDatabase/6varpos/F1/low/protein_seq_cut3bc_0/TCC.txt:  2293\n",
        "Num proteins in ../data/b1hData/newDatabase/6varpos/F1/low/protein_seq_cut3bc_0/TCG.txt:  967\n",
        "Num proteins in ../data/b1hData/newDatabase/6varpos/F1/low/protein_seq_cut3bc_0/TCT.txt:  4025"
       ]
      },
      {
       "output_type": "stream",
       "stream": "stdout",
       "text": [
        "\n",
        "Num proteins in ../data/b1hData/newDatabase/6varpos/F1/low/protein_seq_cut3bc_0/TGA.txt:  5992"
       ]
      },
      {
       "output_type": "stream",
       "stream": "stdout",
       "text": [
        "\n",
        "Num proteins in ../data/b1hData/newDatabase/6varpos/F1/low/protein_seq_cut3bc_0/TGC.txt:  6492"
       ]
      },
      {
       "output_type": "stream",
       "stream": "stdout",
       "text": [
        "\n",
        "Num proteins in ../data/b1hData/newDatabase/6varpos/F1/low/protein_seq_cut3bc_0/TGG.txt:  2055\n",
        "Num proteins in ../data/b1hData/newDatabase/6varpos/F1/low/protein_seq_cut3bc_0/TGT.txt:  8841"
       ]
      },
      {
       "output_type": "stream",
       "stream": "stdout",
       "text": [
        "\n",
        "Num proteins in ../data/b1hData/newDatabase/6varpos/F1/low/protein_seq_cut3bc_0/TTA.txt:  3404\n",
        "Num proteins in ../data/b1hData/newDatabase/6varpos/F1/low/protein_seq_cut3bc_0/TTC.txt:  5488"
       ]
      },
      {
       "output_type": "stream",
       "stream": "stdout",
       "text": [
        "\n",
        "Num proteins in ../data/b1hData/newDatabase/6varpos/F1/low/protein_seq_cut3bc_0/TTG.txt:  8606"
       ]
      },
      {
       "output_type": "stream",
       "stream": "stdout",
       "text": [
        "\n",
        "Num proteins in ../data/b1hData/newDatabase/6varpos/F1/low/protein_seq_cut3bc_0/TTT.txt:  5718"
       ]
      },
      {
       "output_type": "stream",
       "stream": "stdout",
       "text": [
        "\n",
        "Total num protein/dna observations in all files:  327931\n",
        "Total num unique proteins in all files:  286640\n",
        "\n",
        "Num obs processed in csv to txt conversion:  327931"
       ]
      },
      {
       "output_type": "stream",
       "stream": "stdout",
       "text": [
        "\n",
        "\n",
        "Num proteins in ../data/b1hData/newDatabase/6varpos/F2/high/protein_seq_cut3bc_0/AAA.txt:  1087\n",
        "Num proteins in ../data/b1hData/newDatabase/6varpos/F2/high/protein_seq_cut3bc_0/AAC.txt:  2206\n",
        "Num proteins in ../data/b1hData/newDatabase/6varpos/F2/high/protein_seq_cut3bc_0/AAG.txt:  1025\n",
        "Num proteins in ../data/b1hData/newDatabase/6varpos/F2/high/protein_seq_cut3bc_0/AAT.txt:  547\n",
        "Num proteins in ../data/b1hData/newDatabase/6varpos/F2/high/protein_seq_cut3bc_0/ACA.txt:  1589"
       ]
      },
      {
       "output_type": "stream",
       "stream": "stdout",
       "text": [
        "\n",
        "Num proteins in ../data/b1hData/newDatabase/6varpos/F2/high/protein_seq_cut3bc_0/ACC.txt:  890\n",
        "Num proteins in ../data/b1hData/newDatabase/6varpos/F2/high/protein_seq_cut3bc_0/ACG.txt:  1776\n",
        "Num proteins in ../data/b1hData/newDatabase/6varpos/F2/high/protein_seq_cut3bc_0/ACT.txt:  3499"
       ]
      },
      {
       "output_type": "stream",
       "stream": "stdout",
       "text": [
        "\n",
        "Num proteins in ../data/b1hData/newDatabase/6varpos/F2/high/protein_seq_cut3bc_0/AGA.txt:  755\n",
        "Num proteins in ../data/b1hData/newDatabase/6varpos/F2/high/protein_seq_cut3bc_0/AGC.txt:  617\n",
        "Num proteins in ../data/b1hData/newDatabase/6varpos/F2/high/protein_seq_cut3bc_0/AGG.txt:  2004\n",
        "Num proteins in ../data/b1hData/newDatabase/6varpos/F2/high/protein_seq_cut3bc_0/AGT.txt:  2184"
       ]
      },
      {
       "output_type": "stream",
       "stream": "stdout",
       "text": [
        "\n",
        "Num proteins in ../data/b1hData/newDatabase/6varpos/F2/high/protein_seq_cut3bc_0/ATA.txt:  941\n",
        "Num proteins in ../data/b1hData/newDatabase/6varpos/F2/high/protein_seq_cut3bc_0/ATC.txt:  1755\n",
        "Num proteins in ../data/b1hData/newDatabase/6varpos/F2/high/protein_seq_cut3bc_0/ATG.txt:  974\n",
        "Num proteins in ../data/b1hData/newDatabase/6varpos/F2/high/protein_seq_cut3bc_0/ATT.txt:  1405\n",
        "Num proteins in ../data/b1hData/newDatabase/6varpos/F2/high/protein_seq_cut3bc_0/CAA.txt:  468"
       ]
      },
      {
       "output_type": "stream",
       "stream": "stdout",
       "text": [
        "\n",
        "Num proteins in ../data/b1hData/newDatabase/6varpos/F2/high/protein_seq_cut3bc_0/CAC.txt:  1571\n",
        "Num proteins in ../data/b1hData/newDatabase/6varpos/F2/high/protein_seq_cut3bc_0/CAG.txt:  1810\n",
        "Num proteins in ../data/b1hData/newDatabase/6varpos/F2/high/protein_seq_cut3bc_0/CAT.txt:  2544"
       ]
      },
      {
       "output_type": "stream",
       "stream": "stdout",
       "text": [
        "\n",
        "Num proteins in ../data/b1hData/newDatabase/6varpos/F2/high/protein_seq_cut3bc_0/CCA.txt:  956\n",
        "Num proteins in ../data/b1hData/newDatabase/6varpos/F2/high/protein_seq_cut3bc_0/CCC.txt:  594\n",
        "Num proteins in ../data/b1hData/newDatabase/6varpos/F2/high/protein_seq_cut3bc_0/CCG.txt:  1008\n",
        "Num proteins in ../data/b1hData/newDatabase/6varpos/F2/high/protein_seq_cut3bc_0/CCT.txt:  1116\n",
        "Num proteins in ../data/b1hData/newDatabase/6varpos/F2/high/protein_seq_cut3bc_0/CGA.txt:  1045\n",
        "Num proteins in ../data/b1hData/newDatabase/6varpos/F2/high/protein_seq_cut3bc_0/CGC.txt:  1565"
       ]
      },
      {
       "output_type": "stream",
       "stream": "stdout",
       "text": [
        "\n",
        "Num proteins in ../data/b1hData/newDatabase/6varpos/F2/high/protein_seq_cut3bc_0/CGG.txt:  4513\n",
        "Num proteins in ../data/b1hData/newDatabase/6varpos/F2/high/protein_seq_cut3bc_0/CGT.txt:  1989"
       ]
      },
      {
       "output_type": "stream",
       "stream": "stdout",
       "text": [
        "\n",
        "Num proteins in ../data/b1hData/newDatabase/6varpos/F2/high/protein_seq_cut3bc_0/CTA.txt:  800\n",
        "Num proteins in ../data/b1hData/newDatabase/6varpos/F2/high/protein_seq_cut3bc_0/CTC.txt:  490\n",
        "Num proteins in ../data/b1hData/newDatabase/6varpos/F2/high/protein_seq_cut3bc_0/CTG.txt:  885\n",
        "Num proteins in ../data/b1hData/newDatabase/6varpos/F2/high/protein_seq_cut3bc_0/CTT.txt:  613\n",
        "Num proteins in ../data/b1hData/newDatabase/6varpos/F2/high/protein_seq_cut3bc_0/GAA.txt:  1190"
       ]
      },
      {
       "output_type": "stream",
       "stream": "stdout",
       "text": [
        "\n",
        "Num proteins in ../data/b1hData/newDatabase/6varpos/F2/high/protein_seq_cut3bc_0/GAC.txt:  2844\n",
        "Num proteins in ../data/b1hData/newDatabase/6varpos/F2/high/protein_seq_cut3bc_0/GAG.txt:  2818"
       ]
      },
      {
       "output_type": "stream",
       "stream": "stdout",
       "text": [
        "\n",
        "Num proteins in ../data/b1hData/newDatabase/6varpos/F2/high/protein_seq_cut3bc_0/GAT.txt:  1269\n",
        "Num proteins in ../data/b1hData/newDatabase/6varpos/F2/high/protein_seq_cut3bc_0/GCA.txt:  679\n",
        "Num proteins in ../data/b1hData/newDatabase/6varpos/F2/high/protein_seq_cut3bc_0/GCC.txt:  1138\n",
        "Num proteins in ../data/b1hData/newDatabase/6varpos/F2/high/protein_seq_cut3bc_0/GCG.txt:  1661\n",
        "Num proteins in ../data/b1hData/newDatabase/6varpos/F2/high/protein_seq_cut3bc_0/GCT.txt:  2749"
       ]
      },
      {
       "output_type": "stream",
       "stream": "stdout",
       "text": [
        "\n",
        "Num proteins in ../data/b1hData/newDatabase/6varpos/F2/high/protein_seq_cut3bc_0/GGA.txt:  1276\n",
        "Num proteins in ../data/b1hData/newDatabase/6varpos/F2/high/protein_seq_cut3bc_0/GGC.txt:  673\n",
        "Num proteins in ../data/b1hData/newDatabase/6varpos/F2/high/protein_seq_cut3bc_0/GGG.txt:  3536"
       ]
      },
      {
       "output_type": "stream",
       "stream": "stdout",
       "text": [
        "\n",
        "Num proteins in ../data/b1hData/newDatabase/6varpos/F2/high/protein_seq_cut3bc_0/GGT.txt:  1271\n",
        "Num proteins in ../data/b1hData/newDatabase/6varpos/F2/high/protein_seq_cut3bc_0/GTA.txt:  1651\n",
        "Num proteins in ../data/b1hData/newDatabase/6varpos/F2/high/protein_seq_cut3bc_0/GTC.txt:  900\n",
        "Num proteins in ../data/b1hData/newDatabase/6varpos/F2/high/protein_seq_cut3bc_0/GTG.txt:  1906"
       ]
      },
      {
       "output_type": "stream",
       "stream": "stdout",
       "text": [
        "\n",
        "Num proteins in ../data/b1hData/newDatabase/6varpos/F2/high/protein_seq_cut3bc_0/GTT.txt:  2363\n",
        "Num proteins in ../data/b1hData/newDatabase/6varpos/F2/high/protein_seq_cut3bc_0/TAA.txt:  951\n",
        "Num proteins in ../data/b1hData/newDatabase/6varpos/F2/high/protein_seq_cut3bc_0/TAC.txt:  826\n",
        "Num proteins in ../data/b1hData/newDatabase/6varpos/F2/high/protein_seq_cut3bc_0/TAG.txt:  501\n",
        "Num proteins in ../data/b1hData/newDatabase/6varpos/F2/high/protein_seq_cut3bc_0/TAT.txt:  1473"
       ]
      },
      {
       "output_type": "stream",
       "stream": "stdout",
       "text": [
        "\n",
        "Num proteins in ../data/b1hData/newDatabase/6varpos/F2/high/protein_seq_cut3bc_0/TCA.txt:  658\n",
        "Num proteins in ../data/b1hData/newDatabase/6varpos/F2/high/protein_seq_cut3bc_0/TCC.txt:  702\n",
        "Num proteins in ../data/b1hData/newDatabase/6varpos/F2/high/protein_seq_cut3bc_0/TCG.txt:  1293\n",
        "Num proteins in ../data/b1hData/newDatabase/6varpos/F2/high/protein_seq_cut3bc_0/TCT.txt:  1247\n",
        "Num proteins in ../data/b1hData/newDatabase/6varpos/F2/high/protein_seq_cut3bc_0/TGA.txt:  468\n",
        "Num proteins in ../data/b1hData/newDatabase/6varpos/F2/high/protein_seq_cut3bc_0/TGC.txt:  143\n",
        "Num proteins in ../data/b1hData/newDatabase/6varpos/F2/high/protein_seq_cut3bc_0/TGG.txt:  5438"
       ]
      },
      {
       "output_type": "stream",
       "stream": "stdout",
       "text": [
        "\n",
        "Num proteins in ../data/b1hData/newDatabase/6varpos/F2/high/protein_seq_cut3bc_0/TGT.txt:  3809\n",
        "Num proteins in ../data/b1hData/newDatabase/6varpos/F2/high/protein_seq_cut3bc_0/TTA.txt:  377\n",
        "Num proteins in ../data/b1hData/newDatabase/6varpos/F2/high/protein_seq_cut3bc_0/TTC.txt:  295\n",
        "Num proteins in ../data/b1hData/newDatabase/6varpos/F2/high/protein_seq_cut3bc_0/TTG.txt:  685"
       ]
      },
      {
       "output_type": "stream",
       "stream": "stdout",
       "text": [
        "\n",
        "Num proteins in ../data/b1hData/newDatabase/6varpos/F2/high/protein_seq_cut3bc_0/TTT.txt:  305\n",
        "Total num protein/dna observations in all files:  92316\n",
        "Total num unique proteins in all files:  78490\n",
        "\n",
        "Num obs processed in csv to txt conversion:  92316"
       ]
      },
      {
       "output_type": "stream",
       "stream": "stdout",
       "text": [
        "\n",
        "\n",
        "Num proteins in ../data/b1hData/newDatabase/6varpos/F2/low/protein_seq_cut3bc_0/AAA.txt:  4248\n",
        "Num proteins in ../data/b1hData/newDatabase/6varpos/F2/low/protein_seq_cut3bc_0/AAC.txt:  7721"
       ]
      },
      {
       "output_type": "stream",
       "stream": "stdout",
       "text": [
        "\n",
        "Num proteins in ../data/b1hData/newDatabase/6varpos/F2/low/protein_seq_cut3bc_0/AAG.txt:  6579"
       ]
      },
      {
       "output_type": "stream",
       "stream": "stdout",
       "text": [
        "\n",
        "Num proteins in ../data/b1hData/newDatabase/6varpos/F2/low/protein_seq_cut3bc_0/AAT.txt:  6004"
       ]
      },
      {
       "output_type": "stream",
       "stream": "stdout",
       "text": [
        "\n",
        "Num proteins in ../data/b1hData/newDatabase/6varpos/F2/low/protein_seq_cut3bc_0/ACA.txt:  8051"
       ]
      },
      {
       "output_type": "stream",
       "stream": "stdout",
       "text": [
        "\n",
        "Num proteins in ../data/b1hData/newDatabase/6varpos/F2/low/protein_seq_cut3bc_0/ACC.txt:  4663"
       ]
      },
      {
       "output_type": "stream",
       "stream": "stdout",
       "text": [
        "\n",
        "Num proteins in ../data/b1hData/newDatabase/6varpos/F2/low/protein_seq_cut3bc_0/ACG.txt:  8430"
       ]
      },
      {
       "output_type": "stream",
       "stream": "stdout",
       "text": [
        "\n",
        "Num proteins in ../data/b1hData/newDatabase/6varpos/F2/low/protein_seq_cut3bc_0/ACT.txt:  10570"
       ]
      },
      {
       "output_type": "stream",
       "stream": "stdout",
       "text": [
        "\n",
        "Num proteins in ../data/b1hData/newDatabase/6varpos/F2/low/protein_seq_cut3bc_0/AGA.txt:  5658"
       ]
      },
      {
       "output_type": "stream",
       "stream": "stdout",
       "text": [
        "\n",
        "Num proteins in ../data/b1hData/newDatabase/6varpos/F2/low/protein_seq_cut3bc_0/AGC.txt:  2708\n",
        "Num proteins in ../data/b1hData/newDatabase/6varpos/F2/low/protein_seq_cut3bc_0/AGG.txt:  7355"
       ]
      },
      {
       "output_type": "stream",
       "stream": "stdout",
       "text": [
        "\n",
        "Num proteins in ../data/b1hData/newDatabase/6varpos/F2/low/protein_seq_cut3bc_0/AGT.txt:  9781"
       ]
      },
      {
       "output_type": "stream",
       "stream": "stdout",
       "text": [
        "\n",
        "Num proteins in ../data/b1hData/newDatabase/6varpos/F2/low/protein_seq_cut3bc_0/ATA.txt:  2180\n",
        "Num proteins in ../data/b1hData/newDatabase/6varpos/F2/low/protein_seq_cut3bc_0/ATC.txt:  6420"
       ]
      },
      {
       "output_type": "stream",
       "stream": "stdout",
       "text": [
        "\n",
        "Num proteins in ../data/b1hData/newDatabase/6varpos/F2/low/protein_seq_cut3bc_0/ATG.txt:  8194"
       ]
      },
      {
       "output_type": "stream",
       "stream": "stdout",
       "text": [
        "\n",
        "Num proteins in ../data/b1hData/newDatabase/6varpos/F2/low/protein_seq_cut3bc_0/ATT.txt:  9461"
       ]
      },
      {
       "output_type": "stream",
       "stream": "stdout",
       "text": [
        "\n",
        "Num proteins in ../data/b1hData/newDatabase/6varpos/F2/low/protein_seq_cut3bc_0/CAA.txt:  1993\n",
        "Num proteins in ../data/b1hData/newDatabase/6varpos/F2/low/protein_seq_cut3bc_0/CAC.txt:  8624"
       ]
      },
      {
       "output_type": "stream",
       "stream": "stdout",
       "text": [
        "\n",
        "Num proteins in ../data/b1hData/newDatabase/6varpos/F2/low/protein_seq_cut3bc_0/CAG.txt:  9614"
       ]
      },
      {
       "output_type": "stream",
       "stream": "stdout",
       "text": [
        "\n",
        "Num proteins in ../data/b1hData/newDatabase/6varpos/F2/low/protein_seq_cut3bc_0/CAT.txt:  7442"
       ]
      },
      {
       "output_type": "stream",
       "stream": "stdout",
       "text": [
        "\n",
        "Num proteins in ../data/b1hData/newDatabase/6varpos/F2/low/protein_seq_cut3bc_0/CCA.txt:  2917\n",
        "Num proteins in ../data/b1hData/newDatabase/6varpos/F2/low/protein_seq_cut3bc_0/CCC.txt:  3981"
       ]
      },
      {
       "output_type": "stream",
       "stream": "stdout",
       "text": [
        "\n",
        "Num proteins in ../data/b1hData/newDatabase/6varpos/F2/low/protein_seq_cut3bc_0/CCG.txt:  3694\n",
        "Num proteins in ../data/b1hData/newDatabase/6varpos/F2/low/protein_seq_cut3bc_0/CCT.txt:  5477"
       ]
      },
      {
       "output_type": "stream",
       "stream": "stdout",
       "text": [
        "\n",
        "Num proteins in ../data/b1hData/newDatabase/6varpos/F2/low/protein_seq_cut3bc_0/CGA.txt:  4797\n",
        "Num proteins in ../data/b1hData/newDatabase/6varpos/F2/low/protein_seq_cut3bc_0/CGC.txt:  6318"
       ]
      },
      {
       "output_type": "stream",
       "stream": "stdout",
       "text": [
        "\n",
        "Num proteins in ../data/b1hData/newDatabase/6varpos/F2/low/protein_seq_cut3bc_0/CGG.txt:  11869"
       ]
      },
      {
       "output_type": "stream",
       "stream": "stdout",
       "text": [
        "\n",
        "Num proteins in ../data/b1hData/newDatabase/6varpos/F2/low/protein_seq_cut3bc_0/CGT.txt:  7148"
       ]
      },
      {
       "output_type": "stream",
       "stream": "stdout",
       "text": [
        "\n",
        "Num proteins in ../data/b1hData/newDatabase/6varpos/F2/low/protein_seq_cut3bc_0/CTA.txt:  1542\n",
        "Num proteins in ../data/b1hData/newDatabase/6varpos/F2/low/protein_seq_cut3bc_0/CTC.txt:  2557\n",
        "Num proteins in ../data/b1hData/newDatabase/6varpos/F2/low/protein_seq_cut3bc_0/CTG.txt:  3926"
       ]
      },
      {
       "output_type": "stream",
       "stream": "stdout",
       "text": [
        "\n",
        "Num proteins in ../data/b1hData/newDatabase/6varpos/F2/low/protein_seq_cut3bc_0/CTT.txt:  2794\n",
        "Num proteins in ../data/b1hData/newDatabase/6varpos/F2/low/protein_seq_cut3bc_0/GAA.txt:  3335"
       ]
      },
      {
       "output_type": "stream",
       "stream": "stdout",
       "text": [
        "\n",
        "Num proteins in ../data/b1hData/newDatabase/6varpos/F2/low/protein_seq_cut3bc_0/GAC.txt:  6401"
       ]
      },
      {
       "output_type": "stream",
       "stream": "stdout",
       "text": [
        "\n",
        "Num proteins in ../data/b1hData/newDatabase/6varpos/F2/low/protein_seq_cut3bc_0/GAG.txt:  7562"
       ]
      },
      {
       "output_type": "stream",
       "stream": "stdout",
       "text": [
        "\n",
        "Num proteins in ../data/b1hData/newDatabase/6varpos/F2/low/protein_seq_cut3bc_0/GAT.txt:  4619\n",
        "Num proteins in ../data/b1hData/newDatabase/6varpos/F2/low/protein_seq_cut3bc_0/GCA.txt:  2736"
       ]
      },
      {
       "output_type": "stream",
       "stream": "stdout",
       "text": [
        "\n",
        "Num proteins in ../data/b1hData/newDatabase/6varpos/F2/low/protein_seq_cut3bc_0/GCC.txt:  2934\n",
        "Num proteins in ../data/b1hData/newDatabase/6varpos/F2/low/protein_seq_cut3bc_0/GCG.txt:  8613"
       ]
      },
      {
       "output_type": "stream",
       "stream": "stdout",
       "text": [
        "\n",
        "Num proteins in ../data/b1hData/newDatabase/6varpos/F2/low/protein_seq_cut3bc_0/GCT.txt:  7121"
       ]
      },
      {
       "output_type": "stream",
       "stream": "stdout",
       "text": [
        "\n",
        "Num proteins in ../data/b1hData/newDatabase/6varpos/F2/low/protein_seq_cut3bc_0/GGA.txt:  8354"
       ]
      },
      {
       "output_type": "stream",
       "stream": "stdout",
       "text": [
        "\n",
        "Num proteins in ../data/b1hData/newDatabase/6varpos/F2/low/protein_seq_cut3bc_0/GGC.txt:  3081\n",
        "Num proteins in ../data/b1hData/newDatabase/6varpos/F2/low/protein_seq_cut3bc_0/GGG.txt:  7547"
       ]
      },
      {
       "output_type": "stream",
       "stream": "stdout",
       "text": [
        "\n",
        "Num proteins in ../data/b1hData/newDatabase/6varpos/F2/low/protein_seq_cut3bc_0/GGT.txt:  5071\n",
        "Num proteins in ../data/b1hData/newDatabase/6varpos/F2/low/protein_seq_cut3bc_0/GTA.txt:  10349"
       ]
      },
      {
       "output_type": "stream",
       "stream": "stdout",
       "text": [
        "\n",
        "Num proteins in ../data/b1hData/newDatabase/6varpos/F2/low/protein_seq_cut3bc_0/GTC.txt:  3990\n",
        "Num proteins in ../data/b1hData/newDatabase/6varpos/F2/low/protein_seq_cut3bc_0/GTG.txt:  8930"
       ]
      },
      {
       "output_type": "stream",
       "stream": "stdout",
       "text": [
        "\n",
        "Num proteins in ../data/b1hData/newDatabase/6varpos/F2/low/protein_seq_cut3bc_0/GTT.txt:  9382"
       ]
      },
      {
       "output_type": "stream",
       "stream": "stdout",
       "text": [
        "\n",
        "Num proteins in ../data/b1hData/newDatabase/6varpos/F2/low/protein_seq_cut3bc_0/TAA.txt:  4037\n",
        "Num proteins in ../data/b1hData/newDatabase/6varpos/F2/low/protein_seq_cut3bc_0/TAC.txt:  3984"
       ]
      },
      {
       "output_type": "stream",
       "stream": "stdout",
       "text": [
        "\n",
        "Num proteins in ../data/b1hData/newDatabase/6varpos/F2/low/protein_seq_cut3bc_0/TAG.txt:  2232\n",
        "Num proteins in ../data/b1hData/newDatabase/6varpos/F2/low/protein_seq_cut3bc_0/TAT.txt:  7001"
       ]
      },
      {
       "output_type": "stream",
       "stream": "stdout",
       "text": [
        "\n",
        "Num proteins in ../data/b1hData/newDatabase/6varpos/F2/low/protein_seq_cut3bc_0/TCA.txt:  2483\n",
        "Num proteins in ../data/b1hData/newDatabase/6varpos/F2/low/protein_seq_cut3bc_0/TCC.txt:  3351"
       ]
      },
      {
       "output_type": "stream",
       "stream": "stdout",
       "text": [
        "\n",
        "Num proteins in ../data/b1hData/newDatabase/6varpos/F2/low/protein_seq_cut3bc_0/TCG.txt:  5670"
       ]
      },
      {
       "output_type": "stream",
       "stream": "stdout",
       "text": [
        "\n",
        "Num proteins in ../data/b1hData/newDatabase/6varpos/F2/low/protein_seq_cut3bc_0/TCT.txt:  5370\n",
        "Num proteins in ../data/b1hData/newDatabase/6varpos/F2/low/protein_seq_cut3bc_0/TGA.txt:  3443"
       ]
      },
      {
       "output_type": "stream",
       "stream": "stdout",
       "text": [
        "\n",
        "Num proteins in ../data/b1hData/newDatabase/6varpos/F2/low/protein_seq_cut3bc_0/TGC.txt:  1652\n",
        "Num proteins in ../data/b1hData/newDatabase/6varpos/F2/low/protein_seq_cut3bc_0/TGG.txt:  10184"
       ]
      },
      {
       "output_type": "stream",
       "stream": "stdout",
       "text": [
        "\n",
        "Num proteins in ../data/b1hData/newDatabase/6varpos/F2/low/protein_seq_cut3bc_0/TGT.txt:  13506"
       ]
      },
      {
       "output_type": "stream",
       "stream": "stdout",
       "text": [
        "\n",
        "Num proteins in ../data/b1hData/newDatabase/6varpos/F2/low/protein_seq_cut3bc_0/TTA.txt:  2486\n",
        "Num proteins in ../data/b1hData/newDatabase/6varpos/F2/low/protein_seq_cut3bc_0/TTC.txt:  3210"
       ]
      },
      {
       "output_type": "stream",
       "stream": "stdout",
       "text": [
        "\n",
        "Num proteins in ../data/b1hData/newDatabase/6varpos/F2/low/protein_seq_cut3bc_0/TTG.txt:  5519"
       ]
      },
      {
       "output_type": "stream",
       "stream": "stdout",
       "text": [
        "\n",
        "Num proteins in ../data/b1hData/newDatabase/6varpos/F2/low/protein_seq_cut3bc_0/TTT.txt:  3140\n",
        "Total num protein/dna observations in all files:  370009\n",
        "Total num unique proteins in all files:  314834\n",
        "\n",
        "Num obs processed in csv to txt conversion:  370009"
       ]
      },
      {
       "output_type": "stream",
       "stream": "stdout",
       "text": [
        "\n",
        "\n",
        "Num proteins in ../data/b1hData/newDatabase/6varpos/F3/high/protein_seq_cut3bc_0/AAA.txt:  2562\n",
        "Num proteins in ../data/b1hData/newDatabase/6varpos/F3/high/protein_seq_cut3bc_0/AAC.txt:  2536"
       ]
      },
      {
       "output_type": "stream",
       "stream": "stdout",
       "text": [
        "\n",
        "Num proteins in ../data/b1hData/newDatabase/6varpos/F3/high/protein_seq_cut3bc_0/AAG.txt:  2391\n",
        "Num proteins in ../data/b1hData/newDatabase/6varpos/F3/high/protein_seq_cut3bc_0/AAT.txt:  958\n",
        "Num proteins in ../data/b1hData/newDatabase/6varpos/F3/high/protein_seq_cut3bc_0/ACA.txt:  769\n",
        "Num proteins in ../data/b1hData/newDatabase/6varpos/F3/high/protein_seq_cut3bc_0/ACC.txt:  244\n",
        "Num proteins in ../data/b1hData/newDatabase/6varpos/F3/high/protein_seq_cut3bc_0/ACG.txt:  2349"
       ]
      },
      {
       "output_type": "stream",
       "stream": "stdout",
       "text": [
        "\n",
        "Num proteins in ../data/b1hData/newDatabase/6varpos/F3/high/protein_seq_cut3bc_0/ACT.txt:  2138\n",
        "Num proteins in ../data/b1hData/newDatabase/6varpos/F3/high/protein_seq_cut3bc_0/AGA.txt:  142\n",
        "Num proteins in ../data/b1hData/newDatabase/6varpos/F3/high/protein_seq_cut3bc_0/AGC.txt:  5223"
       ]
      },
      {
       "output_type": "stream",
       "stream": "stdout",
       "text": [
        "\n",
        "Num proteins in ../data/b1hData/newDatabase/6varpos/F3/high/protein_seq_cut3bc_0/AGG.txt:  5139\n",
        "Num proteins in ../data/b1hData/newDatabase/6varpos/F3/high/protein_seq_cut3bc_0/AGT.txt:  2792"
       ]
      },
      {
       "output_type": "stream",
       "stream": "stdout",
       "text": [
        "\n",
        "Num proteins in ../data/b1hData/newDatabase/6varpos/F3/high/protein_seq_cut3bc_0/ATA.txt:  2446\n",
        "Num proteins in ../data/b1hData/newDatabase/6varpos/F3/high/protein_seq_cut3bc_0/ATC.txt:  2944"
       ]
      },
      {
       "output_type": "stream",
       "stream": "stdout",
       "text": [
        "\n",
        "Num proteins in ../data/b1hData/newDatabase/6varpos/F3/high/protein_seq_cut3bc_0/ATG.txt:  1855\n",
        "Num proteins in ../data/b1hData/newDatabase/6varpos/F3/high/protein_seq_cut3bc_0/ATT.txt:  3422\n",
        "Num proteins in ../data/b1hData/newDatabase/6varpos/F3/high/protein_seq_cut3bc_0/CAA.txt:  1749"
       ]
      },
      {
       "output_type": "stream",
       "stream": "stdout",
       "text": [
        "\n",
        "Num proteins in ../data/b1hData/newDatabase/6varpos/F3/high/protein_seq_cut3bc_0/CAC.txt:  2741\n",
        "Num proteins in ../data/b1hData/newDatabase/6varpos/F3/high/protein_seq_cut3bc_0/CAG.txt:  1297\n",
        "Num proteins in ../data/b1hData/newDatabase/6varpos/F3/high/protein_seq_cut3bc_0/CAT.txt:  1232\n",
        "Num proteins in ../data/b1hData/newDatabase/6varpos/F3/high/protein_seq_cut3bc_0/CCA.txt:  1445"
       ]
      },
      {
       "output_type": "stream",
       "stream": "stdout",
       "text": [
        "\n",
        "Num proteins in ../data/b1hData/newDatabase/6varpos/F3/high/protein_seq_cut3bc_0/CCC.txt:  1178"
       ]
      },
      {
       "output_type": "stream",
       "stream": "stdout",
       "text": [
        "\n",
        "Num proteins in ../data/b1hData/newDatabase/6varpos/F3/high/protein_seq_cut3bc_0/CCG.txt:  1642\n",
        "Num proteins in ../data/b1hData/newDatabase/6varpos/F3/high/protein_seq_cut3bc_0/CCT.txt:  1985\n",
        "Num proteins in ../data/b1hData/newDatabase/6varpos/F3/high/protein_seq_cut3bc_0/CGA.txt:  1160"
       ]
      },
      {
       "output_type": "stream",
       "stream": "stdout",
       "text": [
        "\n",
        "Num proteins in ../data/b1hData/newDatabase/6varpos/F3/high/protein_seq_cut3bc_0/CGC.txt:  2504\n",
        "Num proteins in ../data/b1hData/newDatabase/6varpos/F3/high/protein_seq_cut3bc_0/CGG.txt:  528\n",
        "Num proteins in ../data/b1hData/newDatabase/6varpos/F3/high/protein_seq_cut3bc_0/CGT.txt:  989\n",
        "Num proteins in ../data/b1hData/newDatabase/6varpos/F3/high/protein_seq_cut3bc_0/CTA.txt:  2211"
       ]
      },
      {
       "output_type": "stream",
       "stream": "stdout",
       "text": [
        "\n",
        "Num proteins in ../data/b1hData/newDatabase/6varpos/F3/high/protein_seq_cut3bc_0/CTC.txt:  2079"
       ]
      },
      {
       "output_type": "stream",
       "stream": "stdout",
       "text": [
        "\n",
        "Num proteins in ../data/b1hData/newDatabase/6varpos/F3/high/protein_seq_cut3bc_0/CTG.txt:  1613\n",
        "Num proteins in ../data/b1hData/newDatabase/6varpos/F3/high/protein_seq_cut3bc_0/CTT.txt:  2042\n",
        "Num proteins in ../data/b1hData/newDatabase/6varpos/F3/high/protein_seq_cut3bc_0/GAA.txt:  902\n",
        "Num proteins in ../data/b1hData/newDatabase/6varpos/F3/high/protein_seq_cut3bc_0/GAC.txt:  696\n",
        "Num proteins in ../data/b1hData/newDatabase/6varpos/F3/high/protein_seq_cut3bc_0/GAG.txt:  1569"
       ]
      },
      {
       "output_type": "stream",
       "stream": "stdout",
       "text": [
        "\n",
        "Num proteins in ../data/b1hData/newDatabase/6varpos/F3/high/protein_seq_cut3bc_0/GAT.txt:  1282\n",
        "Num proteins in ../data/b1hData/newDatabase/6varpos/F3/high/protein_seq_cut3bc_0/GCA.txt:  1454\n",
        "Num proteins in ../data/b1hData/newDatabase/6varpos/F3/high/protein_seq_cut3bc_0/GCC.txt:  858\n",
        "Num proteins in ../data/b1hData/newDatabase/6varpos/F3/high/protein_seq_cut3bc_0/GCG.txt:  1431"
       ]
      },
      {
       "output_type": "stream",
       "stream": "stdout",
       "text": [
        "\n",
        "Num proteins in ../data/b1hData/newDatabase/6varpos/F3/high/protein_seq_cut3bc_0/GCT.txt:  1939\n",
        "Num proteins in ../data/b1hData/newDatabase/6varpos/F3/high/protein_seq_cut3bc_0/GGA.txt:  1489"
       ]
      },
      {
       "output_type": "stream",
       "stream": "stdout",
       "text": [
        "\n",
        "Num proteins in ../data/b1hData/newDatabase/6varpos/F3/high/protein_seq_cut3bc_0/GGC.txt:  3008"
       ]
      },
      {
       "output_type": "stream",
       "stream": "stdout",
       "text": [
        "\n",
        "Num proteins in ../data/b1hData/newDatabase/6varpos/F3/high/protein_seq_cut3bc_0/GGG.txt:  2443"
       ]
      },
      {
       "output_type": "stream",
       "stream": "stdout",
       "text": [
        "\n",
        "Num proteins in ../data/b1hData/newDatabase/6varpos/F3/high/protein_seq_cut3bc_0/GGT.txt:  2163\n",
        "Num proteins in ../data/b1hData/newDatabase/6varpos/F3/high/protein_seq_cut3bc_0/GTA.txt:  1071\n",
        "Num proteins in ../data/b1hData/newDatabase/6varpos/F3/high/protein_seq_cut3bc_0/GTC.txt:  1964"
       ]
      },
      {
       "output_type": "stream",
       "stream": "stdout",
       "text": [
        "\n",
        "Num proteins in ../data/b1hData/newDatabase/6varpos/F3/high/protein_seq_cut3bc_0/GTG.txt:  2036\n",
        "Num proteins in ../data/b1hData/newDatabase/6varpos/F3/high/protein_seq_cut3bc_0/GTT.txt:  3118"
       ]
      },
      {
       "output_type": "stream",
       "stream": "stdout",
       "text": [
        "\n",
        "Num proteins in ../data/b1hData/newDatabase/6varpos/F3/high/protein_seq_cut3bc_0/TAA.txt:  1953\n",
        "Num proteins in ../data/b1hData/newDatabase/6varpos/F3/high/protein_seq_cut3bc_0/TAC.txt:  1789"
       ]
      },
      {
       "output_type": "stream",
       "stream": "stdout",
       "text": [
        "\n",
        "Num proteins in ../data/b1hData/newDatabase/6varpos/F3/high/protein_seq_cut3bc_0/TAG.txt:  900\n",
        "Num proteins in ../data/b1hData/newDatabase/6varpos/F3/high/protein_seq_cut3bc_0/TAT.txt:  1853\n",
        "Num proteins in ../data/b1hData/newDatabase/6varpos/F3/high/protein_seq_cut3bc_0/TCA.txt:  2480"
       ]
      },
      {
       "output_type": "stream",
       "stream": "stdout",
       "text": [
        "\n",
        "Num proteins in ../data/b1hData/newDatabase/6varpos/F3/high/protein_seq_cut3bc_0/TCC.txt:  830\n",
        "Num proteins in ../data/b1hData/newDatabase/6varpos/F3/high/protein_seq_cut3bc_0/TCG.txt:  1429"
       ]
      },
      {
       "output_type": "stream",
       "stream": "stdout",
       "text": [
        "\n",
        "Num proteins in ../data/b1hData/newDatabase/6varpos/F3/high/protein_seq_cut3bc_0/TCT.txt:  1407\n",
        "Num proteins in ../data/b1hData/newDatabase/6varpos/F3/high/protein_seq_cut3bc_0/TGA.txt:  2016\n",
        "Num proteins in ../data/b1hData/newDatabase/6varpos/F3/high/protein_seq_cut3bc_0/TGC.txt:  4009"
       ]
      },
      {
       "output_type": "stream",
       "stream": "stdout",
       "text": [
        "\n",
        "Num proteins in ../data/b1hData/newDatabase/6varpos/F3/high/protein_seq_cut3bc_0/TGG.txt:  623\n",
        "Num proteins in ../data/b1hData/newDatabase/6varpos/F3/high/protein_seq_cut3bc_0/TGT.txt:  7947"
       ]
      },
      {
       "output_type": "stream",
       "stream": "stdout",
       "text": [
        "\n",
        "Num proteins in ../data/b1hData/newDatabase/6varpos/F3/high/protein_seq_cut3bc_0/TTA.txt:  4221"
       ]
      },
      {
       "output_type": "stream",
       "stream": "stdout",
       "text": [
        "\n",
        "Num proteins in ../data/b1hData/newDatabase/6varpos/F3/high/protein_seq_cut3bc_0/TTC.txt:  2439\n",
        "Num proteins in ../data/b1hData/newDatabase/6varpos/F3/high/protein_seq_cut3bc_0/TTG.txt:  2253\n",
        "Num proteins in ../data/b1hData/newDatabase/6varpos/F3/high/protein_seq_cut3bc_0/TTT.txt:  1549"
       ]
      },
      {
       "output_type": "stream",
       "stream": "stdout",
       "text": [
        "\n",
        "Total num protein/dna observations in all files:  129426\n",
        "Total num unique proteins in all files:  102832\n",
        "\n",
        "Num obs processed in csv to txt conversion:  129426"
       ]
      },
      {
       "output_type": "stream",
       "stream": "stdout",
       "text": [
        "\n",
        "\n",
        "Num proteins in ../data/b1hData/newDatabase/6varpos/F3/low/protein_seq_cut3bc_0/AAA.txt:  4613"
       ]
      },
      {
       "output_type": "stream",
       "stream": "stdout",
       "text": [
        "\n",
        "Num proteins in ../data/b1hData/newDatabase/6varpos/F3/low/protein_seq_cut3bc_0/AAC.txt:  4815"
       ]
      },
      {
       "output_type": "stream",
       "stream": "stdout",
       "text": [
        "\n",
        "Num proteins in ../data/b1hData/newDatabase/6varpos/F3/low/protein_seq_cut3bc_0/AAG.txt:  5683"
       ]
      },
      {
       "output_type": "stream",
       "stream": "stdout",
       "text": [
        "\n",
        "Num proteins in ../data/b1hData/newDatabase/6varpos/F3/low/protein_seq_cut3bc_0/AAT.txt:  5976"
       ]
      },
      {
       "output_type": "stream",
       "stream": "stdout",
       "text": [
        "\n",
        "Num proteins in ../data/b1hData/newDatabase/6varpos/F3/low/protein_seq_cut3bc_0/ACA.txt:  2205\n",
        "Num proteins in ../data/b1hData/newDatabase/6varpos/F3/low/protein_seq_cut3bc_0/ACC.txt:  1440\n",
        "Num proteins in ../data/b1hData/newDatabase/6varpos/F3/low/protein_seq_cut3bc_0/ACG.txt:  5099"
       ]
      },
      {
       "output_type": "stream",
       "stream": "stdout",
       "text": [
        "\n",
        "Num proteins in ../data/b1hData/newDatabase/6varpos/F3/low/protein_seq_cut3bc_0/ACT.txt:  3866"
       ]
      },
      {
       "output_type": "stream",
       "stream": "stdout",
       "text": [
        "\n",
        "Num proteins in ../data/b1hData/newDatabase/6varpos/F3/low/protein_seq_cut3bc_0/AGA.txt:  1946\n",
        "Num proteins in ../data/b1hData/newDatabase/6varpos/F3/low/protein_seq_cut3bc_0/AGC.txt:  9765"
       ]
      },
      {
       "output_type": "stream",
       "stream": "stdout",
       "text": [
        "\n",
        "Num proteins in ../data/b1hData/newDatabase/6varpos/F3/low/protein_seq_cut3bc_0/AGG.txt:  4968"
       ]
      },
      {
       "output_type": "stream",
       "stream": "stdout",
       "text": [
        "\n",
        "Num proteins in ../data/b1hData/newDatabase/6varpos/F3/low/protein_seq_cut3bc_0/AGT.txt:  6319"
       ]
      },
      {
       "output_type": "stream",
       "stream": "stdout",
       "text": [
        "\n",
        "Num proteins in ../data/b1hData/newDatabase/6varpos/F3/low/protein_seq_cut3bc_0/ATA.txt:  2734\n",
        "Num proteins in ../data/b1hData/newDatabase/6varpos/F3/low/protein_seq_cut3bc_0/ATC.txt:  5523"
       ]
      },
      {
       "output_type": "stream",
       "stream": "stdout",
       "text": [
        "\n",
        "Num proteins in ../data/b1hData/newDatabase/6varpos/F3/low/protein_seq_cut3bc_0/ATG.txt:  4256"
       ]
      },
      {
       "output_type": "stream",
       "stream": "stdout",
       "text": [
        "\n",
        "Num proteins in ../data/b1hData/newDatabase/6varpos/F3/low/protein_seq_cut3bc_0/ATT.txt:  5550"
       ]
      },
      {
       "output_type": "stream",
       "stream": "stdout",
       "text": [
        "\n",
        "Num proteins in ../data/b1hData/newDatabase/6varpos/F3/low/protein_seq_cut3bc_0/CAA.txt:  4447\n",
        "Num proteins in ../data/b1hData/newDatabase/6varpos/F3/low/protein_seq_cut3bc_0/CAC.txt:  6077"
       ]
      },
      {
       "output_type": "stream",
       "stream": "stdout",
       "text": [
        "\n",
        "Num proteins in ../data/b1hData/newDatabase/6varpos/F3/low/protein_seq_cut3bc_0/CAG.txt:  5346"
       ]
      },
      {
       "output_type": "stream",
       "stream": "stdout",
       "text": [
        "\n",
        "Num proteins in ../data/b1hData/newDatabase/6varpos/F3/low/protein_seq_cut3bc_0/CAT.txt:  5389"
       ]
      },
      {
       "output_type": "stream",
       "stream": "stdout",
       "text": [
        "\n",
        "Num proteins in ../data/b1hData/newDatabase/6varpos/F3/low/protein_seq_cut3bc_0/CCA.txt:  3228\n",
        "Num proteins in ../data/b1hData/newDatabase/6varpos/F3/low/protein_seq_cut3bc_0/CCC.txt:  2740"
       ]
      },
      {
       "output_type": "stream",
       "stream": "stdout",
       "text": [
        "\n",
        "Num proteins in ../data/b1hData/newDatabase/6varpos/F3/low/protein_seq_cut3bc_0/CCG.txt:  6622"
       ]
      },
      {
       "output_type": "stream",
       "stream": "stdout",
       "text": [
        "\n",
        "Num proteins in ../data/b1hData/newDatabase/6varpos/F3/low/protein_seq_cut3bc_0/CCT.txt:  4317"
       ]
      },
      {
       "output_type": "stream",
       "stream": "stdout",
       "text": [
        "\n",
        "Num proteins in ../data/b1hData/newDatabase/6varpos/F3/low/protein_seq_cut3bc_0/CGA.txt:  7549"
       ]
      },
      {
       "output_type": "stream",
       "stream": "stdout",
       "text": [
        "\n",
        "Num proteins in ../data/b1hData/newDatabase/6varpos/F3/low/protein_seq_cut3bc_0/CGC.txt:  8558"
       ]
      },
      {
       "output_type": "stream",
       "stream": "stdout",
       "text": [
        "\n",
        "Num proteins in ../data/b1hData/newDatabase/6varpos/F3/low/protein_seq_cut3bc_0/CGG.txt:  2400"
       ]
      },
      {
       "output_type": "stream",
       "stream": "stdout",
       "text": [
        "\n",
        "Num proteins in ../data/b1hData/newDatabase/6varpos/F3/low/protein_seq_cut3bc_0/CGT.txt:  5815"
       ]
      },
      {
       "output_type": "stream",
       "stream": "stdout",
       "text": [
        "\n",
        "Num proteins in ../data/b1hData/newDatabase/6varpos/F3/low/protein_seq_cut3bc_0/CTA.txt:  7392"
       ]
      },
      {
       "output_type": "stream",
       "stream": "stdout",
       "text": [
        "\n",
        "Num proteins in ../data/b1hData/newDatabase/6varpos/F3/low/protein_seq_cut3bc_0/CTC.txt:  7246"
       ]
      },
      {
       "output_type": "stream",
       "stream": "stdout",
       "text": [
        "\n",
        "Num proteins in ../data/b1hData/newDatabase/6varpos/F3/low/protein_seq_cut3bc_0/CTG.txt:  5724"
       ]
      },
      {
       "output_type": "stream",
       "stream": "stdout",
       "text": [
        "\n",
        "Num proteins in ../data/b1hData/newDatabase/6varpos/F3/low/protein_seq_cut3bc_0/CTT.txt:  13579"
       ]
      },
      {
       "output_type": "stream",
       "stream": "stdout",
       "text": [
        "\n",
        "Num proteins in ../data/b1hData/newDatabase/6varpos/F3/low/protein_seq_cut3bc_0/GAA.txt:  3247\n",
        "Num proteins in ../data/b1hData/newDatabase/6varpos/F3/low/protein_seq_cut3bc_0/GAC.txt:  4648"
       ]
      },
      {
       "output_type": "stream",
       "stream": "stdout",
       "text": [
        "\n",
        "Num proteins in ../data/b1hData/newDatabase/6varpos/F3/low/protein_seq_cut3bc_0/GAG.txt:  6616"
       ]
      },
      {
       "output_type": "stream",
       "stream": "stdout",
       "text": [
        "\n",
        "Num proteins in ../data/b1hData/newDatabase/6varpos/F3/low/protein_seq_cut3bc_0/GAT.txt:  7010"
       ]
      },
      {
       "output_type": "stream",
       "stream": "stdout",
       "text": [
        "\n",
        "Num proteins in ../data/b1hData/newDatabase/6varpos/F3/low/protein_seq_cut3bc_0/GCA.txt:  3182"
       ]
      },
      {
       "output_type": "stream",
       "stream": "stdout",
       "text": [
        "\n",
        "Num proteins in ../data/b1hData/newDatabase/6varpos/F3/low/protein_seq_cut3bc_0/GCC.txt:  4662"
       ]
      },
      {
       "output_type": "stream",
       "stream": "stdout",
       "text": [
        "\n",
        "Num proteins in ../data/b1hData/newDatabase/6varpos/F3/low/protein_seq_cut3bc_0/GCG.txt:  5229"
       ]
      },
      {
       "output_type": "stream",
       "stream": "stdout",
       "text": [
        "\n",
        "Num proteins in ../data/b1hData/newDatabase/6varpos/F3/low/protein_seq_cut3bc_0/GCT.txt:  5411"
       ]
      },
      {
       "output_type": "stream",
       "stream": "stdout",
       "text": [
        "\n",
        "Num proteins in ../data/b1hData/newDatabase/6varpos/F3/low/protein_seq_cut3bc_0/GGA.txt:  2581"
       ]
      },
      {
       "output_type": "stream",
       "stream": "stdout",
       "text": [
        "\n",
        "Num proteins in ../data/b1hData/newDatabase/6varpos/F3/low/protein_seq_cut3bc_0/GGC.txt:  4944"
       ]
      },
      {
       "output_type": "stream",
       "stream": "stdout",
       "text": [
        "\n",
        "Num proteins in ../data/b1hData/newDatabase/6varpos/F3/low/protein_seq_cut3bc_0/GGG.txt:  5742"
       ]
      },
      {
       "output_type": "stream",
       "stream": "stdout",
       "text": [
        "\n",
        "Num proteins in ../data/b1hData/newDatabase/6varpos/F3/low/protein_seq_cut3bc_0/GGT.txt:  6228"
       ]
      },
      {
       "output_type": "stream",
       "stream": "stdout",
       "text": [
        "\n",
        "Num proteins in ../data/b1hData/newDatabase/6varpos/F3/low/protein_seq_cut3bc_0/GTA.txt:  3541"
       ]
      },
      {
       "output_type": "stream",
       "stream": "stdout",
       "text": [
        "\n",
        "Num proteins in ../data/b1hData/newDatabase/6varpos/F3/low/protein_seq_cut3bc_0/GTC.txt:  5573"
       ]
      },
      {
       "output_type": "stream",
       "stream": "stdout",
       "text": [
        "\n",
        "Num proteins in ../data/b1hData/newDatabase/6varpos/F3/low/protein_seq_cut3bc_0/GTG.txt:  6318"
       ]
      },
      {
       "output_type": "stream",
       "stream": "stdout",
       "text": [
        "\n",
        "Num proteins in ../data/b1hData/newDatabase/6varpos/F3/low/protein_seq_cut3bc_0/GTT.txt:  7614"
       ]
      },
      {
       "output_type": "stream",
       "stream": "stdout",
       "text": [
        "\n",
        "Num proteins in ../data/b1hData/newDatabase/6varpos/F3/low/protein_seq_cut3bc_0/TAA.txt:  1672"
       ]
      },
      {
       "output_type": "stream",
       "stream": "stdout",
       "text": [
        "\n",
        "Num proteins in ../data/b1hData/newDatabase/6varpos/F3/low/protein_seq_cut3bc_0/TAC.txt:  4340"
       ]
      },
      {
       "output_type": "stream",
       "stream": "stdout",
       "text": [
        "\n",
        "Num proteins in ../data/b1hData/newDatabase/6varpos/F3/low/protein_seq_cut3bc_0/TAG.txt:  3311\n",
        "Num proteins in ../data/b1hData/newDatabase/6varpos/F3/low/protein_seq_cut3bc_0/TAT.txt:  5708"
       ]
      },
      {
       "output_type": "stream",
       "stream": "stdout",
       "text": [
        "\n",
        "Num proteins in ../data/b1hData/newDatabase/6varpos/F3/low/protein_seq_cut3bc_0/TCA.txt:  1477\n",
        "Num proteins in ../data/b1hData/newDatabase/6varpos/F3/low/protein_seq_cut3bc_0/TCC.txt:  2053"
       ]
      },
      {
       "output_type": "stream",
       "stream": "stdout",
       "text": [
        "\n",
        "Num proteins in ../data/b1hData/newDatabase/6varpos/F3/low/protein_seq_cut3bc_0/TCG.txt:  2605\n",
        "Num proteins in ../data/b1hData/newDatabase/6varpos/F3/low/protein_seq_cut3bc_0/TCT.txt:  9132"
       ]
      },
      {
       "output_type": "stream",
       "stream": "stdout",
       "text": [
        "\n",
        "Num proteins in ../data/b1hData/newDatabase/6varpos/F3/low/protein_seq_cut3bc_0/TGA.txt:  6410"
       ]
      },
      {
       "output_type": "stream",
       "stream": "stdout",
       "text": [
        "\n",
        "Num proteins in ../data/b1hData/newDatabase/6varpos/F3/low/protein_seq_cut3bc_0/TGC.txt:  10339"
       ]
      },
      {
       "output_type": "stream",
       "stream": "stdout",
       "text": [
        "\n",
        "Num proteins in ../data/b1hData/newDatabase/6varpos/F3/low/protein_seq_cut3bc_0/TGG.txt:  2141\n",
        "Num proteins in ../data/b1hData/newDatabase/6varpos/F3/low/protein_seq_cut3bc_0/TGT.txt:  12208"
       ]
      },
      {
       "output_type": "stream",
       "stream": "stdout",
       "text": [
        "\n",
        "Num proteins in ../data/b1hData/newDatabase/6varpos/F3/low/protein_seq_cut3bc_0/TTA.txt:  9218"
       ]
      },
      {
       "output_type": "stream",
       "stream": "stdout",
       "text": [
        "\n",
        "Num proteins in ../data/b1hData/newDatabase/6varpos/F3/low/protein_seq_cut3bc_0/TTC.txt:  10420"
       ]
      },
      {
       "output_type": "stream",
       "stream": "stdout",
       "text": [
        "\n",
        "Num proteins in ../data/b1hData/newDatabase/6varpos/F3/low/protein_seq_cut3bc_0/TTG.txt:  4859"
       ]
      },
      {
       "output_type": "stream",
       "stream": "stdout",
       "text": [
        "\n",
        "Num proteins in ../data/b1hData/newDatabase/6varpos/F3/low/protein_seq_cut3bc_0/TTT.txt:  6072"
       ]
      },
      {
       "output_type": "stream",
       "stream": "stdout",
       "text": [
        "\n",
        "Total num protein/dna observations in all files:  345698\n",
        "Total num unique proteins in all files:  245194\n",
        "\n",
        "Num obs processed in csv to txt conversion:  345698"
       ]
      },
      {
       "output_type": "stream",
       "stream": "stdout",
       "text": [
        "\n",
        "\n"
       ]
      }
     ],
     "prompt_number": 2
    },
    {
     "cell_type": "code",
     "collapsed": false,
     "input": [
      "prefix = '../data/b1hData/newDatabase/5varpos/'\n",
      "numVarPos = 5\n",
      "fings = ['F2']\n",
      "strins = ['high', 'low']\n",
      "for fing in fings:\n",
      "    for strin in strins:\n",
      "        path = prefix + fing + '/' + strin + '/' + 'protein_seq_cut3bc_0/'\n",
      "        targetFiles2singleCSV(path, numVarPos, '.txt')\n",
      "        csv2txtFile(path, numVarPos)\n",
      "        print"
     ],
     "language": "python",
     "metadata": {},
     "outputs": [
      {
       "output_type": "stream",
       "stream": "stdout",
       "text": [
        "Invalid File Name: AAA.txt\n",
        "Invalid File Name: AAC.txt\n",
        "Num proteins in ../data/b1hData/newDatabase/5varpos/F2/high/protein_seq_cut3bc_0/AAG.txt:  2190\n",
        "Invalid File Name: AAT.txt\n",
        "Invalid File Name: ACA.txt\n",
        "Invalid File Name: ACC.txt\n",
        "Invalid File Name: ACG.txt\n",
        "Invalid File Name: ACT.txt\n",
        "Invalid File Name: AGA.txt\n",
        "Invalid File Name: AGC.txt\n",
        "Invalid File Name: AGG.txt\n",
        "Invalid File Name: AGT.txt\n",
        "Invalid File Name: ATA.txt\n",
        "Invalid File Name: ATC.txt\n",
        "Invalid File Name: ATG.txt\n",
        "Invalid File Name: ATT.txt\n",
        "Num proteins in ../data/b1hData/newDatabase/5varpos/F2/high/protein_seq_cut3bc_0/CAA.txt:  1361\n",
        "Num proteins in ../data/b1hData/newDatabase/5varpos/F2/high/protein_seq_cut3bc_0/CAC.txt:  1691"
       ]
      },
      {
       "output_type": "stream",
       "stream": "stdout",
       "text": [
        "\n",
        "Num proteins in ../data/b1hData/newDatabase/5varpos/F2/high/protein_seq_cut3bc_0/CAG.txt:  1638\n",
        "Num proteins in ../data/b1hData/newDatabase/5varpos/F2/high/protein_seq_cut3bc_0/CAT.txt:  1871\n",
        "Invalid File Name: CCA.txt\n",
        "Invalid File Name: CCC.txt\n",
        "Invalid File Name: CCG.txt\n",
        "Invalid File Name: CCT.txt\n",
        "Invalid File Name: CGA.txt\n",
        "Invalid File Name: CGC.txt\n",
        "Invalid File Name: CGG.txt\n",
        "Invalid File Name: CGT.txt\n",
        "Invalid File Name: CTA.txt\n",
        "Invalid File Name: CTC.txt\n",
        "Invalid File Name: CTG.txt\n",
        "Invalid File Name: CTT.txt\n",
        "Invalid File Name: GAA.txt\n",
        "Invalid File Name: GAC.txt\n",
        "Num proteins in ../data/b1hData/newDatabase/5varpos/F2/high/protein_seq_cut3bc_0/GAG.txt:  4968"
       ]
      },
      {
       "output_type": "stream",
       "stream": "stdout",
       "text": [
        "\n",
        "Invalid File Name: GAT.txt\n",
        "Invalid File Name: GCA.txt\n",
        "Invalid File Name: GCC.txt\n",
        "Invalid File Name: GCG.txt\n",
        "Invalid File Name: GCT.txt\n",
        "Num proteins in ../data/b1hData/newDatabase/5varpos/F2/high/protein_seq_cut3bc_0/GGA.txt:  1789\n",
        "Invalid File Name: GGC.txt\n",
        "Num proteins in ../data/b1hData/newDatabase/5varpos/F2/high/protein_seq_cut3bc_0/GGG.txt:  2298\n",
        "Invalid File Name: GGT.txt\n",
        "Invalid File Name: GTA.txt\n",
        "Invalid File Name: GTC.txt\n",
        "Invalid File Name: GTG.txt\n",
        "Invalid File Name: GTT.txt\n",
        "Invalid File Name: TAA.txt\n",
        "Invalid File Name: TAC.txt\n",
        "Num proteins in ../data/b1hData/newDatabase/5varpos/F2/high/protein_seq_cut3bc_0/TAG.txt:  1443"
       ]
      },
      {
       "output_type": "stream",
       "stream": "stdout",
       "text": [
        "\n",
        "Invalid File Name: TAT.txt\n",
        "Invalid File Name: TCA.txt\n",
        "Invalid File Name: TCC.txt\n",
        "Invalid File Name: TCG.txt\n",
        "Invalid File Name: TCT.txt\n",
        "Invalid File Name: TGA.txt\n",
        "Invalid File Name: TGC.txt\n",
        "Invalid File Name: TGG.txt\n",
        "Invalid File Name: TGT.txt\n",
        "Invalid File Name: TTA.txt\n",
        "Invalid File Name: TTC.txt\n",
        "Invalid File Name: TTG.txt\n",
        "Invalid File Name: TTT.txt\n",
        "Total num protein/dna observations in all files:  19249\n",
        "Total num unique proteins in all files:  12123\n",
        "\n",
        "Num obs processed in csv to txt conversion:  19249"
       ]
      },
      {
       "output_type": "stream",
       "stream": "stdout",
       "text": [
        "\n",
        "\n",
        "Invalid File Name: AAA.txt\n",
        "Invalid File Name: AAC.txt\n",
        "Num proteins in ../data/b1hData/newDatabase/5varpos/F2/low/protein_seq_cut3bc_0/AAG.txt:  6882"
       ]
      },
      {
       "output_type": "stream",
       "stream": "stdout",
       "text": [
        "\n",
        "Invalid File Name: AAT.txt\n",
        "Invalid File Name: ACA.txt\n",
        "Invalid File Name: ACC.txt\n",
        "Invalid File Name: ACG.txt\n",
        "Invalid File Name: ACT.txt\n",
        "Invalid File Name: AGA.txt\n",
        "Invalid File Name: AGC.txt\n",
        "Invalid File Name: AGG.txt\n",
        "Invalid File Name: AGT.txt\n",
        "Invalid File Name: ATA.txt\n",
        "Invalid File Name: ATC.txt\n",
        "Invalid File Name: ATG.txt\n",
        "Invalid File Name: ATT.txt\n",
        "Num proteins in ../data/b1hData/newDatabase/5varpos/F2/low/protein_seq_cut3bc_0/CAA.txt:  5286"
       ]
      },
      {
       "output_type": "stream",
       "stream": "stdout",
       "text": [
        "\n",
        "Num proteins in ../data/b1hData/newDatabase/5varpos/F2/low/protein_seq_cut3bc_0/CAC.txt:  5255\n",
        "Num proteins in ../data/b1hData/newDatabase/5varpos/F2/low/protein_seq_cut3bc_0/CAG.txt:  7487"
       ]
      },
      {
       "output_type": "stream",
       "stream": "stdout",
       "text": [
        "\n",
        "Num proteins in ../data/b1hData/newDatabase/5varpos/F2/low/protein_seq_cut3bc_0/CAT.txt:  4736"
       ]
      },
      {
       "output_type": "stream",
       "stream": "stdout",
       "text": [
        "\n",
        "Invalid File Name: CCA.txt\n",
        "Invalid File Name: CCC.txt\n",
        "Invalid File Name: CCG.txt\n",
        "Invalid File Name: CCT.txt\n",
        "Invalid File Name: CGA.txt\n",
        "Invalid File Name: CGC.txt\n",
        "Invalid File Name: CGG.txt\n",
        "Invalid File Name: CGT.txt\n",
        "Invalid File Name: CTA.txt\n",
        "Invalid File Name: CTC.txt\n",
        "Invalid File Name: CTG.txt\n",
        "Invalid File Name: CTT.txt\n",
        "Invalid File Name: GAA.txt\n",
        "Invalid File Name: GAC.txt\n",
        "Num proteins in ../data/b1hData/newDatabase/5varpos/F2/low/protein_seq_cut3bc_0/GAG.txt:  6012"
       ]
      },
      {
       "output_type": "stream",
       "stream": "stdout",
       "text": [
        "\n",
        "Invalid File Name: GAT.txt\n",
        "Invalid File Name: GCA.txt\n",
        "Invalid File Name: GCC.txt\n",
        "Invalid File Name: GCG.txt\n",
        "Invalid File Name: GCT.txt\n",
        "Num proteins in ../data/b1hData/newDatabase/5varpos/F2/low/protein_seq_cut3bc_0/GGA.txt:  3630\n",
        "Invalid File Name: GGC.txt\n",
        "Num proteins in ../data/b1hData/newDatabase/5varpos/F2/low/protein_seq_cut3bc_0/GGG.txt:  3091"
       ]
      },
      {
       "output_type": "stream",
       "stream": "stdout",
       "text": [
        "\n",
        "Invalid File Name: GGT.txt\n",
        "Invalid File Name: GTA.txt\n",
        "Invalid File Name: GTC.txt\n",
        "Invalid File Name: GTG.txt\n",
        "Invalid File Name: GTT.txt\n",
        "Invalid File Name: TAA.txt\n",
        "Invalid File Name: TAC.txt\n",
        "Num proteins in ../data/b1hData/newDatabase/5varpos/F2/low/protein_seq_cut3bc_0/TAG.txt:  6040"
       ]
      },
      {
       "output_type": "stream",
       "stream": "stdout",
       "text": [
        "\n",
        "Invalid File Name: TAT.txt\n",
        "Invalid File Name: TCA.txt\n",
        "Invalid File Name: TCC.txt\n",
        "Invalid File Name: TCG.txt\n",
        "Invalid File Name: TCT.txt\n",
        "Invalid File Name: TGA.txt\n",
        "Invalid File Name: TGC.txt\n",
        "Invalid File Name: TGG.txt\n",
        "Invalid File Name: TGT.txt\n",
        "Invalid File Name: TTA.txt\n",
        "Invalid File Name: TTC.txt\n",
        "Invalid File Name: TTG.txt\n",
        "Invalid File Name: TTT.txt\n",
        "Total num protein/dna observations in all files:  48419\n",
        "Total num unique proteins in all files:  35951\n",
        "\n",
        "Num obs processed in csv to txt conversion:  48419"
       ]
      },
      {
       "output_type": "stream",
       "stream": "stdout",
       "text": [
        "\n",
        "\n"
       ]
      }
     ],
     "prompt_number": 3
    }
   ],
   "metadata": {}
  }
 ]
}