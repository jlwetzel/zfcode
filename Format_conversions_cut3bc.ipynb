{
 "metadata": {
  "name": "Format_conversions_cut3bc"
 },
 "nbformat": 3,
 "nbformat_minor": 0,
 "worksheets": [
  {
   "cells": [
    {
     "cell_type": "code",
     "collapsed": false,
     "input": [
      "from changeFormats import targetFiles2singleCSV, csv2txtFile\n",
      "\n"
     ],
     "language": "python",
     "metadata": {},
     "outputs": [],
     "prompt_number": 1
    },
    {
     "cell_type": "code",
     "collapsed": false,
     "input": [
      "prefix = '../data/b1hData/newDatabase/6varpos/'\n",
      "numVarPos = 6\n",
      "fings = ['F1', 'F2', 'F3']\n",
      "strins = ['high', 'low']\n",
      "for fing in fings:\n",
      "    for strin in strins:\n",
      "        path = prefix + fing + '/' + strin + '/' + 'protein_seq_cut3bc/'\n",
      "        targetFiles2singleCSV(path, numVarPos, '.txt', style = 'verbose')\n",
      "        csv2txtFile(path, numVarPos, style = 'verbose')\n",
      "        print"
     ],
     "language": "python",
     "metadata": {},
     "outputs": [
      {
       "output_type": "stream",
       "stream": "stdout",
       "text": [
        "Num proteins in ../data/b1hData/newDatabase/6varpos/F1/high/protein_seq_cut3bc/AAA.txt:  1161\n",
        "Num proteins in ../data/b1hData/newDatabase/6varpos/F1/high/protein_seq_cut3bc/AAC.txt:  1042\n",
        "Num proteins in ../data/b1hData/newDatabase/6varpos/F1/high/protein_seq_cut3bc/AAG.txt:  1064\n",
        "Num proteins in ../data/b1hData/newDatabase/6varpos/F1/high/protein_seq_cut3bc/AAT.txt:  884\n",
        "Num proteins in ../data/b1hData/newDatabase/6varpos/F1/high/protein_seq_cut3bc/ACA.txt:  1472"
       ]
      },
      {
       "output_type": "stream",
       "stream": "stdout",
       "text": [
        "\n",
        "Num proteins in ../data/b1hData/newDatabase/6varpos/F1/high/protein_seq_cut3bc/ACC.txt:  1402\n",
        "Num proteins in ../data/b1hData/newDatabase/6varpos/F1/high/protein_seq_cut3bc/ACG.txt:  1718"
       ]
      },
      {
       "output_type": "stream",
       "stream": "stdout",
       "text": [
        "\n",
        "Num proteins in ../data/b1hData/newDatabase/6varpos/F1/high/protein_seq_cut3bc/ACT.txt:  1502\n",
        "Num proteins in ../data/b1hData/newDatabase/6varpos/F1/high/protein_seq_cut3bc/AGA.txt:  933\n",
        "Num proteins in ../data/b1hData/newDatabase/6varpos/F1/high/protein_seq_cut3bc/AGC.txt:  844"
       ]
      },
      {
       "output_type": "stream",
       "stream": "stdout",
       "text": [
        "\n",
        "Num proteins in ../data/b1hData/newDatabase/6varpos/F1/high/protein_seq_cut3bc/AGG.txt:  2892\n",
        "Num proteins in ../data/b1hData/newDatabase/6varpos/F1/high/protein_seq_cut3bc/AGT.txt:  4679"
       ]
      },
      {
       "output_type": "stream",
       "stream": "stdout",
       "text": [
        "\n",
        "Num proteins in ../data/b1hData/newDatabase/6varpos/F1/high/protein_seq_cut3bc/ATA.txt:  2071\n",
        "Num proteins in ../data/b1hData/newDatabase/6varpos/F1/high/protein_seq_cut3bc/ATC.txt:  2249"
       ]
      },
      {
       "output_type": "stream",
       "stream": "stdout",
       "text": [
        "\n",
        "Num proteins in ../data/b1hData/newDatabase/6varpos/F1/high/protein_seq_cut3bc/ATG.txt:  2491\n",
        "Num proteins in ../data/b1hData/newDatabase/6varpos/F1/high/protein_seq_cut3bc/ATT.txt:  1266"
       ]
      },
      {
       "output_type": "stream",
       "stream": "stdout",
       "text": [
        "\n",
        "Num proteins in ../data/b1hData/newDatabase/6varpos/F1/high/protein_seq_cut3bc/CAA.txt:  1034\n",
        "Num proteins in ../data/b1hData/newDatabase/6varpos/F1/high/protein_seq_cut3bc/CAC.txt:  1231"
       ]
      },
      {
       "output_type": "stream",
       "stream": "stdout",
       "text": [
        "\n",
        "Num proteins in ../data/b1hData/newDatabase/6varpos/F1/high/protein_seq_cut3bc/CAG.txt:  2239\n",
        "Num proteins in ../data/b1hData/newDatabase/6varpos/F1/high/protein_seq_cut3bc/CAT.txt:  2775"
       ]
      },
      {
       "output_type": "stream",
       "stream": "stdout",
       "text": [
        "\n",
        "Num proteins in ../data/b1hData/newDatabase/6varpos/F1/high/protein_seq_cut3bc/CCA.txt:  3858"
       ]
      },
      {
       "output_type": "stream",
       "stream": "stdout",
       "text": [
        "\n",
        "Num proteins in ../data/b1hData/newDatabase/6varpos/F1/high/protein_seq_cut3bc/CCC.txt:  2243\n",
        "Num proteins in ../data/b1hData/newDatabase/6varpos/F1/high/protein_seq_cut3bc/CCG.txt:  2186"
       ]
      },
      {
       "output_type": "stream",
       "stream": "stdout",
       "text": [
        "\n",
        "Num proteins in ../data/b1hData/newDatabase/6varpos/F1/high/protein_seq_cut3bc/CCT.txt:  2435\n",
        "Num proteins in ../data/b1hData/newDatabase/6varpos/F1/high/protein_seq_cut3bc/CGA.txt:  2394"
       ]
      },
      {
       "output_type": "stream",
       "stream": "stdout",
       "text": [
        "\n",
        "Num proteins in ../data/b1hData/newDatabase/6varpos/F1/high/protein_seq_cut3bc/CGC.txt:  2016\n",
        "Num proteins in ../data/b1hData/newDatabase/6varpos/F1/high/protein_seq_cut3bc/CGG.txt:  3278"
       ]
      },
      {
       "output_type": "stream",
       "stream": "stdout",
       "text": [
        "\n",
        "Num proteins in ../data/b1hData/newDatabase/6varpos/F1/high/protein_seq_cut3bc/CGT.txt:  19957"
       ]
      },
      {
       "output_type": "stream",
       "stream": "stdout",
       "text": [
        "\n",
        "Num proteins in ../data/b1hData/newDatabase/6varpos/F1/high/protein_seq_cut3bc/CTA.txt:  21207"
       ]
      },
      {
       "output_type": "stream",
       "stream": "stdout",
       "text": [
        "\n",
        "Num proteins in ../data/b1hData/newDatabase/6varpos/F1/high/protein_seq_cut3bc/CTC.txt:  2033"
       ]
      },
      {
       "output_type": "stream",
       "stream": "stdout",
       "text": [
        "\n",
        "Num proteins in ../data/b1hData/newDatabase/6varpos/F1/high/protein_seq_cut3bc/CTG.txt:  1363\n",
        "Num proteins in ../data/b1hData/newDatabase/6varpos/F1/high/protein_seq_cut3bc/CTT.txt:  2806\n",
        "Num proteins in ../data/b1hData/newDatabase/6varpos/F1/high/protein_seq_cut3bc/GAA.txt:  2434"
       ]
      },
      {
       "output_type": "stream",
       "stream": "stdout",
       "text": [
        "\n",
        "Num proteins in ../data/b1hData/newDatabase/6varpos/F1/high/protein_seq_cut3bc/GAC.txt:  21128"
       ]
      },
      {
       "output_type": "stream",
       "stream": "stdout",
       "text": [
        "\n",
        "Num proteins in ../data/b1hData/newDatabase/6varpos/F1/high/protein_seq_cut3bc/GAG.txt:  2066\n",
        "Num proteins in ../data/b1hData/newDatabase/6varpos/F1/high/protein_seq_cut3bc/GAT.txt:  18287"
       ]
      },
      {
       "output_type": "stream",
       "stream": "stdout",
       "text": [
        "\n",
        "Num proteins in ../data/b1hData/newDatabase/6varpos/F1/high/protein_seq_cut3bc/GCA.txt:  2121"
       ]
      },
      {
       "output_type": "stream",
       "stream": "stdout",
       "text": [
        "\n",
        "Num proteins in ../data/b1hData/newDatabase/6varpos/F1/high/protein_seq_cut3bc/GCC.txt:  1042\n",
        "Num proteins in ../data/b1hData/newDatabase/6varpos/F1/high/protein_seq_cut3bc/GCG.txt:  1126\n",
        "Num proteins in ../data/b1hData/newDatabase/6varpos/F1/high/protein_seq_cut3bc/GCT.txt:  2923\n",
        "Num proteins in ../data/b1hData/newDatabase/6varpos/F1/high/protein_seq_cut3bc/GGA.txt:  1205"
       ]
      },
      {
       "output_type": "stream",
       "stream": "stdout",
       "text": [
        "\n",
        "Num proteins in ../data/b1hData/newDatabase/6varpos/F1/high/protein_seq_cut3bc/GGC.txt:  2202\n",
        "Num proteins in ../data/b1hData/newDatabase/6varpos/F1/high/protein_seq_cut3bc/GGG.txt:  2382"
       ]
      },
      {
       "output_type": "stream",
       "stream": "stdout",
       "text": [
        "\n",
        "Num proteins in ../data/b1hData/newDatabase/6varpos/F1/high/protein_seq_cut3bc/GGT.txt:  2498"
       ]
      },
      {
       "output_type": "stream",
       "stream": "stdout",
       "text": [
        "\n",
        "Num proteins in ../data/b1hData/newDatabase/6varpos/F1/high/protein_seq_cut3bc/GTA.txt:  1937\n",
        "Num proteins in ../data/b1hData/newDatabase/6varpos/F1/high/protein_seq_cut3bc/GTC.txt:  901"
       ]
      },
      {
       "output_type": "stream",
       "stream": "stdout",
       "text": [
        "\n",
        "Num proteins in ../data/b1hData/newDatabase/6varpos/F1/high/protein_seq_cut3bc/GTG.txt:  2765\n",
        "Num proteins in ../data/b1hData/newDatabase/6varpos/F1/high/protein_seq_cut3bc/GTT.txt:  1031\n",
        "Num proteins in ../data/b1hData/newDatabase/6varpos/F1/high/protein_seq_cut3bc/TAA.txt:  1437"
       ]
      },
      {
       "output_type": "stream",
       "stream": "stdout",
       "text": [
        "\n",
        "Num proteins in ../data/b1hData/newDatabase/6varpos/F1/high/protein_seq_cut3bc/TAC.txt:  18480"
       ]
      },
      {
       "output_type": "stream",
       "stream": "stdout",
       "text": [
        "\n",
        "Num proteins in ../data/b1hData/newDatabase/6varpos/F1/high/protein_seq_cut3bc/TAG.txt:  459\n",
        "Num proteins in ../data/b1hData/newDatabase/6varpos/F1/high/protein_seq_cut3bc/TAT.txt:  8676"
       ]
      },
      {
       "output_type": "stream",
       "stream": "stdout",
       "text": [
        "\n",
        "Num proteins in ../data/b1hData/newDatabase/6varpos/F1/high/protein_seq_cut3bc/TCA.txt:  2582\n",
        "Num proteins in ../data/b1hData/newDatabase/6varpos/F1/high/protein_seq_cut3bc/TCC.txt:  865"
       ]
      },
      {
       "output_type": "stream",
       "stream": "stdout",
       "text": [
        "\n",
        "Num proteins in ../data/b1hData/newDatabase/6varpos/F1/high/protein_seq_cut3bc/TCG.txt:  1190\n",
        "Num proteins in ../data/b1hData/newDatabase/6varpos/F1/high/protein_seq_cut3bc/TCT.txt:  1770\n",
        "Num proteins in ../data/b1hData/newDatabase/6varpos/F1/high/protein_seq_cut3bc/TGA.txt:  2016"
       ]
      },
      {
       "output_type": "stream",
       "stream": "stdout",
       "text": [
        "\n",
        "Num proteins in ../data/b1hData/newDatabase/6varpos/F1/high/protein_seq_cut3bc/TGC.txt:  1924\n",
        "Num proteins in ../data/b1hData/newDatabase/6varpos/F1/high/protein_seq_cut3bc/TGG.txt:  1599"
       ]
      },
      {
       "output_type": "stream",
       "stream": "stdout",
       "text": [
        "\n",
        "Num proteins in ../data/b1hData/newDatabase/6varpos/F1/high/protein_seq_cut3bc/TGT.txt:  2559"
       ]
      },
      {
       "output_type": "stream",
       "stream": "stdout",
       "text": [
        "\n",
        "Num proteins in ../data/b1hData/newDatabase/6varpos/F1/high/protein_seq_cut3bc/TTA.txt:  2455\n",
        "Num proteins in ../data/b1hData/newDatabase/6varpos/F1/high/protein_seq_cut3bc/TTC.txt:  2387"
       ]
      },
      {
       "output_type": "stream",
       "stream": "stdout",
       "text": [
        "\n",
        "Num proteins in ../data/b1hData/newDatabase/6varpos/F1/high/protein_seq_cut3bc/TTG.txt:  2051\n",
        "Num proteins in ../data/b1hData/newDatabase/6varpos/F1/high/protein_seq_cut3bc/TTT.txt:  1934"
       ]
      },
      {
       "output_type": "stream",
       "stream": "stdout",
       "text": [
        "\n",
        "Total num protein/dna observations in all files:  219157\n",
        "Total num unique proteins in all files:  196981\n",
        "\n",
        "Num obs processed in csv to txt conversion:  219157"
       ]
      },
      {
       "output_type": "stream",
       "stream": "stdout",
       "text": [
        "\n",
        "\n",
        "Num proteins in ../data/b1hData/newDatabase/6varpos/F1/low/protein_seq_cut3bc/AAA.txt:  845"
       ]
      },
      {
       "output_type": "stream",
       "stream": "stdout",
       "text": [
        "\n",
        "Num proteins in ../data/b1hData/newDatabase/6varpos/F1/low/protein_seq_cut3bc/AAC.txt:  937\n",
        "Num proteins in ../data/b1hData/newDatabase/6varpos/F1/low/protein_seq_cut3bc/AAG.txt:  4078"
       ]
      },
      {
       "output_type": "stream",
       "stream": "stdout",
       "text": [
        "\n",
        "Num proteins in ../data/b1hData/newDatabase/6varpos/F1/low/protein_seq_cut3bc/AAT.txt:  1028\n",
        "Num proteins in ../data/b1hData/newDatabase/6varpos/F1/low/protein_seq_cut3bc/ACA.txt:  3195"
       ]
      },
      {
       "output_type": "stream",
       "stream": "stdout",
       "text": [
        "\n",
        "Num proteins in ../data/b1hData/newDatabase/6varpos/F1/low/protein_seq_cut3bc/ACC.txt:  1940\n",
        "Num proteins in ../data/b1hData/newDatabase/6varpos/F1/low/protein_seq_cut3bc/ACG.txt:  5246"
       ]
      },
      {
       "output_type": "stream",
       "stream": "stdout",
       "text": [
        "\n",
        "Num proteins in ../data/b1hData/newDatabase/6varpos/F1/low/protein_seq_cut3bc/ACT.txt:  1188\n",
        "Num proteins in ../data/b1hData/newDatabase/6varpos/F1/low/protein_seq_cut3bc/AGA.txt:  2428"
       ]
      },
      {
       "output_type": "stream",
       "stream": "stdout",
       "text": [
        "\n",
        "Num proteins in ../data/b1hData/newDatabase/6varpos/F1/low/protein_seq_cut3bc/AGC.txt:  2256"
       ]
      },
      {
       "output_type": "stream",
       "stream": "stdout",
       "text": [
        "\n",
        "Num proteins in ../data/b1hData/newDatabase/6varpos/F1/low/protein_seq_cut3bc/AGG.txt:  4204"
       ]
      },
      {
       "output_type": "stream",
       "stream": "stdout",
       "text": [
        "\n",
        "Num proteins in ../data/b1hData/newDatabase/6varpos/F1/low/protein_seq_cut3bc/AGT.txt:  15844"
       ]
      },
      {
       "output_type": "stream",
       "stream": "stdout",
       "text": [
        "\n",
        "Num proteins in ../data/b1hData/newDatabase/6varpos/F1/low/protein_seq_cut3bc/ATA.txt:  3140\n",
        "Num proteins in ../data/b1hData/newDatabase/6varpos/F1/low/protein_seq_cut3bc/ATC.txt:  3680"
       ]
      },
      {
       "output_type": "stream",
       "stream": "stdout",
       "text": [
        "\n",
        "Num proteins in ../data/b1hData/newDatabase/6varpos/F1/low/protein_seq_cut3bc/ATG.txt:  4044"
       ]
      },
      {
       "output_type": "stream",
       "stream": "stdout",
       "text": [
        "\n",
        "Num proteins in ../data/b1hData/newDatabase/6varpos/F1/low/protein_seq_cut3bc/ATT.txt:  1778\n",
        "Num proteins in ../data/b1hData/newDatabase/6varpos/F1/low/protein_seq_cut3bc/CAA.txt:  2970"
       ]
      },
      {
       "output_type": "stream",
       "stream": "stdout",
       "text": [
        "\n",
        "Num proteins in ../data/b1hData/newDatabase/6varpos/F1/low/protein_seq_cut3bc/CAC.txt:  1434\n",
        "Num proteins in ../data/b1hData/newDatabase/6varpos/F1/low/protein_seq_cut3bc/CAG.txt:  2121"
       ]
      },
      {
       "output_type": "stream",
       "stream": "stdout",
       "text": [
        "\n",
        "Num proteins in ../data/b1hData/newDatabase/6varpos/F1/low/protein_seq_cut3bc/CAT.txt:  4948\n",
        "Num proteins in ../data/b1hData/newDatabase/6varpos/F1/low/protein_seq_cut3bc/CCA.txt:  2778"
       ]
      },
      {
       "output_type": "stream",
       "stream": "stdout",
       "text": [
        "\n",
        "Num proteins in ../data/b1hData/newDatabase/6varpos/F1/low/protein_seq_cut3bc/CCC.txt:  5186\n",
        "Num proteins in ../data/b1hData/newDatabase/6varpos/F1/low/protein_seq_cut3bc/CCG.txt:  4885"
       ]
      },
      {
       "output_type": "stream",
       "stream": "stdout",
       "text": [
        "\n",
        "Num proteins in ../data/b1hData/newDatabase/6varpos/F1/low/protein_seq_cut3bc/CCT.txt:  3591"
       ]
      },
      {
       "output_type": "stream",
       "stream": "stdout",
       "text": [
        "\n",
        "Num proteins in ../data/b1hData/newDatabase/6varpos/F1/low/protein_seq_cut3bc/CGA.txt:  10511"
       ]
      },
      {
       "output_type": "stream",
       "stream": "stdout",
       "text": [
        "\n",
        "Num proteins in ../data/b1hData/newDatabase/6varpos/F1/low/protein_seq_cut3bc/CGC.txt:  2871"
       ]
      },
      {
       "output_type": "stream",
       "stream": "stdout",
       "text": [
        "\n",
        "Num proteins in ../data/b1hData/newDatabase/6varpos/F1/low/protein_seq_cut3bc/CGG.txt:  4179"
       ]
      },
      {
       "output_type": "stream",
       "stream": "stdout",
       "text": [
        "\n",
        "Num proteins in ../data/b1hData/newDatabase/6varpos/F1/low/protein_seq_cut3bc/CGT.txt:  19814"
       ]
      },
      {
       "output_type": "stream",
       "stream": "stdout",
       "text": [
        "\n",
        "Num proteins in ../data/b1hData/newDatabase/6varpos/F1/low/protein_seq_cut3bc/CTA.txt:  20398"
       ]
      },
      {
       "output_type": "stream",
       "stream": "stdout",
       "text": [
        "\n",
        "Num proteins in ../data/b1hData/newDatabase/6varpos/F1/low/protein_seq_cut3bc/CTC.txt:  7958"
       ]
      },
      {
       "output_type": "stream",
       "stream": "stdout",
       "text": [
        "\n",
        "Num proteins in ../data/b1hData/newDatabase/6varpos/F1/low/protein_seq_cut3bc/CTG.txt:  2800\n",
        "Num proteins in ../data/b1hData/newDatabase/6varpos/F1/low/protein_seq_cut3bc/CTT.txt:  3842"
       ]
      },
      {
       "output_type": "stream",
       "stream": "stdout",
       "text": [
        "\n",
        "Num proteins in ../data/b1hData/newDatabase/6varpos/F1/low/protein_seq_cut3bc/GAA.txt:  3362"
       ]
      },
      {
       "output_type": "stream",
       "stream": "stdout",
       "text": [
        "\n",
        "Num proteins in ../data/b1hData/newDatabase/6varpos/F1/low/protein_seq_cut3bc/GAC.txt:  27837"
       ]
      },
      {
       "output_type": "stream",
       "stream": "stdout",
       "text": [
        "\n",
        "Num proteins in ../data/b1hData/newDatabase/6varpos/F1/low/protein_seq_cut3bc/GAG.txt:  3104\n",
        "Num proteins in ../data/b1hData/newDatabase/6varpos/F1/low/protein_seq_cut3bc/GAT.txt:  21836"
       ]
      },
      {
       "output_type": "stream",
       "stream": "stdout",
       "text": [
        "\n",
        "Num proteins in ../data/b1hData/newDatabase/6varpos/F1/low/protein_seq_cut3bc/GCA.txt:  3336\n",
        "Num proteins in ../data/b1hData/newDatabase/6varpos/F1/low/protein_seq_cut3bc/GCC.txt:  1382"
       ]
      },
      {
       "output_type": "stream",
       "stream": "stdout",
       "text": [
        "\n",
        "Num proteins in ../data/b1hData/newDatabase/6varpos/F1/low/protein_seq_cut3bc/GCG.txt:  3054"
       ]
      },
      {
       "output_type": "stream",
       "stream": "stdout",
       "text": [
        "\n",
        "Num proteins in ../data/b1hData/newDatabase/6varpos/F1/low/protein_seq_cut3bc/GCT.txt:  3755"
       ]
      },
      {
       "output_type": "stream",
       "stream": "stdout",
       "text": [
        "\n",
        "Num proteins in ../data/b1hData/newDatabase/6varpos/F1/low/protein_seq_cut3bc/GGA.txt:  2192\n",
        "Num proteins in ../data/b1hData/newDatabase/6varpos/F1/low/protein_seq_cut3bc/GGC.txt:  7520"
       ]
      },
      {
       "output_type": "stream",
       "stream": "stdout",
       "text": [
        "\n",
        "Num proteins in ../data/b1hData/newDatabase/6varpos/F1/low/protein_seq_cut3bc/GGG.txt:  4418"
       ]
      },
      {
       "output_type": "stream",
       "stream": "stdout",
       "text": [
        "\n",
        "Num proteins in ../data/b1hData/newDatabase/6varpos/F1/low/protein_seq_cut3bc/GGT.txt:  15167"
       ]
      },
      {
       "output_type": "stream",
       "stream": "stdout",
       "text": [
        "\n",
        "Num proteins in ../data/b1hData/newDatabase/6varpos/F1/low/protein_seq_cut3bc/GTA.txt:  3806"
       ]
      },
      {
       "output_type": "stream",
       "stream": "stdout",
       "text": [
        "\n",
        "Num proteins in ../data/b1hData/newDatabase/6varpos/F1/low/protein_seq_cut3bc/GTC.txt:  3448"
       ]
      },
      {
       "output_type": "stream",
       "stream": "stdout",
       "text": [
        "\n",
        "Num proteins in ../data/b1hData/newDatabase/6varpos/F1/low/protein_seq_cut3bc/GTG.txt:  2540\n",
        "Num proteins in ../data/b1hData/newDatabase/6varpos/F1/low/protein_seq_cut3bc/GTT.txt:  2047"
       ]
      },
      {
       "output_type": "stream",
       "stream": "stdout",
       "text": [
        "\n",
        "Num proteins in ../data/b1hData/newDatabase/6varpos/F1/low/protein_seq_cut3bc/TAA.txt:  7469"
       ]
      },
      {
       "output_type": "stream",
       "stream": "stdout",
       "text": [
        "\n",
        "Num proteins in ../data/b1hData/newDatabase/6varpos/F1/low/protein_seq_cut3bc/TAC.txt:  13371"
       ]
      },
      {
       "output_type": "stream",
       "stream": "stdout",
       "text": [
        "\n",
        "Num proteins in ../data/b1hData/newDatabase/6varpos/F1/low/protein_seq_cut3bc/TAG.txt:  4103\n",
        "Num proteins in ../data/b1hData/newDatabase/6varpos/F1/low/protein_seq_cut3bc/TAT.txt:  1317"
       ]
      },
      {
       "output_type": "stream",
       "stream": "stdout",
       "text": [
        "\n",
        "Num proteins in ../data/b1hData/newDatabase/6varpos/F1/low/protein_seq_cut3bc/TCA.txt:  3486\n",
        "Num proteins in ../data/b1hData/newDatabase/6varpos/F1/low/protein_seq_cut3bc/TCC.txt:  2777"
       ]
      },
      {
       "output_type": "stream",
       "stream": "stdout",
       "text": [
        "\n",
        "Num proteins in ../data/b1hData/newDatabase/6varpos/F1/low/protein_seq_cut3bc/TCG.txt:  1473\n",
        "Num proteins in ../data/b1hData/newDatabase/6varpos/F1/low/protein_seq_cut3bc/TCT.txt:  4446"
       ]
      },
      {
       "output_type": "stream",
       "stream": "stdout",
       "text": [
        "\n",
        "Num proteins in ../data/b1hData/newDatabase/6varpos/F1/low/protein_seq_cut3bc/TGA.txt:  6337"
       ]
      },
      {
       "output_type": "stream",
       "stream": "stdout",
       "text": [
        "\n",
        "Num proteins in ../data/b1hData/newDatabase/6varpos/F1/low/protein_seq_cut3bc/TGC.txt:  6792"
       ]
      },
      {
       "output_type": "stream",
       "stream": "stdout",
       "text": [
        "\n",
        "Num proteins in ../data/b1hData/newDatabase/6varpos/F1/low/protein_seq_cut3bc/TGG.txt:  2641\n",
        "Num proteins in ../data/b1hData/newDatabase/6varpos/F1/low/protein_seq_cut3bc/TGT.txt:  9157"
       ]
      },
      {
       "output_type": "stream",
       "stream": "stdout",
       "text": [
        "\n",
        "Num proteins in ../data/b1hData/newDatabase/6varpos/F1/low/protein_seq_cut3bc/TTA.txt:  3913"
       ]
      },
      {
       "output_type": "stream",
       "stream": "stdout",
       "text": [
        "\n",
        "Num proteins in ../data/b1hData/newDatabase/6varpos/F1/low/protein_seq_cut3bc/TTC.txt:  5848"
       ]
      },
      {
       "output_type": "stream",
       "stream": "stdout",
       "text": [
        "\n",
        "Num proteins in ../data/b1hData/newDatabase/6varpos/F1/low/protein_seq_cut3bc/TTG.txt:  8828"
       ]
      },
      {
       "output_type": "stream",
       "stream": "stdout",
       "text": [
        "\n",
        "Num proteins in ../data/b1hData/newDatabase/6varpos/F1/low/protein_seq_cut3bc/TTT.txt:  6058"
       ]
      },
      {
       "output_type": "stream",
       "stream": "stdout",
       "text": [
        "\n",
        "Total num protein/dna observations in all files:  352937\n",
        "Total num unique proteins in all files:  310930\n",
        "\n",
        "Num obs processed in csv to txt conversion:  352937"
       ]
      },
      {
       "output_type": "stream",
       "stream": "stdout",
       "text": [
        "\n",
        "\n",
        "Num proteins in ../data/b1hData/newDatabase/6varpos/F2/high/protein_seq_cut3bc/AAA.txt:  1448"
       ]
      },
      {
       "output_type": "stream",
       "stream": "stdout",
       "text": [
        "\n",
        "Num proteins in ../data/b1hData/newDatabase/6varpos/F2/high/protein_seq_cut3bc/AAC.txt:  2700\n",
        "Num proteins in ../data/b1hData/newDatabase/6varpos/F2/high/protein_seq_cut3bc/AAG.txt:  1180\n",
        "Num proteins in ../data/b1hData/newDatabase/6varpos/F2/high/protein_seq_cut3bc/AAT.txt:  751"
       ]
      },
      {
       "output_type": "stream",
       "stream": "stdout",
       "text": [
        "\n",
        "Num proteins in ../data/b1hData/newDatabase/6varpos/F2/high/protein_seq_cut3bc/ACA.txt:  1989\n",
        "Num proteins in ../data/b1hData/newDatabase/6varpos/F2/high/protein_seq_cut3bc/ACC.txt:  1207"
       ]
      },
      {
       "output_type": "stream",
       "stream": "stdout",
       "text": [
        "\n",
        "Num proteins in ../data/b1hData/newDatabase/6varpos/F2/high/protein_seq_cut3bc/ACG.txt:  2244\n",
        "Num proteins in ../data/b1hData/newDatabase/6varpos/F2/high/protein_seq_cut3bc/ACT.txt:  3952"
       ]
      },
      {
       "output_type": "stream",
       "stream": "stdout",
       "text": [
        "\n",
        "Num proteins in ../data/b1hData/newDatabase/6varpos/F2/high/protein_seq_cut3bc/AGA.txt:  1065\n",
        "Num proteins in ../data/b1hData/newDatabase/6varpos/F2/high/protein_seq_cut3bc/AGC.txt:  825"
       ]
      },
      {
       "output_type": "stream",
       "stream": "stdout",
       "text": [
        "\n",
        "Num proteins in ../data/b1hData/newDatabase/6varpos/F2/high/protein_seq_cut3bc/AGG.txt:  2445"
       ]
      },
      {
       "output_type": "stream",
       "stream": "stdout",
       "text": [
        "\n",
        "Num proteins in ../data/b1hData/newDatabase/6varpos/F2/high/protein_seq_cut3bc/AGT.txt:  2656"
       ]
      },
      {
       "output_type": "stream",
       "stream": "stdout",
       "text": [
        "\n",
        "Num proteins in ../data/b1hData/newDatabase/6varpos/F2/high/protein_seq_cut3bc/ATA.txt:  1037\n",
        "Num proteins in ../data/b1hData/newDatabase/6varpos/F2/high/protein_seq_cut3bc/ATC.txt:  2248"
       ]
      },
      {
       "output_type": "stream",
       "stream": "stdout",
       "text": [
        "\n",
        "Num proteins in ../data/b1hData/newDatabase/6varpos/F2/high/protein_seq_cut3bc/ATG.txt:  1266\n",
        "Num proteins in ../data/b1hData/newDatabase/6varpos/F2/high/protein_seq_cut3bc/ATT.txt:  1844"
       ]
      },
      {
       "output_type": "stream",
       "stream": "stdout",
       "text": [
        "\n",
        "Num proteins in ../data/b1hData/newDatabase/6varpos/F2/high/protein_seq_cut3bc/CAA.txt:  541\n",
        "Num proteins in ../data/b1hData/newDatabase/6varpos/F2/high/protein_seq_cut3bc/CAC.txt:  2038\n",
        "Num proteins in ../data/b1hData/newDatabase/6varpos/F2/high/protein_seq_cut3bc/CAG.txt:  2278\n",
        "Num proteins in ../data/b1hData/newDatabase/6varpos/F2/high/protein_seq_cut3bc/CAT.txt:  3024"
       ]
      },
      {
       "output_type": "stream",
       "stream": "stdout",
       "text": [
        "\n",
        "Num proteins in ../data/b1hData/newDatabase/6varpos/F2/high/protein_seq_cut3bc/CCA.txt:  1046"
       ]
      },
      {
       "output_type": "stream",
       "stream": "stdout",
       "text": [
        "\n",
        "Num proteins in ../data/b1hData/newDatabase/6varpos/F2/high/protein_seq_cut3bc/CCC.txt:  856\n",
        "Num proteins in ../data/b1hData/newDatabase/6varpos/F2/high/protein_seq_cut3bc/CCG.txt:  1088"
       ]
      },
      {
       "output_type": "stream",
       "stream": "stdout",
       "text": [
        "\n",
        "Num proteins in ../data/b1hData/newDatabase/6varpos/F2/high/protein_seq_cut3bc/CCT.txt:  1412\n",
        "Num proteins in ../data/b1hData/newDatabase/6varpos/F2/high/protein_seq_cut3bc/CGA.txt:  1334\n",
        "Num proteins in ../data/b1hData/newDatabase/6varpos/F2/high/protein_seq_cut3bc/CGC.txt:  1811"
       ]
      },
      {
       "output_type": "stream",
       "stream": "stdout",
       "text": [
        "\n",
        "Num proteins in ../data/b1hData/newDatabase/6varpos/F2/high/protein_seq_cut3bc/CGG.txt:  4971"
       ]
      },
      {
       "output_type": "stream",
       "stream": "stdout",
       "text": [
        "\n",
        "Num proteins in ../data/b1hData/newDatabase/6varpos/F2/high/protein_seq_cut3bc/CGT.txt:  2396\n",
        "Num proteins in ../data/b1hData/newDatabase/6varpos/F2/high/protein_seq_cut3bc/CTA.txt:  945\n",
        "Num proteins in ../data/b1hData/newDatabase/6varpos/F2/high/protein_seq_cut3bc/CTC.txt:  622"
       ]
      },
      {
       "output_type": "stream",
       "stream": "stdout",
       "text": [
        "\n",
        "Num proteins in ../data/b1hData/newDatabase/6varpos/F2/high/protein_seq_cut3bc/CTG.txt:  988\n",
        "Num proteins in ../data/b1hData/newDatabase/6varpos/F2/high/protein_seq_cut3bc/CTT.txt:  805"
       ]
      },
      {
       "output_type": "stream",
       "stream": "stdout",
       "text": [
        "\n",
        "Num proteins in ../data/b1hData/newDatabase/6varpos/F2/high/protein_seq_cut3bc/GAA.txt:  1460\n",
        "Num proteins in ../data/b1hData/newDatabase/6varpos/F2/high/protein_seq_cut3bc/GAC.txt:  3361"
       ]
      },
      {
       "output_type": "stream",
       "stream": "stdout",
       "text": [
        "\n",
        "Num proteins in ../data/b1hData/newDatabase/6varpos/F2/high/protein_seq_cut3bc/GAG.txt:  3309\n",
        "Num proteins in ../data/b1hData/newDatabase/6varpos/F2/high/protein_seq_cut3bc/GAT.txt:  1572"
       ]
      },
      {
       "output_type": "stream",
       "stream": "stdout",
       "text": [
        "\n",
        "Num proteins in ../data/b1hData/newDatabase/6varpos/F2/high/protein_seq_cut3bc/GCA.txt:  784"
       ]
      },
      {
       "output_type": "stream",
       "stream": "stdout",
       "text": [
        "\n",
        "Num proteins in ../data/b1hData/newDatabase/6varpos/F2/high/protein_seq_cut3bc/GCC.txt:  1302"
       ]
      },
      {
       "output_type": "stream",
       "stream": "stdout",
       "text": [
        "\n",
        "Num proteins in ../data/b1hData/newDatabase/6varpos/F2/high/protein_seq_cut3bc/GCG.txt:  2209\n",
        "Num proteins in ../data/b1hData/newDatabase/6varpos/F2/high/protein_seq_cut3bc/GCT.txt:  3223"
       ]
      },
      {
       "output_type": "stream",
       "stream": "stdout",
       "text": [
        "\n",
        "Num proteins in ../data/b1hData/newDatabase/6varpos/F2/high/protein_seq_cut3bc/GGA.txt:  1662\n",
        "Num proteins in ../data/b1hData/newDatabase/6varpos/F2/high/protein_seq_cut3bc/GGC.txt:  836\n",
        "Num proteins in ../data/b1hData/newDatabase/6varpos/F2/high/protein_seq_cut3bc/GGG.txt:  4019"
       ]
      },
      {
       "output_type": "stream",
       "stream": "stdout",
       "text": [
        "\n",
        "Num proteins in ../data/b1hData/newDatabase/6varpos/F2/high/protein_seq_cut3bc/GGT.txt:  1554"
       ]
      },
      {
       "output_type": "stream",
       "stream": "stdout",
       "text": [
        "\n",
        "Num proteins in ../data/b1hData/newDatabase/6varpos/F2/high/protein_seq_cut3bc/GTA.txt:  2091"
       ]
      },
      {
       "output_type": "stream",
       "stream": "stdout",
       "text": [
        "\n",
        "Num proteins in ../data/b1hData/newDatabase/6varpos/F2/high/protein_seq_cut3bc/GTC.txt:  1264\n",
        "Num proteins in ../data/b1hData/newDatabase/6varpos/F2/high/protein_seq_cut3bc/GTG.txt:  2229"
       ]
      },
      {
       "output_type": "stream",
       "stream": "stdout",
       "text": [
        "\n",
        "Num proteins in ../data/b1hData/newDatabase/6varpos/F2/high/protein_seq_cut3bc/GTT.txt:  2859\n",
        "Num proteins in ../data/b1hData/newDatabase/6varpos/F2/high/protein_seq_cut3bc/TAA.txt:  1164"
       ]
      },
      {
       "output_type": "stream",
       "stream": "stdout",
       "text": [
        "\n",
        "Num proteins in ../data/b1hData/newDatabase/6varpos/F2/high/protein_seq_cut3bc/TAC.txt:  1061\n",
        "Num proteins in ../data/b1hData/newDatabase/6varpos/F2/high/protein_seq_cut3bc/TAG.txt:  665"
       ]
      },
      {
       "output_type": "stream",
       "stream": "stdout",
       "text": [
        "\n",
        "Num proteins in ../data/b1hData/newDatabase/6varpos/F2/high/protein_seq_cut3bc/TAT.txt:  1796\n",
        "Num proteins in ../data/b1hData/newDatabase/6varpos/F2/high/protein_seq_cut3bc/TCA.txt:  844\n",
        "Num proteins in ../data/b1hData/newDatabase/6varpos/F2/high/protein_seq_cut3bc/TCC.txt:  1098\n",
        "Num proteins in ../data/b1hData/newDatabase/6varpos/F2/high/protein_seq_cut3bc/TCG.txt:  1479"
       ]
      },
      {
       "output_type": "stream",
       "stream": "stdout",
       "text": [
        "\n",
        "Num proteins in ../data/b1hData/newDatabase/6varpos/F2/high/protein_seq_cut3bc/TCT.txt:  1396\n",
        "Num proteins in ../data/b1hData/newDatabase/6varpos/F2/high/protein_seq_cut3bc/TGA.txt:  687\n",
        "Num proteins in ../data/b1hData/newDatabase/6varpos/F2/high/protein_seq_cut3bc/TGC.txt:  371\n",
        "Num proteins in ../data/b1hData/newDatabase/6varpos/F2/high/protein_seq_cut3bc/TGG.txt:  5881"
       ]
      },
      {
       "output_type": "stream",
       "stream": "stdout",
       "text": [
        "\n",
        "Num proteins in ../data/b1hData/newDatabase/6varpos/F2/high/protein_seq_cut3bc/TGT.txt:  4268"
       ]
      },
      {
       "output_type": "stream",
       "stream": "stdout",
       "text": [
        "\n",
        "Num proteins in ../data/b1hData/newDatabase/6varpos/F2/high/protein_seq_cut3bc/TTA.txt:  605\n",
        "Num proteins in ../data/b1hData/newDatabase/6varpos/F2/high/protein_seq_cut3bc/TTC.txt:  540\n",
        "Num proteins in ../data/b1hData/newDatabase/6varpos/F2/high/protein_seq_cut3bc/TTG.txt:  966"
       ]
      },
      {
       "output_type": "stream",
       "stream": "stdout",
       "text": [
        "\n",
        "Num proteins in ../data/b1hData/newDatabase/6varpos/F2/high/protein_seq_cut3bc/TTT.txt:  466\n",
        "Total num protein/dna observations in all files:  112033\n",
        "Total num unique proteins in all files:  96486\n",
        "\n",
        "Num obs processed in csv to txt conversion:  112033"
       ]
      },
      {
       "output_type": "stream",
       "stream": "stdout",
       "text": [
        "\n",
        "\n",
        "Num proteins in ../data/b1hData/newDatabase/6varpos/F2/low/protein_seq_cut3bc/AAA.txt:  4681"
       ]
      },
      {
       "output_type": "stream",
       "stream": "stdout",
       "text": [
        "\n",
        "Num proteins in ../data/b1hData/newDatabase/6varpos/F2/low/protein_seq_cut3bc/AAC.txt:  8107"
       ]
      },
      {
       "output_type": "stream",
       "stream": "stdout",
       "text": [
        "\n",
        "Num proteins in ../data/b1hData/newDatabase/6varpos/F2/low/protein_seq_cut3bc/AAG.txt:  7100"
       ]
      },
      {
       "output_type": "stream",
       "stream": "stdout",
       "text": [
        "\n",
        "Num proteins in ../data/b1hData/newDatabase/6varpos/F2/low/protein_seq_cut3bc/AAT.txt:  6472"
       ]
      },
      {
       "output_type": "stream",
       "stream": "stdout",
       "text": [
        "\n",
        "Num proteins in ../data/b1hData/newDatabase/6varpos/F2/low/protein_seq_cut3bc/ACA.txt:  8375"
       ]
      },
      {
       "output_type": "stream",
       "stream": "stdout",
       "text": [
        "\n",
        "Num proteins in ../data/b1hData/newDatabase/6varpos/F2/low/protein_seq_cut3bc/ACC.txt:  5082"
       ]
      },
      {
       "output_type": "stream",
       "stream": "stdout",
       "text": [
        "\n",
        "Num proteins in ../data/b1hData/newDatabase/6varpos/F2/low/protein_seq_cut3bc/ACG.txt:  8781"
       ]
      },
      {
       "output_type": "stream",
       "stream": "stdout",
       "text": [
        "\n",
        "Num proteins in ../data/b1hData/newDatabase/6varpos/F2/low/protein_seq_cut3bc/ACT.txt:  11024"
       ]
      },
      {
       "output_type": "stream",
       "stream": "stdout",
       "text": [
        "\n",
        "Num proteins in ../data/b1hData/newDatabase/6varpos/F2/low/protein_seq_cut3bc/AGA.txt:  6022"
       ]
      },
      {
       "output_type": "stream",
       "stream": "stdout",
       "text": [
        "\n",
        "Num proteins in ../data/b1hData/newDatabase/6varpos/F2/low/protein_seq_cut3bc/AGC.txt:  3216"
       ]
      },
      {
       "output_type": "stream",
       "stream": "stdout",
       "text": [
        "\n",
        "Num proteins in ../data/b1hData/newDatabase/6varpos/F2/low/protein_seq_cut3bc/AGG.txt:  7804"
       ]
      },
      {
       "output_type": "stream",
       "stream": "stdout",
       "text": [
        "\n",
        "Num proteins in ../data/b1hData/newDatabase/6varpos/F2/low/protein_seq_cut3bc/AGT.txt:  10150"
       ]
      },
      {
       "output_type": "stream",
       "stream": "stdout",
       "text": [
        "\n",
        "Num proteins in ../data/b1hData/newDatabase/6varpos/F2/low/protein_seq_cut3bc/ATA.txt:  2650\n",
        "Num proteins in ../data/b1hData/newDatabase/6varpos/F2/low/protein_seq_cut3bc/ATC.txt:  6822"
       ]
      },
      {
       "output_type": "stream",
       "stream": "stdout",
       "text": [
        "\n",
        "Num proteins in ../data/b1hData/newDatabase/6varpos/F2/low/protein_seq_cut3bc/ATG.txt:  8484"
       ]
      },
      {
       "output_type": "stream",
       "stream": "stdout",
       "text": [
        "\n",
        "Num proteins in ../data/b1hData/newDatabase/6varpos/F2/low/protein_seq_cut3bc/ATT.txt:  9822"
       ]
      },
      {
       "output_type": "stream",
       "stream": "stdout",
       "text": [
        "\n",
        "Num proteins in ../data/b1hData/newDatabase/6varpos/F2/low/protein_seq_cut3bc/CAA.txt:  2522"
       ]
      },
      {
       "output_type": "stream",
       "stream": "stdout",
       "text": [
        "\n",
        "Num proteins in ../data/b1hData/newDatabase/6varpos/F2/low/protein_seq_cut3bc/CAC.txt:  8927"
       ]
      },
      {
       "output_type": "stream",
       "stream": "stdout",
       "text": [
        "\n",
        "Num proteins in ../data/b1hData/newDatabase/6varpos/F2/low/protein_seq_cut3bc/CAG.txt:  9978"
       ]
      },
      {
       "output_type": "stream",
       "stream": "stdout",
       "text": [
        "\n",
        "Num proteins in ../data/b1hData/newDatabase/6varpos/F2/low/protein_seq_cut3bc/CAT.txt:  7788"
       ]
      },
      {
       "output_type": "stream",
       "stream": "stdout",
       "text": [
        "\n",
        "Num proteins in ../data/b1hData/newDatabase/6varpos/F2/low/protein_seq_cut3bc/CCA.txt:  3393"
       ]
      },
      {
       "output_type": "stream",
       "stream": "stdout",
       "text": [
        "\n",
        "Num proteins in ../data/b1hData/newDatabase/6varpos/F2/low/protein_seq_cut3bc/CCC.txt:  4427"
       ]
      },
      {
       "output_type": "stream",
       "stream": "stdout",
       "text": [
        "\n",
        "Num proteins in ../data/b1hData/newDatabase/6varpos/F2/low/protein_seq_cut3bc/CCG.txt:  4181"
       ]
      },
      {
       "output_type": "stream",
       "stream": "stdout",
       "text": [
        "\n",
        "Num proteins in ../data/b1hData/newDatabase/6varpos/F2/low/protein_seq_cut3bc/CCT.txt:  5874"
       ]
      },
      {
       "output_type": "stream",
       "stream": "stdout",
       "text": [
        "\n",
        "Num proteins in ../data/b1hData/newDatabase/6varpos/F2/low/protein_seq_cut3bc/CGA.txt:  5224"
       ]
      },
      {
       "output_type": "stream",
       "stream": "stdout",
       "text": [
        "\n",
        "Num proteins in ../data/b1hData/newDatabase/6varpos/F2/low/protein_seq_cut3bc/CGC.txt:  6667"
       ]
      },
      {
       "output_type": "stream",
       "stream": "stdout",
       "text": [
        "\n",
        "Num proteins in ../data/b1hData/newDatabase/6varpos/F2/low/protein_seq_cut3bc/CGG.txt:  12139"
       ]
      },
      {
       "output_type": "stream",
       "stream": "stdout",
       "text": [
        "\n",
        "Num proteins in ../data/b1hData/newDatabase/6varpos/F2/low/protein_seq_cut3bc/CGT.txt:  7563"
       ]
      },
      {
       "output_type": "stream",
       "stream": "stdout",
       "text": [
        "\n",
        "Num proteins in ../data/b1hData/newDatabase/6varpos/F2/low/protein_seq_cut3bc/CTA.txt:  1971\n",
        "Num proteins in ../data/b1hData/newDatabase/6varpos/F2/low/protein_seq_cut3bc/CTC.txt:  3051"
       ]
      },
      {
       "output_type": "stream",
       "stream": "stdout",
       "text": [
        "\n",
        "Num proteins in ../data/b1hData/newDatabase/6varpos/F2/low/protein_seq_cut3bc/CTG.txt:  4371"
       ]
      },
      {
       "output_type": "stream",
       "stream": "stdout",
       "text": [
        "\n",
        "Num proteins in ../data/b1hData/newDatabase/6varpos/F2/low/protein_seq_cut3bc/CTT.txt:  3324"
       ]
      },
      {
       "output_type": "stream",
       "stream": "stdout",
       "text": [
        "\n",
        "Num proteins in ../data/b1hData/newDatabase/6varpos/F2/low/protein_seq_cut3bc/GAA.txt:  3822"
       ]
      },
      {
       "output_type": "stream",
       "stream": "stdout",
       "text": [
        "\n",
        "Num proteins in ../data/b1hData/newDatabase/6varpos/F2/low/protein_seq_cut3bc/GAC.txt:  6812"
       ]
      },
      {
       "output_type": "stream",
       "stream": "stdout",
       "text": [
        "\n",
        "Num proteins in ../data/b1hData/newDatabase/6varpos/F2/low/protein_seq_cut3bc/GAG.txt:  7980"
       ]
      },
      {
       "output_type": "stream",
       "stream": "stdout",
       "text": [
        "\n",
        "Num proteins in ../data/b1hData/newDatabase/6varpos/F2/low/protein_seq_cut3bc/GAT.txt:  5123"
       ]
      },
      {
       "output_type": "stream",
       "stream": "stdout",
       "text": [
        "\n",
        "Num proteins in ../data/b1hData/newDatabase/6varpos/F2/low/protein_seq_cut3bc/GCA.txt:  3285\n",
        "Num proteins in ../data/b1hData/newDatabase/6varpos/F2/low/protein_seq_cut3bc/GCC.txt:  3478"
       ]
      },
      {
       "output_type": "stream",
       "stream": "stdout",
       "text": [
        "\n",
        "Num proteins in ../data/b1hData/newDatabase/6varpos/F2/low/protein_seq_cut3bc/GCG.txt:  8971"
       ]
      },
      {
       "output_type": "stream",
       "stream": "stdout",
       "text": [
        "\n",
        "Num proteins in ../data/b1hData/newDatabase/6varpos/F2/low/protein_seq_cut3bc/GCT.txt:  7565"
       ]
      },
      {
       "output_type": "stream",
       "stream": "stdout",
       "text": [
        "\n",
        "Num proteins in ../data/b1hData/newDatabase/6varpos/F2/low/protein_seq_cut3bc/GGA.txt:  8560"
       ]
      },
      {
       "output_type": "stream",
       "stream": "stdout",
       "text": [
        "\n",
        "Num proteins in ../data/b1hData/newDatabase/6varpos/F2/low/protein_seq_cut3bc/GGC.txt:  3544"
       ]
      },
      {
       "output_type": "stream",
       "stream": "stdout",
       "text": [
        "\n",
        "Num proteins in ../data/b1hData/newDatabase/6varpos/F2/low/protein_seq_cut3bc/GGG.txt:  7980"
       ]
      },
      {
       "output_type": "stream",
       "stream": "stdout",
       "text": [
        "\n",
        "Num proteins in ../data/b1hData/newDatabase/6varpos/F2/low/protein_seq_cut3bc/GGT.txt:  5538"
       ]
      },
      {
       "output_type": "stream",
       "stream": "stdout",
       "text": [
        "\n",
        "Num proteins in ../data/b1hData/newDatabase/6varpos/F2/low/protein_seq_cut3bc/GTA.txt:  10500"
       ]
      },
      {
       "output_type": "stream",
       "stream": "stdout",
       "text": [
        "\n",
        "Num proteins in ../data/b1hData/newDatabase/6varpos/F2/low/protein_seq_cut3bc/GTC.txt:  4540"
       ]
      },
      {
       "output_type": "stream",
       "stream": "stdout",
       "text": [
        "\n",
        "Num proteins in ../data/b1hData/newDatabase/6varpos/F2/low/protein_seq_cut3bc/GTG.txt:  9351"
       ]
      },
      {
       "output_type": "stream",
       "stream": "stdout",
       "text": [
        "\n",
        "Num proteins in ../data/b1hData/newDatabase/6varpos/F2/low/protein_seq_cut3bc/GTT.txt:  9707"
       ]
      },
      {
       "output_type": "stream",
       "stream": "stdout",
       "text": [
        "\n",
        "Num proteins in ../data/b1hData/newDatabase/6varpos/F2/low/protein_seq_cut3bc/TAA.txt:  4453"
       ]
      },
      {
       "output_type": "stream",
       "stream": "stdout",
       "text": [
        "\n",
        "Num proteins in ../data/b1hData/newDatabase/6varpos/F2/low/protein_seq_cut3bc/TAC.txt:  4510"
       ]
      },
      {
       "output_type": "stream",
       "stream": "stdout",
       "text": [
        "\n",
        "Num proteins in ../data/b1hData/newDatabase/6varpos/F2/low/protein_seq_cut3bc/TAG.txt:  2747"
       ]
      },
      {
       "output_type": "stream",
       "stream": "stdout",
       "text": [
        "\n",
        "Num proteins in ../data/b1hData/newDatabase/6varpos/F2/low/protein_seq_cut3bc/TAT.txt:  7425"
       ]
      },
      {
       "output_type": "stream",
       "stream": "stdout",
       "text": [
        "\n",
        "Num proteins in ../data/b1hData/newDatabase/6varpos/F2/low/protein_seq_cut3bc/TCA.txt:  2962"
       ]
      },
      {
       "output_type": "stream",
       "stream": "stdout",
       "text": [
        "\n",
        "Num proteins in ../data/b1hData/newDatabase/6varpos/F2/low/protein_seq_cut3bc/TCC.txt:  3850"
       ]
      },
      {
       "output_type": "stream",
       "stream": "stdout",
       "text": [
        "\n",
        "Num proteins in ../data/b1hData/newDatabase/6varpos/F2/low/protein_seq_cut3bc/TCG.txt:  6111"
       ]
      },
      {
       "output_type": "stream",
       "stream": "stdout",
       "text": [
        "\n",
        "Num proteins in ../data/b1hData/newDatabase/6varpos/F2/low/protein_seq_cut3bc/TCT.txt:  5789"
       ]
      },
      {
       "output_type": "stream",
       "stream": "stdout",
       "text": [
        "\n",
        "Num proteins in ../data/b1hData/newDatabase/6varpos/F2/low/protein_seq_cut3bc/TGA.txt:  3896"
       ]
      },
      {
       "output_type": "stream",
       "stream": "stdout",
       "text": [
        "\n",
        "Num proteins in ../data/b1hData/newDatabase/6varpos/F2/low/protein_seq_cut3bc/TGC.txt:  2156"
       ]
      },
      {
       "output_type": "stream",
       "stream": "stdout",
       "text": [
        "\n",
        "Num proteins in ../data/b1hData/newDatabase/6varpos/F2/low/protein_seq_cut3bc/TGG.txt:  10557"
       ]
      },
      {
       "output_type": "stream",
       "stream": "stdout",
       "text": [
        "\n",
        "Num proteins in ../data/b1hData/newDatabase/6varpos/F2/low/protein_seq_cut3bc/TGT.txt:  13757"
       ]
      },
      {
       "output_type": "stream",
       "stream": "stdout",
       "text": [
        "\n",
        "Num proteins in ../data/b1hData/newDatabase/6varpos/F2/low/protein_seq_cut3bc/TTA.txt:  2969"
       ]
      },
      {
       "output_type": "stream",
       "stream": "stdout",
       "text": [
        "\n",
        "Num proteins in ../data/b1hData/newDatabase/6varpos/F2/low/protein_seq_cut3bc/TTC.txt:  3701"
       ]
      },
      {
       "output_type": "stream",
       "stream": "stdout",
       "text": [
        "\n",
        "Num proteins in ../data/b1hData/newDatabase/6varpos/F2/low/protein_seq_cut3bc/TTG.txt:  5953"
       ]
      },
      {
       "output_type": "stream",
       "stream": "stdout",
       "text": [
        "\n",
        "Num proteins in ../data/b1hData/newDatabase/6varpos/F2/low/protein_seq_cut3bc/TTT.txt:  3654"
       ]
      },
      {
       "output_type": "stream",
       "stream": "stdout",
       "text": [
        "\n",
        "Total num protein/dna observations in all files:  397238\n",
        "Total num unique proteins in all files:  341435\n",
        "\n",
        "Num obs processed in csv to txt conversion:  397238"
       ]
      },
      {
       "output_type": "stream",
       "stream": "stdout",
       "text": [
        "\n",
        "\n",
        "Num proteins in ../data/b1hData/newDatabase/6varpos/F3/high/protein_seq_cut3bc/AAA.txt:  2830"
       ]
      },
      {
       "output_type": "stream",
       "stream": "stdout",
       "text": [
        "\n",
        "Num proteins in ../data/b1hData/newDatabase/6varpos/F3/high/protein_seq_cut3bc/AAC.txt:  2748"
       ]
      },
      {
       "output_type": "stream",
       "stream": "stdout",
       "text": [
        "\n",
        "Num proteins in ../data/b1hData/newDatabase/6varpos/F3/high/protein_seq_cut3bc/AAG.txt:  2574\n",
        "Num proteins in ../data/b1hData/newDatabase/6varpos/F3/high/protein_seq_cut3bc/AAT.txt:  1079\n",
        "Num proteins in ../data/b1hData/newDatabase/6varpos/F3/high/protein_seq_cut3bc/ACA.txt:  839"
       ]
      },
      {
       "output_type": "stream",
       "stream": "stdout",
       "text": [
        "\n",
        "Num proteins in ../data/b1hData/newDatabase/6varpos/F3/high/protein_seq_cut3bc/ACC.txt:  427\n",
        "Num proteins in ../data/b1hData/newDatabase/6varpos/F3/high/protein_seq_cut3bc/ACG.txt:  2483\n",
        "Num proteins in ../data/b1hData/newDatabase/6varpos/F3/high/protein_seq_cut3bc/ACT.txt:  2351"
       ]
      },
      {
       "output_type": "stream",
       "stream": "stdout",
       "text": [
        "\n",
        "Num proteins in ../data/b1hData/newDatabase/6varpos/F3/high/protein_seq_cut3bc/AGA.txt:  371\n",
        "Num proteins in ../data/b1hData/newDatabase/6varpos/F3/high/protein_seq_cut3bc/AGC.txt:  5460"
       ]
      },
      {
       "output_type": "stream",
       "stream": "stdout",
       "text": [
        "\n",
        "Num proteins in ../data/b1hData/newDatabase/6varpos/F3/high/protein_seq_cut3bc/AGG.txt:  5378"
       ]
      },
      {
       "output_type": "stream",
       "stream": "stdout",
       "text": [
        "\n",
        "Num proteins in ../data/b1hData/newDatabase/6varpos/F3/high/protein_seq_cut3bc/AGT.txt:  3092\n",
        "Num proteins in ../data/b1hData/newDatabase/6varpos/F3/high/protein_seq_cut3bc/ATA.txt:  2685"
       ]
      },
      {
       "output_type": "stream",
       "stream": "stdout",
       "text": [
        "\n",
        "Num proteins in ../data/b1hData/newDatabase/6varpos/F3/high/protein_seq_cut3bc/ATC.txt:  3281"
       ]
      },
      {
       "output_type": "stream",
       "stream": "stdout",
       "text": [
        "\n",
        "Num proteins in ../data/b1hData/newDatabase/6varpos/F3/high/protein_seq_cut3bc/ATG.txt:  2015\n",
        "Num proteins in ../data/b1hData/newDatabase/6varpos/F3/high/protein_seq_cut3bc/ATT.txt:  3731"
       ]
      },
      {
       "output_type": "stream",
       "stream": "stdout",
       "text": [
        "\n",
        "Num proteins in ../data/b1hData/newDatabase/6varpos/F3/high/protein_seq_cut3bc/CAA.txt:  1930"
       ]
      },
      {
       "output_type": "stream",
       "stream": "stdout",
       "text": [
        "\n",
        "Num proteins in ../data/b1hData/newDatabase/6varpos/F3/high/protein_seq_cut3bc/CAC.txt:  2896"
       ]
      },
      {
       "output_type": "stream",
       "stream": "stdout",
       "text": [
        "\n",
        "Num proteins in ../data/b1hData/newDatabase/6varpos/F3/high/protein_seq_cut3bc/CAG.txt:  1406"
       ]
      },
      {
       "output_type": "stream",
       "stream": "stdout",
       "text": [
        "\n",
        "Num proteins in ../data/b1hData/newDatabase/6varpos/F3/high/protein_seq_cut3bc/CAT.txt:  1487"
       ]
      },
      {
       "output_type": "stream",
       "stream": "stdout",
       "text": [
        "\n",
        "Num proteins in ../data/b1hData/newDatabase/6varpos/F3/high/protein_seq_cut3bc/CCA.txt:  1632\n",
        "Num proteins in ../data/b1hData/newDatabase/6varpos/F3/high/protein_seq_cut3bc/CCC.txt:  1314"
       ]
      },
      {
       "output_type": "stream",
       "stream": "stdout",
       "text": [
        "\n",
        "Num proteins in ../data/b1hData/newDatabase/6varpos/F3/high/protein_seq_cut3bc/CCG.txt:  1824\n",
        "Num proteins in ../data/b1hData/newDatabase/6varpos/F3/high/protein_seq_cut3bc/CCT.txt:  2152"
       ]
      },
      {
       "output_type": "stream",
       "stream": "stdout",
       "text": [
        "\n",
        "Num proteins in ../data/b1hData/newDatabase/6varpos/F3/high/protein_seq_cut3bc/CGA.txt:  1394"
       ]
      },
      {
       "output_type": "stream",
       "stream": "stdout",
       "text": [
        "\n",
        "Num proteins in ../data/b1hData/newDatabase/6varpos/F3/high/protein_seq_cut3bc/CGC.txt:  2756"
       ]
      },
      {
       "output_type": "stream",
       "stream": "stdout",
       "text": [
        "\n",
        "Num proteins in ../data/b1hData/newDatabase/6varpos/F3/high/protein_seq_cut3bc/CGG.txt:  755\n",
        "Num proteins in ../data/b1hData/newDatabase/6varpos/F3/high/protein_seq_cut3bc/CGT.txt:  1132"
       ]
      },
      {
       "output_type": "stream",
       "stream": "stdout",
       "text": [
        "\n",
        "Num proteins in ../data/b1hData/newDatabase/6varpos/F3/high/protein_seq_cut3bc/CTA.txt:  2471\n",
        "Num proteins in ../data/b1hData/newDatabase/6varpos/F3/high/protein_seq_cut3bc/CTC.txt:  2234"
       ]
      },
      {
       "output_type": "stream",
       "stream": "stdout",
       "text": [
        "\n",
        "Num proteins in ../data/b1hData/newDatabase/6varpos/F3/high/protein_seq_cut3bc/CTG.txt:  1788\n",
        "Num proteins in ../data/b1hData/newDatabase/6varpos/F3/high/protein_seq_cut3bc/CTT.txt:  2245"
       ]
      },
      {
       "output_type": "stream",
       "stream": "stdout",
       "text": [
        "\n",
        "Num proteins in ../data/b1hData/newDatabase/6varpos/F3/high/protein_seq_cut3bc/GAA.txt:  1081\n",
        "Num proteins in ../data/b1hData/newDatabase/6varpos/F3/high/protein_seq_cut3bc/GAC.txt:  842"
       ]
      },
      {
       "output_type": "stream",
       "stream": "stdout",
       "text": [
        "\n",
        "Num proteins in ../data/b1hData/newDatabase/6varpos/F3/high/protein_seq_cut3bc/GAG.txt:  1705\n",
        "Num proteins in ../data/b1hData/newDatabase/6varpos/F3/high/protein_seq_cut3bc/GAT.txt:  1436"
       ]
      },
      {
       "output_type": "stream",
       "stream": "stdout",
       "text": [
        "\n",
        "Num proteins in ../data/b1hData/newDatabase/6varpos/F3/high/protein_seq_cut3bc/GCA.txt:  1704\n",
        "Num proteins in ../data/b1hData/newDatabase/6varpos/F3/high/protein_seq_cut3bc/GCC.txt:  1036\n",
        "Num proteins in ../data/b1hData/newDatabase/6varpos/F3/high/protein_seq_cut3bc/GCG.txt:  1575"
       ]
      },
      {
       "output_type": "stream",
       "stream": "stdout",
       "text": [
        "\n",
        "Num proteins in ../data/b1hData/newDatabase/6varpos/F3/high/protein_seq_cut3bc/GCT.txt:  2179"
       ]
      },
      {
       "output_type": "stream",
       "stream": "stdout",
       "text": [
        "\n",
        "Num proteins in ../data/b1hData/newDatabase/6varpos/F3/high/protein_seq_cut3bc/GGA.txt:  1698"
       ]
      },
      {
       "output_type": "stream",
       "stream": "stdout",
       "text": [
        "\n",
        "Num proteins in ../data/b1hData/newDatabase/6varpos/F3/high/protein_seq_cut3bc/GGC.txt:  3217"
       ]
      },
      {
       "output_type": "stream",
       "stream": "stdout",
       "text": [
        "\n",
        "Num proteins in ../data/b1hData/newDatabase/6varpos/F3/high/protein_seq_cut3bc/GGG.txt:  2671\n",
        "Num proteins in ../data/b1hData/newDatabase/6varpos/F3/high/protein_seq_cut3bc/GGT.txt:  2401"
       ]
      },
      {
       "output_type": "stream",
       "stream": "stdout",
       "text": [
        "\n",
        "Num proteins in ../data/b1hData/newDatabase/6varpos/F3/high/protein_seq_cut3bc/GTA.txt:  1342\n",
        "Num proteins in ../data/b1hData/newDatabase/6varpos/F3/high/protein_seq_cut3bc/GTC.txt:  2194"
       ]
      },
      {
       "output_type": "stream",
       "stream": "stdout",
       "text": [
        "\n",
        "Num proteins in ../data/b1hData/newDatabase/6varpos/F3/high/protein_seq_cut3bc/GTG.txt:  2238"
       ]
      },
      {
       "output_type": "stream",
       "stream": "stdout",
       "text": [
        "\n",
        "Num proteins in ../data/b1hData/newDatabase/6varpos/F3/high/protein_seq_cut3bc/GTT.txt:  3353"
       ]
      },
      {
       "output_type": "stream",
       "stream": "stdout",
       "text": [
        "\n",
        "Num proteins in ../data/b1hData/newDatabase/6varpos/F3/high/protein_seq_cut3bc/TAA.txt:  2247"
       ]
      },
      {
       "output_type": "stream",
       "stream": "stdout",
       "text": [
        "\n",
        "Num proteins in ../data/b1hData/newDatabase/6varpos/F3/high/protein_seq_cut3bc/TAC.txt:  1925"
       ]
      },
      {
       "output_type": "stream",
       "stream": "stdout",
       "text": [
        "\n",
        "Num proteins in ../data/b1hData/newDatabase/6varpos/F3/high/protein_seq_cut3bc/TAG.txt:  1016\n",
        "Num proteins in ../data/b1hData/newDatabase/6varpos/F3/high/protein_seq_cut3bc/TAT.txt:  2007"
       ]
      },
      {
       "output_type": "stream",
       "stream": "stdout",
       "text": [
        "\n",
        "Num proteins in ../data/b1hData/newDatabase/6varpos/F3/high/protein_seq_cut3bc/TCA.txt:  2761"
       ]
      },
      {
       "output_type": "stream",
       "stream": "stdout",
       "text": [
        "\n",
        "Num proteins in ../data/b1hData/newDatabase/6varpos/F3/high/protein_seq_cut3bc/TCC.txt:  1071"
       ]
      },
      {
       "output_type": "stream",
       "stream": "stdout",
       "text": [
        "\n",
        "Num proteins in ../data/b1hData/newDatabase/6varpos/F3/high/protein_seq_cut3bc/TCG.txt:  1545\n",
        "Num proteins in ../data/b1hData/newDatabase/6varpos/F3/high/protein_seq_cut3bc/TCT.txt:  1554"
       ]
      },
      {
       "output_type": "stream",
       "stream": "stdout",
       "text": [
        "\n",
        "Num proteins in ../data/b1hData/newDatabase/6varpos/F3/high/protein_seq_cut3bc/TGA.txt:  2205\n",
        "Num proteins in ../data/b1hData/newDatabase/6varpos/F3/high/protein_seq_cut3bc/TGC.txt:  4248"
       ]
      },
      {
       "output_type": "stream",
       "stream": "stdout",
       "text": [
        "\n",
        "Num proteins in ../data/b1hData/newDatabase/6varpos/F3/high/protein_seq_cut3bc/TGG.txt:  837"
       ]
      },
      {
       "output_type": "stream",
       "stream": "stdout",
       "text": [
        "\n",
        "Num proteins in ../data/b1hData/newDatabase/6varpos/F3/high/protein_seq_cut3bc/TGT.txt:  8366"
       ]
      },
      {
       "output_type": "stream",
       "stream": "stdout",
       "text": [
        "\n",
        "Num proteins in ../data/b1hData/newDatabase/6varpos/F3/high/protein_seq_cut3bc/TTA.txt:  4429"
       ]
      },
      {
       "output_type": "stream",
       "stream": "stdout",
       "text": [
        "\n",
        "Num proteins in ../data/b1hData/newDatabase/6varpos/F3/high/protein_seq_cut3bc/TTC.txt:  2657\n",
        "Num proteins in ../data/b1hData/newDatabase/6varpos/F3/high/protein_seq_cut3bc/TTG.txt:  2475"
       ]
      },
      {
       "output_type": "stream",
       "stream": "stdout",
       "text": [
        "\n",
        "Num proteins in ../data/b1hData/newDatabase/6varpos/F3/high/protein_seq_cut3bc/TTT.txt:  1711\n",
        "Total num protein/dna observations in all files:  142486\n",
        "Total num unique proteins in all files:  112923\n",
        "\n",
        "Num obs processed in csv to txt conversion:  142486"
       ]
      },
      {
       "output_type": "stream",
       "stream": "stdout",
       "text": [
        "\n",
        "\n",
        "Num proteins in ../data/b1hData/newDatabase/6varpos/F3/low/protein_seq_cut3bc/AAA.txt:  4993"
       ]
      },
      {
       "output_type": "stream",
       "stream": "stdout",
       "text": [
        "\n",
        "Num proteins in ../data/b1hData/newDatabase/6varpos/F3/low/protein_seq_cut3bc/AAC.txt:  5211"
       ]
      },
      {
       "output_type": "stream",
       "stream": "stdout",
       "text": [
        "\n",
        "Num proteins in ../data/b1hData/newDatabase/6varpos/F3/low/protein_seq_cut3bc/AAG.txt:  5954"
       ]
      },
      {
       "output_type": "stream",
       "stream": "stdout",
       "text": [
        "\n",
        "Num proteins in ../data/b1hData/newDatabase/6varpos/F3/low/protein_seq_cut3bc/AAT.txt:  6411"
       ]
      },
      {
       "output_type": "stream",
       "stream": "stdout",
       "text": [
        "\n",
        "Num proteins in ../data/b1hData/newDatabase/6varpos/F3/low/protein_seq_cut3bc/ACA.txt:  2591\n",
        "Num proteins in ../data/b1hData/newDatabase/6varpos/F3/low/protein_seq_cut3bc/ACC.txt:  1708"
       ]
      },
      {
       "output_type": "stream",
       "stream": "stdout",
       "text": [
        "\n",
        "Num proteins in ../data/b1hData/newDatabase/6varpos/F3/low/protein_seq_cut3bc/ACG.txt:  5392"
       ]
      },
      {
       "output_type": "stream",
       "stream": "stdout",
       "text": [
        "\n",
        "Num proteins in ../data/b1hData/newDatabase/6varpos/F3/low/protein_seq_cut3bc/ACT.txt:  4255"
       ]
      },
      {
       "output_type": "stream",
       "stream": "stdout",
       "text": [
        "\n",
        "Num proteins in ../data/b1hData/newDatabase/6varpos/F3/low/protein_seq_cut3bc/AGA.txt:  2383\n",
        "Num proteins in ../data/b1hData/newDatabase/6varpos/F3/low/protein_seq_cut3bc/AGC.txt:  10099"
       ]
      },
      {
       "output_type": "stream",
       "stream": "stdout",
       "text": [
        "\n",
        "Num proteins in ../data/b1hData/newDatabase/6varpos/F3/low/protein_seq_cut3bc/AGG.txt:  5175"
       ]
      },
      {
       "output_type": "stream",
       "stream": "stdout",
       "text": [
        "\n",
        "Num proteins in ../data/b1hData/newDatabase/6varpos/F3/low/protein_seq_cut3bc/AGT.txt:  6701"
       ]
      },
      {
       "output_type": "stream",
       "stream": "stdout",
       "text": [
        "\n",
        "Num proteins in ../data/b1hData/newDatabase/6varpos/F3/low/protein_seq_cut3bc/ATA.txt:  3136\n",
        "Num proteins in ../data/b1hData/newDatabase/6varpos/F3/low/protein_seq_cut3bc/ATC.txt:  5953"
       ]
      },
      {
       "output_type": "stream",
       "stream": "stdout",
       "text": [
        "\n",
        "Num proteins in ../data/b1hData/newDatabase/6varpos/F3/low/protein_seq_cut3bc/ATG.txt:  4566"
       ]
      },
      {
       "output_type": "stream",
       "stream": "stdout",
       "text": [
        "\n",
        "Num proteins in ../data/b1hData/newDatabase/6varpos/F3/low/protein_seq_cut3bc/ATT.txt:  5891"
       ]
      },
      {
       "output_type": "stream",
       "stream": "stdout",
       "text": [
        "\n",
        "Num proteins in ../data/b1hData/newDatabase/6varpos/F3/low/protein_seq_cut3bc/CAA.txt:  4828"
       ]
      },
      {
       "output_type": "stream",
       "stream": "stdout",
       "text": [
        "\n",
        "Num proteins in ../data/b1hData/newDatabase/6varpos/F3/low/protein_seq_cut3bc/CAC.txt:  6476"
       ]
      },
      {
       "output_type": "stream",
       "stream": "stdout",
       "text": [
        "\n",
        "Num proteins in ../data/b1hData/newDatabase/6varpos/F3/low/protein_seq_cut3bc/CAG.txt:  5615"
       ]
      },
      {
       "output_type": "stream",
       "stream": "stdout",
       "text": [
        "\n",
        "Num proteins in ../data/b1hData/newDatabase/6varpos/F3/low/protein_seq_cut3bc/CAT.txt:  5796"
       ]
      },
      {
       "output_type": "stream",
       "stream": "stdout",
       "text": [
        "\n",
        "Num proteins in ../data/b1hData/newDatabase/6varpos/F3/low/protein_seq_cut3bc/CCA.txt:  3582"
       ]
      },
      {
       "output_type": "stream",
       "stream": "stdout",
       "text": [
        "\n",
        "Num proteins in ../data/b1hData/newDatabase/6varpos/F3/low/protein_seq_cut3bc/CCC.txt:  3139"
       ]
      },
      {
       "output_type": "stream",
       "stream": "stdout",
       "text": [
        "\n",
        "Num proteins in ../data/b1hData/newDatabase/6varpos/F3/low/protein_seq_cut3bc/CCG.txt:  6954"
       ]
      },
      {
       "output_type": "stream",
       "stream": "stdout",
       "text": [
        "\n",
        "Num proteins in ../data/b1hData/newDatabase/6varpos/F3/low/protein_seq_cut3bc/CCT.txt:  4731"
       ]
      },
      {
       "output_type": "stream",
       "stream": "stdout",
       "text": [
        "\n",
        "Num proteins in ../data/b1hData/newDatabase/6varpos/F3/low/protein_seq_cut3bc/CGA.txt:  7806"
       ]
      },
      {
       "output_type": "stream",
       "stream": "stdout",
       "text": [
        "\n",
        "Num proteins in ../data/b1hData/newDatabase/6varpos/F3/low/protein_seq_cut3bc/CGC.txt:  8900"
       ]
      },
      {
       "output_type": "stream",
       "stream": "stdout",
       "text": [
        "\n",
        "Num proteins in ../data/b1hData/newDatabase/6varpos/F3/low/protein_seq_cut3bc/CGG.txt:  2576\n",
        "Num proteins in ../data/b1hData/newDatabase/6varpos/F3/low/protein_seq_cut3bc/CGT.txt:  6235"
       ]
      },
      {
       "output_type": "stream",
       "stream": "stdout",
       "text": [
        "\n",
        "Num proteins in ../data/b1hData/newDatabase/6varpos/F3/low/protein_seq_cut3bc/CTA.txt:  7636"
       ]
      },
      {
       "output_type": "stream",
       "stream": "stdout",
       "text": [
        "\n",
        "Num proteins in ../data/b1hData/newDatabase/6varpos/F3/low/protein_seq_cut3bc/CTC.txt:  7543"
       ]
      },
      {
       "output_type": "stream",
       "stream": "stdout",
       "text": [
        "\n",
        "Num proteins in ../data/b1hData/newDatabase/6varpos/F3/low/protein_seq_cut3bc/CTG.txt:  6058"
       ]
      },
      {
       "output_type": "stream",
       "stream": "stdout",
       "text": [
        "\n",
        "Num proteins in ../data/b1hData/newDatabase/6varpos/F3/low/protein_seq_cut3bc/CTT.txt:  13740"
       ]
      },
      {
       "output_type": "stream",
       "stream": "stdout",
       "text": [
        "\n",
        "Num proteins in ../data/b1hData/newDatabase/6varpos/F3/low/protein_seq_cut3bc/GAA.txt:  3717\n",
        "Num proteins in ../data/b1hData/newDatabase/6varpos/F3/low/protein_seq_cut3bc/GAC.txt:  5065"
       ]
      },
      {
       "output_type": "stream",
       "stream": "stdout",
       "text": [
        "\n",
        "Num proteins in ../data/b1hData/newDatabase/6varpos/F3/low/protein_seq_cut3bc/GAG.txt:  6927"
       ]
      },
      {
       "output_type": "stream",
       "stream": "stdout",
       "text": [
        "\n",
        "Num proteins in ../data/b1hData/newDatabase/6varpos/F3/low/protein_seq_cut3bc/GAT.txt:  7411"
       ]
      },
      {
       "output_type": "stream",
       "stream": "stdout",
       "text": [
        "\n",
        "Num proteins in ../data/b1hData/newDatabase/6varpos/F3/low/protein_seq_cut3bc/GCA.txt:  3577\n",
        "Num proteins in ../data/b1hData/newDatabase/6varpos/F3/low/protein_seq_cut3bc/GCC.txt:  5018"
       ]
      },
      {
       "output_type": "stream",
       "stream": "stdout",
       "text": [
        "\n",
        "Num proteins in ../data/b1hData/newDatabase/6varpos/F3/low/protein_seq_cut3bc/GCG.txt:  5567"
       ]
      },
      {
       "output_type": "stream",
       "stream": "stdout",
       "text": [
        "\n",
        "Num proteins in ../data/b1hData/newDatabase/6varpos/F3/low/protein_seq_cut3bc/GCT.txt:  5818"
       ]
      },
      {
       "output_type": "stream",
       "stream": "stdout",
       "text": [
        "\n",
        "Num proteins in ../data/b1hData/newDatabase/6varpos/F3/low/protein_seq_cut3bc/GGA.txt:  2983"
       ]
      },
      {
       "output_type": "stream",
       "stream": "stdout",
       "text": [
        "\n",
        "Num proteins in ../data/b1hData/newDatabase/6varpos/F3/low/protein_seq_cut3bc/GGC.txt:  5274"
       ]
      },
      {
       "output_type": "stream",
       "stream": "stdout",
       "text": [
        "\n",
        "Num proteins in ../data/b1hData/newDatabase/6varpos/F3/low/protein_seq_cut3bc/GGG.txt:  6198"
       ]
      },
      {
       "output_type": "stream",
       "stream": "stdout",
       "text": [
        "\n",
        "Num proteins in ../data/b1hData/newDatabase/6varpos/F3/low/protein_seq_cut3bc/GGT.txt:  6608"
       ]
      },
      {
       "output_type": "stream",
       "stream": "stdout",
       "text": [
        "\n",
        "Num proteins in ../data/b1hData/newDatabase/6varpos/F3/low/protein_seq_cut3bc/GTA.txt:  4000"
       ]
      },
      {
       "output_type": "stream",
       "stream": "stdout",
       "text": [
        "\n",
        "Num proteins in ../data/b1hData/newDatabase/6varpos/F3/low/protein_seq_cut3bc/GTC.txt:  5991"
       ]
      },
      {
       "output_type": "stream",
       "stream": "stdout",
       "text": [
        "\n",
        "Num proteins in ../data/b1hData/newDatabase/6varpos/F3/low/protein_seq_cut3bc/GTG.txt:  6753"
       ]
      },
      {
       "output_type": "stream",
       "stream": "stdout",
       "text": [
        "\n",
        "Num proteins in ../data/b1hData/newDatabase/6varpos/F3/low/protein_seq_cut3bc/GTT.txt:  8008"
       ]
      },
      {
       "output_type": "stream",
       "stream": "stdout",
       "text": [
        "\n",
        "Num proteins in ../data/b1hData/newDatabase/6varpos/F3/low/protein_seq_cut3bc/TAA.txt:  2131"
       ]
      },
      {
       "output_type": "stream",
       "stream": "stdout",
       "text": [
        "\n",
        "Num proteins in ../data/b1hData/newDatabase/6varpos/F3/low/protein_seq_cut3bc/TAC.txt:  4777"
       ]
      },
      {
       "output_type": "stream",
       "stream": "stdout",
       "text": [
        "\n",
        "Num proteins in ../data/b1hData/newDatabase/6varpos/F3/low/protein_seq_cut3bc/TAG.txt:  3718"
       ]
      },
      {
       "output_type": "stream",
       "stream": "stdout",
       "text": [
        "\n",
        "Num proteins in ../data/b1hData/newDatabase/6varpos/F3/low/protein_seq_cut3bc/TAT.txt:  6017"
       ]
      },
      {
       "output_type": "stream",
       "stream": "stdout",
       "text": [
        "\n",
        "Num proteins in ../data/b1hData/newDatabase/6varpos/F3/low/protein_seq_cut3bc/TCA.txt:  1744\n",
        "Num proteins in ../data/b1hData/newDatabase/6varpos/F3/low/protein_seq_cut3bc/TCC.txt:  2448"
       ]
      },
      {
       "output_type": "stream",
       "stream": "stdout",
       "text": [
        "\n",
        "Num proteins in ../data/b1hData/newDatabase/6varpos/F3/low/protein_seq_cut3bc/TCG.txt:  2967"
       ]
      },
      {
       "output_type": "stream",
       "stream": "stdout",
       "text": [
        "\n",
        "Num proteins in ../data/b1hData/newDatabase/6varpos/F3/low/protein_seq_cut3bc/TCT.txt:  9408"
       ]
      },
      {
       "output_type": "stream",
       "stream": "stdout",
       "text": [
        "\n",
        "Num proteins in ../data/b1hData/newDatabase/6varpos/F3/low/protein_seq_cut3bc/TGA.txt:  6718"
       ]
      },
      {
       "output_type": "stream",
       "stream": "stdout",
       "text": [
        "\n",
        "Num proteins in ../data/b1hData/newDatabase/6varpos/F3/low/protein_seq_cut3bc/TGC.txt:  10607"
       ]
      },
      {
       "output_type": "stream",
       "stream": "stdout",
       "text": [
        "\n",
        "Num proteins in ../data/b1hData/newDatabase/6varpos/F3/low/protein_seq_cut3bc/TGG.txt:  2263\n",
        "Num proteins in ../data/b1hData/newDatabase/6varpos/F3/low/protein_seq_cut3bc/TGT.txt:  12531"
       ]
      },
      {
       "output_type": "stream",
       "stream": "stdout",
       "text": [
        "\n",
        "Num proteins in ../data/b1hData/newDatabase/6varpos/F3/low/protein_seq_cut3bc/TTA.txt:  9429"
       ]
      },
      {
       "output_type": "stream",
       "stream": "stdout",
       "text": [
        "\n",
        "Num proteins in ../data/b1hData/newDatabase/6varpos/F3/low/protein_seq_cut3bc/TTC.txt:  10623"
       ]
      },
      {
       "output_type": "stream",
       "stream": "stdout",
       "text": [
        "\n",
        "Num proteins in ../data/b1hData/newDatabase/6varpos/F3/low/protein_seq_cut3bc/TTG.txt:  5189"
       ]
      },
      {
       "output_type": "stream",
       "stream": "stdout",
       "text": [
        "\n",
        "Num proteins in ../data/b1hData/newDatabase/6varpos/F3/low/protein_seq_cut3bc/TTT.txt:  6439"
       ]
      },
      {
       "output_type": "stream",
       "stream": "stdout",
       "text": [
        "\n",
        "Total num protein/dna observations in all files:  367958\n",
        "Total num unique proteins in all files:  264825\n",
        "\n",
        "Num obs processed in csv to txt conversion:  367958"
       ]
      },
      {
       "output_type": "stream",
       "stream": "stdout",
       "text": [
        "\n",
        "\n"
       ]
      }
     ],
     "prompt_number": 2
    },
    {
     "cell_type": "code",
     "collapsed": false,
     "input": [
      "prefix = '../data/b1hData/newDatabase/5varpos/'\n",
      "numVarPos = 5\n",
      "fings = ['F2', 'F3']\n",
      "strins = ['high', 'low']\n",
      "for fing in fings:\n",
      "    for strin in strins:\n",
      "        path = prefix + fing + '/' + strin + '/' + 'protein_seq_cut3bc/'\n",
      "        targetFiles2singleCSV(path, numVarPos, '.txt', style = 'verbose')\n",
      "        csv2txtFile(path, numVarPos, style = 'verbose')\n",
      "        print"
     ],
     "language": "python",
     "metadata": {},
     "outputs": [
      {
       "output_type": "stream",
       "stream": "stdout",
       "text": [
        "Invalid File Name: AAA.txt\n",
        "Invalid File Name: AAC.txt\n",
        "Num proteins in ../data/b1hData/newDatabase/5varpos/F2/high/protein_seq_cut3bc/AAG.txt:  2404\n",
        "Invalid File Name: AAT.txt\n",
        "Invalid File Name: ACA.txt\n",
        "Invalid File Name: ACC.txt\n",
        "Invalid File Name: ACG.txt\n",
        "Invalid File Name: ACT.txt\n",
        "Invalid File Name: AGA.txt\n",
        "Invalid File Name: AGC.txt\n",
        "Invalid File Name: AGG.txt\n",
        "Invalid File Name: AGT.txt\n",
        "Invalid File Name: ATA.txt\n",
        "Invalid File Name: ATC.txt\n",
        "Invalid File Name: ATG.txt\n",
        "Invalid File Name: ATT.txt\n",
        "Num proteins in ../data/b1hData/newDatabase/5varpos/F2/high/protein_seq_cut3bc/CAA.txt:  1418"
       ]
      },
      {
       "output_type": "stream",
       "stream": "stdout",
       "text": [
        "\n",
        "Num proteins in ../data/b1hData/newDatabase/5varpos/F2/high/protein_seq_cut3bc/CAC.txt:  1803\n",
        "Num proteins in ../data/b1hData/newDatabase/5varpos/F2/high/protein_seq_cut3bc/CAG.txt:  1947"
       ]
      },
      {
       "output_type": "stream",
       "stream": "stdout",
       "text": [
        "\n",
        "Num proteins in ../data/b1hData/newDatabase/5varpos/F2/high/protein_seq_cut3bc/CAT.txt:  1960\n",
        "Invalid File Name: CCA.txt\n",
        "Invalid File Name: CCC.txt\n",
        "Invalid File Name: CCG.txt\n",
        "Invalid File Name: CCT.txt\n",
        "Invalid File Name: CGA.txt\n",
        "Invalid File Name: CGC.txt\n",
        "Invalid File Name: CGG.txt\n",
        "Invalid File Name: CGT.txt\n",
        "Invalid File Name: CTA.txt\n",
        "Invalid File Name: CTC.txt\n",
        "Invalid File Name: CTG.txt\n",
        "Invalid File Name: CTT.txt\n",
        "Invalid File Name: GAA.txt\n",
        "Invalid File Name: GAC.txt\n",
        "Num proteins in ../data/b1hData/newDatabase/5varpos/F2/high/protein_seq_cut3bc/GAG.txt:  5395"
       ]
      },
      {
       "output_type": "stream",
       "stream": "stdout",
       "text": [
        "\n",
        "Invalid File Name: GAT.txt\n",
        "Invalid File Name: GCA.txt\n",
        "Invalid File Name: GCC.txt\n",
        "Invalid File Name: GCG.txt\n",
        "Invalid File Name: GCT.txt\n",
        "Num proteins in ../data/b1hData/newDatabase/5varpos/F2/high/protein_seq_cut3bc/GGA.txt:  1834\n",
        "Invalid File Name: GGC.txt\n",
        "Num proteins in ../data/b1hData/newDatabase/5varpos/F2/high/protein_seq_cut3bc/GGG.txt:  2589"
       ]
      },
      {
       "output_type": "stream",
       "stream": "stdout",
       "text": [
        "\n",
        "Invalid File Name: GGT.txt\n",
        "Invalid File Name: GTA.txt\n",
        "Invalid File Name: GTC.txt\n",
        "Invalid File Name: GTG.txt\n",
        "Invalid File Name: GTT.txt\n",
        "Invalid File Name: TAA.txt\n",
        "Invalid File Name: TAC.txt\n",
        "Num proteins in ../data/b1hData/newDatabase/5varpos/F2/high/protein_seq_cut3bc/TAG.txt:  1529\n",
        "Invalid File Name: TAT.txt\n",
        "Invalid File Name: TCA.txt\n",
        "Invalid File Name: TCC.txt\n",
        "Invalid File Name: TCG.txt\n",
        "Invalid File Name: TCT.txt\n",
        "Invalid File Name: TGA.txt\n",
        "Invalid File Name: TGC.txt\n",
        "Invalid File Name: TGG.txt\n",
        "Invalid File Name: TGT.txt\n",
        "Invalid File Name: TTA.txt\n",
        "Invalid File Name: TTC.txt\n",
        "Invalid File Name: TTG.txt\n",
        "Invalid File Name: TTT.txt\n",
        "Total num protein/dna observations in all files:  20879\n",
        "Total num unique proteins in all files:  13564\n",
        "\n",
        "Num obs processed in csv to txt conversion:  20879"
       ]
      },
      {
       "output_type": "stream",
       "stream": "stdout",
       "text": [
        "\n",
        "\n",
        "Invalid File Name: AAA.txt"
       ]
      },
      {
       "output_type": "stream",
       "stream": "stdout",
       "text": [
        "\n",
        "Invalid File Name: AAC.txt\n",
        "Num proteins in ../data/b1hData/newDatabase/5varpos/F2/low/protein_seq_cut3bc/AAG.txt:  7149"
       ]
      },
      {
       "output_type": "stream",
       "stream": "stdout",
       "text": [
        "\n",
        "Invalid File Name: AAT.txt\n",
        "Invalid File Name: ACA.txt\n",
        "Invalid File Name: ACC.txt\n",
        "Invalid File Name: ACG.txt\n",
        "Invalid File Name: ACT.txt\n",
        "Invalid File Name: AGA.txt\n",
        "Invalid File Name: AGC.txt\n",
        "Invalid File Name: AGG.txt\n",
        "Invalid File Name: AGT.txt\n",
        "Invalid File Name: ATA.txt\n",
        "Invalid File Name: ATC.txt\n",
        "Invalid File Name: ATG.txt\n",
        "Invalid File Name: ATT.txt\n",
        "Num proteins in ../data/b1hData/newDatabase/5varpos/F2/low/protein_seq_cut3bc/CAA.txt:  5510"
       ]
      },
      {
       "output_type": "stream",
       "stream": "stdout",
       "text": [
        "\n",
        "Num proteins in ../data/b1hData/newDatabase/5varpos/F2/low/protein_seq_cut3bc/CAC.txt:  5534\n",
        "Num proteins in ../data/b1hData/newDatabase/5varpos/F2/low/protein_seq_cut3bc/CAG.txt:  7816"
       ]
      },
      {
       "output_type": "stream",
       "stream": "stdout",
       "text": [
        "\n",
        "Num proteins in ../data/b1hData/newDatabase/5varpos/F2/low/protein_seq_cut3bc/CAT.txt:  4955"
       ]
      },
      {
       "output_type": "stream",
       "stream": "stdout",
       "text": [
        "\n",
        "Invalid File Name: CCA.txt\n",
        "Invalid File Name: CCC.txt\n",
        "Invalid File Name: CCG.txt\n",
        "Invalid File Name: CCT.txt\n",
        "Invalid File Name: CGA.txt\n",
        "Invalid File Name: CGC.txt\n",
        "Invalid File Name: CGG.txt\n",
        "Invalid File Name: CGT.txt\n",
        "Invalid File Name: CTA.txt\n",
        "Invalid File Name: CTC.txt\n",
        "Invalid File Name: CTG.txt\n",
        "Invalid File Name: CTT.txt\n",
        "Invalid File Name: GAA.txt\n",
        "Invalid File Name: GAC.txt\n",
        "Num proteins in ../data/b1hData/newDatabase/5varpos/F2/low/protein_seq_cut3bc/GAG.txt:  6334"
       ]
      },
      {
       "output_type": "stream",
       "stream": "stdout",
       "text": [
        "\n",
        "Invalid File Name: GAT.txt\n",
        "Invalid File Name: GCA.txt\n",
        "Invalid File Name: GCC.txt\n",
        "Invalid File Name: GCG.txt\n",
        "Invalid File Name: GCT.txt\n",
        "Num proteins in ../data/b1hData/newDatabase/5varpos/F2/low/protein_seq_cut3bc/GGA.txt:  3760"
       ]
      },
      {
       "output_type": "stream",
       "stream": "stdout",
       "text": [
        "\n",
        "Invalid File Name: GGC.txt\n",
        "Num proteins in ../data/b1hData/newDatabase/5varpos/F2/low/protein_seq_cut3bc/GGG.txt:  3424"
       ]
      },
      {
       "output_type": "stream",
       "stream": "stdout",
       "text": [
        "\n",
        "Invalid File Name: GGT.txt\n",
        "Invalid File Name: GTA.txt\n",
        "Invalid File Name: GTC.txt\n",
        "Invalid File Name: GTG.txt\n",
        "Invalid File Name: GTT.txt\n",
        "Invalid File Name: TAA.txt\n",
        "Invalid File Name: TAC.txt\n",
        "Num proteins in ../data/b1hData/newDatabase/5varpos/F2/low/protein_seq_cut3bc/TAG.txt:  6282"
       ]
      },
      {
       "output_type": "stream",
       "stream": "stdout",
       "text": [
        "\n",
        "Invalid File Name: TAT.txt\n",
        "Invalid File Name: TCA.txt\n",
        "Invalid File Name: TCC.txt\n",
        "Invalid File Name: TCG.txt\n",
        "Invalid File Name: TCT.txt\n",
        "Invalid File Name: TGA.txt\n",
        "Invalid File Name: TGC.txt\n",
        "Invalid File Name: TGG.txt\n",
        "Invalid File Name: TGT.txt\n",
        "Invalid File Name: TTA.txt\n",
        "Invalid File Name: TTC.txt\n",
        "Invalid File Name: TTG.txt\n",
        "Invalid File Name: TTT.txt\n",
        "Total num protein/dna observations in all files:  50764\n",
        "Total num unique proteins in all files:  38007\n",
        "\n",
        "Num obs processed in csv to txt conversion:  50764"
       ]
      },
      {
       "output_type": "stream",
       "stream": "stdout",
       "text": [
        "\n",
        "\n",
        "Invalid File Name: AAA.txt"
       ]
      },
      {
       "output_type": "stream",
       "stream": "stdout",
       "text": [
        "\n",
        "Invalid File Name: AAC.txt\n",
        "Invalid File Name: AAG.txt\n",
        "Invalid File Name: AAT.txt\n",
        "Invalid File Name: ACA.txt\n",
        "Invalid File Name: ACC.txt\n",
        "Num proteins in ../data/b1hData/newDatabase/5varpos/F3/high/protein_seq_cut3bc/ACG.txt:  414\n",
        "Invalid File Name: ACT.txt\n",
        "Invalid File Name: AGA.txt\n",
        "Num proteins in ../data/b1hData/newDatabase/5varpos/F3/high/protein_seq_cut3bc/AGC.txt:  178\n",
        "Invalid File Name: AGG.txt\n",
        "Invalid File Name: AGT.txt\n",
        "Invalid File Name: ATA.txt\n",
        "Invalid File Name: ATC.txt\n",
        "Invalid File Name: ATG.txt\n",
        "Invalid File Name: ATT.txt\n",
        "Invalid File Name: CAA.txt\n",
        "Invalid File Name: CAC.txt\n",
        "Invalid File Name: CAG.txt\n",
        "Invalid File Name: CAT.txt\n",
        "Invalid File Name: CCA.txt\n",
        "Invalid File Name: CCC.txt\n",
        "Invalid File Name: CCG.txt\n",
        "Invalid File Name: CCT.txt\n",
        "Invalid File Name: CGA.txt\n",
        "Invalid File Name: CGC.txt\n",
        "Invalid File Name: CGG.txt\n",
        "Num proteins in ../data/b1hData/newDatabase/5varpos/F3/high/protein_seq_cut3bc/CGT.txt:  120\n",
        "Invalid File Name: CTA.txt\n",
        "Invalid File Name: CTC.txt\n",
        "Invalid File Name: CTG.txt\n",
        "Invalid File Name: CTT.txt\n",
        "Invalid File Name: GAA.txt\n",
        "Invalid File Name: GAC.txt\n",
        "Invalid File Name: GAG.txt\n",
        "Invalid File Name: GAT.txt\n",
        "Invalid File Name: GCA.txt\n",
        "Invalid File Name: GCC.txt\n",
        "Invalid File Name: GCG.txt\n",
        "Invalid File Name: GCT.txt\n",
        "Invalid File Name: GGA.txt\n",
        "Invalid File Name: GGC.txt\n",
        "Invalid File Name: GGG.txt\n",
        "Invalid File Name: GGT.txt\n",
        "Invalid File Name: GTA.txt\n",
        "Invalid File Name: GTC.txt\n",
        "Invalid File Name: GTG.txt\n",
        "Invalid File Name: GTT.txt\n",
        "Invalid File Name: TAA.txt\n",
        "Invalid File Name: TAC.txt\n",
        "Invalid File Name: TAG.txt\n",
        "Invalid File Name: TAT.txt\n",
        "Invalid File Name: TCA.txt\n",
        "Invalid File Name: TCC.txt\n",
        "Invalid File Name: TCG.txt\n",
        "Invalid File Name: TCT.txt\n",
        "Invalid File Name: TGA.txt\n",
        "Invalid File Name: TGC.txt\n",
        "Invalid File Name: TGG.txt\n",
        "Num proteins in ../data/b1hData/newDatabase/5varpos/F3/high/protein_seq_cut3bc/TGT.txt:  60\n",
        "Invalid File Name: TTA.txt\n",
        "Invalid File Name: TTC.txt\n",
        "Invalid File Name: TTG.txt\n",
        "Invalid File Name: TTT.txt\n",
        "Total num protein/dna observations in all files:  772\n",
        "Total num unique proteins in all files:  728\n",
        "\n",
        "Num obs processed in csv to txt conversion:  772\n",
        "\n",
        "Invalid File Name: AAA.txt\n",
        "Invalid File Name: AAC.txt\n",
        "Invalid File Name: AAG.txt\n",
        "Invalid File Name: AAT.txt\n",
        "Invalid File Name: ACA.txt\n",
        "Invalid File Name: ACC.txt\n",
        "Invalid File Name: ACG.txt\n",
        "Invalid File Name: ACT.txt\n",
        "Num proteins in ../data/b1hData/newDatabase/5varpos/F3/low/protein_seq_cut3bc/AGA.txt:  178\n",
        "Invalid File Name: AGC.txt\n",
        "Invalid File Name: AGG.txt\n",
        "Invalid File Name: AGT.txt\n",
        "Invalid File Name: ATA.txt\n",
        "Invalid File Name: ATC.txt\n",
        "Invalid File Name: ATG.txt\n",
        "Invalid File Name: ATT.txt\n",
        "Invalid File Name: CAA.txt\n",
        "Invalid File Name: CAC.txt\n",
        "Invalid File Name: CAG.txt\n",
        "Invalid File Name: CAT.txt\n",
        "Invalid File Name: CCA.txt\n",
        "Invalid File Name: CCC.txt\n",
        "Invalid File Name: CCG.txt\n",
        "Invalid File Name: CCT.txt\n",
        "Invalid File Name: CGA.txt\n",
        "Invalid File Name: CGC.txt\n",
        "Num proteins in ../data/b1hData/newDatabase/5varpos/F3/low/protein_seq_cut3bc/CGG.txt:  120"
       ]
      },
      {
       "output_type": "stream",
       "stream": "stdout",
       "text": [
        "\n",
        "Invalid File Name: CGT.txt\n",
        "Invalid File Name: CTA.txt\n",
        "Invalid File Name: CTC.txt\n",
        "Invalid File Name: CTG.txt\n",
        "Invalid File Name: CTT.txt\n",
        "Invalid File Name: GAA.txt\n",
        "Invalid File Name: GAC.txt\n",
        "Invalid File Name: GAG.txt\n",
        "Invalid File Name: GAT.txt\n",
        "Invalid File Name: GCA.txt\n",
        "Invalid File Name: GCC.txt\n",
        "Invalid File Name: GCG.txt\n",
        "Invalid File Name: GCT.txt\n",
        "Invalid File Name: GGA.txt\n",
        "Invalid File Name: GGC.txt\n",
        "Invalid File Name: GGG.txt\n",
        "Invalid File Name: GGT.txt\n",
        "Invalid File Name: GTA.txt\n",
        "Invalid File Name: GTC.txt\n",
        "Invalid File Name: GTG.txt\n",
        "Invalid File Name: GTT.txt\n",
        "Invalid File Name: TAA.txt\n",
        "Invalid File Name: TAC.txt\n",
        "Invalid File Name: TAG.txt\n",
        "Invalid File Name: TAT.txt\n",
        "Invalid File Name: TCA.txt\n",
        "Invalid File Name: TCC.txt\n",
        "Invalid File Name: TCG.txt\n",
        "Invalid File Name: TCT.txt\n",
        "Invalid File Name: TGA.txt\n",
        "Invalid File Name: TGC.txt\n",
        "Num proteins in ../data/b1hData/newDatabase/5varpos/F3/low/protein_seq_cut3bc/TGG.txt:  60\n",
        "Invalid File Name: TGT.txt\n",
        "Invalid File Name: TTA.txt\n",
        "Invalid File Name: TTC.txt\n",
        "Invalid File Name: TTG.txt\n",
        "Invalid File Name: TTT.txt\n",
        "Total num protein/dna observations in all files:  358\n",
        "Total num unique proteins in all files:  315\n",
        "\n",
        "Num obs processed in csv to txt conversion:  358\n",
        "\n"
       ]
      }
     ],
     "prompt_number": 3
    }
   ],
   "metadata": {}
  }
 ]
}