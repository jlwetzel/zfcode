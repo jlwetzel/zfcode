{
 "metadata": {
  "name": "Format_conversions_filt10e-4_025_1_c_F2F3"
 },
 "nbformat": 3,
 "nbformat_minor": 0,
 "worksheets": [
  {
   "cells": [
    {
     "cell_type": "code",
     "collapsed": false,
     "input": [
      "from changeFormats import targetFiles2singleCSV, csv2txtFile\n",
      "\n"
     ],
     "language": "python",
     "metadata": {},
     "outputs": [],
     "prompt_number": 1
    },
    {
     "cell_type": "code",
     "collapsed": false,
     "input": [
      "prefix = '../data/b1hData/antonProcessed/'\n",
      "numVarPos = 6\n",
      "interfaces = {}\n",
      "fings = ['F2F3']\n",
      "strins = ['unionUnions','unionLow', 'unionHigh']\n",
      "for fing in fings:\n",
      "    for strin in strins:\n",
      "        path = prefix + fing + '/' + strin + '/' + 'filt_10e-4_025_1_c/'\n",
      "        interfaces[fing] = targetFiles2singleCSV(path, numVarPos, '.txt', style = 'verbose')\n",
      "        csv2txtFile(path, numVarPos, style = 'verbose')\n",
      "        print"
     ],
     "language": "python",
     "metadata": {},
     "outputs": [
      {
       "output_type": "stream",
       "stream": "stdout",
       "text": [
        "Here\n",
        "Num proteins in ../data/b1hData/antonProcessed/F2F3/unionUnions/filt_10e-4_025_1_c/AAA.txt:  761\n",
        "Num proteins in ../data/b1hData/antonProcessed/F2F3/unionUnions/filt_10e-4_025_1_c/AAC.txt:  4115"
       ]
      },
      {
       "output_type": "stream",
       "stream": "stdout",
       "text": [
        "\n",
        "Num proteins in ../data/b1hData/antonProcessed/F2F3/unionUnions/filt_10e-4_025_1_c/AAG.txt:  4444"
       ]
      },
      {
       "output_type": "stream",
       "stream": "stdout",
       "text": [
        "\n",
        "Num proteins in ../data/b1hData/antonProcessed/F2F3/unionUnions/filt_10e-4_025_1_c/AAT.txt:  3195"
       ]
      },
      {
       "output_type": "stream",
       "stream": "stdout",
       "text": [
        "\n",
        "Num proteins in ../data/b1hData/antonProcessed/F2F3/unionUnions/filt_10e-4_025_1_c/ACA.txt:  2081\n",
        "Num proteins in ../data/b1hData/antonProcessed/F2F3/unionUnions/filt_10e-4_025_1_c/ACC.txt:  1812"
       ]
      },
      {
       "output_type": "stream",
       "stream": "stdout",
       "text": [
        "\n",
        "Num proteins in ../data/b1hData/antonProcessed/F2F3/unionUnions/filt_10e-4_025_1_c/ACG.txt:  4489\n",
        "Num proteins in ../data/b1hData/antonProcessed/F2F3/unionUnions/filt_10e-4_025_1_c/ACT.txt:  4445"
       ]
      },
      {
       "output_type": "stream",
       "stream": "stdout",
       "text": [
        "\n",
        "Num proteins in ../data/b1hData/antonProcessed/F2F3/unionUnions/filt_10e-4_025_1_c/AGA.txt:  617"
       ]
      },
      {
       "output_type": "stream",
       "stream": "stdout",
       "text": [
        "\n",
        "Num proteins in ../data/b1hData/antonProcessed/F2F3/unionUnions/filt_10e-4_025_1_c/AGC.txt:  3500\n",
        "Num proteins in ../data/b1hData/antonProcessed/F2F3/unionUnions/filt_10e-4_025_1_c/AGG.txt:  4532"
       ]
      },
      {
       "output_type": "stream",
       "stream": "stdout",
       "text": [
        "\n",
        "Num proteins in ../data/b1hData/antonProcessed/F2F3/unionUnions/filt_10e-4_025_1_c/AGT.txt:  4881"
       ]
      },
      {
       "output_type": "stream",
       "stream": "stdout",
       "text": [
        "\n",
        "Num proteins in ../data/b1hData/antonProcessed/F2F3/unionUnions/filt_10e-4_025_1_c/ATA.txt:  371\n",
        "Num proteins in ../data/b1hData/antonProcessed/F2F3/unionUnions/filt_10e-4_025_1_c/ATC.txt:  2875\n",
        "Num proteins in ../data/b1hData/antonProcessed/F2F3/unionUnions/filt_10e-4_025_1_c/ATG.txt:  2485"
       ]
      },
      {
       "output_type": "stream",
       "stream": "stdout",
       "text": [
        "\n",
        "Num proteins in ../data/b1hData/antonProcessed/F2F3/unionUnions/filt_10e-4_025_1_c/ATT.txt:  2990"
       ]
      },
      {
       "output_type": "stream",
       "stream": "stdout",
       "text": [
        "\n",
        "Num proteins in ../data/b1hData/antonProcessed/F2F3/unionUnions/filt_10e-4_025_1_c/CAA.txt:  503\n",
        "Num proteins in ../data/b1hData/antonProcessed/F2F3/unionUnions/filt_10e-4_025_1_c/CAC.txt:  3257\n",
        "Num proteins in ../data/b1hData/antonProcessed/F2F3/unionUnions/filt_10e-4_025_1_c/CAG.txt:  4006"
       ]
      },
      {
       "output_type": "stream",
       "stream": "stdout",
       "text": [
        "\n",
        "Num proteins in ../data/b1hData/antonProcessed/F2F3/unionUnions/filt_10e-4_025_1_c/CAT.txt:  2532\n",
        "Num proteins in ../data/b1hData/antonProcessed/F2F3/unionUnions/filt_10e-4_025_1_c/CCA.txt:  618\n",
        "Num proteins in ../data/b1hData/antonProcessed/F2F3/unionUnions/filt_10e-4_025_1_c/CCC.txt:  1140\n",
        "Num proteins in ../data/b1hData/antonProcessed/F2F3/unionUnions/filt_10e-4_025_1_c/CCG.txt:  2921"
       ]
      },
      {
       "output_type": "stream",
       "stream": "stdout",
       "text": [
        "\n",
        "Num proteins in ../data/b1hData/antonProcessed/F2F3/unionUnions/filt_10e-4_025_1_c/CCT.txt:  1660\n",
        "Num proteins in ../data/b1hData/antonProcessed/F2F3/unionUnions/filt_10e-4_025_1_c/CGA.txt:  401\n",
        "Num proteins in ../data/b1hData/antonProcessed/F2F3/unionUnions/filt_10e-4_025_1_c/CGC.txt:  2933\n",
        "Num proteins in ../data/b1hData/antonProcessed/F2F3/unionUnions/filt_10e-4_025_1_c/CGG.txt:  3293"
       ]
      },
      {
       "output_type": "stream",
       "stream": "stdout",
       "text": [
        "\n",
        "Num proteins in ../data/b1hData/antonProcessed/F2F3/unionUnions/filt_10e-4_025_1_c/CGT.txt:  4119\n",
        "Num proteins in ../data/b1hData/antonProcessed/F2F3/unionUnions/filt_10e-4_025_1_c/CTA.txt:  506\n",
        "Num proteins in ../data/b1hData/antonProcessed/F2F3/unionUnions/filt_10e-4_025_1_c/CTC.txt:  903"
       ]
      },
      {
       "output_type": "stream",
       "stream": "stdout",
       "text": [
        "\n",
        "Num proteins in ../data/b1hData/antonProcessed/F2F3/unionUnions/filt_10e-4_025_1_c/CTG.txt:  1340\n",
        "Num proteins in ../data/b1hData/antonProcessed/F2F3/unionUnions/filt_10e-4_025_1_c/CTT.txt:  878\n",
        "Num proteins in ../data/b1hData/antonProcessed/F2F3/unionUnions/filt_10e-4_025_1_c/GAA.txt:  1646\n",
        "Num proteins in ../data/b1hData/antonProcessed/F2F3/unionUnions/filt_10e-4_025_1_c/GAC.txt:  3072"
       ]
      },
      {
       "output_type": "stream",
       "stream": "stdout",
       "text": [
        "\n",
        "Num proteins in ../data/b1hData/antonProcessed/F2F3/unionUnions/filt_10e-4_025_1_c/GAG.txt:  4582"
       ]
      },
      {
       "output_type": "stream",
       "stream": "stdout",
       "text": [
        "\n",
        "Num proteins in ../data/b1hData/antonProcessed/F2F3/unionUnions/filt_10e-4_025_1_c/GAT.txt:  3878\n",
        "Num proteins in ../data/b1hData/antonProcessed/F2F3/unionUnions/filt_10e-4_025_1_c/GCA.txt:  1324"
       ]
      },
      {
       "output_type": "stream",
       "stream": "stdout",
       "text": [
        "\n",
        "Num proteins in ../data/b1hData/antonProcessed/F2F3/unionUnions/filt_10e-4_025_1_c/GCC.txt:  1782\n",
        "Num proteins in ../data/b1hData/antonProcessed/F2F3/unionUnions/filt_10e-4_025_1_c/GCG.txt:  3959"
       ]
      },
      {
       "output_type": "stream",
       "stream": "stdout",
       "text": [
        "\n",
        "Num proteins in ../data/b1hData/antonProcessed/F2F3/unionUnions/filt_10e-4_025_1_c/GCT.txt:  3314"
       ]
      },
      {
       "output_type": "stream",
       "stream": "stdout",
       "text": [
        "\n",
        "Num proteins in ../data/b1hData/antonProcessed/F2F3/unionUnions/filt_10e-4_025_1_c/GGA.txt:  1298\n",
        "Num proteins in ../data/b1hData/antonProcessed/F2F3/unionUnions/filt_10e-4_025_1_c/GGC.txt:  1991\n",
        "Num proteins in ../data/b1hData/antonProcessed/F2F3/unionUnions/filt_10e-4_025_1_c/GGG.txt:  5025"
       ]
      },
      {
       "output_type": "stream",
       "stream": "stdout",
       "text": [
        "\n",
        "Num proteins in ../data/b1hData/antonProcessed/F2F3/unionUnions/filt_10e-4_025_1_c/GGT.txt:  4041\n",
        "Num proteins in ../data/b1hData/antonProcessed/F2F3/unionUnions/filt_10e-4_025_1_c/GTA.txt:  1862"
       ]
      },
      {
       "output_type": "stream",
       "stream": "stdout",
       "text": [
        "\n",
        "Num proteins in ../data/b1hData/antonProcessed/F2F3/unionUnions/filt_10e-4_025_1_c/GTC.txt:  3251\n",
        "Num proteins in ../data/b1hData/antonProcessed/F2F3/unionUnions/filt_10e-4_025_1_c/GTG.txt:  5231"
       ]
      },
      {
       "output_type": "stream",
       "stream": "stdout",
       "text": [
        "\n",
        "Num proteins in ../data/b1hData/antonProcessed/F2F3/unionUnions/filt_10e-4_025_1_c/GTT.txt:  4060\n",
        "Num proteins in ../data/b1hData/antonProcessed/F2F3/unionUnions/filt_10e-4_025_1_c/TAA.txt:  452\n",
        "Num proteins in ../data/b1hData/antonProcessed/F2F3/unionUnions/filt_10e-4_025_1_c/TAC.txt:  2237"
       ]
      },
      {
       "output_type": "stream",
       "stream": "stdout",
       "text": [
        "\n",
        "Num proteins in ../data/b1hData/antonProcessed/F2F3/unionUnions/filt_10e-4_025_1_c/TAG.txt:  1883\n",
        "Num proteins in ../data/b1hData/antonProcessed/F2F3/unionUnions/filt_10e-4_025_1_c/TAT.txt:  3385"
       ]
      },
      {
       "output_type": "stream",
       "stream": "stdout",
       "text": [
        "\n",
        "Num proteins in ../data/b1hData/antonProcessed/F2F3/unionUnions/filt_10e-4_025_1_c/TCA.txt:  273\n",
        "Num proteins in ../data/b1hData/antonProcessed/F2F3/unionUnions/filt_10e-4_025_1_c/TCC.txt:  1493\n",
        "Num proteins in ../data/b1hData/antonProcessed/F2F3/unionUnions/filt_10e-4_025_1_c/TCG.txt:  1883\n",
        "Num proteins in ../data/b1hData/antonProcessed/F2F3/unionUnions/filt_10e-4_025_1_c/TCT.txt:  1864"
       ]
      },
      {
       "output_type": "stream",
       "stream": "stdout",
       "text": [
        "\n",
        "Num proteins in ../data/b1hData/antonProcessed/F2F3/unionUnions/filt_10e-4_025_1_c/TGA.txt:  2039\n",
        "Num proteins in ../data/b1hData/antonProcessed/F2F3/unionUnions/filt_10e-4_025_1_c/TGC.txt:  2614\n",
        "Num proteins in ../data/b1hData/antonProcessed/F2F3/unionUnions/filt_10e-4_025_1_c/TGG.txt:  3572"
       ]
      },
      {
       "output_type": "stream",
       "stream": "stdout",
       "text": [
        "\n",
        "Num proteins in ../data/b1hData/antonProcessed/F2F3/unionUnions/filt_10e-4_025_1_c/TGT.txt:  5072"
       ]
      },
      {
       "output_type": "stream",
       "stream": "stdout",
       "text": [
        "\n",
        "Num proteins in ../data/b1hData/antonProcessed/F2F3/unionUnions/filt_10e-4_025_1_c/TTA.txt:  915\n",
        "Num proteins in ../data/b1hData/antonProcessed/F2F3/unionUnions/filt_10e-4_025_1_c/TTC.txt:  885\n",
        "Num proteins in ../data/b1hData/antonProcessed/F2F3/unionUnions/filt_10e-4_025_1_c/TTG.txt:  2179\n",
        "Num proteins in ../data/b1hData/antonProcessed/F2F3/unionUnions/filt_10e-4_025_1_c/TTT.txt:  2242"
       ]
      },
      {
       "output_type": "stream",
       "stream": "stdout",
       "text": [
        "\n",
        "Total num protein/dna observations in all files:  161907\n",
        "Total num unique proteins in all files:  101875\n",
        "\n",
        "Num obs processed in csv to txt conversion:  161907"
       ]
      },
      {
       "output_type": "stream",
       "stream": "stdout",
       "text": [
        "\n",
        "\n",
        "Here\n",
        "Num proteins in ../data/b1hData/antonProcessed/F2F3/unionLow/filt_10e-4_025_1_c/AAA.txt:  640"
       ]
      },
      {
       "output_type": "stream",
       "stream": "stdout",
       "text": [
        "\n",
        "Num proteins in ../data/b1hData/antonProcessed/F2F3/unionLow/filt_10e-4_025_1_c/AAC.txt:  3877\n",
        "Num proteins in ../data/b1hData/antonProcessed/F2F3/unionLow/filt_10e-4_025_1_c/AAG.txt:  4166"
       ]
      },
      {
       "output_type": "stream",
       "stream": "stdout",
       "text": [
        "\n",
        "Num proteins in ../data/b1hData/antonProcessed/F2F3/unionLow/filt_10e-4_025_1_c/AAT.txt:  3101\n",
        "Num proteins in ../data/b1hData/antonProcessed/F2F3/unionLow/filt_10e-4_025_1_c/ACA.txt:  1825"
       ]
      },
      {
       "output_type": "stream",
       "stream": "stdout",
       "text": [
        "\n",
        "Num proteins in ../data/b1hData/antonProcessed/F2F3/unionLow/filt_10e-4_025_1_c/ACC.txt:  1677\n",
        "Num proteins in ../data/b1hData/antonProcessed/F2F3/unionLow/filt_10e-4_025_1_c/ACG.txt:  4210"
       ]
      },
      {
       "output_type": "stream",
       "stream": "stdout",
       "text": [
        "\n",
        "Num proteins in ../data/b1hData/antonProcessed/F2F3/unionLow/filt_10e-4_025_1_c/ACT.txt:  3937"
       ]
      },
      {
       "output_type": "stream",
       "stream": "stdout",
       "text": [
        "\n",
        "Num proteins in ../data/b1hData/antonProcessed/F2F3/unionLow/filt_10e-4_025_1_c/AGA.txt:  599\n",
        "Num proteins in ../data/b1hData/antonProcessed/F2F3/unionLow/filt_10e-4_025_1_c/AGC.txt:  3250\n",
        "Num proteins in ../data/b1hData/antonProcessed/F2F3/unionLow/filt_10e-4_025_1_c/AGG.txt:  3952"
       ]
      },
      {
       "output_type": "stream",
       "stream": "stdout",
       "text": [
        "\n",
        "Num proteins in ../data/b1hData/antonProcessed/F2F3/unionLow/filt_10e-4_025_1_c/AGT.txt:  4422"
       ]
      },
      {
       "output_type": "stream",
       "stream": "stdout",
       "text": [
        "\n",
        "Num proteins in ../data/b1hData/antonProcessed/F2F3/unionLow/filt_10e-4_025_1_c/ATA.txt:  296\n",
        "Num proteins in ../data/b1hData/antonProcessed/F2F3/unionLow/filt_10e-4_025_1_c/ATC.txt:  2708\n",
        "Num proteins in ../data/b1hData/antonProcessed/F2F3/unionLow/filt_10e-4_025_1_c/ATG.txt:  2427"
       ]
      },
      {
       "output_type": "stream",
       "stream": "stdout",
       "text": [
        "\n",
        "Num proteins in ../data/b1hData/antonProcessed/F2F3/unionLow/filt_10e-4_025_1_c/ATT.txt:  2854\n",
        "Num proteins in ../data/b1hData/antonProcessed/F2F3/unionLow/filt_10e-4_025_1_c/CAA.txt:  457\n",
        "Num proteins in ../data/b1hData/antonProcessed/F2F3/unionLow/filt_10e-4_025_1_c/CAC.txt:  3161"
       ]
      },
      {
       "output_type": "stream",
       "stream": "stdout",
       "text": [
        "\n",
        "Num proteins in ../data/b1hData/antonProcessed/F2F3/unionLow/filt_10e-4_025_1_c/CAG.txt:  3789"
       ]
      },
      {
       "output_type": "stream",
       "stream": "stdout",
       "text": [
        "\n",
        "Num proteins in ../data/b1hData/antonProcessed/F2F3/unionLow/filt_10e-4_025_1_c/CAT.txt:  2296\n",
        "Num proteins in ../data/b1hData/antonProcessed/F2F3/unionLow/filt_10e-4_025_1_c/CCA.txt:  594"
       ]
      },
      {
       "output_type": "stream",
       "stream": "stdout",
       "text": [
        "\n",
        "Num proteins in ../data/b1hData/antonProcessed/F2F3/unionLow/filt_10e-4_025_1_c/CCC.txt:  1045\n",
        "Num proteins in ../data/b1hData/antonProcessed/F2F3/unionLow/filt_10e-4_025_1_c/CCG.txt:  2776"
       ]
      },
      {
       "output_type": "stream",
       "stream": "stdout",
       "text": [
        "\n",
        "Num proteins in ../data/b1hData/antonProcessed/F2F3/unionLow/filt_10e-4_025_1_c/CCT.txt:  1539\n",
        "Num proteins in ../data/b1hData/antonProcessed/F2F3/unionLow/filt_10e-4_025_1_c/CGA.txt:  396\n",
        "Num proteins in ../data/b1hData/antonProcessed/F2F3/unionLow/filt_10e-4_025_1_c/CGC.txt:  2790"
       ]
      },
      {
       "output_type": "stream",
       "stream": "stdout",
       "text": [
        "\n",
        "Num proteins in ../data/b1hData/antonProcessed/F2F3/unionLow/filt_10e-4_025_1_c/CGG.txt:  3095"
       ]
      },
      {
       "output_type": "stream",
       "stream": "stdout",
       "text": [
        "\n",
        "Num proteins in ../data/b1hData/antonProcessed/F2F3/unionLow/filt_10e-4_025_1_c/CGT.txt:  3882\n",
        "Num proteins in ../data/b1hData/antonProcessed/F2F3/unionLow/filt_10e-4_025_1_c/CTA.txt:  285\n",
        "Num proteins in ../data/b1hData/antonProcessed/F2F3/unionLow/filt_10e-4_025_1_c/CTC.txt:  855"
       ]
      },
      {
       "output_type": "stream",
       "stream": "stdout",
       "text": [
        "\n",
        "Num proteins in ../data/b1hData/antonProcessed/F2F3/unionLow/filt_10e-4_025_1_c/CTG.txt:  1082\n",
        "Num proteins in ../data/b1hData/antonProcessed/F2F3/unionLow/filt_10e-4_025_1_c/CTT.txt:  687\n",
        "Num proteins in ../data/b1hData/antonProcessed/F2F3/unionLow/filt_10e-4_025_1_c/GAA.txt:  1487\n",
        "Num proteins in ../data/b1hData/antonProcessed/F2F3/unionLow/filt_10e-4_025_1_c/GAC.txt:  2995"
       ]
      },
      {
       "output_type": "stream",
       "stream": "stdout",
       "text": [
        "\n",
        "Num proteins in ../data/b1hData/antonProcessed/F2F3/unionLow/filt_10e-4_025_1_c/GAG.txt:  4334"
       ]
      },
      {
       "output_type": "stream",
       "stream": "stdout",
       "text": [
        "\n",
        "Num proteins in ../data/b1hData/antonProcessed/F2F3/unionLow/filt_10e-4_025_1_c/GAT.txt:  3719"
       ]
      },
      {
       "output_type": "stream",
       "stream": "stdout",
       "text": [
        "\n",
        "Num proteins in ../data/b1hData/antonProcessed/F2F3/unionLow/filt_10e-4_025_1_c/GCA.txt:  1194\n",
        "Num proteins in ../data/b1hData/antonProcessed/F2F3/unionLow/filt_10e-4_025_1_c/GCC.txt:  1465\n",
        "Num proteins in ../data/b1hData/antonProcessed/F2F3/unionLow/filt_10e-4_025_1_c/GCG.txt:  3765"
       ]
      },
      {
       "output_type": "stream",
       "stream": "stdout",
       "text": [
        "\n",
        "Num proteins in ../data/b1hData/antonProcessed/F2F3/unionLow/filt_10e-4_025_1_c/GCT.txt:  3140\n",
        "Num proteins in ../data/b1hData/antonProcessed/F2F3/unionLow/filt_10e-4_025_1_c/GGA.txt:  785"
       ]
      },
      {
       "output_type": "stream",
       "stream": "stdout",
       "text": [
        "\n",
        "Num proteins in ../data/b1hData/antonProcessed/F2F3/unionLow/filt_10e-4_025_1_c/GGC.txt:  1806\n",
        "Num proteins in ../data/b1hData/antonProcessed/F2F3/unionLow/filt_10e-4_025_1_c/GGG.txt:  4520"
       ]
      },
      {
       "output_type": "stream",
       "stream": "stdout",
       "text": [
        "\n",
        "Num proteins in ../data/b1hData/antonProcessed/F2F3/unionLow/filt_10e-4_025_1_c/GGT.txt:  3444"
       ]
      },
      {
       "output_type": "stream",
       "stream": "stdout",
       "text": [
        "\n",
        "Num proteins in ../data/b1hData/antonProcessed/F2F3/unionLow/filt_10e-4_025_1_c/GTA.txt:  1248\n",
        "Num proteins in ../data/b1hData/antonProcessed/F2F3/unionLow/filt_10e-4_025_1_c/GTC.txt:  3119"
       ]
      },
      {
       "output_type": "stream",
       "stream": "stdout",
       "text": [
        "\n",
        "Num proteins in ../data/b1hData/antonProcessed/F2F3/unionLow/filt_10e-4_025_1_c/GTG.txt:  4978"
       ]
      },
      {
       "output_type": "stream",
       "stream": "stdout",
       "text": [
        "\n",
        "Num proteins in ../data/b1hData/antonProcessed/F2F3/unionLow/filt_10e-4_025_1_c/GTT.txt:  3875"
       ]
      },
      {
       "output_type": "stream",
       "stream": "stdout",
       "text": [
        "\n",
        "Num proteins in ../data/b1hData/antonProcessed/F2F3/unionLow/filt_10e-4_025_1_c/TAA.txt:  150\n",
        "Num proteins in ../data/b1hData/antonProcessed/F2F3/unionLow/filt_10e-4_025_1_c/TAC.txt:  2152\n",
        "Num proteins in ../data/b1hData/antonProcessed/F2F3/unionLow/filt_10e-4_025_1_c/TAG.txt:  1803"
       ]
      },
      {
       "output_type": "stream",
       "stream": "stdout",
       "text": [
        "\n",
        "Num proteins in ../data/b1hData/antonProcessed/F2F3/unionLow/filt_10e-4_025_1_c/TAT.txt:  3125\n",
        "Num proteins in ../data/b1hData/antonProcessed/F2F3/unionLow/filt_10e-4_025_1_c/TCA.txt:  54\n",
        "Num proteins in ../data/b1hData/antonProcessed/F2F3/unionLow/filt_10e-4_025_1_c/TCC.txt:  1357"
       ]
      },
      {
       "output_type": "stream",
       "stream": "stdout",
       "text": [
        "\n",
        "Num proteins in ../data/b1hData/antonProcessed/F2F3/unionLow/filt_10e-4_025_1_c/TCG.txt:  1844\n",
        "Num proteins in ../data/b1hData/antonProcessed/F2F3/unionLow/filt_10e-4_025_1_c/TCT.txt:  1744\n",
        "Num proteins in ../data/b1hData/antonProcessed/F2F3/unionLow/filt_10e-4_025_1_c/TGA.txt:  1877"
       ]
      },
      {
       "output_type": "stream",
       "stream": "stdout",
       "text": [
        "\n",
        "Num proteins in ../data/b1hData/antonProcessed/F2F3/unionLow/filt_10e-4_025_1_c/TGC.txt:  2561\n",
        "Num proteins in ../data/b1hData/antonProcessed/F2F3/unionLow/filt_10e-4_025_1_c/TGG.txt:  3219"
       ]
      },
      {
       "output_type": "stream",
       "stream": "stdout",
       "text": [
        "\n",
        "Num proteins in ../data/b1hData/antonProcessed/F2F3/unionLow/filt_10e-4_025_1_c/TGT.txt:  3887\n",
        "Num proteins in ../data/b1hData/antonProcessed/F2F3/unionLow/filt_10e-4_025_1_c/TTA.txt:  73\n",
        "Num proteins in ../data/b1hData/antonProcessed/F2F3/unionLow/filt_10e-4_025_1_c/TTC.txt:  863"
       ]
      },
      {
       "output_type": "stream",
       "stream": "stdout",
       "text": [
        "\n",
        "Num proteins in ../data/b1hData/antonProcessed/F2F3/unionLow/filt_10e-4_025_1_c/TTG.txt:  2159\n",
        "Num proteins in ../data/b1hData/antonProcessed/F2F3/unionLow/filt_10e-4_025_1_c/TTT.txt:  2157"
       ]
      },
      {
       "output_type": "stream",
       "stream": "stdout",
       "text": [
        "\n",
        "Total num protein/dna observations in all files:  147569\n",
        "Total num unique proteins in all files:  95079\n",
        "\n",
        "Num obs processed in csv to txt conversion:  147569"
       ]
      },
      {
       "output_type": "stream",
       "stream": "stdout",
       "text": [
        "\n",
        "\n",
        "Here\n",
        "Num proteins in ../data/b1hData/antonProcessed/F2F3/unionHigh/filt_10e-4_025_1_c/AAA.txt:  232"
       ]
      },
      {
       "output_type": "stream",
       "stream": "stdout",
       "text": [
        "\n",
        "Num proteins in ../data/b1hData/antonProcessed/F2F3/unionHigh/filt_10e-4_025_1_c/AAC.txt:  1189\n",
        "Num proteins in ../data/b1hData/antonProcessed/F2F3/unionHigh/filt_10e-4_025_1_c/AAG.txt:  991"
       ]
      },
      {
       "output_type": "stream",
       "stream": "stdout",
       "text": [
        "\n",
        "Num proteins in ../data/b1hData/antonProcessed/F2F3/unionHigh/filt_10e-4_025_1_c/AAT.txt:  317\n",
        "Num proteins in ../data/b1hData/antonProcessed/F2F3/unionHigh/filt_10e-4_025_1_c/ACA.txt:  759\n",
        "Num proteins in ../data/b1hData/antonProcessed/F2F3/unionHigh/filt_10e-4_025_1_c/ACC.txt:  358\n",
        "Num proteins in ../data/b1hData/antonProcessed/F2F3/unionHigh/filt_10e-4_025_1_c/ACG.txt:  1243\n",
        "Num proteins in ../data/b1hData/antonProcessed/F2F3/unionHigh/filt_10e-4_025_1_c/ACT.txt:  1924\n",
        "Num proteins in ../data/b1hData/antonProcessed/F2F3/unionHigh/filt_10e-4_025_1_c/AGA.txt:  57"
       ]
      },
      {
       "output_type": "stream",
       "stream": "stdout",
       "text": [
        "\n",
        "Num proteins in ../data/b1hData/antonProcessed/F2F3/unionHigh/filt_10e-4_025_1_c/AGC.txt:  693\n",
        "Num proteins in ../data/b1hData/antonProcessed/F2F3/unionHigh/filt_10e-4_025_1_c/AGG.txt:  1123\n",
        "Num proteins in ../data/b1hData/antonProcessed/F2F3/unionHigh/filt_10e-4_025_1_c/AGT.txt:  1895\n",
        "Num proteins in ../data/b1hData/antonProcessed/F2F3/unionHigh/filt_10e-4_025_1_c/ATA.txt:  106\n",
        "Num proteins in ../data/b1hData/antonProcessed/F2F3/unionHigh/filt_10e-4_025_1_c/ATC.txt:  1017"
       ]
      },
      {
       "output_type": "stream",
       "stream": "stdout",
       "text": [
        "\n",
        "Num proteins in ../data/b1hData/antonProcessed/F2F3/unionHigh/filt_10e-4_025_1_c/ATG.txt:  259\n",
        "Num proteins in ../data/b1hData/antonProcessed/F2F3/unionHigh/filt_10e-4_025_1_c/ATT.txt:  662\n",
        "Num proteins in ../data/b1hData/antonProcessed/F2F3/unionHigh/filt_10e-4_025_1_c/CAA.txt:  101\n",
        "Num proteins in ../data/b1hData/antonProcessed/F2F3/unionHigh/filt_10e-4_025_1_c/CAC.txt:  509\n",
        "Num proteins in ../data/b1hData/antonProcessed/F2F3/unionHigh/filt_10e-4_025_1_c/CAG.txt:  1012\n",
        "Num proteins in ../data/b1hData/antonProcessed/F2F3/unionHigh/filt_10e-4_025_1_c/CAT.txt:  794\n",
        "Num proteins in ../data/b1hData/antonProcessed/F2F3/unionHigh/filt_10e-4_025_1_c/CCA.txt:  71\n",
        "Num proteins in ../data/b1hData/antonProcessed/F2F3/unionHigh/filt_10e-4_025_1_c/CCC.txt:  250\n",
        "Num proteins in ../data/b1hData/antonProcessed/F2F3/unionHigh/filt_10e-4_025_1_c/CCG.txt:  453\n",
        "Num proteins in ../data/b1hData/antonProcessed/F2F3/unionHigh/filt_10e-4_025_1_c/CCT.txt:  282\n",
        "Num proteins in ../data/b1hData/antonProcessed/F2F3/unionHigh/filt_10e-4_025_1_c/CGA.txt:  20\n",
        "Num proteins in ../data/b1hData/antonProcessed/F2F3/unionHigh/filt_10e-4_025_1_c/CGC.txt:  563"
       ]
      },
      {
       "output_type": "stream",
       "stream": "stdout",
       "text": [
        "\n",
        "Num proteins in ../data/b1hData/antonProcessed/F2F3/unionHigh/filt_10e-4_025_1_c/CGG.txt:  1163\n",
        "Num proteins in ../data/b1hData/antonProcessed/F2F3/unionHigh/filt_10e-4_025_1_c/CGT.txt:  1030\n",
        "Num proteins in ../data/b1hData/antonProcessed/F2F3/unionHigh/filt_10e-4_025_1_c/CTA.txt:  254\n",
        "Num proteins in ../data/b1hData/antonProcessed/F2F3/unionHigh/filt_10e-4_025_1_c/CTC.txt:  127\n",
        "Num proteins in ../data/b1hData/antonProcessed/F2F3/unionHigh/filt_10e-4_025_1_c/CTG.txt:  290\n",
        "Num proteins in ../data/b1hData/antonProcessed/F2F3/unionHigh/filt_10e-4_025_1_c/CTT.txt:  323\n",
        "Num proteins in ../data/b1hData/antonProcessed/F2F3/unionHigh/filt_10e-4_025_1_c/GAA.txt:  469\n",
        "Num proteins in ../data/b1hData/antonProcessed/F2F3/unionHigh/filt_10e-4_025_1_c/GAC.txt:  925\n",
        "Num proteins in ../data/b1hData/antonProcessed/F2F3/unionHigh/filt_10e-4_025_1_c/GAG.txt:  1478"
       ]
      },
      {
       "output_type": "stream",
       "stream": "stdout",
       "text": [
        "\n",
        "Num proteins in ../data/b1hData/antonProcessed/F2F3/unionHigh/filt_10e-4_025_1_c/GAT.txt:  754\n",
        "Num proteins in ../data/b1hData/antonProcessed/F2F3/unionHigh/filt_10e-4_025_1_c/GCA.txt:  271\n",
        "Num proteins in ../data/b1hData/antonProcessed/F2F3/unionHigh/filt_10e-4_025_1_c/GCC.txt:  596\n",
        "Num proteins in ../data/b1hData/antonProcessed/F2F3/unionHigh/filt_10e-4_025_1_c/GCG.txt:  903\n",
        "Num proteins in ../data/b1hData/antonProcessed/F2F3/unionHigh/filt_10e-4_025_1_c/GCT.txt:  1337\n",
        "Num proteins in ../data/b1hData/antonProcessed/F2F3/unionHigh/filt_10e-4_025_1_c/GGA.txt:  692\n",
        "Num proteins in ../data/b1hData/antonProcessed/F2F3/unionHigh/filt_10e-4_025_1_c/GGC.txt:  336"
       ]
      },
      {
       "output_type": "stream",
       "stream": "stdout",
       "text": [
        "\n",
        "Num proteins in ../data/b1hData/antonProcessed/F2F3/unionHigh/filt_10e-4_025_1_c/GGG.txt:  1654\n",
        "Num proteins in ../data/b1hData/antonProcessed/F2F3/unionHigh/filt_10e-4_025_1_c/GGT.txt:  1509\n",
        "Num proteins in ../data/b1hData/antonProcessed/F2F3/unionHigh/filt_10e-4_025_1_c/GTA.txt:  927"
       ]
      },
      {
       "output_type": "stream",
       "stream": "stdout",
       "text": [
        "\n",
        "Num proteins in ../data/b1hData/antonProcessed/F2F3/unionHigh/filt_10e-4_025_1_c/GTC.txt:  722\n",
        "Num proteins in ../data/b1hData/antonProcessed/F2F3/unionHigh/filt_10e-4_025_1_c/GTG.txt:  1485\n",
        "Num proteins in ../data/b1hData/antonProcessed/F2F3/unionHigh/filt_10e-4_025_1_c/GTT.txt:  1233\n",
        "Num proteins in ../data/b1hData/antonProcessed/F2F3/unionHigh/filt_10e-4_025_1_c/TAA.txt:  332\n",
        "Num proteins in ../data/b1hData/antonProcessed/F2F3/unionHigh/filt_10e-4_025_1_c/TAC.txt:  213\n",
        "Num proteins in ../data/b1hData/antonProcessed/F2F3/unionHigh/filt_10e-4_025_1_c/TAG.txt:  276\n",
        "Num proteins in ../data/b1hData/antonProcessed/F2F3/unionHigh/filt_10e-4_025_1_c/TAT.txt:  801"
       ]
      },
      {
       "output_type": "stream",
       "stream": "stdout",
       "text": [
        "\n",
        "Num proteins in ../data/b1hData/antonProcessed/F2F3/unionHigh/filt_10e-4_025_1_c/TCA.txt:  220\n",
        "Num proteins in ../data/b1hData/antonProcessed/F2F3/unionHigh/filt_10e-4_025_1_c/TCC.txt:  490\n",
        "Num proteins in ../data/b1hData/antonProcessed/F2F3/unionHigh/filt_10e-4_025_1_c/TCG.txt:  127\n",
        "Num proteins in ../data/b1hData/antonProcessed/F2F3/unionHigh/filt_10e-4_025_1_c/TCT.txt:  300\n",
        "Num proteins in ../data/b1hData/antonProcessed/F2F3/unionHigh/filt_10e-4_025_1_c/TGA.txt:  642\n",
        "Num proteins in ../data/b1hData/antonProcessed/F2F3/unionHigh/filt_10e-4_025_1_c/TGC.txt:  274\n",
        "Num proteins in ../data/b1hData/antonProcessed/F2F3/unionHigh/filt_10e-4_025_1_c/TGG.txt:  1300\n",
        "Num proteins in ../data/b1hData/antonProcessed/F2F3/unionHigh/filt_10e-4_025_1_c/TGT.txt:  3442"
       ]
      },
      {
       "output_type": "stream",
       "stream": "stdout",
       "text": [
        "\n",
        "Num proteins in ../data/b1hData/antonProcessed/F2F3/unionHigh/filt_10e-4_025_1_c/TTA.txt:  844\n",
        "Num proteins in ../data/b1hData/antonProcessed/F2F3/unionHigh/filt_10e-4_025_1_c/TTC.txt:  62\n",
        "Num proteins in ../data/b1hData/antonProcessed/F2F3/unionHigh/filt_10e-4_025_1_c/TTG.txt:  214\n",
        "Num proteins in ../data/b1hData/antonProcessed/F2F3/unionHigh/filt_10e-4_025_1_c/TTT.txt:  186\n",
        "Total num protein/dna observations in all files:  45081\n",
        "Total num unique proteins in all files:  32821\n",
        "\n",
        "Num obs processed in csv to txt conversion:  45081"
       ]
      },
      {
       "output_type": "stream",
       "stream": "stdout",
       "text": [
        "\n",
        "\n"
       ]
      }
     ],
     "prompt_number": 2
    },
    {
     "cell_type": "code",
     "collapsed": false,
     "input": [],
     "language": "python",
     "metadata": {},
     "outputs": [],
     "prompt_number": 2
    },
    {
     "cell_type": "code",
     "collapsed": false,
     "input": [],
     "language": "python",
     "metadata": {},
     "outputs": [],
     "prompt_number": 2
    }
   ],
   "metadata": {}
  }
 ]
}