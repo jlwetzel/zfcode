{
 "metadata": {
  "name": "Format_conversions_filt10e-4_025_1_c"
 },
 "nbformat": 3,
 "nbformat_minor": 0,
 "worksheets": [
  {
   "cells": [
    {
     "cell_type": "code",
     "collapsed": false,
     "input": [
      "from changeFormats import targetFiles2singleCSV, csv2txtFile\n",
      "\n"
     ],
     "language": "python",
     "metadata": {},
     "outputs": [],
     "prompt_number": 1
    },
    {
     "cell_type": "code",
     "collapsed": false,
     "input": [
      "prefix = '../data/b1hData/antonProcessed/'\n",
      "numVarPos = 6\n",
      "interfaces = {}\n",
      "fings = ['F1', 'F2', 'F3']\n",
      "strins = ['inter']\n",
      "for fing in fings:\n",
      "    for strin in strins:\n",
      "        path = prefix + fing + '/' + strin + '/' + 'filt_10e-4_025_1_c/'\n",
      "        interfaces[fing] = targetFiles2singleCSV(path, numVarPos, '.txt', style = 'verbose')\n",
      "        csv2txtFile(path, numVarPos, style = 'verbose')\n",
      "        print"
     ],
     "language": "python",
     "metadata": {},
     "outputs": [
      {
       "output_type": "stream",
       "stream": "stdout",
       "text": [
        "Here\n",
        "Num proteins in ../data/b1hData/antonProcessed/F1/inter/filt_10e-4_025_1_c/AAA.txt:  3\n",
        "Num proteins in ../data/b1hData/antonProcessed/F1/inter/filt_10e-4_025_1_c/AAC.txt:  96\n",
        "Num proteins in ../data/b1hData/antonProcessed/F1/inter/filt_10e-4_025_1_c/AAG.txt:  113\n",
        "Num proteins in ../data/b1hData/antonProcessed/F1/inter/filt_10e-4_025_1_c/AAT.txt:  16\n",
        "Num proteins in ../data/b1hData/antonProcessed/F1/inter/filt_10e-4_025_1_c/ACA.txt:  417\n",
        "Num proteins in ../data/b1hData/antonProcessed/F1/inter/filt_10e-4_025_1_c/ACC.txt:  9\n",
        "Num proteins in ../data/b1hData/antonProcessed/F1/inter/filt_10e-4_025_1_c/ACG.txt:  46\n",
        "Num proteins in ../data/b1hData/antonProcessed/F1/inter/filt_10e-4_025_1_c/ACT.txt:  168\n",
        "Num proteins in ../data/b1hData/antonProcessed/F1/inter/filt_10e-4_025_1_c/AGA.txt:  0\n",
        "Num proteins in ../data/b1hData/antonProcessed/F1/inter/filt_10e-4_025_1_c/AGC.txt:  34\n",
        "Num proteins in ../data/b1hData/antonProcessed/F1/inter/filt_10e-4_025_1_c/AGG.txt:  187\n",
        "Num proteins in ../data/b1hData/antonProcessed/F1/inter/filt_10e-4_025_1_c/AGT.txt:  419\n",
        "Num proteins in ../data/b1hData/antonProcessed/F1/inter/filt_10e-4_025_1_c/ATA.txt:  105"
       ]
      },
      {
       "output_type": "stream",
       "stream": "stdout",
       "text": [
        "\n",
        "Num proteins in ../data/b1hData/antonProcessed/F1/inter/filt_10e-4_025_1_c/ATC.txt:  167\n",
        "Num proteins in ../data/b1hData/antonProcessed/F1/inter/filt_10e-4_025_1_c/ATG.txt:  209\n",
        "Num proteins in ../data/b1hData/antonProcessed/F1/inter/filt_10e-4_025_1_c/ATT.txt:  13\n",
        "Num proteins in ../data/b1hData/antonProcessed/F1/inter/filt_10e-4_025_1_c/CAA.txt:  158\n",
        "Num proteins in ../data/b1hData/antonProcessed/F1/inter/filt_10e-4_025_1_c/CAC.txt:  23\n",
        "Num proteins in ../data/b1hData/antonProcessed/F1/inter/filt_10e-4_025_1_c/CAG.txt:  97\n",
        "Num proteins in ../data/b1hData/antonProcessed/F1/inter/filt_10e-4_025_1_c/CAT.txt:  180\n",
        "Num proteins in ../data/b1hData/antonProcessed/F1/inter/filt_10e-4_025_1_c/CCA.txt:  790\n",
        "Num proteins in ../data/b1hData/antonProcessed/F1/inter/filt_10e-4_025_1_c/CCC.txt:  175\n",
        "Num proteins in ../data/b1hData/antonProcessed/F1/inter/filt_10e-4_025_1_c/CCG.txt:  188"
       ]
      },
      {
       "output_type": "stream",
       "stream": "stdout",
       "text": [
        "\n",
        "Num proteins in ../data/b1hData/antonProcessed/F1/inter/filt_10e-4_025_1_c/CCT.txt:  328\n",
        "Num proteins in ../data/b1hData/antonProcessed/F1/inter/filt_10e-4_025_1_c/CGA.txt:  121\n",
        "Num proteins in ../data/b1hData/antonProcessed/F1/inter/filt_10e-4_025_1_c/CGC.txt:  189\n",
        "Num proteins in ../data/b1hData/antonProcessed/F1/inter/filt_10e-4_025_1_c/CGG.txt:  527"
       ]
      },
      {
       "output_type": "stream",
       "stream": "stdout",
       "text": [
        "\n",
        "Num proteins in ../data/b1hData/antonProcessed/F1/inter/filt_10e-4_025_1_c/CGT.txt:  18\n",
        "Num proteins in ../data/b1hData/antonProcessed/F1/inter/filt_10e-4_025_1_c/CTA.txt:  12\n",
        "Num proteins in ../data/b1hData/antonProcessed/F1/inter/filt_10e-4_025_1_c/CTC.txt:  17\n",
        "Num proteins in ../data/b1hData/antonProcessed/F1/inter/filt_10e-4_025_1_c/CTG.txt:  70\n",
        "Num proteins in ../data/b1hData/antonProcessed/F1/inter/filt_10e-4_025_1_c/CTT.txt:  45\n",
        "Num proteins in ../data/b1hData/antonProcessed/F1/inter/filt_10e-4_025_1_c/GAA.txt:  209\n",
        "Num proteins in ../data/b1hData/antonProcessed/F1/inter/filt_10e-4_025_1_c/GAC.txt:  246\n",
        "Num proteins in ../data/b1hData/antonProcessed/F1/inter/filt_10e-4_025_1_c/GAG.txt:  271\n",
        "Num proteins in ../data/b1hData/antonProcessed/F1/inter/filt_10e-4_025_1_c/GAT.txt:  327\n",
        "Num proteins in ../data/b1hData/antonProcessed/F1/inter/filt_10e-4_025_1_c/GCA.txt:  497"
       ]
      },
      {
       "output_type": "stream",
       "stream": "stdout",
       "text": [
        "\n",
        "Num proteins in ../data/b1hData/antonProcessed/F1/inter/filt_10e-4_025_1_c/GCC.txt:  38\n",
        "Num proteins in ../data/b1hData/antonProcessed/F1/inter/filt_10e-4_025_1_c/GCG.txt:  135\n",
        "Num proteins in ../data/b1hData/antonProcessed/F1/inter/filt_10e-4_025_1_c/GCT.txt:  448\n",
        "Num proteins in ../data/b1hData/antonProcessed/F1/inter/filt_10e-4_025_1_c/GGA.txt:  10\n",
        "Num proteins in ../data/b1hData/antonProcessed/F1/inter/filt_10e-4_025_1_c/GGC.txt:  43\n",
        "Num proteins in ../data/b1hData/antonProcessed/F1/inter/filt_10e-4_025_1_c/GGG.txt:  250\n",
        "Num proteins in ../data/b1hData/antonProcessed/F1/inter/filt_10e-4_025_1_c/GGT.txt:  131\n",
        "Num proteins in ../data/b1hData/antonProcessed/F1/inter/filt_10e-4_025_1_c/GTA.txt:  49\n",
        "Num proteins in ../data/b1hData/antonProcessed/F1/inter/filt_10e-4_025_1_c/GTC.txt:  48\n",
        "Num proteins in ../data/b1hData/antonProcessed/F1/inter/filt_10e-4_025_1_c/GTG.txt:  347\n",
        "Num proteins in ../data/b1hData/antonProcessed/F1/inter/filt_10e-4_025_1_c/GTT.txt:  63\n",
        "Num proteins in ../data/b1hData/antonProcessed/F1/inter/filt_10e-4_025_1_c/TAA.txt:  2\n",
        "Num proteins in ../data/b1hData/antonProcessed/F1/inter/filt_10e-4_025_1_c/TAC.txt:  27\n",
        "Num proteins in ../data/b1hData/antonProcessed/F1/inter/filt_10e-4_025_1_c/TAG.txt:  2\n",
        "Num proteins in ../data/b1hData/antonProcessed/F1/inter/filt_10e-4_025_1_c/TAT.txt:  4\n",
        "Num proteins in ../data/b1hData/antonProcessed/F1/inter/filt_10e-4_025_1_c/TCA.txt:  52\n",
        "Num proteins in ../data/b1hData/antonProcessed/F1/inter/filt_10e-4_025_1_c/TCC.txt:  14\n",
        "Num proteins in ../data/b1hData/antonProcessed/F1/inter/filt_10e-4_025_1_c/TCG.txt:  27\n",
        "Num proteins in ../data/b1hData/antonProcessed/F1/inter/filt_10e-4_025_1_c/TCT.txt:  11"
       ]
      },
      {
       "output_type": "stream",
       "stream": "stdout",
       "text": [
        "\n",
        "Num proteins in ../data/b1hData/antonProcessed/F1/inter/filt_10e-4_025_1_c/TGA.txt:  1\n",
        "Num proteins in ../data/b1hData/antonProcessed/F1/inter/filt_10e-4_025_1_c/TGC.txt:  42\n",
        "Num proteins in ../data/b1hData/antonProcessed/F1/inter/filt_10e-4_025_1_c/TGG.txt:  210\n",
        "Num proteins in ../data/b1hData/antonProcessed/F1/inter/filt_10e-4_025_1_c/TGT.txt:  147\n",
        "Num proteins in ../data/b1hData/antonProcessed/F1/inter/filt_10e-4_025_1_c/TTA.txt:  41\n",
        "Num proteins in ../data/b1hData/antonProcessed/F1/inter/filt_10e-4_025_1_c/TTC.txt:  5\n",
        "Num proteins in ../data/b1hData/antonProcessed/F1/inter/filt_10e-4_025_1_c/TTG.txt:  8\n",
        "Num proteins in ../data/b1hData/antonProcessed/F1/inter/filt_10e-4_025_1_c/TTT.txt:  4\n",
        "Total num protein/dna observations in all files:  8649\n",
        "Total num unique proteins in all files:  5948\n",
        "\n",
        "Num obs processed in csv to txt conversion:  8649"
       ]
      },
      {
       "output_type": "stream",
       "stream": "stdout",
       "text": [
        "\n",
        "\n",
        "Here\n",
        "Num proteins in ../data/b1hData/antonProcessed/F2/inter/filt_10e-4_025_1_c/AAA.txt:  82\n",
        "Num proteins in ../data/b1hData/antonProcessed/F2/inter/filt_10e-4_025_1_c/AAC.txt:  762\n",
        "Num proteins in ../data/b1hData/antonProcessed/F2/inter/filt_10e-4_025_1_c/AAG.txt:  164\n",
        "Num proteins in ../data/b1hData/antonProcessed/F2/inter/filt_10e-4_025_1_c/AAT.txt:  168\n",
        "Num proteins in ../data/b1hData/antonProcessed/F2/inter/filt_10e-4_025_1_c/ACA.txt:  503\n",
        "Num proteins in ../data/b1hData/antonProcessed/F2/inter/filt_10e-4_025_1_c/ACC.txt:  197\n",
        "Num proteins in ../data/b1hData/antonProcessed/F2/inter/filt_10e-4_025_1_c/ACG.txt:  608\n",
        "Num proteins in ../data/b1hData/antonProcessed/F2/inter/filt_10e-4_025_1_c/ACT.txt:  1262\n",
        "Num proteins in ../data/b1hData/antonProcessed/F2/inter/filt_10e-4_025_1_c/AGA.txt:  39\n",
        "Num proteins in ../data/b1hData/antonProcessed/F2/inter/filt_10e-4_025_1_c/AGC.txt:  163\n",
        "Num proteins in ../data/b1hData/antonProcessed/F2/inter/filt_10e-4_025_1_c/AGG.txt:  479\n",
        "Num proteins in ../data/b1hData/antonProcessed/F2/inter/filt_10e-4_025_1_c/AGT.txt:  707\n",
        "Num proteins in ../data/b1hData/antonProcessed/F2/inter/filt_10e-4_025_1_c/ATA.txt:  19"
       ]
      },
      {
       "output_type": "stream",
       "stream": "stdout",
       "text": [
        "\n",
        "Num proteins in ../data/b1hData/antonProcessed/F2/inter/filt_10e-4_025_1_c/ATC.txt:  506\n",
        "Num proteins in ../data/b1hData/antonProcessed/F2/inter/filt_10e-4_025_1_c/ATG.txt:  176\n",
        "Num proteins in ../data/b1hData/antonProcessed/F2/inter/filt_10e-4_025_1_c/ATT.txt:  428\n",
        "Num proteins in ../data/b1hData/antonProcessed/F2/inter/filt_10e-4_025_1_c/CAA.txt:  4\n",
        "Num proteins in ../data/b1hData/antonProcessed/F2/inter/filt_10e-4_025_1_c/CAC.txt:  337\n",
        "Num proteins in ../data/b1hData/antonProcessed/F2/inter/filt_10e-4_025_1_c/CAG.txt:  613\n",
        "Num proteins in ../data/b1hData/antonProcessed/F2/inter/filt_10e-4_025_1_c/CAT.txt:  401\n",
        "Num proteins in ../data/b1hData/antonProcessed/F2/inter/filt_10e-4_025_1_c/CCA.txt:  42\n",
        "Num proteins in ../data/b1hData/antonProcessed/F2/inter/filt_10e-4_025_1_c/CCC.txt:  90\n",
        "Num proteins in ../data/b1hData/antonProcessed/F2/inter/filt_10e-4_025_1_c/CCG.txt:  18\n",
        "Num proteins in ../data/b1hData/antonProcessed/F2/inter/filt_10e-4_025_1_c/CCT.txt:  101\n",
        "Num proteins in ../data/b1hData/antonProcessed/F2/inter/filt_10e-4_025_1_c/CGA.txt:  13\n",
        "Num proteins in ../data/b1hData/antonProcessed/F2/inter/filt_10e-4_025_1_c/CGC.txt:  52\n",
        "Num proteins in ../data/b1hData/antonProcessed/F2/inter/filt_10e-4_025_1_c/CGG.txt:  940\n",
        "Num proteins in ../data/b1hData/antonProcessed/F2/inter/filt_10e-4_025_1_c/CGT.txt:  393\n",
        "Num proteins in ../data/b1hData/antonProcessed/F2/inter/filt_10e-4_025_1_c/CTA.txt:  33\n",
        "Num proteins in ../data/b1hData/antonProcessed/F2/inter/filt_10e-4_025_1_c/CTC.txt:  25\n",
        "Num proteins in ../data/b1hData/antonProcessed/F2/inter/filt_10e-4_025_1_c/CTG.txt:  25\n",
        "Num proteins in ../data/b1hData/antonProcessed/F2/inter/filt_10e-4_025_1_c/CTT.txt:  130\n",
        "Num proteins in ../data/b1hData/antonProcessed/F2/inter/filt_10e-4_025_1_c/GAA.txt:  152\n",
        "Num proteins in ../data/b1hData/antonProcessed/F2/inter/filt_10e-4_025_1_c/GAC.txt:  785"
       ]
      },
      {
       "output_type": "stream",
       "stream": "stdout",
       "text": [
        "\n",
        "Num proteins in ../data/b1hData/antonProcessed/F2/inter/filt_10e-4_025_1_c/GAG.txt:  811\n",
        "Num proteins in ../data/b1hData/antonProcessed/F2/inter/filt_10e-4_025_1_c/GAT.txt:  377\n",
        "Num proteins in ../data/b1hData/antonProcessed/F2/inter/filt_10e-4_025_1_c/GCA.txt:  34\n",
        "Num proteins in ../data/b1hData/antonProcessed/F2/inter/filt_10e-4_025_1_c/GCC.txt:  228\n",
        "Num proteins in ../data/b1hData/antonProcessed/F2/inter/filt_10e-4_025_1_c/GCG.txt:  523\n",
        "Num proteins in ../data/b1hData/antonProcessed/F2/inter/filt_10e-4_025_1_c/GCT.txt:  964\n",
        "Num proteins in ../data/b1hData/antonProcessed/F2/inter/filt_10e-4_025_1_c/GGA.txt:  1\n",
        "Num proteins in ../data/b1hData/antonProcessed/F2/inter/filt_10e-4_025_1_c/GGC.txt:  52\n",
        "Num proteins in ../data/b1hData/antonProcessed/F2/inter/filt_10e-4_025_1_c/GGG.txt:  748\n",
        "Num proteins in ../data/b1hData/antonProcessed/F2/inter/filt_10e-4_025_1_c/GGT.txt:  359\n",
        "Num proteins in ../data/b1hData/antonProcessed/F2/inter/filt_10e-4_025_1_c/GTA.txt:  0\n",
        "Num proteins in ../data/b1hData/antonProcessed/F2/inter/filt_10e-4_025_1_c/GTC.txt:  343\n",
        "Num proteins in ../data/b1hData/antonProcessed/F2/inter/filt_10e-4_025_1_c/GTG.txt:  673\n",
        "Num proteins in ../data/b1hData/antonProcessed/F2/inter/filt_10e-4_025_1_c/GTT.txt:  631"
       ]
      },
      {
       "output_type": "stream",
       "stream": "stdout",
       "text": [
        "\n",
        "Num proteins in ../data/b1hData/antonProcessed/F2/inter/filt_10e-4_025_1_c/TAA.txt:  0\n",
        "Num proteins in ../data/b1hData/antonProcessed/F2/inter/filt_10e-4_025_1_c/TAC.txt:  76\n",
        "Num proteins in ../data/b1hData/antonProcessed/F2/inter/filt_10e-4_025_1_c/TAG.txt:  123\n",
        "Num proteins in ../data/b1hData/antonProcessed/F2/inter/filt_10e-4_025_1_c/TAT.txt:  175\n",
        "Num proteins in ../data/b1hData/antonProcessed/F2/inter/filt_10e-4_025_1_c/TCA.txt:  1\n",
        "Num proteins in ../data/b1hData/antonProcessed/F2/inter/filt_10e-4_025_1_c/TCC.txt:  119\n",
        "Num proteins in ../data/b1hData/antonProcessed/F2/inter/filt_10e-4_025_1_c/TCG.txt:  53\n",
        "Num proteins in ../data/b1hData/antonProcessed/F2/inter/filt_10e-4_025_1_c/TCT.txt:  79\n",
        "Num proteins in ../data/b1hData/antonProcessed/F2/inter/filt_10e-4_025_1_c/TGA.txt:  11\n",
        "Num proteins in ../data/b1hData/antonProcessed/F2/inter/filt_10e-4_025_1_c/TGC.txt:  8\n",
        "Num proteins in ../data/b1hData/antonProcessed/F2/inter/filt_10e-4_025_1_c/TGG.txt:  903\n",
        "Num proteins in ../data/b1hData/antonProcessed/F2/inter/filt_10e-4_025_1_c/TGT.txt:  1213\n",
        "Num proteins in ../data/b1hData/antonProcessed/F2/inter/filt_10e-4_025_1_c/TTA.txt:  2\n",
        "Num proteins in ../data/b1hData/antonProcessed/F2/inter/filt_10e-4_025_1_c/TTC.txt:  37\n",
        "Num proteins in ../data/b1hData/antonProcessed/F2/inter/filt_10e-4_025_1_c/TTG.txt:  193\n",
        "Num proteins in ../data/b1hData/antonProcessed/F2/inter/filt_10e-4_025_1_c/TTT.txt:  7\n",
        "Total num protein/dna observations in all files:  19161\n",
        "Total num unique proteins in all files:  15398\n",
        "\n",
        "Num obs processed in csv to txt conversion:  19161"
       ]
      },
      {
       "output_type": "stream",
       "stream": "stdout",
       "text": [
        "\n",
        "\n",
        "Here\n",
        "Num proteins in ../data/b1hData/antonProcessed/F3/inter/filt_10e-4_025_1_c/AAA.txt:  29\n",
        "Num proteins in ../data/b1hData/antonProcessed/F3/inter/filt_10e-4_025_1_c/AAC.txt:  195\n",
        "Num proteins in ../data/b1hData/antonProcessed/F3/inter/filt_10e-4_025_1_c/AAG.txt:  536\n",
        "Num proteins in ../data/b1hData/antonProcessed/F3/inter/filt_10e-4_025_1_c/AAT.txt:  62\n",
        "Num proteins in ../data/b1hData/antonProcessed/F3/inter/filt_10e-4_025_1_c/ACA.txt:  0\n",
        "Num proteins in ../data/b1hData/antonProcessed/F3/inter/filt_10e-4_025_1_c/ACC.txt:  26\n",
        "Num proteins in ../data/b1hData/antonProcessed/F3/inter/filt_10e-4_025_1_c/ACG.txt:  353\n",
        "Num proteins in ../data/b1hData/antonProcessed/F3/inter/filt_10e-4_025_1_c/ACT.txt:  153\n",
        "Num proteins in ../data/b1hData/antonProcessed/F3/inter/filt_10e-4_025_1_c/AGA.txt:  0\n",
        "Num proteins in ../data/b1hData/antonProcessed/F3/inter/filt_10e-4_025_1_c/AGC.txt:  278\n",
        "Num proteins in ../data/b1hData/antonProcessed/F3/inter/filt_10e-4_025_1_c/AGG.txt:  61\n",
        "Num proteins in ../data/b1hData/antonProcessed/F3/inter/filt_10e-4_025_1_c/AGT.txt:  728\n",
        "Num proteins in ../data/b1hData/antonProcessed/F3/inter/filt_10e-4_025_1_c/ATA.txt:  9\n",
        "Num proteins in ../data/b1hData/antonProcessed/F3/inter/filt_10e-4_025_1_c/ATC.txt:  435\n",
        "Num proteins in ../data/b1hData/antonProcessed/F3/inter/filt_10e-4_025_1_c/ATG.txt:  25\n",
        "Num proteins in ../data/b1hData/antonProcessed/F3/inter/filt_10e-4_025_1_c/ATT.txt:  132\n",
        "Num proteins in ../data/b1hData/antonProcessed/F3/inter/filt_10e-4_025_1_c/CAA.txt:  43\n",
        "Num proteins in ../data/b1hData/antonProcessed/F3/inter/filt_10e-4_025_1_c/CAC.txt:  70\n",
        "Num proteins in ../data/b1hData/antonProcessed/F3/inter/filt_10e-4_025_1_c/CAG.txt:  175\n",
        "Num proteins in ../data/b1hData/antonProcessed/F3/inter/filt_10e-4_025_1_c/CAT.txt:  240\n",
        "Num proteins in ../data/b1hData/antonProcessed/F3/inter/filt_10e-4_025_1_c/CCA.txt:  5\n",
        "Num proteins in ../data/b1hData/antonProcessed/F3/inter/filt_10e-4_025_1_c/CCC.txt:  65\n",
        "Num proteins in ../data/b1hData/antonProcessed/F3/inter/filt_10e-4_025_1_c/CCG.txt:  285\n",
        "Num proteins in ../data/b1hData/antonProcessed/F3/inter/filt_10e-4_025_1_c/CCT.txt:  57\n",
        "Num proteins in ../data/b1hData/antonProcessed/F3/inter/filt_10e-4_025_1_c/CGA.txt:  2\n",
        "Num proteins in ../data/b1hData/antonProcessed/F3/inter/filt_10e-4_025_1_c/CGC.txt:  368\n",
        "Num proteins in ../data/b1hData/antonProcessed/F3/inter/filt_10e-4_025_1_c/CGG.txt:  22\n",
        "Num proteins in ../data/b1hData/antonProcessed/F3/inter/filt_10e-4_025_1_c/CGT.txt:  394\n",
        "Num proteins in ../data/b1hData/antonProcessed/F3/inter/filt_10e-4_025_1_c/CTA.txt:  0\n",
        "Num proteins in ../data/b1hData/antonProcessed/F3/inter/filt_10e-4_025_1_c/CTC.txt:  57\n",
        "Num proteins in ../data/b1hData/antonProcessed/F3/inter/filt_10e-4_025_1_c/CTG.txt:  7\n",
        "Num proteins in ../data/b1hData/antonProcessed/F3/inter/filt_10e-4_025_1_c/CTT.txt:  2\n",
        "Num proteins in ../data/b1hData/antonProcessed/F3/inter/filt_10e-4_025_1_c/GAA.txt:  149\n",
        "Num proteins in ../data/b1hData/antonProcessed/F3/inter/filt_10e-4_025_1_c/GAC.txt:  126\n",
        "Num proteins in ../data/b1hData/antonProcessed/F3/inter/filt_10e-4_025_1_c/GAG.txt:  426"
       ]
      },
      {
       "output_type": "stream",
       "stream": "stdout",
       "text": [
        "\n",
        "Num proteins in ../data/b1hData/antonProcessed/F3/inter/filt_10e-4_025_1_c/GAT.txt:  222\n",
        "Num proteins in ../data/b1hData/antonProcessed/F3/inter/filt_10e-4_025_1_c/GCA.txt:  97\n",
        "Num proteins in ../data/b1hData/antonProcessed/F3/inter/filt_10e-4_025_1_c/GCC.txt:  51\n",
        "Num proteins in ../data/b1hData/antonProcessed/F3/inter/filt_10e-4_025_1_c/GCG.txt:  191\n",
        "Num proteins in ../data/b1hData/antonProcessed/F3/inter/filt_10e-4_025_1_c/GCT.txt:  270\n",
        "Num proteins in ../data/b1hData/antonProcessed/F3/inter/filt_10e-4_025_1_c/GGA.txt:  176\n",
        "Num proteins in ../data/b1hData/antonProcessed/F3/inter/filt_10e-4_025_1_c/GGC.txt:  99\n",
        "Num proteins in ../data/b1hData/antonProcessed/F3/inter/filt_10e-4_025_1_c/GGG.txt:  401\n",
        "Num proteins in ../data/b1hData/antonProcessed/F3/inter/filt_10e-4_025_1_c/GGT.txt:  565\n",
        "Num proteins in ../data/b1hData/antonProcessed/F3/inter/filt_10e-4_025_1_c/GTA.txt:  313\n",
        "Num proteins in ../data/b1hData/antonProcessed/F3/inter/filt_10e-4_025_1_c/GTC.txt:  287\n",
        "Num proteins in ../data/b1hData/antonProcessed/F3/inter/filt_10e-4_025_1_c/GTG.txt:  548\n",
        "Num proteins in ../data/b1hData/antonProcessed/F3/inter/filt_10e-4_025_1_c/GTT.txt:  499\n",
        "Num proteins in ../data/b1hData/antonProcessed/F3/inter/filt_10e-4_025_1_c/TAA.txt:  30\n",
        "Num proteins in ../data/b1hData/antonProcessed/F3/inter/filt_10e-4_025_1_c/TAC.txt:  62\n",
        "Num proteins in ../data/b1hData/antonProcessed/F3/inter/filt_10e-4_025_1_c/TAG.txt:  69\n",
        "Num proteins in ../data/b1hData/antonProcessed/F3/inter/filt_10e-4_025_1_c/TAT.txt:  349\n",
        "Num proteins in ../data/b1hData/antonProcessed/F3/inter/filt_10e-4_025_1_c/TCA.txt:  0\n",
        "Num proteins in ../data/b1hData/antonProcessed/F3/inter/filt_10e-4_025_1_c/TCC.txt:  235\n",
        "Num proteins in ../data/b1hData/antonProcessed/F3/inter/filt_10e-4_025_1_c/TCG.txt:  30\n",
        "Num proteins in ../data/b1hData/antonProcessed/F3/inter/filt_10e-4_025_1_c/TCT.txt:  96"
       ]
      },
      {
       "output_type": "stream",
       "stream": "stdout",
       "text": [
        "\n",
        "Num proteins in ../data/b1hData/antonProcessed/F3/inter/filt_10e-4_025_1_c/TGA.txt:  472\n",
        "Num proteins in ../data/b1hData/antonProcessed/F3/inter/filt_10e-4_025_1_c/TGC.txt:  211\n",
        "Num proteins in ../data/b1hData/antonProcessed/F3/inter/filt_10e-4_025_1_c/TGG.txt:  43\n",
        "Num proteins in ../data/b1hData/antonProcessed/F3/inter/filt_10e-4_025_1_c/TGT.txt:  1208\n",
        "Num proteins in ../data/b1hData/antonProcessed/F3/inter/filt_10e-4_025_1_c/TTA.txt:  0\n",
        "Num proteins in ../data/b1hData/antonProcessed/F3/inter/filt_10e-4_025_1_c/TTC.txt:  3\n",
        "Num proteins in ../data/b1hData/antonProcessed/F3/inter/filt_10e-4_025_1_c/TTG.txt:  0\n",
        "Num proteins in ../data/b1hData/antonProcessed/F3/inter/filt_10e-4_025_1_c/TTT.txt:  92\n",
        "Total num protein/dna observations in all files:  12134\n",
        "Total num unique proteins in all files:  9608\n",
        "\n",
        "Num obs processed in csv to txt conversion:  12134"
       ]
      },
      {
       "output_type": "stream",
       "stream": "stdout",
       "text": [
        "\n",
        "\n"
       ]
      }
     ],
     "prompt_number": 2
    },
    {
     "cell_type": "code",
     "collapsed": false,
     "input": [
      "bothStrinIfaces = interfaces\n",
      "\n",
      "print \"%s + %s Interfaces: %d\" %('F1', 'F2', len(bothStrinIfaces['F1'] | bothStrinIfaces['F2']))\n",
      "print \"%s + %s Interfaces: %d\" %('F1', 'F3', len(bothStrinIfaces['F1'] | bothStrinIfaces['F3']))\n",
      "print \"%s + %s Interfaces: %d\" %('F2', 'F3', len(bothStrinIfaces['F2'] | bothStrinIfaces['F3']))\n",
      "print \"%s + %s + %s Interfaces: %d\" %('F1', 'F2', 'F3',len(bothStrinIfaces['F1'] | bothStrinIfaces['F2'] | bothStrinIfaces['F3']))\n",
      "    "
     ],
     "language": "python",
     "metadata": {},
     "outputs": [
      {
       "output_type": "stream",
       "stream": "stdout",
       "text": [
        "F1 + F2 Interfaces: 27274\n",
        "F1 + F3 Interfaces: 20730\n",
        "F2 + F3 Interfaces: 30128\n",
        "F1 + F2 + F3 Interfaces: 38207\n"
       ]
      }
     ],
     "prompt_number": 3
    },
    {
     "cell_type": "code",
     "collapsed": false,
     "input": [],
     "language": "python",
     "metadata": {},
     "outputs": [],
     "prompt_number": 3
    }
   ],
   "metadata": {}
  }
 ]
}