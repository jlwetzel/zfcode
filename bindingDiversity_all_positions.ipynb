{
 "metadata": {
  "name": "bindingDiversity_all_positions"
 },
 "nbformat": 3,
 "nbformat_minor": 0,
 "worksheets": [
  {
   "cells": [
    {
     "cell_type": "heading",
     "level": 1,
     "metadata": {},
     "source": [
      "Binding Diveristy All Positions (nonNNS-removal, cut count <10 in barcode files)"
     ]
    },
    {
     "cell_type": "code",
     "collapsed": false,
     "input": [
      "from gatherBindStats import getProtSet\n",
      "prefix6 = '../data/b1hData/newDatabase/6varpos/'\n",
      "prefix5 = '../data/b1hData/newDatabase/5varpos/'\n",
      "pos6 = range(6) #[0,2,3,5]\n",
      "pos5 = range(5) #[0,1,2,4]\n",
      "theorSize6 = 20**6\n",
      "theorSize5 = 20**5 \n",
      "fings6 = ['F1', 'F2', 'F3']\n",
      "fings5 = ['F2', 'F3']\n",
      "strins = ['low', 'high']"
     ],
     "language": "python",
     "metadata": {},
     "outputs": [],
     "prompt_number": 1
    },
    {
     "cell_type": "heading",
     "level": 2,
     "metadata": {},
     "source": [
      "6 Variable Position Data (F1, F2, and F3)"
     ]
    },
    {
     "cell_type": "code",
     "collapsed": false,
     "input": [
      "# Get total unique protein for each stringency\n",
      "print \"Total unique proteins for each finger/stringency.\"\n",
      "b1hUnique6 = {}\n",
      "for i, fing in enumerate(fings6):\n",
      "    for strin in strins:\n",
      "        b1hUnique6[(fing, strin)] = (getProtSet(prefix6 + fing + '/' + strin \\\n",
      "                                     + '/protein_seq/all.txt', pos6))\n",
      "        print \"%s %s: %d (%f)\" \\\n",
      "            %(fing, strin, len(b1hUnique6[fing,strin]), \n",
      "              len(b1hUnique6[fing,strin])/float(theorSize6))\n",
      "            \n",
      "# Is high a subset of low for each stringency?\n",
      "print\n",
      "print \"Is high a subset of low? -- |(High - Low)|/|High|.\"\n",
      "print \"F1: %f\" %( len(b1hUnique6['F1','high'] - b1hUnique6['F1','low']) \\\n",
      "                   /float(len(b1hUnique6['F1','high'])) )\n",
      "print \"F2: %f\" %( len(b1hUnique6['F2','high'] - b1hUnique6['F2','low']) \\\n",
      "                   /float(len(b1hUnique6['F2','high'])) )\n",
      "print \"F3: %f\" %( len(b1hUnique6['F3','high'] - b1hUnique6['F3','low']) \\\n",
      "                   /float(len(b1hUnique6['F3','high'])) )\n",
      "\n",
      "# What if we take union of all sequences from all fingers?\n",
      "highKeys = [k for k in b1hUnique6.keys() if k[1] == 'high']\n",
      "lowKeys = [k for k in b1hUnique6.keys() if k[1] == 'low']\n",
      "\n",
      "lowUnique6, highUnique6 = set(), set()\n",
      "for k in lowKeys:\n",
      "    lowUnique6 = lowUnique6 | b1hUnique6[k]\n",
      "for k in highKeys:\n",
      "    highUnique6 = highUnique6 | b1hUnique6[k]\n",
      "\n",
      "# Free up some memory\n",
      "del b1hUnique6\n",
      "\n",
      "print\n",
      "print \"Take union of sequences from all fingers.\"\n",
      "print \"Low: %d (%f)\" \\\n",
      "    %(len(lowUnique6), len(lowUnique6)/float(theorSize6))\n",
      "print \"High: %d (%f)\" \\\n",
      "    %(len(highUnique6), len(highUnique6)/float(theorSize6))\n",
      "print \"(High - Low)/High: %f\" \\\n",
      "    %(len(highUnique6 - lowUnique6)/float(len(highUnique6)))"
     ],
     "language": "python",
     "metadata": {},
     "outputs": [
      {
       "output_type": "stream",
       "stream": "stdout",
       "text": [
        "Total unique proteins for each finger/stringency.\n",
        "F1 low: 120825 (0.001888)"
       ]
      },
      {
       "output_type": "stream",
       "stream": "stdout",
       "text": [
        "\n",
        "F1 high: 83893 (0.001311)"
       ]
      },
      {
       "output_type": "stream",
       "stream": "stdout",
       "text": [
        "\n",
        "F2 low: 170681 (0.002667)"
       ]
      },
      {
       "output_type": "stream",
       "stream": "stdout",
       "text": [
        "\n",
        "F2 high: 53523 (0.000836)"
       ]
      },
      {
       "output_type": "stream",
       "stream": "stdout",
       "text": [
        "\n",
        "F3 low: 145655 (0.002276)"
       ]
      },
      {
       "output_type": "stream",
       "stream": "stdout",
       "text": [
        "\n",
        "F3 high: 58987 (0.000922)"
       ]
      },
      {
       "output_type": "stream",
       "stream": "stdout",
       "text": [
        "\n",
        "\n",
        "Is high a subset of low? -- |(High - Low)|/|High|.\n",
        "F1: 0.800794\n",
        "F2: 0.535134"
       ]
      },
      {
       "output_type": "stream",
       "stream": "stdout",
       "text": [
        "\n",
        "F3: 0.642057\n",
        "\n"
       ]
      },
      {
       "output_type": "stream",
       "stream": "stdout",
       "text": [
        "Take union of sequences from all fingers.\n",
        "Low: 418148 (0.006534)\n",
        "High: 191500 (0.002992)\n",
        "(High - Low)/High: 0.680037"
       ]
      },
      {
       "output_type": "stream",
       "stream": "stdout",
       "text": [
        "\n"
       ]
      }
     ],
     "prompt_number": 2
    },
    {
     "cell_type": "heading",
     "level": 2,
     "metadata": {},
     "source": [
      "5 Variable Position Data (F2, F3)"
     ]
    },
    {
     "cell_type": "code",
     "collapsed": false,
     "input": [
      "# Get total unique proteins for each stringency\n",
      "print \"Total unique proteins for each finger/stringency.\"\n",
      "b1hUnique5 = {}\n",
      "for i, fing in enumerate(fings5):\n",
      "    for strin in strins:\n",
      "        b1hUnique5[(fing, strin)] = (getProtSet(prefix5 + fing + '/' + strin \\\n",
      "                                     + '/protein_seq/all.txt', pos5))\n",
      "        print \"%s %s: %d (%f)\" \\\n",
      "            %(fing, strin, len(b1hUnique5[fing,strin]), \n",
      "              len(b1hUnique5[fing,strin])/float(theorSize5))\n",
      "\n",
      "# Is high a subset of low for each stringency?\n",
      "print\n",
      "print \"Is high a subset of low? -- |(High - Low)|/|High|.\"\n",
      "print \"F2: %f\" %( len(b1hUnique5['F2','high'] - b1hUnique5['F2','low']) \\\n",
      "                   /float(len(b1hUnique5['F2','high'])) )\n",
      "print \"F3: %f\" %( len(b1hUnique5['F3','high'] - b1hUnique5['F3','low']) \\\n",
      "                   /float(len(b1hUnique5['F3','high'])) )\n",
      "\n",
      "# What if we take union of all sequences from all fingers?\n",
      "highKeys = [k for k in b1hUnique5.keys() if k[1] == 'high']\n",
      "lowKeys = [k for k in b1hUnique5.keys() if k[1] == 'low']\n",
      "\n",
      "lowUnique5, highUnique5 = set(), set()\n",
      "for k in lowKeys:\n",
      "    lowUnique5 = lowUnique5 | b1hUnique5[k]\n",
      "for k in highKeys:\n",
      "    highUnique5 = highUnique5 | b1hUnique5[k]\n",
      "    \n",
      "# Free up some memory\n",
      "del b1hUnique5\n",
      "    \n",
      "print\n",
      "print \"Take union of sequences from all fingers.\"\n",
      "print \"F2 + F3 low:  %d (%f)\" \\\n",
      "    %(len(lowUnique5), len(lowUnique5)/float(theorSize5))\n",
      "print \"F2 + F3 high:  %d (%f)\" \\\n",
      "    %(len(highUnique5), len(highUnique5)/float(theorSize5))\n",
      "print \"(High - Low)/High: %f\" \\\n",
      "    %(len(highUnique5 - lowUnique5)/float(len(highUnique5)))"
     ],
     "language": "python",
     "metadata": {},
     "outputs": [
      {
       "output_type": "stream",
       "stream": "stdout",
       "text": [
        "Total unique proteins for each finger/stringency.\n",
        "F2 low: 14499 (0.004531)"
       ]
      },
      {
       "output_type": "stream",
       "stream": "stdout",
       "text": [
        "\n",
        "F2 high: 4331 (0.001353)\n",
        "F3 low: 46 (0.000014)\n",
        "F3 high: 132 (0.000041)\n",
        "\n",
        "Is high a subset of low? -- |(High - Low)|/|High|.\n",
        "F2: 0.641884\n",
        "F3: 0.651515\n",
        "\n",
        "Take union of sequences from all fingers.\n",
        "F2 + F3 low:  14534 (0.004542)\n",
        "F2 + F3 high:  4457 (0.001393)\n",
        "(High - Low)/High: 0.639892\n"
       ]
      }
     ],
     "prompt_number": 3
    },
    {
     "cell_type": "heading",
     "level": 2,
     "metadata": {},
     "source": [
      "6 Positions vs. 5 Positions (Each converted to 5 positions)"
     ]
    },
    {
     "cell_type": "code",
     "collapsed": false,
     "input": [
      "pos6To5Low, pos6To5High = set(), set()\n",
      "for prot in lowUnique6:\n",
      "    newprot = prot[0] + prot[2:]\n",
      "    pos6To5Low.add(newprot)\n",
      "for prot in highUnique6:\n",
      "    newprot = prot[0] + prot[2:]\n",
      "    pos6To5High.add(newprot)\n",
      "\n",
      "\n",
      "print \"6 Pos Converted to 5 Pos:\"\n",
      "print \"Low: %d (%f)\" %(len(pos6To5Low), len(pos6To5Low)/float(theorSize5))\n",
      "print \"High: %d (%f)\" %(len(pos6To5High), len(pos6To5High)/float(theorSize5))\n",
      "print \n",
      "print \"Low:\"\n",
      "print \"6Var | 5var: %d (%f)\" %(len(pos6To5Low | lowUnique5), \\\n",
      "                               len(pos6To5Low | lowUnique5)/float(theorSize5))\n",
      "print \"(6Var & 5var)/(6Var | 5Var): %f\" %(len(pos6To5Low & lowUnique5)/float(len(pos6To5Low | lowUnique5)))\n",
      "print \"(6Var - 5var)/6Var: %f\" %(len(pos6To5Low - lowUnique5)/float(len(pos6To5Low)))\n",
      "print \"(5Var - 6var)/5Var: %f\" %(len(lowUnique5 - pos6To5Low)/float(len(lowUnique5)))\n",
      "print \n",
      "print \"High:\"\n",
      "print \"6Var | 5var: %d (%f)\" %(len(pos6To5High | highUnique5), \\\n",
      "                               len(pos6To5High | highUnique5)/float(theorSize5))\n",
      "print \"(6Var & 5var)/(6Var | 5Var): %f\" %(len(pos6To5High & highUnique5)/float(len(pos6To5High | highUnique5)))\n",
      "print \"(6Var - 5var)/6Var: %f\" %(len(pos6To5High - highUnique5)/float(len(pos6To5High)))\n",
      "print \"(5Var - 6var)/5Var: %f\" %(len(highUnique5 - pos6To5High)/float(len(lowUnique5)))\n",
      "\n",
      "\n"
     ],
     "language": "python",
     "metadata": {},
     "outputs": [
      {
       "output_type": "stream",
       "stream": "stdout",
       "text": [
        "6 Pos Converted to 5 Pos:\n",
        "Low: 298049 (0.093140)\n",
        "High: 154416 (0.048255)\n",
        "\n",
        "Low:\n",
        "6Var | 5var: 307692 (0.096154)"
       ]
      },
      {
       "output_type": "stream",
       "stream": "stdout",
       "text": [
        "\n",
        "(6Var & 5var)/(6Var | 5Var): 0.015896"
       ]
      },
      {
       "output_type": "stream",
       "stream": "stdout",
       "text": [
        "\n",
        "(6Var - 5var)/6Var: 0.983590"
       ]
      },
      {
       "output_type": "stream",
       "stream": "stdout",
       "text": [
        "\n",
        "(5Var - 6var)/5Var: 0.663479\n",
        "\n",
        "High:\n",
        "6Var | 5var: 157633 (0.049260)"
       ]
      },
      {
       "output_type": "stream",
       "stream": "stdout",
       "text": [
        "\n",
        "(6Var & 5var)/(6Var | 5Var): 0.007866"
       ]
      },
      {
       "output_type": "stream",
       "stream": "stdout",
       "text": [
        "\n",
        "(6Var - 5var)/6Var: 0.991970"
       ]
      },
      {
       "output_type": "stream",
       "stream": "stdout",
       "text": [
        "\n",
        "(5Var - 6var)/5Var: 0.221343\n"
       ]
      }
     ],
     "prompt_number": 4
    },
    {
     "cell_type": "code",
     "collapsed": false,
     "input": [],
     "language": "python",
     "metadata": {},
     "outputs": [],
     "prompt_number": 4
    }
   ],
   "metadata": {}
  }
 ]
}