{
 "metadata": {
  "name": "binding_diversity_2"
 },
 "nbformat": 3,
 "nbformat_minor": 0,
 "worksheets": [
  {
   "cells": [
    {
     "cell_type": "code",
     "collapsed": false,
     "input": [
      "from gatherBindStats import getProtDict, getUniqueShilpaZFs\n",
      "import numpy as np\n"
     ],
     "language": "python",
     "metadata": {},
     "outputs": [],
     "prompt_number": 1
    },
    {
     "cell_type": "code",
     "collapsed": false,
     "input": [
      "path = \"../data/b1hData/oldData/F3/threshold025/low/all.txt\"\n",
      "b1hZFDict = getProtDict(path, [0, 2, 3, 5])\n",
      "b1hZFs = set(b1hZFDict.keys())\n",
      "print len(b1hZFs)\n",
      "print len(b1hZFs)/float(20**4)"
     ],
     "language": "python",
     "metadata": {},
     "outputs": [
      {
       "output_type": "stream",
       "stream": "stdout",
       "text": [
        "20946\n",
        "0.1309125\n"
       ]
      }
     ],
     "prompt_number": 2
    },
    {
     "cell_type": "code",
     "collapsed": false,
     "input": [
      "path = \"../data/shilpa/Drosophila_melanogaster_ZF.fulldom\"\n",
      "flyZFs = getUniqueShilpaZFs(path, [0, 2, 3, 6])\n",
      "print len(flyZFs)  # no. of unique (-1,2,3,6)\n",
      "print len(b1hZFs & flyZFs)  # intersection size\n",
      "print len(b1hZFs & flyZFs)/float(len(flyZFs))\n",
      "\n",
      "        "
     ],
     "language": "python",
     "metadata": {},
     "outputs": [
      {
       "output_type": "stream",
       "stream": "stdout",
       "text": [
        "1595\n",
        "529\n",
        "0.331661442006\n"
       ]
      }
     ],
     "prompt_number": 3
    },
    {
     "cell_type": "code",
     "collapsed": false,
     "input": [
      "isect = b1hZFs & flyZFs\n",
      "numTargs = np.array([len(b1hZFDict[prot].keys()) for prot in isect])\n",
      "print np.mean(numTargs)\n",
      "print np.std(numTargs)"
     ],
     "language": "python",
     "metadata": {},
     "outputs": [
      {
       "output_type": "stream",
       "stream": "stdout",
       "text": [
        "3.93383742911\n",
        "4.41227971759\n"
       ]
      }
     ],
     "prompt_number": 4
    },
    {
     "cell_type": "code",
     "collapsed": false,
     "input": [
      "nonIsect = b1hZFs - isect\n",
      "numTargs = np.array([len(b1hZFDict[prot].keys()) for prot in nonIsect])\n",
      "print np.mean(numTargs)\n",
      "print np.std(numTargs)"
     ],
     "language": "python",
     "metadata": {},
     "outputs": [
      {
       "output_type": "stream",
       "stream": "stdout",
       "text": [
        "2.55086447568\n",
        "3.20942484851\n"
       ]
      }
     ],
     "prompt_number": 5
    },
    {
     "cell_type": "code",
     "collapsed": false,
     "input": [],
     "language": "python",
     "metadata": {},
     "outputs": [],
     "prompt_number": 5
    }
   ],
   "metadata": {}
  }
 ]
}