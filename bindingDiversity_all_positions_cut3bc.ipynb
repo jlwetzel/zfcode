{
 "metadata": {
  "name": "bindingDiversity_all_positions_cut3bc"
 },
 "nbformat": 3,
 "nbformat_minor": 0,
 "worksheets": [
  {
   "cells": [
    {
     "cell_type": "heading",
     "level": 1,
     "metadata": {},
     "source": [
      "Binding Diveristy All Positions (nonNNS-removal, cut count >= 4 in barcode files)"
     ]
    },
    {
     "cell_type": "code",
     "collapsed": false,
     "input": [
      "from gatherBindStats import getProtSet\n",
      "prefix6 = '../data/b1hData/newDatabase/6varpos/'\n",
      "prefix5 = '../data/b1hData/newDatabase/5varpos/'\n",
      "pos6 = range(6) #[0,2,3,5]\n",
      "pos5 = range(5) #[0,1,2,4]\n",
      "theorSize6 = 20**6\n",
      "theorSize5 = 20**5 \n",
      "fings6 = ['F1', 'F2', 'F3']\n",
      "fings5 = ['F2', 'F3']\n",
      "strins = ['low', 'high']"
     ],
     "language": "python",
     "metadata": {},
     "outputs": [],
     "prompt_number": 1
    },
    {
     "cell_type": "heading",
     "level": 2,
     "metadata": {},
     "source": [
      "6 Variable Position Data (F1, F2, and F3)"
     ]
    },
    {
     "cell_type": "code",
     "collapsed": false,
     "input": [
      "# Get total unique protein for each stringency\n",
      "print \"Total unique proteins for each finger/stringency.\"\n",
      "b1hUnique6 = {}\n",
      "for i, fing in enumerate(fings6):\n",
      "    for strin in strins:\n",
      "        b1hUnique6[(fing, strin)] = (getProtSet(prefix6 + fing + '/' + strin \\\n",
      "                                     + '/protein_seq_cut3bc/all.txt', pos6))\n",
      "        print \"%s %s: %d (%f)\" \\\n",
      "            %(fing, strin, len(b1hUnique6[fing,strin]), \n",
      "              len(b1hUnique6[fing,strin])/float(theorSize6))\n",
      "            \n",
      "# Is high a subset of low for each stringency?\n",
      "print\n",
      "print \"Is high a subset of low? -- |(High - Low)|/|High|.\"\n",
      "print \"F1: %f\" %( len(b1hUnique6['F1','high'] - b1hUnique6['F1','low']) \\\n",
      "                   /float(len(b1hUnique6['F1','high'])) )\n",
      "print \"F2: %f\" %( len(b1hUnique6['F2','high'] - b1hUnique6['F2','low']) \\\n",
      "                   /float(len(b1hUnique6['F2','high'])) )\n",
      "print \"F3: %f\" %( len(b1hUnique6['F3','high'] - b1hUnique6['F3','low']) \\\n",
      "                   /float(len(b1hUnique6['F3','high'])) )\n",
      "\n",
      "# What if we take union of all sequences from all fingers?\n",
      "highKeys = [k for k in b1hUnique6.keys() if k[1] == 'high']\n",
      "lowKeys = [k for k in b1hUnique6.keys() if k[1] == 'low']\n",
      "\n",
      "lowUnique6, highUnique6 = set(), set()\n",
      "for k in lowKeys:\n",
      "    lowUnique6 = lowUnique6 | b1hUnique6[k]\n",
      "for k in highKeys:\n",
      "    highUnique6 = highUnique6 | b1hUnique6[k]\n",
      "\n",
      "# Free up some memory\n",
      "del b1hUnique6\n",
      "\n",
      "print\n",
      "print \"Take union of sequences from all fingers.\"\n",
      "print \"Low: %d (%f)\" \\\n",
      "    %(len(lowUnique6), len(lowUnique6)/float(theorSize6))\n",
      "print \"High: %d (%f)\" \\\n",
      "    %(len(highUnique6), len(highUnique6)/float(theorSize6))\n",
      "print \"(High - Low)/High: %f\" \\\n",
      "    %(len(highUnique6 - lowUnique6)/float(len(highUnique6)))"
     ],
     "language": "python",
     "metadata": {},
     "outputs": [
      {
       "output_type": "stream",
       "stream": "stdout",
       "text": [
        "Total unique proteins for each finger/stringency.\n",
        "F1 low: 310930 (0.004858)"
       ]
      },
      {
       "output_type": "stream",
       "stream": "stdout",
       "text": [
        "\n",
        "F1 high: 196981 (0.003078)"
       ]
      },
      {
       "output_type": "stream",
       "stream": "stdout",
       "text": [
        "\n",
        "F2 low: 341435 (0.005335)"
       ]
      },
      {
       "output_type": "stream",
       "stream": "stdout",
       "text": [
        "\n",
        "F2 high: 96486 (0.001508)"
       ]
      },
      {
       "output_type": "stream",
       "stream": "stdout",
       "text": [
        "\n",
        "F3 low: 264825 (0.004138)"
       ]
      },
      {
       "output_type": "stream",
       "stream": "stdout",
       "text": [
        "\n",
        "F3 high: 112923 (0.001764)"
       ]
      },
      {
       "output_type": "stream",
       "stream": "stdout",
       "text": [
        "\n",
        "\n",
        "Is high a subset of low? -- |(High - Low)|/|High|.\n",
        "F1: 0.796153"
       ]
      },
      {
       "output_type": "stream",
       "stream": "stdout",
       "text": [
        "\n",
        "F2: 0.556910\n",
        "F3: 0.654313"
       ]
      },
      {
       "output_type": "stream",
       "stream": "stdout",
       "text": [
        "\n",
        "\n"
       ]
      },
      {
       "output_type": "stream",
       "stream": "stdout",
       "text": [
        "Take union of sequences from all fingers.\n",
        "Low: 876777 (0.013700)\n",
        "High: 397112 (0.006205)\n",
        "(High - Low)/High: 0.691994"
       ]
      },
      {
       "output_type": "stream",
       "stream": "stdout",
       "text": [
        "\n"
       ]
      }
     ],
     "prompt_number": 2
    },
    {
     "cell_type": "heading",
     "level": 2,
     "metadata": {},
     "source": [
      "5 Variable Position Data (F2, F3)"
     ]
    },
    {
     "cell_type": "code",
     "collapsed": false,
     "input": [
      "# Get total unique proteins for each stringency\n",
      "print \"Total unique proteins for each finger/stringency.\"\n",
      "b1hUnique5 = {}\n",
      "for i, fing in enumerate(fings5):\n",
      "    for strin in strins:\n",
      "        b1hUnique5[(fing, strin)] = (getProtSet(prefix5 + fing + '/' + strin \\\n",
      "                                     + '/protein_seq_cut3bc/all.txt', pos5))\n",
      "        print \"%s %s: %d (%f)\" \\\n",
      "            %(fing, strin, len(b1hUnique5[fing,strin]), \n",
      "              len(b1hUnique5[fing,strin])/float(theorSize5))\n",
      "\n",
      "# Is high a subset of low for each stringency?\n",
      "print\n",
      "print \"Is high a subset of low? -- |(High - Low)|/|High|.\"\n",
      "print \"F2: %f\" %( len(b1hUnique5['F2','high'] - b1hUnique5['F2','low']) \\\n",
      "                   /float(len(b1hUnique5['F2','high'])) )\n",
      "print \"F3: %f\" %( len(b1hUnique5['F3','high'] - b1hUnique5['F3','low']) \\\n",
      "                   /float(len(b1hUnique5['F3','high'])) )\n",
      "\n",
      "# What if we take union of all sequences from all fingers?\n",
      "highKeys = [k for k in b1hUnique5.keys() if k[1] == 'high']\n",
      "lowKeys = [k for k in b1hUnique5.keys() if k[1] == 'low']\n",
      "\n",
      "lowUnique5, highUnique5 = set(), set()\n",
      "for k in lowKeys:\n",
      "    lowUnique5 = lowUnique5 | b1hUnique5[k]\n",
      "for k in highKeys:\n",
      "    highUnique5 = highUnique5 | b1hUnique5[k]\n",
      "    \n",
      "# Free up some memory\n",
      "del b1hUnique5\n",
      "    \n",
      "print\n",
      "print \"Take union of sequences from all fingers.\"\n",
      "print \"F2 + F3 low:  %d (%f)\" \\\n",
      "    %(len(lowUnique5), len(lowUnique5)/float(theorSize5))\n",
      "print \"F2 + F3 high:  %d (%f)\" \\\n",
      "    %(len(highUnique5), len(highUnique5)/float(theorSize5))\n",
      "print \"(High - Low)/High: %f\" \\\n",
      "    %(len(highUnique5 - lowUnique5)/float(len(highUnique5)))"
     ],
     "language": "python",
     "metadata": {},
     "outputs": [
      {
       "output_type": "stream",
       "stream": "stdout",
       "text": [
        "Total unique proteins for each finger/stringency.\n",
        "F2 low: 38007 (0.011877)"
       ]
      },
      {
       "output_type": "stream",
       "stream": "stdout",
       "text": [
        "\n",
        "F2 high: 13564 (0.004239)"
       ]
      },
      {
       "output_type": "stream",
       "stream": "stdout",
       "text": [
        "\n",
        "F3 low: 314 (0.000098)\n",
        "F3 high: 727 (0.000227)\n",
        "\n",
        "Is high a subset of low? -- |(High - Low)|/|High|.\n",
        "F2: 0.608301\n",
        "F3: 0.568088\n",
        "\n",
        "Take union of sequences from all fingers.\n",
        "F2 + F3 low:  38200 (0.011938)\n",
        "F2 + F3 high:  14230 (0.004447)\n",
        "(High - Low)/High: 0.605200\n"
       ]
      }
     ],
     "prompt_number": 3
    },
    {
     "cell_type": "heading",
     "level": 2,
     "metadata": {},
     "source": [
      "6 Positions vs. 5 Positions (Each converted to 5 positions)"
     ]
    },
    {
     "cell_type": "code",
     "collapsed": false,
     "input": [
      "pos6To5Low, pos6To5High = set(), set()\n",
      "for prot in lowUnique6:\n",
      "    newprot = prot[0] + prot[2:]\n",
      "    pos6To5Low.add(newprot)\n",
      "for prot in highUnique6:\n",
      "    newprot = prot[0] + prot[2:]\n",
      "    pos6To5High.add(newprot)\n",
      "\n",
      "\n",
      "print \"6 Pos Converted to 5 Pos:\"\n",
      "print \"Low: %d (%f)\" %(len(pos6To5Low), len(pos6To5Low)/float(theorSize5))\n",
      "print \"High: %d (%f)\" %(len(pos6To5High), len(pos6To5High)/float(theorSize5))\n",
      "print \n",
      "print \"Low:\"\n",
      "print \"6Var | 5var: %d (%f)\" %(len(pos6To5Low | lowUnique5), \\\n",
      "                               len(pos6To5Low | lowUnique5)/float(theorSize5))\n",
      "print \"(6Var & 5var)/(6Var | 5Var): %f\" %(len(pos6To5Low & lowUnique5)/float(len(pos6To5Low | lowUnique5)))\n",
      "print \"(6Var - 5var)/6Var: %f\" %(len(pos6To5Low - lowUnique5)/float(len(pos6To5Low)))\n",
      "print \"(5Var - 6var)/5Var: %f\" %(len(lowUnique5 - pos6To5Low)/float(len(lowUnique5)))\n",
      "print \n",
      "print \"High:\"\n",
      "print \"6Var | 5var: %d (%f)\" %(len(pos6To5High | highUnique5), \\\n",
      "                               len(pos6To5High | highUnique5)/float(theorSize5))\n",
      "print \"(6Var & 5var)/(6Var | 5Var): %f\" %(len(pos6To5High & highUnique5)/float(len(pos6To5High | highUnique5)))\n",
      "print \"(6Var - 5var)/6Var: %f\" %(len(pos6To5High - highUnique5)/float(len(pos6To5High)))\n",
      "print \"(5Var - 6var)/5Var: %f\" %(len(highUnique5 - pos6To5High)/float(len(lowUnique5)))\n",
      "\n",
      "\n"
     ],
     "language": "python",
     "metadata": {},
     "outputs": [
      {
       "output_type": "stream",
       "stream": "stdout",
       "text": [
        "6 Pos Converted to 5 Pos:\n",
        "Low: 590766 (0.184614)\n",
        "High: 310433 (0.097010)\n",
        "\n",
        "Low:\n",
        "6Var | 5var: 612338 (0.191356)"
       ]
      },
      {
       "output_type": "stream",
       "stream": "stdout",
       "text": [
        "\n",
        "(6Var & 5var)/(6Var | 5Var): 0.027155"
       ]
      },
      {
       "output_type": "stream",
       "stream": "stdout",
       "text": [
        "\n",
        "(6Var - 5var)/6Var: 0.971853"
       ]
      },
      {
       "output_type": "stream",
       "stream": "stdout",
       "text": [
        "\n",
        "(5Var - 6var)/5Var: 0.564712\n",
        "\n",
        "High:\n",
        "6Var | 5var: 320478 (0.100149)"
       ]
      },
      {
       "output_type": "stream",
       "stream": "stdout",
       "text": [
        "\n",
        "(6Var & 5var)/(6Var | 5Var): 0.013059"
       ]
      },
      {
       "output_type": "stream",
       "stream": "stdout",
       "text": [
        "\n",
        "(6Var - 5var)/6Var: 0.986519"
       ]
      },
      {
       "output_type": "stream",
       "stream": "stdout",
       "text": [
        "\n",
        "(5Var - 6var)/5Var: 0.262958\n"
       ]
      }
     ],
     "prompt_number": 4
    },
    {
     "cell_type": "code",
     "collapsed": false,
     "input": [],
     "language": "python",
     "metadata": {},
     "outputs": [],
     "prompt_number": 4
    }
   ],
   "metadata": {}
  }
 ]
}