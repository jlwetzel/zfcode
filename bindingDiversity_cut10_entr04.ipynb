{
 "metadata": {
  "name": "bindingDiversity_cut10_entr04"
 },
 "nbformat": 3,
 "nbformat_minor": 0,
 "worksheets": [
  {
   "cells": [
    {
     "cell_type": "code",
     "collapsed": false,
     "input": [
      "from gatherBindStats import *\n",
      "from scipy import stats\n",
      "maxSize6 = 20**6\n",
      "maxSize4 = 20**4"
     ],
     "language": "python",
     "metadata": {},
     "outputs": [],
     "prompt_number": 1
    },
    {
     "cell_type": "code",
     "collapsed": false,
     "input": [
      "# Get the protein sets from the binding data.\n",
      "pathPref = '../data/b1hdata/newDatabase/6varpos'\n",
      "proteinDir = 'protein_cut10_entr04'\n",
      "fings = ['F1', 'F2', 'F3']\n",
      "strins = ['high', 'low']\n",
      "bindingSets6 = {}\n",
      "bindingSets4 = {}\n",
      "for f in fings:\n",
      "    for s in strins:\n",
      "        bindingSets6[f,s] = getProtSet('/'.join([pathPref,f,s,proteinDir,'all.txt']), \n",
      "                                       range(6))\n",
      "        bindingSets4[f,s] = getProtSet('/'.join([pathPref,f,s,proteinDir,'all.txt']),\n",
      "                                       [0,2,3,5])"
     ],
     "language": "python",
     "metadata": {},
     "outputs": [],
     "prompt_number": 2
    },
    {
     "cell_type": "heading",
     "level": 2,
     "metadata": {},
     "source": [
      "6 Var Positions"
     ]
    },
    {
     "cell_type": "code",
     "collapsed": false,
     "input": [
      "printBindingSetStats(fings, strins, bindingSets6, maxSize6)"
     ],
     "language": "python",
     "metadata": {},
     "outputs": [
      {
       "output_type": "stream",
       "stream": "stdout",
       "text": [
        "Max Size for 6 positions: 64000000\n",
        "################################################################\n",
        "Size of F1 high: 13457\n",
        "Size of F1 low: 30978\n",
        "Size of F2 high: 29012\n",
        "Size of F2 low: 83634\n",
        "Size of F3 high: 22265\n",
        "Size of F3 low: 82786\n",
        "\n",
        "Is high a subset of low? (|High - Low|/|High|)\n",
        "################################################################\n",
        "F1: 0.367\n",
        "F2: 0.201\n",
        "F3: 0.234\n",
        "\n",
        "Combining Sets\n",
        "################################################################\n",
        "F1 F2 Intersection (high): 1537\n",
        "F1 F2 Union (high)       : 40932\n",
        "F1 F2 Jaccard (high)     : 0.038\n",
        "\n",
        "F1 F2 Intersection (low): 5097"
       ]
      },
      {
       "output_type": "stream",
       "stream": "stdout",
       "text": [
        "\n",
        "F1 F2 Union (low)       : 109515\n",
        "F1 F2 Jaccard (low)     : 0.047\n",
        "\n",
        "F1 F3 Intersection (high): 269\n",
        "F1 F3 Union (high)       : 35453\n",
        "F1 F3 Jaccard (high)     : 0.008\n",
        "\n",
        "F1 F3 Intersection (low): 2160"
       ]
      },
      {
       "output_type": "stream",
       "stream": "stdout",
       "text": [
        "\n",
        "F1 F3 Union (low)       : 111604\n",
        "F1 F3 Jaccard (low)     : 0.019\n",
        "\n",
        "F2 F3 Intersection (high): 2970\n",
        "F2 F3 Union (high)       : 48307\n",
        "F2 F3 Jaccard (high)     : 0.061\n",
        "\n",
        "F2 F3 Intersection (low): 14765"
       ]
      },
      {
       "output_type": "stream",
       "stream": "stdout",
       "text": [
        "\n",
        "F2 F3 Union (low)       : 151655\n",
        "F2 F3 Jaccard (low)     : 0.097\n",
        "\n",
        "All Intersection (high): 101\n",
        "All Union (high): 60059\n",
        "All Intersection (low): 1166"
       ]
      },
      {
       "output_type": "stream",
       "stream": "stdout",
       "text": [
        "\n",
        "All Union (low): 176542\n"
       ]
      }
     ],
     "prompt_number": 3
    },
    {
     "cell_type": "heading",
     "level": 2,
     "metadata": {},
     "source": [
      "4 Var Pos (-1, 2, 3, 6) -- Canonical"
     ]
    },
    {
     "cell_type": "code",
     "collapsed": false,
     "input": [
      "printBindingSetStats(fings, strins, bindingSets4, maxSize4)"
     ],
     "language": "python",
     "metadata": {},
     "outputs": [
      {
       "output_type": "stream",
       "stream": "stdout",
       "text": [
        "Max Size for 4 positions: 160000\n",
        "################################################################\n",
        "Size of F1 high: 3058\n",
        "Size of F1 low: 4997\n",
        "Size of F2 high: 3238\n",
        "Size of F2 low: 5552\n",
        "Size of F3 high: 3151\n",
        "Size of F3 low: 5764\n",
        "\n",
        "Is high a subset of low? (|High - Low|/|High|)\n",
        "################################################################\n",
        "F1: 0.416\n",
        "F2: 0.317\n",
        "F3: 0.383\n",
        "\n",
        "Combining Sets\n",
        "################################################################\n",
        "F1 F2 Intersection (high): 668\n",
        "F1 F2 Union (high)       : 5628\n",
        "F1 F2 Jaccard (high)     : 0.119\n",
        "\n",
        "F1 F2 Intersection (low): 1357\n",
        "F1 F2 Union (low)       : 9192\n",
        "F1 F2 Jaccard (low)     : 0.148\n",
        "\n",
        "F1 F3 Intersection (high): 331\n",
        "F1 F3 Union (high)       : 5878\n",
        "F1 F3 Jaccard (high)     : 0.056\n",
        "\n",
        "F1 F3 Intersection (low): 948\n",
        "F1 F3 Union (low)       : 9813\n",
        "F1 F3 Jaccard (low)     : 0.097\n",
        "\n",
        "F2 F3 Intersection (high): 643\n",
        "F2 F3 Union (high)       : 5746\n",
        "F2 F3 Jaccard (high)     : 0.112\n",
        "\n",
        "F2 F3 Intersection (low): 1827\n",
        "F2 F3 Union (low)       : 9489\n",
        "F2 F3 Jaccard (low)     : 0.193\n",
        "\n",
        "All Intersection (high): 196\n",
        "All Union (high): 8001\n",
        "All Intersection (low): 641\n",
        "All Union (low): 12822\n"
       ]
      }
     ],
     "prompt_number": 4
    },
    {
     "cell_type": "heading",
     "level": 2,
     "metadata": {},
     "source": [
      "Overlap with Human and Fly ZFs (ala HMMer + REGEX) -- Canonical Positions"
     ]
    },
    {
     "cell_type": "code",
     "collapsed": false,
     "input": [
      "dmelSet = getUniqueShilpaZFs('../data/shilpa/Drosophila_melanogaster_ZF.fulldom', [0, 2, 3, 6])\n",
      "hsapSet = getUniqueShilpaZFs('../data/shilpa/Homo_sapiens_ZF.fulldom', [0, 2, 3, 6])\n",
      "\n",
      "compareToNatural(bindingSets4, hsapSet, 'Human', fings, strins)\n",
      "compareToNatural(bindingSets4, hsapSet, 'Fly', fings, strins)"
     ],
     "language": "python",
     "metadata": {},
     "outputs": [
      {
       "output_type": "stream",
       "stream": "stdout",
       "text": [
        "\n",
        "Fraction of Human ZFs (-1,2,3,6) Captured: (3640 possible)\n",
        "################################################################\n",
        "F1 high: 0.100\n",
        "F1 low: 0.153\n",
        "F2 high: 0.114\n",
        "F2 low: 0.183\n",
        "F3 high: 0.086\n",
        "F3 low: 0.176\n",
        "\n",
        "F1 F2 Intersection (high): 0.048\n",
        "F1 F2 Union (high)       : 0.166\n",
        "F1 F2 Intersection (low): 0.082\n",
        "F1 F2 Union (low)       : 0.254\n",
        "F1 F3 Intersection (high): 0.026\n",
        "F1 F3 Union (high)       : 0.160\n",
        "F1 F3 Intersection (low): 0.065\n",
        "F1 F3 Union (low)       : 0.264\n",
        "F2 F3 Intersection (high): 0.041\n",
        "F2 F3 Union (high)       : 0.159\n",
        "F2 F3 Intersection (low): 0.099\n",
        "F2 F3 Union (low)       : 0.261\n",
        "\n",
        "All Intersection (high): 0.020\n",
        "All Union (high): 0.205\n",
        "All Intersection (low): 0.051\n",
        "All Union (low): 0.318\n",
        "\n",
        "Fraction of Fly ZFs (-1,2,3,6) Captured: (3640 possible)\n",
        "################################################################\n",
        "F1 high: 0.100\n",
        "F1 low: 0.153\n",
        "F2 high: 0.114\n",
        "F2 low: 0.183\n",
        "F3 high: 0.086\n",
        "F3 low: 0.176\n",
        "\n",
        "F1 F2 Intersection (high): 0.048\n",
        "F1 F2 Union (high)       : 0.166\n",
        "F1 F2 Intersection (low): 0.082\n",
        "F1 F2 Union (low)       : 0.254\n",
        "F1 F3 Intersection (high): 0.026\n",
        "F1 F3 Union (high)       : 0.160\n",
        "F1 F3 Intersection (low): 0.065\n",
        "F1 F3 Union (low)       : 0.264\n",
        "F2 F3 Intersection (high): 0.041\n",
        "F2 F3 Union (high)       : 0.159\n",
        "F2 F3 Intersection (low): 0.099\n",
        "F2 F3 Union (low)       : 0.261\n",
        "\n",
        "All Intersection (high): 0.020\n",
        "All Union (high): 0.205\n",
        "All Intersection (low): 0.051\n",
        "All Union (low): 0.318\n"
       ]
      }
     ],
     "prompt_number": 5
    },
    {
     "cell_type": "code",
     "collapsed": false,
     "input": [
      "\n"
     ],
     "language": "python",
     "metadata": {},
     "outputs": [],
     "prompt_number": 5
    }
   ],
   "metadata": {}
  }
 ]
}