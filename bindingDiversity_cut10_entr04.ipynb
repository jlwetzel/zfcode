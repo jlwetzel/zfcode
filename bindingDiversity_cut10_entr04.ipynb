{
 "metadata": {
  "name": "bindingDiversity_cut10_entr04"
 },
 "nbformat": 3,
 "nbformat_minor": 0,
 "worksheets": [
  {
   "cells": [
    {
     "cell_type": "code",
     "collapsed": false,
     "input": [
      "from gatherBindStats import *\n",
      "from scipy import stats\n",
      "maxSize6 = 20**6\n",
      "maxSize4 = 20**4"
     ],
     "language": "python",
     "metadata": {},
     "outputs": [],
     "prompt_number": 1
    },
    {
     "cell_type": "code",
     "collapsed": false,
     "input": [
      "# Get the protein sets from the binding data.\n",
      "pathPref = '../data/b1hdata/newDatabase/6varpos'\n",
      "proteinDir = 'protein_cut10_entr04'\n",
      "fings = ['F1', 'F2', 'F3']\n",
      "strins = ['high', 'low']\n",
      "bindingSets6 = {}\n",
      "bindingSets4 = {}\n",
      "for f in fings:\n",
      "    for s in strins:\n",
      "        bindingSets6[f,s] = getProtSet('/'.join([pathPref,f,s,proteinDir,'all.txt']), \n",
      "                                       range(6))\n",
      "        bindingSets4[f,s] = getProtSet('/'.join([pathPref,f,s,proteinDir,'all.txt']),\n",
      "                                       [0,2,3,5])"
     ],
     "language": "python",
     "metadata": {},
     "outputs": [],
     "prompt_number": 2
    },
    {
     "cell_type": "heading",
     "level": 2,
     "metadata": {},
     "source": [
      "6 Var Positions"
     ]
    },
    {
     "cell_type": "code",
     "collapsed": false,
     "input": [
      "printBindingSetStats(fings, strins, bindingSets6, maxSize6)"
     ],
     "language": "python",
     "metadata": {},
     "outputs": [
      {
       "output_type": "stream",
       "stream": "stdout",
       "text": [
        "Max Size for 6 positions: 64000000\n",
        "################################################################\n",
        "Size of F1 high: 13995\n",
        "Size of F1 low: 32297\n",
        "Size of F2 high: 29395\n",
        "Size of F2 low: 84751\n",
        "Size of F3 high: 22913\n",
        "Size of F3 low: 83300\n",
        "\n",
        "Is high a subset of low? (|High - Low|/|High|)\n",
        "################################################################\n",
        "F1: 0.367\n",
        "F2: 0.201\n",
        "F3: 0.253\n",
        "\n",
        "Combining Sets\n",
        "################################################################\n",
        "F1 F2 Intersection (high): 1602\n",
        "F1 F2 Union (high)       : 41788\n",
        "F1 F2 Jaccard (high)     : 0.038\n",
        "\n",
        "F1 F2 Intersection (low): 5302"
       ]
      },
      {
       "output_type": "stream",
       "stream": "stdout",
       "text": [
        "\n",
        "F1 F2 Union (low)       : 111746\n",
        "F1 F2 Jaccard (low)     : 0.047\n",
        "\n",
        "F1 F3 Intersection (high): 269\n",
        "F1 F3 Union (high)       : 36639\n",
        "F1 F3 Jaccard (high)     : 0.007\n",
        "\n",
        "F1 F3 Intersection (low): 2165\n",
        "F1 F3 Union (low)       : 113432\n",
        "F1 F3 Jaccard (low)     : 0.019\n",
        "\n",
        "F2 F3 Intersection (high): 2970"
       ]
      },
      {
       "output_type": "stream",
       "stream": "stdout",
       "text": [
        "\n",
        "F2 F3 Union (high)       : 49338\n",
        "F2 F3 Jaccard (high)     : 0.060\n",
        "\n",
        "F2 F3 Intersection (low): 14792"
       ]
      },
      {
       "output_type": "stream",
       "stream": "stdout",
       "text": [
        "\n",
        "F2 F3 Union (low)       : 153259\n",
        "F2 F3 Jaccard (low)     : 0.097\n",
        "\n",
        "All Intersection (high): 101"
       ]
      },
      {
       "output_type": "stream",
       "stream": "stdout",
       "text": [
        "\n",
        "All Union (high): 61563\n",
        "All Intersection (low): 1170"
       ]
      },
      {
       "output_type": "stream",
       "stream": "stdout",
       "text": [
        "\n",
        "All Union (low): 179259\n"
       ]
      }
     ],
     "prompt_number": 3
    },
    {
     "cell_type": "heading",
     "level": 2,
     "metadata": {},
     "source": [
      "4 Var Pos (-1, 2, 3, 6) -- Canonical"
     ]
    },
    {
     "cell_type": "code",
     "collapsed": false,
     "input": [
      "printBindingSetStats(fings, strins, bindingSets4, maxSize4)"
     ],
     "language": "python",
     "metadata": {},
     "outputs": [
      {
       "output_type": "stream",
       "stream": "stdout",
       "text": [
        "Max Size for 4 positions: 160000\n",
        "################################################################\n",
        "Size of F1 high: 3182\n",
        "Size of F1 low: 5181\n",
        "Size of F2 high: 3291\n",
        "Size of F2 low: 5615\n",
        "Size of F3 high: 3403\n",
        "Size of F3 low: 5891\n",
        "\n",
        "Is high a subset of low? (|High - Low|/|High|)\n",
        "################################################################\n",
        "F1: 0.419\n",
        "F2: 0.320\n",
        "F3: 0.416\n",
        "\n",
        "Combining Sets\n",
        "################################################################\n",
        "F1 F2 Intersection (high): 681\n",
        "F1 F2 Union (high)       : 5792\n",
        "F1 F2 Jaccard (high)     : 0.118\n",
        "\n",
        "F1 F2 Intersection (low): 1387\n",
        "F1 F2 Union (low)       : 9409\n",
        "F1 F2 Jaccard (low)     : 0.147\n",
        "\n",
        "F1 F3 Intersection (high): 336\n",
        "F1 F3 Union (high)       : 6249\n",
        "F1 F3 Jaccard (high)     : 0.054\n",
        "\n",
        "F1 F3 Intersection (low): 969\n",
        "F1 F3 Union (low)       : 10103\n",
        "F1 F3 Jaccard (low)     : 0.096\n",
        "\n",
        "F2 F3 Intersection (high): 648\n",
        "F2 F3 Union (high)       : 6046\n",
        "F2 F3 Jaccard (high)     : 0.107\n",
        "\n",
        "F2 F3 Intersection (low): 1856\n",
        "F2 F3 Union (low)       : 9650\n",
        "F2 F3 Jaccard (low)     : 0.192\n",
        "\n",
        "All Intersection (high): 197\n",
        "All Union (high): 8408\n",
        "All Intersection (low): 653\n",
        "All Union (low): 13128\n"
       ]
      }
     ],
     "prompt_number": 4
    },
    {
     "cell_type": "heading",
     "level": 2,
     "metadata": {},
     "source": [
      "Overlap with Human and Fly ZFs (ala HMMer + REGEX) -- Canonical Positions"
     ]
    },
    {
     "cell_type": "code",
     "collapsed": false,
     "input": [
      "dmelSet = getUniqueShilpaZFs('../data/shilpa/Drosophila_melanogaster_ZF.fulldom', [0, 2, 3, 6])\n",
      "hsapSet = getUniqueShilpaZFs('../data/shilpa/Homo_sapiens_ZF.fulldom', [0, 2, 3, 6])\n",
      "\n",
      "compareToNatural(bindingSets4, hsapSet, 'Human', fings, strins)\n",
      "compareToNatural(bindingSets4, dmelSet, 'Fly', fings, strins)"
     ],
     "language": "python",
     "metadata": {},
     "outputs": [
      {
       "output_type": "stream",
       "stream": "stdout",
       "text": [
        "\n",
        "Fraction of Human ZFs (-1,2,3,6) Captured: (3640 possible)\n",
        "################################################################\n",
        "F1 high: 0.101\n",
        "F1 low: 0.154\n",
        "F2 high: 0.114\n",
        "F2 low: 0.183\n",
        "F3 high: 0.087\n",
        "F3 low: 0.177\n",
        "\n",
        "F1 F2 Intersection (high): 0.048\n",
        "F1 F2 Union (high)       : 0.167\n",
        "F1 F2 Intersection (low): 0.082\n",
        "F1 F2 Union (low)       : 0.255\n",
        "F1 F3 Intersection (high): 0.026\n",
        "F1 F3 Union (high)       : 0.162\n",
        "F1 F3 Intersection (low): 0.066\n",
        "F1 F3 Union (low)       : 0.265\n",
        "F2 F3 Intersection (high): 0.041\n",
        "F2 F3 Union (high)       : 0.160\n",
        "F2 F3 Intersection (low): 0.099\n",
        "F2 F3 Union (low)       : 0.262\n",
        "\n",
        "All Intersection (high): 0.020\n",
        "All Union (high): 0.207\n",
        "All Intersection (low): 0.052\n",
        "All Union (low): 0.319\n",
        "\n",
        "Fraction of Fly ZFs (-1,2,3,6) Captured: (1595 possible)\n",
        "################################################################\n",
        "F1 high: 0.082\n",
        "F1 low: 0.123\n",
        "F2 high: 0.105\n",
        "F2 low: 0.155\n",
        "F3 high: 0.087\n",
        "F3 low: 0.152\n",
        "\n",
        "F1 F2 Intersection (high): 0.046\n",
        "F1 F2 Union (high)       : 0.141\n",
        "F1 F2 Intersection (low): 0.070\n",
        "F1 F2 Union (low)       : 0.208\n",
        "F1 F3 Intersection (high): 0.026\n",
        "F1 F3 Union (high)       : 0.143\n",
        "F1 F3 Intersection (low): 0.062\n",
        "F1 F3 Union (low)       : 0.213\n",
        "F2 F3 Intersection (high): 0.045\n",
        "F2 F3 Union (high)       : 0.147\n",
        "F2 F3 Intersection (low): 0.087\n",
        "F2 F3 Union (low)       : 0.221\n",
        "\n",
        "All Intersection (high): 0.019\n",
        "All Union (high): 0.176\n",
        "All Intersection (low): 0.050\n",
        "All Union (low): 0.261\n"
       ]
      }
     ],
     "prompt_number": 5
    },
    {
     "cell_type": "code",
     "collapsed": false,
     "input": [
      "\n"
     ],
     "language": "python",
     "metadata": {},
     "outputs": [],
     "prompt_number": 5
    }
   ],
   "metadata": {}
  }
 ]
}