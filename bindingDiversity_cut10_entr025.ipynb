{
 "metadata": {
  "name": "bindingDiversity_cut10_entr025"
 },
 "nbformat": 3,
 "nbformat_minor": 0,
 "worksheets": [
  {
   "cells": [
    {
     "cell_type": "code",
     "collapsed": false,
     "input": [
      "from gatherBindStats import *\n",
      "from scipy import stats\n",
      "maxSize6 = 20**6\n",
      "maxSize4 = 20**4"
     ],
     "language": "python",
     "metadata": {},
     "outputs": [],
     "prompt_number": 1
    },
    {
     "cell_type": "code",
     "collapsed": false,
     "input": [
      "# Get the protein sets from the binding data.\n",
      "pathPref = '../data/b1hdata/newDatabase/6varpos'\n",
      "proteinDir = 'protein_cut10_entr025'\n",
      "fings = ['F1', 'F2', 'F3']\n",
      "strins = ['high', 'low']\n",
      "bindingSets6 = {}\n",
      "bindingSets4 = {}\n",
      "for f in fings:\n",
      "    for s in strins:\n",
      "        bindingSets6[f,s] = getProtSet('/'.join([pathPref,f,s,proteinDir,'all.txt']), \n",
      "                                       range(6))\n",
      "        bindingSets4[f,s] = getProtSet('/'.join([pathPref,f,s,proteinDir,'all.txt']),\n",
      "                                       [0,2,3,5])"
     ],
     "language": "python",
     "metadata": {},
     "outputs": [],
     "prompt_number": 2
    },
    {
     "cell_type": "heading",
     "level": 2,
     "metadata": {},
     "source": [
      "6 Var Positions"
     ]
    },
    {
     "cell_type": "code",
     "collapsed": false,
     "input": [
      "printBindingSetStats(fings, strins, bindingSets6, maxSize6)"
     ],
     "language": "python",
     "metadata": {},
     "outputs": [
      {
       "output_type": "stream",
       "stream": "stdout",
       "text": [
        "Max Size for 6 positions: 64000000\n",
        "################################################################\n",
        "Size of F1 high: 22813\n",
        "Size of F1 low: 41870\n",
        "Size of F2 high: 40767\n",
        "Size of F2 low: 107942\n",
        "Size of F3 high: 47582\n",
        "Size of F3 low: 141513\n",
        "\n",
        "Is high a subset of low? (|High - Low|/|High|)\n",
        "################################################################\n",
        "F1: 0.494\n",
        "F2: 0.241\n",
        "F3: 0.316\n",
        "\n",
        "Combining Sets\n",
        "################################################################\n",
        "F1 F2 Intersection (high): 2138\n",
        "F1 F2 Union (high)       : 61442\n",
        "F1 F2 Jaccard (high)     : 0.035\n",
        "\n",
        "F1 F2 Intersection (low): 6760"
       ]
      },
      {
       "output_type": "stream",
       "stream": "stdout",
       "text": [
        "\n",
        "F1 F2 Union (low)       : 143052\n",
        "F1 F2 Jaccard (low)     : 0.047\n",
        "\n",
        "F1 F3 Intersection (high): 684\n",
        "F1 F3 Union (high)       : 69711\n",
        "F1 F3 Jaccard (high)     : 0.010\n",
        "\n",
        "F1 F3 Intersection (low): 3876"
       ]
      },
      {
       "output_type": "stream",
       "stream": "stdout",
       "text": [
        "\n",
        "F1 F3 Union (low)       : 179507\n",
        "F1 F3 Jaccard (low)     : 0.022\n",
        "\n",
        "F2 F3 Intersection (high): 5659"
       ]
      },
      {
       "output_type": "stream",
       "stream": "stdout",
       "text": [
        "\n",
        "F2 F3 Union (high)       : 82690\n",
        "F2 F3 Jaccard (high)     : 0.068\n",
        "\n",
        "F2 F3 Intersection (low): 25390"
       ]
      },
      {
       "output_type": "stream",
       "stream": "stdout",
       "text": [
        "\n",
        "F2 F3 Union (low)       : 224065\n",
        "F2 F3 Jaccard (low)     : 0.113\n",
        "\n",
        "All Intersection (high): 278"
       ]
      },
      {
       "output_type": "stream",
       "stream": "stdout",
       "text": [
        "\n",
        "All Union (high): 102959\n",
        "All Intersection (low): 2145"
       ]
      },
      {
       "output_type": "stream",
       "stream": "stdout",
       "text": [
        "\n",
        "All Union (low): 257444\n"
       ]
      }
     ],
     "prompt_number": 3
    },
    {
     "cell_type": "heading",
     "level": 2,
     "metadata": {},
     "source": [
      "4 Var Pos (-1, 2, 3, 6) -- Canonical"
     ]
    },
    {
     "cell_type": "code",
     "collapsed": false,
     "input": [
      "printBindingSetStats(fings, strins, bindingSets4, maxSize4)"
     ],
     "language": "python",
     "metadata": {},
     "outputs": [
      {
       "output_type": "stream",
       "stream": "stdout",
       "text": [
        "Max Size for 4 positions: 160000\n",
        "################################################################\n",
        "Size of F1 high: 7105\n",
        "Size of F1 low: 7406\n",
        "Size of F2 high: 5313\n",
        "Size of F2 low: 8209\n",
        "Size of F3 high: 9093\n",
        "Size of F3 low: 10283\n",
        "\n",
        "Is high a subset of low? (|High - Low|/|High|)\n",
        "################################################################\n",
        "F1: 0.624\n",
        "F2: 0.426\n",
        "F3: 0.534\n",
        "\n",
        "Combining Sets\n",
        "################################################################\n",
        "F1 F2 Intersection (high): 1130\n",
        "F1 F2 Union (high)       : 11288\n",
        "F1 F2 Jaccard (high)     : 0.100\n",
        "\n",
        "F1 F2 Intersection (low): 1962\n",
        "F1 F2 Union (low)       : 13653\n",
        "F1 F2 Jaccard (low)     : 0.144\n",
        "\n",
        "F1 F3 Intersection (high): 999\n",
        "F1 F3 Union (high)       : 15199\n",
        "F1 F3 Jaccard (high)     : 0.066\n",
        "\n",
        "F1 F3 Intersection (low): 1686\n",
        "F1 F3 Union (low)       : 16003\n",
        "F1 F3 Jaccard (low)     : 0.105\n",
        "\n",
        "F2 F3 Intersection (high): 1369\n",
        "F2 F3 Union (high)       : 13037\n",
        "F2 F3 Jaccard (high)     : 0.105\n",
        "\n",
        "F2 F3 Intersection (low): 3000\n",
        "F2 F3 Union (low)       : 15492\n",
        "F2 F3 Jaccard (low)     : 0.194\n",
        "\n",
        "All Intersection (high): 453\n",
        "All Union (high): 18466\n",
        "All Intersection (low): 1067"
       ]
      },
      {
       "output_type": "stream",
       "stream": "stdout",
       "text": [
        "\n",
        "All Union (low): 20317\n"
       ]
      }
     ],
     "prompt_number": 4
    },
    {
     "cell_type": "heading",
     "level": 2,
     "metadata": {},
     "source": [
      "Overlap with Human and Fly ZFs (ala HMMer + REGEX) -- Canonical Positions"
     ]
    },
    {
     "cell_type": "code",
     "collapsed": false,
     "input": [
      "dmelSet = getUniqueShilpaZFs('../data/shilpa/Drosophila_melanogaster_ZF.fulldom', [0, 2, 3, 6])\n",
      "hsapSet = getUniqueShilpaZFs('../data/shilpa/Homo_sapiens_ZF.fulldom', [0, 2, 3, 6])\n",
      "\n",
      "compareToNatural(bindingSets4, hsapSet, 'Human', fings, strins)\n",
      "compareToNatural(bindingSets4, hsapSet, 'Fly', fings, strins)"
     ],
     "language": "python",
     "metadata": {},
     "outputs": [
      {
       "output_type": "stream",
       "stream": "stdout",
       "text": [
        "\n",
        "Fraction of Human ZFs (-1,2,3,6) Captured: (3640 possible)\n",
        "################################################################\n",
        "F1 high: 0.166\n",
        "F1 low: 0.195\n",
        "F2 high: 0.154\n",
        "F2 low: 0.232\n",
        "F3 high: 0.178\n",
        "F3 low: 0.246\n",
        "\n",
        "F1 F2 Intersection (high): 0.073\n",
        "F1 F2 Union (high)       : 0.247\n",
        "F1 F2 Intersection (low): 0.107\n",
        "F1 F2 Union (low)       : 0.320\n",
        "F1 F3 Intersection (high): 0.059\n",
        "F1 F3 Union (high)       : 0.284\n",
        "F1 F3 Intersection (low): 0.095\n",
        "F1 F3 Union (low)       : 0.346\n",
        "F2 F3 Intersection (high): 0.073\n",
        "F2 F3 Union (high)       : 0.259\n",
        "F2 F3 Intersection (low): 0.139\n",
        "F2 F3 Union (low)       : 0.339\n",
        "\n",
        "All Intersection (high): 0.040\n",
        "All Union (high): 0.332\n",
        "All Intersection (low): 0.074\n",
        "All Union (low): 0.406\n",
        "\n"
       ]
      },
      {
       "output_type": "stream",
       "stream": "stdout",
       "text": [
        "Fraction of Fly ZFs (-1,2,3,6) Captured: (3640 possible)\n",
        "################################################################\n",
        "F1 high: 0.166\n",
        "F1 low: 0.195\n",
        "F2 high: 0.154\n",
        "F2 low: 0.232\n",
        "F3 high: 0.178\n",
        "F3 low: 0.246\n",
        "\n",
        "F1 F2 Intersection (high): 0.073\n",
        "F1 F2 Union (high)       : 0.247\n",
        "F1 F2 Intersection (low): 0.107\n",
        "F1 F2 Union (low)       : 0.320\n",
        "F1 F3 Intersection (high): 0.059\n",
        "F1 F3 Union (high)       : 0.284\n",
        "F1 F3 Intersection (low): 0.095\n",
        "F1 F3 Union (low)       : 0.346\n",
        "F2 F3 Intersection (high): 0.073\n",
        "F2 F3 Union (high)       : 0.259\n",
        "F2 F3 Intersection (low): 0.139\n",
        "F2 F3 Union (low)       : 0.339\n",
        "\n",
        "All Intersection (high): 0.040\n",
        "All Union (high): 0.332\n",
        "All Intersection (low): 0.074"
       ]
      },
      {
       "output_type": "stream",
       "stream": "stdout",
       "text": [
        "\n",
        "All Union (low): 0.406\n"
       ]
      }
     ],
     "prompt_number": 5
    },
    {
     "cell_type": "code",
     "collapsed": false,
     "input": [
      "\n"
     ],
     "language": "python",
     "metadata": {},
     "outputs": [],
     "prompt_number": 5
    }
   ],
   "metadata": {}
  }
 ]
}