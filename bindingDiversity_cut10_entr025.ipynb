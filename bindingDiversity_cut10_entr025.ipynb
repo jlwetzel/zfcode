{
 "metadata": {
  "name": "bindingDiversity_cut10_entr025"
 },
 "nbformat": 3,
 "nbformat_minor": 0,
 "worksheets": [
  {
   "cells": [
    {
     "cell_type": "code",
     "collapsed": false,
     "input": [
      "from gatherBindStats import *\n",
      "from scipy import stats\n",
      "maxSize6 = 20**6\n",
      "maxSize4 = 20**4"
     ],
     "language": "python",
     "metadata": {},
     "outputs": [],
     "prompt_number": 1
    },
    {
     "cell_type": "code",
     "collapsed": false,
     "input": [
      "# Get the protein sets from the binding data.\n",
      "pathPref = '../data/b1hdata/newDatabase/6varpos'\n",
      "proteinDir = 'protein_cut10_entr025'\n",
      "fings = ['F1', 'F2', 'F3']\n",
      "strins = ['high', 'low']\n",
      "bindingSets6 = {}\n",
      "bindingSets4 = {}\n",
      "for f in fings:\n",
      "    for s in strins:\n",
      "        bindingSets6[f,s] = getProtSet('/'.join([pathPref,f,s,proteinDir,'all.txt']), \n",
      "                                       range(6))\n",
      "        bindingSets4[f,s] = getProtSet('/'.join([pathPref,f,s,proteinDir,'all.txt']),\n",
      "                                       [0,2,3,5])"
     ],
     "language": "python",
     "metadata": {},
     "outputs": [],
     "prompt_number": 2
    },
    {
     "cell_type": "heading",
     "level": 2,
     "metadata": {},
     "source": [
      "6 Var Positions"
     ]
    },
    {
     "cell_type": "code",
     "collapsed": false,
     "input": [
      "print \"Max Size for 6 positions: %d\" %maxSize6\n",
      "print \"#\"*64\n",
      "for f in fings:\n",
      "    for s in strins:\n",
      "        setSize = len(bindingSets6[f,s])\n",
      "        frac = setSize/float(maxSize6)\n",
      "        print \"Size of %s %s: %d\" %(f, s, setSize) \n",
      "        \n",
      "print\n",
      "print \"Is high a subset of low (6pos)? (|High - Low|/|High|)\"\n",
      "print \"#\"*64\n",
      "for f in fings:\n",
      "    highMinLow = bindingSets6[f,'high'] - bindingSets6[f,'low']\n",
      "    print \"%s: %.3f\" %(f, len(highMinLow)/float(len(bindingSets6[f,'high'])))\n",
      "    \n",
      "print \n",
      "print \"Combining Sets\"\n",
      "print \"#\"*64\n",
      "interSet6 = {}\n",
      "unionSet6 = {}\n",
      "for i in range(len(fings)):\n",
      "    for j in range(i + 1, len(fings)):\n",
      "        inter = bindingSets6[fings[i], 'high'] & bindingSets6[fings[j], 'high']\n",
      "        interSet6[fings[i], fings[j], 'high'] = inter\n",
      "        union = bindingSets6[fings[i], 'high'] | bindingSets6[fings[j], 'high']\n",
      "        unionSet6[fings[i], fings[j], 'high'] = union\n",
      "        print \"%s %s Intersection (high): %d\" %(fings[i], fings[j], len(inter))\n",
      "        print \"%s %s Union (high)       : %d\" %(fings[i], fings[j], len(union))\n",
      "        print \"%s %s Jaccard (high)     : %.3f\" %(fings[i], fings[j], len(inter)/float(len(union)))\n",
      "        inter = bindingSets6[fings[i], 'low'] & bindingSets6[fings[j], 'low']\n",
      "        interSet6[fings[i], fings[j], 'low'] = inter\n",
      "        union = bindingSets6[fings[i], 'low'] | bindingSets6[fings[j], 'low']\n",
      "        unionSet6[fings[i], fings[j], 'low'] = union\n",
      "        print \"%s %s Intersection (low): %d\" %(fings[i], fings[j], len(inter))\n",
      "        print \"%s %s Union (low)       : %d\" %(fings[i], fings[j], len(union))\n",
      "        print \"%s %s Jaccard (low)     : %.3f\" %(fings[i], fings[j], len(inter)/float(len(union)))\n",
      "        print\n",
      "\n",
      "for s in strins:\n",
      "    inter = bindingSets6['F1', s] & bindingSets6['F2', s] & bindingSets6['F3', s]\n",
      "    interSet6['F1', 'F2', 'F3', s] = inter\n",
      "    union = bindingSets6['F1', s] | bindingSets6['F2', s] | bindingSets6['F3', s]\n",
      "    unionSet6['F1', 'F2', 'F3', s] = union\n",
      "    print \"%s %s %s Intersection (%s): %d\" %('F1', 'F2', 'F3', s, len(inter))\n",
      "    print \"%s %s %s Union        (%s): %d\" %('F1', 'F2', 'F3', s, len(union))\n",
      "    print \"%s %s %s Jaccard      (%s): %.3f\" %('F1', 'F2', 'F3', s, len(inter)/float(len(union)))\n"
     ],
     "language": "python",
     "metadata": {},
     "outputs": [
      {
       "output_type": "stream",
       "stream": "stdout",
       "text": [
        "Max Size for 6 positions: 64000000\n",
        "################################################################\n",
        "Size of F1 high: 22813\n",
        "Size of F1 low: 41870\n",
        "Size of F2 high: 40767\n",
        "Size of F2 low: 107942\n",
        "Size of F3 high: 47582\n",
        "Size of F3 low: 141513\n",
        "\n",
        "Is high a subset of low (6pos)? (|High - Low|/|High|)\n",
        "################################################################\n",
        "F1: 0.494\n",
        "F2: 0.241\n",
        "F3: 0.316\n",
        "\n",
        "Combining Sets\n",
        "################################################################\n",
        "F1 F2 Intersection (high): 2138"
       ]
      },
      {
       "output_type": "stream",
       "stream": "stdout",
       "text": [
        "\n",
        "F1 F2 Union (high)       : 61442\n",
        "F1 F2 Jaccard (high)     : 0.035\n",
        "F1 F2 Intersection (low): 6760\n",
        "F1 F2 Union (low)       : 143052\n",
        "F1 F2 Jaccard (low)     : 0.047\n",
        "\n",
        "F1 F3 Intersection (high): 684"
       ]
      },
      {
       "output_type": "stream",
       "stream": "stdout",
       "text": [
        "\n",
        "F1 F3 Union (high)       : 69711\n",
        "F1 F3 Jaccard (high)     : 0.010\n",
        "F1 F3 Intersection (low): 3876"
       ]
      },
      {
       "output_type": "stream",
       "stream": "stdout",
       "text": [
        "\n",
        "F1 F3 Union (low)       : 179507\n",
        "F1 F3 Jaccard (low)     : 0.022\n",
        "\n",
        "F2 F3 Intersection (high): 5659\n",
        "F2 F3 Union (high)       : 82690\n",
        "F2 F3 Jaccard (high)     : 0.068\n",
        "F2 F3 Intersection (low): 25390"
       ]
      },
      {
       "output_type": "stream",
       "stream": "stdout",
       "text": [
        "\n",
        "F2 F3 Union (low)       : 224065\n",
        "F2 F3 Jaccard (low)     : 0.113\n",
        "\n",
        "F1 F2 F3 Intersection (high): 278"
       ]
      },
      {
       "output_type": "stream",
       "stream": "stdout",
       "text": [
        "\n",
        "F1 F2 F3 Union        (high): 102959\n",
        "F1 F2 F3 Jaccard      (high): 0.003\n",
        "F1 F2 F3 Intersection (low): 2145"
       ]
      },
      {
       "output_type": "stream",
       "stream": "stdout",
       "text": [
        "\n",
        "F1 F2 F3 Union        (low): 257444\n",
        "F1 F2 F3 Jaccard      (low): 0.008\n"
       ]
      }
     ],
     "prompt_number": 3
    },
    {
     "cell_type": "heading",
     "level": 2,
     "metadata": {},
     "source": [
      "4 Var Pos (-1, 2, 3, 6) -- Canonical"
     ]
    },
    {
     "cell_type": "code",
     "collapsed": false,
     "input": [
      "print \"Max Size for 4 positions: %d\" %maxSize4\n",
      "print \"#\"*64\n",
      "for f in fings:\n",
      "    for s in strins:\n",
      "        setSize = len(bindingSets4[f,s])\n",
      "        frac = setSize/float(maxSize4)\n",
      "        print \"Size of %s %s: %d\" %(f, s, setSize) \n",
      "        \n",
      "print\n",
      "print \"Is high a subset of low? (|High - Low|/|High|)\"\n",
      "print \"#\"*64\n",
      "for f in fings:\n",
      "    highMinLow = bindingSets4[f,'high'] - bindingSets4[f,'low']\n",
      "    print \"%s: %.3f\" %(f, len(highMinLow)/float(len(bindingSets4[f,'high'])))\n",
      "    \n",
      "print \n",
      "print \"Combining Sets\"\n",
      "print \"#\"*64\n",
      "interSet4 = {}\n",
      "unionSet4 = {}\n",
      "for i in range(len(fings)):\n",
      "    for j in range(i + 1, len(fings)):\n",
      "        inter = bindingSets4[fings[i], 'high'] & bindingSets4[fings[j], 'high']\n",
      "        interSet4[fings[i], fings[j], 'high'] = inter\n",
      "        union = bindingSets4[fings[i], 'high'] | bindingSets4[fings[j], 'high']\n",
      "        unionSet4[fings[i], fings[j], 'high'] = union\n",
      "        print \"%s %s Intersection (high): %d\" %(fings[i], fings[j], len(inter))\n",
      "        print \"%s %s Union (high)       : %d\" %(fings[i], fings[j], len(union))\n",
      "        print \"%s %s Jaccard (high)     : %.3f\" %(fings[i], fings[j], len(inter)/float(len(union)))\n",
      "        inter = bindingSets4[fings[i], 'low'] & bindingSets4[fings[j], 'low']\n",
      "        interSet4[fings[i], fings[j], 'low'] = inter\n",
      "        union = bindingSets4[fings[i], 'low'] | bindingSets4[fings[j], 'low']\n",
      "        unionSet4[fings[i], fings[j], 'low'] = union\n",
      "        print \"%s %s Intersection (low): %d\" %(fings[i], fings[j], len(inter))\n",
      "        print \"%s %s Union (low)       : %d\" %(fings[i], fings[j], len(union))\n",
      "        print \"%s %s Jaccard (low)     : %.3f\" %(fings[i], fings[j], len(inter)/float(len(union)))\n",
      "        print\n",
      "\n",
      "for s in strins:\n",
      "    inter = bindingSets4['F1', s] & bindingSets4['F2', s] & bindingSets4['F3', s]\n",
      "    interSet4['F1', 'F2', 'F3', s] = inter\n",
      "    union = bindingSets4['F1', s] | bindingSets4['F2', s] | bindingSets4['F3', s]\n",
      "    unionSet4['F1', 'F2', 'F3', s] = union\n",
      "    print \"%s %s %s Intersection (%s): %d\" %('F1', 'F2', 'F3', s, len(inter))\n",
      "    print \"%s %s %s Union        (%s): %d\" %('F1', 'F2', 'F3', s, len(union))\n",
      "    print \"%s %s %s Jaccard      (%s): %.3f\" %('F1', 'F2', 'F3', s, len(inter)/float(len(union)))"
     ],
     "language": "python",
     "metadata": {},
     "outputs": [
      {
       "output_type": "stream",
       "stream": "stdout",
       "text": [
        "Max Size for 4 positions: 160000\n",
        "################################################################\n",
        "Size of F1 high: 7105\n",
        "Size of F1 low: 7406\n",
        "Size of F2 high: 5313\n",
        "Size of F2 low: 8209\n",
        "Size of F3 high: 9093\n",
        "Size of F3 low: 10283\n",
        "\n",
        "Is high a subset of low? (|High - Low|/|High|)\n",
        "################################################################\n",
        "F1: 0.624\n",
        "F2: 0.426\n",
        "F3: 0.534\n",
        "\n",
        "Combining Sets\n",
        "################################################################\n",
        "F1 F2 Intersection (high): 1130\n",
        "F1 F2 Union (high)       : 11288\n",
        "F1 F2 Jaccard (high)     : 0.100\n",
        "F1 F2 Intersection (low): 1962\n",
        "F1 F2 Union (low)       : 13653\n",
        "F1 F2 Jaccard (low)     : 0.144\n",
        "\n",
        "F1 F3 Intersection (high): 999\n",
        "F1 F3 Union (high)       : 15199\n",
        "F1 F3 Jaccard (high)     : 0.066\n",
        "F1 F3 Intersection (low): 1686\n",
        "F1 F3 Union (low)       : 16003\n",
        "F1 F3 Jaccard (low)     : 0.105\n",
        "\n",
        "F2 F3 Intersection (high): 1369\n",
        "F2 F3 Union (high)       : 13037\n",
        "F2 F3 Jaccard (high)     : 0.105\n",
        "F2 F3 Intersection (low): 3000\n",
        "F2 F3 Union (low)       : 15492\n",
        "F2 F3 Jaccard (low)     : 0.194\n",
        "\n",
        "F1 F2 F3 Intersection (high): 453\n",
        "F1 F2 F3 Union        (high): 18466\n",
        "F1 F2 F3 Jaccard      (high): 0.025\n",
        "F1 F2 F3 Intersection (low): 1067\n",
        "F1 F2 F3 Union        (low): 20317\n",
        "F1 F2 F3 Jaccard      (low): 0.053\n"
       ]
      }
     ],
     "prompt_number": 4
    },
    {
     "cell_type": "heading",
     "level": 2,
     "metadata": {},
     "source": [
      "Overlap with Human and Fly ZFs (ala HMMer + REGEX) -- Canonical Positions"
     ]
    },
    {
     "cell_type": "code",
     "collapsed": false,
     "input": [
      "dmelSet = getUniqueShilpaZFs('../data/shilpa/Drosophila_melanogaster_ZF.fulldom', [0, 2, 3, 6])\n",
      "hsapSet = getUniqueShilpaZFs('../data/shilpa/Homo_sapiens_ZF.fulldom', [0, 2, 3, 6])\n",
      "\n",
      "print\n",
      "print \"Fraction of Human ZFs (-1,2,3,6) Captured: (%d possible)\" %len(hsapSet)\n",
      "print \"#\"*64\n",
      "for f in fings:\n",
      "    for s in strins:\n",
      "        inter = bindingSets4[f,s] & hsapSet\n",
      "        print \"%s %s: %.3f\" %(f, s, len(inter)/float(len(hsapSet)))\n",
      "print\n",
      "for s in strins:\n",
      "    union = unionSet4['F1', 'F2', 'F3', s]\n",
      "    inter = union & hsapSet\n",
      "    print \"F1 F2 F3 %s Union: %.3f\" %(s, len(inter)/float(len(hsapSet)))\n",
      "    \n",
      "print\n",
      "print \"Fraction of Fly (D mel.) ZFs (-1,2,3,6) Captured: (%d possible)\" %len(dmelSet)\n",
      "print \"#\"*64\n",
      "for f in fings:\n",
      "    for s in strins:\n",
      "        inter = bindingSets4[f,s] & dmelSet\n",
      "        print \"%s %s: %.3f\" %(f, s, len(inter)/float(len(dmelSet)))\n",
      "print\n",
      "for s in strins:\n",
      "    union = unionSet4['F1', 'F2', 'F3', s]\n",
      "    inter = union & dmelSet\n",
      "    print \"F1 F2 F3 %s Union: %.3f\" %(s, len(inter)/float(len(dmelSet)))\n",
      "\n"
     ],
     "language": "python",
     "metadata": {},
     "outputs": [
      {
       "output_type": "stream",
       "stream": "stdout",
       "text": [
        "\n",
        "Fraction of Human ZFs (-1,2,3,6) Captured: (3640 possible)\n",
        "################################################################\n",
        "F1 high: 0.166\n",
        "F1 low: 0.195\n",
        "F2 high: 0.154\n",
        "F2 low: 0.232\n",
        "F3 high: 0.178\n",
        "F3 low: 0.246\n",
        "\n",
        "F1 F2 F3 high Union: 0.332\n",
        "F1 F2 F3 low Union: 0.406\n",
        "\n",
        "Fraction of Fly (D mel.) ZFs (-1,2,3,6) Captured: (1595 possible)\n",
        "################################################################\n",
        "F1 high: 0.132\n",
        "F1 low: 0.161\n",
        "F2 high: 0.136\n",
        "F2 low: 0.197\n",
        "F3 high: 0.157\n",
        "F3 low: 0.208\n",
        "\n",
        "F1 F2 F3 high Union: 0.280\n",
        "F1 F2 F3 low Union: 0.338\n"
       ]
      }
     ],
     "prompt_number": 5
    },
    {
     "cell_type": "code",
     "collapsed": false,
     "input": [],
     "language": "python",
     "metadata": {},
     "outputs": [],
     "prompt_number": 5
    }
   ],
   "metadata": {}
  }
 ]
}