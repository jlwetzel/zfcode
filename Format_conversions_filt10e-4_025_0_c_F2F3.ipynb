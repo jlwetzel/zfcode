{
 "metadata": {
  "name": "Format_conversions_filt10e-4_025_0_c_F2F3"
 },
 "nbformat": 3,
 "nbformat_minor": 0,
 "worksheets": [
  {
   "cells": [
    {
     "cell_type": "code",
     "collapsed": false,
     "input": [
      "from changeFormats import targetFiles2singleCSV, csv2txtFile\n",
      "\n"
     ],
     "language": "python",
     "metadata": {},
     "outputs": [],
     "prompt_number": 1
    },
    {
     "cell_type": "code",
     "collapsed": false,
     "input": [
      "prefix = '../data/b1hData/antonProcessed/'\n",
      "numVarPos = 6\n",
      "interfaces = {}\n",
      "fings = ['F2F3']\n",
      "strins = ['unionIntersections', 'intersectUnions', 'intersectIntersections', 'unionUnions', \\\n",
      "            'intersectUnions_all', 'intersectIntersections_all', 'unionLow', 'unionHigh']\n",
      "for fing in fings:\n",
      "    for strin in strins:\n",
      "        path = prefix + fing + '/' + strin + '/' + 'filt_10e-4_025_0_c/'\n",
      "        interfaces[fing] = targetFiles2singleCSV(path, numVarPos, '.txt', style = 'verbose')\n",
      "        csv2txtFile(path, numVarPos, style = 'verbose')\n",
      "        print"
     ],
     "language": "python",
     "metadata": {},
     "outputs": [
      {
       "output_type": "stream",
       "stream": "stdout",
       "text": [
        "Here\n",
        "Num proteins in ../data/b1hData/antonProcessed/F2F3/unionIntersections/filt_10e-4_025_0_c/AAA.txt:  113\n",
        "Num proteins in ../data/b1hData/antonProcessed/F2F3/unionIntersections/filt_10e-4_025_0_c/AAC.txt:  937"
       ]
      },
      {
       "output_type": "stream",
       "stream": "stdout",
       "text": [
        "\n",
        "Num proteins in ../data/b1hData/antonProcessed/F2F3/unionIntersections/filt_10e-4_025_0_c/AAG.txt:  701\n",
        "Num proteins in ../data/b1hData/antonProcessed/F2F3/unionIntersections/filt_10e-4_025_0_c/AAT.txt:  226\n",
        "Num proteins in ../data/b1hData/antonProcessed/F2F3/unionIntersections/filt_10e-4_025_0_c/ACA.txt:  505\n",
        "Num proteins in ../data/b1hData/antonProcessed/F2F3/unionIntersections/filt_10e-4_025_0_c/ACC.txt:  224\n",
        "Num proteins in ../data/b1hData/antonProcessed/F2F3/unionIntersections/filt_10e-4_025_0_c/ACG.txt:  961\n",
        "Num proteins in ../data/b1hData/antonProcessed/F2F3/unionIntersections/filt_10e-4_025_0_c/ACT.txt:  1409"
       ]
      },
      {
       "output_type": "stream",
       "stream": "stdout",
       "text": [
        "\n",
        "Num proteins in ../data/b1hData/antonProcessed/F2F3/unionIntersections/filt_10e-4_025_0_c/AGA.txt:  44\n",
        "Num proteins in ../data/b1hData/antonProcessed/F2F3/unionIntersections/filt_10e-4_025_0_c/AGC.txt:  444\n",
        "Num proteins in ../data/b1hData/antonProcessed/F2F3/unionIntersections/filt_10e-4_025_0_c/AGG.txt:  543\n",
        "Num proteins in ../data/b1hData/antonProcessed/F2F3/unionIntersections/filt_10e-4_025_0_c/AGT.txt:  1431\n",
        "Num proteins in ../data/b1hData/antonProcessed/F2F3/unionIntersections/filt_10e-4_025_0_c/ATA.txt:  28\n",
        "Num proteins in ../data/b1hData/antonProcessed/F2F3/unionIntersections/filt_10e-4_025_0_c/ATC.txt:  838\n",
        "Num proteins in ../data/b1hData/antonProcessed/F2F3/unionIntersections/filt_10e-4_025_0_c/ATG.txt:  206\n",
        "Num proteins in ../data/b1hData/antonProcessed/F2F3/unionIntersections/filt_10e-4_025_0_c/ATT.txt:  519\n",
        "Num proteins in ../data/b1hData/antonProcessed/F2F3/unionIntersections/filt_10e-4_025_0_c/CAA.txt:  48\n",
        "Num proteins in ../data/b1hData/antonProcessed/F2F3/unionIntersections/filt_10e-4_025_0_c/CAC.txt:  401\n",
        "Num proteins in ../data/b1hData/antonProcessed/F2F3/unionIntersections/filt_10e-4_025_0_c/CAG.txt:  790"
       ]
      },
      {
       "output_type": "stream",
       "stream": "stdout",
       "text": [
        "\n",
        "Num proteins in ../data/b1hData/antonProcessed/F2F3/unionIntersections/filt_10e-4_025_0_c/CAT.txt:  541\n",
        "Num proteins in ../data/b1hData/antonProcessed/F2F3/unionIntersections/filt_10e-4_025_0_c/CCA.txt:  50\n",
        "Num proteins in ../data/b1hData/antonProcessed/F2F3/unionIntersections/filt_10e-4_025_0_c/CCC.txt:  156\n",
        "Num proteins in ../data/b1hData/antonProcessed/F2F3/unionIntersections/filt_10e-4_025_0_c/CCG.txt:  302\n",
        "Num proteins in ../data/b1hData/antonProcessed/F2F3/unionIntersections/filt_10e-4_025_0_c/CCT.txt:  159\n",
        "Num proteins in ../data/b1hData/antonProcessed/F2F3/unionIntersections/filt_10e-4_025_0_c/CGA.txt:  21\n",
        "Num proteins in ../data/b1hData/antonProcessed/F2F3/unionIntersections/filt_10e-4_025_0_c/CGC.txt:  424\n",
        "Num proteins in ../data/b1hData/antonProcessed/F2F3/unionIntersections/filt_10e-4_025_0_c/CGG.txt:  958\n",
        "Num proteins in ../data/b1hData/antonProcessed/F2F3/unionIntersections/filt_10e-4_025_0_c/CGT.txt:  787"
       ]
      },
      {
       "output_type": "stream",
       "stream": "stdout",
       "text": [
        "\n",
        "Num proteins in ../data/b1hData/antonProcessed/F2F3/unionIntersections/filt_10e-4_025_0_c/CTA.txt:  36\n",
        "Num proteins in ../data/b1hData/antonProcessed/F2F3/unionIntersections/filt_10e-4_025_0_c/CTC.txt:  77\n",
        "Num proteins in ../data/b1hData/antonProcessed/F2F3/unionIntersections/filt_10e-4_025_0_c/CTG.txt:  34\n",
        "Num proteins in ../data/b1hData/antonProcessed/F2F3/unionIntersections/filt_10e-4_025_0_c/CTT.txt:  132\n",
        "Num proteins in ../data/b1hData/antonProcessed/F2F3/unionIntersections/filt_10e-4_025_0_c/GAA.txt:  299\n",
        "Num proteins in ../data/b1hData/antonProcessed/F2F3/unionIntersections/filt_10e-4_025_0_c/GAC.txt:  839\n",
        "Num proteins in ../data/b1hData/antonProcessed/F2F3/unionIntersections/filt_10e-4_025_0_c/GAG.txt:  1221\n",
        "Num proteins in ../data/b1hData/antonProcessed/F2F3/unionIntersections/filt_10e-4_025_0_c/GAT.txt:  574\n",
        "Num proteins in ../data/b1hData/antonProcessed/F2F3/unionIntersections/filt_10e-4_025_0_c/GCA.txt:  131\n",
        "Num proteins in ../data/b1hData/antonProcessed/F2F3/unionIntersections/filt_10e-4_025_0_c/GCC.txt:  279\n",
        "Num proteins in ../data/b1hData/antonProcessed/F2F3/unionIntersections/filt_10e-4_025_0_c/GCG.txt:  707\n",
        "Num proteins in ../data/b1hData/antonProcessed/F2F3/unionIntersections/filt_10e-4_025_0_c/GCT.txt:  1151"
       ]
      },
      {
       "output_type": "stream",
       "stream": "stdout",
       "text": [
        "\n",
        "Num proteins in ../data/b1hData/antonProcessed/F2F3/unionIntersections/filt_10e-4_025_0_c/GGA.txt:  177\n",
        "Num proteins in ../data/b1hData/antonProcessed/F2F3/unionIntersections/filt_10e-4_025_0_c/GGC.txt:  157\n",
        "Num proteins in ../data/b1hData/antonProcessed/F2F3/unionIntersections/filt_10e-4_025_0_c/GGG.txt:  1149\n",
        "Num proteins in ../data/b1hData/antonProcessed/F2F3/unionIntersections/filt_10e-4_025_0_c/GGT.txt:  899\n",
        "Num proteins in ../data/b1hData/antonProcessed/F2F3/unionIntersections/filt_10e-4_025_0_c/GTA.txt:  314\n",
        "Num proteins in ../data/b1hData/antonProcessed/F2F3/unionIntersections/filt_10e-4_025_0_c/GTC.txt:  581\n",
        "Num proteins in ../data/b1hData/antonProcessed/F2F3/unionIntersections/filt_10e-4_025_0_c/GTG.txt:  1209\n",
        "Num proteins in ../data/b1hData/antonProcessed/F2F3/unionIntersections/filt_10e-4_025_0_c/GTT.txt:  1040"
       ]
      },
      {
       "output_type": "stream",
       "stream": "stdout",
       "text": [
        "\n",
        "Num proteins in ../data/b1hData/antonProcessed/F2F3/unionIntersections/filt_10e-4_025_0_c/TAA.txt:  33\n",
        "Num proteins in ../data/b1hData/antonProcessed/F2F3/unionIntersections/filt_10e-4_025_0_c/TAC.txt:  122\n",
        "Num proteins in ../data/b1hData/antonProcessed/F2F3/unionIntersections/filt_10e-4_025_0_c/TAG.txt:  192\n",
        "Num proteins in ../data/b1hData/antonProcessed/F2F3/unionIntersections/filt_10e-4_025_0_c/TAT.txt:  497\n",
        "Num proteins in ../data/b1hData/antonProcessed/F2F3/unionIntersections/filt_10e-4_025_0_c/TCA.txt:  2\n",
        "Num proteins in ../data/b1hData/antonProcessed/F2F3/unionIntersections/filt_10e-4_025_0_c/TCC.txt:  355\n",
        "Num proteins in ../data/b1hData/antonProcessed/F2F3/unionIntersections/filt_10e-4_025_0_c/TCG.txt:  84\n",
        "Num proteins in ../data/b1hData/antonProcessed/F2F3/unionIntersections/filt_10e-4_025_0_c/TCT.txt:  175\n",
        "Num proteins in ../data/b1hData/antonProcessed/F2F3/unionIntersections/filt_10e-4_025_0_c/TGA.txt:  479\n",
        "Num proteins in ../data/b1hData/antonProcessed/F2F3/unionIntersections/filt_10e-4_025_0_c/TGC.txt:  221\n",
        "Num proteins in ../data/b1hData/antonProcessed/F2F3/unionIntersections/filt_10e-4_025_0_c/TGG.txt:  942\n",
        "Num proteins in ../data/b1hData/antonProcessed/F2F3/unionIntersections/filt_10e-4_025_0_c/TGT.txt:  2016"
       ]
      },
      {
       "output_type": "stream",
       "stream": "stdout",
       "text": [
        "\n",
        "Num proteins in ../data/b1hData/antonProcessed/F2F3/unionIntersections/filt_10e-4_025_0_c/TTA.txt:  5\n",
        "Num proteins in ../data/b1hData/antonProcessed/F2F3/unionIntersections/filt_10e-4_025_0_c/TTC.txt:  42\n",
        "Num proteins in ../data/b1hData/antonProcessed/F2F3/unionIntersections/filt_10e-4_025_0_c/TTG.txt:  196\n",
        "Num proteins in ../data/b1hData/antonProcessed/F2F3/unionIntersections/filt_10e-4_025_0_c/TTT.txt:  102\n",
        "Total num protein/dna observations in all files:  30235\n",
        "Total num unique proteins in all files:  23661\n",
        "\n",
        "Num obs processed in csv to txt conversion:  30235"
       ]
      },
      {
       "output_type": "stream",
       "stream": "stdout",
       "text": [
        "\n",
        "\n",
        "Here"
       ]
      },
      {
       "output_type": "stream",
       "stream": "stdout",
       "text": [
        "\n",
        "Num proteins in ../data/b1hData/antonProcessed/F2F3/intersectUnions/filt_10e-4_025_0_c/AAA.txt:  8"
       ]
      },
      {
       "output_type": "stream",
       "stream": "stdout",
       "text": [
        "\n",
        "Num proteins in ../data/b1hData/antonProcessed/F2F3/intersectUnions/filt_10e-4_025_0_c/AAC.txt:  156\n",
        "Num proteins in ../data/b1hData/antonProcessed/F2F3/intersectUnions/filt_10e-4_025_0_c/AAG.txt:  242\n",
        "Num proteins in ../data/b1hData/antonProcessed/F2F3/intersectUnions/filt_10e-4_025_0_c/AAT.txt:  115\n",
        "Num proteins in ../data/b1hData/antonProcessed/F2F3/intersectUnions/filt_10e-4_025_0_c/ACA.txt:  56\n"
       ]
      },
      {
       "output_type": "stream",
       "stream": "stdout",
       "text": [
        "Num proteins in ../data/b1hData/antonProcessed/F2F3/intersectUnions/filt_10e-4_025_0_c/ACC.txt:  5\n",
        "Num proteins in ../data/b1hData/antonProcessed/F2F3/intersectUnions/filt_10e-4_025_0_c/ACG.txt:  44\n",
        "Num proteins in ../data/b1hData/antonProcessed/F2F3/intersectUnions/filt_10e-4_025_0_c/ACT.txt:  61\n",
        "Num proteins in ../data/b1hData/antonProcessed/F2F3/intersectUnions/filt_10e-4_025_0_c/AGA.txt:  1\n",
        "Num proteins in ../data/b1hData/antonProcessed/F2F3/intersectUnions/filt_10e-4_025_0_c/AGC.txt:  14\n",
        "Num proteins in ../data/b1hData/antonProcessed/F2F3/intersectUnions/filt_10e-4_025_0_c/AGG.txt:  205\n",
        "Num proteins in ../data/b1hData/antonProcessed/F2F3/intersectUnions/filt_10e-4_025_0_c/AGT.txt:  94\n",
        "Num proteins in ../data/b1hData/antonProcessed/F2F3/intersectUnions/filt_10e-4_025_0_c/ATA.txt:  24\n",
        "Num proteins in ../data/b1hData/antonProcessed/F2F3/intersectUnions/filt_10e-4_025_0_c/ATC.txt:  334\n",
        "Num proteins in ../data/b1hData/antonProcessed/F2F3/intersectUnions/filt_10e-4_025_0_c/ATG.txt:  26\n",
        "Num proteins in ../data/b1hData/antonProcessed/F2F3/intersectUnions/filt_10e-4_025_0_c/ATT.txt:  215\n",
        "Num proteins in ../data/b1hData/antonProcessed/F2F3/intersectUnions/filt_10e-4_025_0_c/CAA.txt:  26\n",
        "Num proteins in ../data/b1hData/antonProcessed/F2F3/intersectUnions/filt_10e-4_025_0_c/CAC.txt:  111\n",
        "Num proteins in ../data/b1hData/antonProcessed/F2F3/intersectUnions/filt_10e-4_025_0_c/CAG.txt:  75\n",
        "Num proteins in ../data/b1hData/antonProcessed/F2F3/intersectUnions/filt_10e-4_025_0_c/CAT.txt:  423"
       ]
      },
      {
       "output_type": "stream",
       "stream": "stdout",
       "text": [
        "\n",
        "Num proteins in ../data/b1hData/antonProcessed/F2F3/intersectUnions/filt_10e-4_025_0_c/CCA.txt:  5\n",
        "Num proteins in ../data/b1hData/antonProcessed/F2F3/intersectUnions/filt_10e-4_025_0_c/CCC.txt:  20\n",
        "Num proteins in ../data/b1hData/antonProcessed/F2F3/intersectUnions/filt_10e-4_025_0_c/CCG.txt:  100\n",
        "Num proteins in ../data/b1hData/antonProcessed/F2F3/intersectUnions/filt_10e-4_025_0_c/CCT.txt:  119\n",
        "Num proteins in ../data/b1hData/antonProcessed/F2F3/intersectUnions/filt_10e-4_025_0_c/CGA.txt:  7\n",
        "Num proteins in ../data/b1hData/antonProcessed/F2F3/intersectUnions/filt_10e-4_025_0_c/CGC.txt:  8\n",
        "Num proteins in ../data/b1hData/antonProcessed/F2F3/intersectUnions/filt_10e-4_025_0_c/CGG.txt:  240\n",
        "Num proteins in ../data/b1hData/antonProcessed/F2F3/intersectUnions/filt_10e-4_025_0_c/CGT.txt:  59\n",
        "Num proteins in ../data/b1hData/antonProcessed/F2F3/intersectUnions/filt_10e-4_025_0_c/CTA.txt:  2\n",
        "Num proteins in ../data/b1hData/antonProcessed/F2F3/intersectUnions/filt_10e-4_025_0_c/CTC.txt:  56\n",
        "Num proteins in ../data/b1hData/antonProcessed/F2F3/intersectUnions/filt_10e-4_025_0_c/CTG.txt:  20\n",
        "Num proteins in ../data/b1hData/antonProcessed/F2F3/intersectUnions/filt_10e-4_025_0_c/CTT.txt:  16\n",
        "Num proteins in ../data/b1hData/antonProcessed/F2F3/intersectUnions/filt_10e-4_025_0_c/GAA.txt:  237\n",
        "Num proteins in ../data/b1hData/antonProcessed/F2F3/intersectUnions/filt_10e-4_025_0_c/GAC.txt:  531\n",
        "Num proteins in ../data/b1hData/antonProcessed/F2F3/intersectUnions/filt_10e-4_025_0_c/GAG.txt:  271\n",
        "Num proteins in ../data/b1hData/antonProcessed/F2F3/intersectUnions/filt_10e-4_025_0_c/GAT.txt:  531"
       ]
      },
      {
       "output_type": "stream",
       "stream": "stdout",
       "text": [
        "\n",
        "Num proteins in ../data/b1hData/antonProcessed/F2F3/intersectUnions/filt_10e-4_025_0_c/GCA.txt:  138\n",
        "Num proteins in ../data/b1hData/antonProcessed/F2F3/intersectUnions/filt_10e-4_025_0_c/GCC.txt:  44\n",
        "Num proteins in ../data/b1hData/antonProcessed/F2F3/intersectUnions/filt_10e-4_025_0_c/GCG.txt:  127\n",
        "Num proteins in ../data/b1hData/antonProcessed/F2F3/intersectUnions/filt_10e-4_025_0_c/GCT.txt:  307\n",
        "Num proteins in ../data/b1hData/antonProcessed/F2F3/intersectUnions/filt_10e-4_025_0_c/GGA.txt:  19\n",
        "Num proteins in ../data/b1hData/antonProcessed/F2F3/intersectUnions/filt_10e-4_025_0_c/GGC.txt:  6\n",
        "Num proteins in ../data/b1hData/antonProcessed/F2F3/intersectUnions/filt_10e-4_025_0_c/GGG.txt:  195\n",
        "Num proteins in ../data/b1hData/antonProcessed/F2F3/intersectUnions/filt_10e-4_025_0_c/GGT.txt:  175\n",
        "Num proteins in ../data/b1hData/antonProcessed/F2F3/intersectUnions/filt_10e-4_025_0_c/GTA.txt:  3\n",
        "Num proteins in ../data/b1hData/antonProcessed/F2F3/intersectUnions/filt_10e-4_025_0_c/GTC.txt:  185\n",
        "Num proteins in ../data/b1hData/antonProcessed/F2F3/intersectUnions/filt_10e-4_025_0_c/GTG.txt:  208\n",
        "Num proteins in ../data/b1hData/antonProcessed/F2F3/intersectUnions/filt_10e-4_025_0_c/GTT.txt:  495\n",
        "Num proteins in ../data/b1hData/antonProcessed/F2F3/intersectUnions/filt_10e-4_025_0_c/TAA.txt:  0\n",
        "Num proteins in ../data/b1hData/antonProcessed/F2F3/intersectUnions/filt_10e-4_025_0_c/TAC.txt:  101\n",
        "Num proteins in ../data/b1hData/antonProcessed/F2F3/intersectUnions/filt_10e-4_025_0_c/TAG.txt:  68\n",
        "Num proteins in ../data/b1hData/antonProcessed/F2F3/intersectUnions/filt_10e-4_025_0_c/TAT.txt:  409\n",
        "Num proteins in ../data/b1hData/antonProcessed/F2F3/intersectUnions/filt_10e-4_025_0_c/TCA.txt:  0\n",
        "Num proteins in ../data/b1hData/antonProcessed/F2F3/intersectUnions/filt_10e-4_025_0_c/TCC.txt:  7\n",
        "Num proteins in ../data/b1hData/antonProcessed/F2F3/intersectUnions/filt_10e-4_025_0_c/TCG.txt:  143\n",
        "Num proteins in ../data/b1hData/antonProcessed/F2F3/intersectUnions/filt_10e-4_025_0_c/TCT.txt:  117\n",
        "Num proteins in ../data/b1hData/antonProcessed/F2F3/intersectUnions/filt_10e-4_025_0_c/TGA.txt:  65\n",
        "Num proteins in ../data/b1hData/antonProcessed/F2F3/intersectUnions/filt_10e-4_025_0_c/TGC.txt:  66\n",
        "Num proteins in ../data/b1hData/antonProcessed/F2F3/intersectUnions/filt_10e-4_025_0_c/TGG.txt:  190\n",
        "Num proteins in ../data/b1hData/antonProcessed/F2F3/intersectUnions/filt_10e-4_025_0_c/TGT.txt:  1418"
       ]
      },
      {
       "output_type": "stream",
       "stream": "stdout",
       "text": [
        "\n",
        "Num proteins in ../data/b1hData/antonProcessed/F2F3/intersectUnions/filt_10e-4_025_0_c/TTA.txt:  5\n",
        "Num proteins in ../data/b1hData/antonProcessed/F2F3/intersectUnions/filt_10e-4_025_0_c/TTC.txt:  37\n",
        "Num proteins in ../data/b1hData/antonProcessed/F2F3/intersectUnions/filt_10e-4_025_0_c/TTG.txt:  162\n",
        "Num proteins in ../data/b1hData/antonProcessed/F2F3/intersectUnions/filt_10e-4_025_0_c/TTT.txt:  43\n",
        "Total num protein/dna observations in all files:  9190\n",
        "Total num unique proteins in all files:  8029\n",
        "\n",
        "Num obs processed in csv to txt conversion:  9190"
       ]
      },
      {
       "output_type": "stream",
       "stream": "stdout",
       "text": [
        "\n",
        "\n",
        "Here\n",
        "Num proteins in ../data/b1hData/antonProcessed/F2F3/intersectIntersections/filt_10e-4_025_0_c/AAA.txt:  0\n",
        "Num proteins in ../data/b1hData/antonProcessed/F2F3/intersectIntersections/filt_10e-4_025_0_c/AAC.txt:  21"
       ]
      },
      {
       "output_type": "stream",
       "stream": "stdout",
       "text": [
        "\n",
        "Num proteins in ../data/b1hData/antonProcessed/F2F3/intersectIntersections/filt_10e-4_025_0_c/AAG.txt:  1\n",
        "Num proteins in ../data/b1hData/antonProcessed/F2F3/intersectIntersections/filt_10e-4_025_0_c/AAT.txt:  7\n",
        "Num proteins in ../data/b1hData/antonProcessed/F2F3/intersectIntersections/filt_10e-4_025_0_c/ACA.txt:  0\n",
        "Num proteins in ../data/b1hData/antonProcessed/F2F3/intersectIntersections/filt_10e-4_025_0_c/ACC.txt:  1\n",
        "Num proteins in ../data/b1hData/antonProcessed/F2F3/intersectIntersections/filt_10e-4_025_0_c/ACG.txt:  0\n",
        "Num proteins in ../data/b1hData/antonProcessed/F2F3/intersectIntersections/filt_10e-4_025_0_c/ACT.txt:  6\n",
        "Num proteins in ../data/b1hData/antonProcessed/F2F3/intersectIntersections/filt_10e-4_025_0_c/AGA.txt:  0\n",
        "Num proteins in ../data/b1hData/antonProcessed/F2F3/intersectIntersections/filt_10e-4_025_0_c/AGC.txt:  0\n",
        "Num proteins in ../data/b1hData/antonProcessed/F2F3/intersectIntersections/filt_10e-4_025_0_c/AGG.txt:  0\n",
        "Num proteins in ../data/b1hData/antonProcessed/F2F3/intersectIntersections/filt_10e-4_025_0_c/AGT.txt:  6\n",
        "Num proteins in ../data/b1hData/antonProcessed/F2F3/intersectIntersections/filt_10e-4_025_0_c/ATA.txt:  0\n",
        "Num proteins in ../data/b1hData/antonProcessed/F2F3/intersectIntersections/filt_10e-4_025_0_c/ATC.txt:  103\n",
        "Num proteins in ../data/b1hData/antonProcessed/F2F3/intersectIntersections/filt_10e-4_025_0_c/ATG.txt:  0\n",
        "Num proteins in ../data/b1hData/antonProcessed/F2F3/intersectIntersections/filt_10e-4_025_0_c/ATT.txt:  41\n",
        "Num proteins in ../data/b1hData/antonProcessed/F2F3/intersectIntersections/filt_10e-4_025_0_c/CAA.txt:  0\n",
        "Num proteins in ../data/b1hData/antonProcessed/F2F3/intersectIntersections/filt_10e-4_025_0_c/CAC.txt:  8\n",
        "Num proteins in ../data/b1hData/antonProcessed/F2F3/intersectIntersections/filt_10e-4_025_0_c/CAG.txt:  0\n",
        "Num proteins in ../data/b1hData/antonProcessed/F2F3/intersectIntersections/filt_10e-4_025_0_c/CAT.txt:  101\n",
        "Num proteins in ../data/b1hData/antonProcessed/F2F3/intersectIntersections/filt_10e-4_025_0_c/CCA.txt:  0\n",
        "Num proteins in ../data/b1hData/antonProcessed/F2F3/intersectIntersections/filt_10e-4_025_0_c/CCC.txt:  0\n",
        "Num proteins in ../data/b1hData/antonProcessed/F2F3/intersectIntersections/filt_10e-4_025_0_c/CCG.txt:  2\n",
        "Num proteins in ../data/b1hData/antonProcessed/F2F3/intersectIntersections/filt_10e-4_025_0_c/CCT.txt:  4\n",
        "Num proteins in ../data/b1hData/antonProcessed/F2F3/intersectIntersections/filt_10e-4_025_0_c/CGA.txt:  0\n",
        "Num proteins in ../data/b1hData/antonProcessed/F2F3/intersectIntersections/filt_10e-4_025_0_c/CGC.txt:  1\n",
        "Num proteins in ../data/b1hData/antonProcessed/F2F3/intersectIntersections/filt_10e-4_025_0_c/CGG.txt:  5\n",
        "Num proteins in ../data/b1hData/antonProcessed/F2F3/intersectIntersections/filt_10e-4_025_0_c/CGT.txt:  0\n",
        "Num proteins in ../data/b1hData/antonProcessed/F2F3/intersectIntersections/filt_10e-4_025_0_c/CTA.txt:  0\n",
        "Num proteins in ../data/b1hData/antonProcessed/F2F3/intersectIntersections/filt_10e-4_025_0_c/CTC.txt:  6\n",
        "Num proteins in ../data/b1hData/antonProcessed/F2F3/intersectIntersections/filt_10e-4_025_0_c/CTG.txt:  0\n",
        "Num proteins in ../data/b1hData/antonProcessed/F2F3/intersectIntersections/filt_10e-4_025_0_c/CTT.txt:  0\n",
        "Num proteins in ../data/b1hData/antonProcessed/F2F3/intersectIntersections/filt_10e-4_025_0_c/GAA.txt:  5\n",
        "Num proteins in ../data/b1hData/antonProcessed/F2F3/intersectIntersections/filt_10e-4_025_0_c/GAC.txt:  72\n",
        "Num proteins in ../data/b1hData/antonProcessed/F2F3/intersectIntersections/filt_10e-4_025_0_c/GAG.txt:  17\n",
        "Num proteins in ../data/b1hData/antonProcessed/F2F3/intersectIntersections/filt_10e-4_025_0_c/GAT.txt:  25\n",
        "Num proteins in ../data/b1hData/antonProcessed/F2F3/intersectIntersections/filt_10e-4_025_0_c/GCA.txt:  3\n",
        "Num proteins in ../data/b1hData/antonProcessed/F2F3/intersectIntersections/filt_10e-4_025_0_c/GCC.txt:  1\n",
        "Num proteins in ../data/b1hData/antonProcessed/F2F3/intersectIntersections/filt_10e-4_025_0_c/GCG.txt:  8\n",
        "Num proteins in ../data/b1hData/antonProcessed/F2F3/intersectIntersections/filt_10e-4_025_0_c/GCT.txt:  85\n",
        "Num proteins in ../data/b1hData/antonProcessed/F2F3/intersectIntersections/filt_10e-4_025_0_c/GGA.txt:  0\n",
        "Num proteins in ../data/b1hData/antonProcessed/F2F3/intersectIntersections/filt_10e-4_025_0_c/GGC.txt:  0\n",
        "Num proteins in ../data/b1hData/antonProcessed/F2F3/intersectIntersections/filt_10e-4_025_0_c/GGG.txt:  1\n",
        "Num proteins in ../data/b1hData/antonProcessed/F2F3/intersectIntersections/filt_10e-4_025_0_c/GGT.txt:  26\n",
        "Num proteins in ../data/b1hData/antonProcessed/F2F3/intersectIntersections/filt_10e-4_025_0_c/GTA.txt:  0\n",
        "Num proteins in ../data/b1hData/antonProcessed/F2F3/intersectIntersections/filt_10e-4_025_0_c/GTC.txt:  50\n",
        "Num proteins in ../data/b1hData/antonProcessed/F2F3/intersectIntersections/filt_10e-4_025_0_c/GTG.txt:  12\n",
        "Num proteins in ../data/b1hData/antonProcessed/F2F3/intersectIntersections/filt_10e-4_025_0_c/GTT.txt:  90\n",
        "Num proteins in ../data/b1hData/antonProcessed/F2F3/intersectIntersections/filt_10e-4_025_0_c/TAA.txt:  0\n",
        "Num proteins in ../data/b1hData/antonProcessed/F2F3/intersectIntersections/filt_10e-4_025_0_c/TAC.txt:  16"
       ]
      },
      {
       "output_type": "stream",
       "stream": "stdout",
       "text": [
        "\n",
        "Num proteins in ../data/b1hData/antonProcessed/F2F3/intersectIntersections/filt_10e-4_025_0_c/TAG.txt:  0\n",
        "Num proteins in ../data/b1hData/antonProcessed/F2F3/intersectIntersections/filt_10e-4_025_0_c/TAT.txt:  27\n",
        "Num proteins in ../data/b1hData/antonProcessed/F2F3/intersectIntersections/filt_10e-4_025_0_c/TCA.txt:  0\n",
        "Num proteins in ../data/b1hData/antonProcessed/F2F3/intersectIntersections/filt_10e-4_025_0_c/TCC.txt:  0\n",
        "Num proteins in ../data/b1hData/antonProcessed/F2F3/intersectIntersections/filt_10e-4_025_0_c/TCG.txt:  0\n",
        "Num proteins in ../data/b1hData/antonProcessed/F2F3/intersectIntersections/filt_10e-4_025_0_c/TCT.txt:  2\n",
        "Num proteins in ../data/b1hData/antonProcessed/F2F3/intersectIntersections/filt_10e-4_025_0_c/TGA.txt:  5\n",
        "Num proteins in ../data/b1hData/antonProcessed/F2F3/intersectIntersections/filt_10e-4_025_0_c/TGC.txt:  2\n",
        "Num proteins in ../data/b1hData/antonProcessed/F2F3/intersectIntersections/filt_10e-4_025_0_c/TGG.txt:  4\n",
        "Num proteins in ../data/b1hData/antonProcessed/F2F3/intersectIntersections/filt_10e-4_025_0_c/TGT.txt:  405\n",
        "Num proteins in ../data/b1hData/antonProcessed/F2F3/intersectIntersections/filt_10e-4_025_0_c/TTA.txt:  0\n",
        "Num proteins in ../data/b1hData/antonProcessed/F2F3/intersectIntersections/filt_10e-4_025_0_c/TTC.txt:  0\n",
        "Num proteins in ../data/b1hData/antonProcessed/F2F3/intersectIntersections/filt_10e-4_025_0_c/TTG.txt:  1\n",
        "Num proteins in ../data/b1hData/antonProcessed/F2F3/intersectIntersections/filt_10e-4_025_0_c/TTT.txt:  0\n",
        "Total num protein/dna observations in all files:  1170\n",
        "Total num unique proteins in all files:  1102\n",
        "\n",
        "Num obs processed in csv to txt conversion:  1170\n",
        "\n",
        "Here"
       ]
      },
      {
       "output_type": "stream",
       "stream": "stdout",
       "text": [
        "\n",
        "Num proteins in ../data/b1hData/antonProcessed/F2F3/unionUnions/filt_10e-4_025_0_c/AAA.txt:  808\n",
        "Num proteins in ../data/b1hData/antonProcessed/F2F3/unionUnions/filt_10e-4_025_0_c/AAC.txt:  4126"
       ]
      },
      {
       "output_type": "stream",
       "stream": "stdout",
       "text": [
        "\n",
        "Num proteins in ../data/b1hData/antonProcessed/F2F3/unionUnions/filt_10e-4_025_0_c/AAG.txt:  4455\n",
        "Num proteins in ../data/b1hData/antonProcessed/F2F3/unionUnions/filt_10e-4_025_0_c/AAT.txt:  3206"
       ]
      },
      {
       "output_type": "stream",
       "stream": "stdout",
       "text": [
        "\n",
        "Num proteins in ../data/b1hData/antonProcessed/F2F3/unionUnions/filt_10e-4_025_0_c/ACA.txt:  2111\n",
        "Num proteins in ../data/b1hData/antonProcessed/F2F3/unionUnions/filt_10e-4_025_0_c/ACC.txt:  1826\n",
        "Num proteins in ../data/b1hData/antonProcessed/F2F3/unionUnions/filt_10e-4_025_0_c/ACG.txt:  4496"
       ]
      },
      {
       "output_type": "stream",
       "stream": "stdout",
       "text": [
        "\n",
        "Num proteins in ../data/b1hData/antonProcessed/F2F3/unionUnions/filt_10e-4_025_0_c/ACT.txt:  4457"
       ]
      },
      {
       "output_type": "stream",
       "stream": "stdout",
       "text": [
        "\n",
        "Num proteins in ../data/b1hData/antonProcessed/F2F3/unionUnions/filt_10e-4_025_0_c/AGA.txt:  671\n",
        "Num proteins in ../data/b1hData/antonProcessed/F2F3/unionUnions/filt_10e-4_025_0_c/AGC.txt:  3518\n",
        "Num proteins in ../data/b1hData/antonProcessed/F2F3/unionUnions/filt_10e-4_025_0_c/AGG.txt:  4550"
       ]
      },
      {
       "output_type": "stream",
       "stream": "stdout",
       "text": [
        "\n",
        "Num proteins in ../data/b1hData/antonProcessed/F2F3/unionUnions/filt_10e-4_025_0_c/AGT.txt:  4886\n",
        "Num proteins in ../data/b1hData/antonProcessed/F2F3/unionUnions/filt_10e-4_025_0_c/ATA.txt:  416\n",
        "Num proteins in ../data/b1hData/antonProcessed/F2F3/unionUnions/filt_10e-4_025_0_c/ATC.txt:  2888"
       ]
      },
      {
       "output_type": "stream",
       "stream": "stdout",
       "text": [
        "\n",
        "Num proteins in ../data/b1hData/antonProcessed/F2F3/unionUnions/filt_10e-4_025_0_c/ATG.txt:  2503\n",
        "Num proteins in ../data/b1hData/antonProcessed/F2F3/unionUnions/filt_10e-4_025_0_c/ATT.txt:  3010"
       ]
      },
      {
       "output_type": "stream",
       "stream": "stdout",
       "text": [
        "\n",
        "Num proteins in ../data/b1hData/antonProcessed/F2F3/unionUnions/filt_10e-4_025_0_c/CAA.txt:  539\n",
        "Num proteins in ../data/b1hData/antonProcessed/F2F3/unionUnions/filt_10e-4_025_0_c/CAC.txt:  3286\n",
        "Num proteins in ../data/b1hData/antonProcessed/F2F3/unionUnions/filt_10e-4_025_0_c/CAG.txt:  4027"
       ]
      },
      {
       "output_type": "stream",
       "stream": "stdout",
       "text": [
        "\n",
        "Num proteins in ../data/b1hData/antonProcessed/F2F3/unionUnions/filt_10e-4_025_0_c/CAT.txt:  2549\n",
        "Num proteins in ../data/b1hData/antonProcessed/F2F3/unionUnions/filt_10e-4_025_0_c/CCA.txt:  688\n",
        "Num proteins in ../data/b1hData/antonProcessed/F2F3/unionUnions/filt_10e-4_025_0_c/CCC.txt:  1174\n",
        "Num proteins in ../data/b1hData/antonProcessed/F2F3/unionUnions/filt_10e-4_025_0_c/CCG.txt:  2950"
       ]
      },
      {
       "output_type": "stream",
       "stream": "stdout",
       "text": [
        "\n",
        "Num proteins in ../data/b1hData/antonProcessed/F2F3/unionUnions/filt_10e-4_025_0_c/CCT.txt:  1703"
       ]
      },
      {
       "output_type": "stream",
       "stream": "stdout",
       "text": [
        "\n",
        "Num proteins in ../data/b1hData/antonProcessed/F2F3/unionUnions/filt_10e-4_025_0_c/CGA.txt:  476\n",
        "Num proteins in ../data/b1hData/antonProcessed/F2F3/unionUnions/filt_10e-4_025_0_c/CGC.txt:  2974\n",
        "Num proteins in ../data/b1hData/antonProcessed/F2F3/unionUnions/filt_10e-4_025_0_c/CGG.txt:  3297"
       ]
      },
      {
       "output_type": "stream",
       "stream": "stdout",
       "text": [
        "\n",
        "Num proteins in ../data/b1hData/antonProcessed/F2F3/unionUnions/filt_10e-4_025_0_c/CGT.txt:  4136"
       ]
      },
      {
       "output_type": "stream",
       "stream": "stdout",
       "text": [
        "\n",
        "Num proteins in ../data/b1hData/antonProcessed/F2F3/unionUnions/filt_10e-4_025_0_c/CTA.txt:  550\n",
        "Num proteins in ../data/b1hData/antonProcessed/F2F3/unionUnions/filt_10e-4_025_0_c/CTC.txt:  948\n",
        "Num proteins in ../data/b1hData/antonProcessed/F2F3/unionUnions/filt_10e-4_025_0_c/CTG.txt:  1371\n",
        "Num proteins in ../data/b1hData/antonProcessed/F2F3/unionUnions/filt_10e-4_025_0_c/CTT.txt:  918\n",
        "Num proteins in ../data/b1hData/antonProcessed/F2F3/unionUnions/filt_10e-4_025_0_c/GAA.txt:  1686"
       ]
      },
      {
       "output_type": "stream",
       "stream": "stdout",
       "text": [
        "\n",
        "Num proteins in ../data/b1hData/antonProcessed/F2F3/unionUnions/filt_10e-4_025_0_c/GAC.txt:  3082\n",
        "Num proteins in ../data/b1hData/antonProcessed/F2F3/unionUnions/filt_10e-4_025_0_c/GAG.txt:  4595"
       ]
      },
      {
       "output_type": "stream",
       "stream": "stdout",
       "text": [
        "\n",
        "Num proteins in ../data/b1hData/antonProcessed/F2F3/unionUnions/filt_10e-4_025_0_c/GAT.txt:  3889\n",
        "Num proteins in ../data/b1hData/antonProcessed/F2F3/unionUnions/filt_10e-4_025_0_c/GCA.txt:  1352"
       ]
      },
      {
       "output_type": "stream",
       "stream": "stdout",
       "text": [
        "\n",
        "Num proteins in ../data/b1hData/antonProcessed/F2F3/unionUnions/filt_10e-4_025_0_c/GCC.txt:  1812\n",
        "Num proteins in ../data/b1hData/antonProcessed/F2F3/unionUnions/filt_10e-4_025_0_c/GCG.txt:  3970"
       ]
      },
      {
       "output_type": "stream",
       "stream": "stdout",
       "text": [
        "\n",
        "Num proteins in ../data/b1hData/antonProcessed/F2F3/unionUnions/filt_10e-4_025_0_c/GCT.txt:  3326\n",
        "Num proteins in ../data/b1hData/antonProcessed/F2F3/unionUnions/filt_10e-4_025_0_c/GGA.txt:  1339\n",
        "Num proteins in ../data/b1hData/antonProcessed/F2F3/unionUnions/filt_10e-4_025_0_c/GGC.txt:  2042"
       ]
      },
      {
       "output_type": "stream",
       "stream": "stdout",
       "text": [
        "\n",
        "Num proteins in ../data/b1hData/antonProcessed/F2F3/unionUnions/filt_10e-4_025_0_c/GGG.txt:  5032\n",
        "Num proteins in ../data/b1hData/antonProcessed/F2F3/unionUnions/filt_10e-4_025_0_c/GGT.txt:  4066"
       ]
      },
      {
       "output_type": "stream",
       "stream": "stdout",
       "text": [
        "\n",
        "Num proteins in ../data/b1hData/antonProcessed/F2F3/unionUnions/filt_10e-4_025_0_c/GTA.txt:  1893\n",
        "Num proteins in ../data/b1hData/antonProcessed/F2F3/unionUnions/filt_10e-4_025_0_c/GTC.txt:  3254"
       ]
      },
      {
       "output_type": "stream",
       "stream": "stdout",
       "text": [
        "\n",
        "Num proteins in ../data/b1hData/antonProcessed/F2F3/unionUnions/filt_10e-4_025_0_c/GTG.txt:  5237"
       ]
      },
      {
       "output_type": "stream",
       "stream": "stdout",
       "text": [
        "\n",
        "Num proteins in ../data/b1hData/antonProcessed/F2F3/unionUnions/filt_10e-4_025_0_c/GTT.txt:  4066\n",
        "Num proteins in ../data/b1hData/antonProcessed/F2F3/unionUnions/filt_10e-4_025_0_c/TAA.txt:  512"
       ]
      },
      {
       "output_type": "stream",
       "stream": "stdout",
       "text": [
        "\n",
        "Num proteins in ../data/b1hData/antonProcessed/F2F3/unionUnions/filt_10e-4_025_0_c/TAC.txt:  2273\n",
        "Num proteins in ../data/b1hData/antonProcessed/F2F3/unionUnions/filt_10e-4_025_0_c/TAG.txt:  1898\n",
        "Num proteins in ../data/b1hData/antonProcessed/F2F3/unionUnions/filt_10e-4_025_0_c/TAT.txt:  3408"
       ]
      },
      {
       "output_type": "stream",
       "stream": "stdout",
       "text": [
        "\n",
        "Num proteins in ../data/b1hData/antonProcessed/F2F3/unionUnions/filt_10e-4_025_0_c/TCA.txt:  325\n",
        "Num proteins in ../data/b1hData/antonProcessed/F2F3/unionUnions/filt_10e-4_025_0_c/TCC.txt:  1525"
       ]
      },
      {
       "output_type": "stream",
       "stream": "stdout",
       "text": [
        "\n",
        "Num proteins in ../data/b1hData/antonProcessed/F2F3/unionUnions/filt_10e-4_025_0_c/TCG.txt:  1918"
       ]
      },
      {
       "output_type": "stream",
       "stream": "stdout",
       "text": [
        "\n",
        "Num proteins in ../data/b1hData/antonProcessed/F2F3/unionUnions/filt_10e-4_025_0_c/TCT.txt:  1922\n",
        "Num proteins in ../data/b1hData/antonProcessed/F2F3/unionUnions/filt_10e-4_025_0_c/TGA.txt:  2080\n",
        "Num proteins in ../data/b1hData/antonProcessed/F2F3/unionUnions/filt_10e-4_025_0_c/TGC.txt:  2639"
       ]
      },
      {
       "output_type": "stream",
       "stream": "stdout",
       "text": [
        "\n",
        "Num proteins in ../data/b1hData/antonProcessed/F2F3/unionUnions/filt_10e-4_025_0_c/TGG.txt:  3583\n",
        "Num proteins in ../data/b1hData/antonProcessed/F2F3/unionUnions/filt_10e-4_025_0_c/TGT.txt:  5073"
       ]
      },
      {
       "output_type": "stream",
       "stream": "stdout",
       "text": [
        "\n",
        "Num proteins in ../data/b1hData/antonProcessed/F2F3/unionUnions/filt_10e-4_025_0_c/TTA.txt:  955\n",
        "Num proteins in ../data/b1hData/antonProcessed/F2F3/unionUnions/filt_10e-4_025_0_c/TTC.txt:  917\n",
        "Num proteins in ../data/b1hData/antonProcessed/F2F3/unionUnions/filt_10e-4_025_0_c/TTG.txt:  2203"
       ]
      },
      {
       "output_type": "stream",
       "stream": "stdout",
       "text": [
        "\n",
        "Num proteins in ../data/b1hData/antonProcessed/F2F3/unionUnions/filt_10e-4_025_0_c/TTT.txt:  2282\n",
        "Total num protein/dna observations in all files:  163667\n",
        "Total num unique proteins in all files:  103293\n",
        "\n",
        "Num obs processed in csv to txt conversion:  163667"
       ]
      },
      {
       "output_type": "stream",
       "stream": "stdout",
       "text": [
        "\n",
        "\n",
        "Here"
       ]
      },
      {
       "output_type": "stream",
       "stream": "stdout",
       "text": [
        "\n",
        "Num proteins in ../data/b1hData/antonProcessed/F2F3/intersectUnions_all/filt_10e-4_025_0_c/AAA.txt:  57"
       ]
      },
      {
       "output_type": "stream",
       "stream": "stdout",
       "text": [
        "\n",
        "Num proteins in ../data/b1hData/antonProcessed/F2F3/intersectUnions_all/filt_10e-4_025_0_c/AAC.txt:  648\n",
        "Num proteins in ../data/b1hData/antonProcessed/F2F3/intersectUnions_all/filt_10e-4_025_0_c/AAG.txt:  511\n",
        "Num proteins in ../data/b1hData/antonProcessed/F2F3/intersectUnions_all/filt_10e-4_025_0_c/AAT.txt:  606\n",
        "Num proteins in ../data/b1hData/antonProcessed/F2F3/intersectUnions_all/filt_10e-4_025_0_c/ACA.txt:  120\n",
        "Num proteins in ../data/b1hData/antonProcessed/F2F3/intersectUnions_all/filt_10e-4_025_0_c/ACC.txt:  88"
       ]
      },
      {
       "output_type": "stream",
       "stream": "stdout",
       "text": [
        "\n",
        "Num proteins in ../data/b1hData/antonProcessed/F2F3/intersectUnions_all/filt_10e-4_025_0_c/ACG.txt:  540\n",
        "Num proteins in ../data/b1hData/antonProcessed/F2F3/intersectUnions_all/filt_10e-4_025_0_c/ACT.txt:  686\n",
        "Num proteins in ../data/b1hData/antonProcessed/F2F3/intersectUnions_all/filt_10e-4_025_0_c/AGA.txt:  17\n",
        "Num proteins in ../data/b1hData/antonProcessed/F2F3/intersectUnions_all/filt_10e-4_025_0_c/AGC.txt:  199\n",
        "Num proteins in ../data/b1hData/antonProcessed/F2F3/intersectUnions_all/filt_10e-4_025_0_c/AGG.txt:  628\n",
        "Num proteins in ../data/b1hData/antonProcessed/F2F3/intersectUnions_all/filt_10e-4_025_0_c/AGT.txt:  1396"
       ]
      },
      {
       "output_type": "stream",
       "stream": "stdout",
       "text": [
        "\n",
        "Num proteins in ../data/b1hData/antonProcessed/F2F3/intersectUnions_all/filt_10e-4_025_0_c/ATA.txt:  53\n",
        "Num proteins in ../data/b1hData/antonProcessed/F2F3/intersectUnions_all/filt_10e-4_025_0_c/ATC.txt:  454\n",
        "Num proteins in ../data/b1hData/antonProcessed/F2F3/intersectUnions_all/filt_10e-4_025_0_c/ATG.txt:  143\n",
        "Num proteins in ../data/b1hData/antonProcessed/F2F3/intersectUnions_all/filt_10e-4_025_0_c/ATT.txt:  312\n",
        "Num proteins in ../data/b1hData/antonProcessed/F2F3/intersectUnions_all/filt_10e-4_025_0_c/CAA.txt:  68\n",
        "Num proteins in ../data/b1hData/antonProcessed/F2F3/intersectUnions_all/filt_10e-4_025_0_c/CAC.txt:  347"
       ]
      },
      {
       "output_type": "stream",
       "stream": "stdout",
       "text": [
        "\n",
        "Num proteins in ../data/b1hData/antonProcessed/F2F3/intersectUnions_all/filt_10e-4_025_0_c/CAG.txt:  416\n",
        "Num proteins in ../data/b1hData/antonProcessed/F2F3/intersectUnions_all/filt_10e-4_025_0_c/CAT.txt:  573\n",
        "Num proteins in ../data/b1hData/antonProcessed/F2F3/intersectUnions_all/filt_10e-4_025_0_c/CCA.txt:  69\n",
        "Num proteins in ../data/b1hData/antonProcessed/F2F3/intersectUnions_all/filt_10e-4_025_0_c/CCC.txt:  135\n",
        "Num proteins in ../data/b1hData/antonProcessed/F2F3/intersectUnions_all/filt_10e-4_025_0_c/CCG.txt:  533\n",
        "Num proteins in ../data/b1hData/antonProcessed/F2F3/intersectUnions_all/filt_10e-4_025_0_c/CCT.txt:  362\n",
        "Num proteins in ../data/b1hData/antonProcessed/F2F3/intersectUnions_all/filt_10e-4_025_0_c/CGA.txt:  19\n",
        "Num proteins in ../data/b1hData/antonProcessed/F2F3/intersectUnions_all/filt_10e-4_025_0_c/CGC.txt:  84\n",
        "Num proteins in ../data/b1hData/antonProcessed/F2F3/intersectUnions_all/filt_10e-4_025_0_c/CGG.txt:  561\n",
        "Num proteins in ../data/b1hData/antonProcessed/F2F3/intersectUnions_all/filt_10e-4_025_0_c/CGT.txt:  1266"
       ]
      },
      {
       "output_type": "stream",
       "stream": "stdout",
       "text": [
        "\n",
        "Num proteins in ../data/b1hData/antonProcessed/F2F3/intersectUnions_all/filt_10e-4_025_0_c/CTA.txt:  162\n",
        "Num proteins in ../data/b1hData/antonProcessed/F2F3/intersectUnions_all/filt_10e-4_025_0_c/CTC.txt:  217\n",
        "Num proteins in ../data/b1hData/antonProcessed/F2F3/intersectUnions_all/filt_10e-4_025_0_c/CTG.txt:  205\n",
        "Num proteins in ../data/b1hData/antonProcessed/F2F3/intersectUnions_all/filt_10e-4_025_0_c/CTT.txt:  94\n",
        "Num proteins in ../data/b1hData/antonProcessed/F2F3/intersectUnions_all/filt_10e-4_025_0_c/GAA.txt:  402\n",
        "Num proteins in ../data/b1hData/antonProcessed/F2F3/intersectUnions_all/filt_10e-4_025_0_c/GAC.txt:  775\n",
        "Num proteins in ../data/b1hData/antonProcessed/F2F3/intersectUnions_all/filt_10e-4_025_0_c/GAG.txt:  472"
       ]
      },
      {
       "output_type": "stream",
       "stream": "stdout",
       "text": [
        "\n",
        "Num proteins in ../data/b1hData/antonProcessed/F2F3/intersectUnions_all/filt_10e-4_025_0_c/GAT.txt:  764\n",
        "Num proteins in ../data/b1hData/antonProcessed/F2F3/intersectUnions_all/filt_10e-4_025_0_c/GCA.txt:  300\n",
        "Num proteins in ../data/b1hData/antonProcessed/F2F3/intersectUnions_all/filt_10e-4_025_0_c/GCC.txt:  370\n",
        "Num proteins in ../data/b1hData/antonProcessed/F2F3/intersectUnions_all/filt_10e-4_025_0_c/GCG.txt:  586\n",
        "Num proteins in ../data/b1hData/antonProcessed/F2F3/intersectUnions_all/filt_10e-4_025_0_c/GCT.txt:  639"
       ]
      },
      {
       "output_type": "stream",
       "stream": "stdout",
       "text": [
        "\n",
        "Num proteins in ../data/b1hData/antonProcessed/F2F3/intersectUnions_all/filt_10e-4_025_0_c/GGA.txt:  89\n",
        "Num proteins in ../data/b1hData/antonProcessed/F2F3/intersectUnions_all/filt_10e-4_025_0_c/GGC.txt:  136\n",
        "Num proteins in ../data/b1hData/antonProcessed/F2F3/intersectUnions_all/filt_10e-4_025_0_c/GGG.txt:  658\n",
        "Num proteins in ../data/b1hData/antonProcessed/F2F3/intersectUnions_all/filt_10e-4_025_0_c/GGT.txt:  441\n",
        "Num proteins in ../data/b1hData/antonProcessed/F2F3/intersectUnions_all/filt_10e-4_025_0_c/GTA.txt:  394\n",
        "Num proteins in ../data/b1hData/antonProcessed/F2F3/intersectUnions_all/filt_10e-4_025_0_c/GTC.txt:  552\n",
        "Num proteins in ../data/b1hData/antonProcessed/F2F3/intersectUnions_all/filt_10e-4_025_0_c/GTG.txt:  344\n",
        "Num proteins in ../data/b1hData/antonProcessed/F2F3/intersectUnions_all/filt_10e-4_025_0_c/GTT.txt:  661"
       ]
      },
      {
       "output_type": "stream",
       "stream": "stdout",
       "text": [
        "\n",
        "Num proteins in ../data/b1hData/antonProcessed/F2F3/intersectUnions_all/filt_10e-4_025_0_c/TAA.txt:  21\n",
        "Num proteins in ../data/b1hData/antonProcessed/F2F3/intersectUnions_all/filt_10e-4_025_0_c/TAC.txt:  312\n",
        "Num proteins in ../data/b1hData/antonProcessed/F2F3/intersectUnions_all/filt_10e-4_025_0_c/TAG.txt:  322\n",
        "Num proteins in ../data/b1hData/antonProcessed/F2F3/intersectUnions_all/filt_10e-4_025_0_c/TAT.txt:  1028\n",
        "Num proteins in ../data/b1hData/antonProcessed/F2F3/intersectUnions_all/filt_10e-4_025_0_c/TCA.txt:  31\n",
        "Num proteins in ../data/b1hData/antonProcessed/F2F3/intersectUnions_all/filt_10e-4_025_0_c/TCC.txt:  46\n",
        "Num proteins in ../data/b1hData/antonProcessed/F2F3/intersectUnions_all/filt_10e-4_025_0_c/TCG.txt:  409\n",
        "Num proteins in ../data/b1hData/antonProcessed/F2F3/intersectUnions_all/filt_10e-4_025_0_c/TCT.txt:  543\n",
        "Num proteins in ../data/b1hData/antonProcessed/F2F3/intersectUnions_all/filt_10e-4_025_0_c/TGA.txt:  762\n",
        "Num proteins in ../data/b1hData/antonProcessed/F2F3/intersectUnions_all/filt_10e-4_025_0_c/TGC.txt:  294\n",
        "Num proteins in ../data/b1hData/antonProcessed/F2F3/intersectUnions_all/filt_10e-4_025_0_c/TGG.txt:  672"
       ]
      },
      {
       "output_type": "stream",
       "stream": "stdout",
       "text": [
        "\n",
        "Num proteins in ../data/b1hData/antonProcessed/F2F3/intersectUnions_all/filt_10e-4_025_0_c/TGT.txt:  2178\n",
        "Num proteins in ../data/b1hData/antonProcessed/F2F3/intersectUnions_all/filt_10e-4_025_0_c/TTA.txt:  605\n",
        "Num proteins in ../data/b1hData/antonProcessed/F2F3/intersectUnions_all/filt_10e-4_025_0_c/TTC.txt:  161\n",
        "Num proteins in ../data/b1hData/antonProcessed/F2F3/intersectUnions_all/filt_10e-4_025_0_c/TTG.txt:  229\n",
        "Num proteins in ../data/b1hData/antonProcessed/F2F3/intersectUnions_all/filt_10e-4_025_0_c/TTT.txt:  117\n",
        "Total num protein/dna observations in all files:  26882\n",
        "Total num unique proteins in all files:  9881\n",
        "\n",
        "Num obs processed in csv to txt conversion:  26882"
       ]
      },
      {
       "output_type": "stream",
       "stream": "stdout",
       "text": [
        "\n",
        "\n",
        "Here\n",
        "Num proteins in ../data/b1hData/antonProcessed/F2F3/intersectIntersections_all/filt_10e-4_025_0_c/AAA.txt:  2\n",
        "Num proteins in ../data/b1hData/antonProcessed/F2F3/intersectIntersections_all/filt_10e-4_025_0_c/AAC.txt:  87\n",
        "Num proteins in ../data/b1hData/antonProcessed/F2F3/intersectIntersections_all/filt_10e-4_025_0_c/AAG.txt:  7\n",
        "Num proteins in ../data/b1hData/antonProcessed/F2F3/intersectIntersections_all/filt_10e-4_025_0_c/AAT.txt:  33\n",
        "Num proteins in ../data/b1hData/antonProcessed/F2F3/intersectIntersections_all/filt_10e-4_025_0_c/ACA.txt:  5\n",
        "Num proteins in ../data/b1hData/antonProcessed/F2F3/intersectIntersections_all/filt_10e-4_025_0_c/ACC.txt:  5\n",
        "Num proteins in ../data/b1hData/antonProcessed/F2F3/intersectIntersections_all/filt_10e-4_025_0_c/ACG.txt:  14\n",
        "Num proteins in ../data/b1hData/antonProcessed/F2F3/intersectIntersections_all/filt_10e-4_025_0_c/ACT.txt:  79\n",
        "Num proteins in ../data/b1hData/antonProcessed/F2F3/intersectIntersections_all/filt_10e-4_025_0_c/AGA.txt:  0\n",
        "Num proteins in ../data/b1hData/antonProcessed/F2F3/intersectIntersections_all/filt_10e-4_025_0_c/AGC.txt:  17\n",
        "Num proteins in ../data/b1hData/antonProcessed/F2F3/intersectIntersections_all/filt_10e-4_025_0_c/AGG.txt:  2\n",
        "Num proteins in ../data/b1hData/antonProcessed/F2F3/intersectIntersections_all/filt_10e-4_025_0_c/AGT.txt:  357"
       ]
      },
      {
       "output_type": "stream",
       "stream": "stdout",
       "text": [
        "\n",
        "Num proteins in ../data/b1hData/antonProcessed/F2F3/intersectIntersections_all/filt_10e-4_025_0_c/ATA.txt:  0\n",
        "Num proteins in ../data/b1hData/antonProcessed/F2F3/intersectIntersections_all/filt_10e-4_025_0_c/ATC.txt:  114\n",
        "Num proteins in ../data/b1hData/antonProcessed/F2F3/intersectIntersections_all/filt_10e-4_025_0_c/ATG.txt:  0\n",
        "Num proteins in ../data/b1hData/antonProcessed/F2F3/intersectIntersections_all/filt_10e-4_025_0_c/ATT.txt:  46\n",
        "Num proteins in ../data/b1hData/antonProcessed/F2F3/intersectIntersections_all/filt_10e-4_025_0_c/CAA.txt:  1\n",
        "Num proteins in ../data/b1hData/antonProcessed/F2F3/intersectIntersections_all/filt_10e-4_025_0_c/CAC.txt:  39\n",
        "Num proteins in ../data/b1hData/antonProcessed/F2F3/intersectIntersections_all/filt_10e-4_025_0_c/CAG.txt:  2\n",
        "Num proteins in ../data/b1hData/antonProcessed/F2F3/intersectIntersections_all/filt_10e-4_025_0_c/CAT.txt:  105\n",
        "Num proteins in ../data/b1hData/antonProcessed/F2F3/intersectIntersections_all/filt_10e-4_025_0_c/CCA.txt:  0\n",
        "Num proteins in ../data/b1hData/antonProcessed/F2F3/intersectIntersections_all/filt_10e-4_025_0_c/CCC.txt:  16\n",
        "Num proteins in ../data/b1hData/antonProcessed/F2F3/intersectIntersections_all/filt_10e-4_025_0_c/CCG.txt:  6\n",
        "Num proteins in ../data/b1hData/antonProcessed/F2F3/intersectIntersections_all/filt_10e-4_025_0_c/CCT.txt:  9"
       ]
      },
      {
       "output_type": "stream",
       "stream": "stdout",
       "text": [
        "\n",
        "Num proteins in ../data/b1hData/antonProcessed/F2F3/intersectIntersections_all/filt_10e-4_025_0_c/CGA.txt:  0\n",
        "Num proteins in ../data/b1hData/antonProcessed/F2F3/intersectIntersections_all/filt_10e-4_025_0_c/CGC.txt:  4\n",
        "Num proteins in ../data/b1hData/antonProcessed/F2F3/intersectIntersections_all/filt_10e-4_025_0_c/CGG.txt:  9\n",
        "Num proteins in ../data/b1hData/antonProcessed/F2F3/intersectIntersections_all/filt_10e-4_025_0_c/CGT.txt:  235\n",
        "Num proteins in ../data/b1hData/antonProcessed/F2F3/intersectIntersections_all/filt_10e-4_025_0_c/CTA.txt:  0\n",
        "Num proteins in ../data/b1hData/antonProcessed/F2F3/intersectIntersections_all/filt_10e-4_025_0_c/CTC.txt:  39\n",
        "Num proteins in ../data/b1hData/antonProcessed/F2F3/intersectIntersections_all/filt_10e-4_025_0_c/CTG.txt:  3\n",
        "Num proteins in ../data/b1hData/antonProcessed/F2F3/intersectIntersections_all/filt_10e-4_025_0_c/CTT.txt:  2\n",
        "Num proteins in ../data/b1hData/antonProcessed/F2F3/intersectIntersections_all/filt_10e-4_025_0_c/GAA.txt:  8\n",
        "Num proteins in ../data/b1hData/antonProcessed/F2F3/intersectIntersections_all/filt_10e-4_025_0_c/GAC.txt:  104\n",
        "Num proteins in ../data/b1hData/antonProcessed/F2F3/intersectIntersections_all/filt_10e-4_025_0_c/GAG.txt:  23\n",
        "Num proteins in ../data/b1hData/antonProcessed/F2F3/intersectIntersections_all/filt_10e-4_025_0_c/GAT.txt:  44\n",
        "Num proteins in ../data/b1hData/antonProcessed/F2F3/intersectIntersections_all/filt_10e-4_025_0_c/GCA.txt:  10\n",
        "Num proteins in ../data/b1hData/antonProcessed/F2F3/intersectIntersections_all/filt_10e-4_025_0_c/GCC.txt:  33\n",
        "Num proteins in ../data/b1hData/antonProcessed/F2F3/intersectIntersections_all/filt_10e-4_025_0_c/GCG.txt:  12\n",
        "Num proteins in ../data/b1hData/antonProcessed/F2F3/intersectIntersections_all/filt_10e-4_025_0_c/GCT.txt:  116\n",
        "Num proteins in ../data/b1hData/antonProcessed/F2F3/intersectIntersections_all/filt_10e-4_025_0_c/GGA.txt:  0\n",
        "Num proteins in ../data/b1hData/antonProcessed/F2F3/intersectIntersections_all/filt_10e-4_025_0_c/GGC.txt:  19\n",
        "Num proteins in ../data/b1hData/antonProcessed/F2F3/intersectIntersections_all/filt_10e-4_025_0_c/GGG.txt:  10\n",
        "Num proteins in ../data/b1hData/antonProcessed/F2F3/intersectIntersections_all/filt_10e-4_025_0_c/GGT.txt:  59\n",
        "Num proteins in ../data/b1hData/antonProcessed/F2F3/intersectIntersections_all/filt_10e-4_025_0_c/GTA.txt:  9\n",
        "Num proteins in ../data/b1hData/antonProcessed/F2F3/intersectIntersections_all/filt_10e-4_025_0_c/GTC.txt:  130\n",
        "Num proteins in ../data/b1hData/antonProcessed/F2F3/intersectIntersections_all/filt_10e-4_025_0_c/GTG.txt:  16\n",
        "Num proteins in ../data/b1hData/antonProcessed/F2F3/intersectIntersections_all/filt_10e-4_025_0_c/GTT.txt:  143\n",
        "Num proteins in ../data/b1hData/antonProcessed/F2F3/intersectIntersections_all/filt_10e-4_025_0_c/TAA.txt:  0\n",
        "Num proteins in ../data/b1hData/antonProcessed/F2F3/intersectIntersections_all/filt_10e-4_025_0_c/TAC.txt:  34\n",
        "Num proteins in ../data/b1hData/antonProcessed/F2F3/intersectIntersections_all/filt_10e-4_025_0_c/TAG.txt:  1\n",
        "Num proteins in ../data/b1hData/antonProcessed/F2F3/intersectIntersections_all/filt_10e-4_025_0_c/TAT.txt:  90\n",
        "Num proteins in ../data/b1hData/antonProcessed/F2F3/intersectIntersections_all/filt_10e-4_025_0_c/TCA.txt:  0\n",
        "Num proteins in ../data/b1hData/antonProcessed/F2F3/intersectIntersections_all/filt_10e-4_025_0_c/TCC.txt:  1\n",
        "Num proteins in ../data/b1hData/antonProcessed/F2F3/intersectIntersections_all/filt_10e-4_025_0_c/TCG.txt:  0\n",
        "Num proteins in ../data/b1hData/antonProcessed/F2F3/intersectIntersections_all/filt_10e-4_025_0_c/TCT.txt:  4\n",
        "Num proteins in ../data/b1hData/antonProcessed/F2F3/intersectIntersections_all/filt_10e-4_025_0_c/TGA.txt:  145\n",
        "Num proteins in ../data/b1hData/antonProcessed/F2F3/intersectIntersections_all/filt_10e-4_025_0_c/TGC.txt:  17\n",
        "Num proteins in ../data/b1hData/antonProcessed/F2F3/intersectIntersections_all/filt_10e-4_025_0_c/TGG.txt:  16\n",
        "Num proteins in ../data/b1hData/antonProcessed/F2F3/intersectIntersections_all/filt_10e-4_025_0_c/TGT.txt:  659\n",
        "Num proteins in ../data/b1hData/antonProcessed/F2F3/intersectIntersections_all/filt_10e-4_025_0_c/TTA.txt:  0\n",
        "Num proteins in ../data/b1hData/antonProcessed/F2F3/intersectIntersections_all/filt_10e-4_025_0_c/TTC.txt:  25\n",
        "Num proteins in ../data/b1hData/antonProcessed/F2F3/intersectIntersections_all/filt_10e-4_025_0_c/TTG.txt:  1\n",
        "Num proteins in ../data/b1hData/antonProcessed/F2F3/intersectIntersections_all/filt_10e-4_025_0_c/TTT.txt:  0\n",
        "Total num protein/dna observations in all files:  2967\n",
        "Total num unique proteins in all files:  1423\n",
        "\n",
        "Num obs processed in csv to txt conversion:  2967"
       ]
      },
      {
       "output_type": "stream",
       "stream": "stdout",
       "text": [
        "\n",
        "\n",
        "Here\n",
        "Num proteins in ../data/b1hData/antonProcessed/F2F3/unionLow/filt_10e-4_025_0_c/AAA.txt:  665\n",
        "Num proteins in ../data/b1hData/antonProcessed/F2F3/unionLow/filt_10e-4_025_0_c/AAC.txt:  3877"
       ]
      },
      {
       "output_type": "stream",
       "stream": "stdout",
       "text": [
        "\n",
        "Num proteins in ../data/b1hData/antonProcessed/F2F3/unionLow/filt_10e-4_025_0_c/AAG.txt:  4168"
       ]
      },
      {
       "output_type": "stream",
       "stream": "stdout",
       "text": [
        "\n",
        "Num proteins in ../data/b1hData/antonProcessed/F2F3/unionLow/filt_10e-4_025_0_c/AAT.txt:  3106\n",
        "Num proteins in ../data/b1hData/antonProcessed/F2F3/unionLow/filt_10e-4_025_0_c/ACA.txt:  1832\n",
        "Num proteins in ../data/b1hData/antonProcessed/F2F3/unionLow/filt_10e-4_025_0_c/ACC.txt:  1686"
       ]
      },
      {
       "output_type": "stream",
       "stream": "stdout",
       "text": [
        "\n",
        "Num proteins in ../data/b1hData/antonProcessed/F2F3/unionLow/filt_10e-4_025_0_c/ACG.txt:  4210\n",
        "Num proteins in ../data/b1hData/antonProcessed/F2F3/unionLow/filt_10e-4_025_0_c/ACT.txt:  3942"
       ]
      },
      {
       "output_type": "stream",
       "stream": "stdout",
       "text": [
        "\n",
        "Num proteins in ../data/b1hData/antonProcessed/F2F3/unionLow/filt_10e-4_025_0_c/AGA.txt:  643\n",
        "Num proteins in ../data/b1hData/antonProcessed/F2F3/unionLow/filt_10e-4_025_0_c/AGC.txt:  3260\n",
        "Num proteins in ../data/b1hData/antonProcessed/F2F3/unionLow/filt_10e-4_025_0_c/AGG.txt:  3953"
       ]
      },
      {
       "output_type": "stream",
       "stream": "stdout",
       "text": [
        "\n",
        "Num proteins in ../data/b1hData/antonProcessed/F2F3/unionLow/filt_10e-4_025_0_c/AGT.txt:  4423\n",
        "Num proteins in ../data/b1hData/antonProcessed/F2F3/unionLow/filt_10e-4_025_0_c/ATA.txt:  321\n",
        "Num proteins in ../data/b1hData/antonProcessed/F2F3/unionLow/filt_10e-4_025_0_c/ATC.txt:  2711"
       ]
      },
      {
       "output_type": "stream",
       "stream": "stdout",
       "text": [
        "\n",
        "Num proteins in ../data/b1hData/antonProcessed/F2F3/unionLow/filt_10e-4_025_0_c/ATG.txt:  2432\n",
        "Num proteins in ../data/b1hData/antonProcessed/F2F3/unionLow/filt_10e-4_025_0_c/ATT.txt:  2861"
       ]
      },
      {
       "output_type": "stream",
       "stream": "stdout",
       "text": [
        "\n",
        "Num proteins in ../data/b1hData/antonProcessed/F2F3/unionLow/filt_10e-4_025_0_c/CAA.txt:  479\n",
        "Num proteins in ../data/b1hData/antonProcessed/F2F3/unionLow/filt_10e-4_025_0_c/CAC.txt:  3167\n",
        "Num proteins in ../data/b1hData/antonProcessed/F2F3/unionLow/filt_10e-4_025_0_c/CAG.txt:  3793"
       ]
      },
      {
       "output_type": "stream",
       "stream": "stdout",
       "text": [
        "\n",
        "Num proteins in ../data/b1hData/antonProcessed/F2F3/unionLow/filt_10e-4_025_0_c/CAT.txt:  2298\n",
        "Num proteins in ../data/b1hData/antonProcessed/F2F3/unionLow/filt_10e-4_025_0_c/CCA.txt:  625\n",
        "Num proteins in ../data/b1hData/antonProcessed/F2F3/unionLow/filt_10e-4_025_0_c/CCC.txt:  1069\n",
        "Num proteins in ../data/b1hData/antonProcessed/F2F3/unionLow/filt_10e-4_025_0_c/CCG.txt:  2790"
       ]
      },
      {
       "output_type": "stream",
       "stream": "stdout",
       "text": [
        "\n",
        "Num proteins in ../data/b1hData/antonProcessed/F2F3/unionLow/filt_10e-4_025_0_c/CCT.txt:  1566\n",
        "Num proteins in ../data/b1hData/antonProcessed/F2F3/unionLow/filt_10e-4_025_0_c/CGA.txt:  446\n",
        "Num proteins in ../data/b1hData/antonProcessed/F2F3/unionLow/filt_10e-4_025_0_c/CGC.txt:  2813"
       ]
      },
      {
       "output_type": "stream",
       "stream": "stdout",
       "text": [
        "\n",
        "Num proteins in ../data/b1hData/antonProcessed/F2F3/unionLow/filt_10e-4_025_0_c/CGG.txt:  3096\n",
        "Num proteins in ../data/b1hData/antonProcessed/F2F3/unionLow/filt_10e-4_025_0_c/CGT.txt:  3884"
       ]
      },
      {
       "output_type": "stream",
       "stream": "stdout",
       "text": [
        "\n",
        "Num proteins in ../data/b1hData/antonProcessed/F2F3/unionLow/filt_10e-4_025_0_c/CTA.txt:  307\n",
        "Num proteins in ../data/b1hData/antonProcessed/F2F3/unionLow/filt_10e-4_025_0_c/CTC.txt:  875\n",
        "Num proteins in ../data/b1hData/antonProcessed/F2F3/unionLow/filt_10e-4_025_0_c/CTG.txt:  1098\n",
        "Num proteins in ../data/b1hData/antonProcessed/F2F3/unionLow/filt_10e-4_025_0_c/CTT.txt:  714\n",
        "Num proteins in ../data/b1hData/antonProcessed/F2F3/unionLow/filt_10e-4_025_0_c/GAA.txt:  1513"
       ]
      },
      {
       "output_type": "stream",
       "stream": "stdout",
       "text": [
        "\n",
        "Num proteins in ../data/b1hData/antonProcessed/F2F3/unionLow/filt_10e-4_025_0_c/GAC.txt:  2996"
       ]
      },
      {
       "output_type": "stream",
       "stream": "stdout",
       "text": [
        "\n",
        "Num proteins in ../data/b1hData/antonProcessed/F2F3/unionLow/filt_10e-4_025_0_c/GAG.txt:  4335\n",
        "Num proteins in ../data/b1hData/antonProcessed/F2F3/unionLow/filt_10e-4_025_0_c/GAT.txt:  3720"
       ]
      },
      {
       "output_type": "stream",
       "stream": "stdout",
       "text": [
        "\n",
        "Num proteins in ../data/b1hData/antonProcessed/F2F3/unionLow/filt_10e-4_025_0_c/GCA.txt:  1208"
       ]
      },
      {
       "output_type": "stream",
       "stream": "stdout",
       "text": [
        "\n",
        "Num proteins in ../data/b1hData/antonProcessed/F2F3/unionLow/filt_10e-4_025_0_c/GCC.txt:  1474\n",
        "Num proteins in ../data/b1hData/antonProcessed/F2F3/unionLow/filt_10e-4_025_0_c/GCG.txt:  3767"
       ]
      },
      {
       "output_type": "stream",
       "stream": "stdout",
       "text": [
        "\n",
        "Num proteins in ../data/b1hData/antonProcessed/F2F3/unionLow/filt_10e-4_025_0_c/GCT.txt:  3145\n",
        "Num proteins in ../data/b1hData/antonProcessed/F2F3/unionLow/filt_10e-4_025_0_c/GGA.txt:  807"
       ]
      },
      {
       "output_type": "stream",
       "stream": "stdout",
       "text": [
        "\n",
        "Num proteins in ../data/b1hData/antonProcessed/F2F3/unionLow/filt_10e-4_025_0_c/GGC.txt:  1830\n",
        "Num proteins in ../data/b1hData/antonProcessed/F2F3/unionLow/filt_10e-4_025_0_c/GGG.txt:  4520"
       ]
      },
      {
       "output_type": "stream",
       "stream": "stdout",
       "text": [
        "\n",
        "Num proteins in ../data/b1hData/antonProcessed/F2F3/unionLow/filt_10e-4_025_0_c/GGT.txt:  3456\n",
        "Num proteins in ../data/b1hData/antonProcessed/F2F3/unionLow/filt_10e-4_025_0_c/GTA.txt:  1268"
       ]
      },
      {
       "output_type": "stream",
       "stream": "stdout",
       "text": [
        "\n",
        "Num proteins in ../data/b1hData/antonProcessed/F2F3/unionLow/filt_10e-4_025_0_c/GTC.txt:  3119\n",
        "Num proteins in ../data/b1hData/antonProcessed/F2F3/unionLow/filt_10e-4_025_0_c/GTG.txt:  4978"
       ]
      },
      {
       "output_type": "stream",
       "stream": "stdout",
       "text": [
        "\n",
        "Num proteins in ../data/b1hData/antonProcessed/F2F3/unionLow/filt_10e-4_025_0_c/GTT.txt:  3877\n",
        "Num proteins in ../data/b1hData/antonProcessed/F2F3/unionLow/filt_10e-4_025_0_c/TAA.txt:  187\n",
        "Num proteins in ../data/b1hData/antonProcessed/F2F3/unionLow/filt_10e-4_025_0_c/TAC.txt:  2174"
       ]
      },
      {
       "output_type": "stream",
       "stream": "stdout",
       "text": [
        "\n",
        "Num proteins in ../data/b1hData/antonProcessed/F2F3/unionLow/filt_10e-4_025_0_c/TAG.txt:  1810\n",
        "Num proteins in ../data/b1hData/antonProcessed/F2F3/unionLow/filt_10e-4_025_0_c/TAT.txt:  3130"
       ]
      },
      {
       "output_type": "stream",
       "stream": "stdout",
       "text": [
        "\n",
        "Num proteins in ../data/b1hData/antonProcessed/F2F3/unionLow/filt_10e-4_025_0_c/TCA.txt:  76\n",
        "Num proteins in ../data/b1hData/antonProcessed/F2F3/unionLow/filt_10e-4_025_0_c/TCC.txt:  1374\n",
        "Num proteins in ../data/b1hData/antonProcessed/F2F3/unionLow/filt_10e-4_025_0_c/TCG.txt:  1852\n",
        "Num proteins in ../data/b1hData/antonProcessed/F2F3/unionLow/filt_10e-4_025_0_c/TCT.txt:  1769"
       ]
      },
      {
       "output_type": "stream",
       "stream": "stdout",
       "text": [
        "\n",
        "Num proteins in ../data/b1hData/antonProcessed/F2F3/unionLow/filt_10e-4_025_0_c/TGA.txt:  1903\n",
        "Num proteins in ../data/b1hData/antonProcessed/F2F3/unionLow/filt_10e-4_025_0_c/TGC.txt:  2579"
       ]
      },
      {
       "output_type": "stream",
       "stream": "stdout",
       "text": [
        "\n",
        "Num proteins in ../data/b1hData/antonProcessed/F2F3/unionLow/filt_10e-4_025_0_c/TGG.txt:  3225\n",
        "Num proteins in ../data/b1hData/antonProcessed/F2F3/unionLow/filt_10e-4_025_0_c/TGT.txt:  3888"
       ]
      },
      {
       "output_type": "stream",
       "stream": "stdout",
       "text": [
        "\n",
        "Num proteins in ../data/b1hData/antonProcessed/F2F3/unionLow/filt_10e-4_025_0_c/TTA.txt:  99\n",
        "Num proteins in ../data/b1hData/antonProcessed/F2F3/unionLow/filt_10e-4_025_0_c/TTC.txt:  878\n",
        "Num proteins in ../data/b1hData/antonProcessed/F2F3/unionLow/filt_10e-4_025_0_c/TTG.txt:  2165\n",
        "Num proteins in ../data/b1hData/antonProcessed/F2F3/unionLow/filt_10e-4_025_0_c/TTT.txt:  2182"
       ]
      },
      {
       "output_type": "stream",
       "stream": "stdout",
       "text": [
        "\n",
        "Total num protein/dna observations in all files:  148414\n",
        "Total num unique proteins in all files:  95810\n",
        "\n",
        "Num obs processed in csv to txt conversion:  148414"
       ]
      },
      {
       "output_type": "stream",
       "stream": "stdout",
       "text": [
        "\n",
        "\n",
        "Here\n",
        "Num proteins in ../data/b1hData/antonProcessed/F2F3/unionHigh/filt_10e-4_025_0_c/AAA.txt:  256\n",
        "Num proteins in ../data/b1hData/antonProcessed/F2F3/unionHigh/filt_10e-4_025_0_c/AAC.txt:  1201\n",
        "Num proteins in ../data/b1hData/antonProcessed/F2F3/unionHigh/filt_10e-4_025_0_c/AAG.txt:  1002\n",
        "Num proteins in ../data/b1hData/antonProcessed/F2F3/unionHigh/filt_10e-4_025_0_c/AAT.txt:  326\n",
        "Num proteins in ../data/b1hData/antonProcessed/F2F3/unionHigh/filt_10e-4_025_0_c/ACA.txt:  784"
       ]
      },
      {
       "output_type": "stream",
       "stream": "stdout",
       "text": [
        "\n",
        "Num proteins in ../data/b1hData/antonProcessed/F2F3/unionHigh/filt_10e-4_025_0_c/ACC.txt:  364\n",
        "Num proteins in ../data/b1hData/antonProcessed/F2F3/unionHigh/filt_10e-4_025_0_c/ACG.txt:  1250\n",
        "Num proteins in ../data/b1hData/antonProcessed/F2F3/unionHigh/filt_10e-4_025_0_c/ACT.txt:  1931\n",
        "Num proteins in ../data/b1hData/antonProcessed/F2F3/unionHigh/filt_10e-4_025_0_c/AGA.txt:  72\n",
        "Num proteins in ../data/b1hData/antonProcessed/F2F3/unionHigh/filt_10e-4_025_0_c/AGC.txt:  704\n",
        "Num proteins in ../data/b1hData/antonProcessed/F2F3/unionHigh/filt_10e-4_025_0_c/AGG.txt:  1143\n",
        "Num proteins in ../data/b1hData/antonProcessed/F2F3/unionHigh/filt_10e-4_025_0_c/AGT.txt:  1901"
       ]
      },
      {
       "output_type": "stream",
       "stream": "stdout",
       "text": [
        "\n",
        "Num proteins in ../data/b1hData/antonProcessed/F2F3/unionHigh/filt_10e-4_025_0_c/ATA.txt:  126\n",
        "Num proteins in ../data/b1hData/antonProcessed/F2F3/unionHigh/filt_10e-4_025_0_c/ATC.txt:  1027\n",
        "Num proteins in ../data/b1hData/antonProcessed/F2F3/unionHigh/filt_10e-4_025_0_c/ATG.txt:  277\n",
        "Num proteins in ../data/b1hData/antonProcessed/F2F3/unionHigh/filt_10e-4_025_0_c/ATT.txt:  675\n",
        "Num proteins in ../data/b1hData/antonProcessed/F2F3/unionHigh/filt_10e-4_025_0_c/CAA.txt:  116\n",
        "Num proteins in ../data/b1hData/antonProcessed/F2F3/unionHigh/filt_10e-4_025_0_c/CAC.txt:  534\n",
        "Num proteins in ../data/b1hData/antonProcessed/F2F3/unionHigh/filt_10e-4_025_0_c/CAG.txt:  1031\n",
        "Num proteins in ../data/b1hData/antonProcessed/F2F3/unionHigh/filt_10e-4_025_0_c/CAT.txt:  810\n",
        "Num proteins in ../data/b1hData/antonProcessed/F2F3/unionHigh/filt_10e-4_025_0_c/CCA.txt:  113\n",
        "Num proteins in ../data/b1hData/antonProcessed/F2F3/unionHigh/filt_10e-4_025_0_c/CCC.txt:  261"
       ]
      },
      {
       "output_type": "stream",
       "stream": "stdout",
       "text": [
        "\n",
        "Num proteins in ../data/b1hData/antonProcessed/F2F3/unionHigh/filt_10e-4_025_0_c/CCG.txt:  469\n",
        "Num proteins in ../data/b1hData/antonProcessed/F2F3/unionHigh/filt_10e-4_025_0_c/CCT.txt:  303\n",
        "Num proteins in ../data/b1hData/antonProcessed/F2F3/unionHigh/filt_10e-4_025_0_c/CGA.txt:  51\n",
        "Num proteins in ../data/b1hData/antonProcessed/F2F3/unionHigh/filt_10e-4_025_0_c/CGC.txt:  586\n",
        "Num proteins in ../data/b1hData/antonProcessed/F2F3/unionHigh/filt_10e-4_025_0_c/CGG.txt:  1167\n",
        "Num proteins in ../data/b1hData/antonProcessed/F2F3/unionHigh/filt_10e-4_025_0_c/CGT.txt:  1045\n",
        "Num proteins in ../data/b1hData/antonProcessed/F2F3/unionHigh/filt_10e-4_025_0_c/CTA.txt:  279\n",
        "Num proteins in ../data/b1hData/antonProcessed/F2F3/unionHigh/filt_10e-4_025_0_c/CTC.txt:  153\n",
        "Num proteins in ../data/b1hData/antonProcessed/F2F3/unionHigh/filt_10e-4_025_0_c/CTG.txt:  307\n",
        "Num proteins in ../data/b1hData/antonProcessed/F2F3/unionHigh/filt_10e-4_025_0_c/CTT.txt:  336"
       ]
      },
      {
       "output_type": "stream",
       "stream": "stdout",
       "text": [
        "\n",
        "Num proteins in ../data/b1hData/antonProcessed/F2F3/unionHigh/filt_10e-4_025_0_c/GAA.txt:  486\n",
        "Num proteins in ../data/b1hData/antonProcessed/F2F3/unionHigh/filt_10e-4_025_0_c/GAC.txt:  934\n",
        "Num proteins in ../data/b1hData/antonProcessed/F2F3/unionHigh/filt_10e-4_025_0_c/GAG.txt:  1491\n",
        "Num proteins in ../data/b1hData/antonProcessed/F2F3/unionHigh/filt_10e-4_025_0_c/GAT.txt:  764\n",
        "Num proteins in ../data/b1hData/antonProcessed/F2F3/unionHigh/filt_10e-4_025_0_c/GCA.txt:  288\n",
        "Num proteins in ../data/b1hData/antonProcessed/F2F3/unionHigh/filt_10e-4_025_0_c/GCC.txt:  618\n",
        "Num proteins in ../data/b1hData/antonProcessed/F2F3/unionHigh/filt_10e-4_025_0_c/GCG.txt:  913"
       ]
      },
      {
       "output_type": "stream",
       "stream": "stdout",
       "text": [
        "\n",
        "Num proteins in ../data/b1hData/antonProcessed/F2F3/unionHigh/filt_10e-4_025_0_c/GCT.txt:  1346\n",
        "Num proteins in ../data/b1hData/antonProcessed/F2F3/unionHigh/filt_10e-4_025_0_c/GGA.txt:  711"
       ]
      },
      {
       "output_type": "stream",
       "stream": "stdout",
       "text": [
        "\n",
        "Num proteins in ../data/b1hData/antonProcessed/F2F3/unionHigh/filt_10e-4_025_0_c/GGC.txt:  370\n",
        "Num proteins in ../data/b1hData/antonProcessed/F2F3/unionHigh/filt_10e-4_025_0_c/GGG.txt:  1662\n",
        "Num proteins in ../data/b1hData/antonProcessed/F2F3/unionHigh/filt_10e-4_025_0_c/GGT.txt:  1523\n",
        "Num proteins in ../data/b1hData/antonProcessed/F2F3/unionHigh/filt_10e-4_025_0_c/GTA.txt:  939"
       ]
      },
      {
       "output_type": "stream",
       "stream": "stdout",
       "text": [
        "\n",
        "Num proteins in ../data/b1hData/antonProcessed/F2F3/unionHigh/filt_10e-4_025_0_c/GTC.txt:  726\n",
        "Num proteins in ../data/b1hData/antonProcessed/F2F3/unionHigh/filt_10e-4_025_0_c/GTG.txt:  1491\n",
        "Num proteins in ../data/b1hData/antonProcessed/F2F3/unionHigh/filt_10e-4_025_0_c/GTT.txt:  1237"
       ]
      },
      {
       "output_type": "stream",
       "stream": "stdout",
       "text": [
        "\n",
        "Num proteins in ../data/b1hData/antonProcessed/F2F3/unionHigh/filt_10e-4_025_0_c/TAA.txt:  358\n",
        "Num proteins in ../data/b1hData/antonProcessed/F2F3/unionHigh/filt_10e-4_025_0_c/TAC.txt:  227\n",
        "Num proteins in ../data/b1hData/antonProcessed/F2F3/unionHigh/filt_10e-4_025_0_c/TAG.txt:  285\n",
        "Num proteins in ../data/b1hData/antonProcessed/F2F3/unionHigh/filt_10e-4_025_0_c/TAT.txt:  819\n",
        "Num proteins in ../data/b1hData/antonProcessed/F2F3/unionHigh/filt_10e-4_025_0_c/TCA.txt:  251\n",
        "Num proteins in ../data/b1hData/antonProcessed/F2F3/unionHigh/filt_10e-4_025_0_c/TCC.txt:  506\n",
        "Num proteins in ../data/b1hData/antonProcessed/F2F3/unionHigh/filt_10e-4_025_0_c/TCG.txt:  155\n",
        "Num proteins in ../data/b1hData/antonProcessed/F2F3/unionHigh/filt_10e-4_025_0_c/TCT.txt:  335\n",
        "Num proteins in ../data/b1hData/antonProcessed/F2F3/unionHigh/filt_10e-4_025_0_c/TGA.txt:  658\n",
        "Num proteins in ../data/b1hData/antonProcessed/F2F3/unionHigh/filt_10e-4_025_0_c/TGC.txt:  284"
       ]
      },
      {
       "output_type": "stream",
       "stream": "stdout",
       "text": [
        "\n",
        "Num proteins in ../data/b1hData/antonProcessed/F2F3/unionHigh/filt_10e-4_025_0_c/TGG.txt:  1305"
       ]
      },
      {
       "output_type": "stream",
       "stream": "stdout",
       "text": [
        "\n",
        "Num proteins in ../data/b1hData/antonProcessed/F2F3/unionHigh/filt_10e-4_025_0_c/TGT.txt:  3442"
       ]
      },
      {
       "output_type": "stream",
       "stream": "stdout",
       "text": [
        "\n",
        "Num proteins in ../data/b1hData/antonProcessed/F2F3/unionHigh/filt_10e-4_025_0_c/TTA.txt:  862\n",
        "Num proteins in ../data/b1hData/antonProcessed/F2F3/unionHigh/filt_10e-4_025_0_c/TTC.txt:  81\n",
        "Num proteins in ../data/b1hData/antonProcessed/F2F3/unionHigh/filt_10e-4_025_0_c/TTG.txt:  235\n",
        "Num proteins in ../data/b1hData/antonProcessed/F2F3/unionHigh/filt_10e-4_025_0_c/TTT.txt:  204"
       ]
      },
      {
       "output_type": "stream",
       "stream": "stdout",
       "text": [
        "\n",
        "Total num protein/dna observations in all files:  46106\n",
        "Total num unique proteins in all files:  33604\n",
        "\n",
        "Num obs processed in csv to txt conversion:  46106"
       ]
      },
      {
       "output_type": "stream",
       "stream": "stdout",
       "text": [
        "\n",
        "\n"
       ]
      }
     ],
     "prompt_number": 2
    },
    {
     "cell_type": "code",
     "collapsed": false,
     "input": [],
     "language": "python",
     "metadata": {},
     "outputs": [],
     "prompt_number": 2
    },
    {
     "cell_type": "code",
     "collapsed": false,
     "input": [],
     "language": "python",
     "metadata": {},
     "outputs": [],
     "prompt_number": 2
    }
   ],
   "metadata": {}
  }
 ]
}