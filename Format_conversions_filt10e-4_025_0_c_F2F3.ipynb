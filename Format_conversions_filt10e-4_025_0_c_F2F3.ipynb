{
 "metadata": {
  "name": "Format_conversions_filt10e-4_025_0_c_F2F3"
 },
 "nbformat": 3,
 "nbformat_minor": 0,
 "worksheets": [
  {
   "cells": [
    {
     "cell_type": "code",
     "collapsed": false,
     "input": [
      "from changeFormats import targetFiles2singleCSV, csv2txtFile\n",
      "\n"
     ],
     "language": "python",
     "metadata": {},
     "outputs": [],
     "prompt_number": 1
    },
    {
     "cell_type": "code",
     "collapsed": false,
     "input": [
      "prefix = '../data/b1hData/antonProcessed/'\n",
      "numVarPos = 6\n",
      "interfaces = {}\n",
      "fings = ['F2F3']\n",
      "strins = ['unionIntersections', 'intersectUnions', 'intersectIntersections']\n",
      "for fing in fings:\n",
      "    for strin in strins:\n",
      "        path = prefix + fing + '/' + strin + '/' + 'filt_10e-4_025_0_c/'\n",
      "        interfaces[fing] = targetFiles2singleCSV(path, numVarPos, '.txt', style = 'verbose')\n",
      "        csv2txtFile(path, numVarPos, style = 'verbose')\n",
      "        print"
     ],
     "language": "python",
     "metadata": {},
     "outputs": [
      {
       "output_type": "stream",
       "stream": "stdout",
       "text": [
        "Here\n",
        "Num proteins in ../data/b1hData/antonProcessed/F2F3/unionIntersections/filt_10e-4_025_0_c/AAA.txt:  113\n",
        "Num proteins in ../data/b1hData/antonProcessed/F2F3/unionIntersections/filt_10e-4_025_0_c/AAC.txt:  937\n",
        "Num proteins in ../data/b1hData/antonProcessed/F2F3/unionIntersections/filt_10e-4_025_0_c/AAG.txt:  701\n",
        "Num proteins in ../data/b1hData/antonProcessed/F2F3/unionIntersections/filt_10e-4_025_0_c/AAT.txt:  226\n",
        "Num proteins in ../data/b1hData/antonProcessed/F2F3/unionIntersections/filt_10e-4_025_0_c/ACA.txt:  505\n",
        "Num proteins in ../data/b1hData/antonProcessed/F2F3/unionIntersections/filt_10e-4_025_0_c/ACC.txt:  224\n",
        "Num proteins in ../data/b1hData/antonProcessed/F2F3/unionIntersections/filt_10e-4_025_0_c/ACG.txt:  961"
       ]
      },
      {
       "output_type": "stream",
       "stream": "stdout",
       "text": [
        "\n",
        "Num proteins in ../data/b1hData/antonProcessed/F2F3/unionIntersections/filt_10e-4_025_0_c/ACT.txt:  1409\n",
        "Num proteins in ../data/b1hData/antonProcessed/F2F3/unionIntersections/filt_10e-4_025_0_c/AGA.txt:  44\n",
        "Num proteins in ../data/b1hData/antonProcessed/F2F3/unionIntersections/filt_10e-4_025_0_c/AGC.txt:  444\n",
        "Num proteins in ../data/b1hData/antonProcessed/F2F3/unionIntersections/filt_10e-4_025_0_c/AGG.txt:  543\n",
        "Num proteins in ../data/b1hData/antonProcessed/F2F3/unionIntersections/filt_10e-4_025_0_c/AGT.txt:  1431\n",
        "Num proteins in ../data/b1hData/antonProcessed/F2F3/unionIntersections/filt_10e-4_025_0_c/ATA.txt:  28\n",
        "Num proteins in ../data/b1hData/antonProcessed/F2F3/unionIntersections/filt_10e-4_025_0_c/ATC.txt:  838"
       ]
      },
      {
       "output_type": "stream",
       "stream": "stdout",
       "text": [
        "\n",
        "Num proteins in ../data/b1hData/antonProcessed/F2F3/unionIntersections/filt_10e-4_025_0_c/ATG.txt:  206\n",
        "Num proteins in ../data/b1hData/antonProcessed/F2F3/unionIntersections/filt_10e-4_025_0_c/ATT.txt:  519\n",
        "Num proteins in ../data/b1hData/antonProcessed/F2F3/unionIntersections/filt_10e-4_025_0_c/CAA.txt:  48\n",
        "Num proteins in ../data/b1hData/antonProcessed/F2F3/unionIntersections/filt_10e-4_025_0_c/CAC.txt:  401\n",
        "Num proteins in ../data/b1hData/antonProcessed/F2F3/unionIntersections/filt_10e-4_025_0_c/CAG.txt:  790\n",
        "Num proteins in ../data/b1hData/antonProcessed/F2F3/unionIntersections/filt_10e-4_025_0_c/CAT.txt:  541"
       ]
      },
      {
       "output_type": "stream",
       "stream": "stdout",
       "text": [
        "\n",
        "Num proteins in ../data/b1hData/antonProcessed/F2F3/unionIntersections/filt_10e-4_025_0_c/CCA.txt:  50\n",
        "Num proteins in ../data/b1hData/antonProcessed/F2F3/unionIntersections/filt_10e-4_025_0_c/CCC.txt:  156\n",
        "Num proteins in ../data/b1hData/antonProcessed/F2F3/unionIntersections/filt_10e-4_025_0_c/CCG.txt:  302\n",
        "Num proteins in ../data/b1hData/antonProcessed/F2F3/unionIntersections/filt_10e-4_025_0_c/CCT.txt:  159\n",
        "Num proteins in ../data/b1hData/antonProcessed/F2F3/unionIntersections/filt_10e-4_025_0_c/CGA.txt:  21\n",
        "Num proteins in ../data/b1hData/antonProcessed/F2F3/unionIntersections/filt_10e-4_025_0_c/CGC.txt:  424\n",
        "Num proteins in ../data/b1hData/antonProcessed/F2F3/unionIntersections/filt_10e-4_025_0_c/CGG.txt:  958\n",
        "Num proteins in ../data/b1hData/antonProcessed/F2F3/unionIntersections/filt_10e-4_025_0_c/CGT.txt:  787\n",
        "Num proteins in ../data/b1hData/antonProcessed/F2F3/unionIntersections/filt_10e-4_025_0_c/CTA.txt:  36\n",
        "Num proteins in ../data/b1hData/antonProcessed/F2F3/unionIntersections/filt_10e-4_025_0_c/CTC.txt:  77\n",
        "Num proteins in ../data/b1hData/antonProcessed/F2F3/unionIntersections/filt_10e-4_025_0_c/CTG.txt:  34\n",
        "Num proteins in ../data/b1hData/antonProcessed/F2F3/unionIntersections/filt_10e-4_025_0_c/CTT.txt:  132\n",
        "Num proteins in ../data/b1hData/antonProcessed/F2F3/unionIntersections/filt_10e-4_025_0_c/GAA.txt:  299\n",
        "Num proteins in ../data/b1hData/antonProcessed/F2F3/unionIntersections/filt_10e-4_025_0_c/GAC.txt:  839"
       ]
      },
      {
       "output_type": "stream",
       "stream": "stdout",
       "text": [
        "\n",
        "Num proteins in ../data/b1hData/antonProcessed/F2F3/unionIntersections/filt_10e-4_025_0_c/GAG.txt:  1221\n",
        "Num proteins in ../data/b1hData/antonProcessed/F2F3/unionIntersections/filt_10e-4_025_0_c/GAT.txt:  574\n",
        "Num proteins in ../data/b1hData/antonProcessed/F2F3/unionIntersections/filt_10e-4_025_0_c/GCA.txt:  131\n",
        "Num proteins in ../data/b1hData/antonProcessed/F2F3/unionIntersections/filt_10e-4_025_0_c/GCC.txt:  279\n",
        "Num proteins in ../data/b1hData/antonProcessed/F2F3/unionIntersections/filt_10e-4_025_0_c/GCG.txt:  707\n",
        "Num proteins in ../data/b1hData/antonProcessed/F2F3/unionIntersections/filt_10e-4_025_0_c/GCT.txt:  1151\n",
        "Num proteins in ../data/b1hData/antonProcessed/F2F3/unionIntersections/filt_10e-4_025_0_c/GGA.txt:  177"
       ]
      },
      {
       "output_type": "stream",
       "stream": "stdout",
       "text": [
        "\n",
        "Num proteins in ../data/b1hData/antonProcessed/F2F3/unionIntersections/filt_10e-4_025_0_c/GGC.txt:  157\n",
        "Num proteins in ../data/b1hData/antonProcessed/F2F3/unionIntersections/filt_10e-4_025_0_c/GGG.txt:  1149\n",
        "Num proteins in ../data/b1hData/antonProcessed/F2F3/unionIntersections/filt_10e-4_025_0_c/GGT.txt:  899\n",
        "Num proteins in ../data/b1hData/antonProcessed/F2F3/unionIntersections/filt_10e-4_025_0_c/GTA.txt:  314\n",
        "Num proteins in ../data/b1hData/antonProcessed/F2F3/unionIntersections/filt_10e-4_025_0_c/GTC.txt:  581\n",
        "Num proteins in ../data/b1hData/antonProcessed/F2F3/unionIntersections/filt_10e-4_025_0_c/GTG.txt:  1209"
       ]
      },
      {
       "output_type": "stream",
       "stream": "stdout",
       "text": [
        "\n",
        "Num proteins in ../data/b1hData/antonProcessed/F2F3/unionIntersections/filt_10e-4_025_0_c/GTT.txt:  1040\n",
        "Num proteins in ../data/b1hData/antonProcessed/F2F3/unionIntersections/filt_10e-4_025_0_c/TAA.txt:  33\n",
        "Num proteins in ../data/b1hData/antonProcessed/F2F3/unionIntersections/filt_10e-4_025_0_c/TAC.txt:  122\n",
        "Num proteins in ../data/b1hData/antonProcessed/F2F3/unionIntersections/filt_10e-4_025_0_c/TAG.txt:  192\n",
        "Num proteins in ../data/b1hData/antonProcessed/F2F3/unionIntersections/filt_10e-4_025_0_c/TAT.txt:  497\n",
        "Num proteins in ../data/b1hData/antonProcessed/F2F3/unionIntersections/filt_10e-4_025_0_c/TCA.txt:  2\n",
        "Num proteins in ../data/b1hData/antonProcessed/F2F3/unionIntersections/filt_10e-4_025_0_c/TCC.txt:  355\n",
        "Num proteins in ../data/b1hData/antonProcessed/F2F3/unionIntersections/filt_10e-4_025_0_c/TCG.txt:  84\n",
        "Num proteins in ../data/b1hData/antonProcessed/F2F3/unionIntersections/filt_10e-4_025_0_c/TCT.txt:  175\n",
        "Num proteins in ../data/b1hData/antonProcessed/F2F3/unionIntersections/filt_10e-4_025_0_c/TGA.txt:  479\n",
        "Num proteins in ../data/b1hData/antonProcessed/F2F3/unionIntersections/filt_10e-4_025_0_c/TGC.txt:  221\n",
        "Num proteins in ../data/b1hData/antonProcessed/F2F3/unionIntersections/filt_10e-4_025_0_c/TGG.txt:  942"
       ]
      },
      {
       "output_type": "stream",
       "stream": "stdout",
       "text": [
        "\n",
        "Num proteins in ../data/b1hData/antonProcessed/F2F3/unionIntersections/filt_10e-4_025_0_c/TGT.txt:  2016\n",
        "Num proteins in ../data/b1hData/antonProcessed/F2F3/unionIntersections/filt_10e-4_025_0_c/TTA.txt:  5\n",
        "Num proteins in ../data/b1hData/antonProcessed/F2F3/unionIntersections/filt_10e-4_025_0_c/TTC.txt:  42\n",
        "Num proteins in ../data/b1hData/antonProcessed/F2F3/unionIntersections/filt_10e-4_025_0_c/TTG.txt:  196\n",
        "Num proteins in ../data/b1hData/antonProcessed/F2F3/unionIntersections/filt_10e-4_025_0_c/TTT.txt:  102\n",
        "Total num protein/dna observations in all files:  30235\n",
        "Total num unique proteins in all files:  23661\n",
        "\n",
        "Num obs processed in csv to txt conversion:  30235"
       ]
      },
      {
       "output_type": "stream",
       "stream": "stdout",
       "text": [
        "\n",
        "\n",
        "Here\n",
        "Num proteins in ../data/b1hData/antonProcessed/F2F3/intersectUnions/filt_10e-4_025_0_c/AAA.txt:  8\n",
        "Num proteins in ../data/b1hData/antonProcessed/F2F3/intersectUnions/filt_10e-4_025_0_c/AAC.txt:  156\n",
        "Num proteins in ../data/b1hData/antonProcessed/F2F3/intersectUnions/filt_10e-4_025_0_c/AAG.txt:  242\n",
        "Num proteins in ../data/b1hData/antonProcessed/F2F3/intersectUnions/filt_10e-4_025_0_c/AAT.txt:  115\n",
        "Num proteins in ../data/b1hData/antonProcessed/F2F3/intersectUnions/filt_10e-4_025_0_c/ACA.txt:  56\n",
        "Num proteins in ../data/b1hData/antonProcessed/F2F3/intersectUnions/filt_10e-4_025_0_c/ACC.txt:  5\n",
        "Num proteins in ../data/b1hData/antonProcessed/F2F3/intersectUnions/filt_10e-4_025_0_c/ACG.txt:  44\n",
        "Num proteins in ../data/b1hData/antonProcessed/F2F3/intersectUnions/filt_10e-4_025_0_c/ACT.txt:  61\n",
        "Num proteins in ../data/b1hData/antonProcessed/F2F3/intersectUnions/filt_10e-4_025_0_c/AGA.txt:  1\n",
        "Num proteins in ../data/b1hData/antonProcessed/F2F3/intersectUnions/filt_10e-4_025_0_c/AGC.txt:  14\n",
        "Num proteins in ../data/b1hData/antonProcessed/F2F3/intersectUnions/filt_10e-4_025_0_c/AGG.txt:  205\n",
        "Num proteins in ../data/b1hData/antonProcessed/F2F3/intersectUnions/filt_10e-4_025_0_c/AGT.txt:  94\n",
        "Num proteins in ../data/b1hData/antonProcessed/F2F3/intersectUnions/filt_10e-4_025_0_c/ATA.txt:  24\n",
        "Num proteins in ../data/b1hData/antonProcessed/F2F3/intersectUnions/filt_10e-4_025_0_c/ATC.txt:  334\n",
        "Num proteins in ../data/b1hData/antonProcessed/F2F3/intersectUnions/filt_10e-4_025_0_c/ATG.txt:  26\n",
        "Num proteins in ../data/b1hData/antonProcessed/F2F3/intersectUnions/filt_10e-4_025_0_c/ATT.txt:  215\n",
        "Num proteins in ../data/b1hData/antonProcessed/F2F3/intersectUnions/filt_10e-4_025_0_c/CAA.txt:  26\n",
        "Num proteins in ../data/b1hData/antonProcessed/F2F3/intersectUnions/filt_10e-4_025_0_c/CAC.txt:  111\n",
        "Num proteins in ../data/b1hData/antonProcessed/F2F3/intersectUnions/filt_10e-4_025_0_c/CAG.txt:  75\n",
        "Num proteins in ../data/b1hData/antonProcessed/F2F3/intersectUnions/filt_10e-4_025_0_c/CAT.txt:  423\n",
        "Num proteins in ../data/b1hData/antonProcessed/F2F3/intersectUnions/filt_10e-4_025_0_c/CCA.txt:  5\n",
        "Num proteins in ../data/b1hData/antonProcessed/F2F3/intersectUnions/filt_10e-4_025_0_c/CCC.txt:  20\n",
        "Num proteins in ../data/b1hData/antonProcessed/F2F3/intersectUnions/filt_10e-4_025_0_c/CCG.txt:  100\n",
        "Num proteins in ../data/b1hData/antonProcessed/F2F3/intersectUnions/filt_10e-4_025_0_c/CCT.txt:  119\n",
        "Num proteins in ../data/b1hData/antonProcessed/F2F3/intersectUnions/filt_10e-4_025_0_c/CGA.txt:  7\n",
        "Num proteins in ../data/b1hData/antonProcessed/F2F3/intersectUnions/filt_10e-4_025_0_c/CGC.txt:  8\n",
        "Num proteins in ../data/b1hData/antonProcessed/F2F3/intersectUnions/filt_10e-4_025_0_c/CGG.txt:  240\n",
        "Num proteins in ../data/b1hData/antonProcessed/F2F3/intersectUnions/filt_10e-4_025_0_c/CGT.txt:  59\n",
        "Num proteins in ../data/b1hData/antonProcessed/F2F3/intersectUnions/filt_10e-4_025_0_c/CTA.txt:  2\n",
        "Num proteins in ../data/b1hData/antonProcessed/F2F3/intersectUnions/filt_10e-4_025_0_c/CTC.txt:  56\n",
        "Num proteins in ../data/b1hData/antonProcessed/F2F3/intersectUnions/filt_10e-4_025_0_c/CTG.txt:  20\n",
        "Num proteins in ../data/b1hData/antonProcessed/F2F3/intersectUnions/filt_10e-4_025_0_c/CTT.txt:  16\n",
        "Num proteins in ../data/b1hData/antonProcessed/F2F3/intersectUnions/filt_10e-4_025_0_c/GAA.txt:  237\n",
        "Num proteins in ../data/b1hData/antonProcessed/F2F3/intersectUnions/filt_10e-4_025_0_c/GAC.txt:  531\n",
        "Num proteins in ../data/b1hData/antonProcessed/F2F3/intersectUnions/filt_10e-4_025_0_c/GAG.txt:  271\n",
        "Num proteins in ../data/b1hData/antonProcessed/F2F3/intersectUnions/filt_10e-4_025_0_c/GAT.txt:  531\n",
        "Num proteins in ../data/b1hData/antonProcessed/F2F3/intersectUnions/filt_10e-4_025_0_c/GCA.txt:  138\n",
        "Num proteins in ../data/b1hData/antonProcessed/F2F3/intersectUnions/filt_10e-4_025_0_c/GCC.txt:  44\n",
        "Num proteins in ../data/b1hData/antonProcessed/F2F3/intersectUnions/filt_10e-4_025_0_c/GCG.txt:  127\n",
        "Num proteins in ../data/b1hData/antonProcessed/F2F3/intersectUnions/filt_10e-4_025_0_c/GCT.txt:  307"
       ]
      },
      {
       "output_type": "stream",
       "stream": "stdout",
       "text": [
        "\n",
        "Num proteins in ../data/b1hData/antonProcessed/F2F3/intersectUnions/filt_10e-4_025_0_c/GGA.txt:  19\n",
        "Num proteins in ../data/b1hData/antonProcessed/F2F3/intersectUnions/filt_10e-4_025_0_c/GGC.txt:  6\n",
        "Num proteins in ../data/b1hData/antonProcessed/F2F3/intersectUnions/filt_10e-4_025_0_c/GGG.txt:  195\n",
        "Num proteins in ../data/b1hData/antonProcessed/F2F3/intersectUnions/filt_10e-4_025_0_c/GGT.txt:  175\n",
        "Num proteins in ../data/b1hData/antonProcessed/F2F3/intersectUnions/filt_10e-4_025_0_c/GTA.txt:  3\n",
        "Num proteins in ../data/b1hData/antonProcessed/F2F3/intersectUnions/filt_10e-4_025_0_c/GTC.txt:  185\n",
        "Num proteins in ../data/b1hData/antonProcessed/F2F3/intersectUnions/filt_10e-4_025_0_c/GTG.txt:  208\n",
        "Num proteins in ../data/b1hData/antonProcessed/F2F3/intersectUnions/filt_10e-4_025_0_c/GTT.txt:  495\n",
        "Num proteins in ../data/b1hData/antonProcessed/F2F3/intersectUnions/filt_10e-4_025_0_c/TAA.txt:  0\n",
        "Num proteins in ../data/b1hData/antonProcessed/F2F3/intersectUnions/filt_10e-4_025_0_c/TAC.txt:  101\n",
        "Num proteins in ../data/b1hData/antonProcessed/F2F3/intersectUnions/filt_10e-4_025_0_c/TAG.txt:  68\n",
        "Num proteins in ../data/b1hData/antonProcessed/F2F3/intersectUnions/filt_10e-4_025_0_c/TAT.txt:  409\n",
        "Num proteins in ../data/b1hData/antonProcessed/F2F3/intersectUnions/filt_10e-4_025_0_c/TCA.txt:  0\n",
        "Num proteins in ../data/b1hData/antonProcessed/F2F3/intersectUnions/filt_10e-4_025_0_c/TCC.txt:  7\n",
        "Num proteins in ../data/b1hData/antonProcessed/F2F3/intersectUnions/filt_10e-4_025_0_c/TCG.txt:  143\n",
        "Num proteins in ../data/b1hData/antonProcessed/F2F3/intersectUnions/filt_10e-4_025_0_c/TCT.txt:  117\n",
        "Num proteins in ../data/b1hData/antonProcessed/F2F3/intersectUnions/filt_10e-4_025_0_c/TGA.txt:  65\n",
        "Num proteins in ../data/b1hData/antonProcessed/F2F3/intersectUnions/filt_10e-4_025_0_c/TGC.txt:  66\n",
        "Num proteins in ../data/b1hData/antonProcessed/F2F3/intersectUnions/filt_10e-4_025_0_c/TGG.txt:  190\n",
        "Num proteins in ../data/b1hData/antonProcessed/F2F3/intersectUnions/filt_10e-4_025_0_c/TGT.txt:  1418"
       ]
      },
      {
       "output_type": "stream",
       "stream": "stdout",
       "text": [
        "\n",
        "Num proteins in ../data/b1hData/antonProcessed/F2F3/intersectUnions/filt_10e-4_025_0_c/TTA.txt:  5\n",
        "Num proteins in ../data/b1hData/antonProcessed/F2F3/intersectUnions/filt_10e-4_025_0_c/TTC.txt:  37\n",
        "Num proteins in ../data/b1hData/antonProcessed/F2F3/intersectUnions/filt_10e-4_025_0_c/TTG.txt:  162\n",
        "Num proteins in ../data/b1hData/antonProcessed/F2F3/intersectUnions/filt_10e-4_025_0_c/TTT.txt:  43\n",
        "Total num protein/dna observations in all files:  9190\n",
        "Total num unique proteins in all files:  8029\n",
        "\n",
        "Num obs processed in csv to txt conversion:  9190"
       ]
      },
      {
       "output_type": "stream",
       "stream": "stdout",
       "text": [
        "\n",
        "\n",
        "Here\n",
        "Num proteins in ../data/b1hData/antonProcessed/F2F3/intersectIntersections/filt_10e-4_025_0_c/AAA.txt:  0\n",
        "Num proteins in ../data/b1hData/antonProcessed/F2F3/intersectIntersections/filt_10e-4_025_0_c/AAC.txt:  21\n",
        "Num proteins in ../data/b1hData/antonProcessed/F2F3/intersectIntersections/filt_10e-4_025_0_c/AAG.txt:  1\n",
        "Num proteins in ../data/b1hData/antonProcessed/F2F3/intersectIntersections/filt_10e-4_025_0_c/AAT.txt:  7\n",
        "Num proteins in ../data/b1hData/antonProcessed/F2F3/intersectIntersections/filt_10e-4_025_0_c/ACA.txt:  0\n",
        "Num proteins in ../data/b1hData/antonProcessed/F2F3/intersectIntersections/filt_10e-4_025_0_c/ACC.txt:  1\n",
        "Num proteins in ../data/b1hData/antonProcessed/F2F3/intersectIntersections/filt_10e-4_025_0_c/ACG.txt:  0\n",
        "Num proteins in ../data/b1hData/antonProcessed/F2F3/intersectIntersections/filt_10e-4_025_0_c/ACT.txt:  6\n",
        "Num proteins in ../data/b1hData/antonProcessed/F2F3/intersectIntersections/filt_10e-4_025_0_c/AGA.txt:  0\n",
        "Num proteins in ../data/b1hData/antonProcessed/F2F3/intersectIntersections/filt_10e-4_025_0_c/AGC.txt:  0\n",
        "Num proteins in ../data/b1hData/antonProcessed/F2F3/intersectIntersections/filt_10e-4_025_0_c/AGG.txt:  0\n",
        "Num proteins in ../data/b1hData/antonProcessed/F2F3/intersectIntersections/filt_10e-4_025_0_c/AGT.txt:  6\n",
        "Num proteins in ../data/b1hData/antonProcessed/F2F3/intersectIntersections/filt_10e-4_025_0_c/ATA.txt:  0\n",
        "Num proteins in ../data/b1hData/antonProcessed/F2F3/intersectIntersections/filt_10e-4_025_0_c/ATC.txt:  103\n",
        "Num proteins in ../data/b1hData/antonProcessed/F2F3/intersectIntersections/filt_10e-4_025_0_c/ATG.txt:  0\n",
        "Num proteins in ../data/b1hData/antonProcessed/F2F3/intersectIntersections/filt_10e-4_025_0_c/ATT.txt:  41\n",
        "Num proteins in ../data/b1hData/antonProcessed/F2F3/intersectIntersections/filt_10e-4_025_0_c/CAA.txt:  0\n",
        "Num proteins in ../data/b1hData/antonProcessed/F2F3/intersectIntersections/filt_10e-4_025_0_c/CAC.txt:  8\n",
        "Num proteins in ../data/b1hData/antonProcessed/F2F3/intersectIntersections/filt_10e-4_025_0_c/CAG.txt:  0\n",
        "Num proteins in ../data/b1hData/antonProcessed/F2F3/intersectIntersections/filt_10e-4_025_0_c/CAT.txt:  101\n",
        "Num proteins in ../data/b1hData/antonProcessed/F2F3/intersectIntersections/filt_10e-4_025_0_c/CCA.txt:  0\n",
        "Num proteins in ../data/b1hData/antonProcessed/F2F3/intersectIntersections/filt_10e-4_025_0_c/CCC.txt:  0\n",
        "Num proteins in ../data/b1hData/antonProcessed/F2F3/intersectIntersections/filt_10e-4_025_0_c/CCG.txt:  2\n",
        "Num proteins in ../data/b1hData/antonProcessed/F2F3/intersectIntersections/filt_10e-4_025_0_c/CCT.txt:  4\n",
        "Num proteins in ../data/b1hData/antonProcessed/F2F3/intersectIntersections/filt_10e-4_025_0_c/CGA.txt:  0\n",
        "Num proteins in ../data/b1hData/antonProcessed/F2F3/intersectIntersections/filt_10e-4_025_0_c/CGC.txt:  1\n",
        "Num proteins in ../data/b1hData/antonProcessed/F2F3/intersectIntersections/filt_10e-4_025_0_c/CGG.txt:  5\n",
        "Num proteins in ../data/b1hData/antonProcessed/F2F3/intersectIntersections/filt_10e-4_025_0_c/CGT.txt:  0\n",
        "Num proteins in ../data/b1hData/antonProcessed/F2F3/intersectIntersections/filt_10e-4_025_0_c/CTA.txt:  0\n",
        "Num proteins in ../data/b1hData/antonProcessed/F2F3/intersectIntersections/filt_10e-4_025_0_c/CTC.txt:  6\n",
        "Num proteins in ../data/b1hData/antonProcessed/F2F3/intersectIntersections/filt_10e-4_025_0_c/CTG.txt:  0\n",
        "Num proteins in ../data/b1hData/antonProcessed/F2F3/intersectIntersections/filt_10e-4_025_0_c/CTT.txt:  0\n",
        "Num proteins in ../data/b1hData/antonProcessed/F2F3/intersectIntersections/filt_10e-4_025_0_c/GAA.txt:  5\n",
        "Num proteins in ../data/b1hData/antonProcessed/F2F3/intersectIntersections/filt_10e-4_025_0_c/GAC.txt:  72\n",
        "Num proteins in ../data/b1hData/antonProcessed/F2F3/intersectIntersections/filt_10e-4_025_0_c/GAG.txt:  17\n",
        "Num proteins in ../data/b1hData/antonProcessed/F2F3/intersectIntersections/filt_10e-4_025_0_c/GAT.txt:  25\n",
        "Num proteins in ../data/b1hData/antonProcessed/F2F3/intersectIntersections/filt_10e-4_025_0_c/GCA.txt:  3\n",
        "Num proteins in ../data/b1hData/antonProcessed/F2F3/intersectIntersections/filt_10e-4_025_0_c/GCC.txt:  1\n",
        "Num proteins in ../data/b1hData/antonProcessed/F2F3/intersectIntersections/filt_10e-4_025_0_c/GCG.txt:  8\n",
        "Num proteins in ../data/b1hData/antonProcessed/F2F3/intersectIntersections/filt_10e-4_025_0_c/GCT.txt:  85\n",
        "Num proteins in ../data/b1hData/antonProcessed/F2F3/intersectIntersections/filt_10e-4_025_0_c/GGA.txt:  0\n",
        "Num proteins in ../data/b1hData/antonProcessed/F2F3/intersectIntersections/filt_10e-4_025_0_c/GGC.txt:  0\n",
        "Num proteins in ../data/b1hData/antonProcessed/F2F3/intersectIntersections/filt_10e-4_025_0_c/GGG.txt:  1\n",
        "Num proteins in ../data/b1hData/antonProcessed/F2F3/intersectIntersections/filt_10e-4_025_0_c/GGT.txt:  26\n",
        "Num proteins in ../data/b1hData/antonProcessed/F2F3/intersectIntersections/filt_10e-4_025_0_c/GTA.txt:  0\n",
        "Num proteins in ../data/b1hData/antonProcessed/F2F3/intersectIntersections/filt_10e-4_025_0_c/GTC.txt:  50\n",
        "Num proteins in ../data/b1hData/antonProcessed/F2F3/intersectIntersections/filt_10e-4_025_0_c/GTG.txt:  12\n",
        "Num proteins in ../data/b1hData/antonProcessed/F2F3/intersectIntersections/filt_10e-4_025_0_c/GTT.txt:  90\n",
        "Num proteins in ../data/b1hData/antonProcessed/F2F3/intersectIntersections/filt_10e-4_025_0_c/TAA.txt:  0\n",
        "Num proteins in ../data/b1hData/antonProcessed/F2F3/intersectIntersections/filt_10e-4_025_0_c/TAC.txt:  16\n",
        "Num proteins in ../data/b1hData/antonProcessed/F2F3/intersectIntersections/filt_10e-4_025_0_c/TAG.txt:  0\n",
        "Num proteins in ../data/b1hData/antonProcessed/F2F3/intersectIntersections/filt_10e-4_025_0_c/TAT.txt:  27\n",
        "Num proteins in ../data/b1hData/antonProcessed/F2F3/intersectIntersections/filt_10e-4_025_0_c/TCA.txt:  0\n",
        "Num proteins in ../data/b1hData/antonProcessed/F2F3/intersectIntersections/filt_10e-4_025_0_c/TCC.txt:  0\n",
        "Num proteins in ../data/b1hData/antonProcessed/F2F3/intersectIntersections/filt_10e-4_025_0_c/TCG.txt:  0\n",
        "Num proteins in ../data/b1hData/antonProcessed/F2F3/intersectIntersections/filt_10e-4_025_0_c/TCT.txt:  2\n",
        "Num proteins in ../data/b1hData/antonProcessed/F2F3/intersectIntersections/filt_10e-4_025_0_c/TGA.txt:  5\n",
        "Num proteins in ../data/b1hData/antonProcessed/F2F3/intersectIntersections/filt_10e-4_025_0_c/TGC.txt:  2\n",
        "Num proteins in ../data/b1hData/antonProcessed/F2F3/intersectIntersections/filt_10e-4_025_0_c/TGG.txt:  4\n",
        "Num proteins in ../data/b1hData/antonProcessed/F2F3/intersectIntersections/filt_10e-4_025_0_c/TGT.txt:  405\n",
        "Num proteins in ../data/b1hData/antonProcessed/F2F3/intersectIntersections/filt_10e-4_025_0_c/TTA.txt:  0\n",
        "Num proteins in ../data/b1hData/antonProcessed/F2F3/intersectIntersections/filt_10e-4_025_0_c/TTC.txt:  0\n",
        "Num proteins in ../data/b1hData/antonProcessed/F2F3/intersectIntersections/filt_10e-4_025_0_c/TTG.txt:  1\n",
        "Num proteins in ../data/b1hData/antonProcessed/F2F3/intersectIntersections/filt_10e-4_025_0_c/TTT.txt:  0\n",
        "Total num protein/dna observations in all files:  1170\n",
        "Total num unique proteins in all files:  1102\n",
        "\n",
        "Num obs processed in csv to txt conversion:  1170\n",
        "\n"
       ]
      }
     ],
     "prompt_number": 2
    },
    {
     "cell_type": "code",
     "collapsed": false,
     "input": [],
     "language": "python",
     "metadata": {},
     "outputs": [],
     "prompt_number": 2
    },
    {
     "cell_type": "code",
     "collapsed": false,
     "input": [],
     "language": "python",
     "metadata": {},
     "outputs": [],
     "prompt_number": 2
    }
   ],
   "metadata": {}
  }
 ]
}