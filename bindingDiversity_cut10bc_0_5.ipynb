{
 "metadata": {
  "name": "bindingDiversity_cut10bc_0_5"
 },
 "nbformat": 3,
 "nbformat_minor": 0,
 "worksheets": [
  {
   "cells": [
    {
     "cell_type": "code",
     "collapsed": false,
     "input": [
      "from gatherBindStats import *\n",
      "from itertools import product\n",
      "maxSize6 = 20**6\n",
      "maxSize4 = 20**4"
     ],
     "language": "python",
     "metadata": {},
     "outputs": [],
     "prompt_number": 1
    },
    {
     "cell_type": "code",
     "collapsed": false,
     "input": [
      "# Get the protein sets from the binding data.\n",
      "\n",
      "nucs = ['A', 'C', 'G', 'T']\n",
      "aminos = ['A', 'C', 'D', 'E', 'F', 'G', 'I', 'H', 'K', 'L', \n",
      "\t      'M', 'N', 'P', 'Q', 'R', 'S', 'T', 'V', 'W', 'Y']\n",
      "\n",
      "# Get the set of all possible canonical proteins\n",
      "allProts4 = []\n",
      "for i in product(aminos, aminos, aminos, aminos):\n",
      "    allProts4.append(''.join(i))\n",
      "allProts4 = set(allProts4)\n",
      "\n",
      "# Get the dictionary of binding sets indexed by finger and stringency\n",
      "pathPref = '../data/b1hdata/newDatabase/6varpos'\n",
      "proteinDir = 'protein_seq_cut10bc_0_5'\n",
      "fings = ['F1', 'F2', 'F3']\n",
      "strins = ['high', 'low']\n",
      "bindingSets6 = {}\n",
      "bindingSets4 = {}\n",
      "for f in fings:\n",
      "    for s in strins:\n",
      "        bindingSets6[f,s] = getProtSet('/'.join([pathPref,f,s,proteinDir,'all.txt']), \n",
      "                                       range(6))\n",
      "        bindingSets4[f,s] = getProtSet('/'.join([pathPref,f,s,proteinDir,'all.txt']),\n",
      "                                       [0,2,3,5])"
     ],
     "language": "python",
     "metadata": {},
     "outputs": [],
     "prompt_number": 2
    },
    {
     "cell_type": "heading",
     "level": 2,
     "metadata": {},
     "source": [
      "6 Var Positions"
     ]
    },
    {
     "cell_type": "code",
     "collapsed": false,
     "input": [
      "printBindingSetStats(fings, strins, bindingSets6, maxSize6)"
     ],
     "language": "python",
     "metadata": {},
     "outputs": [
      {
       "output_type": "stream",
       "stream": "stdout",
       "text": [
        "Max Size for 6 positions: 64000000\n",
        "################################################################\n",
        "Size of F1 high: 25911\n",
        "Size of F1 low: 48976\n",
        "Size of F2 high: 20866\n",
        "Size of F2 low: 76884\n",
        "Size of F3 high: 36960\n",
        "Size of F3 low: 98335\n",
        "\n",
        "Is high a subset of low? (|High - Low|/|High|)\n",
        "################################################################\n",
        "F1: 0.680\n",
        "F2: 0.142\n",
        "F3: 0.486\n",
        "\n",
        "Combining Fingers\n",
        "################################################################\n",
        "F1 F2 Intersection (high): 1098"
       ]
      },
      {
       "output_type": "stream",
       "stream": "stdout",
       "text": [
        "\n",
        "F1 F2 Union (high)       : 45679\n",
        "F1 F2 Jaccard (high)     : 0.024\n",
        "\n",
        "F1 F2 Intersection (low): 4137\n",
        "F1 F2 Union (low)       : 121723\n",
        "F1 F2 Jaccard (low)     : 0.034\n",
        "\n",
        "F1 F3 Intersection (high): 304"
       ]
      },
      {
       "output_type": "stream",
       "stream": "stdout",
       "text": [
        "\n",
        "F1 F3 Union (high)       : 62567\n",
        "F1 F3 Jaccard (high)     : 0.005\n",
        "\n",
        "F1 F3 Intersection (low): 1635"
       ]
      },
      {
       "output_type": "stream",
       "stream": "stdout",
       "text": [
        "\n",
        "F1 F3 Union (low)       : 145676\n",
        "F1 F3 Jaccard (low)     : 0.011\n",
        "\n",
        "F2 F3 Intersection (high): 3133\n",
        "F2 F3 Union (high)       : 54693\n",
        "F2 F3 Jaccard (high)     : 0.057\n",
        "\n",
        "F2 F3 Intersection (low): 12544"
       ]
      },
      {
       "output_type": "stream",
       "stream": "stdout",
       "text": [
        "\n",
        "F2 F3 Union (low)       : 162675\n",
        "F2 F3 Jaccard (low)     : 0.077\n",
        "\n",
        "All Intersection (high): 100"
       ]
      },
      {
       "output_type": "stream",
       "stream": "stdout",
       "text": [
        "\n",
        "All Union (high): 79302\n",
        "All Intersection (low): 754"
       ]
      },
      {
       "output_type": "stream",
       "stream": "stdout",
       "text": [
        "\n",
        "All Union (low): 206633\n",
        "\n",
        "Combining Stringencies\n",
        "################################################################\n",
        "All of F1 Intersection: 8296\n",
        "All of F1 Union       : 66591\n",
        "All of F2 Intersection: 17903"
       ]
      },
      {
       "output_type": "stream",
       "stream": "stdout",
       "text": [
        "\n",
        "All of F2 Union       : 79847\n",
        "All of F3 Intersection: 19015\n",
        "All of F3 Union       : 116280\n",
        "\n",
        "Unioning the intersections\n",
        "All of F1 and F2: 25236\n",
        "All of F1 and F3: 27133\n",
        "All of F2 and F3: 34333\n",
        "All of F1 F2 F3 : 41558"
       ]
      },
      {
       "output_type": "stream",
       "stream": "stdout",
       "text": [
        "\n",
        "\n",
        "Intersecting the unions\n",
        "All of F1 and F2: 4513\n",
        "All of F1 and F3: 2039\n",
        "All of F2 and F3: 13933\n",
        "All of F1 F2 F3 : 897"
       ]
      },
      {
       "output_type": "stream",
       "stream": "stdout",
       "text": [
        "\n",
        "\n",
        "Unioning the unions\n",
        "All of F1 and F2: 141925\n",
        "All of F1 and F3: 180832"
       ]
      },
      {
       "output_type": "stream",
       "stream": "stdout",
       "text": [
        "\n",
        "All of F2 and F3: 182194\n",
        "All of F1 F2 F3 : 243130"
       ]
      },
      {
       "output_type": "stream",
       "stream": "stdout",
       "text": [
        "\n"
       ]
      }
     ],
     "prompt_number": 3
    },
    {
     "cell_type": "heading",
     "level": 2,
     "metadata": {},
     "source": [
      "4 Var Pos (-1, 2, 3, 6) -- Canonical"
     ]
    },
    {
     "cell_type": "code",
     "collapsed": false,
     "input": [
      "bothStrinsUnion = printBindingSetStats(fings, strins, bindingSets4, maxSize4, allProts4)"
     ],
     "language": "python",
     "metadata": {},
     "outputs": [
      {
       "output_type": "stream",
       "stream": "stdout",
       "text": [
        "Max Size for 4 positions: 160000\n",
        "################################################################\n",
        "Size of F1 high: 13347\n",
        "Size of F1 low: 19058\n",
        "Size of F2 high: 2709\n",
        "Size of F2 low: 12676\n",
        "Size of F3 high: 7992\n",
        "Size of F3 low: 18596\n",
        "\n",
        "Is high a subset of low? (|High - Low|/|High|)\n",
        "################################################################\n",
        "F1: 0.501\n",
        "F2: 0.257\n",
        "F3: 0.287\n",
        "\n",
        "Combining Fingers\n",
        "################################################################\n",
        "F1 F2 Intersection (high): 898\n",
        "F1 F2 Union (high)       : 15158\n",
        "F1 F2 Jaccard (high)     : 0.059\n",
        "\n",
        "F1 F2 Intersection (low): 5671\n",
        "F1 F2 Union (low)       : 26063\n",
        "F1 F2 Jaccard (low)     : 0.218\n",
        "\n",
        "F1 F3 Intersection (high): 2111\n",
        "F1 F3 Union (high)       : 19228\n",
        "F1 F3 Jaccard (high)     : 0.110\n",
        "\n",
        "F1 F3 Intersection (low): 6709\n",
        "F1 F3 Union (low)       : 30945\n",
        "F1 F3 Jaccard (low)     : 0.217\n",
        "\n",
        "F2 F3 Intersection (high): 847\n",
        "F2 F3 Union (high)       : 9854\n",
        "F2 F3 Jaccard (high)     : 0.086\n",
        "\n",
        "F2 F3 Intersection (low): 5415\n",
        "F2 F3 Union (low)       : 25857\n",
        "F2 F3 Jaccard (low)     : 0.209\n",
        "\n",
        "All Intersection (high): 362"
       ]
      },
      {
       "output_type": "stream",
       "stream": "stdout",
       "text": [
        "\n",
        "All Union (high): 20554\n",
        "All Intersection (low): 3089\n",
        "All Union (low): 35624\n",
        "\n",
        "Combining Stringencies\n",
        "################################################################\n",
        "All of F1 Intersection: 6659\n",
        "All of F1 Union       : 25746\n",
        "All of F2 Intersection: 2014\n",
        "All of F2 Union       : 13371\n",
        "All of F3 Intersection: 5701"
       ]
      },
      {
       "output_type": "stream",
       "stream": "stdout",
       "text": [
        "\n",
        "All of F3 Union       : 20887\n",
        "\n",
        "Unioning the intersections\n",
        "All of F1 and F2: 8004\n",
        "All of F1 and F3: 11050\n",
        "All of F2 and F3: 6974\n",
        "All of F1 F2 F3 : 11947\n",
        "\n",
        "Intersecting the unions\n",
        "All of F1 and F2: 6949\n",
        "All of F1 and F3: 8878\n",
        "All of F2 and F3: 5903\n",
        "All of F1 F2 F3 : 3784\n",
        "\n",
        "Unioning the unions\n",
        "All of F1 and F2: 32168\n",
        "All of F1 and F3: 37755"
       ]
      },
      {
       "output_type": "stream",
       "stream": "stdout",
       "text": [
        "\n",
        "All of F2 and F3: 28355\n",
        "All of F1 F2 F3 : 42058\n",
        "\n",
        "How helpful are nearest neighbors for coverage? (-1, 3, 6)\n",
        "################################################################\n",
        "Missing from F1 (high)  : 146653"
       ]
      },
      {
       "output_type": "stream",
       "stream": "stdout",
       "text": [
        "\n",
        "Have neighbors F1 (high): 114030\n",
        "Total coverage F1 high (including neighbors): 127377\n",
        "Missing from F1 (low)  : 140942"
       ]
      },
      {
       "output_type": "stream",
       "stream": "stdout",
       "text": [
        "\n",
        "Have neighbors F1 (low): 116018\n",
        "Total coverage F1 low (including neighbors): 135076\n",
        "Missing from F2 (high)  : 157291"
       ]
      },
      {
       "output_type": "stream",
       "stream": "stdout",
       "text": [
        "\n",
        "Have neighbors F2 (high): 58241\n",
        "Total coverage F2 high (including neighbors): 60950\n",
        "Missing from F2 (low)  : 147324"
       ]
      },
      {
       "output_type": "stream",
       "stream": "stdout",
       "text": [
        "\n",
        "Have neighbors F2 (low): 107150\n",
        "Total coverage F2 low (including neighbors): 119826\n",
        "Missing from F3 (high)  : 152008"
       ]
      },
      {
       "output_type": "stream",
       "stream": "stdout",
       "text": [
        "\n",
        "Have neighbors F3 (high): 92304\n",
        "Total coverage F3 high (including neighbors): 100296\n",
        "Missing from F3 (low)  : 141404"
       ]
      },
      {
       "output_type": "stream",
       "stream": "stdout",
       "text": [
        "\n",
        "Have neighbors F3 (low): 110824\n",
        "Total coverage F3 low (including neighbors): 129420\n",
        "\n",
        "UNIONING HIGH AND LOW STRINGENCIES\n",
        "Missing from F1: 134254"
       ]
      },
      {
       "output_type": "stream",
       "stream": "stdout",
       "text": [
        "\n",
        "Have neighbors F1: 119237\n",
        "Total coverage F1 (including neighbors): 144983\n",
        "Missing from F2: 146629"
       ]
      },
      {
       "output_type": "stream",
       "stream": "stdout",
       "text": [
        "\n",
        "Have neighbors F2: 110351\n",
        "Total coverage F2 (including neighbors): 123722\n",
        "Missing from F3: 139113"
       ]
      },
      {
       "output_type": "stream",
       "stream": "stdout",
       "text": [
        "\n",
        "Have neighbors F3: 115667\n",
        "Total coverage F3 (including neighbors): 136554\n"
       ]
      }
     ],
     "prompt_number": 4
    },
    {
     "cell_type": "heading",
     "level": 2,
     "metadata": {},
     "source": [
      "Overlap with Human and Fly ZFs (ala HMMer + REGEX) -- Canonical Positions"
     ]
    },
    {
     "cell_type": "code",
     "collapsed": false,
     "input": [
      "dmelSet = getUniqueShilpaZFs('../data/shilpa/Drosophila_melanogaster_ZF.fulldom', [0, 2, 3, 6])\n",
      "hsapSet = getUniqueShilpaZFs('../data/shilpa/Homo_sapiens_ZF.fulldom', [0, 2, 3, 6])\n",
      "\n",
      "compareToNatural(bindingSets4, hsapSet, 'Human', fings, strins, bothStrinsUnion)\n",
      "compareToNatural(bindingSets4, dmelSet, 'Fly', fings, strins, bothStrinsUnion)"
     ],
     "language": "python",
     "metadata": {},
     "outputs": [
      {
       "output_type": "stream",
       "stream": "stdout",
       "text": [
        "\n",
        "Fraction of Human ZFs (-1,2,3,6) Captured: (3640 possible)\n",
        "################################################################\n",
        "F1 high: 0.238\n",
        "F1 low: 0.332\n",
        "F2 high: 0.091\n",
        "F2 low: 0.298\n",
        "F3 high: 0.226\n",
        "F3 low: 0.423\n",
        "\n",
        "F1 F2 Intersection (high): 0.048\n",
        "F1 F2 Union (high)       : 0.282\n",
        "F1 F2 Intersection (low): 0.176\n",
        "F1 F2 Union (low)       : 0.454\n",
        "F1 F3 Intersection (high): 0.106\n",
        "F1 F3 Union (high)       : 0.358\n",
        "F1 F3 Intersection (low): 0.218\n",
        "F1 F3 Union (low)       : 0.537\n",
        "F2 F3 Intersection (high): 0.054\n",
        "F2 F3 Union (high)       : 0.263\n",
        "F2 F3 Intersection (low): 0.212\n",
        "F2 F3 Union (low)       : 0.509\n",
        "\n",
        "All Intersection (high): 0.031"
       ]
      },
      {
       "output_type": "stream",
       "stream": "stdout",
       "text": [
        "\n",
        "All Union (high): 0.379\n",
        "All Intersection (low): 0.136\n",
        "All Union (low): 0.583\n",
        "\n",
        "UNIONING HIGH AND LOW STRINGENCIES:\n",
        "All of F1: 0.395\n",
        "All of F2: 0.304\n",
        "All of F3: 0.449\n",
        "All of F1 and F2: 0.496\n",
        "All of F1 and F3: 0.577"
       ]
      },
      {
       "output_type": "stream",
       "stream": "stdout",
       "text": [
        "\n",
        "All of F2 and F3: 0.529\n",
        "All of F1, F2, and F3: 0.614\n",
        "\n",
        "Fraction of Fly ZFs (-1,2,3,6) Captured: (1595 possible)\n",
        "################################################################\n",
        "F1 high: 0.195\n",
        "F1 low: 0.305\n",
        "F2 high: 0.083\n",
        "F2 low: 0.262\n",
        "F3 high: 0.197\n",
        "F3 low: 0.388\n",
        "\n",
        "F1 F2 Intersection (high): 0.047\n",
        "F1 F2 Union (high)       : 0.231\n",
        "F1 F2 Intersection (low): 0.160\n",
        "F1 F2 Union (low)       : 0.408\n",
        "F1 F3 Intersection (high): 0.088\n",
        "F1 F3 Union (high)       : 0.305\n",
        "F1 F3 Intersection (low): 0.202"
       ]
      },
      {
       "output_type": "stream",
       "stream": "stdout",
       "text": [
        "\n",
        "F1 F3 Union (low)       : 0.492\n",
        "F2 F3 Intersection (high): 0.045\n",
        "F2 F3 Union (high)       : 0.236\n",
        "F2 F3 Intersection (low): 0.182\n",
        "F2 F3 Union (low)       : 0.468\n",
        "\n",
        "All Intersection (high): 0.028\n",
        "All Union (high): 0.324\n",
        "All Intersection (low): 0.127"
       ]
      },
      {
       "output_type": "stream",
       "stream": "stdout",
       "text": [
        "\n",
        "All Union (low): 0.539\n",
        "\n",
        "UNIONING HIGH AND LOW STRINGENCIES:\n",
        "All of F1: 0.359\n",
        "All of F2: 0.268\n",
        "All of F3: 0.407\n",
        "All of F1 and F2: 0.448\n",
        "All of F1 and F3: 0.527\n",
        "All of F2 and F3: 0.485\n",
        "All of F1, F2, and F3: 0.570"
       ]
      },
      {
       "output_type": "stream",
       "stream": "stdout",
       "text": [
        "\n"
       ]
      }
     ],
     "prompt_number": 5
    },
    {
     "cell_type": "code",
     "collapsed": false,
     "input": [
      "\n"
     ],
     "language": "python",
     "metadata": {},
     "outputs": [],
     "prompt_number": 5
    }
   ],
   "metadata": {}
  }
 ]
}