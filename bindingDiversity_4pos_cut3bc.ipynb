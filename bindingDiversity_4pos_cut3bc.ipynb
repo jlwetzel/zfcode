{
 "metadata": {
  "name": "bindingDiversity_4pos_cut3bc"
 },
 "nbformat": 3,
 "nbformat_minor": 0,
 "worksheets": [
  {
   "cells": [
    {
     "cell_type": "heading",
     "level": 1,
     "metadata": {},
     "source": [
      "Binding Diveristy Canonical Pos. (nonNNS-removal only, cut count >= 4 from barcode files)"
     ]
    },
    {
     "cell_type": "code",
     "collapsed": false,
     "input": [
      "from gatherBindStats import getProtSet\n",
      "prefix6 = '../data/b1hData/newDatabase/6varpos/'\n",
      "prefix5 = '../data/b1hData/newDatabase/5varpos/'\n",
      "pos6 = [0,2,3,5]  #(-1,2,3,6)\n",
      "pos5 = [0,1,2,4]  #(-1,2,3,6)\n",
      "theorSize = 20**4\n",
      "fings6 = ['F1', 'F2', 'F3']\n",
      "fings5 = ['F2', 'F3']\n",
      "strins = ['low', 'high']"
     ],
     "language": "python",
     "metadata": {},
     "outputs": [],
     "prompt_number": 1
    },
    {
     "cell_type": "heading",
     "level": 2,
     "metadata": {},
     "source": [
      "6 Variable Position Data (F1, F2, and F3)"
     ]
    },
    {
     "cell_type": "code",
     "collapsed": false,
     "input": [
      "# Get total unique protein for each stringency\n",
      "print \"Total unique proteins for each finger/stringency.\"\n",
      "b1hUnique6 = {}\n",
      "for i, fing in enumerate(fings6):\n",
      "    for strin in strins:\n",
      "        b1hUnique6[(fing, strin)] = (getProtSet(prefix6 + fing + '/' + strin \\\n",
      "                                     + '/protein_seq_cut3bc/all.txt', pos6))\n",
      "        print \"%s %s: %d (%f)\" \\\n",
      "            %(fing, strin, len(b1hUnique6[fing,strin]), \n",
      "              len(b1hUnique6[fing,strin])/float(theorSize))\n",
      "            \n",
      "# Is high a subset of low for each stringency?\n",
      "print\n",
      "print \"Is high a subset of low? -- |(High - Low)|/|High|.\"\n",
      "print \"F1: %f\" %( len(b1hUnique6['F1','high'] - b1hUnique6['F1','low']) \\\n",
      "                   /float(len(b1hUnique6['F1','high'])) )\n",
      "print \"F2: %f\" %( len(b1hUnique6['F2','high'] - b1hUnique6['F2','low']) \\\n",
      "                   /float(len(b1hUnique6['F2','high'])) )\n",
      "print \"F3: %f\" %( len(b1hUnique6['F3','high'] - b1hUnique6['F3','low']) \\\n",
      "                   /float(len(b1hUnique6['F3','high'])) )\n",
      "\n",
      "# What if we take union of all sequences from all fingers?\n",
      "highKeys = [k for k in b1hUnique6.keys() if k[1] == 'high']\n",
      "lowKeys = [k for k in b1hUnique6.keys() if k[1] == 'low']\n",
      "\n",
      "lowUnique6, highUnique6 = set(), set()\n",
      "for k in lowKeys:\n",
      "    lowUnique6 = lowUnique6 | b1hUnique6[k]\n",
      "for k in highKeys:\n",
      "    highUnique6 = highUnique6 | b1hUnique6[k]\n",
      "\n",
      "# Free up some memory\n",
      "del b1hUnique6\n",
      "\n",
      "print\n",
      "print \"Take union of sequences from all fingers.\"\n",
      "print \"Low: %d (%f)\" \\\n",
      "    %(len(lowUnique6), len(lowUnique6)/float(theorSize))\n",
      "print \"High: %d (%f)\" \\\n",
      "    %(len(highUnique6), len(highUnique6)/float(theorSize))\n",
      "print \"(High - Low)/High: %f\" \\\n",
      "    %(len(highUnique6 - lowUnique6)/float(len(highUnique6)))"
     ],
     "language": "python",
     "metadata": {},
     "outputs": [
      {
       "output_type": "stream",
       "stream": "stdout",
       "text": [
        "Total unique proteins for each finger/stringency.\n",
        "F1 low: 108497 (0.678106)"
       ]
      },
      {
       "output_type": "stream",
       "stream": "stdout",
       "text": [
        "\n",
        "F1 high: 85179 (0.532369)"
       ]
      },
      {
       "output_type": "stream",
       "stream": "stdout",
       "text": [
        "\n",
        "F2 low: 103173 (0.644831)"
       ]
      },
      {
       "output_type": "stream",
       "stream": "stdout",
       "text": [
        "\n",
        "F2 high: 44806 (0.280037)"
       ]
      },
      {
       "output_type": "stream",
       "stream": "stdout",
       "text": [
        "\n",
        "F3 low: 69312 (0.433200)"
       ]
      },
      {
       "output_type": "stream",
       "stream": "stdout",
       "text": [
        "\n",
        "F3 high: 36358 (0.227238)"
       ]
      },
      {
       "output_type": "stream",
       "stream": "stdout",
       "text": [
        "\n",
        "\n",
        "Is high a subset of low? -- |(High - Low)|/|High|.\n",
        "F1: 0.192747\n",
        "F2: 0.154176\n",
        "F3: 0.294983\n",
        "\n"
       ]
      },
      {
       "output_type": "stream",
       "stream": "stdout",
       "text": [
        "Take union of sequences from all fingers.\n",
        "Low: 140846 (0.880288)\n",
        "High: 108043 (0.675269)\n",
        "(High - Low)/High: 0.064234\n"
       ]
      }
     ],
     "prompt_number": 2
    },
    {
     "cell_type": "heading",
     "level": 2,
     "metadata": {},
     "source": [
      "5 Variable Position Data (F2, F3)"
     ]
    },
    {
     "cell_type": "code",
     "collapsed": false,
     "input": [
      "# Get total unique proteins for each stringency\n",
      "print \"Total unique proteins for each finger/stringency.\"\n",
      "b1hUnique5 = {}\n",
      "for i, fing in enumerate(fings5):\n",
      "    for strin in strins:\n",
      "        b1hUnique5[(fing, strin)] = (getProtSet(prefix5 + fing + '/' + strin \\\n",
      "                                     + '/protein_seq_cut3bc/all.txt', pos5))\n",
      "        print \"%s %s: %d (%f)\" \\\n",
      "            %(fing, strin, len(b1hUnique5[fing,strin]), \n",
      "              len(b1hUnique5[fing,strin])/float(theorSize))\n",
      "\n",
      "# Is high a subset of low for each stringency?\n",
      "print\n",
      "print \"Is high a subset of low? -- |(High - Low)|/|High|.\"\n",
      "print \"F2: %f\" %( len(b1hUnique5['F2','high'] - b1hUnique5['F2','low']) \\\n",
      "                   /float(len(b1hUnique5['F2','high'])) )\n",
      "print \"F3: %f\" %( len(b1hUnique5['F3','high'] - b1hUnique5['F3','low']) \\\n",
      "                   /float(len(b1hUnique5['F3','high'])) )\n",
      "\n",
      "# What if we take union of all sequences from all fingers?\n",
      "highKeys = [k for k in b1hUnique5.keys() if k[1] == 'high']\n",
      "lowKeys = [k for k in b1hUnique5.keys() if k[1] == 'low']\n",
      "\n",
      "lowUnique5, highUnique5 = set(), set()\n",
      "for k in lowKeys:\n",
      "    lowUnique5 = lowUnique5 | b1hUnique5[k]\n",
      "for k in highKeys:\n",
      "    highUnique5 = highUnique5 | b1hUnique5[k]\n",
      "    \n",
      "# Free up some memory\n",
      "del b1hUnique5\n",
      "    \n",
      "print\n",
      "print \"Take union of sequences from all fingers.\"\n",
      "print \"F2 + F3 low:  %d (%f)\" \\\n",
      "    %(len(lowUnique5), len(lowUnique5)/float(theorSize))\n",
      "print \"F2 + F3 high:  %d (%f)\" \\\n",
      "    %(len(highUnique5), len(highUnique5)/float(theorSize))\n",
      "print \"(High - Low)/High: %f\" \\\n",
      "    %(len(highUnique5 - lowUnique5)/float(len(highUnique5)))"
     ],
     "language": "python",
     "metadata": {},
     "outputs": [
      {
       "output_type": "stream",
       "stream": "stdout",
       "text": [
        "Total unique proteins for each finger/stringency.\n",
        "F2 low: 24252 (0.151575)"
       ]
      },
      {
       "output_type": "stream",
       "stream": "stdout",
       "text": [
        "\n",
        "F2 high: 8409 (0.052556)"
       ]
      },
      {
       "output_type": "stream",
       "stream": "stdout",
       "text": [
        "\n",
        "F3 low: 179 (0.001119)\n",
        "F3 high: 464 (0.002900)\n",
        "\n",
        "Is high a subset of low? -- |(High - Low)|/|High|.\n",
        "F2: 0.555476\n",
        "F3: 0.614224\n",
        "\n"
       ]
      },
      {
       "output_type": "stream",
       "stream": "stdout",
       "text": [
        "Take union of sequences from all fingers.\n",
        "F2 + F3 low:  24370 (0.152312)\n",
        "F2 + F3 high:  8800 (0.055000)\n",
        "(High - Low)/High: 0.552045\n"
       ]
      }
     ],
     "prompt_number": 3
    },
    {
     "cell_type": "heading",
     "level": 2,
     "metadata": {},
     "source": [
      "6 Positions vs. 5 Positions (each converted to canonical only)"
     ]
    },
    {
     "cell_type": "code",
     "collapsed": false,
     "input": [
      "print \"Low:\"\n",
      "print \"6Var | 5var: %d (%f)\" %(len(lowUnique6 | lowUnique5), \\\n",
      "                               len(lowUnique6 | lowUnique5)/float(theorSize))\n",
      "print \"(6Var & 5var)/(6Var | 5Var): %f\" %(len(lowUnique6 & lowUnique5)/float(len(lowUnique6 | lowUnique5)))\n",
      "print \"(6Var - 5var)/6Var: %f\" %(len(lowUnique6 - lowUnique5)/float(len(lowUnique6)))\n",
      "print \"(5Var - 6var)/5Var: %f\" %(len(lowUnique5 - lowUnique6)/float(len(lowUnique5)))\n",
      "print \n",
      "print \"High:\"\n",
      "print \"6Var | 5var: %d (%f)\" %(len(highUnique6 | highUnique5), \\\n",
      "                               len(highUnique6 | highUnique5)/float(theorSize))\n",
      "print \"(6Var & 5var)/(6Var | 5Var): %f\" %(len(highUnique6 & highUnique5)/float(len(highUnique6 | highUnique5)))\n",
      "print \"(6Var - 5var)/6Var: %f\" %(len(highUnique6 - highUnique5)/float(len(highUnique6)))\n",
      "print \"(5Var - 6var)/5Var: %f\" %(len(highUnique5 - highUnique6)/float(len(lowUnique5)))"
     ],
     "language": "python",
     "metadata": {},
     "outputs": [
      {
       "output_type": "stream",
       "stream": "stdout",
       "text": [
        "Low:\n",
        "6Var | 5var: 142048 (0.887800)"
       ]
      },
      {
       "output_type": "stream",
       "stream": "stdout",
       "text": [
        "\n",
        "(6Var & 5var)/(6Var | 5Var): 0.163100"
       ]
      },
      {
       "output_type": "stream",
       "stream": "stdout",
       "text": [
        "\n",
        "(6Var - 5var)/6Var: 0.835508"
       ]
      },
      {
       "output_type": "stream",
       "stream": "stdout",
       "text": [
        "\n",
        "(5Var - 6var)/5Var: 0.049323\n",
        "\n",
        "High:\n",
        "6Var | 5var: 109555 (0.684719)"
       ]
      },
      {
       "output_type": "stream",
       "stream": "stdout",
       "text": [
        "\n",
        "(6Var & 5var)/(6Var | 5Var): 0.066524\n",
        "(6Var - 5var)/6Var: 0.932545"
       ]
      },
      {
       "output_type": "stream",
       "stream": "stdout",
       "text": [
        "\n",
        "(5Var - 6var)/5Var: 0.062043\n"
       ]
      }
     ],
     "prompt_number": 4
    }
   ],
   "metadata": {}
  }
 ]
}