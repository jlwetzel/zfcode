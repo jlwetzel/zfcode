{
 "metadata": {
  "name": "compareOldToNew_entr025"
 },
 "nbformat": 3,
 "nbformat_minor": 0,
 "worksheets": [
  {
   "cells": [
    {
     "cell_type": "code",
     "collapsed": false,
     "input": [
      "from gatherBindStats import *\n",
      "from scipy import stats\n",
      "maxSize6 = 20**6\n",
      "maxSize4 = 20**4"
     ],
     "language": "python",
     "metadata": {},
     "outputs": [],
     "prompt_number": 1
    },
    {
     "cell_type": "code",
     "collapsed": false,
     "input": [
      "# Get the protein sets from the binding data.\n",
      "pathPref = '../data/b1hdata/oldData/'\n",
      "proteinDir = 'threshold025'\n",
      "fings = ['F2', 'F3']\n",
      "strins = ['high', 'low']\n",
      "bindingSets6 = {}\n",
      "bindingSets4 = {}\n",
      "for f in fings:\n",
      "    for s in strins:\n",
      "        bindingSets6[f,s] = getProtSet('/'.join([pathPref,f,proteinDir,s,'all.txt']), \n",
      "                                       range(6))\n",
      "        bindingSets4[f,s] = getProtSet('/'.join([pathPref,f,proteinDir,s,'all.txt']),\n",
      "                                       [0,2,3,5])\n",
      "        \n",
      "# Get the protein sets from the binding data.\n",
      "pathPref = '../data/b1hdata/newDatabase/6varpos'\n",
      "proteinDir = 'protein_cut10_entr025'\n",
      "bindingSetsNew6 = {}\n",
      "bindingSetsNew4 = {}\n",
      "for f in fings:\n",
      "    for s in strins:\n",
      "        bindingSetsNew6[f,s] = getProtSet('/'.join([pathPref,f,s,proteinDir,'all.txt']), \n",
      "                                       range(6))\n",
      "        bindingSetsNew4[f,s] = getProtSet('/'.join([pathPref,f,s,proteinDir,'all.txt']),\n",
      "                                       [0,2,3,5])"
     ],
     "language": "python",
     "metadata": {},
     "outputs": [],
     "prompt_number": 2
    },
    {
     "cell_type": "heading",
     "level": 2,
     "metadata": {},
     "source": [
      "6 Var Positions"
     ]
    },
    {
     "cell_type": "code",
     "collapsed": false,
     "input": [
      "# Compare the six position sets of sequences\n",
      "for f in fings:\n",
      "    for s in strins:\n",
      "        print \"Compare %s (%s):\" %(f, s)\n",
      "        compareBindingSets(bindingSets6[f,s], bindingSetsNew6[f,s])\n",
      "        print "
     ],
     "language": "python",
     "metadata": {},
     "outputs": [
      {
       "output_type": "stream",
       "stream": "stdout",
       "text": [
        "Compare F2 (high):\n",
        "Set 1: 61685\n",
        "Set 2: 40767\n",
        "Intersection: 37421\n",
        "Union: 65031\n",
        "Jaccard: 0.575\n",
        "\n"
       ]
      },
      {
       "output_type": "stream",
       "stream": "stdout",
       "text": [
        "Compare F2 (low):\n",
        "Set 1: 136264"
       ]
      },
      {
       "output_type": "stream",
       "stream": "stdout",
       "text": [
        "\n",
        "Set 2: 107942\n",
        "Intersection: 101404\n",
        "Union: 142802\n",
        "Jaccard: 0.710\n",
        "\n",
        "Compare F3 (high):\n",
        "Set 1: 56111"
       ]
      },
      {
       "output_type": "stream",
       "stream": "stdout",
       "text": [
        "\n",
        "Set 2: 47582\n",
        "Intersection: 41525\n",
        "Union: 62168\n",
        "Jaccard: 0.668\n",
        "\n",
        "Compare F3 (low):\n",
        "Set 1: 143245"
       ]
      },
      {
       "output_type": "stream",
       "stream": "stdout",
       "text": [
        "\n",
        "Set 2: 141513\n",
        "Intersection: 133061\n",
        "Union: 151697\n",
        "Jaccard: 0.877\n",
        "\n"
       ]
      }
     ],
     "prompt_number": 3
    },
    {
     "cell_type": "heading",
     "level": 2,
     "metadata": {},
     "source": [
      "4 Var Pos (-1, 2, 3, 6) -- Canonical"
     ]
    },
    {
     "cell_type": "code",
     "collapsed": false,
     "input": [
      "# Compare the four position sets of sequences\n",
      "for f in fings:\n",
      "    for s in strins:\n",
      "        print \"Compare %s (%s):\" %(f, s)\n",
      "        compareBindingSets(bindingSets4[f,s], bindingSetsNew4[f,s])\n",
      "        print"
     ],
     "language": "python",
     "metadata": {},
     "outputs": [
      {
       "output_type": "stream",
       "stream": "stdout",
       "text": [
        "Compare F2 (high):\n",
        "Set 1: 14631\n",
        "Set 2: 5313\n",
        "Intersection: 4462\n",
        "Union: 15482\n",
        "Jaccard: 0.288\n",
        "\n",
        "Compare F2 (low):\n",
        "Set 1: 18202\n",
        "Set 2: 8209\n",
        "Intersection: 6862\n",
        "Union: 19549\n",
        "Jaccard: 0.351\n",
        "\n",
        "Compare F3 (high):\n",
        "Set 1: 16623\n",
        "Set 2: 9093\n",
        "Intersection: 7810\n",
        "Union: 17906\n",
        "Jaccard: 0.436\n",
        "\n",
        "Compare F3 (low):\n",
        "Set 1: 14384\n",
        "Set 2: 10283\n",
        "Intersection: 9632\n",
        "Union: 15035\n",
        "Jaccard: 0.641\n",
        "\n"
       ]
      }
     ],
     "prompt_number": 4
    },
    {
     "cell_type": "heading",
     "level": 2,
     "metadata": {},
     "source": [
      "Overlap with Human and Fly ZFs (ala HMMer + REGEX) -- Canonical Positions"
     ]
    },
    {
     "cell_type": "code",
     "collapsed": false,
     "input": [
      "dmelSet = getUniqueShilpaZFs('../data/shilpa/Drosophila_melanogaster_ZF.fulldom', [0, 2, 3, 6])\n",
      "hsapSet = getUniqueShilpaZFs('../data/shilpa/Homo_sapiens_ZF.fulldom', [0, 2, 3, 6])\n",
      "\n",
      "#compareToNatural(bindingSets4, hsapSet, 'Human', fings, strins)\n",
      "#compareToNatural(bindingSets4, dmelSet, 'Fly', fings, strins)"
     ],
     "language": "python",
     "metadata": {},
     "outputs": [],
     "prompt_number": 5
    },
    {
     "cell_type": "code",
     "collapsed": false,
     "input": [
      "\n"
     ],
     "language": "python",
     "metadata": {},
     "outputs": [],
     "prompt_number": 5
    }
   ],
   "metadata": {}
  }
 ]
}