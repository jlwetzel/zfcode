{
 "metadata": {
  "name": "Format_conversions_filt10e-4_05_0_c"
 },
 "nbformat": 3,
 "nbformat_minor": 0,
 "worksheets": [
  {
   "cells": [
    {
     "cell_type": "code",
     "collapsed": false,
     "input": [
      "from changeFormats import targetFiles2singleCSV, csv2txtFile\n",
      "\n"
     ],
     "language": "python",
     "metadata": {},
     "outputs": [],
     "prompt_number": 1
    },
    {
     "cell_type": "code",
     "collapsed": false,
     "input": [
      "prefix = '../data/b1hData/antonProcessed/'\n",
      "numVarPos = 6\n",
      "interfaces = {}\n",
      "fings = ['F1', 'F2', 'F3']\n",
      "strins = ['high', 'low']\n",
      "for fing in fings:\n",
      "    for strin in strins:\n",
      "        path = prefix + fing + '/' + strin + '/' + 'filt_10e-4_05_0_c/'\n",
      "        interfaces[fing,strin] = targetFiles2singleCSV(path, numVarPos, '.txt', style = 'verbose')\n",
      "        csv2txtFile(path, numVarPos, style = 'verbose')\n",
      "        print"
     ],
     "language": "python",
     "metadata": {},
     "outputs": [
      {
       "output_type": "stream",
       "stream": "stdout",
       "text": [
        "Here\n",
        "Num proteins in ../data/b1hData/antonProcessed/F1/high/filt_10e-4_05_0_c/AAA.txt:  19\n",
        "Num proteins in ../data/b1hData/antonProcessed/F1/high/filt_10e-4_05_0_c/AAC.txt:  76\n",
        "Num proteins in ../data/b1hData/antonProcessed/F1/high/filt_10e-4_05_0_c/AAG.txt:  32\n",
        "Num proteins in ../data/b1hData/antonProcessed/F1/high/filt_10e-4_05_0_c/AAT.txt:  33\n",
        "Num proteins in ../data/b1hData/antonProcessed/F1/high/filt_10e-4_05_0_c/ACA.txt:  257\n",
        "Num proteins in ../data/b1hData/antonProcessed/F1/high/filt_10e-4_05_0_c/ACC.txt:  17\n",
        "Num proteins in ../data/b1hData/antonProcessed/F1/high/filt_10e-4_05_0_c/ACG.txt:  31\n",
        "Num proteins in ../data/b1hData/antonProcessed/F1/high/filt_10e-4_05_0_c/ACT.txt:  81\n",
        "Num proteins in ../data/b1hData/antonProcessed/F1/high/filt_10e-4_05_0_c/AGA.txt:  2\n",
        "Num proteins in ../data/b1hData/antonProcessed/F1/high/filt_10e-4_05_0_c/AGC.txt:  18\n",
        "Num proteins in ../data/b1hData/antonProcessed/F1/high/filt_10e-4_05_0_c/AGG.txt:  137\n",
        "Num proteins in ../data/b1hData/antonProcessed/F1/high/filt_10e-4_05_0_c/AGT.txt:  354\n",
        "Num proteins in ../data/b1hData/antonProcessed/F1/high/filt_10e-4_05_0_c/ATA.txt:  85\n",
        "Num proteins in ../data/b1hData/antonProcessed/F1/high/filt_10e-4_05_0_c/ATC.txt:  193\n",
        "Num proteins in ../data/b1hData/antonProcessed/F1/high/filt_10e-4_05_0_c/ATG.txt:  174\n",
        "Num proteins in ../data/b1hData/antonProcessed/F1/high/filt_10e-4_05_0_c/ATT.txt:  14\n",
        "Num proteins in ../data/b1hData/antonProcessed/F1/high/filt_10e-4_05_0_c/CAA.txt:  79\n",
        "Num proteins in ../data/b1hData/antonProcessed/F1/high/filt_10e-4_05_0_c/CAC.txt:  38\n",
        "Num proteins in ../data/b1hData/antonProcessed/F1/high/filt_10e-4_05_0_c/CAG.txt:  161\n",
        "Num proteins in ../data/b1hData/antonProcessed/F1/high/filt_10e-4_05_0_c/CAT.txt:  212\n",
        "Num proteins in ../data/b1hData/antonProcessed/F1/high/filt_10e-4_05_0_c/CCA.txt:  473\n",
        "Num proteins in ../data/b1hData/antonProcessed/F1/high/filt_10e-4_05_0_c/CCC.txt:  224\n",
        "Num proteins in ../data/b1hData/antonProcessed/F1/high/filt_10e-4_05_0_c/CCG.txt:  121\n",
        "Num proteins in ../data/b1hData/antonProcessed/F1/high/filt_10e-4_05_0_c/CCT.txt:  306\n",
        "Num proteins in ../data/b1hData/antonProcessed/F1/high/filt_10e-4_05_0_c/CGA.txt:  74\n",
        "Num proteins in ../data/b1hData/antonProcessed/F1/high/filt_10e-4_05_0_c/CGC.txt:  149\n",
        "Num proteins in ../data/b1hData/antonProcessed/F1/high/filt_10e-4_05_0_c/CGG.txt:  465"
       ]
      },
      {
       "output_type": "stream",
       "stream": "stdout",
       "text": [
        "\n",
        "Num proteins in ../data/b1hData/antonProcessed/F1/high/filt_10e-4_05_0_c/CGT.txt:  30\n",
        "Num proteins in ../data/b1hData/antonProcessed/F1/high/filt_10e-4_05_0_c/CTA.txt:  11\n",
        "Num proteins in ../data/b1hData/antonProcessed/F1/high/filt_10e-4_05_0_c/CTC.txt:  24\n",
        "Num proteins in ../data/b1hData/antonProcessed/F1/high/filt_10e-4_05_0_c/CTG.txt:  43\n",
        "Num proteins in ../data/b1hData/antonProcessed/F1/high/filt_10e-4_05_0_c/CTT.txt:  65\n",
        "Num proteins in ../data/b1hData/antonProcessed/F1/high/filt_10e-4_05_0_c/GAA.txt:  207\n",
        "Num proteins in ../data/b1hData/antonProcessed/F1/high/filt_10e-4_05_0_c/GAC.txt:  186\n",
        "Num proteins in ../data/b1hData/antonProcessed/F1/high/filt_10e-4_05_0_c/GAG.txt:  267\n",
        "Num proteins in ../data/b1hData/antonProcessed/F1/high/filt_10e-4_05_0_c/GAT.txt:  248\n",
        "Num proteins in ../data/b1hData/antonProcessed/F1/high/filt_10e-4_05_0_c/GCA.txt:  285\n",
        "Num proteins in ../data/b1hData/antonProcessed/F1/high/filt_10e-4_05_0_c/GCC.txt:  63\n",
        "Num proteins in ../data/b1hData/antonProcessed/F1/high/filt_10e-4_05_0_c/GCG.txt:  66\n",
        "Num proteins in ../data/b1hData/antonProcessed/F1/high/filt_10e-4_05_0_c/GCT.txt:  290\n",
        "Num proteins in ../data/b1hData/antonProcessed/F1/high/filt_10e-4_05_0_c/GGA.txt:  18\n",
        "Num proteins in ../data/b1hData/antonProcessed/F1/high/filt_10e-4_05_0_c/GGC.txt:  89\n",
        "Num proteins in ../data/b1hData/antonProcessed/F1/high/filt_10e-4_05_0_c/GGG.txt:  263\n",
        "Num proteins in ../data/b1hData/antonProcessed/F1/high/filt_10e-4_05_0_c/GGT.txt:  378\n",
        "Num proteins in ../data/b1hData/antonProcessed/F1/high/filt_10e-4_05_0_c/GTA.txt:  41\n",
        "Num proteins in ../data/b1hData/antonProcessed/F1/high/filt_10e-4_05_0_c/GTC.txt:  32\n",
        "Num proteins in ../data/b1hData/antonProcessed/F1/high/filt_10e-4_05_0_c/GTG.txt:  259\n",
        "Num proteins in ../data/b1hData/antonProcessed/F1/high/filt_10e-4_05_0_c/GTT.txt:  60\n",
        "Num proteins in ../data/b1hData/antonProcessed/F1/high/filt_10e-4_05_0_c/TAA.txt:  18\n",
        "Num proteins in ../data/b1hData/antonProcessed/F1/high/filt_10e-4_05_0_c/TAC.txt:  21\n",
        "Num proteins in ../data/b1hData/antonProcessed/F1/high/filt_10e-4_05_0_c/TAG.txt:  16\n",
        "Num proteins in ../data/b1hData/antonProcessed/F1/high/filt_10e-4_05_0_c/TAT.txt:  40\n",
        "Num proteins in ../data/b1hData/antonProcessed/F1/high/filt_10e-4_05_0_c/TCA.txt:  39\n",
        "Num proteins in ../data/b1hData/antonProcessed/F1/high/filt_10e-4_05_0_c/TCC.txt:  42\n",
        "Num proteins in ../data/b1hData/antonProcessed/F1/high/filt_10e-4_05_0_c/TCG.txt:  30\n",
        "Num proteins in ../data/b1hData/antonProcessed/F1/high/filt_10e-4_05_0_c/TCT.txt:  32\n",
        "Num proteins in ../data/b1hData/antonProcessed/F1/high/filt_10e-4_05_0_c/TGA.txt:  16\n",
        "Num proteins in ../data/b1hData/antonProcessed/F1/high/filt_10e-4_05_0_c/TGC.txt:  36\n",
        "Num proteins in ../data/b1hData/antonProcessed/F1/high/filt_10e-4_05_0_c/TGG.txt:  196\n",
        "Num proteins in ../data/b1hData/antonProcessed/F1/high/filt_10e-4_05_0_c/TGT.txt:  236\n",
        "Num proteins in ../data/b1hData/antonProcessed/F1/high/filt_10e-4_05_0_c/TTA.txt:  33\n",
        "Num proteins in ../data/b1hData/antonProcessed/F1/high/filt_10e-4_05_0_c/TTC.txt:  18\n",
        "Num proteins in ../data/b1hData/antonProcessed/F1/high/filt_10e-4_05_0_c/TTG.txt:  16\n",
        "Num proteins in ../data/b1hData/antonProcessed/F1/high/filt_10e-4_05_0_c/TTT.txt:  16\n",
        "Total num protein/dna observations in all files:  7555\n",
        "Total num unique proteins in all files:  5665\n",
        "\n",
        "Num obs processed in csv to txt conversion:  7555"
       ]
      },
      {
       "output_type": "stream",
       "stream": "stdout",
       "text": [
        "\n",
        "\n",
        "Here\n",
        "Num proteins in ../data/b1hData/antonProcessed/F1/low/filt_10e-4_05_0_c/AAA.txt:  12\n",
        "Num proteins in ../data/b1hData/antonProcessed/F1/low/filt_10e-4_05_0_c/AAC.txt:  77\n",
        "Num proteins in ../data/b1hData/antonProcessed/F1/low/filt_10e-4_05_0_c/AAG.txt:  376\n",
        "Num proteins in ../data/b1hData/antonProcessed/F1/low/filt_10e-4_05_0_c/AAT.txt:  31\n",
        "Num proteins in ../data/b1hData/antonProcessed/F1/low/filt_10e-4_05_0_c/ACA.txt:  642\n",
        "Num proteins in ../data/b1hData/antonProcessed/F1/low/filt_10e-4_05_0_c/ACC.txt:  60\n",
        "Num proteins in ../data/b1hData/antonProcessed/F1/low/filt_10e-4_05_0_c/ACG.txt:  720\n",
        "Num proteins in ../data/b1hData/antonProcessed/F1/low/filt_10e-4_05_0_c/ACT.txt:  101\n",
        "Num proteins in ../data/b1hData/antonProcessed/F1/low/filt_10e-4_05_0_c/AGA.txt:  66\n",
        "Num proteins in ../data/b1hData/antonProcessed/F1/low/filt_10e-4_05_0_c/AGC.txt:  125\n",
        "Num proteins in ../data/b1hData/antonProcessed/F1/low/filt_10e-4_05_0_c/AGG.txt:  373\n",
        "Num proteins in ../data/b1hData/antonProcessed/F1/low/filt_10e-4_05_0_c/AGT.txt:  917\n",
        "Num proteins in ../data/b1hData/antonProcessed/F1/low/filt_10e-4_05_0_c/ATA.txt:  360\n",
        "Num proteins in ../data/b1hData/antonProcessed/F1/low/filt_10e-4_05_0_c/ATC.txt:  320\n",
        "Num proteins in ../data/b1hData/antonProcessed/F1/low/filt_10e-4_05_0_c/ATG.txt:  468"
       ]
      },
      {
       "output_type": "stream",
       "stream": "stdout",
       "text": [
        "\n",
        "Num proteins in ../data/b1hData/antonProcessed/F1/low/filt_10e-4_05_0_c/ATT.txt:  27\n",
        "Num proteins in ../data/b1hData/antonProcessed/F1/low/filt_10e-4_05_0_c/CAA.txt:  351\n",
        "Num proteins in ../data/b1hData/antonProcessed/F1/low/filt_10e-4_05_0_c/CAC.txt:  54\n",
        "Num proteins in ../data/b1hData/antonProcessed/F1/low/filt_10e-4_05_0_c/CAG.txt:  268\n",
        "Num proteins in ../data/b1hData/antonProcessed/F1/low/filt_10e-4_05_0_c/CAT.txt:  366\n",
        "Num proteins in ../data/b1hData/antonProcessed/F1/low/filt_10e-4_05_0_c/CCA.txt:  783\n",
        "Num proteins in ../data/b1hData/antonProcessed/F1/low/filt_10e-4_05_0_c/CCC.txt:  462\n",
        "Num proteins in ../data/b1hData/antonProcessed/F1/low/filt_10e-4_05_0_c/CCG.txt:  519\n",
        "Num proteins in ../data/b1hData/antonProcessed/F1/low/filt_10e-4_05_0_c/CCT.txt:  758\n",
        "Num proteins in ../data/b1hData/antonProcessed/F1/low/filt_10e-4_05_0_c/CGA.txt:  772\n",
        "Num proteins in ../data/b1hData/antonProcessed/F1/low/filt_10e-4_05_0_c/CGC.txt:  424"
       ]
      },
      {
       "output_type": "stream",
       "stream": "stdout",
       "text": [
        "\n",
        "Num proteins in ../data/b1hData/antonProcessed/F1/low/filt_10e-4_05_0_c/CGG.txt:  798\n",
        "Num proteins in ../data/b1hData/antonProcessed/F1/low/filt_10e-4_05_0_c/CGT.txt:  66\n",
        "Num proteins in ../data/b1hData/antonProcessed/F1/low/filt_10e-4_05_0_c/CTA.txt:  81\n",
        "Num proteins in ../data/b1hData/antonProcessed/F1/low/filt_10e-4_05_0_c/CTC.txt:  145\n",
        "Num proteins in ../data/b1hData/antonProcessed/F1/low/filt_10e-4_05_0_c/CTG.txt:  286\n",
        "Num proteins in ../data/b1hData/antonProcessed/F1/low/filt_10e-4_05_0_c/CTT.txt:  212\n",
        "Num proteins in ../data/b1hData/antonProcessed/F1/low/filt_10e-4_05_0_c/GAA.txt:  324\n",
        "Num proteins in ../data/b1hData/antonProcessed/F1/low/filt_10e-4_05_0_c/GAC.txt:  716\n",
        "Num proteins in ../data/b1hData/antonProcessed/F1/low/filt_10e-4_05_0_c/GAG.txt:  604\n",
        "Num proteins in ../data/b1hData/antonProcessed/F1/low/filt_10e-4_05_0_c/GAT.txt:  889\n",
        "Num proteins in ../data/b1hData/antonProcessed/F1/low/filt_10e-4_05_0_c/GCA.txt:  849"
       ]
      },
      {
       "output_type": "stream",
       "stream": "stdout",
       "text": [
        "\n",
        "Num proteins in ../data/b1hData/antonProcessed/F1/low/filt_10e-4_05_0_c/GCC.txt:  128\n",
        "Num proteins in ../data/b1hData/antonProcessed/F1/low/filt_10e-4_05_0_c/GCG.txt:  359\n",
        "Num proteins in ../data/b1hData/antonProcessed/F1/low/filt_10e-4_05_0_c/GCT.txt:  686\n",
        "Num proteins in ../data/b1hData/antonProcessed/F1/low/filt_10e-4_05_0_c/GGA.txt:  91\n",
        "Num proteins in ../data/b1hData/antonProcessed/F1/low/filt_10e-4_05_0_c/GGC.txt:  196\n",
        "Num proteins in ../data/b1hData/antonProcessed/F1/low/filt_10e-4_05_0_c/GGG.txt:  418\n",
        "Num proteins in ../data/b1hData/antonProcessed/F1/low/filt_10e-4_05_0_c/GGT.txt:  762\n",
        "Num proteins in ../data/b1hData/antonProcessed/F1/low/filt_10e-4_05_0_c/GTA.txt:  211\n",
        "Num proteins in ../data/b1hData/antonProcessed/F1/low/filt_10e-4_05_0_c/GTC.txt:  182\n",
        "Num proteins in ../data/b1hData/antonProcessed/F1/low/filt_10e-4_05_0_c/GTG.txt:  512\n",
        "Num proteins in ../data/b1hData/antonProcessed/F1/low/filt_10e-4_05_0_c/GTT.txt:  260\n",
        "Num proteins in ../data/b1hData/antonProcessed/F1/low/filt_10e-4_05_0_c/TAA.txt:  69\n"
       ]
      },
      {
       "output_type": "stream",
       "stream": "stdout",
       "text": [
        "Num proteins in ../data/b1hData/antonProcessed/F1/low/filt_10e-4_05_0_c/TAC.txt:  78\n",
        "Num proteins in ../data/b1hData/antonProcessed/F1/low/filt_10e-4_05_0_c/TAG.txt:  24\n",
        "Num proteins in ../data/b1hData/antonProcessed/F1/low/filt_10e-4_05_0_c/TAT.txt:  16\n",
        "Num proteins in ../data/b1hData/antonProcessed/F1/low/filt_10e-4_05_0_c/TCA.txt:  221\n",
        "Num proteins in ../data/b1hData/antonProcessed/F1/low/filt_10e-4_05_0_c/TCC.txt:  42\n",
        "Num proteins in ../data/b1hData/antonProcessed/F1/low/filt_10e-4_05_0_c/TCG.txt:  52\n",
        "Num proteins in ../data/b1hData/antonProcessed/F1/low/filt_10e-4_05_0_c/TCT.txt:  67\n",
        "Num proteins in ../data/b1hData/antonProcessed/F1/low/filt_10e-4_05_0_c/TGA.txt:  66\n",
        "Num proteins in ../data/b1hData/antonProcessed/F1/low/filt_10e-4_05_0_c/TGC.txt:  193\n",
        "Num proteins in ../data/b1hData/antonProcessed/F1/low/filt_10e-4_05_0_c/TGG.txt:  378\n",
        "Num proteins in ../data/b1hData/antonProcessed/F1/low/filt_10e-4_05_0_c/TGT.txt:  919\n",
        "Num proteins in ../data/b1hData/antonProcessed/F1/low/filt_10e-4_05_0_c/TTA.txt:  186\n",
        "Num proteins in ../data/b1hData/antonProcessed/F1/low/filt_10e-4_05_0_c/TTC.txt:  32\n",
        "Num proteins in ../data/b1hData/antonProcessed/F1/low/filt_10e-4_05_0_c/TTG.txt:  81\n",
        "Num proteins in ../data/b1hData/antonProcessed/F1/low/filt_10e-4_05_0_c/TTT.txt:  84\n",
        "Total num protein/dna observations in all files:  20715\n",
        "Total num unique proteins in all files:  14305\n",
        "\n",
        "Num obs processed in csv to txt conversion:  20715"
       ]
      },
      {
       "output_type": "stream",
       "stream": "stdout",
       "text": [
        "\n",
        "\n",
        "Here\n",
        "Num proteins in ../data/b1hData/antonProcessed/F2/high/filt_10e-4_05_0_c/AAA.txt:  90\n",
        "Num proteins in ../data/b1hData/antonProcessed/F2/high/filt_10e-4_05_0_c/AAC.txt:  576\n",
        "Num proteins in ../data/b1hData/antonProcessed/F2/high/filt_10e-4_05_0_c/AAG.txt:  156\n",
        "Num proteins in ../data/b1hData/antonProcessed/F2/high/filt_10e-4_05_0_c/AAT.txt:  89\n",
        "Num proteins in ../data/b1hData/antonProcessed/F2/high/filt_10e-4_05_0_c/ACA.txt:  344\n",
        "Num proteins in ../data/b1hData/antonProcessed/F2/high/filt_10e-4_05_0_c/ACC.txt:  162\n",
        "Num proteins in ../data/b1hData/antonProcessed/F2/high/filt_10e-4_05_0_c/ACG.txt:  444\n",
        "Num proteins in ../data/b1hData/antonProcessed/F2/high/filt_10e-4_05_0_c/ACT.txt:  1204\n",
        "Num proteins in ../data/b1hData/antonProcessed/F2/high/filt_10e-4_05_0_c/AGA.txt:  27\n",
        "Num proteins in ../data/b1hData/antonProcessed/F2/high/filt_10e-4_05_0_c/AGC.txt:  81\n",
        "Num proteins in ../data/b1hData/antonProcessed/F2/high/filt_10e-4_05_0_c/AGG.txt:  297\n",
        "Num proteins in ../data/b1hData/antonProcessed/F2/high/filt_10e-4_05_0_c/AGT.txt:  582\n",
        "Num proteins in ../data/b1hData/antonProcessed/F2/high/filt_10e-4_05_0_c/ATA.txt:  30\n",
        "Num proteins in ../data/b1hData/antonProcessed/F2/high/filt_10e-4_05_0_c/ATC.txt:  378\n",
        "Num proteins in ../data/b1hData/antonProcessed/F2/high/filt_10e-4_05_0_c/ATG.txt:  110\n",
        "Num proteins in ../data/b1hData/antonProcessed/F2/high/filt_10e-4_05_0_c/ATT.txt:  313\n",
        "Num proteins in ../data/b1hData/antonProcessed/F2/high/filt_10e-4_05_0_c/CAA.txt:  4\n",
        "Num proteins in ../data/b1hData/antonProcessed/F2/high/filt_10e-4_05_0_c/CAC.txt:  267"
       ]
      },
      {
       "output_type": "stream",
       "stream": "stdout",
       "text": [
        "\n",
        "Num proteins in ../data/b1hData/antonProcessed/F2/high/filt_10e-4_05_0_c/CAG.txt:  397\n",
        "Num proteins in ../data/b1hData/antonProcessed/F2/high/filt_10e-4_05_0_c/CAT.txt:  355\n",
        "Num proteins in ../data/b1hData/antonProcessed/F2/high/filt_10e-4_05_0_c/CCA.txt:  35\n",
        "Num proteins in ../data/b1hData/antonProcessed/F2/high/filt_10e-4_05_0_c/CCC.txt:  55\n",
        "Num proteins in ../data/b1hData/antonProcessed/F2/high/filt_10e-4_05_0_c/CCG.txt:  22\n",
        "Num proteins in ../data/b1hData/antonProcessed/F2/high/filt_10e-4_05_0_c/CCT.txt:  76\n",
        "Num proteins in ../data/b1hData/antonProcessed/F2/high/filt_10e-4_05_0_c/CGA.txt:  20\n",
        "Num proteins in ../data/b1hData/antonProcessed/F2/high/filt_10e-4_05_0_c/CGC.txt:  48\n",
        "Num proteins in ../data/b1hData/antonProcessed/F2/high/filt_10e-4_05_0_c/CGG.txt:  618\n",
        "Num proteins in ../data/b1hData/antonProcessed/F2/high/filt_10e-4_05_0_c/CGT.txt:  422\n",
        "Num proteins in ../data/b1hData/antonProcessed/F2/high/filt_10e-4_05_0_c/CTA.txt:  56\n",
        "Num proteins in ../data/b1hData/antonProcessed/F2/high/filt_10e-4_05_0_c/CTC.txt:  23\n",
        "Num proteins in ../data/b1hData/antonProcessed/F2/high/filt_10e-4_05_0_c/CTG.txt:  107\n",
        "Num proteins in ../data/b1hData/antonProcessed/F2/high/filt_10e-4_05_0_c/CTT.txt:  202\n",
        "Num proteins in ../data/b1hData/antonProcessed/F2/high/filt_10e-4_05_0_c/GAA.txt:  104\n",
        "Num proteins in ../data/b1hData/antonProcessed/F2/high/filt_10e-4_05_0_c/GAC.txt:  603\n",
        "Num proteins in ../data/b1hData/antonProcessed/F2/high/filt_10e-4_05_0_c/GAG.txt:  457\n",
        "Num proteins in ../data/b1hData/antonProcessed/F2/high/filt_10e-4_05_0_c/GAT.txt:  163\n",
        "Num proteins in ../data/b1hData/antonProcessed/F2/high/filt_10e-4_05_0_c/GCA.txt:  42\n",
        "Num proteins in ../data/b1hData/antonProcessed/F2/high/filt_10e-4_05_0_c/GCC.txt:  157\n",
        "Num proteins in ../data/b1hData/antonProcessed/F2/high/filt_10e-4_05_0_c/GCG.txt:  335\n",
        "Num proteins in ../data/b1hData/antonProcessed/F2/high/filt_10e-4_05_0_c/GCT.txt:  685"
       ]
      },
      {
       "output_type": "stream",
       "stream": "stdout",
       "text": [
        "\n",
        "Num proteins in ../data/b1hData/antonProcessed/F2/high/filt_10e-4_05_0_c/GGA.txt:  302\n",
        "Num proteins in ../data/b1hData/antonProcessed/F2/high/filt_10e-4_05_0_c/GGC.txt:  87\n",
        "Num proteins in ../data/b1hData/antonProcessed/F2/high/filt_10e-4_05_0_c/GGG.txt:  544\n",
        "Num proteins in ../data/b1hData/antonProcessed/F2/high/filt_10e-4_05_0_c/GGT.txt:  454\n",
        "Num proteins in ../data/b1hData/antonProcessed/F2/high/filt_10e-4_05_0_c/GTA.txt:  253\n",
        "Num proteins in ../data/b1hData/antonProcessed/F2/high/filt_10e-4_05_0_c/GTC.txt:  131\n",
        "Num proteins in ../data/b1hData/antonProcessed/F2/high/filt_10e-4_05_0_c/GTG.txt:  217\n",
        "Num proteins in ../data/b1hData/antonProcessed/F2/high/filt_10e-4_05_0_c/GTT.txt:  391\n",
        "Num proteins in ../data/b1hData/antonProcessed/F2/high/filt_10e-4_05_0_c/TAA.txt:  9\n",
        "Num proteins in ../data/b1hData/antonProcessed/F2/high/filt_10e-4_05_0_c/TAC.txt:  48\n",
        "Num proteins in ../data/b1hData/antonProcessed/F2/high/filt_10e-4_05_0_c/TAG.txt:  55\n",
        "Num proteins in ../data/b1hData/antonProcessed/F2/high/filt_10e-4_05_0_c/TAT.txt:  60\n",
        "Num proteins in ../data/b1hData/antonProcessed/F2/high/filt_10e-4_05_0_c/TCA.txt:  13\n",
        "Num proteins in ../data/b1hData/antonProcessed/F2/high/filt_10e-4_05_0_c/TCC.txt:  107\n",
        "Num proteins in ../data/b1hData/antonProcessed/F2/high/filt_10e-4_05_0_c/TCG.txt:  15\n",
        "Num proteins in ../data/b1hData/antonProcessed/F2/high/filt_10e-4_05_0_c/TCT.txt:  76\n",
        "Num proteins in ../data/b1hData/antonProcessed/F2/high/filt_10e-4_05_0_c/TGA.txt:  32\n",
        "Num proteins in ../data/b1hData/antonProcessed/F2/high/filt_10e-4_05_0_c/TGC.txt:  10\n",
        "Num proteins in ../data/b1hData/antonProcessed/F2/high/filt_10e-4_05_0_c/TGG.txt:  646\n",
        "Num proteins in ../data/b1hData/antonProcessed/F2/high/filt_10e-4_05_0_c/TGT.txt:  471"
       ]
      },
      {
       "output_type": "stream",
       "stream": "stdout",
       "text": [
        "\n",
        "Num proteins in ../data/b1hData/antonProcessed/F2/high/filt_10e-4_05_0_c/TTA.txt:  28\n",
        "Num proteins in ../data/b1hData/antonProcessed/F2/high/filt_10e-4_05_0_c/TTC.txt:  24\n",
        "Num proteins in ../data/b1hData/antonProcessed/F2/high/filt_10e-4_05_0_c/TTG.txt:  98\n",
        "Num proteins in ../data/b1hData/antonProcessed/F2/high/filt_10e-4_05_0_c/TTT.txt:  22\n",
        "Total num protein/dna observations in all files:  14229\n",
        "Total num unique proteins in all files:  11258\n",
        "\n",
        "Num obs processed in csv to txt conversion:  14229"
       ]
      },
      {
       "output_type": "stream",
       "stream": "stdout",
       "text": [
        "\n",
        "\n",
        "Here\n",
        "Num proteins in ../data/b1hData/antonProcessed/F2/low/filt_10e-4_05_0_c/AAA.txt:  251\n",
        "Num proteins in ../data/b1hData/antonProcessed/F2/low/filt_10e-4_05_0_c/AAC.txt:  1868\n",
        "Num proteins in ../data/b1hData/antonProcessed/F2/low/filt_10e-4_05_0_c/AAG.txt:  725\n",
        "Num proteins in ../data/b1hData/antonProcessed/F2/low/filt_10e-4_05_0_c/AAT.txt:  1067\n",
        "Num proteins in ../data/b1hData/antonProcessed/F2/low/filt_10e-4_05_0_c/ACA.txt:  1342"
       ]
      },
      {
       "output_type": "stream",
       "stream": "stdout",
       "text": [
        "\n",
        "Num proteins in ../data/b1hData/antonProcessed/F2/low/filt_10e-4_05_0_c/ACC.txt:  668\n",
        "Num proteins in ../data/b1hData/antonProcessed/F2/low/filt_10e-4_05_0_c/ACG.txt:  1667\n",
        "Num proteins in ../data/b1hData/antonProcessed/F2/low/filt_10e-4_05_0_c/ACT.txt:  2240\n",
        "Num proteins in ../data/b1hData/antonProcessed/F2/low/filt_10e-4_05_0_c/AGA.txt:  332\n",
        "Num proteins in ../data/b1hData/antonProcessed/F2/low/filt_10e-4_05_0_c/AGC.txt:  413"
       ]
      },
      {
       "output_type": "stream",
       "stream": "stdout",
       "text": [
        "\n",
        "Num proteins in ../data/b1hData/antonProcessed/F2/low/filt_10e-4_05_0_c/AGG.txt:  1416\n",
        "Num proteins in ../data/b1hData/antonProcessed/F2/low/filt_10e-4_05_0_c/AGT.txt:  1730\n",
        "Num proteins in ../data/b1hData/antonProcessed/F2/low/filt_10e-4_05_0_c/ATA.txt:  58\n",
        "Num proteins in ../data/b1hData/antonProcessed/F2/low/filt_10e-4_05_0_c/ATC.txt:  1258\n",
        "Num proteins in ../data/b1hData/antonProcessed/F2/low/filt_10e-4_05_0_c/ATG.txt:  960"
       ]
      },
      {
       "output_type": "stream",
       "stream": "stdout",
       "text": [
        "\n",
        "Num proteins in ../data/b1hData/antonProcessed/F2/low/filt_10e-4_05_0_c/ATT.txt:  1061\n",
        "Num proteins in ../data/b1hData/antonProcessed/F2/low/filt_10e-4_05_0_c/CAA.txt:  100\n",
        "Num proteins in ../data/b1hData/antonProcessed/F2/low/filt_10e-4_05_0_c/CAC.txt:  1413\n",
        "Num proteins in ../data/b1hData/antonProcessed/F2/low/filt_10e-4_05_0_c/CAG.txt:  1845\n",
        "Num proteins in ../data/b1hData/antonProcessed/F2/low/filt_10e-4_05_0_c/CAT.txt:  1305"
       ]
      },
      {
       "output_type": "stream",
       "stream": "stdout",
       "text": [
        "\n",
        "Num proteins in ../data/b1hData/antonProcessed/F2/low/filt_10e-4_05_0_c/CCA.txt:  219\n",
        "Num proteins in ../data/b1hData/antonProcessed/F2/low/filt_10e-4_05_0_c/CCC.txt:  310\n",
        "Num proteins in ../data/b1hData/antonProcessed/F2/low/filt_10e-4_05_0_c/CCG.txt:  356\n",
        "Num proteins in ../data/b1hData/antonProcessed/F2/low/filt_10e-4_05_0_c/CCT.txt:  470\n",
        "Num proteins in ../data/b1hData/antonProcessed/F2/low/filt_10e-4_05_0_c/CGA.txt:  191\n",
        "Num proteins in ../data/b1hData/antonProcessed/F2/low/filt_10e-4_05_0_c/CGC.txt:  252\n",
        "Num proteins in ../data/b1hData/antonProcessed/F2/low/filt_10e-4_05_0_c/CGG.txt:  1882\n",
        "Num proteins in ../data/b1hData/antonProcessed/F2/low/filt_10e-4_05_0_c/CGT.txt:  1283"
       ]
      },
      {
       "output_type": "stream",
       "stream": "stdout",
       "text": [
        "\n",
        "Num proteins in ../data/b1hData/antonProcessed/F2/low/filt_10e-4_05_0_c/CTA.txt:  103\n",
        "Num proteins in ../data/b1hData/antonProcessed/F2/low/filt_10e-4_05_0_c/CTC.txt:  135\n",
        "Num proteins in ../data/b1hData/antonProcessed/F2/low/filt_10e-4_05_0_c/CTG.txt:  223\n",
        "Num proteins in ../data/b1hData/antonProcessed/F2/low/filt_10e-4_05_0_c/CTT.txt:  263\n",
        "Num proteins in ../data/b1hData/antonProcessed/F2/low/filt_10e-4_05_0_c/GAA.txt:  249\n",
        "Num proteins in ../data/b1hData/antonProcessed/F2/low/filt_10e-4_05_0_c/GAC.txt:  1499\n",
        "Num proteins in ../data/b1hData/antonProcessed/F2/low/filt_10e-4_05_0_c/GAG.txt:  1035\n",
        "Num proteins in ../data/b1hData/antonProcessed/F2/low/filt_10e-4_05_0_c/GAT.txt:  1132"
       ]
      },
      {
       "output_type": "stream",
       "stream": "stdout",
       "text": [
        "\n",
        "Num proteins in ../data/b1hData/antonProcessed/F2/low/filt_10e-4_05_0_c/GCA.txt:  241\n",
        "Num proteins in ../data/b1hData/antonProcessed/F2/low/filt_10e-4_05_0_c/GCC.txt:  399\n",
        "Num proteins in ../data/b1hData/antonProcessed/F2/low/filt_10e-4_05_0_c/GCG.txt:  1422\n",
        "Num proteins in ../data/b1hData/antonProcessed/F2/low/filt_10e-4_05_0_c/GCT.txt:  1759\n",
        "Num proteins in ../data/b1hData/antonProcessed/F2/low/filt_10e-4_05_0_c/GGA.txt:  48\n",
        "Num proteins in ../data/b1hData/antonProcessed/F2/low/filt_10e-4_05_0_c/GGC.txt:  171\n",
        "Num proteins in ../data/b1hData/antonProcessed/F2/low/filt_10e-4_05_0_c/GGG.txt:  1499"
       ]
      },
      {
       "output_type": "stream",
       "stream": "stdout",
       "text": [
        "\n",
        "Num proteins in ../data/b1hData/antonProcessed/F2/low/filt_10e-4_05_0_c/GGT.txt:  973\n",
        "Num proteins in ../data/b1hData/antonProcessed/F2/low/filt_10e-4_05_0_c/GTA.txt:  20\n",
        "Num proteins in ../data/b1hData/antonProcessed/F2/low/filt_10e-4_05_0_c/GTC.txt:  672\n",
        "Num proteins in ../data/b1hData/antonProcessed/F2/low/filt_10e-4_05_0_c/GTG.txt:  1463\n",
        "Num proteins in ../data/b1hData/antonProcessed/F2/low/filt_10e-4_05_0_c/GTT.txt:  1434\n",
        "Num proteins in ../data/b1hData/antonProcessed/F2/low/filt_10e-4_05_0_c/TAA.txt:  28\n",
        "Num proteins in ../data/b1hData/antonProcessed/F2/low/filt_10e-4_05_0_c/TAC.txt:  418\n",
        "Num proteins in ../data/b1hData/antonProcessed/F2/low/filt_10e-4_05_0_c/TAG.txt:  410"
       ]
      },
      {
       "output_type": "stream",
       "stream": "stdout",
       "text": [
        "\n",
        "Num proteins in ../data/b1hData/antonProcessed/F2/low/filt_10e-4_05_0_c/TAT.txt:  599\n",
        "Num proteins in ../data/b1hData/antonProcessed/F2/low/filt_10e-4_05_0_c/TCA.txt:  24\n",
        "Num proteins in ../data/b1hData/antonProcessed/F2/low/filt_10e-4_05_0_c/TCC.txt:  109\n",
        "Num proteins in ../data/b1hData/antonProcessed/F2/low/filt_10e-4_05_0_c/TCG.txt:  427\n",
        "Num proteins in ../data/b1hData/antonProcessed/F2/low/filt_10e-4_05_0_c/TCT.txt:  316\n",
        "Num proteins in ../data/b1hData/antonProcessed/F2/low/filt_10e-4_05_0_c/TGA.txt:  106\n",
        "Num proteins in ../data/b1hData/antonProcessed/F2/low/filt_10e-4_05_0_c/TGC.txt:  165\n",
        "Num proteins in ../data/b1hData/antonProcessed/F2/low/filt_10e-4_05_0_c/TGG.txt:  1750\n",
        "Num proteins in ../data/b1hData/antonProcessed/F2/low/filt_10e-4_05_0_c/TGT.txt:  1977"
       ]
      },
      {
       "output_type": "stream",
       "stream": "stdout",
       "text": [
        "\n",
        "Num proteins in ../data/b1hData/antonProcessed/F2/low/filt_10e-4_05_0_c/TTA.txt:  16\n",
        "Num proteins in ../data/b1hData/antonProcessed/F2/low/filt_10e-4_05_0_c/TTC.txt:  153\n",
        "Num proteins in ../data/b1hData/antonProcessed/F2/low/filt_10e-4_05_0_c/TTG.txt:  694\n",
        "Num proteins in ../data/b1hData/antonProcessed/F2/low/filt_10e-4_05_0_c/TTT.txt:  118\n",
        "Total num protein/dna observations in all files:  48732\n",
        "Total num unique proteins in all files:  36007\n",
        "\n",
        "Num obs processed in csv to txt conversion:  48732"
       ]
      },
      {
       "output_type": "stream",
       "stream": "stdout",
       "text": [
        "\n",
        "\n",
        "Here\n",
        "Num proteins in ../data/b1hData/antonProcessed/F3/high/filt_10e-4_05_0_c/AAA.txt:  13\n",
        "Num proteins in ../data/b1hData/antonProcessed/F3/high/filt_10e-4_05_0_c/AAC.txt:  24\n",
        "Num proteins in ../data/b1hData/antonProcessed/F3/high/filt_10e-4_05_0_c/AAG.txt:  87\n",
        "Num proteins in ../data/b1hData/antonProcessed/F3/high/filt_10e-4_05_0_c/AAT.txt:  17\n",
        "Num proteins in ../data/b1hData/antonProcessed/F3/high/filt_10e-4_05_0_c/ACA.txt:  49\n",
        "Num proteins in ../data/b1hData/antonProcessed/F3/high/filt_10e-4_05_0_c/ACC.txt:  4\n",
        "Num proteins in ../data/b1hData/antonProcessed/F3/high/filt_10e-4_05_0_c/ACG.txt:  32\n",
        "Num proteins in ../data/b1hData/antonProcessed/F3/high/filt_10e-4_05_0_c/ACT.txt:  26\n",
        "Num proteins in ../data/b1hData/antonProcessed/F3/high/filt_10e-4_05_0_c/AGA.txt:  0\n",
        "Num proteins in ../data/b1hData/antonProcessed/F3/high/filt_10e-4_05_0_c/AGC.txt:  17\n",
        "Num proteins in ../data/b1hData/antonProcessed/F3/high/filt_10e-4_05_0_c/AGG.txt:  29\n",
        "Num proteins in ../data/b1hData/antonProcessed/F3/high/filt_10e-4_05_0_c/AGT.txt:  180\n",
        "Num proteins in ../data/b1hData/antonProcessed/F3/high/filt_10e-4_05_0_c/ATA.txt:  10\n",
        "Num proteins in ../data/b1hData/antonProcessed/F3/high/filt_10e-4_05_0_c/ATC.txt:  62\n",
        "Num proteins in ../data/b1hData/antonProcessed/F3/high/filt_10e-4_05_0_c/ATG.txt:  21\n",
        "Num proteins in ../data/b1hData/antonProcessed/F3/high/filt_10e-4_05_0_c/ATT.txt:  40\n",
        "Num proteins in ../data/b1hData/antonProcessed/F3/high/filt_10e-4_05_0_c/CAA.txt:  18\n",
        "Num proteins in ../data/b1hData/antonProcessed/F3/high/filt_10e-4_05_0_c/CAC.txt:  9\n",
        "Num proteins in ../data/b1hData/antonProcessed/F3/high/filt_10e-4_05_0_c/CAG.txt:  25\n",
        "Num proteins in ../data/b1hData/antonProcessed/F3/high/filt_10e-4_05_0_c/CAT.txt:  107\n",
        "Num proteins in ../data/b1hData/antonProcessed/F3/high/filt_10e-4_05_0_c/CCA.txt:  6\n",
        "Num proteins in ../data/b1hData/antonProcessed/F3/high/filt_10e-4_05_0_c/CCC.txt:  18\n",
        "Num proteins in ../data/b1hData/antonProcessed/F3/high/filt_10e-4_05_0_c/CCG.txt:  66\n",
        "Num proteins in ../data/b1hData/antonProcessed/F3/high/filt_10e-4_05_0_c/CCT.txt:  24\n",
        "Num proteins in ../data/b1hData/antonProcessed/F3/high/filt_10e-4_05_0_c/CGA.txt:  2\n",
        "Num proteins in ../data/b1hData/antonProcessed/F3/high/filt_10e-4_05_0_c/CGC.txt:  18\n",
        "Num proteins in ../data/b1hData/antonProcessed/F3/high/filt_10e-4_05_0_c/CGG.txt:  2\n",
        "Num proteins in ../data/b1hData/antonProcessed/F3/high/filt_10e-4_05_0_c/CGT.txt:  72\n",
        "Num proteins in ../data/b1hData/antonProcessed/F3/high/filt_10e-4_05_0_c/CTA.txt:  20\n",
        "Num proteins in ../data/b1hData/antonProcessed/F3/high/filt_10e-4_05_0_c/CTC.txt:  15\n",
        "Num proteins in ../data/b1hData/antonProcessed/F3/high/filt_10e-4_05_0_c/CTG.txt:  5\n",
        "Num proteins in ../data/b1hData/antonProcessed/F3/high/filt_10e-4_05_0_c/CTT.txt:  8\n",
        "Num proteins in ../data/b1hData/antonProcessed/F3/high/filt_10e-4_05_0_c/GAA.txt:  31\n",
        "Num proteins in ../data/b1hData/antonProcessed/F3/high/filt_10e-4_05_0_c/GAC.txt:  20\n",
        "Num proteins in ../data/b1hData/antonProcessed/F3/high/filt_10e-4_05_0_c/GAG.txt:  35\n",
        "Num proteins in ../data/b1hData/antonProcessed/F3/high/filt_10e-4_05_0_c/GAT.txt:  25\n",
        "Num proteins in ../data/b1hData/antonProcessed/F3/high/filt_10e-4_05_0_c/GCA.txt:  23\n",
        "Num proteins in ../data/b1hData/antonProcessed/F3/high/filt_10e-4_05_0_c/GCC.txt:  10\n",
        "Num proteins in ../data/b1hData/antonProcessed/F3/high/filt_10e-4_05_0_c/GCG.txt:  20\n",
        "Num proteins in ../data/b1hData/antonProcessed/F3/high/filt_10e-4_05_0_c/GCT.txt:  48\n",
        "Num proteins in ../data/b1hData/antonProcessed/F3/high/filt_10e-4_05_0_c/GGA.txt:  78\n",
        "Num proteins in ../data/b1hData/antonProcessed/F3/high/filt_10e-4_05_0_c/GGC.txt:  9\n",
        "Num proteins in ../data/b1hData/antonProcessed/F3/high/filt_10e-4_05_0_c/GGG.txt:  85\n",
        "Num proteins in ../data/b1hData/antonProcessed/F3/high/filt_10e-4_05_0_c/GGT.txt:  200\n",
        "Num proteins in ../data/b1hData/antonProcessed/F3/high/filt_10e-4_05_0_c/GTA.txt:  111\n",
        "Num proteins in ../data/b1hData/antonProcessed/F3/high/filt_10e-4_05_0_c/GTC.txt:  38\n",
        "Num proteins in ../data/b1hData/antonProcessed/F3/high/filt_10e-4_05_0_c/GTG.txt:  32\n",
        "Num proteins in ../data/b1hData/antonProcessed/F3/high/filt_10e-4_05_0_c/GTT.txt:  61\n",
        "Num proteins in ../data/b1hData/antonProcessed/F3/high/filt_10e-4_05_0_c/TAA.txt:  92\n",
        "Num proteins in ../data/b1hData/antonProcessed/F3/high/filt_10e-4_05_0_c/TAC.txt:  23\n",
        "Num proteins in ../data/b1hData/antonProcessed/F3/high/filt_10e-4_05_0_c/TAG.txt:  11\n",
        "Num proteins in ../data/b1hData/antonProcessed/F3/high/filt_10e-4_05_0_c/TAT.txt:  32\n",
        "Num proteins in ../data/b1hData/antonProcessed/F3/high/filt_10e-4_05_0_c/TCA.txt:  82\n",
        "Num proteins in ../data/b1hData/antonProcessed/F3/high/filt_10e-4_05_0_c/TCC.txt:  68\n",
        "Num proteins in ../data/b1hData/antonProcessed/F3/high/filt_10e-4_05_0_c/TCG.txt:  7\n",
        "Num proteins in ../data/b1hData/antonProcessed/F3/high/filt_10e-4_05_0_c/TCT.txt:  26\n",
        "Num proteins in ../data/b1hData/antonProcessed/F3/high/filt_10e-4_05_0_c/TGA.txt:  86\n",
        "Num proteins in ../data/b1hData/antonProcessed/F3/high/filt_10e-4_05_0_c/TGC.txt:  11\n",
        "Num proteins in ../data/b1hData/antonProcessed/F3/high/filt_10e-4_05_0_c/TGG.txt:  1\n",
        "Num proteins in ../data/b1hData/antonProcessed/F3/high/filt_10e-4_05_0_c/TGT.txt:  1402\n",
        "Num proteins in ../data/b1hData/antonProcessed/F3/high/filt_10e-4_05_0_c/TTA.txt:  299\n",
        "Num proteins in ../data/b1hData/antonProcessed/F3/high/filt_10e-4_05_0_c/TTC.txt:  5\n",
        "Num proteins in ../data/b1hData/antonProcessed/F3/high/filt_10e-4_05_0_c/TTG.txt:  2\n",
        "Num proteins in ../data/b1hData/antonProcessed/F3/high/filt_10e-4_05_0_c/TTT.txt:  16\n",
        "Total num protein/dna observations in all files:  4015\n",
        "Total num unique proteins in all files:  3399\n",
        "\n",
        "Num obs processed in csv to txt conversion:  4015"
       ]
      },
      {
       "output_type": "stream",
       "stream": "stdout",
       "text": [
        "\n",
        "\n",
        "Here\n",
        "Num proteins in ../data/b1hData/antonProcessed/F3/low/filt_10e-4_05_0_c/AAA.txt:  43\n",
        "Num proteins in ../data/b1hData/antonProcessed/F3/low/filt_10e-4_05_0_c/AAC.txt:  419\n",
        "Num proteins in ../data/b1hData/antonProcessed/F3/low/filt_10e-4_05_0_c/AAG.txt:  903\n",
        "Num proteins in ../data/b1hData/antonProcessed/F3/low/filt_10e-4_05_0_c/AAT.txt:  353\n",
        "Num proteins in ../data/b1hData/antonProcessed/F3/low/filt_10e-4_05_0_c/ACA.txt:  17\n",
        "Num proteins in ../data/b1hData/antonProcessed/F3/low/filt_10e-4_05_0_c/ACC.txt:  224\n",
        "Num proteins in ../data/b1hData/antonProcessed/F3/low/filt_10e-4_05_0_c/ACG.txt:  984\n",
        "Num proteins in ../data/b1hData/antonProcessed/F3/low/filt_10e-4_05_0_c/ACT.txt:  283\n",
        "Num proteins in ../data/b1hData/antonProcessed/F3/low/filt_10e-4_05_0_c/AGA.txt:  15\n",
        "Num proteins in ../data/b1hData/antonProcessed/F3/low/filt_10e-4_05_0_c/AGC.txt:  564\n",
        "Num proteins in ../data/b1hData/antonProcessed/F3/low/filt_10e-4_05_0_c/AGG.txt:  434\n",
        "Num proteins in ../data/b1hData/antonProcessed/F3/low/filt_10e-4_05_0_c/AGT.txt:  733"
       ]
      },
      {
       "output_type": "stream",
       "stream": "stdout",
       "text": [
        "\n",
        "Num proteins in ../data/b1hData/antonProcessed/F3/low/filt_10e-4_05_0_c/ATA.txt:  34\n",
        "Num proteins in ../data/b1hData/antonProcessed/F3/low/filt_10e-4_05_0_c/ATC.txt:  228\n",
        "Num proteins in ../data/b1hData/antonProcessed/F3/low/filt_10e-4_05_0_c/ATG.txt:  54\n",
        "Num proteins in ../data/b1hData/antonProcessed/F3/low/filt_10e-4_05_0_c/ATT.txt:  260\n",
        "Num proteins in ../data/b1hData/antonProcessed/F3/low/filt_10e-4_05_0_c/CAA.txt:  45\n",
        "Num proteins in ../data/b1hData/antonProcessed/F3/low/filt_10e-4_05_0_c/CAC.txt:  237\n",
        "Num proteins in ../data/b1hData/antonProcessed/F3/low/filt_10e-4_05_0_c/CAG.txt:  497\n",
        "Num proteins in ../data/b1hData/antonProcessed/F3/low/filt_10e-4_05_0_c/CAT.txt:  241\n",
        "Num proteins in ../data/b1hData/antonProcessed/F3/low/filt_10e-4_05_0_c/CCA.txt:  15\n",
        "Num proteins in ../data/b1hData/antonProcessed/F3/low/filt_10e-4_05_0_c/CCC.txt:  46\n",
        "Num proteins in ../data/b1hData/antonProcessed/F3/low/filt_10e-4_05_0_c/CCG.txt:  731\n",
        "Num proteins in ../data/b1hData/antonProcessed/F3/low/filt_10e-4_05_0_c/CCT.txt:  198\n",
        "Num proteins in ../data/b1hData/antonProcessed/F3/low/filt_10e-4_05_0_c/CGA.txt:  40\n",
        "Num proteins in ../data/b1hData/antonProcessed/F3/low/filt_10e-4_05_0_c/CGC.txt:  996\n",
        "Num proteins in ../data/b1hData/antonProcessed/F3/low/filt_10e-4_05_0_c/CGG.txt:  108\n",
        "Num proteins in ../data/b1hData/antonProcessed/F3/low/filt_10e-4_05_0_c/CGT.txt:  972\n",
        "Num proteins in ../data/b1hData/antonProcessed/F3/low/filt_10e-4_05_0_c/CTA.txt:  20\n",
        "Num proteins in ../data/b1hData/antonProcessed/F3/low/filt_10e-4_05_0_c/CTC.txt:  104\n",
        "Num proteins in ../data/b1hData/antonProcessed/F3/low/filt_10e-4_05_0_c/CTG.txt:  54\n",
        "Num proteins in ../data/b1hData/antonProcessed/F3/low/filt_10e-4_05_0_c/CTT.txt:  100\n",
        "Num proteins in ../data/b1hData/antonProcessed/F3/low/filt_10e-4_05_0_c/GAA.txt:  447"
       ]
      },
      {
       "output_type": "stream",
       "stream": "stdout",
       "text": [
        "\n",
        "Num proteins in ../data/b1hData/antonProcessed/F3/low/filt_10e-4_05_0_c/GAC.txt:  525\n",
        "Num proteins in ../data/b1hData/antonProcessed/F3/low/filt_10e-4_05_0_c/GAG.txt:  1322\n",
        "Num proteins in ../data/b1hData/antonProcessed/F3/low/filt_10e-4_05_0_c/GAT.txt:  693\n",
        "Num proteins in ../data/b1hData/antonProcessed/F3/low/filt_10e-4_05_0_c/GCA.txt:  41\n",
        "Num proteins in ../data/b1hData/antonProcessed/F3/low/filt_10e-4_05_0_c/GCC.txt:  127\n",
        "Num proteins in ../data/b1hData/antonProcessed/F3/low/filt_10e-4_05_0_c/GCG.txt:  533\n",
        "Num proteins in ../data/b1hData/antonProcessed/F3/low/filt_10e-4_05_0_c/GCT.txt:  99\n",
        "Num proteins in ../data/b1hData/antonProcessed/F3/low/filt_10e-4_05_0_c/GGA.txt:  124\n",
        "Num proteins in ../data/b1hData/antonProcessed/F3/low/filt_10e-4_05_0_c/GGC.txt:  155\n",
        "Num proteins in ../data/b1hData/antonProcessed/F3/low/filt_10e-4_05_0_c/GGG.txt:  1158\n",
        "Num proteins in ../data/b1hData/antonProcessed/F3/low/filt_10e-4_05_0_c/GGT.txt:  768"
       ]
      },
      {
       "output_type": "stream",
       "stream": "stdout",
       "text": [
        "\n",
        "Num proteins in ../data/b1hData/antonProcessed/F3/low/filt_10e-4_05_0_c/GTA.txt:  499\n",
        "Num proteins in ../data/b1hData/antonProcessed/F3/low/filt_10e-4_05_0_c/GTC.txt:  458\n",
        "Num proteins in ../data/b1hData/antonProcessed/F3/low/filt_10e-4_05_0_c/GTG.txt:  1494\n",
        "Num proteins in ../data/b1hData/antonProcessed/F3/low/filt_10e-4_05_0_c/GTT.txt:  1685\n",
        "Num proteins in ../data/b1hData/antonProcessed/F3/low/filt_10e-4_05_0_c/TAA.txt:  44\n",
        "Num proteins in ../data/b1hData/antonProcessed/F3/low/filt_10e-4_05_0_c/TAC.txt:  332\n",
        "Num proteins in ../data/b1hData/antonProcessed/F3/low/filt_10e-4_05_0_c/TAG.txt:  188\n",
        "Num proteins in ../data/b1hData/antonProcessed/F3/low/filt_10e-4_05_0_c/TAT.txt:  245\n",
        "Num proteins in ../data/b1hData/antonProcessed/F3/low/filt_10e-4_05_0_c/TCA.txt:  7\n",
        "Num proteins in ../data/b1hData/antonProcessed/F3/low/filt_10e-4_05_0_c/TCC.txt:  278"
       ]
      },
      {
       "output_type": "stream",
       "stream": "stdout",
       "text": [
        "\n",
        "Num proteins in ../data/b1hData/antonProcessed/F3/low/filt_10e-4_05_0_c/TCG.txt:  142\n",
        "Num proteins in ../data/b1hData/antonProcessed/F3/low/filt_10e-4_05_0_c/TCT.txt:  234\n",
        "Num proteins in ../data/b1hData/antonProcessed/F3/low/filt_10e-4_05_0_c/TGA.txt:  503\n",
        "Num proteins in ../data/b1hData/antonProcessed/F3/low/filt_10e-4_05_0_c/TGC.txt:  475\n",
        "Num proteins in ../data/b1hData/antonProcessed/F3/low/filt_10e-4_05_0_c/TGG.txt:  100\n",
        "Num proteins in ../data/b1hData/antonProcessed/F3/low/filt_10e-4_05_0_c/TGT.txt:  1447\n",
        "Num proteins in ../data/b1hData/antonProcessed/F3/low/filt_10e-4_05_0_c/TTA.txt:  12\n",
        "Num proteins in ../data/b1hData/antonProcessed/F3/low/filt_10e-4_05_0_c/TTC.txt:  96\n",
        "Num proteins in ../data/b1hData/antonProcessed/F3/low/filt_10e-4_05_0_c/TTG.txt:  128\n",
        "Num proteins in ../data/b1hData/antonProcessed/F3/low/filt_10e-4_05_0_c/TTT.txt:  764\n",
        "Total num protein/dna observations in all files:  25075\n",
        "Total num unique proteins in all files:  18932\n",
        "\n",
        "Num obs processed in csv to txt conversion:  25075"
       ]
      },
      {
       "output_type": "stream",
       "stream": "stdout",
       "text": [
        "\n",
        "\n"
       ]
      }
     ],
     "prompt_number": 2
    },
    {
     "cell_type": "code",
     "collapsed": false,
     "input": [
      "bothStrinIfaces = {}\n",
      "for f in fings:\n",
      "    bothStrinIfaces[f] = interfaces[f, 'low'] | interfaces[f, 'high']\n",
      "\n",
      "for f in sorted(bothStrinIfaces.keys()):\n",
      "    print \"%s Interfaces: %d\" %(f, len(bothStrinIfaces[f]))\n",
      "    \n",
      "print\n",
      "print \"%s + %s Interfaces: %d\" %('F1', 'F2', len(bothStrinIfaces['F1'] | bothStrinIfaces['F2']))\n",
      "print \"%s + %s Interfaces: %d\" %('F1', 'F3', len(bothStrinIfaces['F1'] | bothStrinIfaces['F3']))\n",
      "print \"%s + %s Interfaces: %d\" %('F2', 'F3', len(bothStrinIfaces['F2'] | bothStrinIfaces['F3']))\n",
      "print \"%s + %s + %s Interfaces: %d\" %('F1', 'F2', 'F3',len(bothStrinIfaces['F1'] | bothStrinIfaces['F2'] | bothStrinIfaces['F3']))\n",
      "    "
     ],
     "language": "python",
     "metadata": {},
     "outputs": [
      {
       "output_type": "stream",
       "stream": "stdout",
       "text": [
        "F1 Interfaces: 23986\n",
        "F2 Interfaces: 53568\n",
        "F3 Interfaces: 27339\n",
        "\n",
        "F1 + F2 Interfaces: 75928\n",
        "F1 + F3 Interfaces: 51161"
       ]
      },
      {
       "output_type": "stream",
       "stream": "stdout",
       "text": [
        "\n",
        "F2 + F3 Interfaces: 78395\n",
        "F1 + F2 + F3 Interfaces: 100691"
       ]
      },
      {
       "output_type": "stream",
       "stream": "stdout",
       "text": [
        "\n"
       ]
      }
     ],
     "prompt_number": 3
    },
    {
     "cell_type": "code",
     "collapsed": false,
     "input": [],
     "language": "python",
     "metadata": {},
     "outputs": [],
     "prompt_number": 3
    }
   ],
   "metadata": {}
  }
 ]
}