{
 "metadata": {
  "name": "bindingDiversity_cut3bc_0_5"
 },
 "nbformat": 3,
 "nbformat_minor": 0,
 "worksheets": [
  {
   "cells": [
    {
     "cell_type": "code",
     "collapsed": false,
     "input": [
      "from gatherBindStats import *\n",
      "from itertools import product\n",
      "maxSize6 = 20**6\n",
      "maxSize4 = 20**4"
     ],
     "language": "python",
     "metadata": {},
     "outputs": [],
     "prompt_number": 1
    },
    {
     "cell_type": "code",
     "collapsed": false,
     "input": [
      "# Get the protein sets from the binding data.\n",
      "\n",
      "nucs = ['A', 'C', 'G', 'T']\n",
      "aminos = ['A', 'C', 'D', 'E', 'F', 'G', 'I', 'H', 'K', 'L', \n",
      "\t      'M', 'N', 'P', 'Q', 'R', 'S', 'T', 'V', 'W', 'Y']\n",
      "\n",
      "# Get the set of all possible canonical proteins\n",
      "allProts4 = []\n",
      "for i in product(aminos, aminos, aminos, aminos):\n",
      "    allProts4.append(''.join(i))\n",
      "allProts4 = set(allProts4)\n",
      "\n",
      "# Get the dictionary of binding sets indexed by finger and stringency\n",
      "pathPref = '../data/b1hdata/newDatabase/6varpos'\n",
      "proteinDir = 'protein_seq_cut3bc_0_5'\n",
      "fings = ['F1', 'F2', 'F3']\n",
      "strins = ['high', 'low']\n",
      "bindingSets6 = {}\n",
      "bindingSets4 = {}\n",
      "for f in fings:\n",
      "    for s in strins:\n",
      "        bindingSets6[f,s] = getProtSet('/'.join([pathPref,f,s,proteinDir,'all.txt']), \n",
      "                                       range(6))\n",
      "        bindingSets4[f,s] = getProtSet('/'.join([pathPref,f,s,proteinDir,'all.txt']),\n",
      "                                       [0,2,3,5])"
     ],
     "language": "python",
     "metadata": {},
     "outputs": [],
     "prompt_number": 2
    },
    {
     "cell_type": "heading",
     "level": 2,
     "metadata": {},
     "source": [
      "6 Var Positions"
     ]
    },
    {
     "cell_type": "code",
     "collapsed": false,
     "input": [
      "printBindingSetStats(fings, strins, bindingSets6, maxSize6)"
     ],
     "language": "python",
     "metadata": {},
     "outputs": [
      {
       "output_type": "stream",
       "stream": "stdout",
       "text": [
        "Max Size for 6 positions: 64000000\n",
        "################################################################\n",
        "Size of F1 high: 122519\n",
        "Size of F1 low: 191367\n",
        "Size of F2 high: 40519\n",
        "Size of F2 low: 181137\n",
        "Size of F3 high: 82949\n",
        "Size of F3 low: 191793\n",
        "\n",
        "Is high a subset of low? (|High - Low|/|High|)\n",
        "################################################################\n",
        "F1: 0.813\n",
        "F2: 0.343"
       ]
      },
      {
       "output_type": "stream",
       "stream": "stdout",
       "text": [
        "\n",
        "F3: 0.568\n",
        "\n",
        "Combining Fingers\n",
        "################################################################\n",
        "F1 F2 Intersection (high): 1877"
       ]
      },
      {
       "output_type": "stream",
       "stream": "stdout",
       "text": [
        "\n",
        "F1 F2 Union (high)       : 161161\n",
        "F1 F2 Jaccard (high)     : 0.012\n",
        "\n",
        "F1 F2 Intersection (low): 8320"
       ]
      },
      {
       "output_type": "stream",
       "stream": "stdout",
       "text": [
        "\n",
        "F1 F2 Union (low)       : 364184\n",
        "F1 F2 Jaccard (low)     : 0.023\n",
        "\n",
        "F1 F3 Intersection (high): 1035"
       ]
      },
      {
       "output_type": "stream",
       "stream": "stdout",
       "text": [
        "\n",
        "F1 F3 Union (high)       : 204433\n",
        "F1 F3 Jaccard (high)     : 0.005\n",
        "\n",
        "F1 F3 Intersection (low): 4810"
       ]
      },
      {
       "output_type": "stream",
       "stream": "stdout",
       "text": [
        "\n",
        "F1 F3 Union (low)       : 378350\n",
        "F1 F3 Jaccard (low)     : 0.013\n",
        "\n",
        "F2 F3 Intersection (high): 5312"
       ]
      },
      {
       "output_type": "stream",
       "stream": "stdout",
       "text": [
        "\n",
        "F2 F3 Union (high)       : 118156\n",
        "F2 F3 Jaccard (high)     : 0.045\n",
        "\n",
        "F2 F3 Intersection (low): 24832"
       ]
      },
      {
       "output_type": "stream",
       "stream": "stdout",
       "text": [
        "\n",
        "F2 F3 Union (low)       : 348098\n",
        "F2 F3 Jaccard (low)     : 0.071\n",
        "\n",
        "All Intersection (high): 243"
       ]
      },
      {
       "output_type": "stream",
       "stream": "stdout",
       "text": [
        "\n",
        "All Union (high): 238006\n",
        "All Intersection (low): 2022"
       ]
      },
      {
       "output_type": "stream",
       "stream": "stdout",
       "text": [
        "\n",
        "All Union (low): 528357\n",
        "\n",
        "Combining Stringencies\n",
        "################################################################\n",
        "All of F1 Intersection: 22880"
       ]
      },
      {
       "output_type": "stream",
       "stream": "stdout",
       "text": [
        "\n",
        "All of F1 Union       : 291006\n",
        "All of F2 Intersection: 26641"
       ]
      },
      {
       "output_type": "stream",
       "stream": "stdout",
       "text": [
        "\n",
        "All of F2 Union       : 195015\n",
        "All of F3 Intersection: 35817"
       ]
      },
      {
       "output_type": "stream",
       "stream": "stdout",
       "text": [
        "\n",
        "All of F3 Union       : 238925\n",
        "\n",
        "Unioning the intersections\n",
        "All of F1 and F2: 48050\n",
        "All of F1 and F3: 58274\n",
        "All of F2 and F3: 57783\n",
        "All of F1 F2 F3 : 78933"
       ]
      },
      {
       "output_type": "stream",
       "stream": "stdout",
       "text": [
        "\n",
        "\n",
        "Intersecting the unions\n",
        "All of F1 and F2: 10021\n",
        "All of F1 and F3: 6813"
       ]
      },
      {
       "output_type": "stream",
       "stream": "stdout",
       "text": [
        "\n",
        "All of F2 and F3: 26920"
       ]
      },
      {
       "output_type": "stream",
       "stream": "stdout",
       "text": [
        "\n",
        "All of F1 F2 F3 : 2438\n",
        "\n",
        "Unioning the unions\n",
        "All of F1 and F2: 476000"
       ]
      },
      {
       "output_type": "stream",
       "stream": "stdout",
       "text": [
        "\n",
        "All of F1 and F3: 523118"
       ]
      },
      {
       "output_type": "stream",
       "stream": "stdout",
       "text": [
        "\n",
        "All of F2 and F3: 407020"
       ]
      },
      {
       "output_type": "stream",
       "stream": "stdout",
       "text": [
        "\n",
        "All of F1 F2 F3 : 683630"
       ]
      },
      {
       "output_type": "stream",
       "stream": "stdout",
       "text": [
        "\n"
       ]
      }
     ],
     "prompt_number": 3
    },
    {
     "cell_type": "heading",
     "level": 2,
     "metadata": {},
     "source": [
      "4 Var Pos (-1, 2, 3, 6) -- Canonical"
     ]
    },
    {
     "cell_type": "code",
     "collapsed": false,
     "input": [
      "bothStrinsUnion = printBindingSetStats(fings, strins, bindingSets4, maxSize4, allProts4)"
     ],
     "language": "python",
     "metadata": {},
     "outputs": [
      {
       "output_type": "stream",
       "stream": "stdout",
       "text": [
        "Max Size for 4 positions: 160000\n",
        "################################################################\n",
        "Size of F1 high: 58226\n",
        "Size of F1 low: 68606\n",
        "Size of F2 high: 9566\n",
        "Size of F2 low: 39493\n",
        "Size of F3 high: 19392\n",
        "Size of F3 low: 32681\n",
        "\n",
        "Is high a subset of low? (|High - Low|/|High|)\n",
        "################################################################\n",
        "F1: 0.318\n",
        "F2: 0.266\n",
        "F3: 0.357\n",
        "\n",
        "Combining Fingers\n",
        "################################################################\n",
        "F1 F2 Intersection (high): 6267\n",
        "F1 F2 Union (high)       : 61525\n",
        "F1 F2 Jaccard (high)     : 0.102\n",
        "\n",
        "F1 F2 Intersection (low): 28463"
       ]
      },
      {
       "output_type": "stream",
       "stream": "stdout",
       "text": [
        "\n",
        "F1 F2 Union (low)       : 79636\n",
        "F1 F2 Jaccard (low)     : 0.357\n",
        "\n",
        "F1 F3 Intersection (high): 11372\n",
        "F1 F3 Union (high)       : 66246\n",
        "F1 F3 Jaccard (high)     : 0.172\n",
        "\n",
        "F1 F3 Intersection (low): 22758"
       ]
      },
      {
       "output_type": "stream",
       "stream": "stdout",
       "text": [
        "\n",
        "F1 F3 Union (low)       : 78529\n",
        "F1 F3 Jaccard (low)     : 0.290\n",
        "\n",
        "F2 F3 Intersection (high): 3162\n",
        "F2 F3 Union (high)       : 25796\n",
        "F2 F3 Jaccard (high)     : 0.123\n",
        "\n",
        "F2 F3 Intersection (low): 16751\n",
        "F2 F3 Union (low)       : 55423\n",
        "F2 F3 Jaccard (low)     : 0.302\n",
        "\n",
        "All Intersection (high): 2402"
       ]
      },
      {
       "output_type": "stream",
       "stream": "stdout",
       "text": [
        "\n",
        "All Union (high): 68785\n",
        "All Intersection (low): 13840"
       ]
      },
      {
       "output_type": "stream",
       "stream": "stdout",
       "text": [
        "\n",
        "All Union (low): 86648\n",
        "\n",
        "Combining Stringencies\n",
        "################################################################\n",
        "All of F1 Intersection: 39717\n",
        "All of F1 Union       : 87115\n",
        "All of F2 Intersection: 7021"
       ]
      },
      {
       "output_type": "stream",
       "stream": "stdout",
       "text": [
        "\n",
        "All of F2 Union       : 42038\n",
        "All of F3 Intersection: 12473\n",
        "All of F3 Union       : 39600\n",
        "\n",
        "Unioning the intersections\n",
        "All of F1 and F2: 42037\n",
        "All of F1 and F3: 44924\n",
        "All of F2 and F3: 17069\n",
        "All of F1 F2 F3 : 46618"
       ]
      },
      {
       "output_type": "stream",
       "stream": "stdout",
       "text": [
        "\n",
        "\n",
        "Intersecting the unions\n",
        "All of F1 and F2: 34210\n",
        "All of F1 and F3: 30586\n",
        "All of F2 and F3: 19655\n",
        "All of F1 F2 F3 : 17517"
       ]
      },
      {
       "output_type": "stream",
       "stream": "stdout",
       "text": [
        "\n",
        "\n",
        "Unioning the unions\n",
        "All of F1 and F2: 94943\n",
        "All of F1 and F3: 96129"
       ]
      },
      {
       "output_type": "stream",
       "stream": "stdout",
       "text": [
        "\n",
        "All of F2 and F3: 61983\n",
        "All of F1 F2 F3 : 101819"
       ]
      },
      {
       "output_type": "stream",
       "stream": "stdout",
       "text": [
        "\n",
        "\n",
        "How helpful are nearest neighbors for coverage? (-1, 3, 6)\n",
        "################################################################\n",
        "Missing from F1 (high)  : 101774"
       ]
      },
      {
       "output_type": "stream",
       "stream": "stdout",
       "text": [
        "\n",
        "Have neighbors F1 (high): 101520\n",
        "Total coverage F1 high (including neighbors): 159746\n",
        "Missing from F1 (low)  : 91394"
       ]
      },
      {
       "output_type": "stream",
       "stream": "stdout",
       "text": [
        "\n",
        "Have neighbors F1 (low): 91276\n",
        "Total coverage F1 low (including neighbors): 159882\n",
        "Missing from F2 (high)  : 150434"
       ]
      },
      {
       "output_type": "stream",
       "stream": "stdout",
       "text": [
        "\n",
        "Have neighbors F2 (high): 111768\n",
        "Total coverage F2 high (including neighbors): 121334\n",
        "Missing from F2 (low)  : 120507"
       ]
      },
      {
       "output_type": "stream",
       "stream": "stdout",
       "text": [
        "\n",
        "Have neighbors F2 (low): 113175\n",
        "Total coverage F2 low (including neighbors): 152668\n",
        "Missing from F3 (high)  : 140608"
       ]
      },
      {
       "output_type": "stream",
       "stream": "stdout",
       "text": [
        "\n",
        "Have neighbors F3 (high): 125036\n",
        "Total coverage F3 high (including neighbors): 144428\n",
        "Missing from F3 (low)  : 127319"
       ]
      },
      {
       "output_type": "stream",
       "stream": "stdout",
       "text": [
        "\n",
        "Have neighbors F3 (low): 116449\n",
        "Total coverage F3 low (including neighbors): 149130\n",
        "\n",
        "UNIONING HIGH AND LOW STRINGENCIES\n",
        "Missing from F1: 72885"
       ]
      },
      {
       "output_type": "stream",
       "stream": "stdout",
       "text": [
        "\n",
        "Have neighbors F1: 72877\n",
        "Total coverage F1 (including neighbors): 159992\n",
        "Missing from F2: 117962"
       ]
      },
      {
       "output_type": "stream",
       "stream": "stdout",
       "text": [
        "\n",
        "Have neighbors F2: 112899\n",
        "Total coverage F2 (including neighbors): 154937\n",
        "Missing from F3: 120400"
       ]
      },
      {
       "output_type": "stream",
       "stream": "stdout",
       "text": [
        "\n",
        "Have neighbors F3: 116195\n",
        "Total coverage F3 (including neighbors): 155795\n"
       ]
      }
     ],
     "prompt_number": 4
    },
    {
     "cell_type": "heading",
     "level": 2,
     "metadata": {},
     "source": [
      "Overlap with Human and Fly ZFs (ala HMMer + REGEX) -- Canonical Positions"
     ]
    },
    {
     "cell_type": "code",
     "collapsed": false,
     "input": [
      "dmelSet = getUniqueShilpaZFs('../data/shilpa/Drosophila_melanogaster_ZF.fulldom', [0, 2, 3, 6])\n",
      "hsapSet = getUniqueShilpaZFs('../data/shilpa/Homo_sapiens_ZF.fulldom', [0, 2, 3, 6])\n",
      "\n",
      "compareToNatural(bindingSets4, hsapSet, 'Human', fings, strins, bothStrinsUnion)\n",
      "compareToNatural(bindingSets4, dmelSet, 'Fly', fings, strins, bothStrinsUnion)"
     ],
     "language": "python",
     "metadata": {},
     "outputs": [
      {
       "output_type": "stream",
       "stream": "stdout",
       "text": [
        "\n",
        "Fraction of Human ZFs (-1,2,3,6) Captured: (3640 possible)\n",
        "################################################################\n",
        "F1 high: 0.549\n",
        "F1 low: 0.660\n",
        "F2 high: 0.204\n",
        "F2 low: 0.516\n",
        "F3 high: 0.368\n",
        "F3 low: 0.556\n",
        "\n",
        "F1 F2 Intersection (high): 0.161\n",
        "F1 F2 Union (high)       : 0.593\n",
        "F1 F2 Intersection (low): 0.428"
       ]
      },
      {
       "output_type": "stream",
       "stream": "stdout",
       "text": [
        "\n",
        "F1 F2 Union (low)       : 0.748\n",
        "F1 F3 Intersection (high): 0.271\n",
        "F1 F3 Union (high)       : 0.646\n",
        "F1 F3 Intersection (low): 0.443"
       ]
      },
      {
       "output_type": "stream",
       "stream": "stdout",
       "text": [
        "\n",
        "F1 F3 Union (low)       : 0.773\n",
        "F2 F3 Intersection (high): 0.130\n",
        "F2 F3 Union (high)       : 0.442\n",
        "F2 F3 Intersection (low): 0.392\n",
        "F2 F3 Union (low)       : 0.680\n",
        "\n",
        "All Intersection (high): 0.110"
       ]
      },
      {
       "output_type": "stream",
       "stream": "stdout",
       "text": [
        "\n",
        "All Union (high): 0.670\n",
        "All Intersection (low): 0.341"
       ]
      },
      {
       "output_type": "stream",
       "stream": "stdout",
       "text": [
        "\n",
        "All Union (low): 0.810\n",
        "\n",
        "UNIONING HIGH AND LOW STRINGENCIES:\n",
        "All of F1: 0.752\n",
        "All of F2: 0.537\n",
        "All of F3: 0.602\n",
        "All of F1 and F2: 0.809\n",
        "All of F1 and F3: 0.832"
       ]
      },
      {
       "output_type": "stream",
       "stream": "stdout",
       "text": [
        "\n",
        "All of F2 and F3: 0.715\n",
        "All of F1, F2, and F3: 0.857"
       ]
      },
      {
       "output_type": "stream",
       "stream": "stdout",
       "text": [
        "\n",
        "\n",
        "Fraction of Fly ZFs (-1,2,3,6) Captured: (1595 possible)\n",
        "################################################################\n",
        "F1 high: 0.495\n",
        "F1 low: 0.593\n",
        "F2 high: 0.176\n",
        "F2 low: 0.465\n",
        "F3 high: 0.325\n",
        "F3 low: 0.527\n",
        "\n",
        "F1 F2 Intersection (high): 0.134\n",
        "F1 F2 Union (high)       : 0.537\n",
        "F1 F2 Intersection (low): 0.372"
       ]
      },
      {
       "output_type": "stream",
       "stream": "stdout",
       "text": [
        "\n",
        "F1 F2 Union (low)       : 0.685\n",
        "F1 F3 Intersection (high): 0.228\n",
        "F1 F3 Union (high)       : 0.592\n",
        "F1 F3 Intersection (low): 0.400"
       ]
      },
      {
       "output_type": "stream",
       "stream": "stdout",
       "text": [
        "\n",
        "F1 F3 Union (low)       : 0.720\n",
        "F2 F3 Intersection (high): 0.103\n",
        "F2 F3 Union (high)       : 0.398\n",
        "F2 F3 Intersection (low): 0.343\n",
        "F2 F3 Union (low)       : 0.648\n",
        "\n",
        "All Intersection (high): 0.087"
       ]
      },
      {
       "output_type": "stream",
       "stream": "stdout",
       "text": [
        "\n",
        "All Union (high): 0.618\n",
        "All Intersection (low): 0.298"
       ]
      },
      {
       "output_type": "stream",
       "stream": "stdout",
       "text": [
        "\n",
        "All Union (low): 0.767\n",
        "\n",
        "UNIONING HIGH AND LOW STRINGENCIES:\n",
        "All of F1: 0.698\n",
        "All of F2: 0.485\n",
        "All of F3: 0.562\n",
        "All of F1 and F2: 0.758\n",
        "All of F1 and F3: 0.789"
       ]
      },
      {
       "output_type": "stream",
       "stream": "stdout",
       "text": [
        "\n",
        "All of F2 and F3: 0.680\n",
        "All of F1, F2, and F3: 0.818"
       ]
      },
      {
       "output_type": "stream",
       "stream": "stdout",
       "text": [
        "\n"
       ]
      }
     ],
     "prompt_number": 5
    },
    {
     "cell_type": "code",
     "collapsed": false,
     "input": [
      "\n"
     ],
     "language": "python",
     "metadata": {},
     "outputs": [],
     "prompt_number": 5
    }
   ],
   "metadata": {}
  }
 ]
}