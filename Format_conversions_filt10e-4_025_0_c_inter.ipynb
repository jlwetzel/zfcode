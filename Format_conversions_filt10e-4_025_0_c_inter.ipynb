{
 "metadata": {
  "name": "Format_conversions_filt10e-4_025_0_c_inter"
 },
 "nbformat": 3,
 "nbformat_minor": 0,
 "worksheets": [
  {
   "cells": [
    {
     "cell_type": "code",
     "collapsed": false,
     "input": [
      "from changeFormats import targetFiles2singleCSV, csv2txtFile\n",
      "\n"
     ],
     "language": "python",
     "metadata": {},
     "outputs": [],
     "prompt_number": 1
    },
    {
     "cell_type": "code",
     "collapsed": false,
     "input": [
      "prefix = '../data/b1hData/antonProcessed/'\n",
      "numVarPos = 6\n",
      "interfaces = {}\n",
      "fings = ['F1', 'F2', 'F3']\n",
      "strins = ['inter']\n",
      "for fing in fings:\n",
      "    for strin in strins:\n",
      "        path = prefix + fing + '/' + strin + '/' + 'filt_10e-4_025_0_c/'\n",
      "        interfaces[fing] = targetFiles2singleCSV(path, numVarPos, '.txt', style = 'verbose')\n",
      "        csv2txtFile(path, numVarPos, style = 'verbose')\n",
      "        print"
     ],
     "language": "python",
     "metadata": {},
     "outputs": [
      {
       "output_type": "stream",
       "stream": "stdout",
       "text": [
        "Here\n",
        "Num proteins in ../data/b1hData/antonProcessed/F1/inter/filt_10e-4_025_0_c/AAA.txt:  6\n",
        "Num proteins in ../data/b1hData/antonProcessed/F1/inter/filt_10e-4_025_0_c/AAC.txt:  100\n",
        "Num proteins in ../data/b1hData/antonProcessed/F1/inter/filt_10e-4_025_0_c/AAG.txt:  115\n",
        "Num proteins in ../data/b1hData/antonProcessed/F1/inter/filt_10e-4_025_0_c/AAT.txt:  16\n",
        "Num proteins in ../data/b1hData/antonProcessed/F1/inter/filt_10e-4_025_0_c/ACA.txt:  417\n",
        "Num proteins in ../data/b1hData/antonProcessed/F1/inter/filt_10e-4_025_0_c/ACC.txt:  11\n",
        "Num proteins in ../data/b1hData/antonProcessed/F1/inter/filt_10e-4_025_0_c/ACG.txt:  49\n",
        "Num proteins in ../data/b1hData/antonProcessed/F1/inter/filt_10e-4_025_0_c/ACT.txt:  169\n",
        "Num proteins in ../data/b1hData/antonProcessed/F1/inter/filt_10e-4_025_0_c/AGA.txt:  3\n",
        "Num proteins in ../data/b1hData/antonProcessed/F1/inter/filt_10e-4_025_0_c/AGC.txt:  34\n",
        "Num proteins in ../data/b1hData/antonProcessed/F1/inter/filt_10e-4_025_0_c/AGG.txt:  191\n",
        "Num proteins in ../data/b1hData/antonProcessed/F1/inter/filt_10e-4_025_0_c/AGT.txt:  419\n",
        "Num proteins in ../data/b1hData/antonProcessed/F1/inter/filt_10e-4_025_0_c/ATA.txt:  108\n",
        "Num proteins in ../data/b1hData/antonProcessed/F1/inter/filt_10e-4_025_0_c/ATC.txt:  175\n",
        "Num proteins in ../data/b1hData/antonProcessed/F1/inter/filt_10e-4_025_0_c/ATG.txt:  210\n",
        "Num proteins in ../data/b1hData/antonProcessed/F1/inter/filt_10e-4_025_0_c/ATT.txt:  14\n",
        "Num proteins in ../data/b1hData/antonProcessed/F1/inter/filt_10e-4_025_0_c/CAA.txt:  159\n",
        "Num proteins in ../data/b1hData/antonProcessed/F1/inter/filt_10e-4_025_0_c/CAC.txt:  24\n",
        "Num proteins in ../data/b1hData/antonProcessed/F1/inter/filt_10e-4_025_0_c/CAG.txt:  98\n",
        "Num proteins in ../data/b1hData/antonProcessed/F1/inter/filt_10e-4_025_0_c/CAT.txt:  182\n",
        "Num proteins in ../data/b1hData/antonProcessed/F1/inter/filt_10e-4_025_0_c/CCA.txt:  791\n",
        "Num proteins in ../data/b1hData/antonProcessed/F1/inter/filt_10e-4_025_0_c/CCC.txt:  179"
       ]
      },
      {
       "output_type": "stream",
       "stream": "stdout",
       "text": [
        "\n",
        "Num proteins in ../data/b1hData/antonProcessed/F1/inter/filt_10e-4_025_0_c/CCG.txt:  190\n",
        "Num proteins in ../data/b1hData/antonProcessed/F1/inter/filt_10e-4_025_0_c/CCT.txt:  330\n",
        "Num proteins in ../data/b1hData/antonProcessed/F1/inter/filt_10e-4_025_0_c/CGA.txt:  123\n",
        "Num proteins in ../data/b1hData/antonProcessed/F1/inter/filt_10e-4_025_0_c/CGC.txt:  193\n",
        "Num proteins in ../data/b1hData/antonProcessed/F1/inter/filt_10e-4_025_0_c/CGG.txt:  529"
       ]
      },
      {
       "output_type": "stream",
       "stream": "stdout",
       "text": [
        "\n",
        "Num proteins in ../data/b1hData/antonProcessed/F1/inter/filt_10e-4_025_0_c/CGT.txt:  20"
       ]
      },
      {
       "output_type": "stream",
       "stream": "stdout",
       "text": [
        "\n",
        "Num proteins in ../data/b1hData/antonProcessed/F1/inter/filt_10e-4_025_0_c/CTA.txt:  13\n",
        "Num proteins in ../data/b1hData/antonProcessed/F1/inter/filt_10e-4_025_0_c/CTC.txt:  21\n",
        "Num proteins in ../data/b1hData/antonProcessed/F1/inter/filt_10e-4_025_0_c/CTG.txt:  75\n",
        "Num proteins in ../data/b1hData/antonProcessed/F1/inter/filt_10e-4_025_0_c/CTT.txt:  51\n",
        "Num proteins in ../data/b1hData/antonProcessed/F1/inter/filt_10e-4_025_0_c/GAA.txt:  212\n",
        "Num proteins in ../data/b1hData/antonProcessed/F1/inter/filt_10e-4_025_0_c/GAC.txt:  246\n",
        "Num proteins in ../data/b1hData/antonProcessed/F1/inter/filt_10e-4_025_0_c/GAG.txt:  271\n",
        "Num proteins in ../data/b1hData/antonProcessed/F1/inter/filt_10e-4_025_0_c/GAT.txt:  327\n",
        "Num proteins in ../data/b1hData/antonProcessed/F1/inter/filt_10e-4_025_0_c/GCA.txt:  502\n",
        "Num proteins in ../data/b1hData/antonProcessed/F1/inter/filt_10e-4_025_0_c/GCC.txt:  41\n",
        "Num proteins in ../data/b1hData/antonProcessed/F1/inter/filt_10e-4_025_0_c/GCG.txt:  137\n",
        "Num proteins in ../data/b1hData/antonProcessed/F1/inter/filt_10e-4_025_0_c/GCT.txt:  452\n",
        "Num proteins in ../data/b1hData/antonProcessed/F1/inter/filt_10e-4_025_0_c/GGA.txt:  13\n",
        "Num proteins in ../data/b1hData/antonProcessed/F1/inter/filt_10e-4_025_0_c/GGC.txt:  44\n",
        "Num proteins in ../data/b1hData/antonProcessed/F1/inter/filt_10e-4_025_0_c/GGG.txt:  255\n",
        "Num proteins in ../data/b1hData/antonProcessed/F1/inter/filt_10e-4_025_0_c/GGT.txt:  131\n",
        "Num proteins in ../data/b1hData/antonProcessed/F1/inter/filt_10e-4_025_0_c/GTA.txt:  50\n",
        "Num proteins in ../data/b1hData/antonProcessed/F1/inter/filt_10e-4_025_0_c/GTC.txt:  49\n",
        "Num proteins in ../data/b1hData/antonProcessed/F1/inter/filt_10e-4_025_0_c/GTG.txt:  348\n",
        "Num proteins in ../data/b1hData/antonProcessed/F1/inter/filt_10e-4_025_0_c/GTT.txt:  64\n",
        "Num proteins in ../data/b1hData/antonProcessed/F1/inter/filt_10e-4_025_0_c/TAA.txt:  3\n",
        "Num proteins in ../data/b1hData/antonProcessed/F1/inter/filt_10e-4_025_0_c/TAC.txt:  27\n",
        "Num proteins in ../data/b1hData/antonProcessed/F1/inter/filt_10e-4_025_0_c/TAG.txt:  2\n",
        "Num proteins in ../data/b1hData/antonProcessed/F1/inter/filt_10e-4_025_0_c/TAT.txt:  6\n",
        "Num proteins in ../data/b1hData/antonProcessed/F1/inter/filt_10e-4_025_0_c/TCA.txt:  55\n",
        "Num proteins in ../data/b1hData/antonProcessed/F1/inter/filt_10e-4_025_0_c/TCC.txt:  14\n",
        "Num proteins in ../data/b1hData/antonProcessed/F1/inter/filt_10e-4_025_0_c/TCG.txt:  29\n",
        "Num proteins in ../data/b1hData/antonProcessed/F1/inter/filt_10e-4_025_0_c/TCT.txt:  13\n",
        "Num proteins in ../data/b1hData/antonProcessed/F1/inter/filt_10e-4_025_0_c/TGA.txt:  2\n",
        "Num proteins in ../data/b1hData/antonProcessed/F1/inter/filt_10e-4_025_0_c/TGC.txt:  44\n",
        "Num proteins in ../data/b1hData/antonProcessed/F1/inter/filt_10e-4_025_0_c/TGG.txt:  210\n",
        "Num proteins in ../data/b1hData/antonProcessed/F1/inter/filt_10e-4_025_0_c/TGT.txt:  149\n",
        "Num proteins in ../data/b1hData/antonProcessed/F1/inter/filt_10e-4_025_0_c/TTA.txt:  43\n",
        "Num proteins in ../data/b1hData/antonProcessed/F1/inter/filt_10e-4_025_0_c/TTC.txt:  8\n",
        "Num proteins in ../data/b1hData/antonProcessed/F1/inter/filt_10e-4_025_0_c/TTG.txt:  10\n",
        "Num proteins in ../data/b1hData/antonProcessed/F1/inter/filt_10e-4_025_0_c/TTT.txt:  5\n",
        "Total num protein/dna observations in all files:  8777\n",
        "Total num unique proteins in all files:  6035\n",
        "\n",
        "Num obs processed in csv to txt conversion:  8777"
       ]
      },
      {
       "output_type": "stream",
       "stream": "stdout",
       "text": [
        "\n",
        "\n",
        "Here\n",
        "Num proteins in ../data/b1hData/antonProcessed/F2/inter/filt_10e-4_025_0_c/AAA.txt:  83\n",
        "Num proteins in ../data/b1hData/antonProcessed/F2/inter/filt_10e-4_025_0_c/AAC.txt:  762\n",
        "Num proteins in ../data/b1hData/antonProcessed/F2/inter/filt_10e-4_025_0_c/AAG.txt:  165\n",
        "Num proteins in ../data/b1hData/antonProcessed/F2/inter/filt_10e-4_025_0_c/AAT.txt:  170\n",
        "Num proteins in ../data/b1hData/antonProcessed/F2/inter/filt_10e-4_025_0_c/ACA.txt:  503\n",
        "Num proteins in ../data/b1hData/antonProcessed/F2/inter/filt_10e-4_025_0_c/ACC.txt:  197\n",
        "Num proteins in ../data/b1hData/antonProcessed/F2/inter/filt_10e-4_025_0_c/ACG.txt:  608\n",
        "Num proteins in ../data/b1hData/antonProcessed/F2/inter/filt_10e-4_025_0_c/ACT.txt:  1262\n",
        "Num proteins in ../data/b1hData/antonProcessed/F2/inter/filt_10e-4_025_0_c/AGA.txt:  43\n",
        "Num proteins in ../data/b1hData/antonProcessed/F2/inter/filt_10e-4_025_0_c/AGC.txt:  163\n",
        "Num proteins in ../data/b1hData/antonProcessed/F2/inter/filt_10e-4_025_0_c/AGG.txt:  480\n",
        "Num proteins in ../data/b1hData/antonProcessed/F2/inter/filt_10e-4_025_0_c/AGT.txt:  707\n",
        "Num proteins in ../data/b1hData/antonProcessed/F2/inter/filt_10e-4_025_0_c/ATA.txt:  19\n",
        "Num proteins in ../data/b1hData/antonProcessed/F2/inter/filt_10e-4_025_0_c/ATC.txt:  506"
       ]
      },
      {
       "output_type": "stream",
       "stream": "stdout",
       "text": [
        "\n",
        "Num proteins in ../data/b1hData/antonProcessed/F2/inter/filt_10e-4_025_0_c/ATG.txt:  180\n",
        "Num proteins in ../data/b1hData/antonProcessed/F2/inter/filt_10e-4_025_0_c/ATT.txt:  428\n",
        "Num proteins in ../data/b1hData/antonProcessed/F2/inter/filt_10e-4_025_0_c/CAA.txt:  4\n",
        "Num proteins in ../data/b1hData/antonProcessed/F2/inter/filt_10e-4_025_0_c/CAC.txt:  337\n",
        "Num proteins in ../data/b1hData/antonProcessed/F2/inter/filt_10e-4_025_0_c/CAG.txt:  615\n",
        "Num proteins in ../data/b1hData/antonProcessed/F2/inter/filt_10e-4_025_0_c/CAT.txt:  401\n",
        "Num proteins in ../data/b1hData/antonProcessed/F2/inter/filt_10e-4_025_0_c/CCA.txt:  44\n",
        "Num proteins in ../data/b1hData/antonProcessed/F2/inter/filt_10e-4_025_0_c/CCC.txt:  91\n",
        "Num proteins in ../data/b1hData/antonProcessed/F2/inter/filt_10e-4_025_0_c/CCG.txt:  19\n",
        "Num proteins in ../data/b1hData/antonProcessed/F2/inter/filt_10e-4_025_0_c/CCT.txt:  105\n",
        "Num proteins in ../data/b1hData/antonProcessed/F2/inter/filt_10e-4_025_0_c/CGA.txt:  19\n",
        "Num proteins in ../data/b1hData/antonProcessed/F2/inter/filt_10e-4_025_0_c/CGC.txt:  57\n",
        "Num proteins in ../data/b1hData/antonProcessed/F2/inter/filt_10e-4_025_0_c/CGG.txt:  940\n",
        "Num proteins in ../data/b1hData/antonProcessed/F2/inter/filt_10e-4_025_0_c/CGT.txt:  393\n",
        "Num proteins in ../data/b1hData/antonProcessed/F2/inter/filt_10e-4_025_0_c/CTA.txt:  36\n",
        "Num proteins in ../data/b1hData/antonProcessed/F2/inter/filt_10e-4_025_0_c/CTC.txt:  26\n",
        "Num proteins in ../data/b1hData/antonProcessed/F2/inter/filt_10e-4_025_0_c/CTG.txt:  27\n",
        "Num proteins in ../data/b1hData/antonProcessed/F2/inter/filt_10e-4_025_0_c/CTT.txt:  130\n",
        "Num proteins in ../data/b1hData/antonProcessed/F2/inter/filt_10e-4_025_0_c/GAA.txt:  154\n",
        "Num proteins in ../data/b1hData/antonProcessed/F2/inter/filt_10e-4_025_0_c/GAC.txt:  785\n",
        "Num proteins in ../data/b1hData/antonProcessed/F2/inter/filt_10e-4_025_0_c/GAG.txt:  811"
       ]
      },
      {
       "output_type": "stream",
       "stream": "stdout",
       "text": [
        "\n",
        "Num proteins in ../data/b1hData/antonProcessed/F2/inter/filt_10e-4_025_0_c/GAT.txt:  377\n",
        "Num proteins in ../data/b1hData/antonProcessed/F2/inter/filt_10e-4_025_0_c/GCA.txt:  37\n",
        "Num proteins in ../data/b1hData/antonProcessed/F2/inter/filt_10e-4_025_0_c/GCC.txt:  228\n",
        "Num proteins in ../data/b1hData/antonProcessed/F2/inter/filt_10e-4_025_0_c/GCG.txt:  524\n",
        "Num proteins in ../data/b1hData/antonProcessed/F2/inter/filt_10e-4_025_0_c/GCT.txt:  964\n",
        "Num proteins in ../data/b1hData/antonProcessed/F2/inter/filt_10e-4_025_0_c/GGA.txt:  1\n",
        "Num proteins in ../data/b1hData/antonProcessed/F2/inter/filt_10e-4_025_0_c/GGC.txt:  56\n",
        "Num proteins in ../data/b1hData/antonProcessed/F2/inter/filt_10e-4_025_0_c/GGG.txt:  748\n",
        "Num proteins in ../data/b1hData/antonProcessed/F2/inter/filt_10e-4_025_0_c/GGT.txt:  359\n",
        "Num proteins in ../data/b1hData/antonProcessed/F2/inter/filt_10e-4_025_0_c/GTA.txt:  0\n",
        "Num proteins in ../data/b1hData/antonProcessed/F2/inter/filt_10e-4_025_0_c/GTC.txt:  343\n",
        "Num proteins in ../data/b1hData/antonProcessed/F2/inter/filt_10e-4_025_0_c/GTG.txt:  673\n",
        "Num proteins in ../data/b1hData/antonProcessed/F2/inter/filt_10e-4_025_0_c/GTT.txt:  631"
       ]
      },
      {
       "output_type": "stream",
       "stream": "stdout",
       "text": [
        "\n",
        "Num proteins in ../data/b1hData/antonProcessed/F2/inter/filt_10e-4_025_0_c/TAA.txt:  1\n",
        "Num proteins in ../data/b1hData/antonProcessed/F2/inter/filt_10e-4_025_0_c/TAC.txt:  76\n",
        "Num proteins in ../data/b1hData/antonProcessed/F2/inter/filt_10e-4_025_0_c/TAG.txt:  123\n",
        "Num proteins in ../data/b1hData/antonProcessed/F2/inter/filt_10e-4_025_0_c/TAT.txt:  175\n",
        "Num proteins in ../data/b1hData/antonProcessed/F2/inter/filt_10e-4_025_0_c/TCA.txt:  1\n",
        "Num proteins in ../data/b1hData/antonProcessed/F2/inter/filt_10e-4_025_0_c/TCC.txt:  119\n",
        "Num proteins in ../data/b1hData/antonProcessed/F2/inter/filt_10e-4_025_0_c/TCG.txt:  54\n",
        "Num proteins in ../data/b1hData/antonProcessed/F2/inter/filt_10e-4_025_0_c/TCT.txt:  80\n",
        "Num proteins in ../data/b1hData/antonProcessed/F2/inter/filt_10e-4_025_0_c/TGA.txt:  12\n",
        "Num proteins in ../data/b1hData/antonProcessed/F2/inter/filt_10e-4_025_0_c/TGC.txt:  12\n",
        "Num proteins in ../data/b1hData/antonProcessed/F2/inter/filt_10e-4_025_0_c/TGG.txt:  903\n",
        "Num proteins in ../data/b1hData/antonProcessed/F2/inter/filt_10e-4_025_0_c/TGT.txt:  1213\n",
        "Num proteins in ../data/b1hData/antonProcessed/F2/inter/filt_10e-4_025_0_c/TTA.txt:  5\n",
        "Num proteins in ../data/b1hData/antonProcessed/F2/inter/filt_10e-4_025_0_c/TTC.txt:  39\n",
        "Num proteins in ../data/b1hData/antonProcessed/F2/inter/filt_10e-4_025_0_c/TTG.txt:  193\n",
        "Num proteins in ../data/b1hData/antonProcessed/F2/inter/filt_10e-4_025_0_c/TTT.txt:  10\n",
        "Total num protein/dna observations in all files:  19227\n",
        "Total num unique proteins in all files:  15449\n",
        "\n",
        "Num obs processed in csv to txt conversion:  19227"
       ]
      },
      {
       "output_type": "stream",
       "stream": "stdout",
       "text": [
        "\n",
        "\n",
        "Here\n",
        "Num proteins in ../data/b1hData/antonProcessed/F3/inter/filt_10e-4_025_0_c/AAA.txt:  30\n",
        "Num proteins in ../data/b1hData/antonProcessed/F3/inter/filt_10e-4_025_0_c/AAC.txt:  196\n",
        "Num proteins in ../data/b1hData/antonProcessed/F3/inter/filt_10e-4_025_0_c/AAG.txt:  537\n",
        "Num proteins in ../data/b1hData/antonProcessed/F3/inter/filt_10e-4_025_0_c/AAT.txt:  63\n",
        "Num proteins in ../data/b1hData/antonProcessed/F3/inter/filt_10e-4_025_0_c/ACA.txt:  2\n",
        "Num proteins in ../data/b1hData/antonProcessed/F3/inter/filt_10e-4_025_0_c/ACC.txt:  28\n",
        "Num proteins in ../data/b1hData/antonProcessed/F3/inter/filt_10e-4_025_0_c/ACG.txt:  353\n",
        "Num proteins in ../data/b1hData/antonProcessed/F3/inter/filt_10e-4_025_0_c/ACT.txt:  153\n",
        "Num proteins in ../data/b1hData/antonProcessed/F3/inter/filt_10e-4_025_0_c/AGA.txt:  1\n",
        "Num proteins in ../data/b1hData/antonProcessed/F3/inter/filt_10e-4_025_0_c/AGC.txt:  281\n",
        "Num proteins in ../data/b1hData/antonProcessed/F3/inter/filt_10e-4_025_0_c/AGG.txt:  63\n",
        "Num proteins in ../data/b1hData/antonProcessed/F3/inter/filt_10e-4_025_0_c/AGT.txt:  730\n",
        "Num proteins in ../data/b1hData/antonProcessed/F3/inter/filt_10e-4_025_0_c/ATA.txt:  9\n",
        "Num proteins in ../data/b1hData/antonProcessed/F3/inter/filt_10e-4_025_0_c/ATC.txt:  435\n",
        "Num proteins in ../data/b1hData/antonProcessed/F3/inter/filt_10e-4_025_0_c/ATG.txt:  26\n",
        "Num proteins in ../data/b1hData/antonProcessed/F3/inter/filt_10e-4_025_0_c/ATT.txt:  132\n",
        "Num proteins in ../data/b1hData/antonProcessed/F3/inter/filt_10e-4_025_0_c/CAA.txt:  44\n",
        "Num proteins in ../data/b1hData/antonProcessed/F3/inter/filt_10e-4_025_0_c/CAC.txt:  72\n",
        "Num proteins in ../data/b1hData/antonProcessed/F3/inter/filt_10e-4_025_0_c/CAG.txt:  175\n",
        "Num proteins in ../data/b1hData/antonProcessed/F3/inter/filt_10e-4_025_0_c/CAT.txt:  241\n",
        "Num proteins in ../data/b1hData/antonProcessed/F3/inter/filt_10e-4_025_0_c/CCA.txt:  6\n",
        "Num proteins in ../data/b1hData/antonProcessed/F3/inter/filt_10e-4_025_0_c/CCC.txt:  65\n",
        "Num proteins in ../data/b1hData/antonProcessed/F3/inter/filt_10e-4_025_0_c/CCG.txt:  285\n",
        "Num proteins in ../data/b1hData/antonProcessed/F3/inter/filt_10e-4_025_0_c/CCT.txt:  58\n",
        "Num proteins in ../data/b1hData/antonProcessed/F3/inter/filt_10e-4_025_0_c/CGA.txt:  2\n",
        "Num proteins in ../data/b1hData/antonProcessed/F3/inter/filt_10e-4_025_0_c/CGC.txt:  368\n",
        "Num proteins in ../data/b1hData/antonProcessed/F3/inter/filt_10e-4_025_0_c/CGG.txt:  23\n",
        "Num proteins in ../data/b1hData/antonProcessed/F3/inter/filt_10e-4_025_0_c/CGT.txt:  394\n",
        "Num proteins in ../data/b1hData/antonProcessed/F3/inter/filt_10e-4_025_0_c/CTA.txt:  0\n",
        "Num proteins in ../data/b1hData/antonProcessed/F3/inter/filt_10e-4_025_0_c/CTC.txt:  57\n",
        "Num proteins in ../data/b1hData/antonProcessed/F3/inter/filt_10e-4_025_0_c/CTG.txt:  7\n",
        "Num proteins in ../data/b1hData/antonProcessed/F3/inter/filt_10e-4_025_0_c/CTT.txt:  2\n",
        "Num proteins in ../data/b1hData/antonProcessed/F3/inter/filt_10e-4_025_0_c/GAA.txt:  150\n",
        "Num proteins in ../data/b1hData/antonProcessed/F3/inter/filt_10e-4_025_0_c/GAC.txt:  126\n",
        "Num proteins in ../data/b1hData/antonProcessed/F3/inter/filt_10e-4_025_0_c/GAG.txt:  427"
       ]
      },
      {
       "output_type": "stream",
       "stream": "stdout",
       "text": [
        "\n",
        "Num proteins in ../data/b1hData/antonProcessed/F3/inter/filt_10e-4_025_0_c/GAT.txt:  222\n",
        "Num proteins in ../data/b1hData/antonProcessed/F3/inter/filt_10e-4_025_0_c/GCA.txt:  97\n",
        "Num proteins in ../data/b1hData/antonProcessed/F3/inter/filt_10e-4_025_0_c/GCC.txt:  52\n",
        "Num proteins in ../data/b1hData/antonProcessed/F3/inter/filt_10e-4_025_0_c/GCG.txt:  191\n",
        "Num proteins in ../data/b1hData/antonProcessed/F3/inter/filt_10e-4_025_0_c/GCT.txt:  272\n",
        "Num proteins in ../data/b1hData/antonProcessed/F3/inter/filt_10e-4_025_0_c/GGA.txt:  176\n",
        "Num proteins in ../data/b1hData/antonProcessed/F3/inter/filt_10e-4_025_0_c/GGC.txt:  101\n",
        "Num proteins in ../data/b1hData/antonProcessed/F3/inter/filt_10e-4_025_0_c/GGG.txt:  402\n",
        "Num proteins in ../data/b1hData/antonProcessed/F3/inter/filt_10e-4_025_0_c/GGT.txt:  566\n",
        "Num proteins in ../data/b1hData/antonProcessed/F3/inter/filt_10e-4_025_0_c/GTA.txt:  314\n",
        "Num proteins in ../data/b1hData/antonProcessed/F3/inter/filt_10e-4_025_0_c/GTC.txt:  288\n",
        "Num proteins in ../data/b1hData/antonProcessed/F3/inter/filt_10e-4_025_0_c/GTG.txt:  548\n",
        "Num proteins in ../data/b1hData/antonProcessed/F3/inter/filt_10e-4_025_0_c/GTT.txt:  499\n",
        "Num proteins in ../data/b1hData/antonProcessed/F3/inter/filt_10e-4_025_0_c/TAA.txt:  32\n",
        "Num proteins in ../data/b1hData/antonProcessed/F3/inter/filt_10e-4_025_0_c/TAC.txt:  62\n",
        "Num proteins in ../data/b1hData/antonProcessed/F3/inter/filt_10e-4_025_0_c/TAG.txt:  69\n",
        "Num proteins in ../data/b1hData/antonProcessed/F3/inter/filt_10e-4_025_0_c/TAT.txt:  349\n",
        "Num proteins in ../data/b1hData/antonProcessed/F3/inter/filt_10e-4_025_0_c/TCA.txt:  1\n",
        "Num proteins in ../data/b1hData/antonProcessed/F3/inter/filt_10e-4_025_0_c/TCC.txt:  236"
       ]
      },
      {
       "output_type": "stream",
       "stream": "stdout",
       "text": [
        "\n",
        "Num proteins in ../data/b1hData/antonProcessed/F3/inter/filt_10e-4_025_0_c/TCG.txt:  30\n",
        "Num proteins in ../data/b1hData/antonProcessed/F3/inter/filt_10e-4_025_0_c/TCT.txt:  97\n",
        "Num proteins in ../data/b1hData/antonProcessed/F3/inter/filt_10e-4_025_0_c/TGA.txt:  472\n",
        "Num proteins in ../data/b1hData/antonProcessed/F3/inter/filt_10e-4_025_0_c/TGC.txt:  211\n",
        "Num proteins in ../data/b1hData/antonProcessed/F3/inter/filt_10e-4_025_0_c/TGG.txt:  43\n",
        "Num proteins in ../data/b1hData/antonProcessed/F3/inter/filt_10e-4_025_0_c/TGT.txt:  1208\n",
        "Num proteins in ../data/b1hData/antonProcessed/F3/inter/filt_10e-4_025_0_c/TTA.txt:  0\n",
        "Num proteins in ../data/b1hData/antonProcessed/F3/inter/filt_10e-4_025_0_c/TTC.txt:  3\n",
        "Num proteins in ../data/b1hData/antonProcessed/F3/inter/filt_10e-4_025_0_c/TTG.txt:  4\n",
        "Num proteins in ../data/b1hData/antonProcessed/F3/inter/filt_10e-4_025_0_c/TTT.txt:  92\n",
        "Total num protein/dna observations in all files:  12178\n",
        "Total num unique proteins in all files:  9635\n",
        "\n",
        "Num obs processed in csv to txt conversion:  12178"
       ]
      },
      {
       "output_type": "stream",
       "stream": "stdout",
       "text": [
        "\n",
        "\n"
       ]
      }
     ],
     "prompt_number": 2
    },
    {
     "cell_type": "code",
     "collapsed": false,
     "input": [
      "bothStrinIfaces = interfaces\n",
      "\n",
      "print \"%s + %s Interfaces: %d\" %('F1', 'F2', len(bothStrinIfaces['F1'] | bothStrinIfaces['F2']))\n",
      "print \"%s + %s Interfaces: %d\" %('F1', 'F3', len(bothStrinIfaces['F1'] | bothStrinIfaces['F3']))\n",
      "print \"%s + %s Interfaces: %d\" %('F2', 'F3', len(bothStrinIfaces['F2'] | bothStrinIfaces['F3']))\n",
      "print \"%s + %s + %s Interfaces: %d\" %('F1', 'F2', 'F3',len(bothStrinIfaces['F1'] | bothStrinIfaces['F2'] | bothStrinIfaces['F3']))\n",
      "    "
     ],
     "language": "python",
     "metadata": {},
     "outputs": [
      {
       "output_type": "stream",
       "stream": "stdout",
       "text": [
        "F1 + F2 Interfaces: 27466\n",
        "F1 + F3 Interfaces: 20902\n",
        "F2 + F3 Interfaces: 30235\n",
        "F1 + F2 + F3 Interfaces: 38440\n"
       ]
      }
     ],
     "prompt_number": 3
    },
    {
     "cell_type": "code",
     "collapsed": false,
     "input": [],
     "language": "python",
     "metadata": {},
     "outputs": [],
     "prompt_number": 3
    }
   ],
   "metadata": {}
  }
 ]
}