{
 "metadata": {
  "name": "bindingDiversity_oldData"
 },
 "nbformat": 3,
 "nbformat_minor": 0,
 "worksheets": [
  {
   "cells": [
    {
     "cell_type": "code",
     "collapsed": false,
     "input": [
      "from gatherBindStats import *\n",
      "from scipy import stats\n",
      "maxSize6 = 20**6\n",
      "maxSize4 = 20**4"
     ],
     "language": "python",
     "metadata": {},
     "outputs": [],
     "prompt_number": 6
    },
    {
     "cell_type": "code",
     "collapsed": false,
     "input": [
      "# Get the protein sets from the binding data.\n",
      "pathPref = '../data/b1hdata/oldData/'\n",
      "proteinDir = 'threshold025'\n",
      "fings = ['F2', 'F3']\n",
      "strins = ['high', 'low']\n",
      "bindingSets6 = {}\n",
      "bindingSets4 = {}\n",
      "for f in fings:\n",
      "    for s in strins:\n",
      "        bindingSets6[f,s] = getProtSet('/'.join([pathPref,f,proteinDir,s,'all.txt']), \n",
      "                                       range(6))\n",
      "        bindingSets4[f,s] = getProtSet('/'.join([pathPref,f,proteinDir,s,'all.txt']),\n",
      "                                       [0,2,3,5])"
     ],
     "language": "python",
     "metadata": {},
     "outputs": [],
     "prompt_number": 7
    },
    {
     "cell_type": "heading",
     "level": 2,
     "metadata": {},
     "source": [
      "6 Var Positions"
     ]
    },
    {
     "cell_type": "code",
     "collapsed": false,
     "input": [
      "printBindingSetStats(fings, strins, bindingSets6, maxSize6)"
     ],
     "language": "python",
     "metadata": {},
     "outputs": [
      {
       "output_type": "stream",
       "stream": "stdout",
       "text": [
        "Max Size for 6 positions: 64000000\n",
        "################################################################\n",
        "Size of F2 high: 61685\n",
        "Size of F2 low: 136264\n",
        "Size of F3 high: 56111\n",
        "Size of F3 low: 143245\n",
        "\n",
        "Is high a subset of low? (|High - Low|/|High|)\n",
        "################################################################\n",
        "F2: 0.437\n",
        "F3: 0.467\n",
        "\n",
        "Combining Sets\n",
        "################################################################\n",
        "F2 F3 Intersection (high): 5263"
       ]
      },
      {
       "output_type": "stream",
       "stream": "stdout",
       "text": [
        "\n",
        "F2 F3 Union (high)       : 112533\n",
        "F2 F3 Jaccard (high)     : 0.047\n",
        "\n",
        "F2 F3 Intersection (low): 24094"
       ]
      },
      {
       "output_type": "stream",
       "stream": "stdout",
       "text": [
        "\n",
        "F2 F3 Union (low)       : 255415\n",
        "F2 F3 Jaccard (low)     : 0.094\n",
        "\n",
        "All Intersection (high): 5263"
       ]
      },
      {
       "output_type": "stream",
       "stream": "stdout",
       "text": [
        "\n",
        "All Union (high): 112533\n",
        "All Intersection (low): 24094"
       ]
      },
      {
       "output_type": "stream",
       "stream": "stdout",
       "text": [
        "\n",
        "All Union (low): 255415\n"
       ]
      }
     ],
     "prompt_number": 8
    },
    {
     "cell_type": "heading",
     "level": 2,
     "metadata": {},
     "source": [
      "4 Var Pos (-1, 2, 3, 6) -- Canonical"
     ]
    },
    {
     "cell_type": "code",
     "collapsed": false,
     "input": [
      "printBindingSetStats(fings, strins, bindingSets4, maxSize4)"
     ],
     "language": "python",
     "metadata": {},
     "outputs": [
      {
       "output_type": "stream",
       "stream": "stdout",
       "text": [
        "Max Size for 4 positions: 160000\n",
        "################################################################\n",
        "Size of F2 high: 14631\n",
        "Size of F2 low: 18202\n",
        "Size of F3 high: 16623\n",
        "Size of F3 low: 14384\n",
        "\n",
        "Is high a subset of low? (|High - Low|/|High|)\n",
        "################################################################\n",
        "F2: 0.419\n",
        "F3: 0.642\n",
        "\n",
        "Combining Sets\n",
        "################################################################\n",
        "F2 F3 Intersection (high): 4313\n",
        "F2 F3 Union (high)       : 26941\n",
        "F2 F3 Jaccard (high)     : 0.160\n",
        "\n",
        "F2 F3 Intersection (low): 5209\n",
        "F2 F3 Union (low)       : 27377\n",
        "F2 F3 Jaccard (low)     : 0.190\n",
        "\n",
        "All Intersection (high): 4313"
       ]
      },
      {
       "output_type": "stream",
       "stream": "stdout",
       "text": [
        "\n",
        "All Union (high): 26941\n",
        "All Intersection (low): 5209\n",
        "All Union (low): 27377\n"
       ]
      }
     ],
     "prompt_number": 9
    },
    {
     "cell_type": "heading",
     "level": 2,
     "metadata": {},
     "source": [
      "Overlap with Human and Fly ZFs (ala HMMer + REGEX) -- Canonical Positions"
     ]
    },
    {
     "cell_type": "code",
     "collapsed": false,
     "input": [
      "dmelSet = getUniqueShilpaZFs('../data/shilpa/Drosophila_melanogaster_ZF.fulldom', [0, 2, 3, 6])\n",
      "hsapSet = getUniqueShilpaZFs('../data/shilpa/Homo_sapiens_ZF.fulldom', [0, 2, 3, 6])\n",
      "\n",
      "compareToNatural(bindingSets4, hsapSet, 'Human', fings, strins)\n",
      "compareToNatural(bindingSets4, dmelSet, 'Fly', fings, strins)"
     ],
     "language": "python",
     "metadata": {},
     "outputs": [
      {
       "output_type": "stream",
       "stream": "stdout",
       "text": [
        "\n",
        "Fraction of Human ZFs (-1,2,3,6) Captured: (3640 possible)\n",
        "################################################################\n",
        "F2 high: 0.198\n",
        "F2 low: 0.274\n",
        "F3 high: 0.199\n",
        "F3 low: 0.261\n",
        "\n",
        "F2 F3 Intersection (high): 0.084\n",
        "F2 F3 Union (high)       : 0.313\n",
        "F2 F3 Intersection (low): 0.156\n",
        "F2 F3 Union (low)       : 0.379\n",
        "\n",
        "All Intersection (high): 0.084\n",
        "All Union (high): 0.313\n",
        "All Intersection (low): 0.156\n",
        "All Union (low): 0.379\n",
        "\n",
        "Fraction of Fly ZFs (-1,2,3,6) Captured: (1595 possible)\n",
        "################################################################\n",
        "F2 high: 0.176\n",
        "F2 low: 0.234\n",
        "F3 high: 0.179\n",
        "F3 low: 0.224\n",
        "\n",
        "F2 F3 Intersection (high): 0.076"
       ]
      },
      {
       "output_type": "stream",
       "stream": "stdout",
       "text": [
        "\n",
        "F2 F3 Union (high)       : 0.278\n",
        "F2 F3 Intersection (low): 0.137\n",
        "F2 F3 Union (low)       : 0.322\n",
        "\n",
        "All Intersection (high): 0.076\n",
        "All Union (high): 0.278\n",
        "All Intersection (low): 0.137\n",
        "All Union (low): 0.322\n"
       ]
      }
     ],
     "prompt_number": 10
    },
    {
     "cell_type": "code",
     "collapsed": false,
     "input": [
      "\n"
     ],
     "language": "python",
     "metadata": {},
     "outputs": [],
     "prompt_number": 10
    }
   ],
   "metadata": {}
  }
 ]
}