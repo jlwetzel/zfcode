{
 "metadata": {
  "name": "Format_conversions_filt10e-4_025_0_c_union"
 },
 "nbformat": 3,
 "nbformat_minor": 0,
 "worksheets": [
  {
   "cells": [
    {
     "cell_type": "code",
     "collapsed": false,
     "input": [
      "from changeFormats import targetFiles2singleCSV, csv2txtFile\n",
      "\n"
     ],
     "language": "python",
     "metadata": {},
     "outputs": [],
     "prompt_number": 1
    },
    {
     "cell_type": "code",
     "collapsed": false,
     "input": [
      "prefix = '../data/b1hData/antonProcessed/'\n",
      "numVarPos = 6\n",
      "interfaces = {}\n",
      "fings = ['F1', 'F2', 'F3']\n",
      "strins = ['union']\n",
      "for fing in fings:\n",
      "    for strin in strins:\n",
      "        path = prefix + fing + '/' + strin + '/' + 'filt_10e-4_025_0_c/'\n",
      "        interfaces[fing] = targetFiles2singleCSV(path, numVarPos, '.txt', style = 'verbose')\n",
      "        csv2txtFile(path, numVarPos, style = 'verbose')\n",
      "        print"
     ],
     "language": "python",
     "metadata": {},
     "outputs": [
      {
       "output_type": "stream",
       "stream": "stdout",
       "text": [
        "Here\n",
        "Num proteins in ../data/b1hData/antonProcessed/F1/union/filt_10e-4_025_0_c/AAA.txt:  88\n",
        "Num proteins in ../data/b1hData/antonProcessed/F1/union/filt_10e-4_025_0_c/AAC.txt:  331\n",
        "Num proteins in ../data/b1hData/antonProcessed/F1/union/filt_10e-4_025_0_c/AAG.txt:  1828\n",
        "Num proteins in ../data/b1hData/antonProcessed/F1/union/filt_10e-4_025_0_c/AAT.txt:  117\n",
        "Num proteins in ../data/b1hData/antonProcessed/F1/union/filt_10e-4_025_0_c/ACA.txt:  1159\n",
        "Num proteins in ../data/b1hData/antonProcessed/F1/union/filt_10e-4_025_0_c/ACC.txt:  134\n",
        "Num proteins in ../data/b1hData/antonProcessed/F1/union/filt_10e-4_025_0_c/ACG.txt:  2138"
       ]
      },
      {
       "output_type": "stream",
       "stream": "stdout",
       "text": [
        "\n",
        "Num proteins in ../data/b1hData/antonProcessed/F1/union/filt_10e-4_025_0_c/ACT.txt:  511\n",
        "Num proteins in ../data/b1hData/antonProcessed/F1/union/filt_10e-4_025_0_c/AGA.txt:  185\n",
        "Num proteins in ../data/b1hData/antonProcessed/F1/union/filt_10e-4_025_0_c/AGC.txt:  716\n",
        "Num proteins in ../data/b1hData/antonProcessed/F1/union/filt_10e-4_025_0_c/AGG.txt:  697\n",
        "Num proteins in ../data/b1hData/antonProcessed/F1/union/filt_10e-4_025_0_c/AGT.txt:  1415\n",
        "Num proteins in ../data/b1hData/antonProcessed/F1/union/filt_10e-4_025_0_c/ATA.txt:  822\n",
        "Num proteins in ../data/b1hData/antonProcessed/F1/union/filt_10e-4_025_0_c/ATC.txt:  796"
       ]
      },
      {
       "output_type": "stream",
       "stream": "stdout",
       "text": [
        "\n",
        "Num proteins in ../data/b1hData/antonProcessed/F1/union/filt_10e-4_025_0_c/ATG.txt:  1133\n",
        "Num proteins in ../data/b1hData/antonProcessed/F1/union/filt_10e-4_025_0_c/ATT.txt:  212\n",
        "Num proteins in ../data/b1hData/antonProcessed/F1/union/filt_10e-4_025_0_c/CAA.txt:  841\n",
        "Num proteins in ../data/b1hData/antonProcessed/F1/union/filt_10e-4_025_0_c/CAC.txt:  241\n",
        "Num proteins in ../data/b1hData/antonProcessed/F1/union/filt_10e-4_025_0_c/CAG.txt:  696\n",
        "Num proteins in ../data/b1hData/antonProcessed/F1/union/filt_10e-4_025_0_c/CAT.txt:  662\n",
        "Num proteins in ../data/b1hData/antonProcessed/F1/union/filt_10e-4_025_0_c/CCA.txt:  1637\n",
        "Num proteins in ../data/b1hData/antonProcessed/F1/union/filt_10e-4_025_0_c/CCC.txt:  1000"
       ]
      },
      {
       "output_type": "stream",
       "stream": "stdout",
       "text": [
        "\n",
        "Num proteins in ../data/b1hData/antonProcessed/F1/union/filt_10e-4_025_0_c/CCG.txt:  1015\n",
        "Num proteins in ../data/b1hData/antonProcessed/F1/union/filt_10e-4_025_0_c/CCT.txt:  1431\n",
        "Num proteins in ../data/b1hData/antonProcessed/F1/union/filt_10e-4_025_0_c/CGA.txt:  1278\n",
        "Num proteins in ../data/b1hData/antonProcessed/F1/union/filt_10e-4_025_0_c/CGC.txt:  904\n",
        "Num proteins in ../data/b1hData/antonProcessed/F1/union/filt_10e-4_025_0_c/CGG.txt:  1440"
       ]
      },
      {
       "output_type": "stream",
       "stream": "stdout",
       "text": [
        "\n",
        "Num proteins in ../data/b1hData/antonProcessed/F1/union/filt_10e-4_025_0_c/CGT.txt:  93\n",
        "Num proteins in ../data/b1hData/antonProcessed/F1/union/filt_10e-4_025_0_c/CTA.txt:  89\n",
        "Num proteins in ../data/b1hData/antonProcessed/F1/union/filt_10e-4_025_0_c/CTC.txt:  321\n",
        "Num proteins in ../data/b1hData/antonProcessed/F1/union/filt_10e-4_025_0_c/CTG.txt:  647\n",
        "Num proteins in ../data/b1hData/antonProcessed/F1/union/filt_10e-4_025_0_c/CTT.txt:  512\n",
        "Num proteins in ../data/b1hData/antonProcessed/F1/union/filt_10e-4_025_0_c/GAA.txt:  679\n",
        "Num proteins in ../data/b1hData/antonProcessed/F1/union/filt_10e-4_025_0_c/GAC.txt:  795\n",
        "Num proteins in ../data/b1hData/antonProcessed/F1/union/filt_10e-4_025_0_c/GAG.txt:  1196\n",
        "Num proteins in ../data/b1hData/antonProcessed/F1/union/filt_10e-4_025_0_c/GAT.txt:  975\n",
        "Num proteins in ../data/b1hData/antonProcessed/F1/union/filt_10e-4_025_0_c/GCA.txt:  1361"
       ]
      },
      {
       "output_type": "stream",
       "stream": "stdout",
       "text": [
        "\n",
        "Num proteins in ../data/b1hData/antonProcessed/F1/union/filt_10e-4_025_0_c/GCC.txt:  380\n",
        "Num proteins in ../data/b1hData/antonProcessed/F1/union/filt_10e-4_025_0_c/GCG.txt:  958\n",
        "Num proteins in ../data/b1hData/antonProcessed/F1/union/filt_10e-4_025_0_c/GCT.txt:  1311\n",
        "Num proteins in ../data/b1hData/antonProcessed/F1/union/filt_10e-4_025_0_c/GGA.txt:  226\n",
        "Num proteins in ../data/b1hData/antonProcessed/F1/union/filt_10e-4_025_0_c/GGC.txt:  444\n",
        "Num proteins in ../data/b1hData/antonProcessed/F1/union/filt_10e-4_025_0_c/GGG.txt:  992\n",
        "Num proteins in ../data/b1hData/antonProcessed/F1/union/filt_10e-4_025_0_c/GGT.txt:  1650"
       ]
      },
      {
       "output_type": "stream",
       "stream": "stdout",
       "text": [
        "\n",
        "Num proteins in ../data/b1hData/antonProcessed/F1/union/filt_10e-4_025_0_c/GTA.txt:  517\n",
        "Num proteins in ../data/b1hData/antonProcessed/F1/union/filt_10e-4_025_0_c/GTC.txt:  483\n",
        "Num proteins in ../data/b1hData/antonProcessed/F1/union/filt_10e-4_025_0_c/GTG.txt:  1227"
       ]
      },
      {
       "output_type": "stream",
       "stream": "stdout",
       "text": [
        "\n",
        "Num proteins in ../data/b1hData/antonProcessed/F1/union/filt_10e-4_025_0_c/GTT.txt:  602\n",
        "Num proteins in ../data/b1hData/antonProcessed/F1/union/filt_10e-4_025_0_c/TAA.txt:  206\n",
        "Num proteins in ../data/b1hData/antonProcessed/F1/union/filt_10e-4_025_0_c/TAC.txt:  107\n",
        "Num proteins in ../data/b1hData/antonProcessed/F1/union/filt_10e-4_025_0_c/TAG.txt:  138\n",
        "Num proteins in ../data/b1hData/antonProcessed/F1/union/filt_10e-4_025_0_c/TAT.txt:  72\n",
        "Num proteins in ../data/b1hData/antonProcessed/F1/union/filt_10e-4_025_0_c/TCA.txt:  575\n",
        "Num proteins in ../data/b1hData/antonProcessed/F1/union/filt_10e-4_025_0_c/TCC.txt:  163\n",
        "Num proteins in ../data/b1hData/antonProcessed/F1/union/filt_10e-4_025_0_c/TCG.txt:  298\n",
        "Num proteins in ../data/b1hData/antonProcessed/F1/union/filt_10e-4_025_0_c/TCT.txt:  246\n",
        "Num proteins in ../data/b1hData/antonProcessed/F1/union/filt_10e-4_025_0_c/TGA.txt:  164\n",
        "Num proteins in ../data/b1hData/antonProcessed/F1/union/filt_10e-4_025_0_c/TGC.txt:  543\n",
        "Num proteins in ../data/b1hData/antonProcessed/F1/union/filt_10e-4_025_0_c/TGG.txt:  731\n",
        "Num proteins in ../data/b1hData/antonProcessed/F1/union/filt_10e-4_025_0_c/TGT.txt:  1702"
       ]
      },
      {
       "output_type": "stream",
       "stream": "stdout",
       "text": [
        "\n",
        "Num proteins in ../data/b1hData/antonProcessed/F1/union/filt_10e-4_025_0_c/TTA.txt:  528\n",
        "Num proteins in ../data/b1hData/antonProcessed/F1/union/filt_10e-4_025_0_c/TTC.txt:  85\n",
        "Num proteins in ../data/b1hData/antonProcessed/F1/union/filt_10e-4_025_0_c/TTG.txt:  213\n",
        "Num proteins in ../data/b1hData/antonProcessed/F1/union/filt_10e-4_025_0_c/TTT.txt:  225\n",
        "Total num protein/dna observations in all files:  44881\n",
        "Total num unique proteins in all files:  27667\n",
        "\n",
        "Num obs processed in csv to txt conversion:  44881"
       ]
      },
      {
       "output_type": "stream",
       "stream": "stdout",
       "text": [
        "\n",
        "\n",
        "Here\n",
        "Num proteins in ../data/b1hData/antonProcessed/F2/union/filt_10e-4_025_0_c/AAA.txt:  629\n",
        "Num proteins in ../data/b1hData/antonProcessed/F2/union/filt_10e-4_025_0_c/AAC.txt:  2473\n",
        "Num proteins in ../data/b1hData/antonProcessed/F2/union/filt_10e-4_025_0_c/AAG.txt:  2242\n",
        "Num proteins in ../data/b1hData/antonProcessed/F2/union/filt_10e-4_025_0_c/AAT.txt:  1723"
       ]
      },
      {
       "output_type": "stream",
       "stream": "stdout",
       "text": [
        "\n",
        "Num proteins in ../data/b1hData/antonProcessed/F2/union/filt_10e-4_025_0_c/ACA.txt:  1982\n",
        "Num proteins in ../data/b1hData/antonProcessed/F2/union/filt_10e-4_025_0_c/ACC.txt:  1124\n",
        "Num proteins in ../data/b1hData/antonProcessed/F2/union/filt_10e-4_025_0_c/ACG.txt:  2145\n",
        "Num proteins in ../data/b1hData/antonProcessed/F2/union/filt_10e-4_025_0_c/ACT.txt:  3163"
       ]
      },
      {
       "output_type": "stream",
       "stream": "stdout",
       "text": [
        "\n",
        "Num proteins in ../data/b1hData/antonProcessed/F2/union/filt_10e-4_025_0_c/AGA.txt:  579\n",
        "Num proteins in ../data/b1hData/antonProcessed/F2/union/filt_10e-4_025_0_c/AGC.txt:  905\n",
        "Num proteins in ../data/b1hData/antonProcessed/F2/union/filt_10e-4_025_0_c/AGG.txt:  2378\n",
        "Num proteins in ../data/b1hData/antonProcessed/F2/union/filt_10e-4_025_0_c/AGT.txt:  2583"
       ]
      },
      {
       "output_type": "stream",
       "stream": "stdout",
       "text": [
        "\n",
        "Num proteins in ../data/b1hData/antonProcessed/F2/union/filt_10e-4_025_0_c/ATA.txt:  282\n",
        "Num proteins in ../data/b1hData/antonProcessed/F2/union/filt_10e-4_025_0_c/ATC.txt:  1655\n",
        "Num proteins in ../data/b1hData/antonProcessed/F2/union/filt_10e-4_025_0_c/ATG.txt:  1561\n",
        "Num proteins in ../data/b1hData/antonProcessed/F2/union/filt_10e-4_025_0_c/ATT.txt:  1907"
       ]
      },
      {
       "output_type": "stream",
       "stream": "stdout",
       "text": [
        "\n",
        "Num proteins in ../data/b1hData/antonProcessed/F2/union/filt_10e-4_025_0_c/CAA.txt:  307\n",
        "Num proteins in ../data/b1hData/antonProcessed/F2/union/filt_10e-4_025_0_c/CAC.txt:  1938\n",
        "Num proteins in ../data/b1hData/antonProcessed/F2/union/filt_10e-4_025_0_c/CAG.txt:  2450\n",
        "Num proteins in ../data/b1hData/antonProcessed/F2/union/filt_10e-4_025_0_c/CAT.txt:  1876"
       ]
      },
      {
       "output_type": "stream",
       "stream": "stdout",
       "text": [
        "\n",
        "Num proteins in ../data/b1hData/antonProcessed/F2/union/filt_10e-4_025_0_c/CCA.txt:  522\n",
        "Num proteins in ../data/b1hData/antonProcessed/F2/union/filt_10e-4_025_0_c/CCC.txt:  536\n",
        "Num proteins in ../data/b1hData/antonProcessed/F2/union/filt_10e-4_025_0_c/CCG.txt:  722\n",
        "Num proteins in ../data/b1hData/antonProcessed/F2/union/filt_10e-4_025_0_c/CCT.txt:  860\n",
        "Num proteins in ../data/b1hData/antonProcessed/F2/union/filt_10e-4_025_0_c/CGA.txt:  324\n",
        "Num proteins in ../data/b1hData/antonProcessed/F2/union/filt_10e-4_025_0_c/CGC.txt:  449\n",
        "Num proteins in ../data/b1hData/antonProcessed/F2/union/filt_10e-4_025_0_c/CGG.txt:  2501"
       ]
      },
      {
       "output_type": "stream",
       "stream": "stdout",
       "text": [
        "\n",
        "Num proteins in ../data/b1hData/antonProcessed/F2/union/filt_10e-4_025_0_c/CGT.txt:  2098\n",
        "Num proteins in ../data/b1hData/antonProcessed/F2/union/filt_10e-4_025_0_c/CTA.txt:  346\n",
        "Num proteins in ../data/b1hData/antonProcessed/F2/union/filt_10e-4_025_0_c/CTC.txt:  311\n",
        "Num proteins in ../data/b1hData/antonProcessed/F2/union/filt_10e-4_025_0_c/CTG.txt:  884\n",
        "Num proteins in ../data/b1hData/antonProcessed/F2/union/filt_10e-4_025_0_c/CTT.txt:  743\n",
        "Num proteins in ../data/b1hData/antonProcessed/F2/union/filt_10e-4_025_0_c/GAA.txt:  622"
       ]
      },
      {
       "output_type": "stream",
       "stream": "stdout",
       "text": [
        "\n",
        "Num proteins in ../data/b1hData/antonProcessed/F2/union/filt_10e-4_025_0_c/GAC.txt:  1838\n",
        "Num proteins in ../data/b1hData/antonProcessed/F2/union/filt_10e-4_025_0_c/GAG.txt:  2234\n",
        "Num proteins in ../data/b1hData/antonProcessed/F2/union/filt_10e-4_025_0_c/GAT.txt:  2166"
       ]
      },
      {
       "output_type": "stream",
       "stream": "stdout",
       "text": [
        "\n",
        "Num proteins in ../data/b1hData/antonProcessed/F2/union/filt_10e-4_025_0_c/GCA.txt:  700\n",
        "Num proteins in ../data/b1hData/antonProcessed/F2/union/filt_10e-4_025_0_c/GCC.txt:  1133\n",
        "Num proteins in ../data/b1hData/antonProcessed/F2/union/filt_10e-4_025_0_c/GCG.txt:  2247\n",
        "Num proteins in ../data/b1hData/antonProcessed/F2/union/filt_10e-4_025_0_c/GCT.txt:  2287"
       ]
      },
      {
       "output_type": "stream",
       "stream": "stdout",
       "text": [
        "\n",
        "Num proteins in ../data/b1hData/antonProcessed/F2/union/filt_10e-4_025_0_c/GGA.txt:  548\n",
        "Num proteins in ../data/b1hData/antonProcessed/F2/union/filt_10e-4_025_0_c/GGC.txt:  520\n",
        "Num proteins in ../data/b1hData/antonProcessed/F2/union/filt_10e-4_025_0_c/GGG.txt:  2747\n",
        "Num proteins in ../data/b1hData/antonProcessed/F2/union/filt_10e-4_025_0_c/GGT.txt:  1798"
       ]
      },
      {
       "output_type": "stream",
       "stream": "stdout",
       "text": [
        "\n",
        "Num proteins in ../data/b1hData/antonProcessed/F2/union/filt_10e-4_025_0_c/GTA.txt:  630\n",
        "Num proteins in ../data/b1hData/antonProcessed/F2/union/filt_10e-4_025_0_c/GTC.txt:  1356\n",
        "Num proteins in ../data/b1hData/antonProcessed/F2/union/filt_10e-4_025_0_c/GTG.txt:  2965\n",
        "Num proteins in ../data/b1hData/antonProcessed/F2/union/filt_10e-4_025_0_c/GTT.txt:  1955"
       ]
      },
      {
       "output_type": "stream",
       "stream": "stdout",
       "text": [
        "\n",
        "Num proteins in ../data/b1hData/antonProcessed/F2/union/filt_10e-4_025_0_c/TAA.txt:  43\n",
        "Num proteins in ../data/b1hData/antonProcessed/F2/union/filt_10e-4_025_0_c/TAC.txt:  891\n",
        "Num proteins in ../data/b1hData/antonProcessed/F2/union/filt_10e-4_025_0_c/TAG.txt:  865\n",
        "Num proteins in ../data/b1hData/antonProcessed/F2/union/filt_10e-4_025_0_c/TAT.txt:  1763"
       ]
      },
      {
       "output_type": "stream",
       "stream": "stdout",
       "text": [
        "\n",
        "Num proteins in ../data/b1hData/antonProcessed/F2/union/filt_10e-4_025_0_c/TCA.txt:  64\n",
        "Num proteins in ../data/b1hData/antonProcessed/F2/union/filt_10e-4_025_0_c/TCC.txt:  535\n",
        "Num proteins in ../data/b1hData/antonProcessed/F2/union/filt_10e-4_025_0_c/TCG.txt:  1177\n",
        "Num proteins in ../data/b1hData/antonProcessed/F2/union/filt_10e-4_025_0_c/TCT.txt:  1104\n",
        "Num proteins in ../data/b1hData/antonProcessed/F2/union/filt_10e-4_025_0_c/TGA.txt:  355\n",
        "Num proteins in ../data/b1hData/antonProcessed/F2/union/filt_10e-4_025_0_c/TGC.txt:  503\n",
        "Num proteins in ../data/b1hData/antonProcessed/F2/union/filt_10e-4_025_0_c/TGG.txt:  2854"
       ]
      },
      {
       "output_type": "stream",
       "stream": "stdout",
       "text": [
        "\n",
        "Num proteins in ../data/b1hData/antonProcessed/F2/union/filt_10e-4_025_0_c/TGT.txt:  2681\n",
        "Num proteins in ../data/b1hData/antonProcessed/F2/union/filt_10e-4_025_0_c/TTA.txt:  97\n",
        "Num proteins in ../data/b1hData/antonProcessed/F2/union/filt_10e-4_025_0_c/TTC.txt:  356\n",
        "Num proteins in ../data/b1hData/antonProcessed/F2/union/filt_10e-4_025_0_c/TTG.txt:  1485\n",
        "Num proteins in ../data/b1hData/antonProcessed/F2/union/filt_10e-4_025_0_c/TTT.txt:  342\n",
        "Total num protein/dna observations in all files:  85059\n",
        "Total num unique proteins in all files:  57000\n",
        "\n",
        "Num obs processed in csv to txt conversion:  85059"
       ]
      },
      {
       "output_type": "stream",
       "stream": "stdout",
       "text": [
        "\n",
        "\n",
        "Here\n",
        "Num proteins in ../data/b1hData/antonProcessed/F3/union/filt_10e-4_025_0_c/AAA.txt:  187\n",
        "Num proteins in ../data/b1hData/antonProcessed/F3/union/filt_10e-4_025_0_c/AAC.txt:  1809\n",
        "Num proteins in ../data/b1hData/antonProcessed/F3/union/filt_10e-4_025_0_c/AAG.txt:  2455"
       ]
      },
      {
       "output_type": "stream",
       "stream": "stdout",
       "text": [
        "\n",
        "Num proteins in ../data/b1hData/antonProcessed/F3/union/filt_10e-4_025_0_c/AAT.txt:  1598\n",
        "Num proteins in ../data/b1hData/antonProcessed/F3/union/filt_10e-4_025_0_c/ACA.txt:  185\n",
        "Num proteins in ../data/b1hData/antonProcessed/F3/union/filt_10e-4_025_0_c/ACC.txt:  707\n",
        "Num proteins in ../data/b1hData/antonProcessed/F3/union/filt_10e-4_025_0_c/ACG.txt:  2395"
       ]
      },
      {
       "output_type": "stream",
       "stream": "stdout",
       "text": [
        "\n",
        "Num proteins in ../data/b1hData/antonProcessed/F3/union/filt_10e-4_025_0_c/ACT.txt:  1355\n",
        "Num proteins in ../data/b1hData/antonProcessed/F3/union/filt_10e-4_025_0_c/AGA.txt:  93\n",
        "Num proteins in ../data/b1hData/antonProcessed/F3/union/filt_10e-4_025_0_c/AGC.txt:  2627"
       ]
      },
      {
       "output_type": "stream",
       "stream": "stdout",
       "text": [
        "\n",
        "Num proteins in ../data/b1hData/antonProcessed/F3/union/filt_10e-4_025_0_c/AGG.txt:  2377\n",
        "Num proteins in ../data/b1hData/antonProcessed/F3/union/filt_10e-4_025_0_c/AGT.txt:  2397"
       ]
      },
      {
       "output_type": "stream",
       "stream": "stdout",
       "text": [
        "\n",
        "Num proteins in ../data/b1hData/antonProcessed/F3/union/filt_10e-4_025_0_c/ATA.txt:  158\n",
        "Num proteins in ../data/b1hData/antonProcessed/F3/union/filt_10e-4_025_0_c/ATC.txt:  1567\n",
        "Num proteins in ../data/b1hData/antonProcessed/F3/union/filt_10e-4_025_0_c/ATG.txt:  968"
       ]
      },
      {
       "output_type": "stream",
       "stream": "stdout",
       "text": [
        "\n",
        "Num proteins in ../data/b1hData/antonProcessed/F3/union/filt_10e-4_025_0_c/ATT.txt:  1318\n",
        "Num proteins in ../data/b1hData/antonProcessed/F3/union/filt_10e-4_025_0_c/CAA.txt:  258\n",
        "Num proteins in ../data/b1hData/antonProcessed/F3/union/filt_10e-4_025_0_c/CAC.txt:  1459\n",
        "Num proteins in ../data/b1hData/antonProcessed/F3/union/filt_10e-4_025_0_c/CAG.txt:  1652"
       ]
      },
      {
       "output_type": "stream",
       "stream": "stdout",
       "text": [
        "\n",
        "Num proteins in ../data/b1hData/antonProcessed/F3/union/filt_10e-4_025_0_c/CAT.txt:  1096\n",
        "Num proteins in ../data/b1hData/antonProcessed/F3/union/filt_10e-4_025_0_c/CCA.txt:  171\n",
        "Num proteins in ../data/b1hData/antonProcessed/F3/union/filt_10e-4_025_0_c/CCC.txt:  658\n",
        "Num proteins in ../data/b1hData/antonProcessed/F3/union/filt_10e-4_025_0_c/CCG.txt:  2328\n",
        "Num proteins in ../data/b1hData/antonProcessed/F3/union/filt_10e-4_025_0_c/CCT.txt:  962"
       ]
      },
      {
       "output_type": "stream",
       "stream": "stdout",
       "text": [
        "\n",
        "Num proteins in ../data/b1hData/antonProcessed/F3/union/filt_10e-4_025_0_c/CGA.txt:  159\n",
        "Num proteins in ../data/b1hData/antonProcessed/F3/union/filt_10e-4_025_0_c/CGC.txt:  2533\n",
        "Num proteins in ../data/b1hData/antonProcessed/F3/union/filt_10e-4_025_0_c/CGG.txt:  1036\n",
        "Num proteins in ../data/b1hData/antonProcessed/F3/union/filt_10e-4_025_0_c/CGT.txt:  2097"
       ]
      },
      {
       "output_type": "stream",
       "stream": "stdout",
       "text": [
        "\n",
        "Num proteins in ../data/b1hData/antonProcessed/F3/union/filt_10e-4_025_0_c/CTA.txt:  206\n",
        "Num proteins in ../data/b1hData/antonProcessed/F3/union/filt_10e-4_025_0_c/CTC.txt:  693\n",
        "Num proteins in ../data/b1hData/antonProcessed/F3/union/filt_10e-4_025_0_c/CTG.txt:  507\n",
        "Num proteins in ../data/b1hData/antonProcessed/F3/union/filt_10e-4_025_0_c/CTT.txt:  191\n",
        "Num proteins in ../data/b1hData/antonProcessed/F3/union/filt_10e-4_025_0_c/GAA.txt:  1301"
       ]
      },
      {
       "output_type": "stream",
       "stream": "stdout",
       "text": [
        "\n",
        "Num proteins in ../data/b1hData/antonProcessed/F3/union/filt_10e-4_025_0_c/GAC.txt:  1775\n",
        "Num proteins in ../data/b1hData/antonProcessed/F3/union/filt_10e-4_025_0_c/GAG.txt:  2632"
       ]
      },
      {
       "output_type": "stream",
       "stream": "stdout",
       "text": [
        "\n",
        "Num proteins in ../data/b1hData/antonProcessed/F3/union/filt_10e-4_025_0_c/GAT.txt:  2254\n",
        "Num proteins in ../data/b1hData/antonProcessed/F3/union/filt_10e-4_025_0_c/GCA.txt:  790\n",
        "Num proteins in ../data/b1hData/antonProcessed/F3/union/filt_10e-4_025_0_c/GCC.txt:  723"
       ]
      },
      {
       "output_type": "stream",
       "stream": "stdout",
       "text": [
        "\n",
        "Num proteins in ../data/b1hData/antonProcessed/F3/union/filt_10e-4_025_0_c/GCG.txt:  1850\n",
        "Num proteins in ../data/b1hData/antonProcessed/F3/union/filt_10e-4_025_0_c/GCT.txt:  1346\n",
        "Num proteins in ../data/b1hData/antonProcessed/F3/union/filt_10e-4_025_0_c/GGA.txt:  810\n",
        "Num proteins in ../data/b1hData/antonProcessed/F3/union/filt_10e-4_025_0_c/GGC.txt:  1528"
       ]
      },
      {
       "output_type": "stream",
       "stream": "stdout",
       "text": [
        "\n",
        "Num proteins in ../data/b1hData/antonProcessed/F3/union/filt_10e-4_025_0_c/GGG.txt:  2480\n",
        "Num proteins in ../data/b1hData/antonProcessed/F3/union/filt_10e-4_025_0_c/GGT.txt:  2443"
       ]
      },
      {
       "output_type": "stream",
       "stream": "stdout",
       "text": [
        "\n",
        "Num proteins in ../data/b1hData/antonProcessed/F3/union/filt_10e-4_025_0_c/GTA.txt:  1266\n",
        "Num proteins in ../data/b1hData/antonProcessed/F3/union/filt_10e-4_025_0_c/GTC.txt:  2083"
       ]
      },
      {
       "output_type": "stream",
       "stream": "stdout",
       "text": [
        "\n",
        "Num proteins in ../data/b1hData/antonProcessed/F3/union/filt_10e-4_025_0_c/GTG.txt:  2480\n",
        "Num proteins in ../data/b1hData/antonProcessed/F3/union/filt_10e-4_025_0_c/GTT.txt:  2606"
       ]
      },
      {
       "output_type": "stream",
       "stream": "stdout",
       "text": [
        "\n",
        "Num proteins in ../data/b1hData/antonProcessed/F3/union/filt_10e-4_025_0_c/TAA.txt:  469\n",
        "Num proteins in ../data/b1hData/antonProcessed/F3/union/filt_10e-4_025_0_c/TAC.txt:  1483\n",
        "Num proteins in ../data/b1hData/antonProcessed/F3/union/filt_10e-4_025_0_c/TAG.txt:  1101\n",
        "Num proteins in ../data/b1hData/antonProcessed/F3/union/filt_10e-4_025_0_c/TAT.txt:  2054"
       ]
      },
      {
       "output_type": "stream",
       "stream": "stdout",
       "text": [
        "\n",
        "Num proteins in ../data/b1hData/antonProcessed/F3/union/filt_10e-4_025_0_c/TCA.txt:  261\n",
        "Num proteins in ../data/b1hData/antonProcessed/F3/union/filt_10e-4_025_0_c/TCC.txt:  997\n",
        "Num proteins in ../data/b1hData/antonProcessed/F3/union/filt_10e-4_025_0_c/TCG.txt:  884\n",
        "Num proteins in ../data/b1hData/antonProcessed/F3/union/filt_10e-4_025_0_c/TCT.txt:  935\n",
        "Num proteins in ../data/b1hData/antonProcessed/F3/union/filt_10e-4_025_0_c/TGA.txt:  1790"
       ]
      },
      {
       "output_type": "stream",
       "stream": "stdout",
       "text": [
        "\n",
        "Num proteins in ../data/b1hData/antonProcessed/F3/union/filt_10e-4_025_0_c/TGC.txt:  2202\n",
        "Num proteins in ../data/b1hData/antonProcessed/F3/union/filt_10e-4_025_0_c/TGG.txt:  919\n",
        "Num proteins in ../data/b1hData/antonProcessed/F3/union/filt_10e-4_025_0_c/TGT.txt:  3810"
       ]
      },
      {
       "output_type": "stream",
       "stream": "stdout",
       "text": [
        "\n",
        "Num proteins in ../data/b1hData/antonProcessed/F3/union/filt_10e-4_025_0_c/TTA.txt:  863\n",
        "Num proteins in ../data/b1hData/antonProcessed/F3/union/filt_10e-4_025_0_c/TTC.txt:  598\n",
        "Num proteins in ../data/b1hData/antonProcessed/F3/union/filt_10e-4_025_0_c/TTG.txt:  880\n",
        "Num proteins in ../data/b1hData/antonProcessed/F3/union/filt_10e-4_025_0_c/TTT.txt:  1983"
       ]
      },
      {
       "output_type": "stream",
       "stream": "stdout",
       "text": [
        "\n",
        "Total num protein/dna observations in all files:  87798\n",
        "Total num unique proteins in all files:  56174\n",
        "\n",
        "Num obs processed in csv to txt conversion:  87798"
       ]
      },
      {
       "output_type": "stream",
       "stream": "stdout",
       "text": [
        "\n",
        "\n"
       ]
      }
     ],
     "prompt_number": 2
    },
    {
     "cell_type": "code",
     "collapsed": false,
     "input": [
      "bothStrinIfaces = interfaces\n",
      "\n",
      "print \"%s + %s Interfaces: %d\" %('F1', 'F2', len(bothStrinIfaces['F1'] | bothStrinIfaces['F2']))\n",
      "print \"%s + %s Interfaces: %d\" %('F1', 'F3', len(bothStrinIfaces['F1'] | bothStrinIfaces['F3']))\n",
      "print \"%s + %s Interfaces: %d\" %('F2', 'F3', len(bothStrinIfaces['F2'] | bothStrinIfaces['F3']))\n",
      "print \"%s + %s + %s Interfaces: %d\" %('F1', 'F2', 'F3',len(bothStrinIfaces['F1'] | bothStrinIfaces['F2'] | bothStrinIfaces['F3']))\n",
      "    "
     ],
     "language": "python",
     "metadata": {},
     "outputs": [
      {
       "output_type": "stream",
       "stream": "stdout",
       "text": [
        "F1 + F2 Interfaces: 126992\n",
        "F1 + F3 Interfaces: 131996"
       ]
      },
      {
       "output_type": "stream",
       "stream": "stdout",
       "text": [
        "\n",
        "F2 + F3 Interfaces: 163667"
       ]
      },
      {
       "output_type": "stream",
       "stream": "stdout",
       "text": [
        "\n",
        "F1 + F2 + F3 Interfaces: 205318"
       ]
      },
      {
       "output_type": "stream",
       "stream": "stdout",
       "text": [
        "\n"
       ]
      }
     ],
     "prompt_number": 3
    },
    {
     "cell_type": "code",
     "collapsed": false,
     "input": [],
     "language": "python",
     "metadata": {},
     "outputs": [],
     "prompt_number": 3
    }
   ],
   "metadata": {}
  }
 ]
}