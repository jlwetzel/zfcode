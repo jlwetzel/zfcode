{
 "metadata": {
  "name": "bindingDiversity_cut10bc_025"
 },
 "nbformat": 3,
 "nbformat_minor": 0,
 "worksheets": [
  {
   "cells": [
    {
     "cell_type": "code",
     "collapsed": false,
     "input": [
      "from gatherBindStats import *\n",
      "from itertools import product\n",
      "maxSize6 = 20**6\n",
      "maxSize4 = 20**4"
     ],
     "language": "python",
     "metadata": {},
     "outputs": [],
     "prompt_number": 1
    },
    {
     "cell_type": "code",
     "collapsed": false,
     "input": [
      "# Get the protein sets from the binding data.\n",
      "\n",
      "nucs = ['A', 'C', 'G', 'T']\n",
      "aminos = ['A', 'C', 'D', 'E', 'F', 'G', 'I', 'H', 'K', 'L', \n",
      "\t      'M', 'N', 'P', 'Q', 'R', 'S', 'T', 'V', 'W', 'Y']\n",
      "\n",
      "# Get the set of all possible canonical proteins\n",
      "allProts4 = []\n",
      "for i in product(aminos, aminos, aminos, aminos):\n",
      "    allProts4.append(''.join(i))\n",
      "allProts4 = set(allProts4)\n",
      "\n",
      "# Get the dictionary of binding sets indexed by finger and stringency\n",
      "pathPref = '../data/b1hdata/newDatabase/6varpos'\n",
      "proteinDir = 'protein_seq_cut10bc_025'\n",
      "fings = ['F1', 'F2', 'F3']\n",
      "strins = ['high', 'low']\n",
      "bindingSets6 = {}\n",
      "bindingSets4 = {}\n",
      "for f in fings:\n",
      "    for s in strins:\n",
      "        bindingSets6[f,s] = getProtSet('/'.join([pathPref,f,s,proteinDir,'all.txt']), \n",
      "                                       range(6))\n",
      "        bindingSets4[f,s] = getProtSet('/'.join([pathPref,f,s,proteinDir,'all.txt']),\n",
      "                                       [0,2,3,5])"
     ],
     "language": "python",
     "metadata": {},
     "outputs": [],
     "prompt_number": 2
    },
    {
     "cell_type": "heading",
     "level": 2,
     "metadata": {},
     "source": [
      "6 Var Positions"
     ]
    },
    {
     "cell_type": "code",
     "collapsed": false,
     "input": [
      "printBindingSetStats(fings, strins, bindingSets6, maxSize6)"
     ],
     "language": "python",
     "metadata": {},
     "outputs": [
      {
       "output_type": "stream",
       "stream": "stdout",
       "text": [
        "Max Size for 6 positions: 64000000\n",
        "################################################################\n",
        "Size of F1 high: 5272\n",
        "Size of F1 low: 13001\n",
        "Size of F2 high: 11887\n",
        "Size of F2 low: 36813\n",
        "Size of F3 high: 7140\n",
        "Size of F3 low: 25588\n",
        "\n",
        "Is high a subset of low? (|High - Low|/|High|)\n",
        "################################################################\n",
        "F1: 0.190\n",
        "F2: 0.118\n",
        "F3: 0.286\n",
        "\n",
        "Combining Fingers\n",
        "################################################################\n",
        "F1 F2 Intersection (high): 617\n",
        "F1 F2 Union (high)       : 16542\n",
        "F1 F2 Jaccard (high)     : 0.037\n",
        "\n",
        "F1 F2 Intersection (low): 1935\n",
        "F1 F2 Union (low)       : 47879\n",
        "F1 F2 Jaccard (low)     : 0.040\n",
        "\n",
        "F1 F3 Intersection (high): 48\n",
        "F1 F3 Union (high)       : 12364\n",
        "F1 F3 Jaccard (high)     : 0.004\n",
        "\n",
        "F1 F3 Intersection (low): 360"
       ]
      },
      {
       "output_type": "stream",
       "stream": "stdout",
       "text": [
        "\n",
        "F1 F3 Union (low)       : 38229\n",
        "F1 F3 Jaccard (low)     : 0.009\n",
        "\n",
        "F2 F3 Intersection (high): 1022\n",
        "F2 F3 Union (high)       : 18005\n",
        "F2 F3 Jaccard (high)     : 0.057\n",
        "\n",
        "F2 F3 Intersection (low): 4189\n",
        "F2 F3 Union (low)       : 58212\n",
        "F2 F3 Jaccard (low)     : 0.072\n",
        "\n",
        "All Intersection (high): 22"
       ]
      },
      {
       "output_type": "stream",
       "stream": "stdout",
       "text": [
        "\n",
        "All Union (high): 22634\n",
        "All Intersection (low): 171\n",
        "All Union (low): 69089\n",
        "\n",
        "Combining Stringencies\n",
        "################################################################\n",
        "All of F1 Intersection: 4270"
       ]
      },
      {
       "output_type": "stream",
       "stream": "stdout",
       "text": [
        "\n",
        "All of F1 Union       : 14003\n",
        "All of F2 Intersection: 10482\n",
        "All of F2 Union       : 38218\n",
        "All of F3 Intersection: 5096\n",
        "All of F3 Union       : 27632\n",
        "\n",
        "Unioning the intersections\n",
        "All of F1 and F2: 14269\n",
        "All of F1 and F3: 9334\n",
        "All of F2 and F3: 14778\n",
        "All of F1 F2 F3 : 18547\n",
        "\n",
        "Intersecting the unions\n",
        "All of F1 and F2: 2178\n",
        "All of F1 and F3: 427\n",
        "All of F2 and F3: 4731\n",
        "All of F1 F2 F3 : 208"
       ]
      },
      {
       "output_type": "stream",
       "stream": "stdout",
       "text": [
        "\n",
        "\n",
        "Unioning the unions\n",
        "All of F1 and F2: 50043\n",
        "All of F1 and F3: 41208\n",
        "All of F2 and F3: 61119\n",
        "All of F1 F2 F3 : 72725"
       ]
      },
      {
       "output_type": "stream",
       "stream": "stdout",
       "text": [
        "\n"
       ]
      }
     ],
     "prompt_number": 3
    },
    {
     "cell_type": "heading",
     "level": 2,
     "metadata": {},
     "source": [
      "4 Var Pos (-1, 2, 3, 6) -- Canonical"
     ]
    },
    {
     "cell_type": "code",
     "collapsed": false,
     "input": [
      "bothStrinsUnion = printBindingSetStats(fings, strins, bindingSets4, maxSize4, allProts4)"
     ],
     "language": "python",
     "metadata": {},
     "outputs": [
      {
       "output_type": "stream",
       "stream": "stdout",
       "text": [
        "Max Size for 4 positions: 160000\n",
        "################################################################\n",
        "Size of F1 high: 1002\n",
        "Size of F1 low: 2442\n",
        "Size of F2 high: 1119\n",
        "Size of F2 low: 2687\n",
        "Size of F3 high: 974\n",
        "Size of F3 low: 2751\n",
        "\n",
        "Is high a subset of low? (|High - Low|/|High|)\n",
        "################################################################\n",
        "F1: 0.075\n",
        "F2: 0.044\n",
        "F3: 0.086\n",
        "\n",
        "Combining Fingers\n",
        "################################################################\n",
        "F1 F2 Intersection (high): 228\n",
        "F1 F2 Union (high)       : 1893\n",
        "F1 F2 Jaccard (high)     : 0.120\n",
        "\n",
        "F1 F2 Intersection (low): 637\n",
        "F1 F2 Union (low)       : 4492\n",
        "F1 F2 Jaccard (low)     : 0.142\n",
        "\n",
        "F1 F3 Intersection (high): 105\n",
        "F1 F3 Union (high)       : 1871\n",
        "F1 F3 Jaccard (high)     : 0.056\n",
        "\n",
        "F1 F3 Intersection (low): 336\n",
        "F1 F3 Union (low)       : 4857\n",
        "F1 F3 Jaccard (low)     : 0.069\n",
        "\n",
        "F2 F3 Intersection (high): 229\n",
        "F2 F3 Union (high)       : 1864\n",
        "F2 F3 Jaccard (high)     : 0.123\n",
        "\n",
        "F2 F3 Intersection (low): 826\n",
        "F2 F3 Union (low)       : 4612\n",
        "F2 F3 Jaccard (low)     : 0.179\n",
        "\n",
        "All Intersection (high): 55\n",
        "All Union (high): 2588\n",
        "All Intersection (low): 236\n",
        "All Union (low): 6317\n",
        "\n",
        "Combining Stringencies\n",
        "################################################################\n",
        "All of F1 Intersection: 927\n",
        "All of F1 Union       : 2517\n",
        "All of F2 Intersection: 1070\n",
        "All of F2 Union       : 2736\n",
        "All of F3 Intersection: 890\n",
        "All of F3 Union       : 2835\n",
        "\n",
        "Unioning the intersections\n",
        "All of F1 and F2: 1775\n",
        "All of F1 and F3: 1722\n",
        "All of F2 and F3: 1738\n",
        "All of F1 F2 F3 : 2398\n",
        "\n",
        "Intersecting the unions\n",
        "All of F1 and F2: 652\n",
        "All of F1 and F3: 355\n",
        "All of F2 and F3: 838\n",
        "All of F1 F2 F3 : 247\n",
        "\n",
        "Unioning the unions\n",
        "All of F1 and F2: 4601\n",
        "All of F1 and F3: 4997\n",
        "All of F2 and F3: 4733\n",
        "All of F1 F2 F3 : 6490\n",
        "\n",
        "How helpful are nearest neighbors for coverage? (-1, 3, 6)\n",
        "################################################################\n",
        "Missing from F1 (high)  : 158998"
       ]
      },
      {
       "output_type": "stream",
       "stream": "stdout",
       "text": [
        "\n",
        "Have neighbors F1 (high): 25258\n",
        "Total coverage F1 high (including neighbors): 26260\n",
        "Missing from F1 (low)  : 157558"
       ]
      },
      {
       "output_type": "stream",
       "stream": "stdout",
       "text": [
        "\n",
        "Have neighbors F1 (low): 44981\n",
        "Total coverage F1 low (including neighbors): 47423\n",
        "Missing from F2 (high)  : 158881"
       ]
      },
      {
       "output_type": "stream",
       "stream": "stdout",
       "text": [
        "\n",
        "Have neighbors F2 (high): 26252\n",
        "Total coverage F2 high (including neighbors): 27371\n",
        "Missing from F2 (low)  : 157313"
       ]
      },
      {
       "output_type": "stream",
       "stream": "stdout",
       "text": [
        "\n",
        "Have neighbors F2 (low): 47099\n",
        "Total coverage F2 low (including neighbors): 49786\n",
        "Missing from F3 (high)  : 159026"
       ]
      },
      {
       "output_type": "stream",
       "stream": "stdout",
       "text": [
        "\n",
        "Have neighbors F3 (high): 24575\n",
        "Total coverage F3 high (including neighbors): 25549\n",
        "Missing from F3 (low)  : 157249"
       ]
      },
      {
       "output_type": "stream",
       "stream": "stdout",
       "text": [
        "\n",
        "Have neighbors F3 (low): 49513\n",
        "Total coverage F3 low (including neighbors): 52264\n",
        "\n",
        "UNIONING HIGH AND LOW STRINGENCIES\n",
        "Missing from F1: 157483"
       ]
      },
      {
       "output_type": "stream",
       "stream": "stdout",
       "text": [
        "\n",
        "Have neighbors F1: 46443\n",
        "Total coverage F1 (including neighbors): 48960\n",
        "Missing from F2: 157264"
       ]
      },
      {
       "output_type": "stream",
       "stream": "stdout",
       "text": [
        "\n",
        "Have neighbors F2: 48283\n",
        "Total coverage F2 (including neighbors): 51019\n",
        "Missing from F3: 157165"
       ]
      },
      {
       "output_type": "stream",
       "stream": "stdout",
       "text": [
        "\n",
        "Have neighbors F3: 51274\n",
        "Total coverage F3 (including neighbors): 54109\n"
       ]
      }
     ],
     "prompt_number": 4
    },
    {
     "cell_type": "heading",
     "level": 2,
     "metadata": {},
     "source": [
      "Overlap with Human and Fly ZFs (ala HMMer + REGEX) -- Canonical Positions"
     ]
    },
    {
     "cell_type": "code",
     "collapsed": false,
     "input": [
      "dmelSet = getUniqueShilpaZFs('../data/shilpa/Drosophila_melanogaster_ZF.fulldom', [0, 2, 3, 6])\n",
      "hsapSet = getUniqueShilpaZFs('../data/shilpa/Homo_sapiens_ZF.fulldom', [0, 2, 3, 6])\n",
      "\n",
      "compareToNatural(bindingSets4, hsapSet, 'Human', fings, strins, bothStrinsUnion)\n",
      "compareToNatural(bindingSets4, dmelSet, 'Fly', fings, strins, bothStrinsUnion)"
     ],
     "language": "python",
     "metadata": {},
     "outputs": [
      {
       "output_type": "stream",
       "stream": "stdout",
       "text": [
        "\n",
        "Fraction of Human ZFs (-1,2,3,6) Captured: (3640 possible)\n",
        "################################################################\n",
        "F1 high: 0.050\n",
        "F1 low: 0.090\n",
        "F2 high: 0.053\n",
        "F2 low: 0.112\n",
        "F3 high: 0.045\n",
        "F3 low: 0.101\n",
        "\n",
        "F1 F2 Intersection (high): 0.018\n",
        "F1 F2 Union (high)       : 0.085\n",
        "F1 F2 Intersection (low): 0.043\n",
        "F1 F2 Union (low)       : 0.158\n",
        "F1 F3 Intersection (high): 0.010\n",
        "F1 F3 Union (high)       : 0.084\n",
        "F1 F3 Intersection (low): 0.028\n",
        "F1 F3 Union (low)       : 0.163\n",
        "F2 F3 Intersection (high): 0.017\n",
        "F2 F3 Union (high)       : 0.081\n",
        "F2 F3 Intersection (low): 0.054\n",
        "F2 F3 Union (low)       : 0.159\n",
        "\n",
        "All Intersection (high): 0.006\n",
        "All Union (high): 0.109\n",
        "All Intersection (low): 0.023\n",
        "All Union (low): 0.200\n",
        "\n",
        "UNIONING HIGH AND LOW STRINGENCIES:\n",
        "All of F1: 0.093\n",
        "All of F2: 0.113\n",
        "All of F3: 0.102\n",
        "All of F1 and F2: 0.161\n",
        "All of F1 and F3: 0.166\n",
        "All of F2 and F3: 0.160\n",
        "All of F1, F2, and F3: 0.204\n",
        "\n",
        "Fraction of Fly ZFs (-1,2,3,6) Captured: (1595 possible)\n",
        "################################################################\n",
        "F1 high: 0.043\n",
        "F1 low: 0.076\n",
        "F2 high: 0.053\n",
        "F2 low: 0.102\n",
        "F3 high: 0.047\n",
        "F3 low: 0.090\n",
        "\n",
        "F1 F2 Intersection (high): 0.023\n",
        "F1 F2 Union (high)       : 0.073\n",
        "F1 F2 Intersection (low): 0.047\n",
        "F1 F2 Union (low)       : 0.130\n",
        "F1 F3 Intersection (high): 0.012\n",
        "F1 F3 Union (high)       : 0.078\n",
        "F1 F3 Intersection (low): 0.028\n",
        "F1 F3 Union (low)       : 0.137\n",
        "F2 F3 Intersection (high): 0.021\n",
        "F2 F3 Union (high)       : 0.080\n",
        "F2 F3 Intersection (low): 0.048\n",
        "F2 F3 Union (low)       : 0.144\n",
        "\n",
        "All Intersection (high): 0.008\n",
        "All Union (high): 0.095\n",
        "All Intersection (low): 0.024\n",
        "All Union (low): 0.169\n",
        "\n",
        "UNIONING HIGH AND LOW STRINGENCIES:\n",
        "All of F1: 0.077\n",
        "All of F2: 0.102\n",
        "All of F3: 0.092\n",
        "All of F1 and F2: 0.132\n",
        "All of F1 and F3: 0.139\n",
        "All of F2 and F3: 0.145\n",
        "All of F1, F2, and F3: 0.171\n"
       ]
      }
     ],
     "prompt_number": 5
    },
    {
     "cell_type": "code",
     "collapsed": false,
     "input": [
      "\n"
     ],
     "language": "python",
     "metadata": {},
     "outputs": [],
     "prompt_number": 5
    }
   ],
   "metadata": {}
  }
 ]
}