{
 "metadata": {
  "name": "Format_conversions_cut3bc_025"
 },
 "nbformat": 3,
 "nbformat_minor": 0,
 "worksheets": [
  {
   "cells": [
    {
     "cell_type": "code",
     "collapsed": false,
     "input": [
      "from changeFormats import targetFiles2singleCSV, csv2txtFile\n",
      "\n"
     ],
     "language": "python",
     "metadata": {},
     "outputs": [],
     "prompt_number": 1
    },
    {
     "cell_type": "code",
     "collapsed": false,
     "input": [
      "prefix = '../data/b1hData/newDatabase/6varpos/'\n",
      "numVarPos = 6\n",
      "fings = ['F1', 'F2', 'F3']\n",
      "strins = ['high', 'low']\n",
      "for fing in fings:\n",
      "    for strin in strins:\n",
      "        path = prefix + fing + '/' + strin + '/' + 'protein_seq_cut3bc_025/'\n",
      "        targetFiles2singleCSV(path, numVarPos, '.txt')\n",
      "        csv2txtFile(path, numVarPos)\n",
      "        print"
     ],
     "language": "python",
     "metadata": {},
     "outputs": [
      {
       "output_type": "stream",
       "stream": "stdout",
       "text": [
        "Num proteins in ../data/b1hData/newDatabase/6varpos/F1/high/protein_seq_cut3bc_025/AAA.txt:  14\n",
        "Num proteins in ../data/b1hData/newDatabase/6varpos/F1/high/protein_seq_cut3bc_025/AAC.txt:  152\n",
        "Num proteins in ../data/b1hData/newDatabase/6varpos/F1/high/protein_seq_cut3bc_025/AAG.txt:  83\n",
        "Num proteins in ../data/b1hData/newDatabase/6varpos/F1/high/protein_seq_cut3bc_025/AAT.txt:  35\n",
        "Num proteins in ../data/b1hData/newDatabase/6varpos/F1/high/protein_seq_cut3bc_025/ACA.txt:  385\n",
        "Num proteins in ../data/b1hData/newDatabase/6varpos/F1/high/protein_seq_cut3bc_025/ACC.txt:  10\n",
        "Num proteins in ../data/b1hData/newDatabase/6varpos/F1/high/protein_seq_cut3bc_025/ACG.txt:  50\n",
        "Num proteins in ../data/b1hData/newDatabase/6varpos/F1/high/protein_seq_cut3bc_025/ACT.txt:  262\n",
        "Num proteins in ../data/b1hData/newDatabase/6varpos/F1/high/protein_seq_cut3bc_025/AGA.txt:  9\n",
        "Num proteins in ../data/b1hData/newDatabase/6varpos/F1/high/protein_seq_cut3bc_025/AGC.txt:  68\n",
        "Num proteins in ../data/b1hData/newDatabase/6varpos/F1/high/protein_seq_cut3bc_025/AGG.txt:  211\n",
        "Num proteins in ../data/b1hData/newDatabase/6varpos/F1/high/protein_seq_cut3bc_025/AGT.txt:  538\n",
        "Num proteins in ../data/b1hData/newDatabase/6varpos/F1/high/protein_seq_cut3bc_025/ATA.txt:  134\n",
        "Num proteins in ../data/b1hData/newDatabase/6varpos/F1/high/protein_seq_cut3bc_025/ATC.txt:  274\n",
        "Num proteins in ../data/b1hData/newDatabase/6varpos/F1/high/protein_seq_cut3bc_025/ATG.txt:  331\n",
        "Num proteins in ../data/b1hData/newDatabase/6varpos/F1/high/protein_seq_cut3bc_025/ATT.txt:  28\n",
        "Num proteins in ../data/b1hData/newDatabase/6varpos/F1/high/protein_seq_cut3bc_025/CAA.txt:  226\n",
        "Num proteins in ../data/b1hData/newDatabase/6varpos/F1/high/protein_seq_cut3bc_025/CAC.txt:  50\n",
        "Num proteins in ../data/b1hData/newDatabase/6varpos/F1/high/protein_seq_cut3bc_025/CAG.txt:  177\n",
        "Num proteins in ../data/b1hData/newDatabase/6varpos/F1/high/protein_seq_cut3bc_025/CAT.txt:  227\n",
        "Num proteins in ../data/b1hData/newDatabase/6varpos/F1/high/protein_seq_cut3bc_025/CCA.txt:  779"
       ]
      },
      {
       "output_type": "stream",
       "stream": "stdout",
       "text": [
        "\n",
        "Num proteins in ../data/b1hData/newDatabase/6varpos/F1/high/protein_seq_cut3bc_025/CCC.txt:  287\n",
        "Num proteins in ../data/b1hData/newDatabase/6varpos/F1/high/protein_seq_cut3bc_025/CCG.txt:  224\n",
        "Num proteins in ../data/b1hData/newDatabase/6varpos/F1/high/protein_seq_cut3bc_025/CCT.txt:  417\n",
        "Num proteins in ../data/b1hData/newDatabase/6varpos/F1/high/protein_seq_cut3bc_025/CGA.txt:  130\n",
        "Num proteins in ../data/b1hData/newDatabase/6varpos/F1/high/protein_seq_cut3bc_025/CGC.txt:  218\n",
        "Num proteins in ../data/b1hData/newDatabase/6varpos/F1/high/protein_seq_cut3bc_025/CGG.txt:  594\n",
        "Num proteins in ../data/b1hData/newDatabase/6varpos/F1/high/protein_seq_cut3bc_025/CGT.txt:  182\n",
        "Num proteins in ../data/b1hData/newDatabase/6varpos/F1/high/protein_seq_cut3bc_025/CTA.txt:  59\n",
        "Num proteins in ../data/b1hData/newDatabase/6varpos/F1/high/protein_seq_cut3bc_025/CTC.txt:  27\n",
        "Num proteins in ../data/b1hData/newDatabase/6varpos/F1/high/protein_seq_cut3bc_025/CTG.txt:  81\n",
        "Num proteins in ../data/b1hData/newDatabase/6varpos/F1/high/protein_seq_cut3bc_025/CTT.txt:  78\n",
        "Num proteins in ../data/b1hData/newDatabase/6varpos/F1/high/protein_seq_cut3bc_025/GAA.txt:  278"
       ]
      },
      {
       "output_type": "stream",
       "stream": "stdout",
       "text": [
        "\n",
        "Num proteins in ../data/b1hData/newDatabase/6varpos/F1/high/protein_seq_cut3bc_025/GAC.txt:  357\n",
        "Num proteins in ../data/b1hData/newDatabase/6varpos/F1/high/protein_seq_cut3bc_025/GAG.txt:  322\n",
        "Num proteins in ../data/b1hData/newDatabase/6varpos/F1/high/protein_seq_cut3bc_025/GAT.txt:  458\n",
        "Num proteins in ../data/b1hData/newDatabase/6varpos/F1/high/protein_seq_cut3bc_025/GCA.txt:  453\n",
        "Num proteins in ../data/b1hData/newDatabase/6varpos/F1/high/protein_seq_cut3bc_025/GCC.txt:  83\n",
        "Num proteins in ../data/b1hData/newDatabase/6varpos/F1/high/protein_seq_cut3bc_025/GCG.txt:  158\n",
        "Num proteins in ../data/b1hData/newDatabase/6varpos/F1/high/protein_seq_cut3bc_025/GCT.txt:  395\n",
        "Num proteins in ../data/b1hData/newDatabase/6varpos/F1/high/protein_seq_cut3bc_025/GGA.txt:  29\n",
        "Num proteins in ../data/b1hData/newDatabase/6varpos/F1/high/protein_seq_cut3bc_025/GGC.txt:  97\n",
        "Num proteins in ../data/b1hData/newDatabase/6varpos/F1/high/protein_seq_cut3bc_025/GGG.txt:  356\n",
        "Num proteins in ../data/b1hData/newDatabase/6varpos/F1/high/protein_seq_cut3bc_025/GGT.txt:  504\n",
        "Num proteins in ../data/b1hData/newDatabase/6varpos/F1/high/protein_seq_cut3bc_025/GTA.txt:  68\n",
        "Num proteins in ../data/b1hData/newDatabase/6varpos/F1/high/protein_seq_cut3bc_025/GTC.txt:  63\n",
        "Num proteins in ../data/b1hData/newDatabase/6varpos/F1/high/protein_seq_cut3bc_025/GTG.txt:  436\n",
        "Num proteins in ../data/b1hData/newDatabase/6varpos/F1/high/protein_seq_cut3bc_025/GTT.txt:  87\n",
        "Num proteins in ../data/b1hData/newDatabase/6varpos/F1/high/protein_seq_cut3bc_025/TAA.txt:  7\n",
        "Num proteins in ../data/b1hData/newDatabase/6varpos/F1/high/protein_seq_cut3bc_025/TAC.txt:  59\n",
        "Num proteins in ../data/b1hData/newDatabase/6varpos/F1/high/protein_seq_cut3bc_025/TAG.txt:  17\n",
        "Num proteins in ../data/b1hData/newDatabase/6varpos/F1/high/protein_seq_cut3bc_025/TAT.txt:  17\n",
        "Num proteins in ../data/b1hData/newDatabase/6varpos/F1/high/protein_seq_cut3bc_025/TCA.txt:  55\n",
        "Num proteins in ../data/b1hData/newDatabase/6varpos/F1/high/protein_seq_cut3bc_025/TCC.txt:  41\n",
        "Num proteins in ../data/b1hData/newDatabase/6varpos/F1/high/protein_seq_cut3bc_025/TCG.txt:  75\n",
        "Num proteins in ../data/b1hData/newDatabase/6varpos/F1/high/protein_seq_cut3bc_025/TCT.txt:  20"
       ]
      },
      {
       "output_type": "stream",
       "stream": "stdout",
       "text": [
        "\n",
        "Num proteins in ../data/b1hData/newDatabase/6varpos/F1/high/protein_seq_cut3bc_025/TGA.txt:  12\n",
        "Num proteins in ../data/b1hData/newDatabase/6varpos/F1/high/protein_seq_cut3bc_025/TGC.txt:  85\n",
        "Num proteins in ../data/b1hData/newDatabase/6varpos/F1/high/protein_seq_cut3bc_025/TGG.txt:  256\n",
        "Num proteins in ../data/b1hData/newDatabase/6varpos/F1/high/protein_seq_cut3bc_025/TGT.txt:  341\n",
        "Num proteins in ../data/b1hData/newDatabase/6varpos/F1/high/protein_seq_cut3bc_025/TTA.txt:  54\n",
        "Num proteins in ../data/b1hData/newDatabase/6varpos/F1/high/protein_seq_cut3bc_025/TTC.txt:  7\n",
        "Num proteins in ../data/b1hData/newDatabase/6varpos/F1/high/protein_seq_cut3bc_025/TTG.txt:  16\n",
        "Num proteins in ../data/b1hData/newDatabase/6varpos/F1/high/protein_seq_cut3bc_025/TTT.txt:  13\n",
        "Total num protein/dna observations in all files:  11559\n",
        "Total num unique proteins in all files:  7941\n",
        "\n",
        "Num obs processed in csv to txt conversion:  11559"
       ]
      },
      {
       "output_type": "stream",
       "stream": "stdout",
       "text": [
        "\n",
        "\n",
        "Num proteins in ../data/b1hData/newDatabase/6varpos/F1/low/protein_seq_cut3bc_025/AAA.txt:  31"
       ]
      },
      {
       "output_type": "stream",
       "stream": "stdout",
       "text": [
        "\n",
        "Num proteins in ../data/b1hData/newDatabase/6varpos/F1/low/protein_seq_cut3bc_025/AAC.txt:  216\n",
        "Num proteins in ../data/b1hData/newDatabase/6varpos/F1/low/protein_seq_cut3bc_025/AAG.txt:  1267\n",
        "Num proteins in ../data/b1hData/newDatabase/6varpos/F1/low/protein_seq_cut3bc_025/AAT.txt:  65\n",
        "Num proteins in ../data/b1hData/newDatabase/6varpos/F1/low/protein_seq_cut3bc_025/ACA.txt:  866\n",
        "Num proteins in ../data/b1hData/newDatabase/6varpos/F1/low/protein_seq_cut3bc_025/ACC.txt:  94\n",
        "Num proteins in ../data/b1hData/newDatabase/6varpos/F1/low/protein_seq_cut3bc_025/ACG.txt:  1260\n",
        "Num proteins in ../data/b1hData/newDatabase/6varpos/F1/low/protein_seq_cut3bc_025/ACT.txt:  333\n",
        "Num proteins in ../data/b1hData/newDatabase/6varpos/F1/low/protein_seq_cut3bc_025/AGA.txt:  157\n",
        "Num proteins in ../data/b1hData/newDatabase/6varpos/F1/low/protein_seq_cut3bc_025/AGC.txt:  651"
       ]
      },
      {
       "output_type": "stream",
       "stream": "stdout",
       "text": [
        "\n",
        "Num proteins in ../data/b1hData/newDatabase/6varpos/F1/low/protein_seq_cut3bc_025/AGG.txt:  472\n",
        "Num proteins in ../data/b1hData/newDatabase/6varpos/F1/low/protein_seq_cut3bc_025/AGT.txt:  2066\n",
        "Num proteins in ../data/b1hData/newDatabase/6varpos/F1/low/protein_seq_cut3bc_025/ATA.txt:  470\n",
        "Num proteins in ../data/b1hData/newDatabase/6varpos/F1/low/protein_seq_cut3bc_025/ATC.txt:  455\n",
        "Num proteins in ../data/b1hData/newDatabase/6varpos/F1/low/protein_seq_cut3bc_025/ATG.txt:  754\n",
        "Num proteins in ../data/b1hData/newDatabase/6varpos/F1/low/protein_seq_cut3bc_025/ATT.txt:  143\n",
        "Num proteins in ../data/b1hData/newDatabase/6varpos/F1/low/protein_seq_cut3bc_025/CAA.txt:  563"
       ]
      },
      {
       "output_type": "stream",
       "stream": "stdout",
       "text": [
        "\n",
        "Num proteins in ../data/b1hData/newDatabase/6varpos/F1/low/protein_seq_cut3bc_025/CAC.txt:  168\n",
        "Num proteins in ../data/b1hData/newDatabase/6varpos/F1/low/protein_seq_cut3bc_025/CAG.txt:  462\n",
        "Num proteins in ../data/b1hData/newDatabase/6varpos/F1/low/protein_seq_cut3bc_025/CAT.txt:  418\n",
        "Num proteins in ../data/b1hData/newDatabase/6varpos/F1/low/protein_seq_cut3bc_025/CCA.txt:  897\n",
        "Num proteins in ../data/b1hData/newDatabase/6varpos/F1/low/protein_seq_cut3bc_025/CCC.txt:  720\n",
        "Num proteins in ../data/b1hData/newDatabase/6varpos/F1/low/protein_seq_cut3bc_025/CCG.txt:  753\n",
        "Num proteins in ../data/b1hData/newDatabase/6varpos/F1/low/protein_seq_cut3bc_025/CCT.txt:  948\n",
        "Num proteins in ../data/b1hData/newDatabase/6varpos/F1/low/protein_seq_cut3bc_025/CGA.txt:  1599"
       ]
      },
      {
       "output_type": "stream",
       "stream": "stdout",
       "text": [
        "\n",
        "Num proteins in ../data/b1hData/newDatabase/6varpos/F1/low/protein_seq_cut3bc_025/CGC.txt:  571\n",
        "Num proteins in ../data/b1hData/newDatabase/6varpos/F1/low/protein_seq_cut3bc_025/CGG.txt:  1046\n",
        "Num proteins in ../data/b1hData/newDatabase/6varpos/F1/low/protein_seq_cut3bc_025/CGT.txt:  686\n",
        "Num proteins in ../data/b1hData/newDatabase/6varpos/F1/low/protein_seq_cut3bc_025/CTA.txt:  428\n",
        "Num proteins in ../data/b1hData/newDatabase/6varpos/F1/low/protein_seq_cut3bc_025/CTC.txt:  302\n",
        "Num proteins in ../data/b1hData/newDatabase/6varpos/F1/low/protein_seq_cut3bc_025/CTG.txt:  399\n",
        "Num proteins in ../data/b1hData/newDatabase/6varpos/F1/low/protein_seq_cut3bc_025/CTT.txt:  349\n",
        "Num proteins in ../data/b1hData/newDatabase/6varpos/F1/low/protein_seq_cut3bc_025/GAA.txt:  443\n",
        "Num proteins in ../data/b1hData/newDatabase/6varpos/F1/low/protein_seq_cut3bc_025/GAC.txt:  1383"
       ]
      },
      {
       "output_type": "stream",
       "stream": "stdout",
       "text": [
        "\n",
        "Num proteins in ../data/b1hData/newDatabase/6varpos/F1/low/protein_seq_cut3bc_025/GAG.txt:  734\n",
        "Num proteins in ../data/b1hData/newDatabase/6varpos/F1/low/protein_seq_cut3bc_025/GAT.txt:  1872\n",
        "Num proteins in ../data/b1hData/newDatabase/6varpos/F1/low/protein_seq_cut3bc_025/GCA.txt:  1117\n",
        "Num proteins in ../data/b1hData/newDatabase/6varpos/F1/low/protein_seq_cut3bc_025/GCC.txt:  170\n",
        "Num proteins in ../data/b1hData/newDatabase/6varpos/F1/low/protein_seq_cut3bc_025/GCG.txt:  654\n",
        "Num proteins in ../data/b1hData/newDatabase/6varpos/F1/low/protein_seq_cut3bc_025/GCT.txt:  940"
       ]
      },
      {
       "output_type": "stream",
       "stream": "stdout",
       "text": [
        "\n",
        "Num proteins in ../data/b1hData/newDatabase/6varpos/F1/low/protein_seq_cut3bc_025/GGA.txt:  180\n",
        "Num proteins in ../data/b1hData/newDatabase/6varpos/F1/low/protein_seq_cut3bc_025/GGC.txt:  318\n",
        "Num proteins in ../data/b1hData/newDatabase/6varpos/F1/low/protein_seq_cut3bc_025/GGG.txt:  609\n",
        "Num proteins in ../data/b1hData/newDatabase/6varpos/F1/low/protein_seq_cut3bc_025/GGT.txt:  2054\n",
        "Num proteins in ../data/b1hData/newDatabase/6varpos/F1/low/protein_seq_cut3bc_025/GTA.txt:  398\n",
        "Num proteins in ../data/b1hData/newDatabase/6varpos/F1/low/protein_seq_cut3bc_025/GTC.txt:  344\n",
        "Num proteins in ../data/b1hData/newDatabase/6varpos/F1/low/protein_seq_cut3bc_025/GTG.txt:  715\n",
        "Num proteins in ../data/b1hData/newDatabase/6varpos/F1/low/protein_seq_cut3bc_025/GTT.txt:  381"
       ]
      },
      {
       "output_type": "stream",
       "stream": "stdout",
       "text": [
        "\n",
        "Num proteins in ../data/b1hData/newDatabase/6varpos/F1/low/protein_seq_cut3bc_025/TAA.txt:  160\n",
        "Num proteins in ../data/b1hData/newDatabase/6varpos/F1/low/protein_seq_cut3bc_025/TAC.txt:  171\n",
        "Num proteins in ../data/b1hData/newDatabase/6varpos/F1/low/protein_seq_cut3bc_025/TAG.txt:  90\n",
        "Num proteins in ../data/b1hData/newDatabase/6varpos/F1/low/protein_seq_cut3bc_025/TAT.txt:  8\n",
        "Num proteins in ../data/b1hData/newDatabase/6varpos/F1/low/protein_seq_cut3bc_025/TCA.txt:  420\n",
        "Num proteins in ../data/b1hData/newDatabase/6varpos/F1/low/protein_seq_cut3bc_025/TCC.txt:  86\n",
        "Num proteins in ../data/b1hData/newDatabase/6varpos/F1/low/protein_seq_cut3bc_025/TCG.txt:  151\n",
        "Num proteins in ../data/b1hData/newDatabase/6varpos/F1/low/protein_seq_cut3bc_025/TCT.txt:  195\n",
        "Num proteins in ../data/b1hData/newDatabase/6varpos/F1/low/protein_seq_cut3bc_025/TGA.txt:  117\n",
        "Num proteins in ../data/b1hData/newDatabase/6varpos/F1/low/protein_seq_cut3bc_025/TGC.txt:  439\n",
        "Num proteins in ../data/b1hData/newDatabase/6varpos/F1/low/protein_seq_cut3bc_025/TGG.txt:  473\n",
        "Num proteins in ../data/b1hData/newDatabase/6varpos/F1/low/protein_seq_cut3bc_025/TGT.txt:  1782"
       ]
      },
      {
       "output_type": "stream",
       "stream": "stdout",
       "text": [
        "\n",
        "Num proteins in ../data/b1hData/newDatabase/6varpos/F1/low/protein_seq_cut3bc_025/TTA.txt:  385\n",
        "Num proteins in ../data/b1hData/newDatabase/6varpos/F1/low/protein_seq_cut3bc_025/TTC.txt:  39\n",
        "Num proteins in ../data/b1hData/newDatabase/6varpos/F1/low/protein_seq_cut3bc_025/TTG.txt:  122\n",
        "Num proteins in ../data/b1hData/newDatabase/6varpos/F1/low/protein_seq_cut3bc_025/TTT.txt:  169\n",
        "Total num protein/dna observations in all files:  36728\n",
        "Total num unique proteins in all files:  22914\n",
        "\n",
        "Num obs processed in csv to txt conversion:  36728"
       ]
      },
      {
       "output_type": "stream",
       "stream": "stdout",
       "text": [
        "\n",
        "\n",
        "Num proteins in ../data/b1hData/newDatabase/6varpos/F2/high/protein_seq_cut3bc_025/AAA.txt:  109\n",
        "Num proteins in ../data/b1hData/newDatabase/6varpos/F2/high/protein_seq_cut3bc_025/AAC.txt:  783\n",
        "Num proteins in ../data/b1hData/newDatabase/6varpos/F2/high/protein_seq_cut3bc_025/AAG.txt:  269\n",
        "Num proteins in ../data/b1hData/newDatabase/6varpos/F2/high/protein_seq_cut3bc_025/AAT.txt:  154\n",
        "Num proteins in ../data/b1hData/newDatabase/6varpos/F2/high/protein_seq_cut3bc_025/ACA.txt:  532\n",
        "Num proteins in ../data/b1hData/newDatabase/6varpos/F2/high/protein_seq_cut3bc_025/ACC.txt:  227\n",
        "Num proteins in ../data/b1hData/newDatabase/6varpos/F2/high/protein_seq_cut3bc_025/ACG.txt:  556\n",
        "Num proteins in ../data/b1hData/newDatabase/6varpos/F2/high/protein_seq_cut3bc_025/ACT.txt:  1577\n",
        "Num proteins in ../data/b1hData/newDatabase/6varpos/F2/high/protein_seq_cut3bc_025/AGA.txt:  44\n",
        "Num proteins in ../data/b1hData/newDatabase/6varpos/F2/high/protein_seq_cut3bc_025/AGC.txt:  179\n",
        "Num proteins in ../data/b1hData/newDatabase/6varpos/F2/high/protein_seq_cut3bc_025/AGG.txt:  493\n",
        "Num proteins in ../data/b1hData/newDatabase/6varpos/F2/high/protein_seq_cut3bc_025/AGT.txt:  852"
       ]
      },
      {
       "output_type": "stream",
       "stream": "stdout",
       "text": [
        "\n",
        "Num proteins in ../data/b1hData/newDatabase/6varpos/F2/high/protein_seq_cut3bc_025/ATA.txt:  23\n",
        "Num proteins in ../data/b1hData/newDatabase/6varpos/F2/high/protein_seq_cut3bc_025/ATC.txt:  458\n",
        "Num proteins in ../data/b1hData/newDatabase/6varpos/F2/high/protein_seq_cut3bc_025/ATG.txt:  161\n",
        "Num proteins in ../data/b1hData/newDatabase/6varpos/F2/high/protein_seq_cut3bc_025/ATT.txt:  440\n",
        "Num proteins in ../data/b1hData/newDatabase/6varpos/F2/high/protein_seq_cut3bc_025/CAA.txt:  3\n",
        "Num proteins in ../data/b1hData/newDatabase/6varpos/F2/high/protein_seq_cut3bc_025/CAC.txt:  284\n",
        "Num proteins in ../data/b1hData/newDatabase/6varpos/F2/high/protein_seq_cut3bc_025/CAG.txt:  590\n",
        "Num proteins in ../data/b1hData/newDatabase/6varpos/F2/high/protein_seq_cut3bc_025/CAT.txt:  387\n",
        "Num proteins in ../data/b1hData/newDatabase/6varpos/F2/high/protein_seq_cut3bc_025/CCA.txt:  49\n",
        "Num proteins in ../data/b1hData/newDatabase/6varpos/F2/high/protein_seq_cut3bc_025/CCC.txt:  81\n",
        "Num proteins in ../data/b1hData/newDatabase/6varpos/F2/high/protein_seq_cut3bc_025/CCG.txt:  32\n",
        "Num proteins in ../data/b1hData/newDatabase/6varpos/F2/high/protein_seq_cut3bc_025/CCT.txt:  118\n",
        "Num proteins in ../data/b1hData/newDatabase/6varpos/F2/high/protein_seq_cut3bc_025/CGA.txt:  18\n",
        "Num proteins in ../data/b1hData/newDatabase/6varpos/F2/high/protein_seq_cut3bc_025/CGC.txt:  58\n",
        "Num proteins in ../data/b1hData/newDatabase/6varpos/F2/high/protein_seq_cut3bc_025/CGG.txt:  1108\n",
        "Num proteins in ../data/b1hData/newDatabase/6varpos/F2/high/protein_seq_cut3bc_025/CGT.txt:  511\n",
        "Num proteins in ../data/b1hData/newDatabase/6varpos/F2/high/protein_seq_cut3bc_025/CTA.txt:  38\n",
        "Num proteins in ../data/b1hData/newDatabase/6varpos/F2/high/protein_seq_cut3bc_025/CTC.txt:  33\n",
        "Num proteins in ../data/b1hData/newDatabase/6varpos/F2/high/protein_seq_cut3bc_025/CTG.txt:  60\n",
        "Num proteins in ../data/b1hData/newDatabase/6varpos/F2/high/protein_seq_cut3bc_025/CTT.txt:  165\n",
        "Num proteins in ../data/b1hData/newDatabase/6varpos/F2/high/protein_seq_cut3bc_025/GAA.txt:  193\n",
        "Num proteins in ../data/b1hData/newDatabase/6varpos/F2/high/protein_seq_cut3bc_025/GAC.txt:  736\n",
        "Num proteins in ../data/b1hData/newDatabase/6varpos/F2/high/protein_seq_cut3bc_025/GAG.txt:  900"
       ]
      },
      {
       "output_type": "stream",
       "stream": "stdout",
       "text": [
        "\n",
        "Num proteins in ../data/b1hData/newDatabase/6varpos/F2/high/protein_seq_cut3bc_025/GAT.txt:  340\n",
        "Num proteins in ../data/b1hData/newDatabase/6varpos/F2/high/protein_seq_cut3bc_025/GCA.txt:  39\n",
        "Num proteins in ../data/b1hData/newDatabase/6varpos/F2/high/protein_seq_cut3bc_025/GCC.txt:  256\n",
        "Num proteins in ../data/b1hData/newDatabase/6varpos/F2/high/protein_seq_cut3bc_025/GCG.txt:  462\n",
        "Num proteins in ../data/b1hData/newDatabase/6varpos/F2/high/protein_seq_cut3bc_025/GCT.txt:  995\n",
        "Num proteins in ../data/b1hData/newDatabase/6varpos/F2/high/protein_seq_cut3bc_025/GGA.txt:  336\n",
        "Num proteins in ../data/b1hData/newDatabase/6varpos/F2/high/protein_seq_cut3bc_025/GGC.txt:  78\n",
        "Num proteins in ../data/b1hData/newDatabase/6varpos/F2/high/protein_seq_cut3bc_025/GGG.txt:  956\n",
        "Num proteins in ../data/b1hData/newDatabase/6varpos/F2/high/protein_seq_cut3bc_025/GGT.txt:  438\n",
        "Num proteins in ../data/b1hData/newDatabase/6varpos/F2/high/protein_seq_cut3bc_025/GTA.txt:  510\n",
        "Num proteins in ../data/b1hData/newDatabase/6varpos/F2/high/protein_seq_cut3bc_025/GTC.txt:  316\n",
        "Num proteins in ../data/b1hData/newDatabase/6varpos/F2/high/protein_seq_cut3bc_025/GTG.txt:  730"
       ]
      },
      {
       "output_type": "stream",
       "stream": "stdout",
       "text": [
        "\n",
        "Num proteins in ../data/b1hData/newDatabase/6varpos/F2/high/protein_seq_cut3bc_025/GTT.txt:  616\n",
        "Num proteins in ../data/b1hData/newDatabase/6varpos/F2/high/protein_seq_cut3bc_025/TAA.txt:  4\n",
        "Num proteins in ../data/b1hData/newDatabase/6varpos/F2/high/protein_seq_cut3bc_025/TAC.txt:  86\n",
        "Num proteins in ../data/b1hData/newDatabase/6varpos/F2/high/protein_seq_cut3bc_025/TAG.txt:  119\n",
        "Num proteins in ../data/b1hData/newDatabase/6varpos/F2/high/protein_seq_cut3bc_025/TAT.txt:  205\n",
        "Num proteins in ../data/b1hData/newDatabase/6varpos/F2/high/protein_seq_cut3bc_025/TCA.txt:  9\n",
        "Num proteins in ../data/b1hData/newDatabase/6varpos/F2/high/protein_seq_cut3bc_025/TCC.txt:  123\n",
        "Num proteins in ../data/b1hData/newDatabase/6varpos/F2/high/protein_seq_cut3bc_025/TCG.txt:  55\n",
        "Num proteins in ../data/b1hData/newDatabase/6varpos/F2/high/protein_seq_cut3bc_025/TCT.txt:  143\n",
        "Num proteins in ../data/b1hData/newDatabase/6varpos/F2/high/protein_seq_cut3bc_025/TGA.txt:  28\n",
        "Num proteins in ../data/b1hData/newDatabase/6varpos/F2/high/protein_seq_cut3bc_025/TGC.txt:  15\n",
        "Num proteins in ../data/b1hData/newDatabase/6varpos/F2/high/protein_seq_cut3bc_025/TGG.txt:  1220\n",
        "Num proteins in ../data/b1hData/newDatabase/6varpos/F2/high/protein_seq_cut3bc_025/TGT.txt:  1467\n",
        "Num proteins in ../data/b1hData/newDatabase/6varpos/F2/high/protein_seq_cut3bc_025/TTA.txt:  19\n",
        "Num proteins in ../data/b1hData/newDatabase/6varpos/F2/high/protein_seq_cut3bc_025/TTC.txt:  31\n",
        "Num proteins in ../data/b1hData/newDatabase/6varpos/F2/high/protein_seq_cut3bc_025/TTG.txt:  174\n",
        "Num proteins in ../data/b1hData/newDatabase/6varpos/F2/high/protein_seq_cut3bc_025/TTT.txt:  20\n",
        "Total num protein/dna observations in all files:  22011\n",
        "Total num unique proteins in all files:  16951\n",
        "\n",
        "Num obs processed in csv to txt conversion:  22011"
       ]
      },
      {
       "output_type": "stream",
       "stream": "stdout",
       "text": [
        "\n",
        "\n",
        "Num proteins in ../data/b1hData/newDatabase/6varpos/F2/low/protein_seq_cut3bc_025/AAA.txt:  468"
       ]
      },
      {
       "output_type": "stream",
       "stream": "stdout",
       "text": [
        "\n",
        "Num proteins in ../data/b1hData/newDatabase/6varpos/F2/low/protein_seq_cut3bc_025/AAC.txt:  2600\n",
        "Num proteins in ../data/b1hData/newDatabase/6varpos/F2/low/protein_seq_cut3bc_025/AAG.txt:  2157\n",
        "Num proteins in ../data/b1hData/newDatabase/6varpos/F2/low/protein_seq_cut3bc_025/AAT.txt:  1644"
       ]
      },
      {
       "output_type": "stream",
       "stream": "stdout",
       "text": [
        "\n",
        "Num proteins in ../data/b1hData/newDatabase/6varpos/F2/low/protein_seq_cut3bc_025/ACA.txt:  1888\n",
        "Num proteins in ../data/b1hData/newDatabase/6varpos/F2/low/protein_seq_cut3bc_025/ACC.txt:  893\n",
        "Num proteins in ../data/b1hData/newDatabase/6varpos/F2/low/protein_seq_cut3bc_025/ACG.txt:  2390\n",
        "Num proteins in ../data/b1hData/newDatabase/6varpos/F2/low/protein_seq_cut3bc_025/ACT.txt:  4515"
       ]
      },
      {
       "output_type": "stream",
       "stream": "stdout",
       "text": [
        "\n",
        "Num proteins in ../data/b1hData/newDatabase/6varpos/F2/low/protein_seq_cut3bc_025/AGA.txt:  467\n",
        "Num proteins in ../data/b1hData/newDatabase/6varpos/F2/low/protein_seq_cut3bc_025/AGC.txt:  659\n",
        "Num proteins in ../data/b1hData/newDatabase/6varpos/F2/low/protein_seq_cut3bc_025/AGG.txt:  2296\n",
        "Num proteins in ../data/b1hData/newDatabase/6varpos/F2/low/protein_seq_cut3bc_025/AGT.txt:  3688"
       ]
      },
      {
       "output_type": "stream",
       "stream": "stdout",
       "text": [
        "\n",
        "Num proteins in ../data/b1hData/newDatabase/6varpos/F2/low/protein_seq_cut3bc_025/ATA.txt:  122\n",
        "Num proteins in ../data/b1hData/newDatabase/6varpos/F2/low/protein_seq_cut3bc_025/ATC.txt:  1736\n",
        "Num proteins in ../data/b1hData/newDatabase/6varpos/F2/low/protein_seq_cut3bc_025/ATG.txt:  1604\n",
        "Num proteins in ../data/b1hData/newDatabase/6varpos/F2/low/protein_seq_cut3bc_025/ATT.txt:  2194"
       ]
      },
      {
       "output_type": "stream",
       "stream": "stdout",
       "text": [
        "\n",
        "Num proteins in ../data/b1hData/newDatabase/6varpos/F2/low/protein_seq_cut3bc_025/CAA.txt:  262\n",
        "Num proteins in ../data/b1hData/newDatabase/6varpos/F2/low/protein_seq_cut3bc_025/CAC.txt:  2106\n",
        "Num proteins in ../data/b1hData/newDatabase/6varpos/F2/low/protein_seq_cut3bc_025/CAG.txt:  3129"
       ]
      },
      {
       "output_type": "stream",
       "stream": "stdout",
       "text": [
        "\n",
        "Num proteins in ../data/b1hData/newDatabase/6varpos/F2/low/protein_seq_cut3bc_025/CAT.txt:  2045\n",
        "Num proteins in ../data/b1hData/newDatabase/6varpos/F2/low/protein_seq_cut3bc_025/CCA.txt:  389\n",
        "Num proteins in ../data/b1hData/newDatabase/6varpos/F2/low/protein_seq_cut3bc_025/CCC.txt:  396\n",
        "Num proteins in ../data/b1hData/newDatabase/6varpos/F2/low/protein_seq_cut3bc_025/CCG.txt:  575\n",
        "Num proteins in ../data/b1hData/newDatabase/6varpos/F2/low/protein_seq_cut3bc_025/CCT.txt:  689\n",
        "Num proteins in ../data/b1hData/newDatabase/6varpos/F2/low/protein_seq_cut3bc_025/CGA.txt:  239\n",
        "Num proteins in ../data/b1hData/newDatabase/6varpos/F2/low/protein_seq_cut3bc_025/CGC.txt:  362\n",
        "Num proteins in ../data/b1hData/newDatabase/6varpos/F2/low/protein_seq_cut3bc_025/CGG.txt:  3471"
       ]
      },
      {
       "output_type": "stream",
       "stream": "stdout",
       "text": [
        "\n",
        "Num proteins in ../data/b1hData/newDatabase/6varpos/F2/low/protein_seq_cut3bc_025/CGT.txt:  2083\n",
        "Num proteins in ../data/b1hData/newDatabase/6varpos/F2/low/protein_seq_cut3bc_025/CTA.txt:  93\n",
        "Num proteins in ../data/b1hData/newDatabase/6varpos/F2/low/protein_seq_cut3bc_025/CTC.txt:  234\n",
        "Num proteins in ../data/b1hData/newDatabase/6varpos/F2/low/protein_seq_cut3bc_025/CTG.txt:  514\n",
        "Num proteins in ../data/b1hData/newDatabase/6varpos/F2/low/protein_seq_cut3bc_025/CTT.txt:  434\n",
        "Num proteins in ../data/b1hData/newDatabase/6varpos/F2/low/protein_seq_cut3bc_025/GAA.txt:  412\n",
        "Num proteins in ../data/b1hData/newDatabase/6varpos/F2/low/protein_seq_cut3bc_025/GAC.txt:  1909"
       ]
      },
      {
       "output_type": "stream",
       "stream": "stdout",
       "text": [
        "\n",
        "Num proteins in ../data/b1hData/newDatabase/6varpos/F2/low/protein_seq_cut3bc_025/GAG.txt:  2021"
       ]
      },
      {
       "output_type": "stream",
       "stream": "stdout",
       "text": [
        "\n",
        "Num proteins in ../data/b1hData/newDatabase/6varpos/F2/low/protein_seq_cut3bc_025/GAT.txt:  1778"
       ]
      },
      {
       "output_type": "stream",
       "stream": "stdout",
       "text": [
        "\n",
        "Num proteins in ../data/b1hData/newDatabase/6varpos/F2/low/protein_seq_cut3bc_025/GCA.txt:  501\n",
        "Num proteins in ../data/b1hData/newDatabase/6varpos/F2/low/protein_seq_cut3bc_025/GCC.txt:  714\n",
        "Num proteins in ../data/b1hData/newDatabase/6varpos/F2/low/protein_seq_cut3bc_025/GCG.txt:  2289"
       ]
      },
      {
       "output_type": "stream",
       "stream": "stdout",
       "text": [
        "\n",
        "Num proteins in ../data/b1hData/newDatabase/6varpos/F2/low/protein_seq_cut3bc_025/GCT.txt:  2754"
       ]
      },
      {
       "output_type": "stream",
       "stream": "stdout",
       "text": [
        "\n",
        "Num proteins in ../data/b1hData/newDatabase/6varpos/F2/low/protein_seq_cut3bc_025/GGA.txt:  104\n",
        "Num proteins in ../data/b1hData/newDatabase/6varpos/F2/low/protein_seq_cut3bc_025/GGC.txt:  226\n",
        "Num proteins in ../data/b1hData/newDatabase/6varpos/F2/low/protein_seq_cut3bc_025/GGG.txt:  2625\n",
        "Num proteins in ../data/b1hData/newDatabase/6varpos/F2/low/protein_seq_cut3bc_025/GGT.txt:  1363"
       ]
      },
      {
       "output_type": "stream",
       "stream": "stdout",
       "text": [
        "\n",
        "Num proteins in ../data/b1hData/newDatabase/6varpos/F2/low/protein_seq_cut3bc_025/GTA.txt:  12\n",
        "Num proteins in ../data/b1hData/newDatabase/6varpos/F2/low/protein_seq_cut3bc_025/GTC.txt:  1204\n",
        "Num proteins in ../data/b1hData/newDatabase/6varpos/F2/low/protein_seq_cut3bc_025/GTG.txt:  3500"
       ]
      },
      {
       "output_type": "stream",
       "stream": "stdout",
       "text": [
        "\n",
        "Num proteins in ../data/b1hData/newDatabase/6varpos/F2/low/protein_seq_cut3bc_025/GTT.txt:  2594\n",
        "Num proteins in ../data/b1hData/newDatabase/6varpos/F2/low/protein_seq_cut3bc_025/TAA.txt:  6\n",
        "Num proteins in ../data/b1hData/newDatabase/6varpos/F2/low/protein_seq_cut3bc_025/TAC.txt:  736"
       ]
      },
      {
       "output_type": "stream",
       "stream": "stdout",
       "text": [
        "\n",
        "Num proteins in ../data/b1hData/newDatabase/6varpos/F2/low/protein_seq_cut3bc_025/TAG.txt:  672\n",
        "Num proteins in ../data/b1hData/newDatabase/6varpos/F2/low/protein_seq_cut3bc_025/TAT.txt:  1687\n",
        "Num proteins in ../data/b1hData/newDatabase/6varpos/F2/low/protein_seq_cut3bc_025/TCA.txt:  28\n",
        "Num proteins in ../data/b1hData/newDatabase/6varpos/F2/low/protein_seq_cut3bc_025/TCC.txt:  457\n",
        "Num proteins in ../data/b1hData/newDatabase/6varpos/F2/low/protein_seq_cut3bc_025/TCG.txt:  1073\n",
        "Num proteins in ../data/b1hData/newDatabase/6varpos/F2/low/protein_seq_cut3bc_025/TCT.txt:  876"
       ]
      },
      {
       "output_type": "stream",
       "stream": "stdout",
       "text": [
        "\n",
        "Num proteins in ../data/b1hData/newDatabase/6varpos/F2/low/protein_seq_cut3bc_025/TGA.txt:  173\n",
        "Num proteins in ../data/b1hData/newDatabase/6varpos/F2/low/protein_seq_cut3bc_025/TGC.txt:  376\n",
        "Num proteins in ../data/b1hData/newDatabase/6varpos/F2/low/protein_seq_cut3bc_025/TGG.txt:  3418"
       ]
      },
      {
       "output_type": "stream",
       "stream": "stdout",
       "text": [
        "\n",
        "Num proteins in ../data/b1hData/newDatabase/6varpos/F2/low/protein_seq_cut3bc_025/TGT.txt:  4745\n",
        "Num proteins in ../data/b1hData/newDatabase/6varpos/F2/low/protein_seq_cut3bc_025/TTA.txt:  4\n",
        "Num proteins in ../data/b1hData/newDatabase/6varpos/F2/low/protein_seq_cut3bc_025/TTC.txt:  268"
       ]
      },
      {
       "output_type": "stream",
       "stream": "stdout",
       "text": [
        "\n",
        "Num proteins in ../data/b1hData/newDatabase/6varpos/F2/low/protein_seq_cut3bc_025/TTG.txt:  1306\n",
        "Num proteins in ../data/b1hData/newDatabase/6varpos/F2/low/protein_seq_cut3bc_025/TTT.txt:  272\n",
        "Total num protein/dna observations in all files:  86445\n",
        "Total num unique proteins in all files:  59693\n",
        "\n",
        "Num obs processed in csv to txt conversion:  86445"
       ]
      },
      {
       "output_type": "stream",
       "stream": "stdout",
       "text": [
        "\n",
        "\n",
        "Num proteins in ../data/b1hData/newDatabase/6varpos/F3/high/protein_seq_cut3bc_025/AAA.txt:  41\n",
        "Num proteins in ../data/b1hData/newDatabase/6varpos/F3/high/protein_seq_cut3bc_025/AAC.txt:  211\n",
        "Num proteins in ../data/b1hData/newDatabase/6varpos/F3/high/protein_seq_cut3bc_025/AAG.txt:  685\n",
        "Num proteins in ../data/b1hData/newDatabase/6varpos/F3/high/protein_seq_cut3bc_025/AAT.txt:  79\n",
        "Num proteins in ../data/b1hData/newDatabase/6varpos/F3/high/protein_seq_cut3bc_025/ACA.txt:  36\n",
        "Num proteins in ../data/b1hData/newDatabase/6varpos/F3/high/protein_seq_cut3bc_025/ACC.txt:  31\n",
        "Num proteins in ../data/b1hData/newDatabase/6varpos/F3/high/protein_seq_cut3bc_025/ACG.txt:  529\n",
        "Num proteins in ../data/b1hData/newDatabase/6varpos/F3/high/protein_seq_cut3bc_025/ACT.txt:  183\n",
        "Num proteins in ../data/b1hData/newDatabase/6varpos/F3/high/protein_seq_cut3bc_025/AGA.txt:  0\n",
        "Num proteins in ../data/b1hData/newDatabase/6varpos/F3/high/protein_seq_cut3bc_025/AGC.txt:  401\n",
        "Num proteins in ../data/b1hData/newDatabase/6varpos/F3/high/protein_seq_cut3bc_025/AGG.txt:  468\n",
        "Num proteins in ../data/b1hData/newDatabase/6varpos/F3/high/protein_seq_cut3bc_025/AGT.txt:  714"
       ]
      },
      {
       "output_type": "stream",
       "stream": "stdout",
       "text": [
        "\n",
        "Num proteins in ../data/b1hData/newDatabase/6varpos/F3/high/protein_seq_cut3bc_025/ATA.txt:  20\n",
        "Num proteins in ../data/b1hData/newDatabase/6varpos/F3/high/protein_seq_cut3bc_025/ATC.txt:  478\n",
        "Num proteins in ../data/b1hData/newDatabase/6varpos/F3/high/protein_seq_cut3bc_025/ATG.txt:  31\n",
        "Num proteins in ../data/b1hData/newDatabase/6varpos/F3/high/protein_seq_cut3bc_025/ATT.txt:  154\n",
        "Num proteins in ../data/b1hData/newDatabase/6varpos/F3/high/protein_seq_cut3bc_025/CAA.txt:  67\n",
        "Num proteins in ../data/b1hData/newDatabase/6varpos/F3/high/protein_seq_cut3bc_025/CAC.txt:  84\n",
        "Num proteins in ../data/b1hData/newDatabase/6varpos/F3/high/protein_seq_cut3bc_025/CAG.txt:  167\n",
        "Num proteins in ../data/b1hData/newDatabase/6varpos/F3/high/protein_seq_cut3bc_025/CAT.txt:  293"
       ]
      },
      {
       "output_type": "stream",
       "stream": "stdout",
       "text": [
        "\n",
        "Num proteins in ../data/b1hData/newDatabase/6varpos/F3/high/protein_seq_cut3bc_025/CCA.txt:  2\n",
        "Num proteins in ../data/b1hData/newDatabase/6varpos/F3/high/protein_seq_cut3bc_025/CCC.txt:  84\n",
        "Num proteins in ../data/b1hData/newDatabase/6varpos/F3/high/protein_seq_cut3bc_025/CCG.txt:  331\n",
        "Num proteins in ../data/b1hData/newDatabase/6varpos/F3/high/protein_seq_cut3bc_025/CCT.txt:  89\n",
        "Num proteins in ../data/b1hData/newDatabase/6varpos/F3/high/protein_seq_cut3bc_025/CGA.txt:  9\n",
        "Num proteins in ../data/b1hData/newDatabase/6varpos/F3/high/protein_seq_cut3bc_025/CGC.txt:  436\n",
        "Num proteins in ../data/b1hData/newDatabase/6varpos/F3/high/protein_seq_cut3bc_025/CGG.txt:  29\n",
        "Num proteins in ../data/b1hData/newDatabase/6varpos/F3/high/protein_seq_cut3bc_025/CGT.txt:  328\n",
        "Num proteins in ../data/b1hData/newDatabase/6varpos/F3/high/protein_seq_cut3bc_025/CTA.txt:  139\n",
        "Num proteins in ../data/b1hData/newDatabase/6varpos/F3/high/protein_seq_cut3bc_025/CTC.txt:  30\n",
        "Num proteins in ../data/b1hData/newDatabase/6varpos/F3/high/protein_seq_cut3bc_025/CTG.txt:  4\n",
        "Num proteins in ../data/b1hData/newDatabase/6varpos/F3/high/protein_seq_cut3bc_025/CTT.txt:  13\n",
        "Num proteins in ../data/b1hData/newDatabase/6varpos/F3/high/protein_seq_cut3bc_025/GAA.txt:  161\n",
        "Num proteins in ../data/b1hData/newDatabase/6varpos/F3/high/protein_seq_cut3bc_025/GAC.txt:  134\n",
        "Num proteins in ../data/b1hData/newDatabase/6varpos/F3/high/protein_seq_cut3bc_025/GAG.txt:  424\n",
        "Num proteins in ../data/b1hData/newDatabase/6varpos/F3/high/protein_seq_cut3bc_025/GAT.txt:  201\n",
        "Num proteins in ../data/b1hData/newDatabase/6varpos/F3/high/protein_seq_cut3bc_025/GCA.txt:  132\n",
        "Num proteins in ../data/b1hData/newDatabase/6varpos/F3/high/protein_seq_cut3bc_025/GCC.txt:  49\n",
        "Num proteins in ../data/b1hData/newDatabase/6varpos/F3/high/protein_seq_cut3bc_025/GCG.txt:  164\n",
        "Num proteins in ../data/b1hData/newDatabase/6varpos/F3/high/protein_seq_cut3bc_025/GCT.txt:  286\n",
        "Num proteins in ../data/b1hData/newDatabase/6varpos/F3/high/protein_seq_cut3bc_025/GGA.txt:  229\n",
        "Num proteins in ../data/b1hData/newDatabase/6varpos/F3/high/protein_seq_cut3bc_025/GGC.txt:  103\n",
        "Num proteins in ../data/b1hData/newDatabase/6varpos/F3/high/protein_seq_cut3bc_025/GGG.txt:  496\n",
        "Num proteins in ../data/b1hData/newDatabase/6varpos/F3/high/protein_seq_cut3bc_025/GGT.txt:  591"
       ]
      },
      {
       "output_type": "stream",
       "stream": "stdout",
       "text": [
        "\n",
        "Num proteins in ../data/b1hData/newDatabase/6varpos/F3/high/protein_seq_cut3bc_025/GTA.txt:  254"
       ]
      },
      {
       "output_type": "stream",
       "stream": "stdout",
       "text": [
        "\n",
        "Num proteins in ../data/b1hData/newDatabase/6varpos/F3/high/protein_seq_cut3bc_025/GTC.txt:  244\n",
        "Num proteins in ../data/b1hData/newDatabase/6varpos/F3/high/protein_seq_cut3bc_025/GTG.txt:  562\n",
        "Num proteins in ../data/b1hData/newDatabase/6varpos/F3/high/protein_seq_cut3bc_025/GTT.txt:  602\n",
        "Num proteins in ../data/b1hData/newDatabase/6varpos/F3/high/protein_seq_cut3bc_025/TAA.txt:  129\n",
        "Num proteins in ../data/b1hData/newDatabase/6varpos/F3/high/protein_seq_cut3bc_025/TAC.txt:  72\n",
        "Num proteins in ../data/b1hData/newDatabase/6varpos/F3/high/protein_seq_cut3bc_025/TAG.txt:  81\n",
        "Num proteins in ../data/b1hData/newDatabase/6varpos/F3/high/protein_seq_cut3bc_025/TAT.txt:  467\n",
        "Num proteins in ../data/b1hData/newDatabase/6varpos/F3/high/protein_seq_cut3bc_025/TCA.txt:  137\n",
        "Num proteins in ../data/b1hData/newDatabase/6varpos/F3/high/protein_seq_cut3bc_025/TCC.txt:  227\n",
        "Num proteins in ../data/b1hData/newDatabase/6varpos/F3/high/protein_seq_cut3bc_025/TCG.txt:  43\n",
        "Num proteins in ../data/b1hData/newDatabase/6varpos/F3/high/protein_seq_cut3bc_025/TCT.txt:  121\n",
        "Num proteins in ../data/b1hData/newDatabase/6varpos/F3/high/protein_seq_cut3bc_025/TGA.txt:  491"
       ]
      },
      {
       "output_type": "stream",
       "stream": "stdout",
       "text": [
        "\n",
        "Num proteins in ../data/b1hData/newDatabase/6varpos/F3/high/protein_seq_cut3bc_025/TGC.txt:  255\n",
        "Num proteins in ../data/b1hData/newDatabase/6varpos/F3/high/protein_seq_cut3bc_025/TGG.txt:  52\n",
        "Num proteins in ../data/b1hData/newDatabase/6varpos/F3/high/protein_seq_cut3bc_025/TGT.txt:  3639"
       ]
      },
      {
       "output_type": "stream",
       "stream": "stdout",
       "text": [
        "\n",
        "Num proteins in ../data/b1hData/newDatabase/6varpos/F3/high/protein_seq_cut3bc_025/TTA.txt:  555\n",
        "Num proteins in ../data/b1hData/newDatabase/6varpos/F3/high/protein_seq_cut3bc_025/TTC.txt:  7\n",
        "Num proteins in ../data/b1hData/newDatabase/6varpos/F3/high/protein_seq_cut3bc_025/TTG.txt:  5\n",
        "Num proteins in ../data/b1hData/newDatabase/6varpos/F3/high/protein_seq_cut3bc_025/TTT.txt:  105\n",
        "Total num protein/dna observations in all files:  17184\n",
        "Total num unique proteins in all files:  13327\n",
        "\n",
        "Num obs processed in csv to txt conversion:  17184"
       ]
      },
      {
       "output_type": "stream",
       "stream": "stdout",
       "text": [
        "\n",
        "\n",
        "Num proteins in ../data/b1hData/newDatabase/6varpos/F3/low/protein_seq_cut3bc_025/AAA.txt:  115\n",
        "Num proteins in ../data/b1hData/newDatabase/6varpos/F3/low/protein_seq_cut3bc_025/AAC.txt:  1285\n",
        "Num proteins in ../data/b1hData/newDatabase/6varpos/F3/low/protein_seq_cut3bc_025/AAG.txt:  2443"
       ]
      },
      {
       "output_type": "stream",
       "stream": "stdout",
       "text": [
        "\n",
        "Num proteins in ../data/b1hData/newDatabase/6varpos/F3/low/protein_seq_cut3bc_025/AAT.txt:  1483\n",
        "Num proteins in ../data/b1hData/newDatabase/6varpos/F3/low/protein_seq_cut3bc_025/ACA.txt:  116\n",
        "Num proteins in ../data/b1hData/newDatabase/6varpos/F3/low/protein_seq_cut3bc_025/ACC.txt:  493\n",
        "Num proteins in ../data/b1hData/newDatabase/6varpos/F3/low/protein_seq_cut3bc_025/ACG.txt:  2337"
       ]
      },
      {
       "output_type": "stream",
       "stream": "stdout",
       "text": [
        "\n",
        "Num proteins in ../data/b1hData/newDatabase/6varpos/F3/low/protein_seq_cut3bc_025/ACT.txt:  1050\n",
        "Num proteins in ../data/b1hData/newDatabase/6varpos/F3/low/protein_seq_cut3bc_025/AGA.txt:  51\n",
        "Num proteins in ../data/b1hData/newDatabase/6varpos/F3/low/protein_seq_cut3bc_025/AGC.txt:  2769\n",
        "Num proteins in ../data/b1hData/newDatabase/6varpos/F3/low/protein_seq_cut3bc_025/AGG.txt:  1618"
       ]
      },
      {
       "output_type": "stream",
       "stream": "stdout",
       "text": [
        "\n",
        "Num proteins in ../data/b1hData/newDatabase/6varpos/F3/low/protein_seq_cut3bc_025/AGT.txt:  2439\n",
        "Num proteins in ../data/b1hData/newDatabase/6varpos/F3/low/protein_seq_cut3bc_025/ATA.txt:  100\n",
        "Num proteins in ../data/b1hData/newDatabase/6varpos/F3/low/protein_seq_cut3bc_025/ATC.txt:  1390\n",
        "Num proteins in ../data/b1hData/newDatabase/6varpos/F3/low/protein_seq_cut3bc_025/ATG.txt:  795"
       ]
      },
      {
       "output_type": "stream",
       "stream": "stdout",
       "text": [
        "\n",
        "Num proteins in ../data/b1hData/newDatabase/6varpos/F3/low/protein_seq_cut3bc_025/ATT.txt:  1159\n",
        "Num proteins in ../data/b1hData/newDatabase/6varpos/F3/low/protein_seq_cut3bc_025/CAA.txt:  143\n",
        "Num proteins in ../data/b1hData/newDatabase/6varpos/F3/low/protein_seq_cut3bc_025/CAC.txt:  1378\n",
        "Num proteins in ../data/b1hData/newDatabase/6varpos/F3/low/protein_seq_cut3bc_025/CAG.txt:  1796\n",
        "Num proteins in ../data/b1hData/newDatabase/6varpos/F3/low/protein_seq_cut3bc_025/CAT.txt:  1149"
       ]
      },
      {
       "output_type": "stream",
       "stream": "stdout",
       "text": [
        "\n",
        "Num proteins in ../data/b1hData/newDatabase/6varpos/F3/low/protein_seq_cut3bc_025/CCA.txt:  95\n",
        "Num proteins in ../data/b1hData/newDatabase/6varpos/F3/low/protein_seq_cut3bc_025/CCC.txt:  527\n",
        "Num proteins in ../data/b1hData/newDatabase/6varpos/F3/low/protein_seq_cut3bc_025/CCG.txt:  2540\n",
        "Num proteins in ../data/b1hData/newDatabase/6varpos/F3/low/protein_seq_cut3bc_025/CCT.txt:  755\n",
        "Num proteins in ../data/b1hData/newDatabase/6varpos/F3/low/protein_seq_cut3bc_025/CGA.txt:  136\n",
        "Num proteins in ../data/b1hData/newDatabase/6varpos/F3/low/protein_seq_cut3bc_025/CGC.txt:  2824"
       ]
      },
      {
       "output_type": "stream",
       "stream": "stdout",
       "text": [
        "\n",
        "Num proteins in ../data/b1hData/newDatabase/6varpos/F3/low/protein_seq_cut3bc_025/CGG.txt:  507\n",
        "Num proteins in ../data/b1hData/newDatabase/6varpos/F3/low/protein_seq_cut3bc_025/CGT.txt:  2266\n",
        "Num proteins in ../data/b1hData/newDatabase/6varpos/F3/low/protein_seq_cut3bc_025/CTA.txt:  59\n",
        "Num proteins in ../data/b1hData/newDatabase/6varpos/F3/low/protein_seq_cut3bc_025/CTC.txt:  656\n",
        "Num proteins in ../data/b1hData/newDatabase/6varpos/F3/low/protein_seq_cut3bc_025/CTG.txt:  460\n",
        "Num proteins in ../data/b1hData/newDatabase/6varpos/F3/low/protein_seq_cut3bc_025/CTT.txt:  573\n",
        "Num proteins in ../data/b1hData/newDatabase/6varpos/F3/low/protein_seq_cut3bc_025/GAA.txt:  1135"
       ]
      },
      {
       "output_type": "stream",
       "stream": "stdout",
       "text": [
        "\n",
        "Num proteins in ../data/b1hData/newDatabase/6varpos/F3/low/protein_seq_cut3bc_025/GAC.txt:  1607\n",
        "Num proteins in ../data/b1hData/newDatabase/6varpos/F3/low/protein_seq_cut3bc_025/GAG.txt:  2898\n",
        "Num proteins in ../data/b1hData/newDatabase/6varpos/F3/low/protein_seq_cut3bc_025/GAT.txt:  2458"
       ]
      },
      {
       "output_type": "stream",
       "stream": "stdout",
       "text": [
        "\n",
        "Num proteins in ../data/b1hData/newDatabase/6varpos/F3/low/protein_seq_cut3bc_025/GCA.txt:  652\n",
        "Num proteins in ../data/b1hData/newDatabase/6varpos/F3/low/protein_seq_cut3bc_025/GCC.txt:  608\n",
        "Num proteins in ../data/b1hData/newDatabase/6varpos/F3/low/protein_seq_cut3bc_025/GCG.txt:  1741\n",
        "Num proteins in ../data/b1hData/newDatabase/6varpos/F3/low/protein_seq_cut3bc_025/GCT.txt:  1064\n",
        "Num proteins in ../data/b1hData/newDatabase/6varpos/F3/low/protein_seq_cut3bc_025/GGA.txt:  626\n",
        "Num proteins in ../data/b1hData/newDatabase/6varpos/F3/low/protein_seq_cut3bc_025/GGC.txt:  1216"
       ]
      },
      {
       "output_type": "stream",
       "stream": "stdout",
       "text": [
        "\n",
        "Num proteins in ../data/b1hData/newDatabase/6varpos/F3/low/protein_seq_cut3bc_025/GGG.txt:  2327\n",
        "Num proteins in ../data/b1hData/newDatabase/6varpos/F3/low/protein_seq_cut3bc_025/GGT.txt:  2441"
       ]
      },
      {
       "output_type": "stream",
       "stream": "stdout",
       "text": [
        "\n",
        "Num proteins in ../data/b1hData/newDatabase/6varpos/F3/low/protein_seq_cut3bc_025/GTA.txt:  1128\n",
        "Num proteins in ../data/b1hData/newDatabase/6varpos/F3/low/protein_seq_cut3bc_025/GTC.txt:  1957"
       ]
      },
      {
       "output_type": "stream",
       "stream": "stdout",
       "text": [
        "\n",
        "Num proteins in ../data/b1hData/newDatabase/6varpos/F3/low/protein_seq_cut3bc_025/GTG.txt:  2707\n",
        "Num proteins in ../data/b1hData/newDatabase/6varpos/F3/low/protein_seq_cut3bc_025/GTT.txt:  3174"
       ]
      },
      {
       "output_type": "stream",
       "stream": "stdout",
       "text": [
        "\n",
        "Num proteins in ../data/b1hData/newDatabase/6varpos/F3/low/protein_seq_cut3bc_025/TAA.txt:  82\n",
        "Num proteins in ../data/b1hData/newDatabase/6varpos/F3/low/protein_seq_cut3bc_025/TAC.txt:  1051\n",
        "Num proteins in ../data/b1hData/newDatabase/6varpos/F3/low/protein_seq_cut3bc_025/TAG.txt:  929\n",
        "Num proteins in ../data/b1hData/newDatabase/6varpos/F3/low/protein_seq_cut3bc_025/TAT.txt:  1939"
       ]
      },
      {
       "output_type": "stream",
       "stream": "stdout",
       "text": [
        "\n",
        "Num proteins in ../data/b1hData/newDatabase/6varpos/F3/low/protein_seq_cut3bc_025/TCA.txt:  8\n",
        "Num proteins in ../data/b1hData/newDatabase/6varpos/F3/low/protein_seq_cut3bc_025/TCC.txt:  820\n",
        "Num proteins in ../data/b1hData/newDatabase/6varpos/F3/low/protein_seq_cut3bc_025/TCG.txt:  702\n",
        "Num proteins in ../data/b1hData/newDatabase/6varpos/F3/low/protein_seq_cut3bc_025/TCT.txt:  909\n",
        "Num proteins in ../data/b1hData/newDatabase/6varpos/F3/low/protein_seq_cut3bc_025/TGA.txt:  1721"
       ]
      },
      {
       "output_type": "stream",
       "stream": "stdout",
       "text": [
        "\n",
        "Num proteins in ../data/b1hData/newDatabase/6varpos/F3/low/protein_seq_cut3bc_025/TGC.txt:  2208\n",
        "Num proteins in ../data/b1hData/newDatabase/6varpos/F3/low/protein_seq_cut3bc_025/TGG.txt:  427\n",
        "Num proteins in ../data/b1hData/newDatabase/6varpos/F3/low/protein_seq_cut3bc_025/TGT.txt:  3128"
       ]
      },
      {
       "output_type": "stream",
       "stream": "stdout",
       "text": [
        "\n",
        "Num proteins in ../data/b1hData/newDatabase/6varpos/F3/low/protein_seq_cut3bc_025/TTA.txt:  73\n",
        "Num proteins in ../data/b1hData/newDatabase/6varpos/F3/low/protein_seq_cut3bc_025/TTC.txt:  532\n",
        "Num proteins in ../data/b1hData/newDatabase/6varpos/F3/low/protein_seq_cut3bc_025/TTG.txt:  721\n",
        "Num proteins in ../data/b1hData/newDatabase/6varpos/F3/low/protein_seq_cut3bc_025/TTT.txt:  1998\n",
        "Total num protein/dna observations in all files:  80494\n",
        "Total num unique proteins in all files:  53469\n",
        "\n",
        "Num obs processed in csv to txt conversion:  80494"
       ]
      },
      {
       "output_type": "stream",
       "stream": "stdout",
       "text": [
        "\n",
        "\n"
       ]
      }
     ],
     "prompt_number": 2
    },
    {
     "cell_type": "code",
     "collapsed": false,
     "input": [
      "prefix = '../data/b1hData/newDatabase/5varpos/'\n",
      "numVarPos = 5\n",
      "fings = ['F2']\n",
      "strins = ['high', 'low']\n",
      "for fing in fings:\n",
      "    for strin in strins:\n",
      "        path = prefix + fing + '/' + strin + '/' + 'protein_seq_cut3bc_025/'\n",
      "        targetFiles2singleCSV(path, numVarPos, '.txt')\n",
      "        csv2txtFile(path, numVarPos)\n",
      "        print"
     ],
     "language": "python",
     "metadata": {},
     "outputs": [
      {
       "output_type": "stream",
       "stream": "stdout",
       "text": [
        "Invalid File Name: AAA.txt\n",
        "Invalid File Name: AAC.txt\n",
        "Num proteins in ../data/b1hData/newDatabase/5varpos/F2/high/protein_seq_cut3bc_025/AAG.txt:  909\n",
        "Invalid File Name: AAT.txt\n",
        "Invalid File Name: ACA.txt\n",
        "Invalid File Name: ACC.txt\n",
        "Invalid File Name: ACG.txt\n",
        "Invalid File Name: ACT.txt\n",
        "Invalid File Name: AGA.txt\n",
        "Invalid File Name: AGC.txt\n",
        "Invalid File Name: AGG.txt\n",
        "Invalid File Name: AGT.txt\n",
        "Invalid File Name: ATA.txt\n",
        "Invalid File Name: ATC.txt\n",
        "Invalid File Name: ATG.txt\n",
        "Invalid File Name: ATT.txt\n",
        "Num proteins in ../data/b1hData/newDatabase/5varpos/F2/high/protein_seq_cut3bc_025/CAA.txt:  330\n",
        "Num proteins in ../data/b1hData/newDatabase/5varpos/F2/high/protein_seq_cut3bc_025/CAC.txt:  647\n",
        "Num proteins in ../data/b1hData/newDatabase/5varpos/F2/high/protein_seq_cut3bc_025/CAG.txt:  642\n",
        "Num proteins in ../data/b1hData/newDatabase/5varpos/F2/high/protein_seq_cut3bc_025/CAT.txt:  630"
       ]
      },
      {
       "output_type": "stream",
       "stream": "stdout",
       "text": [
        "\n",
        "Invalid File Name: CCA.txt\n",
        "Invalid File Name: CCC.txt\n",
        "Invalid File Name: CCG.txt\n",
        "Invalid File Name: CCT.txt\n",
        "Invalid File Name: CGA.txt\n",
        "Invalid File Name: CGC.txt\n",
        "Invalid File Name: CGG.txt\n",
        "Invalid File Name: CGT.txt\n",
        "Invalid File Name: CTA.txt\n",
        "Invalid File Name: CTC.txt\n",
        "Invalid File Name: CTG.txt\n",
        "Invalid File Name: CTT.txt\n",
        "Invalid File Name: GAA.txt\n",
        "Invalid File Name: GAC.txt\n",
        "Num proteins in ../data/b1hData/newDatabase/5varpos/F2/high/protein_seq_cut3bc_025/GAG.txt:  1621\n",
        "Invalid File Name: GAT.txt\n",
        "Invalid File Name: GCA.txt\n",
        "Invalid File Name: GCC.txt\n",
        "Invalid File Name: GCG.txt\n",
        "Invalid File Name: GCT.txt\n",
        "Num proteins in ../data/b1hData/newDatabase/5varpos/F2/high/protein_seq_cut3bc_025/GGA.txt:  446\n",
        "Invalid File Name: GGC.txt\n",
        "Num proteins in ../data/b1hData/newDatabase/5varpos/F2/high/protein_seq_cut3bc_025/GGG.txt:  1116"
       ]
      },
      {
       "output_type": "stream",
       "stream": "stdout",
       "text": [
        "\n",
        "Invalid File Name: GGT.txt\n",
        "Invalid File Name: GTA.txt\n",
        "Invalid File Name: GTC.txt\n",
        "Invalid File Name: GTG.txt\n",
        "Invalid File Name: GTT.txt\n",
        "Invalid File Name: TAA.txt\n",
        "Invalid File Name: TAC.txt\n",
        "Num proteins in ../data/b1hData/newDatabase/5varpos/F2/high/protein_seq_cut3bc_025/TAG.txt:  499\n",
        "Invalid File Name: TAT.txt\n",
        "Invalid File Name: TCA.txt\n",
        "Invalid File Name: TCC.txt\n",
        "Invalid File Name: TCG.txt\n",
        "Invalid File Name: TCT.txt\n",
        "Invalid File Name: TGA.txt\n",
        "Invalid File Name: TGC.txt\n",
        "Invalid File Name: TGG.txt\n",
        "Invalid File Name: TGT.txt\n",
        "Invalid File Name: TTA.txt\n",
        "Invalid File Name: TTC.txt\n",
        "Invalid File Name: TTG.txt\n",
        "Invalid File Name: TTT.txt\n",
        "Total num protein/dna observations in all files:  6840\n",
        "Total num unique proteins in all files:  3788\n",
        "\n",
        "Num obs processed in csv to txt conversion:  6840"
       ]
      },
      {
       "output_type": "stream",
       "stream": "stdout",
       "text": [
        "\n",
        "\n",
        "Invalid File Name: AAA.txt\n",
        "Invalid File Name: AAC.txt\n",
        "Num proteins in ../data/b1hData/newDatabase/5varpos/F2/low/protein_seq_cut3bc_025/AAG.txt:  2305"
       ]
      },
      {
       "output_type": "stream",
       "stream": "stdout",
       "text": [
        "\n",
        "Invalid File Name: AAT.txt\n",
        "Invalid File Name: ACA.txt\n",
        "Invalid File Name: ACC.txt\n",
        "Invalid File Name: ACG.txt\n",
        "Invalid File Name: ACT.txt\n",
        "Invalid File Name: AGA.txt\n",
        "Invalid File Name: AGC.txt\n",
        "Invalid File Name: AGG.txt\n",
        "Invalid File Name: AGT.txt\n",
        "Invalid File Name: ATA.txt\n",
        "Invalid File Name: ATC.txt\n",
        "Invalid File Name: ATG.txt\n",
        "Invalid File Name: ATT.txt\n",
        "Num proteins in ../data/b1hData/newDatabase/5varpos/F2/low/protein_seq_cut3bc_025/CAA.txt:  1165\n",
        "Num proteins in ../data/b1hData/newDatabase/5varpos/F2/low/protein_seq_cut3bc_025/CAC.txt:  1267\n",
        "Num proteins in ../data/b1hData/newDatabase/5varpos/F2/low/protein_seq_cut3bc_025/CAG.txt:  2029"
       ]
      },
      {
       "output_type": "stream",
       "stream": "stdout",
       "text": [
        "\n",
        "Num proteins in ../data/b1hData/newDatabase/5varpos/F2/low/protein_seq_cut3bc_025/CAT.txt:  1028\n",
        "Invalid File Name: CCA.txt\n",
        "Invalid File Name: CCC.txt\n",
        "Invalid File Name: CCG.txt\n",
        "Invalid File Name: CCT.txt\n",
        "Invalid File Name: CGA.txt\n",
        "Invalid File Name: CGC.txt\n",
        "Invalid File Name: CGG.txt\n",
        "Invalid File Name: CGT.txt\n",
        "Invalid File Name: CTA.txt\n",
        "Invalid File Name: CTC.txt\n",
        "Invalid File Name: CTG.txt\n",
        "Invalid File Name: CTT.txt\n",
        "Invalid File Name: GAA.txt\n",
        "Invalid File Name: GAC.txt\n",
        "Num proteins in ../data/b1hData/newDatabase/5varpos/F2/low/protein_seq_cut3bc_025/GAG.txt:  1789\n",
        "Invalid File Name: GAT.txt\n",
        "Invalid File Name: GCA.txt\n",
        "Invalid File Name: GCC.txt\n",
        "Invalid File Name: GCG.txt\n",
        "Invalid File Name: GCT.txt\n",
        "Num proteins in ../data/b1hData/newDatabase/5varpos/F2/low/protein_seq_cut3bc_025/GGA.txt:  763\n",
        "Invalid File Name: GGC.txt\n",
        "Num proteins in ../data/b1hData/newDatabase/5varpos/F2/low/protein_seq_cut3bc_025/GGG.txt:  1210"
       ]
      },
      {
       "output_type": "stream",
       "stream": "stdout",
       "text": [
        "\n",
        "Invalid File Name: GGT.txt\n",
        "Invalid File Name: GTA.txt\n",
        "Invalid File Name: GTC.txt\n",
        "Invalid File Name: GTG.txt\n",
        "Invalid File Name: GTT.txt\n",
        "Invalid File Name: TAA.txt\n",
        "Invalid File Name: TAC.txt\n",
        "Num proteins in ../data/b1hData/newDatabase/5varpos/F2/low/protein_seq_cut3bc_025/TAG.txt:  1598\n",
        "Invalid File Name: TAT.txt\n",
        "Invalid File Name: TCA.txt\n",
        "Invalid File Name: TCC.txt\n",
        "Invalid File Name: TCG.txt\n",
        "Invalid File Name: TCT.txt\n",
        "Invalid File Name: TGA.txt\n",
        "Invalid File Name: TGC.txt\n",
        "Invalid File Name: TGG.txt\n",
        "Invalid File Name: TGT.txt\n",
        "Invalid File Name: TTA.txt\n",
        "Invalid File Name: TTC.txt\n",
        "Invalid File Name: TTG.txt\n",
        "Invalid File Name: TTT.txt\n",
        "Total num protein/dna observations in all files:  13154\n",
        "Total num unique proteins in all files:  7874\n",
        "\n",
        "Num obs processed in csv to txt conversion:  13154"
       ]
      },
      {
       "output_type": "stream",
       "stream": "stdout",
       "text": [
        "\n",
        "\n"
       ]
      }
     ],
     "prompt_number": 3
    }
   ],
   "metadata": {}
  }
 ]
}