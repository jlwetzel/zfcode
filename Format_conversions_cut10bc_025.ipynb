{
 "metadata": {
  "name": "Format_conversions_cut10bc_025"
 },
 "nbformat": 3,
 "nbformat_minor": 0,
 "worksheets": [
  {
   "cells": [
    {
     "cell_type": "code",
     "collapsed": false,
     "input": [
      "from changeFormats import targetFiles2singleCSV, csv2txtFile\n",
      "\n"
     ],
     "language": "python",
     "metadata": {},
     "outputs": [],
     "prompt_number": 1
    },
    {
     "cell_type": "code",
     "collapsed": false,
     "input": [
      "prefix = '../data/b1hData/newDatabase/6varpos/'\n",
      "numVarPos = 6\n",
      "fings = ['F1', 'F2', 'F3']\n",
      "strins = ['high', 'low']\n",
      "for fing in fings:\n",
      "    for strin in strins:\n",
      "        path = prefix + fing + '/' + strin + '/' + 'protein_seq_cut10bc_025/'\n",
      "        targetFiles2singleCSV(path, numVarPos, '.txt')\n",
      "        csv2txtFile(path, numVarPos)\n",
      "        print"
     ],
     "language": "python",
     "metadata": {},
     "outputs": [
      {
       "output_type": "stream",
       "stream": "stdout",
       "text": [
        "Num proteins in ../data/b1hData/newDatabase/6varpos/F1/high/protein_seq_cut10bc_025/AAA.txt:  6\n",
        "Num proteins in ../data/b1hData/newDatabase/6varpos/F1/high/protein_seq_cut10bc_025/AAC.txt:  90\n",
        "Num proteins in ../data/b1hData/newDatabase/6varpos/F1/high/protein_seq_cut10bc_025/AAG.txt:  38\n",
        "Num proteins in ../data/b1hData/newDatabase/6varpos/F1/high/protein_seq_cut10bc_025/AAT.txt:  17\n",
        "Num proteins in ../data/b1hData/newDatabase/6varpos/F1/high/protein_seq_cut10bc_025/ACA.txt:  287\n",
        "Num proteins in ../data/b1hData/newDatabase/6varpos/F1/high/protein_seq_cut10bc_025/ACC.txt:  4\n",
        "Num proteins in ../data/b1hData/newDatabase/6varpos/F1/high/protein_seq_cut10bc_025/ACG.txt:  28\n",
        "Num proteins in ../data/b1hData/newDatabase/6varpos/F1/high/protein_seq_cut10bc_025/ACT.txt:  179\n",
        "Num proteins in ../data/b1hData/newDatabase/6varpos/F1/high/protein_seq_cut10bc_025/AGA.txt:  0\n",
        "Num proteins in ../data/b1hData/newDatabase/6varpos/F1/high/protein_seq_cut10bc_025/AGC.txt:  42\n",
        "Num proteins in ../data/b1hData/newDatabase/6varpos/F1/high/protein_seq_cut10bc_025/AGG.txt:  128\n",
        "Num proteins in ../data/b1hData/newDatabase/6varpos/F1/high/protein_seq_cut10bc_025/AGT.txt:  405\n",
        "Num proteins in ../data/b1hData/newDatabase/6varpos/F1/high/protein_seq_cut10bc_025/ATA.txt:  86\n",
        "Num proteins in ../data/b1hData/newDatabase/6varpos/F1/high/protein_seq_cut10bc_025/ATC.txt:  171\n",
        "Num proteins in ../data/b1hData/newDatabase/6varpos/F1/high/protein_seq_cut10bc_025/ATG.txt:  208\n",
        "Num proteins in ../data/b1hData/newDatabase/6varpos/F1/high/protein_seq_cut10bc_025/ATT.txt:  11\n",
        "Num proteins in ../data/b1hData/newDatabase/6varpos/F1/high/protein_seq_cut10bc_025/CAA.txt:  141\n",
        "Num proteins in ../data/b1hData/newDatabase/6varpos/F1/high/protein_seq_cut10bc_025/CAC.txt:  33\n",
        "Num proteins in ../data/b1hData/newDatabase/6varpos/F1/high/protein_seq_cut10bc_025/CAG.txt:  118\n",
        "Num proteins in ../data/b1hData/newDatabase/6varpos/F1/high/protein_seq_cut10bc_025/CAT.txt:  148\n",
        "Num proteins in ../data/b1hData/newDatabase/6varpos/F1/high/protein_seq_cut10bc_025/CCA.txt:  556\n",
        "Num proteins in ../data/b1hData/newDatabase/6varpos/F1/high/protein_seq_cut10bc_025/CCC.txt:  177\n",
        "Num proteins in ../data/b1hData/newDatabase/6varpos/F1/high/protein_seq_cut10bc_025/CCG.txt:  143\n",
        "Num proteins in ../data/b1hData/newDatabase/6varpos/F1/high/protein_seq_cut10bc_025/CCT.txt:  270\n",
        "Num proteins in ../data/b1hData/newDatabase/6varpos/F1/high/protein_seq_cut10bc_025/CGA.txt:  78\n",
        "Num proteins in ../data/b1hData/newDatabase/6varpos/F1/high/protein_seq_cut10bc_025/CGC.txt:  156\n",
        "Num proteins in ../data/b1hData/newDatabase/6varpos/F1/high/protein_seq_cut10bc_025/CGG.txt:  429\n",
        "Num proteins in ../data/b1hData/newDatabase/6varpos/F1/high/protein_seq_cut10bc_025/CGT.txt:  24\n",
        "Num proteins in ../data/b1hData/newDatabase/6varpos/F1/high/protein_seq_cut10bc_025/CTA.txt:  9\n",
        "Num proteins in ../data/b1hData/newDatabase/6varpos/F1/high/protein_seq_cut10bc_025/CTC.txt:  16\n",
        "Num proteins in ../data/b1hData/newDatabase/6varpos/F1/high/protein_seq_cut10bc_025/CTG.txt:  48\n",
        "Num proteins in ../data/b1hData/newDatabase/6varpos/F1/high/protein_seq_cut10bc_025/CTT.txt:  48\n",
        "Num proteins in ../data/b1hData/newDatabase/6varpos/F1/high/protein_seq_cut10bc_025/GAA.txt:  189\n",
        "Num proteins in ../data/b1hData/newDatabase/6varpos/F1/high/protein_seq_cut10bc_025/GAC.txt:  232\n",
        "Num proteins in ../data/b1hData/newDatabase/6varpos/F1/high/protein_seq_cut10bc_025/GAG.txt:  221"
       ]
      },
      {
       "output_type": "stream",
       "stream": "stdout",
       "text": [
        "\n",
        "Num proteins in ../data/b1hData/newDatabase/6varpos/F1/high/protein_seq_cut10bc_025/GAT.txt:  251\n",
        "Num proteins in ../data/b1hData/newDatabase/6varpos/F1/high/protein_seq_cut10bc_025/GCA.txt:  352\n",
        "Num proteins in ../data/b1hData/newDatabase/6varpos/F1/high/protein_seq_cut10bc_025/GCC.txt:  36\n",
        "Num proteins in ../data/b1hData/newDatabase/6varpos/F1/high/protein_seq_cut10bc_025/GCG.txt:  102\n",
        "Num proteins in ../data/b1hData/newDatabase/6varpos/F1/high/protein_seq_cut10bc_025/GCT.txt:  268\n",
        "Num proteins in ../data/b1hData/newDatabase/6varpos/F1/high/protein_seq_cut10bc_025/GGA.txt:  11\n",
        "Num proteins in ../data/b1hData/newDatabase/6varpos/F1/high/protein_seq_cut10bc_025/GGC.txt:  51\n",
        "Num proteins in ../data/b1hData/newDatabase/6varpos/F1/high/protein_seq_cut10bc_025/GGG.txt:  241\n",
        "Num proteins in ../data/b1hData/newDatabase/6varpos/F1/high/protein_seq_cut10bc_025/GGT.txt:  344\n",
        "Num proteins in ../data/b1hData/newDatabase/6varpos/F1/high/protein_seq_cut10bc_025/GTA.txt:  38\n",
        "Num proteins in ../data/b1hData/newDatabase/6varpos/F1/high/protein_seq_cut10bc_025/GTC.txt:  40\n",
        "Num proteins in ../data/b1hData/newDatabase/6varpos/F1/high/protein_seq_cut10bc_025/GTG.txt:  297\n",
        "Num proteins in ../data/b1hData/newDatabase/6varpos/F1/high/protein_seq_cut10bc_025/GTT.txt:  56\n",
        "Num proteins in ../data/b1hData/newDatabase/6varpos/F1/high/protein_seq_cut10bc_025/TAA.txt:  2\n",
        "Num proteins in ../data/b1hData/newDatabase/6varpos/F1/high/protein_seq_cut10bc_025/TAC.txt:  25\n",
        "Num proteins in ../data/b1hData/newDatabase/6varpos/F1/high/protein_seq_cut10bc_025/TAG.txt:  6\n",
        "Num proteins in ../data/b1hData/newDatabase/6varpos/F1/high/protein_seq_cut10bc_025/TAT.txt:  8\n",
        "Num proteins in ../data/b1hData/newDatabase/6varpos/F1/high/protein_seq_cut10bc_025/TCA.txt:  31\n",
        "Num proteins in ../data/b1hData/newDatabase/6varpos/F1/high/protein_seq_cut10bc_025/TCC.txt:  20\n",
        "Num proteins in ../data/b1hData/newDatabase/6varpos/F1/high/protein_seq_cut10bc_025/TCG.txt:  43\n",
        "Num proteins in ../data/b1hData/newDatabase/6varpos/F1/high/protein_seq_cut10bc_025/TCT.txt:  6\n",
        "Num proteins in ../data/b1hData/newDatabase/6varpos/F1/high/protein_seq_cut10bc_025/TGA.txt:  0\n",
        "Num proteins in ../data/b1hData/newDatabase/6varpos/F1/high/protein_seq_cut10bc_025/TGC.txt:  51\n",
        "Num proteins in ../data/b1hData/newDatabase/6varpos/F1/high/protein_seq_cut10bc_025/TGG.txt:  171\n",
        "Num proteins in ../data/b1hData/newDatabase/6varpos/F1/high/protein_seq_cut10bc_025/TGT.txt:  231\n",
        "Num proteins in ../data/b1hData/newDatabase/6varpos/F1/high/protein_seq_cut10bc_025/TTA.txt:  31\n",
        "Num proteins in ../data/b1hData/newDatabase/6varpos/F1/high/protein_seq_cut10bc_025/TTC.txt:  2\n",
        "Num proteins in ../data/b1hData/newDatabase/6varpos/F1/high/protein_seq_cut10bc_025/TTG.txt:  2\n",
        "Num proteins in ../data/b1hData/newDatabase/6varpos/F1/high/protein_seq_cut10bc_025/TTT.txt:  2\n",
        "Total num protein/dna observations in all files:  7454\n",
        "Total num unique proteins in all files:  5272\n",
        "\n",
        "Num obs processed in csv to txt conversion:  7454"
       ]
      },
      {
       "output_type": "stream",
       "stream": "stdout",
       "text": [
        "\n",
        "\n",
        "Num proteins in ../data/b1hData/newDatabase/6varpos/F1/low/protein_seq_cut10bc_025/AAA.txt:  21\n",
        "Num proteins in ../data/b1hData/newDatabase/6varpos/F1/low/protein_seq_cut10bc_025/AAC.txt:  177\n",
        "Num proteins in ../data/b1hData/newDatabase/6varpos/F1/low/protein_seq_cut10bc_025/AAG.txt:  300\n",
        "Num proteins in ../data/b1hData/newDatabase/6varpos/F1/low/protein_seq_cut10bc_025/AAT.txt:  46\n",
        "Num proteins in ../data/b1hData/newDatabase/6varpos/F1/low/protein_seq_cut10bc_025/ACA.txt:  484\n",
        "Num proteins in ../data/b1hData/newDatabase/6varpos/F1/low/protein_seq_cut10bc_025/ACC.txt:  58\n",
        "Num proteins in ../data/b1hData/newDatabase/6varpos/F1/low/protein_seq_cut10bc_025/ACG.txt:  130\n",
        "Num proteins in ../data/b1hData/newDatabase/6varpos/F1/low/protein_seq_cut10bc_025/ACT.txt:  264\n",
        "Num proteins in ../data/b1hData/newDatabase/6varpos/F1/low/protein_seq_cut10bc_025/AGA.txt:  111\n",
        "Num proteins in ../data/b1hData/newDatabase/6varpos/F1/low/protein_seq_cut10bc_025/AGC.txt:  443\n",
        "Num proteins in ../data/b1hData/newDatabase/6varpos/F1/low/protein_seq_cut10bc_025/AGG.txt:  210\n",
        "Num proteins in ../data/b1hData/newDatabase/6varpos/F1/low/protein_seq_cut10bc_025/AGT.txt:  1479\n",
        "Num proteins in ../data/b1hData/newDatabase/6varpos/F1/low/protein_seq_cut10bc_025/ATA.txt:  179\n",
        "Num proteins in ../data/b1hData/newDatabase/6varpos/F1/low/protein_seq_cut10bc_025/ATC.txt:  253\n",
        "Num proteins in ../data/b1hData/newDatabase/6varpos/F1/low/protein_seq_cut10bc_025/ATG.txt:  398\n",
        "Num proteins in ../data/b1hData/newDatabase/6varpos/F1/low/protein_seq_cut10bc_025/ATT.txt:  102"
       ]
      },
      {
       "output_type": "stream",
       "stream": "stdout",
       "text": [
        "\n",
        "Num proteins in ../data/b1hData/newDatabase/6varpos/F1/low/protein_seq_cut10bc_025/CAA.txt:  294\n",
        "Num proteins in ../data/b1hData/newDatabase/6varpos/F1/low/protein_seq_cut10bc_025/CAC.txt:  114\n",
        "Num proteins in ../data/b1hData/newDatabase/6varpos/F1/low/protein_seq_cut10bc_025/CAG.txt:  318\n",
        "Num proteins in ../data/b1hData/newDatabase/6varpos/F1/low/protein_seq_cut10bc_025/CAT.txt:  214\n",
        "Num proteins in ../data/b1hData/newDatabase/6varpos/F1/low/protein_seq_cut10bc_025/CCA.txt:  110\n",
        "Num proteins in ../data/b1hData/newDatabase/6varpos/F1/low/protein_seq_cut10bc_025/CCC.txt:  443\n",
        "Num proteins in ../data/b1hData/newDatabase/6varpos/F1/low/protein_seq_cut10bc_025/CCG.txt:  406\n",
        "Num proteins in ../data/b1hData/newDatabase/6varpos/F1/low/protein_seq_cut10bc_025/CCT.txt:  363\n",
        "Num proteins in ../data/b1hData/newDatabase/6varpos/F1/low/protein_seq_cut10bc_025/CGA.txt:  1078"
       ]
      },
      {
       "output_type": "stream",
       "stream": "stdout",
       "text": [
        "\n",
        "Num proteins in ../data/b1hData/newDatabase/6varpos/F1/low/protein_seq_cut10bc_025/CGC.txt:  232\n",
        "Num proteins in ../data/b1hData/newDatabase/6varpos/F1/low/protein_seq_cut10bc_025/CGG.txt:  593\n",
        "Num proteins in ../data/b1hData/newDatabase/6varpos/F1/low/protein_seq_cut10bc_025/CGT.txt:  89\n",
        "Num proteins in ../data/b1hData/newDatabase/6varpos/F1/low/protein_seq_cut10bc_025/CTA.txt:  56\n",
        "Num proteins in ../data/b1hData/newDatabase/6varpos/F1/low/protein_seq_cut10bc_025/CTC.txt:  161\n",
        "Num proteins in ../data/b1hData/newDatabase/6varpos/F1/low/protein_seq_cut10bc_025/CTG.txt:  198\n",
        "Num proteins in ../data/b1hData/newDatabase/6varpos/F1/low/protein_seq_cut10bc_025/CTT.txt:  180\n",
        "Num proteins in ../data/b1hData/newDatabase/6varpos/F1/low/protein_seq_cut10bc_025/GAA.txt:  283\n",
        "Num proteins in ../data/b1hData/newDatabase/6varpos/F1/low/protein_seq_cut10bc_025/GAC.txt:  689\n",
        "Num proteins in ../data/b1hData/newDatabase/6varpos/F1/low/protein_seq_cut10bc_025/GAG.txt:  394\n",
        "Num proteins in ../data/b1hData/newDatabase/6varpos/F1/low/protein_seq_cut10bc_025/GAT.txt:  812\n",
        "Num proteins in ../data/b1hData/newDatabase/6varpos/F1/low/protein_seq_cut10bc_025/GCA.txt:  566"
       ]
      },
      {
       "output_type": "stream",
       "stream": "stdout",
       "text": [
        "\n",
        "Num proteins in ../data/b1hData/newDatabase/6varpos/F1/low/protein_seq_cut10bc_025/GCC.txt:  83\n",
        "Num proteins in ../data/b1hData/newDatabase/6varpos/F1/low/protein_seq_cut10bc_025/GCG.txt:  348\n",
        "Num proteins in ../data/b1hData/newDatabase/6varpos/F1/low/protein_seq_cut10bc_025/GCT.txt:  401\n",
        "Num proteins in ../data/b1hData/newDatabase/6varpos/F1/low/protein_seq_cut10bc_025/GGA.txt:  139\n",
        "Num proteins in ../data/b1hData/newDatabase/6varpos/F1/low/protein_seq_cut10bc_025/GGC.txt:  222\n",
        "Num proteins in ../data/b1hData/newDatabase/6varpos/F1/low/protein_seq_cut10bc_025/GGG.txt:  361\n",
        "Num proteins in ../data/b1hData/newDatabase/6varpos/F1/low/protein_seq_cut10bc_025/GGT.txt:  1501\n",
        "Num proteins in ../data/b1hData/newDatabase/6varpos/F1/low/protein_seq_cut10bc_025/GTA.txt:  239\n",
        "Num proteins in ../data/b1hData/newDatabase/6varpos/F1/low/protein_seq_cut10bc_025/GTC.txt:  191\n",
        "Num proteins in ../data/b1hData/newDatabase/6varpos/F1/low/protein_seq_cut10bc_025/GTG.txt:  279\n",
        "Num proteins in ../data/b1hData/newDatabase/6varpos/F1/low/protein_seq_cut10bc_025/GTT.txt:  167\n",
        "Num proteins in ../data/b1hData/newDatabase/6varpos/F1/low/protein_seq_cut10bc_025/TAA.txt:  88\n",
        "Num proteins in ../data/b1hData/newDatabase/6varpos/F1/low/protein_seq_cut10bc_025/TAC.txt:  55\n",
        "Num proteins in ../data/b1hData/newDatabase/6varpos/F1/low/protein_seq_cut10bc_025/TAG.txt:  45\n",
        "Num proteins in ../data/b1hData/newDatabase/6varpos/F1/low/protein_seq_cut10bc_025/TAT.txt:  0\n",
        "Num proteins in ../data/b1hData/newDatabase/6varpos/F1/low/protein_seq_cut10bc_025/TCA.txt:  191\n",
        "Num proteins in ../data/b1hData/newDatabase/6varpos/F1/low/protein_seq_cut10bc_025/TCC.txt:  59\n",
        "Num proteins in ../data/b1hData/newDatabase/6varpos/F1/low/protein_seq_cut10bc_025/TCG.txt:  74\n",
        "Num proteins in ../data/b1hData/newDatabase/6varpos/F1/low/protein_seq_cut10bc_025/TCT.txt:  139\n",
        "Num proteins in ../data/b1hData/newDatabase/6varpos/F1/low/protein_seq_cut10bc_025/TGA.txt:  65\n",
        "Num proteins in ../data/b1hData/newDatabase/6varpos/F1/low/protein_seq_cut10bc_025/TGC.txt:  282"
       ]
      },
      {
       "output_type": "stream",
       "stream": "stdout",
       "text": [
        "\n",
        "Num proteins in ../data/b1hData/newDatabase/6varpos/F1/low/protein_seq_cut10bc_025/TGG.txt:  302\n",
        "Num proteins in ../data/b1hData/newDatabase/6varpos/F1/low/protein_seq_cut10bc_025/TGT.txt:  1398\n",
        "Num proteins in ../data/b1hData/newDatabase/6varpos/F1/low/protein_seq_cut10bc_025/TTA.txt:  214\n",
        "Num proteins in ../data/b1hData/newDatabase/6varpos/F1/low/protein_seq_cut10bc_025/TTC.txt:  18\n",
        "Num proteins in ../data/b1hData/newDatabase/6varpos/F1/low/protein_seq_cut10bc_025/TTG.txt:  66\n",
        "Num proteins in ../data/b1hData/newDatabase/6varpos/F1/low/protein_seq_cut10bc_025/TTT.txt:  123\n",
        "Total num protein/dna observations in all files:  19298\n",
        "Total num unique proteins in all files:  13001\n",
        "\n",
        "Num obs processed in csv to txt conversion:  19298"
       ]
      },
      {
       "output_type": "stream",
       "stream": "stdout",
       "text": [
        "\n",
        "\n",
        "Num proteins in ../data/b1hData/newDatabase/6varpos/F2/high/protein_seq_cut10bc_025/AAA.txt:  61\n",
        "Num proteins in ../data/b1hData/newDatabase/6varpos/F2/high/protein_seq_cut10bc_025/AAC.txt:  505\n",
        "Num proteins in ../data/b1hData/newDatabase/6varpos/F2/high/protein_seq_cut10bc_025/AAG.txt:  156\n",
        "Num proteins in ../data/b1hData/newDatabase/6varpos/F2/high/protein_seq_cut10bc_025/AAT.txt:  110\n",
        "Num proteins in ../data/b1hData/newDatabase/6varpos/F2/high/protein_seq_cut10bc_025/ACA.txt:  346\n",
        "Num proteins in ../data/b1hData/newDatabase/6varpos/F2/high/protein_seq_cut10bc_025/ACC.txt:  133\n",
        "Num proteins in ../data/b1hData/newDatabase/6varpos/F2/high/protein_seq_cut10bc_025/ACG.txt:  417\n",
        "Num proteins in ../data/b1hData/newDatabase/6varpos/F2/high/protein_seq_cut10bc_025/ACT.txt:  924"
       ]
      },
      {
       "output_type": "stream",
       "stream": "stdout",
       "text": [
        "\n",
        "Num proteins in ../data/b1hData/newDatabase/6varpos/F2/high/protein_seq_cut10bc_025/AGA.txt:  20\n",
        "Num proteins in ../data/b1hData/newDatabase/6varpos/F2/high/protein_seq_cut10bc_025/AGC.txt:  111\n",
        "Num proteins in ../data/b1hData/newDatabase/6varpos/F2/high/protein_seq_cut10bc_025/AGG.txt:  340\n",
        "Num proteins in ../data/b1hData/newDatabase/6varpos/F2/high/protein_seq_cut10bc_025/AGT.txt:  629\n",
        "Num proteins in ../data/b1hData/newDatabase/6varpos/F2/high/protein_seq_cut10bc_025/ATA.txt:  2\n",
        "Num proteins in ../data/b1hData/newDatabase/6varpos/F2/high/protein_seq_cut10bc_025/ATC.txt:  299\n",
        "Num proteins in ../data/b1hData/newDatabase/6varpos/F2/high/protein_seq_cut10bc_025/ATG.txt:  109\n",
        "Num proteins in ../data/b1hData/newDatabase/6varpos/F2/high/protein_seq_cut10bc_025/ATT.txt:  309\n",
        "Num proteins in ../data/b1hData/newDatabase/6varpos/F2/high/protein_seq_cut10bc_025/CAA.txt:  2\n",
        "Num proteins in ../data/b1hData/newDatabase/6varpos/F2/high/protein_seq_cut10bc_025/CAC.txt:  169\n",
        "Num proteins in ../data/b1hData/newDatabase/6varpos/F2/high/protein_seq_cut10bc_025/CAG.txt:  408"
       ]
      },
      {
       "output_type": "stream",
       "stream": "stdout",
       "text": [
        "\n",
        "Num proteins in ../data/b1hData/newDatabase/6varpos/F2/high/protein_seq_cut10bc_025/CAT.txt:  243\n",
        "Num proteins in ../data/b1hData/newDatabase/6varpos/F2/high/protein_seq_cut10bc_025/CCA.txt:  31\n",
        "Num proteins in ../data/b1hData/newDatabase/6varpos/F2/high/protein_seq_cut10bc_025/CCC.txt:  55\n",
        "Num proteins in ../data/b1hData/newDatabase/6varpos/F2/high/protein_seq_cut10bc_025/CCG.txt:  12\n",
        "Num proteins in ../data/b1hData/newDatabase/6varpos/F2/high/protein_seq_cut10bc_025/CCT.txt:  83\n",
        "Num proteins in ../data/b1hData/newDatabase/6varpos/F2/high/protein_seq_cut10bc_025/CGA.txt:  8\n",
        "Num proteins in ../data/b1hData/newDatabase/6varpos/F2/high/protein_seq_cut10bc_025/CGC.txt:  34\n",
        "Num proteins in ../data/b1hData/newDatabase/6varpos/F2/high/protein_seq_cut10bc_025/CGG.txt:  861\n",
        "Num proteins in ../data/b1hData/newDatabase/6varpos/F2/high/protein_seq_cut10bc_025/CGT.txt:  365\n",
        "Num proteins in ../data/b1hData/newDatabase/6varpos/F2/high/protein_seq_cut10bc_025/CTA.txt:  7\n",
        "Num proteins in ../data/b1hData/newDatabase/6varpos/F2/high/protein_seq_cut10bc_025/CTC.txt:  22\n",
        "Num proteins in ../data/b1hData/newDatabase/6varpos/F2/high/protein_seq_cut10bc_025/CTG.txt:  2\n",
        "Num proteins in ../data/b1hData/newDatabase/6varpos/F2/high/protein_seq_cut10bc_025/CTT.txt:  63\n",
        "Num proteins in ../data/b1hData/newDatabase/6varpos/F2/high/protein_seq_cut10bc_025/GAA.txt:  130\n",
        "Num proteins in ../data/b1hData/newDatabase/6varpos/F2/high/protein_seq_cut10bc_025/GAC.txt:  562\n",
        "Num proteins in ../data/b1hData/newDatabase/6varpos/F2/high/protein_seq_cut10bc_025/GAG.txt:  631\n",
        "Num proteins in ../data/b1hData/newDatabase/6varpos/F2/high/protein_seq_cut10bc_025/GAT.txt:  195\n",
        "Num proteins in ../data/b1hData/newDatabase/6varpos/F2/high/protein_seq_cut10bc_025/GCA.txt:  18\n",
        "Num proteins in ../data/b1hData/newDatabase/6varpos/F2/high/protein_seq_cut10bc_025/GCC.txt:  132\n",
        "Num proteins in ../data/b1hData/newDatabase/6varpos/F2/high/protein_seq_cut10bc_025/GCG.txt:  340\n",
        "Num proteins in ../data/b1hData/newDatabase/6varpos/F2/high/protein_seq_cut10bc_025/GCT.txt:  745"
       ]
      },
      {
       "output_type": "stream",
       "stream": "stdout",
       "text": [
        "\n",
        "Num proteins in ../data/b1hData/newDatabase/6varpos/F2/high/protein_seq_cut10bc_025/GGA.txt:  236\n",
        "Num proteins in ../data/b1hData/newDatabase/6varpos/F2/high/protein_seq_cut10bc_025/GGC.txt:  16\n",
        "Num proteins in ../data/b1hData/newDatabase/6varpos/F2/high/protein_seq_cut10bc_025/GGG.txt:  664\n",
        "Num proteins in ../data/b1hData/newDatabase/6varpos/F2/high/protein_seq_cut10bc_025/GGT.txt:  225\n",
        "Num proteins in ../data/b1hData/newDatabase/6varpos/F2/high/protein_seq_cut10bc_025/GTA.txt:  351\n",
        "Num proteins in ../data/b1hData/newDatabase/6varpos/F2/high/protein_seq_cut10bc_025/GTC.txt:  241\n",
        "Num proteins in ../data/b1hData/newDatabase/6varpos/F2/high/protein_seq_cut10bc_025/GTG.txt:  564\n",
        "Num proteins in ../data/b1hData/newDatabase/6varpos/F2/high/protein_seq_cut10bc_025/GTT.txt:  454\n",
        "Num proteins in ../data/b1hData/newDatabase/6varpos/F2/high/protein_seq_cut10bc_025/TAA.txt:  0\n",
        "Num proteins in ../data/b1hData/newDatabase/6varpos/F2/high/protein_seq_cut10bc_025/TAC.txt:  56\n",
        "Num proteins in ../data/b1hData/newDatabase/6varpos/F2/high/protein_seq_cut10bc_025/TAG.txt:  72\n",
        "Num proteins in ../data/b1hData/newDatabase/6varpos/F2/high/protein_seq_cut10bc_025/TAT.txt:  152\n",
        "Num proteins in ../data/b1hData/newDatabase/6varpos/F2/high/protein_seq_cut10bc_025/TCA.txt:  0"
       ]
      },
      {
       "output_type": "stream",
       "stream": "stdout",
       "text": [
        "\n",
        "Num proteins in ../data/b1hData/newDatabase/6varpos/F2/high/protein_seq_cut10bc_025/TCC.txt:  95\n",
        "Num proteins in ../data/b1hData/newDatabase/6varpos/F2/high/protein_seq_cut10bc_025/TCG.txt:  31\n",
        "Num proteins in ../data/b1hData/newDatabase/6varpos/F2/high/protein_seq_cut10bc_025/TCT.txt:  97\n",
        "Num proteins in ../data/b1hData/newDatabase/6varpos/F2/high/protein_seq_cut10bc_025/TGA.txt:  9\n",
        "Num proteins in ../data/b1hData/newDatabase/6varpos/F2/high/protein_seq_cut10bc_025/TGC.txt:  12\n",
        "Num proteins in ../data/b1hData/newDatabase/6varpos/F2/high/protein_seq_cut10bc_025/TGG.txt:  834\n",
        "Num proteins in ../data/b1hData/newDatabase/6varpos/F2/high/protein_seq_cut10bc_025/TGT.txt:  1075"
       ]
      },
      {
       "output_type": "stream",
       "stream": "stdout",
       "text": [
        "\n",
        "Num proteins in ../data/b1hData/newDatabase/6varpos/F2/high/protein_seq_cut10bc_025/TTA.txt:  0\n",
        "Num proteins in ../data/b1hData/newDatabase/6varpos/F2/high/protein_seq_cut10bc_025/TTC.txt:  14\n",
        "Num proteins in ../data/b1hData/newDatabase/6varpos/F2/high/protein_seq_cut10bc_025/TTG.txt:  127\n",
        "Num proteins in ../data/b1hData/newDatabase/6varpos/F2/high/protein_seq_cut10bc_025/TTT.txt:  9\n",
        "Total num protein/dna observations in all files:  14923\n",
        "Total num unique proteins in all files:  11888\n",
        "\n",
        "Num obs processed in csv to txt conversion:  14923"
       ]
      },
      {
       "output_type": "stream",
       "stream": "stdout",
       "text": [
        "\n",
        "\n",
        "Num proteins in ../data/b1hData/newDatabase/6varpos/F2/low/protein_seq_cut10bc_025/AAA.txt:  310\n",
        "Num proteins in ../data/b1hData/newDatabase/6varpos/F2/low/protein_seq_cut10bc_025/AAC.txt:  1399\n",
        "Num proteins in ../data/b1hData/newDatabase/6varpos/F2/low/protein_seq_cut10bc_025/AAG.txt:  1294\n",
        "Num proteins in ../data/b1hData/newDatabase/6varpos/F2/low/protein_seq_cut10bc_025/AAT.txt:  918"
       ]
      },
      {
       "output_type": "stream",
       "stream": "stdout",
       "text": [
        "\n",
        "Num proteins in ../data/b1hData/newDatabase/6varpos/F2/low/protein_seq_cut10bc_025/ACA.txt:  1239\n",
        "Num proteins in ../data/b1hData/newDatabase/6varpos/F2/low/protein_seq_cut10bc_025/ACC.txt:  592\n",
        "Num proteins in ../data/b1hData/newDatabase/6varpos/F2/low/protein_seq_cut10bc_025/ACG.txt:  1660"
       ]
      },
      {
       "output_type": "stream",
       "stream": "stdout",
       "text": [
        "\n",
        "Num proteins in ../data/b1hData/newDatabase/6varpos/F2/low/protein_seq_cut10bc_025/ACT.txt:  1560\n",
        "Num proteins in ../data/b1hData/newDatabase/6varpos/F2/low/protein_seq_cut10bc_025/AGA.txt:  309\n",
        "Num proteins in ../data/b1hData/newDatabase/6varpos/F2/low/protein_seq_cut10bc_025/AGC.txt:  423\n",
        "Num proteins in ../data/b1hData/newDatabase/6varpos/F2/low/protein_seq_cut10bc_025/AGG.txt:  1074"
       ]
      },
      {
       "output_type": "stream",
       "stream": "stdout",
       "text": [
        "\n",
        "Num proteins in ../data/b1hData/newDatabase/6varpos/F2/low/protein_seq_cut10bc_025/AGT.txt:  2386\n",
        "Num proteins in ../data/b1hData/newDatabase/6varpos/F2/low/protein_seq_cut10bc_025/ATA.txt:  76\n",
        "Num proteins in ../data/b1hData/newDatabase/6varpos/F2/low/protein_seq_cut10bc_025/ATC.txt:  1073"
       ]
      },
      {
       "output_type": "stream",
       "stream": "stdout",
       "text": [
        "\n",
        "Num proteins in ../data/b1hData/newDatabase/6varpos/F2/low/protein_seq_cut10bc_025/ATG.txt:  1087\n",
        "Num proteins in ../data/b1hData/newDatabase/6varpos/F2/low/protein_seq_cut10bc_025/ATT.txt:  1489\n",
        "Num proteins in ../data/b1hData/newDatabase/6varpos/F2/low/protein_seq_cut10bc_025/CAA.txt:  194\n",
        "Num proteins in ../data/b1hData/newDatabase/6varpos/F2/low/protein_seq_cut10bc_025/CAC.txt:  1308"
       ]
      },
      {
       "output_type": "stream",
       "stream": "stdout",
       "text": [
        "\n",
        "Num proteins in ../data/b1hData/newDatabase/6varpos/F2/low/protein_seq_cut10bc_025/CAG.txt:  1651\n",
        "Num proteins in ../data/b1hData/newDatabase/6varpos/F2/low/protein_seq_cut10bc_025/CAT.txt:  1096"
       ]
      },
      {
       "output_type": "stream",
       "stream": "stdout",
       "text": [
        "\n",
        "Num proteins in ../data/b1hData/newDatabase/6varpos/F2/low/protein_seq_cut10bc_025/CCA.txt:  291\n",
        "Num proteins in ../data/b1hData/newDatabase/6varpos/F2/low/protein_seq_cut10bc_025/CCC.txt:  281\n",
        "Num proteins in ../data/b1hData/newDatabase/6varpos/F2/low/protein_seq_cut10bc_025/CCG.txt:  358\n",
        "Num proteins in ../data/b1hData/newDatabase/6varpos/F2/low/protein_seq_cut10bc_025/CCT.txt:  464\n",
        "Num proteins in ../data/b1hData/newDatabase/6varpos/F2/low/protein_seq_cut10bc_025/CGA.txt:  138\n",
        "Num proteins in ../data/b1hData/newDatabase/6varpos/F2/low/protein_seq_cut10bc_025/CGC.txt:  217\n",
        "Num proteins in ../data/b1hData/newDatabase/6varpos/F2/low/protein_seq_cut10bc_025/CGG.txt:  2002\n",
        "Num proteins in ../data/b1hData/newDatabase/6varpos/F2/low/protein_seq_cut10bc_025/CGT.txt:  1222"
       ]
      },
      {
       "output_type": "stream",
       "stream": "stdout",
       "text": [
        "\n",
        "Num proteins in ../data/b1hData/newDatabase/6varpos/F2/low/protein_seq_cut10bc_025/CTA.txt:  17\n",
        "Num proteins in ../data/b1hData/newDatabase/6varpos/F2/low/protein_seq_cut10bc_025/CTC.txt:  177\n",
        "Num proteins in ../data/b1hData/newDatabase/6varpos/F2/low/protein_seq_cut10bc_025/CTG.txt:  333\n",
        "Num proteins in ../data/b1hData/newDatabase/6varpos/F2/low/protein_seq_cut10bc_025/CTT.txt:  304\n",
        "Num proteins in ../data/b1hData/newDatabase/6varpos/F2/low/protein_seq_cut10bc_025/GAA.txt:  335\n",
        "Num proteins in ../data/b1hData/newDatabase/6varpos/F2/low/protein_seq_cut10bc_025/GAC.txt:  1289\n",
        "Num proteins in ../data/b1hData/newDatabase/6varpos/F2/low/protein_seq_cut10bc_025/GAG.txt:  1108\n",
        "Num proteins in ../data/b1hData/newDatabase/6varpos/F2/low/protein_seq_cut10bc_025/GAT.txt:  641"
       ]
      },
      {
       "output_type": "stream",
       "stream": "stdout",
       "text": [
        "\n",
        "Num proteins in ../data/b1hData/newDatabase/6varpos/F2/low/protein_seq_cut10bc_025/GCA.txt:  366\n",
        "Num proteins in ../data/b1hData/newDatabase/6varpos/F2/low/protein_seq_cut10bc_025/GCC.txt:  486\n",
        "Num proteins in ../data/b1hData/newDatabase/6varpos/F2/low/protein_seq_cut10bc_025/GCG.txt:  1546\n",
        "Num proteins in ../data/b1hData/newDatabase/6varpos/F2/low/protein_seq_cut10bc_025/GCT.txt:  1674"
       ]
      },
      {
       "output_type": "stream",
       "stream": "stdout",
       "text": [
        "\n",
        "Num proteins in ../data/b1hData/newDatabase/6varpos/F2/low/protein_seq_cut10bc_025/GGA.txt:  50\n",
        "Num proteins in ../data/b1hData/newDatabase/6varpos/F2/low/protein_seq_cut10bc_025/GGC.txt:  156\n",
        "Num proteins in ../data/b1hData/newDatabase/6varpos/F2/low/protein_seq_cut10bc_025/GGG.txt:  1088\n",
        "Num proteins in ../data/b1hData/newDatabase/6varpos/F2/low/protein_seq_cut10bc_025/GGT.txt:  1012"
       ]
      },
      {
       "output_type": "stream",
       "stream": "stdout",
       "text": [
        "\n",
        "Num proteins in ../data/b1hData/newDatabase/6varpos/F2/low/protein_seq_cut10bc_025/GTA.txt:  6\n",
        "Num proteins in ../data/b1hData/newDatabase/6varpos/F2/low/protein_seq_cut10bc_025/GTC.txt:  839\n",
        "Num proteins in ../data/b1hData/newDatabase/6varpos/F2/low/protein_seq_cut10bc_025/GTG.txt:  2053"
       ]
      },
      {
       "output_type": "stream",
       "stream": "stdout",
       "text": [
        "\n",
        "Num proteins in ../data/b1hData/newDatabase/6varpos/F2/low/protein_seq_cut10bc_025/GTT.txt:  1593"
       ]
      },
      {
       "output_type": "stream",
       "stream": "stdout",
       "text": [
        "\n",
        "Num proteins in ../data/b1hData/newDatabase/6varpos/F2/low/protein_seq_cut10bc_025/TAA.txt:  2\n",
        "Num proteins in ../data/b1hData/newDatabase/6varpos/F2/low/protein_seq_cut10bc_025/TAC.txt:  492\n",
        "Num proteins in ../data/b1hData/newDatabase/6varpos/F2/low/protein_seq_cut10bc_025/TAG.txt:  395\n",
        "Num proteins in ../data/b1hData/newDatabase/6varpos/F2/low/protein_seq_cut10bc_025/TAT.txt:  1206"
       ]
      },
      {
       "output_type": "stream",
       "stream": "stdout",
       "text": [
        "\n",
        "Num proteins in ../data/b1hData/newDatabase/6varpos/F2/low/protein_seq_cut10bc_025/TCA.txt:  18\n",
        "Num proteins in ../data/b1hData/newDatabase/6varpos/F2/low/protein_seq_cut10bc_025/TCC.txt:  328\n",
        "Num proteins in ../data/b1hData/newDatabase/6varpos/F2/low/protein_seq_cut10bc_025/TCG.txt:  719\n",
        "Num proteins in ../data/b1hData/newDatabase/6varpos/F2/low/protein_seq_cut10bc_025/TCT.txt:  517\n",
        "Num proteins in ../data/b1hData/newDatabase/6varpos/F2/low/protein_seq_cut10bc_025/TGA.txt:  109\n",
        "Num proteins in ../data/b1hData/newDatabase/6varpos/F2/low/protein_seq_cut10bc_025/TGC.txt:  195\n",
        "Num proteins in ../data/b1hData/newDatabase/6varpos/F2/low/protein_seq_cut10bc_025/TGG.txt:  1055\n",
        "Num proteins in ../data/b1hData/newDatabase/6varpos/F2/low/protein_seq_cut10bc_025/TGT.txt:  2508"
       ]
      },
      {
       "output_type": "stream",
       "stream": "stdout",
       "text": [
        "\n",
        "Num proteins in ../data/b1hData/newDatabase/6varpos/F2/low/protein_seq_cut10bc_025/TTA.txt:  0\n",
        "Num proteins in ../data/b1hData/newDatabase/6varpos/F2/low/protein_seq_cut10bc_025/TTC.txt:  189\n",
        "Num proteins in ../data/b1hData/newDatabase/6varpos/F2/low/protein_seq_cut10bc_025/TTG.txt:  669\n",
        "Num proteins in ../data/b1hData/newDatabase/6varpos/F2/low/protein_seq_cut10bc_025/TTT.txt:  184\n",
        "Total num protein/dna observations in all files:  49770\n",
        "Total num unique proteins in all files:  36814\n",
        "\n",
        "Num obs processed in csv to txt conversion:  49770"
       ]
      },
      {
       "output_type": "stream",
       "stream": "stdout",
       "text": [
        "\n",
        "\n",
        "Num proteins in ../data/b1hData/newDatabase/6varpos/F3/high/protein_seq_cut10bc_025/AAA.txt:  18\n",
        "Num proteins in ../data/b1hData/newDatabase/6varpos/F3/high/protein_seq_cut10bc_025/AAC.txt:  103\n",
        "Num proteins in ../data/b1hData/newDatabase/6varpos/F3/high/protein_seq_cut10bc_025/AAG.txt:  424\n",
        "Num proteins in ../data/b1hData/newDatabase/6varpos/F3/high/protein_seq_cut10bc_025/AAT.txt:  51\n",
        "Num proteins in ../data/b1hData/newDatabase/6varpos/F3/high/protein_seq_cut10bc_025/ACA.txt:  23\n",
        "Num proteins in ../data/b1hData/newDatabase/6varpos/F3/high/protein_seq_cut10bc_025/ACC.txt:  25\n",
        "Num proteins in ../data/b1hData/newDatabase/6varpos/F3/high/protein_seq_cut10bc_025/ACG.txt:  326\n",
        "Num proteins in ../data/b1hData/newDatabase/6varpos/F3/high/protein_seq_cut10bc_025/ACT.txt:  98\n",
        "Num proteins in ../data/b1hData/newDatabase/6varpos/F3/high/protein_seq_cut10bc_025/AGA.txt:  0\n",
        "Num proteins in ../data/b1hData/newDatabase/6varpos/F3/high/protein_seq_cut10bc_025/AGC.txt:  171\n",
        "Num proteins in ../data/b1hData/newDatabase/6varpos/F3/high/protein_seq_cut10bc_025/AGG.txt:  231"
       ]
      },
      {
       "output_type": "stream",
       "stream": "stdout",
       "text": [
        "\n",
        "Num proteins in ../data/b1hData/newDatabase/6varpos/F3/high/protein_seq_cut10bc_025/AGT.txt:  433\n",
        "Num proteins in ../data/b1hData/newDatabase/6varpos/F3/high/protein_seq_cut10bc_025/ATA.txt:  7\n",
        "Num proteins in ../data/b1hData/newDatabase/6varpos/F3/high/protein_seq_cut10bc_025/ATC.txt:  309\n",
        "Num proteins in ../data/b1hData/newDatabase/6varpos/F3/high/protein_seq_cut10bc_025/ATG.txt:  15\n",
        "Num proteins in ../data/b1hData/newDatabase/6varpos/F3/high/protein_seq_cut10bc_025/ATT.txt:  74\n",
        "Num proteins in ../data/b1hData/newDatabase/6varpos/F3/high/protein_seq_cut10bc_025/CAA.txt:  41\n",
        "Num proteins in ../data/b1hData/newDatabase/6varpos/F3/high/protein_seq_cut10bc_025/CAC.txt:  38\n",
        "Num proteins in ../data/b1hData/newDatabase/6varpos/F3/high/protein_seq_cut10bc_025/CAG.txt:  69\n",
        "Num proteins in ../data/b1hData/newDatabase/6varpos/F3/high/protein_seq_cut10bc_025/CAT.txt:  187\n",
        "Num proteins in ../data/b1hData/newDatabase/6varpos/F3/high/protein_seq_cut10bc_025/CCA.txt:  0\n",
        "Num proteins in ../data/b1hData/newDatabase/6varpos/F3/high/protein_seq_cut10bc_025/CCC.txt:  38\n",
        "Num proteins in ../data/b1hData/newDatabase/6varpos/F3/high/protein_seq_cut10bc_025/CCG.txt:  161\n",
        "Num proteins in ../data/b1hData/newDatabase/6varpos/F3/high/protein_seq_cut10bc_025/CCT.txt:  25\n",
        "Num proteins in ../data/b1hData/newDatabase/6varpos/F3/high/protein_seq_cut10bc_025/CGA.txt:  2\n",
        "Num proteins in ../data/b1hData/newDatabase/6varpos/F3/high/protein_seq_cut10bc_025/CGC.txt:  242\n",
        "Num proteins in ../data/b1hData/newDatabase/6varpos/F3/high/protein_seq_cut10bc_025/CGG.txt:  14\n",
        "Num proteins in ../data/b1hData/newDatabase/6varpos/F3/high/protein_seq_cut10bc_025/CGT.txt:  201\n",
        "Num proteins in ../data/b1hData/newDatabase/6varpos/F3/high/protein_seq_cut10bc_025/CTA.txt:  92\n",
        "Num proteins in ../data/b1hData/newDatabase/6varpos/F3/high/protein_seq_cut10bc_025/CTC.txt:  2\n",
        "Num proteins in ../data/b1hData/newDatabase/6varpos/F3/high/protein_seq_cut10bc_025/CTG.txt:  0\n",
        "Num proteins in ../data/b1hData/newDatabase/6varpos/F3/high/protein_seq_cut10bc_025/CTT.txt:  6\n",
        "Num proteins in ../data/b1hData/newDatabase/6varpos/F3/high/protein_seq_cut10bc_025/GAA.txt:  103\n",
        "Num proteins in ../data/b1hData/newDatabase/6varpos/F3/high/protein_seq_cut10bc_025/GAC.txt:  92\n",
        "Num proteins in ../data/b1hData/newDatabase/6varpos/F3/high/protein_seq_cut10bc_025/GAG.txt:  265\n",
        "Num proteins in ../data/b1hData/newDatabase/6varpos/F3/high/protein_seq_cut10bc_025/GAT.txt:  106\n",
        "Num proteins in ../data/b1hData/newDatabase/6varpos/F3/high/protein_seq_cut10bc_025/GCA.txt:  72\n",
        "Num proteins in ../data/b1hData/newDatabase/6varpos/F3/high/protein_seq_cut10bc_025/GCC.txt:  30\n",
        "Num proteins in ../data/b1hData/newDatabase/6varpos/F3/high/protein_seq_cut10bc_025/GCG.txt:  101\n",
        "Num proteins in ../data/b1hData/newDatabase/6varpos/F3/high/protein_seq_cut10bc_025/GCT.txt:  159\n",
        "Num proteins in ../data/b1hData/newDatabase/6varpos/F3/high/protein_seq_cut10bc_025/GGA.txt:  158\n",
        "Num proteins in ../data/b1hData/newDatabase/6varpos/F3/high/protein_seq_cut10bc_025/GGC.txt:  47\n",
        "Num proteins in ../data/b1hData/newDatabase/6varpos/F3/high/protein_seq_cut10bc_025/GGG.txt:  259"
       ]
      },
      {
       "output_type": "stream",
       "stream": "stdout",
       "text": [
        "\n",
        "Num proteins in ../data/b1hData/newDatabase/6varpos/F3/high/protein_seq_cut10bc_025/GGT.txt:  322\n",
        "Num proteins in ../data/b1hData/newDatabase/6varpos/F3/high/protein_seq_cut10bc_025/GTA.txt:  146\n",
        "Num proteins in ../data/b1hData/newDatabase/6varpos/F3/high/protein_seq_cut10bc_025/GTC.txt:  123\n",
        "Num proteins in ../data/b1hData/newDatabase/6varpos/F3/high/protein_seq_cut10bc_025/GTG.txt:  304\n",
        "Num proteins in ../data/b1hData/newDatabase/6varpos/F3/high/protein_seq_cut10bc_025/GTT.txt:  292\n",
        "Num proteins in ../data/b1hData/newDatabase/6varpos/F3/high/protein_seq_cut10bc_025/TAA.txt:  19\n",
        "Num proteins in ../data/b1hData/newDatabase/6varpos/F3/high/protein_seq_cut10bc_025/TAC.txt:  40\n",
        "Num proteins in ../data/b1hData/newDatabase/6varpos/F3/high/protein_seq_cut10bc_025/TAG.txt:  40\n",
        "Num proteins in ../data/b1hData/newDatabase/6varpos/F3/high/protein_seq_cut10bc_025/TAT.txt:  252\n",
        "Num proteins in ../data/b1hData/newDatabase/6varpos/F3/high/protein_seq_cut10bc_025/TCA.txt:  33\n",
        "Num proteins in ../data/b1hData/newDatabase/6varpos/F3/high/protein_seq_cut10bc_025/TCC.txt:  168\n",
        "Num proteins in ../data/b1hData/newDatabase/6varpos/F3/high/protein_seq_cut10bc_025/TCG.txt:  17\n",
        "Num proteins in ../data/b1hData/newDatabase/6varpos/F3/high/protein_seq_cut10bc_025/TCT.txt:  72\n",
        "Num proteins in ../data/b1hData/newDatabase/6varpos/F3/high/protein_seq_cut10bc_025/TGA.txt:  324\n",
        "Num proteins in ../data/b1hData/newDatabase/6varpos/F3/high/protein_seq_cut10bc_025/TGC.txt:  129\n",
        "Num proteins in ../data/b1hData/newDatabase/6varpos/F3/high/protein_seq_cut10bc_025/TGG.txt:  41\n",
        "Num proteins in ../data/b1hData/newDatabase/6varpos/F3/high/protein_seq_cut10bc_025/TGT.txt:  1538"
       ]
      },
      {
       "output_type": "stream",
       "stream": "stdout",
       "text": [
        "\n",
        "Num proteins in ../data/b1hData/newDatabase/6varpos/F3/high/protein_seq_cut10bc_025/TTA.txt:  4\n",
        "Num proteins in ../data/b1hData/newDatabase/6varpos/F3/high/protein_seq_cut10bc_025/TTC.txt:  2\n",
        "Num proteins in ../data/b1hData/newDatabase/6varpos/F3/high/protein_seq_cut10bc_025/TTG.txt:  0\n",
        "Num proteins in ../data/b1hData/newDatabase/6varpos/F3/high/protein_seq_cut10bc_025/TTT.txt:  57\n",
        "Total num protein/dna observations in all files:  8741\n",
        "Total num unique proteins in all files:  7141\n",
        "\n",
        "Num obs processed in csv to txt conversion:  8741"
       ]
      },
      {
       "output_type": "stream",
       "stream": "stdout",
       "text": [
        "\n",
        "\n",
        "Num proteins in ../data/b1hData/newDatabase/6varpos/F3/low/protein_seq_cut10bc_025/AAA.txt:  72\n",
        "Num proteins in ../data/b1hData/newDatabase/6varpos/F3/low/protein_seq_cut10bc_025/AAC.txt:  441\n",
        "Num proteins in ../data/b1hData/newDatabase/6varpos/F3/low/protein_seq_cut10bc_025/AAG.txt:  1379"
       ]
      },
      {
       "output_type": "stream",
       "stream": "stdout",
       "text": [
        "\n",
        "Num proteins in ../data/b1hData/newDatabase/6varpos/F3/low/protein_seq_cut10bc_025/AAT.txt:  718\n",
        "Num proteins in ../data/b1hData/newDatabase/6varpos/F3/low/protein_seq_cut10bc_025/ACA.txt:  57\n",
        "Num proteins in ../data/b1hData/newDatabase/6varpos/F3/low/protein_seq_cut10bc_025/ACC.txt:  125\n",
        "Num proteins in ../data/b1hData/newDatabase/6varpos/F3/low/protein_seq_cut10bc_025/ACG.txt:  1308\n",
        "Num proteins in ../data/b1hData/newDatabase/6varpos/F3/low/protein_seq_cut10bc_025/ACT.txt:  524\n",
        "Num proteins in ../data/b1hData/newDatabase/6varpos/F3/low/protein_seq_cut10bc_025/AGA.txt:  18\n",
        "Num proteins in ../data/b1hData/newDatabase/6varpos/F3/low/protein_seq_cut10bc_025/AGC.txt:  793"
       ]
      },
      {
       "output_type": "stream",
       "stream": "stdout",
       "text": [
        "\n",
        "Num proteins in ../data/b1hData/newDatabase/6varpos/F3/low/protein_seq_cut10bc_025/AGG.txt:  521\n",
        "Num proteins in ../data/b1hData/newDatabase/6varpos/F3/low/protein_seq_cut10bc_025/AGT.txt:  1262\n",
        "Num proteins in ../data/b1hData/newDatabase/6varpos/F3/low/protein_seq_cut10bc_025/ATA.txt:  57\n",
        "Num proteins in ../data/b1hData/newDatabase/6varpos/F3/low/protein_seq_cut10bc_025/ATC.txt:  737\n",
        "Num proteins in ../data/b1hData/newDatabase/6varpos/F3/low/protein_seq_cut10bc_025/ATG.txt:  362\n",
        "Num proteins in ../data/b1hData/newDatabase/6varpos/F3/low/protein_seq_cut10bc_025/ATT.txt:  579\n",
        "Num proteins in ../data/b1hData/newDatabase/6varpos/F3/low/protein_seq_cut10bc_025/CAA.txt:  94\n",
        "Num proteins in ../data/b1hData/newDatabase/6varpos/F3/low/protein_seq_cut10bc_025/CAC.txt:  533"
       ]
      },
      {
       "output_type": "stream",
       "stream": "stdout",
       "text": [
        "\n",
        "Num proteins in ../data/b1hData/newDatabase/6varpos/F3/low/protein_seq_cut10bc_025/CAG.txt:  669\n",
        "Num proteins in ../data/b1hData/newDatabase/6varpos/F3/low/protein_seq_cut10bc_025/CAT.txt:  575\n",
        "Num proteins in ../data/b1hData/newDatabase/6varpos/F3/low/protein_seq_cut10bc_025/CCA.txt:  59\n",
        "Num proteins in ../data/b1hData/newDatabase/6varpos/F3/low/protein_seq_cut10bc_025/CCC.txt:  326\n",
        "Num proteins in ../data/b1hData/newDatabase/6varpos/F3/low/protein_seq_cut10bc_025/CCG.txt:  1090\n",
        "Num proteins in ../data/b1hData/newDatabase/6varpos/F3/low/protein_seq_cut10bc_025/CCT.txt:  345\n",
        "Num proteins in ../data/b1hData/newDatabase/6varpos/F3/low/protein_seq_cut10bc_025/CGA.txt:  77\n",
        "Num proteins in ../data/b1hData/newDatabase/6varpos/F3/low/protein_seq_cut10bc_025/CGC.txt:  744\n",
        "Num proteins in ../data/b1hData/newDatabase/6varpos/F3/low/protein_seq_cut10bc_025/CGG.txt:  38\n",
        "Num proteins in ../data/b1hData/newDatabase/6varpos/F3/low/protein_seq_cut10bc_025/CGT.txt:  1036"
       ]
      },
      {
       "output_type": "stream",
       "stream": "stdout",
       "text": [
        "\n",
        "Num proteins in ../data/b1hData/newDatabase/6varpos/F3/low/protein_seq_cut10bc_025/CTA.txt:  25\n",
        "Num proteins in ../data/b1hData/newDatabase/6varpos/F3/low/protein_seq_cut10bc_025/CTC.txt:  170\n",
        "Num proteins in ../data/b1hData/newDatabase/6varpos/F3/low/protein_seq_cut10bc_025/CTG.txt:  156\n",
        "Num proteins in ../data/b1hData/newDatabase/6varpos/F3/low/protein_seq_cut10bc_025/CTT.txt:  157\n",
        "Num proteins in ../data/b1hData/newDatabase/6varpos/F3/low/protein_seq_cut10bc_025/GAA.txt:  708\n",
        "Num proteins in ../data/b1hData/newDatabase/6varpos/F3/low/protein_seq_cut10bc_025/GAC.txt:  842\n",
        "Num proteins in ../data/b1hData/newDatabase/6varpos/F3/low/protein_seq_cut10bc_025/GAG.txt:  733\n",
        "Num proteins in ../data/b1hData/newDatabase/6varpos/F3/low/protein_seq_cut10bc_025/GAT.txt:  1111"
       ]
      },
      {
       "output_type": "stream",
       "stream": "stdout",
       "text": [
        "\n",
        "Num proteins in ../data/b1hData/newDatabase/6varpos/F3/low/protein_seq_cut10bc_025/GCA.txt:  385\n",
        "Num proteins in ../data/b1hData/newDatabase/6varpos/F3/low/protein_seq_cut10bc_025/GCC.txt:  395\n",
        "Num proteins in ../data/b1hData/newDatabase/6varpos/F3/low/protein_seq_cut10bc_025/GCG.txt:  844\n",
        "Num proteins in ../data/b1hData/newDatabase/6varpos/F3/low/protein_seq_cut10bc_025/GCT.txt:  463\n",
        "Num proteins in ../data/b1hData/newDatabase/6varpos/F3/low/protein_seq_cut10bc_025/GGA.txt:  388\n",
        "Num proteins in ../data/b1hData/newDatabase/6varpos/F3/low/protein_seq_cut10bc_025/GGC.txt:  455\n",
        "Num proteins in ../data/b1hData/newDatabase/6varpos/F3/low/protein_seq_cut10bc_025/GGG.txt:  726"
       ]
      },
      {
       "output_type": "stream",
       "stream": "stdout",
       "text": [
        "\n",
        "Num proteins in ../data/b1hData/newDatabase/6varpos/F3/low/protein_seq_cut10bc_025/GGT.txt:  1175\n",
        "Num proteins in ../data/b1hData/newDatabase/6varpos/F3/low/protein_seq_cut10bc_025/GTA.txt:  700\n",
        "Num proteins in ../data/b1hData/newDatabase/6varpos/F3/low/protein_seq_cut10bc_025/GTC.txt:  874\n",
        "Num proteins in ../data/b1hData/newDatabase/6varpos/F3/low/protein_seq_cut10bc_025/GTG.txt:  994\n",
        "Num proteins in ../data/b1hData/newDatabase/6varpos/F3/low/protein_seq_cut10bc_025/GTT.txt:  994"
       ]
      },
      {
       "output_type": "stream",
       "stream": "stdout",
       "text": [
        "\n",
        "Num proteins in ../data/b1hData/newDatabase/6varpos/F3/low/protein_seq_cut10bc_025/TAA.txt:  44\n",
        "Num proteins in ../data/b1hData/newDatabase/6varpos/F3/low/protein_seq_cut10bc_025/TAC.txt:  428\n",
        "Num proteins in ../data/b1hData/newDatabase/6varpos/F3/low/protein_seq_cut10bc_025/TAG.txt:  581\n",
        "Num proteins in ../data/b1hData/newDatabase/6varpos/F3/low/protein_seq_cut10bc_025/TAT.txt:  1092"
       ]
      },
      {
       "output_type": "stream",
       "stream": "stdout",
       "text": [
        "\n",
        "Num proteins in ../data/b1hData/newDatabase/6varpos/F3/low/protein_seq_cut10bc_025/TCA.txt:  2\n",
        "Num proteins in ../data/b1hData/newDatabase/6varpos/F3/low/protein_seq_cut10bc_025/TCC.txt:  531\n",
        "Num proteins in ../data/b1hData/newDatabase/6varpos/F3/low/protein_seq_cut10bc_025/TCG.txt:  420\n",
        "Num proteins in ../data/b1hData/newDatabase/6varpos/F3/low/protein_seq_cut10bc_025/TCT.txt:  529\n",
        "Num proteins in ../data/b1hData/newDatabase/6varpos/F3/low/protein_seq_cut10bc_025/TGA.txt:  1015\n",
        "Num proteins in ../data/b1hData/newDatabase/6varpos/F3/low/protein_seq_cut10bc_025/TGC.txt:  490\n",
        "Num proteins in ../data/b1hData/newDatabase/6varpos/F3/low/protein_seq_cut10bc_025/TGG.txt:  27\n",
        "Num proteins in ../data/b1hData/newDatabase/6varpos/F3/low/protein_seq_cut10bc_025/TGT.txt:  2\n",
        "Num proteins in ../data/b1hData/newDatabase/6varpos/F3/low/protein_seq_cut10bc_025/TTA.txt:  44\n",
        "Num proteins in ../data/b1hData/newDatabase/6varpos/F3/low/protein_seq_cut10bc_025/TTC.txt:  205\n",
        "Num proteins in ../data/b1hData/newDatabase/6varpos/F3/low/protein_seq_cut10bc_025/TTG.txt:  350\n",
        "Num proteins in ../data/b1hData/newDatabase/6varpos/F3/low/protein_seq_cut10bc_025/TTT.txt:  1118"
       ]
      },
      {
       "output_type": "stream",
       "stream": "stdout",
       "text": [
        "\n",
        "Total num protein/dna observations in all files:  33712\n",
        "Total num unique proteins in all files:  25588\n",
        "\n",
        "Num obs processed in csv to txt conversion:  33712"
       ]
      },
      {
       "output_type": "stream",
       "stream": "stdout",
       "text": [
        "\n",
        "\n"
       ]
      }
     ],
     "prompt_number": 2
    },
    {
     "cell_type": "code",
     "collapsed": false,
     "input": [
      "prefix = '../data/b1hData/newDatabase/5varpos/'\n",
      "numVarPos = 5\n",
      "fings = ['F2']\n",
      "strins = ['high', 'low']\n",
      "for fing in fings:\n",
      "    for strin in strins:\n",
      "        path = prefix + fing + '/' + strin + '/' + 'protein_seq_cut10bc_025/'\n",
      "        targetFiles2singleCSV(path, numVarPos, '.txt')\n",
      "        csv2txtFile(path, numVarPos)\n",
      "        print"
     ],
     "language": "python",
     "metadata": {},
     "outputs": [
      {
       "output_type": "stream",
       "stream": "stdout",
       "text": [
        "Invalid File Name: AAA.txt\n",
        "Invalid File Name: AAC.txt\n",
        "Num proteins in ../data/b1hData/newDatabase/5varpos/F2/high/protein_seq_cut10bc_025/AAG.txt:  351\n",
        "Invalid File Name: AAT.txt\n",
        "Invalid File Name: ACA.txt\n",
        "Invalid File Name: ACC.txt\n",
        "Invalid File Name: ACG.txt\n",
        "Invalid File Name: ACT.txt\n",
        "Invalid File Name: AGA.txt\n",
        "Invalid File Name: AGC.txt\n",
        "Invalid File Name: AGG.txt\n",
        "Invalid File Name: AGT.txt\n",
        "Invalid File Name: ATA.txt\n",
        "Invalid File Name: ATC.txt\n",
        "Invalid File Name: ATG.txt\n",
        "Invalid File Name: ATT.txt\n",
        "Num proteins in ../data/b1hData/newDatabase/5varpos/F2/high/protein_seq_cut10bc_025/CAA.txt:  64\n",
        "Num proteins in ../data/b1hData/newDatabase/5varpos/F2/high/protein_seq_cut10bc_025/CAC.txt:  173\n",
        "Num proteins in ../data/b1hData/newDatabase/5varpos/F2/high/protein_seq_cut10bc_025/CAG.txt:  272\n",
        "Num proteins in ../data/b1hData/newDatabase/5varpos/F2/high/protein_seq_cut10bc_025/CAT.txt:  147\n",
        "Invalid File Name: CCA.txt\n",
        "Invalid File Name: CCC.txt\n",
        "Invalid File Name: CCG.txt\n",
        "Invalid File Name: CCT.txt\n",
        "Invalid File Name: CGA.txt\n",
        "Invalid File Name: CGC.txt\n",
        "Invalid File Name: CGG.txt\n",
        "Invalid File Name: CGT.txt\n",
        "Invalid File Name: CTA.txt\n",
        "Invalid File Name: CTC.txt\n",
        "Invalid File Name: CTG.txt\n",
        "Invalid File Name: CTT.txt\n",
        "Invalid File Name: GAA.txt\n",
        "Invalid File Name: GAC.txt\n",
        "Num proteins in ../data/b1hData/newDatabase/5varpos/F2/high/protein_seq_cut10bc_025/GAG.txt:  608\n",
        "Invalid File Name: GAT.txt\n",
        "Invalid File Name: GCA.txt\n",
        "Invalid File Name: GCC.txt\n",
        "Invalid File Name: GCG.txt\n",
        "Invalid File Name: GCT.txt\n",
        "Num proteins in ../data/b1hData/newDatabase/5varpos/F2/high/protein_seq_cut10bc_025/GGA.txt:  81\n",
        "Invalid File Name: GGC.txt\n",
        "Num proteins in ../data/b1hData/newDatabase/5varpos/F2/high/protein_seq_cut10bc_025/GGG.txt:  459\n",
        "Invalid File Name: GGT.txt\n",
        "Invalid File Name: GTA.txt\n",
        "Invalid File Name: GTC.txt\n",
        "Invalid File Name: GTG.txt\n",
        "Invalid File Name: GTT.txt\n",
        "Invalid File Name: TAA.txt\n",
        "Invalid File Name: TAC.txt\n",
        "Num proteins in ../data/b1hData/newDatabase/5varpos/F2/high/protein_seq_cut10bc_025/TAG.txt:  146"
       ]
      },
      {
       "output_type": "stream",
       "stream": "stdout",
       "text": [
        "\n",
        "Invalid File Name: TAT.txt\n",
        "Invalid File Name: TCA.txt\n",
        "Invalid File Name: TCC.txt\n",
        "Invalid File Name: TCG.txt\n",
        "Invalid File Name: TCT.txt\n",
        "Invalid File Name: TGA.txt\n",
        "Invalid File Name: TGC.txt\n",
        "Invalid File Name: TGG.txt\n",
        "Invalid File Name: TGT.txt\n",
        "Invalid File Name: TTA.txt\n",
        "Invalid File Name: TTC.txt\n",
        "Invalid File Name: TTG.txt\n",
        "Invalid File Name: TTT.txt\n",
        "Total num protein/dna observations in all files:  2301\n",
        "Total num unique proteins in all files:  1525\n",
        "\n",
        "Num obs processed in csv to txt conversion:  2301\n",
        "\n",
        "Invalid File Name: AAA.txt\n",
        "Invalid File Name: AAC.txt\n",
        "Num proteins in ../data/b1hData/newDatabase/5varpos/F2/low/protein_seq_cut10bc_025/AAG.txt:  679"
       ]
      },
      {
       "output_type": "stream",
       "stream": "stdout",
       "text": [
        "\n",
        "Invalid File Name: AAT.txt\n",
        "Invalid File Name: ACA.txt\n",
        "Invalid File Name: ACC.txt\n",
        "Invalid File Name: ACG.txt\n",
        "Invalid File Name: ACT.txt\n",
        "Invalid File Name: AGA.txt\n",
        "Invalid File Name: AGC.txt\n",
        "Invalid File Name: AGG.txt\n",
        "Invalid File Name: AGT.txt\n",
        "Invalid File Name: ATA.txt\n",
        "Invalid File Name: ATC.txt\n",
        "Invalid File Name: ATG.txt\n",
        "Invalid File Name: ATT.txt\n",
        "Num proteins in ../data/b1hData/newDatabase/5varpos/F2/low/protein_seq_cut10bc_025/CAA.txt:  430\n",
        "Num proteins in ../data/b1hData/newDatabase/5varpos/F2/low/protein_seq_cut10bc_025/CAC.txt:  414\n",
        "Num proteins in ../data/b1hData/newDatabase/5varpos/F2/low/protein_seq_cut10bc_025/CAG.txt:  747\n",
        "Num proteins in ../data/b1hData/newDatabase/5varpos/F2/low/protein_seq_cut10bc_025/CAT.txt:  314\n",
        "Invalid File Name: CCA.txt\n",
        "Invalid File Name: CCC.txt\n",
        "Invalid File Name: CCG.txt\n",
        "Invalid File Name: CCT.txt\n",
        "Invalid File Name: CGA.txt\n",
        "Invalid File Name: CGC.txt\n",
        "Invalid File Name: CGG.txt\n",
        "Invalid File Name: CGT.txt\n",
        "Invalid File Name: CTA.txt\n",
        "Invalid File Name: CTC.txt\n",
        "Invalid File Name: CTG.txt\n",
        "Invalid File Name: CTT.txt\n",
        "Invalid File Name: GAA.txt\n",
        "Invalid File Name: GAC.txt\n",
        "Num proteins in ../data/b1hData/newDatabase/5varpos/F2/low/protein_seq_cut10bc_025/GAG.txt:  587\n",
        "Invalid File Name: GAT.txt\n",
        "Invalid File Name: GCA.txt\n",
        "Invalid File Name: GCC.txt\n",
        "Invalid File Name: GCG.txt\n",
        "Invalid File Name: GCT.txt\n",
        "Num proteins in ../data/b1hData/newDatabase/5varpos/F2/low/protein_seq_cut10bc_025/GGA.txt:  194\n",
        "Invalid File Name: GGC.txt\n",
        "Num proteins in ../data/b1hData/newDatabase/5varpos/F2/low/protein_seq_cut10bc_025/GGG.txt:  377\n",
        "Invalid File Name: GGT.txt\n",
        "Invalid File Name: GTA.txt\n",
        "Invalid File Name: GTC.txt\n",
        "Invalid File Name: GTG.txt\n",
        "Invalid File Name: GTT.txt\n",
        "Invalid File Name: TAA.txt\n",
        "Invalid File Name: TAC.txt\n",
        "Num proteins in ../data/b1hData/newDatabase/5varpos/F2/low/protein_seq_cut10bc_025/TAG.txt:  649"
       ]
      },
      {
       "output_type": "stream",
       "stream": "stdout",
       "text": [
        "\n",
        "Invalid File Name: TAT.txt\n",
        "Invalid File Name: TCA.txt\n",
        "Invalid File Name: TCC.txt\n",
        "Invalid File Name: TCG.txt\n",
        "Invalid File Name: TCT.txt\n",
        "Invalid File Name: TGA.txt\n",
        "Invalid File Name: TGC.txt\n",
        "Invalid File Name: TGG.txt\n",
        "Invalid File Name: TGT.txt\n",
        "Invalid File Name: TTA.txt\n",
        "Invalid File Name: TTC.txt\n",
        "Invalid File Name: TTG.txt\n",
        "Invalid File Name: TTT.txt\n",
        "Total num protein/dna observations in all files:  4391\n",
        "Total num unique proteins in all files:  2994\n",
        "\n",
        "Num obs processed in csv to txt conversion:  4391"
       ]
      },
      {
       "output_type": "stream",
       "stream": "stdout",
       "text": [
        "\n",
        "\n"
       ]
      }
     ],
     "prompt_number": 3
    }
   ],
   "metadata": {}
  }
 ]
}