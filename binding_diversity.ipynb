{
 "metadata": {
  "name": "binding_diversity"
 },
 "nbformat": 3,
 "nbformat_minor": 0,
 "worksheets": [
  {
   "cells": [
    {
     "cell_type": "heading",
     "level": 2,
     "metadata": {},
     "source": [
      "F3 Data (No Filter)"
     ]
    },
    {
     "cell_type": "heading",
     "level": 3,
     "metadata": {},
     "source": [
      "Low Stringency"
     ]
    },
    {
     "cell_type": "code",
     "collapsed": false,
     "input": [
      "from gatherBindStats import getProtDict\n",
      "path = \"../data/b1hData/oldData/F3/unfiltered/low/all.txt\"\n",
      "prots = getProtDict(path, [0, 2, 3, 5])\n",
      "print len(prots)\n",
      "print len(prots)/float(20**4)"
     ],
     "language": "python",
     "metadata": {},
     "outputs": [
      {
       "output_type": "stream",
       "stream": "stdout",
       "text": [
        "149227\n",
        "0.93266875\n"
       ]
      }
     ],
     "prompt_number": 31
    },
    {
     "cell_type": "heading",
     "level": 3,
     "metadata": {},
     "source": [
      "High Stringency"
     ]
    },
    {
     "cell_type": "code",
     "collapsed": false,
     "input": [
      "path = \"../data/b1hData/oldData/F3/unfiltered/high/all.txt\"\n",
      "prots = getProtDict(path, [0, 2, 3, 5])\n",
      "print len(prots)\n",
      "print len(prots)/float(20**4)"
     ],
     "language": "python",
     "metadata": {},
     "outputs": [
      {
       "output_type": "stream",
       "stream": "stdout",
       "text": [
        "157214\n",
        "0.9825875\n"
       ]
      }
     ],
     "prompt_number": 32
    },
    {
     "cell_type": "heading",
     "level": 2,
     "metadata": {},
     "source": [
      "F3 Data w/ 0.25 Entropy Filter"
     ]
    },
    {
     "cell_type": "heading",
     "level": 3,
     "metadata": {},
     "source": [
      "Low Stringency"
     ]
    },
    {
     "cell_type": "code",
     "collapsed": false,
     "input": [
      "path = \"../data/b1hData/oldData/F3/threshold025/low/all.txt\"\n",
      "prots = getProtDict(path, [0, 2, 3, 5])\n",
      "print len(prots)\n",
      "print len(prots)/float(20**4)"
     ],
     "language": "python",
     "metadata": {},
     "outputs": [
      {
       "output_type": "stream",
       "stream": "stdout",
       "text": [
        "20946\n",
        "0.1309125\n"
       ]
      }
     ],
     "prompt_number": 33
    },
    {
     "cell_type": "heading",
     "level": 4,
     "metadata": {},
     "source": [
      "vs. D. mel Hmmer ZFs (NOGAP && no_C2H2_ZF_4)"
     ]
    },
    {
     "cell_type": "code",
     "collapsed": false,
     "input": [
      "path = \"../data/shilpa/Drosophila_melanogaster_ZF.fulldom\"\n",
      "flyZFs = getUniqueShilpaZFs(path, [0, 2, 3, 6])\n",
      "print len(flyZFs)  # no. of unique (-1,2,3,6)\n",
      "print len(b1hZFs & flyZFs)  # intersection size\n",
      "print len(b1hZFs & flyZFs)/float(len(flyZFs))"
     ],
     "language": "python",
     "metadata": {},
     "outputs": [
      {
       "output_type": "stream",
       "stream": "stdout",
       "text": [
        "445\n",
        "59\n",
        "0.132584269663\n"
       ]
      }
     ],
     "prompt_number": 34
    },
    {
     "cell_type": "heading",
     "level": 4,
     "metadata": {},
     "source": [
      "vs. H. sap Hmmer ZFs (NOGAP && no_C2H2_ZF_4)"
     ]
    },
    {
     "cell_type": "code",
     "collapsed": false,
     "input": [
      "path = \"../data/shilpa/Homo_sapiens_ZF.fulldom\"\n",
      "humanZFs = getUniqueShilpaZFs(path, [0, 2, 3, 6])\n",
      "print len(humanZFs)  # no. of unique (-1,2,3,6)\n",
      "print len(b1hZFs & humanZFs)  # intersection size\n",
      "print len(b1hZFs & humanZFs)/float(len(humanZFs))"
     ],
     "language": "python",
     "metadata": {},
     "outputs": [
      {
       "output_type": "stream",
       "stream": "stdout",
       "text": [
        "540\n",
        "68\n",
        "0.125925925926\n"
       ]
      }
     ],
     "prompt_number": 35
    },
    {
     "cell_type": "heading",
     "level": 3,
     "metadata": {},
     "source": [
      "High Stringency"
     ]
    },
    {
     "cell_type": "code",
     "collapsed": false,
     "input": [
      "path = \"../data/b1hData/oldData/F3/threshold025/high/all.txt\"\n",
      "prots = getProtDict(path, [0, 2, 3, 5])\n",
      "print len(prots)\n",
      "print len(prots)/float(20**4)"
     ],
     "language": "python",
     "metadata": {},
     "outputs": [
      {
       "output_type": "stream",
       "stream": "stdout",
       "text": [
        "19510\n",
        "0.1219375\n"
       ]
      }
     ],
     "prompt_number": 36
    },
    {
     "cell_type": "heading",
     "level": 4,
     "metadata": {},
     "source": [
      "vs. D. mel Hmmer ZFs (NOGAP && no_C2H2_ZF_4)"
     ]
    },
    {
     "cell_type": "code",
     "collapsed": false,
     "input": [
      "path = \"../data/shilpa/Drosophila_melanogaster_ZF.fulldom\"\n",
      "flyZFs = getUniqueShilpaZFs(path, [0, 2, 3, 6])\n",
      "print len(flyZFs)  # no. of unique (-1,2,3,6)\n",
      "print len(b1hZFs & flyZFs)  # intersection size\n",
      "print len(b1hZFs & flyZFs)/float(len(flyZFs))"
     ],
     "language": "python",
     "metadata": {},
     "outputs": [
      {
       "output_type": "stream",
       "stream": "stdout",
       "text": [
        "445\n",
        "59\n",
        "0.132584269663\n"
       ]
      }
     ],
     "prompt_number": 37
    },
    {
     "cell_type": "heading",
     "level": 4,
     "metadata": {},
     "source": [
      "vs. H. sap Hmmer ZFs (NOGAP && no_C2H2_ZF_4)"
     ]
    },
    {
     "cell_type": "code",
     "collapsed": false,
     "input": [
      "path = \"../data/shilpa/Homo_sapiens_ZF.fulldom\"\n",
      "humanZFs = getUniqueShilpaZFs(path, [0, 2, 3, 6])\n",
      "print len(humanZFs)  # no. of unique (-1,2,3,6)\n",
      "b1hZFs = set(b1hZFs)\n",
      "print len(b1hZFs & humanZFs)  # intersection size\n",
      "print len(b1hZFs & humanZFs)/float(len(humanZFs))"
     ],
     "language": "python",
     "metadata": {},
     "outputs": [
      {
       "output_type": "stream",
       "stream": "stdout",
       "text": [
        "540\n",
        "68\n",
        "0.125925925926\n"
       ]
      }
     ],
     "prompt_number": 38
    }
   ],
   "metadata": {}
  }
 ]
}