{
 "metadata": {
  "name": "binding_diversity"
 },
 "nbformat": 3,
 "nbformat_minor": 0,
 "worksheets": [
  {
   "cells": [
    {
     "cell_type": "heading",
     "level": 2,
     "metadata": {},
     "source": [
      "F3 Data w/ 0.25 Entropy Filter"
     ]
    },
    {
     "cell_type": "heading",
     "level": 4,
     "metadata": {},
     "source": [
      "Low Stringency"
     ]
    },
    {
     "cell_type": "code",
     "collapsed": false,
     "input": [
      "from gatherBindStats import getProtDict\n",
      "path = \"../data/b1hData/oldData/F3/threshold025/low/all.txt\"\n",
      "prots = getProtDict(path, [0, 2, 3, 5])\n",
      "print len(prots)\n",
      "print len(prots)/float(20**4)"
     ],
     "language": "python",
     "metadata": {},
     "outputs": [
      {
       "output_type": "stream",
       "stream": "stdout",
       "text": [
        "20946\n",
        "0.1309125\n"
       ]
      }
     ],
     "prompt_number": 8
    },
    {
     "cell_type": "heading",
     "level": 4,
     "metadata": {},
     "source": [
      "High Stringency"
     ]
    },
    {
     "cell_type": "code",
     "collapsed": false,
     "input": [
      "path = \"../data/b1hData/oldData/F3/threshold025/high/all.txt\"\n",
      "prots = getProtDict(path, [0, 2, 3, 5])\n",
      "print len(prots)\n",
      "print len(prots)/float(20**4)"
     ],
     "language": "python",
     "metadata": {},
     "outputs": [
      {
       "output_type": "stream",
       "stream": "stdout",
       "text": [
        "19510\n",
        "0.1219375\n"
       ]
      }
     ],
     "prompt_number": 9
    },
    {
     "cell_type": "heading",
     "level": 2,
     "metadata": {},
     "source": [
      "F3 Data (No Filter)"
     ]
    },
    {
     "cell_type": "heading",
     "level": 4,
     "metadata": {},
     "source": [
      "Low Stringency"
     ]
    },
    {
     "cell_type": "code",
     "collapsed": false,
     "input": [
      "path = \"../data/b1hData/oldData/F3/unfiltered/low/all.txt\"\n",
      "prots = getProtDict(path, [0, 2, 3, 5])\n",
      "print len(prots)\n",
      "print len(prots)/float(20**4)"
     ],
     "language": "python",
     "metadata": {},
     "outputs": [
      {
       "output_type": "stream",
       "stream": "stdout",
       "text": [
        "149227\n",
        "0.93266875\n"
       ]
      }
     ],
     "prompt_number": 10
    },
    {
     "cell_type": "heading",
     "level": 4,
     "metadata": {},
     "source": [
      "High Stringency"
     ]
    },
    {
     "cell_type": "code",
     "collapsed": false,
     "input": [
      "path = \"../data/b1hData/oldData/F3/unfiltered/high/all.txt\"\n",
      "prots = getProtDict(path, [0, 2, 3, 5])\n",
      "print len(prots)\n",
      "print len(prots)/float(20**4)"
     ],
     "language": "python",
     "metadata": {},
     "outputs": [
      {
       "output_type": "stream",
       "stream": "stdout",
       "text": [
        "157214\n",
        "0.9825875\n"
       ]
      }
     ],
     "prompt_number": 7
    },
    {
     "cell_type": "code",
     "collapsed": false,
     "input": [],
     "language": "python",
     "metadata": {},
     "outputs": []
    }
   ],
   "metadata": {}
  }
 ]
}