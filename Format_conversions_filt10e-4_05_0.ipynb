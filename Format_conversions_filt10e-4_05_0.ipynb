{
 "metadata": {
  "name": "Format_conversions_filt10e-4_05_0"
 },
 "nbformat": 3,
 "nbformat_minor": 0,
 "worksheets": [
  {
   "cells": [
    {
     "cell_type": "code",
     "collapsed": false,
     "input": [
      "from changeFormats import targetFiles2singleCSV, csv2txtFile\n",
      "\n"
     ],
     "language": "python",
     "metadata": {},
     "outputs": [],
     "prompt_number": 1
    },
    {
     "cell_type": "code",
     "collapsed": false,
     "input": [
      "prefix = '../data/b1hData/antonProcessed/'\n",
      "numVarPos = 6\n",
      "interfaces = {}\n",
      "fings = ['F1', 'F2', 'F3']\n",
      "strins = ['high', 'low']\n",
      "for fing in fings:\n",
      "    for strin in strins:\n",
      "        path = prefix + fing + '/' + strin + '/' + 'filt_10e-4_05_0/'\n",
      "        interfaces[fing,strin] = targetFiles2singleCSV(path, numVarPos, '.txt', style = 'verbose')\n",
      "        csv2txtFile(path, numVarPos, style = 'verbose')\n",
      "        print"
     ],
     "language": "python",
     "metadata": {},
     "outputs": [
      {
       "output_type": "stream",
       "stream": "stdout",
       "text": [
        "Here\n",
        "Num proteins in ../data/b1hData/antonProcessed/F1/high/filt_10e-4_05_0/AAA.txt:  20\n",
        "Num proteins in ../data/b1hData/antonProcessed/F1/high/filt_10e-4_05_0/AAC.txt:  96\n",
        "Num proteins in ../data/b1hData/antonProcessed/F1/high/filt_10e-4_05_0/AAG.txt:  49\n",
        "Num proteins in ../data/b1hData/antonProcessed/F1/high/filt_10e-4_05_0/AAT.txt:  44\n",
        "Num proteins in ../data/b1hData/antonProcessed/F1/high/filt_10e-4_05_0/ACA.txt:  314\n",
        "Num proteins in ../data/b1hData/antonProcessed/F1/high/filt_10e-4_05_0/ACC.txt:  18\n",
        "Num proteins in ../data/b1hData/antonProcessed/F1/high/filt_10e-4_05_0/ACG.txt:  42\n",
        "Num proteins in ../data/b1hData/antonProcessed/F1/high/filt_10e-4_05_0/ACT.txt:  138\n",
        "Num proteins in ../data/b1hData/antonProcessed/F1/high/filt_10e-4_05_0/AGA.txt:  2\n",
        "Num proteins in ../data/b1hData/antonProcessed/F1/high/filt_10e-4_05_0/AGC.txt:  45\n",
        "Num proteins in ../data/b1hData/antonProcessed/F1/high/filt_10e-4_05_0/AGG.txt:  186\n",
        "Num proteins in ../data/b1hData/antonProcessed/F1/high/filt_10e-4_05_0/AGT.txt:  465\n",
        "Num proteins in ../data/b1hData/antonProcessed/F1/high/filt_10e-4_05_0/ATA.txt:  107\n",
        "Num proteins in ../data/b1hData/antonProcessed/F1/high/filt_10e-4_05_0/ATC.txt:  237\n",
        "Num proteins in ../data/b1hData/antonProcessed/F1/high/filt_10e-4_05_0/ATG.txt:  228\n",
        "Num proteins in ../data/b1hData/antonProcessed/F1/high/filt_10e-4_05_0/ATT.txt:  21\n",
        "Num proteins in ../data/b1hData/antonProcessed/F1/high/filt_10e-4_05_0/CAA.txt:  171\n",
        "Num proteins in ../data/b1hData/antonProcessed/F1/high/filt_10e-4_05_0/CAC.txt:  56\n",
        "Num proteins in ../data/b1hData/antonProcessed/F1/high/filt_10e-4_05_0/CAG.txt:  202\n",
        "Num proteins in ../data/b1hData/antonProcessed/F1/high/filt_10e-4_05_0/CAT.txt:  259\n",
        "Num proteins in ../data/b1hData/antonProcessed/F1/high/filt_10e-4_05_0/CCA.txt:  598\n",
        "Num proteins in ../data/b1hData/antonProcessed/F1/high/filt_10e-4_05_0/CCC.txt:  269\n",
        "Num proteins in ../data/b1hData/antonProcessed/F1/high/filt_10e-4_05_0/CCG.txt:  177\n",
        "Num proteins in ../data/b1hData/antonProcessed/F1/high/filt_10e-4_05_0/CCT.txt:  401"
       ]
      },
      {
       "output_type": "stream",
       "stream": "stdout",
       "text": [
        "\n",
        "Num proteins in ../data/b1hData/antonProcessed/F1/high/filt_10e-4_05_0/CGA.txt:  100\n",
        "Num proteins in ../data/b1hData/antonProcessed/F1/high/filt_10e-4_05_0/CGC.txt:  199\n",
        "Num proteins in ../data/b1hData/antonProcessed/F1/high/filt_10e-4_05_0/CGG.txt:  561\n",
        "Num proteins in ../data/b1hData/antonProcessed/F1/high/filt_10e-4_05_0/CGT.txt:  36\n",
        "Num proteins in ../data/b1hData/antonProcessed/F1/high/filt_10e-4_05_0/CTA.txt:  12\n",
        "Num proteins in ../data/b1hData/antonProcessed/F1/high/filt_10e-4_05_0/CTC.txt:  28\n",
        "Num proteins in ../data/b1hData/antonProcessed/F1/high/filt_10e-4_05_0/CTG.txt:  63\n",
        "Num proteins in ../data/b1hData/antonProcessed/F1/high/filt_10e-4_05_0/CTT.txt:  83\n",
        "Num proteins in ../data/b1hData/antonProcessed/F1/high/filt_10e-4_05_0/GAA.txt:  258\n",
        "Num proteins in ../data/b1hData/antonProcessed/F1/high/filt_10e-4_05_0/GAC.txt:  224\n",
        "Num proteins in ../data/b1hData/antonProcessed/F1/high/filt_10e-4_05_0/GAG.txt:  314\n",
        "Num proteins in ../data/b1hData/antonProcessed/F1/high/filt_10e-4_05_0/GAT.txt:  292\n",
        "Num proteins in ../data/b1hData/antonProcessed/F1/high/filt_10e-4_05_0/GCA.txt:  376\n",
        "Num proteins in ../data/b1hData/antonProcessed/F1/high/filt_10e-4_05_0/GCC.txt:  74\n",
        "Num proteins in ../data/b1hData/antonProcessed/F1/high/filt_10e-4_05_0/GCG.txt:  106\n",
        "Num proteins in ../data/b1hData/antonProcessed/F1/high/filt_10e-4_05_0/GCT.txt:  349\n",
        "Num proteins in ../data/b1hData/antonProcessed/F1/high/filt_10e-4_05_0/GGA.txt:  23\n",
        "Num proteins in ../data/b1hData/antonProcessed/F1/high/filt_10e-4_05_0/GGC.txt:  107\n",
        "Num proteins in ../data/b1hData/antonProcessed/F1/high/filt_10e-4_05_0/GGG.txt:  348\n",
        "Num proteins in ../data/b1hData/antonProcessed/F1/high/filt_10e-4_05_0/GGT.txt:  508\n",
        "Num proteins in ../data/b1hData/antonProcessed/F1/high/filt_10e-4_05_0/GTA.txt:  54\n",
        "Num proteins in ../data/b1hData/antonProcessed/F1/high/filt_10e-4_05_0/GTC.txt:  44\n",
        "Num proteins in ../data/b1hData/antonProcessed/F1/high/filt_10e-4_05_0/GTG.txt:  306\n",
        "Num proteins in ../data/b1hData/antonProcessed/F1/high/filt_10e-4_05_0/GTT.txt:  71\n",
        "Num proteins in ../data/b1hData/antonProcessed/F1/high/filt_10e-4_05_0/TAA.txt:  20\n",
        "Num proteins in ../data/b1hData/antonProcessed/F1/high/filt_10e-4_05_0/TAC.txt:  24\n",
        "Num proteins in ../data/b1hData/antonProcessed/F1/high/filt_10e-4_05_0/TAG.txt:  19\n",
        "Num proteins in ../data/b1hData/antonProcessed/F1/high/filt_10e-4_05_0/TAT.txt:  45\n",
        "Num proteins in ../data/b1hData/antonProcessed/F1/high/filt_10e-4_05_0/TCA.txt:  60"
       ]
      },
      {
       "output_type": "stream",
       "stream": "stdout",
       "text": [
        "\n",
        "Num proteins in ../data/b1hData/antonProcessed/F1/high/filt_10e-4_05_0/TCC.txt:  57\n",
        "Num proteins in ../data/b1hData/antonProcessed/F1/high/filt_10e-4_05_0/TCG.txt:  49\n",
        "Num proteins in ../data/b1hData/antonProcessed/F1/high/filt_10e-4_05_0/TCT.txt:  35\n",
        "Num proteins in ../data/b1hData/antonProcessed/F1/high/filt_10e-4_05_0/TGA.txt:  18\n",
        "Num proteins in ../data/b1hData/antonProcessed/F1/high/filt_10e-4_05_0/TGC.txt:  57\n",
        "Num proteins in ../data/b1hData/antonProcessed/F1/high/filt_10e-4_05_0/TGG.txt:  258\n",
        "Num proteins in ../data/b1hData/antonProcessed/F1/high/filt_10e-4_05_0/TGT.txt:  325\n",
        "Num proteins in ../data/b1hData/antonProcessed/F1/high/filt_10e-4_05_0/TTA.txt:  47\n",
        "Num proteins in ../data/b1hData/antonProcessed/F1/high/filt_10e-4_05_0/TTC.txt:  20\n",
        "Num proteins in ../data/b1hData/antonProcessed/F1/high/filt_10e-4_05_0/TTG.txt:  17\n",
        "Num proteins in ../data/b1hData/antonProcessed/F1/high/filt_10e-4_05_0/TTT.txt:  16\n",
        "Total num protein/dna observations in all files:  9748\n",
        "Total num unique proteins in all files:  6933\n",
        "\n",
        "Num obs processed in csv to txt conversion:  9748"
       ]
      },
      {
       "output_type": "stream",
       "stream": "stdout",
       "text": [
        "\n",
        "\n",
        "Here\n",
        "Num proteins in ../data/b1hData/antonProcessed/F1/low/filt_10e-4_05_0/AAA.txt:  21\n",
        "Num proteins in ../data/b1hData/antonProcessed/F1/low/filt_10e-4_05_0/AAC.txt:  107\n",
        "Num proteins in ../data/b1hData/antonProcessed/F1/low/filt_10e-4_05_0/AAG.txt:  479\n",
        "Num proteins in ../data/b1hData/antonProcessed/F1/low/filt_10e-4_05_0/AAT.txt:  40\n",
        "Num proteins in ../data/b1hData/antonProcessed/F1/low/filt_10e-4_05_0/ACA.txt:  730\n",
        "Num proteins in ../data/b1hData/antonProcessed/F1/low/filt_10e-4_05_0/ACC.txt:  71\n",
        "Num proteins in ../data/b1hData/antonProcessed/F1/low/filt_10e-4_05_0/ACG.txt:  835\n",
        "Num proteins in ../data/b1hData/antonProcessed/F1/low/filt_10e-4_05_0/ACT.txt:  147\n",
        "Num proteins in ../data/b1hData/antonProcessed/F1/low/filt_10e-4_05_0/AGA.txt:  84\n",
        "Num proteins in ../data/b1hData/antonProcessed/F1/low/filt_10e-4_05_0/AGC.txt:  222\n",
        "Num proteins in ../data/b1hData/antonProcessed/F1/low/filt_10e-4_05_0/AGG.txt:  419\n",
        "Num proteins in ../data/b1hData/antonProcessed/F1/low/filt_10e-4_05_0/AGT.txt:  1120\n",
        "Num proteins in ../data/b1hData/antonProcessed/F1/low/filt_10e-4_05_0/ATA.txt:  399\n",
        "Num proteins in ../data/b1hData/antonProcessed/F1/low/filt_10e-4_05_0/ATC.txt:  366"
       ]
      },
      {
       "output_type": "stream",
       "stream": "stdout",
       "text": [
        "\n",
        "Num proteins in ../data/b1hData/antonProcessed/F1/low/filt_10e-4_05_0/ATG.txt:  535\n",
        "Num proteins in ../data/b1hData/antonProcessed/F1/low/filt_10e-4_05_0/ATT.txt:  49\n",
        "Num proteins in ../data/b1hData/antonProcessed/F1/low/filt_10e-4_05_0/CAA.txt:  435\n",
        "Num proteins in ../data/b1hData/antonProcessed/F1/low/filt_10e-4_05_0/CAC.txt:  75\n",
        "Num proteins in ../data/b1hData/antonProcessed/F1/low/filt_10e-4_05_0/CAG.txt:  352\n",
        "Num proteins in ../data/b1hData/antonProcessed/F1/low/filt_10e-4_05_0/CAT.txt:  404\n",
        "Num proteins in ../data/b1hData/antonProcessed/F1/low/filt_10e-4_05_0/CCA.txt:  844\n",
        "Num proteins in ../data/b1hData/antonProcessed/F1/low/filt_10e-4_05_0/CCC.txt:  560\n",
        "Num proteins in ../data/b1hData/antonProcessed/F1/low/filt_10e-4_05_0/CCG.txt:  603\n",
        "Num proteins in ../data/b1hData/antonProcessed/F1/low/filt_10e-4_05_0/CCT.txt:  859"
       ]
      },
      {
       "output_type": "stream",
       "stream": "stdout",
       "text": [
        "\n",
        "Num proteins in ../data/b1hData/antonProcessed/F1/low/filt_10e-4_05_0/CGA.txt:  1038\n",
        "Num proteins in ../data/b1hData/antonProcessed/F1/low/filt_10e-4_05_0/CGC.txt:  500\n",
        "Num proteins in ../data/b1hData/antonProcessed/F1/low/filt_10e-4_05_0/CGG.txt:  932\n",
        "Num proteins in ../data/b1hData/antonProcessed/F1/low/filt_10e-4_05_0/CGT.txt:  72\n",
        "Num proteins in ../data/b1hData/antonProcessed/F1/low/filt_10e-4_05_0/CTA.txt:  89\n",
        "Num proteins in ../data/b1hData/antonProcessed/F1/low/filt_10e-4_05_0/CTC.txt:  170\n",
        "Num proteins in ../data/b1hData/antonProcessed/F1/low/filt_10e-4_05_0/CTG.txt:  337\n",
        "Num proteins in ../data/b1hData/antonProcessed/F1/low/filt_10e-4_05_0/CTT.txt:  264\n",
        "Num proteins in ../data/b1hData/antonProcessed/F1/low/filt_10e-4_05_0/GAA.txt:  381\n",
        "Num proteins in ../data/b1hData/antonProcessed/F1/low/filt_10e-4_05_0/GAC.txt:  760\n",
        "Num proteins in ../data/b1hData/antonProcessed/F1/low/filt_10e-4_05_0/GAG.txt:  668"
       ]
      },
      {
       "output_type": "stream",
       "stream": "stdout",
       "text": [
        "\n",
        "Num proteins in ../data/b1hData/antonProcessed/F1/low/filt_10e-4_05_0/GAT.txt:  930\n",
        "Num proteins in ../data/b1hData/antonProcessed/F1/low/filt_10e-4_05_0/GCA.txt:  937\n",
        "Num proteins in ../data/b1hData/antonProcessed/F1/low/filt_10e-4_05_0/GCC.txt:  147\n",
        "Num proteins in ../data/b1hData/antonProcessed/F1/low/filt_10e-4_05_0/GCG.txt:  445\n",
        "Num proteins in ../data/b1hData/antonProcessed/F1/low/filt_10e-4_05_0/GCT.txt:  760\n",
        "Num proteins in ../data/b1hData/antonProcessed/F1/low/filt_10e-4_05_0/GGA.txt:  114\n",
        "Num proteins in ../data/b1hData/antonProcessed/F1/low/filt_10e-4_05_0/GGC.txt:  228\n",
        "Num proteins in ../data/b1hData/antonProcessed/F1/low/filt_10e-4_05_0/GGG.txt:  503\n",
        "Num proteins in ../data/b1hData/antonProcessed/F1/low/filt_10e-4_05_0/GGT.txt:  1008\n",
        "Num proteins in ../data/b1hData/antonProcessed/F1/low/filt_10e-4_05_0/GTA.txt:  258\n",
        "Num proteins in ../data/b1hData/antonProcessed/F1/low/filt_10e-4_05_0/GTC.txt:  232"
       ]
      },
      {
       "output_type": "stream",
       "stream": "stdout",
       "text": [
        "\n",
        "Num proteins in ../data/b1hData/antonProcessed/F1/low/filt_10e-4_05_0/GTG.txt:  574\n",
        "Num proteins in ../data/b1hData/antonProcessed/F1/low/filt_10e-4_05_0/GTT.txt:  317\n",
        "Num proteins in ../data/b1hData/antonProcessed/F1/low/filt_10e-4_05_0/TAA.txt:  82\n",
        "Num proteins in ../data/b1hData/antonProcessed/F1/low/filt_10e-4_05_0/TAC.txt:  91\n",
        "Num proteins in ../data/b1hData/antonProcessed/F1/low/filt_10e-4_05_0/TAG.txt:  29\n",
        "Num proteins in ../data/b1hData/antonProcessed/F1/low/filt_10e-4_05_0/TAT.txt:  16\n",
        "Num proteins in ../data/b1hData/antonProcessed/F1/low/filt_10e-4_05_0/TCA.txt:  264\n",
        "Num proteins in ../data/b1hData/antonProcessed/F1/low/filt_10e-4_05_0/TCC.txt:  59\n",
        "Num proteins in ../data/b1hData/antonProcessed/F1/low/filt_10e-4_05_0/TCG.txt:  77\n",
        "Num proteins in ../data/b1hData/antonProcessed/F1/low/filt_10e-4_05_0/TCT.txt:  88\n",
        "Num proteins in ../data/b1hData/antonProcessed/F1/low/filt_10e-4_05_0/TGA.txt:  82\n",
        "Num proteins in ../data/b1hData/antonProcessed/F1/low/filt_10e-4_05_0/TGC.txt:  246\n",
        "Num proteins in ../data/b1hData/antonProcessed/F1/low/filt_10e-4_05_0/TGG.txt:  435\n",
        "Num proteins in ../data/b1hData/antonProcessed/F1/low/filt_10e-4_05_0/TGT.txt:  1213\n",
        "Num proteins in ../data/b1hData/antonProcessed/F1/low/filt_10e-4_05_0/TTA.txt:  251\n",
        "Num proteins in ../data/b1hData/antonProcessed/F1/low/filt_10e-4_05_0/TTC.txt:  38\n",
        "Num proteins in ../data/b1hData/antonProcessed/F1/low/filt_10e-4_05_0/TTG.txt:  97\n",
        "Num proteins in ../data/b1hData/antonProcessed/F1/low/filt_10e-4_05_0/TTT.txt:  109\n",
        "Total num protein/dna observations in all files:  24597\n",
        "Total num unique proteins in all files:  16407\n",
        "\n",
        "Num obs processed in csv to txt conversion:  24597"
       ]
      },
      {
       "output_type": "stream",
       "stream": "stdout",
       "text": [
        "\n",
        "\n",
        "Here\n",
        "Num proteins in ../data/b1hData/antonProcessed/F2/high/filt_10e-4_05_0/AAA.txt:  100\n",
        "Num proteins in ../data/b1hData/antonProcessed/F2/high/filt_10e-4_05_0/AAC.txt:  684\n",
        "Num proteins in ../data/b1hData/antonProcessed/F2/high/filt_10e-4_05_0/AAG.txt:  234\n",
        "Num proteins in ../data/b1hData/antonProcessed/F2/high/filt_10e-4_05_0/AAT.txt:  128\n",
        "Num proteins in ../data/b1hData/antonProcessed/F2/high/filt_10e-4_05_0/ACA.txt:  440\n",
        "Num proteins in ../data/b1hData/antonProcessed/F2/high/filt_10e-4_05_0/ACC.txt:  183\n",
        "Num proteins in ../data/b1hData/antonProcessed/F2/high/filt_10e-4_05_0/ACG.txt:  508\n",
        "Num proteins in ../data/b1hData/antonProcessed/F2/high/filt_10e-4_05_0/ACT.txt:  1345"
       ]
      },
      {
       "output_type": "stream",
       "stream": "stdout",
       "text": [
        "\n",
        "Num proteins in ../data/b1hData/antonProcessed/F2/high/filt_10e-4_05_0/AGA.txt:  36\n",
        "Num proteins in ../data/b1hData/antonProcessed/F2/high/filt_10e-4_05_0/AGC.txt:  127\n",
        "Num proteins in ../data/b1hData/antonProcessed/F2/high/filt_10e-4_05_0/AGG.txt:  410\n",
        "Num proteins in ../data/b1hData/antonProcessed/F2/high/filt_10e-4_05_0/AGT.txt:  730\n",
        "Num proteins in ../data/b1hData/antonProcessed/F2/high/filt_10e-4_05_0/ATA.txt:  31\n",
        "Num proteins in ../data/b1hData/antonProcessed/F2/high/filt_10e-4_05_0/ATC.txt:  416\n",
        "Num proteins in ../data/b1hData/antonProcessed/F2/high/filt_10e-4_05_0/ATG.txt:  137\n",
        "Num proteins in ../data/b1hData/antonProcessed/F2/high/filt_10e-4_05_0/ATT.txt:  373\n",
        "Num proteins in ../data/b1hData/antonProcessed/F2/high/filt_10e-4_05_0/CAA.txt:  4\n",
        "Num proteins in ../data/b1hData/antonProcessed/F2/high/filt_10e-4_05_0/CAC.txt:  299\n",
        "Num proteins in ../data/b1hData/antonProcessed/F2/high/filt_10e-4_05_0/CAG.txt:  521\n",
        "Num proteins in ../data/b1hData/antonProcessed/F2/high/filt_10e-4_05_0/CAT.txt:  394\n",
        "Num proteins in ../data/b1hData/antonProcessed/F2/high/filt_10e-4_05_0/CCA.txt:  44\n",
        "Num proteins in ../data/b1hData/antonProcessed/F2/high/filt_10e-4_05_0/CCC.txt:  66\n",
        "Num proteins in ../data/b1hData/antonProcessed/F2/high/filt_10e-4_05_0/CCG.txt:  26\n",
        "Num proteins in ../data/b1hData/antonProcessed/F2/high/filt_10e-4_05_0/CCT.txt:  98\n",
        "Num proteins in ../data/b1hData/antonProcessed/F2/high/filt_10e-4_05_0/CGA.txt:  23\n",
        "Num proteins in ../data/b1hData/antonProcessed/F2/high/filt_10e-4_05_0/CGC.txt:  57\n",
        "Num proteins in ../data/b1hData/antonProcessed/F2/high/filt_10e-4_05_0/CGG.txt:  853"
       ]
      },
      {
       "output_type": "stream",
       "stream": "stdout",
       "text": [
        "\n",
        "Num proteins in ../data/b1hData/antonProcessed/F2/high/filt_10e-4_05_0/CGT.txt:  510\n",
        "Num proteins in ../data/b1hData/antonProcessed/F2/high/filt_10e-4_05_0/CTA.txt:  61\n",
        "Num proteins in ../data/b1hData/antonProcessed/F2/high/filt_10e-4_05_0/CTC.txt:  26\n",
        "Num proteins in ../data/b1hData/antonProcessed/F2/high/filt_10e-4_05_0/CTG.txt:  108\n",
        "Num proteins in ../data/b1hData/antonProcessed/F2/high/filt_10e-4_05_0/CTT.txt:  242\n",
        "Num proteins in ../data/b1hData/antonProcessed/F2/high/filt_10e-4_05_0/GAA.txt:  167\n",
        "Num proteins in ../data/b1hData/antonProcessed/F2/high/filt_10e-4_05_0/GAC.txt:  694\n",
        "Num proteins in ../data/b1hData/antonProcessed/F2/high/filt_10e-4_05_0/GAG.txt:  686\n",
        "Num proteins in ../data/b1hData/antonProcessed/F2/high/filt_10e-4_05_0/GAT.txt:  252\n",
        "Num proteins in ../data/b1hData/antonProcessed/F2/high/filt_10e-4_05_0/GCA.txt:  48\n",
        "Num proteins in ../data/b1hData/antonProcessed/F2/high/filt_10e-4_05_0/GCC.txt:  236\n",
        "Num proteins in ../data/b1hData/antonProcessed/F2/high/filt_10e-4_05_0/GCG.txt:  445\n",
        "Num proteins in ../data/b1hData/antonProcessed/F2/high/filt_10e-4_05_0/GCT.txt:  800\n",
        "Num proteins in ../data/b1hData/antonProcessed/F2/high/filt_10e-4_05_0/GGA.txt:  343\n",
        "Num proteins in ../data/b1hData/antonProcessed/F2/high/filt_10e-4_05_0/GGC.txt:  100\n",
        "Num proteins in ../data/b1hData/antonProcessed/F2/high/filt_10e-4_05_0/GGG.txt:  799"
       ]
      },
      {
       "output_type": "stream",
       "stream": "stdout",
       "text": [
        "\n",
        "Num proteins in ../data/b1hData/antonProcessed/F2/high/filt_10e-4_05_0/GGT.txt:  543\n",
        "Num proteins in ../data/b1hData/antonProcessed/F2/high/filt_10e-4_05_0/GTA.txt:  329\n",
        "Num proteins in ../data/b1hData/antonProcessed/F2/high/filt_10e-4_05_0/GTC.txt:  203\n",
        "Num proteins in ../data/b1hData/antonProcessed/F2/high/filt_10e-4_05_0/GTG.txt:  380\n",
        "Num proteins in ../data/b1hData/antonProcessed/F2/high/filt_10e-4_05_0/GTT.txt:  463\n",
        "Num proteins in ../data/b1hData/antonProcessed/F2/high/filt_10e-4_05_0/TAA.txt:  9\n",
        "Num proteins in ../data/b1hData/antonProcessed/F2/high/filt_10e-4_05_0/TAC.txt:  72\n",
        "Num proteins in ../data/b1hData/antonProcessed/F2/high/filt_10e-4_05_0/TAG.txt:  85\n",
        "Num proteins in ../data/b1hData/antonProcessed/F2/high/filt_10e-4_05_0/TAT.txt:  97\n",
        "Num proteins in ../data/b1hData/antonProcessed/F2/high/filt_10e-4_05_0/TCA.txt:  14\n",
        "Num proteins in ../data/b1hData/antonProcessed/F2/high/filt_10e-4_05_0/TCC.txt:  128\n",
        "Num proteins in ../data/b1hData/antonProcessed/F2/high/filt_10e-4_05_0/TCG.txt:  23\n",
        "Num proteins in ../data/b1hData/antonProcessed/F2/high/filt_10e-4_05_0/TCT.txt:  117\n",
        "Num proteins in ../data/b1hData/antonProcessed/F2/high/filt_10e-4_05_0/TGA.txt:  34\n",
        "Num proteins in ../data/b1hData/antonProcessed/F2/high/filt_10e-4_05_0/TGC.txt:  14\n",
        "Num proteins in ../data/b1hData/antonProcessed/F2/high/filt_10e-4_05_0/TGG.txt:  932\n",
        "Num proteins in ../data/b1hData/antonProcessed/F2/high/filt_10e-4_05_0/TGT.txt:  655\n",
        "Num proteins in ../data/b1hData/antonProcessed/F2/high/filt_10e-4_05_0/TTA.txt:  28\n",
        "Num proteins in ../data/b1hData/antonProcessed/F2/high/filt_10e-4_05_0/TTC.txt:  25\n",
        "Num proteins in ../data/b1hData/antonProcessed/F2/high/filt_10e-4_05_0/TTG.txt:  128\n",
        "Num proteins in ../data/b1hData/antonProcessed/F2/high/filt_10e-4_05_0/TTT.txt:  27\n",
        "Total num protein/dna observations in all files:  18090\n",
        "Total num unique proteins in all files:  13999\n",
        "\n",
        "Num obs processed in csv to txt conversion:  18090"
       ]
      },
      {
       "output_type": "stream",
       "stream": "stdout",
       "text": [
        "\n",
        "\n",
        "Here\n",
        "Num proteins in ../data/b1hData/antonProcessed/F2/low/filt_10e-4_05_0/AAA.txt:  321\n",
        "Num proteins in ../data/b1hData/antonProcessed/F2/low/filt_10e-4_05_0/AAC.txt:  2027\n",
        "Num proteins in ../data/b1hData/antonProcessed/F2/low/filt_10e-4_05_0/AAG.txt:  1046\n",
        "Num proteins in ../data/b1hData/antonProcessed/F2/low/filt_10e-4_05_0/AAT.txt:  1235"
       ]
      },
      {
       "output_type": "stream",
       "stream": "stdout",
       "text": [
        "\n",
        "Num proteins in ../data/b1hData/antonProcessed/F2/low/filt_10e-4_05_0/ACA.txt:  1519\n",
        "Num proteins in ../data/b1hData/antonProcessed/F2/low/filt_10e-4_05_0/ACC.txt:  748\n",
        "Num proteins in ../data/b1hData/antonProcessed/F2/low/filt_10e-4_05_0/ACG.txt:  1840\n",
        "Num proteins in ../data/b1hData/antonProcessed/F2/low/filt_10e-4_05_0/ACT.txt:  2467"
       ]
      },
      {
       "output_type": "stream",
       "stream": "stdout",
       "text": [
        "\n",
        "Num proteins in ../data/b1hData/antonProcessed/F2/low/filt_10e-4_05_0/AGA.txt:  394\n",
        "Num proteins in ../data/b1hData/antonProcessed/F2/low/filt_10e-4_05_0/AGC.txt:  508\n",
        "Num proteins in ../data/b1hData/antonProcessed/F2/low/filt_10e-4_05_0/AGG.txt:  1662\n",
        "Num proteins in ../data/b1hData/antonProcessed/F2/low/filt_10e-4_05_0/AGT.txt:  1979\n",
        "Num proteins in ../data/b1hData/antonProcessed/F2/low/filt_10e-4_05_0/ATA.txt:  88\n",
        "Num proteins in ../data/b1hData/antonProcessed/F2/low/filt_10e-4_05_0/ATC.txt:  1383"
       ]
      },
      {
       "output_type": "stream",
       "stream": "stdout",
       "text": [
        "\n",
        "Num proteins in ../data/b1hData/antonProcessed/F2/low/filt_10e-4_05_0/ATG.txt:  1206\n",
        "Num proteins in ../data/b1hData/antonProcessed/F2/low/filt_10e-4_05_0/ATT.txt:  1348\n",
        "Num proteins in ../data/b1hData/antonProcessed/F2/low/filt_10e-4_05_0/CAA.txt:  154\n",
        "Num proteins in ../data/b1hData/antonProcessed/F2/low/filt_10e-4_05_0/CAC.txt:  1622\n",
        "Num proteins in ../data/b1hData/antonProcessed/F2/low/filt_10e-4_05_0/CAG.txt:  2070"
       ]
      },
      {
       "output_type": "stream",
       "stream": "stdout",
       "text": [
        "\n",
        "Num proteins in ../data/b1hData/antonProcessed/F2/low/filt_10e-4_05_0/CAT.txt:  1476\n",
        "Num proteins in ../data/b1hData/antonProcessed/F2/low/filt_10e-4_05_0/CCA.txt:  282\n",
        "Num proteins in ../data/b1hData/antonProcessed/F2/low/filt_10e-4_05_0/CCC.txt:  346\n",
        "Num proteins in ../data/b1hData/antonProcessed/F2/low/filt_10e-4_05_0/CCG.txt:  444\n",
        "Num proteins in ../data/b1hData/antonProcessed/F2/low/filt_10e-4_05_0/CCT.txt:  551"
       ]
      },
      {
       "output_type": "stream",
       "stream": "stdout",
       "text": [
        "\n",
        "Num proteins in ../data/b1hData/antonProcessed/F2/low/filt_10e-4_05_0/CGA.txt:  218\n",
        "Num proteins in ../data/b1hData/antonProcessed/F2/low/filt_10e-4_05_0/CGC.txt:  292\n",
        "Num proteins in ../data/b1hData/antonProcessed/F2/low/filt_10e-4_05_0/CGG.txt:  2085\n",
        "Num proteins in ../data/b1hData/antonProcessed/F2/low/filt_10e-4_05_0/CGT.txt:  1495\n",
        "Num proteins in ../data/b1hData/antonProcessed/F2/low/filt_10e-4_05_0/CTA.txt:  107\n",
        "Num proteins in ../data/b1hData/antonProcessed/F2/low/filt_10e-4_05_0/CTC.txt:  173\n",
        "Num proteins in ../data/b1hData/antonProcessed/F2/low/filt_10e-4_05_0/CTG.txt:  306\n",
        "Num proteins in ../data/b1hData/antonProcessed/F2/low/filt_10e-4_05_0/CTT.txt:  364\n",
        "Num proteins in ../data/b1hData/antonProcessed/F2/low/filt_10e-4_05_0/GAA.txt:  331"
       ]
      },
      {
       "output_type": "stream",
       "stream": "stdout",
       "text": [
        "\n",
        "Num proteins in ../data/b1hData/antonProcessed/F2/low/filt_10e-4_05_0/GAC.txt:  1598\n",
        "Num proteins in ../data/b1hData/antonProcessed/F2/low/filt_10e-4_05_0/GAG.txt:  1337\n",
        "Num proteins in ../data/b1hData/antonProcessed/F2/low/filt_10e-4_05_0/GAT.txt:  1305"
       ]
      },
      {
       "output_type": "stream",
       "stream": "stdout",
       "text": [
        "\n",
        "Num proteins in ../data/b1hData/antonProcessed/F2/low/filt_10e-4_05_0/GCA.txt:  328\n",
        "Num proteins in ../data/b1hData/antonProcessed/F2/low/filt_10e-4_05_0/GCC.txt:  524\n",
        "Num proteins in ../data/b1hData/antonProcessed/F2/low/filt_10e-4_05_0/GCG.txt:  1684\n",
        "Num proteins in ../data/b1hData/antonProcessed/F2/low/filt_10e-4_05_0/GCT.txt:  1930\n",
        "Num proteins in ../data/b1hData/antonProcessed/F2/low/filt_10e-4_05_0/GGA.txt:  56\n",
        "Num proteins in ../data/b1hData/antonProcessed/F2/low/filt_10e-4_05_0/GGC.txt:  208\n",
        "Num proteins in ../data/b1hData/antonProcessed/F2/low/filt_10e-4_05_0/GGG.txt:  1781"
       ]
      },
      {
       "output_type": "stream",
       "stream": "stdout",
       "text": [
        "\n",
        "Num proteins in ../data/b1hData/antonProcessed/F2/low/filt_10e-4_05_0/GGT.txt:  1156\n",
        "Num proteins in ../data/b1hData/antonProcessed/F2/low/filt_10e-4_05_0/GTA.txt:  20\n",
        "Num proteins in ../data/b1hData/antonProcessed/F2/low/filt_10e-4_05_0/GTC.txt:  823\n",
        "Num proteins in ../data/b1hData/antonProcessed/F2/low/filt_10e-4_05_0/GTG.txt:  1886\n",
        "Num proteins in ../data/b1hData/antonProcessed/F2/low/filt_10e-4_05_0/GTT.txt:  1625"
       ]
      },
      {
       "output_type": "stream",
       "stream": "stdout",
       "text": [
        "\n",
        "Num proteins in ../data/b1hData/antonProcessed/F2/low/filt_10e-4_05_0/TAA.txt:  28\n",
        "Num proteins in ../data/b1hData/antonProcessed/F2/low/filt_10e-4_05_0/TAC.txt:  537\n",
        "Num proteins in ../data/b1hData/antonProcessed/F2/low/filt_10e-4_05_0/TAG.txt:  510\n",
        "Num proteins in ../data/b1hData/antonProcessed/F2/low/filt_10e-4_05_0/TAT.txt:  818\n",
        "Num proteins in ../data/b1hData/antonProcessed/F2/low/filt_10e-4_05_0/TCA.txt:  31\n",
        "Num proteins in ../data/b1hData/antonProcessed/F2/low/filt_10e-4_05_0/TCC.txt:  191\n",
        "Num proteins in ../data/b1hData/antonProcessed/F2/low/filt_10e-4_05_0/TCG.txt:  600\n",
        "Num proteins in ../data/b1hData/antonProcessed/F2/low/filt_10e-4_05_0/TCT.txt:  474\n",
        "Num proteins in ../data/b1hData/antonProcessed/F2/low/filt_10e-4_05_0/TGA.txt:  143\n",
        "Num proteins in ../data/b1hData/antonProcessed/F2/low/filt_10e-4_05_0/TGC.txt:  212\n",
        "Num proteins in ../data/b1hData/antonProcessed/F2/low/filt_10e-4_05_0/TGG.txt:  2040"
       ]
      },
      {
       "output_type": "stream",
       "stream": "stdout",
       "text": [
        "\n",
        "Num proteins in ../data/b1hData/antonProcessed/F2/low/filt_10e-4_05_0/TGT.txt:  2208\n",
        "Num proteins in ../data/b1hData/antonProcessed/F2/low/filt_10e-4_05_0/TTA.txt:  16\n",
        "Num proteins in ../data/b1hData/antonProcessed/F2/low/filt_10e-4_05_0/TTC.txt:  205\n",
        "Num proteins in ../data/b1hData/antonProcessed/F2/low/filt_10e-4_05_0/TTG.txt:  861\n",
        "Num proteins in ../data/b1hData/antonProcessed/F2/low/filt_10e-4_05_0/TTT.txt:  146\n",
        "Total num protein/dna observations in all files:  57368\n",
        "Total num unique proteins in all files:  41394\n",
        "\n",
        "Num obs processed in csv to txt conversion:  57368"
       ]
      },
      {
       "output_type": "stream",
       "stream": "stdout",
       "text": [
        "\n",
        "\n",
        "Here\n",
        "Num proteins in ../data/b1hData/antonProcessed/F3/high/filt_10e-4_05_0/AAA.txt:  16\n",
        "Num proteins in ../data/b1hData/antonProcessed/F3/high/filt_10e-4_05_0/AAC.txt:  46\n",
        "Num proteins in ../data/b1hData/antonProcessed/F3/high/filt_10e-4_05_0/AAG.txt:  217\n",
        "Num proteins in ../data/b1hData/antonProcessed/F3/high/filt_10e-4_05_0/AAT.txt:  31\n",
        "Num proteins in ../data/b1hData/antonProcessed/F3/high/filt_10e-4_05_0/ACA.txt:  50\n",
        "Num proteins in ../data/b1hData/antonProcessed/F3/high/filt_10e-4_05_0/ACC.txt:  5\n",
        "Num proteins in ../data/b1hData/antonProcessed/F3/high/filt_10e-4_05_0/ACG.txt:  165\n",
        "Num proteins in ../data/b1hData/antonProcessed/F3/high/filt_10e-4_05_0/ACT.txt:  40\n",
        "Num proteins in ../data/b1hData/antonProcessed/F3/high/filt_10e-4_05_0/AGA.txt:  0\n",
        "Num proteins in ../data/b1hData/antonProcessed/F3/high/filt_10e-4_05_0/AGC.txt:  58\n",
        "Num proteins in ../data/b1hData/antonProcessed/F3/high/filt_10e-4_05_0/AGG.txt:  57\n",
        "Num proteins in ../data/b1hData/antonProcessed/F3/high/filt_10e-4_05_0/AGT.txt:  310\n",
        "Num proteins in ../data/b1hData/antonProcessed/F3/high/filt_10e-4_05_0/ATA.txt:  12\n",
        "Num proteins in ../data/b1hData/antonProcessed/F3/high/filt_10e-4_05_0/ATC.txt:  159\n",
        "Num proteins in ../data/b1hData/antonProcessed/F3/high/filt_10e-4_05_0/ATG.txt:  26\n",
        "Num proteins in ../data/b1hData/antonProcessed/F3/high/filt_10e-4_05_0/ATT.txt:  55\n",
        "Num proteins in ../data/b1hData/antonProcessed/F3/high/filt_10e-4_05_0/CAA.txt:  39\n",
        "Num proteins in ../data/b1hData/antonProcessed/F3/high/filt_10e-4_05_0/CAC.txt:  19\n",
        "Num proteins in ../data/b1hData/antonProcessed/F3/high/filt_10e-4_05_0/CAG.txt:  47\n",
        "Num proteins in ../data/b1hData/antonProcessed/F3/high/filt_10e-4_05_0/CAT.txt:  173\n",
        "Num proteins in ../data/b1hData/antonProcessed/F3/high/filt_10e-4_05_0/CCA.txt:  8\n",
        "Num proteins in ../data/b1hData/antonProcessed/F3/high/filt_10e-4_05_0/CCC.txt:  37\n",
        "Num proteins in ../data/b1hData/antonProcessed/F3/high/filt_10e-4_05_0/CCG.txt:  110\n",
        "Num proteins in ../data/b1hData/antonProcessed/F3/high/filt_10e-4_05_0/CCT.txt:  37\n",
        "Num proteins in ../data/b1hData/antonProcessed/F3/high/filt_10e-4_05_0/CGA.txt:  2\n",
        "Num proteins in ../data/b1hData/antonProcessed/F3/high/filt_10e-4_05_0/CGC.txt:  80\n",
        "Num proteins in ../data/b1hData/antonProcessed/F3/high/filt_10e-4_05_0/CGG.txt:  2\n",
        "Num proteins in ../data/b1hData/antonProcessed/F3/high/filt_10e-4_05_0/CGT.txt:  143\n",
        "Num proteins in ../data/b1hData/antonProcessed/F3/high/filt_10e-4_05_0/CTA.txt:  40\n",
        "Num proteins in ../data/b1hData/antonProcessed/F3/high/filt_10e-4_05_0/CTC.txt:  15\n",
        "Num proteins in ../data/b1hData/antonProcessed/F3/high/filt_10e-4_05_0/CTG.txt:  5\n",
        "Num proteins in ../data/b1hData/antonProcessed/F3/high/filt_10e-4_05_0/CTT.txt:  9\n",
        "Num proteins in ../data/b1hData/antonProcessed/F3/high/filt_10e-4_05_0/GAA.txt:  67\n",
        "Num proteins in ../data/b1hData/antonProcessed/F3/high/filt_10e-4_05_0/GAC.txt:  49\n",
        "Num proteins in ../data/b1hData/antonProcessed/F3/high/filt_10e-4_05_0/GAG.txt:  94\n",
        "Num proteins in ../data/b1hData/antonProcessed/F3/high/filt_10e-4_05_0/GAT.txt:  55\n",
        "Num proteins in ../data/b1hData/antonProcessed/F3/high/filt_10e-4_05_0/GCA.txt:  40\n",
        "Num proteins in ../data/b1hData/antonProcessed/F3/high/filt_10e-4_05_0/GCC.txt:  28\n",
        "Num proteins in ../data/b1hData/antonProcessed/F3/high/filt_10e-4_05_0/GCG.txt:  54\n",
        "Num proteins in ../data/b1hData/antonProcessed/F3/high/filt_10e-4_05_0/GCT.txt:  87\n",
        "Num proteins in ../data/b1hData/antonProcessed/F3/high/filt_10e-4_05_0/GGA.txt:  134\n",
        "Num proteins in ../data/b1hData/antonProcessed/F3/high/filt_10e-4_05_0/GGC.txt:  18\n",
        "Num proteins in ../data/b1hData/antonProcessed/F3/high/filt_10e-4_05_0/GGG.txt:  162\n",
        "Num proteins in ../data/b1hData/antonProcessed/F3/high/filt_10e-4_05_0/GGT.txt:  313\n",
        "Num proteins in ../data/b1hData/antonProcessed/F3/high/filt_10e-4_05_0/GTA.txt:  146\n",
        "Num proteins in ../data/b1hData/antonProcessed/F3/high/filt_10e-4_05_0/GTC.txt:  60\n",
        "Num proteins in ../data/b1hData/antonProcessed/F3/high/filt_10e-4_05_0/GTG.txt:  112\n",
        "Num proteins in ../data/b1hData/antonProcessed/F3/high/filt_10e-4_05_0/GTT.txt:  190\n",
        "Num proteins in ../data/b1hData/antonProcessed/F3/high/filt_10e-4_05_0/TAA.txt:  95\n",
        "Num proteins in ../data/b1hData/antonProcessed/F3/high/filt_10e-4_05_0/TAC.txt:  41\n",
        "Num proteins in ../data/b1hData/antonProcessed/F3/high/filt_10e-4_05_0/TAG.txt:  17\n",
        "Num proteins in ../data/b1hData/antonProcessed/F3/high/filt_10e-4_05_0/TAT.txt:  67\n",
        "Num proteins in ../data/b1hData/antonProcessed/F3/high/filt_10e-4_05_0/TCA.txt:  70\n",
        "Num proteins in ../data/b1hData/antonProcessed/F3/high/filt_10e-4_05_0/TCC.txt:  147\n",
        "Num proteins in ../data/b1hData/antonProcessed/F3/high/filt_10e-4_05_0/TCG.txt:  12\n",
        "Num proteins in ../data/b1hData/antonProcessed/F3/high/filt_10e-4_05_0/TCT.txt:  46\n",
        "Num proteins in ../data/b1hData/antonProcessed/F3/high/filt_10e-4_05_0/TGA.txt:  182\n",
        "Num proteins in ../data/b1hData/antonProcessed/F3/high/filt_10e-4_05_0/TGC.txt:  25\n",
        "Num proteins in ../data/b1hData/antonProcessed/F3/high/filt_10e-4_05_0/TGG.txt:  1\n",
        "Num proteins in ../data/b1hData/antonProcessed/F3/high/filt_10e-4_05_0/TGT.txt:  1747"
       ]
      },
      {
       "output_type": "stream",
       "stream": "stdout",
       "text": [
        "\n",
        "Num proteins in ../data/b1hData/antonProcessed/F3/high/filt_10e-4_05_0/TTA.txt:  334\n",
        "Num proteins in ../data/b1hData/antonProcessed/F3/high/filt_10e-4_05_0/TTC.txt:  6\n",
        "Num proteins in ../data/b1hData/antonProcessed/F3/high/filt_10e-4_05_0/TTG.txt:  2\n",
        "Num proteins in ../data/b1hData/antonProcessed/F3/high/filt_10e-4_05_0/TTT.txt:  23\n",
        "Total num protein/dna observations in all files:  6437\n",
        "Total num unique proteins in all files:  5294\n",
        "\n",
        "Num obs processed in csv to txt conversion:  6437"
       ]
      },
      {
       "output_type": "stream",
       "stream": "stdout",
       "text": [
        "\n",
        "\n",
        "Here\n",
        "Num proteins in ../data/b1hData/antonProcessed/F3/low/filt_10e-4_05_0/AAA.txt:  59\n",
        "Num proteins in ../data/b1hData/antonProcessed/F3/low/filt_10e-4_05_0/AAC.txt:  553\n",
        "Num proteins in ../data/b1hData/antonProcessed/F3/low/filt_10e-4_05_0/AAG.txt:  1157\n",
        "Num proteins in ../data/b1hData/antonProcessed/F3/low/filt_10e-4_05_0/AAT.txt:  475\n",
        "Num proteins in ../data/b1hData/antonProcessed/F3/low/filt_10e-4_05_0/ACA.txt:  27\n",
        "Num proteins in ../data/b1hData/antonProcessed/F3/low/filt_10e-4_05_0/ACC.txt:  269\n",
        "Num proteins in ../data/b1hData/antonProcessed/F3/low/filt_10e-4_05_0/ACG.txt:  1197\n",
        "Num proteins in ../data/b1hData/antonProcessed/F3/low/filt_10e-4_05_0/ACT.txt:  363\n",
        "Num proteins in ../data/b1hData/antonProcessed/F3/low/filt_10e-4_05_0/AGA.txt:  18\n",
        "Num proteins in ../data/b1hData/antonProcessed/F3/low/filt_10e-4_05_0/AGC.txt:  734\n",
        "Num proteins in ../data/b1hData/antonProcessed/F3/low/filt_10e-4_05_0/AGG.txt:  605"
       ]
      },
      {
       "output_type": "stream",
       "stream": "stdout",
       "text": [
        "\n",
        "Num proteins in ../data/b1hData/antonProcessed/F3/low/filt_10e-4_05_0/AGT.txt:  944\n",
        "Num proteins in ../data/b1hData/antonProcessed/F3/low/filt_10e-4_05_0/ATA.txt:  54\n",
        "Num proteins in ../data/b1hData/antonProcessed/F3/low/filt_10e-4_05_0/ATC.txt:  418\n",
        "Num proteins in ../data/b1hData/antonProcessed/F3/low/filt_10e-4_05_0/ATG.txt:  142\n",
        "Num proteins in ../data/b1hData/antonProcessed/F3/low/filt_10e-4_05_0/ATT.txt:  391\n",
        "Num proteins in ../data/b1hData/antonProcessed/F3/low/filt_10e-4_05_0/CAA.txt:  76\n",
        "Num proteins in ../data/b1hData/antonProcessed/F3/low/filt_10e-4_05_0/CAC.txt:  395\n",
        "Num proteins in ../data/b1hData/antonProcessed/F3/low/filt_10e-4_05_0/CAG.txt:  711\n",
        "Num proteins in ../data/b1hData/antonProcessed/F3/low/filt_10e-4_05_0/CAT.txt:  427\n",
        "Num proteins in ../data/b1hData/antonProcessed/F3/low/filt_10e-4_05_0/CCA.txt:  27\n",
        "Num proteins in ../data/b1hData/antonProcessed/F3/low/filt_10e-4_05_0/CCC.txt:  130\n",
        "Num proteins in ../data/b1hData/antonProcessed/F3/low/filt_10e-4_05_0/CCG.txt:  994"
       ]
      },
      {
       "output_type": "stream",
       "stream": "stdout",
       "text": [
        "\n",
        "Num proteins in ../data/b1hData/antonProcessed/F3/low/filt_10e-4_05_0/CCT.txt:  292\n",
        "Num proteins in ../data/b1hData/antonProcessed/F3/low/filt_10e-4_05_0/CGA.txt:  56\n",
        "Num proteins in ../data/b1hData/antonProcessed/F3/low/filt_10e-4_05_0/CGC.txt:  1246\n",
        "Num proteins in ../data/b1hData/antonProcessed/F3/low/filt_10e-4_05_0/CGG.txt:  150\n",
        "Num proteins in ../data/b1hData/antonProcessed/F3/low/filt_10e-4_05_0/CGT.txt:  1155\n",
        "Num proteins in ../data/b1hData/antonProcessed/F3/low/filt_10e-4_05_0/CTA.txt:  27\n",
        "Num proteins in ../data/b1hData/antonProcessed/F3/low/filt_10e-4_05_0/CTC.txt:  187\n",
        "Num proteins in ../data/b1hData/antonProcessed/F3/low/filt_10e-4_05_0/CTG.txt:  99\n",
        "Num proteins in ../data/b1hData/antonProcessed/F3/low/filt_10e-4_05_0/CTT.txt:  132\n",
        "Num proteins in ../data/b1hData/antonProcessed/F3/low/filt_10e-4_05_0/GAA.txt:  632\n",
        "Num proteins in ../data/b1hData/antonProcessed/F3/low/filt_10e-4_05_0/GAC.txt:  749\n",
        "Num proteins in ../data/b1hData/antonProcessed/F3/low/filt_10e-4_05_0/GAG.txt:  1546"
       ]
      },
      {
       "output_type": "stream",
       "stream": "stdout",
       "text": [
        "\n",
        "Num proteins in ../data/b1hData/antonProcessed/F3/low/filt_10e-4_05_0/GAT.txt:  944\n",
        "Num proteins in ../data/b1hData/antonProcessed/F3/low/filt_10e-4_05_0/GCA.txt:  90\n",
        "Num proteins in ../data/b1hData/antonProcessed/F3/low/filt_10e-4_05_0/GCC.txt:  194\n",
        "Num proteins in ../data/b1hData/antonProcessed/F3/low/filt_10e-4_05_0/GCG.txt:  700\n",
        "Num proteins in ../data/b1hData/antonProcessed/F3/low/filt_10e-4_05_0/GCT.txt:  216\n",
        "Num proteins in ../data/b1hData/antonProcessed/F3/low/filt_10e-4_05_0/GGA.txt:  227\n",
        "Num proteins in ../data/b1hData/antonProcessed/F3/low/filt_10e-4_05_0/GGC.txt:  282\n",
        "Num proteins in ../data/b1hData/antonProcessed/F3/low/filt_10e-4_05_0/GGG.txt:  1355\n",
        "Num proteins in ../data/b1hData/antonProcessed/F3/low/filt_10e-4_05_0/GGT.txt:  1026\n",
        "Num proteins in ../data/b1hData/antonProcessed/F3/low/filt_10e-4_05_0/GTA.txt:  660"
       ]
      },
      {
       "output_type": "stream",
       "stream": "stdout",
       "text": [
        "\n",
        "Num proteins in ../data/b1hData/antonProcessed/F3/low/filt_10e-4_05_0/GTC.txt:  637\n",
        "Num proteins in ../data/b1hData/antonProcessed/F3/low/filt_10e-4_05_0/GTG.txt:  1630\n",
        "Num proteins in ../data/b1hData/antonProcessed/F3/low/filt_10e-4_05_0/GTT.txt:  1844"
       ]
      },
      {
       "output_type": "stream",
       "stream": "stdout",
       "text": [
        "\n",
        "Num proteins in ../data/b1hData/antonProcessed/F3/low/filt_10e-4_05_0/TAA.txt:  62\n",
        "Num proteins in ../data/b1hData/antonProcessed/F3/low/filt_10e-4_05_0/TAC.txt:  440\n",
        "Num proteins in ../data/b1hData/antonProcessed/F3/low/filt_10e-4_05_0/TAG.txt:  320\n",
        "Num proteins in ../data/b1hData/antonProcessed/F3/low/filt_10e-4_05_0/TAT.txt:  419\n",
        "Num proteins in ../data/b1hData/antonProcessed/F3/low/filt_10e-4_05_0/TCA.txt:  7\n",
        "Num proteins in ../data/b1hData/antonProcessed/F3/low/filt_10e-4_05_0/TCC.txt:  380\n",
        "Num proteins in ../data/b1hData/antonProcessed/F3/low/filt_10e-4_05_0/TCG.txt:  251\n",
        "Num proteins in ../data/b1hData/antonProcessed/F3/low/filt_10e-4_05_0/TCT.txt:  344\n",
        "Num proteins in ../data/b1hData/antonProcessed/F3/low/filt_10e-4_05_0/TGA.txt:  716\n",
        "Num proteins in ../data/b1hData/antonProcessed/F3/low/filt_10e-4_05_0/TGC.txt:  690\n",
        "Num proteins in ../data/b1hData/antonProcessed/F3/low/filt_10e-4_05_0/TGG.txt:  135\n",
        "Num proteins in ../data/b1hData/antonProcessed/F3/low/filt_10e-4_05_0/TGT.txt:  1582"
       ]
      },
      {
       "output_type": "stream",
       "stream": "stdout",
       "text": [
        "\n",
        "Num proteins in ../data/b1hData/antonProcessed/F3/low/filt_10e-4_05_0/TTA.txt:  17\n",
        "Num proteins in ../data/b1hData/antonProcessed/F3/low/filt_10e-4_05_0/TTC.txt:  143\n",
        "Num proteins in ../data/b1hData/antonProcessed/F3/low/filt_10e-4_05_0/TTG.txt:  201\n",
        "Num proteins in ../data/b1hData/antonProcessed/F3/low/filt_10e-4_05_0/TTT.txt:  963\n",
        "Total num protein/dna observations in all files:  32912\n",
        "Total num unique proteins in all files:  24043\n",
        "\n",
        "Num obs processed in csv to txt conversion:  32912"
       ]
      },
      {
       "output_type": "stream",
       "stream": "stdout",
       "text": [
        "\n",
        "\n"
       ]
      }
     ],
     "prompt_number": 2
    },
    {
     "cell_type": "code",
     "collapsed": false,
     "input": [
      "bothStrinIfaces = {}\n",
      "for f in fings:\n",
      "    bothStrinIfaces[f] = interfaces[f, 'low'] | interfaces[f, 'high']\n",
      "\n",
      "for f in sorted(bothStrinIfaces.keys()):\n",
      "    print \"%s Interfaces: %d\" %(f, len(bothStrinIfaces[f]))\n",
      "    \n",
      "print\n",
      "print \"%s + %s Interfaces: %d\" %('F1', 'F2', len(bothStrinIfaces['F1'] | bothStrinIfaces['F2']))\n",
      "print \"%s + %s Interfaces: %d\" %('F1', 'F3', len(bothStrinIfaces['F1'] | bothStrinIfaces['F3']))\n",
      "print \"%s + %s Interfaces: %d\" %('F2', 'F3', len(bothStrinIfaces['F2'] | bothStrinIfaces['F3']))\n",
      "print \"%s + %s + %s Interfaces: %d\" %('F1', 'F2', 'F3',len(bothStrinIfaces['F1'] | bothStrinIfaces['F2'] | bothStrinIfaces['F3']))\n",
      "    "
     ],
     "language": "python",
     "metadata": {},
     "outputs": [
      {
       "output_type": "stream",
       "stream": "stdout",
       "text": [
        "F1 Interfaces: 28273\n",
        "F2 Interfaces: 62655\n",
        "F3 Interfaces: 35868\n",
        "\n",
        "F1 + F2 Interfaces: 88894\n",
        "F1 + F3 Interfaces: 63890"
       ]
      },
      {
       "output_type": "stream",
       "stream": "stdout",
       "text": [
        "\n",
        "F2 + F3 Interfaces: 94785\n",
        "F1 + F2 + F3 Interfaces: 120930"
       ]
      },
      {
       "output_type": "stream",
       "stream": "stdout",
       "text": [
        "\n"
       ]
      }
     ],
     "prompt_number": 3
    },
    {
     "cell_type": "code",
     "collapsed": false,
     "input": [],
     "language": "python",
     "metadata": {},
     "outputs": [],
     "prompt_number": 3
    }
   ],
   "metadata": {}
  }
 ]
}