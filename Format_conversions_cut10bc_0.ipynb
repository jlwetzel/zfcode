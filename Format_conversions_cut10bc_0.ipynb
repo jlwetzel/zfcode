{
 "metadata": {
  "name": "Format_conversions_cut10bc_0"
 },
 "nbformat": 3,
 "nbformat_minor": 0,
 "worksheets": [
  {
   "cells": [
    {
     "cell_type": "code",
     "collapsed": false,
     "input": [
      "from changeFormats import targetFiles2singleCSV, csv2txtFile\n",
      "\n"
     ],
     "language": "python",
     "metadata": {},
     "outputs": [],
     "prompt_number": 1
    },
    {
     "cell_type": "code",
     "collapsed": false,
     "input": [
      "prefix = '../data/b1hData/newDatabase/6varpos/'\n",
      "numVarPos = 6\n",
      "fings = ['F1', 'F2', 'F3']\n",
      "strins = ['high', 'low']\n",
      "for fing in fings:\n",
      "    for strin in strins:\n",
      "        path = prefix + fing + '/' + strin + '/' + 'protein_seq_cut10bc_0/'\n",
      "        targetFiles2singleCSV(path, numVarPos, '.txt')\n",
      "        csv2txtFile(path, numVarPos)\n",
      "        print"
     ],
     "language": "python",
     "metadata": {},
     "outputs": [
      {
       "output_type": "stream",
       "stream": "stdout",
       "text": [
        "Num proteins in ../data/b1hData/newDatabase/6varpos/F1/high/protein_seq_cut10bc_0/AAA.txt:  333\n",
        "Num proteins in ../data/b1hData/newDatabase/6varpos/F1/high/protein_seq_cut10bc_0/AAC.txt:  361\n",
        "Num proteins in ../data/b1hData/newDatabase/6varpos/F1/high/protein_seq_cut10bc_0/AAG.txt:  308\n",
        "Num proteins in ../data/b1hData/newDatabase/6varpos/F1/high/protein_seq_cut10bc_0/AAT.txt:  306\n",
        "Num proteins in ../data/b1hData/newDatabase/6varpos/F1/high/protein_seq_cut10bc_0/ACA.txt:  502\n",
        "Num proteins in ../data/b1hData/newDatabase/6varpos/F1/high/protein_seq_cut10bc_0/ACC.txt:  505\n",
        "Num proteins in ../data/b1hData/newDatabase/6varpos/F1/high/protein_seq_cut10bc_0/ACG.txt:  634\n",
        "Num proteins in ../data/b1hData/newDatabase/6varpos/F1/high/protein_seq_cut10bc_0/ACT.txt:  613\n",
        "Num proteins in ../data/b1hData/newDatabase/6varpos/F1/high/protein_seq_cut10bc_0/AGA.txt:  355\n",
        "Num proteins in ../data/b1hData/newDatabase/6varpos/F1/high/protein_seq_cut10bc_0/AGC.txt:  369\n",
        "Num proteins in ../data/b1hData/newDatabase/6varpos/F1/high/protein_seq_cut10bc_0/AGG.txt:  1227"
       ]
      },
      {
       "output_type": "stream",
       "stream": "stdout",
       "text": [
        "\n",
        "Num proteins in ../data/b1hData/newDatabase/6varpos/F1/high/protein_seq_cut10bc_0/AGT.txt:  2559\n",
        "Num proteins in ../data/b1hData/newDatabase/6varpos/F1/high/protein_seq_cut10bc_0/ATA.txt:  757\n",
        "Num proteins in ../data/b1hData/newDatabase/6varpos/F1/high/protein_seq_cut10bc_0/ATC.txt:  968"
       ]
      },
      {
       "output_type": "stream",
       "stream": "stdout",
       "text": [
        "\n",
        "Num proteins in ../data/b1hData/newDatabase/6varpos/F1/high/protein_seq_cut10bc_0/ATG.txt:  961\n",
        "Num proteins in ../data/b1hData/newDatabase/6varpos/F1/high/protein_seq_cut10bc_0/ATT.txt:  495\n",
        "Num proteins in ../data/b1hData/newDatabase/6varpos/F1/high/protein_seq_cut10bc_0/CAA.txt:  543\n",
        "Num proteins in ../data/b1hData/newDatabase/6varpos/F1/high/protein_seq_cut10bc_0/CAC.txt:  449\n",
        "Num proteins in ../data/b1hData/newDatabase/6varpos/F1/high/protein_seq_cut10bc_0/CAG.txt:  960\n",
        "Num proteins in ../data/b1hData/newDatabase/6varpos/F1/high/protein_seq_cut10bc_0/CAT.txt:  1184"
       ]
      },
      {
       "output_type": "stream",
       "stream": "stdout",
       "text": [
        "\n",
        "Num proteins in ../data/b1hData/newDatabase/6varpos/F1/high/protein_seq_cut10bc_0/CCA.txt:  1353\n",
        "Num proteins in ../data/b1hData/newDatabase/6varpos/F1/high/protein_seq_cut10bc_0/CCC.txt:  935\n",
        "Num proteins in ../data/b1hData/newDatabase/6varpos/F1/high/protein_seq_cut10bc_0/CCG.txt:  916\n",
        "Num proteins in ../data/b1hData/newDatabase/6varpos/F1/high/protein_seq_cut10bc_0/CCT.txt:  1088\n",
        "Num proteins in ../data/b1hData/newDatabase/6varpos/F1/high/protein_seq_cut10bc_0/CGA.txt:  1110"
       ]
      },
      {
       "output_type": "stream",
       "stream": "stdout",
       "text": [
        "\n",
        "Num proteins in ../data/b1hData/newDatabase/6varpos/F1/high/protein_seq_cut10bc_0/CGC.txt:  852\n",
        "Num proteins in ../data/b1hData/newDatabase/6varpos/F1/high/protein_seq_cut10bc_0/CGG.txt:  1326\n",
        "Num proteins in ../data/b1hData/newDatabase/6varpos/F1/high/protein_seq_cut10bc_0/CGT.txt:  1689"
       ]
      },
      {
       "output_type": "stream",
       "stream": "stdout",
       "text": [
        "\n",
        "Num proteins in ../data/b1hData/newDatabase/6varpos/F1/high/protein_seq_cut10bc_0/CTA.txt:  2237"
       ]
      },
      {
       "output_type": "stream",
       "stream": "stdout",
       "text": [
        "\n",
        "Num proteins in ../data/b1hData/newDatabase/6varpos/F1/high/protein_seq_cut10bc_0/CTC.txt:  767\n",
        "Num proteins in ../data/b1hData/newDatabase/6varpos/F1/high/protein_seq_cut10bc_0/CTG.txt:  528"
       ]
      },
      {
       "output_type": "stream",
       "stream": "stdout",
       "text": [
        "\n",
        "Num proteins in ../data/b1hData/newDatabase/6varpos/F1/high/protein_seq_cut10bc_0/CTT.txt:  1394\n",
        "Num proteins in ../data/b1hData/newDatabase/6varpos/F1/high/protein_seq_cut10bc_0/GAA.txt:  1011"
       ]
      },
      {
       "output_type": "stream",
       "stream": "stdout",
       "text": [
        "\n",
        "Num proteins in ../data/b1hData/newDatabase/6varpos/F1/high/protein_seq_cut10bc_0/GAC.txt:  7973"
       ]
      },
      {
       "output_type": "stream",
       "stream": "stdout",
       "text": [
        "\n",
        "Num proteins in ../data/b1hData/newDatabase/6varpos/F1/high/protein_seq_cut10bc_0/GAG.txt:  821\n",
        "Num proteins in ../data/b1hData/newDatabase/6varpos/F1/high/protein_seq_cut10bc_0/GAT.txt:  5242"
       ]
      },
      {
       "output_type": "stream",
       "stream": "stdout",
       "text": [
        "\n",
        "Num proteins in ../data/b1hData/newDatabase/6varpos/F1/high/protein_seq_cut10bc_0/GCA.txt:  784\n",
        "Num proteins in ../data/b1hData/newDatabase/6varpos/F1/high/protein_seq_cut10bc_0/GCC.txt:  300\n",
        "Num proteins in ../data/b1hData/newDatabase/6varpos/F1/high/protein_seq_cut10bc_0/GCG.txt:  368\n",
        "Num proteins in ../data/b1hData/newDatabase/6varpos/F1/high/protein_seq_cut10bc_0/GCT.txt:  762\n",
        "Num proteins in ../data/b1hData/newDatabase/6varpos/F1/high/protein_seq_cut10bc_0/GGA.txt:  439\n",
        "Num proteins in ../data/b1hData/newDatabase/6varpos/F1/high/protein_seq_cut10bc_0/GGC.txt:  936\n",
        "Num proteins in ../data/b1hData/newDatabase/6varpos/F1/high/protein_seq_cut10bc_0/GGG.txt:  994\n",
        "Num proteins in ../data/b1hData/newDatabase/6varpos/F1/high/protein_seq_cut10bc_0/GGT.txt:  1207"
       ]
      },
      {
       "output_type": "stream",
       "stream": "stdout",
       "text": [
        "\n",
        "Num proteins in ../data/b1hData/newDatabase/6varpos/F1/high/protein_seq_cut10bc_0/GTA.txt:  833\n",
        "Num proteins in ../data/b1hData/newDatabase/6varpos/F1/high/protein_seq_cut10bc_0/GTC.txt:  364\n",
        "Num proteins in ../data/b1hData/newDatabase/6varpos/F1/high/protein_seq_cut10bc_0/GTG.txt:  1093\n",
        "Num proteins in ../data/b1hData/newDatabase/6varpos/F1/high/protein_seq_cut10bc_0/GTT.txt:  353\n",
        "Num proteins in ../data/b1hData/newDatabase/6varpos/F1/high/protein_seq_cut10bc_0/TAA.txt:  492\n",
        "Num proteins in ../data/b1hData/newDatabase/6varpos/F1/high/protein_seq_cut10bc_0/TAC.txt:  6490"
       ]
      },
      {
       "output_type": "stream",
       "stream": "stdout",
       "text": [
        "\n",
        "Num proteins in ../data/b1hData/newDatabase/6varpos/F1/high/protein_seq_cut10bc_0/TAG.txt:  183\n",
        "Num proteins in ../data/b1hData/newDatabase/6varpos/F1/high/protein_seq_cut10bc_0/TAT.txt:  5363"
       ]
      },
      {
       "output_type": "stream",
       "stream": "stdout",
       "text": [
        "\n",
        "Num proteins in ../data/b1hData/newDatabase/6varpos/F1/high/protein_seq_cut10bc_0/TCA.txt:  1063\n",
        "Num proteins in ../data/b1hData/newDatabase/6varpos/F1/high/protein_seq_cut10bc_0/TCC.txt:  337\n",
        "Num proteins in ../data/b1hData/newDatabase/6varpos/F1/high/protein_seq_cut10bc_0/TCG.txt:  499\n",
        "Num proteins in ../data/b1hData/newDatabase/6varpos/F1/high/protein_seq_cut10bc_0/TCT.txt:  644\n",
        "Num proteins in ../data/b1hData/newDatabase/6varpos/F1/high/protein_seq_cut10bc_0/TGA.txt:  720\n",
        "Num proteins in ../data/b1hData/newDatabase/6varpos/F1/high/protein_seq_cut10bc_0/TGC.txt:  788\n",
        "Num proteins in ../data/b1hData/newDatabase/6varpos/F1/high/protein_seq_cut10bc_0/TGG.txt:  580\n",
        "Num proteins in ../data/b1hData/newDatabase/6varpos/F1/high/protein_seq_cut10bc_0/TGT.txt:  1252"
       ]
      },
      {
       "output_type": "stream",
       "stream": "stdout",
       "text": [
        "\n",
        "Num proteins in ../data/b1hData/newDatabase/6varpos/F1/high/protein_seq_cut10bc_0/TTA.txt:  942\n",
        "Num proteins in ../data/b1hData/newDatabase/6varpos/F1/high/protein_seq_cut10bc_0/TTC.txt:  939\n",
        "Num proteins in ../data/b1hData/newDatabase/6varpos/F1/high/protein_seq_cut10bc_0/TTG.txt:  779\n",
        "Num proteins in ../data/b1hData/newDatabase/6varpos/F1/high/protein_seq_cut10bc_0/TTT.txt:  675\n",
        "Total num protein/dna observations in all files:  73810\n",
        "Total num unique proteins in all files:  63433\n",
        "\n",
        "Num obs processed in csv to txt conversion:  73810"
       ]
      },
      {
       "output_type": "stream",
       "stream": "stdout",
       "text": [
        "\n",
        "\n",
        "Num proteins in ../data/b1hData/newDatabase/6varpos/F1/low/protein_seq_cut10bc_0/AAA.txt:  264\n",
        "Num proteins in ../data/b1hData/newDatabase/6varpos/F1/low/protein_seq_cut10bc_0/AAC.txt:  412\n",
        "Num proteins in ../data/b1hData/newDatabase/6varpos/F1/low/protein_seq_cut10bc_0/AAG.txt:  1407\n",
        "Num proteins in ../data/b1hData/newDatabase/6varpos/F1/low/protein_seq_cut10bc_0/AAT.txt:  395\n",
        "Num proteins in ../data/b1hData/newDatabase/6varpos/F1/low/protein_seq_cut10bc_0/ACA.txt:  888"
       ]
      },
      {
       "output_type": "stream",
       "stream": "stdout",
       "text": [
        "\n",
        "Num proteins in ../data/b1hData/newDatabase/6varpos/F1/low/protein_seq_cut10bc_0/ACC.txt:  591\n",
        "Num proteins in ../data/b1hData/newDatabase/6varpos/F1/low/protein_seq_cut10bc_0/ACG.txt:  892\n",
        "Num proteins in ../data/b1hData/newDatabase/6varpos/F1/low/protein_seq_cut10bc_0/ACT.txt:  598\n",
        "Num proteins in ../data/b1hData/newDatabase/6varpos/F1/low/protein_seq_cut10bc_0/AGA.txt:  1257\n",
        "Num proteins in ../data/b1hData/newDatabase/6varpos/F1/low/protein_seq_cut10bc_0/AGC.txt:  1246"
       ]
      },
      {
       "output_type": "stream",
       "stream": "stdout",
       "text": [
        "\n",
        "Num proteins in ../data/b1hData/newDatabase/6varpos/F1/low/protein_seq_cut10bc_0/AGG.txt:  774\n",
        "Num proteins in ../data/b1hData/newDatabase/6varpos/F1/low/protein_seq_cut10bc_0/AGT.txt:  7606"
       ]
      },
      {
       "output_type": "stream",
       "stream": "stdout",
       "text": [
        "\n",
        "Num proteins in ../data/b1hData/newDatabase/6varpos/F1/low/protein_seq_cut10bc_0/ATA.txt:  536\n",
        "Num proteins in ../data/b1hData/newDatabase/6varpos/F1/low/protein_seq_cut10bc_0/ATC.txt:  1246\n",
        "Num proteins in ../data/b1hData/newDatabase/6varpos/F1/low/protein_seq_cut10bc_0/ATG.txt:  918\n",
        "Num proteins in ../data/b1hData/newDatabase/6varpos/F1/low/protein_seq_cut10bc_0/ATT.txt:  835"
       ]
      },
      {
       "output_type": "stream",
       "stream": "stdout",
       "text": [
        "\n",
        "Num proteins in ../data/b1hData/newDatabase/6varpos/F1/low/protein_seq_cut10bc_0/CAA.txt:  887\n",
        "Num proteins in ../data/b1hData/newDatabase/6varpos/F1/low/protein_seq_cut10bc_0/CAC.txt:  663\n",
        "Num proteins in ../data/b1hData/newDatabase/6varpos/F1/low/protein_seq_cut10bc_0/CAG.txt:  1047\n",
        "Num proteins in ../data/b1hData/newDatabase/6varpos/F1/low/protein_seq_cut10bc_0/CAT.txt:  1626"
       ]
      },
      {
       "output_type": "stream",
       "stream": "stdout",
       "text": [
        "\n",
        "Num proteins in ../data/b1hData/newDatabase/6varpos/F1/low/protein_seq_cut10bc_0/CCA.txt:  549\n",
        "Num proteins in ../data/b1hData/newDatabase/6varpos/F1/low/protein_seq_cut10bc_0/CCC.txt:  1488\n",
        "Num proteins in ../data/b1hData/newDatabase/6varpos/F1/low/protein_seq_cut10bc_0/CCG.txt:  1269\n",
        "Num proteins in ../data/b1hData/newDatabase/6varpos/F1/low/protein_seq_cut10bc_0/CCT.txt:  962\n",
        "Num proteins in ../data/b1hData/newDatabase/6varpos/F1/low/protein_seq_cut10bc_0/CGA.txt:  5685"
       ]
      },
      {
       "output_type": "stream",
       "stream": "stdout",
       "text": [
        "\n",
        "Num proteins in ../data/b1hData/newDatabase/6varpos/F1/low/protein_seq_cut10bc_0/CGC.txt:  793\n",
        "Num proteins in ../data/b1hData/newDatabase/6varpos/F1/low/protein_seq_cut10bc_0/CGG.txt:  1321\n",
        "Num proteins in ../data/b1hData/newDatabase/6varpos/F1/low/protein_seq_cut10bc_0/CGT.txt:  909"
       ]
      },
      {
       "output_type": "stream",
       "stream": "stdout",
       "text": [
        "\n",
        "Num proteins in ../data/b1hData/newDatabase/6varpos/F1/low/protein_seq_cut10bc_0/CTA.txt:  997\n",
        "Num proteins in ../data/b1hData/newDatabase/6varpos/F1/low/protein_seq_cut10bc_0/CTC.txt:  5169"
       ]
      },
      {
       "output_type": "stream",
       "stream": "stdout",
       "text": [
        "\n",
        "Num proteins in ../data/b1hData/newDatabase/6varpos/F1/low/protein_seq_cut10bc_0/CTG.txt:  623\n",
        "Num proteins in ../data/b1hData/newDatabase/6varpos/F1/low/protein_seq_cut10bc_0/CTT.txt:  1179\n",
        "Num proteins in ../data/b1hData/newDatabase/6varpos/F1/low/protein_seq_cut10bc_0/GAA.txt:  925\n",
        "Num proteins in ../data/b1hData/newDatabase/6varpos/F1/low/protein_seq_cut10bc_0/GAC.txt:  5427"
       ]
      },
      {
       "output_type": "stream",
       "stream": "stdout",
       "text": [
        "\n",
        "Num proteins in ../data/b1hData/newDatabase/6varpos/F1/low/protein_seq_cut10bc_0/GAG.txt:  753\n",
        "Num proteins in ../data/b1hData/newDatabase/6varpos/F1/low/protein_seq_cut10bc_0/GAT.txt:  3136"
       ]
      },
      {
       "output_type": "stream",
       "stream": "stdout",
       "text": [
        "\n",
        "Num proteins in ../data/b1hData/newDatabase/6varpos/F1/low/protein_seq_cut10bc_0/GCA.txt:  1050\n",
        "Num proteins in ../data/b1hData/newDatabase/6varpos/F1/low/protein_seq_cut10bc_0/GCC.txt:  278\n",
        "Num proteins in ../data/b1hData/newDatabase/6varpos/F1/low/protein_seq_cut10bc_0/GCG.txt:  860\n",
        "Num proteins in ../data/b1hData/newDatabase/6varpos/F1/low/protein_seq_cut10bc_0/GCT.txt:  929\n",
        "Num proteins in ../data/b1hData/newDatabase/6varpos/F1/low/protein_seq_cut10bc_0/GGA.txt:  1269"
       ]
      },
      {
       "output_type": "stream",
       "stream": "stdout",
       "text": [
        "\n",
        "Num proteins in ../data/b1hData/newDatabase/6varpos/F1/low/protein_seq_cut10bc_0/GGC.txt:  4824"
       ]
      },
      {
       "output_type": "stream",
       "stream": "stdout",
       "text": [
        "\n",
        "Num proteins in ../data/b1hData/newDatabase/6varpos/F1/low/protein_seq_cut10bc_0/GGG.txt:  1645\n",
        "Num proteins in ../data/b1hData/newDatabase/6varpos/F1/low/protein_seq_cut10bc_0/GGT.txt:  8939"
       ]
      },
      {
       "output_type": "stream",
       "stream": "stdout",
       "text": [
        "\n",
        "Num proteins in ../data/b1hData/newDatabase/6varpos/F1/low/protein_seq_cut10bc_0/GTA.txt:  1072\n",
        "Num proteins in ../data/b1hData/newDatabase/6varpos/F1/low/protein_seq_cut10bc_0/GTC.txt:  838\n",
        "Num proteins in ../data/b1hData/newDatabase/6varpos/F1/low/protein_seq_cut10bc_0/GTG.txt:  628\n",
        "Num proteins in ../data/b1hData/newDatabase/6varpos/F1/low/protein_seq_cut10bc_0/GTT.txt:  531\n",
        "Num proteins in ../data/b1hData/newDatabase/6varpos/F1/low/protein_seq_cut10bc_0/TAA.txt:  4953"
       ]
      },
      {
       "output_type": "stream",
       "stream": "stdout",
       "text": [
        "\n",
        "Num proteins in ../data/b1hData/newDatabase/6varpos/F1/low/protein_seq_cut10bc_0/TAC.txt:  926\n",
        "Num proteins in ../data/b1hData/newDatabase/6varpos/F1/low/protein_seq_cut10bc_0/TAG.txt:  2212\n",
        "Num proteins in ../data/b1hData/newDatabase/6varpos/F1/low/protein_seq_cut10bc_0/TAT.txt:  312\n",
        "Num proteins in ../data/b1hData/newDatabase/6varpos/F1/low/protein_seq_cut10bc_0/TCA.txt:  768"
       ]
      },
      {
       "output_type": "stream",
       "stream": "stdout",
       "text": [
        "\n",
        "Num proteins in ../data/b1hData/newDatabase/6varpos/F1/low/protein_seq_cut10bc_0/TCC.txt:  1483\n",
        "Num proteins in ../data/b1hData/newDatabase/6varpos/F1/low/protein_seq_cut10bc_0/TCG.txt:  350\n",
        "Num proteins in ../data/b1hData/newDatabase/6varpos/F1/low/protein_seq_cut10bc_0/TCT.txt:  2781"
       ]
      },
      {
       "output_type": "stream",
       "stream": "stdout",
       "text": [
        "\n",
        "Num proteins in ../data/b1hData/newDatabase/6varpos/F1/low/protein_seq_cut10bc_0/TGA.txt:  3729\n",
        "Num proteins in ../data/b1hData/newDatabase/6varpos/F1/low/protein_seq_cut10bc_0/TGC.txt:  3645"
       ]
      },
      {
       "output_type": "stream",
       "stream": "stdout",
       "text": [
        "\n",
        "Num proteins in ../data/b1hData/newDatabase/6varpos/F1/low/protein_seq_cut10bc_0/TGG.txt:  633\n",
        "Num proteins in ../data/b1hData/newDatabase/6varpos/F1/low/protein_seq_cut10bc_0/TGT.txt:  5597"
       ]
      },
      {
       "output_type": "stream",
       "stream": "stdout",
       "text": [
        "\n",
        "Num proteins in ../data/b1hData/newDatabase/6varpos/F1/low/protein_seq_cut10bc_0/TTA.txt:  1242\n",
        "Num proteins in ../data/b1hData/newDatabase/6varpos/F1/low/protein_seq_cut10bc_0/TTC.txt:  3277"
       ]
      },
      {
       "output_type": "stream",
       "stream": "stdout",
       "text": [
        "\n",
        "Num proteins in ../data/b1hData/newDatabase/6varpos/F1/low/protein_seq_cut10bc_0/TTG.txt:  5672"
       ]
      },
      {
       "output_type": "stream",
       "stream": "stdout",
       "text": [
        "\n",
        "Num proteins in ../data/b1hData/newDatabase/6varpos/F1/low/protein_seq_cut10bc_0/TTT.txt:  3755\n",
        "Total num protein/dna observations in all files:  119471\n",
        "Total num unique proteins in all files:  99163\n",
        "\n",
        "Num obs processed in csv to txt conversion:  119471"
       ]
      },
      {
       "output_type": "stream",
       "stream": "stdout",
       "text": [
        "\n",
        "\n",
        "Num proteins in ../data/b1hData/newDatabase/6varpos/F2/high/protein_seq_cut10bc_0/AAA.txt:  474\n",
        "Num proteins in ../data/b1hData/newDatabase/6varpos/F2/high/protein_seq_cut10bc_0/AAC.txt:  1100\n",
        "Num proteins in ../data/b1hData/newDatabase/6varpos/F2/high/protein_seq_cut10bc_0/AAG.txt:  529\n",
        "Num proteins in ../data/b1hData/newDatabase/6varpos/F2/high/protein_seq_cut10bc_0/AAT.txt:  253\n",
        "Num proteins in ../data/b1hData/newDatabase/6varpos/F2/high/protein_seq_cut10bc_0/ACA.txt:  749\n",
        "Num proteins in ../data/b1hData/newDatabase/6varpos/F2/high/protein_seq_cut10bc_0/ACC.txt:  398\n",
        "Num proteins in ../data/b1hData/newDatabase/6varpos/F2/high/protein_seq_cut10bc_0/ACG.txt:  868\n",
        "Num proteins in ../data/b1hData/newDatabase/6varpos/F2/high/protein_seq_cut10bc_0/ACT.txt:  1527"
       ]
      },
      {
       "output_type": "stream",
       "stream": "stdout",
       "text": [
        "\n",
        "Num proteins in ../data/b1hData/newDatabase/6varpos/F2/high/protein_seq_cut10bc_0/AGA.txt:  317\n",
        "Num proteins in ../data/b1hData/newDatabase/6varpos/F2/high/protein_seq_cut10bc_0/AGC.txt:  299\n",
        "Num proteins in ../data/b1hData/newDatabase/6varpos/F2/high/protein_seq_cut10bc_0/AGG.txt:  1128\n",
        "Num proteins in ../data/b1hData/newDatabase/6varpos/F2/high/protein_seq_cut10bc_0/AGT.txt:  1276\n",
        "Num proteins in ../data/b1hData/newDatabase/6varpos/F2/high/protein_seq_cut10bc_0/ATA.txt:  283\n",
        "Num proteins in ../data/b1hData/newDatabase/6varpos/F2/high/protein_seq_cut10bc_0/ATC.txt:  667\n",
        "Num proteins in ../data/b1hData/newDatabase/6varpos/F2/high/protein_seq_cut10bc_0/ATG.txt:  477\n",
        "Num proteins in ../data/b1hData/newDatabase/6varpos/F2/high/protein_seq_cut10bc_0/ATT.txt:  734"
       ]
      },
      {
       "output_type": "stream",
       "stream": "stdout",
       "text": [
        "\n",
        "Num proteins in ../data/b1hData/newDatabase/6varpos/F2/high/protein_seq_cut10bc_0/CAA.txt:  216\n",
        "Num proteins in ../data/b1hData/newDatabase/6varpos/F2/high/protein_seq_cut10bc_0/CAC.txt:  641\n",
        "Num proteins in ../data/b1hData/newDatabase/6varpos/F2/high/protein_seq_cut10bc_0/CAG.txt:  945\n",
        "Num proteins in ../data/b1hData/newDatabase/6varpos/F2/high/protein_seq_cut10bc_0/CAT.txt:  873\n",
        "Num proteins in ../data/b1hData/newDatabase/6varpos/F2/high/protein_seq_cut10bc_0/CCA.txt:  470\n",
        "Num proteins in ../data/b1hData/newDatabase/6varpos/F2/high/protein_seq_cut10bc_0/CCC.txt:  264\n",
        "Num proteins in ../data/b1hData/newDatabase/6varpos/F2/high/protein_seq_cut10bc_0/CCG.txt:  517\n",
        "Num proteins in ../data/b1hData/newDatabase/6varpos/F2/high/protein_seq_cut10bc_0/CCT.txt:  540\n",
        "Num proteins in ../data/b1hData/newDatabase/6varpos/F2/high/protein_seq_cut10bc_0/CGA.txt:  525\n",
        "Num proteins in ../data/b1hData/newDatabase/6varpos/F2/high/protein_seq_cut10bc_0/CGC.txt:  773"
       ]
      },
      {
       "output_type": "stream",
       "stream": "stdout",
       "text": [
        "\n",
        "Num proteins in ../data/b1hData/newDatabase/6varpos/F2/high/protein_seq_cut10bc_0/CGG.txt:  2543\n",
        "Num proteins in ../data/b1hData/newDatabase/6varpos/F2/high/protein_seq_cut10bc_0/CGT.txt:  1118\n",
        "Num proteins in ../data/b1hData/newDatabase/6varpos/F2/high/protein_seq_cut10bc_0/CTA.txt:  217\n",
        "Num proteins in ../data/b1hData/newDatabase/6varpos/F2/high/protein_seq_cut10bc_0/CTC.txt:  218\n",
        "Num proteins in ../data/b1hData/newDatabase/6varpos/F2/high/protein_seq_cut10bc_0/CTG.txt:  224\n",
        "Num proteins in ../data/b1hData/newDatabase/6varpos/F2/high/protein_seq_cut10bc_0/CTT.txt:  223\n",
        "Num proteins in ../data/b1hData/newDatabase/6varpos/F2/high/protein_seq_cut10bc_0/GAA.txt:  549"
       ]
      },
      {
       "output_type": "stream",
       "stream": "stdout",
       "text": [
        "\n",
        "Num proteins in ../data/b1hData/newDatabase/6varpos/F2/high/protein_seq_cut10bc_0/GAC.txt:  1399\n",
        "Num proteins in ../data/b1hData/newDatabase/6varpos/F2/high/protein_seq_cut10bc_0/GAG.txt:  1554\n",
        "Num proteins in ../data/b1hData/newDatabase/6varpos/F2/high/protein_seq_cut10bc_0/GAT.txt:  595\n",
        "Num proteins in ../data/b1hData/newDatabase/6varpos/F2/high/protein_seq_cut10bc_0/GCA.txt:  197\n",
        "Num proteins in ../data/b1hData/newDatabase/6varpos/F2/high/protein_seq_cut10bc_0/GCC.txt:  401\n",
        "Num proteins in ../data/b1hData/newDatabase/6varpos/F2/high/protein_seq_cut10bc_0/GCG.txt:  899"
       ]
      },
      {
       "output_type": "stream",
       "stream": "stdout",
       "text": [
        "\n",
        "Num proteins in ../data/b1hData/newDatabase/6varpos/F2/high/protein_seq_cut10bc_0/GCT.txt:  1318\n",
        "Num proteins in ../data/b1hData/newDatabase/6varpos/F2/high/protein_seq_cut10bc_0/GGA.txt:  604\n",
        "Num proteins in ../data/b1hData/newDatabase/6varpos/F2/high/protein_seq_cut10bc_0/GGC.txt:  177\n",
        "Num proteins in ../data/b1hData/newDatabase/6varpos/F2/high/protein_seq_cut10bc_0/GGG.txt:  1913\n",
        "Num proteins in ../data/b1hData/newDatabase/6varpos/F2/high/protein_seq_cut10bc_0/GGT.txt:  523\n",
        "Num proteins in ../data/b1hData/newDatabase/6varpos/F2/high/protein_seq_cut10bc_0/GTA.txt:  810"
       ]
      },
      {
       "output_type": "stream",
       "stream": "stdout",
       "text": [
        "\n",
        "Num proteins in ../data/b1hData/newDatabase/6varpos/F2/high/protein_seq_cut10bc_0/GTC.txt:  481\n",
        "Num proteins in ../data/b1hData/newDatabase/6varpos/F2/high/protein_seq_cut10bc_0/GTG.txt:  1222\n",
        "Num proteins in ../data/b1hData/newDatabase/6varpos/F2/high/protein_seq_cut10bc_0/GTT.txt:  1013\n",
        "Num proteins in ../data/b1hData/newDatabase/6varpos/F2/high/protein_seq_cut10bc_0/TAA.txt:  465\n",
        "Num proteins in ../data/b1hData/newDatabase/6varpos/F2/high/protein_seq_cut10bc_0/TAC.txt:  380\n",
        "Num proteins in ../data/b1hData/newDatabase/6varpos/F2/high/protein_seq_cut10bc_0/TAG.txt:  254\n",
        "Num proteins in ../data/b1hData/newDatabase/6varpos/F2/high/protein_seq_cut10bc_0/TAT.txt:  740\n",
        "Num proteins in ../data/b1hData/newDatabase/6varpos/F2/high/protein_seq_cut10bc_0/TCA.txt:  314\n",
        "Num proteins in ../data/b1hData/newDatabase/6varpos/F2/high/protein_seq_cut10bc_0/TCC.txt:  282\n",
        "Num proteins in ../data/b1hData/newDatabase/6varpos/F2/high/protein_seq_cut10bc_0/TCG.txt:  649"
       ]
      },
      {
       "output_type": "stream",
       "stream": "stdout",
       "text": [
        "\n",
        "Num proteins in ../data/b1hData/newDatabase/6varpos/F2/high/protein_seq_cut10bc_0/TCT.txt:  645\n",
        "Num proteins in ../data/b1hData/newDatabase/6varpos/F2/high/protein_seq_cut10bc_0/TGA.txt:  116\n",
        "Num proteins in ../data/b1hData/newDatabase/6varpos/F2/high/protein_seq_cut10bc_0/TGC.txt:  69\n",
        "Num proteins in ../data/b1hData/newDatabase/6varpos/F2/high/protein_seq_cut10bc_0/TGG.txt:  2736\n",
        "Num proteins in ../data/b1hData/newDatabase/6varpos/F2/high/protein_seq_cut10bc_0/TGT.txt:  2028"
       ]
      },
      {
       "output_type": "stream",
       "stream": "stdout",
       "text": [
        "\n",
        "Num proteins in ../data/b1hData/newDatabase/6varpos/F2/high/protein_seq_cut10bc_0/TTA.txt:  85\n",
        "Num proteins in ../data/b1hData/newDatabase/6varpos/F2/high/protein_seq_cut10bc_0/TTC.txt:  123\n",
        "Num proteins in ../data/b1hData/newDatabase/6varpos/F2/high/protein_seq_cut10bc_0/TTG.txt:  350\n",
        "Num proteins in ../data/b1hData/newDatabase/6varpos/F2/high/protein_seq_cut10bc_0/TTT.txt:  136\n",
        "Total num protein/dna observations in all files:  44413\n",
        "Total num unique proteins in all files:  37599\n",
        "\n",
        "Num obs processed in csv to txt conversion:  44413"
       ]
      },
      {
       "output_type": "stream",
       "stream": "stdout",
       "text": [
        "\n",
        "\n",
        "Num proteins in ../data/b1hData/newDatabase/6varpos/F2/low/protein_seq_cut10bc_0/AAA.txt:  2256\n",
        "Num proteins in ../data/b1hData/newDatabase/6varpos/F2/low/protein_seq_cut10bc_0/AAC.txt:  2652"
       ]
      },
      {
       "output_type": "stream",
       "stream": "stdout",
       "text": [
        "\n",
        "Num proteins in ../data/b1hData/newDatabase/6varpos/F2/low/protein_seq_cut10bc_0/AAG.txt:  3544\n",
        "Num proteins in ../data/b1hData/newDatabase/6varpos/F2/low/protein_seq_cut10bc_0/AAT.txt:  2661"
       ]
      },
      {
       "output_type": "stream",
       "stream": "stdout",
       "text": [
        "\n",
        "Num proteins in ../data/b1hData/newDatabase/6varpos/F2/low/protein_seq_cut10bc_0/ACA.txt:  3005\n",
        "Num proteins in ../data/b1hData/newDatabase/6varpos/F2/low/protein_seq_cut10bc_0/ACC.txt:  1819"
       ]
      },
      {
       "output_type": "stream",
       "stream": "stdout",
       "text": [
        "\n",
        "Num proteins in ../data/b1hData/newDatabase/6varpos/F2/low/protein_seq_cut10bc_0/ACG.txt:  3339\n",
        "Num proteins in ../data/b1hData/newDatabase/6varpos/F2/low/protein_seq_cut10bc_0/ACT.txt:  4187"
       ]
      },
      {
       "output_type": "stream",
       "stream": "stdout",
       "text": [
        "\n",
        "Num proteins in ../data/b1hData/newDatabase/6varpos/F2/low/protein_seq_cut10bc_0/AGA.txt:  3410\n",
        "Num proteins in ../data/b1hData/newDatabase/6varpos/F2/low/protein_seq_cut10bc_0/AGC.txt:  1210\n",
        "Num proteins in ../data/b1hData/newDatabase/6varpos/F2/low/protein_seq_cut10bc_0/AGG.txt:  2605"
       ]
      },
      {
       "output_type": "stream",
       "stream": "stdout",
       "text": [
        "\n",
        "Num proteins in ../data/b1hData/newDatabase/6varpos/F2/low/protein_seq_cut10bc_0/AGT.txt:  4766"
       ]
      },
      {
       "output_type": "stream",
       "stream": "stdout",
       "text": [
        "\n",
        "Num proteins in ../data/b1hData/newDatabase/6varpos/F2/low/protein_seq_cut10bc_0/ATA.txt:  1422\n",
        "Num proteins in ../data/b1hData/newDatabase/6varpos/F2/low/protein_seq_cut10bc_0/ATC.txt:  1980\n",
        "Num proteins in ../data/b1hData/newDatabase/6varpos/F2/low/protein_seq_cut10bc_0/ATG.txt:  4812"
       ]
      },
      {
       "output_type": "stream",
       "stream": "stdout",
       "text": [
        "\n",
        "Num proteins in ../data/b1hData/newDatabase/6varpos/F2/low/protein_seq_cut10bc_0/ATT.txt:  4350"
       ]
      },
      {
       "output_type": "stream",
       "stream": "stdout",
       "text": [
        "\n",
        "Num proteins in ../data/b1hData/newDatabase/6varpos/F2/low/protein_seq_cut10bc_0/CAA.txt:  1181\n",
        "Num proteins in ../data/b1hData/newDatabase/6varpos/F2/low/protein_seq_cut10bc_0/CAC.txt:  2828"
       ]
      },
      {
       "output_type": "stream",
       "stream": "stdout",
       "text": [
        "\n",
        "Num proteins in ../data/b1hData/newDatabase/6varpos/F2/low/protein_seq_cut10bc_0/CAG.txt:  3437"
       ]
      },
      {
       "output_type": "stream",
       "stream": "stdout",
       "text": [
        "\n",
        "Num proteins in ../data/b1hData/newDatabase/6varpos/F2/low/protein_seq_cut10bc_0/CAT.txt:  2101\n",
        "Num proteins in ../data/b1hData/newDatabase/6varpos/F2/low/protein_seq_cut10bc_0/CCA.txt:  1915"
       ]
      },
      {
       "output_type": "stream",
       "stream": "stdout",
       "text": [
        "\n",
        "Num proteins in ../data/b1hData/newDatabase/6varpos/F2/low/protein_seq_cut10bc_0/CCC.txt:  2101\n",
        "Num proteins in ../data/b1hData/newDatabase/6varpos/F2/low/protein_seq_cut10bc_0/CCG.txt:  1823"
       ]
      },
      {
       "output_type": "stream",
       "stream": "stdout",
       "text": [
        "\n",
        "Num proteins in ../data/b1hData/newDatabase/6varpos/F2/low/protein_seq_cut10bc_0/CCT.txt:  2983\n",
        "Num proteins in ../data/b1hData/newDatabase/6varpos/F2/low/protein_seq_cut10bc_0/CGA.txt:  2930"
       ]
      },
      {
       "output_type": "stream",
       "stream": "stdout",
       "text": [
        "\n",
        "Num proteins in ../data/b1hData/newDatabase/6varpos/F2/low/protein_seq_cut10bc_0/CGC.txt:  3701"
       ]
      },
      {
       "output_type": "stream",
       "stream": "stdout",
       "text": [
        "\n",
        "Num proteins in ../data/b1hData/newDatabase/6varpos/F2/low/protein_seq_cut10bc_0/CGG.txt:  4416"
       ]
      },
      {
       "output_type": "stream",
       "stream": "stdout",
       "text": [
        "\n",
        "Num proteins in ../data/b1hData/newDatabase/6varpos/F2/low/protein_seq_cut10bc_0/CGT.txt:  2753\n",
        "Num proteins in ../data/b1hData/newDatabase/6varpos/F2/low/protein_seq_cut10bc_0/CTA.txt:  712"
       ]
      },
      {
       "output_type": "stream",
       "stream": "stdout",
       "text": [
        "\n",
        "Num proteins in ../data/b1hData/newDatabase/6varpos/F2/low/protein_seq_cut10bc_0/CTC.txt:  1539\n",
        "Num proteins in ../data/b1hData/newDatabase/6varpos/F2/low/protein_seq_cut10bc_0/CTG.txt:  2532\n",
        "Num proteins in ../data/b1hData/newDatabase/6varpos/F2/low/protein_seq_cut10bc_0/CTT.txt:  1882"
       ]
      },
      {
       "output_type": "stream",
       "stream": "stdout",
       "text": [
        "\n",
        "Num proteins in ../data/b1hData/newDatabase/6varpos/F2/low/protein_seq_cut10bc_0/GAA.txt:  1695"
       ]
      },
      {
       "output_type": "stream",
       "stream": "stdout",
       "text": [
        "\n",
        "Num proteins in ../data/b1hData/newDatabase/6varpos/F2/low/protein_seq_cut10bc_0/GAC.txt:  2092\n",
        "Num proteins in ../data/b1hData/newDatabase/6varpos/F2/low/protein_seq_cut10bc_0/GAG.txt:  3284"
       ]
      },
      {
       "output_type": "stream",
       "stream": "stdout",
       "text": [
        "\n",
        "Num proteins in ../data/b1hData/newDatabase/6varpos/F2/low/protein_seq_cut10bc_0/GAT.txt:  1619\n",
        "Num proteins in ../data/b1hData/newDatabase/6varpos/F2/low/protein_seq_cut10bc_0/GCA.txt:  1571\n",
        "Num proteins in ../data/b1hData/newDatabase/6varpos/F2/low/protein_seq_cut10bc_0/GCC.txt:  1667"
       ]
      },
      {
       "output_type": "stream",
       "stream": "stdout",
       "text": [
        "\n",
        "Num proteins in ../data/b1hData/newDatabase/6varpos/F2/low/protein_seq_cut10bc_0/GCG.txt:  3899"
       ]
      },
      {
       "output_type": "stream",
       "stream": "stdout",
       "text": [
        "\n",
        "Num proteins in ../data/b1hData/newDatabase/6varpos/F2/low/protein_seq_cut10bc_0/GCT.txt:  2814\n",
        "Num proteins in ../data/b1hData/newDatabase/6varpos/F2/low/protein_seq_cut10bc_0/GGA.txt:  3225"
       ]
      },
      {
       "output_type": "stream",
       "stream": "stdout",
       "text": [
        "\n",
        "Num proteins in ../data/b1hData/newDatabase/6varpos/F2/low/protein_seq_cut10bc_0/GGC.txt:  1960\n",
        "Num proteins in ../data/b1hData/newDatabase/6varpos/F2/low/protein_seq_cut10bc_0/GGG.txt:  2719"
       ]
      },
      {
       "output_type": "stream",
       "stream": "stdout",
       "text": [
        "\n",
        "Num proteins in ../data/b1hData/newDatabase/6varpos/F2/low/protein_seq_cut10bc_0/GGT.txt:  2813\n",
        "Num proteins in ../data/b1hData/newDatabase/6varpos/F2/low/protein_seq_cut10bc_0/GTA.txt:  5720"
       ]
      },
      {
       "output_type": "stream",
       "stream": "stdout",
       "text": [
        "\n",
        "Num proteins in ../data/b1hData/newDatabase/6varpos/F2/low/protein_seq_cut10bc_0/GTC.txt:  1885\n",
        "Num proteins in ../data/b1hData/newDatabase/6varpos/F2/low/protein_seq_cut10bc_0/GTG.txt:  4576"
       ]
      },
      {
       "output_type": "stream",
       "stream": "stdout",
       "text": [
        "\n",
        "Num proteins in ../data/b1hData/newDatabase/6varpos/F2/low/protein_seq_cut10bc_0/GTT.txt:  3401\n",
        "Num proteins in ../data/b1hData/newDatabase/6varpos/F2/low/protein_seq_cut10bc_0/TAA.txt:  2808"
       ]
      },
      {
       "output_type": "stream",
       "stream": "stdout",
       "text": [
        "\n",
        "Num proteins in ../data/b1hData/newDatabase/6varpos/F2/low/protein_seq_cut10bc_0/TAC.txt:  2303\n",
        "Num proteins in ../data/b1hData/newDatabase/6varpos/F2/low/protein_seq_cut10bc_0/TAG.txt:  1136\n",
        "Num proteins in ../data/b1hData/newDatabase/6varpos/F2/low/protein_seq_cut10bc_0/TAT.txt:  4337"
       ]
      },
      {
       "output_type": "stream",
       "stream": "stdout",
       "text": [
        "\n",
        "Num proteins in ../data/b1hData/newDatabase/6varpos/F2/low/protein_seq_cut10bc_0/TCA.txt:  1856\n",
        "Num proteins in ../data/b1hData/newDatabase/6varpos/F2/low/protein_seq_cut10bc_0/TCC.txt:  1985\n",
        "Num proteins in ../data/b1hData/newDatabase/6varpos/F2/low/protein_seq_cut10bc_0/TCG.txt:  2870"
       ]
      },
      {
       "output_type": "stream",
       "stream": "stdout",
       "text": [
        "\n",
        "Num proteins in ../data/b1hData/newDatabase/6varpos/F2/low/protein_seq_cut10bc_0/TCT.txt:  3130\n",
        "Num proteins in ../data/b1hData/newDatabase/6varpos/F2/low/protein_seq_cut10bc_0/TGA.txt:  2241"
       ]
      },
      {
       "output_type": "stream",
       "stream": "stdout",
       "text": [
        "\n",
        "Num proteins in ../data/b1hData/newDatabase/6varpos/F2/low/protein_seq_cut10bc_0/TGC.txt:  600\n",
        "Num proteins in ../data/b1hData/newDatabase/6varpos/F2/low/protein_seq_cut10bc_0/TGG.txt:  3262\n",
        "Num proteins in ../data/b1hData/newDatabase/6varpos/F2/low/protein_seq_cut10bc_0/TGT.txt:  4944"
       ]
      },
      {
       "output_type": "stream",
       "stream": "stdout",
       "text": [
        "\n",
        "Num proteins in ../data/b1hData/newDatabase/6varpos/F2/low/protein_seq_cut10bc_0/TTA.txt:  1608\n",
        "Num proteins in ../data/b1hData/newDatabase/6varpos/F2/low/protein_seq_cut10bc_0/TTC.txt:  1703\n",
        "Num proteins in ../data/b1hData/newDatabase/6varpos/F2/low/protein_seq_cut10bc_0/TTG.txt:  2453"
       ]
      },
      {
       "output_type": "stream",
       "stream": "stdout",
       "text": [
        "\n",
        "Num proteins in ../data/b1hData/newDatabase/6varpos/F2/low/protein_seq_cut10bc_0/TTT.txt:  1834\n",
        "Total num protein/dna observations in all files:  170862\n",
        "Total num unique proteins in all files:  141867\n",
        "\n",
        "Num obs processed in csv to txt conversion:  170862"
       ]
      },
      {
       "output_type": "stream",
       "stream": "stdout",
       "text": [
        "\n",
        "\n",
        "Num proteins in ../data/b1hData/newDatabase/6varpos/F3/high/protein_seq_cut10bc_0/AAA.txt:  1000\n",
        "Num proteins in ../data/b1hData/newDatabase/6varpos/F3/high/protein_seq_cut10bc_0/AAC.txt:  1098\n",
        "Num proteins in ../data/b1hData/newDatabase/6varpos/F3/high/protein_seq_cut10bc_0/AAG.txt:  1554\n",
        "Num proteins in ../data/b1hData/newDatabase/6varpos/F3/high/protein_seq_cut10bc_0/AAT.txt:  469\n",
        "Num proteins in ../data/b1hData/newDatabase/6varpos/F3/high/protein_seq_cut10bc_0/ACA.txt:  288\n",
        "Num proteins in ../data/b1hData/newDatabase/6varpos/F3/high/protein_seq_cut10bc_0/ACC.txt:  172\n",
        "Num proteins in ../data/b1hData/newDatabase/6varpos/F3/high/protein_seq_cut10bc_0/ACG.txt:  1331"
       ]
      },
      {
       "output_type": "stream",
       "stream": "stdout",
       "text": [
        "\n",
        "Num proteins in ../data/b1hData/newDatabase/6varpos/F3/high/protein_seq_cut10bc_0/ACT.txt:  857\n",
        "Num proteins in ../data/b1hData/newDatabase/6varpos/F3/high/protein_seq_cut10bc_0/AGA.txt:  64\n",
        "Num proteins in ../data/b1hData/newDatabase/6varpos/F3/high/protein_seq_cut10bc_0/AGC.txt:  2795\n",
        "Num proteins in ../data/b1hData/newDatabase/6varpos/F3/high/protein_seq_cut10bc_0/AGG.txt:  2844"
       ]
      },
      {
       "output_type": "stream",
       "stream": "stdout",
       "text": [
        "\n",
        "Num proteins in ../data/b1hData/newDatabase/6varpos/F3/high/protein_seq_cut10bc_0/AGT.txt:  1425\n",
        "Num proteins in ../data/b1hData/newDatabase/6varpos/F3/high/protein_seq_cut10bc_0/ATA.txt:  984\n",
        "Num proteins in ../data/b1hData/newDatabase/6varpos/F3/high/protein_seq_cut10bc_0/ATC.txt:  1669\n",
        "Num proteins in ../data/b1hData/newDatabase/6varpos/F3/high/protein_seq_cut10bc_0/ATG.txt:  755"
       ]
      },
      {
       "output_type": "stream",
       "stream": "stdout",
       "text": [
        "\n",
        "Num proteins in ../data/b1hData/newDatabase/6varpos/F3/high/protein_seq_cut10bc_0/ATT.txt:  1831\n",
        "Num proteins in ../data/b1hData/newDatabase/6varpos/F3/high/protein_seq_cut10bc_0/CAA.txt:  613\n",
        "Num proteins in ../data/b1hData/newDatabase/6varpos/F3/high/protein_seq_cut10bc_0/CAC.txt:  1032\n",
        "Num proteins in ../data/b1hData/newDatabase/6varpos/F3/high/protein_seq_cut10bc_0/CAG.txt:  519"
       ]
      },
      {
       "output_type": "stream",
       "stream": "stdout",
       "text": [
        "\n",
        "Num proteins in ../data/b1hData/newDatabase/6varpos/F3/high/protein_seq_cut10bc_0/CAT.txt:  623\n",
        "Num proteins in ../data/b1hData/newDatabase/6varpos/F3/high/protein_seq_cut10bc_0/CCA.txt:  525\n",
        "Num proteins in ../data/b1hData/newDatabase/6varpos/F3/high/protein_seq_cut10bc_0/CCC.txt:  581\n",
        "Num proteins in ../data/b1hData/newDatabase/6varpos/F3/high/protein_seq_cut10bc_0/CCG.txt:  856\n",
        "Num proteins in ../data/b1hData/newDatabase/6varpos/F3/high/protein_seq_cut10bc_0/CCT.txt:  760\n",
        "Num proteins in ../data/b1hData/newDatabase/6varpos/F3/high/protein_seq_cut10bc_0/CGA.txt:  377\n",
        "Num proteins in ../data/b1hData/newDatabase/6varpos/F3/high/protein_seq_cut10bc_0/CGC.txt:  1334"
       ]
      },
      {
       "output_type": "stream",
       "stream": "stdout",
       "text": [
        "\n",
        "Num proteins in ../data/b1hData/newDatabase/6varpos/F3/high/protein_seq_cut10bc_0/CGG.txt:  337\n",
        "Num proteins in ../data/b1hData/newDatabase/6varpos/F3/high/protein_seq_cut10bc_0/CGT.txt:  536\n",
        "Num proteins in ../data/b1hData/newDatabase/6varpos/F3/high/protein_seq_cut10bc_0/CTA.txt:  1197\n",
        "Num proteins in ../data/b1hData/newDatabase/6varpos/F3/high/protein_seq_cut10bc_0/CTC.txt:  670\n",
        "Num proteins in ../data/b1hData/newDatabase/6varpos/F3/high/protein_seq_cut10bc_0/CTG.txt:  692"
       ]
      },
      {
       "output_type": "stream",
       "stream": "stdout",
       "text": [
        "\n",
        "Num proteins in ../data/b1hData/newDatabase/6varpos/F3/high/protein_seq_cut10bc_0/CTT.txt:  708\n",
        "Num proteins in ../data/b1hData/newDatabase/6varpos/F3/high/protein_seq_cut10bc_0/GAA.txt:  413\n",
        "Num proteins in ../data/b1hData/newDatabase/6varpos/F3/high/protein_seq_cut10bc_0/GAC.txt:  335\n",
        "Num proteins in ../data/b1hData/newDatabase/6varpos/F3/high/protein_seq_cut10bc_0/GAG.txt:  902\n",
        "Num proteins in ../data/b1hData/newDatabase/6varpos/F3/high/protein_seq_cut10bc_0/GAT.txt:  600\n",
        "Num proteins in ../data/b1hData/newDatabase/6varpos/F3/high/protein_seq_cut10bc_0/GCA.txt:  714\n",
        "Num proteins in ../data/b1hData/newDatabase/6varpos/F3/high/protein_seq_cut10bc_0/GCC.txt:  365\n",
        "Num proteins in ../data/b1hData/newDatabase/6varpos/F3/high/protein_seq_cut10bc_0/GCG.txt:  717\n",
        "Num proteins in ../data/b1hData/newDatabase/6varpos/F3/high/protein_seq_cut10bc_0/GCT.txt:  940"
       ]
      },
      {
       "output_type": "stream",
       "stream": "stdout",
       "text": [
        "\n",
        "Num proteins in ../data/b1hData/newDatabase/6varpos/F3/high/protein_seq_cut10bc_0/GGA.txt:  783\n",
        "Num proteins in ../data/b1hData/newDatabase/6varpos/F3/high/protein_seq_cut10bc_0/GGC.txt:  1362\n",
        "Num proteins in ../data/b1hData/newDatabase/6varpos/F3/high/protein_seq_cut10bc_0/GGG.txt:  1288"
       ]
      },
      {
       "output_type": "stream",
       "stream": "stdout",
       "text": [
        "\n",
        "Num proteins in ../data/b1hData/newDatabase/6varpos/F3/high/protein_seq_cut10bc_0/GGT.txt:  1106\n",
        "Num proteins in ../data/b1hData/newDatabase/6varpos/F3/high/protein_seq_cut10bc_0/GTA.txt:  507\n",
        "Num proteins in ../data/b1hData/newDatabase/6varpos/F3/high/protein_seq_cut10bc_0/GTC.txt:  987\n",
        "Num proteins in ../data/b1hData/newDatabase/6varpos/F3/high/protein_seq_cut10bc_0/GTG.txt:  1161\n",
        "Num proteins in ../data/b1hData/newDatabase/6varpos/F3/high/protein_seq_cut10bc_0/GTT.txt:  1718\n",
        "Num proteins in ../data/b1hData/newDatabase/6varpos/F3/high/protein_seq_cut10bc_0/TAA.txt:  520"
       ]
      },
      {
       "output_type": "stream",
       "stream": "stdout",
       "text": [
        "\n",
        "Num proteins in ../data/b1hData/newDatabase/6varpos/F3/high/protein_seq_cut10bc_0/TAC.txt:  693\n",
        "Num proteins in ../data/b1hData/newDatabase/6varpos/F3/high/protein_seq_cut10bc_0/TAG.txt:  415\n",
        "Num proteins in ../data/b1hData/newDatabase/6varpos/F3/high/protein_seq_cut10bc_0/TAT.txt:  1057\n",
        "Num proteins in ../data/b1hData/newDatabase/6varpos/F3/high/protein_seq_cut10bc_0/TCA.txt:  684"
       ]
      },
      {
       "output_type": "stream",
       "stream": "stdout",
       "text": [
        "\n",
        "Num proteins in ../data/b1hData/newDatabase/6varpos/F3/high/protein_seq_cut10bc_0/TCC.txt:  401\n",
        "Num proteins in ../data/b1hData/newDatabase/6varpos/F3/high/protein_seq_cut10bc_0/TCG.txt:  553\n",
        "Num proteins in ../data/b1hData/newDatabase/6varpos/F3/high/protein_seq_cut10bc_0/TCT.txt:  775\n",
        "Num proteins in ../data/b1hData/newDatabase/6varpos/F3/high/protein_seq_cut10bc_0/TGA.txt:  1154"
       ]
      },
      {
       "output_type": "stream",
       "stream": "stdout",
       "text": [
        "\n",
        "Num proteins in ../data/b1hData/newDatabase/6varpos/F3/high/protein_seq_cut10bc_0/TGC.txt:  2157\n",
        "Num proteins in ../data/b1hData/newDatabase/6varpos/F3/high/protein_seq_cut10bc_0/TGG.txt:  409\n",
        "Num proteins in ../data/b1hData/newDatabase/6varpos/F3/high/protein_seq_cut10bc_0/TGT.txt:  4258"
       ]
      },
      {
       "output_type": "stream",
       "stream": "stdout",
       "text": [
        "\n",
        "Num proteins in ../data/b1hData/newDatabase/6varpos/F3/high/protein_seq_cut10bc_0/TTA.txt:  825\n",
        "Num proteins in ../data/b1hData/newDatabase/6varpos/F3/high/protein_seq_cut10bc_0/TTC.txt:  1122\n",
        "Num proteins in ../data/b1hData/newDatabase/6varpos/F3/high/protein_seq_cut10bc_0/TTG.txt:  865\n",
        "Num proteins in ../data/b1hData/newDatabase/6varpos/F3/high/protein_seq_cut10bc_0/TTT.txt:  611\n",
        "Total num protein/dna observations in all files:  60893\n",
        "Total num unique proteins in all files:  50130\n",
        "\n",
        "Num obs processed in csv to txt conversion:  60893"
       ]
      },
      {
       "output_type": "stream",
       "stream": "stdout",
       "text": [
        "\n",
        "\n",
        "Num proteins in ../data/b1hData/newDatabase/6varpos/F3/low/protein_seq_cut10bc_0/AAA.txt:  3096\n",
        "Num proteins in ../data/b1hData/newDatabase/6varpos/F3/low/protein_seq_cut10bc_0/AAC.txt:  2190"
       ]
      },
      {
       "output_type": "stream",
       "stream": "stdout",
       "text": [
        "\n",
        "Num proteins in ../data/b1hData/newDatabase/6varpos/F3/low/protein_seq_cut10bc_0/AAG.txt:  3490"
       ]
      },
      {
       "output_type": "stream",
       "stream": "stdout",
       "text": [
        "\n",
        "Num proteins in ../data/b1hData/newDatabase/6varpos/F3/low/protein_seq_cut10bc_0/AAT.txt:  3113"
       ]
      },
      {
       "output_type": "stream",
       "stream": "stdout",
       "text": [
        "\n",
        "Num proteins in ../data/b1hData/newDatabase/6varpos/F3/low/protein_seq_cut10bc_0/ACA.txt:  1250\n",
        "Num proteins in ../data/b1hData/newDatabase/6varpos/F3/low/protein_seq_cut10bc_0/ACC.txt:  479\n",
        "Num proteins in ../data/b1hData/newDatabase/6varpos/F3/low/protein_seq_cut10bc_0/ACG.txt:  2883"
       ]
      },
      {
       "output_type": "stream",
       "stream": "stdout",
       "text": [
        "\n",
        "Num proteins in ../data/b1hData/newDatabase/6varpos/F3/low/protein_seq_cut10bc_0/ACT.txt:  2158\n",
        "Num proteins in ../data/b1hData/newDatabase/6varpos/F3/low/protein_seq_cut10bc_0/AGA.txt:  675\n",
        "Num proteins in ../data/b1hData/newDatabase/6varpos/F3/low/protein_seq_cut10bc_0/AGC.txt:  4449"
       ]
      },
      {
       "output_type": "stream",
       "stream": "stdout",
       "text": [
        "\n",
        "Num proteins in ../data/b1hData/newDatabase/6varpos/F3/low/protein_seq_cut10bc_0/AGG.txt:  2236"
       ]
      },
      {
       "output_type": "stream",
       "stream": "stdout",
       "text": [
        "\n",
        "Num proteins in ../data/b1hData/newDatabase/6varpos/F3/low/protein_seq_cut10bc_0/AGT.txt:  3389"
       ]
      },
      {
       "output_type": "stream",
       "stream": "stdout",
       "text": [
        "\n",
        "Num proteins in ../data/b1hData/newDatabase/6varpos/F3/low/protein_seq_cut10bc_0/ATA.txt:  1618\n",
        "Num proteins in ../data/b1hData/newDatabase/6varpos/F3/low/protein_seq_cut10bc_0/ATC.txt:  2998"
       ]
      },
      {
       "output_type": "stream",
       "stream": "stdout",
       "text": [
        "\n",
        "Num proteins in ../data/b1hData/newDatabase/6varpos/F3/low/protein_seq_cut10bc_0/ATG.txt:  2329\n",
        "Num proteins in ../data/b1hData/newDatabase/6varpos/F3/low/protein_seq_cut10bc_0/ATT.txt:  2680"
       ]
      },
      {
       "output_type": "stream",
       "stream": "stdout",
       "text": [
        "\n",
        "Num proteins in ../data/b1hData/newDatabase/6varpos/F3/low/protein_seq_cut10bc_0/CAA.txt:  2497\n",
        "Num proteins in ../data/b1hData/newDatabase/6varpos/F3/low/protein_seq_cut10bc_0/CAC.txt:  2998"
       ]
      },
      {
       "output_type": "stream",
       "stream": "stdout",
       "text": [
        "\n",
        "Num proteins in ../data/b1hData/newDatabase/6varpos/F3/low/protein_seq_cut10bc_0/CAG.txt:  2380\n",
        "Num proteins in ../data/b1hData/newDatabase/6varpos/F3/low/protein_seq_cut10bc_0/CAT.txt:  2399"
       ]
      },
      {
       "output_type": "stream",
       "stream": "stdout",
       "text": [
        "\n",
        "Num proteins in ../data/b1hData/newDatabase/6varpos/F3/low/protein_seq_cut10bc_0/CCA.txt:  1759\n",
        "Num proteins in ../data/b1hData/newDatabase/6varpos/F3/low/protein_seq_cut10bc_0/CCC.txt:  1577"
       ]
      },
      {
       "output_type": "stream",
       "stream": "stdout",
       "text": [
        "\n",
        "Num proteins in ../data/b1hData/newDatabase/6varpos/F3/low/protein_seq_cut10bc_0/CCG.txt:  3421\n",
        "Num proteins in ../data/b1hData/newDatabase/6varpos/F3/low/protein_seq_cut10bc_0/CCT.txt:  1980"
       ]
      },
      {
       "output_type": "stream",
       "stream": "stdout",
       "text": [
        "\n",
        "Num proteins in ../data/b1hData/newDatabase/6varpos/F3/low/protein_seq_cut10bc_0/CGA.txt:  3892"
       ]
      },
      {
       "output_type": "stream",
       "stream": "stdout",
       "text": [
        "\n",
        "Num proteins in ../data/b1hData/newDatabase/6varpos/F3/low/protein_seq_cut10bc_0/CGC.txt:  3073"
       ]
      },
      {
       "output_type": "stream",
       "stream": "stdout",
       "text": [
        "\n",
        "Num proteins in ../data/b1hData/newDatabase/6varpos/F3/low/protein_seq_cut10bc_0/CGG.txt:  513\n",
        "Num proteins in ../data/b1hData/newDatabase/6varpos/F3/low/protein_seq_cut10bc_0/CGT.txt:  2527\n",
        "Num proteins in ../data/b1hData/newDatabase/6varpos/F3/low/protein_seq_cut10bc_0/CTA.txt:  3986"
       ]
      },
      {
       "output_type": "stream",
       "stream": "stdout",
       "text": [
        "\n",
        "Num proteins in ../data/b1hData/newDatabase/6varpos/F3/low/protein_seq_cut10bc_0/CTC.txt:  3961\n",
        "Num proteins in ../data/b1hData/newDatabase/6varpos/F3/low/protein_seq_cut10bc_0/CTG.txt:  2900"
       ]
      },
      {
       "output_type": "stream",
       "stream": "stdout",
       "text": [
        "\n",
        "Num proteins in ../data/b1hData/newDatabase/6varpos/F3/low/protein_seq_cut10bc_0/CTT.txt:  8112"
       ]
      },
      {
       "output_type": "stream",
       "stream": "stdout",
       "text": [
        "\n",
        "Num proteins in ../data/b1hData/newDatabase/6varpos/F3/low/protein_seq_cut10bc_0/GAA.txt:  1766\n",
        "Num proteins in ../data/b1hData/newDatabase/6varpos/F3/low/protein_seq_cut10bc_0/GAC.txt:  2370"
       ]
      },
      {
       "output_type": "stream",
       "stream": "stdout",
       "text": [
        "\n",
        "Num proteins in ../data/b1hData/newDatabase/6varpos/F3/low/protein_seq_cut10bc_0/GAG.txt:  2484"
       ]
      },
      {
       "output_type": "stream",
       "stream": "stdout",
       "text": [
        "\n",
        "Num proteins in ../data/b1hData/newDatabase/6varpos/F3/low/protein_seq_cut10bc_0/GAT.txt:  3290"
       ]
      },
      {
       "output_type": "stream",
       "stream": "stdout",
       "text": [
        "\n",
        "Num proteins in ../data/b1hData/newDatabase/6varpos/F3/low/protein_seq_cut10bc_0/GCA.txt:  1818\n",
        "Num proteins in ../data/b1hData/newDatabase/6varpos/F3/low/protein_seq_cut10bc_0/GCC.txt:  2482\n",
        "Num proteins in ../data/b1hData/newDatabase/6varpos/F3/low/protein_seq_cut10bc_0/GCG.txt:  2591"
       ]
      },
      {
       "output_type": "stream",
       "stream": "stdout",
       "text": [
        "\n",
        "Num proteins in ../data/b1hData/newDatabase/6varpos/F3/low/protein_seq_cut10bc_0/GCT.txt:  2650\n",
        "Num proteins in ../data/b1hData/newDatabase/6varpos/F3/low/protein_seq_cut10bc_0/GGA.txt:  1413\n",
        "Num proteins in ../data/b1hData/newDatabase/6varpos/F3/low/protein_seq_cut10bc_0/GGC.txt:  2292"
       ]
      },
      {
       "output_type": "stream",
       "stream": "stdout",
       "text": [
        "\n",
        "Num proteins in ../data/b1hData/newDatabase/6varpos/F3/low/protein_seq_cut10bc_0/GGG.txt:  2152\n",
        "Num proteins in ../data/b1hData/newDatabase/6varpos/F3/low/protein_seq_cut10bc_0/GGT.txt:  3124"
       ]
      },
      {
       "output_type": "stream",
       "stream": "stdout",
       "text": [
        "\n",
        "Num proteins in ../data/b1hData/newDatabase/6varpos/F3/low/protein_seq_cut10bc_0/GTA.txt:  1734\n",
        "Num proteins in ../data/b1hData/newDatabase/6varpos/F3/low/protein_seq_cut10bc_0/GTC.txt:  2834"
       ]
      },
      {
       "output_type": "stream",
       "stream": "stdout",
       "text": [
        "\n",
        "Num proteins in ../data/b1hData/newDatabase/6varpos/F3/low/protein_seq_cut10bc_0/GTG.txt:  2697\n",
        "Num proteins in ../data/b1hData/newDatabase/6varpos/F3/low/protein_seq_cut10bc_0/GTT.txt:  2884\n",
        "Num proteins in ../data/b1hData/newDatabase/6varpos/F3/low/protein_seq_cut10bc_0/TAA.txt:  1092"
       ]
      },
      {
       "output_type": "stream",
       "stream": "stdout",
       "text": [
        "\n",
        "Num proteins in ../data/b1hData/newDatabase/6varpos/F3/low/protein_seq_cut10bc_0/TAC.txt:  2082\n",
        "Num proteins in ../data/b1hData/newDatabase/6varpos/F3/low/protein_seq_cut10bc_0/TAG.txt:  2004\n",
        "Num proteins in ../data/b1hData/newDatabase/6varpos/F3/low/protein_seq_cut10bc_0/TAT.txt:  3434"
       ]
      },
      {
       "output_type": "stream",
       "stream": "stdout",
       "text": [
        "\n",
        "Num proteins in ../data/b1hData/newDatabase/6varpos/F3/low/protein_seq_cut10bc_0/TCA.txt:  594\n",
        "Num proteins in ../data/b1hData/newDatabase/6varpos/F3/low/protein_seq_cut10bc_0/TCC.txt:  1078\n",
        "Num proteins in ../data/b1hData/newDatabase/6varpos/F3/low/protein_seq_cut10bc_0/TCG.txt:  1542\n",
        "Num proteins in ../data/b1hData/newDatabase/6varpos/F3/low/protein_seq_cut10bc_0/TCT.txt:  5045"
       ]
      },
      {
       "output_type": "stream",
       "stream": "stdout",
       "text": [
        "\n",
        "Num proteins in ../data/b1hData/newDatabase/6varpos/F3/low/protein_seq_cut10bc_0/TGA.txt:  3472\n",
        "Num proteins in ../data/b1hData/newDatabase/6varpos/F3/low/protein_seq_cut10bc_0/TGC.txt:  4260"
       ]
      },
      {
       "output_type": "stream",
       "stream": "stdout",
       "text": [
        "\n",
        "Num proteins in ../data/b1hData/newDatabase/6varpos/F3/low/protein_seq_cut10bc_0/TGG.txt:  371\n",
        "Num proteins in ../data/b1hData/newDatabase/6varpos/F3/low/protein_seq_cut10bc_0/TGT.txt:  1084\n",
        "Num proteins in ../data/b1hData/newDatabase/6varpos/F3/low/protein_seq_cut10bc_0/TTA.txt:  5889"
       ]
      },
      {
       "output_type": "stream",
       "stream": "stdout",
       "text": [
        "\n",
        "Num proteins in ../data/b1hData/newDatabase/6varpos/F3/low/protein_seq_cut10bc_0/TTC.txt:  5922"
       ]
      },
      {
       "output_type": "stream",
       "stream": "stdout",
       "text": [
        "\n",
        "Num proteins in ../data/b1hData/newDatabase/6varpos/F3/low/protein_seq_cut10bc_0/TTG.txt:  2833\n",
        "Num proteins in ../data/b1hData/newDatabase/6varpos/F3/low/protein_seq_cut10bc_0/TTT.txt:  2950"
       ]
      },
      {
       "output_type": "stream",
       "stream": "stdout",
       "text": [
        "\n",
        "Total num protein/dna observations in all files:  169241\n",
        "Total num unique proteins in all files:  130536\n",
        "\n",
        "Num obs processed in csv to txt conversion:  169241"
       ]
      },
      {
       "output_type": "stream",
       "stream": "stdout",
       "text": [
        "\n",
        "\n"
       ]
      }
     ],
     "prompt_number": 2
    },
    {
     "cell_type": "code",
     "collapsed": false,
     "input": [
      "prefix = '../data/b1hData/newDatabase/5varpos/'\n",
      "numVarPos = 5\n",
      "fings = ['F2']\n",
      "strins = ['high', 'low']\n",
      "for fing in fings:\n",
      "    for strin in strins:\n",
      "        path = prefix + fing + '/' + strin + '/' + 'protein_seq_cut10bc_0/'\n",
      "        targetFiles2singleCSV(path, numVarPos, '.txt')\n",
      "        csv2txtFile(path, numVarPos)\n",
      "        print"
     ],
     "language": "python",
     "metadata": {},
     "outputs": [
      {
       "output_type": "stream",
       "stream": "stdout",
       "text": [
        "Invalid File Name: AAA.txt\n",
        "Invalid File Name: AAC.txt\n",
        "Num proteins in ../data/b1hData/newDatabase/5varpos/F2/high/protein_seq_cut10bc_0/AAG.txt:  651\n",
        "Invalid File Name: AAT.txt\n",
        "Invalid File Name: ACA.txt\n",
        "Invalid File Name: ACC.txt\n",
        "Invalid File Name: ACG.txt\n",
        "Invalid File Name: ACT.txt\n",
        "Invalid File Name: AGA.txt\n",
        "Invalid File Name: AGC.txt\n",
        "Invalid File Name: AGG.txt\n",
        "Invalid File Name: AGT.txt\n",
        "Invalid File Name: ATA.txt\n",
        "Invalid File Name: ATC.txt\n",
        "Invalid File Name: ATG.txt\n",
        "Invalid File Name: ATT.txt\n",
        "Num proteins in ../data/b1hData/newDatabase/5varpos/F2/high/protein_seq_cut10bc_0/CAA.txt:  322\n",
        "Num proteins in ../data/b1hData/newDatabase/5varpos/F2/high/protein_seq_cut10bc_0/CAC.txt:  420\n",
        "Num proteins in ../data/b1hData/newDatabase/5varpos/F2/high/protein_seq_cut10bc_0/CAG.txt:  414\n",
        "Num proteins in ../data/b1hData/newDatabase/5varpos/F2/high/protein_seq_cut10bc_0/CAT.txt:  409\n",
        "Invalid File Name: CCA.txt\n",
        "Invalid File Name: CCC.txt\n",
        "Invalid File Name: CCG.txt\n",
        "Invalid File Name: CCT.txt\n",
        "Invalid File Name: CGA.txt\n",
        "Invalid File Name: CGC.txt\n",
        "Invalid File Name: CGG.txt\n",
        "Invalid File Name: CGT.txt\n",
        "Invalid File Name: CTA.txt\n",
        "Invalid File Name: CTC.txt\n",
        "Invalid File Name: CTG.txt\n",
        "Invalid File Name: CTT.txt\n",
        "Invalid File Name: GAA.txt\n",
        "Invalid File Name: GAC.txt\n",
        "Num proteins in ../data/b1hData/newDatabase/5varpos/F2/high/protein_seq_cut10bc_0/GAG.txt:  1151\n",
        "Invalid File Name: GAT.txt\n",
        "Invalid File Name: GCA.txt\n",
        "Invalid File Name: GCC.txt\n",
        "Invalid File Name: GCG.txt\n",
        "Invalid File Name: GCT.txt\n",
        "Num proteins in ../data/b1hData/newDatabase/5varpos/F2/high/protein_seq_cut10bc_0/GGA.txt:  483\n",
        "Invalid File Name: GGC.txt\n",
        "Num proteins in ../data/b1hData/newDatabase/5varpos/F2/high/protein_seq_cut10bc_0/GGG.txt:  732\n",
        "Invalid File Name: GGT.txt\n",
        "Invalid File Name: GTA.txt\n",
        "Invalid File Name: GTC.txt\n",
        "Invalid File Name: GTG.txt\n",
        "Invalid File Name: GTT.txt\n",
        "Invalid File Name: TAA.txt\n",
        "Invalid File Name: TAC.txt\n",
        "Num proteins in ../data/b1hData/newDatabase/5varpos/F2/high/protein_seq_cut10bc_0/TAG.txt:  396"
       ]
      },
      {
       "output_type": "stream",
       "stream": "stdout",
       "text": [
        "\n",
        "Invalid File Name: TAT.txt\n",
        "Invalid File Name: TCA.txt\n",
        "Invalid File Name: TCC.txt\n",
        "Invalid File Name: TCG.txt\n",
        "Invalid File Name: TCT.txt\n",
        "Invalid File Name: TGA.txt\n",
        "Invalid File Name: TGC.txt\n",
        "Invalid File Name: TGG.txt\n",
        "Invalid File Name: TGT.txt\n",
        "Invalid File Name: TTA.txt\n",
        "Invalid File Name: TTC.txt\n",
        "Invalid File Name: TTG.txt\n",
        "Invalid File Name: TTT.txt\n",
        "Total num protein/dna observations in all files:  4978\n",
        "Total num unique proteins in all files:  3552\n",
        "\n",
        "Num obs processed in csv to txt conversion:  4978"
       ]
      },
      {
       "output_type": "stream",
       "stream": "stdout",
       "text": [
        "\n",
        "\n",
        "Invalid File Name: AAA.txt\n",
        "Invalid File Name: AAC.txt\n",
        "Num proteins in ../data/b1hData/newDatabase/5varpos/F2/low/protein_seq_cut10bc_0/AAG.txt:  1920\n",
        "Invalid File Name: AAT.txt\n",
        "Invalid File Name: ACA.txt\n",
        "Invalid File Name: ACC.txt\n",
        "Invalid File Name: ACG.txt\n",
        "Invalid File Name: ACT.txt\n",
        "Invalid File Name: AGA.txt\n",
        "Invalid File Name: AGC.txt\n",
        "Invalid File Name: AGG.txt\n",
        "Invalid File Name: AGT.txt\n",
        "Invalid File Name: ATA.txt\n",
        "Invalid File Name: ATC.txt\n",
        "Invalid File Name: ATG.txt\n",
        "Invalid File Name: ATT.txt\n",
        "Num proteins in ../data/b1hData/newDatabase/5varpos/F2/low/protein_seq_cut10bc_0/CAA.txt:  1691\n",
        "Num proteins in ../data/b1hData/newDatabase/5varpos/F2/low/protein_seq_cut10bc_0/CAC.txt:  1760\n",
        "Num proteins in ../data/b1hData/newDatabase/5varpos/F2/low/protein_seq_cut10bc_0/CAG.txt:  2326"
       ]
      },
      {
       "output_type": "stream",
       "stream": "stdout",
       "text": [
        "\n",
        "Num proteins in ../data/b1hData/newDatabase/5varpos/F2/low/protein_seq_cut10bc_0/CAT.txt:  1412\n",
        "Invalid File Name: CCA.txt\n",
        "Invalid File Name: CCC.txt\n",
        "Invalid File Name: CCG.txt\n",
        "Invalid File Name: CCT.txt\n",
        "Invalid File Name: CGA.txt\n",
        "Invalid File Name: CGC.txt\n",
        "Invalid File Name: CGG.txt\n",
        "Invalid File Name: CGT.txt\n",
        "Invalid File Name: CTA.txt\n",
        "Invalid File Name: CTC.txt\n",
        "Invalid File Name: CTG.txt\n",
        "Invalid File Name: CTT.txt\n",
        "Invalid File Name: GAA.txt\n",
        "Invalid File Name: GAC.txt\n",
        "Num proteins in ../data/b1hData/newDatabase/5varpos/F2/low/protein_seq_cut10bc_0/GAG.txt:  1602\n",
        "Invalid File Name: GAT.txt\n",
        "Invalid File Name: GCA.txt\n",
        "Invalid File Name: GCC.txt\n",
        "Invalid File Name: GCG.txt\n",
        "Invalid File Name: GCT.txt\n",
        "Num proteins in ../data/b1hData/newDatabase/5varpos/F2/low/protein_seq_cut10bc_0/GGA.txt:  1041\n",
        "Invalid File Name: GGC.txt\n",
        "Num proteins in ../data/b1hData/newDatabase/5varpos/F2/low/protein_seq_cut10bc_0/GGG.txt:  632\n",
        "Invalid File Name: GGT.txt\n",
        "Invalid File Name: GTA.txt\n",
        "Invalid File Name: GTC.txt\n",
        "Invalid File Name: GTG.txt\n",
        "Invalid File Name: GTT.txt\n",
        "Invalid File Name: TAA.txt\n",
        "Invalid File Name: TAC.txt\n",
        "Num proteins in ../data/b1hData/newDatabase/5varpos/F2/low/protein_seq_cut10bc_0/TAG.txt:  1873"
       ]
      },
      {
       "output_type": "stream",
       "stream": "stdout",
       "text": [
        "\n",
        "Invalid File Name: TAT.txt\n",
        "Invalid File Name: TCA.txt\n",
        "Invalid File Name: TCC.txt\n",
        "Invalid File Name: TCG.txt\n",
        "Invalid File Name: TCT.txt\n",
        "Invalid File Name: TGA.txt\n",
        "Invalid File Name: TGC.txt\n",
        "Invalid File Name: TGG.txt\n",
        "Invalid File Name: TGT.txt\n",
        "Invalid File Name: TTA.txt\n",
        "Invalid File Name: TTC.txt\n",
        "Invalid File Name: TTG.txt\n",
        "Invalid File Name: TTT.txt\n",
        "Total num protein/dna observations in all files:  14257\n",
        "Total num unique proteins in all files:  11612\n",
        "\n",
        "Num obs processed in csv to txt conversion:  14257"
       ]
      },
      {
       "output_type": "stream",
       "stream": "stdout",
       "text": [
        "\n",
        "\n"
       ]
      }
     ],
     "prompt_number": 3
    }
   ],
   "metadata": {}
  }
 ]
}