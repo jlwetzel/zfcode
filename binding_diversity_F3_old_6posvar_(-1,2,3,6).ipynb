{
 "metadata": {
  "name": "binding_diversity_F3_old_6posvar_(-1,2,3,6)"
 },
 "nbformat": 3,
 "nbformat_minor": 0,
 "worksheets": [
  {
   "cells": [
    {
     "cell_type": "code",
     "collapsed": false,
     "input": [
      "from gatherBindStats import getProtDict, getUniqueShilpaZFs\n",
      "b1hpos = [0, 2, 3, 5]\n",
      "shilpaPos = [0, 2, 3, 6]\n",
      "theorSize = 20**4"
     ],
     "language": "python",
     "metadata": {},
     "outputs": [],
     "prompt_number": 1
    },
    {
     "cell_type": "heading",
     "level": 2,
     "metadata": {},
     "source": [
      "F3 Data (No Filter)"
     ]
    },
    {
     "cell_type": "heading",
     "level": 3,
     "metadata": {},
     "source": [
      "Low Stringency"
     ]
    },
    {
     "cell_type": "code",
     "collapsed": false,
     "input": [
      "path = \"../data/b1hData/oldData/F3/unfiltered/low/all.txt\"\n",
      "b1hZFs = getProtDict(path, b1hpos)\n",
      "b1hZFs = set(b1hZFs.keys())\n",
      "print len(b1hZFs)\n",
      "print len(b1hZFs)/float(theorSize)"
     ],
     "language": "python",
     "metadata": {},
     "outputs": [
      {
       "output_type": "stream",
       "stream": "stdout",
       "text": [
        "149227\n",
        "0.93266875\n"
       ]
      }
     ],
     "prompt_number": 2
    },
    {
     "cell_type": "heading",
     "level": 3,
     "metadata": {},
     "source": [
      "High Stringency"
     ]
    },
    {
     "cell_type": "code",
     "collapsed": false,
     "input": [
      "path = \"../data/b1hData/oldData/F3/unfiltered/high/all.txt\"\n",
      "b1hZFs = getProtDict(path, b1hpos)\n",
      "b1hZFs = set(b1hZFs.keys())\n",
      "print len(b1hZFs)\n",
      "print len(b1hZFs)/float(theorSize)"
     ],
     "language": "python",
     "metadata": {},
     "outputs": [
      {
       "output_type": "stream",
       "stream": "stdout",
       "text": [
        "157214\n",
        "0.9825875\n"
       ]
      }
     ],
     "prompt_number": 3
    },
    {
     "cell_type": "heading",
     "level": 2,
     "metadata": {},
     "source": [
      "F3 Data w/ 0.25 Entropy Filter"
     ]
    },
    {
     "cell_type": "heading",
     "level": 3,
     "metadata": {},
     "source": [
      "Low Stringency"
     ]
    },
    {
     "cell_type": "code",
     "collapsed": false,
     "input": [
      "path = \"../data/b1hData/oldData/F3/threshold025/low/all.txt\"\n",
      "b1hZFs = getProtDict(path, b1hpos)\n",
      "b1hZFs = set(b1hZFs.keys())\n",
      "print len(b1hZFs)\n",
      "print len(b1hZFs)/float(theorSize)"
     ],
     "language": "python",
     "metadata": {},
     "outputs": [
      {
       "output_type": "stream",
       "stream": "stdout",
       "text": [
        "20946\n",
        "0.1309125\n"
       ]
      }
     ],
     "prompt_number": 4
    },
    {
     "cell_type": "heading",
     "level": 4,
     "metadata": {},
     "source": [
      "vs. D. mel Hmmer ZFs (NOGAP && no_C2H2_ZF_4)"
     ]
    },
    {
     "cell_type": "code",
     "collapsed": false,
     "input": [
      "path = \"../data/shilpa/Drosophila_melanogaster_ZF.fulldom\"\n",
      "flyZFs = getUniqueShilpaZFs(path, shilpaPos)\n",
      "print len(flyZFs)  # no. of unique \n",
      "print len(b1hZFs & flyZFs)  # intersection size\n",
      "print len(b1hZFs & flyZFs)/float(len(flyZFs))"
     ],
     "language": "python",
     "metadata": {},
     "outputs": [
      {
       "output_type": "stream",
       "stream": "stdout",
       "text": [
        "1595\n",
        "529\n",
        "0.331661442006\n"
       ]
      }
     ],
     "prompt_number": 5
    },
    {
     "cell_type": "heading",
     "level": 4,
     "metadata": {},
     "source": [
      "vs. H. sap Hmmer ZFs (NOGAP && no_C2H2_ZF_4)"
     ]
    },
    {
     "cell_type": "code",
     "collapsed": false,
     "input": [
      "path = \"../data/shilpa/Homo_sapiens_ZF.fulldom\"\n",
      "humanZFs = getUniqueShilpaZFs(path, shilpaPos)\n",
      "print len(humanZFs)  # no. of unique \n",
      "print len(b1hZFs & humanZFs)  # intersection size\n",
      "print len(b1hZFs & humanZFs)/float(len(humanZFs))"
     ],
     "language": "python",
     "metadata": {},
     "outputs": [
      {
       "output_type": "stream",
       "stream": "stdout",
       "text": [
        "3640\n",
        "1449\n",
        "0.398076923077\n"
       ]
      }
     ],
     "prompt_number": 6
    },
    {
     "cell_type": "heading",
     "level": 3,
     "metadata": {},
     "source": [
      "High Stringency"
     ]
    },
    {
     "cell_type": "code",
     "collapsed": false,
     "input": [
      "path = \"../data/b1hData/oldData/F3/threshold025/high/all.txt\"\n",
      "b1hZFs = getProtDict(path, b1hpos)\n",
      "b1hZFs = set(b1hZFs.keys())\n",
      "print len(b1hZFs)\n",
      "print len(b1hZFs)/float(theorSize)"
     ],
     "language": "python",
     "metadata": {},
     "outputs": [
      {
       "output_type": "stream",
       "stream": "stdout",
       "text": [
        "19510\n",
        "0.1219375\n"
       ]
      }
     ],
     "prompt_number": 7
    },
    {
     "cell_type": "heading",
     "level": 4,
     "metadata": {},
     "source": [
      "vs. D. mel Hmmer ZFs (NOGAP && no_C2H2_ZF_4)"
     ]
    },
    {
     "cell_type": "code",
     "collapsed": false,
     "input": [
      "path = \"../data/shilpa/Drosophila_melanogaster_ZF.fulldom\"\n",
      "flyZFs = getUniqueShilpaZFs(path, shilpaPos)\n",
      "print len(flyZFs)  # no. of unique\n",
      "print len(b1hZFs & flyZFs)  # intersection size\n",
      "print len(b1hZFs & flyZFs)/float(len(flyZFs))"
     ],
     "language": "python",
     "metadata": {},
     "outputs": [
      {
       "output_type": "stream",
       "stream": "stdout",
       "text": [
        "1595\n",
        "383\n",
        "0.24012539185\n"
       ]
      }
     ],
     "prompt_number": 8
    },
    {
     "cell_type": "heading",
     "level": 4,
     "metadata": {},
     "source": [
      "vs. H. sap Hmmer ZFs (NOGAP && no_C2H2_ZF_4)"
     ]
    },
    {
     "cell_type": "code",
     "collapsed": false,
     "input": [
      "path = \"../data/shilpa/Homo_sapiens_ZF.fulldom\"\n",
      "humanZFs = getUniqueShilpaZFs(path, shilpaPos)\n",
      "print len(humanZFs)  # no. of unique \n",
      "b1hZFs = set(b1hZFs)\n",
      "print len(b1hZFs & humanZFs)  # intersection size\n",
      "print len(b1hZFs & humanZFs)/float(len(humanZFs))"
     ],
     "language": "python",
     "metadata": {},
     "outputs": [
      {
       "output_type": "stream",
       "stream": "stdout",
       "text": [
        "3640\n",
        "1000\n",
        "0.274725274725\n"
       ]
      }
     ],
     "prompt_number": 9
    },
    {
     "cell_type": "code",
     "collapsed": false,
     "input": [],
     "language": "python",
     "metadata": {},
     "outputs": [],
     "prompt_number": 9
    }
   ],
   "metadata": {}
  }
 ]
}