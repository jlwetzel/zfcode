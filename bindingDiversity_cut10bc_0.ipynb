{
 "metadata": {
  "name": "bindingDiversity_cut10bc_0"
 },
 "nbformat": 3,
 "nbformat_minor": 0,
 "worksheets": [
  {
   "cells": [
    {
     "cell_type": "code",
     "collapsed": false,
     "input": [
      "from gatherBindStats import *\n",
      "from scipy import stats\n",
      "maxSize6 = 20**6\n",
      "maxSize4 = 20**4"
     ],
     "language": "python",
     "metadata": {},
     "outputs": [],
     "prompt_number": 1
    },
    {
     "cell_type": "code",
     "collapsed": false,
     "input": [
      "# Get the protein sets from the binding data.\n",
      "pathPref = '../data/b1hdata/newDatabase/6varpos'\n",
      "proteinDir = 'protein_seq_cut10bc_0'\n",
      "fings = ['F1', 'F2', 'F3']\n",
      "strins = ['high', 'low']\n",
      "bindingSets6 = {}\n",
      "bindingSets4 = {}\n",
      "for f in fings:\n",
      "    for s in strins:\n",
      "        bindingSets6[f,s] = getProtSet('/'.join([pathPref,f,s,proteinDir,'all.txt']), \n",
      "                                       range(6))\n",
      "        bindingSets4[f,s] = getProtSet('/'.join([pathPref,f,s,proteinDir,'all.txt']),\n",
      "                                       [0,2,3,5])"
     ],
     "language": "python",
     "metadata": {},
     "outputs": [],
     "prompt_number": 2
    },
    {
     "cell_type": "heading",
     "level": 2,
     "metadata": {},
     "source": [
      "6 Var Positions"
     ]
    },
    {
     "cell_type": "code",
     "collapsed": false,
     "input": [
      "printBindingSetStats(fings, strins, bindingSets6, maxSize6)"
     ],
     "language": "python",
     "metadata": {},
     "outputs": [
      {
       "output_type": "stream",
       "stream": "stdout",
       "text": [
        "Max Size for 6 positions: 64000000\n",
        "################################################################\n",
        "Size of F1 high: 63433\n",
        "Size of F1 low: 99163\n",
        "Size of F2 high: 37598\n",
        "Size of F2 low: 141867\n",
        "Size of F3 high: 50129\n",
        "Size of F3 low: 130536\n",
        "\n",
        "Is high a subset of low? (|High - Low|/|High|)\n",
        "################################################################\n",
        "F1: 0.805\n",
        "F2: 0.452"
       ]
      },
      {
       "output_type": "stream",
       "stream": "stdout",
       "text": [
        "\n",
        "F3: 0.595\n",
        "\n",
        "Combining Sets\n",
        "################################################################\n",
        "F1 F2 Intersection (high): 1198\n",
        "F1 F2 Union (high)       : 99833\n",
        "F1 F2 Jaccard (high)     : 0.012\n",
        "\n",
        "F1 F2 Intersection (low): 4510"
       ]
      },
      {
       "output_type": "stream",
       "stream": "stdout",
       "text": [
        "\n",
        "F1 F2 Union (low)       : 236520\n",
        "F1 F2 Jaccard (low)     : 0.019\n",
        "\n",
        "F1 F3 Intersection (high): 415"
       ]
      },
      {
       "output_type": "stream",
       "stream": "stdout",
       "text": [
        "\n",
        "F1 F3 Union (high)       : 113147\n",
        "F1 F3 Jaccard (high)     : 0.004\n",
        "\n",
        "F1 F3 Intersection (low): 1912"
       ]
      },
      {
       "output_type": "stream",
       "stream": "stdout",
       "text": [
        "\n",
        "F1 F3 Union (low)       : 227787\n",
        "F1 F3 Jaccard (low)     : 0.008\n",
        "\n",
        "F2 F3 Intersection (high): 3221\n",
        "F2 F3 Union (high)       : 84506\n",
        "F2 F3 Jaccard (high)     : 0.038\n",
        "\n",
        "F2 F3 Intersection (low): 12968"
       ]
      },
      {
       "output_type": "stream",
       "stream": "stdout",
       "text": [
        "\n",
        "F2 F3 Union (low)       : 259435\n",
        "F2 F3 Jaccard (low)     : 0.050\n",
        "\n",
        "All Intersection (high): 109"
       ]
      },
      {
       "output_type": "stream",
       "stream": "stdout",
       "text": [
        "\n",
        "All Union (high): 146435\n",
        "All Intersection (low): 783"
       ]
      },
      {
       "output_type": "stream",
       "stream": "stdout",
       "text": [
        "\n",
        "All Union (low): 352959\n"
       ]
      }
     ],
     "prompt_number": 3
    },
    {
     "cell_type": "heading",
     "level": 2,
     "metadata": {},
     "source": [
      "4 Var Pos (-1, 2, 3, 6) -- Canonical"
     ]
    },
    {
     "cell_type": "code",
     "collapsed": false,
     "input": [
      "printBindingSetStats(fings, strins, bindingSets4, maxSize4)"
     ],
     "language": "python",
     "metadata": {},
     "outputs": [
      {
       "output_type": "stream",
       "stream": "stdout",
       "text": [
        "Max Size for 4 positions: 160000\n",
        "################################################################\n",
        "Size of F1 high: 36703\n",
        "Size of F1 low: 50645\n",
        "Size of F2 high: 14505\n",
        "Size of F2 low: 50765\n",
        "Size of F3 high: 15351\n",
        "Size of F3 low: 37036\n",
        "\n",
        "Is high a subset of low? (|High - Low|/|High|)\n",
        "################################################################\n",
        "F1: 0.443\n",
        "F2: 0.312\n",
        "F3: 0.322\n",
        "\n",
        "Combining Sets\n",
        "################################################################\n",
        "F1 F2 Intersection (high): 6603\n",
        "F1 F2 Union (high)       : 44605\n",
        "F1 F2 Jaccard (high)     : 0.148\n",
        "\n",
        "F1 F2 Intersection (low): 24586"
       ]
      },
      {
       "output_type": "stream",
       "stream": "stdout",
       "text": [
        "\n",
        "F1 F2 Union (low)       : 76824\n",
        "F1 F2 Jaccard (low)     : 0.320\n",
        "\n",
        "F1 F3 Intersection (high): 6723\n",
        "F1 F3 Union (high)       : 45331\n",
        "F1 F3 Jaccard (high)     : 0.148\n",
        "\n",
        "F1 F3 Intersection (low): 18496"
       ]
      },
      {
       "output_type": "stream",
       "stream": "stdout",
       "text": [
        "\n",
        "F1 F3 Union (low)       : 69185\n",
        "F1 F3 Jaccard (low)     : 0.267\n",
        "\n",
        "F2 F3 Intersection (high): 3184\n",
        "F2 F3 Union (high)       : 26672\n",
        "F2 F3 Jaccard (high)     : 0.119\n",
        "\n",
        "F2 F3 Intersection (low): 18674"
       ]
      },
      {
       "output_type": "stream",
       "stream": "stdout",
       "text": [
        "\n",
        "F2 F3 Union (low)       : 69127\n",
        "F2 F3 Jaccard (low)     : 0.270\n",
        "\n",
        "All Intersection (high): 1940"
       ]
      },
      {
       "output_type": "stream",
       "stream": "stdout",
       "text": [
        "\n",
        "All Union (high): 51989\n",
        "All Intersection (low): 11633"
       ]
      },
      {
       "output_type": "stream",
       "stream": "stdout",
       "text": [
        "\n",
        "All Union (low): 88323\n"
       ]
      }
     ],
     "prompt_number": 4
    },
    {
     "cell_type": "heading",
     "level": 2,
     "metadata": {},
     "source": [
      "Overlap with Human and Fly ZFs (ala HMMer + REGEX) -- Canonical Positions"
     ]
    },
    {
     "cell_type": "code",
     "collapsed": false,
     "input": [
      "dmelSet = getUniqueShilpaZFs('../data/shilpa/Drosophila_melanogaster_ZF.fulldom', [0, 2, 3, 6])\n",
      "hsapSet = getUniqueShilpaZFs('../data/shilpa/Homo_sapiens_ZF.fulldom', [0, 2, 3, 6])\n",
      "\n",
      "compareToNatural(bindingSets4, hsapSet, 'Human', fings, strins)\n",
      "compareToNatural(bindingSets4, dmelSet, 'Fly', fings, strins)"
     ],
     "language": "python",
     "metadata": {},
     "outputs": [
      {
       "output_type": "stream",
       "stream": "stdout",
       "text": [
        "\n",
        "Fraction of Human ZFs (-1,2,3,6) Captured: (3640 possible)\n",
        "################################################################\n",
        "F1 high: 0.401\n",
        "F1 low: 0.540\n",
        "F2 high: 0.206\n",
        "F2 low: 0.556\n",
        "F3 high: 0.321\n",
        "F3 low: 0.551\n",
        "\n",
        "F1 F2 Intersection (high): 0.131\n",
        "F1 F2 Union (high)       : 0.476\n",
        "F1 F2 Intersection (low): 0.368"
       ]
      },
      {
       "output_type": "stream",
       "stream": "stdout",
       "text": [
        "\n",
        "F1 F2 Union (low)       : 0.728\n",
        "F1 F3 Intersection (high): 0.194\n",
        "F1 F3 Union (high)       : 0.528\n",
        "F1 F3 Intersection (low): 0.360\n",
        "F1 F3 Union (low)       : 0.731\n",
        "F2 F3 Intersection (high): 0.109"
       ]
      },
      {
       "output_type": "stream",
       "stream": "stdout",
       "text": [
        "\n",
        "F2 F3 Union (high)       : 0.418\n",
        "F2 F3 Intersection (low): 0.381\n",
        "F2 F3 Union (low)       : 0.726\n",
        "\n",
        "All Intersection (high): 0.080"
       ]
      },
      {
       "output_type": "stream",
       "stream": "stdout",
       "text": [
        "\n",
        "All Union (high): 0.574\n",
        "All Intersection (low): 0.275"
       ]
      },
      {
       "output_type": "stream",
       "stream": "stdout",
       "text": [
        "\n",
        "All Union (low): 0.813\n",
        "\n",
        "Fraction of Fly ZFs (-1,2,3,6) Captured: (1595 possible)\n",
        "################################################################\n",
        "F1 high: 0.361\n",
        "F1 low: 0.530\n",
        "F2 high: 0.188\n",
        "F2 low: 0.512\n",
        "F3 high: 0.287\n",
        "F3 low: 0.530\n",
        "\n",
        "F1 F2 Intersection (high): 0.118\n",
        "F1 F2 Union (high)       : 0.430\n",
        "F1 F2 Intersection (low): 0.337"
       ]
      },
      {
       "output_type": "stream",
       "stream": "stdout",
       "text": [
        "\n",
        "F1 F2 Union (low)       : 0.705\n",
        "F1 F3 Intersection (high): 0.167\n",
        "F1 F3 Union (high)       : 0.480\n",
        "F1 F3 Intersection (low): 0.351\n",
        "F1 F3 Union (low)       : 0.709\n",
        "F2 F3 Intersection (high): 0.094"
       ]
      },
      {
       "output_type": "stream",
       "stream": "stdout",
       "text": [
        "\n",
        "F2 F3 Union (high)       : 0.381\n",
        "F2 F3 Intersection (low): 0.337\n",
        "F2 F3 Union (low)       : 0.705\n",
        "\n",
        "All Intersection (high): 0.071"
       ]
      },
      {
       "output_type": "stream",
       "stream": "stdout",
       "text": [
        "\n",
        "All Union (high): 0.527\n",
        "All Intersection (low): 0.256"
       ]
      },
      {
       "output_type": "stream",
       "stream": "stdout",
       "text": [
        "\n",
        "All Union (low): 0.803\n"
       ]
      }
     ],
     "prompt_number": 5
    },
    {
     "cell_type": "code",
     "collapsed": false,
     "input": [
      "\n"
     ],
     "language": "python",
     "metadata": {},
     "outputs": [],
     "prompt_number": 5
    }
   ],
   "metadata": {}
  }
 ]
}