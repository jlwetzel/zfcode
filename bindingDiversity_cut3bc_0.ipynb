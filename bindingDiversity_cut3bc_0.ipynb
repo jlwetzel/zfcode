{
 "metadata": {
  "name": "bindingDiversity_cut3bc_0"
 },
 "nbformat": 3,
 "nbformat_minor": 0,
 "worksheets": [
  {
   "cells": [
    {
     "cell_type": "code",
     "collapsed": false,
     "input": [
      "from gatherBindStats import *\n",
      "from scipy import stats\n",
      "maxSize6 = 20**6\n",
      "maxSize4 = 20**4"
     ],
     "language": "python",
     "metadata": {},
     "outputs": [],
     "prompt_number": 1
    },
    {
     "cell_type": "code",
     "collapsed": false,
     "input": [
      "# Get the protein sets from the binding data.\n",
      "pathPref = '../data/b1hdata/newDatabase/6varpos'\n",
      "proteinDir = 'protein_seq_cut3bc_0'\n",
      "fings = ['F1', 'F2', 'F3']\n",
      "strins = ['high', 'low']\n",
      "bindingSets6 = {}\n",
      "bindingSets4 = {}\n",
      "for f in fings:\n",
      "    for s in strins:\n",
      "        bindingSets6[f,s] = getProtSet('/'.join([pathPref,f,s,proteinDir,'all.txt']), \n",
      "                                       range(6))\n",
      "        bindingSets4[f,s] = getProtSet('/'.join([pathPref,f,s,proteinDir,'all.txt']),\n",
      "                                       [0,2,3,5])"
     ],
     "language": "python",
     "metadata": {},
     "outputs": [],
     "prompt_number": 2
    },
    {
     "cell_type": "heading",
     "level": 2,
     "metadata": {},
     "source": [
      "6 Var Positions"
     ]
    },
    {
     "cell_type": "code",
     "collapsed": false,
     "input": [
      "printBindingSetStats(fings, strins, bindingSets6, maxSize6)"
     ],
     "language": "python",
     "metadata": {},
     "outputs": [
      {
       "output_type": "stream",
       "stream": "stdout",
       "text": [
        "Max Size for 6 positions: 64000000\n",
        "################################################################\n",
        "Size of F1 high: 178707\n",
        "Size of F1 low: 286640\n",
        "Size of F2 high: 78490\n",
        "Size of F2 low: 314834\n",
        "Size of F3 high: 102832\n",
        "Size of F3 low: 245194\n",
        "\n",
        "Is high a subset of low? (|High - Low|/|High|)\n",
        "################################################################\n",
        "F1: 0.809"
       ]
      },
      {
       "output_type": "stream",
       "stream": "stdout",
       "text": [
        "\n",
        "F2: 0.536\n",
        "F3: 0.631"
       ]
      },
      {
       "output_type": "stream",
       "stream": "stdout",
       "text": [
        "\n",
        "\n",
        "Combining Sets\n",
        "################################################################\n",
        "F1 F2 Intersection (high): 2279"
       ]
      },
      {
       "output_type": "stream",
       "stream": "stdout",
       "text": [
        "\n",
        "F1 F2 Union (high)       : 254918\n",
        "F1 F2 Jaccard (high)     : 0.009\n",
        "\n",
        "F1 F2 Intersection (low): 9869"
       ]
      },
      {
       "output_type": "stream",
       "stream": "stdout",
       "text": [
        "\n",
        "F1 F2 Union (low)       : 591605\n",
        "F1 F2 Jaccard (low)     : 0.017\n",
        "\n",
        "F1 F3 Intersection (high): 1394"
       ]
      },
      {
       "output_type": "stream",
       "stream": "stdout",
       "text": [
        "\n",
        "F1 F3 Union (high)       : 280145\n",
        "F1 F3 Jaccard (high)     : 0.005\n",
        "\n",
        "F1 F3 Intersection (low): 5871"
       ]
      },
      {
       "output_type": "stream",
       "stream": "stdout",
       "text": [
        "\n",
        "F1 F3 Union (low)       : 525963\n",
        "F1 F3 Jaccard (low)     : 0.011\n",
        "\n",
        "F2 F3 Intersection (high): 5527"
       ]
      },
      {
       "output_type": "stream",
       "stream": "stdout",
       "text": [
        "\n",
        "F2 F3 Union (high)       : 175795\n",
        "F2 F3 Jaccard (high)     : 0.031\n",
        "\n",
        "F2 F3 Intersection (low): 26016"
       ]
      },
      {
       "output_type": "stream",
       "stream": "stdout",
       "text": [
        "\n",
        "F2 F3 Union (low)       : 534012\n",
        "F2 F3 Jaccard (low)     : 0.049\n",
        "\n",
        "All Intersection (high): 264"
       ]
      },
      {
       "output_type": "stream",
       "stream": "stdout",
       "text": [
        "\n",
        "All Union (high): 351093\n",
        "All Intersection (low): 2102"
       ]
      },
      {
       "output_type": "stream",
       "stream": "stdout",
       "text": [
        "\n",
        "All Union (low): 807014\n"
       ]
      }
     ],
     "prompt_number": 3
    },
    {
     "cell_type": "heading",
     "level": 2,
     "metadata": {},
     "source": [
      "4 Var Pos (-1, 2, 3, 6) -- Canonical"
     ]
    },
    {
     "cell_type": "code",
     "collapsed": false,
     "input": [
      "printBindingSetStats(fings, strins, bindingSets4, maxSize4)"
     ],
     "language": "python",
     "metadata": {},
     "outputs": [
      {
       "output_type": "stream",
       "stream": "stdout",
       "text": [
        "Max Size for 4 positions: 160000\n",
        "################################################################\n",
        "Size of F1 high: 77655\n",
        "Size of F1 low: 100370\n",
        "Size of F2 high: 32375\n",
        "Size of F2 low: 91860\n",
        "Size of F3 high: 29198\n",
        "Size of F3 low: 58338\n",
        "\n",
        "Is high a subset of low? (|High - Low|/|High|)\n",
        "################################################################\n",
        "F1: 0.218\n",
        "F2: 0.155\n",
        "F3: 0.289\n",
        "\n",
        "Combining Sets\n",
        "################################################################\n",
        "F1 F2 Intersection (high): 22075"
       ]
      },
      {
       "output_type": "stream",
       "stream": "stdout",
       "text": [
        "\n",
        "F1 F2 Union (high)       : 87955\n",
        "F1 F2 Jaccard (high)     : 0.251\n",
        "\n",
        "F1 F2 Intersection (low): 67246"
       ]
      },
      {
       "output_type": "stream",
       "stream": "stdout",
       "text": [
        "\n",
        "F1 F2 Union (low)       : 124984\n",
        "F1 F2 Jaccard (low)     : 0.538\n",
        "\n",
        "F1 F3 Intersection (high): 19822\n",
        "F1 F3 Union (high)       : 87031\n",
        "F1 F3 Jaccard (high)     : 0.228"
       ]
      },
      {
       "output_type": "stream",
       "stream": "stdout",
       "text": [
        "\n",
        "\n",
        "F1 F3 Intersection (low): 45064"
       ]
      },
      {
       "output_type": "stream",
       "stream": "stdout",
       "text": [
        "\n",
        "F1 F3 Union (low)       : 113644\n",
        "F1 F3 Jaccard (low)     : 0.397\n",
        "\n",
        "F2 F3 Intersection (high): 10005\n",
        "F2 F3 Union (high)       : 51568\n",
        "F2 F3 Jaccard (high)     : 0.194\n",
        "\n",
        "F2 F3 Intersection (low): 41868"
       ]
      },
      {
       "output_type": "stream",
       "stream": "stdout",
       "text": [
        "\n",
        "F2 F3 Union (low)       : 108330\n",
        "F2 F3 Jaccard (low)     : 0.386\n",
        "\n",
        "All Intersection (high): 8055"
       ]
      },
      {
       "output_type": "stream",
       "stream": "stdout",
       "text": [
        "\n",
        "All Union (high): 95381\n",
        "All Intersection (low): 34917"
       ]
      },
      {
       "output_type": "stream",
       "stream": "stdout",
       "text": [
        "\n",
        "All Union (low): 131307\n"
       ]
      }
     ],
     "prompt_number": 4
    },
    {
     "cell_type": "heading",
     "level": 2,
     "metadata": {},
     "source": [
      "Overlap with Human and Fly ZFs (ala HMMer + REGEX) -- Canonical Positions"
     ]
    },
    {
     "cell_type": "code",
     "collapsed": false,
     "input": [
      "dmelSet = getUniqueShilpaZFs('../data/shilpa/Drosophila_melanogaster_ZF.fulldom', [0, 2, 3, 6])\n",
      "hsapSet = getUniqueShilpaZFs('../data/shilpa/Homo_sapiens_ZF.fulldom', [0, 2, 3, 6])\n",
      "\n",
      "compareToNatural(bindingSets4, hsapSet, 'Human', fings, strins)\n",
      "compareToNatural(bindingSets4, dmelSet, 'Fly', fings, strins)"
     ],
     "language": "python",
     "metadata": {},
     "outputs": [
      {
       "output_type": "stream",
       "stream": "stdout",
       "text": [
        "\n",
        "Fraction of Human ZFs (-1,2,3,6) Captured: (3640 possible)\n",
        "################################################################\n",
        "F1 high: 0.657\n",
        "F1 low: 0.810\n",
        "F2 high: 0.365\n",
        "F2 low: 0.772\n",
        "F3 high: 0.452\n",
        "F3 low: 0.687\n",
        "\n",
        "F1 F2 Intersection (high): 0.295"
       ]
      },
      {
       "output_type": "stream",
       "stream": "stdout",
       "text": [
        "\n",
        "F1 F2 Union (high)       : 0.726\n",
        "F1 F2 Intersection (low): 0.663"
       ]
      },
      {
       "output_type": "stream",
       "stream": "stdout",
       "text": [
        "\n",
        "F1 F2 Union (low)       : 0.918\n",
        "F1 F3 Intersection (high): 0.356\n",
        "F1 F3 Union (high)       : 0.753\n",
        "F1 F3 Intersection (low): 0.597"
       ]
      },
      {
       "output_type": "stream",
       "stream": "stdout",
       "text": [
        "\n",
        "F1 F3 Union (low)       : 0.900\n",
        "F2 F3 Intersection (high): 0.226\n",
        "F2 F3 Union (high)       : 0.591\n",
        "F2 F3 Intersection (low): 0.584"
       ]
      },
      {
       "output_type": "stream",
       "stream": "stdout",
       "text": [
        "\n",
        "F2 F3 Union (low)       : 0.874\n",
        "\n",
        "All Intersection (high): 0.195"
       ]
      },
      {
       "output_type": "stream",
       "stream": "stdout",
       "text": [
        "\n",
        "All Union (high): 0.792\n",
        "All Intersection (low): 0.523"
       ]
      },
      {
       "output_type": "stream",
       "stream": "stdout",
       "text": [
        "\n",
        "All Union (low): 0.947\n",
        "\n",
        "Fraction of Fly ZFs (-1,2,3,6) Captured: (1595 possible)\n",
        "################################################################\n",
        "F1 high: 0.619\n",
        "F1 low: 0.764\n",
        "F2 high: 0.323\n",
        "F2 low: 0.745\n",
        "F3 high: 0.413\n",
        "F3 low: 0.653\n",
        "\n",
        "F1 F2 Intersection (high): 0.250\n",
        "F1 F2 Union (high)       : 0.692\n",
        "F1 F2 Intersection (low): 0.616"
       ]
      },
      {
       "output_type": "stream",
       "stream": "stdout",
       "text": [
        "\n",
        "F1 F2 Union (low)       : 0.893\n",
        "F1 F3 Intersection (high): 0.318\n",
        "F1 F3 Union (high)       : 0.714\n",
        "F1 F3 Intersection (low): 0.555"
       ]
      },
      {
       "output_type": "stream",
       "stream": "stdout",
       "text": [
        "\n",
        "F1 F3 Union (low)       : 0.862\n",
        "F2 F3 Intersection (high): 0.194\n",
        "F2 F3 Union (high)       : 0.541\n",
        "F2 F3 Intersection (low): 0.539"
       ]
      },
      {
       "output_type": "stream",
       "stream": "stdout",
       "text": [
        "\n",
        "F2 F3 Union (low)       : 0.860\n",
        "\n",
        "All Intersection (high): 0.169"
       ]
      },
      {
       "output_type": "stream",
       "stream": "stdout",
       "text": [
        "\n",
        "All Union (high): 0.762\n",
        "All Intersection (low): 0.480"
       ]
      },
      {
       "output_type": "stream",
       "stream": "stdout",
       "text": [
        "\n",
        "All Union (low): 0.933\n"
       ]
      }
     ],
     "prompt_number": 5
    },
    {
     "cell_type": "code",
     "collapsed": false,
     "input": [
      "\n"
     ],
     "language": "python",
     "metadata": {},
     "outputs": [],
     "prompt_number": 5
    }
   ],
   "metadata": {}
  }
 ]
}