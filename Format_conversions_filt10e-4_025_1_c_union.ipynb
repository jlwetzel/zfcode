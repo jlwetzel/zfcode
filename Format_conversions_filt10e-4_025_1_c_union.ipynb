{
 "metadata": {
  "name": "Format_conversions_filt10e-4_025_1_c_union"
 },
 "nbformat": 3,
 "nbformat_minor": 0,
 "worksheets": [
  {
   "cells": [
    {
     "cell_type": "code",
     "collapsed": false,
     "input": [
      "from changeFormats import targetFiles2singleCSV, csv2txtFile\n",
      "\n"
     ],
     "language": "python",
     "metadata": {},
     "outputs": [],
     "prompt_number": 1
    },
    {
     "cell_type": "code",
     "collapsed": false,
     "input": [
      "prefix = '../data/b1hData/antonProcessed/'\n",
      "numVarPos = 6\n",
      "interfaces = {}\n",
      "fings = ['F1', 'F2', 'F3']\n",
      "strins = ['union']\n",
      "for fing in fings:\n",
      "    for strin in strins:\n",
      "        path = prefix + fing + '/' + strin + '/' + 'filt_10e-4_025_1_c/'\n",
      "        interfaces[fing] = targetFiles2singleCSV(path, numVarPos, '.txt', style = 'verbose')\n",
      "        csv2txtFile(path, numVarPos, style = 'verbose')\n",
      "        print"
     ],
     "language": "python",
     "metadata": {},
     "outputs": [
      {
       "output_type": "stream",
       "stream": "stdout",
       "text": [
        "Here\n",
        "Num proteins in ../data/b1hData/antonProcessed/F1/union/filt_10e-4_025_1_c/AAA.txt:  64\n",
        "Num proteins in ../data/b1hData/antonProcessed/F1/union/filt_10e-4_025_1_c/AAC.txt:  323\n",
        "Num proteins in ../data/b1hData/antonProcessed/F1/union/filt_10e-4_025_1_c/AAG.txt:  1821\n",
        "Num proteins in ../data/b1hData/antonProcessed/F1/union/filt_10e-4_025_1_c/AAT.txt:  106"
       ]
      },
      {
       "output_type": "stream",
       "stream": "stdout",
       "text": [
        "\n",
        "Num proteins in ../data/b1hData/antonProcessed/F1/union/filt_10e-4_025_1_c/ACA.txt:  1150\n",
        "Num proteins in ../data/b1hData/antonProcessed/F1/union/filt_10e-4_025_1_c/ACC.txt:  104\n",
        "Num proteins in ../data/b1hData/antonProcessed/F1/union/filt_10e-4_025_1_c/ACG.txt:  2120\n",
        "Num proteins in ../data/b1hData/antonProcessed/F1/union/filt_10e-4_025_1_c/ACT.txt:  504"
       ]
      },
      {
       "output_type": "stream",
       "stream": "stdout",
       "text": [
        "\n",
        "Num proteins in ../data/b1hData/antonProcessed/F1/union/filt_10e-4_025_1_c/AGA.txt:  163\n",
        "Num proteins in ../data/b1hData/antonProcessed/F1/union/filt_10e-4_025_1_c/AGC.txt:  702\n",
        "Num proteins in ../data/b1hData/antonProcessed/F1/union/filt_10e-4_025_1_c/AGG.txt:  671\n",
        "Num proteins in ../data/b1hData/antonProcessed/F1/union/filt_10e-4_025_1_c/AGT.txt:  1402\n",
        "Num proteins in ../data/b1hData/antonProcessed/F1/union/filt_10e-4_025_1_c/ATA.txt:  808\n",
        "Num proteins in ../data/b1hData/antonProcessed/F1/union/filt_10e-4_025_1_c/ATC.txt:  764"
       ]
      },
      {
       "output_type": "stream",
       "stream": "stdout",
       "text": [
        "\n",
        "Num proteins in ../data/b1hData/antonProcessed/F1/union/filt_10e-4_025_1_c/ATG.txt:  1117\n",
        "Num proteins in ../data/b1hData/antonProcessed/F1/union/filt_10e-4_025_1_c/ATT.txt:  187\n",
        "Num proteins in ../data/b1hData/antonProcessed/F1/union/filt_10e-4_025_1_c/CAA.txt:  810\n",
        "Num proteins in ../data/b1hData/antonProcessed/F1/union/filt_10e-4_025_1_c/CAC.txt:  213\n",
        "Num proteins in ../data/b1hData/antonProcessed/F1/union/filt_10e-4_025_1_c/CAG.txt:  680"
       ]
      },
      {
       "output_type": "stream",
       "stream": "stdout",
       "text": [
        "\n",
        "Num proteins in ../data/b1hData/antonProcessed/F1/union/filt_10e-4_025_1_c/CAT.txt:  625\n",
        "Num proteins in ../data/b1hData/antonProcessed/F1/union/filt_10e-4_025_1_c/CCA.txt:  1630\n",
        "Num proteins in ../data/b1hData/antonProcessed/F1/union/filt_10e-4_025_1_c/CCC.txt:  971\n",
        "Num proteins in ../data/b1hData/antonProcessed/F1/union/filt_10e-4_025_1_c/CCG.txt:  998"
       ]
      },
      {
       "output_type": "stream",
       "stream": "stdout",
       "text": [
        "\n",
        "Num proteins in ../data/b1hData/antonProcessed/F1/union/filt_10e-4_025_1_c/CCT.txt:  1412\n",
        "Num proteins in ../data/b1hData/antonProcessed/F1/union/filt_10e-4_025_1_c/CGA.txt:  1259\n",
        "Num proteins in ../data/b1hData/antonProcessed/F1/union/filt_10e-4_025_1_c/CGC.txt:  883\n",
        "Num proteins in ../data/b1hData/antonProcessed/F1/union/filt_10e-4_025_1_c/CGG.txt:  1421"
       ]
      },
      {
       "output_type": "stream",
       "stream": "stdout",
       "text": [
        "\n",
        "Num proteins in ../data/b1hData/antonProcessed/F1/union/filt_10e-4_025_1_c/CGT.txt:  90\n",
        "Num proteins in ../data/b1hData/antonProcessed/F1/union/filt_10e-4_025_1_c/CTA.txt:  88\n",
        "Num proteins in ../data/b1hData/antonProcessed/F1/union/filt_10e-4_025_1_c/CTC.txt:  288\n",
        "Num proteins in ../data/b1hData/antonProcessed/F1/union/filt_10e-4_025_1_c/CTG.txt:  614\n",
        "Num proteins in ../data/b1hData/antonProcessed/F1/union/filt_10e-4_025_1_c/CTT.txt:  483\n",
        "Num proteins in ../data/b1hData/antonProcessed/F1/union/filt_10e-4_025_1_c/GAA.txt:  662\n",
        "Num proteins in ../data/b1hData/antonProcessed/F1/union/filt_10e-4_025_1_c/GAC.txt:  792\n",
        "Num proteins in ../data/b1hData/antonProcessed/F1/union/filt_10e-4_025_1_c/GAG.txt:  1182"
       ]
      },
      {
       "output_type": "stream",
       "stream": "stdout",
       "text": [
        "\n",
        "Num proteins in ../data/b1hData/antonProcessed/F1/union/filt_10e-4_025_1_c/GAT.txt:  972\n",
        "Num proteins in ../data/b1hData/antonProcessed/F1/union/filt_10e-4_025_1_c/GCA.txt:  1350\n",
        "Num proteins in ../data/b1hData/antonProcessed/F1/union/filt_10e-4_025_1_c/GCC.txt:  360\n",
        "Num proteins in ../data/b1hData/antonProcessed/F1/union/filt_10e-4_025_1_c/GCG.txt:  944\n",
        "Num proteins in ../data/b1hData/antonProcessed/F1/union/filt_10e-4_025_1_c/GCT.txt:  1300"
       ]
      },
      {
       "output_type": "stream",
       "stream": "stdout",
       "text": [
        "\n",
        "Num proteins in ../data/b1hData/antonProcessed/F1/union/filt_10e-4_025_1_c/GGA.txt:  200\n",
        "Num proteins in ../data/b1hData/antonProcessed/F1/union/filt_10e-4_025_1_c/GGC.txt:  397\n",
        "Num proteins in ../data/b1hData/antonProcessed/F1/union/filt_10e-4_025_1_c/GGG.txt:  966\n",
        "Num proteins in ../data/b1hData/antonProcessed/F1/union/filt_10e-4_025_1_c/GGT.txt:  1640\n",
        "Num proteins in ../data/b1hData/antonProcessed/F1/union/filt_10e-4_025_1_c/GTA.txt:  488\n",
        "Num proteins in ../data/b1hData/antonProcessed/F1/union/filt_10e-4_025_1_c/GTC.txt:  449\n",
        "Num proteins in ../data/b1hData/antonProcessed/F1/union/filt_10e-4_025_1_c/GTG.txt:  1213"
       ]
      },
      {
       "output_type": "stream",
       "stream": "stdout",
       "text": [
        "\n",
        "Num proteins in ../data/b1hData/antonProcessed/F1/union/filt_10e-4_025_1_c/GTT.txt:  591\n",
        "Num proteins in ../data/b1hData/antonProcessed/F1/union/filt_10e-4_025_1_c/TAA.txt:  166\n",
        "Num proteins in ../data/b1hData/antonProcessed/F1/union/filt_10e-4_025_1_c/TAC.txt:  102"
       ]
      },
      {
       "output_type": "stream",
       "stream": "stdout",
       "text": [
        "\n",
        "Num proteins in ../data/b1hData/antonProcessed/F1/union/filt_10e-4_025_1_c/TAG.txt:  113\n",
        "Num proteins in ../data/b1hData/antonProcessed/F1/union/filt_10e-4_025_1_c/TAT.txt:  32\n",
        "Num proteins in ../data/b1hData/antonProcessed/F1/union/filt_10e-4_025_1_c/TCA.txt:  537\n",
        "Num proteins in ../data/b1hData/antonProcessed/F1/union/filt_10e-4_025_1_c/TCC.txt:  135\n",
        "Num proteins in ../data/b1hData/antonProcessed/F1/union/filt_10e-4_025_1_c/TCG.txt:  268\n",
        "Num proteins in ../data/b1hData/antonProcessed/F1/union/filt_10e-4_025_1_c/TCT.txt:  205\n",
        "Num proteins in ../data/b1hData/antonProcessed/F1/union/filt_10e-4_025_1_c/TGA.txt:  131\n",
        "Num proteins in ../data/b1hData/antonProcessed/F1/union/filt_10e-4_025_1_c/TGC.txt:  514\n",
        "Num proteins in ../data/b1hData/antonProcessed/F1/union/filt_10e-4_025_1_c/TGG.txt:  715\n",
        "Num proteins in ../data/b1hData/antonProcessed/F1/union/filt_10e-4_025_1_c/TGT.txt:  1685\n",
        "Num proteins in ../data/b1hData/antonProcessed/F1/union/filt_10e-4_025_1_c/TTA.txt:  496"
       ]
      },
      {
       "output_type": "stream",
       "stream": "stdout",
       "text": [
        "\n",
        "Num proteins in ../data/b1hData/antonProcessed/F1/union/filt_10e-4_025_1_c/TTC.txt:  45\n",
        "Num proteins in ../data/b1hData/antonProcessed/F1/union/filt_10e-4_025_1_c/TTG.txt:  164\n",
        "Num proteins in ../data/b1hData/antonProcessed/F1/union/filt_10e-4_025_1_c/TTT.txt:  195\n",
        "Total num protein/dna observations in all files:  43480\n",
        "Total num unique proteins in all files:  26568\n",
        "\n",
        "Num obs processed in csv to txt conversion:  43480"
       ]
      },
      {
       "output_type": "stream",
       "stream": "stdout",
       "text": [
        "\n",
        "\n",
        "Here\n",
        "Num proteins in ../data/b1hData/antonProcessed/F2/union/filt_10e-4_025_1_c/AAA.txt:  607\n",
        "Num proteins in ../data/b1hData/antonProcessed/F2/union/filt_10e-4_025_1_c/AAC.txt:  2467\n",
        "Num proteins in ../data/b1hData/antonProcessed/F2/union/filt_10e-4_025_1_c/AAG.txt:  2235"
       ]
      },
      {
       "output_type": "stream",
       "stream": "stdout",
       "text": [
        "\n",
        "Num proteins in ../data/b1hData/antonProcessed/F2/union/filt_10e-4_025_1_c/AAT.txt:  1719\n",
        "Num proteins in ../data/b1hData/antonProcessed/F2/union/filt_10e-4_025_1_c/ACA.txt:  1972\n",
        "Num proteins in ../data/b1hData/antonProcessed/F2/union/filt_10e-4_025_1_c/ACC.txt:  1114\n",
        "Num proteins in ../data/b1hData/antonProcessed/F2/union/filt_10e-4_025_1_c/ACG.txt:  2141"
       ]
      },
      {
       "output_type": "stream",
       "stream": "stdout",
       "text": [
        "\n",
        "Num proteins in ../data/b1hData/antonProcessed/F2/union/filt_10e-4_025_1_c/ACT.txt:  3163\n",
        "Num proteins in ../data/b1hData/antonProcessed/F2/union/filt_10e-4_025_1_c/AGA.txt:  540\n",
        "Num proteins in ../data/b1hData/antonProcessed/F2/union/filt_10e-4_025_1_c/AGC.txt:  892\n",
        "Num proteins in ../data/b1hData/antonProcessed/F2/union/filt_10e-4_025_1_c/AGG.txt:  2367"
       ]
      },
      {
       "output_type": "stream",
       "stream": "stdout",
       "text": [
        "\n",
        "Num proteins in ../data/b1hData/antonProcessed/F2/union/filt_10e-4_025_1_c/AGT.txt:  2580\n",
        "Num proteins in ../data/b1hData/antonProcessed/F2/union/filt_10e-4_025_1_c/ATA.txt:  254\n",
        "Num proteins in ../data/b1hData/antonProcessed/F2/union/filt_10e-4_025_1_c/ATC.txt:  1650"
       ]
      },
      {
       "output_type": "stream",
       "stream": "stdout",
       "text": [
        "\n",
        "Num proteins in ../data/b1hData/antonProcessed/F2/union/filt_10e-4_025_1_c/ATG.txt:  1548\n",
        "Num proteins in ../data/b1hData/antonProcessed/F2/union/filt_10e-4_025_1_c/ATT.txt:  1899\n",
        "Num proteins in ../data/b1hData/antonProcessed/F2/union/filt_10e-4_025_1_c/CAA.txt:  292\n",
        "Num proteins in ../data/b1hData/antonProcessed/F2/union/filt_10e-4_025_1_c/CAC.txt:  1919"
       ]
      },
      {
       "output_type": "stream",
       "stream": "stdout",
       "text": [
        "\n",
        "Num proteins in ../data/b1hData/antonProcessed/F2/union/filt_10e-4_025_1_c/CAG.txt:  2442\n",
        "Num proteins in ../data/b1hData/antonProcessed/F2/union/filt_10e-4_025_1_c/CAT.txt:  1863\n",
        "Num proteins in ../data/b1hData/antonProcessed/F2/union/filt_10e-4_025_1_c/CCA.txt:  487\n",
        "Num proteins in ../data/b1hData/antonProcessed/F2/union/filt_10e-4_025_1_c/CCC.txt:  512"
       ]
      },
      {
       "output_type": "stream",
       "stream": "stdout",
       "text": [
        "\n",
        "Num proteins in ../data/b1hData/antonProcessed/F2/union/filt_10e-4_025_1_c/CCG.txt:  693\n",
        "Num proteins in ../data/b1hData/antonProcessed/F2/union/filt_10e-4_025_1_c/CCT.txt:  834\n",
        "Num proteins in ../data/b1hData/antonProcessed/F2/union/filt_10e-4_025_1_c/CGA.txt:  276\n",
        "Num proteins in ../data/b1hData/antonProcessed/F2/union/filt_10e-4_025_1_c/CGC.txt:  410\n",
        "Num proteins in ../data/b1hData/antonProcessed/F2/union/filt_10e-4_025_1_c/CGG.txt:  2500\n",
        "Num proteins in ../data/b1hData/antonProcessed/F2/union/filt_10e-4_025_1_c/CGT.txt:  2086"
       ]
      },
      {
       "output_type": "stream",
       "stream": "stdout",
       "text": [
        "\n",
        "Num proteins in ../data/b1hData/antonProcessed/F2/union/filt_10e-4_025_1_c/CTA.txt:  315\n",
        "Num proteins in ../data/b1hData/antonProcessed/F2/union/filt_10e-4_025_1_c/CTC.txt:  286\n",
        "Num proteins in ../data/b1hData/antonProcessed/F2/union/filt_10e-4_025_1_c/CTG.txt:  863\n",
        "Num proteins in ../data/b1hData/antonProcessed/F2/union/filt_10e-4_025_1_c/CTT.txt:  718\n",
        "Num proteins in ../data/b1hData/antonProcessed/F2/union/filt_10e-4_025_1_c/GAA.txt:  591\n",
        "Num proteins in ../data/b1hData/antonProcessed/F2/union/filt_10e-4_025_1_c/GAC.txt:  1836\n",
        "Num proteins in ../data/b1hData/antonProcessed/F2/union/filt_10e-4_025_1_c/GAG.txt:  2225"
       ]
      },
      {
       "output_type": "stream",
       "stream": "stdout",
       "text": [
        "\n",
        "Num proteins in ../data/b1hData/antonProcessed/F2/union/filt_10e-4_025_1_c/GAT.txt:  2159\n",
        "Num proteins in ../data/b1hData/antonProcessed/F2/union/filt_10e-4_025_1_c/GCA.txt:  679\n",
        "Num proteins in ../data/b1hData/antonProcessed/F2/union/filt_10e-4_025_1_c/GCC.txt:  1114\n",
        "Num proteins in ../data/b1hData/antonProcessed/F2/union/filt_10e-4_025_1_c/GCG.txt:  2237"
       ]
      },
      {
       "output_type": "stream",
       "stream": "stdout",
       "text": [
        "\n",
        "Num proteins in ../data/b1hData/antonProcessed/F2/union/filt_10e-4_025_1_c/GCT.txt:  2283\n",
        "Num proteins in ../data/b1hData/antonProcessed/F2/union/filt_10e-4_025_1_c/GGA.txt:  514\n",
        "Num proteins in ../data/b1hData/antonProcessed/F2/union/filt_10e-4_025_1_c/GGC.txt:  478\n",
        "Num proteins in ../data/b1hData/antonProcessed/F2/union/filt_10e-4_025_1_c/GGG.txt:  2742"
       ]
      },
      {
       "output_type": "stream",
       "stream": "stdout",
       "text": [
        "\n",
        "Num proteins in ../data/b1hData/antonProcessed/F2/union/filt_10e-4_025_1_c/GGT.txt:  1776\n",
        "Num proteins in ../data/b1hData/antonProcessed/F2/union/filt_10e-4_025_1_c/GTA.txt:  603\n",
        "Num proteins in ../data/b1hData/antonProcessed/F2/union/filt_10e-4_025_1_c/GTC.txt:  1354\n",
        "Num proteins in ../data/b1hData/antonProcessed/F2/union/filt_10e-4_025_1_c/GTG.txt:  2961"
       ]
      },
      {
       "output_type": "stream",
       "stream": "stdout",
       "text": [
        "\n",
        "Num proteins in ../data/b1hData/antonProcessed/F2/union/filt_10e-4_025_1_c/GTT.txt:  1952\n",
        "Num proteins in ../data/b1hData/antonProcessed/F2/union/filt_10e-4_025_1_c/TAA.txt:  5\n",
        "Num proteins in ../data/b1hData/antonProcessed/F2/union/filt_10e-4_025_1_c/TAC.txt:  865\n",
        "Num proteins in ../data/b1hData/antonProcessed/F2/union/filt_10e-4_025_1_c/TAG.txt:  858\n",
        "Num proteins in ../data/b1hData/antonProcessed/F2/union/filt_10e-4_025_1_c/TAT.txt:  1741"
       ]
      },
      {
       "output_type": "stream",
       "stream": "stdout",
       "text": [
        "\n",
        "Num proteins in ../data/b1hData/antonProcessed/F2/union/filt_10e-4_025_1_c/TCA.txt:  34\n",
        "Num proteins in ../data/b1hData/antonProcessed/F2/union/filt_10e-4_025_1_c/TCC.txt:  508\n",
        "Num proteins in ../data/b1hData/antonProcessed/F2/union/filt_10e-4_025_1_c/TCG.txt:  1158\n",
        "Num proteins in ../data/b1hData/antonProcessed/F2/union/filt_10e-4_025_1_c/TCT.txt:  1056\n",
        "Num proteins in ../data/b1hData/antonProcessed/F2/union/filt_10e-4_025_1_c/TGA.txt:  315\n",
        "Num proteins in ../data/b1hData/antonProcessed/F2/union/filt_10e-4_025_1_c/TGC.txt:  482\n",
        "Num proteins in ../data/b1hData/antonProcessed/F2/union/filt_10e-4_025_1_c/TGG.txt:  2849"
       ]
      },
      {
       "output_type": "stream",
       "stream": "stdout",
       "text": [
        "\n",
        "Num proteins in ../data/b1hData/antonProcessed/F2/union/filt_10e-4_025_1_c/TGT.txt:  2680\n",
        "Num proteins in ../data/b1hData/antonProcessed/F2/union/filt_10e-4_025_1_c/TTA.txt:  72\n",
        "Num proteins in ../data/b1hData/antonProcessed/F2/union/filt_10e-4_025_1_c/TTC.txt:  334\n",
        "Num proteins in ../data/b1hData/antonProcessed/F2/union/filt_10e-4_025_1_c/TTG.txt:  1474\n",
        "Num proteins in ../data/b1hData/antonProcessed/F2/union/filt_10e-4_025_1_c/TTT.txt:  313\n",
        "Total num protein/dna observations in all files:  83892\n",
        "Total num unique proteins in all files:  56022\n",
        "\n",
        "Num obs processed in csv to txt conversion:  83892"
       ]
      },
      {
       "output_type": "stream",
       "stream": "stdout",
       "text": [
        "\n",
        "\n",
        "Here\n",
        "Num proteins in ../data/b1hData/antonProcessed/F3/union/filt_10e-4_025_1_c/AAA.txt:  162\n",
        "Num proteins in ../data/b1hData/antonProcessed/F3/union/filt_10e-4_025_1_c/AAC.txt:  1804"
       ]
      },
      {
       "output_type": "stream",
       "stream": "stdout",
       "text": [
        "\n",
        "Num proteins in ../data/b1hData/antonProcessed/F3/union/filt_10e-4_025_1_c/AAG.txt:  2451\n",
        "Num proteins in ../data/b1hData/antonProcessed/F3/union/filt_10e-4_025_1_c/AAT.txt:  1591\n",
        "Num proteins in ../data/b1hData/antonProcessed/F3/union/filt_10e-4_025_1_c/ACA.txt:  165\n",
        "Num proteins in ../data/b1hData/antonProcessed/F3/union/filt_10e-4_025_1_c/ACC.txt:  703"
       ]
      },
      {
       "output_type": "stream",
       "stream": "stdout",
       "text": [
        "\n",
        "Num proteins in ../data/b1hData/antonProcessed/F3/union/filt_10e-4_025_1_c/ACG.txt:  2391\n",
        "Num proteins in ../data/b1hData/antonProcessed/F3/union/filt_10e-4_025_1_c/ACT.txt:  1343\n",
        "Num proteins in ../data/b1hData/antonProcessed/F3/union/filt_10e-4_025_1_c/AGA.txt:  78"
       ]
      },
      {
       "output_type": "stream",
       "stream": "stdout",
       "text": [
        "\n",
        "Num proteins in ../data/b1hData/antonProcessed/F3/union/filt_10e-4_025_1_c/AGC.txt:  2622\n",
        "Num proteins in ../data/b1hData/antonProcessed/F3/union/filt_10e-4_025_1_c/AGG.txt:  2370\n",
        "Num proteins in ../data/b1hData/antonProcessed/F3/union/filt_10e-4_025_1_c/AGT.txt:  2394"
       ]
      },
      {
       "output_type": "stream",
       "stream": "stdout",
       "text": [
        "\n",
        "Num proteins in ../data/b1hData/antonProcessed/F3/union/filt_10e-4_025_1_c/ATA.txt:  141\n",
        "Num proteins in ../data/b1hData/antonProcessed/F3/union/filt_10e-4_025_1_c/ATC.txt:  1559\n",
        "Num proteins in ../data/b1hData/antonProcessed/F3/union/filt_10e-4_025_1_c/ATG.txt:  962\n",
        "Num proteins in ../data/b1hData/antonProcessed/F3/union/filt_10e-4_025_1_c/ATT.txt:  1306\n",
        "Num proteins in ../data/b1hData/antonProcessed/F3/union/filt_10e-4_025_1_c/CAA.txt:  237"
       ]
      },
      {
       "output_type": "stream",
       "stream": "stdout",
       "text": [
        "\n",
        "Num proteins in ../data/b1hData/antonProcessed/F3/union/filt_10e-4_025_1_c/CAC.txt:  1449\n",
        "Num proteins in ../data/b1hData/antonProcessed/F3/union/filt_10e-4_025_1_c/CAG.txt:  1639\n",
        "Num proteins in ../data/b1hData/antonProcessed/F3/union/filt_10e-4_025_1_c/CAT.txt:  1092\n",
        "Num proteins in ../data/b1hData/antonProcessed/F3/union/filt_10e-4_025_1_c/CCA.txt:  136\n",
        "Num proteins in ../data/b1hData/antonProcessed/F3/union/filt_10e-4_025_1_c/CCC.txt:  648\n",
        "Num proteins in ../data/b1hData/antonProcessed/F3/union/filt_10e-4_025_1_c/CCG.txt:  2328"
       ]
      },
      {
       "output_type": "stream",
       "stream": "stdout",
       "text": [
        "\n",
        "Num proteins in ../data/b1hData/antonProcessed/F3/union/filt_10e-4_025_1_c/CCT.txt:  945\n",
        "Num proteins in ../data/b1hData/antonProcessed/F3/union/filt_10e-4_025_1_c/CGA.txt:  132\n",
        "Num proteins in ../data/b1hData/antonProcessed/F3/union/filt_10e-4_025_1_c/CGC.txt:  2531\n",
        "Num proteins in ../data/b1hData/antonProcessed/F3/union/filt_10e-4_025_1_c/CGG.txt:  1033"
       ]
      },
      {
       "output_type": "stream",
       "stream": "stdout",
       "text": [
        "\n",
        "Num proteins in ../data/b1hData/antonProcessed/F3/union/filt_10e-4_025_1_c/CGT.txt:  2092\n",
        "Num proteins in ../data/b1hData/antonProcessed/F3/union/filt_10e-4_025_1_c/CTA.txt:  193\n",
        "Num proteins in ../data/b1hData/antonProcessed/F3/union/filt_10e-4_025_1_c/CTC.txt:  672\n",
        "Num proteins in ../data/b1hData/antonProcessed/F3/union/filt_10e-4_025_1_c/CTG.txt:  497\n",
        "Num proteins in ../data/b1hData/antonProcessed/F3/union/filt_10e-4_025_1_c/CTT.txt:  176\n",
        "Num proteins in ../data/b1hData/antonProcessed/F3/union/filt_10e-4_025_1_c/GAA.txt:  1292"
       ]
      },
      {
       "output_type": "stream",
       "stream": "stdout",
       "text": [
        "\n",
        "Num proteins in ../data/b1hData/antonProcessed/F3/union/filt_10e-4_025_1_c/GAC.txt:  1767\n",
        "Num proteins in ../data/b1hData/antonProcessed/F3/union/filt_10e-4_025_1_c/GAG.txt:  2628\n",
        "Num proteins in ../data/b1hData/antonProcessed/F3/union/filt_10e-4_025_1_c/GAT.txt:  2250"
       ]
      },
      {
       "output_type": "stream",
       "stream": "stdout",
       "text": [
        "\n",
        "Num proteins in ../data/b1hData/antonProcessed/F3/union/filt_10e-4_025_1_c/GCA.txt:  783\n",
        "Num proteins in ../data/b1hData/antonProcessed/F3/union/filt_10e-4_025_1_c/GCC.txt:  712\n",
        "Num proteins in ../data/b1hData/antonProcessed/F3/union/filt_10e-4_025_1_c/GCG.txt:  1849\n",
        "Num proteins in ../data/b1hData/antonProcessed/F3/union/filt_10e-4_025_1_c/GCT.txt:  1338"
       ]
      },
      {
       "output_type": "stream",
       "stream": "stdout",
       "text": [
        "\n",
        "Num proteins in ../data/b1hData/antonProcessed/F3/union/filt_10e-4_025_1_c/GGA.txt:  803\n",
        "Num proteins in ../data/b1hData/antonProcessed/F3/union/filt_10e-4_025_1_c/GGC.txt:  1518\n",
        "Num proteins in ../data/b1hData/antonProcessed/F3/union/filt_10e-4_025_1_c/GGG.txt:  2478"
       ]
      },
      {
       "output_type": "stream",
       "stream": "stdout",
       "text": [
        "\n",
        "Num proteins in ../data/b1hData/antonProcessed/F3/union/filt_10e-4_025_1_c/GGT.txt:  2440\n",
        "Num proteins in ../data/b1hData/antonProcessed/F3/union/filt_10e-4_025_1_c/GTA.txt:  1261\n",
        "Num proteins in ../data/b1hData/antonProcessed/F3/union/filt_10e-4_025_1_c/GTC.txt:  2082"
       ]
      },
      {
       "output_type": "stream",
       "stream": "stdout",
       "text": [
        "\n",
        "Num proteins in ../data/b1hData/antonProcessed/F3/union/filt_10e-4_025_1_c/GTG.txt:  2478\n",
        "Num proteins in ../data/b1hData/antonProcessed/F3/union/filt_10e-4_025_1_c/GTT.txt:  2603"
       ]
      },
      {
       "output_type": "stream",
       "stream": "stdout",
       "text": [
        "\n",
        "Num proteins in ../data/b1hData/antonProcessed/F3/union/filt_10e-4_025_1_c/TAA.txt:  447\n",
        "Num proteins in ../data/b1hData/antonProcessed/F3/union/filt_10e-4_025_1_c/TAC.txt:  1473\n",
        "Num proteins in ../data/b1hData/antonProcessed/F3/union/filt_10e-4_025_1_c/TAG.txt:  1092\n",
        "Num proteins in ../data/b1hData/antonProcessed/F3/union/filt_10e-4_025_1_c/TAT.txt:  2053"
       ]
      },
      {
       "output_type": "stream",
       "stream": "stdout",
       "text": [
        "\n",
        "Num proteins in ../data/b1hData/antonProcessed/F3/union/filt_10e-4_025_1_c/TCA.txt:  239\n",
        "Num proteins in ../data/b1hData/antonProcessed/F3/union/filt_10e-4_025_1_c/TCC.txt:  992\n",
        "Num proteins in ../data/b1hData/antonProcessed/F3/union/filt_10e-4_025_1_c/TCG.txt:  868"
       ]
      },
      {
       "output_type": "stream",
       "stream": "stdout",
       "text": [
        "\n",
        "Num proteins in ../data/b1hData/antonProcessed/F3/union/filt_10e-4_025_1_c/TCT.txt:  925\n",
        "Num proteins in ../data/b1hData/antonProcessed/F3/union/filt_10e-4_025_1_c/TGA.txt:  1789\n",
        "Num proteins in ../data/b1hData/antonProcessed/F3/union/filt_10e-4_025_1_c/TGC.txt:  2198"
       ]
      },
      {
       "output_type": "stream",
       "stream": "stdout",
       "text": [
        "\n",
        "Num proteins in ../data/b1hData/antonProcessed/F3/union/filt_10e-4_025_1_c/TGG.txt:  913\n",
        "Num proteins in ../data/b1hData/antonProcessed/F3/union/filt_10e-4_025_1_c/TGT.txt:  3810\n",
        "Num proteins in ../data/b1hData/antonProcessed/F3/union/filt_10e-4_025_1_c/TTA.txt:  847"
       ]
      },
      {
       "output_type": "stream",
       "stream": "stdout",
       "text": [
        "\n",
        "Num proteins in ../data/b1hData/antonProcessed/F3/union/filt_10e-4_025_1_c/TTC.txt:  588\n",
        "Num proteins in ../data/b1hData/antonProcessed/F3/union/filt_10e-4_025_1_c/TTG.txt:  867\n",
        "Num proteins in ../data/b1hData/antonProcessed/F3/union/filt_10e-4_025_1_c/TTT.txt:  1972\n",
        "Total num protein/dna observations in all files:  87197\n",
        "Total num unique proteins in all files:  55725\n",
        "\n",
        "Num obs processed in csv to txt conversion:  87197"
       ]
      },
      {
       "output_type": "stream",
       "stream": "stdout",
       "text": [
        "\n",
        "\n"
       ]
      }
     ],
     "prompt_number": 2
    },
    {
     "cell_type": "code",
     "collapsed": false,
     "input": [
      "bothStrinIfaces = interfaces\n",
      "\n",
      "print \"%s + %s Interfaces: %d\" %('F1', 'F2', len(bothStrinIfaces['F1'] | bothStrinIfaces['F2']))\n",
      "print \"%s + %s Interfaces: %d\" %('F1', 'F3', len(bothStrinIfaces['F1'] | bothStrinIfaces['F3']))\n",
      "print \"%s + %s Interfaces: %d\" %('F2', 'F3', len(bothStrinIfaces['F2'] | bothStrinIfaces['F3']))\n",
      "print \"%s + %s + %s Interfaces: %d\" %('F1', 'F2', 'F3',len(bothStrinIfaces['F1'] | bothStrinIfaces['F2'] | bothStrinIfaces['F3']))\n",
      "    "
     ],
     "language": "python",
     "metadata": {},
     "outputs": [
      {
       "output_type": "stream",
       "stream": "stdout",
       "text": [
        "F1 + F2 Interfaces: 124426\n",
        "F1 + F3 Interfaces: 129996"
       ]
      },
      {
       "output_type": "stream",
       "stream": "stdout",
       "text": [
        "\n",
        "F2 + F3 Interfaces: 161907"
       ]
      },
      {
       "output_type": "stream",
       "stream": "stdout",
       "text": [
        "\n",
        "F1 + F2 + F3 Interfaces: 202161"
       ]
      },
      {
       "output_type": "stream",
       "stream": "stdout",
       "text": [
        "\n"
       ]
      }
     ],
     "prompt_number": 3
    },
    {
     "cell_type": "code",
     "collapsed": false,
     "input": [],
     "language": "python",
     "metadata": {},
     "outputs": [],
     "prompt_number": 3
    }
   ],
   "metadata": {}
  }
 ]
}