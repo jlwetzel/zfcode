{
 "metadata": {
  "name": "binding_diversity_4pos_cut10_entr04"
 },
 "nbformat": 3,
 "nbformat_minor": 0,
 "worksheets": [
  {
   "cells": [
    {
     "cell_type": "heading",
     "level": 1,
     "metadata": {},
     "source": [
      "Binding Diveristy All Positions (nonNNS-removal, cut 10, entropy >= 0.4)"
     ]
    },
    {
     "cell_type": "code",
     "collapsed": false,
     "input": [
      "from gatherBindStats import getProtSet\n",
      "prefix6 = '../data/b1hData/newDatabase/6varpos/'\n",
      "prefix5 = '../data/b1hData/newDatabase/5varpos/'\n",
      "pos6 = [0,2,3,5]\n",
      "pos5 = [0,1,2,4]\n",
      "theorSize6 = 20**4\n",
      "theorSize5 = 20**4 \n",
      "fings6 = ['F1', 'F2', 'F3']\n",
      "fings5 = ['F2']\n",
      "strins = ['low', 'high']"
     ],
     "language": "python",
     "metadata": {},
     "outputs": [],
     "prompt_number": 1
    },
    {
     "cell_type": "heading",
     "level": 2,
     "metadata": {},
     "source": [
      "6 Variable Position Data (F1, F2, and F3)"
     ]
    },
    {
     "cell_type": "code",
     "collapsed": false,
     "input": [
      "# Get total unique protein for each stringency\n",
      "print \"Total unique proteins for each finger/stringency.\"\n",
      "b1hUnique6 = {}\n",
      "for i, fing in enumerate(fings6):\n",
      "    for strin in strins:\n",
      "        b1hUnique6[(fing, strin)] = (getProtSet(prefix6 + fing + '/' + strin \\\n",
      "                                     + '/protein_cut10_entr04/all.txt', pos6))\n",
      "        print \"%s %s: %d (%f)\" \\\n",
      "            %(fing, strin, len(b1hUnique6[fing,strin]), \n",
      "              len(b1hUnique6[fing,strin])/float(theorSize6))\n",
      "            \n",
      "# Is high a subset of low for each finger?\n",
      "print\n",
      "print \"Is high a subset of low? -- |(High - Low)|/|High|.\"\n",
      "print \"F1: %f\" %( len(b1hUnique6['F1','high'] - b1hUnique6['F1','low']) \\\n",
      "                   /float(len(b1hUnique6['F3','high'])) )\n",
      "print \"F2: %f\" %( len(b1hUnique6['F2','high'] - b1hUnique6['F2','low']) \\\n",
      "                   /float(len(b1hUnique6['F2','high'])) )\n",
      "print \"F3: %f\" %( len(b1hUnique6['F3','high'] - b1hUnique6['F3','low']) \\\n",
      "                   /float(len(b1hUnique6['F3','high'])) )\n",
      "\n",
      "# What if we take union of all sequences from all fingers?\n",
      "highKeys = [k for k in b1hUnique6.keys() if k[1] == 'high']\n",
      "lowKeys = [k for k in b1hUnique6.keys() if k[1] == 'low']\n",
      "\n",
      "lowUnique6, highUnique6 = set(), set()\n",
      "for k in lowKeys:\n",
      "    lowUnique6 = lowUnique6 | b1hUnique6[k]\n",
      "for k in highKeys:\n",
      "    highUnique6 = highUnique6 | b1hUnique6[k]\n",
      "\n",
      "# Free up some memory\n",
      "del b1hUnique6\n",
      "\n",
      "print\n",
      "print \"Take union of sequences from all fingers.\"\n",
      "print \"Low: %d (%f)\" \\\n",
      "    %(len(lowUnique6), len(lowUnique6)/float(theorSize6))\n",
      "print \"High: %d (%f)\" \\\n",
      "    %(len(highUnique6), len(highUnique6)/float(theorSize6))\n",
      "print \"(High - Low)/High: %f\" \\\n",
      "    %(len(highUnique6 - lowUnique6)/float(len(highUnique6)))"
     ],
     "language": "python",
     "metadata": {},
     "outputs": [
      {
       "output_type": "stream",
       "stream": "stdout",
       "text": [
        "Total unique proteins for each finger/stringency.\n",
        "F1 low: 4997 (0.031231)"
       ]
      },
      {
       "output_type": "stream",
       "stream": "stdout",
       "text": [
        "\n",
        "F1 high: 3058 (0.019113)"
       ]
      },
      {
       "output_type": "stream",
       "stream": "stdout",
       "text": [
        "\n",
        "F2 low: 5552 (0.034700)"
       ]
      },
      {
       "output_type": "stream",
       "stream": "stdout",
       "text": [
        "\n",
        "F2 high: 3238 (0.020237)"
       ]
      },
      {
       "output_type": "stream",
       "stream": "stdout",
       "text": [
        "\n",
        "F3 low: 5764 (0.036025)"
       ]
      },
      {
       "output_type": "stream",
       "stream": "stdout",
       "text": [
        "\n",
        "F3 high: 3151 (0.019694)"
       ]
      },
      {
       "output_type": "stream",
       "stream": "stdout",
       "text": [
        "\n",
        "\n",
        "Is high a subset of low? -- |(High - Low)|/|High|.\n",
        "F1: 0.403999\n",
        "F2: 0.317171\n",
        "F3: 0.382736\n",
        "\n",
        "Take union of sequences from all fingers.\n",
        "Low: 12822 (0.080138)\n",
        "High: 8001 (0.050006)\n",
        "(High - Low)/High: 0.362080\n"
       ]
      }
     ],
     "prompt_number": 2
    },
    {
     "cell_type": "heading",
     "level": 2,
     "metadata": {},
     "source": [
      "5 Variable Position Data (F2)"
     ]
    },
    {
     "cell_type": "code",
     "collapsed": false,
     "input": [
      "# Get total unique proteins for each stringency\n",
      "print \"Total unique proteins for each finger/stringency.\"\n",
      "b1hUnique5 = {}\n",
      "for i, fing in enumerate(fings5):\n",
      "    for strin in strins:\n",
      "        b1hUnique5[(fing, strin)] = (getProtSet(prefix5 + fing + '/' + strin \\\n",
      "                                     + '/protein_cut10_entr04/all.txt', pos5))\n",
      "        print \"%s %s: %d (%f)\" \\\n",
      "            %(fing, strin, len(b1hUnique5[fing,strin]), \n",
      "              len(b1hUnique5[fing,strin])/float(theorSize5))\n",
      "\n",
      "# Is high a subset of low for each finger?f\n",
      "print\n",
      "print \"Is high a subset of low? -- |(High - Low)|/|High|.\"\n",
      "print \"F2: %f\" %( len(b1hUnique5['F2','high'] - b1hUnique5['F2','low']) \\\n",
      "                   /float(len(b1hUnique5['F2','high'])) )\n",
      "\n",
      "\n",
      "# What if we take union of all sequences from all fingers?\n",
      "highKeys = [k for k in b1hUnique5.keys() if k[1] == 'high']\n",
      "lowKeys = [k for k in b1hUnique5.keys() if k[1] == 'low']\n",
      "\n",
      "lowUnique5, highUnique5 = set(), set()\n",
      "for k in lowKeys:\n",
      "    lowUnique5 = lowUnique5 | b1hUnique5[k]\n",
      "for k in highKeys:\n",
      "    highUnique5 = highUnique5 | b1hUnique5[k]\n",
      "    \n",
      "# Free up some memory\n",
      "del b1hUnique5"
     ],
     "language": "python",
     "metadata": {},
     "outputs": [
      {
       "output_type": "stream",
       "stream": "stdout",
       "text": [
        "Total unique proteins for each finger/stringency.\n",
        "F2 low: 18336 (0.114600)"
       ]
      },
      {
       "output_type": "stream",
       "stream": "stdout",
       "text": [
        "\n",
        "F2 high: 8903 (0.055644)"
       ]
      },
      {
       "output_type": "stream",
       "stream": "stdout",
       "text": [
        "\n",
        "\n",
        "Is high a subset of low? -- |(High - Low)|/|High|.\n",
        "F2: 0.286420\n"
       ]
      }
     ],
     "prompt_number": 3
    },
    {
     "cell_type": "code",
     "collapsed": false,
     "input": [],
     "language": "python",
     "metadata": {},
     "outputs": [],
     "prompt_number": 3
    }
   ],
   "metadata": {}
  }
 ]
}