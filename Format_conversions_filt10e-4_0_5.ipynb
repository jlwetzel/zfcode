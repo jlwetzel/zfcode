{
 "metadata": {
  "name": "Format_conversions_filt10e-4_0_5"
 },
 "nbformat": 3,
 "nbformat_minor": 0,
 "worksheets": [
  {
   "cells": [
    {
     "cell_type": "code",
     "collapsed": false,
     "input": [
      "from changeFormats import targetFiles2singleCSV, csv2txtFile\n",
      "\n"
     ],
     "language": "python",
     "metadata": {},
     "outputs": [],
     "prompt_number": 1
    },
    {
     "cell_type": "code",
     "collapsed": false,
     "input": [
      "prefix = '../data/b1hData/antonProcessed/'\n",
      "numVarPos = 6\n",
      "interfaces = {}\n",
      "fings = ['F1', 'F2', 'F3']\n",
      "strins = ['high', 'low']\n",
      "for fing in fings:\n",
      "    for strin in strins:\n",
      "        path = prefix + fing + '/' + strin + '/' + 'filt_10e-4_0_5/'\n",
      "        interfaces[fing,strin] = targetFiles2singleCSV(path, numVarPos, '.txt', style = 'verbose')\n",
      "        csv2txtFile(path, numVarPos, style = 'verbose')\n",
      "        print"
     ],
     "language": "python",
     "metadata": {},
     "outputs": [
      {
       "output_type": "stream",
       "stream": "stdout",
       "text": [
        "Here\n",
        "Num proteins in ../data/b1hData/antonProcessed/F1/high/filt_10e-4_0_5/AAA.txt:  1087\n",
        "Num proteins in ../data/b1hData/antonProcessed/F1/high/filt_10e-4_0_5/AAC.txt:  996\n",
        "Num proteins in ../data/b1hData/antonProcessed/F1/high/filt_10e-4_0_5/AAG.txt:  1428"
       ]
      },
      {
       "output_type": "stream",
       "stream": "stdout",
       "text": [
        "\n",
        "Num proteins in ../data/b1hData/antonProcessed/F1/high/filt_10e-4_0_5/AAT.txt:  697\n",
        "Num proteins in ../data/b1hData/antonProcessed/F1/high/filt_10e-4_0_5/ACA.txt:  668\n",
        "Num proteins in ../data/b1hData/antonProcessed/F1/high/filt_10e-4_0_5/ACC.txt:  1037\n",
        "Num proteins in ../data/b1hData/antonProcessed/F1/high/filt_10e-4_0_5/ACG.txt:  902"
       ]
      },
      {
       "output_type": "stream",
       "stream": "stdout",
       "text": [
        "\n",
        "Num proteins in ../data/b1hData/antonProcessed/F1/high/filt_10e-4_0_5/ACT.txt:  1099\n",
        "Num proteins in ../data/b1hData/antonProcessed/F1/high/filt_10e-4_0_5/AGA.txt:  1602\n",
        "Num proteins in ../data/b1hData/antonProcessed/F1/high/filt_10e-4_0_5/AGC.txt:  913"
       ]
      },
      {
       "output_type": "stream",
       "stream": "stdout",
       "text": [
        "\n",
        "Num proteins in ../data/b1hData/antonProcessed/F1/high/filt_10e-4_0_5/AGG.txt:  952\n",
        "Num proteins in ../data/b1hData/antonProcessed/F1/high/filt_10e-4_0_5/AGT.txt:  968\n",
        "Num proteins in ../data/b1hData/antonProcessed/F1/high/filt_10e-4_0_5/ATA.txt:  1045\n",
        "Num proteins in ../data/b1hData/antonProcessed/F1/high/filt_10e-4_0_5/ATC.txt:  913\n",
        "Num proteins in ../data/b1hData/antonProcessed/F1/high/filt_10e-4_0_5/ATG.txt:  945"
       ]
      },
      {
       "output_type": "stream",
       "stream": "stdout",
       "text": [
        "\n",
        "Num proteins in ../data/b1hData/antonProcessed/F1/high/filt_10e-4_0_5/ATT.txt:  1085\n",
        "Num proteins in ../data/b1hData/antonProcessed/F1/high/filt_10e-4_0_5/CAA.txt:  1506\n",
        "Num proteins in ../data/b1hData/antonProcessed/F1/high/filt_10e-4_0_5/CAC.txt:  926\n",
        "Num proteins in ../data/b1hData/antonProcessed/F1/high/filt_10e-4_0_5/CAG.txt:  1149"
       ]
      },
      {
       "output_type": "stream",
       "stream": "stdout",
       "text": [
        "\n",
        "Num proteins in ../data/b1hData/antonProcessed/F1/high/filt_10e-4_0_5/CAT.txt:  1058\n",
        "Num proteins in ../data/b1hData/antonProcessed/F1/high/filt_10e-4_0_5/CCA.txt:  1066\n",
        "Num proteins in ../data/b1hData/antonProcessed/F1/high/filt_10e-4_0_5/CCC.txt:  1028"
       ]
      },
      {
       "output_type": "stream",
       "stream": "stdout",
       "text": [
        "\n",
        "Num proteins in ../data/b1hData/antonProcessed/F1/high/filt_10e-4_0_5/CCG.txt:  1053\n",
        "Num proteins in ../data/b1hData/antonProcessed/F1/high/filt_10e-4_0_5/CCT.txt:  966\n",
        "Num proteins in ../data/b1hData/antonProcessed/F1/high/filt_10e-4_0_5/CGA.txt:  1031"
       ]
      },
      {
       "output_type": "stream",
       "stream": "stdout",
       "text": [
        "\n",
        "Num proteins in ../data/b1hData/antonProcessed/F1/high/filt_10e-4_0_5/CGC.txt:  951\n",
        "Num proteins in ../data/b1hData/antonProcessed/F1/high/filt_10e-4_0_5/CGG.txt:  1126\n",
        "Num proteins in ../data/b1hData/antonProcessed/F1/high/filt_10e-4_0_5/CGT.txt:  65\n",
        "Num proteins in ../data/b1hData/antonProcessed/F1/high/filt_10e-4_0_5/CTA.txt:  13\n",
        "Num proteins in ../data/b1hData/antonProcessed/F1/high/filt_10e-4_0_5/CTC.txt:  663\n",
        "Num proteins in ../data/b1hData/antonProcessed/F1/high/filt_10e-4_0_5/CTG.txt:  1072"
       ]
      },
      {
       "output_type": "stream",
       "stream": "stdout",
       "text": [
        "\n",
        "Num proteins in ../data/b1hData/antonProcessed/F1/high/filt_10e-4_0_5/CTT.txt:  694\n",
        "Num proteins in ../data/b1hData/antonProcessed/F1/high/filt_10e-4_0_5/GAA.txt:  900\n",
        "Num proteins in ../data/b1hData/antonProcessed/F1/high/filt_10e-4_0_5/GAC.txt:  290\n",
        "Num proteins in ../data/b1hData/antonProcessed/F1/high/filt_10e-4_0_5/GAG.txt:  779"
       ]
      },
      {
       "output_type": "stream",
       "stream": "stdout",
       "text": [
        "\n",
        "Num proteins in ../data/b1hData/antonProcessed/F1/high/filt_10e-4_0_5/GAT.txt:  392\n",
        "Num proteins in ../data/b1hData/antonProcessed/F1/high/filt_10e-4_0_5/GCA.txt:  751\n",
        "Num proteins in ../data/b1hData/antonProcessed/F1/high/filt_10e-4_0_5/GCC.txt:  725\n",
        "Num proteins in ../data/b1hData/antonProcessed/F1/high/filt_10e-4_0_5/GCG.txt:  476\n",
        "Num proteins in ../data/b1hData/antonProcessed/F1/high/filt_10e-4_0_5/GCT.txt:  619\n",
        "Num proteins in ../data/b1hData/antonProcessed/F1/high/filt_10e-4_0_5/GGA.txt:  1618\n",
        "Num proteins in ../data/b1hData/antonProcessed/F1/high/filt_10e-4_0_5/GGC.txt:  1731"
       ]
      },
      {
       "output_type": "stream",
       "stream": "stdout",
       "text": [
        "\n",
        "Num proteins in ../data/b1hData/antonProcessed/F1/high/filt_10e-4_0_5/GGG.txt:  984\n",
        "Num proteins in ../data/b1hData/antonProcessed/F1/high/filt_10e-4_0_5/GGT.txt:  1187\n",
        "Num proteins in ../data/b1hData/antonProcessed/F1/high/filt_10e-4_0_5/GTA.txt:  996\n",
        "Num proteins in ../data/b1hData/antonProcessed/F1/high/filt_10e-4_0_5/GTC.txt:  910\n",
        "Num proteins in ../data/b1hData/antonProcessed/F1/high/filt_10e-4_0_5/GTG.txt:  951"
       ]
      },
      {
       "output_type": "stream",
       "stream": "stdout",
       "text": [
        "\n",
        "Num proteins in ../data/b1hData/antonProcessed/F1/high/filt_10e-4_0_5/GTT.txt:  753\n",
        "Num proteins in ../data/b1hData/antonProcessed/F1/high/filt_10e-4_0_5/TAA.txt:  1036\n",
        "Num proteins in ../data/b1hData/antonProcessed/F1/high/filt_10e-4_0_5/TAC.txt:  37\n",
        "Num proteins in ../data/b1hData/antonProcessed/F1/high/filt_10e-4_0_5/TAG.txt:  669\n",
        "Num proteins in ../data/b1hData/antonProcessed/F1/high/filt_10e-4_0_5/TAT.txt:  1217"
       ]
      },
      {
       "output_type": "stream",
       "stream": "stdout",
       "text": [
        "\n",
        "Num proteins in ../data/b1hData/antonProcessed/F1/high/filt_10e-4_0_5/TCA.txt:  1190\n",
        "Num proteins in ../data/b1hData/antonProcessed/F1/high/filt_10e-4_0_5/TCC.txt:  963\n",
        "Num proteins in ../data/b1hData/antonProcessed/F1/high/filt_10e-4_0_5/TCG.txt:  1373\n",
        "Num proteins in ../data/b1hData/antonProcessed/F1/high/filt_10e-4_0_5/TCT.txt:  1227\n",
        "Num proteins in ../data/b1hData/antonProcessed/F1/high/filt_10e-4_0_5/TGA.txt:  906"
       ]
      },
      {
       "output_type": "stream",
       "stream": "stdout",
       "text": [
        "\n",
        "Num proteins in ../data/b1hData/antonProcessed/F1/high/filt_10e-4_0_5/TGC.txt:  874\n",
        "Num proteins in ../data/b1hData/antonProcessed/F1/high/filt_10e-4_0_5/TGG.txt:  758\n",
        "Num proteins in ../data/b1hData/antonProcessed/F1/high/filt_10e-4_0_5/TGT.txt:  1019\n",
        "Num proteins in ../data/b1hData/antonProcessed/F1/high/filt_10e-4_0_5/TTA.txt:  818\n",
        "Num proteins in ../data/b1hData/antonProcessed/F1/high/filt_10e-4_0_5/TTC.txt:  813\n",
        "Num proteins in ../data/b1hData/antonProcessed/F1/high/filt_10e-4_0_5/TTG.txt:  1190"
       ]
      },
      {
       "output_type": "stream",
       "stream": "stdout",
       "text": [
        "\n",
        "Num proteins in ../data/b1hData/antonProcessed/F1/high/filt_10e-4_0_5/TTT.txt:  960\n",
        "Total num protein/dna observations in all files:  59816\n",
        "Total num unique proteins in all files:  41233\n",
        "\n",
        "Num obs processed in csv to txt conversion:  59816"
       ]
      },
      {
       "output_type": "stream",
       "stream": "stdout",
       "text": [
        "\n",
        "\n",
        "Here\n",
        "Num proteins in ../data/b1hData/antonProcessed/F1/low/filt_10e-4_0_5/AAA.txt:  480"
       ]
      },
      {
       "output_type": "stream",
       "stream": "stdout",
       "text": [
        "\n",
        "Num proteins in ../data/b1hData/antonProcessed/F1/low/filt_10e-4_0_5/AAC.txt:  527\n",
        "Num proteins in ../data/b1hData/antonProcessed/F1/low/filt_10e-4_0_5/AAG.txt:  2800\n",
        "Num proteins in ../data/b1hData/antonProcessed/F1/low/filt_10e-4_0_5/AAT.txt:  493\n",
        "Num proteins in ../data/b1hData/antonProcessed/F1/low/filt_10e-4_0_5/ACA.txt:  1209\n",
        "Num proteins in ../data/b1hData/antonProcessed/F1/low/filt_10e-4_0_5/ACC.txt:  579"
       ]
      },
      {
       "output_type": "stream",
       "stream": "stdout",
       "text": [
        "\n",
        "Num proteins in ../data/b1hData/antonProcessed/F1/low/filt_10e-4_0_5/ACG.txt:  2400\n",
        "Num proteins in ../data/b1hData/antonProcessed/F1/low/filt_10e-4_0_5/ACT.txt:  684\n",
        "Num proteins in ../data/b1hData/antonProcessed/F1/low/filt_10e-4_0_5/AGA.txt:  472\n",
        "Num proteins in ../data/b1hData/antonProcessed/F1/low/filt_10e-4_0_5/AGC.txt:  1545"
       ]
      },
      {
       "output_type": "stream",
       "stream": "stdout",
       "text": [
        "\n",
        "Num proteins in ../data/b1hData/antonProcessed/F1/low/filt_10e-4_0_5/AGG.txt:  953\n",
        "Num proteins in ../data/b1hData/antonProcessed/F1/low/filt_10e-4_0_5/AGT.txt:  1263\n",
        "Num proteins in ../data/b1hData/antonProcessed/F1/low/filt_10e-4_0_5/ATA.txt:  1006\n",
        "Num proteins in ../data/b1hData/antonProcessed/F1/low/filt_10e-4_0_5/ATC.txt:  1008"
       ]
      },
      {
       "output_type": "stream",
       "stream": "stdout",
       "text": [
        "\n",
        "Num proteins in ../data/b1hData/antonProcessed/F1/low/filt_10e-4_0_5/ATG.txt:  1165\n",
        "Num proteins in ../data/b1hData/antonProcessed/F1/low/filt_10e-4_0_5/ATT.txt:  881\n",
        "Num proteins in ../data/b1hData/antonProcessed/F1/low/filt_10e-4_0_5/CAA.txt:  1333\n",
        "Num proteins in ../data/b1hData/antonProcessed/F1/low/filt_10e-4_0_5/CAC.txt:  829"
       ]
      },
      {
       "output_type": "stream",
       "stream": "stdout",
       "text": [
        "\n",
        "Num proteins in ../data/b1hData/antonProcessed/F1/low/filt_10e-4_0_5/CAG.txt:  1306\n",
        "Num proteins in ../data/b1hData/antonProcessed/F1/low/filt_10e-4_0_5/CAT.txt:  1554\n",
        "Num proteins in ../data/b1hData/antonProcessed/F1/low/filt_10e-4_0_5/CCA.txt:  1736"
       ]
      },
      {
       "output_type": "stream",
       "stream": "stdout",
       "text": [
        "\n",
        "Num proteins in ../data/b1hData/antonProcessed/F1/low/filt_10e-4_0_5/CCC.txt:  1359\n",
        "Num proteins in ../data/b1hData/antonProcessed/F1/low/filt_10e-4_0_5/CCG.txt:  1247\n",
        "Num proteins in ../data/b1hData/antonProcessed/F1/low/filt_10e-4_0_5/CCT.txt:  1834"
       ]
      },
      {
       "output_type": "stream",
       "stream": "stdout",
       "text": [
        "\n",
        "Num proteins in ../data/b1hData/antonProcessed/F1/low/filt_10e-4_0_5/CGA.txt:  1395\n",
        "Num proteins in ../data/b1hData/antonProcessed/F1/low/filt_10e-4_0_5/CGC.txt:  1428\n",
        "Num proteins in ../data/b1hData/antonProcessed/F1/low/filt_10e-4_0_5/CGG.txt:  1535"
       ]
      },
      {
       "output_type": "stream",
       "stream": "stdout",
       "text": [
        "\n",
        "Num proteins in ../data/b1hData/antonProcessed/F1/low/filt_10e-4_0_5/CGT.txt:  57\n",
        "Num proteins in ../data/b1hData/antonProcessed/F1/low/filt_10e-4_0_5/CTA.txt:  92\n",
        "Num proteins in ../data/b1hData/antonProcessed/F1/low/filt_10e-4_0_5/CTC.txt:  1309\n",
        "Num proteins in ../data/b1hData/antonProcessed/F1/low/filt_10e-4_0_5/CTG.txt:  1088\n",
        "Num proteins in ../data/b1hData/antonProcessed/F1/low/filt_10e-4_0_5/CTT.txt:  1509"
       ]
      },
      {
       "output_type": "stream",
       "stream": "stdout",
       "text": [
        "\n",
        "Num proteins in ../data/b1hData/antonProcessed/F1/low/filt_10e-4_0_5/GAA.txt:  1117\n",
        "Num proteins in ../data/b1hData/antonProcessed/F1/low/filt_10e-4_0_5/GAC.txt:  775\n",
        "Num proteins in ../data/b1hData/antonProcessed/F1/low/filt_10e-4_0_5/GAG.txt:  1261\n",
        "Num proteins in ../data/b1hData/antonProcessed/F1/low/filt_10e-4_0_5/GAT.txt:  945"
       ]
      },
      {
       "output_type": "stream",
       "stream": "stdout",
       "text": [
        "\n",
        "Num proteins in ../data/b1hData/antonProcessed/F1/low/filt_10e-4_0_5/GCA.txt:  1399\n",
        "Num proteins in ../data/b1hData/antonProcessed/F1/low/filt_10e-4_0_5/GCC.txt:  704\n",
        "Num proteins in ../data/b1hData/antonProcessed/F1/low/filt_10e-4_0_5/GCG.txt:  1231\n",
        "Num proteins in ../data/b1hData/antonProcessed/F1/low/filt_10e-4_0_5/GCT.txt:  1331"
       ]
      },
      {
       "output_type": "stream",
       "stream": "stdout",
       "text": [
        "\n",
        "Num proteins in ../data/b1hData/antonProcessed/F1/low/filt_10e-4_0_5/GGA.txt:  524\n",
        "Num proteins in ../data/b1hData/antonProcessed/F1/low/filt_10e-4_0_5/GGC.txt:  1154\n",
        "Num proteins in ../data/b1hData/antonProcessed/F1/low/filt_10e-4_0_5/GGG.txt:  1311\n",
        "Num proteins in ../data/b1hData/antonProcessed/F1/low/filt_10e-4_0_5/GGT.txt:  1279"
       ]
      },
      {
       "output_type": "stream",
       "stream": "stdout",
       "text": [
        "\n",
        "Num proteins in ../data/b1hData/antonProcessed/F1/low/filt_10e-4_0_5/GTA.txt:  978\n",
        "Num proteins in ../data/b1hData/antonProcessed/F1/low/filt_10e-4_0_5/GTC.txt:  924\n",
        "Num proteins in ../data/b1hData/antonProcessed/F1/low/filt_10e-4_0_5/GTG.txt:  1246"
       ]
      },
      {
       "output_type": "stream",
       "stream": "stdout",
       "text": [
        "\n",
        "Num proteins in ../data/b1hData/antonProcessed/F1/low/filt_10e-4_0_5/GTT.txt:  1090\n",
        "Num proteins in ../data/b1hData/antonProcessed/F1/low/filt_10e-4_0_5/TAA.txt:  1428\n",
        "Num proteins in ../data/b1hData/antonProcessed/F1/low/filt_10e-4_0_5/TAC.txt:  102\n",
        "Num proteins in ../data/b1hData/antonProcessed/F1/low/filt_10e-4_0_5/TAG.txt:  619\n",
        "Num proteins in ../data/b1hData/antonProcessed/F1/low/filt_10e-4_0_5/TAT.txt:  461"
       ]
      },
      {
       "output_type": "stream",
       "stream": "stdout",
       "text": [
        "\n",
        "Num proteins in ../data/b1hData/antonProcessed/F1/low/filt_10e-4_0_5/TCA.txt:  1331\n",
        "Num proteins in ../data/b1hData/antonProcessed/F1/low/filt_10e-4_0_5/TCC.txt:  317\n",
        "Num proteins in ../data/b1hData/antonProcessed/F1/low/filt_10e-4_0_5/TCG.txt:  675\n",
        "Num proteins in ../data/b1hData/antonProcessed/F1/low/filt_10e-4_0_5/TCT.txt:  751"
       ]
      },
      {
       "output_type": "stream",
       "stream": "stdout",
       "text": [
        "\n",
        "Num proteins in ../data/b1hData/antonProcessed/F1/low/filt_10e-4_0_5/TGA.txt:  1207\n",
        "Num proteins in ../data/b1hData/antonProcessed/F1/low/filt_10e-4_0_5/TGC.txt:  1221\n",
        "Num proteins in ../data/b1hData/antonProcessed/F1/low/filt_10e-4_0_5/TGG.txt:  908"
       ]
      },
      {
       "output_type": "stream",
       "stream": "stdout",
       "text": [
        "\n",
        "Num proteins in ../data/b1hData/antonProcessed/F1/low/filt_10e-4_0_5/TGT.txt:  1933\n",
        "Num proteins in ../data/b1hData/antonProcessed/F1/low/filt_10e-4_0_5/TTA.txt:  1245"
       ]
      },
      {
       "output_type": "stream",
       "stream": "stdout",
       "text": [
        "\n",
        "Num proteins in ../data/b1hData/antonProcessed/F1/low/filt_10e-4_0_5/TTC.txt:  1184\n",
        "Num proteins in ../data/b1hData/antonProcessed/F1/low/filt_10e-4_0_5/TTG.txt:  1533\n",
        "Num proteins in ../data/b1hData/antonProcessed/F1/low/filt_10e-4_0_5/TTT.txt:  1108\n",
        "Total num protein/dna observations in all files:  70368\n",
        "Total num unique proteins in all files:  46010\n",
        "\n",
        "Num obs processed in csv to txt conversion:  70368"
       ]
      },
      {
       "output_type": "stream",
       "stream": "stdout",
       "text": [
        "\n",
        "\n",
        "Here\n",
        "Num proteins in ../data/b1hData/antonProcessed/F2/high/filt_10e-4_0_5/AAA.txt:  689"
       ]
      },
      {
       "output_type": "stream",
       "stream": "stdout",
       "text": [
        "\n",
        "Num proteins in ../data/b1hData/antonProcessed/F2/high/filt_10e-4_0_5/AAC.txt:  1252\n",
        "Num proteins in ../data/b1hData/antonProcessed/F2/high/filt_10e-4_0_5/AAG.txt:  1571\n",
        "Num proteins in ../data/b1hData/antonProcessed/F2/high/filt_10e-4_0_5/AAT.txt:  667"
       ]
      },
      {
       "output_type": "stream",
       "stream": "stdout",
       "text": [
        "\n",
        "Num proteins in ../data/b1hData/antonProcessed/F2/high/filt_10e-4_0_5/ACA.txt:  1026\n",
        "Num proteins in ../data/b1hData/antonProcessed/F2/high/filt_10e-4_0_5/ACC.txt:  656\n",
        "Num proteins in ../data/b1hData/antonProcessed/F2/high/filt_10e-4_0_5/ACG.txt:  918\n",
        "Num proteins in ../data/b1hData/antonProcessed/F2/high/filt_10e-4_0_5/ACT.txt:  1730\n",
        "Num proteins in ../data/b1hData/antonProcessed/F2/high/filt_10e-4_0_5/AGA.txt:  394"
       ]
      },
      {
       "output_type": "stream",
       "stream": "stdout",
       "text": [
        "\n",
        "Num proteins in ../data/b1hData/antonProcessed/F2/high/filt_10e-4_0_5/AGC.txt:  881\n",
        "Num proteins in ../data/b1hData/antonProcessed/F2/high/filt_10e-4_0_5/AGG.txt:  1229\n",
        "Num proteins in ../data/b1hData/antonProcessed/F2/high/filt_10e-4_0_5/AGT.txt:  1419\n",
        "Num proteins in ../data/b1hData/antonProcessed/F2/high/filt_10e-4_0_5/ATA.txt:  1126"
       ]
      },
      {
       "output_type": "stream",
       "stream": "stdout",
       "text": [
        "\n",
        "Num proteins in ../data/b1hData/antonProcessed/F2/high/filt_10e-4_0_5/ATC.txt:  670\n",
        "Num proteins in ../data/b1hData/antonProcessed/F2/high/filt_10e-4_0_5/ATG.txt:  496\n",
        "Num proteins in ../data/b1hData/antonProcessed/F2/high/filt_10e-4_0_5/ATT.txt:  846\n",
        "Num proteins in ../data/b1hData/antonProcessed/F2/high/filt_10e-4_0_5/CAA.txt:  691\n",
        "Num proteins in ../data/b1hData/antonProcessed/F2/high/filt_10e-4_0_5/CAC.txt:  840\n",
        "Num proteins in ../data/b1hData/antonProcessed/F2/high/filt_10e-4_0_5/CAG.txt:  1221"
       ]
      },
      {
       "output_type": "stream",
       "stream": "stdout",
       "text": [
        "\n",
        "Num proteins in ../data/b1hData/antonProcessed/F2/high/filt_10e-4_0_5/CAT.txt:  698\n",
        "Num proteins in ../data/b1hData/antonProcessed/F2/high/filt_10e-4_0_5/CCA.txt:  1273\n",
        "Num proteins in ../data/b1hData/antonProcessed/F2/high/filt_10e-4_0_5/CCC.txt:  659\n",
        "Num proteins in ../data/b1hData/antonProcessed/F2/high/filt_10e-4_0_5/CCG.txt:  820\n",
        "Num proteins in ../data/b1hData/antonProcessed/F2/high/filt_10e-4_0_5/CCT.txt:  733"
       ]
      },
      {
       "output_type": "stream",
       "stream": "stdout",
       "text": [
        "\n",
        "Num proteins in ../data/b1hData/antonProcessed/F2/high/filt_10e-4_0_5/CGA.txt:  537\n",
        "Num proteins in ../data/b1hData/antonProcessed/F2/high/filt_10e-4_0_5/CGC.txt:  970\n",
        "Num proteins in ../data/b1hData/antonProcessed/F2/high/filt_10e-4_0_5/CGG.txt:  1444"
       ]
      },
      {
       "output_type": "stream",
       "stream": "stdout",
       "text": [
        "\n",
        "Num proteins in ../data/b1hData/antonProcessed/F2/high/filt_10e-4_0_5/CGT.txt:  1175\n",
        "Num proteins in ../data/b1hData/antonProcessed/F2/high/filt_10e-4_0_5/CTA.txt:  912"
       ]
      },
      {
       "output_type": "stream",
       "stream": "stdout",
       "text": [
        "\n",
        "Num proteins in ../data/b1hData/antonProcessed/F2/high/filt_10e-4_0_5/CTC.txt:  604\n",
        "Num proteins in ../data/b1hData/antonProcessed/F2/high/filt_10e-4_0_5/CTG.txt:  1231"
       ]
      },
      {
       "output_type": "stream",
       "stream": "stdout",
       "text": [
        "\n",
        "Num proteins in ../data/b1hData/antonProcessed/F2/high/filt_10e-4_0_5/CTT.txt:  1186\n",
        "Num proteins in ../data/b1hData/antonProcessed/F2/high/filt_10e-4_0_5/GAA.txt:  941"
       ]
      },
      {
       "output_type": "stream",
       "stream": "stdout",
       "text": [
        "\n",
        "Num proteins in ../data/b1hData/antonProcessed/F2/high/filt_10e-4_0_5/GAC.txt:  890\n",
        "Num proteins in ../data/b1hData/antonProcessed/F2/high/filt_10e-4_0_5/GAG.txt:  1323\n",
        "Num proteins in ../data/b1hData/antonProcessed/F2/high/filt_10e-4_0_5/GAT.txt:  1000\n",
        "Num proteins in ../data/b1hData/antonProcessed/F2/high/filt_10e-4_0_5/GCA.txt:  1460"
       ]
      },
      {
       "output_type": "stream",
       "stream": "stdout",
       "text": [
        "\n",
        "Num proteins in ../data/b1hData/antonProcessed/F2/high/filt_10e-4_0_5/GCC.txt:  1499\n",
        "Num proteins in ../data/b1hData/antonProcessed/F2/high/filt_10e-4_0_5/GCG.txt:  944"
       ]
      },
      {
       "output_type": "stream",
       "stream": "stdout",
       "text": [
        "\n",
        "Num proteins in ../data/b1hData/antonProcessed/F2/high/filt_10e-4_0_5/GCT.txt:  1162\n",
        "Num proteins in ../data/b1hData/antonProcessed/F2/high/filt_10e-4_0_5/GGA.txt:  954"
       ]
      },
      {
       "output_type": "stream",
       "stream": "stdout",
       "text": [
        "\n",
        "Num proteins in ../data/b1hData/antonProcessed/F2/high/filt_10e-4_0_5/GGC.txt:  1393\n",
        "Num proteins in ../data/b1hData/antonProcessed/F2/high/filt_10e-4_0_5/GGG.txt:  1392\n",
        "Num proteins in ../data/b1hData/antonProcessed/F2/high/filt_10e-4_0_5/GGT.txt:  1595"
       ]
      },
      {
       "output_type": "stream",
       "stream": "stdout",
       "text": [
        "\n",
        "Num proteins in ../data/b1hData/antonProcessed/F2/high/filt_10e-4_0_5/GTA.txt:  796\n",
        "Num proteins in ../data/b1hData/antonProcessed/F2/high/filt_10e-4_0_5/GTC.txt:  675"
       ]
      },
      {
       "output_type": "stream",
       "stream": "stdout",
       "text": [
        "\n",
        "Num proteins in ../data/b1hData/antonProcessed/F2/high/filt_10e-4_0_5/GTG.txt:  1508\n",
        "Num proteins in ../data/b1hData/antonProcessed/F2/high/filt_10e-4_0_5/GTT.txt:  859"
       ]
      },
      {
       "output_type": "stream",
       "stream": "stdout",
       "text": [
        "\n",
        "Num proteins in ../data/b1hData/antonProcessed/F2/high/filt_10e-4_0_5/TAA.txt:  571\n",
        "Num proteins in ../data/b1hData/antonProcessed/F2/high/filt_10e-4_0_5/TAC.txt:  767\n",
        "Num proteins in ../data/b1hData/antonProcessed/F2/high/filt_10e-4_0_5/TAG.txt:  671\n",
        "Num proteins in ../data/b1hData/antonProcessed/F2/high/filt_10e-4_0_5/TAT.txt:  1021\n",
        "Num proteins in ../data/b1hData/antonProcessed/F2/high/filt_10e-4_0_5/TCA.txt:  711\n",
        "Num proteins in ../data/b1hData/antonProcessed/F2/high/filt_10e-4_0_5/TCC.txt:  336\n",
        "Num proteins in ../data/b1hData/antonProcessed/F2/high/filt_10e-4_0_5/TCG.txt:  730"
       ]
      },
      {
       "output_type": "stream",
       "stream": "stdout",
       "text": [
        "\n",
        "Num proteins in ../data/b1hData/antonProcessed/F2/high/filt_10e-4_0_5/TCT.txt:  1628\n",
        "Num proteins in ../data/b1hData/antonProcessed/F2/high/filt_10e-4_0_5/TGA.txt:  1185\n",
        "Num proteins in ../data/b1hData/antonProcessed/F2/high/filt_10e-4_0_5/TGC.txt:  101\n",
        "Num proteins in ../data/b1hData/antonProcessed/F2/high/filt_10e-4_0_5/TGG.txt:  1456"
       ]
      },
      {
       "output_type": "stream",
       "stream": "stdout",
       "text": [
        "\n",
        "Num proteins in ../data/b1hData/antonProcessed/F2/high/filt_10e-4_0_5/TGT.txt:  1780\n",
        "Num proteins in ../data/b1hData/antonProcessed/F2/high/filt_10e-4_0_5/TTA.txt:  657\n",
        "Num proteins in ../data/b1hData/antonProcessed/F2/high/filt_10e-4_0_5/TTC.txt:  416\n",
        "Num proteins in ../data/b1hData/antonProcessed/F2/high/filt_10e-4_0_5/TTG.txt:  790\n",
        "Num proteins in ../data/b1hData/antonProcessed/F2/high/filt_10e-4_0_5/TTT.txt:  311\n",
        "Total num protein/dna observations in all files:  62086\n",
        "Total num unique proteins in all files:  46521\n",
        "\n",
        "Num obs processed in csv to txt conversion:  62086"
       ]
      },
      {
       "output_type": "stream",
       "stream": "stdout",
       "text": [
        "\n",
        "\n",
        "Here\n",
        "Num proteins in ../data/b1hData/antonProcessed/F2/low/filt_10e-4_0_5/AAA.txt:  1111"
       ]
      },
      {
       "output_type": "stream",
       "stream": "stdout",
       "text": [
        "\n",
        "Num proteins in ../data/b1hData/antonProcessed/F2/low/filt_10e-4_0_5/AAC.txt:  2266\n",
        "Num proteins in ../data/b1hData/antonProcessed/F2/low/filt_10e-4_0_5/AAG.txt:  2607"
       ]
      },
      {
       "output_type": "stream",
       "stream": "stdout",
       "text": [
        "\n",
        "Num proteins in ../data/b1hData/antonProcessed/F2/low/filt_10e-4_0_5/AAT.txt:  1769\n",
        "Num proteins in ../data/b1hData/antonProcessed/F2/low/filt_10e-4_0_5/ACA.txt:  1772\n",
        "Num proteins in ../data/b1hData/antonProcessed/F2/low/filt_10e-4_0_5/ACC.txt:  1036"
       ]
      },
      {
       "output_type": "stream",
       "stream": "stdout",
       "text": [
        "\n",
        "Num proteins in ../data/b1hData/antonProcessed/F2/low/filt_10e-4_0_5/ACG.txt:  2011\n",
        "Num proteins in ../data/b1hData/antonProcessed/F2/low/filt_10e-4_0_5/ACT.txt:  2741"
       ]
      },
      {
       "output_type": "stream",
       "stream": "stdout",
       "text": [
        "\n",
        "Num proteins in ../data/b1hData/antonProcessed/F2/low/filt_10e-4_0_5/AGA.txt:  1192\n",
        "Num proteins in ../data/b1hData/antonProcessed/F2/low/filt_10e-4_0_5/AGC.txt:  1190\n",
        "Num proteins in ../data/b1hData/antonProcessed/F2/low/filt_10e-4_0_5/AGG.txt:  2320"
       ]
      },
      {
       "output_type": "stream",
       "stream": "stdout",
       "text": [
        "\n",
        "Num proteins in ../data/b1hData/antonProcessed/F2/low/filt_10e-4_0_5/AGT.txt:  2270\n",
        "Num proteins in ../data/b1hData/antonProcessed/F2/low/filt_10e-4_0_5/ATA.txt:  627\n",
        "Num proteins in ../data/b1hData/antonProcessed/F2/low/filt_10e-4_0_5/ATC.txt:  1577"
       ]
      },
      {
       "output_type": "stream",
       "stream": "stdout",
       "text": [
        "\n",
        "Num proteins in ../data/b1hData/antonProcessed/F2/low/filt_10e-4_0_5/ATG.txt:  1606\n",
        "Num proteins in ../data/b1hData/antonProcessed/F2/low/filt_10e-4_0_5/ATT.txt:  1854"
       ]
      },
      {
       "output_type": "stream",
       "stream": "stdout",
       "text": [
        "\n",
        "Num proteins in ../data/b1hData/antonProcessed/F2/low/filt_10e-4_0_5/CAA.txt:  858\n",
        "Num proteins in ../data/b1hData/antonProcessed/F2/low/filt_10e-4_0_5/CAC.txt:  1858\n",
        "Num proteins in ../data/b1hData/antonProcessed/F2/low/filt_10e-4_0_5/CAG.txt:  2304"
       ]
      },
      {
       "output_type": "stream",
       "stream": "stdout",
       "text": [
        "\n",
        "Num proteins in ../data/b1hData/antonProcessed/F2/low/filt_10e-4_0_5/CAT.txt:  1728\n",
        "Num proteins in ../data/b1hData/antonProcessed/F2/low/filt_10e-4_0_5/CCA.txt:  912"
       ]
      },
      {
       "output_type": "stream",
       "stream": "stdout",
       "text": [
        "\n",
        "Num proteins in ../data/b1hData/antonProcessed/F2/low/filt_10e-4_0_5/CCC.txt:  637\n",
        "Num proteins in ../data/b1hData/antonProcessed/F2/low/filt_10e-4_0_5/CCG.txt:  1194"
       ]
      },
      {
       "output_type": "stream",
       "stream": "stdout",
       "text": [
        "\n",
        "Num proteins in ../data/b1hData/antonProcessed/F2/low/filt_10e-4_0_5/CCT.txt:  1067\n",
        "Num proteins in ../data/b1hData/antonProcessed/F2/low/filt_10e-4_0_5/CGA.txt:  1377\n",
        "Num proteins in ../data/b1hData/antonProcessed/F2/low/filt_10e-4_0_5/CGC.txt:  1107"
       ]
      },
      {
       "output_type": "stream",
       "stream": "stdout",
       "text": [
        "\n",
        "Num proteins in ../data/b1hData/antonProcessed/F2/low/filt_10e-4_0_5/CGG.txt:  2296\n",
        "Num proteins in ../data/b1hData/antonProcessed/F2/low/filt_10e-4_0_5/CGT.txt:  2027"
       ]
      },
      {
       "output_type": "stream",
       "stream": "stdout",
       "text": [
        "\n",
        "Num proteins in ../data/b1hData/antonProcessed/F2/low/filt_10e-4_0_5/CTA.txt:  486\n",
        "Num proteins in ../data/b1hData/antonProcessed/F2/low/filt_10e-4_0_5/CTC.txt:  780\n",
        "Num proteins in ../data/b1hData/antonProcessed/F2/low/filt_10e-4_0_5/CTG.txt:  1191\n",
        "Num proteins in ../data/b1hData/antonProcessed/F2/low/filt_10e-4_0_5/CTT.txt:  1124"
       ]
      },
      {
       "output_type": "stream",
       "stream": "stdout",
       "text": [
        "\n",
        "Num proteins in ../data/b1hData/antonProcessed/F2/low/filt_10e-4_0_5/GAA.txt:  847\n",
        "Num proteins in ../data/b1hData/antonProcessed/F2/low/filt_10e-4_0_5/GAC.txt:  1787\n",
        "Num proteins in ../data/b1hData/antonProcessed/F2/low/filt_10e-4_0_5/GAG.txt:  2149"
       ]
      },
      {
       "output_type": "stream",
       "stream": "stdout",
       "text": [
        "\n",
        "Num proteins in ../data/b1hData/antonProcessed/F2/low/filt_10e-4_0_5/GAT.txt:  2120\n",
        "Num proteins in ../data/b1hData/antonProcessed/F2/low/filt_10e-4_0_5/GCA.txt:  855"
       ]
      },
      {
       "output_type": "stream",
       "stream": "stdout",
       "text": [
        "\n",
        "Num proteins in ../data/b1hData/antonProcessed/F2/low/filt_10e-4_0_5/GCC.txt:  983\n",
        "Num proteins in ../data/b1hData/antonProcessed/F2/low/filt_10e-4_0_5/GCG.txt:  2087\n",
        "Num proteins in ../data/b1hData/antonProcessed/F2/low/filt_10e-4_0_5/GCT.txt:  2178"
       ]
      },
      {
       "output_type": "stream",
       "stream": "stdout",
       "text": [
        "\n",
        "Num proteins in ../data/b1hData/antonProcessed/F2/low/filt_10e-4_0_5/GGA.txt:  1166\n",
        "Num proteins in ../data/b1hData/antonProcessed/F2/low/filt_10e-4_0_5/GGC.txt:  874\n",
        "Num proteins in ../data/b1hData/antonProcessed/F2/low/filt_10e-4_0_5/GGG.txt:  2504"
       ]
      },
      {
       "output_type": "stream",
       "stream": "stdout",
       "text": [
        "\n",
        "Num proteins in ../data/b1hData/antonProcessed/F2/low/filt_10e-4_0_5/GGT.txt:  1591\n",
        "Num proteins in ../data/b1hData/antonProcessed/F2/low/filt_10e-4_0_5/GTA.txt:  1131\n",
        "Num proteins in ../data/b1hData/antonProcessed/F2/low/filt_10e-4_0_5/GTC.txt:  1376"
       ]
      },
      {
       "output_type": "stream",
       "stream": "stdout",
       "text": [
        "\n",
        "Num proteins in ../data/b1hData/antonProcessed/F2/low/filt_10e-4_0_5/GTG.txt:  2829\n",
        "Num proteins in ../data/b1hData/antonProcessed/F2/low/filt_10e-4_0_5/GTT.txt:  1883\n",
        "Num proteins in ../data/b1hData/antonProcessed/F2/low/filt_10e-4_0_5/TAA.txt:  911"
       ]
      },
      {
       "output_type": "stream",
       "stream": "stdout",
       "text": [
        "\n",
        "Num proteins in ../data/b1hData/antonProcessed/F2/low/filt_10e-4_0_5/TAC.txt:  1229\n",
        "Num proteins in ../data/b1hData/antonProcessed/F2/low/filt_10e-4_0_5/TAG.txt:  1246\n",
        "Num proteins in ../data/b1hData/antonProcessed/F2/low/filt_10e-4_0_5/TAT.txt:  1874"
       ]
      },
      {
       "output_type": "stream",
       "stream": "stdout",
       "text": [
        "\n",
        "Num proteins in ../data/b1hData/antonProcessed/F2/low/filt_10e-4_0_5/TCA.txt:  500\n",
        "Num proteins in ../data/b1hData/antonProcessed/F2/low/filt_10e-4_0_5/TCC.txt:  1111\n",
        "Num proteins in ../data/b1hData/antonProcessed/F2/low/filt_10e-4_0_5/TCG.txt:  1432\n",
        "Num proteins in ../data/b1hData/antonProcessed/F2/low/filt_10e-4_0_5/TCT.txt:  1562\n",
        "Num proteins in ../data/b1hData/antonProcessed/F2/low/filt_10e-4_0_5/TGA.txt:  1095"
       ]
      },
      {
       "output_type": "stream",
       "stream": "stdout",
       "text": [
        "\n",
        "Num proteins in ../data/b1hData/antonProcessed/F2/low/filt_10e-4_0_5/TGC.txt:  1266\n",
        "Num proteins in ../data/b1hData/antonProcessed/F2/low/filt_10e-4_0_5/TGG.txt:  2505\n",
        "Num proteins in ../data/b1hData/antonProcessed/F2/low/filt_10e-4_0_5/TGT.txt:  2431"
       ]
      },
      {
       "output_type": "stream",
       "stream": "stdout",
       "text": [
        "\n",
        "Num proteins in ../data/b1hData/antonProcessed/F2/low/filt_10e-4_0_5/TTA.txt:  489\n",
        "Num proteins in ../data/b1hData/antonProcessed/F2/low/filt_10e-4_0_5/TTC.txt:  622\n",
        "Num proteins in ../data/b1hData/antonProcessed/F2/low/filt_10e-4_0_5/TTG.txt:  1617\n",
        "Num proteins in ../data/b1hData/antonProcessed/F2/low/filt_10e-4_0_5/TTT.txt:  1214\n",
        "Total num protein/dna observations in all files:  96359\n",
        "Total num unique proteins in all files:  68731\n",
        "\n",
        "Num obs processed in csv to txt conversion:  96359"
       ]
      },
      {
       "output_type": "stream",
       "stream": "stdout",
       "text": [
        "\n",
        "\n",
        "Here\n",
        "Num proteins in ../data/b1hData/antonProcessed/F3/high/filt_10e-4_0_5/AAA.txt:  1099"
       ]
      },
      {
       "output_type": "stream",
       "stream": "stdout",
       "text": [
        "\n",
        "Num proteins in ../data/b1hData/antonProcessed/F3/high/filt_10e-4_0_5/AAC.txt:  1496\n",
        "Num proteins in ../data/b1hData/antonProcessed/F3/high/filt_10e-4_0_5/AAG.txt:  1844"
       ]
      },
      {
       "output_type": "stream",
       "stream": "stdout",
       "text": [
        "\n",
        "Num proteins in ../data/b1hData/antonProcessed/F3/high/filt_10e-4_0_5/AAT.txt:  1148\n",
        "Num proteins in ../data/b1hData/antonProcessed/F3/high/filt_10e-4_0_5/ACA.txt:  1167\n",
        "Num proteins in ../data/b1hData/antonProcessed/F3/high/filt_10e-4_0_5/ACC.txt:  221\n",
        "Num proteins in ../data/b1hData/antonProcessed/F3/high/filt_10e-4_0_5/ACG.txt:  1545"
       ]
      },
      {
       "output_type": "stream",
       "stream": "stdout",
       "text": [
        "\n",
        "Num proteins in ../data/b1hData/antonProcessed/F3/high/filt_10e-4_0_5/ACT.txt:  1241\n",
        "Num proteins in ../data/b1hData/antonProcessed/F3/high/filt_10e-4_0_5/AGA.txt:  24\n",
        "Num proteins in ../data/b1hData/antonProcessed/F3/high/filt_10e-4_0_5/AGC.txt:  1996"
       ]
      },
      {
       "output_type": "stream",
       "stream": "stdout",
       "text": [
        "\n",
        "Num proteins in ../data/b1hData/antonProcessed/F3/high/filt_10e-4_0_5/AGG.txt:  2199\n",
        "Num proteins in ../data/b1hData/antonProcessed/F3/high/filt_10e-4_0_5/AGT.txt:  1335"
       ]
      },
      {
       "output_type": "stream",
       "stream": "stdout",
       "text": [
        "\n",
        "Num proteins in ../data/b1hData/antonProcessed/F3/high/filt_10e-4_0_5/ATA.txt:  1105\n",
        "Num proteins in ../data/b1hData/antonProcessed/F3/high/filt_10e-4_0_5/ATC.txt:  1563\n",
        "Num proteins in ../data/b1hData/antonProcessed/F3/high/filt_10e-4_0_5/ATG.txt:  1292"
       ]
      },
      {
       "output_type": "stream",
       "stream": "stdout",
       "text": [
        "\n",
        "Num proteins in ../data/b1hData/antonProcessed/F3/high/filt_10e-4_0_5/ATT.txt:  1110\n",
        "Num proteins in ../data/b1hData/antonProcessed/F3/high/filt_10e-4_0_5/CAA.txt:  1091\n",
        "Num proteins in ../data/b1hData/antonProcessed/F3/high/filt_10e-4_0_5/CAC.txt:  1467"
       ]
      },
      {
       "output_type": "stream",
       "stream": "stdout",
       "text": [
        "\n",
        "Num proteins in ../data/b1hData/antonProcessed/F3/high/filt_10e-4_0_5/CAG.txt:  1422\n",
        "Num proteins in ../data/b1hData/antonProcessed/F3/high/filt_10e-4_0_5/CAT.txt:  742"
       ]
      },
      {
       "output_type": "stream",
       "stream": "stdout",
       "text": [
        "\n",
        "Num proteins in ../data/b1hData/antonProcessed/F3/high/filt_10e-4_0_5/CCA.txt:  1146"
       ]
      },
      {
       "output_type": "stream",
       "stream": "stdout",
       "text": [
        "\n",
        "Num proteins in ../data/b1hData/antonProcessed/F3/high/filt_10e-4_0_5/CCC.txt:  1055\n",
        "Num proteins in ../data/b1hData/antonProcessed/F3/high/filt_10e-4_0_5/CCG.txt:  1492\n",
        "Num proteins in ../data/b1hData/antonProcessed/F3/high/filt_10e-4_0_5/CCT.txt:  1389\n",
        "Num proteins in ../data/b1hData/antonProcessed/F3/high/filt_10e-4_0_5/CGA.txt:  889"
       ]
      },
      {
       "output_type": "stream",
       "stream": "stdout",
       "text": [
        "\n",
        "Num proteins in ../data/b1hData/antonProcessed/F3/high/filt_10e-4_0_5/CGC.txt:  1602\n",
        "Num proteins in ../data/b1hData/antonProcessed/F3/high/filt_10e-4_0_5/CGG.txt:  561\n",
        "Num proteins in ../data/b1hData/antonProcessed/F3/high/filt_10e-4_0_5/CGT.txt:  844\n",
        "Num proteins in ../data/b1hData/antonProcessed/F3/high/filt_10e-4_0_5/CTA.txt:  1544"
       ]
      },
      {
       "output_type": "stream",
       "stream": "stdout",
       "text": [
        "\n",
        "Num proteins in ../data/b1hData/antonProcessed/F3/high/filt_10e-4_0_5/CTC.txt:  1603\n",
        "Num proteins in ../data/b1hData/antonProcessed/F3/high/filt_10e-4_0_5/CTG.txt:  1579"
       ]
      },
      {
       "output_type": "stream",
       "stream": "stdout",
       "text": [
        "\n",
        "Num proteins in ../data/b1hData/antonProcessed/F3/high/filt_10e-4_0_5/CTT.txt:  1120\n",
        "Num proteins in ../data/b1hData/antonProcessed/F3/high/filt_10e-4_0_5/GAA.txt:  844\n",
        "Num proteins in ../data/b1hData/antonProcessed/F3/high/filt_10e-4_0_5/GAC.txt:  832\n",
        "Num proteins in ../data/b1hData/antonProcessed/F3/high/filt_10e-4_0_5/GAG.txt:  1322"
       ]
      },
      {
       "output_type": "stream",
       "stream": "stdout",
       "text": [
        "\n",
        "Num proteins in ../data/b1hData/antonProcessed/F3/high/filt_10e-4_0_5/GAT.txt:  1227\n",
        "Num proteins in ../data/b1hData/antonProcessed/F3/high/filt_10e-4_0_5/GCA.txt:  777\n",
        "Num proteins in ../data/b1hData/antonProcessed/F3/high/filt_10e-4_0_5/GCC.txt:  959"
       ]
      },
      {
       "output_type": "stream",
       "stream": "stdout",
       "text": [
        "\n",
        "Num proteins in ../data/b1hData/antonProcessed/F3/high/filt_10e-4_0_5/GCG.txt:  1158\n",
        "Num proteins in ../data/b1hData/antonProcessed/F3/high/filt_10e-4_0_5/GCT.txt:  1311\n",
        "Num proteins in ../data/b1hData/antonProcessed/F3/high/filt_10e-4_0_5/GGA.txt:  1001"
       ]
      },
      {
       "output_type": "stream",
       "stream": "stdout",
       "text": [
        "\n",
        "Num proteins in ../data/b1hData/antonProcessed/F3/high/filt_10e-4_0_5/GGC.txt:  1164\n",
        "Num proteins in ../data/b1hData/antonProcessed/F3/high/filt_10e-4_0_5/GGG.txt:  1493\n",
        "Num proteins in ../data/b1hData/antonProcessed/F3/high/filt_10e-4_0_5/GGT.txt:  1498"
       ]
      },
      {
       "output_type": "stream",
       "stream": "stdout",
       "text": [
        "\n",
        "Num proteins in ../data/b1hData/antonProcessed/F3/high/filt_10e-4_0_5/GTA.txt:  702\n",
        "Num proteins in ../data/b1hData/antonProcessed/F3/high/filt_10e-4_0_5/GTC.txt:  1345\n",
        "Num proteins in ../data/b1hData/antonProcessed/F3/high/filt_10e-4_0_5/GTG.txt:  1536"
       ]
      },
      {
       "output_type": "stream",
       "stream": "stdout",
       "text": [
        "\n",
        "Num proteins in ../data/b1hData/antonProcessed/F3/high/filt_10e-4_0_5/GTT.txt:  2091\n",
        "Num proteins in ../data/b1hData/antonProcessed/F3/high/filt_10e-4_0_5/TAA.txt:  1218"
       ]
      },
      {
       "output_type": "stream",
       "stream": "stdout",
       "text": [
        "\n",
        "Num proteins in ../data/b1hData/antonProcessed/F3/high/filt_10e-4_0_5/TAC.txt:  1307\n",
        "Num proteins in ../data/b1hData/antonProcessed/F3/high/filt_10e-4_0_5/TAG.txt:  1007"
       ]
      },
      {
       "output_type": "stream",
       "stream": "stdout",
       "text": [
        "\n",
        "Num proteins in ../data/b1hData/antonProcessed/F3/high/filt_10e-4_0_5/TAT.txt:  1617\n",
        "Num proteins in ../data/b1hData/antonProcessed/F3/high/filt_10e-4_0_5/TCA.txt:  1269"
       ]
      },
      {
       "output_type": "stream",
       "stream": "stdout",
       "text": [
        "\n",
        "Num proteins in ../data/b1hData/antonProcessed/F3/high/filt_10e-4_0_5/TCC.txt:  593\n",
        "Num proteins in ../data/b1hData/antonProcessed/F3/high/filt_10e-4_0_5/TCG.txt:  1225\n",
        "Num proteins in ../data/b1hData/antonProcessed/F3/high/filt_10e-4_0_5/TCT.txt:  1060"
       ]
      },
      {
       "output_type": "stream",
       "stream": "stdout",
       "text": [
        "\n",
        "Num proteins in ../data/b1hData/antonProcessed/F3/high/filt_10e-4_0_5/TGA.txt:  1310\n",
        "Num proteins in ../data/b1hData/antonProcessed/F3/high/filt_10e-4_0_5/TGC.txt:  1710"
       ]
      },
      {
       "output_type": "stream",
       "stream": "stdout",
       "text": [
        "\n",
        "Num proteins in ../data/b1hData/antonProcessed/F3/high/filt_10e-4_0_5/TGG.txt:  715\n",
        "Num proteins in ../data/b1hData/antonProcessed/F3/high/filt_10e-4_0_5/TGT.txt:  2834"
       ]
      },
      {
       "output_type": "stream",
       "stream": "stdout",
       "text": [
        "\n",
        "Num proteins in ../data/b1hData/antonProcessed/F3/high/filt_10e-4_0_5/TTA.txt:  1702\n",
        "Num proteins in ../data/b1hData/antonProcessed/F3/high/filt_10e-4_0_5/TTC.txt:  1150"
       ]
      },
      {
       "output_type": "stream",
       "stream": "stdout",
       "text": [
        "\n",
        "Num proteins in ../data/b1hData/antonProcessed/F3/high/filt_10e-4_0_5/TTG.txt:  1366\n",
        "Num proteins in ../data/b1hData/antonProcessed/F3/high/filt_10e-4_0_5/TTT.txt:  1192"
       ]
      },
      {
       "output_type": "stream",
       "stream": "stdout",
       "text": [
        "\n",
        "Total num protein/dna observations in all files:  80466\n",
        "Total num unique proteins in all files:  64190\n",
        "\n",
        "Num obs processed in csv to txt conversion:  80466"
       ]
      },
      {
       "output_type": "stream",
       "stream": "stdout",
       "text": [
        "\n",
        "\n",
        "Here\n",
        "Num proteins in ../data/b1hData/antonProcessed/F3/low/filt_10e-4_0_5/AAA.txt:  1279"
       ]
      },
      {
       "output_type": "stream",
       "stream": "stdout",
       "text": [
        "\n",
        "Num proteins in ../data/b1hData/antonProcessed/F3/low/filt_10e-4_0_5/AAC.txt:  2250\n",
        "Num proteins in ../data/b1hData/antonProcessed/F3/low/filt_10e-4_0_5/AAG.txt:  2547"
       ]
      },
      {
       "output_type": "stream",
       "stream": "stdout",
       "text": [
        "\n",
        "Num proteins in ../data/b1hData/antonProcessed/F3/low/filt_10e-4_0_5/AAT.txt:  2366\n",
        "Num proteins in ../data/b1hData/antonProcessed/F3/low/filt_10e-4_0_5/ACA.txt:  551\n",
        "Num proteins in ../data/b1hData/antonProcessed/F3/low/filt_10e-4_0_5/ACC.txt:  1524"
       ]
      },
      {
       "output_type": "stream",
       "stream": "stdout",
       "text": [
        "\n",
        "Num proteins in ../data/b1hData/antonProcessed/F3/low/filt_10e-4_0_5/ACG.txt:  2369\n",
        "Num proteins in ../data/b1hData/antonProcessed/F3/low/filt_10e-4_0_5/ACT.txt:  1890"
       ]
      },
      {
       "output_type": "stream",
       "stream": "stdout",
       "text": [
        "\n",
        "Num proteins in ../data/b1hData/antonProcessed/F3/low/filt_10e-4_0_5/AGA.txt:  947\n",
        "Num proteins in ../data/b1hData/antonProcessed/F3/low/filt_10e-4_0_5/AGC.txt:  2543"
       ]
      },
      {
       "output_type": "stream",
       "stream": "stdout",
       "text": [
        "\n",
        "Num proteins in ../data/b1hData/antonProcessed/F3/low/filt_10e-4_0_5/AGG.txt:  2350\n",
        "Num proteins in ../data/b1hData/antonProcessed/F3/low/filt_10e-4_0_5/AGT.txt:  2410"
       ]
      },
      {
       "output_type": "stream",
       "stream": "stdout",
       "text": [
        "\n",
        "Num proteins in ../data/b1hData/antonProcessed/F3/low/filt_10e-4_0_5/ATA.txt:  848\n",
        "Num proteins in ../data/b1hData/antonProcessed/F3/low/filt_10e-4_0_5/ATC.txt:  2185\n",
        "Num proteins in ../data/b1hData/antonProcessed/F3/low/filt_10e-4_0_5/ATG.txt:  2119"
       ]
      },
      {
       "output_type": "stream",
       "stream": "stdout",
       "text": [
        "\n",
        "Num proteins in ../data/b1hData/antonProcessed/F3/low/filt_10e-4_0_5/ATT.txt:  2183"
       ]
      },
      {
       "output_type": "stream",
       "stream": "stdout",
       "text": [
        "\n",
        "Num proteins in ../data/b1hData/antonProcessed/F3/low/filt_10e-4_0_5/CAA.txt:  723\n",
        "Num proteins in ../data/b1hData/antonProcessed/F3/low/filt_10e-4_0_5/CAC.txt:  2296\n",
        "Num proteins in ../data/b1hData/antonProcessed/F3/low/filt_10e-4_0_5/CAG.txt:  2373"
       ]
      },
      {
       "output_type": "stream",
       "stream": "stdout",
       "text": [
        "\n",
        "Num proteins in ../data/b1hData/antonProcessed/F3/low/filt_10e-4_0_5/CAT.txt:  1464\n",
        "Num proteins in ../data/b1hData/antonProcessed/F3/low/filt_10e-4_0_5/CCA.txt:  704"
       ]
      },
      {
       "output_type": "stream",
       "stream": "stdout",
       "text": [
        "\n",
        "Num proteins in ../data/b1hData/antonProcessed/F3/low/filt_10e-4_0_5/CCC.txt:  1463\n",
        "Num proteins in ../data/b1hData/antonProcessed/F3/low/filt_10e-4_0_5/CCG.txt:  2624"
       ]
      },
      {
       "output_type": "stream",
       "stream": "stdout",
       "text": [
        "\n",
        "Num proteins in ../data/b1hData/antonProcessed/F3/low/filt_10e-4_0_5/CCT.txt:  1608\n",
        "Num proteins in ../data/b1hData/antonProcessed/F3/low/filt_10e-4_0_5/CGA.txt:  641"
       ]
      },
      {
       "output_type": "stream",
       "stream": "stdout",
       "text": [
        "\n",
        "Num proteins in ../data/b1hData/antonProcessed/F3/low/filt_10e-4_0_5/CGC.txt:  2456\n",
        "Num proteins in ../data/b1hData/antonProcessed/F3/low/filt_10e-4_0_5/CGG.txt:  2727"
       ]
      },
      {
       "output_type": "stream",
       "stream": "stdout",
       "text": [
        "\n",
        "Num proteins in ../data/b1hData/antonProcessed/F3/low/filt_10e-4_0_5/CGT.txt:  2167\n",
        "Num proteins in ../data/b1hData/antonProcessed/F3/low/filt_10e-4_0_5/CTA.txt:  1774\n",
        "Num proteins in ../data/b1hData/antonProcessed/F3/low/filt_10e-4_0_5/CTC.txt:  2228"
       ]
      },
      {
       "output_type": "stream",
       "stream": "stdout",
       "text": [
        "\n",
        "Num proteins in ../data/b1hData/antonProcessed/F3/low/filt_10e-4_0_5/CTG.txt:  1796\n",
        "Num proteins in ../data/b1hData/antonProcessed/F3/low/filt_10e-4_0_5/CTT.txt:  1729\n",
        "Num proteins in ../data/b1hData/antonProcessed/F3/low/filt_10e-4_0_5/GAA.txt:  1596"
       ]
      },
      {
       "output_type": "stream",
       "stream": "stdout",
       "text": [
        "\n",
        "Num proteins in ../data/b1hData/antonProcessed/F3/low/filt_10e-4_0_5/GAC.txt:  2045\n",
        "Num proteins in ../data/b1hData/antonProcessed/F3/low/filt_10e-4_0_5/GAG.txt:  2606"
       ]
      },
      {
       "output_type": "stream",
       "stream": "stdout",
       "text": [
        "\n",
        "Num proteins in ../data/b1hData/antonProcessed/F3/low/filt_10e-4_0_5/GAT.txt:  2369\n",
        "Num proteins in ../data/b1hData/antonProcessed/F3/low/filt_10e-4_0_5/GCA.txt:  1803"
       ]
      },
      {
       "output_type": "stream",
       "stream": "stdout",
       "text": [
        "\n",
        "Num proteins in ../data/b1hData/antonProcessed/F3/low/filt_10e-4_0_5/GCC.txt:  1473\n",
        "Num proteins in ../data/b1hData/antonProcessed/F3/low/filt_10e-4_0_5/GCG.txt:  2109"
       ]
      },
      {
       "output_type": "stream",
       "stream": "stdout",
       "text": [
        "\n",
        "Num proteins in ../data/b1hData/antonProcessed/F3/low/filt_10e-4_0_5/GCT.txt:  2252\n",
        "Num proteins in ../data/b1hData/antonProcessed/F3/low/filt_10e-4_0_5/GGA.txt:  1500"
       ]
      },
      {
       "output_type": "stream",
       "stream": "stdout",
       "text": [
        "\n",
        "Num proteins in ../data/b1hData/antonProcessed/F3/low/filt_10e-4_0_5/GGC.txt:  2308\n",
        "Num proteins in ../data/b1hData/antonProcessed/F3/low/filt_10e-4_0_5/GGG.txt:  2293"
       ]
      },
      {
       "output_type": "stream",
       "stream": "stdout",
       "text": [
        "\n",
        "Num proteins in ../data/b1hData/antonProcessed/F3/low/filt_10e-4_0_5/GGT.txt:  2425"
       ]
      },
      {
       "output_type": "stream",
       "stream": "stdout",
       "text": [
        "\n",
        "Num proteins in ../data/b1hData/antonProcessed/F3/low/filt_10e-4_0_5/GTA.txt:  1403\n",
        "Num proteins in ../data/b1hData/antonProcessed/F3/low/filt_10e-4_0_5/GTC.txt:  2266"
       ]
      },
      {
       "output_type": "stream",
       "stream": "stdout",
       "text": [
        "\n",
        "Num proteins in ../data/b1hData/antonProcessed/F3/low/filt_10e-4_0_5/GTG.txt:  2383"
       ]
      },
      {
       "output_type": "stream",
       "stream": "stdout",
       "text": [
        "\n",
        "Num proteins in ../data/b1hData/antonProcessed/F3/low/filt_10e-4_0_5/GTT.txt:  2481"
       ]
      },
      {
       "output_type": "stream",
       "stream": "stdout",
       "text": [
        "\n",
        "Num proteins in ../data/b1hData/antonProcessed/F3/low/filt_10e-4_0_5/TAA.txt:  517\n",
        "Num proteins in ../data/b1hData/antonProcessed/F3/low/filt_10e-4_0_5/TAC.txt:  1924\n",
        "Num proteins in ../data/b1hData/antonProcessed/F3/low/filt_10e-4_0_5/TAG.txt:  1768"
       ]
      },
      {
       "output_type": "stream",
       "stream": "stdout",
       "text": [
        "\n",
        "Num proteins in ../data/b1hData/antonProcessed/F3/low/filt_10e-4_0_5/TAT.txt:  2723"
       ]
      },
      {
       "output_type": "stream",
       "stream": "stdout",
       "text": [
        "\n",
        "Num proteins in ../data/b1hData/antonProcessed/F3/low/filt_10e-4_0_5/TCA.txt:  538\n",
        "Num proteins in ../data/b1hData/antonProcessed/F3/low/filt_10e-4_0_5/TCC.txt:  1222"
       ]
      },
      {
       "output_type": "stream",
       "stream": "stdout",
       "text": [
        "\n",
        "Num proteins in ../data/b1hData/antonProcessed/F3/low/filt_10e-4_0_5/TCG.txt:  1428\n",
        "Num proteins in ../data/b1hData/antonProcessed/F3/low/filt_10e-4_0_5/TCT.txt:  1784"
       ]
      },
      {
       "output_type": "stream",
       "stream": "stdout",
       "text": [
        "\n",
        "Num proteins in ../data/b1hData/antonProcessed/F3/low/filt_10e-4_0_5/TGA.txt:  2042"
       ]
      },
      {
       "output_type": "stream",
       "stream": "stdout",
       "text": [
        "\n",
        "Num proteins in ../data/b1hData/antonProcessed/F3/low/filt_10e-4_0_5/TGC.txt:  2267"
       ]
      },
      {
       "output_type": "stream",
       "stream": "stdout",
       "text": [
        "\n",
        "Num proteins in ../data/b1hData/antonProcessed/F3/low/filt_10e-4_0_5/TGG.txt:  2544\n",
        "Num proteins in ../data/b1hData/antonProcessed/F3/low/filt_10e-4_0_5/TGT.txt:  2213"
       ]
      },
      {
       "output_type": "stream",
       "stream": "stdout",
       "text": [
        "\n",
        "Num proteins in ../data/b1hData/antonProcessed/F3/low/filt_10e-4_0_5/TTA.txt:  2293\n",
        "Num proteins in ../data/b1hData/antonProcessed/F3/low/filt_10e-4_0_5/TTC.txt:  1672\n",
        "Num proteins in ../data/b1hData/antonProcessed/F3/low/filt_10e-4_0_5/TTG.txt:  2371"
       ]
      },
      {
       "output_type": "stream",
       "stream": "stdout",
       "text": [
        "\n",
        "Num proteins in ../data/b1hData/antonProcessed/F3/low/filt_10e-4_0_5/TTT.txt:  2152\n",
        "Total num protein/dna observations in all files:  121904\n",
        "Total num unique proteins in all files:  84056\n",
        "\n",
        "Num obs processed in csv to txt conversion:  121904"
       ]
      },
      {
       "output_type": "stream",
       "stream": "stdout",
       "text": [
        "\n",
        "\n"
       ]
      }
     ],
     "prompt_number": 2
    },
    {
     "cell_type": "code",
     "collapsed": false,
     "input": [
      "bothStrinIfaces = {}\n",
      "for f in fings:\n",
      "    bothStrinIfaces[f] = interfaces[f, 'low'] | interfaces[f, 'high']\n",
      "\n",
      "for f in sorted(bothStrinIfaces.keys()):\n",
      "    print \"%s Interfaces: %d\" %(f, len(bothStrinIfaces[f]))\n",
      "    \n",
      "print\n",
      "print \"%s + %s Interfaces: %d\" %('F1', 'F2', len(bothStrinIfaces['F1'] | bothStrinIfaces['F2']))\n",
      "print \"%s + %s Interfaces: %d\" %('F1', 'F3', len(bothStrinIfaces['F1'] | bothStrinIfaces['F3']))\n",
      "print \"%s + %s Interfaces: %d\" %('F2', 'F3', len(bothStrinIfaces['F2'] | bothStrinIfaces['F3']))\n",
      "print \"%s + %s + %s Interfaces: %d\" %('F1', 'F2', 'F3',len(bothStrinIfaces['F1'] | bothStrinIfaces['F2'] | bothStrinIfaces['F3']))\n",
      "    "
     ],
     "language": "python",
     "metadata": {},
     "outputs": [
      {
       "output_type": "stream",
       "stream": "stdout",
       "text": [
        "F1 Interfaces: 113868\n",
        "F2 Interfaces: 131383\n",
        "F3 Interfaces: 173436\n",
        "\n",
        "F1 + F2 Interfaces: 241231"
       ]
      },
      {
       "output_type": "stream",
       "stream": "stdout",
       "text": [
        "\n",
        "F1 + F3 Interfaces: 286103"
       ]
      },
      {
       "output_type": "stream",
       "stream": "stdout",
       "text": [
        "\n",
        "F2 + F3 Interfaces: 291098"
       ]
      },
      {
       "output_type": "stream",
       "stream": "stdout",
       "text": [
        "\n",
        "F1 + F2 + F3 Interfaces: 400450"
       ]
      },
      {
       "output_type": "stream",
       "stream": "stdout",
       "text": [
        "\n"
       ]
      }
     ],
     "prompt_number": 3
    },
    {
     "cell_type": "code",
     "collapsed": false,
     "input": [],
     "language": "python",
     "metadata": {},
     "outputs": [],
     "prompt_number": 3
    }
   ],
   "metadata": {}
  }
 ]
}