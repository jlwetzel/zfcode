{
 "metadata": {
  "name": "Format_conversions_entr04"
 },
 "nbformat": 3,
 "nbformat_minor": 0,
 "worksheets": [
  {
   "cells": [
    {
     "cell_type": "code",
     "collapsed": false,
     "input": [
      "from changeFormats import targetFiles2singleCSV, csv2txtFile\n",
      "\n"
     ],
     "language": "python",
     "metadata": {},
     "outputs": [],
     "prompt_number": 1
    },
    {
     "cell_type": "code",
     "collapsed": false,
     "input": [
      "prefix = '../data/b1hData/newDatabase/6varpos/'\n",
      "numVarPos = 6\n",
      "fings = ['F1', 'F2', 'F3']\n",
      "strins = ['high', 'low']\n",
      "for fing in fings:\n",
      "    for strin in strins:\n",
      "        path = prefix + fing + '/' + strin + '/' + 'protein_cut10_entr04/'\n",
      "        targetFiles2singleCSV(path, numVarPos, '.txt')\n",
      "        csv2txtFile(path, numVarPos)\n",
      "        print"
     ],
     "language": "python",
     "metadata": {},
     "outputs": [
      {
       "output_type": "stream",
       "stream": "stdout",
       "text": [
        "Num proteins in ../data/b1hData/newDatabase/6varpos/F1/high/protein_cut10_entr04/AAA.txt:  144\n",
        "Num proteins in ../data/b1hData/newDatabase/6varpos/F1/high/protein_cut10_entr04/AAC.txt:  292\n",
        "Num proteins in ../data/b1hData/newDatabase/6varpos/F1/high/protein_cut10_entr04/AAG.txt:  261\n",
        "Num proteins in ../data/b1hData/newDatabase/6varpos/F1/high/protein_cut10_entr04/AAT.txt:  78\n",
        "Num proteins in ../data/b1hData/newDatabase/6varpos/F1/high/protein_cut10_entr04/ACA.txt:  565\n",
        "Num proteins in ../data/b1hData/newDatabase/6varpos/F1/high/protein_cut10_entr04/ACC.txt:  86\n",
        "Num proteins in ../data/b1hData/newDatabase/6varpos/F1/high/protein_cut10_entr04/ACG.txt:  146\n",
        "Num proteins in ../data/b1hData/newDatabase/6varpos/F1/high/protein_cut10_entr04/ACT.txt:  431\n",
        "Num proteins in ../data/b1hData/newDatabase/6varpos/F1/high/protein_cut10_entr04/AGA.txt:  77\n",
        "Num proteins in ../data/b1hData/newDatabase/6varpos/F1/high/protein_cut10_entr04/AGC.txt:  140"
       ]
      },
      {
       "output_type": "stream",
       "stream": "stdout",
       "text": [
        "\n",
        "Num proteins in ../data/b1hData/newDatabase/6varpos/F1/high/protein_cut10_entr04/AGG.txt:  359\n",
        "Num proteins in ../data/b1hData/newDatabase/6varpos/F1/high/protein_cut10_entr04/AGT.txt:  1034\n",
        "Num proteins in ../data/b1hData/newDatabase/6varpos/F1/high/protein_cut10_entr04/ATA.txt:  249\n",
        "Num proteins in ../data/b1hData/newDatabase/6varpos/F1/high/protein_cut10_entr04/ATC.txt:  479\n",
        "Num proteins in ../data/b1hData/newDatabase/6varpos/F1/high/protein_cut10_entr04/ATG.txt:  580"
       ]
      },
      {
       "output_type": "stream",
       "stream": "stdout",
       "text": [
        "\n",
        "Num proteins in ../data/b1hData/newDatabase/6varpos/F1/high/protein_cut10_entr04/ATT.txt:  116\n",
        "Num proteins in ../data/b1hData/newDatabase/6varpos/F1/high/protein_cut10_entr04/CAA.txt:  407\n",
        "Num proteins in ../data/b1hData/newDatabase/6varpos/F1/high/protein_cut10_entr04/CAC.txt:  101\n",
        "Num proteins in ../data/b1hData/newDatabase/6varpos/F1/high/protein_cut10_entr04/CAG.txt:  316\n",
        "Num proteins in ../data/b1hData/newDatabase/6varpos/F1/high/protein_cut10_entr04/CAT.txt:  401\n",
        "Num proteins in ../data/b1hData/newDatabase/6varpos/F1/high/protein_cut10_entr04/CCA.txt:  1182\n",
        "Num proteins in ../data/b1hData/newDatabase/6varpos/F1/high/protein_cut10_entr04/CCC.txt:  418\n",
        "Num proteins in ../data/b1hData/newDatabase/6varpos/F1/high/protein_cut10_entr04/CCG.txt:  312\n",
        "Num proteins in ../data/b1hData/newDatabase/6varpos/F1/high/protein_cut10_entr04/CCT.txt:  523\n",
        "Num proteins in ../data/b1hData/newDatabase/6varpos/F1/high/protein_cut10_entr04/CGA.txt:  297\n",
        "Num proteins in ../data/b1hData/newDatabase/6varpos/F1/high/protein_cut10_entr04/CGC.txt:  328"
       ]
      },
      {
       "output_type": "stream",
       "stream": "stdout",
       "text": [
        "\n",
        "Num proteins in ../data/b1hData/newDatabase/6varpos/F1/high/protein_cut10_entr04/CGG.txt:  899\n",
        "Num proteins in ../data/b1hData/newDatabase/6varpos/F1/high/protein_cut10_entr04/CGT.txt:  437\n",
        "Num proteins in ../data/b1hData/newDatabase/6varpos/F1/high/protein_cut10_entr04/CTA.txt:  103\n",
        "Num proteins in ../data/b1hData/newDatabase/6varpos/F1/high/protein_cut10_entr04/CTC.txt:  92\n",
        "Num proteins in ../data/b1hData/newDatabase/6varpos/F1/high/protein_cut10_entr04/CTG.txt:  128\n",
        "Num proteins in ../data/b1hData/newDatabase/6varpos/F1/high/protein_cut10_entr04/CTT.txt:  232\n",
        "Num proteins in ../data/b1hData/newDatabase/6varpos/F1/high/protein_cut10_entr04/GAA.txt:  546\n",
        "Num proteins in ../data/b1hData/newDatabase/6varpos/F1/high/protein_cut10_entr04/GAC.txt:  489\n",
        "Num proteins in ../data/b1hData/newDatabase/6varpos/F1/high/protein_cut10_entr04/GAG.txt:  608\n",
        "Num proteins in ../data/b1hData/newDatabase/6varpos/F1/high/protein_cut10_entr04/GAT.txt:  662\n",
        "Num proteins in ../data/b1hData/newDatabase/6varpos/F1/high/protein_cut10_entr04/GCA.txt:  654"
       ]
      },
      {
       "output_type": "stream",
       "stream": "stdout",
       "text": [
        "\n",
        "Num proteins in ../data/b1hData/newDatabase/6varpos/F1/high/protein_cut10_entr04/GCC.txt:  257\n",
        "Num proteins in ../data/b1hData/newDatabase/6varpos/F1/high/protein_cut10_entr04/GCG.txt:  304\n",
        "Num proteins in ../data/b1hData/newDatabase/6varpos/F1/high/protein_cut10_entr04/GCT.txt:  698\n",
        "Num proteins in ../data/b1hData/newDatabase/6varpos/F1/high/protein_cut10_entr04/GGA.txt:  155\n",
        "Num proteins in ../data/b1hData/newDatabase/6varpos/F1/high/protein_cut10_entr04/GGC.txt:  259\n",
        "Num proteins in ../data/b1hData/newDatabase/6varpos/F1/high/protein_cut10_entr04/GGG.txt:  695\n",
        "Num proteins in ../data/b1hData/newDatabase/6varpos/F1/high/protein_cut10_entr04/GGT.txt:  666\n",
        "Num proteins in ../data/b1hData/newDatabase/6varpos/F1/high/protein_cut10_entr04/GTA.txt:  129\n",
        "Num proteins in ../data/b1hData/newDatabase/6varpos/F1/high/protein_cut10_entr04/GTC.txt:  136\n",
        "Num proteins in ../data/b1hData/newDatabase/6varpos/F1/high/protein_cut10_entr04/GTG.txt:  783\n",
        "Num proteins in ../data/b1hData/newDatabase/6varpos/F1/high/protein_cut10_entr04/GTT.txt:  137\n",
        "Num proteins in ../data/b1hData/newDatabase/6varpos/F1/high/protein_cut10_entr04/TAA.txt:  111\n",
        "Num proteins in ../data/b1hData/newDatabase/6varpos/F1/high/protein_cut10_entr04/TAC.txt:  90"
       ]
      },
      {
       "output_type": "stream",
       "stream": "stdout",
       "text": [
        "\n",
        "Num proteins in ../data/b1hData/newDatabase/6varpos/F1/high/protein_cut10_entr04/TAG.txt:  107\n",
        "Num proteins in ../data/b1hData/newDatabase/6varpos/F1/high/protein_cut10_entr04/TAT.txt:  105\n",
        "Num proteins in ../data/b1hData/newDatabase/6varpos/F1/high/protein_cut10_entr04/TCA.txt:  165\n",
        "Num proteins in ../data/b1hData/newDatabase/6varpos/F1/high/protein_cut10_entr04/TCC.txt:  105\n",
        "Num proteins in ../data/b1hData/newDatabase/6varpos/F1/high/protein_cut10_entr04/TCG.txt:  185\n",
        "Num proteins in ../data/b1hData/newDatabase/6varpos/F1/high/protein_cut10_entr04/TCT.txt:  172\n",
        "Num proteins in ../data/b1hData/newDatabase/6varpos/F1/high/protein_cut10_entr04/TGA.txt:  109\n",
        "Num proteins in ../data/b1hData/newDatabase/6varpos/F1/high/protein_cut10_entr04/TGC.txt:  155\n",
        "Num proteins in ../data/b1hData/newDatabase/6varpos/F1/high/protein_cut10_entr04/TGG.txt:  492\n",
        "Num proteins in ../data/b1hData/newDatabase/6varpos/F1/high/protein_cut10_entr04/TGT.txt:  488\n",
        "Num proteins in ../data/b1hData/newDatabase/6varpos/F1/high/protein_cut10_entr04/TTA.txt:  155\n",
        "Num proteins in ../data/b1hData/newDatabase/6varpos/F1/high/protein_cut10_entr04/TTC.txt:  114\n",
        "Num proteins in ../data/b1hData/newDatabase/6varpos/F1/high/protein_cut10_entr04/TTG.txt:  153\n",
        "Num proteins in ../data/b1hData/newDatabase/6varpos/F1/high/protein_cut10_entr04/TTT.txt:  74\n",
        "Total num protein/dna observations in all files:  21171\n",
        "Total num unique proteins in all files:  13457\n",
        "\n",
        "Num obs processed in csv to txt conversion:  21171"
       ]
      },
      {
       "output_type": "stream",
       "stream": "stdout",
       "text": [
        "\n",
        "\n",
        "Num proteins in ../data/b1hData/newDatabase/6varpos/F1/low/protein_cut10_entr04/AAA.txt:  82\n",
        "Num proteins in ../data/b1hData/newDatabase/6varpos/F1/low/protein_cut10_entr04/AAC.txt:  195\n",
        "Num proteins in ../data/b1hData/newDatabase/6varpos/F1/low/protein_cut10_entr04/AAG.txt:  1614\n",
        "Num proteins in ../data/b1hData/newDatabase/6varpos/F1/low/protein_cut10_entr04/AAT.txt:  97\n",
        "Num proteins in ../data/b1hData/newDatabase/6varpos/F1/low/protein_cut10_entr04/ACA.txt:  1336\n",
        "Num proteins in ../data/b1hData/newDatabase/6varpos/F1/low/protein_cut10_entr04/ACC.txt:  102\n",
        "Num proteins in ../data/b1hData/newDatabase/6varpos/F1/low/protein_cut10_entr04/ACG.txt:  2879"
       ]
      },
      {
       "output_type": "stream",
       "stream": "stdout",
       "text": [
        "\n",
        "Num proteins in ../data/b1hData/newDatabase/6varpos/F1/low/protein_cut10_entr04/ACT.txt:  313\n",
        "Num proteins in ../data/b1hData/newDatabase/6varpos/F1/low/protein_cut10_entr04/AGA.txt:  161\n",
        "Num proteins in ../data/b1hData/newDatabase/6varpos/F1/low/protein_cut10_entr04/AGC.txt:  609\n",
        "Num proteins in ../data/b1hData/newDatabase/6varpos/F1/low/protein_cut10_entr04/AGG.txt:  620\n",
        "Num proteins in ../data/b1hData/newDatabase/6varpos/F1/low/protein_cut10_entr04/AGT.txt:  2500\n",
        "Num proteins in ../data/b1hData/newDatabase/6varpos/F1/low/protein_cut10_entr04/ATA.txt:  857"
       ]
      },
      {
       "output_type": "stream",
       "stream": "stdout",
       "text": [
        "\n",
        "Num proteins in ../data/b1hData/newDatabase/6varpos/F1/low/protein_cut10_entr04/ATC.txt:  625\n",
        "Num proteins in ../data/b1hData/newDatabase/6varpos/F1/low/protein_cut10_entr04/ATG.txt:  951\n",
        "Num proteins in ../data/b1hData/newDatabase/6varpos/F1/low/protein_cut10_entr04/ATT.txt:  305\n",
        "Num proteins in ../data/b1hData/newDatabase/6varpos/F1/low/protein_cut10_entr04/CAA.txt:  747\n",
        "Num proteins in ../data/b1hData/newDatabase/6varpos/F1/low/protein_cut10_entr04/CAC.txt:  159\n",
        "Num proteins in ../data/b1hData/newDatabase/6varpos/F1/low/protein_cut10_entr04/CAG.txt:  558\n",
        "Num proteins in ../data/b1hData/newDatabase/6varpos/F1/low/protein_cut10_entr04/CAT.txt:  564\n",
        "Num proteins in ../data/b1hData/newDatabase/6varpos/F1/low/protein_cut10_entr04/CCA.txt:  1896"
       ]
      },
      {
       "output_type": "stream",
       "stream": "stdout",
       "text": [
        "\n",
        "Num proteins in ../data/b1hData/newDatabase/6varpos/F1/low/protein_cut10_entr04/CCC.txt:  729\n",
        "Num proteins in ../data/b1hData/newDatabase/6varpos/F1/low/protein_cut10_entr04/CCG.txt:  1021\n",
        "Num proteins in ../data/b1hData/newDatabase/6varpos/F1/low/protein_cut10_entr04/CCT.txt:  1195\n",
        "Num proteins in ../data/b1hData/newDatabase/6varpos/F1/low/protein_cut10_entr04/CGA.txt:  2304\n",
        "Num proteins in ../data/b1hData/newDatabase/6varpos/F1/low/protein_cut10_entr04/CGC.txt:  778"
       ]
      },
      {
       "output_type": "stream",
       "stream": "stdout",
       "text": [
        "\n",
        "Num proteins in ../data/b1hData/newDatabase/6varpos/F1/low/protein_cut10_entr04/CGG.txt:  1357\n",
        "Num proteins in ../data/b1hData/newDatabase/6varpos/F1/low/protein_cut10_entr04/CGT.txt:  1710\n",
        "Num proteins in ../data/b1hData/newDatabase/6varpos/F1/low/protein_cut10_entr04/CTA.txt:  1108\n",
        "Num proteins in ../data/b1hData/newDatabase/6varpos/F1/low/protein_cut10_entr04/CTC.txt:  428\n",
        "Num proteins in ../data/b1hData/newDatabase/6varpos/F1/low/protein_cut10_entr04/CTG.txt:  638"
       ]
      },
      {
       "output_type": "stream",
       "stream": "stdout",
       "text": [
        "\n",
        "Num proteins in ../data/b1hData/newDatabase/6varpos/F1/low/protein_cut10_entr04/CTT.txt:  460\n",
        "Num proteins in ../data/b1hData/newDatabase/6varpos/F1/low/protein_cut10_entr04/GAA.txt:  537\n",
        "Num proteins in ../data/b1hData/newDatabase/6varpos/F1/low/protein_cut10_entr04/GAC.txt:  1934\n",
        "Num proteins in ../data/b1hData/newDatabase/6varpos/F1/low/protein_cut10_entr04/GAG.txt:  1312"
       ]
      },
      {
       "output_type": "stream",
       "stream": "stdout",
       "text": [
        "\n",
        "Num proteins in ../data/b1hData/newDatabase/6varpos/F1/low/protein_cut10_entr04/GAT.txt:  3014\n",
        "Num proteins in ../data/b1hData/newDatabase/6varpos/F1/low/protein_cut10_entr04/GCA.txt:  1543\n",
        "Num proteins in ../data/b1hData/newDatabase/6varpos/F1/low/protein_cut10_entr04/GCC.txt:  231"
       ]
      },
      {
       "output_type": "stream",
       "stream": "stdout",
       "text": [
        "\n",
        "Num proteins in ../data/b1hData/newDatabase/6varpos/F1/low/protein_cut10_entr04/GCG.txt:  878\n",
        "Num proteins in ../data/b1hData/newDatabase/6varpos/F1/low/protein_cut10_entr04/GCT.txt:  1372\n",
        "Num proteins in ../data/b1hData/newDatabase/6varpos/F1/low/protein_cut10_entr04/GGA.txt:  180\n",
        "Num proteins in ../data/b1hData/newDatabase/6varpos/F1/low/protein_cut10_entr04/GGC.txt:  466\n",
        "Num proteins in ../data/b1hData/newDatabase/6varpos/F1/low/protein_cut10_entr04/GGG.txt:  732\n",
        "Num proteins in ../data/b1hData/newDatabase/6varpos/F1/low/protein_cut10_entr04/GGT.txt:  2415"
       ]
      },
      {
       "output_type": "stream",
       "stream": "stdout",
       "text": [
        "\n",
        "Num proteins in ../data/b1hData/newDatabase/6varpos/F1/low/protein_cut10_entr04/GTA.txt:  464\n",
        "Num proteins in ../data/b1hData/newDatabase/6varpos/F1/low/protein_cut10_entr04/GTC.txt:  418\n",
        "Num proteins in ../data/b1hData/newDatabase/6varpos/F1/low/protein_cut10_entr04/GTG.txt:  1022\n",
        "Num proteins in ../data/b1hData/newDatabase/6varpos/F1/low/protein_cut10_entr04/GTT.txt:  567\n",
        "Num proteins in ../data/b1hData/newDatabase/6varpos/F1/low/protein_cut10_entr04/TAA.txt:  222\n",
        "Num proteins in ../data/b1hData/newDatabase/6varpos/F1/low/protein_cut10_entr04/TAC.txt:  421\n",
        "Num proteins in ../data/b1hData/newDatabase/6varpos/F1/low/protein_cut10_entr04/TAG.txt:  101\n",
        "Num proteins in ../data/b1hData/newDatabase/6varpos/F1/low/protein_cut10_entr04/TAT.txt:  45\n",
        "Num proteins in ../data/b1hData/newDatabase/6varpos/F1/low/protein_cut10_entr04/TCA.txt:  499\n",
        "Num proteins in ../data/b1hData/newDatabase/6varpos/F1/low/protein_cut10_entr04/TCC.txt:  163\n",
        "Num proteins in ../data/b1hData/newDatabase/6varpos/F1/low/protein_cut10_entr04/TCG.txt:  193\n",
        "Num proteins in ../data/b1hData/newDatabase/6varpos/F1/low/protein_cut10_entr04/TCT.txt:  222\n",
        "Num proteins in ../data/b1hData/newDatabase/6varpos/F1/low/protein_cut10_entr04/TGA.txt:  131\n",
        "Num proteins in ../data/b1hData/newDatabase/6varpos/F1/low/protein_cut10_entr04/TGC.txt:  523\n",
        "Num proteins in ../data/b1hData/newDatabase/6varpos/F1/low/protein_cut10_entr04/TGG.txt:  624"
       ]
      },
      {
       "output_type": "stream",
       "stream": "stdout",
       "text": [
        "\n",
        "Num proteins in ../data/b1hData/newDatabase/6varpos/F1/low/protein_cut10_entr04/TGT.txt:  1889\n",
        "Num proteins in ../data/b1hData/newDatabase/6varpos/F1/low/protein_cut10_entr04/TTA.txt:  492\n",
        "Num proteins in ../data/b1hData/newDatabase/6varpos/F1/low/protein_cut10_entr04/TTC.txt:  60\n",
        "Num proteins in ../data/b1hData/newDatabase/6varpos/F1/low/protein_cut10_entr04/TTG.txt:  218\n",
        "Num proteins in ../data/b1hData/newDatabase/6varpos/F1/low/protein_cut10_entr04/TTT.txt:  260\n",
        "Total num protein/dna observations in all files:  52046\n",
        "Total num unique proteins in all files:  30978\n",
        "\n",
        "Num obs processed in csv to txt conversion:  52046"
       ]
      },
      {
       "output_type": "stream",
       "stream": "stdout",
       "text": [
        "\n",
        "\n",
        "Num proteins in ../data/b1hData/newDatabase/6varpos/F2/high/protein_cut10_entr04/AAA.txt:  250\n",
        "Num proteins in ../data/b1hData/newDatabase/6varpos/F2/high/protein_cut10_entr04/AAC.txt:  1231\n",
        "Num proteins in ../data/b1hData/newDatabase/6varpos/F2/high/protein_cut10_entr04/AAG.txt:  403\n",
        "Num proteins in ../data/b1hData/newDatabase/6varpos/F2/high/protein_cut10_entr04/AAT.txt:  291\n",
        "Num proteins in ../data/b1hData/newDatabase/6varpos/F2/high/protein_cut10_entr04/ACA.txt:  895\n",
        "Num proteins in ../data/b1hData/newDatabase/6varpos/F2/high/protein_cut10_entr04/ACC.txt:  431\n",
        "Num proteins in ../data/b1hData/newDatabase/6varpos/F2/high/protein_cut10_entr04/ACG.txt:  1421"
       ]
      },
      {
       "output_type": "stream",
       "stream": "stdout",
       "text": [
        "\n",
        "Num proteins in ../data/b1hData/newDatabase/6varpos/F2/high/protein_cut10_entr04/ACT.txt:  2451\n",
        "Num proteins in ../data/b1hData/newDatabase/6varpos/F2/high/protein_cut10_entr04/AGA.txt:  84\n",
        "Num proteins in ../data/b1hData/newDatabase/6varpos/F2/high/protein_cut10_entr04/AGC.txt:  288"
       ]
      },
      {
       "output_type": "stream",
       "stream": "stdout",
       "text": [
        "\n",
        "Num proteins in ../data/b1hData/newDatabase/6varpos/F2/high/protein_cut10_entr04/AGG.txt:  805\n",
        "Num proteins in ../data/b1hData/newDatabase/6varpos/F2/high/protein_cut10_entr04/AGT.txt:  1780\n",
        "Num proteins in ../data/b1hData/newDatabase/6varpos/F2/high/protein_cut10_entr04/ATA.txt:  194\n",
        "Num proteins in ../data/b1hData/newDatabase/6varpos/F2/high/protein_cut10_entr04/ATC.txt:  871\n",
        "Num proteins in ../data/b1hData/newDatabase/6varpos/F2/high/protein_cut10_entr04/ATG.txt:  249\n",
        "Num proteins in ../data/b1hData/newDatabase/6varpos/F2/high/protein_cut10_entr04/ATT.txt:  657\n",
        "Num proteins in ../data/b1hData/newDatabase/6varpos/F2/high/protein_cut10_entr04/CAA.txt:  27\n",
        "Num proteins in ../data/b1hData/newDatabase/6varpos/F2/high/protein_cut10_entr04/CAC.txt:  507"
       ]
      },
      {
       "output_type": "stream",
       "stream": "stdout",
       "text": [
        "\n",
        "Num proteins in ../data/b1hData/newDatabase/6varpos/F2/high/protein_cut10_entr04/CAG.txt:  915\n",
        "Num proteins in ../data/b1hData/newDatabase/6varpos/F2/high/protein_cut10_entr04/CAT.txt:  814\n",
        "Num proteins in ../data/b1hData/newDatabase/6varpos/F2/high/protein_cut10_entr04/CCA.txt:  97\n",
        "Num proteins in ../data/b1hData/newDatabase/6varpos/F2/high/protein_cut10_entr04/CCC.txt:  194\n",
        "Num proteins in ../data/b1hData/newDatabase/6varpos/F2/high/protein_cut10_entr04/CCG.txt:  40\n",
        "Num proteins in ../data/b1hData/newDatabase/6varpos/F2/high/protein_cut10_entr04/CCT.txt:  209\n",
        "Num proteins in ../data/b1hData/newDatabase/6varpos/F2/high/protein_cut10_entr04/CGA.txt:  31\n",
        "Num proteins in ../data/b1hData/newDatabase/6varpos/F2/high/protein_cut10_entr04/CGC.txt:  111\n",
        "Num proteins in ../data/b1hData/newDatabase/6varpos/F2/high/protein_cut10_entr04/CGG.txt:  2105"
       ]
      },
      {
       "output_type": "stream",
       "stream": "stdout",
       "text": [
        "\n",
        "Num proteins in ../data/b1hData/newDatabase/6varpos/F2/high/protein_cut10_entr04/CGT.txt:  659\n",
        "Num proteins in ../data/b1hData/newDatabase/6varpos/F2/high/protein_cut10_entr04/CTA.txt:  207\n",
        "Num proteins in ../data/b1hData/newDatabase/6varpos/F2/high/protein_cut10_entr04/CTC.txt:  57\n",
        "Num proteins in ../data/b1hData/newDatabase/6varpos/F2/high/protein_cut10_entr04/CTG.txt:  536\n",
        "Num proteins in ../data/b1hData/newDatabase/6varpos/F2/high/protein_cut10_entr04/CTT.txt:  438\n",
        "Num proteins in ../data/b1hData/newDatabase/6varpos/F2/high/protein_cut10_entr04/GAA.txt:  426"
       ]
      },
      {
       "output_type": "stream",
       "stream": "stdout",
       "text": [
        "\n",
        "Num proteins in ../data/b1hData/newDatabase/6varpos/F2/high/protein_cut10_entr04/GAC.txt:  1753\n",
        "Num proteins in ../data/b1hData/newDatabase/6varpos/F2/high/protein_cut10_entr04/GAG.txt:  1454"
       ]
      },
      {
       "output_type": "stream",
       "stream": "stdout",
       "text": [
        "\n",
        "Num proteins in ../data/b1hData/newDatabase/6varpos/F2/high/protein_cut10_entr04/GAT.txt:  704\n",
        "Num proteins in ../data/b1hData/newDatabase/6varpos/F2/high/protein_cut10_entr04/GCA.txt:  283\n",
        "Num proteins in ../data/b1hData/newDatabase/6varpos/F2/high/protein_cut10_entr04/GCC.txt:  948\n",
        "Num proteins in ../data/b1hData/newDatabase/6varpos/F2/high/protein_cut10_entr04/GCG.txt:  1317\n",
        "Num proteins in ../data/b1hData/newDatabase/6varpos/F2/high/protein_cut10_entr04/GCT.txt:  2155"
       ]
      },
      {
       "output_type": "stream",
       "stream": "stdout",
       "text": [
        "\n",
        "Num proteins in ../data/b1hData/newDatabase/6varpos/F2/high/protein_cut10_entr04/GGA.txt:  453\n",
        "Num proteins in ../data/b1hData/newDatabase/6varpos/F2/high/protein_cut10_entr04/GGC.txt:  305\n",
        "Num proteins in ../data/b1hData/newDatabase/6varpos/F2/high/protein_cut10_entr04/GGG.txt:  1539\n",
        "Num proteins in ../data/b1hData/newDatabase/6varpos/F2/high/protein_cut10_entr04/GGT.txt:  1116\n",
        "Num proteins in ../data/b1hData/newDatabase/6varpos/F2/high/protein_cut10_entr04/GTA.txt:  856\n",
        "Num proteins in ../data/b1hData/newDatabase/6varpos/F2/high/protein_cut10_entr04/GTC.txt:  772"
       ]
      },
      {
       "output_type": "stream",
       "stream": "stdout",
       "text": [
        "\n",
        "Num proteins in ../data/b1hData/newDatabase/6varpos/F2/high/protein_cut10_entr04/GTG.txt:  1511\n",
        "Num proteins in ../data/b1hData/newDatabase/6varpos/F2/high/protein_cut10_entr04/GTT.txt:  1031\n",
        "Num proteins in ../data/b1hData/newDatabase/6varpos/F2/high/protein_cut10_entr04/TAA.txt:  8\n",
        "Num proteins in ../data/b1hData/newDatabase/6varpos/F2/high/protein_cut10_entr04/TAC.txt:  138\n",
        "Num proteins in ../data/b1hData/newDatabase/6varpos/F2/high/protein_cut10_entr04/TAG.txt:  203\n",
        "Num proteins in ../data/b1hData/newDatabase/6varpos/F2/high/protein_cut10_entr04/TAT.txt:  661\n",
        "Num proteins in ../data/b1hData/newDatabase/6varpos/F2/high/protein_cut10_entr04/TCA.txt:  13\n",
        "Num proteins in ../data/b1hData/newDatabase/6varpos/F2/high/protein_cut10_entr04/TCC.txt:  255\n",
        "Num proteins in ../data/b1hData/newDatabase/6varpos/F2/high/protein_cut10_entr04/TCG.txt:  76\n",
        "Num proteins in ../data/b1hData/newDatabase/6varpos/F2/high/protein_cut10_entr04/TCT.txt:  219\n",
        "Num proteins in ../data/b1hData/newDatabase/6varpos/F2/high/protein_cut10_entr04/TGA.txt:  321\n",
        "Num proteins in ../data/b1hData/newDatabase/6varpos/F2/high/protein_cut10_entr04/TGC.txt:  22\n",
        "Num proteins in ../data/b1hData/newDatabase/6varpos/F2/high/protein_cut10_entr04/TGG.txt:  1842"
       ]
      },
      {
       "output_type": "stream",
       "stream": "stdout",
       "text": [
        "\n",
        "Num proteins in ../data/b1hData/newDatabase/6varpos/F2/high/protein_cut10_entr04/TGT.txt:  1672\n",
        "Num proteins in ../data/b1hData/newDatabase/6varpos/F2/high/protein_cut10_entr04/TTA.txt:  93\n",
        "Num proteins in ../data/b1hData/newDatabase/6varpos/F2/high/protein_cut10_entr04/TTC.txt:  102\n",
        "Num proteins in ../data/b1hData/newDatabase/6varpos/F2/high/protein_cut10_entr04/TTG.txt:  251\n",
        "Num proteins in ../data/b1hData/newDatabase/6varpos/F2/high/protein_cut10_entr04/TTT.txt:  41\n",
        "Total num protein/dna observations in all files:  41788\n",
        "Total num unique proteins in all files:  29012\n",
        "\n",
        "Num obs processed in csv to txt conversion:  41788"
       ]
      },
      {
       "output_type": "stream",
       "stream": "stdout",
       "text": [
        "\n",
        "\n",
        "Num proteins in ../data/b1hData/newDatabase/6varpos/F2/low/protein_cut10_entr04/AAA.txt:  749\n",
        "Num proteins in ../data/b1hData/newDatabase/6varpos/F2/low/protein_cut10_entr04/AAC.txt:  4331\n",
        "Num proteins in ../data/b1hData/newDatabase/6varpos/F2/low/protein_cut10_entr04/AAG.txt:  2615"
       ]
      },
      {
       "output_type": "stream",
       "stream": "stdout",
       "text": [
        "\n",
        "Num proteins in ../data/b1hData/newDatabase/6varpos/F2/low/protein_cut10_entr04/AAT.txt:  2664\n",
        "Num proteins in ../data/b1hData/newDatabase/6varpos/F2/low/protein_cut10_entr04/ACA.txt:  3110"
       ]
      },
      {
       "output_type": "stream",
       "stream": "stdout",
       "text": [
        "\n",
        "Num proteins in ../data/b1hData/newDatabase/6varpos/F2/low/protein_cut10_entr04/ACC.txt:  1558\n",
        "Num proteins in ../data/b1hData/newDatabase/6varpos/F2/low/protein_cut10_entr04/ACG.txt:  4046"
       ]
      },
      {
       "output_type": "stream",
       "stream": "stdout",
       "text": [
        "\n",
        "Num proteins in ../data/b1hData/newDatabase/6varpos/F2/low/protein_cut10_entr04/ACT.txt:  6815"
       ]
      },
      {
       "output_type": "stream",
       "stream": "stdout",
       "text": [
        "\n",
        "Num proteins in ../data/b1hData/newDatabase/6varpos/F2/low/protein_cut10_entr04/AGA.txt:  925\n",
        "Num proteins in ../data/b1hData/newDatabase/6varpos/F2/low/protein_cut10_entr04/AGC.txt:  1121\n",
        "Num proteins in ../data/b1hData/newDatabase/6varpos/F2/low/protein_cut10_entr04/AGG.txt:  3467"
       ]
      },
      {
       "output_type": "stream",
       "stream": "stdout",
       "text": [
        "\n",
        "Num proteins in ../data/b1hData/newDatabase/6varpos/F2/low/protein_cut10_entr04/AGT.txt:  4886\n",
        "Num proteins in ../data/b1hData/newDatabase/6varpos/F2/low/protein_cut10_entr04/ATA.txt:  377\n",
        "Num proteins in ../data/b1hData/newDatabase/6varpos/F2/low/protein_cut10_entr04/ATC.txt:  2744"
       ]
      },
      {
       "output_type": "stream",
       "stream": "stdout",
       "text": [
        "\n",
        "Num proteins in ../data/b1hData/newDatabase/6varpos/F2/low/protein_cut10_entr04/ATG.txt:  2584\n",
        "Num proteins in ../data/b1hData/newDatabase/6varpos/F2/low/protein_cut10_entr04/ATT.txt:  3037\n",
        "Num proteins in ../data/b1hData/newDatabase/6varpos/F2/low/protein_cut10_entr04/CAA.txt:  498"
       ]
      },
      {
       "output_type": "stream",
       "stream": "stdout",
       "text": [
        "\n",
        "Num proteins in ../data/b1hData/newDatabase/6varpos/F2/low/protein_cut10_entr04/CAC.txt:  3177\n",
        "Num proteins in ../data/b1hData/newDatabase/6varpos/F2/low/protein_cut10_entr04/CAG.txt:  4946"
       ]
      },
      {
       "output_type": "stream",
       "stream": "stdout",
       "text": [
        "\n",
        "Num proteins in ../data/b1hData/newDatabase/6varpos/F2/low/protein_cut10_entr04/CAT.txt:  3350\n",
        "Num proteins in ../data/b1hData/newDatabase/6varpos/F2/low/protein_cut10_entr04/CCA.txt:  725\n",
        "Num proteins in ../data/b1hData/newDatabase/6varpos/F2/low/protein_cut10_entr04/CCC.txt:  721\n",
        "Num proteins in ../data/b1hData/newDatabase/6varpos/F2/low/protein_cut10_entr04/CCG.txt:  817"
       ]
      },
      {
       "output_type": "stream",
       "stream": "stdout",
       "text": [
        "\n",
        "Num proteins in ../data/b1hData/newDatabase/6varpos/F2/low/protein_cut10_entr04/CCT.txt:  1074\n",
        "Num proteins in ../data/b1hData/newDatabase/6varpos/F2/low/protein_cut10_entr04/CGA.txt:  339\n",
        "Num proteins in ../data/b1hData/newDatabase/6varpos/F2/low/protein_cut10_entr04/CGC.txt:  561\n",
        "Num proteins in ../data/b1hData/newDatabase/6varpos/F2/low/protein_cut10_entr04/CGG.txt:  4642"
       ]
      },
      {
       "output_type": "stream",
       "stream": "stdout",
       "text": [
        "\n",
        "Num proteins in ../data/b1hData/newDatabase/6varpos/F2/low/protein_cut10_entr04/CGT.txt:  2426\n",
        "Num proteins in ../data/b1hData/newDatabase/6varpos/F2/low/protein_cut10_entr04/CTA.txt:  501\n",
        "Num proteins in ../data/b1hData/newDatabase/6varpos/F2/low/protein_cut10_entr04/CTC.txt:  383\n",
        "Num proteins in ../data/b1hData/newDatabase/6varpos/F2/low/protein_cut10_entr04/CTG.txt:  1130"
       ]
      },
      {
       "output_type": "stream",
       "stream": "stdout",
       "text": [
        "\n",
        "Num proteins in ../data/b1hData/newDatabase/6varpos/F2/low/protein_cut10_entr04/CTT.txt:  921\n",
        "Num proteins in ../data/b1hData/newDatabase/6varpos/F2/low/protein_cut10_entr04/GAA.txt:  617\n",
        "Num proteins in ../data/b1hData/newDatabase/6varpos/F2/low/protein_cut10_entr04/GAC.txt:  2773"
       ]
      },
      {
       "output_type": "stream",
       "stream": "stdout",
       "text": [
        "\n",
        "Num proteins in ../data/b1hData/newDatabase/6varpos/F2/low/protein_cut10_entr04/GAG.txt:  2679\n",
        "Num proteins in ../data/b1hData/newDatabase/6varpos/F2/low/protein_cut10_entr04/GAT.txt:  2815"
       ]
      },
      {
       "output_type": "stream",
       "stream": "stdout",
       "text": [
        "\n",
        "Num proteins in ../data/b1hData/newDatabase/6varpos/F2/low/protein_cut10_entr04/GCA.txt:  1112\n",
        "Num proteins in ../data/b1hData/newDatabase/6varpos/F2/low/protein_cut10_entr04/GCC.txt:  1301"
       ]
      },
      {
       "output_type": "stream",
       "stream": "stdout",
       "text": [
        "\n",
        "Num proteins in ../data/b1hData/newDatabase/6varpos/F2/low/protein_cut10_entr04/GCG.txt:  3480"
       ]
      },
      {
       "output_type": "stream",
       "stream": "stdout",
       "text": [
        "\n",
        "Num proteins in ../data/b1hData/newDatabase/6varpos/F2/low/protein_cut10_entr04/GCT.txt:  4154"
       ]
      },
      {
       "output_type": "stream",
       "stream": "stdout",
       "text": [
        "\n",
        "Num proteins in ../data/b1hData/newDatabase/6varpos/F2/low/protein_cut10_entr04/GGA.txt:  132\n",
        "Num proteins in ../data/b1hData/newDatabase/6varpos/F2/low/protein_cut10_entr04/GGC.txt:  755\n",
        "Num proteins in ../data/b1hData/newDatabase/6varpos/F2/low/protein_cut10_entr04/GGG.txt:  4108"
       ]
      },
      {
       "output_type": "stream",
       "stream": "stdout",
       "text": [
        "\n",
        "Num proteins in ../data/b1hData/newDatabase/6varpos/F2/low/protein_cut10_entr04/GGT.txt:  2013"
       ]
      },
      {
       "output_type": "stream",
       "stream": "stdout",
       "text": [
        "\n",
        "Num proteins in ../data/b1hData/newDatabase/6varpos/F2/low/protein_cut10_entr04/GTA.txt:  10\n",
        "Num proteins in ../data/b1hData/newDatabase/6varpos/F2/low/protein_cut10_entr04/GTC.txt:  1700\n",
        "Num proteins in ../data/b1hData/newDatabase/6varpos/F2/low/protein_cut10_entr04/GTG.txt:  4755"
       ]
      },
      {
       "output_type": "stream",
       "stream": "stdout",
       "text": [
        "\n",
        "Num proteins in ../data/b1hData/newDatabase/6varpos/F2/low/protein_cut10_entr04/GTT.txt:  4083"
       ]
      },
      {
       "output_type": "stream",
       "stream": "stdout",
       "text": [
        "\n",
        "Num proteins in ../data/b1hData/newDatabase/6varpos/F2/low/protein_cut10_entr04/TAA.txt:  39\n",
        "Num proteins in ../data/b1hData/newDatabase/6varpos/F2/low/protein_cut10_entr04/TAC.txt:  1012\n",
        "Num proteins in ../data/b1hData/newDatabase/6varpos/F2/low/protein_cut10_entr04/TAG.txt:  917"
       ]
      },
      {
       "output_type": "stream",
       "stream": "stdout",
       "text": [
        "\n",
        "Num proteins in ../data/b1hData/newDatabase/6varpos/F2/low/protein_cut10_entr04/TAT.txt:  2067"
       ]
      },
      {
       "output_type": "stream",
       "stream": "stdout",
       "text": [
        "\n",
        "Num proteins in ../data/b1hData/newDatabase/6varpos/F2/low/protein_cut10_entr04/TCA.txt:  59\n",
        "Num proteins in ../data/b1hData/newDatabase/6varpos/F2/low/protein_cut10_entr04/TCC.txt:  513\n",
        "Num proteins in ../data/b1hData/newDatabase/6varpos/F2/low/protein_cut10_entr04/TCG.txt:  1360\n",
        "Num proteins in ../data/b1hData/newDatabase/6varpos/F2/low/protein_cut10_entr04/TCT.txt:  1060"
       ]
      },
      {
       "output_type": "stream",
       "stream": "stdout",
       "text": [
        "\n",
        "Num proteins in ../data/b1hData/newDatabase/6varpos/F2/low/protein_cut10_entr04/TGA.txt:  348\n",
        "Num proteins in ../data/b1hData/newDatabase/6varpos/F2/low/protein_cut10_entr04/TGC.txt:  390\n",
        "Num proteins in ../data/b1hData/newDatabase/6varpos/F2/low/protein_cut10_entr04/TGG.txt:  5241"
       ]
      },
      {
       "output_type": "stream",
       "stream": "stdout",
       "text": [
        "\n",
        "Num proteins in ../data/b1hData/newDatabase/6varpos/F2/low/protein_cut10_entr04/TGT.txt:  5887"
       ]
      },
      {
       "output_type": "stream",
       "stream": "stdout",
       "text": [
        "\n",
        "Num proteins in ../data/b1hData/newDatabase/6varpos/F2/low/protein_cut10_entr04/TTA.txt:  175\n",
        "Num proteins in ../data/b1hData/newDatabase/6varpos/F2/low/protein_cut10_entr04/TTC.txt:  487\n",
        "Num proteins in ../data/b1hData/newDatabase/6varpos/F2/low/protein_cut10_entr04/TTG.txt:  2063\n",
        "Num proteins in ../data/b1hData/newDatabase/6varpos/F2/low/protein_cut10_entr04/TTT.txt:  367\n",
        "Total num protein/dna observations in all files:  129712\n",
        "Total num unique proteins in all files:  83635\n",
        "\n",
        "Num obs processed in csv to txt conversion:  129712"
       ]
      },
      {
       "output_type": "stream",
       "stream": "stdout",
       "text": [
        "\n",
        "\n",
        "Num proteins in ../data/b1hData/newDatabase/6varpos/F3/high/protein_cut10_entr04/AAA.txt:  167\n",
        "Num proteins in ../data/b1hData/newDatabase/6varpos/F3/high/protein_cut10_entr04/AAC.txt:  457\n",
        "Num proteins in ../data/b1hData/newDatabase/6varpos/F3/high/protein_cut10_entr04/AAG.txt:  1133\n",
        "Num proteins in ../data/b1hData/newDatabase/6varpos/F3/high/protein_cut10_entr04/AAT.txt:  172\n",
        "Num proteins in ../data/b1hData/newDatabase/6varpos/F3/high/protein_cut10_entr04/ACA.txt:  67\n",
        "Num proteins in ../data/b1hData/newDatabase/6varpos/F3/high/protein_cut10_entr04/ACC.txt:  22\n",
        "Num proteins in ../data/b1hData/newDatabase/6varpos/F3/high/protein_cut10_entr04/ACG.txt:  1007\n",
        "Num proteins in ../data/b1hData/newDatabase/6varpos/F3/high/protein_cut10_entr04/ACT.txt:  438\n",
        "Num proteins in ../data/b1hData/newDatabase/6varpos/F3/high/protein_cut10_entr04/AGA.txt:  0\n",
        "Num proteins in ../data/b1hData/newDatabase/6varpos/F3/high/protein_cut10_entr04/AGC.txt:  594"
       ]
      },
      {
       "output_type": "stream",
       "stream": "stdout",
       "text": [
        "\n",
        "Num proteins in ../data/b1hData/newDatabase/6varpos/F3/high/protein_cut10_entr04/AGG.txt:  690\n",
        "Num proteins in ../data/b1hData/newDatabase/6varpos/F3/high/protein_cut10_entr04/AGT.txt:  1265\n",
        "Num proteins in ../data/b1hData/newDatabase/6varpos/F3/high/protein_cut10_entr04/ATA.txt:  51\n",
        "Num proteins in ../data/b1hData/newDatabase/6varpos/F3/high/protein_cut10_entr04/ATC.txt:  733\n",
        "Num proteins in ../data/b1hData/newDatabase/6varpos/F3/high/protein_cut10_entr04/ATG.txt:  139\n",
        "Num proteins in ../data/b1hData/newDatabase/6varpos/F3/high/protein_cut10_entr04/ATT.txt:  299\n",
        "Num proteins in ../data/b1hData/newDatabase/6varpos/F3/high/protein_cut10_entr04/CAA.txt:  233\n",
        "Num proteins in ../data/b1hData/newDatabase/6varpos/F3/high/protein_cut10_entr04/CAC.txt:  218\n",
        "Num proteins in ../data/b1hData/newDatabase/6varpos/F3/high/protein_cut10_entr04/CAG.txt:  346\n",
        "Num proteins in ../data/b1hData/newDatabase/6varpos/F3/high/protein_cut10_entr04/CAT.txt:  585\n",
        "Num proteins in ../data/b1hData/newDatabase/6varpos/F3/high/protein_cut10_entr04/CCA.txt:  80"
       ]
      },
      {
       "output_type": "stream",
       "stream": "stdout",
       "text": [
        "\n",
        "Num proteins in ../data/b1hData/newDatabase/6varpos/F3/high/protein_cut10_entr04/CCC.txt:  197\n",
        "Num proteins in ../data/b1hData/newDatabase/6varpos/F3/high/protein_cut10_entr04/CCG.txt:  522\n",
        "Num proteins in ../data/b1hData/newDatabase/6varpos/F3/high/protein_cut10_entr04/CCT.txt:  261\n",
        "Num proteins in ../data/b1hData/newDatabase/6varpos/F3/high/protein_cut10_entr04/CGA.txt:  72\n",
        "Num proteins in ../data/b1hData/newDatabase/6varpos/F3/high/protein_cut10_entr04/CGC.txt:  699\n",
        "Num proteins in ../data/b1hData/newDatabase/6varpos/F3/high/protein_cut10_entr04/CGG.txt:  16\n",
        "Num proteins in ../data/b1hData/newDatabase/6varpos/F3/high/protein_cut10_entr04/CGT.txt:  612\n",
        "Num proteins in ../data/b1hData/newDatabase/6varpos/F3/high/protein_cut10_entr04/CTA.txt:  179\n",
        "Num proteins in ../data/b1hData/newDatabase/6varpos/F3/high/protein_cut10_entr04/CTC.txt:  153\n",
        "Num proteins in ../data/b1hData/newDatabase/6varpos/F3/high/protein_cut10_entr04/CTG.txt:  30\n",
        "Num proteins in ../data/b1hData/newDatabase/6varpos/F3/high/protein_cut10_entr04/CTT.txt:  57\n",
        "Num proteins in ../data/b1hData/newDatabase/6varpos/F3/high/protein_cut10_entr04/GAA.txt:  282\n",
        "Num proteins in ../data/b1hData/newDatabase/6varpos/F3/high/protein_cut10_entr04/GAC.txt:  237\n",
        "Num proteins in ../data/b1hData/newDatabase/6varpos/F3/high/protein_cut10_entr04/GAG.txt:  635\n",
        "Num proteins in ../data/b1hData/newDatabase/6varpos/F3/high/protein_cut10_entr04/GAT.txt:  383\n",
        "Num proteins in ../data/b1hData/newDatabase/6varpos/F3/high/protein_cut10_entr04/GCA.txt:  241\n",
        "Num proteins in ../data/b1hData/newDatabase/6varpos/F3/high/protein_cut10_entr04/GCC.txt:  154\n",
        "Num proteins in ../data/b1hData/newDatabase/6varpos/F3/high/protein_cut10_entr04/GCG.txt:  306\n",
        "Num proteins in ../data/b1hData/newDatabase/6varpos/F3/high/protein_cut10_entr04/GCT.txt:  422"
       ]
      },
      {
       "output_type": "stream",
       "stream": "stdout",
       "text": [
        "\n",
        "Num proteins in ../data/b1hData/newDatabase/6varpos/F3/high/protein_cut10_entr04/GGA.txt:  432\n",
        "Num proteins in ../data/b1hData/newDatabase/6varpos/F3/high/protein_cut10_entr04/GGC.txt:  194\n",
        "Num proteins in ../data/b1hData/newDatabase/6varpos/F3/high/protein_cut10_entr04/GGG.txt:  863\n",
        "Num proteins in ../data/b1hData/newDatabase/6varpos/F3/high/protein_cut10_entr04/GGT.txt:  1140"
       ]
      },
      {
       "output_type": "stream",
       "stream": "stdout",
       "text": [
        "\n",
        "Num proteins in ../data/b1hData/newDatabase/6varpos/F3/high/protein_cut10_entr04/GTA.txt:  388\n",
        "Num proteins in ../data/b1hData/newDatabase/6varpos/F3/high/protein_cut10_entr04/GTC.txt:  405\n",
        "Num proteins in ../data/b1hData/newDatabase/6varpos/F3/high/protein_cut10_entr04/GTG.txt:  854\n",
        "Num proteins in ../data/b1hData/newDatabase/6varpos/F3/high/protein_cut10_entr04/GTT.txt:  1014\n",
        "Num proteins in ../data/b1hData/newDatabase/6varpos/F3/high/protein_cut10_entr04/TAA.txt:  571\n",
        "Num proteins in ../data/b1hData/newDatabase/6varpos/F3/high/protein_cut10_entr04/TAC.txt:  227\n",
        "Num proteins in ../data/b1hData/newDatabase/6varpos/F3/high/protein_cut10_entr04/TAG.txt:  174\n",
        "Num proteins in ../data/b1hData/newDatabase/6varpos/F3/high/protein_cut10_entr04/TAT.txt:  695"
       ]
      },
      {
       "output_type": "stream",
       "stream": "stdout",
       "text": [
        "\n",
        "Num proteins in ../data/b1hData/newDatabase/6varpos/F3/high/protein_cut10_entr04/TCA.txt:  306\n",
        "Num proteins in ../data/b1hData/newDatabase/6varpos/F3/high/protein_cut10_entr04/TCC.txt:  494\n",
        "Num proteins in ../data/b1hData/newDatabase/6varpos/F3/high/protein_cut10_entr04/TCG.txt:  147\n",
        "Num proteins in ../data/b1hData/newDatabase/6varpos/F3/high/protein_cut10_entr04/TCT.txt:  231\n",
        "Num proteins in ../data/b1hData/newDatabase/6varpos/F3/high/protein_cut10_entr04/TGA.txt:  749\n",
        "Num proteins in ../data/b1hData/newDatabase/6varpos/F3/high/protein_cut10_entr04/TGC.txt:  356\n",
        "Num proteins in ../data/b1hData/newDatabase/6varpos/F3/high/protein_cut10_entr04/TGG.txt:  24\n",
        "Num proteins in ../data/b1hData/newDatabase/6varpos/F3/high/protein_cut10_entr04/TGT.txt:  5381"
       ]
      },
      {
       "output_type": "stream",
       "stream": "stdout",
       "text": [
        "\n",
        "Num proteins in ../data/b1hData/newDatabase/6varpos/F3/high/protein_cut10_entr04/TTA.txt:  2215\n",
        "Num proteins in ../data/b1hData/newDatabase/6varpos/F3/high/protein_cut10_entr04/TTC.txt:  60\n",
        "Num proteins in ../data/b1hData/newDatabase/6varpos/F3/high/protein_cut10_entr04/TTG.txt:  32\n",
        "Num proteins in ../data/b1hData/newDatabase/6varpos/F3/high/protein_cut10_entr04/TTT.txt:  327\n",
        "Total num protein/dna observations in all files:  31433\n",
        "Total num unique proteins in all files:  22265\n",
        "\n",
        "Num obs processed in csv to txt conversion:  31433"
       ]
      },
      {
       "output_type": "stream",
       "stream": "stdout",
       "text": [
        "\n",
        "\n",
        "Num proteins in ../data/b1hData/newDatabase/6varpos/F3/low/protein_cut10_entr04/AAA.txt:  231\n",
        "Num proteins in ../data/b1hData/newDatabase/6varpos/F3/low/protein_cut10_entr04/AAC.txt:  2227\n",
        "Num proteins in ../data/b1hData/newDatabase/6varpos/F3/low/protein_cut10_entr04/AAG.txt:  3246"
       ]
      },
      {
       "output_type": "stream",
       "stream": "stdout",
       "text": [
        "\n",
        "Num proteins in ../data/b1hData/newDatabase/6varpos/F3/low/protein_cut10_entr04/AAT.txt:  2460\n",
        "Num proteins in ../data/b1hData/newDatabase/6varpos/F3/low/protein_cut10_entr04/ACA.txt:  174\n",
        "Num proteins in ../data/b1hData/newDatabase/6varpos/F3/low/protein_cut10_entr04/ACC.txt:  601\n",
        "Num proteins in ../data/b1hData/newDatabase/6varpos/F3/low/protein_cut10_entr04/ACG.txt:  3344"
       ]
      },
      {
       "output_type": "stream",
       "stream": "stdout",
       "text": [
        "\n",
        "Num proteins in ../data/b1hData/newDatabase/6varpos/F3/low/protein_cut10_entr04/ACT.txt:  1780"
       ]
      },
      {
       "output_type": "stream",
       "stream": "stdout",
       "text": [
        "\n",
        "Num proteins in ../data/b1hData/newDatabase/6varpos/F3/low/protein_cut10_entr04/AGA.txt:  53\n",
        "Num proteins in ../data/b1hData/newDatabase/6varpos/F3/low/protein_cut10_entr04/AGC.txt:  4256"
       ]
      },
      {
       "output_type": "stream",
       "stream": "stdout",
       "text": [
        "\n",
        "Num proteins in ../data/b1hData/newDatabase/6varpos/F3/low/protein_cut10_entr04/AGG.txt:  2393"
       ]
      },
      {
       "output_type": "stream",
       "stream": "stdout",
       "text": [
        "\n",
        "Num proteins in ../data/b1hData/newDatabase/6varpos/F3/low/protein_cut10_entr04/AGT.txt:  3274\n",
        "Num proteins in ../data/b1hData/newDatabase/6varpos/F3/low/protein_cut10_entr04/ATA.txt:  233\n",
        "Num proteins in ../data/b1hData/newDatabase/6varpos/F3/low/protein_cut10_entr04/ATC.txt:  1862\n",
        "Num proteins in ../data/b1hData/newDatabase/6varpos/F3/low/protein_cut10_entr04/ATG.txt:  992"
       ]
      },
      {
       "output_type": "stream",
       "stream": "stdout",
       "text": [
        "\n",
        "Num proteins in ../data/b1hData/newDatabase/6varpos/F3/low/protein_cut10_entr04/ATT.txt:  1662\n",
        "Num proteins in ../data/b1hData/newDatabase/6varpos/F3/low/protein_cut10_entr04/CAA.txt:  304\n",
        "Num proteins in ../data/b1hData/newDatabase/6varpos/F3/low/protein_cut10_entr04/CAC.txt:  2373"
       ]
      },
      {
       "output_type": "stream",
       "stream": "stdout",
       "text": [
        "\n",
        "Num proteins in ../data/b1hData/newDatabase/6varpos/F3/low/protein_cut10_entr04/CAG.txt:  2972"
       ]
      },
      {
       "output_type": "stream",
       "stream": "stdout",
       "text": [
        "\n",
        "Num proteins in ../data/b1hData/newDatabase/6varpos/F3/low/protein_cut10_entr04/CAT.txt:  2415\n",
        "Num proteins in ../data/b1hData/newDatabase/6varpos/F3/low/protein_cut10_entr04/CCA.txt:  196\n",
        "Num proteins in ../data/b1hData/newDatabase/6varpos/F3/low/protein_cut10_entr04/CCC.txt:  838\n",
        "Num proteins in ../data/b1hData/newDatabase/6varpos/F3/low/protein_cut10_entr04/CCG.txt:  3945"
       ]
      },
      {
       "output_type": "stream",
       "stream": "stdout",
       "text": [
        "\n",
        "Num proteins in ../data/b1hData/newDatabase/6varpos/F3/low/protein_cut10_entr04/CCT.txt:  1776"
       ]
      },
      {
       "output_type": "stream",
       "stream": "stdout",
       "text": [
        "\n",
        "Num proteins in ../data/b1hData/newDatabase/6varpos/F3/low/protein_cut10_entr04/CGA.txt:  394\n",
        "Num proteins in ../data/b1hData/newDatabase/6varpos/F3/low/protein_cut10_entr04/CGC.txt:  5516"
       ]
      },
      {
       "output_type": "stream",
       "stream": "stdout",
       "text": [
        "\n",
        "Num proteins in ../data/b1hData/newDatabase/6varpos/F3/low/protein_cut10_entr04/CGG.txt:  880\n",
        "Num proteins in ../data/b1hData/newDatabase/6varpos/F3/low/protein_cut10_entr04/CGT.txt:  3517"
       ]
      },
      {
       "output_type": "stream",
       "stream": "stdout",
       "text": [
        "\n",
        "Num proteins in ../data/b1hData/newDatabase/6varpos/F3/low/protein_cut10_entr04/CTA.txt:  150\n",
        "Num proteins in ../data/b1hData/newDatabase/6varpos/F3/low/protein_cut10_entr04/CTC.txt:  1064\n",
        "Num proteins in ../data/b1hData/newDatabase/6varpos/F3/low/protein_cut10_entr04/CTG.txt:  776\n",
        "Num proteins in ../data/b1hData/newDatabase/6varpos/F3/low/protein_cut10_entr04/CTT.txt:  928"
       ]
      },
      {
       "output_type": "stream",
       "stream": "stdout",
       "text": [
        "\n",
        "Num proteins in ../data/b1hData/newDatabase/6varpos/F3/low/protein_cut10_entr04/GAA.txt:  2009\n",
        "Num proteins in ../data/b1hData/newDatabase/6varpos/F3/low/protein_cut10_entr04/GAC.txt:  2635"
       ]
      },
      {
       "output_type": "stream",
       "stream": "stdout",
       "text": [
        "\n",
        "Num proteins in ../data/b1hData/newDatabase/6varpos/F3/low/protein_cut10_entr04/GAG.txt:  5247"
       ]
      },
      {
       "output_type": "stream",
       "stream": "stdout",
       "text": [
        "\n",
        "Num proteins in ../data/b1hData/newDatabase/6varpos/F3/low/protein_cut10_entr04/GAT.txt:  4125"
       ]
      },
      {
       "output_type": "stream",
       "stream": "stdout",
       "text": [
        "\n",
        "Num proteins in ../data/b1hData/newDatabase/6varpos/F3/low/protein_cut10_entr04/GCA.txt:  962\n",
        "Num proteins in ../data/b1hData/newDatabase/6varpos/F3/low/protein_cut10_entr04/GCC.txt:  1038\n",
        "Num proteins in ../data/b1hData/newDatabase/6varpos/F3/low/protein_cut10_entr04/GCG.txt:  2456"
       ]
      },
      {
       "output_type": "stream",
       "stream": "stdout",
       "text": [
        "\n",
        "Num proteins in ../data/b1hData/newDatabase/6varpos/F3/low/protein_cut10_entr04/GCT.txt:  1628\n",
        "Num proteins in ../data/b1hData/newDatabase/6varpos/F3/low/protein_cut10_entr04/GGA.txt:  1235"
       ]
      },
      {
       "output_type": "stream",
       "stream": "stdout",
       "text": [
        "\n",
        "Num proteins in ../data/b1hData/newDatabase/6varpos/F3/low/protein_cut10_entr04/GGC.txt:  1822\n",
        "Num proteins in ../data/b1hData/newDatabase/6varpos/F3/low/protein_cut10_entr04/GGG.txt:  3953"
       ]
      },
      {
       "output_type": "stream",
       "stream": "stdout",
       "text": [
        "\n",
        "Num proteins in ../data/b1hData/newDatabase/6varpos/F3/low/protein_cut10_entr04/GGT.txt:  3767"
       ]
      },
      {
       "output_type": "stream",
       "stream": "stdout",
       "text": [
        "\n",
        "Num proteins in ../data/b1hData/newDatabase/6varpos/F3/low/protein_cut10_entr04/GTA.txt:  1963"
       ]
      },
      {
       "output_type": "stream",
       "stream": "stdout",
       "text": [
        "\n",
        "Num proteins in ../data/b1hData/newDatabase/6varpos/F3/low/protein_cut10_entr04/GTC.txt:  2769\n",
        "Num proteins in ../data/b1hData/newDatabase/6varpos/F3/low/protein_cut10_entr04/GTG.txt:  4917"
       ]
      },
      {
       "output_type": "stream",
       "stream": "stdout",
       "text": [
        "\n",
        "Num proteins in ../data/b1hData/newDatabase/6varpos/F3/low/protein_cut10_entr04/GTT.txt:  6765"
       ]
      },
      {
       "output_type": "stream",
       "stream": "stdout",
       "text": [
        "\n",
        "Num proteins in ../data/b1hData/newDatabase/6varpos/F3/low/protein_cut10_entr04/TAA.txt:  234\n",
        "Num proteins in ../data/b1hData/newDatabase/6varpos/F3/low/protein_cut10_entr04/TAC.txt:  1966\n",
        "Num proteins in ../data/b1hData/newDatabase/6varpos/F3/low/protein_cut10_entr04/TAG.txt:  1325"
       ]
      },
      {
       "output_type": "stream",
       "stream": "stdout",
       "text": [
        "\n",
        "Num proteins in ../data/b1hData/newDatabase/6varpos/F3/low/protein_cut10_entr04/TAT.txt:  2398\n",
        "Num proteins in ../data/b1hData/newDatabase/6varpos/F3/low/protein_cut10_entr04/TCA.txt:  90\n",
        "Num proteins in ../data/b1hData/newDatabase/6varpos/F3/low/protein_cut10_entr04/TCC.txt:  1147"
       ]
      },
      {
       "output_type": "stream",
       "stream": "stdout",
       "text": [
        "\n",
        "Num proteins in ../data/b1hData/newDatabase/6varpos/F3/low/protein_cut10_entr04/TCG.txt:  1088\n",
        "Num proteins in ../data/b1hData/newDatabase/6varpos/F3/low/protein_cut10_entr04/TCT.txt:  1438\n",
        "Num proteins in ../data/b1hData/newDatabase/6varpos/F3/low/protein_cut10_entr04/TGA.txt:  2132"
       ]
      },
      {
       "output_type": "stream",
       "stream": "stdout",
       "text": [
        "\n",
        "Num proteins in ../data/b1hData/newDatabase/6varpos/F3/low/protein_cut10_entr04/TGC.txt:  3514"
       ]
      },
      {
       "output_type": "stream",
       "stream": "stdout",
       "text": [
        "\n",
        "Num proteins in ../data/b1hData/newDatabase/6varpos/F3/low/protein_cut10_entr04/TGG.txt:  757\n",
        "Num proteins in ../data/b1hData/newDatabase/6varpos/F3/low/protein_cut10_entr04/TGT.txt:  11686"
       ]
      },
      {
       "output_type": "stream",
       "stream": "stdout",
       "text": [
        "\n",
        "Num proteins in ../data/b1hData/newDatabase/6varpos/F3/low/protein_cut10_entr04/TTA.txt:  182\n",
        "Num proteins in ../data/b1hData/newDatabase/6varpos/F3/low/protein_cut10_entr04/TTC.txt:  754\n",
        "Num proteins in ../data/b1hData/newDatabase/6varpos/F3/low/protein_cut10_entr04/TTG.txt:  1053\n",
        "Num proteins in ../data/b1hData/newDatabase/6varpos/F3/low/protein_cut10_entr04/TTT.txt:  3202"
       ]
      },
      {
       "output_type": "stream",
       "stream": "stdout",
       "text": [
        "\n",
        "Total num protein/dna observations in all files:  137089\n",
        "Total num unique proteins in all files:  82786\n",
        "\n",
        "Num obs processed in csv to txt conversion:  137089"
       ]
      },
      {
       "output_type": "stream",
       "stream": "stdout",
       "text": [
        "\n",
        "\n"
       ]
      }
     ],
     "prompt_number": 2
    },
    {
     "cell_type": "code",
     "collapsed": false,
     "input": [
      "prefix = '../data/b1hData/newDatabase/5varpos/'\n",
      "numVarPos = 5\n",
      "fings = ['F2']\n",
      "strins = ['high', 'low']\n",
      "for fing in fings:\n",
      "    for strin in strins:\n",
      "        path = prefix + fing + '/' + strin + '/' + 'protein_cut10_entr04/'\n",
      "        targetFiles2singleCSV(path, numVarPos, '.txt')\n",
      "        csv2txtFile(path, numVarPos)\n",
      "        print"
     ],
     "language": "python",
     "metadata": {},
     "outputs": [
      {
       "output_type": "stream",
       "stream": "stdout",
       "text": [
        "Invalid File Name: AAA.txt\n",
        "Invalid File Name: AAC.txt\n",
        "Num proteins in ../data/b1hData/newDatabase/5varpos/F2/high/protein_cut10_entr04/AAG.txt:  6281"
       ]
      },
      {
       "output_type": "stream",
       "stream": "stdout",
       "text": [
        "\n",
        "Invalid File Name: AAT.txt\n",
        "Invalid File Name: ACA.txt\n",
        "Invalid File Name: ACC.txt\n",
        "Invalid File Name: ACG.txt\n",
        "Invalid File Name: ACT.txt\n",
        "Invalid File Name: AGA.txt\n",
        "Invalid File Name: AGC.txt\n",
        "Invalid File Name: AGG.txt\n",
        "Invalid File Name: AGT.txt\n",
        "Invalid File Name: ATA.txt\n",
        "Invalid File Name: ATC.txt\n",
        "Invalid File Name: ATG.txt\n",
        "Invalid File Name: ATT.txt\n",
        "Num proteins in ../data/b1hData/newDatabase/5varpos/F2/high/protein_cut10_entr04/CAA.txt:  5901"
       ]
      },
      {
       "output_type": "stream",
       "stream": "stdout",
       "text": [
        "\n",
        "Num proteins in ../data/b1hData/newDatabase/5varpos/F2/high/protein_cut10_entr04/CAC.txt:  5425\n",
        "Num proteins in ../data/b1hData/newDatabase/5varpos/F2/high/protein_cut10_entr04/CAG.txt:  5320"
       ]
      },
      {
       "output_type": "stream",
       "stream": "stdout",
       "text": [
        "\n",
        "Num proteins in ../data/b1hData/newDatabase/5varpos/F2/high/protein_cut10_entr04/CAT.txt:  6762"
       ]
      },
      {
       "output_type": "stream",
       "stream": "stdout",
       "text": [
        "\n",
        "Invalid File Name: CCA.txt\n",
        "Invalid File Name: CCC.txt\n",
        "Invalid File Name: CCG.txt\n",
        "Invalid File Name: CCT.txt\n",
        "Invalid File Name: CGA.txt\n",
        "Invalid File Name: CGC.txt\n",
        "Invalid File Name: CGG.txt\n",
        "Invalid File Name: CGT.txt\n",
        "Invalid File Name: CTA.txt\n",
        "Invalid File Name: CTC.txt\n",
        "Invalid File Name: CTG.txt\n",
        "Invalid File Name: CTT.txt\n",
        "Invalid File Name: GAA.txt\n",
        "Invalid File Name: GAC.txt\n",
        "Num proteins in ../data/b1hData/newDatabase/5varpos/F2/high/protein_cut10_entr04/GAG.txt:  8969"
       ]
      },
      {
       "output_type": "stream",
       "stream": "stdout",
       "text": [
        "\n",
        "Invalid File Name: GAT.txt\n",
        "Invalid File Name: GCA.txt\n",
        "Invalid File Name: GCC.txt\n",
        "Invalid File Name: GCG.txt\n",
        "Invalid File Name: GCT.txt\n",
        "Num proteins in ../data/b1hData/newDatabase/5varpos/F2/high/protein_cut10_entr04/GGA.txt:  7396"
       ]
      },
      {
       "output_type": "stream",
       "stream": "stdout",
       "text": [
        "\n",
        "Invalid File Name: GGC.txt\n",
        "Num proteins in ../data/b1hData/newDatabase/5varpos/F2/high/protein_cut10_entr04/GGG.txt:  8576"
       ]
      },
      {
       "output_type": "stream",
       "stream": "stdout",
       "text": [
        "\n",
        "Invalid File Name: GGT.txt\n",
        "Invalid File Name: GTA.txt\n",
        "Invalid File Name: GTC.txt\n",
        "Invalid File Name: GTG.txt\n",
        "Invalid File Name: GTT.txt\n",
        "Invalid File Name: TAA.txt\n",
        "Invalid File Name: TAC.txt\n",
        "Num proteins in ../data/b1hData/newDatabase/5varpos/F2/high/protein_cut10_entr04/TAG.txt:  6700"
       ]
      },
      {
       "output_type": "stream",
       "stream": "stdout",
       "text": [
        "\n",
        "Invalid File Name: TAT.txt\n",
        "Invalid File Name: TCA.txt\n",
        "Invalid File Name: TCC.txt\n",
        "Invalid File Name: TCG.txt\n",
        "Invalid File Name: TCT.txt\n",
        "Invalid File Name: TGA.txt\n",
        "Invalid File Name: TGC.txt\n",
        "Invalid File Name: TGG.txt\n",
        "Invalid File Name: TGT.txt\n",
        "Invalid File Name: TTA.txt\n",
        "Invalid File Name: TTC.txt\n",
        "Invalid File Name: TTG.txt\n",
        "Invalid File Name: TTT.txt\n",
        "Total num protein/dna observations in all files:  61330\n",
        "Total num unique proteins in all files:  25629\n",
        "\n",
        "Num obs processed in csv to txt conversion:  61330"
       ]
      },
      {
       "output_type": "stream",
       "stream": "stdout",
       "text": [
        "\n",
        "\n",
        "Invalid File Name: AAA.txt\n",
        "Invalid File Name: AAC.txt\n",
        "Num proteins in ../data/b1hData/newDatabase/5varpos/F2/low/protein_cut10_entr04/AAG.txt:  16243"
       ]
      },
      {
       "output_type": "stream",
       "stream": "stdout",
       "text": [
        "\n",
        "Invalid File Name: AAT.txt\n",
        "Invalid File Name: ACA.txt\n",
        "Invalid File Name: ACC.txt\n",
        "Invalid File Name: ACG.txt\n",
        "Invalid File Name: ACT.txt\n",
        "Invalid File Name: AGA.txt\n",
        "Invalid File Name: AGC.txt\n",
        "Invalid File Name: AGG.txt\n",
        "Invalid File Name: AGT.txt\n",
        "Invalid File Name: ATA.txt\n",
        "Invalid File Name: ATC.txt\n",
        "Invalid File Name: ATG.txt\n",
        "Invalid File Name: ATT.txt\n",
        "Num proteins in ../data/b1hData/newDatabase/5varpos/F2/low/protein_cut10_entr04/CAA.txt:  12111"
       ]
      },
      {
       "output_type": "stream",
       "stream": "stdout",
       "text": [
        "\n",
        "Num proteins in ../data/b1hData/newDatabase/5varpos/F2/low/protein_cut10_entr04/CAC.txt:  14563"
       ]
      },
      {
       "output_type": "stream",
       "stream": "stdout",
       "text": [
        "\n",
        "Num proteins in ../data/b1hData/newDatabase/5varpos/F2/low/protein_cut10_entr04/CAG.txt:  14217"
       ]
      },
      {
       "output_type": "stream",
       "stream": "stdout",
       "text": [
        "\n",
        "Num proteins in ../data/b1hData/newDatabase/5varpos/F2/low/protein_cut10_entr04/CAT.txt:  18088"
       ]
      },
      {
       "output_type": "stream",
       "stream": "stdout",
       "text": [
        "\n",
        "Invalid File Name: CCA.txt\n",
        "Invalid File Name: CCC.txt\n",
        "Invalid File Name: CCG.txt\n",
        "Invalid File Name: CCT.txt\n",
        "Invalid File Name: CGA.txt\n",
        "Invalid File Name: CGC.txt\n",
        "Invalid File Name: CGG.txt\n",
        "Invalid File Name: CGT.txt\n",
        "Invalid File Name: CTA.txt\n",
        "Invalid File Name: CTC.txt\n",
        "Invalid File Name: CTG.txt\n",
        "Invalid File Name: CTT.txt\n",
        "Invalid File Name: GAA.txt\n",
        "Invalid File Name: GAC.txt\n",
        "Num proteins in ../data/b1hData/newDatabase/5varpos/F2/low/protein_cut10_entr04/GAG.txt:  16727"
       ]
      },
      {
       "output_type": "stream",
       "stream": "stdout",
       "text": [
        "\n",
        "Invalid File Name: GAT.txt\n",
        "Invalid File Name: GCA.txt\n",
        "Invalid File Name: GCC.txt\n",
        "Invalid File Name: GCG.txt\n",
        "Invalid File Name: GCT.txt\n",
        "Num proteins in ../data/b1hData/newDatabase/5varpos/F2/low/protein_cut10_entr04/GGA.txt:  10036"
       ]
      },
      {
       "output_type": "stream",
       "stream": "stdout",
       "text": [
        "\n",
        "Invalid File Name: GGC.txt\n",
        "Num proteins in ../data/b1hData/newDatabase/5varpos/F2/low/protein_cut10_entr04/GGG.txt:  10995"
       ]
      },
      {
       "output_type": "stream",
       "stream": "stdout",
       "text": [
        "\n",
        "Invalid File Name: GGT.txt\n",
        "Invalid File Name: GTA.txt\n",
        "Invalid File Name: GTC.txt\n",
        "Invalid File Name: GTG.txt\n",
        "Invalid File Name: GTT.txt\n",
        "Invalid File Name: TAA.txt\n",
        "Invalid File Name: TAC.txt\n",
        "Num proteins in ../data/b1hData/newDatabase/5varpos/F2/low/protein_cut10_entr04/TAG.txt:  13774"
       ]
      },
      {
       "output_type": "stream",
       "stream": "stdout",
       "text": [
        "\n",
        "Invalid File Name: TAT.txt\n",
        "Invalid File Name: TCA.txt\n",
        "Invalid File Name: TCC.txt\n",
        "Invalid File Name: TCG.txt\n",
        "Invalid File Name: TCT.txt\n",
        "Invalid File Name: TGA.txt\n",
        "Invalid File Name: TGC.txt\n",
        "Invalid File Name: TGG.txt\n",
        "Invalid File Name: TGT.txt\n",
        "Invalid File Name: TTA.txt\n",
        "Invalid File Name: TTC.txt\n",
        "Invalid File Name: TTG.txt\n",
        "Invalid File Name: TTT.txt\n",
        "Total num protein/dna observations in all files:  126754\n",
        "Total num unique proteins in all files:  56179\n",
        "\n",
        "Num obs processed in csv to txt conversion:  126754"
       ]
      },
      {
       "output_type": "stream",
       "stream": "stdout",
       "text": [
        "\n",
        "\n"
       ]
      }
     ],
     "prompt_number": 3
    }
   ],
   "metadata": {}
  }
 ]
}