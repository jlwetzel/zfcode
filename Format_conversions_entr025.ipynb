{
 "metadata": {
  "name": "Format_conversions_entr025"
 },
 "nbformat": 3,
 "nbformat_minor": 0,
 "worksheets": [
  {
   "cells": [
    {
     "cell_type": "code",
     "collapsed": false,
     "input": [
      "from changeFormats import targetFiles2singleCSV, csv2txtFile\n",
      "\n"
     ],
     "language": "python",
     "metadata": {},
     "outputs": [],
     "prompt_number": 1
    },
    {
     "cell_type": "code",
     "collapsed": false,
     "input": [
      "prefix = '../data/b1hData/newDatabase/6varpos/'\n",
      "numVarPos = 6\n",
      "fings = ['F1', 'F2', 'F3']\n",
      "strins = ['high', 'low']\n",
      "for fing in fings:\n",
      "    for strin in strins:\n",
      "        path = prefix + fing + '/' + strin + '/' + 'protein_cut10_entr025/'\n",
      "        targetFiles2singleCSV(path, numVarPos, '.txt')\n",
      "        csv2txtFile(path, numVarPos)\n",
      "        print"
     ],
     "language": "python",
     "metadata": {},
     "outputs": [
      {
       "output_type": "stream",
       "stream": "stdout",
       "text": [
        "Num proteins in ../data/b1hData/newDatabase/6varpos/F1/high/protein_cut10_entr025/AAA.txt:  430\n",
        "Num proteins in ../data/b1hData/newDatabase/6varpos/F1/high/protein_cut10_entr025/AAC.txt:  476\n",
        "Num proteins in ../data/b1hData/newDatabase/6varpos/F1/high/protein_cut10_entr025/AAG.txt:  531"
       ]
      },
      {
       "output_type": "stream",
       "stream": "stdout",
       "text": [
        "\n",
        "Num proteins in ../data/b1hData/newDatabase/6varpos/F1/high/protein_cut10_entr025/AAT.txt:  149\n",
        "Num proteins in ../data/b1hData/newDatabase/6varpos/F1/high/protein_cut10_entr025/ACA.txt:  755\n",
        "Num proteins in ../data/b1hData/newDatabase/6varpos/F1/high/protein_cut10_entr025/ACC.txt:  289\n",
        "Num proteins in ../data/b1hData/newDatabase/6varpos/F1/high/protein_cut10_entr025/ACG.txt:  424\n",
        "Num proteins in ../data/b1hData/newDatabase/6varpos/F1/high/protein_cut10_entr025/ACT.txt:  767\n",
        "Num proteins in ../data/b1hData/newDatabase/6varpos/F1/high/protein_cut10_entr025/AGA.txt:  326\n",
        "Num proteins in ../data/b1hData/newDatabase/6varpos/F1/high/protein_cut10_entr025/AGC.txt:  265\n",
        "Num proteins in ../data/b1hData/newDatabase/6varpos/F1/high/protein_cut10_entr025/AGG.txt:  549"
       ]
      },
      {
       "output_type": "stream",
       "stream": "stdout",
       "text": [
        "\n",
        "Num proteins in ../data/b1hData/newDatabase/6varpos/F1/high/protein_cut10_entr025/AGT.txt:  1525\n",
        "Num proteins in ../data/b1hData/newDatabase/6varpos/F1/high/protein_cut10_entr025/ATA.txt:  453\n",
        "Num proteins in ../data/b1hData/newDatabase/6varpos/F1/high/protein_cut10_entr025/ATC.txt:  750"
       ]
      },
      {
       "output_type": "stream",
       "stream": "stdout",
       "text": [
        "\n",
        "Num proteins in ../data/b1hData/newDatabase/6varpos/F1/high/protein_cut10_entr025/ATG.txt:  890\n",
        "Num proteins in ../data/b1hData/newDatabase/6varpos/F1/high/protein_cut10_entr025/ATT.txt:  395"
       ]
      },
      {
       "output_type": "stream",
       "stream": "stdout",
       "text": [
        "\n",
        "Num proteins in ../data/b1hData/newDatabase/6varpos/F1/high/protein_cut10_entr025/CAA.txt:  632\n",
        "Num proteins in ../data/b1hData/newDatabase/6varpos/F1/high/protein_cut10_entr025/CAC.txt:  178\n",
        "Num proteins in ../data/b1hData/newDatabase/6varpos/F1/high/protein_cut10_entr025/CAG.txt:  449\n",
        "Num proteins in ../data/b1hData/newDatabase/6varpos/F1/high/protein_cut10_entr025/CAT.txt:  521\n",
        "Num proteins in ../data/b1hData/newDatabase/6varpos/F1/high/protein_cut10_entr025/CCA.txt:  1516\n",
        "Num proteins in ../data/b1hData/newDatabase/6varpos/F1/high/protein_cut10_entr025/CCC.txt:  566\n",
        "Num proteins in ../data/b1hData/newDatabase/6varpos/F1/high/protein_cut10_entr025/CCG.txt:  506"
       ]
      },
      {
       "output_type": "stream",
       "stream": "stdout",
       "text": [
        "\n",
        "Num proteins in ../data/b1hData/newDatabase/6varpos/F1/high/protein_cut10_entr025/CCT.txt:  697\n",
        "Num proteins in ../data/b1hData/newDatabase/6varpos/F1/high/protein_cut10_entr025/CGA.txt:  598\n",
        "Num proteins in ../data/b1hData/newDatabase/6varpos/F1/high/protein_cut10_entr025/CGC.txt:  455\n",
        "Num proteins in ../data/b1hData/newDatabase/6varpos/F1/high/protein_cut10_entr025/CGG.txt:  1123\n",
        "Num proteins in ../data/b1hData/newDatabase/6varpos/F1/high/protein_cut10_entr025/CGT.txt:  1030"
       ]
      },
      {
       "output_type": "stream",
       "stream": "stdout",
       "text": [
        "\n",
        "Num proteins in ../data/b1hData/newDatabase/6varpos/F1/high/protein_cut10_entr025/CTA.txt:  303\n",
        "Num proteins in ../data/b1hData/newDatabase/6varpos/F1/high/protein_cut10_entr025/CTC.txt:  294\n",
        "Num proteins in ../data/b1hData/newDatabase/6varpos/F1/high/protein_cut10_entr025/CTG.txt:  238\n",
        "Num proteins in ../data/b1hData/newDatabase/6varpos/F1/high/protein_cut10_entr025/CTT.txt:  491\n",
        "Num proteins in ../data/b1hData/newDatabase/6varpos/F1/high/protein_cut10_entr025/GAA.txt:  758\n",
        "Num proteins in ../data/b1hData/newDatabase/6varpos/F1/high/protein_cut10_entr025/GAC.txt:  856\n",
        "Num proteins in ../data/b1hData/newDatabase/6varpos/F1/high/protein_cut10_entr025/GAG.txt:  823\n",
        "Num proteins in ../data/b1hData/newDatabase/6varpos/F1/high/protein_cut10_entr025/GAT.txt:  1054"
       ]
      },
      {
       "output_type": "stream",
       "stream": "stdout",
       "text": [
        "\n",
        "Num proteins in ../data/b1hData/newDatabase/6varpos/F1/high/protein_cut10_entr025/GCA.txt:  867\n",
        "Num proteins in ../data/b1hData/newDatabase/6varpos/F1/high/protein_cut10_entr025/GCC.txt:  472\n",
        "Num proteins in ../data/b1hData/newDatabase/6varpos/F1/high/protein_cut10_entr025/GCG.txt:  489"
       ]
      },
      {
       "output_type": "stream",
       "stream": "stdout",
       "text": [
        "\n",
        "Num proteins in ../data/b1hData/newDatabase/6varpos/F1/high/protein_cut10_entr025/GCT.txt:  1047\n",
        "Num proteins in ../data/b1hData/newDatabase/6varpos/F1/high/protein_cut10_entr025/GGA.txt:  526\n",
        "Num proteins in ../data/b1hData/newDatabase/6varpos/F1/high/protein_cut10_entr025/GGC.txt:  522\n",
        "Num proteins in ../data/b1hData/newDatabase/6varpos/F1/high/protein_cut10_entr025/GGG.txt:  954"
       ]
      },
      {
       "output_type": "stream",
       "stream": "stdout",
       "text": [
        "\n",
        "Num proteins in ../data/b1hData/newDatabase/6varpos/F1/high/protein_cut10_entr025/GGT.txt:  849\n",
        "Num proteins in ../data/b1hData/newDatabase/6varpos/F1/high/protein_cut10_entr025/GTA.txt:  316\n",
        "Num proteins in ../data/b1hData/newDatabase/6varpos/F1/high/protein_cut10_entr025/GTC.txt:  232\n",
        "Num proteins in ../data/b1hData/newDatabase/6varpos/F1/high/protein_cut10_entr025/GTG.txt:  1198\n",
        "Num proteins in ../data/b1hData/newDatabase/6varpos/F1/high/protein_cut10_entr025/GTT.txt:  223\n",
        "Num proteins in ../data/b1hData/newDatabase/6varpos/F1/high/protein_cut10_entr025/TAA.txt:  460\n",
        "Num proteins in ../data/b1hData/newDatabase/6varpos/F1/high/protein_cut10_entr025/TAC.txt:  268\n",
        "Num proteins in ../data/b1hData/newDatabase/6varpos/F1/high/protein_cut10_entr025/TAG.txt:  222\n",
        "Num proteins in ../data/b1hData/newDatabase/6varpos/F1/high/protein_cut10_entr025/TAT.txt:  264\n",
        "Num proteins in ../data/b1hData/newDatabase/6varpos/F1/high/protein_cut10_entr025/TCA.txt:  341\n",
        "Num proteins in ../data/b1hData/newDatabase/6varpos/F1/high/protein_cut10_entr025/TCC.txt:  210"
       ]
      },
      {
       "output_type": "stream",
       "stream": "stdout",
       "text": [
        "\n",
        "Num proteins in ../data/b1hData/newDatabase/6varpos/F1/high/protein_cut10_entr025/TCG.txt:  367\n",
        "Num proteins in ../data/b1hData/newDatabase/6varpos/F1/high/protein_cut10_entr025/TCT.txt:  516\n",
        "Num proteins in ../data/b1hData/newDatabase/6varpos/F1/high/protein_cut10_entr025/TGA.txt:  412\n",
        "Num proteins in ../data/b1hData/newDatabase/6varpos/F1/high/protein_cut10_entr025/TGC.txt:  359\n",
        "Num proteins in ../data/b1hData/newDatabase/6varpos/F1/high/protein_cut10_entr025/TGG.txt:  668\n",
        "Num proteins in ../data/b1hData/newDatabase/6varpos/F1/high/protein_cut10_entr025/TGT.txt:  681"
       ]
      },
      {
       "output_type": "stream",
       "stream": "stdout",
       "text": [
        "\n",
        "Num proteins in ../data/b1hData/newDatabase/6varpos/F1/high/protein_cut10_entr025/TTA.txt:  522\n",
        "Num proteins in ../data/b1hData/newDatabase/6varpos/F1/high/protein_cut10_entr025/TTC.txt:  410\n",
        "Num proteins in ../data/b1hData/newDatabase/6varpos/F1/high/protein_cut10_entr025/TTG.txt:  544\n",
        "Num proteins in ../data/b1hData/newDatabase/6varpos/F1/high/protein_cut10_entr025/TTT.txt:  358\n",
        "Total num protein/dna observations in all files:  36359\n",
        "Total num unique proteins in all files:  22813\n",
        "\n",
        "Num obs processed in csv to txt conversion:  36359"
       ]
      },
      {
       "output_type": "stream",
       "stream": "stdout",
       "text": [
        "\n",
        "\n",
        "Num proteins in ../data/b1hData/newDatabase/6varpos/F1/low/protein_cut10_entr025/AAA.txt:  249"
       ]
      },
      {
       "output_type": "stream",
       "stream": "stdout",
       "text": [
        "\n",
        "Num proteins in ../data/b1hData/newDatabase/6varpos/F1/low/protein_cut10_entr025/AAC.txt:  307\n",
        "Num proteins in ../data/b1hData/newDatabase/6varpos/F1/low/protein_cut10_entr025/AAG.txt:  2783"
       ]
      },
      {
       "output_type": "stream",
       "stream": "stdout",
       "text": [
        "\n",
        "Num proteins in ../data/b1hData/newDatabase/6varpos/F1/low/protein_cut10_entr025/AAT.txt:  216\n",
        "Num proteins in ../data/b1hData/newDatabase/6varpos/F1/low/protein_cut10_entr025/ACA.txt:  1694\n",
        "Num proteins in ../data/b1hData/newDatabase/6varpos/F1/low/protein_cut10_entr025/ACC.txt:  162\n",
        "Num proteins in ../data/b1hData/newDatabase/6varpos/F1/low/protein_cut10_entr025/ACG.txt:  4392"
       ]
      },
      {
       "output_type": "stream",
       "stream": "stdout",
       "text": [
        "\n",
        "Num proteins in ../data/b1hData/newDatabase/6varpos/F1/low/protein_cut10_entr025/ACT.txt:  480\n",
        "Num proteins in ../data/b1hData/newDatabase/6varpos/F1/low/protein_cut10_entr025/AGA.txt:  423\n",
        "Num proteins in ../data/b1hData/newDatabase/6varpos/F1/low/protein_cut10_entr025/AGC.txt:  1024\n",
        "Num proteins in ../data/b1hData/newDatabase/6varpos/F1/low/protein_cut10_entr025/AGG.txt:  786\n",
        "Num proteins in ../data/b1hData/newDatabase/6varpos/F1/low/protein_cut10_entr025/AGT.txt:  3185"
       ]
      },
      {
       "output_type": "stream",
       "stream": "stdout",
       "text": [
        "\n",
        "Num proteins in ../data/b1hData/newDatabase/6varpos/F1/low/protein_cut10_entr025/ATA.txt:  1144\n",
        "Num proteins in ../data/b1hData/newDatabase/6varpos/F1/low/protein_cut10_entr025/ATC.txt:  804\n",
        "Num proteins in ../data/b1hData/newDatabase/6varpos/F1/low/protein_cut10_entr025/ATG.txt:  1319\n",
        "Num proteins in ../data/b1hData/newDatabase/6varpos/F1/low/protein_cut10_entr025/ATT.txt:  752\n",
        "Num proteins in ../data/b1hData/newDatabase/6varpos/F1/low/protein_cut10_entr025/CAA.txt:  990\n",
        "Num proteins in ../data/b1hData/newDatabase/6varpos/F1/low/protein_cut10_entr025/CAC.txt:  300"
       ]
      },
      {
       "output_type": "stream",
       "stream": "stdout",
       "text": [
        "\n",
        "Num proteins in ../data/b1hData/newDatabase/6varpos/F1/low/protein_cut10_entr025/CAG.txt:  749\n",
        "Num proteins in ../data/b1hData/newDatabase/6varpos/F1/low/protein_cut10_entr025/CAT.txt:  683\n",
        "Num proteins in ../data/b1hData/newDatabase/6varpos/F1/low/protein_cut10_entr025/CCA.txt:  2513"
       ]
      },
      {
       "output_type": "stream",
       "stream": "stdout",
       "text": [
        "\n",
        "Num proteins in ../data/b1hData/newDatabase/6varpos/F1/low/protein_cut10_entr025/CCC.txt:  965\n",
        "Num proteins in ../data/b1hData/newDatabase/6varpos/F1/low/protein_cut10_entr025/CCG.txt:  1364\n",
        "Num proteins in ../data/b1hData/newDatabase/6varpos/F1/low/protein_cut10_entr025/CCT.txt:  1482\n",
        "Num proteins in ../data/b1hData/newDatabase/6varpos/F1/low/protein_cut10_entr025/CGA.txt:  3049"
       ]
      },
      {
       "output_type": "stream",
       "stream": "stdout",
       "text": [
        "\n",
        "Num proteins in ../data/b1hData/newDatabase/6varpos/F1/low/protein_cut10_entr025/CGC.txt:  998\n",
        "Num proteins in ../data/b1hData/newDatabase/6varpos/F1/low/protein_cut10_entr025/CGG.txt:  1635\n",
        "Num proteins in ../data/b1hData/newDatabase/6varpos/F1/low/protein_cut10_entr025/CGT.txt:  2355\n",
        "Num proteins in ../data/b1hData/newDatabase/6varpos/F1/low/protein_cut10_entr025/CTA.txt:  1676"
       ]
      },
      {
       "output_type": "stream",
       "stream": "stdout",
       "text": [
        "\n",
        "Num proteins in ../data/b1hData/newDatabase/6varpos/F1/low/protein_cut10_entr025/CTC.txt:  805\n",
        "Num proteins in ../data/b1hData/newDatabase/6varpos/F1/low/protein_cut10_entr025/CTG.txt:  878"
       ]
      },
      {
       "output_type": "stream",
       "stream": "stdout",
       "text": [
        "\n",
        "Num proteins in ../data/b1hData/newDatabase/6varpos/F1/low/protein_cut10_entr025/CTT.txt:  610\n",
        "Num proteins in ../data/b1hData/newDatabase/6varpos/F1/low/protein_cut10_entr025/GAA.txt:  633\n",
        "Num proteins in ../data/b1hData/newDatabase/6varpos/F1/low/protein_cut10_entr025/GAC.txt:  2565"
       ]
      },
      {
       "output_type": "stream",
       "stream": "stdout",
       "text": [
        "\n",
        "Num proteins in ../data/b1hData/newDatabase/6varpos/F1/low/protein_cut10_entr025/GAG.txt:  1797\n",
        "Num proteins in ../data/b1hData/newDatabase/6varpos/F1/low/protein_cut10_entr025/GAT.txt:  4082"
       ]
      },
      {
       "output_type": "stream",
       "stream": "stdout",
       "text": [
        "\n",
        "Num proteins in ../data/b1hData/newDatabase/6varpos/F1/low/protein_cut10_entr025/GCA.txt:  1851\n",
        "Num proteins in ../data/b1hData/newDatabase/6varpos/F1/low/protein_cut10_entr025/GCC.txt:  310\n",
        "Num proteins in ../data/b1hData/newDatabase/6varpos/F1/low/protein_cut10_entr025/GCG.txt:  1259"
       ]
      },
      {
       "output_type": "stream",
       "stream": "stdout",
       "text": [
        "\n",
        "Num proteins in ../data/b1hData/newDatabase/6varpos/F1/low/protein_cut10_entr025/GCT.txt:  1788\n",
        "Num proteins in ../data/b1hData/newDatabase/6varpos/F1/low/protein_cut10_entr025/GGA.txt:  368\n",
        "Num proteins in ../data/b1hData/newDatabase/6varpos/F1/low/protein_cut10_entr025/GGC.txt:  703\n",
        "Num proteins in ../data/b1hData/newDatabase/6varpos/F1/low/protein_cut10_entr025/GGG.txt:  910\n",
        "Num proteins in ../data/b1hData/newDatabase/6varpos/F1/low/protein_cut10_entr025/GGT.txt:  3108"
       ]
      },
      {
       "output_type": "stream",
       "stream": "stdout",
       "text": [
        "\n",
        "Num proteins in ../data/b1hData/newDatabase/6varpos/F1/low/protein_cut10_entr025/GTA.txt:  699\n",
        "Num proteins in ../data/b1hData/newDatabase/6varpos/F1/low/protein_cut10_entr025/GTC.txt:  622\n",
        "Num proteins in ../data/b1hData/newDatabase/6varpos/F1/low/protein_cut10_entr025/GTG.txt:  1336\n",
        "Num proteins in ../data/b1hData/newDatabase/6varpos/F1/low/protein_cut10_entr025/GTT.txt:  746"
       ]
      },
      {
       "output_type": "stream",
       "stream": "stdout",
       "text": [
        "\n",
        "Num proteins in ../data/b1hData/newDatabase/6varpos/F1/low/protein_cut10_entr025/TAA.txt:  420\n",
        "Num proteins in ../data/b1hData/newDatabase/6varpos/F1/low/protein_cut10_entr025/TAC.txt:  824\n",
        "Num proteins in ../data/b1hData/newDatabase/6varpos/F1/low/protein_cut10_entr025/TAG.txt:  326\n",
        "Num proteins in ../data/b1hData/newDatabase/6varpos/F1/low/protein_cut10_entr025/TAT.txt:  158\n",
        "Num proteins in ../data/b1hData/newDatabase/6varpos/F1/low/protein_cut10_entr025/TCA.txt:  718\n",
        "Num proteins in ../data/b1hData/newDatabase/6varpos/F1/low/protein_cut10_entr025/TCC.txt:  296"
       ]
      },
      {
       "output_type": "stream",
       "stream": "stdout",
       "text": [
        "\n",
        "Num proteins in ../data/b1hData/newDatabase/6varpos/F1/low/protein_cut10_entr025/TCG.txt:  309\n",
        "Num proteins in ../data/b1hData/newDatabase/6varpos/F1/low/protein_cut10_entr025/TCT.txt:  426\n",
        "Num proteins in ../data/b1hData/newDatabase/6varpos/F1/low/protein_cut10_entr025/TGA.txt:  226\n",
        "Num proteins in ../data/b1hData/newDatabase/6varpos/F1/low/protein_cut10_entr025/TGC.txt:  853\n",
        "Num proteins in ../data/b1hData/newDatabase/6varpos/F1/low/protein_cut10_entr025/TGG.txt:  734"
       ]
      },
      {
       "output_type": "stream",
       "stream": "stdout",
       "text": [
        "\n",
        "Num proteins in ../data/b1hData/newDatabase/6varpos/F1/low/protein_cut10_entr025/TGT.txt:  2317\n",
        "Num proteins in ../data/b1hData/newDatabase/6varpos/F1/low/protein_cut10_entr025/TTA.txt:  736"
       ]
      },
      {
       "output_type": "stream",
       "stream": "stdout",
       "text": [
        "\n",
        "Num proteins in ../data/b1hData/newDatabase/6varpos/F1/low/protein_cut10_entr025/TTC.txt:  193\n",
        "Num proteins in ../data/b1hData/newDatabase/6varpos/F1/low/protein_cut10_entr025/TTG.txt:  389\n",
        "Num proteins in ../data/b1hData/newDatabase/6varpos/F1/low/protein_cut10_entr025/TTT.txt:  527\n",
        "Total num protein/dna observations in all files:  73001\n",
        "Total num unique proteins in all files:  41870\n",
        "\n",
        "Num obs processed in csv to txt conversion:  73001"
       ]
      },
      {
       "output_type": "stream",
       "stream": "stdout",
       "text": [
        "\n",
        "\n"
       ]
      },
      {
       "output_type": "stream",
       "stream": "stdout",
       "text": [
        "Num proteins in ../data/b1hData/newDatabase/6varpos/F2/high/protein_cut10_entr025/AAA.txt:  419\n",
        "Num proteins in ../data/b1hData/newDatabase/6varpos/F2/high/protein_cut10_entr025/AAC.txt:  1583\n",
        "Num proteins in ../data/b1hData/newDatabase/6varpos/F2/high/protein_cut10_entr025/AAG.txt:  624"
       ]
      },
      {
       "output_type": "stream",
       "stream": "stdout",
       "text": [
        "\n",
        "Num proteins in ../data/b1hData/newDatabase/6varpos/F2/high/protein_cut10_entr025/AAT.txt:  413\n",
        "Num proteins in ../data/b1hData/newDatabase/6varpos/F2/high/protein_cut10_entr025/ACA.txt:  1173"
       ]
      },
      {
       "output_type": "stream",
       "stream": "stdout",
       "text": [
        "\n",
        "Num proteins in ../data/b1hData/newDatabase/6varpos/F2/high/protein_cut10_entr025/ACC.txt:  608\n",
        "Num proteins in ../data/b1hData/newDatabase/6varpos/F2/high/protein_cut10_entr025/ACG.txt:  1990"
       ]
      },
      {
       "output_type": "stream",
       "stream": "stdout",
       "text": [
        "\n",
        "Num proteins in ../data/b1hData/newDatabase/6varpos/F2/high/protein_cut10_entr025/ACT.txt:  3110"
       ]
      },
      {
       "output_type": "stream",
       "stream": "stdout",
       "text": [
        "\n",
        "Num proteins in ../data/b1hData/newDatabase/6varpos/F2/high/protein_cut10_entr025/AGA.txt:  176\n",
        "Num proteins in ../data/b1hData/newDatabase/6varpos/F2/high/protein_cut10_entr025/AGC.txt:  448\n",
        "Num proteins in ../data/b1hData/newDatabase/6varpos/F2/high/protein_cut10_entr025/AGG.txt:  1084"
       ]
      },
      {
       "output_type": "stream",
       "stream": "stdout",
       "text": [
        "\n",
        "Num proteins in ../data/b1hData/newDatabase/6varpos/F2/high/protein_cut10_entr025/AGT.txt:  2374"
       ]
      },
      {
       "output_type": "stream",
       "stream": "stdout",
       "text": [
        "\n",
        "Num proteins in ../data/b1hData/newDatabase/6varpos/F2/high/protein_cut10_entr025/ATA.txt:  389\n",
        "Num proteins in ../data/b1hData/newDatabase/6varpos/F2/high/protein_cut10_entr025/ATC.txt:  1190\n",
        "Num proteins in ../data/b1hData/newDatabase/6varpos/F2/high/protein_cut10_entr025/ATG.txt:  389"
       ]
      },
      {
       "output_type": "stream",
       "stream": "stdout",
       "text": [
        "\n",
        "Num proteins in ../data/b1hData/newDatabase/6varpos/F2/high/protein_cut10_entr025/ATT.txt:  871\n",
        "Num proteins in ../data/b1hData/newDatabase/6varpos/F2/high/protein_cut10_entr025/CAA.txt:  95\n",
        "Num proteins in ../data/b1hData/newDatabase/6varpos/F2/high/protein_cut10_entr025/CAC.txt:  657\n",
        "Num proteins in ../data/b1hData/newDatabase/6varpos/F2/high/protein_cut10_entr025/CAG.txt:  1120"
       ]
      },
      {
       "output_type": "stream",
       "stream": "stdout",
       "text": [
        "\n",
        "Num proteins in ../data/b1hData/newDatabase/6varpos/F2/high/protein_cut10_entr025/CAT.txt:  1057\n",
        "Num proteins in ../data/b1hData/newDatabase/6varpos/F2/high/protein_cut10_entr025/CCA.txt:  182\n",
        "Num proteins in ../data/b1hData/newDatabase/6varpos/F2/high/protein_cut10_entr025/CCC.txt:  329\n",
        "Num proteins in ../data/b1hData/newDatabase/6varpos/F2/high/protein_cut10_entr025/CCG.txt:  119\n",
        "Num proteins in ../data/b1hData/newDatabase/6varpos/F2/high/protein_cut10_entr025/CCT.txt:  382\n",
        "Num proteins in ../data/b1hData/newDatabase/6varpos/F2/high/protein_cut10_entr025/CGA.txt:  70\n",
        "Num proteins in ../data/b1hData/newDatabase/6varpos/F2/high/protein_cut10_entr025/CGC.txt:  221\n",
        "Num proteins in ../data/b1hData/newDatabase/6varpos/F2/high/protein_cut10_entr025/CGG.txt:  2777"
       ]
      },
      {
       "output_type": "stream",
       "stream": "stdout",
       "text": [
        "\n",
        "Num proteins in ../data/b1hData/newDatabase/6varpos/F2/high/protein_cut10_entr025/CGT.txt:  833\n",
        "Num proteins in ../data/b1hData/newDatabase/6varpos/F2/high/protein_cut10_entr025/CTA.txt:  394\n",
        "Num proteins in ../data/b1hData/newDatabase/6varpos/F2/high/protein_cut10_entr025/CTC.txt:  131\n",
        "Num proteins in ../data/b1hData/newDatabase/6varpos/F2/high/protein_cut10_entr025/CTG.txt:  796"
       ]
      },
      {
       "output_type": "stream",
       "stream": "stdout",
       "text": [
        "\n",
        "Num proteins in ../data/b1hData/newDatabase/6varpos/F2/high/protein_cut10_entr025/CTT.txt:  578\n",
        "Num proteins in ../data/b1hData/newDatabase/6varpos/F2/high/protein_cut10_entr025/GAA.txt:  688\n",
        "Num proteins in ../data/b1hData/newDatabase/6varpos/F2/high/protein_cut10_entr025/GAC.txt:  2457"
       ]
      },
      {
       "output_type": "stream",
       "stream": "stdout",
       "text": [
        "\n",
        "Num proteins in ../data/b1hData/newDatabase/6varpos/F2/high/protein_cut10_entr025/GAG.txt:  1889\n",
        "Num proteins in ../data/b1hData/newDatabase/6varpos/F2/high/protein_cut10_entr025/GAT.txt:  1077\n",
        "Num proteins in ../data/b1hData/newDatabase/6varpos/F2/high/protein_cut10_entr025/GCA.txt:  593\n",
        "Num proteins in ../data/b1hData/newDatabase/6varpos/F2/high/protein_cut10_entr025/GCC.txt:  1552"
       ]
      },
      {
       "output_type": "stream",
       "stream": "stdout",
       "text": [
        "\n",
        "Num proteins in ../data/b1hData/newDatabase/6varpos/F2/high/protein_cut10_entr025/GCG.txt:  1983"
       ]
      },
      {
       "output_type": "stream",
       "stream": "stdout",
       "text": [
        "\n",
        "Num proteins in ../data/b1hData/newDatabase/6varpos/F2/high/protein_cut10_entr025/GCT.txt:  3210\n",
        "Num proteins in ../data/b1hData/newDatabase/6varpos/F2/high/protein_cut10_entr025/GGA.txt:  652"
       ]
      },
      {
       "output_type": "stream",
       "stream": "stdout",
       "text": [
        "\n",
        "Num proteins in ../data/b1hData/newDatabase/6varpos/F2/high/protein_cut10_entr025/GGC.txt:  609\n",
        "Num proteins in ../data/b1hData/newDatabase/6varpos/F2/high/protein_cut10_entr025/GGG.txt:  1883\n",
        "Num proteins in ../data/b1hData/newDatabase/6varpos/F2/high/protein_cut10_entr025/GGT.txt:  1631"
       ]
      },
      {
       "output_type": "stream",
       "stream": "stdout",
       "text": [
        "\n",
        "Num proteins in ../data/b1hData/newDatabase/6varpos/F2/high/protein_cut10_entr025/GTA.txt:  1327\n",
        "Num proteins in ../data/b1hData/newDatabase/6varpos/F2/high/protein_cut10_entr025/GTC.txt:  1388\n",
        "Num proteins in ../data/b1hData/newDatabase/6varpos/F2/high/protein_cut10_entr025/GTG.txt:  2491"
       ]
      },
      {
       "output_type": "stream",
       "stream": "stdout",
       "text": [
        "\n",
        "Num proteins in ../data/b1hData/newDatabase/6varpos/F2/high/protein_cut10_entr025/GTT.txt:  1602\n",
        "Num proteins in ../data/b1hData/newDatabase/6varpos/F2/high/protein_cut10_entr025/TAA.txt:  46\n",
        "Num proteins in ../data/b1hData/newDatabase/6varpos/F2/high/protein_cut10_entr025/TAC.txt:  216\n",
        "Num proteins in ../data/b1hData/newDatabase/6varpos/F2/high/protein_cut10_entr025/TAG.txt:  313\n",
        "Num proteins in ../data/b1hData/newDatabase/6varpos/F2/high/protein_cut10_entr025/TAT.txt:  1254\n",
        "Num proteins in ../data/b1hData/newDatabase/6varpos/F2/high/protein_cut10_entr025/TCA.txt:  45\n",
        "Num proteins in ../data/b1hData/newDatabase/6varpos/F2/high/protein_cut10_entr025/TCC.txt:  370\n",
        "Num proteins in ../data/b1hData/newDatabase/6varpos/F2/high/protein_cut10_entr025/TCG.txt:  199\n",
        "Num proteins in ../data/b1hData/newDatabase/6varpos/F2/high/protein_cut10_entr025/TCT.txt:  397"
       ]
      },
      {
       "output_type": "stream",
       "stream": "stdout",
       "text": [
        "\n",
        "Num proteins in ../data/b1hData/newDatabase/6varpos/F2/high/protein_cut10_entr025/TGA.txt:  642\n",
        "Num proteins in ../data/b1hData/newDatabase/6varpos/F2/high/protein_cut10_entr025/TGC.txt:  37\n",
        "Num proteins in ../data/b1hData/newDatabase/6varpos/F2/high/protein_cut10_entr025/TGG.txt:  2448\n",
        "Num proteins in ../data/b1hData/newDatabase/6varpos/F2/high/protein_cut10_entr025/TGT.txt:  2544"
       ]
      },
      {
       "output_type": "stream",
       "stream": "stdout",
       "text": [
        "\n",
        "Num proteins in ../data/b1hData/newDatabase/6varpos/F2/high/protein_cut10_entr025/TTA.txt:  211\n",
        "Num proteins in ../data/b1hData/newDatabase/6varpos/F2/high/protein_cut10_entr025/TTC.txt:  216\n",
        "Num proteins in ../data/b1hData/newDatabase/6varpos/F2/high/protein_cut10_entr025/TTG.txt:  376\n",
        "Num proteins in ../data/b1hData/newDatabase/6varpos/F2/high/protein_cut10_entr025/TTT.txt:  99\n",
        "Total num protein/dna observations in all files:  61027\n",
        "Total num unique proteins in all files:  40767\n",
        "\n",
        "Num obs processed in csv to txt conversion:  61027"
       ]
      },
      {
       "output_type": "stream",
       "stream": "stdout",
       "text": [
        "\n",
        "\n",
        "Num proteins in ../data/b1hData/newDatabase/6varpos/F2/low/protein_cut10_entr025/AAA.txt:  1094"
       ]
      },
      {
       "output_type": "stream",
       "stream": "stdout",
       "text": [
        "\n",
        "Num proteins in ../data/b1hData/newDatabase/6varpos/F2/low/protein_cut10_entr025/AAC.txt:  5306"
       ]
      },
      {
       "output_type": "stream",
       "stream": "stdout",
       "text": [
        "\n",
        "Num proteins in ../data/b1hData/newDatabase/6varpos/F2/low/protein_cut10_entr025/AAG.txt:  4006\n",
        "Num proteins in ../data/b1hData/newDatabase/6varpos/F2/low/protein_cut10_entr025/AAT.txt:  3520"
       ]
      },
      {
       "output_type": "stream",
       "stream": "stdout",
       "text": [
        "\n",
        "Num proteins in ../data/b1hData/newDatabase/6varpos/F2/low/protein_cut10_entr025/ACA.txt:  3746"
       ]
      },
      {
       "output_type": "stream",
       "stream": "stdout",
       "text": [
        "\n",
        "Num proteins in ../data/b1hData/newDatabase/6varpos/F2/low/protein_cut10_entr025/ACC.txt:  2114\n",
        "Num proteins in ../data/b1hData/newDatabase/6varpos/F2/low/protein_cut10_entr025/ACG.txt:  5234"
       ]
      },
      {
       "output_type": "stream",
       "stream": "stdout",
       "text": [
        "\n",
        "Num proteins in ../data/b1hData/newDatabase/6varpos/F2/low/protein_cut10_entr025/ACT.txt:  8853"
       ]
      },
      {
       "output_type": "stream",
       "stream": "stdout",
       "text": [
        "\n",
        "Num proteins in ../data/b1hData/newDatabase/6varpos/F2/low/protein_cut10_entr025/AGA.txt:  1291\n",
        "Num proteins in ../data/b1hData/newDatabase/6varpos/F2/low/protein_cut10_entr025/AGC.txt:  1563\n",
        "Num proteins in ../data/b1hData/newDatabase/6varpos/F2/low/protein_cut10_entr025/AGG.txt:  4439"
       ]
      },
      {
       "output_type": "stream",
       "stream": "stdout",
       "text": [
        "\n",
        "Num proteins in ../data/b1hData/newDatabase/6varpos/F2/low/protein_cut10_entr025/AGT.txt:  6213"
       ]
      },
      {
       "output_type": "stream",
       "stream": "stdout",
       "text": [
        "\n",
        "Num proteins in ../data/b1hData/newDatabase/6varpos/F2/low/protein_cut10_entr025/ATA.txt:  740\n",
        "Num proteins in ../data/b1hData/newDatabase/6varpos/F2/low/protein_cut10_entr025/ATC.txt:  3598"
       ]
      },
      {
       "output_type": "stream",
       "stream": "stdout",
       "text": [
        "\n",
        "Num proteins in ../data/b1hData/newDatabase/6varpos/F2/low/protein_cut10_entr025/ATG.txt:  3481\n",
        "Num proteins in ../data/b1hData/newDatabase/6varpos/F2/low/protein_cut10_entr025/ATT.txt:  4253"
       ]
      },
      {
       "output_type": "stream",
       "stream": "stdout",
       "text": [
        "\n",
        "Num proteins in ../data/b1hData/newDatabase/6varpos/F2/low/protein_cut10_entr025/CAA.txt:  847\n",
        "Num proteins in ../data/b1hData/newDatabase/6varpos/F2/low/protein_cut10_entr025/CAC.txt:  3920"
       ]
      },
      {
       "output_type": "stream",
       "stream": "stdout",
       "text": [
        "\n",
        "Num proteins in ../data/b1hData/newDatabase/6varpos/F2/low/protein_cut10_entr025/CAG.txt:  5979"
       ]
      },
      {
       "output_type": "stream",
       "stream": "stdout",
       "text": [
        "\n",
        "Num proteins in ../data/b1hData/newDatabase/6varpos/F2/low/protein_cut10_entr025/CAT.txt:  4206"
       ]
      },
      {
       "output_type": "stream",
       "stream": "stdout",
       "text": [
        "\n",
        "Num proteins in ../data/b1hData/newDatabase/6varpos/F2/low/protein_cut10_entr025/CCA.txt:  1015\n",
        "Num proteins in ../data/b1hData/newDatabase/6varpos/F2/low/protein_cut10_entr025/CCC.txt:  1154\n",
        "Num proteins in ../data/b1hData/newDatabase/6varpos/F2/low/protein_cut10_entr025/CCG.txt:  1139\n",
        "Num proteins in ../data/b1hData/newDatabase/6varpos/F2/low/protein_cut10_entr025/CCT.txt:  1427"
       ]
      },
      {
       "output_type": "stream",
       "stream": "stdout",
       "text": [
        "\n",
        "Num proteins in ../data/b1hData/newDatabase/6varpos/F2/low/protein_cut10_entr025/CGA.txt:  465\n",
        "Num proteins in ../data/b1hData/newDatabase/6varpos/F2/low/protein_cut10_entr025/CGC.txt:  789"
       ]
      },
      {
       "output_type": "stream",
       "stream": "stdout",
       "text": [
        "\n",
        "Num proteins in ../data/b1hData/newDatabase/6varpos/F2/low/protein_cut10_entr025/CGG.txt:  5753"
       ]
      },
      {
       "output_type": "stream",
       "stream": "stdout",
       "text": [
        "\n",
        "Num proteins in ../data/b1hData/newDatabase/6varpos/F2/low/protein_cut10_entr025/CGT.txt:  2914\n",
        "Num proteins in ../data/b1hData/newDatabase/6varpos/F2/low/protein_cut10_entr025/CTA.txt:  852"
       ]
      },
      {
       "output_type": "stream",
       "stream": "stdout",
       "text": [
        "\n",
        "Num proteins in ../data/b1hData/newDatabase/6varpos/F2/low/protein_cut10_entr025/CTC.txt:  599\n",
        "Num proteins in ../data/b1hData/newDatabase/6varpos/F2/low/protein_cut10_entr025/CTG.txt:  1998"
       ]
      },
      {
       "output_type": "stream",
       "stream": "stdout",
       "text": [
        "\n",
        "Num proteins in ../data/b1hData/newDatabase/6varpos/F2/low/protein_cut10_entr025/CTT.txt:  1251\n",
        "Num proteins in ../data/b1hData/newDatabase/6varpos/F2/low/protein_cut10_entr025/GAA.txt:  911\n",
        "Num proteins in ../data/b1hData/newDatabase/6varpos/F2/low/protein_cut10_entr025/GAC.txt:  3404"
       ]
      },
      {
       "output_type": "stream",
       "stream": "stdout",
       "text": [
        "\n",
        "Num proteins in ../data/b1hData/newDatabase/6varpos/F2/low/protein_cut10_entr025/GAG.txt:  3603"
       ]
      },
      {
       "output_type": "stream",
       "stream": "stdout",
       "text": [
        "\n",
        "Num proteins in ../data/b1hData/newDatabase/6varpos/F2/low/protein_cut10_entr025/GAT.txt:  3982"
       ]
      },
      {
       "output_type": "stream",
       "stream": "stdout",
       "text": [
        "\n",
        "Num proteins in ../data/b1hData/newDatabase/6varpos/F2/low/protein_cut10_entr025/GCA.txt:  1923"
       ]
      },
      {
       "output_type": "stream",
       "stream": "stdout",
       "text": [
        "\n",
        "Num proteins in ../data/b1hData/newDatabase/6varpos/F2/low/protein_cut10_entr025/GCC.txt:  2071\n",
        "Num proteins in ../data/b1hData/newDatabase/6varpos/F2/low/protein_cut10_entr025/GCG.txt:  4612"
       ]
      },
      {
       "output_type": "stream",
       "stream": "stdout",
       "text": [
        "\n",
        "Num proteins in ../data/b1hData/newDatabase/6varpos/F2/low/protein_cut10_entr025/GCT.txt:  5449"
       ]
      },
      {
       "output_type": "stream",
       "stream": "stdout",
       "text": [
        "\n",
        "Num proteins in ../data/b1hData/newDatabase/6varpos/F2/low/protein_cut10_entr025/GGA.txt:  335\n",
        "Num proteins in ../data/b1hData/newDatabase/6varpos/F2/low/protein_cut10_entr025/GGC.txt:  1348\n",
        "Num proteins in ../data/b1hData/newDatabase/6varpos/F2/low/protein_cut10_entr025/GGG.txt:  5556"
       ]
      },
      {
       "output_type": "stream",
       "stream": "stdout",
       "text": [
        "\n",
        "Num proteins in ../data/b1hData/newDatabase/6varpos/F2/low/protein_cut10_entr025/GGT.txt:  2614\n",
        "Num proteins in ../data/b1hData/newDatabase/6varpos/F2/low/protein_cut10_entr025/GTA.txt:  54\n",
        "Num proteins in ../data/b1hData/newDatabase/6varpos/F2/low/protein_cut10_entr025/GTC.txt:  2596"
       ]
      },
      {
       "output_type": "stream",
       "stream": "stdout",
       "text": [
        "\n",
        "Num proteins in ../data/b1hData/newDatabase/6varpos/F2/low/protein_cut10_entr025/GTG.txt:  6837"
       ]
      },
      {
       "output_type": "stream",
       "stream": "stdout",
       "text": [
        "\n",
        "Num proteins in ../data/b1hData/newDatabase/6varpos/F2/low/protein_cut10_entr025/GTT.txt:  5458"
       ]
      },
      {
       "output_type": "stream",
       "stream": "stdout",
       "text": [
        "\n",
        "Num proteins in ../data/b1hData/newDatabase/6varpos/F2/low/protein_cut10_entr025/TAA.txt:  82\n",
        "Num proteins in ../data/b1hData/newDatabase/6varpos/F2/low/protein_cut10_entr025/TAC.txt:  1373\n",
        "Num proteins in ../data/b1hData/newDatabase/6varpos/F2/low/protein_cut10_entr025/TAG.txt:  1263\n",
        "Num proteins in ../data/b1hData/newDatabase/6varpos/F2/low/protein_cut10_entr025/TAT.txt:  3084"
       ]
      },
      {
       "output_type": "stream",
       "stream": "stdout",
       "text": [
        "\n",
        "Num proteins in ../data/b1hData/newDatabase/6varpos/F2/low/protein_cut10_entr025/TCA.txt:  132\n",
        "Num proteins in ../data/b1hData/newDatabase/6varpos/F2/low/protein_cut10_entr025/TCC.txt:  913\n",
        "Num proteins in ../data/b1hData/newDatabase/6varpos/F2/low/protein_cut10_entr025/TCG.txt:  2049\n",
        "Num proteins in ../data/b1hData/newDatabase/6varpos/F2/low/protein_cut10_entr025/TCT.txt:  1585\n",
        "Num proteins in ../data/b1hData/newDatabase/6varpos/F2/low/protein_cut10_entr025/TGA.txt:  685"
       ]
      },
      {
       "output_type": "stream",
       "stream": "stdout",
       "text": [
        "\n",
        "Num proteins in ../data/b1hData/newDatabase/6varpos/F2/low/protein_cut10_entr025/TGC.txt:  672\n",
        "Num proteins in ../data/b1hData/newDatabase/6varpos/F2/low/protein_cut10_entr025/TGG.txt:  6680"
       ]
      },
      {
       "output_type": "stream",
       "stream": "stdout",
       "text": [
        "\n",
        "Num proteins in ../data/b1hData/newDatabase/6varpos/F2/low/protein_cut10_entr025/TGT.txt:  7548"
       ]
      },
      {
       "output_type": "stream",
       "stream": "stdout",
       "text": [
        "\n",
        "Num proteins in ../data/b1hData/newDatabase/6varpos/F2/low/protein_cut10_entr025/TTA.txt:  606\n",
        "Num proteins in ../data/b1hData/newDatabase/6varpos/F2/low/protein_cut10_entr025/TTC.txt:  830\n",
        "Num proteins in ../data/b1hData/newDatabase/6varpos/F2/low/protein_cut10_entr025/TTG.txt:  3036"
       ]
      },
      {
       "output_type": "stream",
       "stream": "stdout",
       "text": [
        "\n",
        "Num proteins in ../data/b1hData/newDatabase/6varpos/F2/low/protein_cut10_entr025/TTT.txt:  714\n",
        "Total num protein/dna observations in all files:  175764\n",
        "Total num unique proteins in all files:  107942\n",
        "\n",
        "Num obs processed in csv to txt conversion:  175764"
       ]
      },
      {
       "output_type": "stream",
       "stream": "stdout",
       "text": [
        "\n",
        "\n",
        "Num proteins in ../data/b1hData/newDatabase/6varpos/F3/high/protein_cut10_entr025/AAA.txt:  627"
       ]
      },
      {
       "output_type": "stream",
       "stream": "stdout",
       "text": [
        "\n",
        "Num proteins in ../data/b1hData/newDatabase/6varpos/F3/high/protein_cut10_entr025/AAC.txt:  1295\n",
        "Num proteins in ../data/b1hData/newDatabase/6varpos/F3/high/protein_cut10_entr025/AAG.txt:  2320\n",
        "Num proteins in ../data/b1hData/newDatabase/6varpos/F3/high/protein_cut10_entr025/AAT.txt:  476\n",
        "Num proteins in ../data/b1hData/newDatabase/6varpos/F3/high/protein_cut10_entr025/ACA.txt:  267"
       ]
      },
      {
       "output_type": "stream",
       "stream": "stdout",
       "text": [
        "\n",
        "Num proteins in ../data/b1hData/newDatabase/6varpos/F3/high/protein_cut10_entr025/ACC.txt:  60\n",
        "Num proteins in ../data/b1hData/newDatabase/6varpos/F3/high/protein_cut10_entr025/ACG.txt:  2143\n",
        "Num proteins in ../data/b1hData/newDatabase/6varpos/F3/high/protein_cut10_entr025/ACT.txt:  1269\n",
        "Num proteins in ../data/b1hData/newDatabase/6varpos/F3/high/protein_cut10_entr025/AGA.txt:  6\n",
        "Num proteins in ../data/b1hData/newDatabase/6varpos/F3/high/protein_cut10_entr025/AGC.txt:  1838"
       ]
      },
      {
       "output_type": "stream",
       "stream": "stdout",
       "text": [
        "\n",
        "Num proteins in ../data/b1hData/newDatabase/6varpos/F3/high/protein_cut10_entr025/AGG.txt:  2018\n",
        "Num proteins in ../data/b1hData/newDatabase/6varpos/F3/high/protein_cut10_entr025/AGT.txt:  2395\n",
        "Num proteins in ../data/b1hData/newDatabase/6varpos/F3/high/protein_cut10_entr025/ATA.txt:  273\n",
        "Num proteins in ../data/b1hData/newDatabase/6varpos/F3/high/protein_cut10_entr025/ATC.txt:  1449"
       ]
      },
      {
       "output_type": "stream",
       "stream": "stdout",
       "text": [
        "\n",
        "Num proteins in ../data/b1hData/newDatabase/6varpos/F3/high/protein_cut10_entr025/ATG.txt:  493\n",
        "Num proteins in ../data/b1hData/newDatabase/6varpos/F3/high/protein_cut10_entr025/ATT.txt:  753\n",
        "Num proteins in ../data/b1hData/newDatabase/6varpos/F3/high/protein_cut10_entr025/CAA.txt:  651\n",
        "Num proteins in ../data/b1hData/newDatabase/6varpos/F3/high/protein_cut10_entr025/CAC.txt:  732\n",
        "Num proteins in ../data/b1hData/newDatabase/6varpos/F3/high/protein_cut10_entr025/CAG.txt:  908"
       ]
      },
      {
       "output_type": "stream",
       "stream": "stdout",
       "text": [
        "\n",
        "Num proteins in ../data/b1hData/newDatabase/6varpos/F3/high/protein_cut10_entr025/CAT.txt:  1096\n",
        "Num proteins in ../data/b1hData/newDatabase/6varpos/F3/high/protein_cut10_entr025/CCA.txt:  351\n",
        "Num proteins in ../data/b1hData/newDatabase/6varpos/F3/high/protein_cut10_entr025/CCC.txt:  461\n",
        "Num proteins in ../data/b1hData/newDatabase/6varpos/F3/high/protein_cut10_entr025/CCG.txt:  1138"
       ]
      },
      {
       "output_type": "stream",
       "stream": "stdout",
       "text": [
        "\n",
        "Num proteins in ../data/b1hData/newDatabase/6varpos/F3/high/protein_cut10_entr025/CCT.txt:  767\n",
        "Num proteins in ../data/b1hData/newDatabase/6varpos/F3/high/protein_cut10_entr025/CGA.txt:  330\n",
        "Num proteins in ../data/b1hData/newDatabase/6varpos/F3/high/protein_cut10_entr025/CGC.txt:  1768"
       ]
      },
      {
       "output_type": "stream",
       "stream": "stdout",
       "text": [
        "\n",
        "Num proteins in ../data/b1hData/newDatabase/6varpos/F3/high/protein_cut10_entr025/CGG.txt:  88\n",
        "Num proteins in ../data/b1hData/newDatabase/6varpos/F3/high/protein_cut10_entr025/CGT.txt:  1073\n",
        "Num proteins in ../data/b1hData/newDatabase/6varpos/F3/high/protein_cut10_entr025/CTA.txt:  504\n",
        "Num proteins in ../data/b1hData/newDatabase/6varpos/F3/high/protein_cut10_entr025/CTC.txt:  664\n",
        "Num proteins in ../data/b1hData/newDatabase/6varpos/F3/high/protein_cut10_entr025/CTG.txt:  206\n",
        "Num proteins in ../data/b1hData/newDatabase/6varpos/F3/high/protein_cut10_entr025/CTT.txt:  312\n",
        "Num proteins in ../data/b1hData/newDatabase/6varpos/F3/high/protein_cut10_entr025/GAA.txt:  701"
       ]
      },
      {
       "output_type": "stream",
       "stream": "stdout",
       "text": [
        "\n",
        "Num proteins in ../data/b1hData/newDatabase/6varpos/F3/high/protein_cut10_entr025/GAC.txt:  661\n",
        "Num proteins in ../data/b1hData/newDatabase/6varpos/F3/high/protein_cut10_entr025/GAG.txt:  1434"
       ]
      },
      {
       "output_type": "stream",
       "stream": "stdout",
       "text": [
        "\n",
        "Num proteins in ../data/b1hData/newDatabase/6varpos/F3/high/protein_cut10_entr025/GAT.txt:  1072\n",
        "Num proteins in ../data/b1hData/newDatabase/6varpos/F3/high/protein_cut10_entr025/GCA.txt:  596"
       ]
      },
      {
       "output_type": "stream",
       "stream": "stdout",
       "text": [
        "\n",
        "Num proteins in ../data/b1hData/newDatabase/6varpos/F3/high/protein_cut10_entr025/GCC.txt:  463\n",
        "Num proteins in ../data/b1hData/newDatabase/6varpos/F3/high/protein_cut10_entr025/GCG.txt:  878\n",
        "Num proteins in ../data/b1hData/newDatabase/6varpos/F3/high/protein_cut10_entr025/GCT.txt:  1032"
       ]
      },
      {
       "output_type": "stream",
       "stream": "stdout",
       "text": [
        "\n",
        "Num proteins in ../data/b1hData/newDatabase/6varpos/F3/high/protein_cut10_entr025/GGA.txt:  913\n",
        "Num proteins in ../data/b1hData/newDatabase/6varpos/F3/high/protein_cut10_entr025/GGC.txt:  660"
       ]
      },
      {
       "output_type": "stream",
       "stream": "stdout",
       "text": [
        "\n",
        "Num proteins in ../data/b1hData/newDatabase/6varpos/F3/high/protein_cut10_entr025/GGG.txt:  1799\n",
        "Num proteins in ../data/b1hData/newDatabase/6varpos/F3/high/protein_cut10_entr025/GGT.txt:  2157\n",
        "Num proteins in ../data/b1hData/newDatabase/6varpos/F3/high/protein_cut10_entr025/GTA.txt:  618"
       ]
      },
      {
       "output_type": "stream",
       "stream": "stdout",
       "text": [
        "\n",
        "Num proteins in ../data/b1hData/newDatabase/6varpos/F3/high/protein_cut10_entr025/GTC.txt:  975\n",
        "Num proteins in ../data/b1hData/newDatabase/6varpos/F3/high/protein_cut10_entr025/GTG.txt:  1799"
       ]
      },
      {
       "output_type": "stream",
       "stream": "stdout",
       "text": [
        "\n",
        "Num proteins in ../data/b1hData/newDatabase/6varpos/F3/high/protein_cut10_entr025/GTT.txt:  2224\n",
        "Num proteins in ../data/b1hData/newDatabase/6varpos/F3/high/protein_cut10_entr025/TAA.txt:  1404"
       ]
      },
      {
       "output_type": "stream",
       "stream": "stdout",
       "text": [
        "\n",
        "Num proteins in ../data/b1hData/newDatabase/6varpos/F3/high/protein_cut10_entr025/TAC.txt:  771\n",
        "Num proteins in ../data/b1hData/newDatabase/6varpos/F3/high/protein_cut10_entr025/TAG.txt:  490\n",
        "Num proteins in ../data/b1hData/newDatabase/6varpos/F3/high/protein_cut10_entr025/TAT.txt:  1687"
       ]
      },
      {
       "output_type": "stream",
       "stream": "stdout",
       "text": [
        "\n",
        "Num proteins in ../data/b1hData/newDatabase/6varpos/F3/high/protein_cut10_entr025/TCA.txt:  1122\n",
        "Num proteins in ../data/b1hData/newDatabase/6varpos/F3/high/protein_cut10_entr025/TCC.txt:  1015\n",
        "Num proteins in ../data/b1hData/newDatabase/6varpos/F3/high/protein_cut10_entr025/TCG.txt:  572\n",
        "Num proteins in ../data/b1hData/newDatabase/6varpos/F3/high/protein_cut10_entr025/TCT.txt:  444\n",
        "Num proteins in ../data/b1hData/newDatabase/6varpos/F3/high/protein_cut10_entr025/TGA.txt:  1444"
       ]
      },
      {
       "output_type": "stream",
       "stream": "stdout",
       "text": [
        "\n",
        "Num proteins in ../data/b1hData/newDatabase/6varpos/F3/high/protein_cut10_entr025/TGC.txt:  1218\n",
        "Num proteins in ../data/b1hData/newDatabase/6varpos/F3/high/protein_cut10_entr025/TGG.txt:  115\n",
        "Num proteins in ../data/b1hData/newDatabase/6varpos/F3/high/protein_cut10_entr025/TGT.txt:  8058"
       ]
      },
      {
       "output_type": "stream",
       "stream": "stdout",
       "text": [
        "\n",
        "Num proteins in ../data/b1hData/newDatabase/6varpos/F3/high/protein_cut10_entr025/TTA.txt:  4011"
       ]
      },
      {
       "output_type": "stream",
       "stream": "stdout",
       "text": [
        "\n",
        "Num proteins in ../data/b1hData/newDatabase/6varpos/F3/high/protein_cut10_entr025/TTC.txt:  292\n",
        "Num proteins in ../data/b1hData/newDatabase/6varpos/F3/high/protein_cut10_entr025/TTG.txt:  270\n",
        "Num proteins in ../data/b1hData/newDatabase/6varpos/F3/high/protein_cut10_entr025/TTT.txt:  961\n",
        "Total num protein/dna observations in all files:  70587\n",
        "Total num unique proteins in all files:  47582\n",
        "\n",
        "Num obs processed in csv to txt conversion:  70587"
       ]
      },
      {
       "output_type": "stream",
       "stream": "stdout",
       "text": [
        "\n",
        "\n",
        "Num proteins in ../data/b1hData/newDatabase/6varpos/F3/low/protein_cut10_entr025/AAA.txt:  590"
       ]
      },
      {
       "output_type": "stream",
       "stream": "stdout",
       "text": [
        "\n",
        "Num proteins in ../data/b1hData/newDatabase/6varpos/F3/low/protein_cut10_entr025/AAC.txt:  4240\n",
        "Num proteins in ../data/b1hData/newDatabase/6varpos/F3/low/protein_cut10_entr025/AAG.txt:  5548"
       ]
      },
      {
       "output_type": "stream",
       "stream": "stdout",
       "text": [
        "\n",
        "Num proteins in ../data/b1hData/newDatabase/6varpos/F3/low/protein_cut10_entr025/AAT.txt:  5078"
       ]
      },
      {
       "output_type": "stream",
       "stream": "stdout",
       "text": [
        "\n",
        "Num proteins in ../data/b1hData/newDatabase/6varpos/F3/low/protein_cut10_entr025/ACA.txt:  579\n",
        "Num proteins in ../data/b1hData/newDatabase/6varpos/F3/low/protein_cut10_entr025/ACC.txt:  989\n",
        "Num proteins in ../data/b1hData/newDatabase/6varpos/F3/low/protein_cut10_entr025/ACG.txt:  5531"
       ]
      },
      {
       "output_type": "stream",
       "stream": "stdout",
       "text": [
        "\n",
        "Num proteins in ../data/b1hData/newDatabase/6varpos/F3/low/protein_cut10_entr025/ACT.txt:  3606"
       ]
      },
      {
       "output_type": "stream",
       "stream": "stdout",
       "text": [
        "\n",
        "Num proteins in ../data/b1hData/newDatabase/6varpos/F3/low/protein_cut10_entr025/AGA.txt:  140\n",
        "Num proteins in ../data/b1hData/newDatabase/6varpos/F3/low/protein_cut10_entr025/AGC.txt:  8626"
       ]
      },
      {
       "output_type": "stream",
       "stream": "stdout",
       "text": [
        "\n",
        "Num proteins in ../data/b1hData/newDatabase/6varpos/F3/low/protein_cut10_entr025/AGG.txt:  4893"
       ]
      },
      {
       "output_type": "stream",
       "stream": "stdout",
       "text": [
        "\n",
        "Num proteins in ../data/b1hData/newDatabase/6varpos/F3/low/protein_cut10_entr025/AGT.txt:  6034"
       ]
      },
      {
       "output_type": "stream",
       "stream": "stdout",
       "text": [
        "\n",
        "Num proteins in ../data/b1hData/newDatabase/6varpos/F3/low/protein_cut10_entr025/ATA.txt:  680\n",
        "Num proteins in ../data/b1hData/newDatabase/6varpos/F3/low/protein_cut10_entr025/ATC.txt:  4044"
       ]
      },
      {
       "output_type": "stream",
       "stream": "stdout",
       "text": [
        "\n",
        "Num proteins in ../data/b1hData/newDatabase/6varpos/F3/low/protein_cut10_entr025/ATG.txt:  2775\n",
        "Num proteins in ../data/b1hData/newDatabase/6varpos/F3/low/protein_cut10_entr025/ATT.txt:  3728"
       ]
      },
      {
       "output_type": "stream",
       "stream": "stdout",
       "text": [
        "\n",
        "Num proteins in ../data/b1hData/newDatabase/6varpos/F3/low/protein_cut10_entr025/CAA.txt:  707\n",
        "Num proteins in ../data/b1hData/newDatabase/6varpos/F3/low/protein_cut10_entr025/CAC.txt:  4683"
       ]
      },
      {
       "output_type": "stream",
       "stream": "stdout",
       "text": [
        "\n",
        "Num proteins in ../data/b1hData/newDatabase/6varpos/F3/low/protein_cut10_entr025/CAG.txt:  5219"
       ]
      },
      {
       "output_type": "stream",
       "stream": "stdout",
       "text": [
        "\n",
        "Num proteins in ../data/b1hData/newDatabase/6varpos/F3/low/protein_cut10_entr025/CAT.txt:  4805"
       ]
      },
      {
       "output_type": "stream",
       "stream": "stdout",
       "text": [
        "\n",
        "Num proteins in ../data/b1hData/newDatabase/6varpos/F3/low/protein_cut10_entr025/CCA.txt:  687\n",
        "Num proteins in ../data/b1hData/newDatabase/6varpos/F3/low/protein_cut10_entr025/CCC.txt:  1876"
       ]
      },
      {
       "output_type": "stream",
       "stream": "stdout",
       "text": [
        "\n",
        "Num proteins in ../data/b1hData/newDatabase/6varpos/F3/low/protein_cut10_entr025/CCG.txt:  6892"
       ]
      },
      {
       "output_type": "stream",
       "stream": "stdout",
       "text": [
        "\n",
        "Num proteins in ../data/b1hData/newDatabase/6varpos/F3/low/protein_cut10_entr025/CCT.txt:  3671"
       ]
      },
      {
       "output_type": "stream",
       "stream": "stdout",
       "text": [
        "\n",
        "Num proteins in ../data/b1hData/newDatabase/6varpos/F3/low/protein_cut10_entr025/CGA.txt:  933\n",
        "Num proteins in ../data/b1hData/newDatabase/6varpos/F3/low/protein_cut10_entr025/CGC.txt:  9623"
       ]
      },
      {
       "output_type": "stream",
       "stream": "stdout",
       "text": [
        "\n",
        "Num proteins in ../data/b1hData/newDatabase/6varpos/F3/low/protein_cut10_entr025/CGG.txt:  2072\n",
        "Num proteins in ../data/b1hData/newDatabase/6varpos/F3/low/protein_cut10_entr025/CGT.txt:  5746"
       ]
      },
      {
       "output_type": "stream",
       "stream": "stdout",
       "text": [
        "\n",
        "Num proteins in ../data/b1hData/newDatabase/6varpos/F3/low/protein_cut10_entr025/CTA.txt:  478\n",
        "Num proteins in ../data/b1hData/newDatabase/6varpos/F3/low/protein_cut10_entr025/CTC.txt:  2441\n",
        "Num proteins in ../data/b1hData/newDatabase/6varpos/F3/low/protein_cut10_entr025/CTG.txt:  2219"
       ]
      },
      {
       "output_type": "stream",
       "stream": "stdout",
       "text": [
        "\n",
        "Num proteins in ../data/b1hData/newDatabase/6varpos/F3/low/protein_cut10_entr025/CTT.txt:  2326\n",
        "Num proteins in ../data/b1hData/newDatabase/6varpos/F3/low/protein_cut10_entr025/GAA.txt:  3418"
       ]
      },
      {
       "output_type": "stream",
       "stream": "stdout",
       "text": [
        "\n",
        "Num proteins in ../data/b1hData/newDatabase/6varpos/F3/low/protein_cut10_entr025/GAC.txt:  4947"
       ]
      },
      {
       "output_type": "stream",
       "stream": "stdout",
       "text": [
        "\n",
        "Num proteins in ../data/b1hData/newDatabase/6varpos/F3/low/protein_cut10_entr025/GAG.txt:  8784"
       ]
      },
      {
       "output_type": "stream",
       "stream": "stdout",
       "text": [
        "\n",
        "Num proteins in ../data/b1hData/newDatabase/6varpos/F3/low/protein_cut10_entr025/GAT.txt:  8033"
       ]
      },
      {
       "output_type": "stream",
       "stream": "stdout",
       "text": [
        "\n",
        "Num proteins in ../data/b1hData/newDatabase/6varpos/F3/low/protein_cut10_entr025/GCA.txt:  2280\n",
        "Num proteins in ../data/b1hData/newDatabase/6varpos/F3/low/protein_cut10_entr025/GCC.txt:  2387"
       ]
      },
      {
       "output_type": "stream",
       "stream": "stdout",
       "text": [
        "\n",
        "Num proteins in ../data/b1hData/newDatabase/6varpos/F3/low/protein_cut10_entr025/GCG.txt:  4754"
       ]
      },
      {
       "output_type": "stream",
       "stream": "stdout",
       "text": [
        "\n",
        "Num proteins in ../data/b1hData/newDatabase/6varpos/F3/low/protein_cut10_entr025/GCT.txt:  4021\n",
        "Num proteins in ../data/b1hData/newDatabase/6varpos/F3/low/protein_cut10_entr025/GGA.txt:  2616"
       ]
      },
      {
       "output_type": "stream",
       "stream": "stdout",
       "text": [
        "\n",
        "Num proteins in ../data/b1hData/newDatabase/6varpos/F3/low/protein_cut10_entr025/GGC.txt:  4524"
       ]
      },
      {
       "output_type": "stream",
       "stream": "stdout",
       "text": [
        "\n",
        "Num proteins in ../data/b1hData/newDatabase/6varpos/F3/low/protein_cut10_entr025/GGG.txt:  6799"
       ]
      },
      {
       "output_type": "stream",
       "stream": "stdout",
       "text": [
        "\n",
        "Num proteins in ../data/b1hData/newDatabase/6varpos/F3/low/protein_cut10_entr025/GGT.txt:  7375"
       ]
      },
      {
       "output_type": "stream",
       "stream": "stdout",
       "text": [
        "\n",
        "Num proteins in ../data/b1hData/newDatabase/6varpos/F3/low/protein_cut10_entr025/GTA.txt:  3366\n",
        "Num proteins in ../data/b1hData/newDatabase/6varpos/F3/low/protein_cut10_entr025/GTC.txt:  5590"
       ]
      },
      {
       "output_type": "stream",
       "stream": "stdout",
       "text": [
        "\n",
        "Num proteins in ../data/b1hData/newDatabase/6varpos/F3/low/protein_cut10_entr025/GTG.txt:  7796"
       ]
      },
      {
       "output_type": "stream",
       "stream": "stdout",
       "text": [
        "\n",
        "Num proteins in ../data/b1hData/newDatabase/6varpos/F3/low/protein_cut10_entr025/GTT.txt:  11374"
       ]
      },
      {
       "output_type": "stream",
       "stream": "stdout",
       "text": [
        "\n",
        "Num proteins in ../data/b1hData/newDatabase/6varpos/F3/low/protein_cut10_entr025/TAA.txt:  468\n",
        "Num proteins in ../data/b1hData/newDatabase/6varpos/F3/low/protein_cut10_entr025/TAC.txt:  3696\n",
        "Num proteins in ../data/b1hData/newDatabase/6varpos/F3/low/protein_cut10_entr025/TAG.txt:  2679"
       ]
      },
      {
       "output_type": "stream",
       "stream": "stdout",
       "text": [
        "\n",
        "Num proteins in ../data/b1hData/newDatabase/6varpos/F3/low/protein_cut10_entr025/TAT.txt:  5072"
       ]
      },
      {
       "output_type": "stream",
       "stream": "stdout",
       "text": [
        "\n",
        "Num proteins in ../data/b1hData/newDatabase/6varpos/F3/low/protein_cut10_entr025/TCA.txt:  437\n",
        "Num proteins in ../data/b1hData/newDatabase/6varpos/F3/low/protein_cut10_entr025/TCC.txt:  2071\n",
        "Num proteins in ../data/b1hData/newDatabase/6varpos/F3/low/protein_cut10_entr025/TCG.txt:  2224"
       ]
      },
      {
       "output_type": "stream",
       "stream": "stdout",
       "text": [
        "\n",
        "Num proteins in ../data/b1hData/newDatabase/6varpos/F3/low/protein_cut10_entr025/TCT.txt:  2587\n",
        "Num proteins in ../data/b1hData/newDatabase/6varpos/F3/low/protein_cut10_entr025/TGA.txt:  3597"
       ]
      },
      {
       "output_type": "stream",
       "stream": "stdout",
       "text": [
        "\n",
        "Num proteins in ../data/b1hData/newDatabase/6varpos/F3/low/protein_cut10_entr025/TGC.txt:  6982"
       ]
      },
      {
       "output_type": "stream",
       "stream": "stdout",
       "text": [
        "\n",
        "Num proteins in ../data/b1hData/newDatabase/6varpos/F3/low/protein_cut10_entr025/TGG.txt:  1894\n",
        "Num proteins in ../data/b1hData/newDatabase/6varpos/F3/low/protein_cut10_entr025/TGT.txt:  17955"
       ]
      },
      {
       "output_type": "stream",
       "stream": "stdout",
       "text": [
        "\n",
        "Num proteins in ../data/b1hData/newDatabase/6varpos/F3/low/protein_cut10_entr025/TTA.txt:  668\n",
        "Num proteins in ../data/b1hData/newDatabase/6varpos/F3/low/protein_cut10_entr025/TTC.txt:  1625\n",
        "Num proteins in ../data/b1hData/newDatabase/6varpos/F3/low/protein_cut10_entr025/TTG.txt:  2194"
       ]
      },
      {
       "output_type": "stream",
       "stream": "stdout",
       "text": [
        "\n",
        "Num proteins in ../data/b1hData/newDatabase/6varpos/F3/low/protein_cut10_entr025/TTT.txt:  5744"
       ]
      },
      {
       "output_type": "stream",
       "stream": "stdout",
       "text": [
        "\n",
        "Total num protein/dna observations in all files:  259416\n",
        "Total num unique proteins in all files:  141513\n",
        "\n",
        "Num obs processed in csv to txt conversion:  259416"
       ]
      },
      {
       "output_type": "stream",
       "stream": "stdout",
       "text": [
        "\n",
        "\n"
       ]
      }
     ],
     "prompt_number": 2
    },
    {
     "cell_type": "code",
     "collapsed": false,
     "input": [
      "prefix = '../data/b1hData/newDatabase/5varpos/'\n",
      "numVarPos = 5\n",
      "fings = ['F2']\n",
      "strins = ['high', 'low']\n",
      "for fing in fings:\n",
      "    for strin in strins:\n",
      "        path = prefix + fing + '/' + strin + '/' + 'protein_cut10_entr025/'\n",
      "        targetFiles2singleCSV(path, numVarPos, '.txt')\n",
      "        csv2txtFile(path, numVarPos)\n",
      "        print"
     ],
     "language": "python",
     "metadata": {},
     "outputs": [
      {
       "output_type": "stream",
       "stream": "stdout",
       "text": [
        "Invalid File Name: AAA.txt\n",
        "Invalid File Name: AAC.txt\n",
        "Num proteins in ../data/b1hData/newDatabase/5varpos/F2/high/protein_cut10_entr025/AAG.txt:  9626"
       ]
      },
      {
       "output_type": "stream",
       "stream": "stdout",
       "text": [
        "\n",
        "Invalid File Name: AAT.txt\n",
        "Invalid File Name: ACA.txt\n",
        "Invalid File Name: ACC.txt\n",
        "Invalid File Name: ACG.txt\n",
        "Invalid File Name: ACT.txt\n",
        "Invalid File Name: AGA.txt\n",
        "Invalid File Name: AGC.txt\n",
        "Invalid File Name: AGG.txt\n",
        "Invalid File Name: AGT.txt\n",
        "Invalid File Name: ATA.txt\n",
        "Invalid File Name: ATC.txt\n",
        "Invalid File Name: ATG.txt\n",
        "Invalid File Name: ATT.txt\n",
        "Num proteins in ../data/b1hData/newDatabase/5varpos/F2/high/protein_cut10_entr025/CAA.txt:  12068"
       ]
      },
      {
       "output_type": "stream",
       "stream": "stdout",
       "text": [
        "\n",
        "Num proteins in ../data/b1hData/newDatabase/5varpos/F2/high/protein_cut10_entr025/CAC.txt:  8784"
       ]
      },
      {
       "output_type": "stream",
       "stream": "stdout",
       "text": [
        "\n",
        "Num proteins in ../data/b1hData/newDatabase/5varpos/F2/high/protein_cut10_entr025/CAG.txt:  8253"
       ]
      },
      {
       "output_type": "stream",
       "stream": "stdout",
       "text": [
        "\n",
        "Num proteins in ../data/b1hData/newDatabase/5varpos/F2/high/protein_cut10_entr025/CAT.txt:  11567"
       ]
      },
      {
       "output_type": "stream",
       "stream": "stdout",
       "text": [
        "\n",
        "Invalid File Name: CCA.txt\n",
        "Invalid File Name: CCC.txt\n",
        "Invalid File Name: CCG.txt\n",
        "Invalid File Name: CCT.txt\n",
        "Invalid File Name: CGA.txt\n",
        "Invalid File Name: CGC.txt\n",
        "Invalid File Name: CGG.txt\n",
        "Invalid File Name: CGT.txt\n",
        "Invalid File Name: CTA.txt\n",
        "Invalid File Name: CTC.txt\n",
        "Invalid File Name: CTG.txt\n",
        "Invalid File Name: CTT.txt\n",
        "Invalid File Name: GAA.txt\n",
        "Invalid File Name: GAC.txt\n",
        "Num proteins in ../data/b1hData/newDatabase/5varpos/F2/high/protein_cut10_entr025/GAG.txt:  13725"
       ]
      },
      {
       "output_type": "stream",
       "stream": "stdout",
       "text": [
        "\n",
        "Invalid File Name: GAT.txt\n",
        "Invalid File Name: GCA.txt\n",
        "Invalid File Name: GCC.txt\n",
        "Invalid File Name: GCG.txt\n",
        "Invalid File Name: GCT.txt\n",
        "Num proteins in ../data/b1hData/newDatabase/5varpos/F2/high/protein_cut10_entr025/GGA.txt:  14734"
       ]
      },
      {
       "output_type": "stream",
       "stream": "stdout",
       "text": [
        "\n",
        "Invalid File Name: GGC.txt\n",
        "Num proteins in ../data/b1hData/newDatabase/5varpos/F2/high/protein_cut10_entr025/GGG.txt:  14584"
       ]
      },
      {
       "output_type": "stream",
       "stream": "stdout",
       "text": [
        "\n",
        "Invalid File Name: GGT.txt\n",
        "Invalid File Name: GTA.txt\n",
        "Invalid File Name: GTC.txt\n",
        "Invalid File Name: GTG.txt\n",
        "Invalid File Name: GTT.txt\n",
        "Invalid File Name: TAA.txt\n",
        "Invalid File Name: TAC.txt\n",
        "Num proteins in ../data/b1hData/newDatabase/5varpos/F2/high/protein_cut10_entr025/TAG.txt:  11800"
       ]
      },
      {
       "output_type": "stream",
       "stream": "stdout",
       "text": [
        "\n",
        "Invalid File Name: TAT.txt\n",
        "Invalid File Name: TCA.txt\n",
        "Invalid File Name: TCC.txt\n",
        "Invalid File Name: TCG.txt\n",
        "Invalid File Name: TCT.txt\n",
        "Invalid File Name: TGA.txt\n",
        "Invalid File Name: TGC.txt\n",
        "Invalid File Name: TGG.txt\n",
        "Invalid File Name: TGT.txt\n",
        "Invalid File Name: TTA.txt\n",
        "Invalid File Name: TTC.txt\n",
        "Invalid File Name: TTG.txt\n",
        "Invalid File Name: TTT.txt\n",
        "Total num protein/dna observations in all files:  105141\n",
        "Total num unique proteins in all files:  48892\n",
        "\n",
        "Num obs processed in csv to txt conversion:  105141"
       ]
      },
      {
       "output_type": "stream",
       "stream": "stdout",
       "text": [
        "\n",
        "\n",
        "Invalid File Name: AAA.txt"
       ]
      },
      {
       "output_type": "stream",
       "stream": "stdout",
       "text": [
        "\n",
        "Invalid File Name: AAC.txt\n",
        "Num proteins in ../data/b1hData/newDatabase/5varpos/F2/low/protein_cut10_entr025/AAG.txt:  28000"
       ]
      },
      {
       "output_type": "stream",
       "stream": "stdout",
       "text": [
        "\n",
        "Invalid File Name: AAT.txt\n",
        "Invalid File Name: ACA.txt\n",
        "Invalid File Name: ACC.txt\n",
        "Invalid File Name: ACG.txt\n",
        "Invalid File Name: ACT.txt\n",
        "Invalid File Name: AGA.txt\n",
        "Invalid File Name: AGC.txt\n",
        "Invalid File Name: AGG.txt\n",
        "Invalid File Name: AGT.txt\n",
        "Invalid File Name: ATA.txt\n",
        "Invalid File Name: ATC.txt\n",
        "Invalid File Name: ATG.txt\n",
        "Invalid File Name: ATT.txt\n",
        "Num proteins in ../data/b1hData/newDatabase/5varpos/F2/low/protein_cut10_entr025/CAA.txt:  21377"
       ]
      },
      {
       "output_type": "stream",
       "stream": "stdout",
       "text": [
        "\n",
        "Num proteins in ../data/b1hData/newDatabase/5varpos/F2/low/protein_cut10_entr025/CAC.txt:  24682"
       ]
      },
      {
       "output_type": "stream",
       "stream": "stdout",
       "text": [
        "\n",
        "Num proteins in ../data/b1hData/newDatabase/5varpos/F2/low/protein_cut10_entr025/CAG.txt:  25303"
       ]
      },
      {
       "output_type": "stream",
       "stream": "stdout",
       "text": [
        "\n",
        "Num proteins in ../data/b1hData/newDatabase/5varpos/F2/low/protein_cut10_entr025/CAT.txt:  39095"
       ]
      },
      {
       "output_type": "stream",
       "stream": "stdout",
       "text": [
        "\n",
        "Invalid File Name: CCA.txt\n",
        "Invalid File Name: CCC.txt\n",
        "Invalid File Name: CCG.txt\n",
        "Invalid File Name: CCT.txt\n",
        "Invalid File Name: CGA.txt\n",
        "Invalid File Name: CGC.txt\n",
        "Invalid File Name: CGG.txt\n",
        "Invalid File Name: CGT.txt\n",
        "Invalid File Name: CTA.txt\n",
        "Invalid File Name: CTC.txt\n",
        "Invalid File Name: CTG.txt\n",
        "Invalid File Name: CTT.txt\n",
        "Invalid File Name: GAA.txt\n",
        "Invalid File Name: GAC.txt\n",
        "Num proteins in ../data/b1hData/newDatabase/5varpos/F2/low/protein_cut10_entr025/GAG.txt:  29861"
       ]
      },
      {
       "output_type": "stream",
       "stream": "stdout",
       "text": [
        "\n",
        "Invalid File Name: GAT.txt\n",
        "Invalid File Name: GCA.txt\n",
        "Invalid File Name: GCC.txt\n",
        "Invalid File Name: GCG.txt\n",
        "Invalid File Name: GCT.txt\n",
        "Num proteins in ../data/b1hData/newDatabase/5varpos/F2/low/protein_cut10_entr025/GGA.txt:  18374"
       ]
      },
      {
       "output_type": "stream",
       "stream": "stdout",
       "text": [
        "\n",
        "Invalid File Name: GGC.txt\n",
        "Num proteins in ../data/b1hData/newDatabase/5varpos/F2/low/protein_cut10_entr025/GGG.txt:  18565"
       ]
      },
      {
       "output_type": "stream",
       "stream": "stdout",
       "text": [
        "\n",
        "Invalid File Name: GGT.txt\n",
        "Invalid File Name: GTA.txt\n",
        "Invalid File Name: GTC.txt\n",
        "Invalid File Name: GTG.txt\n",
        "Invalid File Name: GTT.txt\n",
        "Invalid File Name: TAA.txt\n",
        "Invalid File Name: TAC.txt\n",
        "Num proteins in ../data/b1hData/newDatabase/5varpos/F2/low/protein_cut10_entr025/TAG.txt:  24221"
       ]
      },
      {
       "output_type": "stream",
       "stream": "stdout",
       "text": [
        "\n",
        "Invalid File Name: TAT.txt\n",
        "Invalid File Name: TCA.txt\n",
        "Invalid File Name: TCC.txt\n",
        "Invalid File Name: TCG.txt\n",
        "Invalid File Name: TCT.txt\n",
        "Invalid File Name: TGA.txt\n",
        "Invalid File Name: TGC.txt\n",
        "Invalid File Name: TGG.txt\n",
        "Invalid File Name: TGT.txt\n",
        "Invalid File Name: TTA.txt\n",
        "Invalid File Name: TTC.txt\n",
        "Invalid File Name: TTG.txt\n",
        "Invalid File Name: TTT.txt\n",
        "Total num protein/dna observations in all files:  229478\n",
        "Total num unique proteins in all files:  111419\n",
        "\n",
        "Num obs processed in csv to txt conversion:  229478"
       ]
      },
      {
       "output_type": "stream",
       "stream": "stdout",
       "text": [
        "\n",
        "\n"
       ]
      }
     ],
     "prompt_number": 3
    }
   ],
   "metadata": {}
  }
 ]
}