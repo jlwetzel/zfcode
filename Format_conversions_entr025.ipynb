{
 "metadata": {
  "name": "Format_conversions_entr025"
 },
 "nbformat": 3,
 "nbformat_minor": 0,
 "worksheets": [
  {
   "cells": [
    {
     "cell_type": "code",
     "collapsed": false,
     "input": [
      "from changeFormats import targetFiles2singleCSV, csv2txtFile\n",
      "\n"
     ],
     "language": "python",
     "metadata": {},
     "outputs": [],
     "prompt_number": 1
    },
    {
     "cell_type": "code",
     "collapsed": false,
     "input": [
      "prefix = '../data/b1hData/newDatabase/6varpos/'\n",
      "numVarPos = 6\n",
      "fings = ['F1', 'F2', 'F3']\n",
      "strins = ['high', 'low']\n",
      "for fing in fings:\n",
      "    for strin in strins:\n",
      "        path = prefix + fing + '/' + strin + '/' + 'protein_seq_025/'\n",
      "        targetFiles2singleCSV(path, numVarPos, '_protein_seq.txt')\n",
      "        csv2txtFile(path, numVarPos)\n",
      "        print"
     ],
     "language": "python",
     "metadata": {},
     "outputs": [
      {
       "output_type": "stream",
       "stream": "stdout",
       "text": [
        "Num proteins in ../data/b1hData/newDatabase/6varpos/F1/high/protein_seq_025/AAA_protein_seq.txt:  6\n",
        "Num proteins in ../data/b1hData/newDatabase/6varpos/F1/high/protein_seq_025/AAC_protein_seq.txt:  90\n",
        "Num proteins in ../data/b1hData/newDatabase/6varpos/F1/high/protein_seq_025/AAG_protein_seq.txt:  38\n",
        "Num proteins in ../data/b1hData/newDatabase/6varpos/F1/high/protein_seq_025/AAT_protein_seq.txt:  17\n",
        "Num proteins in ../data/b1hData/newDatabase/6varpos/F1/high/protein_seq_025/ACA_protein_seq.txt:  287\n",
        "Num proteins in ../data/b1hData/newDatabase/6varpos/F1/high/protein_seq_025/ACC_protein_seq.txt:  4\n",
        "Num proteins in ../data/b1hData/newDatabase/6varpos/F1/high/protein_seq_025/ACG_protein_seq.txt:  28\n",
        "Num proteins in ../data/b1hData/newDatabase/6varpos/F1/high/protein_seq_025/ACT_protein_seq.txt:  179\n",
        "Num proteins in ../data/b1hData/newDatabase/6varpos/F1/high/protein_seq_025/AGA_protein_seq.txt:  0\n",
        "Num proteins in ../data/b1hData/newDatabase/6varpos/F1/high/protein_seq_025/AGC_protein_seq.txt:  42\n",
        "Num proteins in ../data/b1hData/newDatabase/6varpos/F1/high/protein_seq_025/AGG_protein_seq.txt:  128\n",
        "Num proteins in ../data/b1hData/newDatabase/6varpos/F1/high/protein_seq_025/AGT_protein_seq.txt:  405\n",
        "Num proteins in ../data/b1hData/newDatabase/6varpos/F1/high/protein_seq_025/ATA_protein_seq.txt:  86\n",
        "Num proteins in ../data/b1hData/newDatabase/6varpos/F1/high/protein_seq_025/ATC_protein_seq.txt:  171\n",
        "Num proteins in ../data/b1hData/newDatabase/6varpos/F1/high/protein_seq_025/ATG_protein_seq.txt:  208\n",
        "Num proteins in ../data/b1hData/newDatabase/6varpos/F1/high/protein_seq_025/ATT_protein_seq.txt:  11\n",
        "Num proteins in ../data/b1hData/newDatabase/6varpos/F1/high/protein_seq_025/CAA_protein_seq.txt:  141\n",
        "Num proteins in ../data/b1hData/newDatabase/6varpos/F1/high/protein_seq_025/CAC_protein_seq.txt:  33\n",
        "Num proteins in ../data/b1hData/newDatabase/6varpos/F1/high/protein_seq_025/CAG_protein_seq.txt:  118\n",
        "Num proteins in ../data/b1hData/newDatabase/6varpos/F1/high/protein_seq_025/CAT_protein_seq.txt:  148\n",
        "Num proteins in ../data/b1hData/newDatabase/6varpos/F1/high/protein_seq_025/CCA_protein_seq.txt:  556\n",
        "Num proteins in ../data/b1hData/newDatabase/6varpos/F1/high/protein_seq_025/CCC_protein_seq.txt:  177\n",
        "Num proteins in ../data/b1hData/newDatabase/6varpos/F1/high/protein_seq_025/CCG_protein_seq.txt:  143\n",
        "Num proteins in ../data/b1hData/newDatabase/6varpos/F1/high/protein_seq_025/CCT_protein_seq.txt:  270\n",
        "Num proteins in ../data/b1hData/newDatabase/6varpos/F1/high/protein_seq_025/CGA_protein_seq.txt:  78\n",
        "Num proteins in ../data/b1hData/newDatabase/6varpos/F1/high/protein_seq_025/CGC_protein_seq.txt:  156\n",
        "Num proteins in ../data/b1hData/newDatabase/6varpos/F1/high/protein_seq_025/CGG_protein_seq.txt:  429\n",
        "Num proteins in ../data/b1hData/newDatabase/6varpos/F1/high/protein_seq_025/CGT_protein_seq.txt:  24\n",
        "Num proteins in ../data/b1hData/newDatabase/6varpos/F1/high/protein_seq_025/CTA_protein_seq.txt:  9\n",
        "Num proteins in ../data/b1hData/newDatabase/6varpos/F1/high/protein_seq_025/CTC_protein_seq.txt:  16\n",
        "Num proteins in ../data/b1hData/newDatabase/6varpos/F1/high/protein_seq_025/CTG_protein_seq.txt:  48\n",
        "Num proteins in ../data/b1hData/newDatabase/6varpos/F1/high/protein_seq_025/CTT_protein_seq.txt:  48\n",
        "Num proteins in ../data/b1hData/newDatabase/6varpos/F1/high/protein_seq_025/GAA_protein_seq.txt:  189"
       ]
      },
      {
       "output_type": "stream",
       "stream": "stdout",
       "text": [
        "\n",
        "Num proteins in ../data/b1hData/newDatabase/6varpos/F1/high/protein_seq_025/GAC_protein_seq.txt:  232\n",
        "Num proteins in ../data/b1hData/newDatabase/6varpos/F1/high/protein_seq_025/GAG_protein_seq.txt:  221\n",
        "Num proteins in ../data/b1hData/newDatabase/6varpos/F1/high/protein_seq_025/GAT_protein_seq.txt:  251\n",
        "Num proteins in ../data/b1hData/newDatabase/6varpos/F1/high/protein_seq_025/GCA_protein_seq.txt:  352\n",
        "Num proteins in ../data/b1hData/newDatabase/6varpos/F1/high/protein_seq_025/GCC_protein_seq.txt:  36\n",
        "Num proteins in ../data/b1hData/newDatabase/6varpos/F1/high/protein_seq_025/GCG_protein_seq.txt:  102\n",
        "Num proteins in ../data/b1hData/newDatabase/6varpos/F1/high/protein_seq_025/GCT_protein_seq.txt:  268\n",
        "Num proteins in ../data/b1hData/newDatabase/6varpos/F1/high/protein_seq_025/GGA_protein_seq.txt:  11\n",
        "Num proteins in ../data/b1hData/newDatabase/6varpos/F1/high/protein_seq_025/GGC_protein_seq.txt:  51\n",
        "Num proteins in ../data/b1hData/newDatabase/6varpos/F1/high/protein_seq_025/GGG_protein_seq.txt:  241\n",
        "Num proteins in ../data/b1hData/newDatabase/6varpos/F1/high/protein_seq_025/GGT_protein_seq.txt:  344\n",
        "Num proteins in ../data/b1hData/newDatabase/6varpos/F1/high/protein_seq_025/GTA_protein_seq.txt:  38\n",
        "Num proteins in ../data/b1hData/newDatabase/6varpos/F1/high/protein_seq_025/GTC_protein_seq.txt:  40\n",
        "Num proteins in ../data/b1hData/newDatabase/6varpos/F1/high/protein_seq_025/GTG_protein_seq.txt:  297\n",
        "Num proteins in ../data/b1hData/newDatabase/6varpos/F1/high/protein_seq_025/GTT_protein_seq.txt:  56\n",
        "Num proteins in ../data/b1hData/newDatabase/6varpos/F1/high/protein_seq_025/TAA_protein_seq.txt:  2\n",
        "Num proteins in ../data/b1hData/newDatabase/6varpos/F1/high/protein_seq_025/TAC_protein_seq.txt:  25\n",
        "Num proteins in ../data/b1hData/newDatabase/6varpos/F1/high/protein_seq_025/TAG_protein_seq.txt:  6\n",
        "Num proteins in ../data/b1hData/newDatabase/6varpos/F1/high/protein_seq_025/TAT_protein_seq.txt:  8\n",
        "Num proteins in ../data/b1hData/newDatabase/6varpos/F1/high/protein_seq_025/TCA_protein_seq.txt:  31\n",
        "Num proteins in ../data/b1hData/newDatabase/6varpos/F1/high/protein_seq_025/TCC_protein_seq.txt:  20\n",
        "Num proteins in ../data/b1hData/newDatabase/6varpos/F1/high/protein_seq_025/TCG_protein_seq.txt:  43\n",
        "Num proteins in ../data/b1hData/newDatabase/6varpos/F1/high/protein_seq_025/TCT_protein_seq.txt:  6\n",
        "Num proteins in ../data/b1hData/newDatabase/6varpos/F1/high/protein_seq_025/TGA_protein_seq.txt:  0\n",
        "Num proteins in ../data/b1hData/newDatabase/6varpos/F1/high/protein_seq_025/TGC_protein_seq.txt:  51\n",
        "Num proteins in ../data/b1hData/newDatabase/6varpos/F1/high/protein_seq_025/TGG_protein_seq.txt:  171\n",
        "Num proteins in ../data/b1hData/newDatabase/6varpos/F1/high/protein_seq_025/TGT_protein_seq.txt:  231\n",
        "Num proteins in ../data/b1hData/newDatabase/6varpos/F1/high/protein_seq_025/TTA_protein_seq.txt:  31\n",
        "Num proteins in ../data/b1hData/newDatabase/6varpos/F1/high/protein_seq_025/TTC_protein_seq.txt:  2\n",
        "Num proteins in ../data/b1hData/newDatabase/6varpos/F1/high/protein_seq_025/TTG_protein_seq.txt:  2\n",
        "Num proteins in ../data/b1hData/newDatabase/6varpos/F1/high/protein_seq_025/TTT_protein_seq.txt:  2\n",
        "Total num protein/dna observations in all files:  7454\n",
        "Total num unique proteins in all files:  5272\n",
        "\n",
        "Num obs processed in csv to txt conversion:  7454"
       ]
      },
      {
       "output_type": "stream",
       "stream": "stdout",
       "text": [
        "\n",
        "\n",
        "Num proteins in ../data/b1hData/newDatabase/6varpos/F1/low/protein_seq_025/AAA_protein_seq.txt:  21\n",
        "Num proteins in ../data/b1hData/newDatabase/6varpos/F1/low/protein_seq_025/AAC_protein_seq.txt:  177\n",
        "Num proteins in ../data/b1hData/newDatabase/6varpos/F1/low/protein_seq_025/AAG_protein_seq.txt:  300\n",
        "Num proteins in ../data/b1hData/newDatabase/6varpos/F1/low/protein_seq_025/AAT_protein_seq.txt:  46\n",
        "Num proteins in ../data/b1hData/newDatabase/6varpos/F1/low/protein_seq_025/ACA_protein_seq.txt:  484\n",
        "Num proteins in ../data/b1hData/newDatabase/6varpos/F1/low/protein_seq_025/ACC_protein_seq.txt:  58\n",
        "Num proteins in ../data/b1hData/newDatabase/6varpos/F1/low/protein_seq_025/ACG_protein_seq.txt:  130\n",
        "Num proteins in ../data/b1hData/newDatabase/6varpos/F1/low/protein_seq_025/ACT_protein_seq.txt:  264\n",
        "Num proteins in ../data/b1hData/newDatabase/6varpos/F1/low/protein_seq_025/AGA_protein_seq.txt:  111\n",
        "Num proteins in ../data/b1hData/newDatabase/6varpos/F1/low/protein_seq_025/AGC_protein_seq.txt:  443\n",
        "Num proteins in ../data/b1hData/newDatabase/6varpos/F1/low/protein_seq_025/AGG_protein_seq.txt:  210\n",
        "Num proteins in ../data/b1hData/newDatabase/6varpos/F1/low/protein_seq_025/AGT_protein_seq.txt:  1479"
       ]
      },
      {
       "output_type": "stream",
       "stream": "stdout",
       "text": [
        "\n",
        "Num proteins in ../data/b1hData/newDatabase/6varpos/F1/low/protein_seq_025/ATA_protein_seq.txt:  179\n",
        "Num proteins in ../data/b1hData/newDatabase/6varpos/F1/low/protein_seq_025/ATC_protein_seq.txt:  253\n",
        "Num proteins in ../data/b1hData/newDatabase/6varpos/F1/low/protein_seq_025/ATG_protein_seq.txt:  398\n",
        "Num proteins in ../data/b1hData/newDatabase/6varpos/F1/low/protein_seq_025/ATT_protein_seq.txt:  102\n",
        "Num proteins in ../data/b1hData/newDatabase/6varpos/F1/low/protein_seq_025/CAA_protein_seq.txt:  294\n",
        "Num proteins in ../data/b1hData/newDatabase/6varpos/F1/low/protein_seq_025/CAC_protein_seq.txt:  114\n",
        "Num proteins in ../data/b1hData/newDatabase/6varpos/F1/low/protein_seq_025/CAG_protein_seq.txt:  318\n",
        "Num proteins in ../data/b1hData/newDatabase/6varpos/F1/low/protein_seq_025/CAT_protein_seq.txt:  214\n",
        "Num proteins in ../data/b1hData/newDatabase/6varpos/F1/low/protein_seq_025/CCA_protein_seq.txt:  110\n",
        "Num proteins in ../data/b1hData/newDatabase/6varpos/F1/low/protein_seq_025/CCC_protein_seq.txt:  443\n",
        "Num proteins in ../data/b1hData/newDatabase/6varpos/F1/low/protein_seq_025/CCG_protein_seq.txt:  406\n",
        "Num proteins in ../data/b1hData/newDatabase/6varpos/F1/low/protein_seq_025/CCT_protein_seq.txt:  363\n",
        "Num proteins in ../data/b1hData/newDatabase/6varpos/F1/low/protein_seq_025/CGA_protein_seq.txt:  1078\n",
        "Num proteins in ../data/b1hData/newDatabase/6varpos/F1/low/protein_seq_025/CGC_protein_seq.txt:  232"
       ]
      },
      {
       "output_type": "stream",
       "stream": "stdout",
       "text": [
        "\n",
        "Num proteins in ../data/b1hData/newDatabase/6varpos/F1/low/protein_seq_025/CGG_protein_seq.txt:  593\n",
        "Num proteins in ../data/b1hData/newDatabase/6varpos/F1/low/protein_seq_025/CGT_protein_seq.txt:  89\n",
        "Num proteins in ../data/b1hData/newDatabase/6varpos/F1/low/protein_seq_025/CTA_protein_seq.txt:  56\n",
        "Num proteins in ../data/b1hData/newDatabase/6varpos/F1/low/protein_seq_025/CTC_protein_seq.txt:  161\n",
        "Num proteins in ../data/b1hData/newDatabase/6varpos/F1/low/protein_seq_025/CTG_protein_seq.txt:  198\n",
        "Num proteins in ../data/b1hData/newDatabase/6varpos/F1/low/protein_seq_025/CTT_protein_seq.txt:  180\n",
        "Num proteins in ../data/b1hData/newDatabase/6varpos/F1/low/protein_seq_025/GAA_protein_seq.txt:  283\n",
        "Num proteins in ../data/b1hData/newDatabase/6varpos/F1/low/protein_seq_025/GAC_protein_seq.txt:  689\n",
        "Num proteins in ../data/b1hData/newDatabase/6varpos/F1/low/protein_seq_025/GAG_protein_seq.txt:  394\n",
        "Num proteins in ../data/b1hData/newDatabase/6varpos/F1/low/protein_seq_025/GAT_protein_seq.txt:  812\n",
        "Num proteins in ../data/b1hData/newDatabase/6varpos/F1/low/protein_seq_025/GCA_protein_seq.txt:  566\n",
        "Num proteins in ../data/b1hData/newDatabase/6varpos/F1/low/protein_seq_025/GCC_protein_seq.txt:  83\n",
        "Num proteins in ../data/b1hData/newDatabase/6varpos/F1/low/protein_seq_025/GCG_protein_seq.txt:  348\n",
        "Num proteins in ../data/b1hData/newDatabase/6varpos/F1/low/protein_seq_025/GCT_protein_seq.txt:  401"
       ]
      },
      {
       "output_type": "stream",
       "stream": "stdout",
       "text": [
        "\n",
        "Num proteins in ../data/b1hData/newDatabase/6varpos/F1/low/protein_seq_025/GGA_protein_seq.txt:  139\n",
        "Num proteins in ../data/b1hData/newDatabase/6varpos/F1/low/protein_seq_025/GGC_protein_seq.txt:  222\n",
        "Num proteins in ../data/b1hData/newDatabase/6varpos/F1/low/protein_seq_025/GGG_protein_seq.txt:  361\n",
        "Num proteins in ../data/b1hData/newDatabase/6varpos/F1/low/protein_seq_025/GGT_protein_seq.txt:  1501\n",
        "Num proteins in ../data/b1hData/newDatabase/6varpos/F1/low/protein_seq_025/GTA_protein_seq.txt:  239\n",
        "Num proteins in ../data/b1hData/newDatabase/6varpos/F1/low/protein_seq_025/GTC_protein_seq.txt:  191\n",
        "Num proteins in ../data/b1hData/newDatabase/6varpos/F1/low/protein_seq_025/GTG_protein_seq.txt:  279\n",
        "Num proteins in ../data/b1hData/newDatabase/6varpos/F1/low/protein_seq_025/GTT_protein_seq.txt:  167\n",
        "Num proteins in ../data/b1hData/newDatabase/6varpos/F1/low/protein_seq_025/TAA_protein_seq.txt:  88\n",
        "Num proteins in ../data/b1hData/newDatabase/6varpos/F1/low/protein_seq_025/TAC_protein_seq.txt:  55\n",
        "Num proteins in ../data/b1hData/newDatabase/6varpos/F1/low/protein_seq_025/TAG_protein_seq.txt:  45\n",
        "Num proteins in ../data/b1hData/newDatabase/6varpos/F1/low/protein_seq_025/TAT_protein_seq.txt:  0\n",
        "Num proteins in ../data/b1hData/newDatabase/6varpos/F1/low/protein_seq_025/TCA_protein_seq.txt:  191\n",
        "Num proteins in ../data/b1hData/newDatabase/6varpos/F1/low/protein_seq_025/TCC_protein_seq.txt:  59\n",
        "Num proteins in ../data/b1hData/newDatabase/6varpos/F1/low/protein_seq_025/TCG_protein_seq.txt:  74\n",
        "Num proteins in ../data/b1hData/newDatabase/6varpos/F1/low/protein_seq_025/TCT_protein_seq.txt:  139\n",
        "Num proteins in ../data/b1hData/newDatabase/6varpos/F1/low/protein_seq_025/TGA_protein_seq.txt:  65\n",
        "Num proteins in ../data/b1hData/newDatabase/6varpos/F1/low/protein_seq_025/TGC_protein_seq.txt:  282\n",
        "Num proteins in ../data/b1hData/newDatabase/6varpos/F1/low/protein_seq_025/TGG_protein_seq.txt:  302\n",
        "Num proteins in ../data/b1hData/newDatabase/6varpos/F1/low/protein_seq_025/TGT_protein_seq.txt:  1398"
       ]
      },
      {
       "output_type": "stream",
       "stream": "stdout",
       "text": [
        "\n",
        "Num proteins in ../data/b1hData/newDatabase/6varpos/F1/low/protein_seq_025/TTA_protein_seq.txt:  214\n",
        "Num proteins in ../data/b1hData/newDatabase/6varpos/F1/low/protein_seq_025/TTC_protein_seq.txt:  18\n",
        "Num proteins in ../data/b1hData/newDatabase/6varpos/F1/low/protein_seq_025/TTG_protein_seq.txt:  66\n",
        "Num proteins in ../data/b1hData/newDatabase/6varpos/F1/low/protein_seq_025/TTT_protein_seq.txt:  123\n",
        "Total num protein/dna observations in all files:  19298\n",
        "Total num unique proteins in all files:  13001\n",
        "\n",
        "Num obs processed in csv to txt conversion:  19298"
       ]
      },
      {
       "output_type": "stream",
       "stream": "stdout",
       "text": [
        "\n",
        "\n",
        "Num proteins in ../data/b1hData/newDatabase/6varpos/F2/high/protein_seq_025/AAA_protein_seq.txt:  61\n",
        "Num proteins in ../data/b1hData/newDatabase/6varpos/F2/high/protein_seq_025/AAC_protein_seq.txt:  505\n",
        "Num proteins in ../data/b1hData/newDatabase/6varpos/F2/high/protein_seq_025/AAG_protein_seq.txt:  156\n",
        "Num proteins in ../data/b1hData/newDatabase/6varpos/F2/high/protein_seq_025/AAT_protein_seq.txt:  110\n",
        "Num proteins in ../data/b1hData/newDatabase/6varpos/F2/high/protein_seq_025/ACA_protein_seq.txt:  346\n",
        "Num proteins in ../data/b1hData/newDatabase/6varpos/F2/high/protein_seq_025/ACC_protein_seq.txt:  133\n",
        "Num proteins in ../data/b1hData/newDatabase/6varpos/F2/high/protein_seq_025/ACG_protein_seq.txt:  417\n",
        "Num proteins in ../data/b1hData/newDatabase/6varpos/F2/high/protein_seq_025/ACT_protein_seq.txt:  924\n",
        "Num proteins in ../data/b1hData/newDatabase/6varpos/F2/high/protein_seq_025/AGA_protein_seq.txt:  20\n",
        "Num proteins in ../data/b1hData/newDatabase/6varpos/F2/high/protein_seq_025/AGC_protein_seq.txt:  111\n",
        "Num proteins in ../data/b1hData/newDatabase/6varpos/F2/high/protein_seq_025/AGG_protein_seq.txt:  340\n",
        "Num proteins in ../data/b1hData/newDatabase/6varpos/F2/high/protein_seq_025/AGT_protein_seq.txt:  629"
       ]
      },
      {
       "output_type": "stream",
       "stream": "stdout",
       "text": [
        "\n",
        "Num proteins in ../data/b1hData/newDatabase/6varpos/F2/high/protein_seq_025/ATA_protein_seq.txt:  2\n",
        "Num proteins in ../data/b1hData/newDatabase/6varpos/F2/high/protein_seq_025/ATC_protein_seq.txt:  299\n",
        "Num proteins in ../data/b1hData/newDatabase/6varpos/F2/high/protein_seq_025/ATG_protein_seq.txt:  109\n",
        "Num proteins in ../data/b1hData/newDatabase/6varpos/F2/high/protein_seq_025/ATT_protein_seq.txt:  309\n",
        "Num proteins in ../data/b1hData/newDatabase/6varpos/F2/high/protein_seq_025/CAA_protein_seq.txt:  2\n",
        "Num proteins in ../data/b1hData/newDatabase/6varpos/F2/high/protein_seq_025/CAC_protein_seq.txt:  169\n",
        "Num proteins in ../data/b1hData/newDatabase/6varpos/F2/high/protein_seq_025/CAG_protein_seq.txt:  408\n",
        "Num proteins in ../data/b1hData/newDatabase/6varpos/F2/high/protein_seq_025/CAT_protein_seq.txt:  243\n",
        "Num proteins in ../data/b1hData/newDatabase/6varpos/F2/high/protein_seq_025/CCA_protein_seq.txt:  31\n",
        "Num proteins in ../data/b1hData/newDatabase/6varpos/F2/high/protein_seq_025/CCC_protein_seq.txt:  55\n",
        "Num proteins in ../data/b1hData/newDatabase/6varpos/F2/high/protein_seq_025/CCG_protein_seq.txt:  12\n",
        "Num proteins in ../data/b1hData/newDatabase/6varpos/F2/high/protein_seq_025/CCT_protein_seq.txt:  83\n",
        "Num proteins in ../data/b1hData/newDatabase/6varpos/F2/high/protein_seq_025/CGA_protein_seq.txt:  8\n",
        "Num proteins in ../data/b1hData/newDatabase/6varpos/F2/high/protein_seq_025/CGC_protein_seq.txt:  34\n",
        "Num proteins in ../data/b1hData/newDatabase/6varpos/F2/high/protein_seq_025/CGG_protein_seq.txt:  861\n",
        "Num proteins in ../data/b1hData/newDatabase/6varpos/F2/high/protein_seq_025/CGT_protein_seq.txt:  365\n",
        "Num proteins in ../data/b1hData/newDatabase/6varpos/F2/high/protein_seq_025/CTA_protein_seq.txt:  7\n",
        "Num proteins in ../data/b1hData/newDatabase/6varpos/F2/high/protein_seq_025/CTC_protein_seq.txt:  22\n",
        "Num proteins in ../data/b1hData/newDatabase/6varpos/F2/high/protein_seq_025/CTG_protein_seq.txt:  2\n",
        "Num proteins in ../data/b1hData/newDatabase/6varpos/F2/high/protein_seq_025/CTT_protein_seq.txt:  63\n",
        "Num proteins in ../data/b1hData/newDatabase/6varpos/F2/high/protein_seq_025/GAA_protein_seq.txt:  130\n",
        "Num proteins in ../data/b1hData/newDatabase/6varpos/F2/high/protein_seq_025/GAC_protein_seq.txt:  562\n",
        "Num proteins in ../data/b1hData/newDatabase/6varpos/F2/high/protein_seq_025/GAG_protein_seq.txt:  631\n",
        "Num proteins in ../data/b1hData/newDatabase/6varpos/F2/high/protein_seq_025/GAT_protein_seq.txt:  195\n",
        "Num proteins in ../data/b1hData/newDatabase/6varpos/F2/high/protein_seq_025/GCA_protein_seq.txt:  18\n",
        "Num proteins in ../data/b1hData/newDatabase/6varpos/F2/high/protein_seq_025/GCC_protein_seq.txt:  132\n",
        "Num proteins in ../data/b1hData/newDatabase/6varpos/F2/high/protein_seq_025/GCG_protein_seq.txt:  340\n",
        "Num proteins in ../data/b1hData/newDatabase/6varpos/F2/high/protein_seq_025/GCT_protein_seq.txt:  745"
       ]
      },
      {
       "output_type": "stream",
       "stream": "stdout",
       "text": [
        "\n",
        "Num proteins in ../data/b1hData/newDatabase/6varpos/F2/high/protein_seq_025/GGA_protein_seq.txt:  236\n",
        "Num proteins in ../data/b1hData/newDatabase/6varpos/F2/high/protein_seq_025/GGC_protein_seq.txt:  16\n",
        "Num proteins in ../data/b1hData/newDatabase/6varpos/F2/high/protein_seq_025/GGG_protein_seq.txt:  664\n",
        "Num proteins in ../data/b1hData/newDatabase/6varpos/F2/high/protein_seq_025/GGT_protein_seq.txt:  225\n",
        "Num proteins in ../data/b1hData/newDatabase/6varpos/F2/high/protein_seq_025/GTA_protein_seq.txt:  351\n",
        "Num proteins in ../data/b1hData/newDatabase/6varpos/F2/high/protein_seq_025/GTC_protein_seq.txt:  241\n",
        "Num proteins in ../data/b1hData/newDatabase/6varpos/F2/high/protein_seq_025/GTG_protein_seq.txt:  564\n",
        "Num proteins in ../data/b1hData/newDatabase/6varpos/F2/high/protein_seq_025/GTT_protein_seq.txt:  454"
       ]
      },
      {
       "output_type": "stream",
       "stream": "stdout",
       "text": [
        "\n",
        "Num proteins in ../data/b1hData/newDatabase/6varpos/F2/high/protein_seq_025/TAA_protein_seq.txt:  0\n",
        "Num proteins in ../data/b1hData/newDatabase/6varpos/F2/high/protein_seq_025/TAC_protein_seq.txt:  56\n",
        "Num proteins in ../data/b1hData/newDatabase/6varpos/F2/high/protein_seq_025/TAG_protein_seq.txt:  72\n",
        "Num proteins in ../data/b1hData/newDatabase/6varpos/F2/high/protein_seq_025/TAT_protein_seq.txt:  152\n",
        "Num proteins in ../data/b1hData/newDatabase/6varpos/F2/high/protein_seq_025/TCA_protein_seq.txt:  0\n",
        "Num proteins in ../data/b1hData/newDatabase/6varpos/F2/high/protein_seq_025/TCC_protein_seq.txt:  95\n",
        "Num proteins in ../data/b1hData/newDatabase/6varpos/F2/high/protein_seq_025/TCG_protein_seq.txt:  31\n",
        "Num proteins in ../data/b1hData/newDatabase/6varpos/F2/high/protein_seq_025/TCT_protein_seq.txt:  97\n",
        "Num proteins in ../data/b1hData/newDatabase/6varpos/F2/high/protein_seq_025/TGA_protein_seq.txt:  9\n",
        "Num proteins in ../data/b1hData/newDatabase/6varpos/F2/high/protein_seq_025/TGC_protein_seq.txt:  12\n",
        "Num proteins in ../data/b1hData/newDatabase/6varpos/F2/high/protein_seq_025/TGG_protein_seq.txt:  834\n",
        "Num proteins in ../data/b1hData/newDatabase/6varpos/F2/high/protein_seq_025/TGT_protein_seq.txt:  1075\n",
        "Num proteins in ../data/b1hData/newDatabase/6varpos/F2/high/protein_seq_025/TTA_protein_seq.txt:  0\n",
        "Num proteins in ../data/b1hData/newDatabase/6varpos/F2/high/protein_seq_025/TTC_protein_seq.txt:  14\n",
        "Num proteins in ../data/b1hData/newDatabase/6varpos/F2/high/protein_seq_025/TTG_protein_seq.txt:  127\n",
        "Num proteins in ../data/b1hData/newDatabase/6varpos/F2/high/protein_seq_025/TTT_protein_seq.txt:  9\n",
        "Total num protein/dna observations in all files:  14923\n",
        "Total num unique proteins in all files:  11888\n",
        "\n",
        "Num obs processed in csv to txt conversion:  14923"
       ]
      },
      {
       "output_type": "stream",
       "stream": "stdout",
       "text": [
        "\n",
        "\n",
        "Num proteins in ../data/b1hData/newDatabase/6varpos/F2/low/protein_seq_025/AAA_protein_seq.txt:  310\n",
        "Num proteins in ../data/b1hData/newDatabase/6varpos/F2/low/protein_seq_025/AAC_protein_seq.txt:  1399"
       ]
      },
      {
       "output_type": "stream",
       "stream": "stdout",
       "text": [
        "\n",
        "Num proteins in ../data/b1hData/newDatabase/6varpos/F2/low/protein_seq_025/AAG_protein_seq.txt:  1294\n",
        "Num proteins in ../data/b1hData/newDatabase/6varpos/F2/low/protein_seq_025/AAT_protein_seq.txt:  918\n",
        "Num proteins in ../data/b1hData/newDatabase/6varpos/F2/low/protein_seq_025/ACA_protein_seq.txt:  1239\n",
        "Num proteins in ../data/b1hData/newDatabase/6varpos/F2/low/protein_seq_025/ACC_protein_seq.txt:  592"
       ]
      },
      {
       "output_type": "stream",
       "stream": "stdout",
       "text": [
        "\n",
        "Num proteins in ../data/b1hData/newDatabase/6varpos/F2/low/protein_seq_025/ACG_protein_seq.txt:  1660\n",
        "Num proteins in ../data/b1hData/newDatabase/6varpos/F2/low/protein_seq_025/ACT_protein_seq.txt:  1560\n",
        "Num proteins in ../data/b1hData/newDatabase/6varpos/F2/low/protein_seq_025/AGA_protein_seq.txt:  309\n",
        "Num proteins in ../data/b1hData/newDatabase/6varpos/F2/low/protein_seq_025/AGC_protein_seq.txt:  423"
       ]
      },
      {
       "output_type": "stream",
       "stream": "stdout",
       "text": [
        "\n",
        "Num proteins in ../data/b1hData/newDatabase/6varpos/F2/low/protein_seq_025/AGG_protein_seq.txt:  1074\n",
        "Num proteins in ../data/b1hData/newDatabase/6varpos/F2/low/protein_seq_025/AGT_protein_seq.txt:  2386"
       ]
      },
      {
       "output_type": "stream",
       "stream": "stdout",
       "text": [
        "\n",
        "Num proteins in ../data/b1hData/newDatabase/6varpos/F2/low/protein_seq_025/ATA_protein_seq.txt:  76\n",
        "Num proteins in ../data/b1hData/newDatabase/6varpos/F2/low/protein_seq_025/ATC_protein_seq.txt:  1073\n",
        "Num proteins in ../data/b1hData/newDatabase/6varpos/F2/low/protein_seq_025/ATG_protein_seq.txt:  1087\n",
        "Num proteins in ../data/b1hData/newDatabase/6varpos/F2/low/protein_seq_025/ATT_protein_seq.txt:  1489\n",
        "Num proteins in ../data/b1hData/newDatabase/6varpos/F2/low/protein_seq_025/CAA_protein_seq.txt:  194\n",
        "Num proteins in ../data/b1hData/newDatabase/6varpos/F2/low/protein_seq_025/CAC_protein_seq.txt:  1308\n",
        "Num proteins in ../data/b1hData/newDatabase/6varpos/F2/low/protein_seq_025/CAG_protein_seq.txt:  1651"
       ]
      },
      {
       "output_type": "stream",
       "stream": "stdout",
       "text": [
        "\n",
        "Num proteins in ../data/b1hData/newDatabase/6varpos/F2/low/protein_seq_025/CAT_protein_seq.txt:  1096\n",
        "Num proteins in ../data/b1hData/newDatabase/6varpos/F2/low/protein_seq_025/CCA_protein_seq.txt:  291\n",
        "Num proteins in ../data/b1hData/newDatabase/6varpos/F2/low/protein_seq_025/CCC_protein_seq.txt:  281\n",
        "Num proteins in ../data/b1hData/newDatabase/6varpos/F2/low/protein_seq_025/CCG_protein_seq.txt:  358\n",
        "Num proteins in ../data/b1hData/newDatabase/6varpos/F2/low/protein_seq_025/CCT_protein_seq.txt:  464\n",
        "Num proteins in ../data/b1hData/newDatabase/6varpos/F2/low/protein_seq_025/CGA_protein_seq.txt:  138\n",
        "Num proteins in ../data/b1hData/newDatabase/6varpos/F2/low/protein_seq_025/CGC_protein_seq.txt:  217\n",
        "Num proteins in ../data/b1hData/newDatabase/6varpos/F2/low/protein_seq_025/CGG_protein_seq.txt:  2002"
       ]
      },
      {
       "output_type": "stream",
       "stream": "stdout",
       "text": [
        "\n",
        "Num proteins in ../data/b1hData/newDatabase/6varpos/F2/low/protein_seq_025/CGT_protein_seq.txt:  1222\n",
        "Num proteins in ../data/b1hData/newDatabase/6varpos/F2/low/protein_seq_025/CTA_protein_seq.txt:  17\n",
        "Num proteins in ../data/b1hData/newDatabase/6varpos/F2/low/protein_seq_025/CTC_protein_seq.txt:  177\n",
        "Num proteins in ../data/b1hData/newDatabase/6varpos/F2/low/protein_seq_025/CTG_protein_seq.txt:  333\n",
        "Num proteins in ../data/b1hData/newDatabase/6varpos/F2/low/protein_seq_025/CTT_protein_seq.txt:  304"
       ]
      },
      {
       "output_type": "stream",
       "stream": "stdout",
       "text": [
        "\n",
        "Num proteins in ../data/b1hData/newDatabase/6varpos/F2/low/protein_seq_025/GAA_protein_seq.txt:  335\n",
        "Num proteins in ../data/b1hData/newDatabase/6varpos/F2/low/protein_seq_025/GAC_protein_seq.txt:  1289\n",
        "Num proteins in ../data/b1hData/newDatabase/6varpos/F2/low/protein_seq_025/GAG_protein_seq.txt:  1108\n",
        "Num proteins in ../data/b1hData/newDatabase/6varpos/F2/low/protein_seq_025/GAT_protein_seq.txt:  641\n",
        "Num proteins in ../data/b1hData/newDatabase/6varpos/F2/low/protein_seq_025/GCA_protein_seq.txt:  366\n",
        "Num proteins in ../data/b1hData/newDatabase/6varpos/F2/low/protein_seq_025/GCC_protein_seq.txt:  486\n",
        "Num proteins in ../data/b1hData/newDatabase/6varpos/F2/low/protein_seq_025/GCG_protein_seq.txt:  1546"
       ]
      },
      {
       "output_type": "stream",
       "stream": "stdout",
       "text": [
        "\n",
        "Num proteins in ../data/b1hData/newDatabase/6varpos/F2/low/protein_seq_025/GCT_protein_seq.txt:  1674\n",
        "Num proteins in ../data/b1hData/newDatabase/6varpos/F2/low/protein_seq_025/GGA_protein_seq.txt:  50\n",
        "Num proteins in ../data/b1hData/newDatabase/6varpos/F2/low/protein_seq_025/GGC_protein_seq.txt:  156\n",
        "Num proteins in ../data/b1hData/newDatabase/6varpos/F2/low/protein_seq_025/GGG_protein_seq.txt:  1088\n",
        "Num proteins in ../data/b1hData/newDatabase/6varpos/F2/low/protein_seq_025/GGT_protein_seq.txt:  1012\n",
        "Num proteins in ../data/b1hData/newDatabase/6varpos/F2/low/protein_seq_025/GTA_protein_seq.txt:  6\n",
        "Num proteins in ../data/b1hData/newDatabase/6varpos/F2/low/protein_seq_025/GTC_protein_seq.txt:  839\n",
        "Num proteins in ../data/b1hData/newDatabase/6varpos/F2/low/protein_seq_025/GTG_protein_seq.txt:  2053"
       ]
      },
      {
       "output_type": "stream",
       "stream": "stdout",
       "text": [
        "\n",
        "Num proteins in ../data/b1hData/newDatabase/6varpos/F2/low/protein_seq_025/GTT_protein_seq.txt:  1593\n",
        "Num proteins in ../data/b1hData/newDatabase/6varpos/F2/low/protein_seq_025/TAA_protein_seq.txt:  2\n",
        "Num proteins in ../data/b1hData/newDatabase/6varpos/F2/low/protein_seq_025/TAC_protein_seq.txt:  492\n",
        "Num proteins in ../data/b1hData/newDatabase/6varpos/F2/low/protein_seq_025/TAG_protein_seq.txt:  395\n",
        "Num proteins in ../data/b1hData/newDatabase/6varpos/F2/low/protein_seq_025/TAT_protein_seq.txt:  1206\n",
        "Num proteins in ../data/b1hData/newDatabase/6varpos/F2/low/protein_seq_025/TCA_protein_seq.txt:  18\n",
        "Num proteins in ../data/b1hData/newDatabase/6varpos/F2/low/protein_seq_025/TCC_protein_seq.txt:  328\n",
        "Num proteins in ../data/b1hData/newDatabase/6varpos/F2/low/protein_seq_025/TCG_protein_seq.txt:  719\n",
        "Num proteins in ../data/b1hData/newDatabase/6varpos/F2/low/protein_seq_025/TCT_protein_seq.txt:  517"
       ]
      },
      {
       "output_type": "stream",
       "stream": "stdout",
       "text": [
        "\n",
        "Num proteins in ../data/b1hData/newDatabase/6varpos/F2/low/protein_seq_025/TGA_protein_seq.txt:  109\n",
        "Num proteins in ../data/b1hData/newDatabase/6varpos/F2/low/protein_seq_025/TGC_protein_seq.txt:  195\n",
        "Num proteins in ../data/b1hData/newDatabase/6varpos/F2/low/protein_seq_025/TGG_protein_seq.txt:  1055\n",
        "Num proteins in ../data/b1hData/newDatabase/6varpos/F2/low/protein_seq_025/TGT_protein_seq.txt:  2508\n",
        "Num proteins in ../data/b1hData/newDatabase/6varpos/F2/low/protein_seq_025/TTA_protein_seq.txt:  0\n",
        "Num proteins in ../data/b1hData/newDatabase/6varpos/F2/low/protein_seq_025/TTC_protein_seq.txt:  189\n",
        "Num proteins in ../data/b1hData/newDatabase/6varpos/F2/low/protein_seq_025/TTG_protein_seq.txt:  669\n",
        "Num proteins in ../data/b1hData/newDatabase/6varpos/F2/low/protein_seq_025/TTT_protein_seq.txt:  184\n",
        "Total num protein/dna observations in all files:  49770\n",
        "Total num unique proteins in all files:  36814\n",
        "\n",
        "Num obs processed in csv to txt conversion:  49770"
       ]
      },
      {
       "output_type": "stream",
       "stream": "stdout",
       "text": [
        "\n",
        "\n",
        "Num proteins in ../data/b1hData/newDatabase/6varpos/F3/high/protein_seq_025/AAA_protein_seq.txt:  18\n",
        "Num proteins in ../data/b1hData/newDatabase/6varpos/F3/high/protein_seq_025/AAC_protein_seq.txt:  103\n",
        "Num proteins in ../data/b1hData/newDatabase/6varpos/F3/high/protein_seq_025/AAG_protein_seq.txt:  424\n",
        "Num proteins in ../data/b1hData/newDatabase/6varpos/F3/high/protein_seq_025/AAT_protein_seq.txt:  51\n",
        "Num proteins in ../data/b1hData/newDatabase/6varpos/F3/high/protein_seq_025/ACA_protein_seq.txt:  23\n",
        "Num proteins in ../data/b1hData/newDatabase/6varpos/F3/high/protein_seq_025/ACC_protein_seq.txt:  25\n",
        "Num proteins in ../data/b1hData/newDatabase/6varpos/F3/high/protein_seq_025/ACG_protein_seq.txt:  326\n",
        "Num proteins in ../data/b1hData/newDatabase/6varpos/F3/high/protein_seq_025/ACT_protein_seq.txt:  98\n",
        "Num proteins in ../data/b1hData/newDatabase/6varpos/F3/high/protein_seq_025/AGA_protein_seq.txt:  0\n",
        "Num proteins in ../data/b1hData/newDatabase/6varpos/F3/high/protein_seq_025/AGC_protein_seq.txt:  171\n",
        "Num proteins in ../data/b1hData/newDatabase/6varpos/F3/high/protein_seq_025/AGG_protein_seq.txt:  231\n",
        "Num proteins in ../data/b1hData/newDatabase/6varpos/F3/high/protein_seq_025/AGT_protein_seq.txt:  433\n",
        "Num proteins in ../data/b1hData/newDatabase/6varpos/F3/high/protein_seq_025/ATA_protein_seq.txt:  7\n",
        "Num proteins in ../data/b1hData/newDatabase/6varpos/F3/high/protein_seq_025/ATC_protein_seq.txt:  309\n",
        "Num proteins in ../data/b1hData/newDatabase/6varpos/F3/high/protein_seq_025/ATG_protein_seq.txt:  15\n",
        "Num proteins in ../data/b1hData/newDatabase/6varpos/F3/high/protein_seq_025/ATT_protein_seq.txt:  74\n",
        "Num proteins in ../data/b1hData/newDatabase/6varpos/F3/high/protein_seq_025/CAA_protein_seq.txt:  41\n",
        "Num proteins in ../data/b1hData/newDatabase/6varpos/F3/high/protein_seq_025/CAC_protein_seq.txt:  38\n",
        "Num proteins in ../data/b1hData/newDatabase/6varpos/F3/high/protein_seq_025/CAG_protein_seq.txt:  69\n",
        "Num proteins in ../data/b1hData/newDatabase/6varpos/F3/high/protein_seq_025/CAT_protein_seq.txt:  187\n",
        "Num proteins in ../data/b1hData/newDatabase/6varpos/F3/high/protein_seq_025/CCA_protein_seq.txt:  0\n",
        "Num proteins in ../data/b1hData/newDatabase/6varpos/F3/high/protein_seq_025/CCC_protein_seq.txt:  38\n",
        "Num proteins in ../data/b1hData/newDatabase/6varpos/F3/high/protein_seq_025/CCG_protein_seq.txt:  161\n",
        "Num proteins in ../data/b1hData/newDatabase/6varpos/F3/high/protein_seq_025/CCT_protein_seq.txt:  25\n",
        "Num proteins in ../data/b1hData/newDatabase/6varpos/F3/high/protein_seq_025/CGA_protein_seq.txt:  2\n",
        "Num proteins in ../data/b1hData/newDatabase/6varpos/F3/high/protein_seq_025/CGC_protein_seq.txt:  242"
       ]
      },
      {
       "output_type": "stream",
       "stream": "stdout",
       "text": [
        "\n",
        "Num proteins in ../data/b1hData/newDatabase/6varpos/F3/high/protein_seq_025/CGG_protein_seq.txt:  14\n",
        "Num proteins in ../data/b1hData/newDatabase/6varpos/F3/high/protein_seq_025/CGT_protein_seq.txt:  201\n",
        "Num proteins in ../data/b1hData/newDatabase/6varpos/F3/high/protein_seq_025/CTA_protein_seq.txt:  92\n",
        "Num proteins in ../data/b1hData/newDatabase/6varpos/F3/high/protein_seq_025/CTC_protein_seq.txt:  2\n",
        "Num proteins in ../data/b1hData/newDatabase/6varpos/F3/high/protein_seq_025/CTG_protein_seq.txt:  0\n",
        "Num proteins in ../data/b1hData/newDatabase/6varpos/F3/high/protein_seq_025/CTT_protein_seq.txt:  6\n",
        "Num proteins in ../data/b1hData/newDatabase/6varpos/F3/high/protein_seq_025/GAA_protein_seq.txt:  103\n",
        "Num proteins in ../data/b1hData/newDatabase/6varpos/F3/high/protein_seq_025/GAC_protein_seq.txt:  92\n",
        "Num proteins in ../data/b1hData/newDatabase/6varpos/F3/high/protein_seq_025/GAG_protein_seq.txt:  265\n",
        "Num proteins in ../data/b1hData/newDatabase/6varpos/F3/high/protein_seq_025/GAT_protein_seq.txt:  106\n",
        "Num proteins in ../data/b1hData/newDatabase/6varpos/F3/high/protein_seq_025/GCA_protein_seq.txt:  72\n",
        "Num proteins in ../data/b1hData/newDatabase/6varpos/F3/high/protein_seq_025/GCC_protein_seq.txt:  30\n",
        "Num proteins in ../data/b1hData/newDatabase/6varpos/F3/high/protein_seq_025/GCG_protein_seq.txt:  101\n",
        "Num proteins in ../data/b1hData/newDatabase/6varpos/F3/high/protein_seq_025/GCT_protein_seq.txt:  159\n",
        "Num proteins in ../data/b1hData/newDatabase/6varpos/F3/high/protein_seq_025/GGA_protein_seq.txt:  158\n",
        "Num proteins in ../data/b1hData/newDatabase/6varpos/F3/high/protein_seq_025/GGC_protein_seq.txt:  47\n",
        "Num proteins in ../data/b1hData/newDatabase/6varpos/F3/high/protein_seq_025/GGG_protein_seq.txt:  259\n",
        "Num proteins in ../data/b1hData/newDatabase/6varpos/F3/high/protein_seq_025/GGT_protein_seq.txt:  322\n",
        "Num proteins in ../data/b1hData/newDatabase/6varpos/F3/high/protein_seq_025/GTA_protein_seq.txt:  146\n",
        "Num proteins in ../data/b1hData/newDatabase/6varpos/F3/high/protein_seq_025/GTC_protein_seq.txt:  123\n",
        "Num proteins in ../data/b1hData/newDatabase/6varpos/F3/high/protein_seq_025/GTG_protein_seq.txt:  304\n",
        "Num proteins in ../data/b1hData/newDatabase/6varpos/F3/high/protein_seq_025/GTT_protein_seq.txt:  292\n",
        "Num proteins in ../data/b1hData/newDatabase/6varpos/F3/high/protein_seq_025/TAA_protein_seq.txt:  19\n",
        "Num proteins in ../data/b1hData/newDatabase/6varpos/F3/high/protein_seq_025/TAC_protein_seq.txt:  40\n",
        "Num proteins in ../data/b1hData/newDatabase/6varpos/F3/high/protein_seq_025/TAG_protein_seq.txt:  40\n",
        "Num proteins in ../data/b1hData/newDatabase/6varpos/F3/high/protein_seq_025/TAT_protein_seq.txt:  252\n",
        "Num proteins in ../data/b1hData/newDatabase/6varpos/F3/high/protein_seq_025/TCA_protein_seq.txt:  33\n",
        "Num proteins in ../data/b1hData/newDatabase/6varpos/F3/high/protein_seq_025/TCC_protein_seq.txt:  168\n",
        "Num proteins in ../data/b1hData/newDatabase/6varpos/F3/high/protein_seq_025/TCG_protein_seq.txt:  17\n",
        "Num proteins in ../data/b1hData/newDatabase/6varpos/F3/high/protein_seq_025/TCT_protein_seq.txt:  72\n",
        "Num proteins in ../data/b1hData/newDatabase/6varpos/F3/high/protein_seq_025/TGA_protein_seq.txt:  324\n",
        "Num proteins in ../data/b1hData/newDatabase/6varpos/F3/high/protein_seq_025/TGC_protein_seq.txt:  129\n",
        "Num proteins in ../data/b1hData/newDatabase/6varpos/F3/high/protein_seq_025/TGG_protein_seq.txt:  41\n",
        "Num proteins in ../data/b1hData/newDatabase/6varpos/F3/high/protein_seq_025/TGT_protein_seq.txt:  1538"
       ]
      },
      {
       "output_type": "stream",
       "stream": "stdout",
       "text": [
        "\n",
        "Num proteins in ../data/b1hData/newDatabase/6varpos/F3/high/protein_seq_025/TTA_protein_seq.txt:  4\n",
        "Num proteins in ../data/b1hData/newDatabase/6varpos/F3/high/protein_seq_025/TTC_protein_seq.txt:  2\n",
        "Num proteins in ../data/b1hData/newDatabase/6varpos/F3/high/protein_seq_025/TTG_protein_seq.txt:  0\n",
        "Num proteins in ../data/b1hData/newDatabase/6varpos/F3/high/protein_seq_025/TTT_protein_seq.txt:  57\n",
        "Total num protein/dna observations in all files:  8741\n",
        "Total num unique proteins in all files:  7141\n",
        "\n",
        "Num obs processed in csv to txt conversion:  8741"
       ]
      },
      {
       "output_type": "stream",
       "stream": "stdout",
       "text": [
        "\n",
        "\n",
        "Num proteins in ../data/b1hData/newDatabase/6varpos/F3/low/protein_seq_025/AAA_protein_seq.txt:  72\n",
        "Num proteins in ../data/b1hData/newDatabase/6varpos/F3/low/protein_seq_025/AAC_protein_seq.txt:  441\n",
        "Num proteins in ../data/b1hData/newDatabase/6varpos/F3/low/protein_seq_025/AAG_protein_seq.txt:  1379"
       ]
      },
      {
       "output_type": "stream",
       "stream": "stdout",
       "text": [
        "\n",
        "Num proteins in ../data/b1hData/newDatabase/6varpos/F3/low/protein_seq_025/AAT_protein_seq.txt:  718\n",
        "Num proteins in ../data/b1hData/newDatabase/6varpos/F3/low/protein_seq_025/ACA_protein_seq.txt:  57\n",
        "Num proteins in ../data/b1hData/newDatabase/6varpos/F3/low/protein_seq_025/ACC_protein_seq.txt:  125\n",
        "Num proteins in ../data/b1hData/newDatabase/6varpos/F3/low/protein_seq_025/ACG_protein_seq.txt:  1308\n",
        "Num proteins in ../data/b1hData/newDatabase/6varpos/F3/low/protein_seq_025/ACT_protein_seq.txt:  524\n",
        "Num proteins in ../data/b1hData/newDatabase/6varpos/F3/low/protein_seq_025/AGA_protein_seq.txt:  18\n",
        "Num proteins in ../data/b1hData/newDatabase/6varpos/F3/low/protein_seq_025/AGC_protein_seq.txt:  793\n",
        "Num proteins in ../data/b1hData/newDatabase/6varpos/F3/low/protein_seq_025/AGG_protein_seq.txt:  521"
       ]
      },
      {
       "output_type": "stream",
       "stream": "stdout",
       "text": [
        "\n",
        "Num proteins in ../data/b1hData/newDatabase/6varpos/F3/low/protein_seq_025/AGT_protein_seq.txt:  1262\n",
        "Num proteins in ../data/b1hData/newDatabase/6varpos/F3/low/protein_seq_025/ATA_protein_seq.txt:  57\n",
        "Num proteins in ../data/b1hData/newDatabase/6varpos/F3/low/protein_seq_025/ATC_protein_seq.txt:  737\n",
        "Num proteins in ../data/b1hData/newDatabase/6varpos/F3/low/protein_seq_025/ATG_protein_seq.txt:  362\n",
        "Num proteins in ../data/b1hData/newDatabase/6varpos/F3/low/protein_seq_025/ATT_protein_seq.txt:  579\n",
        "Num proteins in ../data/b1hData/newDatabase/6varpos/F3/low/protein_seq_025/CAA_protein_seq.txt:  94\n",
        "Num proteins in ../data/b1hData/newDatabase/6varpos/F3/low/protein_seq_025/CAC_protein_seq.txt:  533\n",
        "Num proteins in ../data/b1hData/newDatabase/6varpos/F3/low/protein_seq_025/CAG_protein_seq.txt:  669"
       ]
      },
      {
       "output_type": "stream",
       "stream": "stdout",
       "text": [
        "\n",
        "Num proteins in ../data/b1hData/newDatabase/6varpos/F3/low/protein_seq_025/CAT_protein_seq.txt:  575\n",
        "Num proteins in ../data/b1hData/newDatabase/6varpos/F3/low/protein_seq_025/CCA_protein_seq.txt:  59\n",
        "Num proteins in ../data/b1hData/newDatabase/6varpos/F3/low/protein_seq_025/CCC_protein_seq.txt:  326\n",
        "Num proteins in ../data/b1hData/newDatabase/6varpos/F3/low/protein_seq_025/CCG_protein_seq.txt:  1090\n",
        "Num proteins in ../data/b1hData/newDatabase/6varpos/F3/low/protein_seq_025/CCT_protein_seq.txt:  345\n",
        "Num proteins in ../data/b1hData/newDatabase/6varpos/F3/low/protein_seq_025/CGA_protein_seq.txt:  77\n",
        "Num proteins in ../data/b1hData/newDatabase/6varpos/F3/low/protein_seq_025/CGC_protein_seq.txt:  744\n",
        "Num proteins in ../data/b1hData/newDatabase/6varpos/F3/low/protein_seq_025/CGG_protein_seq.txt:  38\n",
        "Num proteins in ../data/b1hData/newDatabase/6varpos/F3/low/protein_seq_025/CGT_protein_seq.txt:  1036\n",
        "Num proteins in ../data/b1hData/newDatabase/6varpos/F3/low/protein_seq_025/CTA_protein_seq.txt:  25\n",
        "Num proteins in ../data/b1hData/newDatabase/6varpos/F3/low/protein_seq_025/CTC_protein_seq.txt:  170\n",
        "Num proteins in ../data/b1hData/newDatabase/6varpos/F3/low/protein_seq_025/CTG_protein_seq.txt:  156\n",
        "Num proteins in ../data/b1hData/newDatabase/6varpos/F3/low/protein_seq_025/CTT_protein_seq.txt:  157"
       ]
      },
      {
       "output_type": "stream",
       "stream": "stdout",
       "text": [
        "\n",
        "Num proteins in ../data/b1hData/newDatabase/6varpos/F3/low/protein_seq_025/GAA_protein_seq.txt:  708\n",
        "Num proteins in ../data/b1hData/newDatabase/6varpos/F3/low/protein_seq_025/GAC_protein_seq.txt:  842"
       ]
      },
      {
       "output_type": "stream",
       "stream": "stdout",
       "text": [
        "\n",
        "Num proteins in ../data/b1hData/newDatabase/6varpos/F3/low/protein_seq_025/GAG_protein_seq.txt:  733\n",
        "Num proteins in ../data/b1hData/newDatabase/6varpos/F3/low/protein_seq_025/GAT_protein_seq.txt:  1111"
       ]
      },
      {
       "output_type": "stream",
       "stream": "stdout",
       "text": [
        "\n",
        "Num proteins in ../data/b1hData/newDatabase/6varpos/F3/low/protein_seq_025/GCA_protein_seq.txt:  385\n",
        "Num proteins in ../data/b1hData/newDatabase/6varpos/F3/low/protein_seq_025/GCC_protein_seq.txt:  395\n",
        "Num proteins in ../data/b1hData/newDatabase/6varpos/F3/low/protein_seq_025/GCG_protein_seq.txt:  844\n",
        "Num proteins in ../data/b1hData/newDatabase/6varpos/F3/low/protein_seq_025/GCT_protein_seq.txt:  463\n",
        "Num proteins in ../data/b1hData/newDatabase/6varpos/F3/low/protein_seq_025/GGA_protein_seq.txt:  388\n",
        "Num proteins in ../data/b1hData/newDatabase/6varpos/F3/low/protein_seq_025/GGC_protein_seq.txt:  455\n",
        "Num proteins in ../data/b1hData/newDatabase/6varpos/F3/low/protein_seq_025/GGG_protein_seq.txt:  726\n",
        "Num proteins in ../data/b1hData/newDatabase/6varpos/F3/low/protein_seq_025/GGT_protein_seq.txt:  1175\n",
        "Num proteins in ../data/b1hData/newDatabase/6varpos/F3/low/protein_seq_025/GTA_protein_seq.txt:  700"
       ]
      },
      {
       "output_type": "stream",
       "stream": "stdout",
       "text": [
        "\n",
        "Num proteins in ../data/b1hData/newDatabase/6varpos/F3/low/protein_seq_025/GTC_protein_seq.txt:  874\n",
        "Num proteins in ../data/b1hData/newDatabase/6varpos/F3/low/protein_seq_025/GTG_protein_seq.txt:  994\n",
        "Num proteins in ../data/b1hData/newDatabase/6varpos/F3/low/protein_seq_025/GTT_protein_seq.txt:  994\n",
        "Num proteins in ../data/b1hData/newDatabase/6varpos/F3/low/protein_seq_025/TAA_protein_seq.txt:  44\n",
        "Num proteins in ../data/b1hData/newDatabase/6varpos/F3/low/protein_seq_025/TAC_protein_seq.txt:  428\n",
        "Num proteins in ../data/b1hData/newDatabase/6varpos/F3/low/protein_seq_025/TAG_protein_seq.txt:  581\n",
        "Num proteins in ../data/b1hData/newDatabase/6varpos/F3/low/protein_seq_025/TAT_protein_seq.txt:  1092"
       ]
      },
      {
       "output_type": "stream",
       "stream": "stdout",
       "text": [
        "\n",
        "Num proteins in ../data/b1hData/newDatabase/6varpos/F3/low/protein_seq_025/TCA_protein_seq.txt:  2\n",
        "Num proteins in ../data/b1hData/newDatabase/6varpos/F3/low/protein_seq_025/TCC_protein_seq.txt:  531\n",
        "Num proteins in ../data/b1hData/newDatabase/6varpos/F3/low/protein_seq_025/TCG_protein_seq.txt:  420\n",
        "Num proteins in ../data/b1hData/newDatabase/6varpos/F3/low/protein_seq_025/TCT_protein_seq.txt:  529\n",
        "Num proteins in ../data/b1hData/newDatabase/6varpos/F3/low/protein_seq_025/TGA_protein_seq.txt:  1015\n",
        "Num proteins in ../data/b1hData/newDatabase/6varpos/F3/low/protein_seq_025/TGC_protein_seq.txt:  490\n",
        "Num proteins in ../data/b1hData/newDatabase/6varpos/F3/low/protein_seq_025/TGG_protein_seq.txt:  27\n",
        "Num proteins in ../data/b1hData/newDatabase/6varpos/F3/low/protein_seq_025/TGT_protein_seq.txt:  2\n",
        "Num proteins in ../data/b1hData/newDatabase/6varpos/F3/low/protein_seq_025/TTA_protein_seq.txt:  44\n",
        "Num proteins in ../data/b1hData/newDatabase/6varpos/F3/low/protein_seq_025/TTC_protein_seq.txt:  205\n",
        "Num proteins in ../data/b1hData/newDatabase/6varpos/F3/low/protein_seq_025/TTG_protein_seq.txt:  350\n",
        "Num proteins in ../data/b1hData/newDatabase/6varpos/F3/low/protein_seq_025/TTT_protein_seq.txt:  1118"
       ]
      },
      {
       "output_type": "stream",
       "stream": "stdout",
       "text": [
        "\n",
        "Total num protein/dna observations in all files:  33712\n",
        "Total num unique proteins in all files:  25588\n",
        "\n",
        "Num obs processed in csv to txt conversion:  33712"
       ]
      },
      {
       "output_type": "stream",
       "stream": "stdout",
       "text": [
        "\n",
        "\n"
       ]
      }
     ],
     "prompt_number": 2
    },
    {
     "cell_type": "code",
     "collapsed": false,
     "input": [
      "prefix = '../data/b1hData/newDatabase/5varpos/'\n",
      "numVarPos = 5\n",
      "fings = ['F2']\n",
      "strins = ['high', 'low']\n",
      "for fing in fings:\n",
      "    for strin in strins:\n",
      "        path = prefix + fing + '/' + strin + '/' + 'protein_seq_025/'\n",
      "        targetFiles2singleCSV(path, numVarPos, '_protein_seq.txt')\n",
      "        csv2txtFile(path, numVarPos)\n",
      "        print"
     ],
     "language": "python",
     "metadata": {},
     "outputs": [
      {
       "output_type": "stream",
       "stream": "stdout",
       "text": [
        "Invalid File Name: AAA_protein_seq.txt\n",
        "Invalid File Name: AAC_protein_seq.txt\n",
        "Num proteins in ../data/b1hData/newDatabase/5varpos/F2/high/protein_seq_025/AAG_protein_seq.txt:  351\n",
        "Invalid File Name: AAT_protein_seq.txt\n",
        "Invalid File Name: ACA_protein_seq.txt\n",
        "Invalid File Name: ACC_protein_seq.txt\n",
        "Invalid File Name: ACG_protein_seq.txt\n",
        "Invalid File Name: ACT_protein_seq.txt\n",
        "Invalid File Name: AGA_protein_seq.txt\n",
        "Invalid File Name: AGC_protein_seq.txt\n",
        "Invalid File Name: AGG_protein_seq.txt\n",
        "Invalid File Name: AGT_protein_seq.txt\n",
        "Invalid File Name: ATA_protein_seq.txt\n",
        "Invalid File Name: ATC_protein_seq.txt\n",
        "Invalid File Name: ATG_protein_seq.txt\n",
        "Invalid File Name: ATT_protein_seq.txt\n",
        "Num proteins in ../data/b1hData/newDatabase/5varpos/F2/high/protein_seq_025/CAA_protein_seq.txt:  64\n",
        "Num proteins in ../data/b1hData/newDatabase/5varpos/F2/high/protein_seq_025/CAC_protein_seq.txt:  173\n",
        "Num proteins in ../data/b1hData/newDatabase/5varpos/F2/high/protein_seq_025/CAG_protein_seq.txt:  272\n",
        "Num proteins in ../data/b1hData/newDatabase/5varpos/F2/high/protein_seq_025/CAT_protein_seq.txt:  147\n",
        "Invalid File Name: CCA_protein_seq.txt\n",
        "Invalid File Name: CCC_protein_seq.txt\n",
        "Invalid File Name: CCG_protein_seq.txt\n",
        "Invalid File Name: CCT_protein_seq.txt\n",
        "Invalid File Name: CGA_protein_seq.txt\n",
        "Invalid File Name: CGC_protein_seq.txt\n",
        "Invalid File Name: CGG_protein_seq.txt\n",
        "Invalid File Name: CGT_protein_seq.txt\n",
        "Invalid File Name: CTA_protein_seq.txt\n",
        "Invalid File Name: CTC_protein_seq.txt\n",
        "Invalid File Name: CTG_protein_seq.txt\n",
        "Invalid File Name: CTT_protein_seq.txt\n",
        "Invalid File Name: GAA_protein_seq.txt\n",
        "Invalid File Name: GAC_protein_seq.txt\n",
        "Num proteins in ../data/b1hData/newDatabase/5varpos/F2/high/protein_seq_025/GAG_protein_seq.txt:  608\n",
        "Invalid File Name: GAT_protein_seq.txt\n",
        "Invalid File Name: GCA_protein_seq.txt\n",
        "Invalid File Name: GCC_protein_seq.txt\n",
        "Invalid File Name: GCG_protein_seq.txt\n",
        "Invalid File Name: GCT_protein_seq.txt\n",
        "Num proteins in ../data/b1hData/newDatabase/5varpos/F2/high/protein_seq_025/GGA_protein_seq.txt:  81\n",
        "Invalid File Name: GGC_protein_seq.txt\n",
        "Num proteins in ../data/b1hData/newDatabase/5varpos/F2/high/protein_seq_025/GGG_protein_seq.txt:  459\n",
        "Invalid File Name: GGT_protein_seq.txt\n",
        "Invalid File Name: GTA_protein_seq.txt\n",
        "Invalid File Name: GTC_protein_seq.txt\n",
        "Invalid File Name: GTG_protein_seq.txt\n",
        "Invalid File Name: GTT_protein_seq.txt\n",
        "Invalid File Name: TAA_protein_seq.txt\n",
        "Invalid File Name: TAC_protein_seq.txt\n",
        "Num proteins in ../data/b1hData/newDatabase/5varpos/F2/high/protein_seq_025/TAG_protein_seq.txt:  146\n",
        "Invalid File Name: TAT_protein_seq.txt\n",
        "Invalid File Name: TCA_protein_seq.txt\n",
        "Invalid File Name: TCC_protein_seq.txt\n",
        "Invalid File Name: TCG_protein_seq.txt\n",
        "Invalid File Name: TCT_protein_seq.txt\n",
        "Invalid File Name: TGA_protein_seq.txt\n",
        "Invalid File Name: TGC_protein_seq.txt\n",
        "Invalid File Name: TGG_protein_seq.txt\n",
        "Invalid File Name: TGT_protein_seq.txt\n",
        "Invalid File Name: TTA_protein_seq.txt\n",
        "Invalid File Name: TTC_protein_seq.txt\n",
        "Invalid File Name: TTG_protein_seq.txt\n",
        "Invalid File Name: TTT_protein_seq.txt\n",
        "Total num protein/dna observations in all files:  2301\n",
        "Total num unique proteins in all files:  1525\n",
        "\n",
        "Num obs processed in csv to txt conversion:  2301\n",
        "\n",
        "Invalid File Name: AAA_protein_seq.txt"
       ]
      },
      {
       "output_type": "stream",
       "stream": "stdout",
       "text": [
        "\n",
        "Invalid File Name: AAC_protein_seq.txt\n",
        "Num proteins in ../data/b1hData/newDatabase/5varpos/F2/low/protein_seq_025/AAG_protein_seq.txt:  679\n",
        "Invalid File Name: AAT_protein_seq.txt\n",
        "Invalid File Name: ACA_protein_seq.txt\n",
        "Invalid File Name: ACC_protein_seq.txt\n",
        "Invalid File Name: ACG_protein_seq.txt\n",
        "Invalid File Name: ACT_protein_seq.txt\n",
        "Invalid File Name: AGA_protein_seq.txt\n",
        "Invalid File Name: AGC_protein_seq.txt\n",
        "Invalid File Name: AGG_protein_seq.txt\n",
        "Invalid File Name: AGT_protein_seq.txt\n",
        "Invalid File Name: ATA_protein_seq.txt\n",
        "Invalid File Name: ATC_protein_seq.txt\n",
        "Invalid File Name: ATG_protein_seq.txt\n",
        "Invalid File Name: ATT_protein_seq.txt\n",
        "Num proteins in ../data/b1hData/newDatabase/5varpos/F2/low/protein_seq_025/CAA_protein_seq.txt:  430\n",
        "Num proteins in ../data/b1hData/newDatabase/5varpos/F2/low/protein_seq_025/CAC_protein_seq.txt:  414\n",
        "Num proteins in ../data/b1hData/newDatabase/5varpos/F2/low/protein_seq_025/CAG_protein_seq.txt:  747\n",
        "Num proteins in ../data/b1hData/newDatabase/5varpos/F2/low/protein_seq_025/CAT_protein_seq.txt:  314\n",
        "Invalid File Name: CCA_protein_seq.txt\n",
        "Invalid File Name: CCC_protein_seq.txt\n",
        "Invalid File Name: CCG_protein_seq.txt\n",
        "Invalid File Name: CCT_protein_seq.txt\n",
        "Invalid File Name: CGA_protein_seq.txt\n",
        "Invalid File Name: CGC_protein_seq.txt\n",
        "Invalid File Name: CGG_protein_seq.txt\n",
        "Invalid File Name: CGT_protein_seq.txt\n",
        "Invalid File Name: CTA_protein_seq.txt\n",
        "Invalid File Name: CTC_protein_seq.txt\n",
        "Invalid File Name: CTG_protein_seq.txt\n",
        "Invalid File Name: CTT_protein_seq.txt\n",
        "Invalid File Name: GAA_protein_seq.txt\n",
        "Invalid File Name: GAC_protein_seq.txt\n",
        "Num proteins in ../data/b1hData/newDatabase/5varpos/F2/low/protein_seq_025/GAG_protein_seq.txt:  587\n",
        "Invalid File Name: GAT_protein_seq.txt\n",
        "Invalid File Name: GCA_protein_seq.txt\n",
        "Invalid File Name: GCC_protein_seq.txt\n",
        "Invalid File Name: GCG_protein_seq.txt\n",
        "Invalid File Name: GCT_protein_seq.txt\n",
        "Num proteins in ../data/b1hData/newDatabase/5varpos/F2/low/protein_seq_025/GGA_protein_seq.txt:  194\n",
        "Invalid File Name: GGC_protein_seq.txt\n",
        "Num proteins in ../data/b1hData/newDatabase/5varpos/F2/low/protein_seq_025/GGG_protein_seq.txt:  377\n",
        "Invalid File Name: GGT_protein_seq.txt\n",
        "Invalid File Name: GTA_protein_seq.txt\n",
        "Invalid File Name: GTC_protein_seq.txt\n",
        "Invalid File Name: GTG_protein_seq.txt\n",
        "Invalid File Name: GTT_protein_seq.txt\n",
        "Invalid File Name: TAA_protein_seq.txt\n",
        "Invalid File Name: TAC_protein_seq.txt\n",
        "Num proteins in ../data/b1hData/newDatabase/5varpos/F2/low/protein_seq_025/TAG_protein_seq.txt:  649"
       ]
      },
      {
       "output_type": "stream",
       "stream": "stdout",
       "text": [
        "\n",
        "Invalid File Name: TAT_protein_seq.txt\n",
        "Invalid File Name: TCA_protein_seq.txt\n",
        "Invalid File Name: TCC_protein_seq.txt\n",
        "Invalid File Name: TCG_protein_seq.txt\n",
        "Invalid File Name: TCT_protein_seq.txt\n",
        "Invalid File Name: TGA_protein_seq.txt\n",
        "Invalid File Name: TGC_protein_seq.txt\n",
        "Invalid File Name: TGG_protein_seq.txt\n",
        "Invalid File Name: TGT_protein_seq.txt\n",
        "Invalid File Name: TTA_protein_seq.txt\n",
        "Invalid File Name: TTC_protein_seq.txt\n",
        "Invalid File Name: TTG_protein_seq.txt\n",
        "Invalid File Name: TTT_protein_seq.txt\n",
        "Total num protein/dna observations in all files:  4391\n",
        "Total num unique proteins in all files:  2994\n",
        "\n",
        "Num obs processed in csv to txt conversion:  4391\n",
        "\n"
       ]
      }
     ],
     "prompt_number": 3
    }
   ],
   "metadata": {}
  }
 ]
}