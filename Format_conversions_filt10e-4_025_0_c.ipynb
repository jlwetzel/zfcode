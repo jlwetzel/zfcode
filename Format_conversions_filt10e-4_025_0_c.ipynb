{
 "metadata": {
  "name": "Format_conversions_filt10e-4_025_0_c"
 },
 "nbformat": 3,
 "nbformat_minor": 0,
 "worksheets": [
  {
   "cells": [
    {
     "cell_type": "code",
     "collapsed": false,
     "input": [
      "from changeFormats import targetFiles2singleCSV, csv2txtFile\n",
      "\n"
     ],
     "language": "python",
     "metadata": {},
     "outputs": [],
     "prompt_number": 1
    },
    {
     "cell_type": "code",
     "collapsed": false,
     "input": [
      "prefix = '../data/b1hData/antonProcessed/'\n",
      "numVarPos = 6\n",
      "interfaces = {}\n",
      "fings = ['F1', 'F2', 'F3']\n",
      "strins = ['high', 'low']\n",
      "for fing in fings:\n",
      "    for strin in strins:\n",
      "        path = prefix + fing + '/' + strin + '/' + 'filt_10e-4_025_0_c/'\n",
      "        interfaces[fing,strin] = targetFiles2singleCSV(path, numVarPos, '.txt', style = 'verbose')\n",
      "        csv2txtFile(path, numVarPos, style = 'verbose')\n",
      "        print"
     ],
     "language": "python",
     "metadata": {},
     "outputs": [
      {
       "output_type": "stream",
       "stream": "stdout",
       "text": [
        "Here\n",
        "Num proteins in ../data/b1hData/antonProcessed/F1/high/filt_10e-4_025_0_c/AAA.txt:  43\n",
        "Num proteins in ../data/b1hData/antonProcessed/F1/high/filt_10e-4_025_0_c/AAC.txt:  217\n",
        "Num proteins in ../data/b1hData/antonProcessed/F1/high/filt_10e-4_025_0_c/AAG.txt:  182\n",
        "Num proteins in ../data/b1hData/antonProcessed/F1/high/filt_10e-4_025_0_c/AAT.txt:  54\n",
        "Num proteins in ../data/b1hData/antonProcessed/F1/high/filt_10e-4_025_0_c/ACA.txt:  461\n",
        "Num proteins in ../data/b1hData/antonProcessed/F1/high/filt_10e-4_025_0_c/ACC.txt:  27\n",
        "Num proteins in ../data/b1hData/antonProcessed/F1/high/filt_10e-4_025_0_c/ACG.txt:  104\n",
        "Num proteins in ../data/b1hData/antonProcessed/F1/high/filt_10e-4_025_0_c/ACT.txt:  339\n",
        "Num proteins in ../data/b1hData/antonProcessed/F1/high/filt_10e-4_025_0_c/AGA.txt:  19\n",
        "Num proteins in ../data/b1hData/antonProcessed/F1/high/filt_10e-4_025_0_c/AGC.txt:  79\n",
        "Num proteins in ../data/b1hData/antonProcessed/F1/high/filt_10e-4_025_0_c/AGG.txt:  282\n",
        "Num proteins in ../data/b1hData/antonProcessed/F1/high/filt_10e-4_025_0_c/AGT.txt:  603\n",
        "Num proteins in ../data/b1hData/antonProcessed/F1/high/filt_10e-4_025_0_c/ATA.txt:  207\n",
        "Num proteins in ../data/b1hData/antonProcessed/F1/high/filt_10e-4_025_0_c/ATC.txt:  382\n",
        "Num proteins in ../data/b1hData/antonProcessed/F1/high/filt_10e-4_025_0_c/ATG.txt:  442\n",
        "Num proteins in ../data/b1hData/antonProcessed/F1/high/filt_10e-4_025_0_c/ATT.txt:  42\n",
        "Num proteins in ../data/b1hData/antonProcessed/F1/high/filt_10e-4_025_0_c/CAA.txt:  257\n",
        "Num proteins in ../data/b1hData/antonProcessed/F1/high/filt_10e-4_025_0_c/CAC.txt:  80\n",
        "Num proteins in ../data/b1hData/antonProcessed/F1/high/filt_10e-4_025_0_c/CAG.txt:  238\n",
        "Num proteins in ../data/b1hData/antonProcessed/F1/high/filt_10e-4_025_0_c/CAT.txt:  306\n",
        "Num proteins in ../data/b1hData/antonProcessed/F1/high/filt_10e-4_025_0_c/CCA.txt:  902"
       ]
      },
      {
       "output_type": "stream",
       "stream": "stdout",
       "text": [
        "\n",
        "Num proteins in ../data/b1hData/antonProcessed/F1/high/filt_10e-4_025_0_c/CCC.txt:  379\n",
        "Num proteins in ../data/b1hData/antonProcessed/F1/high/filt_10e-4_025_0_c/CCG.txt:  280\n",
        "Num proteins in ../data/b1hData/antonProcessed/F1/high/filt_10e-4_025_0_c/CCT.txt:  492\n",
        "Num proteins in ../data/b1hData/antonProcessed/F1/high/filt_10e-4_025_0_c/CGA.txt:  174\n",
        "Num proteins in ../data/b1hData/antonProcessed/F1/high/filt_10e-4_025_0_c/CGC.txt:  297\n",
        "Num proteins in ../data/b1hData/antonProcessed/F1/high/filt_10e-4_025_0_c/CGG.txt:  727\n",
        "Num proteins in ../data/b1hData/antonProcessed/F1/high/filt_10e-4_025_0_c/CGT.txt:  41\n",
        "Num proteins in ../data/b1hData/antonProcessed/F1/high/filt_10e-4_025_0_c/CTA.txt:  13\n",
        "Num proteins in ../data/b1hData/antonProcessed/F1/high/filt_10e-4_025_0_c/CTC.txt:  43\n",
        "Num proteins in ../data/b1hData/antonProcessed/F1/high/filt_10e-4_025_0_c/CTG.txt:  119\n",
        "Num proteins in ../data/b1hData/antonProcessed/F1/high/filt_10e-4_025_0_c/CTT.txt:  114\n",
        "Num proteins in ../data/b1hData/antonProcessed/F1/high/filt_10e-4_025_0_c/GAA.txt:  370\n",
        "Num proteins in ../data/b1hData/antonProcessed/F1/high/filt_10e-4_025_0_c/GAC.txt:  273\n",
        "Num proteins in ../data/b1hData/antonProcessed/F1/high/filt_10e-4_025_0_c/GAG.txt:  427\n",
        "Num proteins in ../data/b1hData/antonProcessed/F1/high/filt_10e-4_025_0_c/GAT.txt:  357\n",
        "Num proteins in ../data/b1hData/antonProcessed/F1/high/filt_10e-4_025_0_c/GCA.txt:  547\n",
        "Num proteins in ../data/b1hData/antonProcessed/F1/high/filt_10e-4_025_0_c/GCC.txt:  188"
       ]
      },
      {
       "output_type": "stream",
       "stream": "stdout",
       "text": [
        "\n",
        "Num proteins in ../data/b1hData/antonProcessed/F1/high/filt_10e-4_025_0_c/GCG.txt:  228\n",
        "Num proteins in ../data/b1hData/antonProcessed/F1/high/filt_10e-4_025_0_c/GCT.txt:  532\n",
        "Num proteins in ../data/b1hData/antonProcessed/F1/high/filt_10e-4_025_0_c/GGA.txt:  61\n",
        "Num proteins in ../data/b1hData/antonProcessed/F1/high/filt_10e-4_025_0_c/GGC.txt:  165\n",
        "Num proteins in ../data/b1hData/antonProcessed/F1/high/filt_10e-4_025_0_c/GGG.txt:  518\n",
        "Num proteins in ../data/b1hData/antonProcessed/F1/high/filt_10e-4_025_0_c/GGT.txt:  578\n",
        "Num proteins in ../data/b1hData/antonProcessed/F1/high/filt_10e-4_025_0_c/GTA.txt:  96\n",
        "Num proteins in ../data/b1hData/antonProcessed/F1/high/filt_10e-4_025_0_c/GTC.txt:  105\n",
        "Num proteins in ../data/b1hData/antonProcessed/F1/high/filt_10e-4_025_0_c/GTG.txt:  599\n",
        "Num proteins in ../data/b1hData/antonProcessed/F1/high/filt_10e-4_025_0_c/GTT.txt:  119\n",
        "Num proteins in ../data/b1hData/antonProcessed/F1/high/filt_10e-4_025_0_c/TAA.txt:  41\n",
        "Num proteins in ../data/b1hData/antonProcessed/F1/high/filt_10e-4_025_0_c/TAC.txt:  28\n",
        "Num proteins in ../data/b1hData/antonProcessed/F1/high/filt_10e-4_025_0_c/TAG.txt:  47\n",
        "Num proteins in ../data/b1hData/antonProcessed/F1/high/filt_10e-4_025_0_c/TAT.txt:  52\n",
        "Num proteins in ../data/b1hData/antonProcessed/F1/high/filt_10e-4_025_0_c/TCA.txt:  109\n",
        "Num proteins in ../data/b1hData/antonProcessed/F1/high/filt_10e-4_025_0_c/TCC.txt:  85\n",
        "Num proteins in ../data/b1hData/antonProcessed/F1/high/filt_10e-4_025_0_c/TCG.txt:  134\n",
        "Num proteins in ../data/b1hData/antonProcessed/F1/high/filt_10e-4_025_0_c/TCT.txt:  67\n",
        "Num proteins in ../data/b1hData/antonProcessed/F1/high/filt_10e-4_025_0_c/TGA.txt:  40\n",
        "Num proteins in ../data/b1hData/antonProcessed/F1/high/filt_10e-4_025_0_c/TGC.txt:  111\n",
        "Num proteins in ../data/b1hData/antonProcessed/F1/high/filt_10e-4_025_0_c/TGG.txt:  356\n",
        "Num proteins in ../data/b1hData/antonProcessed/F1/high/filt_10e-4_025_0_c/TGT.txt:  418\n",
        "Num proteins in ../data/b1hData/antonProcessed/F1/high/filt_10e-4_025_0_c/TTA.txt:  81"
       ]
      },
      {
       "output_type": "stream",
       "stream": "stdout",
       "text": [
        "\n",
        "Num proteins in ../data/b1hData/antonProcessed/F1/high/filt_10e-4_025_0_c/TTC.txt:  37\n",
        "Num proteins in ../data/b1hData/antonProcessed/F1/high/filt_10e-4_025_0_c/TTG.txt:  63\n",
        "Num proteins in ../data/b1hData/antonProcessed/F1/high/filt_10e-4_025_0_c/TTT.txt:  24\n",
        "Total num protein/dna observations in all files:  14801\n",
        "Total num unique proteins in all files:  10186\n",
        "\n",
        "Num obs processed in csv to txt conversion:  14801"
       ]
      },
      {
       "output_type": "stream",
       "stream": "stdout",
       "text": [
        "\n",
        "\n",
        "Here\n",
        "Num proteins in ../data/b1hData/antonProcessed/F1/low/filt_10e-4_025_0_c/AAA.txt:  51\n",
        "Num proteins in ../data/b1hData/antonProcessed/F1/low/filt_10e-4_025_0_c/AAC.txt:  214\n",
        "Num proteins in ../data/b1hData/antonProcessed/F1/low/filt_10e-4_025_0_c/AAG.txt:  1761\n",
        "Num proteins in ../data/b1hData/antonProcessed/F1/low/filt_10e-4_025_0_c/AAT.txt:  79\n",
        "Num proteins in ../data/b1hData/antonProcessed/F1/low/filt_10e-4_025_0_c/ACA.txt:  1115\n",
        "Num proteins in ../data/b1hData/antonProcessed/F1/low/filt_10e-4_025_0_c/ACC.txt:  118\n",
        "Num proteins in ../data/b1hData/antonProcessed/F1/low/filt_10e-4_025_0_c/ACG.txt:  2083"
       ]
      },
      {
       "output_type": "stream",
       "stream": "stdout",
       "text": [
        "\n",
        "Num proteins in ../data/b1hData/antonProcessed/F1/low/filt_10e-4_025_0_c/ACT.txt:  341\n",
        "Num proteins in ../data/b1hData/antonProcessed/F1/low/filt_10e-4_025_0_c/AGA.txt:  169\n",
        "Num proteins in ../data/b1hData/antonProcessed/F1/low/filt_10e-4_025_0_c/AGC.txt:  671\n",
        "Num proteins in ../data/b1hData/antonProcessed/F1/low/filt_10e-4_025_0_c/AGG.txt:  606\n",
        "Num proteins in ../data/b1hData/antonProcessed/F1/low/filt_10e-4_025_0_c/AGT.txt:  1231\n",
        "Num proteins in ../data/b1hData/antonProcessed/F1/low/filt_10e-4_025_0_c/ATA.txt:  723\n",
        "Num proteins in ../data/b1hData/antonProcessed/F1/low/filt_10e-4_025_0_c/ATC.txt:  589\n",
        "Num proteins in ../data/b1hData/antonProcessed/F1/low/filt_10e-4_025_0_c/ATG.txt:  901"
       ]
      },
      {
       "output_type": "stream",
       "stream": "stdout",
       "text": [
        "\n",
        "Num proteins in ../data/b1hData/antonProcessed/F1/low/filt_10e-4_025_0_c/ATT.txt:  184\n",
        "Num proteins in ../data/b1hData/antonProcessed/F1/low/filt_10e-4_025_0_c/CAA.txt:  743\n",
        "Num proteins in ../data/b1hData/antonProcessed/F1/low/filt_10e-4_025_0_c/CAC.txt:  185\n",
        "Num proteins in ../data/b1hData/antonProcessed/F1/low/filt_10e-4_025_0_c/CAG.txt:  556\n",
        "Num proteins in ../data/b1hData/antonProcessed/F1/low/filt_10e-4_025_0_c/CAT.txt:  538\n",
        "Num proteins in ../data/b1hData/antonProcessed/F1/low/filt_10e-4_025_0_c/CCA.txt:  1526\n",
        "Num proteins in ../data/b1hData/antonProcessed/F1/low/filt_10e-4_025_0_c/CCC.txt:  800"
       ]
      },
      {
       "output_type": "stream",
       "stream": "stdout",
       "text": [
        "\n",
        "Num proteins in ../data/b1hData/antonProcessed/F1/low/filt_10e-4_025_0_c/CCG.txt:  925\n",
        "Num proteins in ../data/b1hData/antonProcessed/F1/low/filt_10e-4_025_0_c/CCT.txt:  1269\n",
        "Num proteins in ../data/b1hData/antonProcessed/F1/low/filt_10e-4_025_0_c/CGA.txt:  1227\n",
        "Num proteins in ../data/b1hData/antonProcessed/F1/low/filt_10e-4_025_0_c/CGC.txt:  800\n",
        "Num proteins in ../data/b1hData/antonProcessed/F1/low/filt_10e-4_025_0_c/CGG.txt:  1242"
       ]
      },
      {
       "output_type": "stream",
       "stream": "stdout",
       "text": [
        "\n",
        "Num proteins in ../data/b1hData/antonProcessed/F1/low/filt_10e-4_025_0_c/CGT.txt:  72\n",
        "Num proteins in ../data/b1hData/antonProcessed/F1/low/filt_10e-4_025_0_c/CTA.txt:  89\n",
        "Num proteins in ../data/b1hData/antonProcessed/F1/low/filt_10e-4_025_0_c/CTC.txt:  299\n",
        "Num proteins in ../data/b1hData/antonProcessed/F1/low/filt_10e-4_025_0_c/CTG.txt:  603\n",
        "Num proteins in ../data/b1hData/antonProcessed/F1/low/filt_10e-4_025_0_c/CTT.txt:  449\n",
        "Num proteins in ../data/b1hData/antonProcessed/F1/low/filt_10e-4_025_0_c/GAA.txt:  521\n",
        "Num proteins in ../data/b1hData/antonProcessed/F1/low/filt_10e-4_025_0_c/GAC.txt:  768"
       ]
      },
      {
       "output_type": "stream",
       "stream": "stdout",
       "text": [
        "\n",
        "Num proteins in ../data/b1hData/antonProcessed/F1/low/filt_10e-4_025_0_c/GAG.txt:  1040\n",
        "Num proteins in ../data/b1hData/antonProcessed/F1/low/filt_10e-4_025_0_c/GAT.txt:  945\n",
        "Num proteins in ../data/b1hData/antonProcessed/F1/low/filt_10e-4_025_0_c/GCA.txt:  1316\n",
        "Num proteins in ../data/b1hData/antonProcessed/F1/low/filt_10e-4_025_0_c/GCC.txt:  233\n",
        "Num proteins in ../data/b1hData/antonProcessed/F1/low/filt_10e-4_025_0_c/GCG.txt:  867\n",
        "Num proteins in ../data/b1hData/antonProcessed/F1/low/filt_10e-4_025_0_c/GCT.txt:  1231"
       ]
      },
      {
       "output_type": "stream",
       "stream": "stdout",
       "text": [
        "\n",
        "Num proteins in ../data/b1hData/antonProcessed/F1/low/filt_10e-4_025_0_c/GGA.txt:  178\n",
        "Num proteins in ../data/b1hData/antonProcessed/F1/low/filt_10e-4_025_0_c/GGC.txt:  323\n",
        "Num proteins in ../data/b1hData/antonProcessed/F1/low/filt_10e-4_025_0_c/GGG.txt:  729\n",
        "Num proteins in ../data/b1hData/antonProcessed/F1/low/filt_10e-4_025_0_c/GGT.txt:  1203\n",
        "Num proteins in ../data/b1hData/antonProcessed/F1/low/filt_10e-4_025_0_c/GTA.txt:  471\n",
        "Num proteins in ../data/b1hData/antonProcessed/F1/low/filt_10e-4_025_0_c/GTC.txt:  427\n",
        "Num proteins in ../data/b1hData/antonProcessed/F1/low/filt_10e-4_025_0_c/GTG.txt:  976\n",
        "Num proteins in ../data/b1hData/antonProcessed/F1/low/filt_10e-4_025_0_c/GTT.txt:  547"
       ]
      },
      {
       "output_type": "stream",
       "stream": "stdout",
       "text": [
        "\n",
        "Num proteins in ../data/b1hData/antonProcessed/F1/low/filt_10e-4_025_0_c/TAA.txt:  168\n",
        "Num proteins in ../data/b1hData/antonProcessed/F1/low/filt_10e-4_025_0_c/TAC.txt:  106\n",
        "Num proteins in ../data/b1hData/antonProcessed/F1/low/filt_10e-4_025_0_c/TAG.txt:  93\n",
        "Num proteins in ../data/b1hData/antonProcessed/F1/low/filt_10e-4_025_0_c/TAT.txt:  26\n",
        "Num proteins in ../data/b1hData/antonProcessed/F1/low/filt_10e-4_025_0_c/TCA.txt:  521\n",
        "Num proteins in ../data/b1hData/antonProcessed/F1/low/filt_10e-4_025_0_c/TCC.txt:  92\n",
        "Num proteins in ../data/b1hData/antonProcessed/F1/low/filt_10e-4_025_0_c/TCG.txt:  193\n",
        "Num proteins in ../data/b1hData/antonProcessed/F1/low/filt_10e-4_025_0_c/TCT.txt:  192\n",
        "Num proteins in ../data/b1hData/antonProcessed/F1/low/filt_10e-4_025_0_c/TGA.txt:  126\n",
        "Num proteins in ../data/b1hData/antonProcessed/F1/low/filt_10e-4_025_0_c/TGC.txt:  476\n",
        "Num proteins in ../data/b1hData/antonProcessed/F1/low/filt_10e-4_025_0_c/TGG.txt:  585\n",
        "Num proteins in ../data/b1hData/antonProcessed/F1/low/filt_10e-4_025_0_c/TGT.txt:  1433\n",
        "Num proteins in ../data/b1hData/antonProcessed/F1/low/filt_10e-4_025_0_c/TTA.txt:  490\n",
        "Num proteins in ../data/b1hData/antonProcessed/F1/low/filt_10e-4_025_0_c/TTC.txt:  56\n",
        "Num proteins in ../data/b1hData/antonProcessed/F1/low/filt_10e-4_025_0_c/TTG.txt:  160\n",
        "Num proteins in ../data/b1hData/antonProcessed/F1/low/filt_10e-4_025_0_c/TTT.txt:  206\n",
        "Total num protein/dna observations in all files:  38857\n",
        "Total num unique proteins in all files:  24102\n",
        "\n",
        "Num obs processed in csv to txt conversion:  38857"
       ]
      },
      {
       "output_type": "stream",
       "stream": "stdout",
       "text": [
        "\n",
        "\n",
        "Here\n",
        "Num proteins in ../data/b1hData/antonProcessed/F2/high/filt_10e-4_025_0_c/AAA.txt:  178\n",
        "Num proteins in ../data/b1hData/antonProcessed/F2/high/filt_10e-4_025_0_c/AAC.txt:  962\n",
        "Num proteins in ../data/b1hData/antonProcessed/F2/high/filt_10e-4_025_0_c/AAG.txt:  335\n",
        "Num proteins in ../data/b1hData/antonProcessed/F2/high/filt_10e-4_025_0_c/AAT.txt:  223\n",
        "Num proteins in ../data/b1hData/antonProcessed/F2/high/filt_10e-4_025_0_c/ACA.txt:  727\n",
        "Num proteins in ../data/b1hData/antonProcessed/F2/high/filt_10e-4_025_0_c/ACC.txt:  335\n",
        "Num proteins in ../data/b1hData/antonProcessed/F2/high/filt_10e-4_025_0_c/ACG.txt:  747\n",
        "Num proteins in ../data/b1hData/antonProcessed/F2/high/filt_10e-4_025_0_c/ACT.txt:  1684\n",
        "Num proteins in ../data/b1hData/antonProcessed/F2/high/filt_10e-4_025_0_c/AGA.txt:  71\n",
        "Num proteins in ../data/b1hData/antonProcessed/F2/high/filt_10e-4_025_0_c/AGC.txt:  239"
       ]
      },
      {
       "output_type": "stream",
       "stream": "stdout",
       "text": [
        "\n",
        "Num proteins in ../data/b1hData/antonProcessed/F2/high/filt_10e-4_025_0_c/AGG.txt:  604\n",
        "Num proteins in ../data/b1hData/antonProcessed/F2/high/filt_10e-4_025_0_c/AGT.txt:  1036\n",
        "Num proteins in ../data/b1hData/antonProcessed/F2/high/filt_10e-4_025_0_c/ATA.txt:  95\n",
        "Num proteins in ../data/b1hData/antonProcessed/F2/high/filt_10e-4_025_0_c/ATC.txt:  588\n",
        "Num proteins in ../data/b1hData/antonProcessed/F2/high/filt_10e-4_025_0_c/ATG.txt:  215\n",
        "Num proteins in ../data/b1hData/antonProcessed/F2/high/filt_10e-4_025_0_c/ATT.txt:  537\n",
        "Num proteins in ../data/b1hData/antonProcessed/F2/high/filt_10e-4_025_0_c/CAA.txt:  11\n",
        "Num proteins in ../data/b1hData/antonProcessed/F2/high/filt_10e-4_025_0_c/CAC.txt:  422\n",
        "Num proteins in ../data/b1hData/antonProcessed/F2/high/filt_10e-4_025_0_c/CAG.txt:  762\n",
        "Num proteins in ../data/b1hData/antonProcessed/F2/high/filt_10e-4_025_0_c/CAT.txt:  550\n",
        "Num proteins in ../data/b1hData/antonProcessed/F2/high/filt_10e-4_025_0_c/CCA.txt:  78\n",
        "Num proteins in ../data/b1hData/antonProcessed/F2/high/filt_10e-4_025_0_c/CCC.txt:  135\n",
        "Num proteins in ../data/b1hData/antonProcessed/F2/high/filt_10e-4_025_0_c/CCG.txt:  48\n",
        "Num proteins in ../data/b1hData/antonProcessed/F2/high/filt_10e-4_025_0_c/CCT.txt:  170\n",
        "Num proteins in ../data/b1hData/antonProcessed/F2/high/filt_10e-4_025_0_c/CGA.txt:  32\n",
        "Num proteins in ../data/b1hData/antonProcessed/F2/high/filt_10e-4_025_0_c/CGC.txt:  97\n",
        "Num proteins in ../data/b1hData/antonProcessed/F2/high/filt_10e-4_025_0_c/CGG.txt:  1148"
       ]
      },
      {
       "output_type": "stream",
       "stream": "stdout",
       "text": [
        "\n",
        "Num proteins in ../data/b1hData/antonProcessed/F2/high/filt_10e-4_025_0_c/CGT.txt:  604\n",
        "Num proteins in ../data/b1hData/antonProcessed/F2/high/filt_10e-4_025_0_c/CTA.txt:  125\n",
        "Num proteins in ../data/b1hData/antonProcessed/F2/high/filt_10e-4_025_0_c/CTC.txt:  50\n",
        "Num proteins in ../data/b1hData/antonProcessed/F2/high/filt_10e-4_025_0_c/CTG.txt:  293\n",
        "Num proteins in ../data/b1hData/antonProcessed/F2/high/filt_10e-4_025_0_c/CTT.txt:  316\n",
        "Num proteins in ../data/b1hData/antonProcessed/F2/high/filt_10e-4_025_0_c/GAA.txt:  294\n",
        "Num proteins in ../data/b1hData/antonProcessed/F2/high/filt_10e-4_025_0_c/GAC.txt:  840\n",
        "Num proteins in ../data/b1hData/antonProcessed/F2/high/filt_10e-4_025_0_c/GAG.txt:  1030\n",
        "Num proteins in ../data/b1hData/antonProcessed/F2/high/filt_10e-4_025_0_c/GAT.txt:  507\n",
        "Num proteins in ../data/b1hData/antonProcessed/F2/high/filt_10e-4_025_0_c/GCA.txt:  123\n",
        "Num proteins in ../data/b1hData/antonProcessed/F2/high/filt_10e-4_025_0_c/GCC.txt:  529\n",
        "Num proteins in ../data/b1hData/antonProcessed/F2/high/filt_10e-4_025_0_c/GCG.txt:  699"
       ]
      },
      {
       "output_type": "stream",
       "stream": "stdout",
       "text": [
        "\n",
        "Num proteins in ../data/b1hData/antonProcessed/F2/high/filt_10e-4_025_0_c/GCT.txt:  1073\n",
        "Num proteins in ../data/b1hData/antonProcessed/F2/high/filt_10e-4_025_0_c/GGA.txt:  432\n",
        "Num proteins in ../data/b1hData/antonProcessed/F2/high/filt_10e-4_025_0_c/GGC.txt:  219\n",
        "Num proteins in ../data/b1hData/antonProcessed/F2/high/filt_10e-4_025_0_c/GGG.txt:  1045\n",
        "Num proteins in ../data/b1hData/antonProcessed/F2/high/filt_10e-4_025_0_c/GGT.txt:  804\n",
        "Num proteins in ../data/b1hData/antonProcessed/F2/high/filt_10e-4_025_0_c/GTA.txt:  606\n",
        "Num proteins in ../data/b1hData/antonProcessed/F2/high/filt_10e-4_025_0_c/GTC.txt:  427"
       ]
      },
      {
       "output_type": "stream",
       "stream": "stdout",
       "text": [
        "\n",
        "Num proteins in ../data/b1hData/antonProcessed/F2/high/filt_10e-4_025_0_c/GTG.txt:  865\n",
        "Num proteins in ../data/b1hData/antonProcessed/F2/high/filt_10e-4_025_0_c/GTT.txt:  704\n",
        "Num proteins in ../data/b1hData/antonProcessed/F2/high/filt_10e-4_025_0_c/TAA.txt:  10\n",
        "Num proteins in ../data/b1hData/antonProcessed/F2/high/filt_10e-4_025_0_c/TAC.txt:  127\n",
        "Num proteins in ../data/b1hData/antonProcessed/F2/high/filt_10e-4_025_0_c/TAG.txt:  164\n",
        "Num proteins in ../data/b1hData/antonProcessed/F2/high/filt_10e-4_025_0_c/TAT.txt:  335\n",
        "Num proteins in ../data/b1hData/antonProcessed/F2/high/filt_10e-4_025_0_c/TCA.txt:  17\n",
        "Num proteins in ../data/b1hData/antonProcessed/F2/high/filt_10e-4_025_0_c/TCC.txt:  189\n",
        "Num proteins in ../data/b1hData/antonProcessed/F2/high/filt_10e-4_025_0_c/TCG.txt:  80\n",
        "Num proteins in ../data/b1hData/antonProcessed/F2/high/filt_10e-4_025_0_c/TCT.txt:  187\n",
        "Num proteins in ../data/b1hData/antonProcessed/F2/high/filt_10e-4_025_0_c/TGA.txt:  123\n",
        "Num proteins in ../data/b1hData/antonProcessed/F2/high/filt_10e-4_025_0_c/TGC.txt:  24\n",
        "Num proteins in ../data/b1hData/antonProcessed/F2/high/filt_10e-4_025_0_c/TGG.txt:  1260\n",
        "Num proteins in ../data/b1hData/antonProcessed/F2/high/filt_10e-4_025_0_c/TGT.txt:  1461"
       ]
      },
      {
       "output_type": "stream",
       "stream": "stdout",
       "text": [
        "\n",
        "Num proteins in ../data/b1hData/antonProcessed/F2/high/filt_10e-4_025_0_c/TTA.txt:  69\n",
        "Num proteins in ../data/b1hData/antonProcessed/F2/high/filt_10e-4_025_0_c/TTC.txt:  66\n",
        "Num proteins in ../data/b1hData/antonProcessed/F2/high/filt_10e-4_025_0_c/TTG.txt:  220\n",
        "Num proteins in ../data/b1hData/antonProcessed/F2/high/filt_10e-4_025_0_c/TTT.txt:  40\n",
        "Total num protein/dna observations in all files:  27986\n",
        "Total num unique proteins in all files:  20847\n",
        "\n",
        "Num obs processed in csv to txt conversion:  27986"
       ]
      },
      {
       "output_type": "stream",
       "stream": "stdout",
       "text": [
        "\n",
        "\n",
        "Here\n",
        "Num proteins in ../data/b1hData/antonProcessed/F2/low/filt_10e-4_025_0_c/AAA.txt:  534\n",
        "Num proteins in ../data/b1hData/antonProcessed/F2/low/filt_10e-4_025_0_c/AAC.txt:  2273\n",
        "Num proteins in ../data/b1hData/antonProcessed/F2/low/filt_10e-4_025_0_c/AAG.txt:  2072\n",
        "Num proteins in ../data/b1hData/antonProcessed/F2/low/filt_10e-4_025_0_c/AAT.txt:  1670"
       ]
      },
      {
       "output_type": "stream",
       "stream": "stdout",
       "text": [
        "\n",
        "Num proteins in ../data/b1hData/antonProcessed/F2/low/filt_10e-4_025_0_c/ACA.txt:  1758\n",
        "Num proteins in ../data/b1hData/antonProcessed/F2/low/filt_10e-4_025_0_c/ACC.txt:  986\n",
        "Num proteins in ../data/b1hData/antonProcessed/F2/low/filt_10e-4_025_0_c/ACG.txt:  2006\n",
        "Num proteins in ../data/b1hData/antonProcessed/F2/low/filt_10e-4_025_0_c/ACT.txt:  2741"
       ]
      },
      {
       "output_type": "stream",
       "stream": "stdout",
       "text": [
        "\n",
        "Num proteins in ../data/b1hData/antonProcessed/F2/low/filt_10e-4_025_0_c/AGA.txt:  551\n",
        "Num proteins in ../data/b1hData/antonProcessed/F2/low/filt_10e-4_025_0_c/AGC.txt:  829\n",
        "Num proteins in ../data/b1hData/antonProcessed/F2/low/filt_10e-4_025_0_c/AGG.txt:  2254\n",
        "Num proteins in ../data/b1hData/antonProcessed/F2/low/filt_10e-4_025_0_c/AGT.txt:  2254"
       ]
      },
      {
       "output_type": "stream",
       "stream": "stdout",
       "text": [
        "\n",
        "Num proteins in ../data/b1hData/antonProcessed/F2/low/filt_10e-4_025_0_c/ATA.txt:  206\n",
        "Num proteins in ../data/b1hData/antonProcessed/F2/low/filt_10e-4_025_0_c/ATC.txt:  1573\n",
        "Num proteins in ../data/b1hData/antonProcessed/F2/low/filt_10e-4_025_0_c/ATG.txt:  1526\n",
        "Num proteins in ../data/b1hData/antonProcessed/F2/low/filt_10e-4_025_0_c/ATT.txt:  1798"
       ]
      },
      {
       "output_type": "stream",
       "stream": "stdout",
       "text": [
        "\n",
        "Num proteins in ../data/b1hData/antonProcessed/F2/low/filt_10e-4_025_0_c/CAA.txt:  300\n",
        "Num proteins in ../data/b1hData/antonProcessed/F2/low/filt_10e-4_025_0_c/CAC.txt:  1853\n",
        "Num proteins in ../data/b1hData/antonProcessed/F2/low/filt_10e-4_025_0_c/CAG.txt:  2303\n",
        "Num proteins in ../data/b1hData/antonProcessed/F2/low/filt_10e-4_025_0_c/CAT.txt:  1727"
       ]
      },
      {
       "output_type": "stream",
       "stream": "stdout",
       "text": [
        "\n",
        "Num proteins in ../data/b1hData/antonProcessed/F2/low/filt_10e-4_025_0_c/CCA.txt:  488\n",
        "Num proteins in ../data/b1hData/antonProcessed/F2/low/filt_10e-4_025_0_c/CCC.txt:  492\n",
        "Num proteins in ../data/b1hData/antonProcessed/F2/low/filt_10e-4_025_0_c/CCG.txt:  693\n",
        "Num proteins in ../data/b1hData/antonProcessed/F2/low/filt_10e-4_025_0_c/CCT.txt:  795\n",
        "Num proteins in ../data/b1hData/antonProcessed/F2/low/filt_10e-4_025_0_c/CGA.txt:  311\n",
        "Num proteins in ../data/b1hData/antonProcessed/F2/low/filt_10e-4_025_0_c/CGC.txt:  409\n",
        "Num proteins in ../data/b1hData/antonProcessed/F2/low/filt_10e-4_025_0_c/CGG.txt:  2293"
       ]
      },
      {
       "output_type": "stream",
       "stream": "stdout",
       "text": [
        "\n",
        "Num proteins in ../data/b1hData/antonProcessed/F2/low/filt_10e-4_025_0_c/CGT.txt:  1887\n",
        "Num proteins in ../data/b1hData/antonProcessed/F2/low/filt_10e-4_025_0_c/CTA.txt:  257\n",
        "Num proteins in ../data/b1hData/antonProcessed/F2/low/filt_10e-4_025_0_c/CTC.txt:  287\n",
        "Num proteins in ../data/b1hData/antonProcessed/F2/low/filt_10e-4_025_0_c/CTG.txt:  618\n",
        "Num proteins in ../data/b1hData/antonProcessed/F2/low/filt_10e-4_025_0_c/CTT.txt:  557\n",
        "Num proteins in ../data/b1hData/antonProcessed/F2/low/filt_10e-4_025_0_c/GAA.txt:  482\n",
        "Num proteins in ../data/b1hData/antonProcessed/F2/low/filt_10e-4_025_0_c/GAC.txt:  1783"
       ]
      },
      {
       "output_type": "stream",
       "stream": "stdout",
       "text": [
        "\n",
        "Num proteins in ../data/b1hData/antonProcessed/F2/low/filt_10e-4_025_0_c/GAG.txt:  2015\n",
        "Num proteins in ../data/b1hData/antonProcessed/F2/low/filt_10e-4_025_0_c/GAT.txt:  2036\n",
        "Num proteins in ../data/b1hData/antonProcessed/F2/low/filt_10e-4_025_0_c/GCA.txt:  614\n",
        "Num proteins in ../data/b1hData/antonProcessed/F2/low/filt_10e-4_025_0_c/GCC.txt:  832"
       ]
      },
      {
       "output_type": "stream",
       "stream": "stdout",
       "text": [
        "\n",
        "Num proteins in ../data/b1hData/antonProcessed/F2/low/filt_10e-4_025_0_c/GCG.txt:  2072\n",
        "Num proteins in ../data/b1hData/antonProcessed/F2/low/filt_10e-4_025_0_c/GCT.txt:  2178\n",
        "Num proteins in ../data/b1hData/antonProcessed/F2/low/filt_10e-4_025_0_c/GGA.txt:  117\n",
        "Num proteins in ../data/b1hData/antonProcessed/F2/low/filt_10e-4_025_0_c/GGC.txt:  357\n",
        "Num proteins in ../data/b1hData/antonProcessed/F2/low/filt_10e-4_025_0_c/GGG.txt:  2450"
       ]
      },
      {
       "output_type": "stream",
       "stream": "stdout",
       "text": [
        "\n",
        "Num proteins in ../data/b1hData/antonProcessed/F2/low/filt_10e-4_025_0_c/GGT.txt:  1353\n",
        "Num proteins in ../data/b1hData/antonProcessed/F2/low/filt_10e-4_025_0_c/GTA.txt:  24\n",
        "Num proteins in ../data/b1hData/antonProcessed/F2/low/filt_10e-4_025_0_c/GTC.txt:  1272\n",
        "Num proteins in ../data/b1hData/antonProcessed/F2/low/filt_10e-4_025_0_c/GTG.txt:  2773"
       ]
      },
      {
       "output_type": "stream",
       "stream": "stdout",
       "text": [
        "\n",
        "Num proteins in ../data/b1hData/antonProcessed/F2/low/filt_10e-4_025_0_c/GTT.txt:  1882\n",
        "Num proteins in ../data/b1hData/antonProcessed/F2/low/filt_10e-4_025_0_c/TAA.txt:  34\n",
        "Num proteins in ../data/b1hData/antonProcessed/F2/low/filt_10e-4_025_0_c/TAC.txt:  840"
       ]
      },
      {
       "output_type": "stream",
       "stream": "stdout",
       "text": [
        "\n",
        "Num proteins in ../data/b1hData/antonProcessed/F2/low/filt_10e-4_025_0_c/TAG.txt:  824\n",
        "Num proteins in ../data/b1hData/antonProcessed/F2/low/filt_10e-4_025_0_c/TAT.txt:  1603"
       ]
      },
      {
       "output_type": "stream",
       "stream": "stdout",
       "text": [
        "\n",
        "Num proteins in ../data/b1hData/antonProcessed/F2/low/filt_10e-4_025_0_c/TCA.txt:  48\n",
        "Num proteins in ../data/b1hData/antonProcessed/F2/low/filt_10e-4_025_0_c/TCC.txt:  465\n",
        "Num proteins in ../data/b1hData/antonProcessed/F2/low/filt_10e-4_025_0_c/TCG.txt:  1151\n",
        "Num proteins in ../data/b1hData/antonProcessed/F2/low/filt_10e-4_025_0_c/TCT.txt:  997"
       ]
      },
      {
       "output_type": "stream",
       "stream": "stdout",
       "text": [
        "\n",
        "Num proteins in ../data/b1hData/antonProcessed/F2/low/filt_10e-4_025_0_c/TGA.txt:  244\n",
        "Num proteins in ../data/b1hData/antonProcessed/F2/low/filt_10e-4_025_0_c/TGC.txt:  491\n",
        "Num proteins in ../data/b1hData/antonProcessed/F2/low/filt_10e-4_025_0_c/TGG.txt:  2497"
       ]
      },
      {
       "output_type": "stream",
       "stream": "stdout",
       "text": [
        "\n",
        "Num proteins in ../data/b1hData/antonProcessed/F2/low/filt_10e-4_025_0_c/TGT.txt:  2433\n",
        "Num proteins in ../data/b1hData/antonProcessed/F2/low/filt_10e-4_025_0_c/TTA.txt:  33\n",
        "Num proteins in ../data/b1hData/antonProcessed/F2/low/filt_10e-4_025_0_c/TTC.txt:  329"
       ]
      },
      {
       "output_type": "stream",
       "stream": "stdout",
       "text": [
        "\n",
        "Num proteins in ../data/b1hData/antonProcessed/F2/low/filt_10e-4_025_0_c/TTG.txt:  1458\n",
        "Num proteins in ../data/b1hData/antonProcessed/F2/low/filt_10e-4_025_0_c/TTT.txt:  312\n",
        "Total num protein/dna observations in all files:  76300\n",
        "Total num unique proteins in all files:  52632\n",
        "\n",
        "Num obs processed in csv to txt conversion:  76300"
       ]
      },
      {
       "output_type": "stream",
       "stream": "stdout",
       "text": [
        "\n",
        "\n",
        "Here\n",
        "Num proteins in ../data/b1hData/antonProcessed/F3/high/filt_10e-4_025_0_c/AAA.txt:  78\n",
        "Num proteins in ../data/b1hData/antonProcessed/F3/high/filt_10e-4_025_0_c/AAC.txt:  298\n",
        "Num proteins in ../data/b1hData/antonProcessed/F3/high/filt_10e-4_025_0_c/AAG.txt:  668\n",
        "Num proteins in ../data/b1hData/antonProcessed/F3/high/filt_10e-4_025_0_c/AAT.txt:  111\n",
        "Num proteins in ../data/b1hData/antonProcessed/F3/high/filt_10e-4_025_0_c/ACA.txt:  57\n",
        "Num proteins in ../data/b1hData/antonProcessed/F3/high/filt_10e-4_025_0_c/ACC.txt:  30\n",
        "Num proteins in ../data/b1hData/antonProcessed/F3/high/filt_10e-4_025_0_c/ACG.txt:  503\n",
        "Num proteins in ../data/b1hData/antonProcessed/F3/high/filt_10e-4_025_0_c/ACT.txt:  258\n",
        "Num proteins in ../data/b1hData/antonProcessed/F3/high/filt_10e-4_025_0_c/AGA.txt:  1\n",
        "Num proteins in ../data/b1hData/antonProcessed/F3/high/filt_10e-4_025_0_c/AGC.txt:  465\n",
        "Num proteins in ../data/b1hData/antonProcessed/F3/high/filt_10e-4_025_0_c/AGG.txt:  540\n",
        "Num proteins in ../data/b1hData/antonProcessed/F3/high/filt_10e-4_025_0_c/AGT.txt:  874\n",
        "Num proteins in ../data/b1hData/antonProcessed/F3/high/filt_10e-4_025_0_c/ATA.txt:  31\n",
        "Num proteins in ../data/b1hData/antonProcessed/F3/high/filt_10e-4_025_0_c/ATC.txt:  568\n",
        "Num proteins in ../data/b1hData/antonProcessed/F3/high/filt_10e-4_025_0_c/ATG.txt:  62\n",
        "Num proteins in ../data/b1hData/antonProcessed/F3/high/filt_10e-4_025_0_c/ATT.txt:  188\n",
        "Num proteins in ../data/b1hData/antonProcessed/F3/high/filt_10e-4_025_0_c/CAA.txt:  105\n",
        "Num proteins in ../data/b1hData/antonProcessed/F3/high/filt_10e-4_025_0_c/CAC.txt:  133"
       ]
      },
      {
       "output_type": "stream",
       "stream": "stdout",
       "text": [
        "\n",
        "Num proteins in ../data/b1hData/antonProcessed/F3/high/filt_10e-4_025_0_c/CAG.txt:  270\n",
        "Num proteins in ../data/b1hData/antonProcessed/F3/high/filt_10e-4_025_0_c/CAT.txt:  402\n",
        "Num proteins in ../data/b1hData/antonProcessed/F3/high/filt_10e-4_025_0_c/CCA.txt:  35\n",
        "Num proteins in ../data/b1hData/antonProcessed/F3/high/filt_10e-4_025_0_c/CCC.txt:  126\n",
        "Num proteins in ../data/b1hData/antonProcessed/F3/high/filt_10e-4_025_0_c/CCG.txt:  425\n",
        "Num proteins in ../data/b1hData/antonProcessed/F3/high/filt_10e-4_025_0_c/CCT.txt:  140\n",
        "Num proteins in ../data/b1hData/antonProcessed/F3/high/filt_10e-4_025_0_c/CGA.txt:  19\n",
        "Num proteins in ../data/b1hData/antonProcessed/F3/high/filt_10e-4_025_0_c/CGC.txt:  491\n",
        "Num proteins in ../data/b1hData/antonProcessed/F3/high/filt_10e-4_025_0_c/CGG.txt:  29\n",
        "Num proteins in ../data/b1hData/antonProcessed/F3/high/filt_10e-4_025_0_c/CGT.txt:  441\n",
        "Num proteins in ../data/b1hData/antonProcessed/F3/high/filt_10e-4_025_0_c/CTA.txt:  154\n",
        "Num proteins in ../data/b1hData/antonProcessed/F3/high/filt_10e-4_025_0_c/CTC.txt:  109\n",
        "Num proteins in ../data/b1hData/antonProcessed/F3/high/filt_10e-4_025_0_c/CTG.txt:  14\n",
        "Num proteins in ../data/b1hData/antonProcessed/F3/high/filt_10e-4_025_0_c/CTT.txt:  20\n",
        "Num proteins in ../data/b1hData/antonProcessed/F3/high/filt_10e-4_025_0_c/GAA.txt:  198\n",
        "Num proteins in ../data/b1hData/antonProcessed/F3/high/filt_10e-4_025_0_c/GAC.txt:  173\n",
        "Num proteins in ../data/b1hData/antonProcessed/F3/high/filt_10e-4_025_0_c/GAG.txt:  483\n",
        "Num proteins in ../data/b1hData/antonProcessed/F3/high/filt_10e-4_025_0_c/GAT.txt:  291\n",
        "Num proteins in ../data/b1hData/antonProcessed/F3/high/filt_10e-4_025_0_c/GCA.txt:  169\n",
        "Num proteins in ../data/b1hData/antonProcessed/F3/high/filt_10e-4_025_0_c/GCC.txt:  90\n",
        "Num proteins in ../data/b1hData/antonProcessed/F3/high/filt_10e-4_025_0_c/GCG.txt:  223\n",
        "Num proteins in ../data/b1hData/antonProcessed/F3/high/filt_10e-4_025_0_c/GCT.txt:  378\n",
        "Num proteins in ../data/b1hData/antonProcessed/F3/high/filt_10e-4_025_0_c/GGA.txt:  279\n",
        "Num proteins in ../data/b1hData/antonProcessed/F3/high/filt_10e-4_025_0_c/GGC.txt:  151"
       ]
      },
      {
       "output_type": "stream",
       "stream": "stdout",
       "text": [
        "\n",
        "Num proteins in ../data/b1hData/antonProcessed/F3/high/filt_10e-4_025_0_c/GGG.txt:  618\n",
        "Num proteins in ../data/b1hData/antonProcessed/F3/high/filt_10e-4_025_0_c/GGT.txt:  763\n",
        "Num proteins in ../data/b1hData/antonProcessed/F3/high/filt_10e-4_025_0_c/GTA.txt:  333\n",
        "Num proteins in ../data/b1hData/antonProcessed/F3/high/filt_10e-4_025_0_c/GTC.txt:  357\n",
        "Num proteins in ../data/b1hData/antonProcessed/F3/high/filt_10e-4_025_0_c/GTG.txt:  650\n",
        "Num proteins in ../data/b1hData/antonProcessed/F3/high/filt_10e-4_025_0_c/GTT.txt:  627\n",
        "Num proteins in ../data/b1hData/antonProcessed/F3/high/filt_10e-4_025_0_c/TAA.txt:  348\n",
        "Num proteins in ../data/b1hData/antonProcessed/F3/high/filt_10e-4_025_0_c/TAC.txt:  127\n",
        "Num proteins in ../data/b1hData/antonProcessed/F3/high/filt_10e-4_025_0_c/TAG.txt:  121\n",
        "Num proteins in ../data/b1hData/antonProcessed/F3/high/filt_10e-4_025_0_c/TAT.txt:  519\n",
        "Num proteins in ../data/b1hData/antonProcessed/F3/high/filt_10e-4_025_0_c/TCA.txt:  234\n",
        "Num proteins in ../data/b1hData/antonProcessed/F3/high/filt_10e-4_025_0_c/TCC.txt:  317\n",
        "Num proteins in ../data/b1hData/antonProcessed/F3/high/filt_10e-4_025_0_c/TCG.txt:  75\n",
        "Num proteins in ../data/b1hData/antonProcessed/F3/high/filt_10e-4_025_0_c/TCT.txt:  154"
       ]
      },
      {
       "output_type": "stream",
       "stream": "stdout",
       "text": [
        "\n",
        "Num proteins in ../data/b1hData/antonProcessed/F3/high/filt_10e-4_025_0_c/TGA.txt:  541\n",
        "Num proteins in ../data/b1hData/antonProcessed/F3/high/filt_10e-4_025_0_c/TGC.txt:  262\n",
        "Num proteins in ../data/b1hData/antonProcessed/F3/high/filt_10e-4_025_0_c/TGG.txt:  50\n",
        "Num proteins in ../data/b1hData/antonProcessed/F3/high/filt_10e-4_025_0_c/TGT.txt:  2806\n",
        "Num proteins in ../data/b1hData/antonProcessed/F3/high/filt_10e-4_025_0_c/TTA.txt:  797\n",
        "Num proteins in ../data/b1hData/antonProcessed/F3/high/filt_10e-4_025_0_c/TTC.txt:  15\n",
        "Num proteins in ../data/b1hData/antonProcessed/F3/high/filt_10e-4_025_0_c/TTG.txt:  16\n",
        "Num proteins in ../data/b1hData/antonProcessed/F3/high/filt_10e-4_025_0_c/TTT.txt:  164\n",
        "Total num protein/dna observations in all files:  19974\n",
        "Total num unique proteins in all files:  14864\n",
        "\n",
        "Num obs processed in csv to txt conversion:  19974"
       ]
      },
      {
       "output_type": "stream",
       "stream": "stdout",
       "text": [
        "\n",
        "\n",
        "Here\n",
        "Num proteins in ../data/b1hData/antonProcessed/F3/low/filt_10e-4_025_0_c/AAA.txt:  139\n",
        "Num proteins in ../data/b1hData/antonProcessed/F3/low/filt_10e-4_025_0_c/AAC.txt:  1707\n",
        "Num proteins in ../data/b1hData/antonProcessed/F3/low/filt_10e-4_025_0_c/AAG.txt:  2324\n",
        "Num proteins in ../data/b1hData/antonProcessed/F3/low/filt_10e-4_025_0_c/AAT.txt:  1550"
       ]
      },
      {
       "output_type": "stream",
       "stream": "stdout",
       "text": [
        "\n",
        "Num proteins in ../data/b1hData/antonProcessed/F3/low/filt_10e-4_025_0_c/ACA.txt:  130\n",
        "Num proteins in ../data/b1hData/antonProcessed/F3/low/filt_10e-4_025_0_c/ACC.txt:  705\n",
        "Num proteins in ../data/b1hData/antonProcessed/F3/low/filt_10e-4_025_0_c/ACG.txt:  2245\n",
        "Num proteins in ../data/b1hData/antonProcessed/F3/low/filt_10e-4_025_0_c/ACT.txt:  1250\n",
        "Num proteins in ../data/b1hData/antonProcessed/F3/low/filt_10e-4_025_0_c/AGA.txt:  93\n",
        "Num proteins in ../data/b1hData/antonProcessed/F3/low/filt_10e-4_025_0_c/AGC.txt:  2443"
       ]
      },
      {
       "output_type": "stream",
       "stream": "stdout",
       "text": [
        "\n",
        "Num proteins in ../data/b1hData/antonProcessed/F3/low/filt_10e-4_025_0_c/AGG.txt:  1900\n",
        "Num proteins in ../data/b1hData/antonProcessed/F3/low/filt_10e-4_025_0_c/AGT.txt:  2253\n",
        "Num proteins in ../data/b1hData/antonProcessed/F3/low/filt_10e-4_025_0_c/ATA.txt:  136\n",
        "Num proteins in ../data/b1hData/antonProcessed/F3/low/filt_10e-4_025_0_c/ATC.txt:  1434"
       ]
      },
      {
       "output_type": "stream",
       "stream": "stdout",
       "text": [
        "\n",
        "Num proteins in ../data/b1hData/antonProcessed/F3/low/filt_10e-4_025_0_c/ATG.txt:  932\n",
        "Num proteins in ../data/b1hData/antonProcessed/F3/low/filt_10e-4_025_0_c/ATT.txt:  1262\n",
        "Num proteins in ../data/b1hData/antonProcessed/F3/low/filt_10e-4_025_0_c/CAA.txt:  197\n",
        "Num proteins in ../data/b1hData/antonProcessed/F3/low/filt_10e-4_025_0_c/CAC.txt:  1398\n",
        "Num proteins in ../data/b1hData/antonProcessed/F3/low/filt_10e-4_025_0_c/CAG.txt:  1557"
       ]
      },
      {
       "output_type": "stream",
       "stream": "stdout",
       "text": [
        "\n",
        "Num proteins in ../data/b1hData/antonProcessed/F3/low/filt_10e-4_025_0_c/CAT.txt:  935\n",
        "Num proteins in ../data/b1hData/antonProcessed/F3/low/filt_10e-4_025_0_c/CCA.txt:  142\n",
        "Num proteins in ../data/b1hData/antonProcessed/F3/low/filt_10e-4_025_0_c/CCC.txt:  597\n",
        "Num proteins in ../data/b1hData/antonProcessed/F3/low/filt_10e-4_025_0_c/CCG.txt:  2188\n",
        "Num proteins in ../data/b1hData/antonProcessed/F3/low/filt_10e-4_025_0_c/CCT.txt:  880\n",
        "Num proteins in ../data/b1hData/antonProcessed/F3/low/filt_10e-4_025_0_c/CGA.txt:  142\n",
        "Num proteins in ../data/b1hData/antonProcessed/F3/low/filt_10e-4_025_0_c/CGC.txt:  2410"
       ]
      },
      {
       "output_type": "stream",
       "stream": "stdout",
       "text": [
        "\n",
        "Num proteins in ../data/b1hData/antonProcessed/F3/low/filt_10e-4_025_0_c/CGG.txt:  1030\n",
        "Num proteins in ../data/b1hData/antonProcessed/F3/low/filt_10e-4_025_0_c/CGT.txt:  2050\n",
        "Num proteins in ../data/b1hData/antonProcessed/F3/low/filt_10e-4_025_0_c/CTA.txt:  52\n",
        "Num proteins in ../data/b1hData/antonProcessed/F3/low/filt_10e-4_025_0_c/CTC.txt:  641\n",
        "Num proteins in ../data/b1hData/antonProcessed/F3/low/filt_10e-4_025_0_c/CTG.txt:  500\n",
        "Num proteins in ../data/b1hData/antonProcessed/F3/low/filt_10e-4_025_0_c/CTT.txt:  173\n",
        "Num proteins in ../data/b1hData/antonProcessed/F3/low/filt_10e-4_025_0_c/GAA.txt:  1253"
       ]
      },
      {
       "output_type": "stream",
       "stream": "stdout",
       "text": [
        "\n",
        "Num proteins in ../data/b1hData/antonProcessed/F3/low/filt_10e-4_025_0_c/GAC.txt:  1728\n",
        "Num proteins in ../data/b1hData/antonProcessed/F3/low/filt_10e-4_025_0_c/GAG.txt:  2576\n",
        "Num proteins in ../data/b1hData/antonProcessed/F3/low/filt_10e-4_025_0_c/GAT.txt:  2185"
       ]
      },
      {
       "output_type": "stream",
       "stream": "stdout",
       "text": [
        "\n",
        "Num proteins in ../data/b1hData/antonProcessed/F3/low/filt_10e-4_025_0_c/GCA.txt:  718\n",
        "Num proteins in ../data/b1hData/antonProcessed/F3/low/filt_10e-4_025_0_c/GCC.txt:  685\n",
        "Num proteins in ../data/b1hData/antonProcessed/F3/low/filt_10e-4_025_0_c/GCG.txt:  1818\n",
        "Num proteins in ../data/b1hData/antonProcessed/F3/low/filt_10e-4_025_0_c/GCT.txt:  1240\n",
        "Num proteins in ../data/b1hData/antonProcessed/F3/low/filt_10e-4_025_0_c/GGA.txt:  707\n",
        "Num proteins in ../data/b1hData/antonProcessed/F3/low/filt_10e-4_025_0_c/GGC.txt:  1478"
       ]
      },
      {
       "output_type": "stream",
       "stream": "stdout",
       "text": [
        "\n",
        "Num proteins in ../data/b1hData/antonProcessed/F3/low/filt_10e-4_025_0_c/GGG.txt:  2264\n",
        "Num proteins in ../data/b1hData/antonProcessed/F3/low/filt_10e-4_025_0_c/GGT.txt:  2246\n",
        "Num proteins in ../data/b1hData/antonProcessed/F3/low/filt_10e-4_025_0_c/GTA.txt:  1247"
       ]
      },
      {
       "output_type": "stream",
       "stream": "stdout",
       "text": [
        "\n",
        "Num proteins in ../data/b1hData/antonProcessed/F3/low/filt_10e-4_025_0_c/GTC.txt:  2014\n",
        "Num proteins in ../data/b1hData/antonProcessed/F3/low/filt_10e-4_025_0_c/GTG.txt:  2378\n",
        "Num proteins in ../data/b1hData/antonProcessed/F3/low/filt_10e-4_025_0_c/GTT.txt:  2478"
       ]
      },
      {
       "output_type": "stream",
       "stream": "stdout",
       "text": [
        "\n",
        "Num proteins in ../data/b1hData/antonProcessed/F3/low/filt_10e-4_025_0_c/TAA.txt:  153\n",
        "Num proteins in ../data/b1hData/antonProcessed/F3/low/filt_10e-4_025_0_c/TAC.txt:  1418\n",
        "Num proteins in ../data/b1hData/antonProcessed/F3/low/filt_10e-4_025_0_c/TAG.txt:  1049\n",
        "Num proteins in ../data/b1hData/antonProcessed/F3/low/filt_10e-4_025_0_c/TAT.txt:  1884"
       ]
      },
      {
       "output_type": "stream",
       "stream": "stdout",
       "text": [
        "\n",
        "Num proteins in ../data/b1hData/antonProcessed/F3/low/filt_10e-4_025_0_c/TCA.txt:  28\n",
        "Num proteins in ../data/b1hData/antonProcessed/F3/low/filt_10e-4_025_0_c/TCC.txt:  916\n",
        "Num proteins in ../data/b1hData/antonProcessed/F3/low/filt_10e-4_025_0_c/TCG.txt:  839\n",
        "Num proteins in ../data/b1hData/antonProcessed/F3/low/filt_10e-4_025_0_c/TCT.txt:  878\n",
        "Num proteins in ../data/b1hData/antonProcessed/F3/low/filt_10e-4_025_0_c/TGA.txt:  1721\n",
        "Num proteins in ../data/b1hData/antonProcessed/F3/low/filt_10e-4_025_0_c/TGC.txt:  2151"
       ]
      },
      {
       "output_type": "stream",
       "stream": "stdout",
       "text": [
        "\n",
        "Num proteins in ../data/b1hData/antonProcessed/F3/low/filt_10e-4_025_0_c/TGG.txt:  912\n",
        "Num proteins in ../data/b1hData/antonProcessed/F3/low/filt_10e-4_025_0_c/TGT.txt:  2212\n",
        "Num proteins in ../data/b1hData/antonProcessed/F3/low/filt_10e-4_025_0_c/TTA.txt:  66\n",
        "Num proteins in ../data/b1hData/antonProcessed/F3/low/filt_10e-4_025_0_c/TTC.txt:  586\n",
        "Num proteins in ../data/b1hData/antonProcessed/F3/low/filt_10e-4_025_0_c/TTG.txt:  868"
       ]
      },
      {
       "output_type": "stream",
       "stream": "stdout",
       "text": [
        "\n",
        "Num proteins in ../data/b1hData/antonProcessed/F3/low/filt_10e-4_025_0_c/TTT.txt:  1911\n",
        "Total num protein/dna observations in all files:  80002\n",
        "Total num unique proteins in all files:  52220\n",
        "\n",
        "Num obs processed in csv to txt conversion:  80002"
       ]
      },
      {
       "output_type": "stream",
       "stream": "stdout",
       "text": [
        "\n",
        "\n"
       ]
      }
     ],
     "prompt_number": 2
    },
    {
     "cell_type": "code",
     "collapsed": false,
     "input": [
      "bothStrinIfaces = {}\n",
      "for f in fings:\n",
      "    bothStrinIfaces[f] = interfaces[f, 'low'] | interfaces[f, 'high']\n",
      "\n",
      "for f in sorted(bothStrinIfaces.keys()):\n",
      "    print \"%s Interfaces: %d\" %(f, len(bothStrinIfaces[f]))\n",
      "    \n",
      "print\n",
      "print \"%s + %s Interfaces: %d\" %('F1', 'F2', len(bothStrinIfaces['F1'] | bothStrinIfaces['F2']))\n",
      "print \"%s + %s Interfaces: %d\" %('F1', 'F3', len(bothStrinIfaces['F1'] | bothStrinIfaces['F3']))\n",
      "print \"%s + %s Interfaces: %d\" %('F2', 'F3', len(bothStrinIfaces['F2'] | bothStrinIfaces['F3']))\n",
      "print \"%s + %s + %s Interfaces: %d\" %('F1', 'F2', 'F3',len(bothStrinIfaces['F1'] | bothStrinIfaces['F2'] | bothStrinIfaces['F3']))\n",
      "    "
     ],
     "language": "python",
     "metadata": {},
     "outputs": [
      {
       "output_type": "stream",
       "stream": "stdout",
       "text": [
        "F1 Interfaces: 44881\n",
        "F2 Interfaces: 85059\n",
        "F3 Interfaces: 87798\n",
        "\n",
        "F1 + F2 Interfaces: 126992"
       ]
      },
      {
       "output_type": "stream",
       "stream": "stdout",
       "text": [
        "\n",
        "F1 + F3 Interfaces: 131996"
       ]
      },
      {
       "output_type": "stream",
       "stream": "stdout",
       "text": [
        "\n",
        "F2 + F3 Interfaces: 163667"
       ]
      },
      {
       "output_type": "stream",
       "stream": "stdout",
       "text": [
        "\n",
        "F1 + F2 + F3 Interfaces: 205318"
       ]
      },
      {
       "output_type": "stream",
       "stream": "stdout",
       "text": [
        "\n"
       ]
      }
     ],
     "prompt_number": 3
    },
    {
     "cell_type": "code",
     "collapsed": false,
     "input": [],
     "language": "python",
     "metadata": {},
     "outputs": [],
     "prompt_number": 3
    }
   ],
   "metadata": {}
  }
 ]
}