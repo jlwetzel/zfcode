{
 "metadata": {
  "name": "Format_conversions"
 },
 "nbformat": 3,
 "nbformat_minor": 0,
 "worksheets": [
  {
   "cells": [
    {
     "cell_type": "code",
     "collapsed": false,
     "input": [
      "from changeFormats import targetFiles2singleCSV, csv2txtFile\n",
      "dirPaths = [\"../data/b1hData/oldData/F3/unfiltered/low/\",\n",
      "            \"../data/b1hData/oldData/F3/unfiltered/high/\",\n",
      "            \"../data/b1hData/oldData/F3/threshold025/low/\",\n",
      "            \"../data/b1hData/oldData/F3/threshold025/high/\"]"
     ],
     "language": "python",
     "metadata": {},
     "outputs": [],
     "prompt_number": 1
    },
    {
     "cell_type": "code",
     "collapsed": false,
     "input": [
      "for path in dirPaths:\n",
      "    print \"Processing path: %s\" %path\n",
      "    targetFiles2singleCSV(path)\n",
      "    csv2txtFile(path)\n",
      "    print"
     ],
     "language": "python",
     "metadata": {},
     "outputs": [
      {
       "output_type": "stream",
       "stream": "stdout",
       "text": [
        "Processing path: ../data/b1hData/oldData/F3/unfiltered/low/\n",
        "Invalid File Name: AAA.txt\n",
        "Num proteins in AAA_amino_acid_analysis.txt:  61266"
       ]
      },
      {
       "output_type": "stream",
       "stream": "stdout",
       "text": [
        "\n",
        "Invalid File Name: AAC.txt\n",
        "Num proteins in AAC_amino_acid_analysis.txt:  32325"
       ]
      },
      {
       "output_type": "stream",
       "stream": "stdout",
       "text": [
        "\n",
        "Invalid File Name: AAG.txt\n",
        "Num proteins in AAG_amino_acid_analysis.txt:  37694"
       ]
      },
      {
       "output_type": "stream",
       "stream": "stdout",
       "text": [
        "\n",
        "Invalid File Name: AAT.txt\n",
        "Num proteins in AAT_amino_acid_analysis.txt:  41695"
       ]
      },
      {
       "output_type": "stream",
       "stream": "stdout",
       "text": [
        "\n",
        "Invalid File Name: ACA.txt\n",
        "Num proteins in ACA_amino_acid_analysis.txt:  49883"
       ]
      },
      {
       "output_type": "stream",
       "stream": "stdout",
       "text": [
        "\n",
        "Invalid File Name: ACC.txt\n",
        "Num proteins in ACC_amino_acid_analysis.txt:  17457"
       ]
      },
      {
       "output_type": "stream",
       "stream": "stdout",
       "text": [
        "\n",
        "Invalid File Name: ACG.txt\n",
        "Num proteins in ACG_amino_acid_analysis.txt:  33078"
       ]
      },
      {
       "output_type": "stream",
       "stream": "stdout",
       "text": [
        "\n",
        "Invalid File Name: ACT.txt\n",
        "Num proteins in ACT_amino_acid_analysis.txt:  32324"
       ]
      },
      {
       "output_type": "stream",
       "stream": "stdout",
       "text": [
        "\n",
        "Invalid File Name: AGA.txt\n",
        "Num proteins in AGA_amino_acid_analysis.txt:  9006"
       ]
      },
      {
       "output_type": "stream",
       "stream": "stdout",
       "text": [
        "\n",
        "Invalid File Name: AGC.txt\n",
        "Num proteins in AGC_amino_acid_analysis.txt:  53276"
       ]
      },
      {
       "output_type": "stream",
       "stream": "stdout",
       "text": [
        "\n",
        "Invalid File Name: AGG.txt\n",
        "Num proteins in AGG_amino_acid_analysis.txt:  35983"
       ]
      },
      {
       "output_type": "stream",
       "stream": "stdout",
       "text": [
        "\n",
        "Invalid File Name: AGT.txt\n",
        "Num proteins in AGT_amino_acid_analysis.txt:  38343"
       ]
      },
      {
       "output_type": "stream",
       "stream": "stdout",
       "text": [
        "\n",
        "Invalid File Name: ATA.txt\n",
        "Num proteins in ATA_amino_acid_analysis.txt:  46088"
       ]
      },
      {
       "output_type": "stream",
       "stream": "stdout",
       "text": [
        "\n",
        "Invalid File Name: ATC.txt\n",
        "Num proteins in ATC_amino_acid_analysis.txt:  36541"
       ]
      },
      {
       "output_type": "stream",
       "stream": "stdout",
       "text": [
        "\n",
        "Invalid File Name: ATG.txt\n",
        "Num proteins in ATG_amino_acid_analysis.txt:  33497"
       ]
      },
      {
       "output_type": "stream",
       "stream": "stdout",
       "text": [
        "\n",
        "Invalid File Name: ATT.txt\n",
        "Num proteins in ATT_amino_acid_analysis.txt:  39042"
       ]
      },
      {
       "output_type": "stream",
       "stream": "stdout",
       "text": [
        "\n",
        "Invalid File Name: CAA.txt\n",
        "Num proteins in CAA_amino_acid_analysis.txt:  30366"
       ]
      },
      {
       "output_type": "stream",
       "stream": "stdout",
       "text": [
        "\n",
        "Invalid File Name: CAC.txt\n",
        "Num proteins in CAC_amino_acid_analysis.txt:  38870"
       ]
      },
      {
       "output_type": "stream",
       "stream": "stdout",
       "text": [
        "\n",
        "Invalid File Name: CAG.txt\n",
        "Num proteins in CAG_amino_acid_analysis.txt:  32402"
       ]
      },
      {
       "output_type": "stream",
       "stream": "stdout",
       "text": [
        "\n",
        "Invalid File Name: CAT.txt\n",
        "Num proteins in CAT_amino_acid_analysis.txt:  42999"
       ]
      },
      {
       "output_type": "stream",
       "stream": "stdout",
       "text": [
        "\n",
        "Invalid File Name: CCA.txt\n",
        "Num proteins in CCA_amino_acid_analysis.txt:  46660"
       ]
      },
      {
       "output_type": "stream",
       "stream": "stdout",
       "text": [
        "\n",
        "Invalid File Name: CCC.txt\n",
        "Num proteins in CCC_amino_acid_analysis.txt:  29957"
       ]
      },
      {
       "output_type": "stream",
       "stream": "stdout",
       "text": [
        "\n",
        "Invalid File Name: CCG.txt\n",
        "Num proteins in CCG_amino_acid_analysis.txt:  38053"
       ]
      },
      {
       "output_type": "stream",
       "stream": "stdout",
       "text": [
        "\n",
        "Invalid File Name: CCT.txt\n",
        "Num proteins in CCT_amino_acid_analysis.txt:  42030"
       ]
      },
      {
       "output_type": "stream",
       "stream": "stdout",
       "text": [
        "\n",
        "Invalid File Name: CGA.txt\n",
        "Num proteins in CGA_amino_acid_analysis.txt:  78242"
       ]
      },
      {
       "output_type": "stream",
       "stream": "stdout",
       "text": [
        "\n",
        "Invalid File Name: CGC.txt\n",
        "Num proteins in CGC_amino_acid_analysis.txt:  52727"
       ]
      },
      {
       "output_type": "stream",
       "stream": "stdout",
       "text": [
        "\n",
        "Invalid File Name: CGG.txt\n",
        "Num proteins in CGG_amino_acid_analysis.txt:  13862"
       ]
      },
      {
       "output_type": "stream",
       "stream": "stdout",
       "text": [
        "\n",
        "Invalid File Name: CGT.txt\n",
        "Num proteins in CGT_amino_acid_analysis.txt:  38838"
       ]
      },
      {
       "output_type": "stream",
       "stream": "stdout",
       "text": [
        "\n",
        "Invalid File Name: CTA.txt\n",
        "Num proteins in CTA_amino_acid_analysis.txt:  73368"
       ]
      },
      {
       "output_type": "stream",
       "stream": "stdout",
       "text": [
        "\n",
        "Invalid File Name: CTC.txt\n",
        "Num proteins in CTC_amino_acid_analysis.txt:  48513"
       ]
      },
      {
       "output_type": "stream",
       "stream": "stdout",
       "text": [
        "\n",
        "Invalid File Name: CTG.txt\n",
        "Num proteins in CTG_amino_acid_analysis.txt:  75447"
       ]
      },
      {
       "output_type": "stream",
       "stream": "stdout",
       "text": [
        "\n",
        "Invalid File Name: CTT.txt\n",
        "Num proteins in CTT_amino_acid_analysis.txt:  156278"
       ]
      },
      {
       "output_type": "stream",
       "stream": "stdout",
       "text": [
        "\n",
        "Invalid File Name: GAA.txt\n",
        "Num proteins in GAA_amino_acid_analysis.txt:  33446"
       ]
      },
      {
       "output_type": "stream",
       "stream": "stdout",
       "text": [
        "\n",
        "Invalid File Name: GAC.txt\n",
        "Num proteins in GAC_amino_acid_analysis.txt:  41763"
       ]
      },
      {
       "output_type": "stream",
       "stream": "stdout",
       "text": [
        "\n",
        "Invalid File Name: GAG.txt\n",
        "Num proteins in GAG_amino_acid_analysis.txt:  45511"
       ]
      },
      {
       "output_type": "stream",
       "stream": "stdout",
       "text": [
        "\n",
        "Invalid File Name: GAT.txt\n",
        "Num proteins in GAT_amino_acid_analysis.txt:  56123"
       ]
      },
      {
       "output_type": "stream",
       "stream": "stdout",
       "text": [
        "\n",
        "Invalid File Name: GCA.txt\n",
        "Num proteins in GCA_amino_acid_analysis.txt:  32005"
       ]
      },
      {
       "output_type": "stream",
       "stream": "stdout",
       "text": [
        "\n",
        "Invalid File Name: GCC.txt\n",
        "Num proteins in GCC_amino_acid_analysis.txt:  44619"
       ]
      },
      {
       "output_type": "stream",
       "stream": "stdout",
       "text": [
        "\n",
        "Invalid File Name: GCG.txt\n",
        "Num proteins in GCG_amino_acid_analysis.txt:  41354"
       ]
      },
      {
       "output_type": "stream",
       "stream": "stdout",
       "text": [
        "\n",
        "Invalid File Name: GCT.txt\n",
        "Num proteins in GCT_amino_acid_analysis.txt:  51533"
       ]
      },
      {
       "output_type": "stream",
       "stream": "stdout",
       "text": [
        "\n",
        "Invalid File Name: GGA.txt\n",
        "Num proteins in GGA_amino_acid_analysis.txt:  30232"
       ]
      },
      {
       "output_type": "stream",
       "stream": "stdout",
       "text": [
        "\n",
        "Invalid File Name: GGC.txt\n",
        "Num proteins in GGC_amino_acid_analysis.txt:  48097"
       ]
      },
      {
       "output_type": "stream",
       "stream": "stdout",
       "text": [
        "\n",
        "Invalid File Name: GGG.txt\n",
        "Num proteins in GGG_amino_acid_analysis.txt:  48438"
       ]
      },
      {
       "output_type": "stream",
       "stream": "stdout",
       "text": [
        "\n",
        "Invalid File Name: GGT.txt\n",
        "Num proteins in GGT_amino_acid_analysis.txt:  50249"
       ]
      },
      {
       "output_type": "stream",
       "stream": "stdout",
       "text": [
        "\n",
        "Invalid File Name: GTA.txt\n",
        "Num proteins in GTA_amino_acid_analysis.txt:  33144"
       ]
      },
      {
       "output_type": "stream",
       "stream": "stdout",
       "text": [
        "\n",
        "Invalid File Name: GTC.txt\n",
        "Num proteins in GTC_amino_acid_analysis.txt:  43241"
       ]
      },
      {
       "output_type": "stream",
       "stream": "stdout",
       "text": [
        "\n",
        "Invalid File Name: GTG.txt\n",
        "Num proteins in GTG_amino_acid_analysis.txt:  49962"
       ]
      },
      {
       "output_type": "stream",
       "stream": "stdout",
       "text": [
        "\n",
        "Invalid File Name: GTT.txt\n",
        "Num proteins in GTT_amino_acid_analysis.txt:  67235"
       ]
      },
      {
       "output_type": "stream",
       "stream": "stdout",
       "text": [
        "\n",
        "Invalid File Name: TAA.txt\n",
        "Num proteins in TAA_amino_acid_analysis.txt:  21808"
       ]
      },
      {
       "output_type": "stream",
       "stream": "stdout",
       "text": [
        "\n",
        "Invalid File Name: TAC.txt\n",
        "Num proteins in TAC_amino_acid_analysis.txt:  30246"
       ]
      },
      {
       "output_type": "stream",
       "stream": "stdout",
       "text": [
        "\n",
        "Invalid File Name: TAG.txt\n",
        "Num proteins in TAG_amino_acid_analysis.txt:  26254"
       ]
      },
      {
       "output_type": "stream",
       "stream": "stdout",
       "text": [
        "\n",
        "Invalid File Name: TAT.txt\n",
        "Num proteins in TAT_amino_acid_analysis.txt:  32650"
       ]
      },
      {
       "output_type": "stream",
       "stream": "stdout",
       "text": [
        "\n",
        "Invalid File Name: TCA.txt\n",
        "Num proteins in TCA_amino_acid_analysis.txt:  59656"
       ]
      },
      {
       "output_type": "stream",
       "stream": "stdout",
       "text": [
        "\n",
        "Invalid File Name: TCC.txt\n",
        "Num proteins in TCC_amino_acid_analysis.txt:  21096"
       ]
      },
      {
       "output_type": "stream",
       "stream": "stdout",
       "text": [
        "\n",
        "Invalid File Name: TCG.txt\n",
        "Num proteins in TCG_amino_acid_analysis.txt:  24157"
       ]
      },
      {
       "output_type": "stream",
       "stream": "stdout",
       "text": [
        "\n",
        "Invalid File Name: TCT.txt\n",
        "Num proteins in TCT_amino_acid_analysis.txt:  46020"
       ]
      },
      {
       "output_type": "stream",
       "stream": "stdout",
       "text": [
        "\n",
        "Invalid File Name: TGA.txt\n",
        "Num proteins in TGA_amino_acid_analysis.txt:  32489"
       ]
      },
      {
       "output_type": "stream",
       "stream": "stdout",
       "text": [
        "\n",
        "Invalid File Name: TGC.txt\n",
        "Num proteins in TGC_amino_acid_analysis.txt:  50052"
       ]
      },
      {
       "output_type": "stream",
       "stream": "stdout",
       "text": [
        "\n",
        "Invalid File Name: TGG.txt\n",
        "Num proteins in TGG_amino_acid_analysis.txt:  13186"
       ]
      },
      {
       "output_type": "stream",
       "stream": "stdout",
       "text": [
        "\n",
        "Invalid File Name: TGT.txt\n",
        "Num proteins in TGT_amino_acid_analysis.txt:  69357"
       ]
      },
      {
       "output_type": "stream",
       "stream": "stdout",
       "text": [
        "\n",
        "Invalid File Name: TTA.txt\n",
        "Num proteins in TTA_amino_acid_analysis.txt:  107387"
       ]
      },
      {
       "output_type": "stream",
       "stream": "stdout",
       "text": [
        "\n",
        "Invalid File Name: TTC.txt\n",
        "Num proteins in TTC_amino_acid_analysis.txt:  50826"
       ]
      },
      {
       "output_type": "stream",
       "stream": "stdout",
       "text": [
        "\n",
        "Invalid File Name: TTG.txt\n",
        "Num proteins in TTG_amino_acid_analysis.txt:  38233"
       ]
      },
      {
       "output_type": "stream",
       "stream": "stdout",
       "text": [
        "\n",
        "Invalid File Name: TTT.txt\n",
        "Num proteins in TTT_amino_acid_analysis.txt:  43873"
       ]
      },
      {
       "output_type": "stream",
       "stream": "stdout",
       "text": [
        "\n",
        "Total num protein/dna observations in all files:  2820352\n",
        "Total num unique proteins in all files:  1845753\n",
        "Num obs processed in csv to txt conversion:  2820353"
       ]
      },
      {
       "output_type": "stream",
       "stream": "stdout",
       "text": [
        "\n",
        "\n",
        "Processing path: ../data/b1hData/oldData/F3/unfiltered/high/\n",
        "Invalid File Name: AAA.txt\n",
        "Num proteins in AAA_amino_acid_analysis.txt:  75876"
       ]
      },
      {
       "output_type": "stream",
       "stream": "stdout",
       "text": [
        "\n",
        "Invalid File Name: AAC.txt\n",
        "Num proteins in AAC_amino_acid_analysis.txt:  72887"
       ]
      },
      {
       "output_type": "stream",
       "stream": "stdout",
       "text": [
        "\n",
        "Invalid File Name: AAG.txt\n",
        "Num proteins in AAG_amino_acid_analysis.txt:  19730"
       ]
      },
      {
       "output_type": "stream",
       "stream": "stdout",
       "text": [
        "\n",
        "Invalid File Name: AAT.txt\n",
        "Num proteins in AAT_amino_acid_analysis.txt:  27123"
       ]
      },
      {
       "output_type": "stream",
       "stream": "stdout",
       "text": [
        "\n",
        "Invalid File Name: ACA.txt\n",
        "Num proteins in ACA_amino_acid_analysis.txt:  60281"
       ]
      },
      {
       "output_type": "stream",
       "stream": "stdout",
       "text": [
        "\n",
        "Invalid File Name: ACC.txt\n",
        "Num proteins in ACC_amino_acid_analysis.txt:  19553"
       ]
      },
      {
       "output_type": "stream",
       "stream": "stdout",
       "text": [
        "\n",
        "Invalid File Name: ACG.txt\n",
        "Num proteins in ACG_amino_acid_analysis.txt:  31237"
       ]
      },
      {
       "output_type": "stream",
       "stream": "stdout",
       "text": [
        "\n",
        "Invalid File Name: ACT.txt\n",
        "Num proteins in ACT_amino_acid_analysis.txt:  61465"
       ]
      },
      {
       "output_type": "stream",
       "stream": "stdout",
       "text": [
        "\n",
        "Invalid File Name: AGA.txt\n",
        "Num proteins in AGA_amino_acid_analysis.txt:  8098"
       ]
      },
      {
       "output_type": "stream",
       "stream": "stdout",
       "text": [
        "\n",
        "Invalid File Name: AGC.txt\n",
        "Num proteins in AGC_amino_acid_analysis.txt:  56508"
       ]
      },
      {
       "output_type": "stream",
       "stream": "stdout",
       "text": [
        "\n",
        "Invalid File Name: AGG.txt\n",
        "Num proteins in AGG_amino_acid_analysis.txt:  59916"
       ]
      },
      {
       "output_type": "stream",
       "stream": "stdout",
       "text": [
        "\n",
        "Invalid File Name: AGT.txt\n",
        "Num proteins in AGT_amino_acid_analysis.txt:  24206"
       ]
      },
      {
       "output_type": "stream",
       "stream": "stdout",
       "text": [
        "\n",
        "Invalid File Name: ATA.txt\n",
        "Num proteins in ATA_amino_acid_analysis.txt:  55943"
       ]
      },
      {
       "output_type": "stream",
       "stream": "stdout",
       "text": [
        "\n",
        "Invalid File Name: ATC.txt\n",
        "Num proteins in ATC_amino_acid_analysis.txt:  24522"
       ]
      },
      {
       "output_type": "stream",
       "stream": "stdout",
       "text": [
        "\n",
        "Invalid File Name: ATG.txt\n",
        "Num proteins in ATG_amino_acid_analysis.txt:  45374"
       ]
      },
      {
       "output_type": "stream",
       "stream": "stdout",
       "text": [
        "\n",
        "Invalid File Name: ATT.txt\n",
        "Num proteins in ATT_amino_acid_analysis.txt:  47593"
       ]
      },
      {
       "output_type": "stream",
       "stream": "stdout",
       "text": [
        "\n",
        "Invalid File Name: CAA.txt\n",
        "Num proteins in CAA_amino_acid_analysis.txt:  75696"
       ]
      },
      {
       "output_type": "stream",
       "stream": "stdout",
       "text": [
        "\n",
        "Invalid File Name: CAC.txt\n",
        "Num proteins in CAC_amino_acid_analysis.txt:  64165"
       ]
      },
      {
       "output_type": "stream",
       "stream": "stdout",
       "text": [
        "\n",
        "Invalid File Name: CAG.txt\n",
        "Num proteins in CAG_amino_acid_analysis.txt:  24336"
       ]
      },
      {
       "output_type": "stream",
       "stream": "stdout",
       "text": [
        "\n",
        "Invalid File Name: CAT.txt\n",
        "Num proteins in CAT_amino_acid_analysis.txt:  18422"
       ]
      },
      {
       "output_type": "stream",
       "stream": "stdout",
       "text": [
        "\n",
        "Invalid File Name: CCA.txt\n",
        "Num proteins in CCA_amino_acid_analysis.txt:  79360"
       ]
      },
      {
       "output_type": "stream",
       "stream": "stdout",
       "text": [
        "\n",
        "Invalid File Name: CCC.txt\n",
        "Num proteins in CCC_amino_acid_analysis.txt:  30093"
       ]
      },
      {
       "output_type": "stream",
       "stream": "stdout",
       "text": [
        "\n",
        "Invalid File Name: CCG.txt\n",
        "Num proteins in CCG_amino_acid_analysis.txt:  15358"
       ]
      },
      {
       "output_type": "stream",
       "stream": "stdout",
       "text": [
        "\n",
        "Invalid File Name: CCT.txt\n",
        "Num proteins in CCT_amino_acid_analysis.txt:  79392"
       ]
      },
      {
       "output_type": "stream",
       "stream": "stdout",
       "text": [
        "\n",
        "Invalid File Name: CGA.txt\n",
        "Num proteins in CGA_amino_acid_analysis.txt:  169589"
       ]
      },
      {
       "output_type": "stream",
       "stream": "stdout",
       "text": [
        "\n",
        "Invalid File Name: CGC.txt\n",
        "Num proteins in CGC_amino_acid_analysis.txt:  25193"
       ]
      },
      {
       "output_type": "stream",
       "stream": "stdout",
       "text": [
        "\n",
        "Invalid File Name: CGG.txt\n",
        "Num proteins in CGG_amino_acid_analysis.txt:  3632\n",
        "Invalid File Name: CGT.txt\n",
        "Num proteins in CGT_amino_acid_analysis.txt:  34640"
       ]
      },
      {
       "output_type": "stream",
       "stream": "stdout",
       "text": [
        "\n",
        "Invalid File Name: CTA.txt\n",
        "Num proteins in CTA_amino_acid_analysis.txt:  41330"
       ]
      },
      {
       "output_type": "stream",
       "stream": "stdout",
       "text": [
        "\n",
        "Invalid File Name: CTC.txt\n",
        "Num proteins in CTC_amino_acid_analysis.txt:  84554"
       ]
      },
      {
       "output_type": "stream",
       "stream": "stdout",
       "text": [
        "\n",
        "Invalid File Name: CTG.txt\n",
        "Num proteins in CTG_amino_acid_analysis.txt:  42402"
       ]
      },
      {
       "output_type": "stream",
       "stream": "stdout",
       "text": [
        "\n",
        "Invalid File Name: CTT.txt\n",
        "Num proteins in CTT_amino_acid_analysis.txt:  54870"
       ]
      },
      {
       "output_type": "stream",
       "stream": "stdout",
       "text": [
        "\n",
        "Invalid File Name: GAA.txt\n",
        "Num proteins in GAA_amino_acid_analysis.txt:  30651"
       ]
      },
      {
       "output_type": "stream",
       "stream": "stdout",
       "text": [
        "\n",
        "Invalid File Name: GAC.txt\n",
        "Num proteins in GAC_amino_acid_analysis.txt:  34349"
       ]
      },
      {
       "output_type": "stream",
       "stream": "stdout",
       "text": [
        "\n",
        "Invalid File Name: GAG.txt\n",
        "Num proteins in GAG_amino_acid_analysis.txt:  27918"
       ]
      },
      {
       "output_type": "stream",
       "stream": "stdout",
       "text": [
        "\n",
        "Invalid File Name: GAT.txt\n",
        "Num proteins in GAT_amino_acid_analysis.txt:  23594"
       ]
      },
      {
       "output_type": "stream",
       "stream": "stdout",
       "text": [
        "\n",
        "Invalid File Name: GCA.txt\n",
        "Num proteins in GCA_amino_acid_analysis.txt:  29730"
       ]
      },
      {
       "output_type": "stream",
       "stream": "stdout",
       "text": [
        "\n",
        "Invalid File Name: GCC.txt\n",
        "Num proteins in GCC_amino_acid_analysis.txt:  27446"
       ]
      },
      {
       "output_type": "stream",
       "stream": "stdout",
       "text": [
        "\n",
        "Invalid File Name: GCG.txt\n",
        "Num proteins in GCG_amino_acid_analysis.txt:  22063"
       ]
      },
      {
       "output_type": "stream",
       "stream": "stdout",
       "text": [
        "\n",
        "Invalid File Name: GCT.txt\n",
        "Num proteins in GCT_amino_acid_analysis.txt:  23177"
       ]
      },
      {
       "output_type": "stream",
       "stream": "stdout",
       "text": [
        "\n",
        "Invalid File Name: GGA.txt\n",
        "Num proteins in GGA_amino_acid_analysis.txt:  16167"
       ]
      },
      {
       "output_type": "stream",
       "stream": "stdout",
       "text": [
        "\n",
        "Invalid File Name: GGC.txt\n",
        "Num proteins in GGC_amino_acid_analysis.txt:  60105"
       ]
      },
      {
       "output_type": "stream",
       "stream": "stdout",
       "text": [
        "\n",
        "Invalid File Name: GGG.txt\n",
        "Num proteins in GGG_amino_acid_analysis.txt:  24392"
       ]
      },
      {
       "output_type": "stream",
       "stream": "stdout",
       "text": [
        "\n",
        "Invalid File Name: GGT.txt\n",
        "Num proteins in GGT_amino_acid_analysis.txt:  21723"
       ]
      },
      {
       "output_type": "stream",
       "stream": "stdout",
       "text": [
        "\n",
        "Invalid File Name: GTA.txt\n",
        "Num proteins in GTA_amino_acid_analysis.txt:  11728"
       ]
      },
      {
       "output_type": "stream",
       "stream": "stdout",
       "text": [
        "\n",
        "Invalid File Name: GTC.txt\n",
        "Num proteins in GTC_amino_acid_analysis.txt:  17802"
       ]
      },
      {
       "output_type": "stream",
       "stream": "stdout",
       "text": [
        "\n",
        "Invalid File Name: GTG.txt\n",
        "Num proteins in GTG_amino_acid_analysis.txt:  19533"
       ]
      },
      {
       "output_type": "stream",
       "stream": "stdout",
       "text": [
        "\n",
        "Invalid File Name: GTT.txt\n",
        "Num proteins in GTT_amino_acid_analysis.txt:  25688"
       ]
      },
      {
       "output_type": "stream",
       "stream": "stdout",
       "text": [
        "\n",
        "Invalid File Name: TAA.txt\n",
        "Num proteins in TAA_amino_acid_analysis.txt:  166485"
       ]
      },
      {
       "output_type": "stream",
       "stream": "stdout",
       "text": [
        "\n",
        "Invalid File Name: TAC.txt\n",
        "Num proteins in TAC_amino_acid_analysis.txt:  61732"
       ]
      },
      {
       "output_type": "stream",
       "stream": "stdout",
       "text": [
        "\n",
        "Invalid File Name: TAG.txt\n",
        "Num proteins in TAG_amino_acid_analysis.txt:  23027"
       ]
      },
      {
       "output_type": "stream",
       "stream": "stdout",
       "text": [
        "\n",
        "Invalid File Name: TAT.txt\n",
        "Num proteins in TAT_amino_acid_analysis.txt:  22079"
       ]
      },
      {
       "output_type": "stream",
       "stream": "stdout",
       "text": [
        "\n",
        "Invalid File Name: TCA.txt\n",
        "Num proteins in TCA_amino_acid_analysis.txt:  201005"
       ]
      },
      {
       "output_type": "stream",
       "stream": "stdout",
       "text": [
        "\n",
        "Invalid File Name: TCC.txt\n",
        "Num proteins in TCC_amino_acid_analysis.txt:  15783"
       ]
      },
      {
       "output_type": "stream",
       "stream": "stdout",
       "text": [
        "\n",
        "Invalid File Name: TCG.txt\n",
        "Num proteins in TCG_amino_acid_analysis.txt:  52250"
       ]
      },
      {
       "output_type": "stream",
       "stream": "stdout",
       "text": [
        "\n",
        "Invalid File Name: TCT.txt\n",
        "Num proteins in TCT_amino_acid_analysis.txt:  17546"
       ]
      },
      {
       "output_type": "stream",
       "stream": "stdout",
       "text": [
        "\n",
        "Invalid File Name: TGA.txt\n",
        "Num proteins in TGA_amino_acid_analysis.txt:  16490"
       ]
      },
      {
       "output_type": "stream",
       "stream": "stdout",
       "text": [
        "\n",
        "Invalid File Name: TGC.txt\n",
        "Num proteins in TGC_amino_acid_analysis.txt:  57992"
       ]
      },
      {
       "output_type": "stream",
       "stream": "stdout",
       "text": [
        "\n",
        "Invalid File Name: TGG.txt\n",
        "Num proteins in TGG_amino_acid_analysis.txt:  3816\n",
        "Invalid File Name: TGT.txt\n",
        "Num proteins in TGT_amino_acid_analysis.txt:  36114"
       ]
      },
      {
       "output_type": "stream",
       "stream": "stdout",
       "text": [
        "\n",
        "Invalid File Name: TTA.txt\n",
        "Num proteins in TTA_amino_acid_analysis.txt:  93657"
       ]
      },
      {
       "output_type": "stream",
       "stream": "stdout",
       "text": [
        "\n",
        "Invalid File Name: TTC.txt\n",
        "Num proteins in TTC_amino_acid_analysis.txt:  56538"
       ]
      },
      {
       "output_type": "stream",
       "stream": "stdout",
       "text": [
        "\n",
        "Invalid File Name: TTG.txt\n",
        "Num proteins in TTG_amino_acid_analysis.txt:  71481"
       ]
      },
      {
       "output_type": "stream",
       "stream": "stdout",
       "text": [
        "\n",
        "Invalid File Name: TTT.txt\n",
        "Num proteins in TTT_amino_acid_analysis.txt:  183172"
       ]
      },
      {
       "output_type": "stream",
       "stream": "stdout",
       "text": [
        "\n",
        "Total num protein/dna observations in all files:  3028577\n",
        "Total num unique proteins in all files:  2417652\n",
        "Num obs processed in csv to txt conversion:  3028578"
       ]
      },
      {
       "output_type": "stream",
       "stream": "stdout",
       "text": [
        "\n",
        "\n",
        "Processing path: ../data/b1hData/oldData/F3/threshold025/low/\n",
        "Num proteins in AAA_amino_acid_analysis.txt:  831"
       ]
      },
      {
       "output_type": "stream",
       "stream": "stdout",
       "text": [
        "\n",
        "Num proteins in AAC_amino_acid_analysis.txt:  4120\n",
        "Num proteins in AAG_amino_acid_analysis.txt:  5443"
       ]
      },
      {
       "output_type": "stream",
       "stream": "stdout",
       "text": [
        "\n",
        "Num proteins in AAT_amino_acid_analysis.txt:  5197\n",
        "Num proteins in ACA_amino_acid_analysis.txt:  749\n",
        "Num proteins in ACC_amino_acid_analysis.txt:  969"
       ]
      },
      {
       "output_type": "stream",
       "stream": "stdout",
       "text": [
        "\n",
        "Num proteins in ACG_amino_acid_analysis.txt:  5449\n",
        "Num proteins in ACT_amino_acid_analysis.txt:  3553"
       ]
      },
      {
       "output_type": "stream",
       "stream": "stdout",
       "text": [
        "\n",
        "Num proteins in AGA_amino_acid_analysis.txt:  148\n",
        "Num proteins in AGC_amino_acid_analysis.txt:  8190"
       ]
      },
      {
       "output_type": "stream",
       "stream": "stdout",
       "text": [
        "\n",
        "Num proteins in AGG_amino_acid_analysis.txt:  4570\n",
        "Num proteins in AGT_amino_acid_analysis.txt:  5906"
       ]
      },
      {
       "output_type": "stream",
       "stream": "stdout",
       "text": [
        "\n",
        "Num proteins in ATA_amino_acid_analysis.txt:  793\n",
        "Num proteins in ATC_amino_acid_analysis.txt:  3655\n",
        "Num proteins in ATG_amino_acid_analysis.txt:  2421"
       ]
      },
      {
       "output_type": "stream",
       "stream": "stdout",
       "text": [
        "\n",
        "Num proteins in ATT_amino_acid_analysis.txt:  3723\n",
        "Num proteins in CAA_amino_acid_analysis.txt:  768\n",
        "Num proteins in CAC_amino_acid_analysis.txt:  4389"
       ]
      },
      {
       "output_type": "stream",
       "stream": "stdout",
       "text": [
        "\n",
        "Num proteins in CAG_amino_acid_analysis.txt:  5027"
       ]
      },
      {
       "output_type": "stream",
       "stream": "stdout",
       "text": [
        "\n",
        "Num proteins in CAT_amino_acid_analysis.txt:  4785"
       ]
      },
      {
       "output_type": "stream",
       "stream": "stdout",
       "text": [
        "\n",
        "Num proteins in CCA_amino_acid_analysis.txt:  771\n",
        "Num proteins in CCC_amino_acid_analysis.txt:  1723\n",
        "Num proteins in CCG_amino_acid_analysis.txt:  6484"
       ]
      },
      {
       "output_type": "stream",
       "stream": "stdout",
       "text": [
        "\n",
        "Num proteins in CCT_amino_acid_analysis.txt:  3737"
       ]
      },
      {
       "output_type": "stream",
       "stream": "stdout",
       "text": [
        "\n",
        "Num proteins in CGA_amino_acid_analysis.txt:  1300\n",
        "Num proteins in CGC_amino_acid_analysis.txt:  9407"
       ]
      },
      {
       "output_type": "stream",
       "stream": "stdout",
       "text": [
        "\n",
        "Num proteins in CGG_amino_acid_analysis.txt:  1884\n",
        "Num proteins in CGT_amino_acid_analysis.txt:  5896"
       ]
      },
      {
       "output_type": "stream",
       "stream": "stdout",
       "text": [
        "\n",
        "Num proteins in CTA_amino_acid_analysis.txt:  643\n",
        "Num proteins in CTC_amino_acid_analysis.txt:  2229\n",
        "Num proteins in CTG_amino_acid_analysis.txt:  2110"
       ]
      },
      {
       "output_type": "stream",
       "stream": "stdout",
       "text": [
        "\n",
        "Num proteins in CTT_amino_acid_analysis.txt:  2659"
       ]
      },
      {
       "output_type": "stream",
       "stream": "stdout",
       "text": [
        "\n",
        "Num proteins in GAA_amino_acid_analysis.txt:  3440"
       ]
      },
      {
       "output_type": "stream",
       "stream": "stdout",
       "text": [
        "\n",
        "Num proteins in GAC_amino_acid_analysis.txt:  4903"
       ]
      },
      {
       "output_type": "stream",
       "stream": "stdout",
       "text": [
        "\n",
        "Num proteins in GAG_amino_acid_analysis.txt:  8683"
       ]
      },
      {
       "output_type": "stream",
       "stream": "stdout",
       "text": [
        "\n",
        "Num proteins in GAT_amino_acid_analysis.txt:  7884"
       ]
      },
      {
       "output_type": "stream",
       "stream": "stdout",
       "text": [
        "\n",
        "Num proteins in GCA_amino_acid_analysis.txt:  2099\n",
        "Num proteins in GCC_amino_acid_analysis.txt:  2379\n",
        "Num proteins in GCG_amino_acid_analysis.txt:  4528"
       ]
      },
      {
       "output_type": "stream",
       "stream": "stdout",
       "text": [
        "\n",
        "Num proteins in GCT_amino_acid_analysis.txt:  3657\n",
        "Num proteins in GGA_amino_acid_analysis.txt:  2478"
       ]
      },
      {
       "output_type": "stream",
       "stream": "stdout",
       "text": [
        "\n",
        "Num proteins in GGC_amino_acid_analysis.txt:  4323"
       ]
      },
      {
       "output_type": "stream",
       "stream": "stdout",
       "text": [
        "\n",
        "Num proteins in GGG_amino_acid_analysis.txt:  6729"
       ]
      },
      {
       "output_type": "stream",
       "stream": "stdout",
       "text": [
        "\n",
        "Num proteins in GGT_amino_acid_analysis.txt:  7224"
       ]
      },
      {
       "output_type": "stream",
       "stream": "stdout",
       "text": [
        "\n",
        "Num proteins in GTA_amino_acid_analysis.txt:  3379\n",
        "Num proteins in GTC_amino_acid_analysis.txt:  5318"
       ]
      },
      {
       "output_type": "stream",
       "stream": "stdout",
       "text": [
        "\n",
        "Num proteins in GTG_amino_acid_analysis.txt:  7871"
       ]
      },
      {
       "output_type": "stream",
       "stream": "stdout",
       "text": [
        "\n",
        "Num proteins in GTT_amino_acid_analysis.txt:  11475"
       ]
      },
      {
       "output_type": "stream",
       "stream": "stdout",
       "text": [
        "\n",
        "Num proteins in TAA_amino_acid_analysis.txt:  539\n",
        "Num proteins in TAC_amino_acid_analysis.txt:  3603\n",
        "Num proteins in TAG_amino_acid_analysis.txt:  2500"
       ]
      },
      {
       "output_type": "stream",
       "stream": "stdout",
       "text": [
        "\n",
        "Num proteins in TAT_amino_acid_analysis.txt:  4519\n",
        "Num proteins in TCA_amino_acid_analysis.txt:  697"
       ]
      },
      {
       "output_type": "stream",
       "stream": "stdout",
       "text": [
        "\n",
        "Num proteins in TCC_amino_acid_analysis.txt:  2017\n",
        "Num proteins in TCG_amino_acid_analysis.txt:  2121\n",
        "Num proteins in TCT_amino_acid_analysis.txt:  2597"
       ]
      },
      {
       "output_type": "stream",
       "stream": "stdout",
       "text": [
        "\n",
        "Num proteins in TGA_amino_acid_analysis.txt:  3405\n",
        "Num proteins in TGC_amino_acid_analysis.txt:  6594"
       ]
      },
      {
       "output_type": "stream",
       "stream": "stdout",
       "text": [
        "\n",
        "Num proteins in TGG_amino_acid_analysis.txt:  1743\n",
        "Num proteins in TGT_amino_acid_analysis.txt:  17858"
       ]
      },
      {
       "output_type": "stream",
       "stream": "stdout",
       "text": [
        "\n",
        "Num proteins in TTA_amino_acid_analysis.txt:  1031\n",
        "Num proteins in TTC_amino_acid_analysis.txt:  1693\n",
        "Num proteins in TTG_amino_acid_analysis.txt:  2109\n",
        "Num proteins in TTT_amino_acid_analysis.txt:  5631"
       ]
      },
      {
       "output_type": "stream",
       "stream": "stdout",
       "text": [
        "\n",
        "Total num protein/dna observations in all files:  254556\n",
        "Total num unique proteins in all files:  143245\n",
        "Num obs processed in csv to txt conversion:  254557"
       ]
      },
      {
       "output_type": "stream",
       "stream": "stdout",
       "text": [
        "\n",
        "\n",
        "Processing path: ../data/b1hData/oldData/F3/threshold025/high/\n",
        "Num proteins in AAA_amino_acid_analysis.txt:  1081"
       ]
      },
      {
       "output_type": "stream",
       "stream": "stdout",
       "text": [
        "\n",
        "Num proteins in AAC_amino_acid_analysis.txt:  1601\n",
        "Num proteins in AAG_amino_acid_analysis.txt:  1962"
       ]
      },
      {
       "output_type": "stream",
       "stream": "stdout",
       "text": [
        "\n",
        "Num proteins in AAT_amino_acid_analysis.txt:  552\n",
        "Num proteins in ACA_amino_acid_analysis.txt:  724\n",
        "Num proteins in ACC_amino_acid_analysis.txt:  45\n",
        "Num proteins in ACG_amino_acid_analysis.txt:  1833"
       ]
      },
      {
       "output_type": "stream",
       "stream": "stdout",
       "text": [
        "\n",
        "Num proteins in ACT_amino_acid_analysis.txt:  1700"
       ]
      },
      {
       "output_type": "stream",
       "stream": "stdout",
       "text": [
        "\n",
        "Num proteins in AGA_amino_acid_analysis.txt:  7\n",
        "Num proteins in AGC_amino_acid_analysis.txt:  1580\n",
        "Num proteins in AGG_amino_acid_analysis.txt:  1966"
       ]
      },
      {
       "output_type": "stream",
       "stream": "stdout",
       "text": [
        "\n",
        "Num proteins in AGT_amino_acid_analysis.txt:  2340\n",
        "Num proteins in ATA_amino_acid_analysis.txt:  537"
       ]
      },
      {
       "output_type": "stream",
       "stream": "stdout",
       "text": [
        "\n",
        "Num proteins in ATC_amino_acid_analysis.txt:  1352\n",
        "Num proteins in ATG_amino_acid_analysis.txt:  579\n",
        "Num proteins in ATT_amino_acid_analysis.txt:  1002\n",
        "Num proteins in CAA_amino_acid_analysis.txt:  1032"
       ]
      },
      {
       "output_type": "stream",
       "stream": "stdout",
       "text": [
        "\n",
        "Num proteins in CAC_amino_acid_analysis.txt:  939\n",
        "Num proteins in CAG_amino_acid_analysis.txt:  907\n",
        "Num proteins in CAT_amino_acid_analysis.txt:  1104"
       ]
      },
      {
       "output_type": "stream",
       "stream": "stdout",
       "text": [
        "\n",
        "Num proteins in CCA_amino_acid_analysis.txt:  725\n",
        "Num proteins in CCC_amino_acid_analysis.txt:  514\n",
        "Num proteins in CCG_amino_acid_analysis.txt:  1019\n",
        "Num proteins in CCT_amino_acid_analysis.txt:  1200"
       ]
      },
      {
       "output_type": "stream",
       "stream": "stdout",
       "text": [
        "\n",
        "Num proteins in CGA_amino_acid_analysis.txt:  1037\n",
        "Num proteins in CGC_amino_acid_analysis.txt:  1476\n",
        "Num proteins in CGG_amino_acid_analysis.txt:  44\n",
        "Num proteins in CGT_amino_acid_analysis.txt:  1164\n",
        "Num proteins in CTA_amino_acid_analysis.txt:  489\n",
        "Num proteins in CTC_amino_acid_analysis.txt:  934"
       ]
      },
      {
       "output_type": "stream",
       "stream": "stdout",
       "text": [
        "\n",
        "Num proteins in CTG_amino_acid_analysis.txt:  342\n",
        "Num proteins in CTT_amino_acid_analysis.txt:  557\n",
        "Num proteins in GAA_amino_acid_analysis.txt:  737"
       ]
      },
      {
       "output_type": "stream",
       "stream": "stdout",
       "text": [
        "\n",
        "Num proteins in GAC_amino_acid_analysis.txt:  698\n",
        "Num proteins in GAG_amino_acid_analysis.txt:  1361\n",
        "Num proteins in GAT_amino_acid_analysis.txt:  986"
       ]
      },
      {
       "output_type": "stream",
       "stream": "stdout",
       "text": [
        "\n",
        "Num proteins in GCA_amino_acid_analysis.txt:  654\n",
        "Num proteins in GCC_amino_acid_analysis.txt:  488\n",
        "Num proteins in GCG_amino_acid_analysis.txt:  830"
       ]
      },
      {
       "output_type": "stream",
       "stream": "stdout",
       "text": [
        "\n",
        "Num proteins in GCT_amino_acid_analysis.txt:  926\n",
        "Num proteins in GGA_amino_acid_analysis.txt:  870\n",
        "Num proteins in GGC_amino_acid_analysis.txt:  977\n",
        "Num proteins in GGG_amino_acid_analysis.txt:  1705"
       ]
      },
      {
       "output_type": "stream",
       "stream": "stdout",
       "text": [
        "\n",
        "Num proteins in GGT_amino_acid_analysis.txt:  2163"
       ]
      },
      {
       "output_type": "stream",
       "stream": "stdout",
       "text": [
        "\n",
        "Num proteins in GTA_amino_acid_analysis.txt:  615\n",
        "Num proteins in GTC_amino_acid_analysis.txt:  918\n",
        "Num proteins in GTG_amino_acid_analysis.txt:  1591"
       ]
      },
      {
       "output_type": "stream",
       "stream": "stdout",
       "text": [
        "\n",
        "Num proteins in GTT_amino_acid_analysis.txt:  1855\n",
        "Num proteins in TAA_amino_acid_analysis.txt:  2509"
       ]
      },
      {
       "output_type": "stream",
       "stream": "stdout",
       "text": [
        "\n",
        "Num proteins in TAC_amino_acid_analysis.txt:  1155\n",
        "Num proteins in TAG_amino_acid_analysis.txt:  534\n",
        "Num proteins in TAT_amino_acid_analysis.txt:  1497"
       ]
      },
      {
       "output_type": "stream",
       "stream": "stdout",
       "text": [
        "\n",
        "Num proteins in TCA_amino_acid_analysis.txt:  2506\n",
        "Num proteins in TCC_amino_acid_analysis.txt:  1025"
       ]
      },
      {
       "output_type": "stream",
       "stream": "stdout",
       "text": [
        "\n",
        "Num proteins in TCG_amino_acid_analysis.txt:  838\n",
        "Num proteins in TCT_amino_acid_analysis.txt:  433\n",
        "Num proteins in TGA_amino_acid_analysis.txt:  1341\n",
        "Num proteins in TGC_amino_acid_analysis.txt:  1216"
       ]
      },
      {
       "output_type": "stream",
       "stream": "stdout",
       "text": [
        "\n",
        "Num proteins in TGG_amino_acid_analysis.txt:  79\n",
        "Num proteins in TGT_amino_acid_analysis.txt:  7885"
       ]
      },
      {
       "output_type": "stream",
       "stream": "stdout",
       "text": [
        "\n",
        "Num proteins in TTA_amino_acid_analysis.txt:  4041"
       ]
      },
      {
       "output_type": "stream",
       "stream": "stdout",
       "text": [
        "\n",
        "Num proteins in TTC_amino_acid_analysis.txt:  450\n",
        "Num proteins in TTG_amino_acid_analysis.txt:  488\n",
        "Num proteins in TTT_amino_acid_analysis.txt:  1857\n",
        "Total num protein/dna observations in all files:  77572\n",
        "Total num unique proteins in all files:  56111\n",
        "Num obs processed in csv to txt conversion:  77573"
       ]
      },
      {
       "output_type": "stream",
       "stream": "stdout",
       "text": [
        "\n",
        "\n"
       ]
      }
     ],
     "prompt_number": 2
    },
    {
     "cell_type": "code",
     "collapsed": false,
     "input": [
      "for path in dirPaths:\n",
      "    fname = path + \"all.txt\"\n",
      "    protSet = set()\n",
      "    fin = open(fname, 'r')\n",
      "\n",
      "    i = 0\n",
      "    for line in fin:\n",
      "        sp_line = line.strip().split()\n",
      "        i += 1\n",
      "        protSet.add(sp_line[1])\n",
      "    print len(protSet), i\n",
      "    "
     ],
     "language": "python",
     "metadata": {},
     "outputs": [
      {
       "output_type": "stream",
       "stream": "stdout",
       "text": [
        "1845754 2820353\n",
        "2417653"
       ]
      },
      {
       "output_type": "stream",
       "stream": "stdout",
       "text": [
        " 3028578\n",
        "143246"
       ]
      },
      {
       "output_type": "stream",
       "stream": "stdout",
       "text": [
        " 254557\n",
        "56112"
       ]
      },
      {
       "output_type": "stream",
       "stream": "stdout",
       "text": [
        " 77573\n"
       ]
      }
     ],
     "prompt_number": 3
    },
    {
     "cell_type": "code",
     "collapsed": false,
     "input": [],
     "language": "python",
     "metadata": {},
     "outputs": [],
     "prompt_number": 3
    }
   ],
   "metadata": {}
  }
 ]
}