{
 "metadata": {
  "name": "Format_conversions"
 },
 "nbformat": 3,
 "nbformat_minor": 0,
 "worksheets": [
  {
   "cells": [
    {
     "cell_type": "code",
     "collapsed": false,
     "input": [
      "from changeFormats import targetFiles2singleCSV, csv2txtFile\n",
      "\n"
     ],
     "language": "python",
     "metadata": {},
     "outputs": [],
     "prompt_number": 1
    },
    {
     "cell_type": "code",
     "collapsed": false,
     "input": [
      "prefix = '../data/b1hData/newDatabase/6varpos/'\n",
      "numVarPos = 6\n",
      "fings = ['F1', 'F2', 'F3']\n",
      "strins = ['high', 'low']\n",
      "for fing in fings:\n",
      "    for strin in strins:\n",
      "        path = prefix + fing + '/' + strin + '/' + 'protein_seqs_JSD/'\n",
      "        targetFiles2singleCSV(path, numVarPos)\n",
      "        csv2txtFile(path, numVarPos)\n",
      "        print"
     ],
     "language": "python",
     "metadata": {},
     "outputs": [
      {
       "output_type": "stream",
       "stream": "stdout",
       "text": [
        "Num proteins in ../data/b1hData/newDatabase/6varpos/F1/high/protein_seqs_JSD/AAA_protein_seqs_JSD.txt:  43639\n",
        "Num proteins in ../data/b1hData/newDatabase/6varpos/F1/high/protein_seqs_JSD/AAC_protein_seqs_JSD.txt:  20083"
       ]
      },
      {
       "output_type": "stream",
       "stream": "stdout",
       "text": [
        "\n",
        "Num proteins in ../data/b1hData/newDatabase/6varpos/F1/high/protein_seqs_JSD/AAG_protein_seqs_JSD.txt:  20417"
       ]
      },
      {
       "output_type": "stream",
       "stream": "stdout",
       "text": [
        "\n",
        "Num proteins in ../data/b1hData/newDatabase/6varpos/F1/high/protein_seqs_JSD/AAT_protein_seqs_JSD.txt:  11966"
       ]
      },
      {
       "output_type": "stream",
       "stream": "stdout",
       "text": [
        "\n",
        "Num proteins in ../data/b1hData/newDatabase/6varpos/F1/high/protein_seqs_JSD/ACA_protein_seqs_JSD.txt:  14341"
       ]
      },
      {
       "output_type": "stream",
       "stream": "stdout",
       "text": [
        "\n",
        "Num proteins in ../data/b1hData/newDatabase/6varpos/F1/high/protein_seqs_JSD/ACC_protein_seqs_JSD.txt:  61664"
       ]
      },
      {
       "output_type": "stream",
       "stream": "stdout",
       "text": [
        "\n",
        "Num proteins in ../data/b1hData/newDatabase/6varpos/F1/high/protein_seqs_JSD/ACG_protein_seqs_JSD.txt:  59295"
       ]
      },
      {
       "output_type": "stream",
       "stream": "stdout",
       "text": [
        "\n",
        "Num proteins in ../data/b1hData/newDatabase/6varpos/F1/high/protein_seqs_JSD/ACT_protein_seqs_JSD.txt:  31666"
       ]
      },
      {
       "output_type": "stream",
       "stream": "stdout",
       "text": [
        "\n",
        "Num proteins in ../data/b1hData/newDatabase/6varpos/F1/high/protein_seqs_JSD/AGA_protein_seqs_JSD.txt:  112972"
       ]
      },
      {
       "output_type": "stream",
       "stream": "stdout",
       "text": [
        "\n",
        "Num proteins in ../data/b1hData/newDatabase/6varpos/F1/high/protein_seqs_JSD/AGC_protein_seqs_JSD.txt:  33535"
       ]
      },
      {
       "output_type": "stream",
       "stream": "stdout",
       "text": [
        "\n",
        "Num proteins in ../data/b1hData/newDatabase/6varpos/F1/high/protein_seqs_JSD/AGG_protein_seqs_JSD.txt:  18336"
       ]
      },
      {
       "output_type": "stream",
       "stream": "stdout",
       "text": [
        "\n",
        "Num proteins in ../data/b1hData/newDatabase/6varpos/F1/high/protein_seqs_JSD/AGT_protein_seqs_JSD.txt:  32999"
       ]
      },
      {
       "output_type": "stream",
       "stream": "stdout",
       "text": [
        "\n",
        "Num proteins in ../data/b1hData/newDatabase/6varpos/F1/high/protein_seqs_JSD/ATA_protein_seqs_JSD.txt:  16653"
       ]
      },
      {
       "output_type": "stream",
       "stream": "stdout",
       "text": [
        "\n",
        "Num proteins in ../data/b1hData/newDatabase/6varpos/F1/high/protein_seqs_JSD/ATC_protein_seqs_JSD.txt:  14221"
       ]
      },
      {
       "output_type": "stream",
       "stream": "stdout",
       "text": [
        "\n",
        "Num proteins in ../data/b1hData/newDatabase/6varpos/F1/high/protein_seqs_JSD/ATG_protein_seqs_JSD.txt:  15076"
       ]
      },
      {
       "output_type": "stream",
       "stream": "stdout",
       "text": [
        "\n",
        "Num proteins in ../data/b1hData/newDatabase/6varpos/F1/high/protein_seqs_JSD/ATT_protein_seqs_JSD.txt:  26002"
       ]
      },
      {
       "output_type": "stream",
       "stream": "stdout",
       "text": [
        "\n",
        "Num proteins in ../data/b1hData/newDatabase/6varpos/F1/high/protein_seqs_JSD/CAA_protein_seqs_JSD.txt:  15961"
       ]
      },
      {
       "output_type": "stream",
       "stream": "stdout",
       "text": [
        "\n",
        "Num proteins in ../data/b1hData/newDatabase/6varpos/F1/high/protein_seqs_JSD/CAC_protein_seqs_JSD.txt:  11267"
       ]
      },
      {
       "output_type": "stream",
       "stream": "stdout",
       "text": [
        "\n",
        "Num proteins in ../data/b1hData/newDatabase/6varpos/F1/high/protein_seqs_JSD/CAG_protein_seqs_JSD.txt:  15032"
       ]
      },
      {
       "output_type": "stream",
       "stream": "stdout",
       "text": [
        "\n",
        "Num proteins in ../data/b1hData/newDatabase/6varpos/F1/high/protein_seqs_JSD/CAT_protein_seqs_JSD.txt:  14611"
       ]
      },
      {
       "output_type": "stream",
       "stream": "stdout",
       "text": [
        "\n",
        "Num proteins in ../data/b1hData/newDatabase/6varpos/F1/high/protein_seqs_JSD/CCA_protein_seqs_JSD.txt:  17752"
       ]
      },
      {
       "output_type": "stream",
       "stream": "stdout",
       "text": [
        "\n",
        "Num proteins in ../data/b1hData/newDatabase/6varpos/F1/high/protein_seqs_JSD/CCC_protein_seqs_JSD.txt:  12034"
       ]
      },
      {
       "output_type": "stream",
       "stream": "stdout",
       "text": [
        "\n",
        "Num proteins in ../data/b1hData/newDatabase/6varpos/F1/high/protein_seqs_JSD/CCG_protein_seqs_JSD.txt:  13726"
       ]
      },
      {
       "output_type": "stream",
       "stream": "stdout",
       "text": [
        "\n",
        "Num proteins in ../data/b1hData/newDatabase/6varpos/F1/high/protein_seqs_JSD/CCT_protein_seqs_JSD.txt:  15674"
       ]
      },
      {
       "output_type": "stream",
       "stream": "stdout",
       "text": [
        "\n",
        "Num proteins in ../data/b1hData/newDatabase/6varpos/F1/high/protein_seqs_JSD/CGA_protein_seqs_JSD.txt:  29611"
       ]
      },
      {
       "output_type": "stream",
       "stream": "stdout",
       "text": [
        "\n",
        "Num proteins in ../data/b1hData/newDatabase/6varpos/F1/high/protein_seqs_JSD/CGC_protein_seqs_JSD.txt:  10754"
       ]
      },
      {
       "output_type": "stream",
       "stream": "stdout",
       "text": [
        "\n",
        "Num proteins in ../data/b1hData/newDatabase/6varpos/F1/high/protein_seqs_JSD/CGG_protein_seqs_JSD.txt:  14431"
       ]
      },
      {
       "output_type": "stream",
       "stream": "stdout",
       "text": [
        "\n",
        "Num proteins in ../data/b1hData/newDatabase/6varpos/F1/high/protein_seqs_JSD/CGT_protein_seqs_JSD.txt:  158599"
       ]
      },
      {
       "output_type": "stream",
       "stream": "stdout",
       "text": [
        "\n",
        "Num proteins in ../data/b1hData/newDatabase/6varpos/F1/high/protein_seqs_JSD/CTA_protein_seqs_JSD.txt:  141967"
       ]
      },
      {
       "output_type": "stream",
       "stream": "stdout",
       "text": [
        "\n",
        "Num proteins in ../data/b1hData/newDatabase/6varpos/F1/high/protein_seqs_JSD/CTC_protein_seqs_JSD.txt:  21100"
       ]
      },
      {
       "output_type": "stream",
       "stream": "stdout",
       "text": [
        "\n",
        "Num proteins in ../data/b1hData/newDatabase/6varpos/F1/high/protein_seqs_JSD/CTG_protein_seqs_JSD.txt:  12000"
       ]
      },
      {
       "output_type": "stream",
       "stream": "stdout",
       "text": [
        "\n",
        "Num proteins in ../data/b1hData/newDatabase/6varpos/F1/high/protein_seqs_JSD/CTT_protein_seqs_JSD.txt:  31493"
       ]
      },
      {
       "output_type": "stream",
       "stream": "stdout",
       "text": [
        "\n",
        "Num proteins in ../data/b1hData/newDatabase/6varpos/F1/high/protein_seqs_JSD/GAA_protein_seqs_JSD.txt:  16692"
       ]
      },
      {
       "output_type": "stream",
       "stream": "stdout",
       "text": [
        "\n",
        "Num proteins in ../data/b1hData/newDatabase/6varpos/F1/high/protein_seqs_JSD/GAC_protein_seqs_JSD.txt:  66898"
       ]
      },
      {
       "output_type": "stream",
       "stream": "stdout",
       "text": [
        "\n",
        "Num proteins in ../data/b1hData/newDatabase/6varpos/F1/high/protein_seqs_JSD/GAG_protein_seqs_JSD.txt:  15941"
       ]
      },
      {
       "output_type": "stream",
       "stream": "stdout",
       "text": [
        "\n",
        "Num proteins in ../data/b1hData/newDatabase/6varpos/F1/high/protein_seqs_JSD/GAT_protein_seqs_JSD.txt:  69160"
       ]
      },
      {
       "output_type": "stream",
       "stream": "stdout",
       "text": [
        "\n",
        "Num proteins in ../data/b1hData/newDatabase/6varpos/F1/high/protein_seqs_JSD/GCA_protein_seqs_JSD.txt:  12101"
       ]
      },
      {
       "output_type": "stream",
       "stream": "stdout",
       "text": [
        "\n",
        "Num proteins in ../data/b1hData/newDatabase/6varpos/F1/high/protein_seqs_JSD/GCC_protein_seqs_JSD.txt:  61125"
       ]
      },
      {
       "output_type": "stream",
       "stream": "stdout",
       "text": [
        "\n",
        "Num proteins in ../data/b1hData/newDatabase/6varpos/F1/high/protein_seqs_JSD/GCG_protein_seqs_JSD.txt:  16502"
       ]
      },
      {
       "output_type": "stream",
       "stream": "stdout",
       "text": [
        "\n",
        "Num proteins in ../data/b1hData/newDatabase/6varpos/F1/high/protein_seqs_JSD/GCT_protein_seqs_JSD.txt:  14916"
       ]
      },
      {
       "output_type": "stream",
       "stream": "stdout",
       "text": [
        "\n",
        "Num proteins in ../data/b1hData/newDatabase/6varpos/F1/high/protein_seqs_JSD/GGA_protein_seqs_JSD.txt:  104640"
       ]
      },
      {
       "output_type": "stream",
       "stream": "stdout",
       "text": [
        "\n",
        "Num proteins in ../data/b1hData/newDatabase/6varpos/F1/high/protein_seqs_JSD/GGC_protein_seqs_JSD.txt:  21115"
       ]
      },
      {
       "output_type": "stream",
       "stream": "stdout",
       "text": [
        "\n",
        "Num proteins in ../data/b1hData/newDatabase/6varpos/F1/high/protein_seqs_JSD/GGG_protein_seqs_JSD.txt:  14693"
       ]
      },
      {
       "output_type": "stream",
       "stream": "stdout",
       "text": [
        "\n",
        "Num proteins in ../data/b1hData/newDatabase/6varpos/F1/high/protein_seqs_JSD/GGT_protein_seqs_JSD.txt:  28340"
       ]
      },
      {
       "output_type": "stream",
       "stream": "stdout",
       "text": [
        "\n",
        "Num proteins in ../data/b1hData/newDatabase/6varpos/F1/high/protein_seqs_JSD/GTA_protein_seqs_JSD.txt:  13915"
       ]
      },
      {
       "output_type": "stream",
       "stream": "stdout",
       "text": [
        "\n",
        "Num proteins in ../data/b1hData/newDatabase/6varpos/F1/high/protein_seqs_JSD/GTC_protein_seqs_JSD.txt:  19540"
       ]
      },
      {
       "output_type": "stream",
       "stream": "stdout",
       "text": [
        "\n",
        "Num proteins in ../data/b1hData/newDatabase/6varpos/F1/high/protein_seqs_JSD/GTG_protein_seqs_JSD.txt:  14033"
       ]
      },
      {
       "output_type": "stream",
       "stream": "stdout",
       "text": [
        "\n",
        "Num proteins in ../data/b1hData/newDatabase/6varpos/F1/high/protein_seqs_JSD/GTT_protein_seqs_JSD.txt:  15023"
       ]
      },
      {
       "output_type": "stream",
       "stream": "stdout",
       "text": [
        "\n",
        "Num proteins in ../data/b1hData/newDatabase/6varpos/F1/high/protein_seqs_JSD/TAA_protein_seqs_JSD.txt:  47854"
       ]
      },
      {
       "output_type": "stream",
       "stream": "stdout",
       "text": [
        "\n",
        "Num proteins in ../data/b1hData/newDatabase/6varpos/F1/high/protein_seqs_JSD/TAC_protein_seqs_JSD.txt:  66087"
       ]
      },
      {
       "output_type": "stream",
       "stream": "stdout",
       "text": [
        "\n",
        "Num proteins in ../data/b1hData/newDatabase/6varpos/F1/high/protein_seqs_JSD/TAG_protein_seqs_JSD.txt:  53672"
       ]
      },
      {
       "output_type": "stream",
       "stream": "stdout",
       "text": [
        "\n",
        "Num proteins in ../data/b1hData/newDatabase/6varpos/F1/high/protein_seqs_JSD/TAT_protein_seqs_JSD.txt:  76531"
       ]
      },
      {
       "output_type": "stream",
       "stream": "stdout",
       "text": [
        "\n",
        "Num proteins in ../data/b1hData/newDatabase/6varpos/F1/high/protein_seqs_JSD/TCA_protein_seqs_JSD.txt:  16937"
       ]
      },
      {
       "output_type": "stream",
       "stream": "stdout",
       "text": [
        "\n",
        "Num proteins in ../data/b1hData/newDatabase/6varpos/F1/high/protein_seqs_JSD/TCC_protein_seqs_JSD.txt:  18522"
       ]
      },
      {
       "output_type": "stream",
       "stream": "stdout",
       "text": [
        "\n",
        "Num proteins in ../data/b1hData/newDatabase/6varpos/F1/high/protein_seqs_JSD/TCG_protein_seqs_JSD.txt:  13142"
       ]
      },
      {
       "output_type": "stream",
       "stream": "stdout",
       "text": [
        "\n",
        "Num proteins in ../data/b1hData/newDatabase/6varpos/F1/high/protein_seqs_JSD/TCT_protein_seqs_JSD.txt:  31872"
       ]
      },
      {
       "output_type": "stream",
       "stream": "stdout",
       "text": [
        "\n",
        "Num proteins in ../data/b1hData/newDatabase/6varpos/F1/high/protein_seqs_JSD/TGA_protein_seqs_JSD.txt:  36979"
       ]
      },
      {
       "output_type": "stream",
       "stream": "stdout",
       "text": [
        "\n",
        "Num proteins in ../data/b1hData/newDatabase/6varpos/F1/high/protein_seqs_JSD/TGC_protein_seqs_JSD.txt:  14196"
       ]
      },
      {
       "output_type": "stream",
       "stream": "stdout",
       "text": [
        "\n",
        "Num proteins in ../data/b1hData/newDatabase/6varpos/F1/high/protein_seqs_JSD/TGG_protein_seqs_JSD.txt:  17434"
       ]
      },
      {
       "output_type": "stream",
       "stream": "stdout",
       "text": [
        "\n",
        "Num proteins in ../data/b1hData/newDatabase/6varpos/F1/high/protein_seqs_JSD/TGT_protein_seqs_JSD.txt:  71980"
       ]
      },
      {
       "output_type": "stream",
       "stream": "stdout",
       "text": [
        "\n",
        "Num proteins in ../data/b1hData/newDatabase/6varpos/F1/high/protein_seqs_JSD/TTA_protein_seqs_JSD.txt:  46059"
       ]
      },
      {
       "output_type": "stream",
       "stream": "stdout",
       "text": [
        "\n",
        "Num proteins in ../data/b1hData/newDatabase/6varpos/F1/high/protein_seqs_JSD/TTC_protein_seqs_JSD.txt:  30744"
       ]
      },
      {
       "output_type": "stream",
       "stream": "stdout",
       "text": [
        "\n",
        "Num proteins in ../data/b1hData/newDatabase/6varpos/F1/high/protein_seqs_JSD/TTG_protein_seqs_JSD.txt:  53575"
       ]
      },
      {
       "output_type": "stream",
       "stream": "stdout",
       "text": [
        "\n",
        "Num proteins in ../data/b1hData/newDatabase/6varpos/F1/high/protein_seqs_JSD/TTT_protein_seqs_JSD.txt:  28417"
       ]
      },
      {
       "output_type": "stream",
       "stream": "stdout",
       "text": [
        "\n",
        "Total num protein/dna observations in all files:  2197512\n",
        "Total num unique proteins in all files:  1920137\n",
        "\n",
        "Num obs processed in csv to txt conversion:  2197512"
       ]
      },
      {
       "output_type": "stream",
       "stream": "stdout",
       "text": [
        "\n",
        "\n",
        "Num proteins in ../data/b1hData/newDatabase/6varpos/F1/low/protein_seqs_JSD/AAA_protein_seqs_JSD.txt:  39395"
       ]
      },
      {
       "output_type": "stream",
       "stream": "stdout",
       "text": [
        "\n",
        "Num proteins in ../data/b1hData/newDatabase/6varpos/F1/low/protein_seqs_JSD/AAC_protein_seqs_JSD.txt:  3549\n",
        "Num proteins in ../data/b1hData/newDatabase/6varpos/F1/low/protein_seqs_JSD/AAG_protein_seqs_JSD.txt:  11860"
       ]
      },
      {
       "output_type": "stream",
       "stream": "stdout",
       "text": [
        "\n",
        "Num proteins in ../data/b1hData/newDatabase/6varpos/F1/low/protein_seqs_JSD/AAT_protein_seqs_JSD.txt:  17242"
       ]
      },
      {
       "output_type": "stream",
       "stream": "stdout",
       "text": [
        "\n",
        "Num proteins in ../data/b1hData/newDatabase/6varpos/F1/low/protein_seqs_JSD/ACA_protein_seqs_JSD.txt:  15207"
       ]
      },
      {
       "output_type": "stream",
       "stream": "stdout",
       "text": [
        "\n",
        "Num proteins in ../data/b1hData/newDatabase/6varpos/F1/low/protein_seqs_JSD/ACC_protein_seqs_JSD.txt:  6074"
       ]
      },
      {
       "output_type": "stream",
       "stream": "stdout",
       "text": [
        "\n",
        "Num proteins in ../data/b1hData/newDatabase/6varpos/F1/low/protein_seqs_JSD/ACG_protein_seqs_JSD.txt:  26288"
       ]
      },
      {
       "output_type": "stream",
       "stream": "stdout",
       "text": [
        "\n",
        "Num proteins in ../data/b1hData/newDatabase/6varpos/F1/low/protein_seqs_JSD/ACT_protein_seqs_JSD.txt:  4470"
       ]
      },
      {
       "output_type": "stream",
       "stream": "stdout",
       "text": [
        "\n",
        "Num proteins in ../data/b1hData/newDatabase/6varpos/F1/low/protein_seqs_JSD/AGA_protein_seqs_JSD.txt:  34198"
       ]
      },
      {
       "output_type": "stream",
       "stream": "stdout",
       "text": [
        "\n",
        "Num proteins in ../data/b1hData/newDatabase/6varpos/F1/low/protein_seqs_JSD/AGC_protein_seqs_JSD.txt:  7383"
       ]
      },
      {
       "output_type": "stream",
       "stream": "stdout",
       "text": [
        "\n",
        "Num proteins in ../data/b1hData/newDatabase/6varpos/F1/low/protein_seqs_JSD/AGG_protein_seqs_JSD.txt:  17831"
       ]
      },
      {
       "output_type": "stream",
       "stream": "stdout",
       "text": [
        "\n",
        "Num proteins in ../data/b1hData/newDatabase/6varpos/F1/low/protein_seqs_JSD/AGT_protein_seqs_JSD.txt:  62791"
       ]
      },
      {
       "output_type": "stream",
       "stream": "stdout",
       "text": [
        "\n",
        "Num proteins in ../data/b1hData/newDatabase/6varpos/F1/low/protein_seqs_JSD/ATA_protein_seqs_JSD.txt:  25660"
       ]
      },
      {
       "output_type": "stream",
       "stream": "stdout",
       "text": [
        "\n",
        "Num proteins in ../data/b1hData/newDatabase/6varpos/F1/low/protein_seqs_JSD/ATC_protein_seqs_JSD.txt:  13323"
       ]
      },
      {
       "output_type": "stream",
       "stream": "stdout",
       "text": [
        "\n",
        "Num proteins in ../data/b1hData/newDatabase/6varpos/F1/low/protein_seqs_JSD/ATG_protein_seqs_JSD.txt:  18163"
       ]
      },
      {
       "output_type": "stream",
       "stream": "stdout",
       "text": [
        "\n",
        "Num proteins in ../data/b1hData/newDatabase/6varpos/F1/low/protein_seqs_JSD/ATT_protein_seqs_JSD.txt:  30109"
       ]
      },
      {
       "output_type": "stream",
       "stream": "stdout",
       "text": [
        "\n",
        "Num proteins in ../data/b1hData/newDatabase/6varpos/F1/low/protein_seqs_JSD/CAA_protein_seqs_JSD.txt:  10421"
       ]
      },
      {
       "output_type": "stream",
       "stream": "stdout",
       "text": [
        "\n",
        "Num proteins in ../data/b1hData/newDatabase/6varpos/F1/low/protein_seqs_JSD/CAC_protein_seqs_JSD.txt:  5385\n",
        "Num proteins in ../data/b1hData/newDatabase/6varpos/F1/low/protein_seqs_JSD/CAG_protein_seqs_JSD.txt:  7033"
       ]
      },
      {
       "output_type": "stream",
       "stream": "stdout",
       "text": [
        "\n",
        "Num proteins in ../data/b1hData/newDatabase/6varpos/F1/low/protein_seqs_JSD/CAT_protein_seqs_JSD.txt:  15958"
       ]
      },
      {
       "output_type": "stream",
       "stream": "stdout",
       "text": [
        "\n",
        "Num proteins in ../data/b1hData/newDatabase/6varpos/F1/low/protein_seqs_JSD/CCA_protein_seqs_JSD.txt:  24502"
       ]
      },
      {
       "output_type": "stream",
       "stream": "stdout",
       "text": [
        "\n",
        "Num proteins in ../data/b1hData/newDatabase/6varpos/F1/low/protein_seqs_JSD/CCC_protein_seqs_JSD.txt:  15941"
       ]
      },
      {
       "output_type": "stream",
       "stream": "stdout",
       "text": [
        "\n",
        "Num proteins in ../data/b1hData/newDatabase/6varpos/F1/low/protein_seqs_JSD/CCG_protein_seqs_JSD.txt:  18019"
       ]
      },
      {
       "output_type": "stream",
       "stream": "stdout",
       "text": [
        "\n",
        "Num proteins in ../data/b1hData/newDatabase/6varpos/F1/low/protein_seqs_JSD/CCT_protein_seqs_JSD.txt:  13909"
       ]
      },
      {
       "output_type": "stream",
       "stream": "stdout",
       "text": [
        "\n",
        "Num proteins in ../data/b1hData/newDatabase/6varpos/F1/low/protein_seqs_JSD/CGA_protein_seqs_JSD.txt:  49980"
       ]
      },
      {
       "output_type": "stream",
       "stream": "stdout",
       "text": [
        "\n",
        "Num proteins in ../data/b1hData/newDatabase/6varpos/F1/low/protein_seqs_JSD/CGC_protein_seqs_JSD.txt:  9542"
       ]
      },
      {
       "output_type": "stream",
       "stream": "stdout",
       "text": [
        "\n",
        "Num proteins in ../data/b1hData/newDatabase/6varpos/F1/low/protein_seqs_JSD/CGG_protein_seqs_JSD.txt:  14662"
       ]
      },
      {
       "output_type": "stream",
       "stream": "stdout",
       "text": [
        "\n",
        "Num proteins in ../data/b1hData/newDatabase/6varpos/F1/low/protein_seqs_JSD/CGT_protein_seqs_JSD.txt:  266804"
       ]
      },
      {
       "output_type": "stream",
       "stream": "stdout",
       "text": [
        "\n",
        "Num proteins in ../data/b1hData/newDatabase/6varpos/F1/low/protein_seqs_JSD/CTA_protein_seqs_JSD.txt:  276624"
       ]
      },
      {
       "output_type": "stream",
       "stream": "stdout",
       "text": [
        "\n",
        "Num proteins in ../data/b1hData/newDatabase/6varpos/F1/low/protein_seqs_JSD/CTC_protein_seqs_JSD.txt:  46638"
       ]
      },
      {
       "output_type": "stream",
       "stream": "stdout",
       "text": [
        "\n",
        "Num proteins in ../data/b1hData/newDatabase/6varpos/F1/low/protein_seqs_JSD/CTG_protein_seqs_JSD.txt:  11184"
       ]
      },
      {
       "output_type": "stream",
       "stream": "stdout",
       "text": [
        "\n",
        "Num proteins in ../data/b1hData/newDatabase/6varpos/F1/low/protein_seqs_JSD/CTT_protein_seqs_JSD.txt:  11172"
       ]
      },
      {
       "output_type": "stream",
       "stream": "stdout",
       "text": [
        "\n",
        "Num proteins in ../data/b1hData/newDatabase/6varpos/F1/low/protein_seqs_JSD/GAA_protein_seqs_JSD.txt:  11165"
       ]
      },
      {
       "output_type": "stream",
       "stream": "stdout",
       "text": [
        "\n",
        "Num proteins in ../data/b1hData/newDatabase/6varpos/F1/low/protein_seqs_JSD/GAC_protein_seqs_JSD.txt:  141500"
       ]
      },
      {
       "output_type": "stream",
       "stream": "stdout",
       "text": [
        "\n",
        "Num proteins in ../data/b1hData/newDatabase/6varpos/F1/low/protein_seqs_JSD/GAG_protein_seqs_JSD.txt:  15431"
       ]
      },
      {
       "output_type": "stream",
       "stream": "stdout",
       "text": [
        "\n",
        "Num proteins in ../data/b1hData/newDatabase/6varpos/F1/low/protein_seqs_JSD/GAT_protein_seqs_JSD.txt:  188158"
       ]
      },
      {
       "output_type": "stream",
       "stream": "stdout",
       "text": [
        "\n",
        "Num proteins in ../data/b1hData/newDatabase/6varpos/F1/low/protein_seqs_JSD/GCA_protein_seqs_JSD.txt:  16071"
       ]
      },
      {
       "output_type": "stream",
       "stream": "stdout",
       "text": [
        "\n",
        "Num proteins in ../data/b1hData/newDatabase/6varpos/F1/low/protein_seqs_JSD/GCC_protein_seqs_JSD.txt:  5812"
       ]
      },
      {
       "output_type": "stream",
       "stream": "stdout",
       "text": [
        "\n",
        "Num proteins in ../data/b1hData/newDatabase/6varpos/F1/low/protein_seqs_JSD/GCG_protein_seqs_JSD.txt:  12058"
       ]
      },
      {
       "output_type": "stream",
       "stream": "stdout",
       "text": [
        "\n",
        "Num proteins in ../data/b1hData/newDatabase/6varpos/F1/low/protein_seqs_JSD/GCT_protein_seqs_JSD.txt:  17663"
       ]
      },
      {
       "output_type": "stream",
       "stream": "stdout",
       "text": [
        "\n",
        "Num proteins in ../data/b1hData/newDatabase/6varpos/F1/low/protein_seqs_JSD/GGA_protein_seqs_JSD.txt:  19036"
       ]
      },
      {
       "output_type": "stream",
       "stream": "stdout",
       "text": [
        "\n",
        "Num proteins in ../data/b1hData/newDatabase/6varpos/F1/low/protein_seqs_JSD/GGC_protein_seqs_JSD.txt:  42382"
       ]
      },
      {
       "output_type": "stream",
       "stream": "stdout",
       "text": [
        "\n",
        "Num proteins in ../data/b1hData/newDatabase/6varpos/F1/low/protein_seqs_JSD/GGG_protein_seqs_JSD.txt:  12953"
       ]
      },
      {
       "output_type": "stream",
       "stream": "stdout",
       "text": [
        "\n",
        "Num proteins in ../data/b1hData/newDatabase/6varpos/F1/low/protein_seqs_JSD/GGT_protein_seqs_JSD.txt:  63825"
       ]
      },
      {
       "output_type": "stream",
       "stream": "stdout",
       "text": [
        "\n",
        "Num proteins in ../data/b1hData/newDatabase/6varpos/F1/low/protein_seqs_JSD/GTA_protein_seqs_JSD.txt:  12759"
       ]
      },
      {
       "output_type": "stream",
       "stream": "stdout",
       "text": [
        "\n",
        "Num proteins in ../data/b1hData/newDatabase/6varpos/F1/low/protein_seqs_JSD/GTC_protein_seqs_JSD.txt:  19502"
       ]
      },
      {
       "output_type": "stream",
       "stream": "stdout",
       "text": [
        "\n",
        "Num proteins in ../data/b1hData/newDatabase/6varpos/F1/low/protein_seqs_JSD/GTG_protein_seqs_JSD.txt:  11629"
       ]
      },
      {
       "output_type": "stream",
       "stream": "stdout",
       "text": [
        "\n",
        "Num proteins in ../data/b1hData/newDatabase/6varpos/F1/low/protein_seqs_JSD/GTT_protein_seqs_JSD.txt:  7681"
       ]
      },
      {
       "output_type": "stream",
       "stream": "stdout",
       "text": [
        "\n",
        "Num proteins in ../data/b1hData/newDatabase/6varpos/F1/low/protein_seqs_JSD/TAA_protein_seqs_JSD.txt:  53900"
       ]
      },
      {
       "output_type": "stream",
       "stream": "stdout",
       "text": [
        "\n",
        "Num proteins in ../data/b1hData/newDatabase/6varpos/F1/low/protein_seqs_JSD/TAC_protein_seqs_JSD.txt:  470890"
       ]
      },
      {
       "output_type": "stream",
       "stream": "stdout",
       "text": [
        "\n",
        "Num proteins in ../data/b1hData/newDatabase/6varpos/F1/low/protein_seqs_JSD/TAG_protein_seqs_JSD.txt:  86528"
       ]
      },
      {
       "output_type": "stream",
       "stream": "stdout",
       "text": [
        "\n",
        "Num proteins in ../data/b1hData/newDatabase/6varpos/F1/low/protein_seqs_JSD/TAT_protein_seqs_JSD.txt:  115660"
       ]
      },
      {
       "output_type": "stream",
       "stream": "stdout",
       "text": [
        "\n",
        "Num proteins in ../data/b1hData/newDatabase/6varpos/F1/low/protein_seqs_JSD/TCA_protein_seqs_JSD.txt:  13024"
       ]
      },
      {
       "output_type": "stream",
       "stream": "stdout",
       "text": [
        "\n",
        "Num proteins in ../data/b1hData/newDatabase/6varpos/F1/low/protein_seqs_JSD/TCC_protein_seqs_JSD.txt:  31071"
       ]
      },
      {
       "output_type": "stream",
       "stream": "stdout",
       "text": [
        "\n",
        "Num proteins in ../data/b1hData/newDatabase/6varpos/F1/low/protein_seqs_JSD/TCG_protein_seqs_JSD.txt:  6003"
       ]
      },
      {
       "output_type": "stream",
       "stream": "stdout",
       "text": [
        "\n",
        "Num proteins in ../data/b1hData/newDatabase/6varpos/F1/low/protein_seqs_JSD/TCT_protein_seqs_JSD.txt:  25930"
       ]
      },
      {
       "output_type": "stream",
       "stream": "stdout",
       "text": [
        "\n",
        "Num proteins in ../data/b1hData/newDatabase/6varpos/F1/low/protein_seqs_JSD/TGA_protein_seqs_JSD.txt:  35507"
       ]
      },
      {
       "output_type": "stream",
       "stream": "stdout",
       "text": [
        "\n",
        "Num proteins in ../data/b1hData/newDatabase/6varpos/F1/low/protein_seqs_JSD/TGC_protein_seqs_JSD.txt:  33192"
       ]
      },
      {
       "output_type": "stream",
       "stream": "stdout",
       "text": [
        "\n",
        "Num proteins in ../data/b1hData/newDatabase/6varpos/F1/low/protein_seqs_JSD/TGG_protein_seqs_JSD.txt:  10714"
       ]
      },
      {
       "output_type": "stream",
       "stream": "stdout",
       "text": [
        "\n",
        "Num proteins in ../data/b1hData/newDatabase/6varpos/F1/low/protein_seqs_JSD/TGT_protein_seqs_JSD.txt:  46435"
       ]
      },
      {
       "output_type": "stream",
       "stream": "stdout",
       "text": [
        "\n",
        "Num proteins in ../data/b1hData/newDatabase/6varpos/F1/low/protein_seqs_JSD/TTA_protein_seqs_JSD.txt:  12923"
       ]
      },
      {
       "output_type": "stream",
       "stream": "stdout",
       "text": [
        "\n",
        "Num proteins in ../data/b1hData/newDatabase/6varpos/F1/low/protein_seqs_JSD/TTC_protein_seqs_JSD.txt:  26411"
       ]
      },
      {
       "output_type": "stream",
       "stream": "stdout",
       "text": [
        "\n",
        "Num proteins in ../data/b1hData/newDatabase/6varpos/F1/low/protein_seqs_JSD/TTG_protein_seqs_JSD.txt:  46197"
       ]
      },
      {
       "output_type": "stream",
       "stream": "stdout",
       "text": [
        "\n",
        "Num proteins in ../data/b1hData/newDatabase/6varpos/F1/low/protein_seqs_JSD/TTT_protein_seqs_JSD.txt:  41782"
       ]
      },
      {
       "output_type": "stream",
       "stream": "stdout",
       "text": [
        "\n",
        "Total num protein/dna observations in all files:  2785109\n",
        "Total num unique proteins in all files:  2459511\n",
        "\n",
        "Num obs processed in csv to txt conversion:  2785109"
       ]
      },
      {
       "output_type": "stream",
       "stream": "stdout",
       "text": [
        "\n",
        "\n",
        "Num proteins in ../data/b1hData/newDatabase/6varpos/F2/high/protein_seqs_JSD/AAA_protein_seqs_JSD.txt:  15272"
       ]
      },
      {
       "output_type": "stream",
       "stream": "stdout",
       "text": [
        "\n",
        "Num proteins in ../data/b1hData/newDatabase/6varpos/F2/high/protein_seqs_JSD/AAC_protein_seqs_JSD.txt:  16725"
       ]
      },
      {
       "output_type": "stream",
       "stream": "stdout",
       "text": [
        "\n",
        "Num proteins in ../data/b1hData/newDatabase/6varpos/F2/high/protein_seqs_JSD/AAG_protein_seqs_JSD.txt:  14563"
       ]
      },
      {
       "output_type": "stream",
       "stream": "stdout",
       "text": [
        "\n",
        "Num proteins in ../data/b1hData/newDatabase/6varpos/F2/high/protein_seqs_JSD/AAT_protein_seqs_JSD.txt:  7995"
       ]
      },
      {
       "output_type": "stream",
       "stream": "stdout",
       "text": [
        "\n",
        "Num proteins in ../data/b1hData/newDatabase/6varpos/F2/high/protein_seqs_JSD/ACA_protein_seqs_JSD.txt:  14026"
       ]
      },
      {
       "output_type": "stream",
       "stream": "stdout",
       "text": [
        "\n",
        "Num proteins in ../data/b1hData/newDatabase/6varpos/F2/high/protein_seqs_JSD/ACC_protein_seqs_JSD.txt:  12080"
       ]
      },
      {
       "output_type": "stream",
       "stream": "stdout",
       "text": [
        "\n",
        "Num proteins in ../data/b1hData/newDatabase/6varpos/F2/high/protein_seqs_JSD/ACG_protein_seqs_JSD.txt:  28442"
       ]
      },
      {
       "output_type": "stream",
       "stream": "stdout",
       "text": [
        "\n",
        "Num proteins in ../data/b1hData/newDatabase/6varpos/F2/high/protein_seqs_JSD/ACT_protein_seqs_JSD.txt:  23403"
       ]
      },
      {
       "output_type": "stream",
       "stream": "stdout",
       "text": [
        "\n",
        "Num proteins in ../data/b1hData/newDatabase/6varpos/F2/high/protein_seqs_JSD/AGA_protein_seqs_JSD.txt:  12941"
       ]
      },
      {
       "output_type": "stream",
       "stream": "stdout",
       "text": [
        "\n",
        "Num proteins in ../data/b1hData/newDatabase/6varpos/F2/high/protein_seqs_JSD/AGC_protein_seqs_JSD.txt:  10826"
       ]
      },
      {
       "output_type": "stream",
       "stream": "stdout",
       "text": [
        "\n",
        "Num proteins in ../data/b1hData/newDatabase/6varpos/F2/high/protein_seqs_JSD/AGG_protein_seqs_JSD.txt:  15912"
       ]
      },
      {
       "output_type": "stream",
       "stream": "stdout",
       "text": [
        "\n",
        "Num proteins in ../data/b1hData/newDatabase/6varpos/F2/high/protein_seqs_JSD/AGT_protein_seqs_JSD.txt:  31422"
       ]
      },
      {
       "output_type": "stream",
       "stream": "stdout",
       "text": [
        "\n",
        "Num proteins in ../data/b1hData/newDatabase/6varpos/F2/high/protein_seqs_JSD/ATA_protein_seqs_JSD.txt:  72786"
       ]
      },
      {
       "output_type": "stream",
       "stream": "stdout",
       "text": [
        "\n",
        "Num proteins in ../data/b1hData/newDatabase/6varpos/F2/high/protein_seqs_JSD/ATC_protein_seqs_JSD.txt:  15152"
       ]
      },
      {
       "output_type": "stream",
       "stream": "stdout",
       "text": [
        "\n",
        "Num proteins in ../data/b1hData/newDatabase/6varpos/F2/high/protein_seqs_JSD/ATG_protein_seqs_JSD.txt:  10461"
       ]
      },
      {
       "output_type": "stream",
       "stream": "stdout",
       "text": [
        "\n",
        "Num proteins in ../data/b1hData/newDatabase/6varpos/F2/high/protein_seqs_JSD/ATT_protein_seqs_JSD.txt:  11757"
       ]
      },
      {
       "output_type": "stream",
       "stream": "stdout",
       "text": [
        "\n",
        "Num proteins in ../data/b1hData/newDatabase/6varpos/F2/high/protein_seqs_JSD/CAA_protein_seqs_JSD.txt:  94167"
       ]
      },
      {
       "output_type": "stream",
       "stream": "stdout",
       "text": [
        "\n",
        "Num proteins in ../data/b1hData/newDatabase/6varpos/F2/high/protein_seqs_JSD/CAC_protein_seqs_JSD.txt:  14345"
       ]
      },
      {
       "output_type": "stream",
       "stream": "stdout",
       "text": [
        "\n",
        "Num proteins in ../data/b1hData/newDatabase/6varpos/F2/high/protein_seqs_JSD/CAG_protein_seqs_JSD.txt:  20118"
       ]
      },
      {
       "output_type": "stream",
       "stream": "stdout",
       "text": [
        "\n",
        "Num proteins in ../data/b1hData/newDatabase/6varpos/F2/high/protein_seqs_JSD/CAT_protein_seqs_JSD.txt:  18145"
       ]
      },
      {
       "output_type": "stream",
       "stream": "stdout",
       "text": [
        "\n",
        "Num proteins in ../data/b1hData/newDatabase/6varpos/F2/high/protein_seqs_JSD/CCA_protein_seqs_JSD.txt:  47337"
       ]
      },
      {
       "output_type": "stream",
       "stream": "stdout",
       "text": [
        "\n",
        "Num proteins in ../data/b1hData/newDatabase/6varpos/F2/high/protein_seqs_JSD/CCC_protein_seqs_JSD.txt:  13799"
       ]
      },
      {
       "output_type": "stream",
       "stream": "stdout",
       "text": [
        "\n",
        "Num proteins in ../data/b1hData/newDatabase/6varpos/F2/high/protein_seqs_JSD/CCG_protein_seqs_JSD.txt:  66936"
       ]
      },
      {
       "output_type": "stream",
       "stream": "stdout",
       "text": [
        "\n",
        "Num proteins in ../data/b1hData/newDatabase/6varpos/F2/high/protein_seqs_JSD/CCT_protein_seqs_JSD.txt:  14032"
       ]
      },
      {
       "output_type": "stream",
       "stream": "stdout",
       "text": [
        "\n",
        "Num proteins in ../data/b1hData/newDatabase/6varpos/F2/high/protein_seqs_JSD/CGA_protein_seqs_JSD.txt:  14989"
       ]
      },
      {
       "output_type": "stream",
       "stream": "stdout",
       "text": [
        "\n",
        "Num proteins in ../data/b1hData/newDatabase/6varpos/F2/high/protein_seqs_JSD/CGC_protein_seqs_JSD.txt:  14443"
       ]
      },
      {
       "output_type": "stream",
       "stream": "stdout",
       "text": [
        "\n",
        "Num proteins in ../data/b1hData/newDatabase/6varpos/F2/high/protein_seqs_JSD/CGG_protein_seqs_JSD.txt:  36328"
       ]
      },
      {
       "output_type": "stream",
       "stream": "stdout",
       "text": [
        "\n",
        "Num proteins in ../data/b1hData/newDatabase/6varpos/F2/high/protein_seqs_JSD/CGT_protein_seqs_JSD.txt:  17147"
       ]
      },
      {
       "output_type": "stream",
       "stream": "stdout",
       "text": [
        "\n",
        "Num proteins in ../data/b1hData/newDatabase/6varpos/F2/high/protein_seqs_JSD/CTA_protein_seqs_JSD.txt:  102147"
       ]
      },
      {
       "output_type": "stream",
       "stream": "stdout",
       "text": [
        "\n",
        "Num proteins in ../data/b1hData/newDatabase/6varpos/F2/high/protein_seqs_JSD/CTC_protein_seqs_JSD.txt:  36333"
       ]
      },
      {
       "output_type": "stream",
       "stream": "stdout",
       "text": [
        "\n",
        "Num proteins in ../data/b1hData/newDatabase/6varpos/F2/high/protein_seqs_JSD/CTG_protein_seqs_JSD.txt:  63930"
       ]
      },
      {
       "output_type": "stream",
       "stream": "stdout",
       "text": [
        "\n",
        "Num proteins in ../data/b1hData/newDatabase/6varpos/F2/high/protein_seqs_JSD/CTT_protein_seqs_JSD.txt:  26266"
       ]
      },
      {
       "output_type": "stream",
       "stream": "stdout",
       "text": [
        "\n",
        "Num proteins in ../data/b1hData/newDatabase/6varpos/F2/high/protein_seqs_JSD/GAA_protein_seqs_JSD.txt:  16478"
       ]
      },
      {
       "output_type": "stream",
       "stream": "stdout",
       "text": [
        "\n",
        "Num proteins in ../data/b1hData/newDatabase/6varpos/F2/high/protein_seqs_JSD/GAC_protein_seqs_JSD.txt:  33232"
       ]
      },
      {
       "output_type": "stream",
       "stream": "stdout",
       "text": [
        "\n",
        "Num proteins in ../data/b1hData/newDatabase/6varpos/F2/high/protein_seqs_JSD/GAG_protein_seqs_JSD.txt:  17511"
       ]
      },
      {
       "output_type": "stream",
       "stream": "stdout",
       "text": [
        "\n",
        "Num proteins in ../data/b1hData/newDatabase/6varpos/F2/high/protein_seqs_JSD/GAT_protein_seqs_JSD.txt:  39531"
       ]
      },
      {
       "output_type": "stream",
       "stream": "stdout",
       "text": [
        "\n",
        "Num proteins in ../data/b1hData/newDatabase/6varpos/F2/high/protein_seqs_JSD/GCA_protein_seqs_JSD.txt:  42351"
       ]
      },
      {
       "output_type": "stream",
       "stream": "stdout",
       "text": [
        "\n",
        "Num proteins in ../data/b1hData/newDatabase/6varpos/F2/high/protein_seqs_JSD/GCC_protein_seqs_JSD.txt:  49242"
       ]
      },
      {
       "output_type": "stream",
       "stream": "stdout",
       "text": [
        "\n",
        "Num proteins in ../data/b1hData/newDatabase/6varpos/F2/high/protein_seqs_JSD/GCG_protein_seqs_JSD.txt:  32371"
       ]
      },
      {
       "output_type": "stream",
       "stream": "stdout",
       "text": [
        "\n",
        "Num proteins in ../data/b1hData/newDatabase/6varpos/F2/high/protein_seqs_JSD/GCT_protein_seqs_JSD.txt:  38486"
       ]
      },
      {
       "output_type": "stream",
       "stream": "stdout",
       "text": [
        "\n",
        "Num proteins in ../data/b1hData/newDatabase/6varpos/F2/high/protein_seqs_JSD/GGA_protein_seqs_JSD.txt:  39214"
       ]
      },
      {
       "output_type": "stream",
       "stream": "stdout",
       "text": [
        "\n",
        "Num proteins in ../data/b1hData/newDatabase/6varpos/F2/high/protein_seqs_JSD/GGC_protein_seqs_JSD.txt:  58037"
       ]
      },
      {
       "output_type": "stream",
       "stream": "stdout",
       "text": [
        "\n",
        "Num proteins in ../data/b1hData/newDatabase/6varpos/F2/high/protein_seqs_JSD/GGG_protein_seqs_JSD.txt:  23059"
       ]
      },
      {
       "output_type": "stream",
       "stream": "stdout",
       "text": [
        "\n",
        "Num proteins in ../data/b1hData/newDatabase/6varpos/F2/high/protein_seqs_JSD/GGT_protein_seqs_JSD.txt:  36785"
       ]
      },
      {
       "output_type": "stream",
       "stream": "stdout",
       "text": [
        "\n",
        "Num proteins in ../data/b1hData/newDatabase/6varpos/F2/high/protein_seqs_JSD/GTA_protein_seqs_JSD.txt:  13798"
       ]
      },
      {
       "output_type": "stream",
       "stream": "stdout",
       "text": [
        "\n",
        "Num proteins in ../data/b1hData/newDatabase/6varpos/F2/high/protein_seqs_JSD/GTC_protein_seqs_JSD.txt:  21527"
       ]
      },
      {
       "output_type": "stream",
       "stream": "stdout",
       "text": [
        "\n",
        "Num proteins in ../data/b1hData/newDatabase/6varpos/F2/high/protein_seqs_JSD/GTG_protein_seqs_JSD.txt:  32641"
       ]
      },
      {
       "output_type": "stream",
       "stream": "stdout",
       "text": [
        "\n",
        "Num proteins in ../data/b1hData/newDatabase/6varpos/F2/high/protein_seqs_JSD/GTT_protein_seqs_JSD.txt:  24223"
       ]
      },
      {
       "output_type": "stream",
       "stream": "stdout",
       "text": [
        "\n",
        "Num proteins in ../data/b1hData/newDatabase/6varpos/F2/high/protein_seqs_JSD/TAA_protein_seqs_JSD.txt:  15937"
       ]
      },
      {
       "output_type": "stream",
       "stream": "stdout",
       "text": [
        "\n",
        "Num proteins in ../data/b1hData/newDatabase/6varpos/F2/high/protein_seqs_JSD/TAC_protein_seqs_JSD.txt:  10062"
       ]
      },
      {
       "output_type": "stream",
       "stream": "stdout",
       "text": [
        "\n",
        "Num proteins in ../data/b1hData/newDatabase/6varpos/F2/high/protein_seqs_JSD/TAG_protein_seqs_JSD.txt:  29800"
       ]
      },
      {
       "output_type": "stream",
       "stream": "stdout",
       "text": [
        "\n",
        "Num proteins in ../data/b1hData/newDatabase/6varpos/F2/high/protein_seqs_JSD/TAT_protein_seqs_JSD.txt:  34767"
       ]
      },
      {
       "output_type": "stream",
       "stream": "stdout",
       "text": [
        "\n",
        "Num proteins in ../data/b1hData/newDatabase/6varpos/F2/high/protein_seqs_JSD/TCA_protein_seqs_JSD.txt:  19947"
       ]
      },
      {
       "output_type": "stream",
       "stream": "stdout",
       "text": [
        "\n",
        "Num proteins in ../data/b1hData/newDatabase/6varpos/F2/high/protein_seqs_JSD/TCC_protein_seqs_JSD.txt:  7658"
       ]
      },
      {
       "output_type": "stream",
       "stream": "stdout",
       "text": [
        "\n",
        "Num proteins in ../data/b1hData/newDatabase/6varpos/F2/high/protein_seqs_JSD/TCG_protein_seqs_JSD.txt:  42655"
       ]
      },
      {
       "output_type": "stream",
       "stream": "stdout",
       "text": [
        "\n",
        "Num proteins in ../data/b1hData/newDatabase/6varpos/F2/high/protein_seqs_JSD/TCT_protein_seqs_JSD.txt:  15000"
       ]
      },
      {
       "output_type": "stream",
       "stream": "stdout",
       "text": [
        "\n",
        "Num proteins in ../data/b1hData/newDatabase/6varpos/F2/high/protein_seqs_JSD/TGA_protein_seqs_JSD.txt:  28157"
       ]
      },
      {
       "output_type": "stream",
       "stream": "stdout",
       "text": [
        "\n",
        "Num proteins in ../data/b1hData/newDatabase/6varpos/F2/high/protein_seqs_JSD/TGC_protein_seqs_JSD.txt:  4674\n",
        "Num proteins in ../data/b1hData/newDatabase/6varpos/F2/high/protein_seqs_JSD/TGG_protein_seqs_JSD.txt:  30208"
       ]
      },
      {
       "output_type": "stream",
       "stream": "stdout",
       "text": [
        "\n",
        "Num proteins in ../data/b1hData/newDatabase/6varpos/F2/high/protein_seqs_JSD/TGT_protein_seqs_JSD.txt:  29521"
       ]
      },
      {
       "output_type": "stream",
       "stream": "stdout",
       "text": [
        "\n",
        "Num proteins in ../data/b1hData/newDatabase/6varpos/F2/high/protein_seqs_JSD/TTA_protein_seqs_JSD.txt:  86921"
       ]
      },
      {
       "output_type": "stream",
       "stream": "stdout",
       "text": [
        "\n",
        "Num proteins in ../data/b1hData/newDatabase/6varpos/F2/high/protein_seqs_JSD/TTC_protein_seqs_JSD.txt:  18108"
       ]
      },
      {
       "output_type": "stream",
       "stream": "stdout",
       "text": [
        "\n",
        "Num proteins in ../data/b1hData/newDatabase/6varpos/F2/high/protein_seqs_JSD/TTG_protein_seqs_JSD.txt:  8431"
       ]
      },
      {
       "output_type": "stream",
       "stream": "stdout",
       "text": [
        "\n",
        "Num proteins in ../data/b1hData/newDatabase/6varpos/F2/high/protein_seqs_JSD/TTT_protein_seqs_JSD.txt:  21005"
       ]
      },
      {
       "output_type": "stream",
       "stream": "stdout",
       "text": [
        "\n",
        "Total num protein/dna observations in all files:  1835562\n",
        "Total num unique proteins in all files:  1581220\n",
        "\n",
        "Num obs processed in csv to txt conversion:  1835562"
       ]
      },
      {
       "output_type": "stream",
       "stream": "stdout",
       "text": [
        "\n",
        "\n",
        "Num proteins in ../data/b1hData/newDatabase/6varpos/F2/low/protein_seqs_JSD/AAA_protein_seqs_JSD.txt:  29526"
       ]
      },
      {
       "output_type": "stream",
       "stream": "stdout",
       "text": [
        "\n",
        "Num proteins in ../data/b1hData/newDatabase/6varpos/F2/low/protein_seqs_JSD/AAC_protein_seqs_JSD.txt:  59315"
       ]
      },
      {
       "output_type": "stream",
       "stream": "stdout",
       "text": [
        "\n",
        "Num proteins in ../data/b1hData/newDatabase/6varpos/F2/low/protein_seqs_JSD/AAG_protein_seqs_JSD.txt:  35321"
       ]
      },
      {
       "output_type": "stream",
       "stream": "stdout",
       "text": [
        "\n",
        "Num proteins in ../data/b1hData/newDatabase/6varpos/F2/low/protein_seqs_JSD/AAT_protein_seqs_JSD.txt:  53047"
       ]
      },
      {
       "output_type": "stream",
       "stream": "stdout",
       "text": [
        "\n",
        "Num proteins in ../data/b1hData/newDatabase/6varpos/F2/low/protein_seqs_JSD/ACA_protein_seqs_JSD.txt:  49661"
       ]
      },
      {
       "output_type": "stream",
       "stream": "stdout",
       "text": [
        "\n",
        "Num proteins in ../data/b1hData/newDatabase/6varpos/F2/low/protein_seqs_JSD/ACC_protein_seqs_JSD.txt:  33768"
       ]
      },
      {
       "output_type": "stream",
       "stream": "stdout",
       "text": [
        "\n",
        "Num proteins in ../data/b1hData/newDatabase/6varpos/F2/low/protein_seqs_JSD/ACG_protein_seqs_JSD.txt:  60863"
       ]
      },
      {
       "output_type": "stream",
       "stream": "stdout",
       "text": [
        "\n",
        "Num proteins in ../data/b1hData/newDatabase/6varpos/F2/low/protein_seqs_JSD/ACT_protein_seqs_JSD.txt:  64758"
       ]
      },
      {
       "output_type": "stream",
       "stream": "stdout",
       "text": [
        "\n",
        "Num proteins in ../data/b1hData/newDatabase/6varpos/F2/low/protein_seqs_JSD/AGA_protein_seqs_JSD.txt:  36408"
       ]
      },
      {
       "output_type": "stream",
       "stream": "stdout",
       "text": [
        "\n",
        "Num proteins in ../data/b1hData/newDatabase/6varpos/F2/low/protein_seqs_JSD/AGC_protein_seqs_JSD.txt:  22562"
       ]
      },
      {
       "output_type": "stream",
       "stream": "stdout",
       "text": [
        "\n",
        "Num proteins in ../data/b1hData/newDatabase/6varpos/F2/low/protein_seqs_JSD/AGG_protein_seqs_JSD.txt:  42786"
       ]
      },
      {
       "output_type": "stream",
       "stream": "stdout",
       "text": [
        "\n",
        "Num proteins in ../data/b1hData/newDatabase/6varpos/F2/low/protein_seqs_JSD/AGT_protein_seqs_JSD.txt:  56902"
       ]
      },
      {
       "output_type": "stream",
       "stream": "stdout",
       "text": [
        "\n",
        "Num proteins in ../data/b1hData/newDatabase/6varpos/F2/low/protein_seqs_JSD/ATA_protein_seqs_JSD.txt:  38519"
       ]
      },
      {
       "output_type": "stream",
       "stream": "stdout",
       "text": [
        "\n",
        "Num proteins in ../data/b1hData/newDatabase/6varpos/F2/low/protein_seqs_JSD/ATC_protein_seqs_JSD.txt:  44814"
       ]
      },
      {
       "output_type": "stream",
       "stream": "stdout",
       "text": [
        "\n",
        "Num proteins in ../data/b1hData/newDatabase/6varpos/F2/low/protein_seqs_JSD/ATG_protein_seqs_JSD.txt:  48206"
       ]
      },
      {
       "output_type": "stream",
       "stream": "stdout",
       "text": [
        "\n",
        "Num proteins in ../data/b1hData/newDatabase/6varpos/F2/low/protein_seqs_JSD/ATT_protein_seqs_JSD.txt:  63075"
       ]
      },
      {
       "output_type": "stream",
       "stream": "stdout",
       "text": [
        "\n",
        "Num proteins in ../data/b1hData/newDatabase/6varpos/F2/low/protein_seqs_JSD/CAA_protein_seqs_JSD.txt:  26623"
       ]
      },
      {
       "output_type": "stream",
       "stream": "stdout",
       "text": [
        "\n",
        "Num proteins in ../data/b1hData/newDatabase/6varpos/F2/low/protein_seqs_JSD/CAC_protein_seqs_JSD.txt:  51574"
       ]
      },
      {
       "output_type": "stream",
       "stream": "stdout",
       "text": [
        "\n",
        "Num proteins in ../data/b1hData/newDatabase/6varpos/F2/low/protein_seqs_JSD/CAG_protein_seqs_JSD.txt:  60508"
       ]
      },
      {
       "output_type": "stream",
       "stream": "stdout",
       "text": [
        "\n",
        "Num proteins in ../data/b1hData/newDatabase/6varpos/F2/low/protein_seqs_JSD/CAT_protein_seqs_JSD.txt:  50714"
       ]
      },
      {
       "output_type": "stream",
       "stream": "stdout",
       "text": [
        "\n",
        "Num proteins in ../data/b1hData/newDatabase/6varpos/F2/low/protein_seqs_JSD/CCA_protein_seqs_JSD.txt:  23121"
       ]
      },
      {
       "output_type": "stream",
       "stream": "stdout",
       "text": [
        "\n",
        "Num proteins in ../data/b1hData/newDatabase/6varpos/F2/low/protein_seqs_JSD/CCC_protein_seqs_JSD.txt:  28939"
       ]
      },
      {
       "output_type": "stream",
       "stream": "stdout",
       "text": [
        "\n",
        "Num proteins in ../data/b1hData/newDatabase/6varpos/F2/low/protein_seqs_JSD/CCG_protein_seqs_JSD.txt:  22947"
       ]
      },
      {
       "output_type": "stream",
       "stream": "stdout",
       "text": [
        "\n",
        "Num proteins in ../data/b1hData/newDatabase/6varpos/F2/low/protein_seqs_JSD/CCT_protein_seqs_JSD.txt:  30926"
       ]
      },
      {
       "output_type": "stream",
       "stream": "stdout",
       "text": [
        "\n",
        "Num proteins in ../data/b1hData/newDatabase/6varpos/F2/low/protein_seqs_JSD/CGA_protein_seqs_JSD.txt:  24078"
       ]
      },
      {
       "output_type": "stream",
       "stream": "stdout",
       "text": [
        "\n",
        "Num proteins in ../data/b1hData/newDatabase/6varpos/F2/low/protein_seqs_JSD/CGC_protein_seqs_JSD.txt:  29900"
       ]
      },
      {
       "output_type": "stream",
       "stream": "stdout",
       "text": [
        "\n",
        "Num proteins in ../data/b1hData/newDatabase/6varpos/F2/low/protein_seqs_JSD/CGG_protein_seqs_JSD.txt:  58119"
       ]
      },
      {
       "output_type": "stream",
       "stream": "stdout",
       "text": [
        "\n",
        "Num proteins in ../data/b1hData/newDatabase/6varpos/F2/low/protein_seqs_JSD/CGT_protein_seqs_JSD.txt:  32511"
       ]
      },
      {
       "output_type": "stream",
       "stream": "stdout",
       "text": [
        "\n",
        "Num proteins in ../data/b1hData/newDatabase/6varpos/F2/low/protein_seqs_JSD/CTA_protein_seqs_JSD.txt:  37723"
       ]
      },
      {
       "output_type": "stream",
       "stream": "stdout",
       "text": [
        "\n",
        "Num proteins in ../data/b1hData/newDatabase/6varpos/F2/low/protein_seqs_JSD/CTC_protein_seqs_JSD.txt:  20941"
       ]
      },
      {
       "output_type": "stream",
       "stream": "stdout",
       "text": [
        "\n",
        "Num proteins in ../data/b1hData/newDatabase/6varpos/F2/low/protein_seqs_JSD/CTG_protein_seqs_JSD.txt:  49842"
       ]
      },
      {
       "output_type": "stream",
       "stream": "stdout",
       "text": [
        "\n",
        "Num proteins in ../data/b1hData/newDatabase/6varpos/F2/low/protein_seqs_JSD/CTT_protein_seqs_JSD.txt:  33204"
       ]
      },
      {
       "output_type": "stream",
       "stream": "stdout",
       "text": [
        "\n",
        "Num proteins in ../data/b1hData/newDatabase/6varpos/F2/low/protein_seqs_JSD/GAA_protein_seqs_JSD.txt:  24393"
       ]
      },
      {
       "output_type": "stream",
       "stream": "stdout",
       "text": [
        "\n",
        "Num proteins in ../data/b1hData/newDatabase/6varpos/F2/low/protein_seqs_JSD/GAC_protein_seqs_JSD.txt:  41024"
       ]
      },
      {
       "output_type": "stream",
       "stream": "stdout",
       "text": [
        "\n",
        "Num proteins in ../data/b1hData/newDatabase/6varpos/F2/low/protein_seqs_JSD/GAG_protein_seqs_JSD.txt:  36398"
       ]
      },
      {
       "output_type": "stream",
       "stream": "stdout",
       "text": [
        "\n",
        "Num proteins in ../data/b1hData/newDatabase/6varpos/F2/low/protein_seqs_JSD/GAT_protein_seqs_JSD.txt:  51340"
       ]
      },
      {
       "output_type": "stream",
       "stream": "stdout",
       "text": [
        "\n",
        "Num proteins in ../data/b1hData/newDatabase/6varpos/F2/low/protein_seqs_JSD/GCA_protein_seqs_JSD.txt:  37257"
       ]
      },
      {
       "output_type": "stream",
       "stream": "stdout",
       "text": [
        "\n",
        "Num proteins in ../data/b1hData/newDatabase/6varpos/F2/low/protein_seqs_JSD/GCC_protein_seqs_JSD.txt:  34776"
       ]
      },
      {
       "output_type": "stream",
       "stream": "stdout",
       "text": [
        "\n",
        "Num proteins in ../data/b1hData/newDatabase/6varpos/F2/low/protein_seqs_JSD/GCG_protein_seqs_JSD.txt:  56098"
       ]
      },
      {
       "output_type": "stream",
       "stream": "stdout",
       "text": [
        "\n",
        "Num proteins in ../data/b1hData/newDatabase/6varpos/F2/low/protein_seqs_JSD/GCT_protein_seqs_JSD.txt:  53821"
       ]
      },
      {
       "output_type": "stream",
       "stream": "stdout",
       "text": [
        "\n",
        "Num proteins in ../data/b1hData/newDatabase/6varpos/F2/low/protein_seqs_JSD/GGA_protein_seqs_JSD.txt:  83583"
       ]
      },
      {
       "output_type": "stream",
       "stream": "stdout",
       "text": [
        "\n",
        "Num proteins in ../data/b1hData/newDatabase/6varpos/F2/low/protein_seqs_JSD/GGC_protein_seqs_JSD.txt:  37728"
       ]
      },
      {
       "output_type": "stream",
       "stream": "stdout",
       "text": [
        "\n",
        "Num proteins in ../data/b1hData/newDatabase/6varpos/F2/low/protein_seqs_JSD/GGG_protein_seqs_JSD.txt:  47890"
       ]
      },
      {
       "output_type": "stream",
       "stream": "stdout",
       "text": [
        "\n",
        "Num proteins in ../data/b1hData/newDatabase/6varpos/F2/low/protein_seqs_JSD/GGT_protein_seqs_JSD.txt:  42783"
       ]
      },
      {
       "output_type": "stream",
       "stream": "stdout",
       "text": [
        "\n",
        "Num proteins in ../data/b1hData/newDatabase/6varpos/F2/low/protein_seqs_JSD/GTA_protein_seqs_JSD.txt:  30024"
       ]
      },
      {
       "output_type": "stream",
       "stream": "stdout",
       "text": [
        "\n",
        "Num proteins in ../data/b1hData/newDatabase/6varpos/F2/low/protein_seqs_JSD/GTC_protein_seqs_JSD.txt:  33499"
       ]
      },
      {
       "output_type": "stream",
       "stream": "stdout",
       "text": [
        "\n",
        "Num proteins in ../data/b1hData/newDatabase/6varpos/F2/low/protein_seqs_JSD/GTG_protein_seqs_JSD.txt:  52996"
       ]
      },
      {
       "output_type": "stream",
       "stream": "stdout",
       "text": [
        "\n",
        "Num proteins in ../data/b1hData/newDatabase/6varpos/F2/low/protein_seqs_JSD/GTT_protein_seqs_JSD.txt:  59616"
       ]
      },
      {
       "output_type": "stream",
       "stream": "stdout",
       "text": [
        "\n",
        "Num proteins in ../data/b1hData/newDatabase/6varpos/F2/low/protein_seqs_JSD/TAA_protein_seqs_JSD.txt:  22793"
       ]
      },
      {
       "output_type": "stream",
       "stream": "stdout",
       "text": [
        "\n",
        "Num proteins in ../data/b1hData/newDatabase/6varpos/F2/low/protein_seqs_JSD/TAC_protein_seqs_JSD.txt:  22323"
       ]
      },
      {
       "output_type": "stream",
       "stream": "stdout",
       "text": [
        "\n",
        "Num proteins in ../data/b1hData/newDatabase/6varpos/F2/low/protein_seqs_JSD/TAG_protein_seqs_JSD.txt:  14979"
       ]
      },
      {
       "output_type": "stream",
       "stream": "stdout",
       "text": [
        "\n",
        "Num proteins in ../data/b1hData/newDatabase/6varpos/F2/low/protein_seqs_JSD/TAT_protein_seqs_JSD.txt:  41916"
       ]
      },
      {
       "output_type": "stream",
       "stream": "stdout",
       "text": [
        "\n",
        "Num proteins in ../data/b1hData/newDatabase/6varpos/F2/low/protein_seqs_JSD/TCA_protein_seqs_JSD.txt:  18875"
       ]
      },
      {
       "output_type": "stream",
       "stream": "stdout",
       "text": [
        "\n",
        "Num proteins in ../data/b1hData/newDatabase/6varpos/F2/low/protein_seqs_JSD/TCC_protein_seqs_JSD.txt:  18912"
       ]
      },
      {
       "output_type": "stream",
       "stream": "stdout",
       "text": [
        "\n",
        "Num proteins in ../data/b1hData/newDatabase/6varpos/F2/low/protein_seqs_JSD/TCG_protein_seqs_JSD.txt:  27737"
       ]
      },
      {
       "output_type": "stream",
       "stream": "stdout",
       "text": [
        "\n",
        "Num proteins in ../data/b1hData/newDatabase/6varpos/F2/low/protein_seqs_JSD/TCT_protein_seqs_JSD.txt:  22941"
       ]
      },
      {
       "output_type": "stream",
       "stream": "stdout",
       "text": [
        "\n",
        "Num proteins in ../data/b1hData/newDatabase/6varpos/F2/low/protein_seqs_JSD/TGA_protein_seqs_JSD.txt:  34742"
       ]
      },
      {
       "output_type": "stream",
       "stream": "stdout",
       "text": [
        "\n",
        "Num proteins in ../data/b1hData/newDatabase/6varpos/F2/low/protein_seqs_JSD/TGC_protein_seqs_JSD.txt:  7834"
       ]
      },
      {
       "output_type": "stream",
       "stream": "stdout",
       "text": [
        "\n",
        "Num proteins in ../data/b1hData/newDatabase/6varpos/F2/low/protein_seqs_JSD/TGG_protein_seqs_JSD.txt:  51941"
       ]
      },
      {
       "output_type": "stream",
       "stream": "stdout",
       "text": [
        "\n",
        "Num proteins in ../data/b1hData/newDatabase/6varpos/F2/low/protein_seqs_JSD/TGT_protein_seqs_JSD.txt:  70563"
       ]
      },
      {
       "output_type": "stream",
       "stream": "stdout",
       "text": [
        "\n",
        "Num proteins in ../data/b1hData/newDatabase/6varpos/F2/low/protein_seqs_JSD/TTA_protein_seqs_JSD.txt:  44496"
       ]
      },
      {
       "output_type": "stream",
       "stream": "stdout",
       "text": [
        "\n",
        "Num proteins in ../data/b1hData/newDatabase/6varpos/F2/low/protein_seqs_JSD/TTC_protein_seqs_JSD.txt:  21598"
       ]
      },
      {
       "output_type": "stream",
       "stream": "stdout",
       "text": [
        "\n",
        "Num proteins in ../data/b1hData/newDatabase/6varpos/F2/low/protein_seqs_JSD/TTG_protein_seqs_JSD.txt:  41954"
       ]
      },
      {
       "output_type": "stream",
       "stream": "stdout",
       "text": [
        "\n",
        "Num proteins in ../data/b1hData/newDatabase/6varpos/F2/low/protein_seqs_JSD/TTT_protein_seqs_JSD.txt:  21728"
       ]
      },
      {
       "output_type": "stream",
       "stream": "stdout",
       "text": [
        "\n",
        "Total num protein/dna observations in all files:  2529759\n",
        "Total num unique proteins in all files:  1987116\n",
        "\n",
        "Num obs processed in csv to txt conversion:  2529759"
       ]
      },
      {
       "output_type": "stream",
       "stream": "stdout",
       "text": [
        "\n",
        "\n",
        "Num proteins in ../data/b1hData/newDatabase/6varpos/F3/high/protein_seqs_JSD/AAA_protein_seqs_JSD.txt:  72757"
       ]
      },
      {
       "output_type": "stream",
       "stream": "stdout",
       "text": [
        "\n",
        "Num proteins in ../data/b1hData/newDatabase/6varpos/F3/high/protein_seqs_JSD/AAC_protein_seqs_JSD.txt:  68780"
       ]
      },
      {
       "output_type": "stream",
       "stream": "stdout",
       "text": [
        "\n",
        "Num proteins in ../data/b1hData/newDatabase/6varpos/F3/high/protein_seqs_JSD/AAG_protein_seqs_JSD.txt:  19297"
       ]
      },
      {
       "output_type": "stream",
       "stream": "stdout",
       "text": [
        "\n",
        "Num proteins in ../data/b1hData/newDatabase/6varpos/F3/high/protein_seqs_JSD/AAT_protein_seqs_JSD.txt:  26589"
       ]
      },
      {
       "output_type": "stream",
       "stream": "stdout",
       "text": [
        "\n",
        "Num proteins in ../data/b1hData/newDatabase/6varpos/F3/high/protein_seqs_JSD/ACA_protein_seqs_JSD.txt:  58483"
       ]
      },
      {
       "output_type": "stream",
       "stream": "stdout",
       "text": [
        "\n",
        "Num proteins in ../data/b1hData/newDatabase/6varpos/F3/high/protein_seqs_JSD/ACC_protein_seqs_JSD.txt:  3791"
       ]
      },
      {
       "output_type": "stream",
       "stream": "stdout",
       "text": [
        "\n",
        "Num proteins in ../data/b1hData/newDatabase/6varpos/F3/high/protein_seqs_JSD/ACG_protein_seqs_JSD.txt:  30536"
       ]
      },
      {
       "output_type": "stream",
       "stream": "stdout",
       "text": [
        "\n",
        "Num proteins in ../data/b1hData/newDatabase/6varpos/F3/high/protein_seqs_JSD/ACT_protein_seqs_JSD.txt:  59053"
       ]
      },
      {
       "output_type": "stream",
       "stream": "stdout",
       "text": [
        "\n",
        "Num proteins in ../data/b1hData/newDatabase/6varpos/F3/high/protein_seqs_JSD/AGA_protein_seqs_JSD.txt:  3079\n",
        "Num proteins in ../data/b1hData/newDatabase/6varpos/F3/high/protein_seqs_JSD/AGC_protein_seqs_JSD.txt:  54451"
       ]
      },
      {
       "output_type": "stream",
       "stream": "stdout",
       "text": [
        "\n",
        "Num proteins in ../data/b1hData/newDatabase/6varpos/F3/high/protein_seqs_JSD/AGG_protein_seqs_JSD.txt:  56711"
       ]
      },
      {
       "output_type": "stream",
       "stream": "stdout",
       "text": [
        "\n",
        "Num proteins in ../data/b1hData/newDatabase/6varpos/F3/high/protein_seqs_JSD/AGT_protein_seqs_JSD.txt:  23767"
       ]
      },
      {
       "output_type": "stream",
       "stream": "stdout",
       "text": [
        "\n",
        "Num proteins in ../data/b1hData/newDatabase/6varpos/F3/high/protein_seqs_JSD/ATA_protein_seqs_JSD.txt:  53211"
       ]
      },
      {
       "output_type": "stream",
       "stream": "stdout",
       "text": [
        "\n",
        "Num proteins in ../data/b1hData/newDatabase/6varpos/F3/high/protein_seqs_JSD/ATC_protein_seqs_JSD.txt:  23918"
       ]
      },
      {
       "output_type": "stream",
       "stream": "stdout",
       "text": [
        "\n",
        "Num proteins in ../data/b1hData/newDatabase/6varpos/F3/high/protein_seqs_JSD/ATG_protein_seqs_JSD.txt:  42662"
       ]
      },
      {
       "output_type": "stream",
       "stream": "stdout",
       "text": [
        "\n",
        "Num proteins in ../data/b1hData/newDatabase/6varpos/F3/high/protein_seqs_JSD/ATT_protein_seqs_JSD.txt:  45157"
       ]
      },
      {
       "output_type": "stream",
       "stream": "stdout",
       "text": [
        "\n",
        "Num proteins in ../data/b1hData/newDatabase/6varpos/F3/high/protein_seqs_JSD/CAA_protein_seqs_JSD.txt:  71774"
       ]
      },
      {
       "output_type": "stream",
       "stream": "stdout",
       "text": [
        "\n",
        "Num proteins in ../data/b1hData/newDatabase/6varpos/F3/high/protein_seqs_JSD/CAC_protein_seqs_JSD.txt:  60610"
       ]
      },
      {
       "output_type": "stream",
       "stream": "stdout",
       "text": [
        "\n",
        "Num proteins in ../data/b1hData/newDatabase/6varpos/F3/high/protein_seqs_JSD/CAG_protein_seqs_JSD.txt:  23788"
       ]
      },
      {
       "output_type": "stream",
       "stream": "stdout",
       "text": [
        "\n",
        "Num proteins in ../data/b1hData/newDatabase/6varpos/F3/high/protein_seqs_JSD/CAT_protein_seqs_JSD.txt:  17947"
       ]
      },
      {
       "output_type": "stream",
       "stream": "stdout",
       "text": [
        "\n",
        "Num proteins in ../data/b1hData/newDatabase/6varpos/F3/high/protein_seqs_JSD/CCA_protein_seqs_JSD.txt:  74879"
       ]
      },
      {
       "output_type": "stream",
       "stream": "stdout",
       "text": [
        "\n",
        "Num proteins in ../data/b1hData/newDatabase/6varpos/F3/high/protein_seqs_JSD/CCC_protein_seqs_JSD.txt:  29464"
       ]
      },
      {
       "output_type": "stream",
       "stream": "stdout",
       "text": [
        "\n",
        "Num proteins in ../data/b1hData/newDatabase/6varpos/F3/high/protein_seqs_JSD/CCG_protein_seqs_JSD.txt:  14801"
       ]
      },
      {
       "output_type": "stream",
       "stream": "stdout",
       "text": [
        "\n",
        "Num proteins in ../data/b1hData/newDatabase/6varpos/F3/high/protein_seqs_JSD/CCT_protein_seqs_JSD.txt:  75149"
       ]
      },
      {
       "output_type": "stream",
       "stream": "stdout",
       "text": [
        "\n",
        "Num proteins in ../data/b1hData/newDatabase/6varpos/F3/high/protein_seqs_JSD/CGA_protein_seqs_JSD.txt:  152053"
       ]
      },
      {
       "output_type": "stream",
       "stream": "stdout",
       "text": [
        "\n",
        "Num proteins in ../data/b1hData/newDatabase/6varpos/F3/high/protein_seqs_JSD/CGC_protein_seqs_JSD.txt:  24761"
       ]
      },
      {
       "output_type": "stream",
       "stream": "stdout",
       "text": [
        "\n",
        "Num proteins in ../data/b1hData/newDatabase/6varpos/F3/high/protein_seqs_JSD/CGG_protein_seqs_JSD.txt:  3060"
       ]
      },
      {
       "output_type": "stream",
       "stream": "stdout",
       "text": [
        "\n",
        "Num proteins in ../data/b1hData/newDatabase/6varpos/F3/high/protein_seqs_JSD/CGT_protein_seqs_JSD.txt:  34142"
       ]
      },
      {
       "output_type": "stream",
       "stream": "stdout",
       "text": [
        "\n",
        "Num proteins in ../data/b1hData/newDatabase/6varpos/F3/high/protein_seqs_JSD/CTA_protein_seqs_JSD.txt:  39021"
       ]
      },
      {
       "output_type": "stream",
       "stream": "stdout",
       "text": [
        "\n",
        "Num proteins in ../data/b1hData/newDatabase/6varpos/F3/high/protein_seqs_JSD/CTC_protein_seqs_JSD.txt:  81402"
       ]
      },
      {
       "output_type": "stream",
       "stream": "stdout",
       "text": [
        "\n",
        "Num proteins in ../data/b1hData/newDatabase/6varpos/F3/high/protein_seqs_JSD/CTG_protein_seqs_JSD.txt:  39612"
       ]
      },
      {
       "output_type": "stream",
       "stream": "stdout",
       "text": [
        "\n",
        "Num proteins in ../data/b1hData/newDatabase/6varpos/F3/high/protein_seqs_JSD/CTT_protein_seqs_JSD.txt:  50536"
       ]
      },
      {
       "output_type": "stream",
       "stream": "stdout",
       "text": [
        "\n",
        "Num proteins in ../data/b1hData/newDatabase/6varpos/F3/high/protein_seqs_JSD/GAA_protein_seqs_JSD.txt:  29910"
       ]
      },
      {
       "output_type": "stream",
       "stream": "stdout",
       "text": [
        "\n",
        "Num proteins in ../data/b1hData/newDatabase/6varpos/F3/high/protein_seqs_JSD/GAC_protein_seqs_JSD.txt:  33682"
       ]
      },
      {
       "output_type": "stream",
       "stream": "stdout",
       "text": [
        "\n",
        "Num proteins in ../data/b1hData/newDatabase/6varpos/F3/high/protein_seqs_JSD/GAG_protein_seqs_JSD.txt:  27326"
       ]
      },
      {
       "output_type": "stream",
       "stream": "stdout",
       "text": [
        "\n",
        "Num proteins in ../data/b1hData/newDatabase/6varpos/F3/high/protein_seqs_JSD/GAT_protein_seqs_JSD.txt:  23058"
       ]
      },
      {
       "output_type": "stream",
       "stream": "stdout",
       "text": [
        "\n",
        "Num proteins in ../data/b1hData/newDatabase/6varpos/F3/high/protein_seqs_JSD/GCA_protein_seqs_JSD.txt:  27690"
       ]
      },
      {
       "output_type": "stream",
       "stream": "stdout",
       "text": [
        "\n",
        "Num proteins in ../data/b1hData/newDatabase/6varpos/F3/high/protein_seqs_JSD/GCC_protein_seqs_JSD.txt:  26551"
       ]
      },
      {
       "output_type": "stream",
       "stream": "stdout",
       "text": [
        "\n",
        "Num proteins in ../data/b1hData/newDatabase/6varpos/F3/high/protein_seqs_JSD/GCG_protein_seqs_JSD.txt:  21222"
       ]
      },
      {
       "output_type": "stream",
       "stream": "stdout",
       "text": [
        "\n",
        "Num proteins in ../data/b1hData/newDatabase/6varpos/F3/high/protein_seqs_JSD/GCT_protein_seqs_JSD.txt:  22056"
       ]
      },
      {
       "output_type": "stream",
       "stream": "stdout",
       "text": [
        "\n",
        "Num proteins in ../data/b1hData/newDatabase/6varpos/F3/high/protein_seqs_JSD/GGA_protein_seqs_JSD.txt:  15732"
       ]
      },
      {
       "output_type": "stream",
       "stream": "stdout",
       "text": [
        "\n",
        "Num proteins in ../data/b1hData/newDatabase/6varpos/F3/high/protein_seqs_JSD/GGC_protein_seqs_JSD.txt:  57193"
       ]
      },
      {
       "output_type": "stream",
       "stream": "stdout",
       "text": [
        "\n",
        "Num proteins in ../data/b1hData/newDatabase/6varpos/F3/high/protein_seqs_JSD/GGG_protein_seqs_JSD.txt:  23888"
       ]
      },
      {
       "output_type": "stream",
       "stream": "stdout",
       "text": [
        "\n",
        "Num proteins in ../data/b1hData/newDatabase/6varpos/F3/high/protein_seqs_JSD/GGT_protein_seqs_JSD.txt:  21280"
       ]
      },
      {
       "output_type": "stream",
       "stream": "stdout",
       "text": [
        "\n",
        "Num proteins in ../data/b1hData/newDatabase/6varpos/F3/high/protein_seqs_JSD/GTA_protein_seqs_JSD.txt:  11287"
       ]
      },
      {
       "output_type": "stream",
       "stream": "stdout",
       "text": [
        "\n",
        "Num proteins in ../data/b1hData/newDatabase/6varpos/F3/high/protein_seqs_JSD/GTC_protein_seqs_JSD.txt:  17377"
       ]
      },
      {
       "output_type": "stream",
       "stream": "stdout",
       "text": [
        "\n",
        "Num proteins in ../data/b1hData/newDatabase/6varpos/F3/high/protein_seqs_JSD/GTG_protein_seqs_JSD.txt:  18959"
       ]
      },
      {
       "output_type": "stream",
       "stream": "stdout",
       "text": [
        "\n",
        "Num proteins in ../data/b1hData/newDatabase/6varpos/F3/high/protein_seqs_JSD/GTT_protein_seqs_JSD.txt:  25077"
       ]
      },
      {
       "output_type": "stream",
       "stream": "stdout",
       "text": [
        "\n",
        "Num proteins in ../data/b1hData/newDatabase/6varpos/F3/high/protein_seqs_JSD/TAA_protein_seqs_JSD.txt:  163246"
       ]
      },
      {
       "output_type": "stream",
       "stream": "stdout",
       "text": [
        "\n",
        "Num proteins in ../data/b1hData/newDatabase/6varpos/F3/high/protein_seqs_JSD/TAC_protein_seqs_JSD.txt:  57060"
       ]
      },
      {
       "output_type": "stream",
       "stream": "stdout",
       "text": [
        "\n",
        "Num proteins in ../data/b1hData/newDatabase/6varpos/F3/high/protein_seqs_JSD/TAG_protein_seqs_JSD.txt:  22529"
       ]
      },
      {
       "output_type": "stream",
       "stream": "stdout",
       "text": [
        "\n",
        "Num proteins in ../data/b1hData/newDatabase/6varpos/F3/high/protein_seqs_JSD/TAT_protein_seqs_JSD.txt:  21637"
       ]
      },
      {
       "output_type": "stream",
       "stream": "stdout",
       "text": [
        "\n",
        "Num proteins in ../data/b1hData/newDatabase/6varpos/F3/high/protein_seqs_JSD/TCA_protein_seqs_JSD.txt:  195868"
       ]
      },
      {
       "output_type": "stream",
       "stream": "stdout",
       "text": [
        "\n",
        "Num proteins in ../data/b1hData/newDatabase/6varpos/F3/high/protein_seqs_JSD/TCC_protein_seqs_JSD.txt:  15346"
       ]
      },
      {
       "output_type": "stream",
       "stream": "stdout",
       "text": [
        "\n",
        "Num proteins in ../data/b1hData/newDatabase/6varpos/F3/high/protein_seqs_JSD/TCG_protein_seqs_JSD.txt:  49033"
       ]
      },
      {
       "output_type": "stream",
       "stream": "stdout",
       "text": [
        "\n",
        "Num proteins in ../data/b1hData/newDatabase/6varpos/F3/high/protein_seqs_JSD/TCT_protein_seqs_JSD.txt:  16927"
       ]
      },
      {
       "output_type": "stream",
       "stream": "stdout",
       "text": [
        "\n",
        "Num proteins in ../data/b1hData/newDatabase/6varpos/F3/high/protein_seqs_JSD/TGA_protein_seqs_JSD.txt:  16099"
       ]
      },
      {
       "output_type": "stream",
       "stream": "stdout",
       "text": [
        "\n",
        "Num proteins in ../data/b1hData/newDatabase/6varpos/F3/high/protein_seqs_JSD/TGC_protein_seqs_JSD.txt:  55486"
       ]
      },
      {
       "output_type": "stream",
       "stream": "stdout",
       "text": [
        "\n",
        "Num proteins in ../data/b1hData/newDatabase/6varpos/F3/high/protein_seqs_JSD/TGG_protein_seqs_JSD.txt:  3287\n",
        "Num proteins in ../data/b1hData/newDatabase/6varpos/F3/high/protein_seqs_JSD/TGT_protein_seqs_JSD.txt:  35550"
       ]
      },
      {
       "output_type": "stream",
       "stream": "stdout",
       "text": [
        "\n",
        "Num proteins in ../data/b1hData/newDatabase/6varpos/F3/high/protein_seqs_JSD/TTA_protein_seqs_JSD.txt:  80776"
       ]
      },
      {
       "output_type": "stream",
       "stream": "stdout",
       "text": [
        "\n",
        "Num proteins in ../data/b1hData/newDatabase/6varpos/F3/high/protein_seqs_JSD/TTC_protein_seqs_JSD.txt:  49379"
       ]
      },
      {
       "output_type": "stream",
       "stream": "stdout",
       "text": [
        "\n",
        "Num proteins in ../data/b1hData/newDatabase/6varpos/F3/high/protein_seqs_JSD/TTG_protein_seqs_JSD.txt:  58216"
       ]
      },
      {
       "output_type": "stream",
       "stream": "stdout",
       "text": [
        "\n",
        "Num proteins in ../data/b1hData/newDatabase/6varpos/F3/high/protein_seqs_JSD/TTT_protein_seqs_JSD.txt:  171606"
       ]
      },
      {
       "output_type": "stream",
       "stream": "stdout",
       "text": [
        "\n",
        "Total num protein/dna observations in all files:  2849574\n",
        "Total num unique proteins in all files:  2290439\n",
        "\n",
        "Num obs processed in csv to txt conversion:  2849574"
       ]
      },
      {
       "output_type": "stream",
       "stream": "stdout",
       "text": [
        "\n",
        "\n",
        "Num proteins in ../data/b1hData/newDatabase/6varpos/F3/low/protein_seqs_JSD/AAA_protein_seqs_JSD.txt:  58650"
       ]
      },
      {
       "output_type": "stream",
       "stream": "stdout",
       "text": [
        "\n",
        "Num proteins in ../data/b1hData/newDatabase/6varpos/F3/low/protein_seqs_JSD/AAC_protein_seqs_JSD.txt:  31842"
       ]
      },
      {
       "output_type": "stream",
       "stream": "stdout",
       "text": [
        "\n",
        "Num proteins in ../data/b1hData/newDatabase/6varpos/F3/low/protein_seqs_JSD/AAG_protein_seqs_JSD.txt:  37218"
       ]
      },
      {
       "output_type": "stream",
       "stream": "stdout",
       "text": [
        "\n",
        "Num proteins in ../data/b1hData/newDatabase/6varpos/F3/low/protein_seqs_JSD/AAT_protein_seqs_JSD.txt:  41023"
       ]
      },
      {
       "output_type": "stream",
       "stream": "stdout",
       "text": [
        "\n",
        "Num proteins in ../data/b1hData/newDatabase/6varpos/F3/low/protein_seqs_JSD/ACA_protein_seqs_JSD.txt:  47303"
       ]
      },
      {
       "output_type": "stream",
       "stream": "stdout",
       "text": [
        "\n",
        "Num proteins in ../data/b1hData/newDatabase/6varpos/F3/low/protein_seqs_JSD/ACC_protein_seqs_JSD.txt:  7089"
       ]
      },
      {
       "output_type": "stream",
       "stream": "stdout",
       "text": [
        "\n",
        "Num proteins in ../data/b1hData/newDatabase/6varpos/F3/low/protein_seqs_JSD/ACG_protein_seqs_JSD.txt:  32561"
       ]
      },
      {
       "output_type": "stream",
       "stream": "stdout",
       "text": [
        "\n",
        "Num proteins in ../data/b1hData/newDatabase/6varpos/F3/low/protein_seqs_JSD/ACT_protein_seqs_JSD.txt:  31747"
       ]
      },
      {
       "output_type": "stream",
       "stream": "stdout",
       "text": [
        "\n",
        "Num proteins in ../data/b1hData/newDatabase/6varpos/F3/low/protein_seqs_JSD/AGA_protein_seqs_JSD.txt:  6226"
       ]
      },
      {
       "output_type": "stream",
       "stream": "stdout",
       "text": [
        "\n",
        "Num proteins in ../data/b1hData/newDatabase/6varpos/F3/low/protein_seqs_JSD/AGC_protein_seqs_JSD.txt:  52656"
       ]
      },
      {
       "output_type": "stream",
       "stream": "stdout",
       "text": [
        "\n",
        "Num proteins in ../data/b1hData/newDatabase/6varpos/F3/low/protein_seqs_JSD/AGG_protein_seqs_JSD.txt:  35611"
       ]
      },
      {
       "output_type": "stream",
       "stream": "stdout",
       "text": [
        "\n",
        "Num proteins in ../data/b1hData/newDatabase/6varpos/F3/low/protein_seqs_JSD/AGT_protein_seqs_JSD.txt:  37856"
       ]
      },
      {
       "output_type": "stream",
       "stream": "stdout",
       "text": [
        "\n",
        "Num proteins in ../data/b1hData/newDatabase/6varpos/F3/low/protein_seqs_JSD/ATA_protein_seqs_JSD.txt:  44143"
       ]
      },
      {
       "output_type": "stream",
       "stream": "stdout",
       "text": [
        "\n",
        "Num proteins in ../data/b1hData/newDatabase/6varpos/F3/low/protein_seqs_JSD/ATC_protein_seqs_JSD.txt:  35908"
       ]
      },
      {
       "output_type": "stream",
       "stream": "stdout",
       "text": [
        "\n",
        "Num proteins in ../data/b1hData/newDatabase/6varpos/F3/low/protein_seqs_JSD/ATG_protein_seqs_JSD.txt:  32921"
       ]
      },
      {
       "output_type": "stream",
       "stream": "stdout",
       "text": [
        "\n",
        "Num proteins in ../data/b1hData/newDatabase/6varpos/F3/low/protein_seqs_JSD/ATT_protein_seqs_JSD.txt:  38438"
       ]
      },
      {
       "output_type": "stream",
       "stream": "stdout",
       "text": [
        "\n",
        "Num proteins in ../data/b1hData/newDatabase/6varpos/F3/low/protein_seqs_JSD/CAA_protein_seqs_JSD.txt:  29758"
       ]
      },
      {
       "output_type": "stream",
       "stream": "stdout",
       "text": [
        "\n",
        "Num proteins in ../data/b1hData/newDatabase/6varpos/F3/low/protein_seqs_JSD/CAC_protein_seqs_JSD.txt:  38280"
       ]
      },
      {
       "output_type": "stream",
       "stream": "stdout",
       "text": [
        "\n",
        "Num proteins in ../data/b1hData/newDatabase/6varpos/F3/low/protein_seqs_JSD/CAG_protein_seqs_JSD.txt:  31914"
       ]
      },
      {
       "output_type": "stream",
       "stream": "stdout",
       "text": [
        "\n",
        "Num proteins in ../data/b1hData/newDatabase/6varpos/F3/low/protein_seqs_JSD/CAT_protein_seqs_JSD.txt:  42221"
       ]
      },
      {
       "output_type": "stream",
       "stream": "stdout",
       "text": [
        "\n",
        "Num proteins in ../data/b1hData/newDatabase/6varpos/F3/low/protein_seqs_JSD/CCA_protein_seqs_JSD.txt:  43506"
       ]
      },
      {
       "output_type": "stream",
       "stream": "stdout",
       "text": [
        "\n",
        "Num proteins in ../data/b1hData/newDatabase/6varpos/F3/low/protein_seqs_JSD/CCC_protein_seqs_JSD.txt:  29429"
       ]
      },
      {
       "output_type": "stream",
       "stream": "stdout",
       "text": [
        "\n",
        "Num proteins in ../data/b1hData/newDatabase/6varpos/F3/low/protein_seqs_JSD/CCG_protein_seqs_JSD.txt:  37542"
       ]
      },
      {
       "output_type": "stream",
       "stream": "stdout",
       "text": [
        "\n",
        "Num proteins in ../data/b1hData/newDatabase/6varpos/F3/low/protein_seqs_JSD/CCT_protein_seqs_JSD.txt:  41261"
       ]
      },
      {
       "output_type": "stream",
       "stream": "stdout",
       "text": [
        "\n",
        "Num proteins in ../data/b1hData/newDatabase/6varpos/F3/low/protein_seqs_JSD/CGA_protein_seqs_JSD.txt:  74072"
       ]
      },
      {
       "output_type": "stream",
       "stream": "stdout",
       "text": [
        "\n",
        "Num proteins in ../data/b1hData/newDatabase/6varpos/F3/low/protein_seqs_JSD/CGC_protein_seqs_JSD.txt:  52185"
       ]
      },
      {
       "output_type": "stream",
       "stream": "stdout",
       "text": [
        "\n",
        "Num proteins in ../data/b1hData/newDatabase/6varpos/F3/low/protein_seqs_JSD/CGG_protein_seqs_JSD.txt:  12565"
       ]
      },
      {
       "output_type": "stream",
       "stream": "stdout",
       "text": [
        "\n",
        "Num proteins in ../data/b1hData/newDatabase/6varpos/F3/low/protein_seqs_JSD/CGT_protein_seqs_JSD.txt:  38349"
       ]
      },
      {
       "output_type": "stream",
       "stream": "stdout",
       "text": [
        "\n",
        "Num proteins in ../data/b1hData/newDatabase/6varpos/F3/low/protein_seqs_JSD/CTA_protein_seqs_JSD.txt:  69837"
       ]
      },
      {
       "output_type": "stream",
       "stream": "stdout",
       "text": [
        "\n",
        "Num proteins in ../data/b1hData/newDatabase/6varpos/F3/low/protein_seqs_JSD/CTC_protein_seqs_JSD.txt:  47659"
       ]
      },
      {
       "output_type": "stream",
       "stream": "stdout",
       "text": [
        "\n",
        "Num proteins in ../data/b1hData/newDatabase/6varpos/F3/low/protein_seqs_JSD/CTG_protein_seqs_JSD.txt:  71533"
       ]
      },
      {
       "output_type": "stream",
       "stream": "stdout",
       "text": [
        "\n",
        "Num proteins in ../data/b1hData/newDatabase/6varpos/F3/low/protein_seqs_JSD/CTT_protein_seqs_JSD.txt:  140639"
       ]
      },
      {
       "output_type": "stream",
       "stream": "stdout",
       "text": [
        "\n",
        "Num proteins in ../data/b1hData/newDatabase/6varpos/F3/low/protein_seqs_JSD/GAA_protein_seqs_JSD.txt:  32747"
       ]
      },
      {
       "output_type": "stream",
       "stream": "stdout",
       "text": [
        "\n",
        "Num proteins in ../data/b1hData/newDatabase/6varpos/F3/low/protein_seqs_JSD/GAC_protein_seqs_JSD.txt:  41023"
       ]
      },
      {
       "output_type": "stream",
       "stream": "stdout",
       "text": [
        "\n",
        "Num proteins in ../data/b1hData/newDatabase/6varpos/F3/low/protein_seqs_JSD/GAG_protein_seqs_JSD.txt:  44948"
       ]
      },
      {
       "output_type": "stream",
       "stream": "stdout",
       "text": [
        "\n",
        "Num proteins in ../data/b1hData/newDatabase/6varpos/F3/low/protein_seqs_JSD/GAT_protein_seqs_JSD.txt:  55225"
       ]
      },
      {
       "output_type": "stream",
       "stream": "stdout",
       "text": [
        "\n",
        "Num proteins in ../data/b1hData/newDatabase/6varpos/F3/low/protein_seqs_JSD/GCA_protein_seqs_JSD.txt:  30924"
       ]
      },
      {
       "output_type": "stream",
       "stream": "stdout",
       "text": [
        "\n",
        "Num proteins in ../data/b1hData/newDatabase/6varpos/F3/low/protein_seqs_JSD/GCC_protein_seqs_JSD.txt:  43708"
       ]
      },
      {
       "output_type": "stream",
       "stream": "stdout",
       "text": [
        "\n",
        "Num proteins in ../data/b1hData/newDatabase/6varpos/F3/low/protein_seqs_JSD/GCG_protein_seqs_JSD.txt:  40620"
       ]
      },
      {
       "output_type": "stream",
       "stream": "stdout",
       "text": [
        "\n",
        "Num proteins in ../data/b1hData/newDatabase/6varpos/F3/low/protein_seqs_JSD/GCT_protein_seqs_JSD.txt:  50510"
       ]
      },
      {
       "output_type": "stream",
       "stream": "stdout",
       "text": [
        "\n",
        "Num proteins in ../data/b1hData/newDatabase/6varpos/F3/low/protein_seqs_JSD/GGA_protein_seqs_JSD.txt:  29676"
       ]
      },
      {
       "output_type": "stream",
       "stream": "stdout",
       "text": [
        "\n",
        "Num proteins in ../data/b1hData/newDatabase/6varpos/F3/low/protein_seqs_JSD/GGC_protein_seqs_JSD.txt:  47502"
       ]
      },
      {
       "output_type": "stream",
       "stream": "stdout",
       "text": [
        "\n",
        "Num proteins in ../data/b1hData/newDatabase/6varpos/F3/low/protein_seqs_JSD/GGG_protein_seqs_JSD.txt:  47907"
       ]
      },
      {
       "output_type": "stream",
       "stream": "stdout",
       "text": [
        "\n",
        "Num proteins in ../data/b1hData/newDatabase/6varpos/F3/low/protein_seqs_JSD/GGT_protein_seqs_JSD.txt:  49616"
       ]
      },
      {
       "output_type": "stream",
       "stream": "stdout",
       "text": [
        "\n",
        "Num proteins in ../data/b1hData/newDatabase/6varpos/F3/low/protein_seqs_JSD/GTA_protein_seqs_JSD.txt:  32531"
       ]
      },
      {
       "output_type": "stream",
       "stream": "stdout",
       "text": [
        "\n",
        "Num proteins in ../data/b1hData/newDatabase/6varpos/F3/low/protein_seqs_JSD/GTC_protein_seqs_JSD.txt:  42589"
       ]
      },
      {
       "output_type": "stream",
       "stream": "stdout",
       "text": [
        "\n",
        "Num proteins in ../data/b1hData/newDatabase/6varpos/F3/low/protein_seqs_JSD/GTG_protein_seqs_JSD.txt:  49285"
       ]
      },
      {
       "output_type": "stream",
       "stream": "stdout",
       "text": [
        "\n",
        "Num proteins in ../data/b1hData/newDatabase/6varpos/F3/low/protein_seqs_JSD/GTT_protein_seqs_JSD.txt:  66511"
       ]
      },
      {
       "output_type": "stream",
       "stream": "stdout",
       "text": [
        "\n",
        "Num proteins in ../data/b1hData/newDatabase/6varpos/F3/low/protein_seqs_JSD/TAA_protein_seqs_JSD.txt:  21361"
       ]
      },
      {
       "output_type": "stream",
       "stream": "stdout",
       "text": [
        "\n",
        "Num proteins in ../data/b1hData/newDatabase/6varpos/F3/low/protein_seqs_JSD/TAC_protein_seqs_JSD.txt:  29803"
       ]
      },
      {
       "output_type": "stream",
       "stream": "stdout",
       "text": [
        "\n",
        "Num proteins in ../data/b1hData/newDatabase/6varpos/F3/low/protein_seqs_JSD/TAG_protein_seqs_JSD.txt:  25824"
       ]
      },
      {
       "output_type": "stream",
       "stream": "stdout",
       "text": [
        "\n",
        "Num proteins in ../data/b1hData/newDatabase/6varpos/F3/low/protein_seqs_JSD/TAT_protein_seqs_JSD.txt:  32147"
       ]
      },
      {
       "output_type": "stream",
       "stream": "stdout",
       "text": [
        "\n",
        "Num proteins in ../data/b1hData/newDatabase/6varpos/F3/low/protein_seqs_JSD/TCA_protein_seqs_JSD.txt:  57405"
       ]
      },
      {
       "output_type": "stream",
       "stream": "stdout",
       "text": [
        "\n",
        "Num proteins in ../data/b1hData/newDatabase/6varpos/F3/low/protein_seqs_JSD/TCC_protein_seqs_JSD.txt:  20745"
       ]
      },
      {
       "output_type": "stream",
       "stream": "stdout",
       "text": [
        "\n",
        "Num proteins in ../data/b1hData/newDatabase/6varpos/F3/low/protein_seqs_JSD/TCG_protein_seqs_JSD.txt:  23679"
       ]
      },
      {
       "output_type": "stream",
       "stream": "stdout",
       "text": [
        "\n",
        "Num proteins in ../data/b1hData/newDatabase/6varpos/F3/low/protein_seqs_JSD/TCT_protein_seqs_JSD.txt:  45151"
       ]
      },
      {
       "output_type": "stream",
       "stream": "stdout",
       "text": [
        "\n",
        "Num proteins in ../data/b1hData/newDatabase/6varpos/F3/low/protein_seqs_JSD/TGA_protein_seqs_JSD.txt:  31949"
       ]
      },
      {
       "output_type": "stream",
       "stream": "stdout",
       "text": [
        "\n",
        "Num proteins in ../data/b1hData/newDatabase/6varpos/F3/low/protein_seqs_JSD/TGC_protein_seqs_JSD.txt:  49481"
       ]
      },
      {
       "output_type": "stream",
       "stream": "stdout",
       "text": [
        "\n",
        "Num proteins in ../data/b1hData/newDatabase/6varpos/F3/low/protein_seqs_JSD/TGG_protein_seqs_JSD.txt:  12071"
       ]
      },
      {
       "output_type": "stream",
       "stream": "stdout",
       "text": [
        "\n",
        "Num proteins in ../data/b1hData/newDatabase/6varpos/F3/low/protein_seqs_JSD/TGT_protein_seqs_JSD.txt:  68781"
       ]
      },
      {
       "output_type": "stream",
       "stream": "stdout",
       "text": [
        "\n",
        "Num proteins in ../data/b1hData/newDatabase/6varpos/F3/low/protein_seqs_JSD/TTA_protein_seqs_JSD.txt:  102795"
       ]
      },
      {
       "output_type": "stream",
       "stream": "stdout",
       "text": [
        "\n",
        "Num proteins in ../data/b1hData/newDatabase/6varpos/F3/low/protein_seqs_JSD/TTC_protein_seqs_JSD.txt:  49982"
       ]
      },
      {
       "output_type": "stream",
       "stream": "stdout",
       "text": [
        "\n",
        "Num proteins in ../data/b1hData/newDatabase/6varpos/F3/low/protein_seqs_JSD/TTG_protein_seqs_JSD.txt:  37521"
       ]
      },
      {
       "output_type": "stream",
       "stream": "stdout",
       "text": [
        "\n",
        "Num proteins in ../data/b1hData/newDatabase/6varpos/F3/low/protein_seqs_JSD/TTT_protein_seqs_JSD.txt:  43108"
       ]
      },
      {
       "output_type": "stream",
       "stream": "stdout",
       "text": [
        "\n",
        "Total num protein/dna observations in all files:  2729067\n",
        "Total num unique proteins in all files:  1779996\n",
        "\n",
        "Num obs processed in csv to txt conversion:  2729067"
       ]
      },
      {
       "output_type": "stream",
       "stream": "stdout",
       "text": [
        "\n",
        "\n"
       ]
      }
     ],
     "prompt_number": 2
    },
    {
     "cell_type": "code",
     "collapsed": false,
     "input": [
      "prefix = '../data/b1hData/newDatabase/5varpos/'\n",
      "numVarPos = 5\n",
      "fings = ['F2', 'F3']\n",
      "strins = ['high', 'low']\n",
      "for fing in fings:\n",
      "    for strin in strins:\n",
      "        path = prefix + fing + '/' + strin + '/' + 'protein_seqs_JSD/'\n",
      "        targetFiles2singleCSV(path, numVarPos)\n",
      "        csv2txtFile(path, numVarPos)\n",
      "        print"
     ],
     "language": "python",
     "metadata": {},
     "outputs": [
      {
       "output_type": "stream",
       "stream": "stdout",
       "text": [
        "Invalid File Name: AAA_protein_seqs_JSD.txt\n",
        "Invalid File Name: AAC_protein_seqs_JSD.txt\n",
        "Num proteins in ../data/b1hData/newDatabase/5varpos/F2/high/protein_seqs_JSD/AAG_protein_seqs_JSD.txt:  93500"
       ]
      },
      {
       "output_type": "stream",
       "stream": "stdout",
       "text": [
        "\n",
        "Invalid File Name: AAT_protein_seqs_JSD.txt\n",
        "Invalid File Name: ACA_protein_seqs_JSD.txt\n",
        "Invalid File Name: ACC_protein_seqs_JSD.txt\n",
        "Invalid File Name: ACG_protein_seqs_JSD.txt\n",
        "Invalid File Name: ACT_protein_seqs_JSD.txt\n",
        "Invalid File Name: AGA_protein_seqs_JSD.txt\n",
        "Invalid File Name: AGC_protein_seqs_JSD.txt\n",
        "Invalid File Name: AGG_protein_seqs_JSD.txt\n",
        "Invalid File Name: AGT_protein_seqs_JSD.txt\n",
        "Invalid File Name: ATA_protein_seqs_JSD.txt\n",
        "Invalid File Name: ATC_protein_seqs_JSD.txt\n",
        "Invalid File Name: ATG_protein_seqs_JSD.txt\n",
        "Invalid File Name: ATT_protein_seqs_JSD.txt\n",
        "Num proteins in ../data/b1hData/newDatabase/5varpos/F2/high/protein_seqs_JSD/CAA_protein_seqs_JSD.txt:  188006"
       ]
      },
      {
       "output_type": "stream",
       "stream": "stdout",
       "text": [
        "\n",
        "Num proteins in ../data/b1hData/newDatabase/5varpos/F2/high/protein_seqs_JSD/CAC_protein_seqs_JSD.txt:  126323"
       ]
      },
      {
       "output_type": "stream",
       "stream": "stdout",
       "text": [
        "\n",
        "Num proteins in ../data/b1hData/newDatabase/5varpos/F2/high/protein_seqs_JSD/CAG_protein_seqs_JSD.txt:  99840"
       ]
      },
      {
       "output_type": "stream",
       "stream": "stdout",
       "text": [
        "\n",
        "Num proteins in ../data/b1hData/newDatabase/5varpos/F2/high/protein_seqs_JSD/CAT_protein_seqs_JSD.txt:  150525"
       ]
      },
      {
       "output_type": "stream",
       "stream": "stdout",
       "text": [
        "\n",
        "Invalid File Name: CCA_protein_seqs_JSD.txt\n",
        "Invalid File Name: CCC_protein_seqs_JSD.txt\n",
        "Invalid File Name: CCG_protein_seqs_JSD.txt\n",
        "Invalid File Name: CCT_protein_seqs_JSD.txt\n",
        "Invalid File Name: CGA_protein_seqs_JSD.txt\n",
        "Invalid File Name: CGC_protein_seqs_JSD.txt\n",
        "Invalid File Name: CGG_protein_seqs_JSD.txt\n",
        "Invalid File Name: CGT_protein_seqs_JSD.txt\n",
        "Invalid File Name: CTA_protein_seqs_JSD.txt\n",
        "Invalid File Name: CTC_protein_seqs_JSD.txt\n",
        "Invalid File Name: CTG_protein_seqs_JSD.txt\n",
        "Invalid File Name: CTT_protein_seqs_JSD.txt\n",
        "Invalid File Name: GAA_protein_seqs_JSD.txt\n",
        "Invalid File Name: GAC_protein_seqs_JSD.txt\n",
        "Num proteins in ../data/b1hData/newDatabase/5varpos/F2/high/protein_seqs_JSD/GAG_protein_seqs_JSD.txt:  157459"
       ]
      },
      {
       "output_type": "stream",
       "stream": "stdout",
       "text": [
        "\n",
        "Invalid File Name: GAT_protein_seqs_JSD.txt\n",
        "Invalid File Name: GCA_protein_seqs_JSD.txt\n",
        "Invalid File Name: GCC_protein_seqs_JSD.txt\n",
        "Invalid File Name: GCG_protein_seqs_JSD.txt\n",
        "Invalid File Name: GCT_protein_seqs_JSD.txt\n",
        "Num proteins in ../data/b1hData/newDatabase/5varpos/F2/high/protein_seqs_JSD/GGA_protein_seqs_JSD.txt:  176772"
       ]
      },
      {
       "output_type": "stream",
       "stream": "stdout",
       "text": [
        "\n",
        "Invalid File Name: GGC_protein_seqs_JSD.txt\n",
        "Num proteins in ../data/b1hData/newDatabase/5varpos/F2/high/protein_seqs_JSD/GGG_protein_seqs_JSD.txt:  111522"
       ]
      },
      {
       "output_type": "stream",
       "stream": "stdout",
       "text": [
        "\n",
        "Invalid File Name: GGT_protein_seqs_JSD.txt\n",
        "Invalid File Name: GTA_protein_seqs_JSD.txt\n",
        "Invalid File Name: GTC_protein_seqs_JSD.txt\n",
        "Invalid File Name: GTG_protein_seqs_JSD.txt\n",
        "Invalid File Name: GTT_protein_seqs_JSD.txt\n",
        "Invalid File Name: TAA_protein_seqs_JSD.txt\n",
        "Invalid File Name: TAC_protein_seqs_JSD.txt\n",
        "Num proteins in ../data/b1hData/newDatabase/5varpos/F2/high/protein_seqs_JSD/TAG_protein_seqs_JSD.txt:  156890"
       ]
      },
      {
       "output_type": "stream",
       "stream": "stdout",
       "text": [
        "\n",
        "Invalid File Name: TAT_protein_seqs_JSD.txt\n",
        "Invalid File Name: TCA_protein_seqs_JSD.txt\n",
        "Invalid File Name: TCC_protein_seqs_JSD.txt\n",
        "Invalid File Name: TCG_protein_seqs_JSD.txt\n",
        "Invalid File Name: TCT_protein_seqs_JSD.txt\n",
        "Invalid File Name: TGA_protein_seqs_JSD.txt\n",
        "Invalid File Name: TGC_protein_seqs_JSD.txt\n",
        "Invalid File Name: TGG_protein_seqs_JSD.txt\n",
        "Invalid File Name: TGT_protein_seqs_JSD.txt\n",
        "Invalid File Name: TTA_protein_seqs_JSD.txt\n",
        "Invalid File Name: TTC_protein_seqs_JSD.txt\n",
        "Invalid File Name: TTG_protein_seqs_JSD.txt\n",
        "Invalid File Name: TTT_protein_seqs_JSD.txt\n",
        "Total num protein/dna observations in all files:  1260837\n",
        "Total num unique proteins in all files:  791482\n",
        "\n",
        "Num obs processed in csv to txt conversion:  1260837"
       ]
      },
      {
       "output_type": "stream",
       "stream": "stdout",
       "text": [
        "\n",
        "\n",
        "Invalid File Name: AAA_protein_seqs_JSD.txt"
       ]
      },
      {
       "output_type": "stream",
       "stream": "stdout",
       "text": [
        "\n",
        "Invalid File Name: AAC_protein_seqs_JSD.txt\n",
        "Num proteins in ../data/b1hData/newDatabase/5varpos/F2/low/protein_seqs_JSD/AAG_protein_seqs_JSD.txt:  197759"
       ]
      },
      {
       "output_type": "stream",
       "stream": "stdout",
       "text": [
        "\n",
        "Invalid File Name: AAT_protein_seqs_JSD.txt\n",
        "Invalid File Name: ACA_protein_seqs_JSD.txt\n",
        "Invalid File Name: ACC_protein_seqs_JSD.txt\n",
        "Invalid File Name: ACG_protein_seqs_JSD.txt\n",
        "Invalid File Name: ACT_protein_seqs_JSD.txt\n",
        "Invalid File Name: AGA_protein_seqs_JSD.txt\n",
        "Invalid File Name: AGC_protein_seqs_JSD.txt\n",
        "Invalid File Name: AGG_protein_seqs_JSD.txt\n",
        "Invalid File Name: AGT_protein_seqs_JSD.txt\n",
        "Invalid File Name: ATA_protein_seqs_JSD.txt\n",
        "Invalid File Name: ATC_protein_seqs_JSD.txt\n",
        "Invalid File Name: ATG_protein_seqs_JSD.txt\n",
        "Invalid File Name: ATT_protein_seqs_JSD.txt\n",
        "Num proteins in ../data/b1hData/newDatabase/5varpos/F2/low/protein_seqs_JSD/CAA_protein_seqs_JSD.txt:  164730"
       ]
      },
      {
       "output_type": "stream",
       "stream": "stdout",
       "text": [
        "\n",
        "Num proteins in ../data/b1hData/newDatabase/5varpos/F2/low/protein_seqs_JSD/CAC_protein_seqs_JSD.txt:  171207"
       ]
      },
      {
       "output_type": "stream",
       "stream": "stdout",
       "text": [
        "\n",
        "Num proteins in ../data/b1hData/newDatabase/5varpos/F2/low/protein_seqs_JSD/CAG_protein_seqs_JSD.txt:  226114"
       ]
      },
      {
       "output_type": "stream",
       "stream": "stdout",
       "text": [
        "\n",
        "Num proteins in ../data/b1hData/newDatabase/5varpos/F2/low/protein_seqs_JSD/CAT_protein_seqs_JSD.txt:  597641"
       ]
      },
      {
       "output_type": "stream",
       "stream": "stdout",
       "text": [
        "\n",
        "Invalid File Name: CCA_protein_seqs_JSD.txt\n",
        "Invalid File Name: CCC_protein_seqs_JSD.txt\n",
        "Invalid File Name: CCG_protein_seqs_JSD.txt\n",
        "Invalid File Name: CCT_protein_seqs_JSD.txt\n",
        "Invalid File Name: CGA_protein_seqs_JSD.txt\n",
        "Invalid File Name: CGC_protein_seqs_JSD.txt\n",
        "Invalid File Name: CGG_protein_seqs_JSD.txt\n",
        "Invalid File Name: CGT_protein_seqs_JSD.txt\n",
        "Invalid File Name: CTA_protein_seqs_JSD.txt\n",
        "Invalid File Name: CTC_protein_seqs_JSD.txt\n",
        "Invalid File Name: CTG_protein_seqs_JSD.txt\n",
        "Invalid File Name: CTT_protein_seqs_JSD.txt\n",
        "Invalid File Name: GAA_protein_seqs_JSD.txt\n",
        "Invalid File Name: GAC_protein_seqs_JSD.txt\n",
        "Num proteins in ../data/b1hData/newDatabase/5varpos/F2/low/protein_seqs_JSD/GAG_protein_seqs_JSD.txt:  236684"
       ]
      },
      {
       "output_type": "stream",
       "stream": "stdout",
       "text": [
        "\n",
        "Invalid File Name: GAT_protein_seqs_JSD.txt\n",
        "Invalid File Name: GCA_protein_seqs_JSD.txt\n",
        "Invalid File Name: GCC_protein_seqs_JSD.txt\n",
        "Invalid File Name: GCG_protein_seqs_JSD.txt\n",
        "Invalid File Name: GCT_protein_seqs_JSD.txt\n",
        "Num proteins in ../data/b1hData/newDatabase/5varpos/F2/low/protein_seqs_JSD/GGA_protein_seqs_JSD.txt:  147516"
       ]
      },
      {
       "output_type": "stream",
       "stream": "stdout",
       "text": [
        "\n",
        "Invalid File Name: GGC_protein_seqs_JSD.txt\n",
        "Num proteins in ../data/b1hData/newDatabase/5varpos/F2/low/protein_seqs_JSD/GGG_protein_seqs_JSD.txt:  139769"
       ]
      },
      {
       "output_type": "stream",
       "stream": "stdout",
       "text": [
        "\n",
        "Invalid File Name: GGT_protein_seqs_JSD.txt\n",
        "Invalid File Name: GTA_protein_seqs_JSD.txt\n",
        "Invalid File Name: GTC_protein_seqs_JSD.txt\n",
        "Invalid File Name: GTG_protein_seqs_JSD.txt\n",
        "Invalid File Name: GTT_protein_seqs_JSD.txt\n",
        "Invalid File Name: TAA_protein_seqs_JSD.txt\n",
        "Invalid File Name: TAC_protein_seqs_JSD.txt\n",
        "Num proteins in ../data/b1hData/newDatabase/5varpos/F2/low/protein_seqs_JSD/TAG_protein_seqs_JSD.txt:  179463"
       ]
      },
      {
       "output_type": "stream",
       "stream": "stdout",
       "text": [
        "\n",
        "Invalid File Name: TAT_protein_seqs_JSD.txt\n",
        "Invalid File Name: TCA_protein_seqs_JSD.txt\n",
        "Invalid File Name: TCC_protein_seqs_JSD.txt\n",
        "Invalid File Name: TCG_protein_seqs_JSD.txt\n",
        "Invalid File Name: TCT_protein_seqs_JSD.txt\n",
        "Invalid File Name: TGA_protein_seqs_JSD.txt\n",
        "Invalid File Name: TGC_protein_seqs_JSD.txt\n",
        "Invalid File Name: TGG_protein_seqs_JSD.txt\n",
        "Invalid File Name: TGT_protein_seqs_JSD.txt\n",
        "Invalid File Name: TTA_protein_seqs_JSD.txt\n",
        "Invalid File Name: TTC_protein_seqs_JSD.txt\n",
        "Invalid File Name: TTG_protein_seqs_JSD.txt\n",
        "Invalid File Name: TTT_protein_seqs_JSD.txt\n",
        "Total num protein/dna observations in all files:  2060883\n",
        "Total num unique proteins in all files:  1170937\n",
        "\n",
        "Num obs processed in csv to txt conversion:  2060883"
       ]
      },
      {
       "output_type": "stream",
       "stream": "stdout",
       "text": [
        "\n",
        "\n",
        "Invalid File Name: AAA_protein_seqs_JSD.txt"
       ]
      },
      {
       "output_type": "stream",
       "stream": "stdout",
       "text": [
        "\n",
        "Invalid File Name: AAC_protein_seqs_JSD.txt\n",
        "Invalid File Name: AAG_protein_seqs_JSD.txt\n",
        "Invalid File Name: AAT_protein_seqs_JSD.txt\n",
        "Invalid File Name: ACA_protein_seqs_JSD.txt\n",
        "Invalid File Name: ACC_protein_seqs_JSD.txt\n",
        "Num proteins in ../data/b1hData/newDatabase/5varpos/F3/high/protein_seqs_JSD/ACG_protein_seqs_JSD.txt:  10121"
       ]
      },
      {
       "output_type": "stream",
       "stream": "stdout",
       "text": [
        "\n",
        "Invalid File Name: ACT_protein_seqs_JSD.txt\n",
        "Invalid File Name: AGA_protein_seqs_JSD.txt\n",
        "Num proteins in ../data/b1hData/newDatabase/5varpos/F3/high/protein_seqs_JSD/AGC_protein_seqs_JSD.txt:  2653\n",
        "Invalid File Name: AGG_protein_seqs_JSD.txt\n",
        "Invalid File Name: AGT_protein_seqs_JSD.txt\n",
        "Invalid File Name: ATA_protein_seqs_JSD.txt\n",
        "Invalid File Name: ATC_protein_seqs_JSD.txt\n",
        "Invalid File Name: ATG_protein_seqs_JSD.txt\n",
        "Invalid File Name: ATT_protein_seqs_JSD.txt\n",
        "Invalid File Name: CAA_protein_seqs_JSD.txt\n",
        "Invalid File Name: CAC_protein_seqs_JSD.txt\n",
        "Invalid File Name: CAG_protein_seqs_JSD.txt\n",
        "Invalid File Name: CAT_protein_seqs_JSD.txt\n",
        "Invalid File Name: CCA_protein_seqs_JSD.txt\n",
        "Invalid File Name: CCC_protein_seqs_JSD.txt\n",
        "Invalid File Name: CCG_protein_seqs_JSD.txt\n",
        "Invalid File Name: CCT_protein_seqs_JSD.txt\n",
        "Invalid File Name: CGA_protein_seqs_JSD.txt\n",
        "Invalid File Name: CGC_protein_seqs_JSD.txt\n",
        "Invalid File Name: CGG_protein_seqs_JSD.txt\n",
        "Num proteins in ../data/b1hData/newDatabase/5varpos/F3/high/protein_seqs_JSD/CGT_protein_seqs_JSD.txt:  1174"
       ]
      },
      {
       "output_type": "stream",
       "stream": "stdout",
       "text": [
        "\n",
        "Invalid File Name: CTA_protein_seqs_JSD.txt\n",
        "Invalid File Name: CTC_protein_seqs_JSD.txt\n",
        "Invalid File Name: CTG_protein_seqs_JSD.txt\n",
        "Invalid File Name: CTT_protein_seqs_JSD.txt\n",
        "Invalid File Name: GAA_protein_seqs_JSD.txt\n",
        "Invalid File Name: GAC_protein_seqs_JSD.txt\n",
        "Invalid File Name: GAG_protein_seqs_JSD.txt\n",
        "Invalid File Name: GAT_protein_seqs_JSD.txt\n",
        "Invalid File Name: GCA_protein_seqs_JSD.txt\n",
        "Invalid File Name: GCC_protein_seqs_JSD.txt\n",
        "Invalid File Name: GCG_protein_seqs_JSD.txt\n",
        "Invalid File Name: GCT_protein_seqs_JSD.txt\n",
        "Invalid File Name: GGA_protein_seqs_JSD.txt\n",
        "Invalid File Name: GGC_protein_seqs_JSD.txt\n",
        "Invalid File Name: GGG_protein_seqs_JSD.txt\n",
        "Invalid File Name: GGT_protein_seqs_JSD.txt\n",
        "Invalid File Name: GTA_protein_seqs_JSD.txt\n",
        "Invalid File Name: GTC_protein_seqs_JSD.txt\n",
        "Invalid File Name: GTG_protein_seqs_JSD.txt\n",
        "Invalid File Name: GTT_protein_seqs_JSD.txt\n",
        "Invalid File Name: TAA_protein_seqs_JSD.txt\n",
        "Invalid File Name: TAC_protein_seqs_JSD.txt\n",
        "Invalid File Name: TAG_protein_seqs_JSD.txt\n",
        "Invalid File Name: TAT_protein_seqs_JSD.txt\n",
        "Invalid File Name: TCA_protein_seqs_JSD.txt\n",
        "Invalid File Name: TCC_protein_seqs_JSD.txt\n",
        "Invalid File Name: TCG_protein_seqs_JSD.txt\n",
        "Invalid File Name: TCT_protein_seqs_JSD.txt\n",
        "Invalid File Name: TGA_protein_seqs_JSD.txt\n",
        "Invalid File Name: TGC_protein_seqs_JSD.txt\n",
        "Invalid File Name: TGG_protein_seqs_JSD.txt\n",
        "Num proteins in ../data/b1hData/newDatabase/5varpos/F3/high/protein_seqs_JSD/TGT_protein_seqs_JSD.txt:  1010\n",
        "Invalid File Name: TTA_protein_seqs_JSD.txt\n",
        "Invalid File Name: TTC_protein_seqs_JSD.txt\n",
        "Invalid File Name: TTG_protein_seqs_JSD.txt\n",
        "Invalid File Name: TTT_protein_seqs_JSD.txt\n",
        "Total num protein/dna observations in all files:  14958\n",
        "Total num unique proteins in all files:  14312\n",
        "\n",
        "Num obs processed in csv to txt conversion:  14958"
       ]
      },
      {
       "output_type": "stream",
       "stream": "stdout",
       "text": [
        "\n",
        "\n",
        "Invalid File Name: AAA_protein_seqs_JSD.txt"
       ]
      },
      {
       "output_type": "stream",
       "stream": "stdout",
       "text": [
        "\n",
        "Invalid File Name: AAC_protein_seqs_JSD.txt\n",
        "Invalid File Name: AAG_protein_seqs_JSD.txt\n",
        "Invalid File Name: AAT_protein_seqs_JSD.txt\n",
        "Invalid File Name: ACA_protein_seqs_JSD.txt\n",
        "Invalid File Name: ACC_protein_seqs_JSD.txt\n",
        "Invalid File Name: ACG_protein_seqs_JSD.txt\n",
        "Invalid File Name: ACT_protein_seqs_JSD.txt\n",
        "Num proteins in ../data/b1hData/newDatabase/5varpos/F3/low/protein_seqs_JSD/AGA_protein_seqs_JSD.txt:  2653"
       ]
      },
      {
       "output_type": "stream",
       "stream": "stdout",
       "text": [
        "\n",
        "Invalid File Name: AGC_protein_seqs_JSD.txt\n",
        "Invalid File Name: AGG_protein_seqs_JSD.txt\n",
        "Invalid File Name: AGT_protein_seqs_JSD.txt\n",
        "Invalid File Name: ATA_protein_seqs_JSD.txt\n",
        "Invalid File Name: ATC_protein_seqs_JSD.txt\n",
        "Invalid File Name: ATG_protein_seqs_JSD.txt\n",
        "Invalid File Name: ATT_protein_seqs_JSD.txt\n",
        "Invalid File Name: CAA_protein_seqs_JSD.txt\n",
        "Invalid File Name: CAC_protein_seqs_JSD.txt\n",
        "Invalid File Name: CAG_protein_seqs_JSD.txt\n",
        "Invalid File Name: CAT_protein_seqs_JSD.txt\n",
        "Invalid File Name: CCA_protein_seqs_JSD.txt\n",
        "Invalid File Name: CCC_protein_seqs_JSD.txt\n",
        "Invalid File Name: CCG_protein_seqs_JSD.txt\n",
        "Invalid File Name: CCT_protein_seqs_JSD.txt\n",
        "Invalid File Name: CGA_protein_seqs_JSD.txt\n",
        "Invalid File Name: CGC_protein_seqs_JSD.txt\n",
        "Num proteins in ../data/b1hData/newDatabase/5varpos/F3/low/protein_seqs_JSD/CGG_protein_seqs_JSD.txt:  1174\n",
        "Invalid File Name: CGT_protein_seqs_JSD.txt\n",
        "Invalid File Name: CTA_protein_seqs_JSD.txt\n",
        "Invalid File Name: CTC_protein_seqs_JSD.txt\n",
        "Invalid File Name: CTG_protein_seqs_JSD.txt\n",
        "Invalid File Name: CTT_protein_seqs_JSD.txt\n",
        "Invalid File Name: GAA_protein_seqs_JSD.txt\n",
        "Invalid File Name: GAC_protein_seqs_JSD.txt\n",
        "Invalid File Name: GAG_protein_seqs_JSD.txt\n",
        "Invalid File Name: GAT_protein_seqs_JSD.txt\n",
        "Invalid File Name: GCA_protein_seqs_JSD.txt\n",
        "Invalid File Name: GCC_protein_seqs_JSD.txt\n",
        "Invalid File Name: GCG_protein_seqs_JSD.txt\n",
        "Invalid File Name: GCT_protein_seqs_JSD.txt\n",
        "Invalid File Name: GGA_protein_seqs_JSD.txt\n",
        "Invalid File Name: GGC_protein_seqs_JSD.txt\n",
        "Invalid File Name: GGG_protein_seqs_JSD.txt\n",
        "Invalid File Name: GGT_protein_seqs_JSD.txt\n",
        "Invalid File Name: GTA_protein_seqs_JSD.txt\n",
        "Invalid File Name: GTC_protein_seqs_JSD.txt\n",
        "Invalid File Name: GTG_protein_seqs_JSD.txt\n",
        "Invalid File Name: GTT_protein_seqs_JSD.txt\n",
        "Invalid File Name: TAA_protein_seqs_JSD.txt\n",
        "Invalid File Name: TAC_protein_seqs_JSD.txt\n",
        "Invalid File Name: TAG_protein_seqs_JSD.txt\n",
        "Invalid File Name: TAT_protein_seqs_JSD.txt\n",
        "Invalid File Name: TCA_protein_seqs_JSD.txt\n",
        "Invalid File Name: TCC_protein_seqs_JSD.txt\n",
        "Invalid File Name: TCG_protein_seqs_JSD.txt\n",
        "Invalid File Name: TCT_protein_seqs_JSD.txt\n",
        "Invalid File Name: TGA_protein_seqs_JSD.txt\n",
        "Invalid File Name: TGC_protein_seqs_JSD.txt\n",
        "Num proteins in ../data/b1hData/newDatabase/5varpos/F3/low/protein_seqs_JSD/TGG_protein_seqs_JSD.txt:  1010\n",
        "Invalid File Name: TGT_protein_seqs_JSD.txt\n",
        "Invalid File Name: TTA_protein_seqs_JSD.txt\n",
        "Invalid File Name: TTC_protein_seqs_JSD.txt\n",
        "Invalid File Name: TTG_protein_seqs_JSD.txt\n",
        "Invalid File Name: TTT_protein_seqs_JSD.txt\n",
        "Total num protein/dna observations in all files:  4837\n",
        "Total num unique proteins in all files:  4308\n",
        "\n",
        "Num obs processed in csv to txt conversion:  4837"
       ]
      },
      {
       "output_type": "stream",
       "stream": "stdout",
       "text": [
        "\n",
        "\n"
       ]
      }
     ],
     "prompt_number": 3
    }
   ],
   "metadata": {}
  }
 ]
}