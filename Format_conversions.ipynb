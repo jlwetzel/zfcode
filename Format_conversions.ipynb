{
 "metadata": {
  "name": "Format_conversions"
 },
 "nbformat": 3,
 "nbformat_minor": 0,
 "worksheets": [
  {
   "cells": [
    {
     "cell_type": "code",
     "collapsed": false,
     "input": [
      "from changeFormats import targetFiles2singleCSV, csv2txtFile\n",
      "\n"
     ],
     "language": "python",
     "metadata": {},
     "outputs": [],
     "prompt_number": 1
    },
    {
     "cell_type": "code",
     "collapsed": false,
     "input": [
      "prefix = '../data/b1hData/newDatabase/6varpos/'\n",
      "numVarPos = 6\n",
      "fings = ['F1', 'F2', 'F3']\n",
      "strins = ['high', 'low']\n",
      "for fing in fings:\n",
      "    for strin in strins:\n",
      "        path = prefix + fing + '/' + strin + '/' + 'protein_seq/'\n",
      "        targetFiles2singleCSV(path, numVarPos, '_protein_seq.txt', style = 'verbose')\n",
      "        csv2txtFile(path, numVarPos, style = 'verbose')\n",
      "        print"
     ],
     "language": "python",
     "metadata": {},
     "outputs": [
      {
       "output_type": "stream",
       "stream": "stdout",
       "text": [
        "Num proteins in ../data/b1hData/newDatabase/6varpos/F1/high/protein_seq/AAA_protein_seq.txt:  518\n",
        "Num proteins in ../data/b1hData/newDatabase/6varpos/F1/high/protein_seq/AAC_protein_seq.txt:  565\n",
        "Num proteins in ../data/b1hData/newDatabase/6varpos/F1/high/protein_seq/AAG_protein_seq.txt:  470\n",
        "Num proteins in ../data/b1hData/newDatabase/6varpos/F1/high/protein_seq/AAT_protein_seq.txt:  548\n",
        "Num proteins in ../data/b1hData/newDatabase/6varpos/F1/high/protein_seq/ACA_protein_seq.txt:  735\n",
        "Num proteins in ../data/b1hData/newDatabase/6varpos/F1/high/protein_seq/ACC_protein_seq.txt:  718"
       ]
      },
      {
       "output_type": "stream",
       "stream": "stdout",
       "text": [
        "\n",
        "Num proteins in ../data/b1hData/newDatabase/6varpos/F1/high/protein_seq/ACG_protein_seq.txt:  977\n",
        "Num proteins in ../data/b1hData/newDatabase/6varpos/F1/high/protein_seq/ACT_protein_seq.txt:  816\n",
        "Num proteins in ../data/b1hData/newDatabase/6varpos/F1/high/protein_seq/AGA_protein_seq.txt:  438\n",
        "Num proteins in ../data/b1hData/newDatabase/6varpos/F1/high/protein_seq/AGC_protein_seq.txt:  491\n",
        "Num proteins in ../data/b1hData/newDatabase/6varpos/F1/high/protein_seq/AGG_protein_seq.txt:  1699\n",
        "Num proteins in ../data/b1hData/newDatabase/6varpos/F1/high/protein_seq/AGT_protein_seq.txt:  3041"
       ]
      },
      {
       "output_type": "stream",
       "stream": "stdout",
       "text": [
        "\n",
        "Num proteins in ../data/b1hData/newDatabase/6varpos/F1/high/protein_seq/ATA_protein_seq.txt:  1194\n",
        "Num proteins in ../data/b1hData/newDatabase/6varpos/F1/high/protein_seq/ATC_protein_seq.txt:  1365"
       ]
      },
      {
       "output_type": "stream",
       "stream": "stdout",
       "text": [
        "\n",
        "Num proteins in ../data/b1hData/newDatabase/6varpos/F1/high/protein_seq/ATG_protein_seq.txt:  1412\n",
        "Num proteins in ../data/b1hData/newDatabase/6varpos/F1/high/protein_seq/ATT_protein_seq.txt:  669\n",
        "Num proteins in ../data/b1hData/newDatabase/6varpos/F1/high/protein_seq/CAA_protein_seq.txt:  632\n",
        "Num proteins in ../data/b1hData/newDatabase/6varpos/F1/high/protein_seq/CAC_protein_seq.txt:  749\n",
        "Num proteins in ../data/b1hData/newDatabase/6varpos/F1/high/protein_seq/CAG_protein_seq.txt:  1377"
       ]
      },
      {
       "output_type": "stream",
       "stream": "stdout",
       "text": [
        "\n",
        "Num proteins in ../data/b1hData/newDatabase/6varpos/F1/high/protein_seq/CAT_protein_seq.txt:  1688\n",
        "Num proteins in ../data/b1hData/newDatabase/6varpos/F1/high/protein_seq/CCA_protein_seq.txt:  1758\n",
        "Num proteins in ../data/b1hData/newDatabase/6varpos/F1/high/protein_seq/CCC_protein_seq.txt:  1386"
       ]
      },
      {
       "output_type": "stream",
       "stream": "stdout",
       "text": [
        "\n",
        "Num proteins in ../data/b1hData/newDatabase/6varpos/F1/high/protein_seq/CCG_protein_seq.txt:  1328\n",
        "Num proteins in ../data/b1hData/newDatabase/6varpos/F1/high/protein_seq/CCT_protein_seq.txt:  1522\n",
        "Num proteins in ../data/b1hData/newDatabase/6varpos/F1/high/protein_seq/CGA_protein_seq.txt:  1597"
       ]
      },
      {
       "output_type": "stream",
       "stream": "stdout",
       "text": [
        "\n",
        "Num proteins in ../data/b1hData/newDatabase/6varpos/F1/high/protein_seq/CGC_protein_seq.txt:  1243\n",
        "Num proteins in ../data/b1hData/newDatabase/6varpos/F1/high/protein_seq/CGG_protein_seq.txt:  1795\n",
        "Num proteins in ../data/b1hData/newDatabase/6varpos/F1/high/protein_seq/CGT_protein_seq.txt:  2078\n",
        "Num proteins in ../data/b1hData/newDatabase/6varpos/F1/high/protein_seq/CTA_protein_seq.txt:  2618"
       ]
      },
      {
       "output_type": "stream",
       "stream": "stdout",
       "text": [
        "\n",
        "Num proteins in ../data/b1hData/newDatabase/6varpos/F1/high/protein_seq/CTC_protein_seq.txt:  1220\n",
        "Num proteins in ../data/b1hData/newDatabase/6varpos/F1/high/protein_seq/CTG_protein_seq.txt:  825\n",
        "Num proteins in ../data/b1hData/newDatabase/6varpos/F1/high/protein_seq/CTT_protein_seq.txt:  1890\n",
        "Num proteins in ../data/b1hData/newDatabase/6varpos/F1/high/protein_seq/GAA_protein_seq.txt:  1477"
       ]
      },
      {
       "output_type": "stream",
       "stream": "stdout",
       "text": [
        "\n",
        "Num proteins in ../data/b1hData/newDatabase/6varpos/F1/high/protein_seq/GAC_protein_seq.txt:  8269"
       ]
      },
      {
       "output_type": "stream",
       "stream": "stdout",
       "text": [
        "\n",
        "Num proteins in ../data/b1hData/newDatabase/6varpos/F1/high/protein_seq/GAG_protein_seq.txt:  1252\n",
        "Num proteins in ../data/b1hData/newDatabase/6varpos/F1/high/protein_seq/GAT_protein_seq.txt:  5604"
       ]
      },
      {
       "output_type": "stream",
       "stream": "stdout",
       "text": [
        "\n",
        "Num proteins in ../data/b1hData/newDatabase/6varpos/F1/high/protein_seq/GCA_protein_seq.txt:  1066\n",
        "Num proteins in ../data/b1hData/newDatabase/6varpos/F1/high/protein_seq/GCC_protein_seq.txt:  558\n",
        "Num proteins in ../data/b1hData/newDatabase/6varpos/F1/high/protein_seq/GCG_protein_seq.txt:  671\n",
        "Num proteins in ../data/b1hData/newDatabase/6varpos/F1/high/protein_seq/GCT_protein_seq.txt:  1136\n",
        "Num proteins in ../data/b1hData/newDatabase/6varpos/F1/high/protein_seq/GGA_protein_seq.txt:  531"
       ]
      },
      {
       "output_type": "stream",
       "stream": "stdout",
       "text": [
        "\n",
        "Num proteins in ../data/b1hData/newDatabase/6varpos/F1/high/protein_seq/GGC_protein_seq.txt:  1197\n",
        "Num proteins in ../data/b1hData/newDatabase/6varpos/F1/high/protein_seq/GGG_protein_seq.txt:  1465\n",
        "Num proteins in ../data/b1hData/newDatabase/6varpos/F1/high/protein_seq/GGT_protein_seq.txt:  1715\n",
        "Num proteins in ../data/b1hData/newDatabase/6varpos/F1/high/protein_seq/GTA_protein_seq.txt:  1189\n",
        "Num proteins in ../data/b1hData/newDatabase/6varpos/F1/high/protein_seq/GTC_protein_seq.txt:  519"
       ]
      },
      {
       "output_type": "stream",
       "stream": "stdout",
       "text": [
        "\n",
        "Num proteins in ../data/b1hData/newDatabase/6varpos/F1/high/protein_seq/GTG_protein_seq.txt:  1546\n",
        "Num proteins in ../data/b1hData/newDatabase/6varpos/F1/high/protein_seq/GTT_protein_seq.txt:  603\n",
        "Num proteins in ../data/b1hData/newDatabase/6varpos/F1/high/protein_seq/TAA_protein_seq.txt:  782\n",
        "Num proteins in ../data/b1hData/newDatabase/6varpos/F1/high/protein_seq/TAC_protein_seq.txt:  6822"
       ]
      },
      {
       "output_type": "stream",
       "stream": "stdout",
       "text": [
        "\n",
        "Num proteins in ../data/b1hData/newDatabase/6varpos/F1/high/protein_seq/TAG_protein_seq.txt:  210\n",
        "Num proteins in ../data/b1hData/newDatabase/6varpos/F1/high/protein_seq/TAT_protein_seq.txt:  5693"
       ]
      },
      {
       "output_type": "stream",
       "stream": "stdout",
       "text": [
        "\n",
        "Num proteins in ../data/b1hData/newDatabase/6varpos/F1/high/protein_seq/TCA_protein_seq.txt:  1528\n",
        "Num proteins in ../data/b1hData/newDatabase/6varpos/F1/high/protein_seq/TCC_protein_seq.txt:  490\n",
        "Num proteins in ../data/b1hData/newDatabase/6varpos/F1/high/protein_seq/TCG_protein_seq.txt:  686\n",
        "Num proteins in ../data/b1hData/newDatabase/6varpos/F1/high/protein_seq/TCT_protein_seq.txt:  917\n",
        "Num proteins in ../data/b1hData/newDatabase/6varpos/F1/high/protein_seq/TGA_protein_seq.txt:  1148\n",
        "Num proteins in ../data/b1hData/newDatabase/6varpos/F1/high/protein_seq/TGC_protein_seq.txt:  1155"
       ]
      },
      {
       "output_type": "stream",
       "stream": "stdout",
       "text": [
        "\n",
        "Num proteins in ../data/b1hData/newDatabase/6varpos/F1/high/protein_seq/TGG_protein_seq.txt:  919\n",
        "Num proteins in ../data/b1hData/newDatabase/6varpos/F1/high/protein_seq/TGT_protein_seq.txt:  1742"
       ]
      },
      {
       "output_type": "stream",
       "stream": "stdout",
       "text": [
        "\n",
        "Num proteins in ../data/b1hData/newDatabase/6varpos/F1/high/protein_seq/TTA_protein_seq.txt:  1321\n",
        "Num proteins in ../data/b1hData/newDatabase/6varpos/F1/high/protein_seq/TTC_protein_seq.txt:  1363\n",
        "Num proteins in ../data/b1hData/newDatabase/6varpos/F1/high/protein_seq/TTG_protein_seq.txt:  1091\n",
        "Num proteins in ../data/b1hData/newDatabase/6varpos/F1/high/protein_seq/TTT_protein_seq.txt:  1067\n",
        "Total num protein/dna observations in all files:  95094\n",
        "Total num unique proteins in all files:  83893\n",
        "\n",
        "Num obs processed in csv to txt conversion:  95094"
       ]
      },
      {
       "output_type": "stream",
       "stream": "stdout",
       "text": [
        "\n",
        "\n",
        "Num proteins in ../data/b1hData/newDatabase/6varpos/F1/low/protein_seq/AAA_protein_seq.txt:  524\n",
        "Num proteins in ../data/b1hData/newDatabase/6varpos/F1/low/protein_seq/AAC_protein_seq.txt:  684\n",
        "Num proteins in ../data/b1hData/newDatabase/6varpos/F1/low/protein_seq/AAG_protein_seq.txt:  1513\n",
        "Num proteins in ../data/b1hData/newDatabase/6varpos/F1/low/protein_seq/AAT_protein_seq.txt:  753\n",
        "Num proteins in ../data/b1hData/newDatabase/6varpos/F1/low/protein_seq/ACA_protein_seq.txt:  1119\n",
        "Num proteins in ../data/b1hData/newDatabase/6varpos/F1/low/protein_seq/ACC_protein_seq.txt:  1056"
       ]
      },
      {
       "output_type": "stream",
       "stream": "stdout",
       "text": [
        "\n",
        "Num proteins in ../data/b1hData/newDatabase/6varpos/F1/low/protein_seq/ACG_protein_seq.txt:  1059\n",
        "Num proteins in ../data/b1hData/newDatabase/6varpos/F1/low/protein_seq/ACT_protein_seq.txt:  871\n",
        "Num proteins in ../data/b1hData/newDatabase/6varpos/F1/low/protein_seq/AGA_protein_seq.txt:  1793\n",
        "Num proteins in ../data/b1hData/newDatabase/6varpos/F1/low/protein_seq/AGC_protein_seq.txt:  1503"
       ]
      },
      {
       "output_type": "stream",
       "stream": "stdout",
       "text": [
        "\n",
        "Num proteins in ../data/b1hData/newDatabase/6varpos/F1/low/protein_seq/AGG_protein_seq.txt:  1124\n",
        "Num proteins in ../data/b1hData/newDatabase/6varpos/F1/low/protein_seq/AGT_protein_seq.txt:  7921"
       ]
      },
      {
       "output_type": "stream",
       "stream": "stdout",
       "text": [
        "\n",
        "Num proteins in ../data/b1hData/newDatabase/6varpos/F1/low/protein_seq/ATA_protein_seq.txt:  777\n",
        "Num proteins in ../data/b1hData/newDatabase/6varpos/F1/low/protein_seq/ATC_protein_seq.txt:  1720\n",
        "Num proteins in ../data/b1hData/newDatabase/6varpos/F1/low/protein_seq/ATG_protein_seq.txt:  1192"
       ]
      },
      {
       "output_type": "stream",
       "stream": "stdout",
       "text": [
        "\n",
        "Num proteins in ../data/b1hData/newDatabase/6varpos/F1/low/protein_seq/ATT_protein_seq.txt:  1074\n",
        "Num proteins in ../data/b1hData/newDatabase/6varpos/F1/low/protein_seq/CAA_protein_seq.txt:  1278\n",
        "Num proteins in ../data/b1hData/newDatabase/6varpos/F1/low/protein_seq/CAC_protein_seq.txt:  1034\n",
        "Num proteins in ../data/b1hData/newDatabase/6varpos/F1/low/protein_seq/CAG_protein_seq.txt:  1400"
       ]
      },
      {
       "output_type": "stream",
       "stream": "stdout",
       "text": [
        "\n",
        "Num proteins in ../data/b1hData/newDatabase/6varpos/F1/low/protein_seq/CAT_protein_seq.txt:  2164\n",
        "Num proteins in ../data/b1hData/newDatabase/6varpos/F1/low/protein_seq/CCA_protein_seq.txt:  587\n",
        "Num proteins in ../data/b1hData/newDatabase/6varpos/F1/low/protein_seq/CCC_protein_seq.txt:  1975"
       ]
      },
      {
       "output_type": "stream",
       "stream": "stdout",
       "text": [
        "\n",
        "Num proteins in ../data/b1hData/newDatabase/6varpos/F1/low/protein_seq/CCG_protein_seq.txt:  1697\n",
        "Num proteins in ../data/b1hData/newDatabase/6varpos/F1/low/protein_seq/CCT_protein_seq.txt:  1171\n",
        "Num proteins in ../data/b1hData/newDatabase/6varpos/F1/low/protein_seq/CGA_protein_seq.txt:  6125"
       ]
      },
      {
       "output_type": "stream",
       "stream": "stdout",
       "text": [
        "\n",
        "Num proteins in ../data/b1hData/newDatabase/6varpos/F1/low/protein_seq/CGC_protein_seq.txt:  1081\n",
        "Num proteins in ../data/b1hData/newDatabase/6varpos/F1/low/protein_seq/CGG_protein_seq.txt:  1668\n",
        "Num proteins in ../data/b1hData/newDatabase/6varpos/F1/low/protein_seq/CGT_protein_seq.txt:  1232"
       ]
      },
      {
       "output_type": "stream",
       "stream": "stdout",
       "text": [
        "\n",
        "Num proteins in ../data/b1hData/newDatabase/6varpos/F1/low/protein_seq/CTA_protein_seq.txt:  1368\n",
        "Num proteins in ../data/b1hData/newDatabase/6varpos/F1/low/protein_seq/CTC_protein_seq.txt:  5528"
       ]
      },
      {
       "output_type": "stream",
       "stream": "stdout",
       "text": [
        "\n",
        "Num proteins in ../data/b1hData/newDatabase/6varpos/F1/low/protein_seq/CTG_protein_seq.txt:  959\n",
        "Num proteins in ../data/b1hData/newDatabase/6varpos/F1/low/protein_seq/CTT_protein_seq.txt:  1630\n",
        "Num proteins in ../data/b1hData/newDatabase/6varpos/F1/low/protein_seq/GAA_protein_seq.txt:  1398"
       ]
      },
      {
       "output_type": "stream",
       "stream": "stdout",
       "text": [
        "\n",
        "Num proteins in ../data/b1hData/newDatabase/6varpos/F1/low/protein_seq/GAC_protein_seq.txt:  5790"
       ]
      },
      {
       "output_type": "stream",
       "stream": "stdout",
       "text": [
        "\n",
        "Num proteins in ../data/b1hData/newDatabase/6varpos/F1/low/protein_seq/GAG_protein_seq.txt:  940\n",
        "Num proteins in ../data/b1hData/newDatabase/6varpos/F1/low/protein_seq/GAT_protein_seq.txt:  3614"
       ]
      },
      {
       "output_type": "stream",
       "stream": "stdout",
       "text": [
        "\n",
        "Num proteins in ../data/b1hData/newDatabase/6varpos/F1/low/protein_seq/GCA_protein_seq.txt:  1183\n",
        "Num proteins in ../data/b1hData/newDatabase/6varpos/F1/low/protein_seq/GCC_protein_seq.txt:  481\n",
        "Num proteins in ../data/b1hData/newDatabase/6varpos/F1/low/protein_seq/GCG_protein_seq.txt:  1132\n",
        "Num proteins in ../data/b1hData/newDatabase/6varpos/F1/low/protein_seq/GCT_protein_seq.txt:  1108"
       ]
      },
      {
       "output_type": "stream",
       "stream": "stdout",
       "text": [
        "\n",
        "Num proteins in ../data/b1hData/newDatabase/6varpos/F1/low/protein_seq/GGA_protein_seq.txt:  1749\n",
        "Num proteins in ../data/b1hData/newDatabase/6varpos/F1/low/protein_seq/GGC_protein_seq.txt:  5211"
       ]
      },
      {
       "output_type": "stream",
       "stream": "stdout",
       "text": [
        "\n",
        "Num proteins in ../data/b1hData/newDatabase/6varpos/F1/low/protein_seq/GGG_protein_seq.txt:  2187\n",
        "Num proteins in ../data/b1hData/newDatabase/6varpos/F1/low/protein_seq/GGT_protein_seq.txt:  9214"
       ]
      },
      {
       "output_type": "stream",
       "stream": "stdout",
       "text": [
        "\n",
        "Num proteins in ../data/b1hData/newDatabase/6varpos/F1/low/protein_seq/GTA_protein_seq.txt:  1530\n",
        "Num proteins in ../data/b1hData/newDatabase/6varpos/F1/low/protein_seq/GTC_protein_seq.txt:  1261"
       ]
      },
      {
       "output_type": "stream",
       "stream": "stdout",
       "text": [
        "\n",
        "Num proteins in ../data/b1hData/newDatabase/6varpos/F1/low/protein_seq/GTG_protein_seq.txt:  780\n",
        "Num proteins in ../data/b1hData/newDatabase/6varpos/F1/low/protein_seq/GTT_protein_seq.txt:  759\n",
        "Num proteins in ../data/b1hData/newDatabase/6varpos/F1/low/protein_seq/TAA_protein_seq.txt:  5324"
       ]
      },
      {
       "output_type": "stream",
       "stream": "stdout",
       "text": [
        "\n",
        "Num proteins in ../data/b1hData/newDatabase/6varpos/F1/low/protein_seq/TAC_protein_seq.txt:  1366\n",
        "Num proteins in ../data/b1hData/newDatabase/6varpos/F1/low/protein_seq/TAG_protein_seq.txt:  2701"
       ]
      },
      {
       "output_type": "stream",
       "stream": "stdout",
       "text": [
        "\n",
        "Num proteins in ../data/b1hData/newDatabase/6varpos/F1/low/protein_seq/TAT_protein_seq.txt:  687\n",
        "Num proteins in ../data/b1hData/newDatabase/6varpos/F1/low/protein_seq/TCA_protein_seq.txt:  1129\n",
        "Num proteins in ../data/b1hData/newDatabase/6varpos/F1/low/protein_seq/TCC_protein_seq.txt:  2030\n",
        "Num proteins in ../data/b1hData/newDatabase/6varpos/F1/low/protein_seq/TCG_protein_seq.txt:  638"
       ]
      },
      {
       "output_type": "stream",
       "stream": "stdout",
       "text": [
        "\n",
        "Num proteins in ../data/b1hData/newDatabase/6varpos/F1/low/protein_seq/TCT_protein_seq.txt:  3279"
       ]
      },
      {
       "output_type": "stream",
       "stream": "stdout",
       "text": [
        "\n",
        "Num proteins in ../data/b1hData/newDatabase/6varpos/F1/low/protein_seq/TGA_protein_seq.txt:  4205"
       ]
      },
      {
       "output_type": "stream",
       "stream": "stdout",
       "text": [
        "\n",
        "Num proteins in ../data/b1hData/newDatabase/6varpos/F1/low/protein_seq/TGC_protein_seq.txt:  4091\n",
        "Num proteins in ../data/b1hData/newDatabase/6varpos/F1/low/protein_seq/TGG_protein_seq.txt:  951"
       ]
      },
      {
       "output_type": "stream",
       "stream": "stdout",
       "text": [
        "\n",
        "Num proteins in ../data/b1hData/newDatabase/6varpos/F1/low/protein_seq/TGT_protein_seq.txt:  6038"
       ]
      },
      {
       "output_type": "stream",
       "stream": "stdout",
       "text": [
        "\n",
        "Num proteins in ../data/b1hData/newDatabase/6varpos/F1/low/protein_seq/TTA_protein_seq.txt:  1769\n",
        "Num proteins in ../data/b1hData/newDatabase/6varpos/F1/low/protein_seq/TTC_protein_seq.txt:  3759\n",
        "Num proteins in ../data/b1hData/newDatabase/6varpos/F1/low/protein_seq/TTG_protein_seq.txt:  6004"
       ]
      },
      {
       "output_type": "stream",
       "stream": "stdout",
       "text": [
        "\n",
        "Num proteins in ../data/b1hData/newDatabase/6varpos/F1/low/protein_seq/TTT_protein_seq.txt:  4209"
       ]
      },
      {
       "output_type": "stream",
       "stream": "stdout",
       "text": [
        "\n",
        "Total num protein/dna observations in all files:  142097\n",
        "Total num unique proteins in all files:  120825\n",
        "\n",
        "Num obs processed in csv to txt conversion:  142097"
       ]
      },
      {
       "output_type": "stream",
       "stream": "stdout",
       "text": [
        "\n",
        "\n",
        "Num proteins in ../data/b1hData/newDatabase/6varpos/F2/high/protein_seq/AAA_protein_seq.txt:  812\n",
        "Num proteins in ../data/b1hData/newDatabase/6varpos/F2/high/protein_seq/AAC_protein_seq.txt:  1411"
       ]
      },
      {
       "output_type": "stream",
       "stream": "stdout",
       "text": [
        "\n",
        "Num proteins in ../data/b1hData/newDatabase/6varpos/F2/high/protein_seq/AAG_protein_seq.txt:  664\n",
        "Num proteins in ../data/b1hData/newDatabase/6varpos/F2/high/protein_seq/AAT_protein_seq.txt:  423\n",
        "Num proteins in ../data/b1hData/newDatabase/6varpos/F2/high/protein_seq/ACA_protein_seq.txt:  1083\n",
        "Num proteins in ../data/b1hData/newDatabase/6varpos/F2/high/protein_seq/ACC_protein_seq.txt:  658\n",
        "Num proteins in ../data/b1hData/newDatabase/6varpos/F2/high/protein_seq/ACG_protein_seq.txt:  1218\n",
        "Num proteins in ../data/b1hData/newDatabase/6varpos/F2/high/protein_seq/ACT_protein_seq.txt:  1713"
       ]
      },
      {
       "output_type": "stream",
       "stream": "stdout",
       "text": [
        "\n",
        "Num proteins in ../data/b1hData/newDatabase/6varpos/F2/high/protein_seq/AGA_protein_seq.txt:  607\n",
        "Num proteins in ../data/b1hData/newDatabase/6varpos/F2/high/protein_seq/AGC_protein_seq.txt:  451\n",
        "Num proteins in ../data/b1hData/newDatabase/6varpos/F2/high/protein_seq/AGG_protein_seq.txt:  1537\n",
        "Num proteins in ../data/b1hData/newDatabase/6varpos/F2/high/protein_seq/AGT_protein_seq.txt:  1616"
       ]
      },
      {
       "output_type": "stream",
       "stream": "stdout",
       "text": [
        "\n",
        "Num proteins in ../data/b1hData/newDatabase/6varpos/F2/high/protein_seq/ATA_protein_seq.txt:  371\n",
        "Num proteins in ../data/b1hData/newDatabase/6varpos/F2/high/protein_seq/ATC_protein_seq.txt:  1036\n",
        "Num proteins in ../data/b1hData/newDatabase/6varpos/F2/high/protein_seq/ATG_protein_seq.txt:  750\n",
        "Num proteins in ../data/b1hData/newDatabase/6varpos/F2/high/protein_seq/ATT_protein_seq.txt:  1042\n",
        "Num proteins in ../data/b1hData/newDatabase/6varpos/F2/high/protein_seq/CAA_protein_seq.txt:  279"
       ]
      },
      {
       "output_type": "stream",
       "stream": "stdout",
       "text": [
        "\n",
        "Num proteins in ../data/b1hData/newDatabase/6varpos/F2/high/protein_seq/CAC_protein_seq.txt:  1035\n",
        "Num proteins in ../data/b1hData/newDatabase/6varpos/F2/high/protein_seq/CAG_protein_seq.txt:  1265\n",
        "Num proteins in ../data/b1hData/newDatabase/6varpos/F2/high/protein_seq/CAT_protein_seq.txt:  1294"
       ]
      },
      {
       "output_type": "stream",
       "stream": "stdout",
       "text": [
        "\n",
        "Num proteins in ../data/b1hData/newDatabase/6varpos/F2/high/protein_seq/CCA_protein_seq.txt:  587\n",
        "Num proteins in ../data/b1hData/newDatabase/6varpos/F2/high/protein_seq/CCC_protein_seq.txt:  486\n",
        "Num proteins in ../data/b1hData/newDatabase/6varpos/F2/high/protein_seq/CCG_protein_seq.txt:  626"
       ]
      },
      {
       "output_type": "stream",
       "stream": "stdout",
       "text": [
        "\n",
        "Num proteins in ../data/b1hData/newDatabase/6varpos/F2/high/protein_seq/CCT_protein_seq.txt:  825\n",
        "Num proteins in ../data/b1hData/newDatabase/6varpos/F2/high/protein_seq/CGA_protein_seq.txt:  839\n",
        "Num proteins in ../data/b1hData/newDatabase/6varpos/F2/high/protein_seq/CGC_protein_seq.txt:  1066\n",
        "Num proteins in ../data/b1hData/newDatabase/6varpos/F2/high/protein_seq/CGG_protein_seq.txt:  3072"
       ]
      },
      {
       "output_type": "stream",
       "stream": "stdout",
       "text": [
        "\n",
        "Num proteins in ../data/b1hData/newDatabase/6varpos/F2/high/protein_seq/CGT_protein_seq.txt:  1505\n",
        "Num proteins in ../data/b1hData/newDatabase/6varpos/F2/high/protein_seq/CTA_protein_seq.txt:  357\n",
        "Num proteins in ../data/b1hData/newDatabase/6varpos/F2/high/protein_seq/CTC_protein_seq.txt:  347\n",
        "Num proteins in ../data/b1hData/newDatabase/6varpos/F2/high/protein_seq/CTG_protein_seq.txt:  345\n",
        "Num proteins in ../data/b1hData/newDatabase/6varpos/F2/high/protein_seq/CTT_protein_seq.txt:  377\n",
        "Num proteins in ../data/b1hData/newDatabase/6varpos/F2/high/protein_seq/GAA_protein_seq.txt:  803\n",
        "Num proteins in ../data/b1hData/newDatabase/6varpos/F2/high/protein_seq/GAC_protein_seq.txt:  1863"
       ]
      },
      {
       "output_type": "stream",
       "stream": "stdout",
       "text": [
        "\n",
        "Num proteins in ../data/b1hData/newDatabase/6varpos/F2/high/protein_seq/GAG_protein_seq.txt:  2010\n",
        "Num proteins in ../data/b1hData/newDatabase/6varpos/F2/high/protein_seq/GAT_protein_seq.txt:  825\n",
        "Num proteins in ../data/b1hData/newDatabase/6varpos/F2/high/protein_seq/GCA_protein_seq.txt:  292\n",
        "Num proteins in ../data/b1hData/newDatabase/6varpos/F2/high/protein_seq/GCC_protein_seq.txt:  561\n",
        "Num proteins in ../data/b1hData/newDatabase/6varpos/F2/high/protein_seq/GCG_protein_seq.txt:  1373"
       ]
      },
      {
       "output_type": "stream",
       "stream": "stdout",
       "text": [
        "\n",
        "Num proteins in ../data/b1hData/newDatabase/6varpos/F2/high/protein_seq/GCT_protein_seq.txt:  1668\n",
        "Num proteins in ../data/b1hData/newDatabase/6varpos/F2/high/protein_seq/GGA_protein_seq.txt:  860\n",
        "Num proteins in ../data/b1hData/newDatabase/6varpos/F2/high/protein_seq/GGC_protein_seq.txt:  308\n",
        "Num proteins in ../data/b1hData/newDatabase/6varpos/F2/high/protein_seq/GGG_protein_seq.txt:  2434"
       ]
      },
      {
       "output_type": "stream",
       "stream": "stdout",
       "text": [
        "\n",
        "Num proteins in ../data/b1hData/newDatabase/6varpos/F2/high/protein_seq/GGT_protein_seq.txt:  759\n",
        "Num proteins in ../data/b1hData/newDatabase/6varpos/F2/high/protein_seq/GTA_protein_seq.txt:  1118\n",
        "Num proteins in ../data/b1hData/newDatabase/6varpos/F2/high/protein_seq/GTC_protein_seq.txt:  754\n",
        "Num proteins in ../data/b1hData/newDatabase/6varpos/F2/high/protein_seq/GTG_protein_seq.txt:  1436\n",
        "Num proteins in ../data/b1hData/newDatabase/6varpos/F2/high/protein_seq/GTT_protein_seq.txt:  1367\n",
        "Num proteins in ../data/b1hData/newDatabase/6varpos/F2/high/protein_seq/TAA_protein_seq.txt:  710"
       ]
      },
      {
       "output_type": "stream",
       "stream": "stdout",
       "text": [
        "\n",
        "Num proteins in ../data/b1hData/newDatabase/6varpos/F2/high/protein_seq/TAC_protein_seq.txt:  628\n",
        "Num proteins in ../data/b1hData/newDatabase/6varpos/F2/high/protein_seq/TAG_protein_seq.txt:  387\n",
        "Num proteins in ../data/b1hData/newDatabase/6varpos/F2/high/protein_seq/TAT_protein_seq.txt:  1097"
       ]
      },
      {
       "output_type": "stream",
       "stream": "stdout",
       "text": [
        "\n",
        "Num proteins in ../data/b1hData/newDatabase/6varpos/F2/high/protein_seq/TCA_protein_seq.txt:  508\n",
        "Num proteins in ../data/b1hData/newDatabase/6varpos/F2/high/protein_seq/TCC_protein_seq.txt:  608\n",
        "Num proteins in ../data/b1hData/newDatabase/6varpos/F2/high/protein_seq/TCG_protein_seq.txt:  858\n",
        "Num proteins in ../data/b1hData/newDatabase/6varpos/F2/high/protein_seq/TCT_protein_seq.txt:  821\n",
        "Num proteins in ../data/b1hData/newDatabase/6varpos/F2/high/protein_seq/TGA_protein_seq.txt:  294\n",
        "Num proteins in ../data/b1hData/newDatabase/6varpos/F2/high/protein_seq/TGC_protein_seq.txt:  216\n",
        "Num proteins in ../data/b1hData/newDatabase/6varpos/F2/high/protein_seq/TGG_protein_seq.txt:  3225"
       ]
      },
      {
       "output_type": "stream",
       "stream": "stdout",
       "text": [
        "\n",
        "Num proteins in ../data/b1hData/newDatabase/6varpos/F2/high/protein_seq/TGT_protein_seq.txt:  2288\n",
        "Num proteins in ../data/b1hData/newDatabase/6varpos/F2/high/protein_seq/TTA_protein_seq.txt:  175\n",
        "Num proteins in ../data/b1hData/newDatabase/6varpos/F2/high/protein_seq/TTC_protein_seq.txt:  339\n",
        "Num proteins in ../data/b1hData/newDatabase/6varpos/F2/high/protein_seq/TTG_protein_seq.txt:  549\n",
        "Num proteins in ../data/b1hData/newDatabase/6varpos/F2/high/protein_seq/TTT_protein_seq.txt:  266"
       ]
      },
      {
       "output_type": "stream",
       "stream": "stdout",
       "text": [
        "\n",
        "Total num protein/dna observations in all files:  61097\n",
        "Total num unique proteins in all files:  53524\n",
        "\n",
        "Num obs processed in csv to txt conversion:  61097"
       ]
      },
      {
       "output_type": "stream",
       "stream": "stdout",
       "text": [
        "\n",
        "\n",
        "Num proteins in ../data/b1hData/newDatabase/6varpos/F2/low/protein_seq/AAA_protein_seq.txt:  2797\n",
        "Num proteins in ../data/b1hData/newDatabase/6varpos/F2/low/protein_seq/AAC_protein_seq.txt:  2974"
       ]
      },
      {
       "output_type": "stream",
       "stream": "stdout",
       "text": [
        "\n",
        "Num proteins in ../data/b1hData/newDatabase/6varpos/F2/low/protein_seq/AAG_protein_seq.txt:  3969\n",
        "Num proteins in ../data/b1hData/newDatabase/6varpos/F2/low/protein_seq/AAT_protein_seq.txt:  3172"
       ]
      },
      {
       "output_type": "stream",
       "stream": "stdout",
       "text": [
        "\n",
        "Num proteins in ../data/b1hData/newDatabase/6varpos/F2/low/protein_seq/ACA_protein_seq.txt:  3496\n",
        "Num proteins in ../data/b1hData/newDatabase/6varpos/F2/low/protein_seq/ACC_protein_seq.txt:  2331"
       ]
      },
      {
       "output_type": "stream",
       "stream": "stdout",
       "text": [
        "\n",
        "Num proteins in ../data/b1hData/newDatabase/6varpos/F2/low/protein_seq/ACG_protein_seq.txt:  3764\n",
        "Num proteins in ../data/b1hData/newDatabase/6varpos/F2/low/protein_seq/ACT_protein_seq.txt:  4341"
       ]
      },
      {
       "output_type": "stream",
       "stream": "stdout",
       "text": [
        "\n",
        "Num proteins in ../data/b1hData/newDatabase/6varpos/F2/low/protein_seq/AGA_protein_seq.txt:  3876\n",
        "Num proteins in ../data/b1hData/newDatabase/6varpos/F2/low/protein_seq/AGC_protein_seq.txt:  1670\n",
        "Num proteins in ../data/b1hData/newDatabase/6varpos/F2/low/protein_seq/AGG_protein_seq.txt:  2984"
       ]
      },
      {
       "output_type": "stream",
       "stream": "stdout",
       "text": [
        "\n",
        "Num proteins in ../data/b1hData/newDatabase/6varpos/F2/low/protein_seq/AGT_protein_seq.txt:  5222\n",
        "Num proteins in ../data/b1hData/newDatabase/6varpos/F2/low/protein_seq/ATA_protein_seq.txt:  1952"
       ]
      },
      {
       "output_type": "stream",
       "stream": "stdout",
       "text": [
        "\n",
        "Num proteins in ../data/b1hData/newDatabase/6varpos/F2/low/protein_seq/ATC_protein_seq.txt:  2381\n",
        "Num proteins in ../data/b1hData/newDatabase/6varpos/F2/low/protein_seq/ATG_protein_seq.txt:  5296"
       ]
      },
      {
       "output_type": "stream",
       "stream": "stdout",
       "text": [
        "\n",
        "Num proteins in ../data/b1hData/newDatabase/6varpos/F2/low/protein_seq/ATT_protein_seq.txt:  4872"
       ]
      },
      {
       "output_type": "stream",
       "stream": "stdout",
       "text": [
        "\n",
        "Num proteins in ../data/b1hData/newDatabase/6varpos/F2/low/protein_seq/CAA_protein_seq.txt:  1706\n",
        "Num proteins in ../data/b1hData/newDatabase/6varpos/F2/low/protein_seq/CAC_protein_seq.txt:  3215\n",
        "Num proteins in ../data/b1hData/newDatabase/6varpos/F2/low/protein_seq/CAG_protein_seq.txt:  3842"
       ]
      },
      {
       "output_type": "stream",
       "stream": "stdout",
       "text": [
        "\n",
        "Num proteins in ../data/b1hData/newDatabase/6varpos/F2/low/protein_seq/CAT_protein_seq.txt:  2364\n",
        "Num proteins in ../data/b1hData/newDatabase/6varpos/F2/low/protein_seq/CCA_protein_seq.txt:  2443"
       ]
      },
      {
       "output_type": "stream",
       "stream": "stdout",
       "text": [
        "\n",
        "Num proteins in ../data/b1hData/newDatabase/6varpos/F2/low/protein_seq/CCC_protein_seq.txt:  2640\n",
        "Num proteins in ../data/b1hData/newDatabase/6varpos/F2/low/protein_seq/CCG_protein_seq.txt:  2383"
       ]
      },
      {
       "output_type": "stream",
       "stream": "stdout",
       "text": [
        "\n",
        "Num proteins in ../data/b1hData/newDatabase/6varpos/F2/low/protein_seq/CCT_protein_seq.txt:  3505\n",
        "Num proteins in ../data/b1hData/newDatabase/6varpos/F2/low/protein_seq/CGA_protein_seq.txt:  3444"
       ]
      },
      {
       "output_type": "stream",
       "stream": "stdout",
       "text": [
        "\n",
        "Num proteins in ../data/b1hData/newDatabase/6varpos/F2/low/protein_seq/CGC_protein_seq.txt:  4189"
       ]
      },
      {
       "output_type": "stream",
       "stream": "stdout",
       "text": [
        "\n",
        "Num proteins in ../data/b1hData/newDatabase/6varpos/F2/low/protein_seq/CGG_protein_seq.txt:  4892"
       ]
      },
      {
       "output_type": "stream",
       "stream": "stdout",
       "text": [
        "\n",
        "Num proteins in ../data/b1hData/newDatabase/6varpos/F2/low/protein_seq/CGT_protein_seq.txt:  3208"
       ]
      },
      {
       "output_type": "stream",
       "stream": "stdout",
       "text": [
        "\n",
        "Num proteins in ../data/b1hData/newDatabase/6varpos/F2/low/protein_seq/CTA_protein_seq.txt:  1165\n",
        "Num proteins in ../data/b1hData/newDatabase/6varpos/F2/low/protein_seq/CTC_protein_seq.txt:  2065\n",
        "Num proteins in ../data/b1hData/newDatabase/6varpos/F2/low/protein_seq/CTG_protein_seq.txt:  3052"
       ]
      },
      {
       "output_type": "stream",
       "stream": "stdout",
       "text": [
        "\n",
        "Num proteins in ../data/b1hData/newDatabase/6varpos/F2/low/protein_seq/CTT_protein_seq.txt:  2400"
       ]
      },
      {
       "output_type": "stream",
       "stream": "stdout",
       "text": [
        "\n",
        "Num proteins in ../data/b1hData/newDatabase/6varpos/F2/low/protein_seq/GAA_protein_seq.txt:  2215"
       ]
      },
      {
       "output_type": "stream",
       "stream": "stdout",
       "text": [
        "\n",
        "Num proteins in ../data/b1hData/newDatabase/6varpos/F2/low/protein_seq/GAC_protein_seq.txt:  2464\n",
        "Num proteins in ../data/b1hData/newDatabase/6varpos/F2/low/protein_seq/GAG_protein_seq.txt:  3757"
       ]
      },
      {
       "output_type": "stream",
       "stream": "stdout",
       "text": [
        "\n",
        "Num proteins in ../data/b1hData/newDatabase/6varpos/F2/low/protein_seq/GAT_protein_seq.txt:  1769\n",
        "Num proteins in ../data/b1hData/newDatabase/6varpos/F2/low/protein_seq/GCA_protein_seq.txt:  2126\n",
        "Num proteins in ../data/b1hData/newDatabase/6varpos/F2/low/protein_seq/GCC_protein_seq.txt:  2195"
       ]
      },
      {
       "output_type": "stream",
       "stream": "stdout",
       "text": [
        "\n",
        "Num proteins in ../data/b1hData/newDatabase/6varpos/F2/low/protein_seq/GCG_protein_seq.txt:  4412"
       ]
      },
      {
       "output_type": "stream",
       "stream": "stdout",
       "text": [
        "\n",
        "Num proteins in ../data/b1hData/newDatabase/6varpos/F2/low/protein_seq/GCT_protein_seq.txt:  3112\n",
        "Num proteins in ../data/b1hData/newDatabase/6varpos/F2/low/protein_seq/GGA_protein_seq.txt:  3696"
       ]
      },
      {
       "output_type": "stream",
       "stream": "stdout",
       "text": [
        "\n",
        "Num proteins in ../data/b1hData/newDatabase/6varpos/F2/low/protein_seq/GGC_protein_seq.txt:  2450"
       ]
      },
      {
       "output_type": "stream",
       "stream": "stdout",
       "text": [
        "\n",
        "Num proteins in ../data/b1hData/newDatabase/6varpos/F2/low/protein_seq/GGG_protein_seq.txt:  2976"
       ]
      },
      {
       "output_type": "stream",
       "stream": "stdout",
       "text": [
        "\n",
        "Num proteins in ../data/b1hData/newDatabase/6varpos/F2/low/protein_seq/GGT_protein_seq.txt:  3335\n",
        "Num proteins in ../data/b1hData/newDatabase/6varpos/F2/low/protein_seq/GTA_protein_seq.txt:  6068"
       ]
      },
      {
       "output_type": "stream",
       "stream": "stdout",
       "text": [
        "\n",
        "Num proteins in ../data/b1hData/newDatabase/6varpos/F2/low/protein_seq/GTC_protein_seq.txt:  2389\n",
        "Num proteins in ../data/b1hData/newDatabase/6varpos/F2/low/protein_seq/GTG_protein_seq.txt:  4974"
       ]
      },
      {
       "output_type": "stream",
       "stream": "stdout",
       "text": [
        "\n",
        "Num proteins in ../data/b1hData/newDatabase/6varpos/F2/low/protein_seq/GTT_protein_seq.txt:  3809\n",
        "Num proteins in ../data/b1hData/newDatabase/6varpos/F2/low/protein_seq/TAA_protein_seq.txt:  3296"
       ]
      },
      {
       "output_type": "stream",
       "stream": "stdout",
       "text": [
        "\n",
        "Num proteins in ../data/b1hData/newDatabase/6varpos/F2/low/protein_seq/TAC_protein_seq.txt:  2893\n",
        "Num proteins in ../data/b1hData/newDatabase/6varpos/F2/low/protein_seq/TAG_protein_seq.txt:  1550\n",
        "Num proteins in ../data/b1hData/newDatabase/6varpos/F2/low/protein_seq/TAT_protein_seq.txt:  4879"
       ]
      },
      {
       "output_type": "stream",
       "stream": "stdout",
       "text": [
        "\n",
        "Num proteins in ../data/b1hData/newDatabase/6varpos/F2/low/protein_seq/TCA_protein_seq.txt:  2354\n",
        "Num proteins in ../data/b1hData/newDatabase/6varpos/F2/low/protein_seq/TCC_protein_seq.txt:  2557"
       ]
      },
      {
       "output_type": "stream",
       "stream": "stdout",
       "text": [
        "\n",
        "Num proteins in ../data/b1hData/newDatabase/6varpos/F2/low/protein_seq/TCG_protein_seq.txt:  3389\n",
        "Num proteins in ../data/b1hData/newDatabase/6varpos/F2/low/protein_seq/TCT_protein_seq.txt:  3648"
       ]
      },
      {
       "output_type": "stream",
       "stream": "stdout",
       "text": [
        "\n",
        "Num proteins in ../data/b1hData/newDatabase/6varpos/F2/low/protein_seq/TGA_protein_seq.txt:  2731\n",
        "Num proteins in ../data/b1hData/newDatabase/6varpos/F2/low/protein_seq/TGC_protein_seq.txt:  827\n",
        "Num proteins in ../data/b1hData/newDatabase/6varpos/F2/low/protein_seq/TGG_protein_seq.txt:  3486"
       ]
      },
      {
       "output_type": "stream",
       "stream": "stdout",
       "text": [
        "\n",
        "Num proteins in ../data/b1hData/newDatabase/6varpos/F2/low/protein_seq/TGT_protein_seq.txt:  5322\n",
        "Num proteins in ../data/b1hData/newDatabase/6varpos/F2/low/protein_seq/TTA_protein_seq.txt:  2146"
       ]
      },
      {
       "output_type": "stream",
       "stream": "stdout",
       "text": [
        "\n",
        "Num proteins in ../data/b1hData/newDatabase/6varpos/F2/low/protein_seq/TTC_protein_seq.txt:  2284\n",
        "Num proteins in ../data/b1hData/newDatabase/6varpos/F2/low/protein_seq/TTG_protein_seq.txt:  2941"
       ]
      },
      {
       "output_type": "stream",
       "stream": "stdout",
       "text": [
        "\n",
        "Num proteins in ../data/b1hData/newDatabase/6varpos/F2/low/protein_seq/TTT_protein_seq.txt:  2395\n",
        "Total num protein/dna observations in all files:  200055\n",
        "Total num unique proteins in all files:  170681\n",
        "\n",
        "Num obs processed in csv to txt conversion:  200055"
       ]
      },
      {
       "output_type": "stream",
       "stream": "stdout",
       "text": [
        "\n",
        "\n",
        "Num proteins in ../data/b1hData/newDatabase/6varpos/F3/high/protein_seq/AAA_protein_seq.txt:  1265\n",
        "Num proteins in ../data/b1hData/newDatabase/6varpos/F3/high/protein_seq/AAC_protein_seq.txt:  1245\n",
        "Num proteins in ../data/b1hData/newDatabase/6varpos/F3/high/protein_seq/AAG_protein_seq.txt:  1656\n",
        "Num proteins in ../data/b1hData/newDatabase/6varpos/F3/high/protein_seq/AAT_protein_seq.txt:  574\n",
        "Num proteins in ../data/b1hData/newDatabase/6varpos/F3/high/protein_seq/ACA_protein_seq.txt:  357\n",
        "Num proteins in ../data/b1hData/newDatabase/6varpos/F3/high/protein_seq/ACC_protein_seq.txt:  302"
       ]
      },
      {
       "output_type": "stream",
       "stream": "stdout",
       "text": [
        "\n",
        "Num proteins in ../data/b1hData/newDatabase/6varpos/F3/high/protein_seq/ACG_protein_seq.txt:  1424\n",
        "Num proteins in ../data/b1hData/newDatabase/6varpos/F3/high/protein_seq/ACT_protein_seq.txt:  1043\n",
        "Num proteins in ../data/b1hData/newDatabase/6varpos/F3/high/protein_seq/AGA_protein_seq.txt:  258\n",
        "Num proteins in ../data/b1hData/newDatabase/6varpos/F3/high/protein_seq/AGC_protein_seq.txt:  3029"
       ]
      },
      {
       "output_type": "stream",
       "stream": "stdout",
       "text": [
        "\n",
        "Num proteins in ../data/b1hData/newDatabase/6varpos/F3/high/protein_seq/AGG_protein_seq.txt:  3087\n",
        "Num proteins in ../data/b1hData/newDatabase/6varpos/F3/high/protein_seq/AGT_protein_seq.txt:  1665\n",
        "Num proteins in ../data/b1hData/newDatabase/6varpos/F3/high/protein_seq/ATA_protein_seq.txt:  1233"
       ]
      },
      {
       "output_type": "stream",
       "stream": "stdout",
       "text": [
        "\n",
        "Num proteins in ../data/b1hData/newDatabase/6varpos/F3/high/protein_seq/ATC_protein_seq.txt:  1906\n",
        "Num proteins in ../data/b1hData/newDatabase/6varpos/F3/high/protein_seq/ATG_protein_seq.txt:  912\n",
        "Num proteins in ../data/b1hData/newDatabase/6varpos/F3/high/protein_seq/ATT_protein_seq.txt:  2159"
       ]
      },
      {
       "output_type": "stream",
       "stream": "stdout",
       "text": [
        "\n",
        "Num proteins in ../data/b1hData/newDatabase/6varpos/F3/high/protein_seq/CAA_protein_seq.txt:  807\n",
        "Num proteins in ../data/b1hData/newDatabase/6varpos/F3/high/protein_seq/CAC_protein_seq.txt:  1211\n",
        "Num proteins in ../data/b1hData/newDatabase/6varpos/F3/high/protein_seq/CAG_protein_seq.txt:  606\n",
        "Num proteins in ../data/b1hData/newDatabase/6varpos/F3/high/protein_seq/CAT_protein_seq.txt:  840\n",
        "Num proteins in ../data/b1hData/newDatabase/6varpos/F3/high/protein_seq/CCA_protein_seq.txt:  696\n",
        "Num proteins in ../data/b1hData/newDatabase/6varpos/F3/high/protein_seq/CCC_protein_seq.txt:  716"
       ]
      },
      {
       "output_type": "stream",
       "stream": "stdout",
       "text": [
        "\n",
        "Num proteins in ../data/b1hData/newDatabase/6varpos/F3/high/protein_seq/CCG_protein_seq.txt:  966\n",
        "Num proteins in ../data/b1hData/newDatabase/6varpos/F3/high/protein_seq/CCT_protein_seq.txt:  926\n",
        "Num proteins in ../data/b1hData/newDatabase/6varpos/F3/high/protein_seq/CGA_protein_seq.txt:  553\n",
        "Num proteins in ../data/b1hData/newDatabase/6varpos/F3/high/protein_seq/CGC_protein_seq.txt:  1501\n",
        "Num proteins in ../data/b1hData/newDatabase/6varpos/F3/high/protein_seq/CGG_protein_seq.txt:  485\n",
        "Num proteins in ../data/b1hData/newDatabase/6varpos/F3/high/protein_seq/CGT_protein_seq.txt:  604"
       ]
      },
      {
       "output_type": "stream",
       "stream": "stdout",
       "text": [
        "\n",
        "Num proteins in ../data/b1hData/newDatabase/6varpos/F3/high/protein_seq/CTA_protein_seq.txt:  1463\n",
        "Num proteins in ../data/b1hData/newDatabase/6varpos/F3/high/protein_seq/CTC_protein_seq.txt:  757\n",
        "Num proteins in ../data/b1hData/newDatabase/6varpos/F3/high/protein_seq/CTG_protein_seq.txt:  831\n",
        "Num proteins in ../data/b1hData/newDatabase/6varpos/F3/high/protein_seq/CTT_protein_seq.txt:  901\n",
        "Num proteins in ../data/b1hData/newDatabase/6varpos/F3/high/protein_seq/GAA_protein_seq.txt:  520\n",
        "Num proteins in ../data/b1hData/newDatabase/6varpos/F3/high/protein_seq/GAC_protein_seq.txt:  416"
       ]
      },
      {
       "output_type": "stream",
       "stream": "stdout",
       "text": [
        "\n",
        "Num proteins in ../data/b1hData/newDatabase/6varpos/F3/high/protein_seq/GAG_protein_seq.txt:  966\n",
        "Num proteins in ../data/b1hData/newDatabase/6varpos/F3/high/protein_seq/GAT_protein_seq.txt:  691\n",
        "Num proteins in ../data/b1hData/newDatabase/6varpos/F3/high/protein_seq/GCA_protein_seq.txt:  944\n",
        "Num proteins in ../data/b1hData/newDatabase/6varpos/F3/high/protein_seq/GCC_protein_seq.txt:  476\n",
        "Num proteins in ../data/b1hData/newDatabase/6varpos/F3/high/protein_seq/GCG_protein_seq.txt:  824\n",
        "Num proteins in ../data/b1hData/newDatabase/6varpos/F3/high/protein_seq/GCT_protein_seq.txt:  1110\n",
        "Num proteins in ../data/b1hData/newDatabase/6varpos/F3/high/protein_seq/GGA_protein_seq.txt:  958"
       ]
      },
      {
       "output_type": "stream",
       "stream": "stdout",
       "text": [
        "\n",
        "Num proteins in ../data/b1hData/newDatabase/6varpos/F3/high/protein_seq/GGC_protein_seq.txt:  1585\n",
        "Num proteins in ../data/b1hData/newDatabase/6varpos/F3/high/protein_seq/GGG_protein_seq.txt:  1437\n",
        "Num proteins in ../data/b1hData/newDatabase/6varpos/F3/high/protein_seq/GGT_protein_seq.txt:  1244\n",
        "Num proteins in ../data/b1hData/newDatabase/6varpos/F3/high/protein_seq/GTA_protein_seq.txt:  652"
       ]
      },
      {
       "output_type": "stream",
       "stream": "stdout",
       "text": [
        "\n",
        "Num proteins in ../data/b1hData/newDatabase/6varpos/F3/high/protein_seq/GTC_protein_seq.txt:  1155\n",
        "Num proteins in ../data/b1hData/newDatabase/6varpos/F3/high/protein_seq/GTG_protein_seq.txt:  1263\n",
        "Num proteins in ../data/b1hData/newDatabase/6varpos/F3/high/protein_seq/GTT_protein_seq.txt:  1870"
       ]
      },
      {
       "output_type": "stream",
       "stream": "stdout",
       "text": [
        "\n",
        "Num proteins in ../data/b1hData/newDatabase/6varpos/F3/high/protein_seq/TAA_protein_seq.txt:  732\n",
        "Num proteins in ../data/b1hData/newDatabase/6varpos/F3/high/protein_seq/TAC_protein_seq.txt:  822\n",
        "Num proteins in ../data/b1hData/newDatabase/6varpos/F3/high/protein_seq/TAG_protein_seq.txt:  520\n",
        "Num proteins in ../data/b1hData/newDatabase/6varpos/F3/high/protein_seq/TAT_protein_seq.txt:  1151\n",
        "Num proteins in ../data/b1hData/newDatabase/6varpos/F3/high/protein_seq/TCA_protein_seq.txt:  852\n",
        "Num proteins in ../data/b1hData/newDatabase/6varpos/F3/high/protein_seq/TCC_protein_seq.txt:  590"
       ]
      },
      {
       "output_type": "stream",
       "stream": "stdout",
       "text": [
        "\n",
        "Num proteins in ../data/b1hData/newDatabase/6varpos/F3/high/protein_seq/TCG_protein_seq.txt:  648\n",
        "Num proteins in ../data/b1hData/newDatabase/6varpos/F3/high/protein_seq/TCT_protein_seq.txt:  916\n",
        "Num proteins in ../data/b1hData/newDatabase/6varpos/F3/high/protein_seq/TGA_protein_seq.txt:  1300\n",
        "Num proteins in ../data/b1hData/newDatabase/6varpos/F3/high/protein_seq/TGC_protein_seq.txt:  2372\n",
        "Num proteins in ../data/b1hData/newDatabase/6varpos/F3/high/protein_seq/TGG_protein_seq.txt:  547"
       ]
      },
      {
       "output_type": "stream",
       "stream": "stdout",
       "text": [
        "\n",
        "Num proteins in ../data/b1hData/newDatabase/6varpos/F3/high/protein_seq/TGT_protein_seq.txt:  4361"
       ]
      },
      {
       "output_type": "stream",
       "stream": "stdout",
       "text": [
        "\n",
        "Num proteins in ../data/b1hData/newDatabase/6varpos/F3/high/protein_seq/TTA_protein_seq.txt:  971\n",
        "Num proteins in ../data/b1hData/newDatabase/6varpos/F3/high/protein_seq/TTC_protein_seq.txt:  1334\n",
        "Num proteins in ../data/b1hData/newDatabase/6varpos/F3/high/protein_seq/TTG_protein_seq.txt:  1043\n",
        "Num proteins in ../data/b1hData/newDatabase/6varpos/F3/high/protein_seq/TTT_protein_seq.txt:  722\n",
        "Total num protein/dna observations in all files:  70970\n",
        "Total num unique proteins in all files:  58988\n",
        "\n",
        "Num obs processed in csv to txt conversion:  70970"
       ]
      },
      {
       "output_type": "stream",
       "stream": "stdout",
       "text": [
        "\n",
        "\n",
        "Num proteins in ../data/b1hData/newDatabase/6varpos/F3/low/protein_seq/AAA_protein_seq.txt:  3559\n",
        "Num proteins in ../data/b1hData/newDatabase/6varpos/F3/low/protein_seq/AAC_protein_seq.txt:  2543"
       ]
      },
      {
       "output_type": "stream",
       "stream": "stdout",
       "text": [
        "\n",
        "Num proteins in ../data/b1hData/newDatabase/6varpos/F3/low/protein_seq/AAG_protein_seq.txt:  3595"
       ]
      },
      {
       "output_type": "stream",
       "stream": "stdout",
       "text": [
        "\n",
        "Num proteins in ../data/b1hData/newDatabase/6varpos/F3/low/protein_seq/AAT_protein_seq.txt:  3518"
       ]
      },
      {
       "output_type": "stream",
       "stream": "stdout",
       "text": [
        "\n",
        "Num proteins in ../data/b1hData/newDatabase/6varpos/F3/low/protein_seq/ACA_protein_seq.txt:  1688\n",
        "Num proteins in ../data/b1hData/newDatabase/6varpos/F3/low/protein_seq/ACC_protein_seq.txt:  527"
       ]
      },
      {
       "output_type": "stream",
       "stream": "stdout",
       "text": [
        "\n",
        "Num proteins in ../data/b1hData/newDatabase/6varpos/F3/low/protein_seq/ACG_protein_seq.txt:  2981\n",
        "Num proteins in ../data/b1hData/newDatabase/6varpos/F3/low/protein_seq/ACT_protein_seq.txt:  2514"
       ]
      },
      {
       "output_type": "stream",
       "stream": "stdout",
       "text": [
        "\n",
        "Num proteins in ../data/b1hData/newDatabase/6varpos/F3/low/protein_seq/AGA_protein_seq.txt:  1011\n",
        "Num proteins in ../data/b1hData/newDatabase/6varpos/F3/low/protein_seq/AGC_protein_seq.txt:  4657"
       ]
      },
      {
       "output_type": "stream",
       "stream": "stdout",
       "text": [
        "\n",
        "Num proteins in ../data/b1hData/newDatabase/6varpos/F3/low/protein_seq/AGG_protein_seq.txt:  2335\n",
        "Num proteins in ../data/b1hData/newDatabase/6varpos/F3/low/protein_seq/AGT_protein_seq.txt:  3551"
       ]
      },
      {
       "output_type": "stream",
       "stream": "stdout",
       "text": [
        "\n",
        "Num proteins in ../data/b1hData/newDatabase/6varpos/F3/low/protein_seq/ATA_protein_seq.txt:  2042\n",
        "Num proteins in ../data/b1hData/newDatabase/6varpos/F3/low/protein_seq/ATC_protein_seq.txt:  3310"
       ]
      },
      {
       "output_type": "stream",
       "stream": "stdout",
       "text": [
        "\n",
        "Num proteins in ../data/b1hData/newDatabase/6varpos/F3/low/protein_seq/ATG_protein_seq.txt:  2594\n",
        "Num proteins in ../data/b1hData/newDatabase/6varpos/F3/low/protein_seq/ATT_protein_seq.txt:  3014"
       ]
      },
      {
       "output_type": "stream",
       "stream": "stdout",
       "text": [
        "\n",
        "Num proteins in ../data/b1hData/newDatabase/6varpos/F3/low/protein_seq/CAA_protein_seq.txt:  2933\n",
        "Num proteins in ../data/b1hData/newDatabase/6varpos/F3/low/protein_seq/CAC_protein_seq.txt:  3337"
       ]
      },
      {
       "output_type": "stream",
       "stream": "stdout",
       "text": [
        "\n",
        "Num proteins in ../data/b1hData/newDatabase/6varpos/F3/low/protein_seq/CAG_protein_seq.txt:  2528"
       ]
      },
      {
       "output_type": "stream",
       "stream": "stdout",
       "text": [
        "\n",
        "Num proteins in ../data/b1hData/newDatabase/6varpos/F3/low/protein_seq/CAT_protein_seq.txt:  2779\n",
        "Num proteins in ../data/b1hData/newDatabase/6varpos/F3/low/protein_seq/CCA_protein_seq.txt:  2167"
       ]
      },
      {
       "output_type": "stream",
       "stream": "stdout",
       "text": [
        "\n",
        "Num proteins in ../data/b1hData/newDatabase/6varpos/F3/low/protein_seq/CCC_protein_seq.txt:  1936"
       ]
      },
      {
       "output_type": "stream",
       "stream": "stdout",
       "text": [
        "\n",
        "Num proteins in ../data/b1hData/newDatabase/6varpos/F3/low/protein_seq/CCG_protein_seq.txt:  3569"
       ]
      },
      {
       "output_type": "stream",
       "stream": "stdout",
       "text": [
        "\n",
        "Num proteins in ../data/b1hData/newDatabase/6varpos/F3/low/protein_seq/CCT_protein_seq.txt:  2392\n",
        "Num proteins in ../data/b1hData/newDatabase/6varpos/F3/low/protein_seq/CGA_protein_seq.txt:  4272"
       ]
      },
      {
       "output_type": "stream",
       "stream": "stdout",
       "text": [
        "\n",
        "Num proteins in ../data/b1hData/newDatabase/6varpos/F3/low/protein_seq/CGC_protein_seq.txt:  3237"
       ]
      },
      {
       "output_type": "stream",
       "stream": "stdout",
       "text": [
        "\n",
        "Num proteins in ../data/b1hData/newDatabase/6varpos/F3/low/protein_seq/CGG_protein_seq.txt:  544\n",
        "Num proteins in ../data/b1hData/newDatabase/6varpos/F3/low/protein_seq/CGT_protein_seq.txt:  2744\n",
        "Num proteins in ../data/b1hData/newDatabase/6varpos/F3/low/protein_seq/CTA_protein_seq.txt:  4311"
       ]
      },
      {
       "output_type": "stream",
       "stream": "stdout",
       "text": [
        "\n",
        "Num proteins in ../data/b1hData/newDatabase/6varpos/F3/low/protein_seq/CTC_protein_seq.txt:  4298\n",
        "Num proteins in ../data/b1hData/newDatabase/6varpos/F3/low/protein_seq/CTG_protein_seq.txt:  3264"
       ]
      },
      {
       "output_type": "stream",
       "stream": "stdout",
       "text": [
        "\n",
        "Num proteins in ../data/b1hData/newDatabase/6varpos/F3/low/protein_seq/CTT_protein_seq.txt:  8355"
       ]
      },
      {
       "output_type": "stream",
       "stream": "stdout",
       "text": [
        "\n",
        "Num proteins in ../data/b1hData/newDatabase/6varpos/F3/low/protein_seq/GAA_protein_seq.txt:  2119\n",
        "Num proteins in ../data/b1hData/newDatabase/6varpos/F3/low/protein_seq/GAC_protein_seq.txt:  2679"
       ]
      },
      {
       "output_type": "stream",
       "stream": "stdout",
       "text": [
        "\n",
        "Num proteins in ../data/b1hData/newDatabase/6varpos/F3/low/protein_seq/GAG_protein_seq.txt:  2521"
       ]
      },
      {
       "output_type": "stream",
       "stream": "stdout",
       "text": [
        "\n",
        "Num proteins in ../data/b1hData/newDatabase/6varpos/F3/low/protein_seq/GAT_protein_seq.txt:  3565"
       ]
      },
      {
       "output_type": "stream",
       "stream": "stdout",
       "text": [
        "\n",
        "Num proteins in ../data/b1hData/newDatabase/6varpos/F3/low/protein_seq/GCA_protein_seq.txt:  2096\n",
        "Num proteins in ../data/b1hData/newDatabase/6varpos/F3/low/protein_seq/GCC_protein_seq.txt:  2852"
       ]
      },
      {
       "output_type": "stream",
       "stream": "stdout",
       "text": [
        "\n",
        "Num proteins in ../data/b1hData/newDatabase/6varpos/F3/low/protein_seq/GCG_protein_seq.txt:  2726\n",
        "Num proteins in ../data/b1hData/newDatabase/6varpos/F3/low/protein_seq/GCT_protein_seq.txt:  2891"
       ]
      },
      {
       "output_type": "stream",
       "stream": "stdout",
       "text": [
        "\n",
        "Num proteins in ../data/b1hData/newDatabase/6varpos/F3/low/protein_seq/GGA_protein_seq.txt:  1702\n",
        "Num proteins in ../data/b1hData/newDatabase/6varpos/F3/low/protein_seq/GGC_protein_seq.txt:  2521\n",
        "Num proteins in ../data/b1hData/newDatabase/6varpos/F3/low/protein_seq/GGG_protein_seq.txt:  2263"
       ]
      },
      {
       "output_type": "stream",
       "stream": "stdout",
       "text": [
        "\n",
        "Num proteins in ../data/b1hData/newDatabase/6varpos/F3/low/protein_seq/GGT_protein_seq.txt:  3294\n",
        "Num proteins in ../data/b1hData/newDatabase/6varpos/F3/low/protein_seq/GTA_protein_seq.txt:  2127"
       ]
      },
      {
       "output_type": "stream",
       "stream": "stdout",
       "text": [
        "\n",
        "Num proteins in ../data/b1hData/newDatabase/6varpos/F3/low/protein_seq/GTC_protein_seq.txt:  3038\n",
        "Num proteins in ../data/b1hData/newDatabase/6varpos/F3/low/protein_seq/GTG_protein_seq.txt:  2888"
       ]
      },
      {
       "output_type": "stream",
       "stream": "stdout",
       "text": [
        "\n",
        "Num proteins in ../data/b1hData/newDatabase/6varpos/F3/low/protein_seq/GTT_protein_seq.txt:  2987\n",
        "Num proteins in ../data/b1hData/newDatabase/6varpos/F3/low/protein_seq/TAA_protein_seq.txt:  1545\n",
        "Num proteins in ../data/b1hData/newDatabase/6varpos/F3/low/protein_seq/TAC_protein_seq.txt:  2518"
       ]
      },
      {
       "output_type": "stream",
       "stream": "stdout",
       "text": [
        "\n",
        "Num proteins in ../data/b1hData/newDatabase/6varpos/F3/low/protein_seq/TAG_protein_seq.txt:  2320\n",
        "Num proteins in ../data/b1hData/newDatabase/6varpos/F3/low/protein_seq/TAT_protein_seq.txt:  3554"
       ]
      },
      {
       "output_type": "stream",
       "stream": "stdout",
       "text": [
        "\n",
        "Num proteins in ../data/b1hData/newDatabase/6varpos/F3/low/protein_seq/TCA_protein_seq.txt:  924\n",
        "Num proteins in ../data/b1hData/newDatabase/6varpos/F3/low/protein_seq/TCC_protein_seq.txt:  1274\n",
        "Num proteins in ../data/b1hData/newDatabase/6varpos/F3/low/protein_seq/TCG_protein_seq.txt:  1873"
       ]
      },
      {
       "output_type": "stream",
       "stream": "stdout",
       "text": [
        "\n",
        "Num proteins in ../data/b1hData/newDatabase/6varpos/F3/low/protein_seq/TCT_protein_seq.txt:  5363\n",
        "Num proteins in ../data/b1hData/newDatabase/6varpos/F3/low/protein_seq/TGA_protein_seq.txt:  3690"
       ]
      },
      {
       "output_type": "stream",
       "stream": "stdout",
       "text": [
        "\n",
        "Num proteins in ../data/b1hData/newDatabase/6varpos/F3/low/protein_seq/TGC_protein_seq.txt:  4435\n",
        "Num proteins in ../data/b1hData/newDatabase/6varpos/F3/low/protein_seq/TGG_protein_seq.txt:  392"
       ]
      },
      {
       "output_type": "stream",
       "stream": "stdout",
       "text": [
        "\n",
        "Num proteins in ../data/b1hData/newDatabase/6varpos/F3/low/protein_seq/TGT_protein_seq.txt:  1097\n",
        "Num proteins in ../data/b1hData/newDatabase/6varpos/F3/low/protein_seq/TTA_protein_seq.txt:  6190"
       ]
      },
      {
       "output_type": "stream",
       "stream": "stdout",
       "text": [
        "\n",
        "Num proteins in ../data/b1hData/newDatabase/6varpos/F3/low/protein_seq/TTC_protein_seq.txt:  6172"
       ]
      },
      {
       "output_type": "stream",
       "stream": "stdout",
       "text": [
        "\n",
        "Num proteins in ../data/b1hData/newDatabase/6varpos/F3/low/protein_seq/TTG_protein_seq.txt:  3128\n",
        "Num proteins in ../data/b1hData/newDatabase/6varpos/F3/low/protein_seq/TTT_protein_seq.txt:  3265"
       ]
      },
      {
       "output_type": "stream",
       "stream": "stdout",
       "text": [
        "\n",
        "Total num protein/dna observations in all files:  186114\n",
        "Total num unique proteins in all files:  145655\n",
        "\n",
        "Num obs processed in csv to txt conversion:  186114"
       ]
      },
      {
       "output_type": "stream",
       "stream": "stdout",
       "text": [
        "\n",
        "\n"
       ]
      }
     ],
     "prompt_number": 2
    },
    {
     "cell_type": "code",
     "collapsed": false,
     "input": [
      "prefix = '../data/b1hData/newDatabase/5varpos/'\n",
      "numVarPos = 5\n",
      "fings = ['F2', 'F3']\n",
      "strins = ['high', 'low']\n",
      "for fing in fings:\n",
      "    for strin in strins:\n",
      "        path = prefix + fing + '/' + strin + '/' + 'protein_seq/'\n",
      "        targetFiles2singleCSV(path, numVarPos, '_protein_seq.txt', style = 'verbose')\n",
      "        csv2txtFile(path, numVarPos, style = 'verbose')\n",
      "        print"
     ],
     "language": "python",
     "metadata": {},
     "outputs": [
      {
       "output_type": "stream",
       "stream": "stdout",
       "text": [
        "Invalid File Name: AAA_protein_seq.txt\n",
        "Invalid File Name: AAC_protein_seq.txt\n",
        "Num proteins in ../data/b1hData/newDatabase/5varpos/F2/high/protein_seq/AAG_protein_seq.txt:  717\n",
        "Invalid File Name: AAT_protein_seq.txt\n",
        "Invalid File Name: ACA_protein_seq.txt\n",
        "Invalid File Name: ACC_protein_seq.txt\n",
        "Invalid File Name: ACG_protein_seq.txt\n",
        "Invalid File Name: ACT_protein_seq.txt\n",
        "Invalid File Name: AGA_protein_seq.txt\n",
        "Invalid File Name: AGC_protein_seq.txt\n",
        "Invalid File Name: AGG_protein_seq.txt\n",
        "Invalid File Name: AGT_protein_seq.txt\n",
        "Invalid File Name: ATA_protein_seq.txt\n",
        "Invalid File Name: ATC_protein_seq.txt\n",
        "Invalid File Name: ATG_protein_seq.txt\n",
        "Invalid File Name: ATT_protein_seq.txt\n",
        "Num proteins in ../data/b1hData/newDatabase/5varpos/F2/high/protein_seq/CAA_protein_seq.txt:  354\n",
        "Num proteins in ../data/b1hData/newDatabase/5varpos/F2/high/protein_seq/CAC_protein_seq.txt:  493\n",
        "Num proteins in ../data/b1hData/newDatabase/5varpos/F2/high/protein_seq/CAG_protein_seq.txt:  515\n",
        "Num proteins in ../data/b1hData/newDatabase/5varpos/F2/high/protein_seq/CAT_protein_seq.txt:  454\n",
        "Invalid File Name: CCA_protein_seq.txt\n",
        "Invalid File Name: CCC_protein_seq.txt\n",
        "Invalid File Name: CCG_protein_seq.txt\n",
        "Invalid File Name: CCT_protein_seq.txt\n",
        "Invalid File Name: CGA_protein_seq.txt\n",
        "Invalid File Name: CGC_protein_seq.txt\n",
        "Invalid File Name: CGG_protein_seq.txt\n",
        "Invalid File Name: CGT_protein_seq.txt\n",
        "Invalid File Name: CTA_protein_seq.txt\n",
        "Invalid File Name: CTC_protein_seq.txt\n",
        "Invalid File Name: CTG_protein_seq.txt\n",
        "Invalid File Name: CTT_protein_seq.txt\n",
        "Invalid File Name: GAA_protein_seq.txt\n",
        "Invalid File Name: GAC_protein_seq.txt\n",
        "Num proteins in ../data/b1hData/newDatabase/5varpos/F2/high/protein_seq/GAG_protein_seq.txt:  1502\n",
        "Invalid File Name: GAT_protein_seq.txt\n",
        "Invalid File Name: GCA_protein_seq.txt\n",
        "Invalid File Name: GCC_protein_seq.txt\n",
        "Invalid File Name: GCG_protein_seq.txt\n",
        "Invalid File Name: GCT_protein_seq.txt\n",
        "Num proteins in ../data/b1hData/newDatabase/5varpos/F2/high/protein_seq/GGA_protein_seq.txt:  503"
       ]
      },
      {
       "output_type": "stream",
       "stream": "stdout",
       "text": [
        "\n",
        "Invalid File Name: GGC_protein_seq.txt\n",
        "Num proteins in ../data/b1hData/newDatabase/5varpos/F2/high/protein_seq/GGG_protein_seq.txt:  852\n",
        "Invalid File Name: GGT_protein_seq.txt\n",
        "Invalid File Name: GTA_protein_seq.txt\n",
        "Invalid File Name: GTC_protein_seq.txt\n",
        "Invalid File Name: GTG_protein_seq.txt\n",
        "Invalid File Name: GTT_protein_seq.txt\n",
        "Invalid File Name: TAA_protein_seq.txt\n",
        "Invalid File Name: TAC_protein_seq.txt\n",
        "Num proteins in ../data/b1hData/newDatabase/5varpos/F2/high/protein_seq/TAG_protein_seq.txt:  462\n",
        "Invalid File Name: TAT_protein_seq.txt\n",
        "Invalid File Name: TCA_protein_seq.txt\n",
        "Invalid File Name: TCC_protein_seq.txt\n",
        "Invalid File Name: TCG_protein_seq.txt\n",
        "Invalid File Name: TCT_protein_seq.txt\n",
        "Invalid File Name: TGA_protein_seq.txt\n",
        "Invalid File Name: TGC_protein_seq.txt\n",
        "Invalid File Name: TGG_protein_seq.txt\n",
        "Invalid File Name: TGT_protein_seq.txt\n",
        "Invalid File Name: TTA_protein_seq.txt\n",
        "Invalid File Name: TTC_protein_seq.txt\n",
        "Invalid File Name: TTG_protein_seq.txt\n",
        "Invalid File Name: TTT_protein_seq.txt\n",
        "Total num protein/dna observations in all files:  5852\n",
        "Total num unique proteins in all files:  4331\n",
        "\n",
        "Num obs processed in csv to txt conversion:  5852"
       ]
      },
      {
       "output_type": "stream",
       "stream": "stdout",
       "text": [
        "\n",
        "\n",
        "Invalid File Name: AAA_protein_seq.txt\n",
        "Invalid File Name: AAC_protein_seq.txt\n",
        "Num proteins in ../data/b1hData/newDatabase/5varpos/F2/low/protein_seq/AAG_protein_seq.txt:  2295\n",
        "Invalid File Name: AAT_protein_seq.txt\n",
        "Invalid File Name: ACA_protein_seq.txt\n",
        "Invalid File Name: ACC_protein_seq.txt\n",
        "Invalid File Name: ACG_protein_seq.txt\n",
        "Invalid File Name: ACT_protein_seq.txt\n",
        "Invalid File Name: AGA_protein_seq.txt\n",
        "Invalid File Name: AGC_protein_seq.txt\n",
        "Invalid File Name: AGG_protein_seq.txt\n",
        "Invalid File Name: AGT_protein_seq.txt\n",
        "Invalid File Name: ATA_protein_seq.txt\n",
        "Invalid File Name: ATC_protein_seq.txt\n",
        "Invalid File Name: ATG_protein_seq.txt\n",
        "Invalid File Name: ATT_protein_seq.txt\n",
        "Num proteins in ../data/b1hData/newDatabase/5varpos/F2/low/protein_seq/CAA_protein_seq.txt:  2088\n",
        "Num proteins in ../data/b1hData/newDatabase/5varpos/F2/low/protein_seq/CAC_protein_seq.txt:  2179"
       ]
      },
      {
       "output_type": "stream",
       "stream": "stdout",
       "text": [
        "\n",
        "Num proteins in ../data/b1hData/newDatabase/5varpos/F2/low/protein_seq/CAG_protein_seq.txt:  2839\n",
        "Num proteins in ../data/b1hData/newDatabase/5varpos/F2/low/protein_seq/CAT_protein_seq.txt:  1719\n",
        "Invalid File Name: CCA_protein_seq.txt\n",
        "Invalid File Name: CCC_protein_seq.txt\n",
        "Invalid File Name: CCG_protein_seq.txt\n",
        "Invalid File Name: CCT_protein_seq.txt\n",
        "Invalid File Name: CGA_protein_seq.txt\n",
        "Invalid File Name: CGC_protein_seq.txt\n",
        "Invalid File Name: CGG_protein_seq.txt\n",
        "Invalid File Name: CGT_protein_seq.txt\n",
        "Invalid File Name: CTA_protein_seq.txt\n",
        "Invalid File Name: CTC_protein_seq.txt\n",
        "Invalid File Name: CTG_protein_seq.txt\n",
        "Invalid File Name: CTT_protein_seq.txt\n",
        "Invalid File Name: GAA_protein_seq.txt\n",
        "Invalid File Name: GAC_protein_seq.txt\n",
        "Num proteins in ../data/b1hData/newDatabase/5varpos/F2/low/protein_seq/GAG_protein_seq.txt:  1999"
       ]
      },
      {
       "output_type": "stream",
       "stream": "stdout",
       "text": [
        "\n",
        "Invalid File Name: GAT_protein_seq.txt\n",
        "Invalid File Name: GCA_protein_seq.txt\n",
        "Invalid File Name: GCC_protein_seq.txt\n",
        "Invalid File Name: GCG_protein_seq.txt\n",
        "Invalid File Name: GCT_protein_seq.txt\n",
        "Num proteins in ../data/b1hData/newDatabase/5varpos/F2/low/protein_seq/GGA_protein_seq.txt:  1242\n",
        "Invalid File Name: GGC_protein_seq.txt\n",
        "Num proteins in ../data/b1hData/newDatabase/5varpos/F2/low/protein_seq/GGG_protein_seq.txt:  775\n",
        "Invalid File Name: GGT_protein_seq.txt\n",
        "Invalid File Name: GTA_protein_seq.txt\n",
        "Invalid File Name: GTC_protein_seq.txt\n",
        "Invalid File Name: GTG_protein_seq.txt\n",
        "Invalid File Name: GTT_protein_seq.txt\n",
        "Invalid File Name: TAA_protein_seq.txt\n",
        "Invalid File Name: TAC_protein_seq.txt\n",
        "Num proteins in ../data/b1hData/newDatabase/5varpos/F2/low/protein_seq/TAG_protein_seq.txt:  2203\n",
        "Invalid File Name: TAT_protein_seq.txt\n",
        "Invalid File Name: TCA_protein_seq.txt\n",
        "Invalid File Name: TCC_protein_seq.txt\n",
        "Invalid File Name: TCG_protein_seq.txt\n",
        "Invalid File Name: TCT_protein_seq.txt\n",
        "Invalid File Name: TGA_protein_seq.txt\n",
        "Invalid File Name: TGC_protein_seq.txt\n",
        "Invalid File Name: TGG_protein_seq.txt\n",
        "Invalid File Name: TGT_protein_seq.txt\n",
        "Invalid File Name: TTA_protein_seq.txt\n",
        "Invalid File Name: TTC_protein_seq.txt\n",
        "Invalid File Name: TTG_protein_seq.txt\n",
        "Invalid File Name: TTT_protein_seq.txt\n",
        "Total num protein/dna observations in all files:  17339\n",
        "Total num unique proteins in all files:  14499\n",
        "\n",
        "Num obs processed in csv to txt conversion:  17339"
       ]
      },
      {
       "output_type": "stream",
       "stream": "stdout",
       "text": [
        "\n",
        "\n",
        "Invalid File Name: AAA_protein_seq.txt\n",
        "Invalid File Name: AAC_protein_seq.txt\n",
        "Invalid File Name: AAG_protein_seq.txt\n",
        "Invalid File Name: AAT_protein_seq.txt\n",
        "Invalid File Name: ACA_protein_seq.txt\n",
        "Invalid File Name: ACC_protein_seq.txt\n",
        "Num proteins in ../data/b1hData/newDatabase/5varpos/F3/high/protein_seq/ACG_protein_seq.txt:  87\n",
        "Invalid File Name: ACT_protein_seq.txt\n",
        "Invalid File Name: AGA_protein_seq.txt\n",
        "Num proteins in ../data/b1hData/newDatabase/5varpos/F3/high/protein_seq/AGC_protein_seq.txt:  44\n",
        "Invalid File Name: AGG_protein_seq.txt\n",
        "Invalid File Name: AGT_protein_seq.txt\n",
        "Invalid File Name: ATA_protein_seq.txt\n",
        "Invalid File Name: ATC_protein_seq.txt\n",
        "Invalid File Name: ATG_protein_seq.txt\n",
        "Invalid File Name: ATT_protein_seq.txt\n",
        "Invalid File Name: CAA_protein_seq.txt\n",
        "Invalid File Name: CAC_protein_seq.txt\n",
        "Invalid File Name: CAG_protein_seq.txt\n",
        "Invalid File Name: CAT_protein_seq.txt\n",
        "Invalid File Name: CCA_protein_seq.txt\n",
        "Invalid File Name: CCC_protein_seq.txt\n",
        "Invalid File Name: CCG_protein_seq.txt\n",
        "Invalid File Name: CCT_protein_seq.txt\n",
        "Invalid File Name: CGA_protein_seq.txt\n",
        "Invalid File Name: CGC_protein_seq.txt\n",
        "Invalid File Name: CGG_protein_seq.txt\n",
        "Num proteins in ../data/b1hData/newDatabase/5varpos/F3/high/protein_seq/CGT_protein_seq.txt:  4\n",
        "Invalid File Name: CTA_protein_seq.txt\n",
        "Invalid File Name: CTC_protein_seq.txt\n",
        "Invalid File Name: CTG_protein_seq.txt\n",
        "Invalid File Name: CTT_protein_seq.txt\n",
        "Invalid File Name: GAA_protein_seq.txt\n",
        "Invalid File Name: GAC_protein_seq.txt\n",
        "Invalid File Name: GAG_protein_seq.txt\n",
        "Invalid File Name: GAT_protein_seq.txt\n",
        "Invalid File Name: GCA_protein_seq.txt\n",
        "Invalid File Name: GCC_protein_seq.txt\n",
        "Invalid File Name: GCG_protein_seq.txt\n",
        "Invalid File Name: GCT_protein_seq.txt\n",
        "Invalid File Name: GGA_protein_seq.txt\n",
        "Invalid File Name: GGC_protein_seq.txt\n",
        "Invalid File Name: GGG_protein_seq.txt\n",
        "Invalid File Name: GGT_protein_seq.txt\n",
        "Invalid File Name: GTA_protein_seq.txt\n",
        "Invalid File Name: GTC_protein_seq.txt\n",
        "Invalid File Name: GTG_protein_seq.txt\n",
        "Invalid File Name: GTT_protein_seq.txt\n",
        "Invalid File Name: TAA_protein_seq.txt\n",
        "Invalid File Name: TAC_protein_seq.txt\n",
        "Invalid File Name: TAG_protein_seq.txt\n",
        "Invalid File Name: TAT_protein_seq.txt\n",
        "Invalid File Name: TCA_protein_seq.txt\n",
        "Invalid File Name: TCC_protein_seq.txt\n",
        "Invalid File Name: TCG_protein_seq.txt\n",
        "Invalid File Name: TCT_protein_seq.txt\n",
        "Invalid File Name: TGA_protein_seq.txt\n",
        "Invalid File Name: TGC_protein_seq.txt\n",
        "Invalid File Name: TGG_protein_seq.txt\n",
        "Num proteins in ../data/b1hData/newDatabase/5varpos/F3/high/protein_seq/TGT_protein_seq.txt:  1\n",
        "Invalid File Name: TTA_protein_seq.txt\n",
        "Invalid File Name: TTC_protein_seq.txt\n",
        "Invalid File Name: TTG_protein_seq.txt\n",
        "Invalid File Name: TTT_protein_seq.txt\n",
        "Total num protein/dna observations in all files:  136\n",
        "Total num unique proteins in all files:  133\n",
        "\n",
        "Num obs processed in csv to txt conversion:  136\n",
        "\n",
        "Invalid File Name: AAA_protein_seq.txt\n",
        "Invalid File Name: AAC_protein_seq.txt\n",
        "Invalid File Name: AAG_protein_seq.txt\n",
        "Invalid File Name: AAT_protein_seq.txt\n",
        "Invalid File Name: ACA_protein_seq.txt\n",
        "Invalid File Name: ACC_protein_seq.txt\n",
        "Invalid File Name: ACG_protein_seq.txt\n",
        "Invalid File Name: ACT_protein_seq.txt\n",
        "Num proteins in ../data/b1hData/newDatabase/5varpos/F3/low/protein_seq/AGA_protein_seq.txt:  44\n",
        "Invalid File Name: AGC_protein_seq.txt\n",
        "Invalid File Name: AGG_protein_seq.txt\n",
        "Invalid File Name: AGT_protein_seq.txt\n",
        "Invalid File Name: ATA_protein_seq.txt\n",
        "Invalid File Name: ATC_protein_seq.txt\n",
        "Invalid File Name: ATG_protein_seq.txt\n",
        "Invalid File Name: ATT_protein_seq.txt\n",
        "Invalid File Name: CAA_protein_seq.txt\n",
        "Invalid File Name: CAC_protein_seq.txt\n",
        "Invalid File Name: CAG_protein_seq.txt\n",
        "Invalid File Name: CAT_protein_seq.txt\n",
        "Invalid File Name: CCA_protein_seq.txt\n",
        "Invalid File Name: CCC_protein_seq.txt\n",
        "Invalid File Name: CCG_protein_seq.txt\n",
        "Invalid File Name: CCT_protein_seq.txt\n",
        "Invalid File Name: CGA_protein_seq.txt\n",
        "Invalid File Name: CGC_protein_seq.txt\n",
        "Num proteins in ../data/b1hData/newDatabase/5varpos/F3/low/protein_seq/CGG_protein_seq.txt:  4\n",
        "Invalid File Name: CGT_protein_seq.txt\n",
        "Invalid File Name: CTA_protein_seq.txt\n",
        "Invalid File Name: CTC_protein_seq.txt\n",
        "Invalid File Name: CTG_protein_seq.txt\n",
        "Invalid File Name: CTT_protein_seq.txt\n",
        "Invalid File Name: GAA_protein_seq.txt\n",
        "Invalid File Name: GAC_protein_seq.txt\n",
        "Invalid File Name: GAG_protein_seq.txt\n",
        "Invalid File Name: GAT_protein_seq.txt\n",
        "Invalid File Name: GCA_protein_seq.txt\n",
        "Invalid File Name: GCC_protein_seq.txt\n",
        "Invalid File Name: GCG_protein_seq.txt\n",
        "Invalid File Name: GCT_protein_seq.txt\n",
        "Invalid File Name: GGA_protein_seq.txt\n",
        "Invalid File Name: GGC_protein_seq.txt\n",
        "Invalid File Name: GGG_protein_seq.txt\n",
        "Invalid File Name: GGT_protein_seq.txt\n",
        "Invalid File Name: GTA_protein_seq.txt\n",
        "Invalid File Name: GTC_protein_seq.txt\n",
        "Invalid File Name: GTG_protein_seq.txt\n",
        "Invalid File Name: GTT_protein_seq.txt\n",
        "Invalid File Name: TAA_protein_seq.txt\n",
        "Invalid File Name: TAC_protein_seq.txt\n",
        "Invalid File Name: TAG_protein_seq.txt\n",
        "Invalid File Name: TAT_protein_seq.txt\n",
        "Invalid File Name: TCA_protein_seq.txt\n",
        "Invalid File Name: TCC_protein_seq.txt\n",
        "Invalid File Name: TCG_protein_seq.txt\n",
        "Invalid File Name: TCT_protein_seq.txt\n",
        "Invalid File Name: TGA_protein_seq.txt\n",
        "Invalid File Name: TGC_protein_seq.txt\n",
        "Num proteins in ../data/b1hData/newDatabase/5varpos/F3/low/protein_seq/TGG_protein_seq.txt:  1\n",
        "Invalid File Name: TGT_protein_seq.txt\n",
        "Invalid File Name: TTA_protein_seq.txt\n",
        "Invalid File Name: TTC_protein_seq.txt\n",
        "Invalid File Name: TTG_protein_seq.txt\n",
        "Invalid File Name: TTT_protein_seq.txt\n",
        "Total num protein/dna observations in all files:  49\n",
        "Total num unique proteins in all files:  47\n",
        "\n",
        "Num obs processed in csv to txt conversion:  49\n",
        "\n"
       ]
      }
     ],
     "prompt_number": 3
    }
   ],
   "metadata": {}
  }
 ]
}