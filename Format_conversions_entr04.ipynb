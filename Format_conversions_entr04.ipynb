{
 "metadata": {
  "name": "Format_conversions_entr04"
 },
 "nbformat": 3,
 "nbformat_minor": 0,
 "worksheets": [
  {
   "cells": [
    {
     "cell_type": "code",
     "collapsed": false,
     "input": [
      "from changeFormats import targetFiles2singleCSV, csv2txtFile\n",
      "\n"
     ],
     "language": "python",
     "metadata": {},
     "outputs": [],
     "prompt_number": 1
    },
    {
     "cell_type": "code",
     "collapsed": false,
     "input": [
      "prefix = '../data/b1hData/newDatabase/6varpos/'\n",
      "numVarPos = 6\n",
      "fings = ['F1', 'F2', 'F3']\n",
      "strins = ['high', 'low']\n",
      "for fing in fings:\n",
      "    for strin in strins:\n",
      "        path = prefix + fing + '/' + strin + '/' + 'protein_cut10_entr04/'\n",
      "        targetFiles2singleCSV(path, numVarPos, '.txt')\n",
      "        csv2txtFile(path, numVarPos)\n",
      "        print"
     ],
     "language": "python",
     "metadata": {},
     "outputs": [
      {
       "output_type": "stream",
       "stream": "stdout",
       "text": [
        "Num proteins in ../data/b1hData/newDatabase/6varpos/F1/high/protein_cut10_entr04/AAA.txt:  147\n",
        "Num proteins in ../data/b1hData/newDatabase/6varpos/F1/high/protein_cut10_entr04/AAC.txt:  293\n",
        "Num proteins in ../data/b1hData/newDatabase/6varpos/F1/high/protein_cut10_entr04/AAG.txt:  261\n",
        "Num proteins in ../data/b1hData/newDatabase/6varpos/F1/high/protein_cut10_entr04/AAT.txt:  78\n",
        "Num proteins in ../data/b1hData/newDatabase/6varpos/F1/high/protein_cut10_entr04/ACA.txt:  565"
       ]
      },
      {
       "output_type": "stream",
       "stream": "stdout",
       "text": [
        "\n",
        "Num proteins in ../data/b1hData/newDatabase/6varpos/F1/high/protein_cut10_entr04/ACC.txt:  96\n",
        "Num proteins in ../data/b1hData/newDatabase/6varpos/F1/high/protein_cut10_entr04/ACG.txt:  164\n",
        "Num proteins in ../data/b1hData/newDatabase/6varpos/F1/high/protein_cut10_entr04/ACT.txt:  431\n",
        "Num proteins in ../data/b1hData/newDatabase/6varpos/F1/high/protein_cut10_entr04/AGA.txt:  79\n",
        "Num proteins in ../data/b1hData/newDatabase/6varpos/F1/high/protein_cut10_entr04/AGC.txt:  140\n",
        "Num proteins in ../data/b1hData/newDatabase/6varpos/F1/high/protein_cut10_entr04/AGG.txt:  359\n",
        "Num proteins in ../data/b1hData/newDatabase/6varpos/F1/high/protein_cut10_entr04/AGT.txt:  1111"
       ]
      },
      {
       "output_type": "stream",
       "stream": "stdout",
       "text": [
        "\n",
        "Num proteins in ../data/b1hData/newDatabase/6varpos/F1/high/protein_cut10_entr04/ATA.txt:  249\n",
        "Num proteins in ../data/b1hData/newDatabase/6varpos/F1/high/protein_cut10_entr04/ATC.txt:  479\n",
        "Num proteins in ../data/b1hData/newDatabase/6varpos/F1/high/protein_cut10_entr04/ATG.txt:  580\n",
        "Num proteins in ../data/b1hData/newDatabase/6varpos/F1/high/protein_cut10_entr04/ATT.txt:  116\n",
        "Num proteins in ../data/b1hData/newDatabase/6varpos/F1/high/protein_cut10_entr04/CAA.txt:  407\n",
        "Num proteins in ../data/b1hData/newDatabase/6varpos/F1/high/protein_cut10_entr04/CAC.txt:  101\n",
        "Num proteins in ../data/b1hData/newDatabase/6varpos/F1/high/protein_cut10_entr04/CAG.txt:  318\n",
        "Num proteins in ../data/b1hData/newDatabase/6varpos/F1/high/protein_cut10_entr04/CAT.txt:  424\n",
        "Num proteins in ../data/b1hData/newDatabase/6varpos/F1/high/protein_cut10_entr04/CCA.txt:  1182"
       ]
      },
      {
       "output_type": "stream",
       "stream": "stdout",
       "text": [
        "\n",
        "Num proteins in ../data/b1hData/newDatabase/6varpos/F1/high/protein_cut10_entr04/CCC.txt:  454\n",
        "Num proteins in ../data/b1hData/newDatabase/6varpos/F1/high/protein_cut10_entr04/CCG.txt:  314\n",
        "Num proteins in ../data/b1hData/newDatabase/6varpos/F1/high/protein_cut10_entr04/CCT.txt:  572\n",
        "Num proteins in ../data/b1hData/newDatabase/6varpos/F1/high/protein_cut10_entr04/CGA.txt:  308\n",
        "Num proteins in ../data/b1hData/newDatabase/6varpos/F1/high/protein_cut10_entr04/CGC.txt:  342\n",
        "Num proteins in ../data/b1hData/newDatabase/6varpos/F1/high/protein_cut10_entr04/CGG.txt:  908\n",
        "Num proteins in ../data/b1hData/newDatabase/6varpos/F1/high/protein_cut10_entr04/CGT.txt:  552\n",
        "Num proteins in ../data/b1hData/newDatabase/6varpos/F1/high/protein_cut10_entr04/CTA.txt:  104"
       ]
      },
      {
       "output_type": "stream",
       "stream": "stdout",
       "text": [
        "\n",
        "Num proteins in ../data/b1hData/newDatabase/6varpos/F1/high/protein_cut10_entr04/CTC.txt:  92\n",
        "Num proteins in ../data/b1hData/newDatabase/6varpos/F1/high/protein_cut10_entr04/CTG.txt:  128\n",
        "Num proteins in ../data/b1hData/newDatabase/6varpos/F1/high/protein_cut10_entr04/CTT.txt:  257\n",
        "Num proteins in ../data/b1hData/newDatabase/6varpos/F1/high/protein_cut10_entr04/GAA.txt:  546\n",
        "Num proteins in ../data/b1hData/newDatabase/6varpos/F1/high/protein_cut10_entr04/GAC.txt:  489\n",
        "Num proteins in ../data/b1hData/newDatabase/6varpos/F1/high/protein_cut10_entr04/GAG.txt:  608\n",
        "Num proteins in ../data/b1hData/newDatabase/6varpos/F1/high/protein_cut10_entr04/GAT.txt:  662"
       ]
      },
      {
       "output_type": "stream",
       "stream": "stdout",
       "text": [
        "\n",
        "Num proteins in ../data/b1hData/newDatabase/6varpos/F1/high/protein_cut10_entr04/GCA.txt:  654\n",
        "Num proteins in ../data/b1hData/newDatabase/6varpos/F1/high/protein_cut10_entr04/GCC.txt:  265\n",
        "Num proteins in ../data/b1hData/newDatabase/6varpos/F1/high/protein_cut10_entr04/GCG.txt:  304\n",
        "Num proteins in ../data/b1hData/newDatabase/6varpos/F1/high/protein_cut10_entr04/GCT.txt:  698\n",
        "Num proteins in ../data/b1hData/newDatabase/6varpos/F1/high/protein_cut10_entr04/GGA.txt:  164"
       ]
      },
      {
       "output_type": "stream",
       "stream": "stdout",
       "text": [
        "\n",
        "Num proteins in ../data/b1hData/newDatabase/6varpos/F1/high/protein_cut10_entr04/GGC.txt:  262\n",
        "Num proteins in ../data/b1hData/newDatabase/6varpos/F1/high/protein_cut10_entr04/GGG.txt:  701\n",
        "Num proteins in ../data/b1hData/newDatabase/6varpos/F1/high/protein_cut10_entr04/GGT.txt:  804\n",
        "Num proteins in ../data/b1hData/newDatabase/6varpos/F1/high/protein_cut10_entr04/GTA.txt:  129\n",
        "Num proteins in ../data/b1hData/newDatabase/6varpos/F1/high/protein_cut10_entr04/GTC.txt:  138\n",
        "Num proteins in ../data/b1hData/newDatabase/6varpos/F1/high/protein_cut10_entr04/GTG.txt:  783\n",
        "Num proteins in ../data/b1hData/newDatabase/6varpos/F1/high/protein_cut10_entr04/GTT.txt:  137\n",
        "Num proteins in ../data/b1hData/newDatabase/6varpos/F1/high/protein_cut10_entr04/TAA.txt:  111\n",
        "Num proteins in ../data/b1hData/newDatabase/6varpos/F1/high/protein_cut10_entr04/TAC.txt:  92\n",
        "Num proteins in ../data/b1hData/newDatabase/6varpos/F1/high/protein_cut10_entr04/TAG.txt:  108"
       ]
      },
      {
       "output_type": "stream",
       "stream": "stdout",
       "text": [
        "\n",
        "Num proteins in ../data/b1hData/newDatabase/6varpos/F1/high/protein_cut10_entr04/TAT.txt:  114\n",
        "Num proteins in ../data/b1hData/newDatabase/6varpos/F1/high/protein_cut10_entr04/TCA.txt:  165\n",
        "Num proteins in ../data/b1hData/newDatabase/6varpos/F1/high/protein_cut10_entr04/TCC.txt:  109\n",
        "Num proteins in ../data/b1hData/newDatabase/6varpos/F1/high/protein_cut10_entr04/TCG.txt:  186\n",
        "Num proteins in ../data/b1hData/newDatabase/6varpos/F1/high/protein_cut10_entr04/TCT.txt:  183\n",
        "Num proteins in ../data/b1hData/newDatabase/6varpos/F1/high/protein_cut10_entr04/TGA.txt:  112\n",
        "Num proteins in ../data/b1hData/newDatabase/6varpos/F1/high/protein_cut10_entr04/TGC.txt:  155\n",
        "Num proteins in ../data/b1hData/newDatabase/6varpos/F1/high/protein_cut10_entr04/TGG.txt:  493\n",
        "Num proteins in ../data/b1hData/newDatabase/6varpos/F1/high/protein_cut10_entr04/TGT.txt:  563\n",
        "Num proteins in ../data/b1hData/newDatabase/6varpos/F1/high/protein_cut10_entr04/TTA.txt:  167\n",
        "Num proteins in ../data/b1hData/newDatabase/6varpos/F1/high/protein_cut10_entr04/TTC.txt:  118\n",
        "Num proteins in ../data/b1hData/newDatabase/6varpos/F1/high/protein_cut10_entr04/TTG.txt:  158\n",
        "Num proteins in ../data/b1hData/newDatabase/6varpos/F1/high/protein_cut10_entr04/TTT.txt:  76"
       ]
      },
      {
       "output_type": "stream",
       "stream": "stdout",
       "text": [
        "\n",
        "Total num protein/dna observations in all files:  21865\n",
        "Total num unique proteins in all files:  13995\n",
        "\n",
        "Num obs processed in csv to txt conversion:  21865"
       ]
      },
      {
       "output_type": "stream",
       "stream": "stdout",
       "text": [
        "\n",
        "\n",
        "Num proteins in ../data/b1hData/newDatabase/6varpos/F1/low/protein_cut10_entr04/AAA.txt:  83"
       ]
      },
      {
       "output_type": "stream",
       "stream": "stdout",
       "text": [
        "\n",
        "Num proteins in ../data/b1hData/newDatabase/6varpos/F1/low/protein_cut10_entr04/AAC.txt:  195\n",
        "Num proteins in ../data/b1hData/newDatabase/6varpos/F1/low/protein_cut10_entr04/AAG.txt:  1614\n",
        "Num proteins in ../data/b1hData/newDatabase/6varpos/F1/low/protein_cut10_entr04/AAT.txt:  101\n",
        "Num proteins in ../data/b1hData/newDatabase/6varpos/F1/low/protein_cut10_entr04/ACA.txt:  1336"
       ]
      },
      {
       "output_type": "stream",
       "stream": "stdout",
       "text": [
        "\n",
        "Num proteins in ../data/b1hData/newDatabase/6varpos/F1/low/protein_cut10_entr04/ACC.txt:  104\n",
        "Num proteins in ../data/b1hData/newDatabase/6varpos/F1/low/protein_cut10_entr04/ACG.txt:  2879\n",
        "Num proteins in ../data/b1hData/newDatabase/6varpos/F1/low/protein_cut10_entr04/ACT.txt:  314\n",
        "Num proteins in ../data/b1hData/newDatabase/6varpos/F1/low/protein_cut10_entr04/AGA.txt:  175\n",
        "Num proteins in ../data/b1hData/newDatabase/6varpos/F1/low/protein_cut10_entr04/AGC.txt:  609\n",
        "Num proteins in ../data/b1hData/newDatabase/6varpos/F1/low/protein_cut10_entr04/AGG.txt:  620\n",
        "Num proteins in ../data/b1hData/newDatabase/6varpos/F1/low/protein_cut10_entr04/AGT.txt:  2763"
       ]
      },
      {
       "output_type": "stream",
       "stream": "stdout",
       "text": [
        "\n",
        "Num proteins in ../data/b1hData/newDatabase/6varpos/F1/low/protein_cut10_entr04/ATA.txt:  857\n",
        "Num proteins in ../data/b1hData/newDatabase/6varpos/F1/low/protein_cut10_entr04/ATC.txt:  626\n",
        "Num proteins in ../data/b1hData/newDatabase/6varpos/F1/low/protein_cut10_entr04/ATG.txt:  951\n",
        "Num proteins in ../data/b1hData/newDatabase/6varpos/F1/low/protein_cut10_entr04/ATT.txt:  314\n",
        "Num proteins in ../data/b1hData/newDatabase/6varpos/F1/low/protein_cut10_entr04/CAA.txt:  748"
       ]
      },
      {
       "output_type": "stream",
       "stream": "stdout",
       "text": [
        "\n",
        "Num proteins in ../data/b1hData/newDatabase/6varpos/F1/low/protein_cut10_entr04/CAC.txt:  160\n",
        "Num proteins in ../data/b1hData/newDatabase/6varpos/F1/low/protein_cut10_entr04/CAG.txt:  578\n",
        "Num proteins in ../data/b1hData/newDatabase/6varpos/F1/low/protein_cut10_entr04/CAT.txt:  606\n",
        "Num proteins in ../data/b1hData/newDatabase/6varpos/F1/low/protein_cut10_entr04/CCA.txt:  1896"
       ]
      },
      {
       "output_type": "stream",
       "stream": "stdout",
       "text": [
        "\n",
        "Num proteins in ../data/b1hData/newDatabase/6varpos/F1/low/protein_cut10_entr04/CCC.txt:  802\n",
        "Num proteins in ../data/b1hData/newDatabase/6varpos/F1/low/protein_cut10_entr04/CCG.txt:  1036"
       ]
      },
      {
       "output_type": "stream",
       "stream": "stdout",
       "text": [
        "\n",
        "Num proteins in ../data/b1hData/newDatabase/6varpos/F1/low/protein_cut10_entr04/CCT.txt:  1275\n",
        "Num proteins in ../data/b1hData/newDatabase/6varpos/F1/low/protein_cut10_entr04/CGA.txt:  2457"
       ]
      },
      {
       "output_type": "stream",
       "stream": "stdout",
       "text": [
        "\n",
        "Num proteins in ../data/b1hData/newDatabase/6varpos/F1/low/protein_cut10_entr04/CGC.txt:  804\n",
        "Num proteins in ../data/b1hData/newDatabase/6varpos/F1/low/protein_cut10_entr04/CGG.txt:  1382\n",
        "Num proteins in ../data/b1hData/newDatabase/6varpos/F1/low/protein_cut10_entr04/CGT.txt:  1748"
       ]
      },
      {
       "output_type": "stream",
       "stream": "stdout",
       "text": [
        "\n",
        "Num proteins in ../data/b1hData/newDatabase/6varpos/F1/low/protein_cut10_entr04/CTA.txt:  1109\n",
        "Num proteins in ../data/b1hData/newDatabase/6varpos/F1/low/protein_cut10_entr04/CTC.txt:  431\n",
        "Num proteins in ../data/b1hData/newDatabase/6varpos/F1/low/protein_cut10_entr04/CTG.txt:  640\n",
        "Num proteins in ../data/b1hData/newDatabase/6varpos/F1/low/protein_cut10_entr04/CTT.txt:  469\n",
        "Num proteins in ../data/b1hData/newDatabase/6varpos/F1/low/protein_cut10_entr04/GAA.txt:  537\n",
        "Num proteins in ../data/b1hData/newDatabase/6varpos/F1/low/protein_cut10_entr04/GAC.txt:  1936"
       ]
      },
      {
       "output_type": "stream",
       "stream": "stdout",
       "text": [
        "\n",
        "Num proteins in ../data/b1hData/newDatabase/6varpos/F1/low/protein_cut10_entr04/GAG.txt:  1312\n",
        "Num proteins in ../data/b1hData/newDatabase/6varpos/F1/low/protein_cut10_entr04/GAT.txt:  3014\n",
        "Num proteins in ../data/b1hData/newDatabase/6varpos/F1/low/protein_cut10_entr04/GCA.txt:  1549"
       ]
      },
      {
       "output_type": "stream",
       "stream": "stdout",
       "text": [
        "\n",
        "Num proteins in ../data/b1hData/newDatabase/6varpos/F1/low/protein_cut10_entr04/GCC.txt:  231\n",
        "Num proteins in ../data/b1hData/newDatabase/6varpos/F1/low/protein_cut10_entr04/GCG.txt:  878\n",
        "Num proteins in ../data/b1hData/newDatabase/6varpos/F1/low/protein_cut10_entr04/GCT.txt:  1374\n",
        "Num proteins in ../data/b1hData/newDatabase/6varpos/F1/low/protein_cut10_entr04/GGA.txt:  218\n",
        "Num proteins in ../data/b1hData/newDatabase/6varpos/F1/low/protein_cut10_entr04/GGC.txt:  483\n",
        "Num proteins in ../data/b1hData/newDatabase/6varpos/F1/low/protein_cut10_entr04/GGG.txt:  745"
       ]
      },
      {
       "output_type": "stream",
       "stream": "stdout",
       "text": [
        "\n",
        "Num proteins in ../data/b1hData/newDatabase/6varpos/F1/low/protein_cut10_entr04/GGT.txt:  2770\n",
        "Num proteins in ../data/b1hData/newDatabase/6varpos/F1/low/protein_cut10_entr04/GTA.txt:  465\n",
        "Num proteins in ../data/b1hData/newDatabase/6varpos/F1/low/protein_cut10_entr04/GTC.txt:  418\n",
        "Num proteins in ../data/b1hData/newDatabase/6varpos/F1/low/protein_cut10_entr04/GTG.txt:  1022\n",
        "Num proteins in ../data/b1hData/newDatabase/6varpos/F1/low/protein_cut10_entr04/GTT.txt:  568"
       ]
      },
      {
       "output_type": "stream",
       "stream": "stdout",
       "text": [
        "\n",
        "Num proteins in ../data/b1hData/newDatabase/6varpos/F1/low/protein_cut10_entr04/TAA.txt:  231\n",
        "Num proteins in ../data/b1hData/newDatabase/6varpos/F1/low/protein_cut10_entr04/TAC.txt:  422\n",
        "Num proteins in ../data/b1hData/newDatabase/6varpos/F1/low/protein_cut10_entr04/TAG.txt:  106\n",
        "Num proteins in ../data/b1hData/newDatabase/6varpos/F1/low/protein_cut10_entr04/TAT.txt:  49\n",
        "Num proteins in ../data/b1hData/newDatabase/6varpos/F1/low/protein_cut10_entr04/TCA.txt:  510\n",
        "Num proteins in ../data/b1hData/newDatabase/6varpos/F1/low/protein_cut10_entr04/TCC.txt:  178\n",
        "Num proteins in ../data/b1hData/newDatabase/6varpos/F1/low/protein_cut10_entr04/TCG.txt:  196\n",
        "Num proteins in ../data/b1hData/newDatabase/6varpos/F1/low/protein_cut10_entr04/TCT.txt:  259\n",
        "Num proteins in ../data/b1hData/newDatabase/6varpos/F1/low/protein_cut10_entr04/TGA.txt:  181\n",
        "Num proteins in ../data/b1hData/newDatabase/6varpos/F1/low/protein_cut10_entr04/TGC.txt:  547\n",
        "Num proteins in ../data/b1hData/newDatabase/6varpos/F1/low/protein_cut10_entr04/TGG.txt:  629\n",
        "Num proteins in ../data/b1hData/newDatabase/6varpos/F1/low/protein_cut10_entr04/TGT.txt:  2324"
       ]
      },
      {
       "output_type": "stream",
       "stream": "stdout",
       "text": [
        "\n",
        "Num proteins in ../data/b1hData/newDatabase/6varpos/F1/low/protein_cut10_entr04/TTA.txt:  492\n",
        "Num proteins in ../data/b1hData/newDatabase/6varpos/F1/low/protein_cut10_entr04/TTC.txt:  70\n",
        "Num proteins in ../data/b1hData/newDatabase/6varpos/F1/low/protein_cut10_entr04/TTG.txt:  231\n",
        "Num proteins in ../data/b1hData/newDatabase/6varpos/F1/low/protein_cut10_entr04/TTT.txt:  276\n",
        "Total num protein/dna observations in all files:  53903\n",
        "Total num unique proteins in all files:  32297\n",
        "\n",
        "Num obs processed in csv to txt conversion:  53903"
       ]
      },
      {
       "output_type": "stream",
       "stream": "stdout",
       "text": [
        "\n",
        "\n",
        "Num proteins in ../data/b1hData/newDatabase/6varpos/F2/high/protein_cut10_entr04/AAA.txt:  251"
       ]
      },
      {
       "output_type": "stream",
       "stream": "stdout",
       "text": [
        "\n",
        "Num proteins in ../data/b1hData/newDatabase/6varpos/F2/high/protein_cut10_entr04/AAC.txt:  1231"
       ]
      },
      {
       "output_type": "stream",
       "stream": "stdout",
       "text": [
        "\n",
        "Num proteins in ../data/b1hData/newDatabase/6varpos/F2/high/protein_cut10_entr04/AAG.txt:  414\n",
        "Num proteins in ../data/b1hData/newDatabase/6varpos/F2/high/protein_cut10_entr04/AAT.txt:  291\n",
        "Num proteins in ../data/b1hData/newDatabase/6varpos/F2/high/protein_cut10_entr04/ACA.txt:  895\n",
        "Num proteins in ../data/b1hData/newDatabase/6varpos/F2/high/protein_cut10_entr04/ACC.txt:  431\n",
        "Num proteins in ../data/b1hData/newDatabase/6varpos/F2/high/protein_cut10_entr04/ACG.txt:  1421\n",
        "Num proteins in ../data/b1hData/newDatabase/6varpos/F2/high/protein_cut10_entr04/ACT.txt:  2451"
       ]
      },
      {
       "output_type": "stream",
       "stream": "stdout",
       "text": [
        "\n",
        "Num proteins in ../data/b1hData/newDatabase/6varpos/F2/high/protein_cut10_entr04/AGA.txt:  85"
       ]
      },
      {
       "output_type": "stream",
       "stream": "stdout",
       "text": [
        "\n",
        "Num proteins in ../data/b1hData/newDatabase/6varpos/F2/high/protein_cut10_entr04/AGC.txt:  288\n",
        "Num proteins in ../data/b1hData/newDatabase/6varpos/F2/high/protein_cut10_entr04/AGG.txt:  815\n",
        "Num proteins in ../data/b1hData/newDatabase/6varpos/F2/high/protein_cut10_entr04/AGT.txt:  1864"
       ]
      },
      {
       "output_type": "stream",
       "stream": "stdout",
       "text": [
        "\n",
        "Num proteins in ../data/b1hData/newDatabase/6varpos/F2/high/protein_cut10_entr04/ATA.txt:  198\n",
        "Num proteins in ../data/b1hData/newDatabase/6varpos/F2/high/protein_cut10_entr04/ATC.txt:  871\n",
        "Num proteins in ../data/b1hData/newDatabase/6varpos/F2/high/protein_cut10_entr04/ATG.txt:  251\n",
        "Num proteins in ../data/b1hData/newDatabase/6varpos/F2/high/protein_cut10_entr04/ATT.txt:  658\n",
        "Num proteins in ../data/b1hData/newDatabase/6varpos/F2/high/protein_cut10_entr04/CAA.txt:  29"
       ]
      },
      {
       "output_type": "stream",
       "stream": "stdout",
       "text": [
        "\n",
        "Num proteins in ../data/b1hData/newDatabase/6varpos/F2/high/protein_cut10_entr04/CAC.txt:  507\n",
        "Num proteins in ../data/b1hData/newDatabase/6varpos/F2/high/protein_cut10_entr04/CAG.txt:  935\n",
        "Num proteins in ../data/b1hData/newDatabase/6varpos/F2/high/protein_cut10_entr04/CAT.txt:  817\n",
        "Num proteins in ../data/b1hData/newDatabase/6varpos/F2/high/protein_cut10_entr04/CCA.txt:  99\n",
        "Num proteins in ../data/b1hData/newDatabase/6varpos/F2/high/protein_cut10_entr04/CCC.txt:  194\n",
        "Num proteins in ../data/b1hData/newDatabase/6varpos/F2/high/protein_cut10_entr04/CCG.txt:  49\n",
        "Num proteins in ../data/b1hData/newDatabase/6varpos/F2/high/protein_cut10_entr04/CCT.txt:  212"
       ]
      },
      {
       "output_type": "stream",
       "stream": "stdout",
       "text": [
        "\n",
        "Num proteins in ../data/b1hData/newDatabase/6varpos/F2/high/protein_cut10_entr04/CGA.txt:  38\n",
        "Num proteins in ../data/b1hData/newDatabase/6varpos/F2/high/protein_cut10_entr04/CGC.txt:  112\n",
        "Num proteins in ../data/b1hData/newDatabase/6varpos/F2/high/protein_cut10_entr04/CGG.txt:  2109"
       ]
      },
      {
       "output_type": "stream",
       "stream": "stdout",
       "text": [
        "\n",
        "Num proteins in ../data/b1hData/newDatabase/6varpos/F2/high/protein_cut10_entr04/CGT.txt:  771\n",
        "Num proteins in ../data/b1hData/newDatabase/6varpos/F2/high/protein_cut10_entr04/CTA.txt:  209\n",
        "Num proteins in ../data/b1hData/newDatabase/6varpos/F2/high/protein_cut10_entr04/CTC.txt:  64\n",
        "Num proteins in ../data/b1hData/newDatabase/6varpos/F2/high/protein_cut10_entr04/CTG.txt:  541\n",
        "Num proteins in ../data/b1hData/newDatabase/6varpos/F2/high/protein_cut10_entr04/CTT.txt:  440\n",
        "Num proteins in ../data/b1hData/newDatabase/6varpos/F2/high/protein_cut10_entr04/GAA.txt:  427\n",
        "Num proteins in ../data/b1hData/newDatabase/6varpos/F2/high/protein_cut10_entr04/GAC.txt:  1753"
       ]
      },
      {
       "output_type": "stream",
       "stream": "stdout",
       "text": [
        "\n",
        "Num proteins in ../data/b1hData/newDatabase/6varpos/F2/high/protein_cut10_entr04/GAG.txt:  1454\n",
        "Num proteins in ../data/b1hData/newDatabase/6varpos/F2/high/protein_cut10_entr04/GAT.txt:  704\n",
        "Num proteins in ../data/b1hData/newDatabase/6varpos/F2/high/protein_cut10_entr04/GCA.txt:  283\n",
        "Num proteins in ../data/b1hData/newDatabase/6varpos/F2/high/protein_cut10_entr04/GCC.txt:  949\n",
        "Num proteins in ../data/b1hData/newDatabase/6varpos/F2/high/protein_cut10_entr04/GCG.txt:  1317"
       ]
      },
      {
       "output_type": "stream",
       "stream": "stdout",
       "text": [
        "\n",
        "Num proteins in ../data/b1hData/newDatabase/6varpos/F2/high/protein_cut10_entr04/GCT.txt:  2156"
       ]
      },
      {
       "output_type": "stream",
       "stream": "stdout",
       "text": [
        "\n",
        "Num proteins in ../data/b1hData/newDatabase/6varpos/F2/high/protein_cut10_entr04/GGA.txt:  532\n",
        "Num proteins in ../data/b1hData/newDatabase/6varpos/F2/high/protein_cut10_entr04/GGC.txt:  305\n",
        "Num proteins in ../data/b1hData/newDatabase/6varpos/F2/high/protein_cut10_entr04/GGG.txt:  1568"
       ]
      },
      {
       "output_type": "stream",
       "stream": "stdout",
       "text": [
        "\n",
        "Num proteins in ../data/b1hData/newDatabase/6varpos/F2/high/protein_cut10_entr04/GGT.txt:  1177\n",
        "Num proteins in ../data/b1hData/newDatabase/6varpos/F2/high/protein_cut10_entr04/GTA.txt:  856\n",
        "Num proteins in ../data/b1hData/newDatabase/6varpos/F2/high/protein_cut10_entr04/GTC.txt:  772\n",
        "Num proteins in ../data/b1hData/newDatabase/6varpos/F2/high/protein_cut10_entr04/GTG.txt:  1511"
       ]
      },
      {
       "output_type": "stream",
       "stream": "stdout",
       "text": [
        "\n",
        "Num proteins in ../data/b1hData/newDatabase/6varpos/F2/high/protein_cut10_entr04/GTT.txt:  1031\n",
        "Num proteins in ../data/b1hData/newDatabase/6varpos/F2/high/protein_cut10_entr04/TAA.txt:  8\n",
        "Num proteins in ../data/b1hData/newDatabase/6varpos/F2/high/protein_cut10_entr04/TAC.txt:  138\n",
        "Num proteins in ../data/b1hData/newDatabase/6varpos/F2/high/protein_cut10_entr04/TAG.txt:  207\n",
        "Num proteins in ../data/b1hData/newDatabase/6varpos/F2/high/protein_cut10_entr04/TAT.txt:  662"
       ]
      },
      {
       "output_type": "stream",
       "stream": "stdout",
       "text": [
        "\n",
        "Num proteins in ../data/b1hData/newDatabase/6varpos/F2/high/protein_cut10_entr04/TCA.txt:  13\n",
        "Num proteins in ../data/b1hData/newDatabase/6varpos/F2/high/protein_cut10_entr04/TCC.txt:  255\n",
        "Num proteins in ../data/b1hData/newDatabase/6varpos/F2/high/protein_cut10_entr04/TCG.txt:  76\n",
        "Num proteins in ../data/b1hData/newDatabase/6varpos/F2/high/protein_cut10_entr04/TCT.txt:  220\n",
        "Num proteins in ../data/b1hData/newDatabase/6varpos/F2/high/protein_cut10_entr04/TGA.txt:  323\n",
        "Num proteins in ../data/b1hData/newDatabase/6varpos/F2/high/protein_cut10_entr04/TGC.txt:  23"
       ]
      },
      {
       "output_type": "stream",
       "stream": "stdout",
       "text": [
        "\n",
        "Num proteins in ../data/b1hData/newDatabase/6varpos/F2/high/protein_cut10_entr04/TGG.txt:  1854"
       ]
      },
      {
       "output_type": "stream",
       "stream": "stdout",
       "text": [
        "\n",
        "Num proteins in ../data/b1hData/newDatabase/6varpos/F2/high/protein_cut10_entr04/TGT.txt:  1716\n",
        "Num proteins in ../data/b1hData/newDatabase/6varpos/F2/high/protein_cut10_entr04/TTA.txt:  96\n",
        "Num proteins in ../data/b1hData/newDatabase/6varpos/F2/high/protein_cut10_entr04/TTC.txt:  102\n",
        "Num proteins in ../data/b1hData/newDatabase/6varpos/F2/high/protein_cut10_entr04/TTG.txt:  251\n",
        "Num proteins in ../data/b1hData/newDatabase/6varpos/F2/high/protein_cut10_entr04/TTT.txt:  49\n",
        "Total num protein/dna observations in all files:  42329\n",
        "Total num unique proteins in all files:  29395\n",
        "\n",
        "Num obs processed in csv to txt conversion:  42329"
       ]
      },
      {
       "output_type": "stream",
       "stream": "stdout",
       "text": [
        "\n",
        "\n",
        "Num proteins in ../data/b1hData/newDatabase/6varpos/F2/low/protein_cut10_entr04/AAA.txt:  749"
       ]
      },
      {
       "output_type": "stream",
       "stream": "stdout",
       "text": [
        "\n",
        "Num proteins in ../data/b1hData/newDatabase/6varpos/F2/low/protein_cut10_entr04/AAC.txt:  4331"
       ]
      },
      {
       "output_type": "stream",
       "stream": "stdout",
       "text": [
        "\n",
        "Num proteins in ../data/b1hData/newDatabase/6varpos/F2/low/protein_cut10_entr04/AAG.txt:  2675\n",
        "Num proteins in ../data/b1hData/newDatabase/6varpos/F2/low/protein_cut10_entr04/AAT.txt:  2682"
       ]
      },
      {
       "output_type": "stream",
       "stream": "stdout",
       "text": [
        "\n",
        "Num proteins in ../data/b1hData/newDatabase/6varpos/F2/low/protein_cut10_entr04/ACA.txt:  3111\n",
        "Num proteins in ../data/b1hData/newDatabase/6varpos/F2/low/protein_cut10_entr04/ACC.txt:  1559"
       ]
      },
      {
       "output_type": "stream",
       "stream": "stdout",
       "text": [
        "\n",
        "Num proteins in ../data/b1hData/newDatabase/6varpos/F2/low/protein_cut10_entr04/ACG.txt:  4046\n",
        "Num proteins in ../data/b1hData/newDatabase/6varpos/F2/low/protein_cut10_entr04/ACT.txt:  6815"
       ]
      },
      {
       "output_type": "stream",
       "stream": "stdout",
       "text": [
        "\n",
        "Num proteins in ../data/b1hData/newDatabase/6varpos/F2/low/protein_cut10_entr04/AGA.txt:  947\n",
        "Num proteins in ../data/b1hData/newDatabase/6varpos/F2/low/protein_cut10_entr04/AGC.txt:  1122\n",
        "Num proteins in ../data/b1hData/newDatabase/6varpos/F2/low/protein_cut10_entr04/AGG.txt:  3497"
       ]
      },
      {
       "output_type": "stream",
       "stream": "stdout",
       "text": [
        "\n",
        "Num proteins in ../data/b1hData/newDatabase/6varpos/F2/low/protein_cut10_entr04/AGT.txt:  5144"
       ]
      },
      {
       "output_type": "stream",
       "stream": "stdout",
       "text": [
        "\n",
        "Num proteins in ../data/b1hData/newDatabase/6varpos/F2/low/protein_cut10_entr04/ATA.txt:  379\n",
        "Num proteins in ../data/b1hData/newDatabase/6varpos/F2/low/protein_cut10_entr04/ATC.txt:  2744\n",
        "Num proteins in ../data/b1hData/newDatabase/6varpos/F2/low/protein_cut10_entr04/ATG.txt:  2585"
       ]
      },
      {
       "output_type": "stream",
       "stream": "stdout",
       "text": [
        "\n",
        "Num proteins in ../data/b1hData/newDatabase/6varpos/F2/low/protein_cut10_entr04/ATT.txt:  3045"
       ]
      },
      {
       "output_type": "stream",
       "stream": "stdout",
       "text": [
        "\n",
        "Num proteins in ../data/b1hData/newDatabase/6varpos/F2/low/protein_cut10_entr04/CAA.txt:  505\n",
        "Num proteins in ../data/b1hData/newDatabase/6varpos/F2/low/protein_cut10_entr04/CAC.txt:  3177"
       ]
      },
      {
       "output_type": "stream",
       "stream": "stdout",
       "text": [
        "\n",
        "Num proteins in ../data/b1hData/newDatabase/6varpos/F2/low/protein_cut10_entr04/CAG.txt:  5033"
       ]
      },
      {
       "output_type": "stream",
       "stream": "stdout",
       "text": [
        "\n",
        "Num proteins in ../data/b1hData/newDatabase/6varpos/F2/low/protein_cut10_entr04/CAT.txt:  3391"
       ]
      },
      {
       "output_type": "stream",
       "stream": "stdout",
       "text": [
        "\n",
        "Num proteins in ../data/b1hData/newDatabase/6varpos/F2/low/protein_cut10_entr04/CCA.txt:  725\n",
        "Num proteins in ../data/b1hData/newDatabase/6varpos/F2/low/protein_cut10_entr04/CCC.txt:  721\n",
        "Num proteins in ../data/b1hData/newDatabase/6varpos/F2/low/protein_cut10_entr04/CCG.txt:  829"
       ]
      },
      {
       "output_type": "stream",
       "stream": "stdout",
       "text": [
        "\n",
        "Num proteins in ../data/b1hData/newDatabase/6varpos/F2/low/protein_cut10_entr04/CCT.txt:  1081\n",
        "Num proteins in ../data/b1hData/newDatabase/6varpos/F2/low/protein_cut10_entr04/CGA.txt:  366\n",
        "Num proteins in ../data/b1hData/newDatabase/6varpos/F2/low/protein_cut10_entr04/CGC.txt:  576"
       ]
      },
      {
       "output_type": "stream",
       "stream": "stdout",
       "text": [
        "\n",
        "Num proteins in ../data/b1hData/newDatabase/6varpos/F2/low/protein_cut10_entr04/CGG.txt:  4676"
       ]
      },
      {
       "output_type": "stream",
       "stream": "stdout",
       "text": [
        "\n",
        "Num proteins in ../data/b1hData/newDatabase/6varpos/F2/low/protein_cut10_entr04/CGT.txt:  2722\n",
        "Num proteins in ../data/b1hData/newDatabase/6varpos/F2/low/protein_cut10_entr04/CTA.txt:  503"
       ]
      },
      {
       "output_type": "stream",
       "stream": "stdout",
       "text": [
        "\n",
        "Num proteins in ../data/b1hData/newDatabase/6varpos/F2/low/protein_cut10_entr04/CTC.txt:  383\n",
        "Num proteins in ../data/b1hData/newDatabase/6varpos/F2/low/protein_cut10_entr04/CTG.txt:  1130\n",
        "Num proteins in ../data/b1hData/newDatabase/6varpos/F2/low/protein_cut10_entr04/CTT.txt:  925\n",
        "Num proteins in ../data/b1hData/newDatabase/6varpos/F2/low/protein_cut10_entr04/GAA.txt:  617\n",
        "Num proteins in ../data/b1hData/newDatabase/6varpos/F2/low/protein_cut10_entr04/GAC.txt:  2773"
       ]
      },
      {
       "output_type": "stream",
       "stream": "stdout",
       "text": [
        "\n",
        "Num proteins in ../data/b1hData/newDatabase/6varpos/F2/low/protein_cut10_entr04/GAG.txt:  2681"
       ]
      },
      {
       "output_type": "stream",
       "stream": "stdout",
       "text": [
        "\n",
        "Num proteins in ../data/b1hData/newDatabase/6varpos/F2/low/protein_cut10_entr04/GAT.txt:  2815\n",
        "Num proteins in ../data/b1hData/newDatabase/6varpos/F2/low/protein_cut10_entr04/GCA.txt:  1112"
       ]
      },
      {
       "output_type": "stream",
       "stream": "stdout",
       "text": [
        "\n",
        "Num proteins in ../data/b1hData/newDatabase/6varpos/F2/low/protein_cut10_entr04/GCC.txt:  1301\n",
        "Num proteins in ../data/b1hData/newDatabase/6varpos/F2/low/protein_cut10_entr04/GCG.txt:  3480"
       ]
      },
      {
       "output_type": "stream",
       "stream": "stdout",
       "text": [
        "\n",
        "Num proteins in ../data/b1hData/newDatabase/6varpos/F2/low/protein_cut10_entr04/GCT.txt:  4155"
       ]
      },
      {
       "output_type": "stream",
       "stream": "stdout",
       "text": [
        "\n",
        "Num proteins in ../data/b1hData/newDatabase/6varpos/F2/low/protein_cut10_entr04/GGA.txt:  158\n",
        "Num proteins in ../data/b1hData/newDatabase/6varpos/F2/low/protein_cut10_entr04/GGC.txt:  757\n",
        "Num proteins in ../data/b1hData/newDatabase/6varpos/F2/low/protein_cut10_entr04/GGG.txt:  4144"
       ]
      },
      {
       "output_type": "stream",
       "stream": "stdout",
       "text": [
        "\n",
        "Num proteins in ../data/b1hData/newDatabase/6varpos/F2/low/protein_cut10_entr04/GGT.txt:  2248"
       ]
      },
      {
       "output_type": "stream",
       "stream": "stdout",
       "text": [
        "\n",
        "Num proteins in ../data/b1hData/newDatabase/6varpos/F2/low/protein_cut10_entr04/GTA.txt:  10\n",
        "Num proteins in ../data/b1hData/newDatabase/6varpos/F2/low/protein_cut10_entr04/GTC.txt:  1700\n",
        "Num proteins in ../data/b1hData/newDatabase/6varpos/F2/low/protein_cut10_entr04/GTG.txt:  4756"
       ]
      },
      {
       "output_type": "stream",
       "stream": "stdout",
       "text": [
        "\n",
        "Num proteins in ../data/b1hData/newDatabase/6varpos/F2/low/protein_cut10_entr04/GTT.txt:  4091\n",
        "Num proteins in ../data/b1hData/newDatabase/6varpos/F2/low/protein_cut10_entr04/TAA.txt:  39\n",
        "Num proteins in ../data/b1hData/newDatabase/6varpos/F2/low/protein_cut10_entr04/TAC.txt:  1012"
       ]
      },
      {
       "output_type": "stream",
       "stream": "stdout",
       "text": [
        "\n",
        "Num proteins in ../data/b1hData/newDatabase/6varpos/F2/low/protein_cut10_entr04/TAG.txt:  930\n",
        "Num proteins in ../data/b1hData/newDatabase/6varpos/F2/low/protein_cut10_entr04/TAT.txt:  2091"
       ]
      },
      {
       "output_type": "stream",
       "stream": "stdout",
       "text": [
        "\n",
        "Num proteins in ../data/b1hData/newDatabase/6varpos/F2/low/protein_cut10_entr04/TCA.txt:  59\n",
        "Num proteins in ../data/b1hData/newDatabase/6varpos/F2/low/protein_cut10_entr04/TCC.txt:  514\n",
        "Num proteins in ../data/b1hData/newDatabase/6varpos/F2/low/protein_cut10_entr04/TCG.txt:  1360"
       ]
      },
      {
       "output_type": "stream",
       "stream": "stdout",
       "text": [
        "\n",
        "Num proteins in ../data/b1hData/newDatabase/6varpos/F2/low/protein_cut10_entr04/TCT.txt:  1064\n",
        "Num proteins in ../data/b1hData/newDatabase/6varpos/F2/low/protein_cut10_entr04/TGA.txt:  356\n",
        "Num proteins in ../data/b1hData/newDatabase/6varpos/F2/low/protein_cut10_entr04/TGC.txt:  394\n",
        "Num proteins in ../data/b1hData/newDatabase/6varpos/F2/low/protein_cut10_entr04/TGG.txt:  5256"
       ]
      },
      {
       "output_type": "stream",
       "stream": "stdout",
       "text": [
        "\n",
        "Num proteins in ../data/b1hData/newDatabase/6varpos/F2/low/protein_cut10_entr04/TGT.txt:  6054"
       ]
      },
      {
       "output_type": "stream",
       "stream": "stdout",
       "text": [
        "\n",
        "Num proteins in ../data/b1hData/newDatabase/6varpos/F2/low/protein_cut10_entr04/TTA.txt:  176\n",
        "Num proteins in ../data/b1hData/newDatabase/6varpos/F2/low/protein_cut10_entr04/TTC.txt:  490\n",
        "Num proteins in ../data/b1hData/newDatabase/6varpos/F2/low/protein_cut10_entr04/TTG.txt:  2064\n",
        "Num proteins in ../data/b1hData/newDatabase/6varpos/F2/low/protein_cut10_entr04/TTT.txt:  396"
       ]
      },
      {
       "output_type": "stream",
       "stream": "stdout",
       "text": [
        "\n",
        "Total num protein/dna observations in all files:  131227\n",
        "Total num unique proteins in all files:  84752\n",
        "\n",
        "Num obs processed in csv to txt conversion:  131227"
       ]
      },
      {
       "output_type": "stream",
       "stream": "stdout",
       "text": [
        "\n",
        "\n",
        "Num proteins in ../data/b1hData/newDatabase/6varpos/F3/high/protein_cut10_entr04/AAA.txt:  193"
       ]
      },
      {
       "output_type": "stream",
       "stream": "stdout",
       "text": [
        "\n",
        "Num proteins in ../data/b1hData/newDatabase/6varpos/F3/high/protein_cut10_entr04/AAC.txt:  483\n",
        "Num proteins in ../data/b1hData/newDatabase/6varpos/F3/high/protein_cut10_entr04/AAG.txt:  1136"
       ]
      },
      {
       "output_type": "stream",
       "stream": "stdout",
       "text": [
        "\n",
        "Num proteins in ../data/b1hData/newDatabase/6varpos/F3/high/protein_cut10_entr04/AAT.txt:  185\n",
        "Num proteins in ../data/b1hData/newDatabase/6varpos/F3/high/protein_cut10_entr04/ACA.txt:  134\n",
        "Num proteins in ../data/b1hData/newDatabase/6varpos/F3/high/protein_cut10_entr04/ACC.txt:  22\n",
        "Num proteins in ../data/b1hData/newDatabase/6varpos/F3/high/protein_cut10_entr04/ACG.txt:  1007\n",
        "Num proteins in ../data/b1hData/newDatabase/6varpos/F3/high/protein_cut10_entr04/ACT.txt:  471\n",
        "Num proteins in ../data/b1hData/newDatabase/6varpos/F3/high/protein_cut10_entr04/AGA.txt:  0\n",
        "Num proteins in ../data/b1hData/newDatabase/6varpos/F3/high/protein_cut10_entr04/AGC.txt:  594\n",
        "Num proteins in ../data/b1hData/newDatabase/6varpos/F3/high/protein_cut10_entr04/AGG.txt:  690"
       ]
      },
      {
       "output_type": "stream",
       "stream": "stdout",
       "text": [
        "\n",
        "Num proteins in ../data/b1hData/newDatabase/6varpos/F3/high/protein_cut10_entr04/AGT.txt:  1269\n",
        "Num proteins in ../data/b1hData/newDatabase/6varpos/F3/high/protein_cut10_entr04/ATA.txt:  60\n",
        "Num proteins in ../data/b1hData/newDatabase/6varpos/F3/high/protein_cut10_entr04/ATC.txt:  733\n",
        "Num proteins in ../data/b1hData/newDatabase/6varpos/F3/high/protein_cut10_entr04/ATG.txt:  141\n",
        "Num proteins in ../data/b1hData/newDatabase/6varpos/F3/high/protein_cut10_entr04/ATT.txt:  324\n",
        "Num proteins in ../data/b1hData/newDatabase/6varpos/F3/high/protein_cut10_entr04/CAA.txt:  241\n",
        "Num proteins in ../data/b1hData/newDatabase/6varpos/F3/high/protein_cut10_entr04/CAC.txt:  229"
       ]
      },
      {
       "output_type": "stream",
       "stream": "stdout",
       "text": [
        "\n",
        "Num proteins in ../data/b1hData/newDatabase/6varpos/F3/high/protein_cut10_entr04/CAG.txt:  350\n",
        "Num proteins in ../data/b1hData/newDatabase/6varpos/F3/high/protein_cut10_entr04/CAT.txt:  589\n",
        "Num proteins in ../data/b1hData/newDatabase/6varpos/F3/high/protein_cut10_entr04/CCA.txt:  106\n",
        "Num proteins in ../data/b1hData/newDatabase/6varpos/F3/high/protein_cut10_entr04/CCC.txt:  199\n",
        "Num proteins in ../data/b1hData/newDatabase/6varpos/F3/high/protein_cut10_entr04/CCG.txt:  523"
       ]
      },
      {
       "output_type": "stream",
       "stream": "stdout",
       "text": [
        "\n",
        "Num proteins in ../data/b1hData/newDatabase/6varpos/F3/high/protein_cut10_entr04/CCT.txt:  295\n",
        "Num proteins in ../data/b1hData/newDatabase/6varpos/F3/high/protein_cut10_entr04/CGA.txt:  77\n",
        "Num proteins in ../data/b1hData/newDatabase/6varpos/F3/high/protein_cut10_entr04/CGC.txt:  700\n",
        "Num proteins in ../data/b1hData/newDatabase/6varpos/F3/high/protein_cut10_entr04/CGG.txt:  16\n",
        "Num proteins in ../data/b1hData/newDatabase/6varpos/F3/high/protein_cut10_entr04/CGT.txt:  618\n",
        "Num proteins in ../data/b1hData/newDatabase/6varpos/F3/high/protein_cut10_entr04/CTA.txt:  180"
       ]
      },
      {
       "output_type": "stream",
       "stream": "stdout",
       "text": [
        "\n",
        "Num proteins in ../data/b1hData/newDatabase/6varpos/F3/high/protein_cut10_entr04/CTC.txt:  165\n",
        "Num proteins in ../data/b1hData/newDatabase/6varpos/F3/high/protein_cut10_entr04/CTG.txt:  30\n",
        "Num proteins in ../data/b1hData/newDatabase/6varpos/F3/high/protein_cut10_entr04/CTT.txt:  76\n",
        "Num proteins in ../data/b1hData/newDatabase/6varpos/F3/high/protein_cut10_entr04/GAA.txt:  282\n",
        "Num proteins in ../data/b1hData/newDatabase/6varpos/F3/high/protein_cut10_entr04/GAC.txt:  237\n",
        "Num proteins in ../data/b1hData/newDatabase/6varpos/F3/high/protein_cut10_entr04/GAG.txt:  635"
       ]
      },
      {
       "output_type": "stream",
       "stream": "stdout",
       "text": [
        "\n",
        "Num proteins in ../data/b1hData/newDatabase/6varpos/F3/high/protein_cut10_entr04/GAT.txt:  387\n",
        "Num proteins in ../data/b1hData/newDatabase/6varpos/F3/high/protein_cut10_entr04/GCA.txt:  243\n",
        "Num proteins in ../data/b1hData/newDatabase/6varpos/F3/high/protein_cut10_entr04/GCC.txt:  155\n",
        "Num proteins in ../data/b1hData/newDatabase/6varpos/F3/high/protein_cut10_entr04/GCG.txt:  306\n",
        "Num proteins in ../data/b1hData/newDatabase/6varpos/F3/high/protein_cut10_entr04/GCT.txt:  422"
       ]
      },
      {
       "output_type": "stream",
       "stream": "stdout",
       "text": [
        "\n",
        "Num proteins in ../data/b1hData/newDatabase/6varpos/F3/high/protein_cut10_entr04/GGA.txt:  432\n",
        "Num proteins in ../data/b1hData/newDatabase/6varpos/F3/high/protein_cut10_entr04/GGC.txt:  195\n",
        "Num proteins in ../data/b1hData/newDatabase/6varpos/F3/high/protein_cut10_entr04/GGG.txt:  863"
       ]
      },
      {
       "output_type": "stream",
       "stream": "stdout",
       "text": [
        "\n",
        "Num proteins in ../data/b1hData/newDatabase/6varpos/F3/high/protein_cut10_entr04/GGT.txt:  1162\n",
        "Num proteins in ../data/b1hData/newDatabase/6varpos/F3/high/protein_cut10_entr04/GTA.txt:  388\n",
        "Num proteins in ../data/b1hData/newDatabase/6varpos/F3/high/protein_cut10_entr04/GTC.txt:  405"
       ]
      },
      {
       "output_type": "stream",
       "stream": "stdout",
       "text": [
        "\n",
        "Num proteins in ../data/b1hData/newDatabase/6varpos/F3/high/protein_cut10_entr04/GTG.txt:  854\n",
        "Num proteins in ../data/b1hData/newDatabase/6varpos/F3/high/protein_cut10_entr04/GTT.txt:  1015"
       ]
      },
      {
       "output_type": "stream",
       "stream": "stdout",
       "text": [
        "\n",
        "Num proteins in ../data/b1hData/newDatabase/6varpos/F3/high/protein_cut10_entr04/TAA.txt:  743\n",
        "Num proteins in ../data/b1hData/newDatabase/6varpos/F3/high/protein_cut10_entr04/TAC.txt:  245\n",
        "Num proteins in ../data/b1hData/newDatabase/6varpos/F3/high/protein_cut10_entr04/TAG.txt:  177"
       ]
      },
      {
       "output_type": "stream",
       "stream": "stdout",
       "text": [
        "\n",
        "Num proteins in ../data/b1hData/newDatabase/6varpos/F3/high/protein_cut10_entr04/TAT.txt:  703\n",
        "Num proteins in ../data/b1hData/newDatabase/6varpos/F3/high/protein_cut10_entr04/TCA.txt:  384\n",
        "Num proteins in ../data/b1hData/newDatabase/6varpos/F3/high/protein_cut10_entr04/TCC.txt:  497\n",
        "Num proteins in ../data/b1hData/newDatabase/6varpos/F3/high/protein_cut10_entr04/TCG.txt:  172"
       ]
      },
      {
       "output_type": "stream",
       "stream": "stdout",
       "text": [
        "\n",
        "Num proteins in ../data/b1hData/newDatabase/6varpos/F3/high/protein_cut10_entr04/TCT.txt:  232\n",
        "Num proteins in ../data/b1hData/newDatabase/6varpos/F3/high/protein_cut10_entr04/TGA.txt:  750"
       ]
      },
      {
       "output_type": "stream",
       "stream": "stdout",
       "text": [
        "\n",
        "Num proteins in ../data/b1hData/newDatabase/6varpos/F3/high/protein_cut10_entr04/TGC.txt:  356\n",
        "Num proteins in ../data/b1hData/newDatabase/6varpos/F3/high/protein_cut10_entr04/TGG.txt:  24\n",
        "Num proteins in ../data/b1hData/newDatabase/6varpos/F3/high/protein_cut10_entr04/TGT.txt:  5381"
       ]
      },
      {
       "output_type": "stream",
       "stream": "stdout",
       "text": [
        "\n",
        "Num proteins in ../data/b1hData/newDatabase/6varpos/F3/high/protein_cut10_entr04/TTA.txt:  2219"
       ]
      },
      {
       "output_type": "stream",
       "stream": "stdout",
       "text": [
        "\n",
        "Num proteins in ../data/b1hData/newDatabase/6varpos/F3/high/protein_cut10_entr04/TTC.txt:  63\n",
        "Num proteins in ../data/b1hData/newDatabase/6varpos/F3/high/protein_cut10_entr04/TTG.txt:  35\n",
        "Num proteins in ../data/b1hData/newDatabase/6varpos/F3/high/protein_cut10_entr04/TTT.txt:  383\n",
        "Total num protein/dna observations in all files:  32181\n",
        "Total num unique proteins in all files:  22913\n",
        "\n",
        "Num obs processed in csv to txt conversion:  32181"
       ]
      },
      {
       "output_type": "stream",
       "stream": "stdout",
       "text": [
        "\n",
        "\n",
        "Num proteins in ../data/b1hData/newDatabase/6varpos/F3/low/protein_cut10_entr04/AAA.txt:  235"
       ]
      },
      {
       "output_type": "stream",
       "stream": "stdout",
       "text": [
        "\n",
        "Num proteins in ../data/b1hData/newDatabase/6varpos/F3/low/protein_cut10_entr04/AAC.txt:  2227\n",
        "Num proteins in ../data/b1hData/newDatabase/6varpos/F3/low/protein_cut10_entr04/AAG.txt:  3254"
       ]
      },
      {
       "output_type": "stream",
       "stream": "stdout",
       "text": [
        "\n",
        "Num proteins in ../data/b1hData/newDatabase/6varpos/F3/low/protein_cut10_entr04/AAT.txt:  2559"
       ]
      },
      {
       "output_type": "stream",
       "stream": "stdout",
       "text": [
        "\n",
        "Num proteins in ../data/b1hData/newDatabase/6varpos/F3/low/protein_cut10_entr04/ACA.txt:  183\n",
        "Num proteins in ../data/b1hData/newDatabase/6varpos/F3/low/protein_cut10_entr04/ACC.txt:  601\n",
        "Num proteins in ../data/b1hData/newDatabase/6varpos/F3/low/protein_cut10_entr04/ACG.txt:  3344"
       ]
      },
      {
       "output_type": "stream",
       "stream": "stdout",
       "text": [
        "\n",
        "Num proteins in ../data/b1hData/newDatabase/6varpos/F3/low/protein_cut10_entr04/ACT.txt:  1784\n",
        "Num proteins in ../data/b1hData/newDatabase/6varpos/F3/low/protein_cut10_entr04/AGA.txt:  53\n",
        "Num proteins in ../data/b1hData/newDatabase/6varpos/F3/low/protein_cut10_entr04/AGC.txt:  4256"
       ]
      },
      {
       "output_type": "stream",
       "stream": "stdout",
       "text": [
        "\n",
        "Num proteins in ../data/b1hData/newDatabase/6varpos/F3/low/protein_cut10_entr04/AGG.txt:  2393\n",
        "Num proteins in ../data/b1hData/newDatabase/6varpos/F3/low/protein_cut10_entr04/AGT.txt:  3302"
       ]
      },
      {
       "output_type": "stream",
       "stream": "stdout",
       "text": [
        "\n",
        "Num proteins in ../data/b1hData/newDatabase/6varpos/F3/low/protein_cut10_entr04/ATA.txt:  234\n",
        "Num proteins in ../data/b1hData/newDatabase/6varpos/F3/low/protein_cut10_entr04/ATC.txt:  1862\n",
        "Num proteins in ../data/b1hData/newDatabase/6varpos/F3/low/protein_cut10_entr04/ATG.txt:  992"
       ]
      },
      {
       "output_type": "stream",
       "stream": "stdout",
       "text": [
        "\n",
        "Num proteins in ../data/b1hData/newDatabase/6varpos/F3/low/protein_cut10_entr04/ATT.txt:  1704"
       ]
      },
      {
       "output_type": "stream",
       "stream": "stdout",
       "text": [
        "\n",
        "Num proteins in ../data/b1hData/newDatabase/6varpos/F3/low/protein_cut10_entr04/CAA.txt:  304\n",
        "Num proteins in ../data/b1hData/newDatabase/6varpos/F3/low/protein_cut10_entr04/CAC.txt:  2377"
       ]
      },
      {
       "output_type": "stream",
       "stream": "stdout",
       "text": [
        "\n",
        "Num proteins in ../data/b1hData/newDatabase/6varpos/F3/low/protein_cut10_entr04/CAG.txt:  2972\n",
        "Num proteins in ../data/b1hData/newDatabase/6varpos/F3/low/protein_cut10_entr04/CAT.txt:  2456"
       ]
      },
      {
       "output_type": "stream",
       "stream": "stdout",
       "text": [
        "\n",
        "Num proteins in ../data/b1hData/newDatabase/6varpos/F3/low/protein_cut10_entr04/CCA.txt:  202\n",
        "Num proteins in ../data/b1hData/newDatabase/6varpos/F3/low/protein_cut10_entr04/CCC.txt:  840\n",
        "Num proteins in ../data/b1hData/newDatabase/6varpos/F3/low/protein_cut10_entr04/CCG.txt:  3949"
       ]
      },
      {
       "output_type": "stream",
       "stream": "stdout",
       "text": [
        "\n",
        "Num proteins in ../data/b1hData/newDatabase/6varpos/F3/low/protein_cut10_entr04/CCT.txt:  1805\n",
        "Num proteins in ../data/b1hData/newDatabase/6varpos/F3/low/protein_cut10_entr04/CGA.txt:  396\n",
        "Num proteins in ../data/b1hData/newDatabase/6varpos/F3/low/protein_cut10_entr04/CGC.txt:  5516"
       ]
      },
      {
       "output_type": "stream",
       "stream": "stdout",
       "text": [
        "\n",
        "Num proteins in ../data/b1hData/newDatabase/6varpos/F3/low/protein_cut10_entr04/CGG.txt:  880\n",
        "Num proteins in ../data/b1hData/newDatabase/6varpos/F3/low/protein_cut10_entr04/CGT.txt:  3559"
       ]
      },
      {
       "output_type": "stream",
       "stream": "stdout",
       "text": [
        "\n",
        "Num proteins in ../data/b1hData/newDatabase/6varpos/F3/low/protein_cut10_entr04/CTA.txt:  153\n",
        "Num proteins in ../data/b1hData/newDatabase/6varpos/F3/low/protein_cut10_entr04/CTC.txt:  1064\n",
        "Num proteins in ../data/b1hData/newDatabase/6varpos/F3/low/protein_cut10_entr04/CTG.txt:  777"
       ]
      },
      {
       "output_type": "stream",
       "stream": "stdout",
       "text": [
        "\n",
        "Num proteins in ../data/b1hData/newDatabase/6varpos/F3/low/protein_cut10_entr04/CTT.txt:  959\n",
        "Num proteins in ../data/b1hData/newDatabase/6varpos/F3/low/protein_cut10_entr04/GAA.txt:  2010"
       ]
      },
      {
       "output_type": "stream",
       "stream": "stdout",
       "text": [
        "\n",
        "Num proteins in ../data/b1hData/newDatabase/6varpos/F3/low/protein_cut10_entr04/GAC.txt:  2635"
       ]
      },
      {
       "output_type": "stream",
       "stream": "stdout",
       "text": [
        "\n",
        "Num proteins in ../data/b1hData/newDatabase/6varpos/F3/low/protein_cut10_entr04/GAG.txt:  5247"
       ]
      },
      {
       "output_type": "stream",
       "stream": "stdout",
       "text": [
        "\n",
        "Num proteins in ../data/b1hData/newDatabase/6varpos/F3/low/protein_cut10_entr04/GAT.txt:  4141"
       ]
      },
      {
       "output_type": "stream",
       "stream": "stdout",
       "text": [
        "\n",
        "Num proteins in ../data/b1hData/newDatabase/6varpos/F3/low/protein_cut10_entr04/GCA.txt:  962\n",
        "Num proteins in ../data/b1hData/newDatabase/6varpos/F3/low/protein_cut10_entr04/GCC.txt:  1049\n",
        "Num proteins in ../data/b1hData/newDatabase/6varpos/F3/low/protein_cut10_entr04/GCG.txt:  2456"
       ]
      },
      {
       "output_type": "stream",
       "stream": "stdout",
       "text": [
        "\n",
        "Num proteins in ../data/b1hData/newDatabase/6varpos/F3/low/protein_cut10_entr04/GCT.txt:  1630\n",
        "Num proteins in ../data/b1hData/newDatabase/6varpos/F3/low/protein_cut10_entr04/GGA.txt:  1235\n",
        "Num proteins in ../data/b1hData/newDatabase/6varpos/F3/low/protein_cut10_entr04/GGC.txt:  1822"
       ]
      },
      {
       "output_type": "stream",
       "stream": "stdout",
       "text": [
        "\n",
        "Num proteins in ../data/b1hData/newDatabase/6varpos/F3/low/protein_cut10_entr04/GGG.txt:  3954"
       ]
      },
      {
       "output_type": "stream",
       "stream": "stdout",
       "text": [
        "\n",
        "Num proteins in ../data/b1hData/newDatabase/6varpos/F3/low/protein_cut10_entr04/GGT.txt:  3849"
       ]
      },
      {
       "output_type": "stream",
       "stream": "stdout",
       "text": [
        "\n",
        "Num proteins in ../data/b1hData/newDatabase/6varpos/F3/low/protein_cut10_entr04/GTA.txt:  1963"
       ]
      },
      {
       "output_type": "stream",
       "stream": "stdout",
       "text": [
        "\n",
        "Num proteins in ../data/b1hData/newDatabase/6varpos/F3/low/protein_cut10_entr04/GTC.txt:  2769\n",
        "Num proteins in ../data/b1hData/newDatabase/6varpos/F3/low/protein_cut10_entr04/GTG.txt:  4917"
       ]
      },
      {
       "output_type": "stream",
       "stream": "stdout",
       "text": [
        "\n",
        "Num proteins in ../data/b1hData/newDatabase/6varpos/F3/low/protein_cut10_entr04/GTT.txt:  6769"
       ]
      },
      {
       "output_type": "stream",
       "stream": "stdout",
       "text": [
        "\n",
        "Num proteins in ../data/b1hData/newDatabase/6varpos/F3/low/protein_cut10_entr04/TAA.txt:  234\n",
        "Num proteins in ../data/b1hData/newDatabase/6varpos/F3/low/protein_cut10_entr04/TAC.txt:  1967"
       ]
      },
      {
       "output_type": "stream",
       "stream": "stdout",
       "text": [
        "\n",
        "Num proteins in ../data/b1hData/newDatabase/6varpos/F3/low/protein_cut10_entr04/TAG.txt:  1326\n",
        "Num proteins in ../data/b1hData/newDatabase/6varpos/F3/low/protein_cut10_entr04/TAT.txt:  2421"
       ]
      },
      {
       "output_type": "stream",
       "stream": "stdout",
       "text": [
        "\n",
        "Num proteins in ../data/b1hData/newDatabase/6varpos/F3/low/protein_cut10_entr04/TCA.txt:  97\n",
        "Num proteins in ../data/b1hData/newDatabase/6varpos/F3/low/protein_cut10_entr04/TCC.txt:  1147\n",
        "Num proteins in ../data/b1hData/newDatabase/6varpos/F3/low/protein_cut10_entr04/TCG.txt:  1089"
       ]
      },
      {
       "output_type": "stream",
       "stream": "stdout",
       "text": [
        "\n",
        "Num proteins in ../data/b1hData/newDatabase/6varpos/F3/low/protein_cut10_entr04/TCT.txt:  1446\n",
        "Num proteins in ../data/b1hData/newDatabase/6varpos/F3/low/protein_cut10_entr04/TGA.txt:  2137\n",
        "Num proteins in ../data/b1hData/newDatabase/6varpos/F3/low/protein_cut10_entr04/TGC.txt:  3514"
       ]
      },
      {
       "output_type": "stream",
       "stream": "stdout",
       "text": [
        "\n",
        "Num proteins in ../data/b1hData/newDatabase/6varpos/F3/low/protein_cut10_entr04/TGG.txt:  757\n",
        "Num proteins in ../data/b1hData/newDatabase/6varpos/F3/low/protein_cut10_entr04/TGT.txt:  11689"
       ]
      },
      {
       "output_type": "stream",
       "stream": "stdout",
       "text": [
        "\n",
        "Num proteins in ../data/b1hData/newDatabase/6varpos/F3/low/protein_cut10_entr04/TTA.txt:  194\n",
        "Num proteins in ../data/b1hData/newDatabase/6varpos/F3/low/protein_cut10_entr04/TTC.txt:  784\n",
        "Num proteins in ../data/b1hData/newDatabase/6varpos/F3/low/protein_cut10_entr04/TTG.txt:  1053\n",
        "Num proteins in ../data/b1hData/newDatabase/6varpos/F3/low/protein_cut10_entr04/TTT.txt:  3250"
       ]
      },
      {
       "output_type": "stream",
       "stream": "stdout",
       "text": [
        "\n",
        "Total num protein/dna observations in all files:  137705\n",
        "Total num unique proteins in all files:  83300\n",
        "\n",
        "Num obs processed in csv to txt conversion:  137705"
       ]
      },
      {
       "output_type": "stream",
       "stream": "stdout",
       "text": [
        "\n",
        "\n"
       ]
      }
     ],
     "prompt_number": 2
    },
    {
     "cell_type": "code",
     "collapsed": false,
     "input": [
      "prefix = '../data/b1hData/newDatabase/5varpos/'\n",
      "numVarPos = 5\n",
      "fings = ['F2']\n",
      "strins = ['high', 'low']\n",
      "for fing in fings:\n",
      "    for strin in strins:\n",
      "        path = prefix + fing + '/' + strin + '/' + 'protein_cut10_entr04/'\n",
      "        targetFiles2singleCSV(path, numVarPos, '.txt')\n",
      "        csv2txtFile(path, numVarPos)\n",
      "        print"
     ],
     "language": "python",
     "metadata": {},
     "outputs": [
      {
       "output_type": "stream",
       "stream": "stdout",
       "text": [
        "Invalid File Name: AAA.txt\n",
        "Invalid File Name: AAC.txt\n",
        "Num proteins in ../data/b1hData/newDatabase/5varpos/F2/high/protein_cut10_entr04/AAG.txt:  6844"
       ]
      },
      {
       "output_type": "stream",
       "stream": "stdout",
       "text": [
        "\n",
        "Invalid File Name: AAT.txt\n",
        "Invalid File Name: ACA.txt\n",
        "Invalid File Name: ACC.txt\n",
        "Invalid File Name: ACG.txt\n",
        "Invalid File Name: ACT.txt\n",
        "Invalid File Name: AGA.txt\n",
        "Invalid File Name: AGC.txt\n",
        "Invalid File Name: AGG.txt\n",
        "Invalid File Name: AGT.txt\n",
        "Invalid File Name: ATA.txt\n",
        "Invalid File Name: ATC.txt\n",
        "Invalid File Name: ATG.txt\n",
        "Invalid File Name: ATT.txt\n",
        "Num proteins in ../data/b1hData/newDatabase/5varpos/F2/high/protein_cut10_entr04/CAA.txt:  6580"
       ]
      },
      {
       "output_type": "stream",
       "stream": "stdout",
       "text": [
        "\n",
        "Num proteins in ../data/b1hData/newDatabase/5varpos/F2/high/protein_cut10_entr04/CAC.txt:  5736"
       ]
      },
      {
       "output_type": "stream",
       "stream": "stdout",
       "text": [
        "\n",
        "Num proteins in ../data/b1hData/newDatabase/5varpos/F2/high/protein_cut10_entr04/CAG.txt:  5350"
       ]
      },
      {
       "output_type": "stream",
       "stream": "stdout",
       "text": [
        "\n",
        "Num proteins in ../data/b1hData/newDatabase/5varpos/F2/high/protein_cut10_entr04/CAT.txt:  7104"
       ]
      },
      {
       "output_type": "stream",
       "stream": "stdout",
       "text": [
        "\n",
        "Invalid File Name: CCA.txt\n",
        "Invalid File Name: CCC.txt\n",
        "Invalid File Name: CCG.txt\n",
        "Invalid File Name: CCT.txt\n",
        "Invalid File Name: CGA.txt\n",
        "Invalid File Name: CGC.txt\n",
        "Invalid File Name: CGG.txt\n",
        "Invalid File Name: CGT.txt\n",
        "Invalid File Name: CTA.txt\n",
        "Invalid File Name: CTC.txt\n",
        "Invalid File Name: CTG.txt\n",
        "Invalid File Name: CTT.txt\n",
        "Invalid File Name: GAA.txt\n",
        "Invalid File Name: GAC.txt\n",
        "Num proteins in ../data/b1hData/newDatabase/5varpos/F2/high/protein_cut10_entr04/GAG.txt:  9268"
       ]
      },
      {
       "output_type": "stream",
       "stream": "stdout",
       "text": [
        "\n",
        "Invalid File Name: GAT.txt\n",
        "Invalid File Name: GCA.txt\n",
        "Invalid File Name: GCC.txt\n",
        "Invalid File Name: GCG.txt\n",
        "Invalid File Name: GCT.txt\n",
        "Num proteins in ../data/b1hData/newDatabase/5varpos/F2/high/protein_cut10_entr04/GGA.txt:  7928"
       ]
      },
      {
       "output_type": "stream",
       "stream": "stdout",
       "text": [
        "\n",
        "Invalid File Name: GGC.txt\n",
        "Num proteins in ../data/b1hData/newDatabase/5varpos/F2/high/protein_cut10_entr04/GGG.txt:  9233"
       ]
      },
      {
       "output_type": "stream",
       "stream": "stdout",
       "text": [
        "\n",
        "Invalid File Name: GGT.txt\n",
        "Invalid File Name: GTA.txt\n",
        "Invalid File Name: GTC.txt\n",
        "Invalid File Name: GTG.txt\n",
        "Invalid File Name: GTT.txt\n",
        "Invalid File Name: TAA.txt\n",
        "Invalid File Name: TAC.txt\n",
        "Num proteins in ../data/b1hData/newDatabase/5varpos/F2/high/protein_cut10_entr04/TAG.txt:  7364"
       ]
      },
      {
       "output_type": "stream",
       "stream": "stdout",
       "text": [
        "\n",
        "Invalid File Name: TAT.txt\n",
        "Invalid File Name: TCA.txt\n",
        "Invalid File Name: TCC.txt\n",
        "Invalid File Name: TCG.txt\n",
        "Invalid File Name: TCT.txt\n",
        "Invalid File Name: TGA.txt\n",
        "Invalid File Name: TGC.txt\n",
        "Invalid File Name: TGG.txt\n",
        "Invalid File Name: TGT.txt\n",
        "Invalid File Name: TTA.txt\n",
        "Invalid File Name: TTC.txt\n",
        "Invalid File Name: TTG.txt\n",
        "Invalid File Name: TTT.txt\n",
        "Total num protein/dna observations in all files:  65407\n",
        "Total num unique proteins in all files:  28822\n",
        "\n",
        "Num obs processed in csv to txt conversion:  65407"
       ]
      },
      {
       "output_type": "stream",
       "stream": "stdout",
       "text": [
        "\n",
        "\n",
        "Invalid File Name: AAA.txt"
       ]
      },
      {
       "output_type": "stream",
       "stream": "stdout",
       "text": [
        "\n",
        "Invalid File Name: AAC.txt\n",
        "Num proteins in ../data/b1hData/newDatabase/5varpos/F2/low/protein_cut10_entr04/AAG.txt:  17234"
       ]
      },
      {
       "output_type": "stream",
       "stream": "stdout",
       "text": [
        "\n",
        "Invalid File Name: AAT.txt\n",
        "Invalid File Name: ACA.txt\n",
        "Invalid File Name: ACC.txt\n",
        "Invalid File Name: ACG.txt\n",
        "Invalid File Name: ACT.txt\n",
        "Invalid File Name: AGA.txt\n",
        "Invalid File Name: AGC.txt\n",
        "Invalid File Name: AGG.txt\n",
        "Invalid File Name: AGT.txt\n",
        "Invalid File Name: ATA.txt\n",
        "Invalid File Name: ATC.txt\n",
        "Invalid File Name: ATG.txt\n",
        "Invalid File Name: ATT.txt\n",
        "Num proteins in ../data/b1hData/newDatabase/5varpos/F2/low/protein_cut10_entr04/CAA.txt:  12772"
       ]
      },
      {
       "output_type": "stream",
       "stream": "stdout",
       "text": [
        "\n",
        "Num proteins in ../data/b1hData/newDatabase/5varpos/F2/low/protein_cut10_entr04/CAC.txt:  14904"
       ]
      },
      {
       "output_type": "stream",
       "stream": "stdout",
       "text": [
        "\n",
        "Num proteins in ../data/b1hData/newDatabase/5varpos/F2/low/protein_cut10_entr04/CAG.txt:  15003"
       ]
      },
      {
       "output_type": "stream",
       "stream": "stdout",
       "text": [
        "\n",
        "Num proteins in ../data/b1hData/newDatabase/5varpos/F2/low/protein_cut10_entr04/CAT.txt:  21283"
       ]
      },
      {
       "output_type": "stream",
       "stream": "stdout",
       "text": [
        "\n",
        "Invalid File Name: CCA.txt\n",
        "Invalid File Name: CCC.txt\n",
        "Invalid File Name: CCG.txt\n",
        "Invalid File Name: CCT.txt\n",
        "Invalid File Name: CGA.txt\n",
        "Invalid File Name: CGC.txt\n",
        "Invalid File Name: CGG.txt\n",
        "Invalid File Name: CGT.txt\n",
        "Invalid File Name: CTA.txt\n",
        "Invalid File Name: CTC.txt\n",
        "Invalid File Name: CTG.txt\n",
        "Invalid File Name: CTT.txt\n",
        "Invalid File Name: GAA.txt\n",
        "Invalid File Name: GAC.txt\n",
        "Num proteins in ../data/b1hData/newDatabase/5varpos/F2/low/protein_cut10_entr04/GAG.txt:  17628"
       ]
      },
      {
       "output_type": "stream",
       "stream": "stdout",
       "text": [
        "\n",
        "Invalid File Name: GAT.txt\n",
        "Invalid File Name: GCA.txt\n",
        "Invalid File Name: GCC.txt\n",
        "Invalid File Name: GCG.txt\n",
        "Invalid File Name: GCT.txt\n",
        "Num proteins in ../data/b1hData/newDatabase/5varpos/F2/low/protein_cut10_entr04/GGA.txt:  10246"
       ]
      },
      {
       "output_type": "stream",
       "stream": "stdout",
       "text": [
        "\n",
        "Invalid File Name: GGC.txt\n",
        "Num proteins in ../data/b1hData/newDatabase/5varpos/F2/low/protein_cut10_entr04/GGG.txt:  11191"
       ]
      },
      {
       "output_type": "stream",
       "stream": "stdout",
       "text": [
        "\n",
        "Invalid File Name: GGT.txt\n",
        "Invalid File Name: GTA.txt\n",
        "Invalid File Name: GTC.txt\n",
        "Invalid File Name: GTG.txt\n",
        "Invalid File Name: GTT.txt\n",
        "Invalid File Name: TAA.txt\n",
        "Invalid File Name: TAC.txt\n",
        "Num proteins in ../data/b1hData/newDatabase/5varpos/F2/low/protein_cut10_entr04/TAG.txt:  14058"
       ]
      },
      {
       "output_type": "stream",
       "stream": "stdout",
       "text": [
        "\n",
        "Invalid File Name: TAT.txt\n",
        "Invalid File Name: TCA.txt\n",
        "Invalid File Name: TCC.txt\n",
        "Invalid File Name: TCG.txt\n",
        "Invalid File Name: TCT.txt\n",
        "Invalid File Name: TGA.txt\n",
        "Invalid File Name: TGC.txt\n",
        "Invalid File Name: TGG.txt\n",
        "Invalid File Name: TGT.txt\n",
        "Invalid File Name: TTA.txt\n",
        "Invalid File Name: TTC.txt\n",
        "Invalid File Name: TTG.txt\n",
        "Invalid File Name: TTT.txt\n",
        "Total num protein/dna observations in all files:  134319\n",
        "Total num unique proteins in all files:  62039\n",
        "\n",
        "Num obs processed in csv to txt conversion:  134319"
       ]
      },
      {
       "output_type": "stream",
       "stream": "stdout",
       "text": [
        "\n",
        "\n"
       ]
      }
     ],
     "prompt_number": 3
    }
   ],
   "metadata": {}
  }
 ]
}